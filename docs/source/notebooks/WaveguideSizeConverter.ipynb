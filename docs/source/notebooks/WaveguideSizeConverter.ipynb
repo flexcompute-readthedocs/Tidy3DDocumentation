{
 "cells": [
  {
   "cell_type": "markdown",
   "id": "798fc116",
   "metadata": {},
   "source": [
    "# Waveguide size converter"
   ]
  },
  {
   "cell_type": "markdown",
   "id": "6914938e",
   "metadata": {},
   "source": [
    "Note: the cost of running the entire notebook is larger than 1 FlexUnit.\n",
    "\n",
    "It is common to have waveguide components of different widths and potentially thicknesses on a photonic integrated circuit (PIC). Therefore, having a low-loss waveguide size converter becomes a necessity. The most common and simple size converter is adiabatic waveguide tapers. However, to achieve low loss and meet the adiabatic condition, the taper inevitable needs to be very long, which is not ideal in many modern high-density PIC designs. To aleviate this shortcoming of the conventional adiabatic taper, novel designs of compact size converter have emerged. \n",
    "\n",
    "In this notebook, we aim to simulate different types of size converters and compare their performance. We first simulate linear adiabatic tapers of different lengths. Subsequently, we will demonstrate two compact designs: one based on Luneburg lens and the other based on semi-lens emerged from segment optimization. These novel designs achieve ~-0.5 dB loss while being only about 6$\\lambda_0$ in footprint. Linear adiabatic taper can only achieve similar performance while being 30$\\lambda_0$ long."
   ]
  },
  {
   "cell_type": "code",
   "execution_count": 1,
   "id": "36de9cc7",
   "metadata": {
    "execution": {
     "iopub.execute_input": "2023-02-17T17:16:45.910063Z",
     "iopub.status.busy": "2023-02-17T17:16:45.909326Z",
     "iopub.status.idle": "2023-02-17T17:16:47.216578Z",
     "shell.execute_reply": "2023-02-17T17:16:47.216049Z"
    }
   },
   "outputs": [
    {
     "data": {
      "text/html": [
       "<pre style=\"white-space:pre;overflow-x:auto;line-height:normal;font-family:Menlo,'DejaVu Sans Mono',consolas,'Courier New',monospace\"><span style=\"color: #7fbfbf; text-decoration-color: #7fbfbf\">[09:37:33] </span><span style=\"color: #800000; text-decoration-color: #800000\">WARNING </span> This version of Tidy3D was pip installed from the         <a href=\"file:///home/momchil/Drive/flexcompute/tidy3d-core/tidy3d_frontend/tidy3d/__init__.py\" target=\"_blank\"><span style=\"color: #7f7f7f; text-decoration-color: #7f7f7f\">__init__.py</span></a><span style=\"color: #7f7f7f; text-decoration-color: #7f7f7f\">:</span><a href=\"file:///home/momchil/Drive/flexcompute/tidy3d-core/tidy3d_frontend/tidy3d/__init__.py#103\" target=\"_blank\"><span style=\"color: #7f7f7f; text-decoration-color: #7f7f7f\">103</span></a>\n",
       "<span style=\"color: #7fbfbf; text-decoration-color: #7fbfbf\">           </span>         <span style=\"color: #008000; text-decoration-color: #008000\">'tidy3d-beta'</span> repository on PyPI. Future releases will be <span style=\"color: #7f7f7f; text-decoration-color: #7f7f7f\">               </span>\n",
       "<span style=\"color: #7fbfbf; text-decoration-color: #7fbfbf\">           </span>         uploaded to the <span style=\"color: #008000; text-decoration-color: #008000\">'tidy3d'</span> repository. From now on, please  <span style=\"color: #7f7f7f; text-decoration-color: #7f7f7f\">               </span>\n",
       "<span style=\"color: #7fbfbf; text-decoration-color: #7fbfbf\">           </span>         use <span style=\"color: #008000; text-decoration-color: #008000\">'pip install tidy3d'</span> instead.                         <span style=\"color: #7f7f7f; text-decoration-color: #7f7f7f\">               </span>\n",
       "</pre>\n"
      ],
      "text/plain": [
       "\u001b[2;36m[09:37:33]\u001b[0m\u001b[2;36m \u001b[0m\u001b[31mWARNING \u001b[0m This version of Tidy3D was pip installed from the         \u001b]8;id=973316;file:///home/momchil/Drive/flexcompute/tidy3d-core/tidy3d_frontend/tidy3d/__init__.py\u001b\\\u001b[2m__init__.py\u001b[0m\u001b]8;;\u001b\\\u001b[2m:\u001b[0m\u001b]8;id=38356;file:///home/momchil/Drive/flexcompute/tidy3d-core/tidy3d_frontend/tidy3d/__init__.py#103\u001b\\\u001b[2m103\u001b[0m\u001b]8;;\u001b\\\n",
       "\u001b[2;36m           \u001b[0m         \u001b[32m'tidy3d-beta'\u001b[0m repository on PyPI. Future releases will be \u001b[2m               \u001b[0m\n",
       "\u001b[2;36m           \u001b[0m         uploaded to the \u001b[32m'tidy3d'\u001b[0m repository. From now on, please  \u001b[2m               \u001b[0m\n",
       "\u001b[2;36m           \u001b[0m         use \u001b[32m'pip install tidy3d'\u001b[0m instead.                         \u001b[2m               \u001b[0m\n"
      ]
     },
     "metadata": {},
     "output_type": "display_data"
    },
    {
     "data": {
      "text/html": [
       "<pre style=\"white-space:pre;overflow-x:auto;line-height:normal;font-family:Menlo,'DejaVu Sans Mono',consolas,'Courier New',monospace\"><span style=\"color: #7fbfbf; text-decoration-color: #7fbfbf\">           </span><span style=\"color: #000080; text-decoration-color: #000080\">INFO    </span> Using client version: <span style=\"color: #008080; text-decoration-color: #008080; font-weight: bold\">1.9</span>.0rc2                            <a href=\"file:///home/momchil/Drive/flexcompute/tidy3d-core/tidy3d_frontend/tidy3d/__init__.py\" target=\"_blank\"><span style=\"color: #7f7f7f; text-decoration-color: #7f7f7f\">__init__.py</span></a><span style=\"color: #7f7f7f; text-decoration-color: #7f7f7f\">:</span><a href=\"file:///home/momchil/Drive/flexcompute/tidy3d-core/tidy3d_frontend/tidy3d/__init__.py#121\" target=\"_blank\"><span style=\"color: #7f7f7f; text-decoration-color: #7f7f7f\">121</span></a>\n",
       "</pre>\n"
      ],
      "text/plain": [
       "\u001b[2;36m          \u001b[0m\u001b[2;36m \u001b[0m\u001b[34mINFO    \u001b[0m Using client version: \u001b[1;36m1.9\u001b[0m.0rc2                            \u001b]8;id=678493;file:///home/momchil/Drive/flexcompute/tidy3d-core/tidy3d_frontend/tidy3d/__init__.py\u001b\\\u001b[2m__init__.py\u001b[0m\u001b]8;;\u001b\\\u001b[2m:\u001b[0m\u001b]8;id=746262;file:///home/momchil/Drive/flexcompute/tidy3d-core/tidy3d_frontend/tidy3d/__init__.py#121\u001b\\\u001b[2m121\u001b[0m\u001b]8;;\u001b\\\n"
      ]
     },
     "metadata": {},
     "output_type": "display_data"
    }
   ],
   "source": [
    "import numpy as np\n",
    "import matplotlib.pyplot as plt\n",
    "import tidy3d as td\n",
    "import tidy3d.web as web\n",
    "from tidy3d.plugins import ModeSolver"
   ]
  },
  {
   "cell_type": "markdown",
   "id": "5d524f20",
   "metadata": {},
   "source": [
    "To suppress unnecessary warnings, we set the logging level to 'error'."
   ]
  },
  {
   "cell_type": "code",
   "execution_count": 2,
   "id": "7c3bcbfb",
   "metadata": {
    "execution": {
     "iopub.execute_input": "2023-02-17T17:16:47.218817Z",
     "iopub.status.busy": "2023-02-17T17:16:47.218624Z",
     "iopub.status.idle": "2023-02-17T17:16:47.235152Z",
     "shell.execute_reply": "2023-02-17T17:16:47.234666Z"
    }
   },
   "outputs": [],
   "source": [
    "td.config.logging_level = \"error\""
   ]
  },
  {
   "cell_type": "markdown",
   "id": "8e88f8a9",
   "metadata": {},
   "source": [
    "Define the simulation wavelength (frequency) range."
   ]
  },
  {
   "cell_type": "code",
   "execution_count": 3,
   "id": "d8828055",
   "metadata": {
    "execution": {
     "iopub.execute_input": "2023-02-17T17:16:47.237319Z",
     "iopub.status.busy": "2023-02-17T17:16:47.237134Z",
     "iopub.status.idle": "2023-02-17T17:16:47.254209Z",
     "shell.execute_reply": "2023-02-17T17:16:47.253736Z"
    }
   },
   "outputs": [],
   "source": [
    "lda0 = 1.55  # central wavelength\n",
    "freq0 = td.C_0 / lda0  # central frequency\n",
    "ldas = np.linspace(1.5, 1.6, 101)  # wavelength range\n",
    "freqs = td.C_0 / ldas  # frequency range\n",
    "fwidth = 0.5 * (np.max(freqs) - np.min(freqs))  # width of the frequency distribution"
   ]
  },
  {
   "cell_type": "markdown",
   "id": "52105151",
   "metadata": {},
   "source": [
    "All devices simulated in this notebook are based on silicon waveguide on a thick oxide layer. We define both materials as nondispersive since the simulation wavelength range is relatively small."
   ]
  },
  {
   "cell_type": "code",
   "execution_count": 4,
   "id": "c3086ea4",
   "metadata": {
    "execution": {
     "iopub.execute_input": "2023-02-17T17:16:47.256309Z",
     "iopub.status.busy": "2023-02-17T17:16:47.256148Z",
     "iopub.status.idle": "2023-02-17T17:16:47.272634Z",
     "shell.execute_reply": "2023-02-17T17:16:47.272067Z"
    }
   },
   "outputs": [],
   "source": [
    "n_si = 3.48  # silicon refractive index\n",
    "si = td.Medium(permittivity=n_si**2)\n",
    "\n",
    "n_sio2 = 1.44  # silicon oxide refractive index\n",
    "sio2 = td.Medium(permittivity=n_sio2**2)"
   ]
  },
  {
   "cell_type": "markdown",
   "id": "28da9857",
   "metadata": {},
   "source": [
    "## Linear Taper "
   ]
  },
  {
   "cell_type": "markdown",
   "id": "67db0883",
   "metadata": {},
   "source": [
    "The most straightforward way to connect two waveguides of different widths is via an adiabatic taper. The taper shape can be linear, hyperbolic, Gaussian, and so on. Here, we demonstrate a linear taper and investigate how the loss scales with taper length. To be specific, we model a taper connecting the input waveguide of 10 $\\mu m$ wide to an output waveguide of 500 nm wide. Both waveguides have the same thickness of 110 nm. TE0 mode is launched at the input waveguide.\n",
    "\n",
    "Since we would like to perform a parameter sweep over the taper length, we will define a function called `linear_taper_sim` to construct the simulation. This function will be called repeatedly to make a simulation batch. The structure of the taper including the input and output waveguides can be conveniently made using as a [PolySlab](https://docs.flexcompute.com/projects/tidy3d/en/v1.9.0rc2/_autosummary/tidy3d.PolySlab.html?highlight=polyslab).\n",
    "\n",
    "<img src=\"img/linear_taper.png\" width=\"500\">"
   ]
  },
  {
   "cell_type": "code",
   "execution_count": 5,
   "id": "e7e2e3c7",
   "metadata": {
    "execution": {
     "iopub.execute_input": "2023-02-17T17:16:47.274810Z",
     "iopub.status.busy": "2023-02-17T17:16:47.274648Z",
     "iopub.status.idle": "2023-02-17T17:16:47.296745Z",
     "shell.execute_reply": "2023-02-17T17:16:47.296214Z"
    }
   },
   "outputs": [],
   "source": [
    "w_in = 10  # input waveguied width\n",
    "w_out = 0.5  # output waveguide width\n",
    "t_wg = 0.11  # waveguide thickness\n",
    "inf_eff = 1e3  # effective infinity of the model\n",
    "\n",
    "# define the substrate structure\n",
    "sub = td.Structure(\n",
    "    geometry=td.Box.from_bounds(rmin=(-inf_eff, -inf_eff, -inf_eff), rmax=(inf_eff, inf_eff, 0)),\n",
    "    medium=sio2,\n",
    ")\n",
    "\n",
    "# define a function to construct the simulation given the taper length\n",
    "def linear_taper_sim(L_t):\n",
    "\n",
    "    # vertices of the taper\n",
    "    vertices = [\n",
    "        [-inf_eff, w_in / 2],\n",
    "        [0, w_in / 2],\n",
    "        [L_t, w_out / 2],\n",
    "        [inf_eff, w_out / 2],\n",
    "        [inf_eff, -w_out / 2],\n",
    "        [L_t, -w_out / 2],\n",
    "        [0, -w_in / 2],\n",
    "        [-inf_eff, -w_in / 2],\n",
    "    ]\n",
    "\n",
    "    # construct the taper structure using a PolySlab\n",
    "    linear_taper = td.Structure(\n",
    "        geometry=td.PolySlab(vertices=vertices, axis=2, slab_bounds=(0, t_wg)), medium=si\n",
    "    )\n",
    "\n",
    "    # add a mode source that launches the TE0 mode at the input waveguide\n",
    "    mode_source = td.ModeSource(\n",
    "        center=(-lda0 / 2, 0, t_wg / 2),\n",
    "        size=(0, 1.2 * w_in, 6 * t_wg),\n",
    "        source_time=td.GaussianPulse(freq0=freq0, fwidth=fwidth),\n",
    "        direction=\"+\",\n",
    "        mode_spec=td.ModeSpec(num_modes=1, target_neff=n_si),\n",
    "        mode_index=0,\n",
    "    )\n",
    "\n",
    "    # add a field monitor to visualize the field distribution at z=t_wg/2\n",
    "    field_monitor = td.FieldMonitor(\n",
    "        center=(0, 0, t_wg / 2), size=(td.inf, td.inf, 0), freqs=[freq0], name=\"field\"\n",
    "    )\n",
    "\n",
    "    # add a flux monitor to measure transmission to the output waveguide\n",
    "    flux_monitor = td.FluxMonitor(\n",
    "        center=(lda0 / 2 + L_t, 0, t_wg / 2),\n",
    "        size=(0, 2 * w_out, 6 * t_wg),\n",
    "        freqs=freqs,\n",
    "        name=\"flux\",\n",
    "    )\n",
    "\n",
    "    # define simulation domain size\n",
    "    Lx = L_t + 2 * lda0\n",
    "    Ly = w_in + 2 * lda0\n",
    "    Lz = t_wg + 1.5 * lda0\n",
    "    sim_size = (Lx, Ly, Lz)\n",
    "\n",
    "    run_time = 3e-12  # run time of the simulation\n",
    "\n",
    "    # define simulation\n",
    "    sim = td.Simulation(\n",
    "        center=(L_t / 2, 0, t_wg),\n",
    "        size=sim_size,\n",
    "        grid_spec=td.GridSpec.auto(min_steps_per_wvl=20, wavelength=lda0),\n",
    "        structures=[linear_taper, sub],\n",
    "        sources=[mode_source],\n",
    "        monitors=[field_monitor, flux_monitor],\n",
    "        run_time=run_time,\n",
    "        boundary_spec=td.BoundarySpec.all_sides(boundary=td.PML()),  # pml is used in all boundaries\n",
    "        symmetry=(0, -1, 0),\n",
    "    )  # a pec symmetry plane at y=0 can be used to reduce the grid points of the simulation\n",
    "    return sim"
   ]
  },
  {
   "cell_type": "markdown",
   "id": "1e504189",
   "metadata": {},
   "source": [
    "With the `linear_taper_sim` function defined, we can use it to construct a simulation batch. We aim to simulate taper lengths of 10 $\\mu m$, 20 $\\mu m$, 50 $\\mu m$, and 100 $\\mu m$.\n",
    "\n",
    "To visually verify the simulation setup, we can take a simulation from the batch and use the `plot` method."
   ]
  },
  {
   "cell_type": "code",
   "execution_count": 6,
   "id": "d479a55f",
   "metadata": {
    "execution": {
     "iopub.execute_input": "2023-02-17T17:16:47.298920Z",
     "iopub.status.busy": "2023-02-17T17:16:47.298735Z",
     "iopub.status.idle": "2023-02-17T17:16:47.599042Z",
     "shell.execute_reply": "2023-02-17T17:16:47.598481Z"
    }
   },
   "outputs": [
    {
     "data": {
      "text/plain": [
       "<AxesSubplot: title={'center': 'cross section at z=0.06'}, xlabel='x', ylabel='y'>"
      ]
     },
     "execution_count": 6,
     "metadata": {},
     "output_type": "execute_result"
    },
    {
     "data": {
      "image/png": "[encoded data removed]",
      "text/plain": [
       "<Figure size 432x288 with 1 Axes>"
      ]
     },
     "metadata": {
      "needs_background": "light"
     },
     "output_type": "display_data"
    }
   ],
   "source": [
    "L_ts = np.array([10, 20, 50, 100])  # taper lengths to be simulated\n",
    "sims = {f\"L_t={L_t}\": linear_taper_sim(L_t) for L_t in L_ts}  # make a simulation batch\n",
    "sim = sims[\"L_t=20\"]  # take one simulation (L_t=20) from the batch\n",
    "sim.plot(z=t_wg / 2)  # visualize the simualtion setup"
   ]
  },
  {
   "cell_type": "markdown",
   "id": "2bde659d",
   "metadata": {},
   "source": [
    "Submit the simulation batch to the server."
   ]
  },
  {
   "cell_type": "code",
   "execution_count": 7,
   "id": "7fc0413c",
   "metadata": {
    "execution": {
     "iopub.execute_input": "2023-02-17T17:16:47.601508Z",
     "iopub.status.busy": "2023-02-17T17:16:47.601323Z",
     "iopub.status.idle": "2023-02-17T17:20:54.664423Z",
     "shell.execute_reply": "2023-02-17T17:20:54.663713Z"
    }
   },
   "outputs": [
    {
     "data": {
      "application/vnd.jupyter.widget-view+json": {
       "model_id": "d805b2d4373d4f8893bd4c8b9b28d49c",
       "version_major": 2,
       "version_minor": 0
      },
      "text/plain": [
       "Output()"
      ]
     },
     "metadata": {},
     "output_type": "display_data"
    },
    {
     "data": {
      "text/html": [
       "<pre style=\"white-space:pre;overflow-x:auto;line-height:normal;font-family:Menlo,'DejaVu Sans Mono',consolas,'Courier New',monospace\"></pre>\n"
      ],
      "text/plain": []
     },
     "metadata": {},
     "output_type": "display_data"
    },
    {
     "data": {
      "text/html": [
       "<pre style=\"white-space:pre;overflow-x:auto;line-height:normal;font-family:Menlo,'DejaVu Sans Mono',consolas,'Courier New',monospace\">\n",
       "</pre>\n"
      ],
      "text/plain": [
       "\n"
      ]
     },
     "metadata": {},
     "output_type": "display_data"
    },
    {
     "data": {
      "application/vnd.jupyter.widget-view+json": {
       "model_id": "cbfe2687885a40258834bb43212b6d36",
       "version_major": 2,
       "version_minor": 0
      },
      "text/plain": [
       "Output()"
      ]
     },
     "metadata": {},
     "output_type": "display_data"
    },
    {
     "data": {
      "text/html": [
       "<pre style=\"white-space:pre;overflow-x:auto;line-height:normal;font-family:Menlo,'DejaVu Sans Mono',consolas,'Courier New',monospace\"></pre>\n"
      ],
      "text/plain": []
     },
     "metadata": {},
     "output_type": "display_data"
    },
    {
     "data": {
      "text/html": [
       "<pre style=\"white-space:pre;overflow-x:auto;line-height:normal;font-family:Menlo,'DejaVu Sans Mono',consolas,'Courier New',monospace\">\n",
       "</pre>\n"
      ],
      "text/plain": [
       "\n"
      ]
     },
     "metadata": {},
     "output_type": "display_data"
    },
    {
     "data": {
      "application/vnd.jupyter.widget-view+json": {
       "model_id": "18acafe7664045dbbdde01a87bff2104",
       "version_major": 2,
       "version_minor": 0
      },
      "text/plain": [
       "Output()"
      ]
     },
     "metadata": {},
     "output_type": "display_data"
    },
    {
     "data": {
      "text/html": [
       "<pre style=\"white-space:pre;overflow-x:auto;line-height:normal;font-family:Menlo,'DejaVu Sans Mono',consolas,'Courier New',monospace\"></pre>\n"
      ],
      "text/plain": []
     },
     "metadata": {},
     "output_type": "display_data"
    },
    {
     "data": {
      "text/html": [
       "<pre style=\"white-space:pre;overflow-x:auto;line-height:normal;font-family:Menlo,'DejaVu Sans Mono',consolas,'Courier New',monospace\">\n",
       "</pre>\n"
      ],
      "text/plain": [
       "\n"
      ]
     },
     "metadata": {},
     "output_type": "display_data"
    },
    {
     "data": {
      "application/vnd.jupyter.widget-view+json": {
       "model_id": "05b66b2ad81d4787a7686f2ec0a3b517",
       "version_major": 2,
       "version_minor": 0
      },
      "text/plain": [
       "Output()"
      ]
     },
     "metadata": {},
     "output_type": "display_data"
    },
    {
     "data": {
      "text/html": [
       "<pre style=\"white-space:pre;overflow-x:auto;line-height:normal;font-family:Menlo,'DejaVu Sans Mono',consolas,'Courier New',monospace\"></pre>\n"
      ],
      "text/plain": []
     },
     "metadata": {},
     "output_type": "display_data"
    },
    {
     "data": {
      "text/html": [
       "<pre style=\"white-space:pre;overflow-x:auto;line-height:normal;font-family:Menlo,'DejaVu Sans Mono',consolas,'Courier New',monospace\">\n",
       "</pre>\n"
      ],
      "text/plain": [
       "\n"
      ]
     },
     "metadata": {},
     "output_type": "display_data"
    },
    {
     "data": {
      "text/html": [
       "<pre style=\"white-space:pre;overflow-x:auto;line-height:normal;font-family:Menlo,'DejaVu Sans Mono',consolas,'Courier New',monospace\"><span style=\"color: #7fbfbf; text-decoration-color: #7fbfbf\">[09:37:44] </span>Started working on Batch.                                         <a href=\"file:///home/momchil/Drive/flexcompute/tidy3d-core/tidy3d_frontend/tidy3d/web/container.py\" target=\"_blank\"><span style=\"color: #7f7f7f; text-decoration-color: #7f7f7f\">container.py</span></a><span style=\"color: #7f7f7f; text-decoration-color: #7f7f7f\">:</span><a href=\"file:///home/momchil/Drive/flexcompute/tidy3d-core/tidy3d_frontend/tidy3d/web/container.py#361\" target=\"_blank\"><span style=\"color: #7f7f7f; text-decoration-color: #7f7f7f\">361</span></a>\n",
       "</pre>\n"
      ],
      "text/plain": [
       "\u001b[2;36m[09:37:44]\u001b[0m\u001b[2;36m \u001b[0mStarted working on Batch.                                         \u001b]8;id=321612;file:///home/momchil/Drive/flexcompute/tidy3d-core/tidy3d_frontend/tidy3d/web/container.py\u001b\\\u001b[2mcontainer.py\u001b[0m\u001b]8;;\u001b\\\u001b[2m:\u001b[0m\u001b]8;id=927869;file:///home/momchil/Drive/flexcompute/tidy3d-core/tidy3d_frontend/tidy3d/web/container.py#361\u001b\\\u001b[2m361\u001b[0m\u001b]8;;\u001b\\\n"
      ]
     },
     "metadata": {},
     "output_type": "display_data"
    },
    {
     "data": {
      "application/vnd.jupyter.widget-view+json": {
       "model_id": "d7fb5a13efa54b23b3c9872d3812552a",
       "version_major": 2,
       "version_minor": 0
      },
      "text/plain": [
       "Output()"
      ]
     },
     "metadata": {},
     "output_type": "display_data"
    },
    {
     "data": {
      "text/html": [
       "<pre style=\"white-space:pre;overflow-x:auto;line-height:normal;font-family:Menlo,'DejaVu Sans Mono',consolas,'Courier New',monospace\"></pre>\n"
      ],
      "text/plain": []
     },
     "metadata": {},
     "output_type": "display_data"
    },
    {
     "data": {
      "text/html": [
       "<pre style=\"white-space:pre;overflow-x:auto;line-height:normal;font-family:Menlo,'DejaVu Sans Mono',consolas,'Courier New',monospace\">\n",
       "</pre>\n"
      ],
      "text/plain": [
       "\n"
      ]
     },
     "metadata": {},
     "output_type": "display_data"
    },
    {
     "data": {
      "text/html": [
       "<pre style=\"white-space:pre;overflow-x:auto;line-height:normal;font-family:Menlo,'DejaVu Sans Mono',consolas,'Courier New',monospace\"><span style=\"color: #7fbfbf; text-decoration-color: #7fbfbf\">[09:41:42] </span>Batch complete.                                                   <a href=\"file:///home/momchil/Drive/flexcompute/tidy3d-core/tidy3d_frontend/tidy3d/web/container.py\" target=\"_blank\"><span style=\"color: #7f7f7f; text-decoration-color: #7f7f7f\">container.py</span></a><span style=\"color: #7f7f7f; text-decoration-color: #7f7f7f\">:</span><a href=\"file:///home/momchil/Drive/flexcompute/tidy3d-core/tidy3d_frontend/tidy3d/web/container.py#382\" target=\"_blank\"><span style=\"color: #7f7f7f; text-decoration-color: #7f7f7f\">382</span></a>\n",
       "</pre>\n"
      ],
      "text/plain": [
       "\u001b[2;36m[09:41:42]\u001b[0m\u001b[2;36m \u001b[0mBatch complete.                                                   \u001b]8;id=7690;file:///home/momchil/Drive/flexcompute/tidy3d-core/tidy3d_frontend/tidy3d/web/container.py\u001b\\\u001b[2mcontainer.py\u001b[0m\u001b]8;;\u001b\\\u001b[2m:\u001b[0m\u001b]8;id=801804;file:///home/momchil/Drive/flexcompute/tidy3d-core/tidy3d_frontend/tidy3d/web/container.py#382\u001b\\\u001b[2m382\u001b[0m\u001b]8;;\u001b\\\n"
      ]
     },
     "metadata": {},
     "output_type": "display_data"
    }
   ],
   "source": [
    "batch = web.Batch(simulations=sims)\n",
    "batch_results = batch.run(path_dir=\"data\")"
   ]
  },
  {
   "cell_type": "markdown",
   "id": "3cb1bfcd",
   "metadata": {},
   "source": [
    "After the batch simulation is complete, we can see how the loss scales with the taper length. From the results, we can see that a 10 $\\mu m$ taper has an insertion loss of ~-6 dB and a 20 $\\mu m$ taper has an insertion loss of ~-3 dB. To achieve low loss, the taper needs to be longer than 50 $\\mu m$, which is not sufficiently compact for many applications."
   ]
  },
  {
   "cell_type": "code",
   "execution_count": 8,
   "id": "44ccfc5f",
   "metadata": {
    "execution": {
     "iopub.execute_input": "2023-02-17T17:20:59.427436Z",
     "iopub.status.busy": "2023-02-17T17:20:59.427095Z",
     "iopub.status.idle": "2023-02-17T17:21:06.755579Z",
     "shell.execute_reply": "2023-02-17T17:21:06.754891Z"
    }
   },
   "outputs": [
    {
     "data": {
      "application/vnd.jupyter.widget-view+json": {
       "model_id": "9c8989cce0d8418b8bb9d8532877a872",
       "version_major": 2,
       "version_minor": 0
      },
      "text/plain": [
       "Output()"
      ]
     },
     "metadata": {},
     "output_type": "display_data"
    },
    {
     "data": {
      "text/html": [
       "<pre style=\"white-space:pre;overflow-x:auto;line-height:normal;font-family:Menlo,'DejaVu Sans Mono',consolas,'Courier New',monospace\"></pre>\n"
      ],
      "text/plain": []
     },
     "metadata": {},
     "output_type": "display_data"
    },
    {
     "data": {
      "text/html": [
       "<pre style=\"white-space:pre;overflow-x:auto;line-height:normal;font-family:Menlo,'DejaVu Sans Mono',consolas,'Courier New',monospace\">\n",
       "</pre>\n"
      ],
      "text/plain": [
       "\n"
      ]
     },
     "metadata": {},
     "output_type": "display_data"
    },
    {
     "data": {
      "application/vnd.jupyter.widget-view+json": {
       "model_id": "591d641b1afc46caaf475cbb6815a1c4",
       "version_major": 2,
       "version_minor": 0
      },
      "text/plain": [
       "Output()"
      ]
     },
     "metadata": {},
     "output_type": "display_data"
    },
    {
     "data": {
      "text/html": [
       "<pre style=\"white-space:pre;overflow-x:auto;line-height:normal;font-family:Menlo,'DejaVu Sans Mono',consolas,'Courier New',monospace\"></pre>\n"
      ],
      "text/plain": []
     },
     "metadata": {},
     "output_type": "display_data"
    },
    {
     "data": {
      "text/html": [
       "<pre style=\"white-space:pre;overflow-x:auto;line-height:normal;font-family:Menlo,'DejaVu Sans Mono',consolas,'Courier New',monospace\">\n",
       "</pre>\n"
      ],
      "text/plain": [
       "\n"
      ]
     },
     "metadata": {},
     "output_type": "display_data"
    },
    {
     "data": {
      "application/vnd.jupyter.widget-view+json": {
       "model_id": "87289c49be384ee19740641f0483651b",
       "version_major": 2,
       "version_minor": 0
      },
      "text/plain": [
       "Output()"
      ]
     },
     "metadata": {},
     "output_type": "display_data"
    },
    {
     "data": {
      "text/html": [
       "<pre style=\"white-space:pre;overflow-x:auto;line-height:normal;font-family:Menlo,'DejaVu Sans Mono',consolas,'Courier New',monospace\"></pre>\n"
      ],
      "text/plain": []
     },
     "metadata": {},
     "output_type": "display_data"
    },
    {
     "data": {
      "text/html": [
       "<pre style=\"white-space:pre;overflow-x:auto;line-height:normal;font-family:Menlo,'DejaVu Sans Mono',consolas,'Courier New',monospace\">\n",
       "</pre>\n"
      ],
      "text/plain": [
       "\n"
      ]
     },
     "metadata": {},
     "output_type": "display_data"
    },
    {
     "data": {
      "application/vnd.jupyter.widget-view+json": {
       "model_id": "59830b2fc7f14f8cae8d5db2072f44d1",
       "version_major": 2,
       "version_minor": 0
      },
      "text/plain": [
       "Output()"
      ]
     },
     "metadata": {},
     "output_type": "display_data"
    },
    {
     "data": {
      "text/html": [
       "<pre style=\"white-space:pre;overflow-x:auto;line-height:normal;font-family:Menlo,'DejaVu Sans Mono',consolas,'Courier New',monospace\"></pre>\n"
      ],
      "text/plain": []
     },
     "metadata": {},
     "output_type": "display_data"
    },
    {
     "data": {
      "text/html": [
       "<pre style=\"white-space:pre;overflow-x:auto;line-height:normal;font-family:Menlo,'DejaVu Sans Mono',consolas,'Courier New',monospace\">\n",
       "</pre>\n"
      ],
      "text/plain": [
       "\n"
      ]
     },
     "metadata": {},
     "output_type": "display_data"
    },
    {
     "data": {
      "text/plain": [
       "<matplotlib.legend.Legend at 0x7fbdd13836d0>"
      ]
     },
     "execution_count": 8,
     "metadata": {},
     "output_type": "execute_result"
    },
    {
     "data": {
      "image/png": "[encoded data removed]",
      "text/plain": [
       "<Figure size 432x288 with 1 Axes>"
      ]
     },
     "metadata": {
      "needs_background": "light"
     },
     "output_type": "display_data"
    }
   ],
   "source": [
    "# using a for loop to plot the insertion losses at different taper lengths\n",
    "for i, L_t in enumerate(L_ts):\n",
    "    sim_data = batch_results[f\"L_t={L_t}\"]\n",
    "    T = sim_data[\"flux\"].flux\n",
    "    plt.plot(ldas, 10 * np.log10(T), label=f\"{L_t} $\\mu m$ taper\")\n",
    "\n",
    "plt.title(\"Insertion loss for different linear taper lengths\")\n",
    "plt.ylim(-10, 0)\n",
    "plt.xlabel(\"Wavelength ($\\mu m$)\")\n",
    "plt.ylabel(\"Insertion loss (dB)\")\n",
    "plt.legend()"
   ]
  },
  {
   "cell_type": "markdown",
   "id": "55b56a24",
   "metadata": {},
   "source": [
    "The field distributions can also be plotted. From the field distributions, we can see the leakage of energy at the abrupt changes where the taper meets the straight waveguide. This leakage is reduced for longer tapers and thus the insertion loss is smaller."
   ]
  },
  {
   "cell_type": "code",
   "execution_count": 9,
   "id": "d0d71e4d",
   "metadata": {
    "execution": {
     "iopub.execute_input": "2023-02-17T17:21:06.897772Z",
     "iopub.status.busy": "2023-02-17T17:21:06.897595Z",
     "iopub.status.idle": "2023-02-17T17:21:19.370075Z",
     "shell.execute_reply": "2023-02-17T17:21:19.369088Z"
    }
   },
   "outputs": [
    {
     "data": {
      "image/png": "[encoded data removed]",
      "text/plain": [
       "<Figure size 576x576 with 8 Axes>"
      ]
     },
     "metadata": {
      "needs_background": "light"
     },
     "output_type": "display_data"
    }
   ],
   "source": [
    "f, ax = plt.subplots(2, 2, tight_layout=True, figsize=(8, 8))\n",
    "for i, L_t in enumerate(L_ts):\n",
    "    sim_data = batch_results[f\"L_t={L_t}\"]\n",
    "    sim_data.plot_field(\"field\", \"Ey\", f=freq0, ax=ax[i // 2, i % 2], vmin=-50, vmax=50)\n",
    "    ax[i // 2, i % 2].set_xlim(L_t - 5 * lda0, L_t + lda0)\n",
    "    ax[i // 2, i % 2].set_title(f\"{L_t} $\\mu m$ taper\")"
   ]
  },
  {
   "cell_type": "markdown",
   "id": "d905557e",
   "metadata": {},
   "source": [
    "## Luneburg Lens Size Converter"
   ]
  },
  {
   "cell_type": "markdown",
   "id": "0d6f353c",
   "metadata": {},
   "source": [
    "Besides adiabatic tapers, there are many novel size converter designs that can achieve both compactness and low loss. The first example is a taper design based on the principle of a Luneburg lens, which we will demonstrate here. \n",
    "\n",
    "A Luneburg lens is a spherical graded index lens where its refractive index varies with positions. The most common Luneburg lens employees a refractive index profile of $n(r)=\\sqrt{2-(\\frac{r}{R})^2}$, where $r$ is the distance to the center of the lens and $R$ is the radius of the lens. The result of the graded index is that light propagating parellel to the lens will be focused on the edge of the lens.\n",
    "\n",
    "On the other hand, waveguides with different thicknesses have different effective indices. By applying the same principle of a classical Luneburg lens, we can design a spherical waveguide region where the thickness of the waveguide varies such that the effective index follows that of a Luneburg lens. Consequently, the incidet light from the input waveguide can be focused into the output waveguide and we achieve a low loss while having a small device footprint. The device design is adapted from [S Hadi Badri and M M Gilarlue 2019 J. Opt. 21 125802](https://iopscience.iop.org/article/10.1088/2040-8986/ab4fa3).\n",
    "\n",
    "To use this design, we first need to obtain the relationship between the effective index and the waveguide thickness. Here, we ignore the effect of finite waveguide width and only consider the effective index of a slab waveguide. This will leave room for further optimization, which is another topic that we will not cover in this example notebook. We will first use the [ModeSolver](https://docs.flexcompute.com/projects/tidy3d/en/v1.9.0rc2/notebooks/ModeSolver.html?highlight=mode%20solver) to solve for the effective index. Note that the effective index here is that of the waveguide, not to confuse with the effective index used in a 2.5D simulation. The simulation here will be performed in full 3D.\n",
    "\n",
    "<img src=\"img/luneburg_lens_taper.png\" width=\"500\">"
   ]
  },
  {
   "cell_type": "code",
   "execution_count": 10,
   "id": "aa89280d",
   "metadata": {
    "execution": {
     "iopub.execute_input": "2023-02-17T17:21:19.373089Z",
     "iopub.status.busy": "2023-02-17T17:21:19.372895Z",
     "iopub.status.idle": "2023-02-17T17:23:50.312826Z",
     "shell.execute_reply": "2023-02-17T17:23:50.312142Z"
    }
   },
   "outputs": [],
   "source": [
    "t_slabs = np.linspace(t_wg, 0.4, 30)  # range of slab waveguide thickness\n",
    "n_eff = np.zeros(len(t_slabs))  # effective index of the slab waveguide\n",
    "\n",
    "for i, t_slab in enumerate(t_slabs):\n",
    "    # build the slab\n",
    "    slab = td.Structure(\n",
    "        geometry=td.Box.from_bounds(rmin=(-inf_eff, -inf_eff, 0), rmax=(inf_eff, inf_eff, t_slab)),\n",
    "        medium=si,\n",
    "    )\n",
    "\n",
    "    # define simulation domain size\n",
    "    Lx = lda0\n",
    "    Ly = 0 \n",
    "    Lz = 10 * t_slab\n",
    "    sim_size = (Lx, Ly, Lz)\n",
    "\n",
    "    # define simulation\n",
    "    sim = td.Simulation(\n",
    "        center=(0, 0, t_slab / 2),\n",
    "        size=sim_size,\n",
    "        grid_spec=td.GridSpec.auto(min_steps_per_wvl=50, wavelength=lda0),\n",
    "        structures=[slab, sub],\n",
    "        sources=[],  # for mode solver, no source or monitor is needed\n",
    "        monitors=[],\n",
    "        run_time=1e-15,\n",
    "        boundary_spec=td.BoundarySpec.pml(z=True),\n",
    "    )  # pml is applied in z direction and\n",
    "    # periodic condition is applied in other directions\n",
    "\n",
    "    # define a mode solver\n",
    "    mode_solver = ModeSolver(\n",
    "        simulation=sim,\n",
    "        plane=td.Box(center=(0, 0, t_slab / 2), size=(Lx, 0, Lz)),\n",
    "        mode_spec=td.ModeSpec(num_modes=1, target_neff=n_si),\n",
    "        freqs=[freq0],\n",
    "    )\n",
    "    # solve for the mode\n",
    "    mode_data = mode_solver.solve()\n",
    "\n",
    "    # add the effective index to the n_eff array\n",
    "    n_eff[i] = np.array(mode_data.n_eff[0])"
   ]
  },
  {
   "cell_type": "markdown",
   "id": "80d5367c",
   "metadata": {},
   "source": [
    "To order to obtain the waveguide thickness given an effective index, we perform a polynomial fitting using `Numpy`'s `polyfit` method to the effective index obtained from the previous step."
   ]
  },
  {
   "cell_type": "code",
   "execution_count": 11,
   "id": "dfcd51c1",
   "metadata": {
    "execution": {
     "iopub.execute_input": "2023-02-17T17:23:50.315218Z",
     "iopub.status.busy": "2023-02-17T17:23:50.315032Z",
     "iopub.status.idle": "2023-02-17T17:23:50.477371Z",
     "shell.execute_reply": "2023-02-17T17:23:50.476881Z"
    }
   },
   "outputs": [
    {
     "data": {
      "text/plain": [
       "<matplotlib.legend.Legend at 0x7fbdd206d250>"
      ]
     },
     "execution_count": 11,
     "metadata": {},
     "output_type": "execute_result"
    },
    {
     "data": {
      "image/png": "[encoded data removed]",
      "text/plain": [
       "<Figure size 432x288 with 1 Axes>"
      ]
     },
     "metadata": {
      "needs_background": "light"
     },
     "output_type": "display_data"
    }
   ],
   "source": [
    "coefs = np.polyfit(n_eff, t_slabs, 3)\n",
    "t_fit = np.poly1d(coefs)\n",
    "plt.scatter(n_eff, t_slabs, label=\"Simulated results\")\n",
    "plt.plot(n_eff, t_fit(n_eff), label=\"Polynomial fit\")\n",
    "plt.xlabel(\"Effective index\")\n",
    "plt.ylabel(\"Waveguide thickness ($\\mu m$)\")\n",
    "plt.legend()"
   ]
  },
  {
   "cell_type": "markdown",
   "id": "8cb3d5f6",
   "metadata": {},
   "source": [
    "We will construct a circular Luneburg lens region where the hight of the Si layer changes gradually such that the local effective index follows $n(r)=n_{edge}\\sqrt{2-(\\frac{r}{R})^2}$, where $n_{edge}$ is the effective index at the edge of the circle. To minimize impedance mismatch at the interface between the input/output waveguides and the Luneburg lens, the edge of the Luneburg lens will have the same thickness as the waveguides."
   ]
  },
  {
   "cell_type": "code",
   "execution_count": 12,
   "id": "29900fae",
   "metadata": {
    "execution": {
     "iopub.execute_input": "2023-02-17T17:23:50.479503Z",
     "iopub.status.busy": "2023-02-17T17:23:50.479323Z",
     "iopub.status.idle": "2023-02-17T17:23:50.601301Z",
     "shell.execute_reply": "2023-02-17T17:23:50.600416Z"
    }
   },
   "outputs": [
    {
     "data": {
      "text/plain": [
       "Text(0, 0.5, 'Si thickness ($\\\\mu m$)')"
      ]
     },
     "execution_count": 12,
     "metadata": {},
     "output_type": "execute_result"
    },
    {
     "data": {
      "image/png": "[encoded data removed]",
      "text/plain": [
       "<Figure size 432x288 with 1 Axes>"
      ]
     },
     "metadata": {
      "needs_background": "light"
     },
     "output_type": "display_data"
    }
   ],
   "source": [
    "n_edge = n_eff[0]  # effective index at the edge of the luneburg lens\n",
    "L_a = 11  # diameter of the luneburg lens region\n",
    "R_lens = L_a / 2  # radius of the luneburg lens\n",
    "r = np.linspace(0, R_lens, 100)  # distance to the center of the luneburg lens\n",
    "n_lens = n_edge * np.sqrt(2 - (r / R_lens) ** 2)  # effective index of the luneburg lens\n",
    "t_lens = t_fit(n_lens)  # thickness of the luneburg lens\n",
    "t_lens[-1] = t_wg  # make sure the edge thickness is the same as the waveguide thickness\n",
    "\n",
    "# plot the thickness profile of the luneburg lens\n",
    "plt.plot(r, t_lens)\n",
    "plt.xlabel(\"Distance to the center of the lens ($\\mu m$)\")\n",
    "plt.ylabel(\"Si thickness ($\\mu m$)\")"
   ]
  },
  {
   "cell_type": "markdown",
   "id": "c4dc99d6",
   "metadata": {},
   "source": [
    "From the above thickness profile, we can construct the Luneburg lens strucutre using a series of [Cylinders](https://docs.flexcompute.com/projects/tidy3d/en/v1.9.0rc2/_autosummary/tidy3d.Cylinder.html?highlight=cylinder). The radius and length of each cylinder follows the above plot. "
   ]
  },
  {
   "cell_type": "code",
   "execution_count": 13,
   "id": "aeb13295",
   "metadata": {
    "execution": {
     "iopub.execute_input": "2023-02-17T17:23:50.604422Z",
     "iopub.status.busy": "2023-02-17T17:23:50.603855Z",
     "iopub.status.idle": "2023-02-17T17:23:50.627635Z",
     "shell.execute_reply": "2023-02-17T17:23:50.627137Z"
    }
   },
   "outputs": [],
   "source": [
    "lens = []\n",
    "for i in range(len(r)):\n",
    "    lens.append(\n",
    "        td.Structure(\n",
    "            geometry=td.Cylinder(center=(0, 0, t_lens[i] / 2), radius=r[i], length=t_lens[i]),\n",
    "            medium=si,\n",
    "        )\n",
    "    )"
   ]
  },
  {
   "cell_type": "markdown",
   "id": "34ca9a8f",
   "metadata": {},
   "source": [
    "Build the input and output waveguides."
   ]
  },
  {
   "cell_type": "code",
   "execution_count": 14,
   "id": "dc1301a0",
   "metadata": {
    "execution": {
     "iopub.execute_input": "2023-02-17T17:23:50.629561Z",
     "iopub.status.busy": "2023-02-17T17:23:50.629412Z",
     "iopub.status.idle": "2023-02-17T17:23:50.646745Z",
     "shell.execute_reply": "2023-02-17T17:23:50.646251Z"
    }
   },
   "outputs": [],
   "source": [
    "wg_in = td.Structure(\n",
    "    geometry=td.Box.from_bounds(rmin=(-inf_eff, -w_in / 2, 0), rmax=(0, w_in / 2, t_wg)), medium=si\n",
    ")\n",
    "wg_out = td.Structure(\n",
    "    geometry=td.Box.from_bounds(rmin=(0, -w_out / 2, 0), rmax=(inf_eff, w_out / 2, t_wg)), medium=si\n",
    ")"
   ]
  },
  {
   "cell_type": "code",
   "execution_count": 15,
   "id": "c50e9c35",
   "metadata": {
    "execution": {
     "iopub.execute_input": "2023-02-17T17:23:50.648702Z",
     "iopub.status.busy": "2023-02-17T17:23:50.648552Z",
     "iopub.status.idle": "2023-02-17T17:23:51.094954Z",
     "shell.execute_reply": "2023-02-17T17:23:51.094436Z"
    }
   },
   "outputs": [
    {
     "data": {
      "text/plain": [
       "<AxesSubplot: title={'center': 'cross section at z=0.03'}, xlabel='x', ylabel='y'>"
      ]
     },
     "execution_count": 15,
     "metadata": {},
     "output_type": "execute_result"
    },
    {
     "data": {
      "image/png": "[encoded data removed]",
      "text/plain": [
       "<Figure size 432x288 with 1 Axes>"
      ]
     },
     "metadata": {
      "needs_background": "light"
     },
     "output_type": "display_data"
    }
   ],
   "source": [
    "# define the simulation domain size\n",
    "Lx = L_a + 2 * lda0\n",
    "Ly = L_a + 3 * lda0\n",
    "Lz = t_wg + 1.5 * lda0\n",
    "sim_size = (Lx, Ly, Lz)\n",
    "\n",
    "# add a mode source that launches the TE0 mode at the input waveguide\n",
    "mode_source = td.ModeSource(\n",
    "    center=(-lda0 / 2 - R_lens, 0, t_wg / 2),\n",
    "    size=(0, 2 * w_in, 6 * t_wg),\n",
    "    source_time=td.GaussianPulse(freq0=freq0, fwidth=freq0 / 10),\n",
    "    direction=\"+\",\n",
    "    mode_spec=td.ModeSpec(num_modes=1, target_neff=n_si),\n",
    "    mode_index=0,\n",
    ")\n",
    "\n",
    "# add a field monitor to visualize the field distribution at z=t_wg/2\n",
    "field_monitor = td.FieldMonitor(\n",
    "    center=(0, 0, t_wg / 2), size=(td.inf, td.inf, 0), freqs=[freq0], name=\"field\"\n",
    ")\n",
    "\n",
    "# add a flux monitor to measure transmission to the output waveguide\n",
    "flux_monitor = td.FluxMonitor(\n",
    "    center=(lda0 / 2 + R_lens, 0, t_wg / 2), size=(0, 4 * w_out, 6 * t_wg), freqs=freqs, name=\"flux\"\n",
    ")\n",
    "\n",
    "run_time = 2e-12  # simulation run time\n",
    "\n",
    "# define simulation\n",
    "sim = td.Simulation(\n",
    "    center=(0, 0, t_wg / 2),\n",
    "    size=sim_size,\n",
    "    grid_spec=td.GridSpec.auto(min_steps_per_wvl=20, wavelength=lda0),\n",
    "    structures=lens + [wg_in, wg_out, sub],\n",
    "    sources=[mode_source],\n",
    "    monitors=[field_monitor, flux_monitor],\n",
    "    run_time=run_time,\n",
    "    boundary_spec=td.BoundarySpec.all_sides(boundary=td.PML()),\n",
    "    symmetry=(0, -1, 0),\n",
    ")\n",
    "\n",
    "# visualize the simulation setup\n",
    "sim.plot(z=t_wg/4)"
   ]
  },
  {
   "cell_type": "markdown",
   "id": "5e61baa3",
   "metadata": {},
   "source": [
    "Submit the simulation to the server."
   ]
  },
  {
   "cell_type": "code",
   "execution_count": 16,
   "id": "688ed54e",
   "metadata": {
    "execution": {
     "iopub.execute_input": "2023-02-17T17:23:51.097260Z",
     "iopub.status.busy": "2023-02-17T17:23:51.097106Z",
     "iopub.status.idle": "2023-02-17T17:36:13.860840Z",
     "shell.execute_reply": "2023-02-17T17:36:13.860231Z"
    }
   },
   "outputs": [
    {
     "data": {
      "application/vnd.jupyter.widget-view+json": {
       "model_id": "b80ee1c005964cdcad16cd9212ba7847",
       "version_major": 2,
       "version_minor": 0
      },
      "text/plain": [
       "Output()"
      ]
     },
     "metadata": {},
     "output_type": "display_data"
    },
    {
     "data": {
      "text/html": [
       "<pre style=\"white-space:pre;overflow-x:auto;line-height:normal;font-family:Menlo,'DejaVu Sans Mono',consolas,'Courier New',monospace\"></pre>\n"
      ],
      "text/plain": []
     },
     "metadata": {},
     "output_type": "display_data"
    },
    {
     "data": {
      "text/html": [
       "<pre style=\"white-space:pre;overflow-x:auto;line-height:normal;font-family:Menlo,'DejaVu Sans Mono',consolas,'Courier New',monospace\">\n",
       "</pre>\n"
      ],
      "text/plain": [
       "\n"
      ]
     },
     "metadata": {},
     "output_type": "display_data"
    },
    {
     "data": {
      "application/vnd.jupyter.widget-view+json": {
       "model_id": "",
       "version_major": 2,
       "version_minor": 0
      },
      "text/plain": [
       "Output()"
      ]
     },
     "metadata": {},
     "output_type": "display_data"
    },
    {
     "data": {
      "text/html": [
       "<pre style=\"white-space:pre;overflow-x:auto;line-height:normal;font-family:Menlo,'DejaVu Sans Mono',consolas,'Courier New',monospace\"></pre>\n"
      ],
      "text/plain": []
     },
     "metadata": {},
     "output_type": "display_data"
    },
    {
     "data": {
      "application/vnd.jupyter.widget-view+json": {
       "model_id": "fd2afe14b8d14fe297b124ceb6a6f909",
       "version_major": 2,
       "version_minor": 0
      },
      "text/plain": [
       "Output()"
      ]
     },
     "metadata": {},
     "output_type": "display_data"
    },
    {
     "data": {
      "text/html": [
       "<pre style=\"white-space:pre;overflow-x:auto;line-height:normal;font-family:Menlo,'DejaVu Sans Mono',consolas,'Courier New',monospace\"></pre>\n"
      ],
      "text/plain": []
     },
     "metadata": {},
     "output_type": "display_data"
    },
    {
     "data": {
      "text/html": [
       "<pre style=\"white-space:pre;overflow-x:auto;line-height:normal;font-family:Menlo,'DejaVu Sans Mono',consolas,'Courier New',monospace\">\n",
       "</pre>\n"
      ],
      "text/plain": [
       "\n"
      ]
     },
     "metadata": {},
     "output_type": "display_data"
    },
    {
     "data": {
      "application/vnd.jupyter.widget-view+json": {
       "model_id": "",
       "version_major": 2,
       "version_minor": 0
      },
      "text/plain": [
       "Output()"
      ]
     },
     "metadata": {},
     "output_type": "display_data"
    },
    {
     "data": {
      "text/html": [
       "<pre style=\"white-space:pre;overflow-x:auto;line-height:normal;font-family:Menlo,'DejaVu Sans Mono',consolas,'Courier New',monospace\"></pre>\n"
      ],
      "text/plain": []
     },
     "metadata": {},
     "output_type": "display_data"
    },
    {
     "data": {
      "application/vnd.jupyter.widget-view+json": {
       "model_id": "07f5fca78cdf4f85a39114fa494ad7af",
       "version_major": 2,
       "version_minor": 0
      },
      "text/plain": [
       "Output()"
      ]
     },
     "metadata": {},
     "output_type": "display_data"
    },
    {
     "data": {
      "text/html": [
       "<pre style=\"white-space:pre;overflow-x:auto;line-height:normal;font-family:Menlo,'DejaVu Sans Mono',consolas,'Courier New',monospace\"></pre>\n"
      ],
      "text/plain": []
     },
     "metadata": {},
     "output_type": "display_data"
    },
    {
     "data": {
      "text/html": [
       "<pre style=\"white-space:pre;overflow-x:auto;line-height:normal;font-family:Menlo,'DejaVu Sans Mono',consolas,'Courier New',monospace\">\n",
       "</pre>\n"
      ],
      "text/plain": [
       "\n"
      ]
     },
     "metadata": {},
     "output_type": "display_data"
    }
   ],
   "source": [
    "job = web.Job(simulation=sim, task_name=\"luneburg_lens_taper\")\n",
    "sim_data = job.run(path=\"data/simulation_data.hdf5\")"
   ]
  },
  {
   "cell_type": "markdown",
   "id": "96585808",
   "metadata": {},
   "source": [
    "After the simulation is complete, we can visualize the field distribution. In the Luneburg lens region, the wave front converges into a focus and the coupling to the output waveguide is efficient."
   ]
  },
  {
   "cell_type": "code",
   "execution_count": 17,
   "id": "1855adf3",
   "metadata": {
    "execution": {
     "iopub.execute_input": "2023-02-17T17:36:28.115952Z",
     "iopub.status.busy": "2023-02-17T17:36:28.115779Z",
     "iopub.status.idle": "2023-02-17T17:36:31.172261Z",
     "shell.execute_reply": "2023-02-17T17:36:31.171292Z"
    }
   },
   "outputs": [
    {
     "data": {
      "text/plain": [
       "<AxesSubplot: title={'center': 'cross section at z=0.06'}, xlabel='x', ylabel='y'>"
      ]
     },
     "execution_count": 17,
     "metadata": {},
     "output_type": "execute_result"
    },
    {
     "data": {
      "image/png": "[encoded data removed]",
      "text/plain": [
       "<Figure size 432x288 with 2 Axes>"
      ]
     },
     "metadata": {
      "needs_background": "light"
     },
     "output_type": "display_data"
    }
   ],
   "source": [
    "sim_data.plot_field(\"field\", \"Ey\", vmin=-50, vmax=50)"
   ]
  },
  {
   "cell_type": "markdown",
   "id": "9be095ca",
   "metadata": {},
   "source": [
    "More importantly, we need to quantitatively examine the insertion loss and compare that to a linear taper. The Luneburg lens is only about 10 $\\mu m$ in length. Here, we plot the insertion loss of the Luneburg lens size converter to a 50 $\\mu m$ linear taper. From the plot, we can see that the Luneburg lens outperforms the 50 $\\mu m$ linear taper while being only 1/5 in size."
   ]
  },
  {
   "cell_type": "code",
   "execution_count": 18,
   "id": "874a5943",
   "metadata": {
    "execution": {
     "iopub.execute_input": "2023-02-16T20:43:50.643487Z",
     "iopub.status.busy": "2023-02-16T20:43:50.643313Z",
     "iopub.status.idle": "2023-02-16T20:43:50.859487Z",
     "shell.execute_reply": "2023-02-16T20:43:50.858881Z"
    }
   },
   "outputs": [
    {
     "data": {
      "text/plain": [
       "<matplotlib.legend.Legend at 0x7fbdd1aac970>"
      ]
     },
     "execution_count": 18,
     "metadata": {},
     "output_type": "execute_result"
    },
    {
     "data": {
      "image/png": "[encoded data removed]",
      "text/plain": [
       "<Figure size 432x288 with 1 Axes>"
      ]
     },
     "metadata": {
      "needs_background": "light"
     },
     "output_type": "display_data"
    }
   ],
   "source": [
    "T_luneburg = sim_data[\"flux\"].flux  # transmission of the luneburg lens\n",
    "sim_data_linear = batch_results[f\"L_t=50\"]  # simulation of the 50 um lienar taper\n",
    "T_linear = sim_data_linear[\"flux\"].flux  # transmission of the linear taper\n",
    "\n",
    "# plotting the insertion loss of the luneburg lens and the linear taper\n",
    "plt.plot(ldas, 10 * np.log10(T_luneburg), label=\"Luneburg lens taper\")\n",
    "plt.plot(ldas, 10 * np.log10(T_linear), label=\"50 $\\mu m$ linear taper\")\n",
    "plt.title(\"Comparison between Luneburg lens and linear tapers\")\n",
    "plt.ylim(-3, 0)\n",
    "plt.xlabel(\"Wavelength ($\\mu m$)\")\n",
    "plt.ylabel(\"Insertion loss (dB)\")\n",
    "plt.legend()"
   ]
  },
  {
   "cell_type": "markdown",
   "id": "18fa3948",
   "metadata": {},
   "source": [
    "## Semi-lens Beam Expander "
   ]
  },
  {
   "cell_type": "markdown",
   "id": "54e7ae80",
   "metadata": {},
   "source": [
    "The Luneburg lens design introduced in the previous section requires a more complicated fabrication since the thickness of the Si layer needs to gradually vary. This is not desirable in many cases. There are a number of other designs that circumvent this issue. One such example is introduced in [Siamak Abbaslou, Robert Gatdula, Ming Lu, Aaron Stein, and Wei Jiang, \"Ultra-short beam expander with segmented curvature control: the emergence of a semi-lens,\" Opt. Lett. 42, 4383-4386 (2017)](https://opg.optica.org/ol/abstract.cfm?uri=ol-42-21-4383), where a compact waveguide taper is segmented into 6 segments and oarticle swarm optimization algorithm is used to optimize the shape of each segment. The result of the optimization is a semi-lens structure that also outperforms the conventional adiabatic taper of the same length by a great margin. \n",
    "\n",
    "In the previous models, the input waveguide is wider than the output waveguide. In this case, we model a beam expander so the output waveguide is 9 $\\mu m$ wide and the input waveguide is 450 nm wide. \n",
    "\n",
    "<img src=\"img/semi_lens_taper.png\" width=\"500\">"
   ]
  },
  {
   "cell_type": "code",
   "execution_count": 19,
   "id": "4aafe94a",
   "metadata": {
    "execution": {
     "iopub.execute_input": "2023-02-16T20:43:50.862186Z",
     "iopub.status.busy": "2023-02-16T20:43:50.861942Z",
     "iopub.status.idle": "2023-02-16T20:43:50.880677Z",
     "shell.execute_reply": "2023-02-16T20:43:50.880124Z"
    }
   },
   "outputs": [],
   "source": [
    "t_wg = 0.26  # thickness of the waveguide\n",
    "w_0 = 0.45  # width of the input waveguide\n",
    "w_6 = 9  # width of the output waveguide\n",
    "\n",
    "# optimized design parameters\n",
    "m_i = [3, 1.1, 0.01, 3, 0.32, 2.55]\n",
    "w_i = [w_0, 1.7, 3.3, 9.06, 10, 3.19, w_6]\n",
    "L_i = [1, 3.61, 0.05, 0.7, 3.11, 1.03]\n",
    "\n",
    "L_tot = np.sum(L_i)  # total length of the device"
   ]
  },
  {
   "cell_type": "markdown",
   "id": "5d0141c0",
   "metadata": {},
   "source": [
    "The width of each segment of the device is described by $w(x_i)=(w_i-w_{i+1})|\\frac{x_i-L_i}{L_i}|^{m_i}$, where $i=1,2,...,6$, $w_i$ is the width at the begining of each segment, $L_i$ is the length of each segment, and $m_i$ is the curvature of each segment. The optimized values of $w_i$, $L_i$, and $m_i$ are listed above.\n",
    "\n",
    "The structure of the deive will be constructed using a series of [PolySlabs](https://docs.flexcompute.com/projects/tidy3d/en/v1.9.0rc2/_autosummary/tidy3d.PolySlab.html?highlight=polyslab). The vertices are calculated from the above equation and the optimized parameters."
   ]
  },
  {
   "cell_type": "code",
   "execution_count": 20,
   "id": "a7a76f40",
   "metadata": {
    "execution": {
     "iopub.execute_input": "2023-02-16T20:43:50.882883Z",
     "iopub.status.busy": "2023-02-16T20:43:50.882726Z",
     "iopub.status.idle": "2023-02-16T20:43:51.014842Z",
     "shell.execute_reply": "2023-02-16T20:43:51.014261Z"
    }
   },
   "outputs": [
    {
     "data": {
      "image/png": "[encoded data removed]",
      "text/plain": [
       "<Figure size 432x288 with 1 Axes>"
      ]
     },
     "metadata": {
      "needs_background": "light"
     },
     "output_type": "display_data"
    }
   ],
   "source": [
    "X = np.array([-inf_eff])  # x coordinate of the vertices\n",
    "Y = np.array([w_0 / 2])  # y coordinate of the vertices\n",
    "\n",
    "# obtain the vertices in the upper half of each segment\n",
    "for i in range(6):\n",
    "    if i == 0:\n",
    "        x = np.linspace(0, L_i[0], 60)\n",
    "    else:\n",
    "        x = np.linspace(np.sum(L_i[0:i]), np.sum(L_i[0 : i + 1]), 60)\n",
    "    x_i = x - np.sum(L_i[0:i])\n",
    "    y = (w_i[i] - w_i[i + 1]) * np.abs((x_i - L_i[i]) / L_i[i]) ** m_i[i] + w_i[i + 1]\n",
    "    X = np.append(X, x)\n",
    "    Y = np.append(Y, y / 2)\n",
    "    plt.plot(x, y / 2)\n",
    "    plt.plot(x, -y / 2)\n",
    "\n",
    "plt.title(\"vertices of the semi-lens structure\")\n",
    "\n",
    "# obtain the vertices in the lower half of the structure\n",
    "X = np.append(X, inf_eff)\n",
    "X = np.concatenate((X, np.flipud(X)))\n",
    "Y = np.append(Y, w_6 / 2)\n",
    "Y = np.concatenate((Y, -np.flipud(Y)))\n",
    "\n",
    "vertices = np.transpose(np.vstack((X, Y)))\n",
    "\n",
    "# construct the semi-lens structure using the above vertices\n",
    "semi_lens = td.Structure(\n",
    "    geometry=td.PolySlab(vertices=vertices, axis=2, slab_bounds=(0, t_wg)), medium=si\n",
    ")"
   ]
  },
  {
   "cell_type": "markdown",
   "id": "c08344ce",
   "metadata": {},
   "source": [
    "The simulation will be defined in a similar way as previou simulations. Since in this model, the output waveguide supports higher order modes, we add an additional [ModeMonitor](https://docs.flexcompute.com/projects/tidy3d/en/v1.9.0rc2/_autosummary/tidy3d.ModeMonitor.html) to investigate the mode composition at the output waveguide. Ideally, the fundamental TE mode should be dominant."
   ]
  },
  {
   "cell_type": "code",
   "execution_count": 21,
   "id": "e585a9ed",
   "metadata": {
    "execution": {
     "iopub.execute_input": "2023-02-16T20:43:51.016998Z",
     "iopub.status.busy": "2023-02-16T20:43:51.016837Z",
     "iopub.status.idle": "2023-02-16T20:43:51.037778Z",
     "shell.execute_reply": "2023-02-16T20:43:51.037183Z"
    }
   },
   "outputs": [],
   "source": [
    "# define the simulation domain size\n",
    "Lx = L_tot + 4 * lda0\n",
    "Ly = np.max(w_i) + 4 * lda0\n",
    "Lz = 10 * t_wg\n",
    "\n",
    "sim_size = (Lx, Ly, Lz)\n",
    "\n",
    "# add a mode source that launches the TE0 mode at the input waveguide\n",
    "mode_spec = td.ModeSpec(num_modes=5, target_neff=n_si)\n",
    "mode_source = td.ModeSource(\n",
    "    center=(-lda0, 0, t_wg / 2),\n",
    "    size=(0, 4 * w_0, 5 * t_wg),\n",
    "    source_time=td.GaussianPulse(freq0=freq0, fwidth=freq0 / 10),\n",
    "    direction=\"+\",\n",
    "    mode_spec=mode_spec,\n",
    "    mode_index=0,\n",
    ")\n",
    "\n",
    "# add a field monitor to visualize the field distribution at z=t_wg/2\n",
    "field_monitor = td.FieldMonitor(\n",
    "    center=(0, 0, t_wg / 2), size=(td.inf, td.inf, 0), freqs=[freq0], name=\"field\"\n",
    ")\n",
    "\n",
    "# add a flux monitor to measure transmission to the output waveguide\n",
    "flux_monitor = td.FluxMonitor(\n",
    "    center=(L_tot + 2 * lda0, 0, t_wg / 2), size=(0, 1.2 * w_6, 5 * t_wg), freqs=freqs, name=\"flux\"\n",
    ")\n",
    "\n",
    "# add a mode source to measure the mode composition at the output waveguide\n",
    "mode_monitor = td.ModeMonitor(\n",
    "    center=(L_tot + 2 * lda0, 0, t_wg / 2),\n",
    "    size=(0, 1.2 * w_6, 5 * t_wg),\n",
    "    freqs=freqs,\n",
    "    mode_spec=mode_spec,\n",
    "    name=\"mode\",\n",
    ")"
   ]
  },
  {
   "cell_type": "code",
   "execution_count": 22,
   "id": "ca27323f",
   "metadata": {
    "execution": {
     "iopub.execute_input": "2023-02-16T20:43:51.040127Z",
     "iopub.status.busy": "2023-02-16T20:43:51.039965Z",
     "iopub.status.idle": "2023-02-16T20:43:51.258129Z",
     "shell.execute_reply": "2023-02-16T20:43:51.257557Z"
    }
   },
   "outputs": [
    {
     "data": {
      "text/plain": [
       "<AxesSubplot: title={'center': 'cross section at z=0.13'}, xlabel='x', ylabel='y'>"
      ]
     },
     "execution_count": 22,
     "metadata": {},
     "output_type": "execute_result"
    },
    {
     "data": {
      "image/png": "[encoded data removed]",
      "text/plain": [
       "<Figure size 432x288 with 1 Axes>"
      ]
     },
     "metadata": {
      "needs_background": "light"
     },
     "output_type": "display_data"
    }
   ],
   "source": [
    "# define simulation\n",
    "sim = td.Simulation(\n",
    "    center=(L_tot / 2 + lda0 / 2, 0, t_wg / 2),\n",
    "    size=sim_size,\n",
    "    grid_spec=td.GridSpec.auto(min_steps_per_wvl=20, wavelength=lda0),\n",
    "    structures=[semi_lens, sub],\n",
    "    sources=[mode_source],\n",
    "    monitors=[field_monitor, flux_monitor, mode_monitor],\n",
    "    run_time=run_time,\n",
    "    boundary_spec=td.BoundarySpec.all_sides(boundary=td.PML()),\n",
    "    symmetry=(0, -1, 0),\n",
    ")\n",
    "\n",
    "# visualize the simulation setup\n",
    "sim.plot(z=t_wg / 2)"
   ]
  },
  {
   "cell_type": "markdown",
   "id": "537857f5",
   "metadata": {},
   "source": [
    "Submit the simulation to the server."
   ]
  },
  {
   "cell_type": "code",
   "execution_count": 23,
   "id": "4e4f954a",
   "metadata": {
    "execution": {
     "iopub.execute_input": "2023-02-16T20:43:51.260610Z",
     "iopub.status.busy": "2023-02-16T20:43:51.260282Z",
     "iopub.status.idle": "2023-02-16T20:56:32.937882Z",
     "shell.execute_reply": "2023-02-16T20:56:32.937296Z"
    }
   },
   "outputs": [
    {
     "data": {
      "application/vnd.jupyter.widget-view+json": {
       "model_id": "01006f72e5a546ec821ce730ccbb8e72",
       "version_major": 2,
       "version_minor": 0
      },
      "text/plain": [
       "Output()"
      ]
     },
     "metadata": {},
     "output_type": "display_data"
    },
    {
     "data": {
      "text/html": [
       "<pre style=\"white-space:pre;overflow-x:auto;line-height:normal;font-family:Menlo,'DejaVu Sans Mono',consolas,'Courier New',monospace\"></pre>\n"
      ],
      "text/plain": []
     },
     "metadata": {},
     "output_type": "display_data"
    },
    {
     "data": {
      "text/html": [
       "<pre style=\"white-space:pre;overflow-x:auto;line-height:normal;font-family:Menlo,'DejaVu Sans Mono',consolas,'Courier New',monospace\">\n",
       "</pre>\n"
      ],
      "text/plain": [
       "\n"
      ]
     },
     "metadata": {},
     "output_type": "display_data"
    },
    {
     "data": {
      "application/vnd.jupyter.widget-view+json": {
       "model_id": "",
       "version_major": 2,
       "version_minor": 0
      },
      "text/plain": [
       "Output()"
      ]
     },
     "metadata": {},
     "output_type": "display_data"
    },
    {
     "data": {
      "text/html": [
       "<pre style=\"white-space:pre;overflow-x:auto;line-height:normal;font-family:Menlo,'DejaVu Sans Mono',consolas,'Courier New',monospace\"></pre>\n"
      ],
      "text/plain": []
     },
     "metadata": {},
     "output_type": "display_data"
    },
    {
     "data": {
      "application/vnd.jupyter.widget-view+json": {
       "model_id": "3a692262e97a4632973c3e413a96253b",
       "version_major": 2,
       "version_minor": 0
      },
      "text/plain": [
       "Output()"
      ]
     },
     "metadata": {},
     "output_type": "display_data"
    },
    {
     "data": {
      "text/html": [
       "<pre style=\"white-space:pre;overflow-x:auto;line-height:normal;font-family:Menlo,'DejaVu Sans Mono',consolas,'Courier New',monospace\"></pre>\n"
      ],
      "text/plain": []
     },
     "metadata": {},
     "output_type": "display_data"
    },
    {
     "data": {
      "text/html": [
       "<pre style=\"white-space:pre;overflow-x:auto;line-height:normal;font-family:Menlo,'DejaVu Sans Mono',consolas,'Courier New',monospace\">\n",
       "</pre>\n"
      ],
      "text/plain": [
       "\n"
      ]
     },
     "metadata": {},
     "output_type": "display_data"
    },
    {
     "data": {
      "application/vnd.jupyter.widget-view+json": {
       "model_id": "",
       "version_major": 2,
       "version_minor": 0
      },
      "text/plain": [
       "Output()"
      ]
     },
     "metadata": {},
     "output_type": "display_data"
    },
    {
     "data": {
      "text/html": [
       "<pre style=\"white-space:pre;overflow-x:auto;line-height:normal;font-family:Menlo,'DejaVu Sans Mono',consolas,'Courier New',monospace\"></pre>\n"
      ],
      "text/plain": []
     },
     "metadata": {},
     "output_type": "display_data"
    },
    {
     "data": {
      "application/vnd.jupyter.widget-view+json": {
       "model_id": "2ad0cbf189f6453aac4a60db498d62f2",
       "version_major": 2,
       "version_minor": 0
      },
      "text/plain": [
       "Output()"
      ]
     },
     "metadata": {},
     "output_type": "display_data"
    },
    {
     "data": {
      "text/html": [
       "<pre style=\"white-space:pre;overflow-x:auto;line-height:normal;font-family:Menlo,'DejaVu Sans Mono',consolas,'Courier New',monospace\"></pre>\n"
      ],
      "text/plain": []
     },
     "metadata": {},
     "output_type": "display_data"
    },
    {
     "data": {
      "text/html": [
       "<pre style=\"white-space:pre;overflow-x:auto;line-height:normal;font-family:Menlo,'DejaVu Sans Mono',consolas,'Courier New',monospace\">\n",
       "</pre>\n"
      ],
      "text/plain": [
       "\n"
      ]
     },
     "metadata": {},
     "output_type": "display_data"
    }
   ],
   "source": [
    "job = web.Job(simulation=sim, task_name=\"semi_lens_beam_expander\")\n",
    "sim_data = job.run(path=\"data/simulation_data.hdf5\")"
   ]
  },
  {
   "cell_type": "markdown",
   "id": "a900c63a",
   "metadata": {},
   "source": [
    "Plot the field distribution."
   ]
  },
  {
   "cell_type": "code",
   "execution_count": 24,
   "id": "f260899d",
   "metadata": {
    "execution": {
     "iopub.execute_input": "2023-02-16T20:56:43.959210Z",
     "iopub.status.busy": "2023-02-16T20:56:43.959065Z",
     "iopub.status.idle": "2023-02-16T20:56:45.187008Z",
     "shell.execute_reply": "2023-02-16T20:56:45.186623Z"
    }
   },
   "outputs": [
    {
     "data": {
      "text/plain": [
       "<AxesSubplot: title={'center': 'cross section at z=0.13'}, xlabel='x', ylabel='y'>"
      ]
     },
     "execution_count": 24,
     "metadata": {},
     "output_type": "execute_result"
    },
    {
     "data": {
      "image/png": "[encoded data removed]",
      "text/plain": [
       "<Figure size 432x288 with 2 Axes>"
      ]
     },
     "metadata": {
      "needs_background": "light"
     },
     "output_type": "display_data"
    }
   ],
   "source": [
    "sim_data.plot_field(\"field\", \"Ey\", vmin=-30, vmax=30)"
   ]
  },
  {
   "cell_type": "markdown",
   "id": "5b902449",
   "metadata": {},
   "source": [
    "Lastly, plot the insertion loss and the mode composition at the output waveguide. The insertion loss is about -0.5 dB, much better than the linear taper of the same length.\n",
    "\n",
    "Due to the symmetry, the output power can only excite even TE modes. About 80% of the power is in the fundamental TE mode. The rest of the power is mostly in the TE2 mode."
   ]
  },
  {
   "cell_type": "code",
   "execution_count": 25,
   "id": "7a7065f2",
   "metadata": {
    "execution": {
     "iopub.execute_input": "2023-02-16T20:56:45.189092Z",
     "iopub.status.busy": "2023-02-16T20:56:45.188875Z",
     "iopub.status.idle": "2023-02-16T20:56:45.502280Z",
     "shell.execute_reply": "2023-02-16T20:56:45.501738Z"
    }
   },
   "outputs": [
    {
     "data": {
      "text/plain": [
       "<matplotlib.legend.Legend at 0x7fbdd12b8a90>"
      ]
     },
     "execution_count": 25,
     "metadata": {},
     "output_type": "execute_result"
    },
    {
     "data": {
      "image/png": "[encoded data removed]",
      "text/plain": [
       "<Figure size 720x360 with 2 Axes>"
      ]
     },
     "metadata": {
      "needs_background": "light"
     },
     "output_type": "display_data"
    }
   ],
   "source": [
    "f, (ax1, ax2) = plt.subplots(1, 2, tight_layout=True, figsize=(10, 5))\n",
    "T = sim_data[\"flux\"].flux\n",
    "\n",
    "plt.sca(ax1)\n",
    "plt.plot(ldas, 10 * np.log10(T))\n",
    "plt.xlim(1.5, 1.6)\n",
    "plt.ylim(-4, 0)\n",
    "plt.xlabel(\"Wavelength ($\\mu m$)\")\n",
    "plt.ylabel(\"Insertion loss (dB)\")\n",
    "\n",
    "plt.sca(ax2)\n",
    "mode_amp = sim_data[\"mode\"].amps.sel(direction=\"+\")\n",
    "mode_power = np.abs(mode_amp) ** 2 / T\n",
    "plt.plot(ldas, mode_power)\n",
    "plt.xlim(1.5, 1.6)\n",
    "plt.xlabel(\"Wavelength (nm)\")\n",
    "plt.ylabel(\"Power share at Port1 (%)\")\n",
    "plt.legend([\"TE0\", \"TE2\", \"TE4\", \"TE6\", \"TE8\"])"
   ]
  },
  {
   "cell_type": "code",
   "execution_count": null,
   "id": "fd077846",
   "metadata": {},
   "outputs": [],
   "source": []
  }
 ],
 "metadata": {
  "kernelspec": {
   "display_name": "Python 3 (ipykernel)",
   "language": "python",
   "name": "python3"
  },
  "language_info": {
   "codemirror_mode": {
    "name": "ipython",
    "version": 3
   },
   "file_extension": ".py",
   "mimetype": "text/x-python",
   "name": "python",
   "nbconvert_exporter": "python",
   "pygments_lexer": "ipython3",
   "version": "3.9.12"
  },
  "widgets": {
   "application/vnd.jupyter.widget-state+json": {
    "state": {
     "010b167dd0114e0eb467601b7806f876": {
      "model_module": "@jupyter-widgets/output",
      "model_module_version": "1.0.0",
      "model_name": "OutputModel",
      "state": {
       "_dom_classes": [],
       "_model_module": "@jupyter-widgets/output",
       "_model_module_version": "1.0.0",
       "_model_name": "OutputModel",
       "_view_count": null,
       "_view_module": "@jupyter-widgets/output",
       "_view_module_version": "1.0.0",
       "_view_name": "OutputView",
       "layout": "IPY_MODEL_9506f10ebc9c4b92873b92fccc3a68cb",
       "msg_id": "",
       "outputs": [
        {
         "data": {
          "text/html": "<pre style=\"white-space:pre;overflow-x:auto;line-height:normal;font-family:Menlo,'DejaVu Sans Mono',consolas,'Courier New',monospace\">% done (field decay = 9.06e-06) <span style=\"color: #f92672; text-decoration-color: #f92672\">━━━━━━━━━━━━━━━━━━━━━━━━━━━━━━━━━━━━━━</span><span style=\"color: #3a3a3a; text-decoration-color: #3a3a3a\">╺━</span> <span style=\"color: #800080; text-decoration-color: #800080\"> 96%</span> <span style=\"color: #008080; text-decoration-color: #008080\">0:00:12</span>\n</pre>\n",
          "text/plain": "% done (field decay = 9.06e-06) \u001b[38;2;249;38;114m━━━━━━━━━━━━━━━━━━━━━━━━━━━━━━━━━━━━━━\u001b[0m\u001b[38;5;237m╺\u001b[0m\u001b[38;5;237m━\u001b[0m \u001b[35m 96%\u001b[0m \u001b[36m0:00:12\u001b[0m\n"
         },
         "metadata": {},
         "output_type": "display_data"
        }
       ]
      }
     },
     "0248be7c6d974a1ea628bb0411b0bbd2": {
      "model_module": "@jupyter-widgets/output",
      "model_module_version": "1.0.0",
      "model_name": "OutputModel",
      "state": {
       "_dom_classes": [],
       "_model_module": "@jupyter-widgets/output",
       "_model_module_version": "1.0.0",
       "_model_name": "OutputModel",
       "_view_count": null,
       "_view_module": "@jupyter-widgets/output",
       "_view_module_version": "1.0.0",
       "_view_name": "OutputView",
       "layout": "IPY_MODEL_bf47a4c56a8f4ba1ad671846f3b1a361",
       "msg_id": "",
       "outputs": [
        {
         "data": {
          "text/html": "<pre style=\"white-space:pre;overflow-x:auto;line-height:normal;font-family:Menlo,'DejaVu Sans Mono',consolas,'Courier New',monospace\">% done (field decay = 8.10e-06) <span style=\"color: #f92672; text-decoration-color: #f92672\">━━━━━━━━━━━━━━━━━╸</span><span style=\"color: #3a3a3a; text-decoration-color: #3a3a3a\">━━━━━━━━━━━━━━━━━━━━━━</span> <span style=\"color: #800080; text-decoration-color: #800080\"> 44%</span> <span style=\"color: #008080; text-decoration-color: #008080\">0:01:41</span>\n</pre>\n",
          "text/plain": "% done (field decay = 8.10e-06) \u001b[38;2;249;38;114m━━━━━━━━━━━━━━━━━\u001b[0m\u001b[38;2;249;38;114m╸\u001b[0m\u001b[38;5;237m━━━━━━━━━━━━━━━━━━━━━━\u001b[0m \u001b[35m 44%\u001b[0m \u001b[36m0:01:41\u001b[0m\n"
         },
         "metadata": {},
         "output_type": "display_data"
        }
       ]
      }
     },
     "03e2b2d319e94939be15b67f88ef27cc": {
      "model_module": "@jupyter-widgets/base",
      "model_module_version": "1.2.0",
      "model_name": "LayoutModel",
      "state": {
       "_model_module": "@jupyter-widgets/base",
       "_model_module_version": "1.2.0",
       "_model_name": "LayoutModel",
       "_view_count": null,
       "_view_module": "@jupyter-widgets/base",
       "_view_module_version": "1.2.0",
       "_view_name": "LayoutView",
       "align_content": null,
       "align_items": null,
       "align_self": null,
       "border": null,
       "bottom": null,
       "display": null,
       "flex": null,
       "flex_flow": null,
       "grid_area": null,
       "grid_auto_columns": null,
       "grid_auto_flow": null,
       "grid_auto_rows": null,
       "grid_column": null,
       "grid_gap": null,
       "grid_row": null,
       "grid_template_areas": null,
       "grid_template_columns": null,
       "grid_template_rows": null,
       "height": null,
       "justify_content": null,
       "justify_items": null,
       "left": null,
       "margin": null,
       "max_height": null,
       "max_width": null,
       "min_height": null,
       "min_width": null,
       "object_fit": null,
       "object_position": null,
       "order": null,
       "overflow": null,
       "overflow_x": null,
       "overflow_y": null,
       "padding": null,
       "right": null,
       "top": null,
       "visibility": null,
       "width": null
      }
     },
     "06ef676d253046e89c61e547eb19d254": {
      "model_module": "@jupyter-widgets/output",
      "model_module_version": "1.0.0",
      "model_name": "OutputModel",
      "state": {
       "_dom_classes": [],
       "_model_module": "@jupyter-widgets/output",
       "_model_module_version": "1.0.0",
       "_model_name": "OutputModel",
       "_view_count": null,
       "_view_module": "@jupyter-widgets/output",
       "_view_module_version": "1.0.0",
       "_view_name": "OutputView",
       "layout": "IPY_MODEL_89f13181802e47d08adb9577788afaff",
       "msg_id": "",
       "outputs": [
        {
         "data": {
          "text/html": "<pre style=\"white-space:pre;overflow-x:auto;line-height:normal;font-family:Menlo,'DejaVu Sans Mono',consolas,'Courier New',monospace\"><span style=\"color: #008000; text-decoration-color: #008000\">🏃 </span> <span style=\"color: #008000; text-decoration-color: #008000; font-weight: bold\">Finishing 'luneburg_lens_taper'...</span>\n</pre>\n",
          "text/plain": "\u001b[32m🏃 \u001b[0m \u001b[1;32mFinishing 'luneburg_lens_taper'...\u001b[0m\n"
         },
         "metadata": {},
         "output_type": "display_data"
        }
       ]
      }
     },
     "08a6bd9e1d08425d87426b664ba92985": {
      "model_module": "@jupyter-widgets/output",
      "model_module_version": "1.0.0",
      "model_name": "OutputModel",
      "state": {
       "_dom_classes": [],
       "_model_module": "@jupyter-widgets/output",
       "_model_module_version": "1.0.0",
       "_model_name": "OutputModel",
       "_view_count": null,
       "_view_module": "@jupyter-widgets/output",
       "_view_module_version": "1.0.0",
       "_view_name": "OutputView",
       "layout": "IPY_MODEL_2e459d8837b44e2291ab0b2feb04ce47",
       "msg_id": "",
       "outputs": [
        {
         "data": {
          "text/html": "<pre style=\"white-space:pre;overflow-x:auto;line-height:normal;font-family:Menlo,'DejaVu Sans Mono',consolas,'Courier New',monospace\"><span style=\"color: #008000; text-decoration-color: #008000; font-weight: bold\">↓</span> <span style=\"color: #000080; text-decoration-color: #000080; font-weight: bold\">monitor_data.hdf5</span> <span style=\"color: #f92672; text-decoration-color: #f92672\">━━━━━━━━━━━━━━━━━━━━━━━━━━━━━╸</span> <span style=\"color: #800080; text-decoration-color: #800080\">99.6%</span> • <span style=\"color: #008000; text-decoration-color: #008000\">60.4/60.6 MB</span> • <span style=\"color: #800000; text-decoration-color: #800000\">44.9 MB/s</span> • <span style=\"color: #008080; text-decoration-color: #008080\">0:00:01</span>\n</pre>\n",
          "text/plain": "\u001b[1;32m↓\u001b[0m \u001b[1;34mmonitor_data.hdf5\u001b[0m \u001b[38;2;249;38;114m━━━━━━━━━━━━━━━━━━━━━━━━━━━━━\u001b[0m\u001b[38;2;249;38;114m╸\u001b[0m \u001b[35m99.6%\u001b[0m • \u001b[32m60.4/60.6 MB\u001b[0m • \u001b[31m44.9 MB/s\u001b[0m • \u001b[36m0:00:01\u001b[0m\n"
         },
         "metadata": {},
         "output_type": "display_data"
        }
       ]
      }
     },
     "09f2e1ff32f4418cae115baa402b1791": {
      "model_module": "@jupyter-widgets/base",
      "model_module_version": "1.2.0",
      "model_name": "LayoutModel",
      "state": {
       "_model_module": "@jupyter-widgets/base",
       "_model_module_version": "1.2.0",
       "_model_name": "LayoutModel",
       "_view_count": null,
       "_view_module": "@jupyter-widgets/base",
       "_view_module_version": "1.2.0",
       "_view_name": "LayoutView",
       "align_content": null,
       "align_items": null,
       "align_self": null,
       "border": null,
       "bottom": null,
       "display": null,
       "flex": null,
       "flex_flow": null,
       "grid_area": null,
       "grid_auto_columns": null,
       "grid_auto_flow": null,
       "grid_auto_rows": null,
       "grid_column": null,
       "grid_gap": null,
       "grid_row": null,
       "grid_template_areas": null,
       "grid_template_columns": null,
       "grid_template_rows": null,
       "height": null,
       "justify_content": null,
       "justify_items": null,
       "left": null,
       "margin": null,
       "max_height": null,
       "max_width": null,
       "min_height": null,
       "min_width": null,
       "object_fit": null,
       "object_position": null,
       "order": null,
       "overflow": null,
       "overflow_x": null,
       "overflow_y": null,
       "padding": null,
       "right": null,
       "top": null,
       "visibility": null,
       "width": null
      }
     },
     "2e459d8837b44e2291ab0b2feb04ce47": {
      "model_module": "@jupyter-widgets/base",
      "model_module_version": "1.2.0",
      "model_name": "LayoutModel",
      "state": {
       "_model_module": "@jupyter-widgets/base",
       "_model_module_version": "1.2.0",
       "_model_name": "LayoutModel",
       "_view_count": null,
       "_view_module": "@jupyter-widgets/base",
       "_view_module_version": "1.2.0",
       "_view_name": "LayoutView",
       "align_content": null,
       "align_items": null,
       "align_self": null,
       "border": null,
       "bottom": null,
       "display": null,
       "flex": null,
       "flex_flow": null,
       "grid_area": null,
       "grid_auto_columns": null,
       "grid_auto_flow": null,
       "grid_auto_rows": null,
       "grid_column": null,
       "grid_gap": null,
       "grid_row": null,
       "grid_template_areas": null,
       "grid_template_columns": null,
       "grid_template_rows": null,
       "height": null,
       "justify_content": null,
       "justify_items": null,
       "left": null,
       "margin": null,
       "max_height": null,
       "max_width": null,
       "min_height": null,
       "min_width": null,
       "object_fit": null,
       "object_position": null,
       "order": null,
       "overflow": null,
       "overflow_x": null,
       "overflow_y": null,
       "padding": null,
       "right": null,
       "top": null,
       "visibility": null,
       "width": null
      }
     },
     "315eaa3b0ec843a5b82a7fef99386719": {
      "model_module": "@jupyter-widgets/output",
      "model_module_version": "1.0.0",
      "model_name": "OutputModel",
      "state": {
       "_dom_classes": [],
       "_model_module": "@jupyter-widgets/output",
       "_model_module_version": "1.0.0",
       "_model_name": "OutputModel",
       "_view_count": null,
       "_view_module": "@jupyter-widgets/output",
       "_view_module_version": "1.0.0",
       "_view_name": "OutputView",
       "layout": "IPY_MODEL_f3f03c28c09749c7b3576dd6a45e48a9",
       "msg_id": "",
       "outputs": [
        {
         "data": {
          "text/html": "<pre style=\"white-space:pre;overflow-x:auto;line-height:normal;font-family:Menlo,'DejaVu Sans Mono',consolas,'Courier New',monospace\"><span style=\"color: #800000; text-decoration-color: #800000; font-weight: bold\">↑</span> <span style=\"color: #000080; text-decoration-color: #000080; font-weight: bold\">simulation.json</span> <span style=\"color: #729c1f; text-decoration-color: #729c1f\">━━━━━━━━━━━━━━━━━━━━━━━━━━━━━━━━━━━━━━━</span> <span style=\"color: #800080; text-decoration-color: #800080\">100.0%</span> • <span style=\"color: #008000; text-decoration-color: #008000\">41.3/41.3 kB</span> • <span style=\"color: #800000; text-decoration-color: #800000\">?</span> • <span style=\"color: #008080; text-decoration-color: #008080\">0:00:00</span>\n</pre>\n",
          "text/plain": "\u001b[1;31m↑\u001b[0m \u001b[1;34msimulation.json\u001b[0m \u001b[38;2;114;156;31m━━━━━━━━━━━━━━━━━━━━━━━━━━━━━━━━━━━━━━━\u001b[0m \u001b[35m100.0%\u001b[0m • \u001b[32m41.3/41.3 kB\u001b[0m • \u001b[31m?\u001b[0m • \u001b[36m0:00:00\u001b[0m\n"
         },
         "metadata": {},
         "output_type": "display_data"
        }
       ]
      }
     },
     "324d47a9d40c4a20a948ddd7d3a183b1": {
      "model_module": "@jupyter-widgets/base",
      "model_module_version": "1.2.0",
      "model_name": "LayoutModel",
      "state": {
       "_model_module": "@jupyter-widgets/base",
       "_model_module_version": "1.2.0",
       "_model_name": "LayoutModel",
       "_view_count": null,
       "_view_module": "@jupyter-widgets/base",
       "_view_module_version": "1.2.0",
       "_view_name": "LayoutView",
       "align_content": null,
       "align_items": null,
       "align_self": null,
       "border": null,
       "bottom": null,
       "display": null,
       "flex": null,
       "flex_flow": null,
       "grid_area": null,
       "grid_auto_columns": null,
       "grid_auto_flow": null,
       "grid_auto_rows": null,
       "grid_column": null,
       "grid_gap": null,
       "grid_row": null,
       "grid_template_areas": null,
       "grid_template_columns": null,
       "grid_template_rows": null,
       "height": null,
       "justify_content": null,
       "justify_items": null,
       "left": null,
       "margin": null,
       "max_height": null,
       "max_width": null,
       "min_height": null,
       "min_width": null,
       "object_fit": null,
       "object_position": null,
       "order": null,
       "overflow": null,
       "overflow_x": null,
       "overflow_y": null,
       "padding": null,
       "right": null,
       "top": null,
       "visibility": null,
       "width": null
      }
     },
     "3287a9cd9c6e4f67bd64189620f1c7b7": {
      "model_module": "@jupyter-widgets/output",
      "model_module_version": "1.0.0",
      "model_name": "OutputModel",
      "state": {
       "_dom_classes": [],
       "_model_module": "@jupyter-widgets/output",
       "_model_module_version": "1.0.0",
       "_model_name": "OutputModel",
       "_view_count": null,
       "_view_module": "@jupyter-widgets/output",
       "_view_module_version": "1.0.0",
       "_view_name": "OutputView",
       "layout": "IPY_MODEL_09f2e1ff32f4418cae115baa402b1791",
       "msg_id": "",
       "outputs": [
        {
         "data": {
          "text/html": "<pre style=\"white-space:pre;overflow-x:auto;line-height:normal;font-family:Menlo,'DejaVu Sans Mono',consolas,'Courier New',monospace\"><span style=\"color: #800000; text-decoration-color: #800000; font-weight: bold\">↑</span> <span style=\"color: #000080; text-decoration-color: #000080; font-weight: bold\">simulation.json</span> <span style=\"color: #3a3a3a; text-decoration-color: #3a3a3a\">━━━━━━━━━━━━━━━━━━━━━━━━━━━━━━━━━━━━━━━━</span> <span style=\"color: #800080; text-decoration-color: #800080\">0.0%</span> • <span style=\"color: #008000; text-decoration-color: #008000\">0.0/6.2 kB</span> • <span style=\"color: #800000; text-decoration-color: #800000\">?</span> • <span style=\"color: #008080; text-decoration-color: #008080\">-:--:--</span>\n</pre>\n",
          "text/plain": "\u001b[1;31m↑\u001b[0m \u001b[1;34msimulation.json\u001b[0m \u001b[38;5;237m━━━━━━━━━━━━━━━━━━━━━━━━━━━━━━━━━━━━━━━━\u001b[0m \u001b[35m0.0%\u001b[0m • \u001b[32m0.0/6.2 kB\u001b[0m • \u001b[31m?\u001b[0m • \u001b[36m-:--:--\u001b[0m\n"
         },
         "metadata": {},
         "output_type": "display_data"
        }
       ]
      }
     },
     "36eebed28b8a421cb629e5c2c3dc247e": {
      "model_module": "@jupyter-widgets/output",
      "model_module_version": "1.0.0",
      "model_name": "OutputModel",
      "state": {
       "_dom_classes": [],
       "_model_module": "@jupyter-widgets/output",
       "_model_module_version": "1.0.0",
       "_model_name": "OutputModel",
       "_view_count": null,
       "_view_module": "@jupyter-widgets/output",
       "_view_module_version": "1.0.0",
       "_view_name": "OutputView",
       "layout": "IPY_MODEL_537c2fdff7eb4b7eb386c958596f1f0e",
       "msg_id": "",
       "outputs": [
        {
         "data": {
          "text/html": "<pre style=\"white-space:pre;overflow-x:auto;line-height:normal;font-family:Menlo,'DejaVu Sans Mono',consolas,'Courier New',monospace\"><span style=\"color: #008000; text-decoration-color: #008000\">🏃 </span> <span style=\"color: #008000; text-decoration-color: #008000; font-weight: bold\">Finishing 'semi_lens_beam_expander'...</span>\n</pre>\n",
          "text/plain": "\u001b[32m🏃 \u001b[0m \u001b[1;32mFinishing 'semi_lens_beam_expander'...\u001b[0m\n"
         },
         "metadata": {},
         "output_type": "display_data"
        }
       ]
      }
     },
     "537c2fdff7eb4b7eb386c958596f1f0e": {
      "model_module": "@jupyter-widgets/base",
      "model_module_version": "1.2.0",
      "model_name": "LayoutModel",
      "state": {
       "_model_module": "@jupyter-widgets/base",
       "_model_module_version": "1.2.0",
       "_model_name": "LayoutModel",
       "_view_count": null,
       "_view_module": "@jupyter-widgets/base",
       "_view_module_version": "1.2.0",
       "_view_name": "LayoutView",
       "align_content": null,
       "align_items": null,
       "align_self": null,
       "border": null,
       "bottom": null,
       "display": null,
       "flex": null,
       "flex_flow": null,
       "grid_area": null,
       "grid_auto_columns": null,
       "grid_auto_flow": null,
       "grid_auto_rows": null,
       "grid_column": null,
       "grid_gap": null,
       "grid_row": null,
       "grid_template_areas": null,
       "grid_template_columns": null,
       "grid_template_rows": null,
       "height": null,
       "justify_content": null,
       "justify_items": null,
       "left": null,
       "margin": null,
       "max_height": null,
       "max_width": null,
       "min_height": null,
       "min_width": null,
       "object_fit": null,
       "object_position": null,
       "order": null,
       "overflow": null,
       "overflow_x": null,
       "overflow_y": null,
       "padding": null,
       "right": null,
       "top": null,
       "visibility": null,
       "width": null
      }
     },
     "579087b01eb24822b2eb421b6ff1ad34": {
      "model_module": "@jupyter-widgets/base",
      "model_module_version": "1.2.0",
      "model_name": "LayoutModel",
      "state": {
       "_model_module": "@jupyter-widgets/base",
       "_model_module_version": "1.2.0",
       "_model_name": "LayoutModel",
       "_view_count": null,
       "_view_module": "@jupyter-widgets/base",
       "_view_module_version": "1.2.0",
       "_view_name": "LayoutView",
       "align_content": null,
       "align_items": null,
       "align_self": null,
       "border": null,
       "bottom": null,
       "display": null,
       "flex": null,
       "flex_flow": null,
       "grid_area": null,
       "grid_auto_columns": null,
       "grid_auto_flow": null,
       "grid_auto_rows": null,
       "grid_column": null,
       "grid_gap": null,
       "grid_row": null,
       "grid_template_areas": null,
       "grid_template_columns": null,
       "grid_template_rows": null,
       "height": null,
       "justify_content": null,
       "justify_items": null,
       "left": null,
       "margin": null,
       "max_height": null,
       "max_width": null,
       "min_height": null,
       "min_width": null,
       "object_fit": null,
       "object_position": null,
       "order": null,
       "overflow": null,
       "overflow_x": null,
       "overflow_y": null,
       "padding": null,
       "right": null,
       "top": null,
       "visibility": null,
       "width": null
      }
     },
     "59660a7618224cc1a59fc6742e5fc010": {
      "model_module": "@jupyter-widgets/base",
      "model_module_version": "1.2.0",
      "model_name": "LayoutModel",
      "state": {
       "_model_module": "@jupyter-widgets/base",
       "_model_module_version": "1.2.0",
       "_model_name": "LayoutModel",
       "_view_count": null,
       "_view_module": "@jupyter-widgets/base",
       "_view_module_version": "1.2.0",
       "_view_name": "LayoutView",
       "align_content": null,
       "align_items": null,
       "align_self": null,
       "border": null,
       "bottom": null,
       "display": null,
       "flex": null,
       "flex_flow": null,
       "grid_area": null,
       "grid_auto_columns": null,
       "grid_auto_flow": null,
       "grid_auto_rows": null,
       "grid_column": null,
       "grid_gap": null,
       "grid_row": null,
       "grid_template_areas": null,
       "grid_template_columns": null,
       "grid_template_rows": null,
       "height": null,
       "justify_content": null,
       "justify_items": null,
       "left": null,
       "margin": null,
       "max_height": null,
       "max_width": null,
       "min_height": null,
       "min_width": null,
       "object_fit": null,
       "object_position": null,
       "order": null,
       "overflow": null,
       "overflow_x": null,
       "overflow_y": null,
       "padding": null,
       "right": null,
       "top": null,
       "visibility": null,
       "width": null
      }
     },
     "5c8dab07cb7b4abf95cb51e7c8f15f9a": {
      "model_module": "@jupyter-widgets/output",
      "model_module_version": "1.0.0",
      "model_name": "OutputModel",
      "state": {
       "_dom_classes": [],
       "_model_module": "@jupyter-widgets/output",
       "_model_module_version": "1.0.0",
       "_model_name": "OutputModel",
       "_view_count": null,
       "_view_module": "@jupyter-widgets/output",
       "_view_module_version": "1.0.0",
       "_view_name": "OutputView",
       "layout": "IPY_MODEL_324d47a9d40c4a20a948ddd7d3a183b1",
       "msg_id": "",
       "outputs": [
        {
         "data": {
          "text/html": "<pre style=\"white-space:pre;overflow-x:auto;line-height:normal;font-family:Menlo,'DejaVu Sans Mono',consolas,'Courier New',monospace\"><span style=\"color: #008000; text-decoration-color: #008000; font-weight: bold\">↓</span> <span style=\"color: #000080; text-decoration-color: #000080; font-weight: bold\">monitor_data.hdf5</span> <span style=\"color: #f92672; text-decoration-color: #f92672\">━━━━━━━━━━━━━━━━━━━━━━━━━━━━</span><span style=\"color: #3a3a3a; text-decoration-color: #3a3a3a\">╺━</span> <span style=\"color: #800080; text-decoration-color: #800080\">94.2%</span> • <span style=\"color: #008000; text-decoration-color: #008000\">29.6/31.4 MB</span> • <span style=\"color: #800000; text-decoration-color: #800000\">28.2 MB/s</span> • <span style=\"color: #008080; text-decoration-color: #008080\">0:00:01</span>\n</pre>\n",
          "text/plain": "\u001b[1;32m↓\u001b[0m \u001b[1;34mmonitor_data.hdf5\u001b[0m \u001b[38;2;249;38;114m━━━━━━━━━━━━━━━━━━━━━━━━━━━━\u001b[0m\u001b[38;5;237m╺\u001b[0m\u001b[38;5;237m━\u001b[0m \u001b[35m94.2%\u001b[0m • \u001b[32m29.6/31.4 MB\u001b[0m • \u001b[31m28.2 MB/s\u001b[0m • \u001b[36m0:00:01\u001b[0m\n"
         },
         "metadata": {},
         "output_type": "display_data"
        }
       ]
      }
     },
     "69336ba8beaf40b9a6a2bba99b534f80": {
      "model_module": "@jupyter-widgets/output",
      "model_module_version": "1.0.0",
      "model_name": "OutputModel",
      "state": {
       "_dom_classes": [],
       "_model_module": "@jupyter-widgets/output",
       "_model_module_version": "1.0.0",
       "_model_name": "OutputModel",
       "_view_count": null,
       "_view_module": "@jupyter-widgets/output",
       "_view_module_version": "1.0.0",
       "_view_name": "OutputView",
       "layout": "IPY_MODEL_99ce2876ed78467ba2c82d742695158a",
       "msg_id": "",
       "outputs": [
        {
         "data": {
          "text/html": "<pre style=\"white-space:pre;overflow-x:auto;line-height:normal;font-family:Menlo,'DejaVu Sans Mono',consolas,'Courier New',monospace\"><span style=\"color: #800000; text-decoration-color: #800000; font-weight: bold\">↑</span> <span style=\"color: #000080; text-decoration-color: #000080; font-weight: bold\">simulation.json</span> <span style=\"color: #3a3a3a; text-decoration-color: #3a3a3a\">━━━━━━━━━━━━━━━━━━━━━━━━━━━━━━━━━━━━━━━━</span> <span style=\"color: #800080; text-decoration-color: #800080\">0.0%</span> • <span style=\"color: #008000; text-decoration-color: #008000\">0.0/6.2 kB</span> • <span style=\"color: #800000; text-decoration-color: #800000\">?</span> • <span style=\"color: #008080; text-decoration-color: #008080\">-:--:--</span>\n</pre>\n",
          "text/plain": "\u001b[1;31m↑\u001b[0m \u001b[1;34msimulation.json\u001b[0m \u001b[38;5;237m━━━━━━━━━━━━━━━━━━━━━━━━━━━━━━━━━━━━━━━━\u001b[0m \u001b[35m0.0%\u001b[0m • \u001b[32m0.0/6.2 kB\u001b[0m • \u001b[31m?\u001b[0m • \u001b[36m-:--:--\u001b[0m\n"
         },
         "metadata": {},
         "output_type": "display_data"
        }
       ]
      }
     },
     "7330079e1c5440a4b8da065f8d1932d7": {
      "model_module": "@jupyter-widgets/output",
      "model_module_version": "1.0.0",
      "model_name": "OutputModel",
      "state": {
       "_dom_classes": [],
       "_model_module": "@jupyter-widgets/output",
       "_model_module_version": "1.0.0",
       "_model_name": "OutputModel",
       "_view_count": null,
       "_view_module": "@jupyter-widgets/output",
       "_view_module_version": "1.0.0",
       "_view_name": "OutputView",
       "layout": "IPY_MODEL_c4e3d4ecfa1245758276da69e37aeba5",
       "msg_id": "",
       "outputs": [
        {
         "data": {
          "text/html": "<pre style=\"white-space:pre;overflow-x:auto;line-height:normal;font-family:Menlo,'DejaVu Sans Mono',consolas,'Courier New',monospace\"><span style=\"color: #008000; text-decoration-color: #008000\">🚶 </span> <span style=\"color: #008000; text-decoration-color: #008000; font-weight: bold\">Starting 'semi_lens_beam_expander'...</span>\n</pre>\n",
          "text/plain": "\u001b[32m🚶 \u001b[0m \u001b[1;32mStarting 'semi_lens_beam_expander'...\u001b[0m\n"
         },
         "metadata": {},
         "output_type": "display_data"
        }
       ]
      }
     },
     "7c08ee0da1b64bb6aef4c3bd59cf2b22": {
      "model_module": "@jupyter-widgets/output",
      "model_module_version": "1.0.0",
      "model_name": "OutputModel",
      "state": {
       "_dom_classes": [],
       "_model_module": "@jupyter-widgets/output",
       "_model_module_version": "1.0.0",
       "_model_name": "OutputModel",
       "_view_count": null,
       "_view_module": "@jupyter-widgets/output",
       "_view_module_version": "1.0.0",
       "_view_name": "OutputView",
       "layout": "IPY_MODEL_a534439712cb4865adfebae4b720e3ea",
       "msg_id": "",
       "outputs": [
        {
         "data": {
          "text/html": "<pre style=\"white-space:pre;overflow-x:auto;line-height:normal;font-family:Menlo,'DejaVu Sans Mono',consolas,'Courier New',monospace\"><span style=\"color: #008000; text-decoration-color: #008000\">🏃 </span> <span style=\"color: #008000; text-decoration-color: #008000; font-weight: bold\">Starting 'luneburg_lens_taper'...</span>\n</pre>\n",
          "text/plain": "\u001b[32m🏃 \u001b[0m \u001b[1;32mStarting 'luneburg_lens_taper'...\u001b[0m\n"
         },
         "metadata": {},
         "output_type": "display_data"
        }
       ]
      }
     },
     "882209f284dd48758a2be9d7c272a011": {
      "model_module": "@jupyter-widgets/output",
      "model_module_version": "1.0.0",
      "model_name": "OutputModel",
      "state": {
       "_dom_classes": [],
       "_model_module": "@jupyter-widgets/output",
       "_model_module_version": "1.0.0",
       "_model_name": "OutputModel",
       "_view_count": null,
       "_view_module": "@jupyter-widgets/output",
       "_view_module_version": "1.0.0",
       "_view_name": "OutputView",
       "layout": "IPY_MODEL_f014fd34f04c46959a620b81d9711863",
       "msg_id": "",
       "outputs": [
        {
         "data": {
          "text/html": "<pre style=\"white-space:pre;overflow-x:auto;line-height:normal;font-family:Menlo,'DejaVu Sans Mono',consolas,'Courier New',monospace\"><span style=\"color: #008000; text-decoration-color: #008000; font-weight: bold\">↓</span> <span style=\"color: #000080; text-decoration-color: #000080; font-weight: bold\">monitor_data.hdf5</span> <span style=\"color: #f92672; text-decoration-color: #f92672\">━━━━━━━━━━━━━━━━━━━━━━━━</span><span style=\"color: #3a3a3a; text-decoration-color: #3a3a3a\">╺━━━━━━</span> <span style=\"color: #800080; text-decoration-color: #800080\">78.0%</span> • <span style=\"color: #008000; text-decoration-color: #008000\">8.4/10.8 MB</span> • <span style=\"color: #800000; text-decoration-color: #800000\">36.3 MB/s</span> • <span style=\"color: #008080; text-decoration-color: #008080\">0:00:01</span>\n</pre>\n",
          "text/plain": "\u001b[1;32m↓\u001b[0m \u001b[1;34mmonitor_data.hdf5\u001b[0m \u001b[38;2;249;38;114m━━━━━━━━━━━━━━━━━━━━━━━━\u001b[0m\u001b[38;5;237m╺\u001b[0m\u001b[38;5;237m━━━━━━\u001b[0m \u001b[35m78.0%\u001b[0m • \u001b[32m8.4/10.8 MB\u001b[0m • \u001b[31m36.3 MB/s\u001b[0m • \u001b[36m0:00:01\u001b[0m\n"
         },
         "metadata": {},
         "output_type": "display_data"
        }
       ]
      }
     },
     "89f13181802e47d08adb9577788afaff": {
      "model_module": "@jupyter-widgets/base",
      "model_module_version": "1.2.0",
      "model_name": "LayoutModel",
      "state": {
       "_model_module": "@jupyter-widgets/base",
       "_model_module_version": "1.2.0",
       "_model_name": "LayoutModel",
       "_view_count": null,
       "_view_module": "@jupyter-widgets/base",
       "_view_module_version": "1.2.0",
       "_view_name": "LayoutView",
       "align_content": null,
       "align_items": null,
       "align_self": null,
       "border": null,
       "bottom": null,
       "display": null,
       "flex": null,
       "flex_flow": null,
       "grid_area": null,
       "grid_auto_columns": null,
       "grid_auto_flow": null,
       "grid_auto_rows": null,
       "grid_column": null,
       "grid_gap": null,
       "grid_row": null,
       "grid_template_areas": null,
       "grid_template_columns": null,
       "grid_template_rows": null,
       "height": null,
       "justify_content": null,
       "justify_items": null,
       "left": null,
       "margin": null,
       "max_height": null,
       "max_width": null,
       "min_height": null,
       "min_width": null,
       "object_fit": null,
       "object_position": null,
       "order": null,
       "overflow": null,
       "overflow_x": null,
       "overflow_y": null,
       "padding": null,
       "right": null,
       "top": null,
       "visibility": null,
       "width": null
      }
     },
     "9506f10ebc9c4b92873b92fccc3a68cb": {
      "model_module": "@jupyter-widgets/base",
      "model_module_version": "1.2.0",
      "model_name": "LayoutModel",
      "state": {
       "_model_module": "@jupyter-widgets/base",
       "_model_module_version": "1.2.0",
       "_model_name": "LayoutModel",
       "_view_count": null,
       "_view_module": "@jupyter-widgets/base",
       "_view_module_version": "1.2.0",
       "_view_name": "LayoutView",
       "align_content": null,
       "align_items": null,
       "align_self": null,
       "border": null,
       "bottom": null,
       "display": null,
       "flex": null,
       "flex_flow": null,
       "grid_area": null,
       "grid_auto_columns": null,
       "grid_auto_flow": null,
       "grid_auto_rows": null,
       "grid_column": null,
       "grid_gap": null,
       "grid_row": null,
       "grid_template_areas": null,
       "grid_template_columns": null,
       "grid_template_rows": null,
       "height": null,
       "justify_content": null,
       "justify_items": null,
       "left": null,
       "margin": null,
       "max_height": null,
       "max_width": null,
       "min_height": null,
       "min_width": null,
       "object_fit": null,
       "object_position": null,
       "order": null,
       "overflow": null,
       "overflow_x": null,
       "overflow_y": null,
       "padding": null,
       "right": null,
       "top": null,
       "visibility": null,
       "width": null
      }
     },
     "99ce2876ed78467ba2c82d742695158a": {
      "model_module": "@jupyter-widgets/base",
      "model_module_version": "1.2.0",
      "model_name": "LayoutModel",
      "state": {
       "_model_module": "@jupyter-widgets/base",
       "_model_module_version": "1.2.0",
       "_model_name": "LayoutModel",
       "_view_count": null,
       "_view_module": "@jupyter-widgets/base",
       "_view_module_version": "1.2.0",
       "_view_name": "LayoutView",
       "align_content": null,
       "align_items": null,
       "align_self": null,
       "border": null,
       "bottom": null,
       "display": null,
       "flex": null,
       "flex_flow": null,
       "grid_area": null,
       "grid_auto_columns": null,
       "grid_auto_flow": null,
       "grid_auto_rows": null,
       "grid_column": null,
       "grid_gap": null,
       "grid_row": null,
       "grid_template_areas": null,
       "grid_template_columns": null,
       "grid_template_rows": null,
       "height": null,
       "justify_content": null,
       "justify_items": null,
       "left": null,
       "margin": null,
       "max_height": null,
       "max_width": null,
       "min_height": null,
       "min_width": null,
       "object_fit": null,
       "object_position": null,
       "order": null,
       "overflow": null,
       "overflow_x": null,
       "overflow_y": null,
       "padding": null,
       "right": null,
       "top": null,
       "visibility": null,
       "width": null
      }
     },
     "a534439712cb4865adfebae4b720e3ea": {
      "model_module": "@jupyter-widgets/base",
      "model_module_version": "1.2.0",
      "model_name": "LayoutModel",
      "state": {
       "_model_module": "@jupyter-widgets/base",
       "_model_module_version": "1.2.0",
       "_model_name": "LayoutModel",
       "_view_count": null,
       "_view_module": "@jupyter-widgets/base",
       "_view_module_version": "1.2.0",
       "_view_name": "LayoutView",
       "align_content": null,
       "align_items": null,
       "align_self": null,
       "border": null,
       "bottom": null,
       "display": null,
       "flex": null,
       "flex_flow": null,
       "grid_area": null,
       "grid_auto_columns": null,
       "grid_auto_flow": null,
       "grid_auto_rows": null,
       "grid_column": null,
       "grid_gap": null,
       "grid_row": null,
       "grid_template_areas": null,
       "grid_template_columns": null,
       "grid_template_rows": null,
       "height": null,
       "justify_content": null,
       "justify_items": null,
       "left": null,
       "margin": null,
       "max_height": null,
       "max_width": null,
       "min_height": null,
       "min_width": null,
       "object_fit": null,
       "object_position": null,
       "order": null,
       "overflow": null,
       "overflow_x": null,
       "overflow_y": null,
       "padding": null,
       "right": null,
       "top": null,
       "visibility": null,
       "width": null
      }
     },
     "abceb6bf52c44927a7b85e5cf4c5d0af": {
      "model_module": "@jupyter-widgets/base",
      "model_module_version": "1.2.0",
      "model_name": "LayoutModel",
      "state": {
       "_model_module": "@jupyter-widgets/base",
       "_model_module_version": "1.2.0",
       "_model_name": "LayoutModel",
       "_view_count": null,
       "_view_module": "@jupyter-widgets/base",
       "_view_module_version": "1.2.0",
       "_view_name": "LayoutView",
       "align_content": null,
       "align_items": null,
       "align_self": null,
       "border": null,
       "bottom": null,
       "display": null,
       "flex": null,
       "flex_flow": null,
       "grid_area": null,
       "grid_auto_columns": null,
       "grid_auto_flow": null,
       "grid_auto_rows": null,
       "grid_column": null,
       "grid_gap": null,
       "grid_row": null,
       "grid_template_areas": null,
       "grid_template_columns": null,
       "grid_template_rows": null,
       "height": null,
       "justify_content": null,
       "justify_items": null,
       "left": null,
       "margin": null,
       "max_height": null,
       "max_width": null,
       "min_height": null,
       "min_width": null,
       "object_fit": null,
       "object_position": null,
       "order": null,
       "overflow": null,
       "overflow_x": null,
       "overflow_y": null,
       "padding": null,
       "right": null,
       "top": null,
       "visibility": null,
       "width": null
      }
     },
     "aef1fcc6ab884d629baf05bec8730bc6": {
      "model_module": "@jupyter-widgets/base",
      "model_module_version": "1.2.0",
      "model_name": "LayoutModel",
      "state": {
       "_model_module": "@jupyter-widgets/base",
       "_model_module_version": "1.2.0",
       "_model_name": "LayoutModel",
       "_view_count": null,
       "_view_module": "@jupyter-widgets/base",
       "_view_module_version": "1.2.0",
       "_view_name": "LayoutView",
       "align_content": null,
       "align_items": null,
       "align_self": null,
       "border": null,
       "bottom": null,
       "display": null,
       "flex": null,
       "flex_flow": null,
       "grid_area": null,
       "grid_auto_columns": null,
       "grid_auto_flow": null,
       "grid_auto_rows": null,
       "grid_column": null,
       "grid_gap": null,
       "grid_row": null,
       "grid_template_areas": null,
       "grid_template_columns": null,
       "grid_template_rows": null,
       "height": null,
       "justify_content": null,
       "justify_items": null,
       "left": null,
       "margin": null,
       "max_height": null,
       "max_width": null,
       "min_height": null,
       "min_width": null,
       "object_fit": null,
       "object_position": null,
       "order": null,
       "overflow": null,
       "overflow_x": null,
       "overflow_y": null,
       "padding": null,
       "right": null,
       "top": null,
       "visibility": null,
       "width": null
      }
     },
     "b02578577de84a5e916a1f964fd2ccc5": {
      "model_module": "@jupyter-widgets/output",
      "model_module_version": "1.0.0",
      "model_name": "OutputModel",
      "state": {
       "_dom_classes": [],
       "_model_module": "@jupyter-widgets/output",
       "_model_module_version": "1.0.0",
       "_model_name": "OutputModel",
       "_view_count": null,
       "_view_module": "@jupyter-widgets/output",
       "_view_module_version": "1.0.0",
       "_view_name": "OutputView",
       "layout": "IPY_MODEL_579087b01eb24822b2eb421b6ff1ad34",
       "msg_id": "",
       "outputs": [
        {
         "data": {
          "text/html": "<pre style=\"white-space:pre;overflow-x:auto;line-height:normal;font-family:Menlo,'DejaVu Sans Mono',consolas,'Courier New',monospace\"><span style=\"color: #008000; text-decoration-color: #008000; font-weight: bold\">↓</span> <span style=\"color: #000080; text-decoration-color: #000080; font-weight: bold\">monitor_data.hdf5</span> <span style=\"color: #729c1f; text-decoration-color: #729c1f\">━━━━━━━━━━━━━━━━━━━━━━━━━━━━━</span> <span style=\"color: #800080; text-decoration-color: #800080\">100.0%</span> • <span style=\"color: #008000; text-decoration-color: #008000\">13.3/13.3 MB</span> • <span style=\"color: #800000; text-decoration-color: #800000\">23.0 MB/s</span> • <span style=\"color: #008080; text-decoration-color: #008080\">0:00:00</span>\n</pre>\n",
          "text/plain": "\u001b[1;32m↓\u001b[0m \u001b[1;34mmonitor_data.hdf5\u001b[0m \u001b[38;2;114;156;31m━━━━━━━━━━━━━━━━━━━━━━━━━━━━━\u001b[0m \u001b[35m100.0%\u001b[0m • \u001b[32m13.3/13.3 MB\u001b[0m • \u001b[31m23.0 MB/s\u001b[0m • \u001b[36m0:00:00\u001b[0m\n"
         },
         "metadata": {},
         "output_type": "display_data"
        }
       ]
      }
     },
     "b0b53fe9ddac4573b1577157d0d58c41": {
      "model_module": "@jupyter-widgets/output",
      "model_module_version": "1.0.0",
      "model_name": "OutputModel",
      "state": {
       "_dom_classes": [],
       "_model_module": "@jupyter-widgets/output",
       "_model_module_version": "1.0.0",
       "_model_name": "OutputModel",
       "_view_count": null,
       "_view_module": "@jupyter-widgets/output",
       "_view_module_version": "1.0.0",
       "_view_name": "OutputView",
       "layout": "IPY_MODEL_03e2b2d319e94939be15b67f88ef27cc",
       "msg_id": "",
       "outputs": [
        {
         "data": {
          "text/html": "<pre style=\"white-space:pre;overflow-x:auto;line-height:normal;font-family:Menlo,'DejaVu Sans Mono',consolas,'Courier New',monospace\"><span style=\"color: #008000; text-decoration-color: #008000; font-weight: bold\">↓</span> <span style=\"color: #000080; text-decoration-color: #000080; font-weight: bold\">monitor_data.hdf5</span> <span style=\"color: #f92672; text-decoration-color: #f92672\">━━━━━━━━━━━━━━━━━━━━━━━━━╸</span><span style=\"color: #3a3a3a; text-decoration-color: #3a3a3a\">━━━━</span> <span style=\"color: #800080; text-decoration-color: #800080\">86.6%</span> • <span style=\"color: #008000; text-decoration-color: #008000\">12.1/13.9 MB</span> • <span style=\"color: #800000; text-decoration-color: #800000\">29.4 MB/s</span> • <span style=\"color: #008080; text-decoration-color: #008080\">0:00:01</span>\n</pre>\n",
          "text/plain": "\u001b[1;32m↓\u001b[0m \u001b[1;34mmonitor_data.hdf5\u001b[0m \u001b[38;2;249;38;114m━━━━━━━━━━━━━━━━━━━━━━━━━\u001b[0m\u001b[38;2;249;38;114m╸\u001b[0m\u001b[38;5;237m━━━━\u001b[0m \u001b[35m86.6%\u001b[0m • \u001b[32m12.1/13.9 MB\u001b[0m • \u001b[31m29.4 MB/s\u001b[0m • \u001b[36m0:00:01\u001b[0m\n"
         },
         "metadata": {},
         "output_type": "display_data"
        }
       ]
      }
     },
     "b7415c4341184e3e90f190e3d5ec729e": {
      "model_module": "@jupyter-widgets/base",
      "model_module_version": "1.2.0",
      "model_name": "LayoutModel",
      "state": {
       "_model_module": "@jupyter-widgets/base",
       "_model_module_version": "1.2.0",
       "_model_name": "LayoutModel",
       "_view_count": null,
       "_view_module": "@jupyter-widgets/base",
       "_view_module_version": "1.2.0",
       "_view_name": "LayoutView",
       "align_content": null,
       "align_items": null,
       "align_self": null,
       "border": null,
       "bottom": null,
       "display": null,
       "flex": null,
       "flex_flow": null,
       "grid_area": null,
       "grid_auto_columns": null,
       "grid_auto_flow": null,
       "grid_auto_rows": null,
       "grid_column": null,
       "grid_gap": null,
       "grid_row": null,
       "grid_template_areas": null,
       "grid_template_columns": null,
       "grid_template_rows": null,
       "height": null,
       "justify_content": null,
       "justify_items": null,
       "left": null,
       "margin": null,
       "max_height": null,
       "max_width": null,
       "min_height": null,
       "min_width": null,
       "object_fit": null,
       "object_position": null,
       "order": null,
       "overflow": null,
       "overflow_x": null,
       "overflow_y": null,
       "padding": null,
       "right": null,
       "top": null,
       "visibility": null,
       "width": null
      }
     },
     "be6087a2b1a14e909009b3a6907142f1": {
      "model_module": "@jupyter-widgets/base",
      "model_module_version": "1.2.0",
      "model_name": "LayoutModel",
      "state": {
       "_model_module": "@jupyter-widgets/base",
       "_model_module_version": "1.2.0",
       "_model_name": "LayoutModel",
       "_view_count": null,
       "_view_module": "@jupyter-widgets/base",
       "_view_module_version": "1.2.0",
       "_view_name": "LayoutView",
       "align_content": null,
       "align_items": null,
       "align_self": null,
       "border": null,
       "bottom": null,
       "display": null,
       "flex": null,
       "flex_flow": null,
       "grid_area": null,
       "grid_auto_columns": null,
       "grid_auto_flow": null,
       "grid_auto_rows": null,
       "grid_column": null,
       "grid_gap": null,
       "grid_row": null,
       "grid_template_areas": null,
       "grid_template_columns": null,
       "grid_template_rows": null,
       "height": null,
       "justify_content": null,
       "justify_items": null,
       "left": null,
       "margin": null,
       "max_height": null,
       "max_width": null,
       "min_height": null,
       "min_width": null,
       "object_fit": null,
       "object_position": null,
       "order": null,
       "overflow": null,
       "overflow_x": null,
       "overflow_y": null,
       "padding": null,
       "right": null,
       "top": null,
       "visibility": null,
       "width": null
      }
     },
     "bf47a4c56a8f4ba1ad671846f3b1a361": {
      "model_module": "@jupyter-widgets/base",
      "model_module_version": "1.2.0",
      "model_name": "LayoutModel",
      "state": {
       "_model_module": "@jupyter-widgets/base",
       "_model_module_version": "1.2.0",
       "_model_name": "LayoutModel",
       "_view_count": null,
       "_view_module": "@jupyter-widgets/base",
       "_view_module_version": "1.2.0",
       "_view_name": "LayoutView",
       "align_content": null,
       "align_items": null,
       "align_self": null,
       "border": null,
       "bottom": null,
       "display": null,
       "flex": null,
       "flex_flow": null,
       "grid_area": null,
       "grid_auto_columns": null,
       "grid_auto_flow": null,
       "grid_auto_rows": null,
       "grid_column": null,
       "grid_gap": null,
       "grid_row": null,
       "grid_template_areas": null,
       "grid_template_columns": null,
       "grid_template_rows": null,
       "height": null,
       "justify_content": null,
       "justify_items": null,
       "left": null,
       "margin": null,
       "max_height": null,
       "max_width": null,
       "min_height": null,
       "min_width": null,
       "object_fit": null,
       "object_position": null,
       "order": null,
       "overflow": null,
       "overflow_x": null,
       "overflow_y": null,
       "padding": null,
       "right": null,
       "top": null,
       "visibility": null,
       "width": null
      }
     },
     "c4e3d4ecfa1245758276da69e37aeba5": {
      "model_module": "@jupyter-widgets/base",
      "model_module_version": "1.2.0",
      "model_name": "LayoutModel",
      "state": {
       "_model_module": "@jupyter-widgets/base",
       "_model_module_version": "1.2.0",
       "_model_name": "LayoutModel",
       "_view_count": null,
       "_view_module": "@jupyter-widgets/base",
       "_view_module_version": "1.2.0",
       "_view_name": "LayoutView",
       "align_content": null,
       "align_items": null,
       "align_self": null,
       "border": null,
       "bottom": null,
       "display": null,
       "flex": null,
       "flex_flow": null,
       "grid_area": null,
       "grid_auto_columns": null,
       "grid_auto_flow": null,
       "grid_auto_rows": null,
       "grid_column": null,
       "grid_gap": null,
       "grid_row": null,
       "grid_template_areas": null,
       "grid_template_columns": null,
       "grid_template_rows": null,
       "height": null,
       "justify_content": null,
       "justify_items": null,
       "left": null,
       "margin": null,
       "max_height": null,
       "max_width": null,
       "min_height": null,
       "min_width": null,
       "object_fit": null,
       "object_position": null,
       "order": null,
       "overflow": null,
       "overflow_x": null,
       "overflow_y": null,
       "padding": null,
       "right": null,
       "top": null,
       "visibility": null,
       "width": null
      }
     },
     "cdf6b051ccba4c669e63933addeed734": {
      "model_module": "@jupyter-widgets/output",
      "model_module_version": "1.0.0",
      "model_name": "OutputModel",
      "state": {
       "_dom_classes": [],
       "_model_module": "@jupyter-widgets/output",
       "_model_module_version": "1.0.0",
       "_model_name": "OutputModel",
       "_view_count": null,
       "_view_module": "@jupyter-widgets/output",
       "_view_module_version": "1.0.0",
       "_view_name": "OutputView",
       "layout": "IPY_MODEL_abceb6bf52c44927a7b85e5cf4c5d0af",
       "msg_id": "",
       "outputs": [
        {
         "data": {
          "text/html": "<pre style=\"white-space:pre;overflow-x:auto;line-height:normal;font-family:Menlo,'DejaVu Sans Mono',consolas,'Courier New',monospace\"><span style=\"color: #800000; text-decoration-color: #800000; font-weight: bold\">↑</span> <span style=\"color: #000080; text-decoration-color: #000080; font-weight: bold\">simulation.json</span> <span style=\"color: #3a3a3a; text-decoration-color: #3a3a3a\">━━━━━━━━━━━━━━━━━━━━━━━━━━━━━━━━━━━━━━━━</span> <span style=\"color: #800080; text-decoration-color: #800080\">0.0%</span> • <span style=\"color: #008000; text-decoration-color: #008000\">0.0/6.3 kB</span> • <span style=\"color: #800000; text-decoration-color: #800000\">?</span> • <span style=\"color: #008080; text-decoration-color: #008080\">-:--:--</span>\n</pre>\n",
          "text/plain": "\u001b[1;31m↑\u001b[0m \u001b[1;34msimulation.json\u001b[0m \u001b[38;5;237m━━━━━━━━━━━━━━━━━━━━━━━━━━━━━━━━━━━━━━━━\u001b[0m \u001b[35m0.0%\u001b[0m • \u001b[32m0.0/6.3 kB\u001b[0m • \u001b[31m?\u001b[0m • \u001b[36m-:--:--\u001b[0m\n"
         },
         "metadata": {},
         "output_type": "display_data"
        }
       ]
      }
     },
     "d59eb9ae7558436cbbf425544659fdb6": {
      "model_module": "@jupyter-widgets/output",
      "model_module_version": "1.0.0",
      "model_name": "OutputModel",
      "state": {
       "_dom_classes": [],
       "_model_module": "@jupyter-widgets/output",
       "_model_module_version": "1.0.0",
       "_model_name": "OutputModel",
       "_view_count": null,
       "_view_module": "@jupyter-widgets/output",
       "_view_module_version": "1.0.0",
       "_view_name": "OutputView",
       "layout": "IPY_MODEL_be6087a2b1a14e909009b3a6907142f1",
       "msg_id": "",
       "outputs": [
        {
         "data": {
          "text/html": "<pre style=\"white-space:pre;overflow-x:auto;line-height:normal;font-family:Menlo,'DejaVu Sans Mono',consolas,'Courier New',monospace\"><span style=\"color: #800000; text-decoration-color: #800000; font-weight: bold\">↑</span> <span style=\"color: #000080; text-decoration-color: #000080; font-weight: bold\">simulation.json</span> <span style=\"color: #729c1f; text-decoration-color: #729c1f\">━━━━━━━━━━━━━━━━━━━━━━━━━━━━━━━━━━━━━━━</span> <span style=\"color: #800080; text-decoration-color: #800080\">100.0%</span> • <span style=\"color: #008000; text-decoration-color: #008000\">38.0/38.0 kB</span> • <span style=\"color: #800000; text-decoration-color: #800000\">?</span> • <span style=\"color: #008080; text-decoration-color: #008080\">0:00:00</span>\n</pre>\n",
          "text/plain": "\u001b[1;31m↑\u001b[0m \u001b[1;34msimulation.json\u001b[0m \u001b[38;2;114;156;31m━━━━━━━━━━━━━━━━━━━━━━━━━━━━━━━━━━━━━━━\u001b[0m \u001b[35m100.0%\u001b[0m • \u001b[32m38.0/38.0 kB\u001b[0m • \u001b[31m?\u001b[0m • \u001b[36m0:00:00\u001b[0m\n"
         },
         "metadata": {},
         "output_type": "display_data"
        }
       ]
      }
     },
     "e19953f403fe42d3a13ee1ae4a0e61d6": {
      "model_module": "@jupyter-widgets/output",
      "model_module_version": "1.0.0",
      "model_name": "OutputModel",
      "state": {
       "_dom_classes": [],
       "_model_module": "@jupyter-widgets/output",
       "_model_module_version": "1.0.0",
       "_model_name": "OutputModel",
       "_view_count": null,
       "_view_module": "@jupyter-widgets/output",
       "_view_module_version": "1.0.0",
       "_view_name": "OutputView",
       "layout": "IPY_MODEL_aef1fcc6ab884d629baf05bec8730bc6",
       "msg_id": "",
       "outputs": [
        {
         "data": {
          "text/html": "<pre style=\"white-space:pre;overflow-x:auto;line-height:normal;font-family:Menlo,'DejaVu Sans Mono',consolas,'Courier New',monospace\"><span style=\"color: #008000; text-decoration-color: #008000; font-weight: bold\">↓</span> <span style=\"color: #000080; text-decoration-color: #000080; font-weight: bold\">monitor_data.hdf5</span> <span style=\"color: #f92672; text-decoration-color: #f92672\">━━━━━━━━━━━━━━━━━━━━━━━━━━━━━━</span><span style=\"color: #3a3a3a; text-decoration-color: #3a3a3a\">╺━</span> <span style=\"color: #800080; text-decoration-color: #800080\">94.1%</span> • <span style=\"color: #008000; text-decoration-color: #008000\">7.6/8.1 MB</span> • <span style=\"color: #800000; text-decoration-color: #800000\">27.7 MB/s</span> • <span style=\"color: #008080; text-decoration-color: #008080\">0:00:01</span>\n</pre>\n",
          "text/plain": "\u001b[1;32m↓\u001b[0m \u001b[1;34mmonitor_data.hdf5\u001b[0m \u001b[38;2;249;38;114m━━━━━━━━━━━━━━━━━━━━━━━━━━━━━━\u001b[0m\u001b[38;5;237m╺\u001b[0m\u001b[38;5;237m━\u001b[0m \u001b[35m94.1%\u001b[0m • \u001b[32m7.6/8.1 MB\u001b[0m • \u001b[31m27.7 MB/s\u001b[0m • \u001b[36m0:00:01\u001b[0m\n"
         },
         "metadata": {},
         "output_type": "display_data"
        }
       ]
      }
     },
     "e2e9929c7c03414a9a43d4fb0e2bb3b6": {
      "model_module": "@jupyter-widgets/output",
      "model_module_version": "1.0.0",
      "model_name": "OutputModel",
      "state": {
       "_dom_classes": [],
       "_model_module": "@jupyter-widgets/output",
       "_model_module_version": "1.0.0",
       "_model_name": "OutputModel",
       "_view_count": null,
       "_view_module": "@jupyter-widgets/output",
       "_view_module_version": "1.0.0",
       "_view_name": "OutputView",
       "layout": "IPY_MODEL_59660a7618224cc1a59fc6742e5fc010",
       "msg_id": "",
       "outputs": [
        {
         "data": {
          "text/html": "<pre style=\"white-space:pre;overflow-x:auto;line-height:normal;font-family:Menlo,'DejaVu Sans Mono',consolas,'Courier New',monospace\">L_t=10: status = success  <span style=\"color: #729c1f; text-decoration-color: #729c1f\">━━━━━━━━━━━━━━━━━━━━━━━━━━━━━━━━━━━━━━━━</span> <span style=\"color: #800080; text-decoration-color: #800080\">100%</span> <span style=\"color: #008080; text-decoration-color: #008080\">0:00:00</span>\nL_t=20: status = success  <span style=\"color: #729c1f; text-decoration-color: #729c1f\">━━━━━━━━━━━━━━━━━━━━━━━━━━━━━━━━━━━━━━━━</span> <span style=\"color: #800080; text-decoration-color: #800080\">100%</span> <span style=\"color: #008080; text-decoration-color: #008080\">0:00:00</span>\nL_t=50: status = success  <span style=\"color: #729c1f; text-decoration-color: #729c1f\">━━━━━━━━━━━━━━━━━━━━━━━━━━━━━━━━━━━━━━━━</span> <span style=\"color: #800080; text-decoration-color: #800080\">100%</span> <span style=\"color: #008080; text-decoration-color: #008080\">0:00:00</span>\nL_t=100: status = running <span style=\"color: #f92672; text-decoration-color: #f92672\">━━━━━━━━━━━━━━━━━━━━━━╸</span><span style=\"color: #3a3a3a; text-decoration-color: #3a3a3a\">━━━━━━━━━━━━━━━━━</span> <span style=\"color: #800080; text-decoration-color: #800080\"> 57%</span> <span style=\"color: #008080; text-decoration-color: #008080\">-:--:--</span>\n</pre>\n",
          "text/plain": "L_t=10: status = success  \u001b[38;2;114;156;31m━━━━━━━━━━━━━━━━━━━━━━━━━━━━━━━━━━━━━━━━\u001b[0m \u001b[35m100%\u001b[0m \u001b[36m0:00:00\u001b[0m\nL_t=20: status = success  \u001b[38;2;114;156;31m━━━━━━━━━━━━━━━━━━━━━━━━━━━━━━━━━━━━━━━━\u001b[0m \u001b[35m100%\u001b[0m \u001b[36m0:00:00\u001b[0m\nL_t=50: status = success  \u001b[38;2;114;156;31m━━━━━━━━━━━━━━━━━━━━━━━━━━━━━━━━━━━━━━━━\u001b[0m \u001b[35m100%\u001b[0m \u001b[36m0:00:00\u001b[0m\nL_t=100: status = running \u001b[38;2;249;38;114m━━━━━━━━━━━━━━━━━━━━━━\u001b[0m\u001b[38;2;249;38;114m╸\u001b[0m\u001b[38;5;237m━━━━━━━━━━━━━━━━━\u001b[0m \u001b[35m 57%\u001b[0m \u001b[36m-:--:--\u001b[0m\n"
         },
         "metadata": {},
         "output_type": "display_data"
        }
       ]
      }
     },
     "f014fd34f04c46959a620b81d9711863": {
      "model_module": "@jupyter-widgets/base",
      "model_module_version": "1.2.0",
      "model_name": "LayoutModel",
      "state": {
       "_model_module": "@jupyter-widgets/base",
       "_model_module_version": "1.2.0",
       "_model_name": "LayoutModel",
       "_view_count": null,
       "_view_module": "@jupyter-widgets/base",
       "_view_module_version": "1.2.0",
       "_view_name": "LayoutView",
       "align_content": null,
       "align_items": null,
       "align_self": null,
       "border": null,
       "bottom": null,
       "display": null,
       "flex": null,
       "flex_flow": null,
       "grid_area": null,
       "grid_auto_columns": null,
       "grid_auto_flow": null,
       "grid_auto_rows": null,
       "grid_column": null,
       "grid_gap": null,
       "grid_row": null,
       "grid_template_areas": null,
       "grid_template_columns": null,
       "grid_template_rows": null,
       "height": null,
       "justify_content": null,
       "justify_items": null,
       "left": null,
       "margin": null,
       "max_height": null,
       "max_width": null,
       "min_height": null,
       "min_width": null,
       "object_fit": null,
       "object_position": null,
       "order": null,
       "overflow": null,
       "overflow_x": null,
       "overflow_y": null,
       "padding": null,
       "right": null,
       "top": null,
       "visibility": null,
       "width": null
      }
     },
     "f3f03c28c09749c7b3576dd6a45e48a9": {
      "model_module": "@jupyter-widgets/base",
      "model_module_version": "1.2.0",
      "model_name": "LayoutModel",
      "state": {
       "_model_module": "@jupyter-widgets/base",
       "_model_module_version": "1.2.0",
       "_model_name": "LayoutModel",
       "_view_count": null,
       "_view_module": "@jupyter-widgets/base",
       "_view_module_version": "1.2.0",
       "_view_name": "LayoutView",
       "align_content": null,
       "align_items": null,
       "align_self": null,
       "border": null,
       "bottom": null,
       "display": null,
       "flex": null,
       "flex_flow": null,
       "grid_area": null,
       "grid_auto_columns": null,
       "grid_auto_flow": null,
       "grid_auto_rows": null,
       "grid_column": null,
       "grid_gap": null,
       "grid_row": null,
       "grid_template_areas": null,
       "grid_template_columns": null,
       "grid_template_rows": null,
       "height": null,
       "justify_content": null,
       "justify_items": null,
       "left": null,
       "margin": null,
       "max_height": null,
       "max_width": null,
       "min_height": null,
       "min_width": null,
       "object_fit": null,
       "object_position": null,
       "order": null,
       "overflow": null,
       "overflow_x": null,
       "overflow_y": null,
       "padding": null,
       "right": null,
       "top": null,
       "visibility": null,
       "width": null
      }
     },
     "fcf47b5d43fa48b781af550199179eaf": {
      "model_module": "@jupyter-widgets/output",
      "model_module_version": "1.0.0",
      "model_name": "OutputModel",
      "state": {
       "_dom_classes": [],
       "_model_module": "@jupyter-widgets/output",
       "_model_module_version": "1.0.0",
       "_model_name": "OutputModel",
       "_view_count": null,
       "_view_module": "@jupyter-widgets/output",
       "_view_module_version": "1.0.0",
       "_view_name": "OutputView",
       "layout": "IPY_MODEL_b7415c4341184e3e90f190e3d5ec729e",
       "msg_id": "",
       "outputs": [
        {
         "data": {
          "text/html": "<pre style=\"white-space:pre;overflow-x:auto;line-height:normal;font-family:Menlo,'DejaVu Sans Mono',consolas,'Courier New',monospace\"><span style=\"color: #800000; text-decoration-color: #800000; font-weight: bold\">↑</span> <span style=\"color: #000080; text-decoration-color: #000080; font-weight: bold\">simulation.json</span> <span style=\"color: #3a3a3a; text-decoration-color: #3a3a3a\">━━━━━━━━━━━━━━━━━━━━━━━━━━━━━━━━━━━━━━━━</span> <span style=\"color: #800080; text-decoration-color: #800080\">0.0%</span> • <span style=\"color: #008000; text-decoration-color: #008000\">0.0/6.2 kB</span> • <span style=\"color: #800000; text-decoration-color: #800000\">?</span> • <span style=\"color: #008080; text-decoration-color: #008080\">-:--:--</span>\n</pre>\n",
          "text/plain": "\u001b[1;31m↑\u001b[0m \u001b[1;34msimulation.json\u001b[0m \u001b[38;5;237m━━━━━━━━━━━━━━━━━━━━━━━━━━━━━━━━━━━━━━━━\u001b[0m \u001b[35m0.0%\u001b[0m • \u001b[32m0.0/6.2 kB\u001b[0m • \u001b[31m?\u001b[0m • \u001b[36m-:--:--\u001b[0m\n"
         },
         "metadata": {},
         "output_type": "display_data"
        }
       ]
      }
     }
    },
    "version_major": 2,
    "version_minor": 0
   }
  }
 },
 "nbformat": 4,
 "nbformat_minor": 5
}
