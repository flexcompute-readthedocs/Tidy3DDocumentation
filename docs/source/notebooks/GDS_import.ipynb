{
 "cells": [
  {
   "cell_type": "markdown",
   "metadata": {
    "slideshow": {
     "slide_type": "-"
    }
   },
   "source": [
    "# GDSII import\n",
    "\n",
    "<img src=\"img/splitter.png\" alt=\"diagram\" width=\"400\"/>\n",
    "\n",
    "Run this notebook in your browser using [Binder](https://mybinder.org/v2/gh/flexcompute-readthedocs/tidy3d-docs/readthedocs?labpath=docs%2Fsource%2Fnotebooks%2FGDS_import.ipynb).\n",
    "\n",
    "In Tidy3D, complex structures can be defined or imported from GDSII files via the third-party [gdspy](https://gdspy.readthedocs.io/en/stable/index.html) package. In this tutorial, we will first illustrate how to use the package to define a structure, then we will save this to file, and then we will read that file and import the structures in a simulation.\n",
    "\n",
    "Note that this tutorial requires gdspy, so grab it with `pip install gdspy` before running the tutorial or uncomment the cell line below."
   ]
  },
  {
   "cell_type": "code",
   "execution_count": 1,
   "metadata": {
    "tags": []
   },
   "outputs": [
    {
     "name": "stdout",
     "output_type": "stream",
     "text": [
      "Using Tidy3D credentials from stored file\n"
     ]
    }
   ],
   "source": [
    "# standard python imports\n",
    "import numpy as np\n",
    "import matplotlib.pyplot as plt\n",
    "import gdspy\n",
    "import os\n",
    "\n",
    "# tidy3d import\n",
    "import tidy3d as td\n",
    "from tidy3d import web"
   ]
  },
  {
   "cell_type": "markdown",
   "metadata": {},
   "source": [
    "## Creating a beam splitter with gdspy\n",
    "\n",
    "First, we will construct an integrated beam splitter as in the title image in this notebook using `gdspy`. If you are only interested in importing an already existing GDSII file, just jump ahead to the next section.\n",
    "\n",
    "We first define some structural parameters. The two arms of the device start at a distance `wg_spacing_in` apart, then come together at a coupling distance `wg_spacing_coup` for a certain length `coup_length`, and then split again into separate ports. In the coupling region, the field overlap results in energy exchange between the two waveguides. Here, we will only see how to define, export, and import such a device using `gdspy`, while in a later example we will simulate the device and study the frequency dependence of the transmission into each of the ports."
   ]
  },
  {
   "cell_type": "code",
   "execution_count": 2,
   "metadata": {
    "tags": []
   },
   "outputs": [],
   "source": [
    "### Length scale in micron.\n",
    "\n",
    "# Waveguide width\n",
    "wg_width = 0.45\n",
    "# Waveguide separation in the beginning/end\n",
    "wg_spacing_in = 8\n",
    "# Length of the coupling region\n",
    "coup_length = 10\n",
    "# Length of the bend region\n",
    "bend_length = 16\n",
    "# Waveguide separation in the coupling region\n",
    "wg_spacing_coup = 0.10\n",
    "# Total device length along propagation direction\n",
    "device_length = 100"
   ]
  },
  {
   "cell_type": "markdown",
   "metadata": {},
   "source": [
    "### Generating Geometry\n",
    "To create the device, we will define each waveguide as a GDSII path object with the given waveguide width. To do that, we just need to define a series of points along the center of each waveguide that follows the curvature we desire. First, we define a convenience function to create the central points along one of the waveguides, using a hyperbolic tangent curvature between the input and coupling regions. The second waveguide is just a reflected version of the first one."
   ]
  },
  {
   "cell_type": "code",
   "execution_count": 3,
   "metadata": {
    "tags": []
   },
   "outputs": [
    {
     "data": {
      "image/png": "[encoded data removed]"
     },
     "metadata": {
      "needs_background": "light"
     },
     "output_type": "display_data"
    }
   ],
   "source": [
    "def bend_pts(bend_length, width, npts=10):\n",
    "    \"\"\" Set of points describing a tanh bend from (0, 0) to (length, width)\"\"\"\n",
    "    x = np.linspace(0, bend_length, npts)\n",
    "    y = width*(1 + np.tanh(6*(x/bend_length - 0.5)))/2\n",
    "    return np.stack((x, y), axis=1)\n",
    "\n",
    "def arm_pts(length, width, coup_length, bend_length, npts_bend=30):\n",
    "    \"\"\" Set of points defining one arm of an integrated coupler \"\"\"\n",
    "    ### Make the right half of the coupler arm first\n",
    "    # Make bend and offset by coup_length/2\n",
    "    bend = bend_pts(bend_length, width, npts_bend)\n",
    "    bend[:, 0] += coup_length / 2\n",
    "    # Add starting point as (0, 0)\n",
    "    right_half = np.concatenate(([[0, 0]], bend))\n",
    "    # Add an extra point to make sure waveguide is straight past the bend\n",
    "    right_half = np.concatenate((right_half, [[right_half[-1, 0] + 0.1, width]]))\n",
    "    # Add end point as (length/2, width)\n",
    "    right_half = np.concatenate((right_half, [[length/2, width]]))\n",
    "\n",
    "    ### Make the left half by reflecting and omitting the (0, 0) point\n",
    "    left_half = np.copy(right_half)[1:, :]\n",
    "    left_half[:, 0] = -left_half[::-1, 0]\n",
    "    left_half[:, 1] = left_half[::-1, 1]\n",
    "    \n",
    "    return np.concatenate((left_half, right_half), axis=0)\n",
    "\n",
    "# Plot the upper arm for the current configuration\n",
    "arm_center_coords = arm_pts(\n",
    "    device_length,\n",
    "    wg_spacing_in/2,\n",
    "    coup_length,\n",
    "    bend_length)\n",
    "\n",
    "fig, ax = plt.subplots(1, figsize=(8, 3))\n",
    "ax.plot(arm_center_coords[:, 0], arm_center_coords[:, 1], lw=4)\n",
    "ax.set_xlim([-30, 30])\n",
    "ax.set_ylim([-1, 5])\n",
    "ax.set_xlabel(\"x (um)\")\n",
    "ax.set_ylabel(\"y (um)\")\n",
    "ax.set_title(\"Upper beam splitter arm\")\n",
    "ax.axes.set_aspect('equal')\n",
    "plt.show()"
   ]
  },
  {
   "cell_type": "markdown",
   "metadata": {},
   "source": [
    "We can take the `arm_pts` function defined above and use it to define a FlexPath to create a curved waveguide.\n",
    "\n",
    "We put this in a convenience function defined below."
   ]
  },
  {
   "cell_type": "code",
   "execution_count": 4,
   "metadata": {
    "tags": []
   },
   "outputs": [],
   "source": [
    "def make_coupler(\n",
    "    length, \n",
    "    wg_spacing_in,\n",
    "    wg_width,\n",
    "    wg_spacing_coup,\n",
    "    coup_length,\n",
    "    bend_length,\n",
    "    npts_bend=30):\n",
    "    \"\"\" Make an integrated coupler using the gdspy FlexPath object. \"\"\"\n",
    "\n",
    "    # Compute one arm of the coupler\n",
    "    arm_width = (wg_spacing_in - wg_width - wg_spacing_coup)/2\n",
    "    arm = arm_pts(length, arm_width, coup_length, bend_length, npts_bend)\n",
    "\n",
    "    # Reflect and offset bottom arm\n",
    "    coup_bot = np.copy(arm)\n",
    "    coup_bot[:, 1] = -coup_bot[::-1, 1] - wg_width/2 - wg_spacing_coup/2\n",
    "\n",
    "    # Offset top arm\n",
    "    coup_top = np.copy(arm)\n",
    "    coup_top[:, 1] += wg_width/2 + wg_spacing_coup/2\n",
    "    \n",
    "    # Create waveguides as GDS paths\n",
    "    path_bot = gdspy.FlexPath(coup_bot, wg_width, layer=1, datatype=0)\n",
    "    path_top = gdspy.FlexPath(coup_top, wg_width, layer=1, datatype=1)\n",
    "    \n",
    "    return [path_bot, path_top]"
   ]
  },
  {
   "cell_type": "markdown",
   "metadata": {},
   "source": [
    "### Writing to GDS cells\n",
    "\n",
    "Next, we construct the splitter and write it to a GDS cell. We add a rectangle for the substrate to layer 0, and in layer 1 we add two paths, one for the upper and one for the lower splitter arms, and set the path width to be the waveguide width defined above."
   ]
  },
  {
   "cell_type": "code",
   "execution_count": 5,
   "metadata": {
    "tags": []
   },
   "outputs": [
    {
     "data": {
      "text/html": [
       "<pre style=\"white-space:pre;overflow-x:auto;line-height:normal;font-family:Menlo,'DejaVu Sans Mono',consolas,'Courier New',monospace\"><span style=\"font-weight: bold\">&lt;</span><span style=\"color: #ff00ff; text-decoration-color: #ff00ff; font-weight: bold\">gdspy.library.Cell</span><span style=\"color: #000000; text-decoration-color: #000000\"> object at </span><span style=\"color: #008080; text-decoration-color: #008080; font-weight: bold\">0x7f89edff8830</span><span style=\"font-weight: bold\">&gt;</span>\n",
       "</pre>\n"
      ],
      "text/plain": [
       "\u001b[1m<\u001b[0m\u001b[1;95mgdspy.library.Cell\u001b[0m\u001b[39m object at \u001b[0m\u001b[1;36m0x7f89edff8830\u001b[0m\u001b[1m>\u001b[0m\n"
      ]
     },
     "metadata": {},
     "output_type": "display_data"
    }
   ],
   "source": [
    "# make gds library\n",
    "gdspy.current_library = gdspy.GdsLibrary()\n",
    "lib = gdspy.GdsLibrary()\n",
    "\n",
    "# Create a gds cell to add our structures to\n",
    "coup_cell = lib.new_cell('Coupler')\n",
    "\n",
    "# make substrate and add to cell\n",
    "substrate = gdspy.Rectangle(\n",
    "    (-device_length/2, -wg_spacing_in/2-10),\n",
    "    (device_length/2, wg_spacing_in/2+10),\n",
    "    layer=0)\n",
    "\n",
    "coup_cell.add(substrate)\n",
    "\n",
    "# make coupler and add to the gdspy cell\n",
    "top, bot = make_coupler(\n",
    "    device_length,\n",
    "    wg_spacing_in,\n",
    "    wg_width,\n",
    "    wg_spacing_coup,\n",
    "    coup_length,\n",
    "    bend_length)\n",
    "\n",
    "coup_cell.add(top)\n",
    "coup_cell.add(bot)"
   ]
  },
  {
   "cell_type": "markdown",
   "metadata": {},
   "source": [
    "### Writing to GDS file\n",
    "To write the gds cell to file is straightforward.\n",
    "\n",
    "First we will clear the file if it exists and write to it using gdspy."
   ]
  },
  {
   "cell_type": "code",
   "execution_count": 6,
   "metadata": {
    "tags": []
   },
   "outputs": [],
   "source": [
    "gds_path = 'data/coupler.gds'\n",
    "\n",
    "if os.path.exists(gds_path):\n",
    "    os.remove(gds_path)\n",
    "\n",
    "lib.write_gds(gds_path)"
   ]
  },
  {
   "cell_type": "markdown",
   "metadata": {
    "tags": []
   },
   "source": [
    "## Loading a GDS file into Tidy3d\n",
    "\n",
    "We first load the file we just created into a gdspy library and grab the \"Coupler\" cell containing our structures."
   ]
  },
  {
   "cell_type": "code",
   "execution_count": 7,
   "metadata": {
    "tags": []
   },
   "outputs": [],
   "source": [
    "lib_loaded = gdspy.GdsLibrary(infile=gds_path)\n",
    "coup_cell_loaded = lib_loaded.cells['Coupler']"
   ]
  },
  {
   "cell_type": "markdown",
   "metadata": {},
   "source": [
    "### Set up Geometries\n",
    "\n",
    "Then we can construct tidy3d \"PolySlab\" geometries from the GDS cell we just loaded, along with other information about the out of plane direction, such as the axis and bounds of the \"slab\".\n",
    "\n",
    "Note, we have to keep track of the `gds_layer` and `gds_dtype` used to defined the GDS cell earlier, so we can load the right components.."
   ]
  },
  {
   "cell_type": "code",
   "execution_count": 8,
   "metadata": {
    "tags": []
   },
   "outputs": [],
   "source": [
    "# Define waveguide height\n",
    "wg_height = 0.22\n",
    "\n",
    "[substrate_geo] = td.PolySlab.from_gds(coup_cell_loaded, gds_layer=0, gds_dtype=0, axis=2, slab_bounds=(-430, 0))\n",
    "top_arm_geo, bot_arm_geo = td.PolySlab.from_gds(coup_cell_loaded, gds_layer=1, axis=2, slab_bounds=(0, wg_height))\n"
   ]
  },
  {
   "cell_type": "markdown",
   "metadata": {},
   "source": [
    "Note that we can also individually select the dtype by supplying `gds_dtype` to `PolySlab.from_gds`."
   ]
  },
  {
   "cell_type": "code",
   "execution_count": 9,
   "metadata": {},
   "outputs": [],
   "source": [
    "top_arm_geo = td.PolySlab.from_gds(coup_cell_loaded, gds_layer=1, gds_dtype=0, axis=2, slab_bounds=(0, wg_height))[0]\n",
    "bot_arm_geo = td.PolySlab.from_gds(coup_cell_loaded, gds_layer=1, gds_dtype=1, axis=2, slab_bounds=(0, wg_height))[0]"
   ]
  },
  {
   "cell_type": "markdown",
   "metadata": {},
   "source": [
    "Let's plot just the coupler waveguide arms to make sure it looks ok."
   ]
  },
  {
   "cell_type": "code",
   "execution_count": 10,
   "metadata": {},
   "outputs": [
    {
     "data": {
      "image/png": "[encoded data removed]"
     },
     "metadata": {
      "needs_background": "light"
     },
     "output_type": "display_data"
    }
   ],
   "source": [
    "f, ax = plt.subplots(figsize=(15, 4))\n",
    "ax = top_arm_geo.plot(z=.01, ax=ax)\n",
    "ax = bot_arm_geo.plot(z=.01, ax=ax)\n",
    "ax.set_ylim(-5, 5)\n",
    "plt.show()"
   ]
  },
  {
   "cell_type": "markdown",
   "metadata": {},
   "source": [
    "### Set up Structures\n",
    "\n",
    "To make use of these new geometries, we need to load them into a tidy3d.Simulation as td.Structures with material properties.\n",
    "\n",
    "We'll define the substrate and waveguide mediums and then link them up with the Polyslabs."
   ]
  },
  {
   "cell_type": "code",
   "execution_count": 11,
   "metadata": {
    "tags": []
   },
   "outputs": [],
   "source": [
    "# Permittivity of waveguide and substrate\n",
    "wg_n = 3.48\n",
    "sub_n = 1.45\n",
    "medium_wg = td.Medium(permittivity=wg_n**2)\n",
    "medium_sub = td.Medium(permittivity=sub_n**2)\n",
    "\n",
    "# Substrate\n",
    "substrate = td.Structure(\n",
    "    geometry=substrate_geo,#td.Box(center=(0, 0, -td.inf/2), size=(td.inf, td.inf, td.inf)),\n",
    "    medium=medium_sub\n",
    ")\n",
    "\n",
    "# Waveguides (import all datatypes if gds_dtype not specified)\n",
    "top_arm = td.Structure(\n",
    "    geometry=top_arm_geo,\n",
    "    medium=medium_wg\n",
    ")\n",
    "\n",
    "bot_arm = td.Structure(\n",
    "    geometry=bot_arm_geo,\n",
    "    medium=medium_wg\n",
    ")\n",
    "\n",
    "structures = [substrate, top_arm, bot_arm]"
   ]
  },
  {
   "cell_type": "markdown",
   "metadata": {},
   "source": [
    "### Set up Simulation\n",
    "\n",
    "Now let's set up the rest of the Simulation."
   ]
  },
  {
   "cell_type": "code",
   "execution_count": 12,
   "metadata": {
    "tags": []
   },
   "outputs": [
    {
     "data": {
      "text/html": [
       "<pre style=\"white-space:pre;overflow-x:auto;line-height:normal;font-family:Menlo,'DejaVu Sans Mono',consolas,'Courier New',monospace\"><span style=\"color: #7fbfbf; text-decoration-color: #7fbfbf\">[11:42:59] </span><span style=\"color: #800000; text-decoration-color: #800000\">WARNING </span> No sources in simulation.                               <a href=\"file:///Users/twhughes/Documents/Flexcompute/tidy3d-docs/tidy3d/tidy3d/components/simulation.py\"><span style=\"color: #7f7f7f; text-decoration-color: #7f7f7f\">simulation.py</span></a><span style=\"color: #7f7f7f; text-decoration-color: #7f7f7f\">:</span><a href=\"file:///Users/twhughes/Documents/Flexcompute/tidy3d-docs/tidy3d/tidy3d/components/simulation.py#368\"><span style=\"color: #7f7f7f; text-decoration-color: #7f7f7f\">368</span></a>\n",
       "</pre>\n"
      ],
      "text/plain": [
       "\u001b[2;36m[11:42:59]\u001b[0m\u001b[2;36m \u001b[0m\u001b[31mWARNING \u001b[0m No sources in simulation.                               \u001b]8;id=800912;file:///Users/twhughes/Documents/Flexcompute/tidy3d-docs/tidy3d/tidy3d/components/simulation.py\u001b\\\u001b[2msimulation.py\u001b[0m\u001b]8;;\u001b\\\u001b[2m:\u001b[0m\u001b]8;id=830980;file:///Users/twhughes/Documents/Flexcompute/tidy3d-docs/tidy3d/tidy3d/components/simulation.py#368\u001b\\\u001b[2m368\u001b[0m\u001b]8;;\u001b\\\n"
      ]
     },
     "metadata": {},
     "output_type": "display_data"
    }
   ],
   "source": [
    "# Simulation size along propagation direction\n",
    "sim_length = 2 + 2*bend_length + coup_length\n",
    "\n",
    "# Spacing between waveguides and PML\n",
    "pml_spacing = 1\n",
    "sim_size = (\n",
    "    np.ceil(sim_length),\n",
    "    np.ceil(wg_spacing_in + wg_width + 2*pml_spacing),\n",
    "    np.ceil(wg_height + 2*pml_spacing)\n",
    ")\n",
    "\n",
    "# grid size in each direction\n",
    "dl = 0.020\n",
    "\n",
    "### Initialize and visualize simulation ###\n",
    "sim = td.Simulation(\n",
    "    size=sim_size,\n",
    "    grid_size=(dl, dl, dl), \n",
    "    structures=structures,\n",
    "    run_time=2e-12,\n",
    "    pml_layers=[td.PML(), td.PML(), td.PML()])"
   ]
  },
  {
   "cell_type": "markdown",
   "metadata": {},
   "source": [
    "### Plot Simulation Geometry\n",
    "\n",
    "Let's take a look at the simulation all together with the PolySlabs added."
   ]
  },
  {
   "cell_type": "code",
   "execution_count": 13,
   "metadata": {
    "tags": []
   },
   "outputs": [
    {
     "data": {
      "image/png": "[encoded data removed]"
     },
     "metadata": {
      "needs_background": "light"
     },
     "output_type": "display_data"
    }
   ],
   "source": [
    "fig, (ax1, ax2) = plt.subplots(1, 2, figsize=(17, 5))\n",
    "\n",
    "sim.plot(z=wg_height/2, lw=1, edgecolor='k', ax=ax1)\n",
    "sim.plot(x=0.1, lw=1, edgecolor='k', ax=ax2)\n",
    "\n",
    "ax2.set_xlim([-3, 3])\n",
    "ax2.set_ylim([-1, 1])\n",
    "plt.show()"
   ]
  },
  {
   "cell_type": "code",
   "execution_count": null,
   "metadata": {},
   "outputs": [],
   "source": []
  },
  {
   "cell_type": "code",
   "execution_count": null,
   "metadata": {},
   "outputs": [],
   "source": []
  }
 ],
 "metadata": {
  "kernelspec": {
   "display_name": "Python 3 (ipykernel)",
   "language": "python",
   "name": "python3"
  },
  "language_info": {
   "codemirror_mode": {
    "name": "ipython",
    "version": 3
   },
   "file_extension": ".py",
   "mimetype": "text/x-python",
   "name": "python",
   "nbconvert_exporter": "python",
   "pygments_lexer": "ipython3",
   "version": "3.7.9"
  }
 },
 "nbformat": 4,
 "nbformat_minor": 4
}
