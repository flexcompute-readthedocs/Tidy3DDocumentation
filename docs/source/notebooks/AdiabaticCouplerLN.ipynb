{
 "cells": [
  {
   "cell_type": "markdown",
   "id": "80809059",
   "metadata": {},
   "source": [
    "# Thin film lithium niobate adiabatic waveguide coupler"
   ]
  },
  {
   "cell_type": "markdown",
   "id": "15720897",
   "metadata": {},
   "source": [
    "**Note: the cost of running the entire notebook is over 20 FlexCredit.**\n",
    "\n",
    "Thin-film lithium niobate (LN) offers several advantages over silicon in integrated photonics. LN's inherent electro-optic and nonlinear properties exceed those of silicon, allowing for efficient electro-optic modulation and wavelength conversion, which are vital for optical signal processing. Furthermore, LN demonstrates lower optical loss in the telecom wavelengths, and it supports operation in a broader wavelength range compared to silicon, extending into the mid-infrared region. Thus, thin-film LN's characteristics present opportunities for the realization of high-performance, multi-functional integrated photonic devices.\n",
    "\n",
    "In this notebook, we introduce an adiabatic LN waveguide coupler based on a special arrayed scheme with three waveguides. The coupling mechanism is analogous to the stimulated Raman adiabatic passage (STIRAP) in quantum physics. Adiabatic light transfer can be achieved from one outer waveguide to the other outer waveguide with near unity coupling efficiency and minimum excitation of the middle waveguide. More importantly, the designed coupler has a high fabrication tolerance, small mode and polarization sensitivity, and large working bandwidth. The design is based on `Yi-Xin Lin, Mohammadreza Younesi, Hung-Pin Chung, Hua-Kung Chiu, Reinhard Geiss, Quan-Hsiang Tseng, Frank Setzpfandt, Thomas Pertsch, and Yen-Hung Chen, \"Ultra-compact, broadband adiabatic passage optical couplers in thin-film lithium niobate on insulator waveguides,\" Opt. Express 29, 27362-27372 (2021)` [DOI: 10.1364/OE.435633](https://doi.org/10.1364/OE.435633).\n",
    "\n",
    "Adiabatic devices usually have a better fabrication tolerance and working bandwidth. However, the device size is inevitably larger, making rigorous simulation a daunting task. Photonic designers often resort to approximation methods such as 2D FDTD, beam propagation method, eigenmode expansion, and so on. The accuracy of these simulations is often questionable. `Tidy3D` allows photonic designers to perform accurate 3D FDTD for large devices in a short amount of time, eliminating all the compromises and giving you confidence in your design. \n",
    "\n",
    "<img src=\"img/LN_adiabatic_coupler.png\" width=\"400\" alt=\"Schematic of the adiabatic coupler\">\n",
    "\n",
    "For more integrated photonic examples such as the [8-Channel mode and polarization de-multiplexer](https://www.flexcompute.com/tidy3d/examples/notebooks/8ChannelDemultiplexer/), the [broadband bi-level taper polarization rotator-splitter](https://www.flexcompute.com/tidy3d/examples/notebooks/BilevelPSR/), and the [broadband directional coupler](https://www.flexcompute.com/tidy3d/examples/notebooks/BroadbandDirectionalCoupler/), please visit our [examples page](https://www.flexcompute.com/tidy3d/examples/)."
   ]
  },
  {
   "cell_type": "code",
   "execution_count": 2,
   "id": "2e7fb6da",
   "metadata": {},
   "outputs": [],
   "source": [
    "import tidy3d as td\n",
    "import tidy3d.web as web\n",
    "\n",
    "import numpy as np\n",
    "import matplotlib.pyplot as plt\n",
    "import gdstk"
   ]
  },
  {
   "cell_type": "markdown",
   "id": "5a036303",
   "metadata": {},
   "source": [
    "## Simulation Setup "
   ]
  },
  {
   "cell_type": "code",
   "execution_count": 3,
   "id": "793d5548",
   "metadata": {},
   "outputs": [],
   "source": [
    "lda0 = 1.55  # central wavelength\n",
    "freq0 = td.C_0 / lda0  # central frequency\n",
    "\n",
    "ldas = np.linspace(1.45, 1.65, 101)  # wavelength range of interest\n",
    "freqs = td.C_0 / ldas  # frequency range of interest\n",
    "\n",
    "fwidth = 0.5 * (np.max(freqs) - np.min(freqs))  # width of the source frequency"
   ]
  },
  {
   "cell_type": "markdown",
   "id": "8c89d573",
   "metadata": {},
   "source": [
    "The coupler is designed on an X-cut thin film LN. The waveguides are oriented perpendicular to the optical axis. We plan to define our waveguides to be oriented in the $x$ direction in our simulation. Therefore, LN is defined as an [AnisotropicMedium](../_autosummary/tidy3d.AnisotropicMedium.html) with the extraordinary refractive index in the $y$ direction.\n",
    "\n",
    "In the wavelength range of interest, both LN and SiO$_2$ have a constant refractive index so we model them as non-dispersive."
   ]
  },
  {
   "cell_type": "code",
   "execution_count": 4,
   "id": "115ba800",
   "metadata": {},
   "outputs": [],
   "source": [
    "n_e = 2.138  # extraordinary refractive index of LN\n",
    "n_o = 2.211  # ordinary refractive index of LN\n",
    "\n",
    "# define LN medium\n",
    "LN_e = td.Medium(permittivity=n_e**2)\n",
    "LN_o = td.Medium(permittivity=n_o**2)\n",
    "LN = td.AnisotropicMedium(xx=LN_o, yy=LN_e, zz=LN_o)\n",
    "\n",
    "n_sio2 = 1.44  # refractive index of SiO2\n",
    "\n",
    "# define SiO2 medium\n",
    "SiO2 = td.Medium(permittivity=n_sio2**2)"
   ]
  },
  {
   "cell_type": "markdown",
   "id": "e355f5a5",
   "metadata": {},
   "source": [
    "Define geometric parameters. The length of the coupler is **2 mm**. The LN waveguide width and thickness are 1 $\\mu m$ and 600 nm, respectively. "
   ]
  },
  {
   "cell_type": "code",
   "execution_count": 5,
   "id": "d4c0d311",
   "metadata": {},
   "outputs": [],
   "source": [
    "L = 2000  # length of the coupler\n",
    "d23 = 1  # spacing between the 2nd and the 3rd waveguide at the start of the coupler\n",
    "d12 = 2  # spacing between the 1st and the 2nd waveguide at the start of the coupler\n",
    "w = 1  # waveguide width\n",
    "h = 0.6  # waveguide thickness\n",
    "\n",
    "buffer = 10  # buffer spacing"
   ]
  },
  {
   "cell_type": "markdown",
   "id": "180d0c00",
   "metadata": {},
   "source": [
    "Defining the geometries for the coupler is relatively easy as it only contains three straight waveguides. For convenience, we copy the `straight_waveguide` method from the list of [common integrated photonic components](https://www.flexcompute.com/tidy3d/examples/notebooks/PICComponents/) and use it to define the waveguides."
   ]
  },
  {
   "cell_type": "code",
   "execution_count": 6,
   "id": "eccfdf78",
   "metadata": {},
   "outputs": [],
   "source": [
    "def straight_waveguide(x0, y0, z0, x1, y1, wg_width, wg_thickness, medium, sidewall_angle=0):\n",
    "    \"\"\"\n",
    "    This function defines a straight strip waveguide and returns the tidy3d structure of it.\n",
    "\n",
    "    Parameters\n",
    "    ----------\n",
    "    x0: x coordinate of the waveguide starting position (um)\n",
    "    y0: y coordinate of the waveguide starting position (um)\n",
    "    z0: z coordinate of the waveguide starting position (um)\n",
    "    x1: x coordinate of the waveguide end position (um)\n",
    "    y1: y coordinate of the waveguide end position (um)\n",
    "    wg_width: width of the waveguide (um)\n",
    "    wg_thickness: thickness of the waveguide (um)\n",
    "    medium: medium of the waveguide\n",
    "    sidewall_angle: side wall angle of the waveguide (rad)\n",
    "    \"\"\"\n",
    "\n",
    "    cell = gdstk.Cell(\"waveguide\")  # define a gds cell\n",
    "\n",
    "    path = gdstk.RobustPath((x0, y0), wg_width, layer=1, datatype=0)  # define a path\n",
    "    path.segment((x1, y1))\n",
    "\n",
    "    cell.add(path)  # add path to the cell\n",
    "\n",
    "    # define geometry from the gds cell\n",
    "    wg_geo = td.PolySlab.from_gds(\n",
    "        cell,\n",
    "        gds_layer=1,\n",
    "        axis=2,\n",
    "        slab_bounds=(z0 - wg_thickness / 2, z0 + wg_thickness / 2),\n",
    "        sidewall_angle=sidewall_angle,\n",
    "    )\n",
    "\n",
    "    # define tidy3d structure of the bend\n",
    "    wg = td.Structure(geometry=wg_geo[0], medium=medium)\n",
    "\n",
    "    return wg"
   ]
  },
  {
   "cell_type": "markdown",
   "id": "1bd3a143",
   "metadata": {},
   "source": [
    "The three waveguides are simply defined by calling the `straight_waveguide` method with the respective start and end coordinates."
   ]
  },
  {
   "cell_type": "code",
   "execution_count": 7,
   "id": "6c05c563",
   "metadata": {},
   "outputs": [],
   "source": [
    "# define the first waveguide\n",
    "wg1 = straight_waveguide(\n",
    "    x0=-2 * buffer, y0=0, z0=0, x1=L + 2 * buffer, y1=0, wg_width=w, wg_thickness=h, medium=LN\n",
    ")\n",
    "\n",
    "# define the second waveguide\n",
    "wg2 = straight_waveguide(x0=0, y0=d12, z0=0, x1=L, y1=d23, wg_width=w, wg_thickness=h, medium=LN)\n",
    "\n",
    "# define the third waveguide\n",
    "wg3 = straight_waveguide(\n",
    "    x0=-2 * buffer,\n",
    "    y0=d12 + d23,\n",
    "    z0=0,\n",
    "    x1=L + 2 * buffer,\n",
    "    y1=d12 + d23,\n",
    "    wg_width=w,\n",
    "    wg_thickness=h,\n",
    "    medium=LN,\n",
    ")"
   ]
  },
  {
   "cell_type": "markdown",
   "id": "c98709cf",
   "metadata": {},
   "source": [
    "Define source and monitors. Similar to other [PIC examples](https://www.flexcompute.com/tidy3d/examples/notebooks/YJunction/), we will use a [ModeSource](../_autosummary/tidy3d.ModeSource.html) to launch the waveguide mode at the first waveguide. More specifically, we will examine both the TE0 and TM0 modes and compute the coupling efficiencies. In the [ModeSpec](../_autosummary/tidy3d.ModeSpec.html), we only search for one mode as the TE0 and TM0 modes will be determined by the symmetry of the simulation as we will discuss later.\n",
    "\n",
    "A [ModeMonitor](../_autosummary/tidy3d.ModeMonitor.html) is defined at the end of the third waveguide to capture the coupling efficiency and a [FieldMonitor](../_autosummary/tidy3d.FieldMonitor.html) is defined in the $z=0$ plane to help visualize the field propagation."
   ]
  },
  {
   "cell_type": "code",
   "execution_count": 8,
   "id": "ce2e29f0",
   "metadata": {},
   "outputs": [
    {
     "data": {
      "text/html": [
       "<pre style=\"white-space:pre;overflow-x:auto;line-height:normal;font-family:Menlo,'DejaVu Sans Mono',consolas,'Courier New',monospace\"><span style=\"color: #7fbfbf; text-decoration-color: #7fbfbf\">13:24:42 PDT </span><span style=\"color: #800000; text-decoration-color: #800000\">WARNING: Default value for the field monitor </span><span style=\"color: #008000; text-decoration-color: #008000\">'colocate'</span><span style=\"color: #800000; text-decoration-color: #800000\"> setting has</span>\n",
       "<span style=\"color: #7fbfbf; text-decoration-color: #7fbfbf\">             </span><span style=\"color: #800000; text-decoration-color: #800000\">changed to </span><span style=\"color: #008000; text-decoration-color: #008000\">'True'</span><span style=\"color: #800000; text-decoration-color: #800000\"> in Tidy3D </span><span style=\"color: #008080; text-decoration-color: #008080; font-weight: bold\">2.4</span><span style=\"color: #800000; text-decoration-color: #800000\">.</span><span style=\"color: #008080; text-decoration-color: #008080; font-weight: bold\">0</span><span style=\"color: #800000; text-decoration-color: #800000\">. All field components will be    </span>\n",
       "<span style=\"color: #7fbfbf; text-decoration-color: #7fbfbf\">             </span><span style=\"color: #800000; text-decoration-color: #800000\">colocated to the grid boundaries. Set to </span><span style=\"color: #008000; text-decoration-color: #008000\">'False'</span><span style=\"color: #800000; text-decoration-color: #800000\"> to get the raw    </span>\n",
       "<span style=\"color: #7fbfbf; text-decoration-color: #7fbfbf\">             </span><span style=\"color: #800000; text-decoration-color: #800000\">fields on the Yee grid instead.                                    </span>\n",
       "</pre>\n"
      ],
      "text/plain": [
       "\u001b[2;36m13:24:42 PDT\u001b[0m\u001b[2;36m \u001b[0m\u001b[31mWARNING: Default value for the field monitor \u001b[0m\u001b[32m'colocate'\u001b[0m\u001b[31m setting has\u001b[0m\n",
       "\u001b[2;36m             \u001b[0m\u001b[31mchanged to \u001b[0m\u001b[32m'True'\u001b[0m\u001b[31m in Tidy3D \u001b[0m\u001b[1;36m2.4\u001b[0m\u001b[31m.\u001b[0m\u001b[1;36m0\u001b[0m\u001b[31m. All field components will be    \u001b[0m\n",
       "\u001b[2;36m             \u001b[0m\u001b[31mcolocated to the grid boundaries. Set to \u001b[0m\u001b[32m'False'\u001b[0m\u001b[31m to get the raw    \u001b[0m\n",
       "\u001b[2;36m             \u001b[0m\u001b[31mfields on the Yee grid instead.                                    \u001b[0m\n"
      ]
     },
     "metadata": {},
     "output_type": "display_data"
    }
   ],
   "source": [
    "# add a mode source as excitation\n",
    "mode_spec = td.ModeSpec(num_modes=1, target_neff=n_e)\n",
    "mode_source = td.ModeSource(\n",
    "    center=(-buffer / 4, 0, 0),\n",
    "    size=(0, 3 * w, 6 * h),\n",
    "    source_time=td.GaussianPulse(freq0=freq0, fwidth=fwidth),\n",
    "    direction=\"+\",\n",
    "    mode_spec=mode_spec,\n",
    "    mode_index=0,\n",
    ")\n",
    "\n",
    "\n",
    "# add a mode monitor to measure transmission at the output waveguide\n",
    "mode_monitor = td.ModeMonitor(\n",
    "    center=(L + buffer / 4, d12 + d23, 0),\n",
    "    size=(0, 3 * w, 6 * h),\n",
    "    freqs=freqs,\n",
    "    mode_spec=mode_spec,\n",
    "    name=\"mode\",\n",
    ")\n",
    "\n",
    "# add a field monitor to visualize field distribution at z=t/2\n",
    "field_monitor = td.FieldMonitor(\n",
    "    center=(0, 0, 0),\n",
    "    size=(td.inf, td.inf, 0),\n",
    "    freqs=[freq0],\n",
    "    fields=[\"Ex\", \"Ey\", \"Ez\"],\n",
    "    name=\"field\",\n",
    ")"
   ]
  },
  {
   "cell_type": "markdown",
   "id": "c6bac8e1",
   "metadata": {},
   "source": [
    "We first define a [Simulation](../_autosummary/tidy3d.Simulation.html) for the TE0 mode by putting what we defined earlier together. Since the LN waveguides are surrounded by SiO$_2$, we can see that there is mirror symmetry with respect to the $z=0$ plane. The TE0 mode has a symmetry of `(0,0,1)` while the TM0 mode has a symmetry of `(0,0,-1)`. Therefore, the TM0 simulation is then simply defined by copying the TE0 simulation and updating the symmetry to `(0,0,-1)`.\n",
    "\n",
    "Note that since the device has a large length, the simulation run time needs to be sufficiently long for the launched mode to propagate and decay. "
   ]
  },
  {
   "cell_type": "code",
   "execution_count": 9,
   "id": "84b1ddac",
   "metadata": {},
   "outputs": [
    {
     "data": {
      "image/png": "[encoded data removed]",
      "text/plain": [
       "<Figure size 432x288 with 1 Axes>"
      ]
     },
     "metadata": {
      "needs_background": "light"
     },
     "output_type": "display_data"
    }
   ],
   "source": [
    "# define simulation domain size\n",
    "Lx = L + 2 * buffer\n",
    "Ly = d12 + d23 + w + 2 * lda0\n",
    "Lz = 4 * h\n",
    "sim_size = (Lx, Ly, Lz)\n",
    "\n",
    "run_time = 4e-11  # simulation run time\n",
    "\n",
    "# construct te0 simulation\n",
    "sim_te = td.Simulation(\n",
    "    center=(L / 2, (d12 + d23) / 2, 0),\n",
    "    size=sim_size,\n",
    "    grid_spec=td.GridSpec.auto(min_steps_per_wvl=12, wavelength=lda0),\n",
    "    structures=[wg1, wg2, wg3],\n",
    "    sources=[mode_source],\n",
    "    monitors=[mode_monitor, field_monitor],\n",
    "    run_time=run_time,\n",
    "    boundary_spec=td.BoundarySpec.all_sides(boundary=td.PML()),\n",
    "    medium=SiO2,\n",
    "    symmetry=(0, 0, 1),\n",
    ")\n",
    "\n",
    "# define tm0 simulation by copying the te0 simulation and update the symmetry\n",
    "sim_tm = sim_te.copy(update={\"symmetry\": (0, 0, -1)})\n",
    "\n",
    "# plot the simulation to visualize the setup\n",
    "ax = sim_te.plot(z=0)\n",
    "ax.set_aspect(\"auto\")\n",
    "plt.show()"
   ]
  },
  {
   "cell_type": "markdown",
   "id": "d9c99272",
   "metadata": {},
   "source": [
    "## Running Simulation Batch"
   ]
  },
  {
   "cell_type": "markdown",
   "id": "00c3f15b",
   "metadata": {},
   "source": [
    "We can run the two simulations sequentially. However, since both simulations are large, it would be much more efficient if we run them concurrently. To do so, we first define a simulation [Batch](../_autosummary/tidy3d.web.Batch.html) as demonstrated in the [tutorial](https://www.flexcompute.com/tidy3d/examples/notebooks/ParameterScan/). \n",
    "\n",
    "Before submitting the simulations to run on the server, we estimate the cost to ensure it is reasonable and affordable. This cost is the maximum cost assuming all time steps are used."
   ]
  },
  {
   "cell_type": "code",
   "execution_count": 10,
   "id": "563f8c34",
   "metadata": {},
   "outputs": [
    {
     "data": {
      "text/html": [
       "<pre style=\"white-space:pre;overflow-x:auto;line-height:normal;font-family:Menlo,'DejaVu Sans Mono',consolas,'Courier New',monospace\"><span style=\"color: #7fbfbf; text-decoration-color: #7fbfbf\">             </span>Created task <span style=\"color: #008000; text-decoration-color: #008000\">'TE'</span> with task_id                                     \n",
       "<span style=\"color: #7fbfbf; text-decoration-color: #7fbfbf\">             </span><span style=\"color: #008000; text-decoration-color: #008000\">'fdve-464d389c-8a31-486c-906c-a016c8aa6db7v1'</span> and task_type <span style=\"color: #008000; text-decoration-color: #008000\">'FDTD'</span>.\n",
       "</pre>\n"
      ],
      "text/plain": [
       "\u001b[2;36m            \u001b[0m\u001b[2;36m \u001b[0mCreated task \u001b[32m'TE'\u001b[0m with task_id                                     \n",
       "\u001b[2;36m             \u001b[0m\u001b[32m'fdve-464d389c-8a31-486c-906c-a016c8aa6db7v1'\u001b[0m and task_type \u001b[32m'FDTD'\u001b[0m.\n"
      ]
     },
     "metadata": {},
     "output_type": "display_data"
    },
    {
     "data": {
      "text/html": [
       "<pre style=\"white-space:pre;overflow-x:auto;line-height:normal;font-family:Menlo,'DejaVu Sans Mono',consolas,'Courier New',monospace\"><span style=\"color: #7fbfbf; text-decoration-color: #7fbfbf\">             </span>View task using web UI at <a href=\"https://tidy3d.simulation.cloud/workbench?taskId=fdve-464d389c-8a31-486c-906c-a016c8aa6db7v1\" target=\"_blank\"><span style=\"color: #008000; text-decoration-color: #008000\">'https://tidy3d.simulation.cloud/workbenc</span></a>\n",
       "<span style=\"color: #7fbfbf; text-decoration-color: #7fbfbf\">             </span><a href=\"https://tidy3d.simulation.cloud/workbench?taskId=fdve-464d389c-8a31-486c-906c-a016c8aa6db7v1\" target=\"_blank\"><span style=\"color: #008000; text-decoration-color: #008000\">h?taskId=fdve-464d389c-8a31-486c-906c-a016c8aa6db7v1'</span></a>.             \n",
       "</pre>\n"
      ],
      "text/plain": [
       "\u001b[2;36m            \u001b[0m\u001b[2;36m \u001b[0mView task using web UI at \u001b]8;id=758160;https://tidy3d.simulation.cloud/workbench?taskId=fdve-464d389c-8a31-486c-906c-a016c8aa6db7v1\u001b\\\u001b[32m'https://tidy3d.simulation.cloud/workbenc\u001b[0m\u001b]8;;\u001b\\\n",
       "\u001b[2;36m             \u001b[0m\u001b]8;id=758160;https://tidy3d.simulation.cloud/workbench?taskId=fdve-464d389c-8a31-486c-906c-a016c8aa6db7v1\u001b\\\u001b[32mh?\u001b[0m\u001b]8;;\u001b\\\u001b]8;id=996820;https://tidy3d.simulation.cloud/workbench?taskId=fdve-464d389c-8a31-486c-906c-a016c8aa6db7v1\u001b\\\u001b[32mtaskId\u001b[0m\u001b]8;;\u001b\\\u001b]8;id=758160;https://tidy3d.simulation.cloud/workbench?taskId=fdve-464d389c-8a31-486c-906c-a016c8aa6db7v1\u001b\\\u001b[32m=\u001b[0m\u001b]8;;\u001b\\\u001b]8;id=996820;https://tidy3d.simulation.cloud/workbench?taskId=fdve-464d389c-8a31-486c-906c-a016c8aa6db7v1\u001b\\\u001b[32mfdve\u001b[0m\u001b]8;;\u001b\\\u001b]8;id=758160;https://tidy3d.simulation.cloud/workbench?taskId=fdve-464d389c-8a31-486c-906c-a016c8aa6db7v1\u001b\\\u001b[32m-464d389c-8a31-486c-906c-a016c8aa6db7v1'\u001b[0m\u001b]8;;\u001b\\.             \n"
      ]
     },
     "metadata": {},
     "output_type": "display_data"
    },
    {
     "data": {
      "application/vnd.jupyter.widget-view+json": {
       "model_id": "6d905bddd8344169aa2fb5894ecab331",
       "version_major": 2,
       "version_minor": 0
      },
      "text/plain": [
       "Output()"
      ]
     },
     "metadata": {},
     "output_type": "display_data"
    },
    {
     "data": {
      "text/html": [
       "<pre style=\"white-space:pre;overflow-x:auto;line-height:normal;font-family:Menlo,'DejaVu Sans Mono',consolas,'Courier New',monospace\"></pre>\n"
      ],
      "text/plain": []
     },
     "metadata": {},
     "output_type": "display_data"
    },
    {
     "data": {
      "text/html": [
       "<pre style=\"white-space:pre;overflow-x:auto;line-height:normal;font-family:Menlo,'DejaVu Sans Mono',consolas,'Courier New',monospace\">\n",
       "</pre>\n"
      ],
      "text/plain": [
       "\n"
      ]
     },
     "metadata": {},
     "output_type": "display_data"
    },
    {
     "data": {
      "text/html": [
       "<pre style=\"white-space:pre;overflow-x:auto;line-height:normal;font-family:Menlo,'DejaVu Sans Mono',consolas,'Courier New',monospace\"><span style=\"color: #7fbfbf; text-decoration-color: #7fbfbf\">13:24:43 PDT </span>Created task <span style=\"color: #008000; text-decoration-color: #008000\">'TM'</span> with task_id                                     \n",
       "<span style=\"color: #7fbfbf; text-decoration-color: #7fbfbf\">             </span><span style=\"color: #008000; text-decoration-color: #008000\">'fdve-77e8c78b-5a0f-4c3b-8975-506e1f583500v1'</span> and task_type <span style=\"color: #008000; text-decoration-color: #008000\">'FDTD'</span>.\n",
       "</pre>\n"
      ],
      "text/plain": [
       "\u001b[2;36m13:24:43 PDT\u001b[0m\u001b[2;36m \u001b[0mCreated task \u001b[32m'TM'\u001b[0m with task_id                                     \n",
       "\u001b[2;36m             \u001b[0m\u001b[32m'fdve-77e8c78b-5a0f-4c3b-8975-506e1f583500v1'\u001b[0m and task_type \u001b[32m'FDTD'\u001b[0m.\n"
      ]
     },
     "metadata": {},
     "output_type": "display_data"
    },
    {
     "data": {
      "text/html": [
       "<pre style=\"white-space:pre;overflow-x:auto;line-height:normal;font-family:Menlo,'DejaVu Sans Mono',consolas,'Courier New',monospace\"><span style=\"color: #7fbfbf; text-decoration-color: #7fbfbf\">             </span>View task using web UI at <a href=\"https://tidy3d.simulation.cloud/workbench?taskId=fdve-77e8c78b-5a0f-4c3b-8975-506e1f583500v1\" target=\"_blank\"><span style=\"color: #008000; text-decoration-color: #008000\">'https://tidy3d.simulation.cloud/workbenc</span></a>\n",
       "<span style=\"color: #7fbfbf; text-decoration-color: #7fbfbf\">             </span><a href=\"https://tidy3d.simulation.cloud/workbench?taskId=fdve-77e8c78b-5a0f-4c3b-8975-506e1f583500v1\" target=\"_blank\"><span style=\"color: #008000; text-decoration-color: #008000\">h?taskId=fdve-77e8c78b-5a0f-4c3b-8975-506e1f583500v1'</span></a>.             \n",
       "</pre>\n"
      ],
      "text/plain": [
       "\u001b[2;36m            \u001b[0m\u001b[2;36m \u001b[0mView task using web UI at \u001b]8;id=243948;https://tidy3d.simulation.cloud/workbench?taskId=fdve-77e8c78b-5a0f-4c3b-8975-506e1f583500v1\u001b\\\u001b[32m'https://tidy3d.simulation.cloud/workbenc\u001b[0m\u001b]8;;\u001b\\\n",
       "\u001b[2;36m             \u001b[0m\u001b]8;id=243948;https://tidy3d.simulation.cloud/workbench?taskId=fdve-77e8c78b-5a0f-4c3b-8975-506e1f583500v1\u001b\\\u001b[32mh?\u001b[0m\u001b]8;;\u001b\\\u001b]8;id=370759;https://tidy3d.simulation.cloud/workbench?taskId=fdve-77e8c78b-5a0f-4c3b-8975-506e1f583500v1\u001b\\\u001b[32mtaskId\u001b[0m\u001b]8;;\u001b\\\u001b]8;id=243948;https://tidy3d.simulation.cloud/workbench?taskId=fdve-77e8c78b-5a0f-4c3b-8975-506e1f583500v1\u001b\\\u001b[32m=\u001b[0m\u001b]8;;\u001b\\\u001b]8;id=370759;https://tidy3d.simulation.cloud/workbench?taskId=fdve-77e8c78b-5a0f-4c3b-8975-506e1f583500v1\u001b\\\u001b[32mfdve\u001b[0m\u001b]8;;\u001b\\\u001b]8;id=243948;https://tidy3d.simulation.cloud/workbench?taskId=fdve-77e8c78b-5a0f-4c3b-8975-506e1f583500v1\u001b\\\u001b[32m-77e8c78b-5a0f-4c3b-8975-506e1f583500v1'\u001b[0m\u001b]8;;\u001b\\.             \n"
      ]
     },
     "metadata": {},
     "output_type": "display_data"
    },
    {
     "data": {
      "application/vnd.jupyter.widget-view+json": {
       "model_id": "e01debbea14f4d5aa7907c2996533363",
       "version_major": 2,
       "version_minor": 0
      },
      "text/plain": [
       "Output()"
      ]
     },
     "metadata": {},
     "output_type": "display_data"
    },
    {
     "data": {
      "text/html": [
       "<pre style=\"white-space:pre;overflow-x:auto;line-height:normal;font-family:Menlo,'DejaVu Sans Mono',consolas,'Courier New',monospace\"></pre>\n"
      ],
      "text/plain": []
     },
     "metadata": {},
     "output_type": "display_data"
    },
    {
     "data": {
      "text/html": [
       "<pre style=\"white-space:pre;overflow-x:auto;line-height:normal;font-family:Menlo,'DejaVu Sans Mono',consolas,'Courier New',monospace\">\n",
       "</pre>\n"
      ],
      "text/plain": [
       "\n"
      ]
     },
     "metadata": {},
     "output_type": "display_data"
    },
    {
     "data": {
      "text/html": [
       "<pre style=\"white-space:pre;overflow-x:auto;line-height:normal;font-family:Menlo,'DejaVu Sans Mono',consolas,'Courier New',monospace\"><span style=\"color: #7fbfbf; text-decoration-color: #7fbfbf\">13:24:55 PDT </span>Maximum FlexCredit cost: <span style=\"color: #008080; text-decoration-color: #008080; font-weight: bold\">28.428</span> for the whole batch.               \n",
       "</pre>\n"
      ],
      "text/plain": [
       "\u001b[2;36m13:24:55 PDT\u001b[0m\u001b[2;36m \u001b[0mMaximum FlexCredit cost: \u001b[1;36m28.428\u001b[0m for the whole batch.               \n"
      ]
     },
     "metadata": {},
     "output_type": "display_data"
    }
   ],
   "source": [
    "sims = {\n",
    "    \"TE\": sim_te,\n",
    "    \"TM\": sim_tm,\n",
    "}\n",
    "batch = web.Batch(simulations=sims, verbose=True)\n",
    "estimate_cost = batch.estimate_cost()"
   ]
  },
  {
   "cell_type": "markdown",
   "id": "bc118dae",
   "metadata": {},
   "source": [
    "Once we confirm that the cost is correct, we run the batch of simulations in parallel."
   ]
  },
  {
   "cell_type": "code",
   "execution_count": 11,
   "id": "ddac33a0",
   "metadata": {},
   "outputs": [
    {
     "data": {
      "text/html": [
       "<pre style=\"white-space:pre;overflow-x:auto;line-height:normal;font-family:Menlo,'DejaVu Sans Mono',consolas,'Courier New',monospace\"><span style=\"color: #7fbfbf; text-decoration-color: #7fbfbf\">13:24:56 PDT </span>Started working on Batch.                                          \n",
       "</pre>\n"
      ],
      "text/plain": [
       "\u001b[2;36m13:24:56 PDT\u001b[0m\u001b[2;36m \u001b[0mStarted working on Batch.                                          \n"
      ]
     },
     "metadata": {},
     "output_type": "display_data"
    },
    {
     "data": {
      "text/html": [
       "<pre style=\"white-space:pre;overflow-x:auto;line-height:normal;font-family:Menlo,'DejaVu Sans Mono',consolas,'Courier New',monospace\"><span style=\"color: #7fbfbf; text-decoration-color: #7fbfbf\">13:25:07 PDT </span>Maximum FlexCredit cost: <span style=\"color: #008080; text-decoration-color: #008080; font-weight: bold\">28.428</span> for the whole batch.               \n",
       "</pre>\n"
      ],
      "text/plain": [
       "\u001b[2;36m13:25:07 PDT\u001b[0m\u001b[2;36m \u001b[0mMaximum FlexCredit cost: \u001b[1;36m28.428\u001b[0m for the whole batch.               \n"
      ]
     },
     "metadata": {},
     "output_type": "display_data"
    },
    {
     "data": {
      "text/html": [
       "<pre style=\"white-space:pre;overflow-x:auto;line-height:normal;font-family:Menlo,'DejaVu Sans Mono',consolas,'Courier New',monospace\"><span style=\"color: #7fbfbf; text-decoration-color: #7fbfbf\">             </span>Use <span style=\"color: #008000; text-decoration-color: #008000\">'Batch.real_cost()'</span> to get the billed FlexCredit cost after the\n",
       "<span style=\"color: #7fbfbf; text-decoration-color: #7fbfbf\">             </span>Batch has completed.                                               \n",
       "</pre>\n"
      ],
      "text/plain": [
       "\u001b[2;36m            \u001b[0m\u001b[2;36m \u001b[0mUse \u001b[32m'Batch.real_cost\u001b[0m\u001b[32m(\u001b[0m\u001b[32m)\u001b[0m\u001b[32m'\u001b[0m to get the billed FlexCredit cost after the\n",
       "\u001b[2;36m             \u001b[0mBatch has completed.                                               \n"
      ]
     },
     "metadata": {},
     "output_type": "display_data"
    },
    {
     "data": {
      "application/vnd.jupyter.widget-view+json": {
       "model_id": "547b6145a3ec4ad997fe9d58ff6cf8af",
       "version_major": 2,
       "version_minor": 0
      },
      "text/plain": [
       "Output()"
      ]
     },
     "metadata": {},
     "output_type": "display_data"
    },
    {
     "data": {
      "text/html": [
       "<pre style=\"white-space:pre;overflow-x:auto;line-height:normal;font-family:Menlo,'DejaVu Sans Mono',consolas,'Courier New',monospace\"><span style=\"color: #7fbfbf; text-decoration-color: #7fbfbf\">13:41:11 PDT </span>Batch complete.                                                    \n",
       "</pre>\n"
      ],
      "text/plain": [
       "\u001b[2;36m13:41:11 PDT\u001b[0m\u001b[2;36m \u001b[0mBatch complete.                                                    \n"
      ]
     },
     "metadata": {},
     "output_type": "display_data"
    },
    {
     "data": {
      "text/html": [
       "<pre style=\"white-space:pre;overflow-x:auto;line-height:normal;font-family:Menlo,'DejaVu Sans Mono',consolas,'Courier New',monospace\"></pre>\n"
      ],
      "text/plain": []
     },
     "metadata": {},
     "output_type": "display_data"
    },
    {
     "data": {
      "text/html": [
       "<pre style=\"white-space:pre;overflow-x:auto;line-height:normal;font-family:Menlo,'DejaVu Sans Mono',consolas,'Courier New',monospace\">\n",
       "</pre>\n"
      ],
      "text/plain": [
       "\n"
      ]
     },
     "metadata": {},
     "output_type": "display_data"
    }
   ],
   "source": [
    "batch_results = batch.run(path_dir=\"data\")"
   ]
  },
  {
   "cell_type": "markdown",
   "id": "73f69d85",
   "metadata": {},
   "source": [
    "After the simulations are complete, we can get the real cost. Since the simulations automatically shut off after field decay reached the threshold, the real cost is lower than the estimated cost."
   ]
  },
  {
   "cell_type": "code",
   "execution_count": 15,
   "id": "4c03ce27",
   "metadata": {},
   "outputs": [
    {
     "data": {
      "text/html": [
       "<pre style=\"white-space:pre;overflow-x:auto;line-height:normal;font-family:Menlo,'DejaVu Sans Mono',consolas,'Courier New',monospace\"><span style=\"color: #7fbfbf; text-decoration-color: #7fbfbf\">16:35:50 PDT </span>Total billed flex credit cost: <span style=\"color: #008080; text-decoration-color: #008080; font-weight: bold\">24.448</span>.                             \n",
       "</pre>\n"
      ],
      "text/plain": [
       "\u001b[2;36m16:35:50 PDT\u001b[0m\u001b[2;36m \u001b[0mTotal billed flex credit cost: \u001b[1;36m24.448\u001b[0m.                             \n"
      ]
     },
     "metadata": {},
     "output_type": "display_data"
    }
   ],
   "source": [
    "real_cost = batch.real_cost()"
   ]
  },
  {
   "cell_type": "markdown",
   "id": "7d709900",
   "metadata": {},
   "source": [
    "## Result Visualization"
   ]
  },
  {
   "cell_type": "markdown",
   "id": "baf6a974",
   "metadata": {},
   "source": [
    "First, let's plot the field distribution for both the TE0 and TM0 simulations.\n",
    "\n",
    "From the plots, we can see the efficient light transfer from one waveguide to the other in both polarizations with minimum excitation of the middle waveguide."
   ]
  },
  {
   "cell_type": "code",
   "execution_count": 13,
   "id": "1af4cf04",
   "metadata": {},
   "outputs": [
    {
     "data": {
      "application/vnd.jupyter.widget-view+json": {
       "model_id": "014be1ff64724ea98b786fa1f3c0707c",
       "version_major": 2,
       "version_minor": 0
      },
      "text/plain": [
       "Output()"
      ]
     },
     "metadata": {},
     "output_type": "display_data"
    },
    {
     "data": {
      "text/html": [
       "<pre style=\"white-space:pre;overflow-x:auto;line-height:normal;font-family:Menlo,'DejaVu Sans Mono',consolas,'Courier New',monospace\"></pre>\n"
      ],
      "text/plain": []
     },
     "metadata": {},
     "output_type": "display_data"
    },
    {
     "data": {
      "text/html": [
       "<pre style=\"white-space:pre;overflow-x:auto;line-height:normal;font-family:Menlo,'DejaVu Sans Mono',consolas,'Courier New',monospace\">\n",
       "</pre>\n"
      ],
      "text/plain": [
       "\n"
      ]
     },
     "metadata": {},
     "output_type": "display_data"
    },
    {
     "data": {
      "text/html": [
       "<pre style=\"white-space:pre;overflow-x:auto;line-height:normal;font-family:Menlo,'DejaVu Sans Mono',consolas,'Courier New',monospace\"><span style=\"color: #7fbfbf; text-decoration-color: #7fbfbf\">13:41:14 PDT </span>loading simulation from                                            \n",
       "<span style=\"color: #7fbfbf; text-decoration-color: #7fbfbf\">             </span>data/fdve-<span style=\"color: #ffff00; text-decoration-color: #ffff00\">464d389c-8a31-486c-906c-a016c8aa6db7</span>v1.hdf5              \n",
       "</pre>\n"
      ],
      "text/plain": [
       "\u001b[2;36m13:41:14 PDT\u001b[0m\u001b[2;36m \u001b[0mloading simulation from                                            \n",
       "\u001b[2;36m             \u001b[0mdata/fdve-\u001b[93m464d389c-8a31-486c-906c-a016c8aa6db7\u001b[0mv1.hdf5              \n"
      ]
     },
     "metadata": {},
     "output_type": "display_data"
    },
    {
     "data": {
      "application/vnd.jupyter.widget-view+json": {
       "model_id": "8f492449f452456489244ec0ad84b2d7",
       "version_major": 2,
       "version_minor": 0
      },
      "text/plain": [
       "Output()"
      ]
     },
     "metadata": {},
     "output_type": "display_data"
    },
    {
     "data": {
      "text/html": [
       "<pre style=\"white-space:pre;overflow-x:auto;line-height:normal;font-family:Menlo,'DejaVu Sans Mono',consolas,'Courier New',monospace\"></pre>\n"
      ],
      "text/plain": []
     },
     "metadata": {},
     "output_type": "display_data"
    },
    {
     "data": {
      "text/html": [
       "<pre style=\"white-space:pre;overflow-x:auto;line-height:normal;font-family:Menlo,'DejaVu Sans Mono',consolas,'Courier New',monospace\">\n",
       "</pre>\n"
      ],
      "text/plain": [
       "\n"
      ]
     },
     "metadata": {},
     "output_type": "display_data"
    },
    {
     "data": {
      "text/html": [
       "<pre style=\"white-space:pre;overflow-x:auto;line-height:normal;font-family:Menlo,'DejaVu Sans Mono',consolas,'Courier New',monospace\"><span style=\"color: #7fbfbf; text-decoration-color: #7fbfbf\">13:41:45 PDT </span>loading simulation from                                            \n",
       "<span style=\"color: #7fbfbf; text-decoration-color: #7fbfbf\">             </span>data/fdve-<span style=\"color: #ffff00; text-decoration-color: #ffff00\">77e8c78b-5a0f-4c3b-8975-506e1f583500</span>v1.hdf5              \n",
       "</pre>\n"
      ],
      "text/plain": [
       "\u001b[2;36m13:41:45 PDT\u001b[0m\u001b[2;36m \u001b[0mloading simulation from                                            \n",
       "\u001b[2;36m             \u001b[0mdata/fdve-\u001b[93m77e8c78b-5a0f-4c3b-8975-506e1f583500\u001b[0mv1.hdf5              \n"
      ]
     },
     "metadata": {},
     "output_type": "display_data"
    },
    {
     "data": {
      "image/png": "[encoded data removed]",
      "text/plain": [
       "<Figure size 432x432 with 4 Axes>"
      ]
     },
     "metadata": {
      "needs_background": "light"
     },
     "output_type": "display_data"
    }
   ],
   "source": [
    "fig, (ax1, ax2) = plt.subplots(2, 1, figsize=(6, 6), tight_layout=True)\n",
    "\n",
    "batch_results[\"TE\"].plot_field(\n",
    "    field_monitor_name=\"field\", field_name=\"E\", val=\"abs\", vmin=0, vmax=50, ax=ax1\n",
    ")\n",
    "ax1.set_aspect(\"auto\")\n",
    "ax1.set_title(\"TE mode\")\n",
    "batch_results[\"TM\"].plot_field(\n",
    "    field_monitor_name=\"field\", field_name=\"E\", val=\"abs\", vmin=0, vmax=50, ax=ax2\n",
    ")\n",
    "ax2.set_aspect(\"auto\")\n",
    "ax2.set_title(\"TM mode\")\n",
    "plt.show()"
   ]
  },
  {
   "cell_type": "markdown",
   "id": "cf418403",
   "metadata": {},
   "source": [
    "Lastly, we quantitatively calculate and plot the coupling efficiencies. Within the 200 nm simulated bandwidth, we observe a >90% coupling efficiency for both polarizations."
   ]
  },
  {
   "cell_type": "code",
   "execution_count": 14,
   "id": "14127906",
   "metadata": {},
   "outputs": [
    {
     "data": {
      "text/html": [
       "<pre style=\"white-space:pre;overflow-x:auto;line-height:normal;font-family:Menlo,'DejaVu Sans Mono',consolas,'Courier New',monospace\"><span style=\"color: #7fbfbf; text-decoration-color: #7fbfbf\">13:42:16 PDT </span>loading simulation from                                            \n",
       "<span style=\"color: #7fbfbf; text-decoration-color: #7fbfbf\">             </span>data/fdve-<span style=\"color: #ffff00; text-decoration-color: #ffff00\">464d389c-8a31-486c-906c-a016c8aa6db7</span>v1.hdf5              \n",
       "</pre>\n"
      ],
      "text/plain": [
       "\u001b[2;36m13:42:16 PDT\u001b[0m\u001b[2;36m \u001b[0mloading simulation from                                            \n",
       "\u001b[2;36m             \u001b[0mdata/fdve-\u001b[93m464d389c-8a31-486c-906c-a016c8aa6db7\u001b[0mv1.hdf5              \n"
      ]
     },
     "metadata": {},
     "output_type": "display_data"
    },
    {
     "data": {
      "text/html": [
       "<pre style=\"white-space:pre;overflow-x:auto;line-height:normal;font-family:Menlo,'DejaVu Sans Mono',consolas,'Courier New',monospace\"><span style=\"color: #7fbfbf; text-decoration-color: #7fbfbf\">             </span>loading simulation from                                            \n",
       "<span style=\"color: #7fbfbf; text-decoration-color: #7fbfbf\">             </span>data/fdve-<span style=\"color: #ffff00; text-decoration-color: #ffff00\">77e8c78b-5a0f-4c3b-8975-506e1f583500</span>v1.hdf5              \n",
       "</pre>\n"
      ],
      "text/plain": [
       "\u001b[2;36m            \u001b[0m\u001b[2;36m \u001b[0mloading simulation from                                            \n",
       "\u001b[2;36m             \u001b[0mdata/fdve-\u001b[93m77e8c78b-5a0f-4c3b-8975-506e1f583500\u001b[0mv1.hdf5              \n"
      ]
     },
     "metadata": {},
     "output_type": "display_data"
    },
    {
     "data": {
      "image/png": "[encoded data removed]",
      "text/plain": [
       "<Figure size 432x288 with 1 Axes>"
      ]
     },
     "metadata": {
      "needs_background": "light"
     },
     "output_type": "display_data"
    }
   ],
   "source": [
    "# extract the transmission data from the mode monitor\n",
    "amp = batch_results[\"TE\"][\"mode\"].amps.sel(mode_index=0, direction=\"+\")\n",
    "T_te = np.abs(amp) ** 2\n",
    "\n",
    "amp = batch_results[\"TM\"][\"mode\"].amps.sel(mode_index=0, direction=\"+\")\n",
    "T_tm = np.abs(amp) ** 2\n",
    "\n",
    "plt.plot(ldas, T_te, c=\"blue\", label=\"TE\", linewidth=3)\n",
    "plt.plot(ldas, T_tm, \"--\", c=\"red\", label=\"TM\", linewidth=3)\n",
    "plt.xlabel(\"Wavelength ($\\mu m$)\")\n",
    "plt.ylabel(\"Coupling efficiency\")\n",
    "plt.ylim(0.5, 1.05)\n",
    "plt.legend()\n",
    "plt.show()"
   ]
  },
  {
   "cell_type": "markdown",
   "id": "af2d35a7",
   "metadata": {},
   "source": [
    "Further simulations can be used to test fabrication tolerance, nonzero sidewall angle, and so on, which we will not explicitly demonstrate here for the sake of brevity."
   ]
  }
 ],
 "metadata": {
  "description": "This notebook demonstrates the simulation of a thin film lithium nobate adiabatic waveguide coupler.",
  "feature_image": "./img/LN_adiabatic_coupler.png",
  "kernelspec": {
   "display_name": "Python 3 (ipykernel)",
   "language": "python",
   "name": "python3"
  },
  "keywords": "LN, lithium niobate, coupler, Tidy3D, FDTD",
  "language_info": {
   "codemirror_mode": {
    "name": "ipython",
    "version": 3
   },
   "file_extension": ".py",
   "mimetype": "text/x-python",
   "name": "python",
   "nbconvert_exporter": "python",
   "pygments_lexer": "ipython3",
   "version": "3.9.12"
  },
  "title": "Lithium Nobate Adiabatic Waveguide Coupler | Flexcompute"
 },
 "nbformat": 4,
 "nbformat_minor": 5
}
