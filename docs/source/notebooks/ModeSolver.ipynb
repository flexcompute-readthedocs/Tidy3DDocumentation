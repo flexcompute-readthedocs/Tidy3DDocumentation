{
 "cells": [
  {
   "cell_type": "markdown",
   "id": "992aeb00-bc60-45f3-be8a-8aa1edc5f74a",
   "metadata": {},
   "source": [
    "## Mode Solver\n",
    "\n",
    "Run this notebook in your browser using [Binder](https://mybinder.org/v2/gh/flexcompute-readthedocs/tidy3d-docs/readthedocs?labpath=docs%2Fsource%2Fnotebooks%2FModeSolver.ipynb).\n",
    "\n",
    "This tutorial shows how to use the mode solver plugin in tidy3d."
   ]
  },
  {
   "cell_type": "code",
   "execution_count": 1,
   "id": "904048e1-a2ac-41fd-ab7d-b5e85c7b966f",
   "metadata": {
    "tags": []
   },
   "outputs": [],
   "source": [
    "import numpy as np\n",
    "import matplotlib.pylab as plt\n",
    "\n",
    "import tidy3d as td\n",
    "from tidy3d.constants import C_0"
   ]
  },
  {
   "cell_type": "markdown",
   "id": "04d905f4-3904-4667-92c4-4d00b7b21ef7",
   "metadata": {},
   "source": [
    "## Setup\n",
    "\n",
    "We first set up the mode solver with information about our system.\n",
    "\n",
    "We start by setting parameters"
   ]
  },
  {
   "cell_type": "code",
   "execution_count": 2,
   "id": "b7561e66-f844-4ce9-b1af-45b2afdb61e5",
   "metadata": {
    "tags": []
   },
   "outputs": [],
   "source": [
    "# size of simulation domain\n",
    "Lx, Ly, Lz = 6, 6, 6\n",
    "dl = .05\n",
    "\n",
    "# waveguide information \n",
    "wg_width = 1.5\n",
    "wg_height = 1.0\n",
    "wg_permittivity = 4.0\n",
    "\n",
    "# frequency we want to solve at (freq0)\n",
    "wvl_um = 2.0\n",
    "freq_hz = C_0 / wvl_um"
   ]
  },
  {
   "cell_type": "markdown",
   "id": "1f626eec-709e-4d66-881c-8bc8e0501984",
   "metadata": {},
   "source": [
    "Then we set up a simulation, in this case including a straight waveguide"
   ]
  },
  {
   "cell_type": "code",
   "execution_count": 3,
   "id": "f406fab9-422c-4b41-a857-ffa0ba347f13",
   "metadata": {
    "tags": []
   },
   "outputs": [
    {
     "data": {
      "image/png": "[encoded data removed]"
     },
     "metadata": {
      "needs_background": "light"
     },
     "output_type": "display_data"
    }
   ],
   "source": [
    "waveguide = td.Structure(\n",
    "    geometry = td.Box(size=(wg_width, td.inf, wg_height)),\n",
    "    medium = td.Medium(permittivity=wg_permittivity)\n",
    ")\n",
    "monitor = td.FieldMonitor(\n",
    "    size=(td.inf, td.inf, 0),\n",
    "    freqs=[freq_hz],\n",
    "    name='field'\n",
    ")\n",
    "\n",
    "sim = td.Simulation(\n",
    "    size=(Lx, Ly, Lz),\n",
    "    grid_size=(dl, dl, dl),\n",
    "    pml_layers=(None, None, None),\n",
    "    structures=[waveguide],\n",
    "    monitors=[monitor],\n",
    ")\n",
    "\n",
    "ax = sim.plot(x=0)"
   ]
  },
  {
   "cell_type": "markdown",
   "id": "d40bc38c-2241-4dc3-9d99-e5a5e8fce02f",
   "metadata": {},
   "source": [
    "## Initialize Mode Solver\n",
    "\n",
    "With our system defined, we can now create our mode solver.\n",
    "\n",
    "We first need to specify on what plane we want to solve the modes using a `td.Box()` object."
   ]
  },
  {
   "cell_type": "code",
   "execution_count": 4,
   "id": "85242c0e-763e-4c39-bf98-28968fd4ba60",
   "metadata": {
    "tags": []
   },
   "outputs": [],
   "source": [
    "plane = td.Box(\n",
    "    center=(0,0,0),\n",
    "    size=(Lx, 0, Lz)\n",
    ")"
   ]
  },
  {
   "cell_type": "markdown",
   "id": "e8ddbc5f-22cc-4084-b562-d3d7ed0e3424",
   "metadata": {},
   "source": [
    "Then we can initialize a `ModeSolver()` object to solve for the modes at frequency `freq` on plane `plane` in `sim`.\n",
    "\n",
    "The mode solver will evaluate the complex-valued permittivity of `simulation` on `plane` at frequency `freq` and use this for the mode solver."
   ]
  },
  {
   "cell_type": "code",
   "execution_count": 5,
   "id": "e7cd5532-e19d-4d78-aab4-a60657e19a72",
   "metadata": {
    "tags": []
   },
   "outputs": [],
   "source": [
    "from tidy3d.plugins import ModeSolver\n",
    "\n",
    "mode_solver = ModeSolver(\n",
    "    simulation=sim,\n",
    "    plane=plane,\n",
    "    freq=freq_hz\n",
    ")"
   ]
  },
  {
   "cell_type": "markdown",
   "id": "42d8ec77-f275-4eca-9bcd-77a945e0840b",
   "metadata": {},
   "source": [
    "## Define Mode\n",
    "\n",
    "The goal of the mode solver is to determine a `td.Mode()` specification that can be used in your actual Tidy3d simulation.\n",
    "\n",
    "We can define such a specification using\n",
    "\n",
    "- `mode_index`: integer (return the `mode_index`-th result of the solver, generally this refers to the mode with the `mode_index`-th lowest effective index.\n",
    "\n",
    "- `target_neff`: float, default=None, guess for the n_eff of the mode, if not specified, chooses the maximum real part of the refractive index in the cross section.\n",
    "\n",
    "- `symmetry`: tuple of 2 integers, default=(0,0), with the first and second value being one of {0: no symmetry, 1: PMC (even), -1: PEC (odd)}.  These set the symmetry on the two axes of the plane.\n",
    "\n",
    "- `num_pml`: tuple of 2 integers, default=(0,0) specifying how many pml layers to place on the two axes of the plane.\n",
    "\n",
    "For example:"
   ]
  },
  {
   "cell_type": "code",
   "execution_count": 6,
   "id": "a55fdacb-d323-4a37-866b-99a184f64686",
   "metadata": {
    "tags": []
   },
   "outputs": [],
   "source": [
    "mode_spec = td.ModeSpec(\n",
    "    num_modes=3,\n",
    "    target_neff=2.0,\n",
    "    symmetries=(0,0),\n",
    "    num_pml=(0,0)\n",
    ")"
   ]
  },
  {
   "cell_type": "markdown",
   "id": "ad5a2721-5f29-4071-b8e1-a4f4b3a57bb7",
   "metadata": {},
   "source": [
    "Once we have the mode specification, we can `solve` for the mode information using our `ModeSolver()` instance."
   ]
  },
  {
   "cell_type": "code",
   "execution_count": 7,
   "id": "b2e1096a-a6b3-400c-84f0-3905f126ce73",
   "metadata": {
    "tags": []
   },
   "outputs": [],
   "source": [
    "modes_info = mode_solver.solve(mode_spec)\n",
    "first_mode = modes_info[0]"
   ]
  },
  {
   "cell_type": "markdown",
   "id": "a65fe18c-efd4-4ad6-8150-976db463a9f6",
   "metadata": {},
   "source": [
    "## Visualizing Mode Data\n",
    "\n",
    "The `mode_info` object contains information about the effective index of the mode and the field profiles.\n",
    "\n",
    "The effective index information can be accessed as follows."
   ]
  },
  {
   "cell_type": "code",
   "execution_count": 8,
   "id": "ed4107ba-03dc-4ce2-9af9-d2d49a87305f",
   "metadata": {
    "tags": []
   },
   "outputs": [
    {
     "name": "stdout",
     "output_type": "stream",
     "text": [
      "found: n_eff = 1.74, k_eff = -1.67e-17\n"
     ]
    }
   ],
   "source": [
    "n_eff = first_mode.n_eff\n",
    "k_eff = first_mode.k_eff\n",
    "\n",
    "print(f'found: n_eff = {n_eff:.2f}, k_eff = {k_eff:.2e}')"
   ]
  },
  {
   "cell_type": "markdown",
   "id": "67464b45-f782-4fde-8ac6-e98155754e61",
   "metadata": {},
   "source": [
    "The `mode_info.field_data` attribute is a `td.FieldData` instance that can be visualized and analyzed using the various methods provided by `FieldData` objects."
   ]
  },
  {
   "cell_type": "code",
   "execution_count": 9,
   "id": "89bddefa-79d5-41f0-93fc-b87ca1560144",
   "metadata": {
    "tags": []
   },
   "outputs": [
    {
     "data": {
      "image/png": "[encoded data removed]"
     },
     "metadata": {
      "needs_background": "light"
     },
     "output_type": "display_data"
    }
   ],
   "source": [
    "f, (ax1, ax2) = plt.subplots(1, 2, tight_layout=True, figsize=(10, 3))\n",
    "abs(first_mode.field_data.Ex).plot(ax=ax1, cmap='magma')\n",
    "first_mode.field_data.Ez.real.plot(ax=ax2)\n",
    "\n",
    "# mode_info.field_data.Ez.real.plot.real.plot.pcolormesh(x='y', y='z', ax=ax2)\n",
    "ax1.set_title('|Ex(x, y)|')\n",
    "ax2.set_title('|Ez(x, y)|')\n",
    "plt.show()"
   ]
  },
  {
   "cell_type": "markdown",
   "id": "44b63c7f-9dbc-4f03-8150-bc3da5c0af77",
   "metadata": {},
   "source": [
    "## Refining the Mode information\n",
    "\n",
    "In typical settings, one would want to tweak the parameters in the `Mode` specification nd run again.\n",
    "\n",
    "For example, if we wanted to find the next higher order mode, we can adjust `Mode.mode_index` and solve again."
   ]
  },
  {
   "cell_type": "code",
   "execution_count": 10,
   "id": "78290b12-54a9-4a0a-b138-207a8b31b3d6",
   "metadata": {
    "tags": []
   },
   "outputs": [
    {
     "data": {
      "image/png": "[encoded data removed]"
     },
     "metadata": {
      "needs_background": "light"
     },
     "output_type": "display_data"
    }
   ],
   "source": [
    "second_mode = modes_info[1]\n",
    "f, (ax1, ax2) = plt.subplots(1, 2, tight_layout=True, figsize=(10, 3))\n",
    "second_mode.field_data.Ex.real.plot(x='x', y='z', ax=ax1)\n",
    "abs(second_mode.field_data.Ez).plot(x='x', y='z', ax=ax2, cmap='magma',)\n",
    "ax1.set_title('real(Ey(x, y))')\n",
    "ax2.set_title('real(Ez(x, y))')\n",
    "plt.show()"
   ]
  },
  {
   "cell_type": "markdown",
   "id": "a73228af-02da-4beb-bf37-3489bbccfd10",
   "metadata": {},
   "source": [
    "This looks like an Ez-dominant mode, if instead we wanted a higher order Ey-dominant mode, let's try again speciying that we want to solve 4 modes and select with `mode_index=3`."
   ]
  },
  {
   "cell_type": "code",
   "execution_count": 11,
   "id": "75d22ea0-8328-48b5-a2ce-995c20b36d71",
   "metadata": {
    "tags": []
   },
   "outputs": [
    {
     "data": {
      "image/png": "[encoded data removed]"
     },
     "metadata": {
      "needs_background": "light"
     },
     "output_type": "display_data"
    }
   ],
   "source": [
    "third_mode = modes_info[2]\n",
    "f, (ax1, ax2) = plt.subplots(1, 2, tight_layout=True, figsize=(10, 3))\n",
    "third_mode.field_data.Ex.real.plot(x='x', y='z', ax=ax1)\n",
    "third_mode.field_data.Ez.real.plot(x='x', y='z', ax=ax2)\n",
    "ax1.set_title('real(Ex(x, y))')\n",
    "ax2.set_title('real(Ez(x, y))')\n",
    "plt.show()"
   ]
  },
  {
   "cell_type": "markdown",
   "id": "23106d01-4491-427f-af40-219f4830f865",
   "metadata": {},
   "source": [
    "## Exporting Results\n",
    "\n",
    "This looks promising!\n",
    "\n",
    "Now we may want to export this `Mode` specification to use in our main tidy3d script.\n",
    "\n",
    "There are several ways to do this:"
   ]
  },
  {
   "cell_type": "markdown",
   "id": "71904023-fa7a-402e-8bf4-a892e84a9a8c",
   "metadata": {},
   "source": [
    "### As Source\n",
    "The `Mode` object used in the `ModeSolver` can be used directly to define a `ModeSource` or `ModeMonitor`, for example:"
   ]
  },
  {
   "cell_type": "code",
   "execution_count": 12,
   "id": "aa92d712-a2fc-4717-b196-5377001135a5",
   "metadata": {
    "tags": []
   },
   "outputs": [],
   "source": [
    "fwidth = freq_hz/10\n",
    "mode_source = mode_solver.to_source(mode_spec, mode_index=2, fwidth=fwidth, direction='-')\n",
    "\n",
    "sim = td.Simulation(\n",
    "    size=(Lx, Ly, Lz),\n",
    "    grid_size=(dl, dl, dl),\n",
    "    run_time=20/fwidth,\n",
    "    pml_layers=(td.PML(), td.PML(), td.PML()),\n",
    "    structures=[waveguide],\n",
    "    sources=[mode_source],\n",
    "    monitors=[monitor]\n",
    ")"
   ]
  },
  {
   "cell_type": "code",
   "execution_count": 13,
   "id": "ee4cf84b-a418-4719-bdf3-fcc7c062d299",
   "metadata": {},
   "outputs": [
    {
     "name": "stdout",
     "output_type": "stream",
     "text": [
      "Using Tidy3D credentials from stored file\n"
     ]
    },
    {
     "data": {
      "text/html": [
       "<pre style=\"white-space:pre;overflow-x:auto;line-height:normal;font-family:Menlo,'DejaVu Sans Mono',consolas,'Courier New',monospace\"><span style=\"color: #7fbfbf; text-decoration-color: #7fbfbf\">[11:42:35] </span><span style=\"color: #000080; text-decoration-color: #000080\">INFO    </span> Uploaded task <span style=\"color: #008000; text-decoration-color: #008000\">'mode_simulation'</span> with task_id                <a href=\"file:///Users/twhughes/Documents/Flexcompute/tidy3d-docs/tidy3d/tidy3d/web/webapi.py\"><span style=\"color: #7f7f7f; text-decoration-color: #7f7f7f\">webapi.py</span></a><span style=\"color: #7f7f7f; text-decoration-color: #7f7f7f\">:</span><a href=\"file:///Users/twhughes/Documents/Flexcompute/tidy3d-docs/tidy3d/tidy3d/web/webapi.py#108\"><span style=\"color: #7f7f7f; text-decoration-color: #7f7f7f\">108</span></a>\n",
       "                    <span style=\"color: #008000; text-decoration-color: #008000\">'c7a2ff2d-b1da-4f21-820e-fd06c1c0f979'</span>.                                  \n",
       "</pre>\n"
      ],
      "text/plain": [
       "\u001b[2;36m[11:42:35]\u001b[0m\u001b[2;36m \u001b[0m\u001b[34mINFO    \u001b[0m Uploaded task \u001b[32m'mode_simulation'\u001b[0m with task_id                \u001b]8;id=609357;file:///Users/twhughes/Documents/Flexcompute/tidy3d-docs/tidy3d/tidy3d/web/webapi.py\u001b\\\u001b[2mwebapi.py\u001b[0m\u001b]8;;\u001b\\\u001b[2m:\u001b[0m\u001b]8;id=517778;file:///Users/twhughes/Documents/Flexcompute/tidy3d-docs/tidy3d/tidy3d/web/webapi.py#108\u001b\\\u001b[2m108\u001b[0m\u001b]8;;\u001b\\\n",
       "                    \u001b[32m'c7a2ff2d-b1da-4f21-820e-fd06c1c0f979'\u001b[0m.                                  \n"
      ]
     },
     "metadata": {},
     "output_type": "display_data"
    },
    {
     "data": {
      "application/vnd.jupyter.widget-view+json": {
       "model_id": "",
       "version_major": 2,
       "version_minor": 0
      },
      "text/plain": [
       "Output()"
      ]
     },
     "metadata": {},
     "output_type": "display_data"
    },
    {
     "data": {
      "text/html": [
       "<pre style=\"white-space:pre;overflow-x:auto;line-height:normal;font-family:Menlo,'DejaVu Sans Mono',consolas,'Courier New',monospace\"><span style=\"color: #7fbfbf; text-decoration-color: #7fbfbf\">[11:43:08] </span>status = running                                                  <a href=\"file:///Users/twhughes/Documents/Flexcompute/tidy3d-docs/tidy3d/tidy3d/web/container.py\"><span style=\"color: #7f7f7f; text-decoration-color: #7f7f7f\">container.py</span></a><span style=\"color: #7f7f7f; text-decoration-color: #7f7f7f\">:</span><a href=\"file:///Users/twhughes/Documents/Flexcompute/tidy3d-docs/tidy3d/tidy3d/web/container.py#142\"><span style=\"color: #7f7f7f; text-decoration-color: #7f7f7f\">142</span></a>\n",
       "</pre>\n"
      ],
      "text/plain": [
       "\u001b[2;36m[11:43:08]\u001b[0m\u001b[2;36m \u001b[0mstatus = running                                                  \u001b]8;id=642899;file:///Users/twhughes/Documents/Flexcompute/tidy3d-docs/tidy3d/tidy3d/web/container.py\u001b\\\u001b[2mcontainer.py\u001b[0m\u001b]8;;\u001b\\\u001b[2m:\u001b[0m\u001b]8;id=729765;file:///Users/twhughes/Documents/Flexcompute/tidy3d-docs/tidy3d/tidy3d/web/container.py#142\u001b\\\u001b[2m142\u001b[0m\u001b]8;;\u001b\\\n"
      ]
     },
     "metadata": {},
     "output_type": "display_data"
    },
    {
     "data": {
      "text/html": [
       "<pre style=\"white-space:pre;overflow-x:auto;line-height:normal;font-family:Menlo,'DejaVu Sans Mono',consolas,'Courier New',monospace\"><span style=\"color: #7fbfbf; text-decoration-color: #7fbfbf\">[11:43:23] </span>status = postprocess                                              <a href=\"file:///Users/twhughes/Documents/Flexcompute/tidy3d-docs/tidy3d/tidy3d/web/container.py\"><span style=\"color: #7f7f7f; text-decoration-color: #7f7f7f\">container.py</span></a><span style=\"color: #7f7f7f; text-decoration-color: #7f7f7f\">:</span><a href=\"file:///Users/twhughes/Documents/Flexcompute/tidy3d-docs/tidy3d/tidy3d/web/container.py#142\"><span style=\"color: #7f7f7f; text-decoration-color: #7f7f7f\">142</span></a>\n",
       "</pre>\n"
      ],
      "text/plain": [
       "\u001b[2;36m[11:43:23]\u001b[0m\u001b[2;36m \u001b[0mstatus = postprocess                                              \u001b]8;id=933982;file:///Users/twhughes/Documents/Flexcompute/tidy3d-docs/tidy3d/tidy3d/web/container.py\u001b\\\u001b[2mcontainer.py\u001b[0m\u001b]8;;\u001b\\\u001b[2m:\u001b[0m\u001b]8;id=575679;file:///Users/twhughes/Documents/Flexcompute/tidy3d-docs/tidy3d/tidy3d/web/container.py#142\u001b\\\u001b[2m142\u001b[0m\u001b]8;;\u001b\\\n"
      ]
     },
     "metadata": {},
     "output_type": "display_data"
    },
    {
     "data": {
      "text/html": [
       "<pre style=\"white-space:pre;overflow-x:auto;line-height:normal;font-family:Menlo,'DejaVu Sans Mono',consolas,'Courier New',monospace\"><span style=\"color: #7fbfbf; text-decoration-color: #7fbfbf\">[11:43:39] </span>status = visualize                                                <a href=\"file:///Users/twhughes/Documents/Flexcompute/tidy3d-docs/tidy3d/tidy3d/web/container.py\"><span style=\"color: #7f7f7f; text-decoration-color: #7f7f7f\">container.py</span></a><span style=\"color: #7f7f7f; text-decoration-color: #7f7f7f\">:</span><a href=\"file:///Users/twhughes/Documents/Flexcompute/tidy3d-docs/tidy3d/tidy3d/web/container.py#142\"><span style=\"color: #7f7f7f; text-decoration-color: #7f7f7f\">142</span></a>\n",
       "</pre>\n"
      ],
      "text/plain": [
       "\u001b[2;36m[11:43:39]\u001b[0m\u001b[2;36m \u001b[0mstatus = visualize                                                \u001b]8;id=273320;file:///Users/twhughes/Documents/Flexcompute/tidy3d-docs/tidy3d/tidy3d/web/container.py\u001b\\\u001b[2mcontainer.py\u001b[0m\u001b]8;;\u001b\\\u001b[2m:\u001b[0m\u001b]8;id=7786;file:///Users/twhughes/Documents/Flexcompute/tidy3d-docs/tidy3d/tidy3d/web/container.py#142\u001b\\\u001b[2m142\u001b[0m\u001b]8;;\u001b\\\n"
      ]
     },
     "metadata": {},
     "output_type": "display_data"
    },
    {
     "data": {
      "text/html": [
       "<pre style=\"white-space:pre;overflow-x:auto;line-height:normal;font-family:Menlo,'DejaVu Sans Mono',consolas,'Courier New',monospace\"><span style=\"color: #7fbfbf; text-decoration-color: #7fbfbf\">[11:44:11] </span>status = success                                                  <a href=\"file:///Users/twhughes/Documents/Flexcompute/tidy3d-docs/tidy3d/tidy3d/web/container.py\"><span style=\"color: #7f7f7f; text-decoration-color: #7f7f7f\">container.py</span></a><span style=\"color: #7f7f7f; text-decoration-color: #7f7f7f\">:</span><a href=\"file:///Users/twhughes/Documents/Flexcompute/tidy3d-docs/tidy3d/tidy3d/web/container.py#142\"><span style=\"color: #7f7f7f; text-decoration-color: #7f7f7f\">142</span></a>\n",
       "</pre>\n"
      ],
      "text/plain": [
       "\u001b[2;36m[11:44:11]\u001b[0m\u001b[2;36m \u001b[0mstatus = success                                                  \u001b]8;id=660357;file:///Users/twhughes/Documents/Flexcompute/tidy3d-docs/tidy3d/tidy3d/web/container.py\u001b\\\u001b[2mcontainer.py\u001b[0m\u001b]8;;\u001b\\\u001b[2m:\u001b[0m\u001b]8;id=120100;file:///Users/twhughes/Documents/Flexcompute/tidy3d-docs/tidy3d/tidy3d/web/container.py#142\u001b\\\u001b[2m142\u001b[0m\u001b]8;;\u001b\\\n"
      ]
     },
     "metadata": {},
     "output_type": "display_data"
    },
    {
     "data": {
      "text/html": [
       "<pre style=\"white-space:pre;overflow-x:auto;line-height:normal;font-family:Menlo,'DejaVu Sans Mono',consolas,'Courier New',monospace\"></pre>\n"
      ],
      "text/plain": []
     },
     "metadata": {},
     "output_type": "display_data"
    },
    {
     "data": {
      "text/html": [
       "<pre style=\"white-space:pre;overflow-x:auto;line-height:normal;font-family:Menlo,'DejaVu Sans Mono',consolas,'Courier New',monospace\"><span style=\"color: #7fbfbf; text-decoration-color: #7fbfbf\">[11:44:12] </span><span style=\"color: #000080; text-decoration-color: #000080\">INFO    </span> downloading file <span style=\"color: #008000; text-decoration-color: #008000\">\"monitor_data.hdf5\"</span> to                     <a href=\"file:///Users/twhughes/Documents/Flexcompute/tidy3d-docs/tidy3d/tidy3d/web/webapi.py\"><span style=\"color: #7f7f7f; text-decoration-color: #7f7f7f\">webapi.py</span></a><span style=\"color: #7f7f7f; text-decoration-color: #7f7f7f\">:</span><a href=\"file:///Users/twhughes/Documents/Flexcompute/tidy3d-docs/tidy3d/tidy3d/web/webapi.py#479\"><span style=\"color: #7f7f7f; text-decoration-color: #7f7f7f\">479</span></a>\n",
       "                    <span style=\"color: #008000; text-decoration-color: #008000\">\"data/simulation_data.hdf5\"</span>                                              \n",
       "</pre>\n"
      ],
      "text/plain": [
       "\u001b[2;36m[11:44:12]\u001b[0m\u001b[2;36m \u001b[0m\u001b[34mINFO    \u001b[0m downloading file \u001b[32m\"monitor_data.hdf5\"\u001b[0m to                     \u001b]8;id=766699;file:///Users/twhughes/Documents/Flexcompute/tidy3d-docs/tidy3d/tidy3d/web/webapi.py\u001b\\\u001b[2mwebapi.py\u001b[0m\u001b]8;;\u001b\\\u001b[2m:\u001b[0m\u001b]8;id=219996;file:///Users/twhughes/Documents/Flexcompute/tidy3d-docs/tidy3d/tidy3d/web/webapi.py#479\u001b\\\u001b[2m479\u001b[0m\u001b]8;;\u001b\\\n",
       "                    \u001b[32m\"data/simulation_data.hdf5\"\u001b[0m                                              \n"
      ]
     },
     "metadata": {},
     "output_type": "display_data"
    },
    {
     "data": {
      "application/vnd.jupyter.widget-view+json": {
       "model_id": "47a76589b7e54c37be82f10685baa32d",
       "version_major": 2,
       "version_minor": 0
      },
      "text/plain": [
       "Output()"
      ]
     },
     "metadata": {},
     "output_type": "display_data"
    },
    {
     "data": {
      "text/html": [
       "<pre style=\"white-space:pre;overflow-x:auto;line-height:normal;font-family:Menlo,'DejaVu Sans Mono',consolas,'Courier New',monospace\"><span style=\"color: #800000; text-decoration-color: #800000\">Downloading...</span> <span style=\"color: #729c1f; text-decoration-color: #729c1f\">━━━━━━━━━━━━━━━━━━━━━━━━━━━━━━━━━━━━━━━━</span> <span style=\"color: #800080; text-decoration-color: #800080\">100%</span> <span style=\"color: #008080; text-decoration-color: #008080\">0:00:00</span>\n",
       "</pre>\n"
      ],
      "text/plain": [
       "\u001b[31mDownloading...\u001b[0m \u001b[38;2;114;156;31m━━━━━━━━━━━━━━━━━━━━━━━━━━━━━━━━━━━━━━━━\u001b[0m \u001b[35m100%\u001b[0m \u001b[36m0:00:00\u001b[0m\n"
      ]
     },
     "metadata": {},
     "output_type": "display_data"
    },
    {
     "data": {
      "text/html": [
       "<pre style=\"white-space:pre;overflow-x:auto;line-height:normal;font-family:Menlo,'DejaVu Sans Mono',consolas,'Courier New',monospace\">\n",
       "</pre>\n"
      ],
      "text/plain": [
       "\n"
      ]
     },
     "metadata": {},
     "output_type": "display_data"
    },
    {
     "data": {
      "text/html": [
       "<pre style=\"white-space:pre;overflow-x:auto;line-height:normal;font-family:Menlo,'DejaVu Sans Mono',consolas,'Courier New',monospace\"><span style=\"color: #7fbfbf; text-decoration-color: #7fbfbf\">[11:44:14] </span><span style=\"color: #000080; text-decoration-color: #000080\">INFO    </span> loading SimulationData from data/simulation_data.hdf5       <a href=\"file:///Users/twhughes/Documents/Flexcompute/tidy3d-docs/tidy3d/tidy3d/web/webapi.py\"><span style=\"color: #7f7f7f; text-decoration-color: #7f7f7f\">webapi.py</span></a><span style=\"color: #7f7f7f; text-decoration-color: #7f7f7f\">:</span><a href=\"file:///Users/twhughes/Documents/Flexcompute/tidy3d-docs/tidy3d/tidy3d/web/webapi.py#300\"><span style=\"color: #7f7f7f; text-decoration-color: #7f7f7f\">300</span></a>\n",
       "</pre>\n"
      ],
      "text/plain": [
       "\u001b[2;36m[11:44:14]\u001b[0m\u001b[2;36m \u001b[0m\u001b[34mINFO    \u001b[0m loading SimulationData from data/simulation_data.hdf5       \u001b]8;id=70406;file:///Users/twhughes/Documents/Flexcompute/tidy3d-docs/tidy3d/tidy3d/web/webapi.py\u001b\\\u001b[2mwebapi.py\u001b[0m\u001b]8;;\u001b\\\u001b[2m:\u001b[0m\u001b]8;id=307809;file:///Users/twhughes/Documents/Flexcompute/tidy3d-docs/tidy3d/tidy3d/web/webapi.py#300\u001b\\\u001b[2m300\u001b[0m\u001b]8;;\u001b\\\n"
      ]
     },
     "metadata": {},
     "output_type": "display_data"
    }
   ],
   "source": [
    "import tidy3d.web as web\n",
    "job = web.Job(simulation=sim, task_name='mode_simulation')\n",
    "sim_data = job.run(path='data/simulation_data.hdf5')"
   ]
  },
  {
   "cell_type": "code",
   "execution_count": 14,
   "id": "29c3acc2-ca03-464f-90c1-35ce099d70eb",
   "metadata": {},
   "outputs": [
    {
     "data": {
      "text/html": [
       "<pre style=\"white-space:pre;overflow-x:auto;line-height:normal;font-family:Menlo,'DejaVu Sans Mono',consolas,'Courier New',monospace\"><span style=\"font-weight: bold\">&lt;</span><span style=\"color: #ff00ff; text-decoration-color: #ff00ff; font-weight: bold\">matplotlib.collections.QuadMesh</span><span style=\"color: #000000; text-decoration-color: #000000\"> object at </span><span style=\"color: #008080; text-decoration-color: #008080; font-weight: bold\">0x7fbb4524c850</span><span style=\"font-weight: bold\">&gt;</span>\n",
       "</pre>\n"
      ],
      "text/plain": [
       "\u001b[1m<\u001b[0m\u001b[1;95mmatplotlib.collections.QuadMesh\u001b[0m\u001b[39m object at \u001b[0m\u001b[1;36m0x7fbb4524c850\u001b[0m\u001b[1m>\u001b[0m\n"
      ]
     },
     "metadata": {},
     "output_type": "display_data"
    },
    {
     "data": {
      "image/png": "[encoded data removed]"
     },
     "metadata": {
      "needs_background": "light"
     },
     "output_type": "display_data"
    }
   ],
   "source": [
    "ax = sim_data['field'].Ez.interp(z=0).real.plot()"
   ]
  },
  {
   "cell_type": "markdown",
   "id": "91ae5e53-b020-4c9b-baea-eed7d56cd7c3",
   "metadata": {},
   "source": [
    "### Save and Load\n",
    "Like most tidy3d components, the `mode` can be exported to .json and loaded in your main script, if runnning mode solver as a separate program."
   ]
  },
  {
   "cell_type": "code",
   "execution_count": 15,
   "id": "7b91a2c4-429d-4717-bad7-2f0a52de5ec1",
   "metadata": {
    "tags": []
   },
   "outputs": [],
   "source": [
    "# save to file\n",
    "fname = 'data/mode_spec.json'\n",
    "mode_spec.to_file(fname)\n",
    "\n",
    "# in your main script, load file and use mode\n",
    "mode_spec = td.ModeSpec.from_file(fname)"
   ]
  },
  {
   "cell_type": "markdown",
   "id": "4ff55bae-0eab-482d-9b5c-582c12641402",
   "metadata": {},
   "source": [
    "### Copy and Paste\n",
    "\n",
    "One can also simply print the mode and copy and paste this information into the main script to hard-code the specifications"
   ]
  },
  {
   "cell_type": "code",
   "execution_count": 16,
   "id": "bdee6787-cbd4-49e7-bb81-0323506c21de",
   "metadata": {
    "tags": []
   },
   "outputs": [
    {
     "name": "stdout",
     "output_type": "stream",
     "text": [
      "mode_spec = td.ModeSpec(num_modes=3 target_neff=2.0 symmetries=(0, 0) num_pml=(0, 0) bend_radius=None bend_axis=None type='ModeSpec')\n"
     ]
    }
   ],
   "source": [
    "print(f'mode_spec = td.ModeSpec({mode_spec})')"
   ]
  },
  {
   "cell_type": "code",
   "execution_count": 17,
   "id": "66e31397-3626-4222-bd19-5514562d955c",
   "metadata": {
    "tags": []
   },
   "outputs": [
    {
     "name": "stdout",
     "output_type": "stream",
     "text": [
      "num_modes=3 target_neff=2.0 symmetries=(0, 0) num_pml=(0, 0) bend_radius=None bend_axis=None type='ModeSpec'\n"
     ]
    }
   ],
   "source": [
    "# copy and paste output in your file\n",
    "print(mode_spec)"
   ]
  },
  {
   "cell_type": "markdown",
   "id": "96ecf333-9514-46a6-b474-50a656ff5c7b",
   "metadata": {},
   "source": [
    "### ModeSolver methods\n",
    "Finally, the `ModeSolver` provides some convenience methods for returning `ModeSource` and `ModeMonitor` objects."
   ]
  },
  {
   "cell_type": "code",
   "execution_count": 18,
   "id": "29fbf9dd-c61f-407f-83e6-9e107720809b",
   "metadata": {
    "tags": []
   },
   "outputs": [],
   "source": [
    "# makes a modal source with geometry of `plane`, source_time given by `freq_hz` and `fwidth` and `mode` specified by `mode`\n",
    "mode_src = mode_solver.to_source(mode_spec=mode_spec, mode_index=2, fwidth=freq_hz, direction='-')\n",
    "\n",
    "# makes a mode monitor with geometry of `plane`, `td.FreqSampler` given by a list of frequencies and `mode` specified by `mode`\n",
    "mode_mon = mode_solver.to_monitor(mode_spec=mode_spec, freqs=[0.9 * freq_hz, freq_hz, 1.1*freq_hz], name='mode')"
   ]
  },
  {
   "cell_type": "markdown",
   "id": "e8879c05-62d2-4de4-a9d7-2f4537f408f9",
   "metadata": {},
   "source": [
    "## Advanced Use\n",
    "\n",
    "Here are some more advanced functionalities of the mode solver for practical use:\n",
    "\n",
    "### \"Scanning\" modes\n",
    "One might want to view how a mode behaves over a range of frequencies, for now, just iterate:"
   ]
  },
  {
   "cell_type": "code",
   "execution_count": 19,
   "id": "ba7c532e-d7ad-4d76-bc7e-05c116604fba",
   "metadata": {
    "tags": []
   },
   "outputs": [
    {
     "name": "stdout",
     "output_type": "stream",
     "text": [
      "freq = 600 THz\n",
      "\t- neff = 1.96\n",
      "\t- keff = 2.05e-12\n",
      "freq = 400 THz\n",
      "\t- neff = 1.91\n",
      "\t- keff = 6.06e-18\n",
      "freq = 300 THz\n",
      "\t- neff = 1.84\n",
      "\t- keff = 7.74e-12\n",
      "freq = 240 THz\n",
      "\t- neff = 1.76\n",
      "\t- keff = -6.03e-10\n",
      "freq = 200 THz\n",
      "\t- neff = 1.66\n",
      "\t- keff = 1.14e-17\n"
     ]
    },
    {
     "data": {
      "image/png": "[encoded data removed]"
     },
     "metadata": {
      "needs_background": "light"
     },
     "output_type": "display_data"
    }
   ],
   "source": [
    "freqs = C_0 / np.linspace(0.5, 1.5, 5)\n",
    "neffs = []\n",
    "for freq in freqs:\n",
    "    mode_solver = ModeSolver(\n",
    "        simulation=sim,\n",
    "        plane=plane,\n",
    "        freq=freq)\n",
    "    mode_info = mode_solver.solve(mode_spec)[2]\n",
    "    print(f'freq = {(freq/1e12):.0f} THz\\n\\t- neff = {mode_info.n_eff:.2f}\\n\\t- keff = {mode_info.k_eff:.2e}')\n",
    "    neffs.append(mode_info.n_eff)\n",
    "    # or, get field data and plot\n",
    "\n",
    "plt.plot(freqs / 1e12, neffs)\n",
    "plt.xlabel('freq (THz)')\n",
    "plt.ylabel('effective index (real)')\n",
    "plt.show()"
   ]
  },
  {
   "cell_type": "markdown",
   "id": "6876ca3b-6664-44c2-8fb6-bd67d3db6d02",
   "metadata": {},
   "source": [
    "### Viewing multiple mode specifications\n",
    "One might want to view multiple mode specifications side by side, for now, just iterate:"
   ]
  },
  {
   "cell_type": "code",
   "execution_count": 20,
   "id": "948f8b5a-3217-47da-bfc3-a40c674b6fbf",
   "metadata": {
    "tags": []
   },
   "outputs": [
    {
     "name": "stdout",
     "output_type": "stream",
     "text": [
      "mode index = 0\n",
      "\t- neff = 1.84\n",
      "\t- keff = 1.74e-18\n",
      "mode index = 1\n",
      "\t- neff = 1.81\n",
      "\t- keff = 8.72e-18\n",
      "mode index = 2\n",
      "\t- neff = 1.66\n",
      "\t- keff = -1.36e-17\n",
      "mode index = 3\n",
      "\t- neff = 1.64\n",
      "\t- keff = 3.96e-18\n",
      "mode index = 4\n",
      "\t- neff = 1.53\n",
      "\t- keff = -2.88e-14\n"
     ]
    },
    {
     "data": {
      "image/png": "[encoded data removed]"
     },
     "metadata": {
      "needs_background": "light"
     },
     "output_type": "display_data"
    }
   ],
   "source": [
    "mode_indices = np.arange(0, 5)\n",
    "mode_solver = ModeSolver(\n",
    "    simulation=sim,\n",
    "    plane=plane,\n",
    "    freq=freq)\n",
    "mode_spec = td.ModeSpec(num_modes=max(mode_indices)+1)\n",
    "\n",
    "\n",
    "neffs = []\n",
    "for mode_index in mode_indices:\n",
    "    mode_info = mode_solver.solve(mode_spec)[mode_index]\n",
    "    print(f'mode index = {mode_index}\\n\\t- neff = {mode_info.n_eff:.2f}\\n\\t- keff = {mode_info.k_eff:.2e}')\n",
    "    neffs.append(mode_info.n_eff)\n",
    "    # or, get field data and plot\n",
    "\n",
    "plt.plot(freqs / 1e12, neffs)\n",
    "plt.xlabel('freq (THz)')\n",
    "plt.ylabel('effective index (real)')\n",
    "plt.show()"
   ]
  },
  {
   "cell_type": "markdown",
   "id": "3c601b8b-b9f0-4f60-a150-ed77aa0c9fa6",
   "metadata": {},
   "source": [
    "## Notes / Considerations\n",
    "\n",
    "- This mode solver runs locally, which means it does not require credits to run.\n",
    "- It also means that the mode solver does not use subpixel-smoothening, even if this is specified in the simulation.  Therefore, the results might not perfectly match what we compute with `simulation.subpixel=True`.\n",
    "- Symmetries are applied to the cross section of the permittivity parsed from the simulation.  It uses the upper quadrant data to fill the full `plane`.  "
   ]
  },
  {
   "cell_type": "code",
   "execution_count": null,
   "id": "5ba36aef-b905-4da5-8b27-3c13312bf6e4",
   "metadata": {},
   "outputs": [],
   "source": []
  }
 ],
 "metadata": {
  "kernelspec": {
   "display_name": "Python 3 (ipykernel)",
   "language": "python",
   "name": "python3"
  },
  "language_info": {
   "codemirror_mode": {
    "name": "ipython",
    "version": 3
   },
   "file_extension": ".py",
   "mimetype": "text/x-python",
   "name": "python",
   "nbconvert_exporter": "python",
   "pygments_lexer": "ipython3",
   "version": "3.7.9"
  },
  "widgets": {
   "application/vnd.jupyter.widget-state+json": {
    "state": {
     "0850083c39c34d928602a98cddfb251e": {
      "model_module": "@jupyter-widgets/base",
      "model_module_version": "1.2.0",
      "model_name": "LayoutModel",
      "state": {
       "_model_module": "@jupyter-widgets/base",
       "_model_module_version": "1.2.0",
       "_model_name": "LayoutModel",
       "_view_count": null,
       "_view_module": "@jupyter-widgets/base",
       "_view_module_version": "1.2.0",
       "_view_name": "LayoutView",
       "align_content": null,
       "align_items": null,
       "align_self": null,
       "border": null,
       "bottom": null,
       "display": null,
       "flex": null,
       "flex_flow": null,
       "grid_area": null,
       "grid_auto_columns": null,
       "grid_auto_flow": null,
       "grid_auto_rows": null,
       "grid_column": null,
       "grid_gap": null,
       "grid_row": null,
       "grid_template_areas": null,
       "grid_template_columns": null,
       "grid_template_rows": null,
       "height": null,
       "justify_content": null,
       "justify_items": null,
       "left": null,
       "margin": null,
       "max_height": null,
       "max_width": null,
       "min_height": null,
       "min_width": null,
       "object_fit": null,
       "object_position": null,
       "order": null,
       "overflow": null,
       "overflow_x": null,
       "overflow_y": null,
       "padding": null,
       "right": null,
       "top": null,
       "visibility": null,
       "width": null
      }
     },
     "72d1db91d2b0452bb56cfb236c694ca9": {
      "model_module": "@jupyter-widgets/output",
      "model_module_version": "1.0.0",
      "model_name": "OutputModel",
      "state": {
       "_dom_classes": [],
       "_model_module": "@jupyter-widgets/output",
       "_model_module_version": "1.0.0",
       "_model_name": "OutputModel",
       "_view_count": null,
       "_view_module": "@jupyter-widgets/output",
       "_view_module_version": "1.0.0",
       "_view_name": "OutputView",
       "layout": "IPY_MODEL_ed6bd91911d04f71bfd97a0fe0afd61d",
       "msg_id": "",
       "outputs": [
        {
         "data": {
          "text/html": "<pre style=\"white-space:pre;overflow-x:auto;line-height:normal;font-family:Menlo,'DejaVu Sans Mono',consolas,'Courier New',monospace\"><span style=\"color: #800000; text-decoration-color: #800000\">Downloading...</span> <span style=\"color: #729c1f; text-decoration-color: #729c1f\">━━━━━━━━━━━━━━━━━━━━━━━━━━━━━━━━━━━━━━━━</span> <span style=\"color: #800080; text-decoration-color: #800080\">100%</span> <span style=\"color: #008080; text-decoration-color: #008080\">0:00:00</span>\n</pre>\n",
          "text/plain": "\u001b[31mDownloading...\u001b[0m \u001b[38;2;114;156;31m━━━━━━━━━━━━━━━━━━━━━━━━━━━━━━━━━━━━━━━━\u001b[0m \u001b[35m100%\u001b[0m \u001b[36m0:00:00\u001b[0m\n"
         },
         "metadata": {},
         "output_type": "display_data"
        }
       ]
      }
     },
     "751b7e98fbf64e0680d00f1538242e93": {
      "model_module": "@jupyter-widgets/output",
      "model_module_version": "1.0.0",
      "model_name": "OutputModel",
      "state": {
       "_dom_classes": [],
       "_model_module": "@jupyter-widgets/output",
       "_model_module_version": "1.0.0",
       "_model_name": "OutputModel",
       "_view_count": null,
       "_view_module": "@jupyter-widgets/output",
       "_view_module_version": "1.0.0",
       "_view_name": "OutputView",
       "layout": "IPY_MODEL_0850083c39c34d928602a98cddfb251e",
       "msg_id": "",
       "outputs": [
        {
         "data": {
          "text/html": "<pre style=\"white-space:pre;overflow-x:auto;line-height:normal;font-family:Menlo,'DejaVu Sans Mono',consolas,'Courier New',monospace\"><span style=\"color: #008000; text-decoration-color: #008000\">🏃 </span> <span style=\"color: #008000; text-decoration-color: #008000; font-weight: bold\">Working on 'mode_simulation'...</span>\n</pre>\n",
          "text/plain": "\u001b[32m🏃 \u001b[0m \u001b[1;32mWorking on 'mode_simulation'...\u001b[0m\n"
         },
         "metadata": {},
         "output_type": "display_data"
        }
       ]
      }
     },
     "7592bd5debb048bfaaa1d80e6a27519c": {
      "model_module": "@jupyter-widgets/base",
      "model_module_version": "1.2.0",
      "model_name": "LayoutModel",
      "state": {
       "_model_module": "@jupyter-widgets/base",
       "_model_module_version": "1.2.0",
       "_model_name": "LayoutModel",
       "_view_count": null,
       "_view_module": "@jupyter-widgets/base",
       "_view_module_version": "1.2.0",
       "_view_name": "LayoutView",
       "align_content": null,
       "align_items": null,
       "align_self": null,
       "border": null,
       "bottom": null,
       "display": null,
       "flex": null,
       "flex_flow": null,
       "grid_area": null,
       "grid_auto_columns": null,
       "grid_auto_flow": null,
       "grid_auto_rows": null,
       "grid_column": null,
       "grid_gap": null,
       "grid_row": null,
       "grid_template_areas": null,
       "grid_template_columns": null,
       "grid_template_rows": null,
       "height": null,
       "justify_content": null,
       "justify_items": null,
       "left": null,
       "margin": null,
       "max_height": null,
       "max_width": null,
       "min_height": null,
       "min_width": null,
       "object_fit": null,
       "object_position": null,
       "order": null,
       "overflow": null,
       "overflow_x": null,
       "overflow_y": null,
       "padding": null,
       "right": null,
       "top": null,
       "visibility": null,
       "width": null
      }
     },
     "95b7272d66a04b75b6ff9984f2665fc8": {
      "model_module": "@jupyter-widgets/output",
      "model_module_version": "1.0.0",
      "model_name": "OutputModel",
      "state": {
       "_dom_classes": [],
       "_model_module": "@jupyter-widgets/output",
       "_model_module_version": "1.0.0",
       "_model_name": "OutputModel",
       "_view_count": null,
       "_view_module": "@jupyter-widgets/output",
       "_view_module_version": "1.0.0",
       "_view_name": "OutputView",
       "layout": "IPY_MODEL_7592bd5debb048bfaaa1d80e6a27519c",
       "msg_id": "",
       "outputs": [
        {
         "data": {
          "text/html": "<pre style=\"white-space:pre;overflow-x:auto;line-height:normal;font-family:Menlo,'DejaVu Sans Mono',consolas,'Courier New',monospace\"><span style=\"color: #800000; text-decoration-color: #800000\">Downloading...</span> <span style=\"color: #729c1f; text-decoration-color: #729c1f\">━━━━━━━━━━━━━━━━━━━━━━━━━━━━━━━━━━━━━━━━</span> <span style=\"color: #800080; text-decoration-color: #800080\">100%</span> <span style=\"color: #008080; text-decoration-color: #008080\">0:00:00</span>\n</pre>\n",
          "text/plain": "\u001b[31mDownloading...\u001b[0m \u001b[38;2;114;156;31m━━━━━━━━━━━━━━━━━━━━━━━━━━━━━━━━━━━━━━━━\u001b[0m \u001b[35m100%\u001b[0m \u001b[36m0:00:00\u001b[0m\n"
         },
         "metadata": {},
         "output_type": "display_data"
        }
       ]
      }
     },
     "9e9fdb18829c4ce38025637f390091c7": {
      "model_module": "@jupyter-widgets/output",
      "model_module_version": "1.0.0",
      "model_name": "OutputModel",
      "state": {
       "_dom_classes": [],
       "_model_module": "@jupyter-widgets/output",
       "_model_module_version": "1.0.0",
       "_model_name": "OutputModel",
       "_view_count": null,
       "_view_module": "@jupyter-widgets/output",
       "_view_module_version": "1.0.0",
       "_view_name": "OutputView",
       "layout": "IPY_MODEL_e3b218395a324c13836248a783e4cc9a",
       "msg_id": "",
       "outputs": [
        {
         "data": {
          "text/html": "<pre style=\"white-space:pre;overflow-x:auto;line-height:normal;font-family:Menlo,'DejaVu Sans Mono',consolas,'Courier New',monospace\"><span style=\"color: #800000; text-decoration-color: #800000\">Downloading...</span> <span style=\"color: #729c1f; text-decoration-color: #729c1f\">━━━━━━━━━━━━━━━━━━━━━━━━━━━━━━━━━━━━━━━━</span> <span style=\"color: #800080; text-decoration-color: #800080\">100%</span> <span style=\"color: #008080; text-decoration-color: #008080\">0:00:00</span>\n</pre>\n",
          "text/plain": "\u001b[31mDownloading...\u001b[0m \u001b[38;2;114;156;31m━━━━━━━━━━━━━━━━━━━━━━━━━━━━━━━━━━━━━━━━\u001b[0m \u001b[35m100%\u001b[0m \u001b[36m0:00:00\u001b[0m\n"
         },
         "metadata": {},
         "output_type": "display_data"
        }
       ]
      }
     },
     "e3b218395a324c13836248a783e4cc9a": {
      "model_module": "@jupyter-widgets/base",
      "model_module_version": "1.2.0",
      "model_name": "LayoutModel",
      "state": {
       "_model_module": "@jupyter-widgets/base",
       "_model_module_version": "1.2.0",
       "_model_name": "LayoutModel",
       "_view_count": null,
       "_view_module": "@jupyter-widgets/base",
       "_view_module_version": "1.2.0",
       "_view_name": "LayoutView",
       "align_content": null,
       "align_items": null,
       "align_self": null,
       "border": null,
       "bottom": null,
       "display": null,
       "flex": null,
       "flex_flow": null,
       "grid_area": null,
       "grid_auto_columns": null,
       "grid_auto_flow": null,
       "grid_auto_rows": null,
       "grid_column": null,
       "grid_gap": null,
       "grid_row": null,
       "grid_template_areas": null,
       "grid_template_columns": null,
       "grid_template_rows": null,
       "height": null,
       "justify_content": null,
       "justify_items": null,
       "left": null,
       "margin": null,
       "max_height": null,
       "max_width": null,
       "min_height": null,
       "min_width": null,
       "object_fit": null,
       "object_position": null,
       "order": null,
       "overflow": null,
       "overflow_x": null,
       "overflow_y": null,
       "padding": null,
       "right": null,
       "top": null,
       "visibility": null,
       "width": null
      }
     },
     "ed6bd91911d04f71bfd97a0fe0afd61d": {
      "model_module": "@jupyter-widgets/base",
      "model_module_version": "1.2.0",
      "model_name": "LayoutModel",
      "state": {
       "_model_module": "@jupyter-widgets/base",
       "_model_module_version": "1.2.0",
       "_model_name": "LayoutModel",
       "_view_count": null,
       "_view_module": "@jupyter-widgets/base",
       "_view_module_version": "1.2.0",
       "_view_name": "LayoutView",
       "align_content": null,
       "align_items": null,
       "align_self": null,
       "border": null,
       "bottom": null,
       "display": null,
       "flex": null,
       "flex_flow": null,
       "grid_area": null,
       "grid_auto_columns": null,
       "grid_auto_flow": null,
       "grid_auto_rows": null,
       "grid_column": null,
       "grid_gap": null,
       "grid_row": null,
       "grid_template_areas": null,
       "grid_template_columns": null,
       "grid_template_rows": null,
       "height": null,
       "justify_content": null,
       "justify_items": null,
       "left": null,
       "margin": null,
       "max_height": null,
       "max_width": null,
       "min_height": null,
       "min_width": null,
       "object_fit": null,
       "object_position": null,
       "order": null,
       "overflow": null,
       "overflow_x": null,
       "overflow_y": null,
       "padding": null,
       "right": null,
       "top": null,
       "visibility": null,
       "width": null
      }
     }
    },
    "version_major": 2,
    "version_minor": 0
   }
  }
 },
 "nbformat": 4,
 "nbformat_minor": 5
}
