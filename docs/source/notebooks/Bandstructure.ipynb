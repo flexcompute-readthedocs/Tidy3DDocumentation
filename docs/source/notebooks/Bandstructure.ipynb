{
 "cells": [
  {
   "cell_type": "markdown",
   "id": "60244b2c",
   "metadata": {},
   "source": [
    "## Photonic crystal slab band structure calculation\n",
    "\n",
    "Run this notebook in your browser using [Binder](https://mybinder.org/v2/gh/flexcompute-readthedocs/tidy3d-docs/readthedocs?labpath=docs%2Fsource%2Fnotebooks%2FBandstructure.ipynb).\n",
    "\n",
    "In this notebook, we simulate a photonic crystal slab consisting of a square lattice of air holes in a dielectric slab. Our goal is to compute the band structure of this photonic crystal slab, as found in:\n",
    "\n",
    "> Shanhui Fan and J. D. Joannopoulos, \"Analysis of guided resonances in photonic crystal slabs,\" Phys. Rev. B 65, 235112 (2002).\n",
    "\n",
    "To this end, we excite the structure with several `PointDipole` sources, and we measure the response with several `FieldTimeMonitor` monitors. We excite modes with a fixed Bloch wavevector by using Bloch boundary conditions. We then use the `ResonanceFinder` to find the resonant frequencies. By sweeping the Bloch wavevector, we obtain the full band structure of the photonic crystal slab.\n",
    "\n",
    "See also the api reference for `ResonanceFinder` [here](https://docs.flexcompute.com/projects/tidy3d/en/latest/_autosummary/tidy3d.plugins.ResonanceFinder.html)."
   ]
  },
  {
   "cell_type": "code",
   "execution_count": 1,
   "id": "193cb096",
   "metadata": {},
   "outputs": [
    {
     "data": {
      "text/html": [
       "<pre style=\"white-space:pre;overflow-x:auto;line-height:normal;font-family:Menlo,'DejaVu Sans Mono',consolas,'Courier New',monospace\"><span style=\"color: #7fbfbf; text-decoration-color: #7fbfbf\">[09:19:33] </span><span style=\"color: #000080; text-decoration-color: #000080\">INFO    </span> Using client version: <span style=\"color: #008080; text-decoration-color: #008080; font-weight: bold\">1.8</span>.<span style=\"color: #008080; text-decoration-color: #008080; font-weight: bold\">0</span>                                                     <a href=\"file:///Users/twhughes/Documents/Flexcompute/tidy3d-docs/tidy3d/tidy3d/__init__.py\" target=\"_blank\"><span style=\"color: #7f7f7f; text-decoration-color: #7f7f7f\">__init__.py</span></a><span style=\"color: #7f7f7f; text-decoration-color: #7f7f7f\">:</span><a href=\"file:///Users/twhughes/Documents/Flexcompute/tidy3d-docs/tidy3d/tidy3d/__init__.py#107\" target=\"_blank\"><span style=\"color: #7f7f7f; text-decoration-color: #7f7f7f\">107</span></a>\n",
       "</pre>\n"
      ],
      "text/plain": [
       "\u001b[2;36m[09:19:33]\u001b[0m\u001b[2;36m \u001b[0m\u001b[34mINFO    \u001b[0m Using client version: \u001b[1;36m1.8\u001b[0m.\u001b[1;36m0\u001b[0m                                                     \u001b]8;id=849166;file:///Users/twhughes/Documents/Flexcompute/tidy3d-docs/tidy3d/tidy3d/__init__.py\u001b\\\u001b[2m__init__.py\u001b[0m\u001b]8;;\u001b\\\u001b[2m:\u001b[0m\u001b]8;id=694711;file:///Users/twhughes/Documents/Flexcompute/tidy3d-docs/tidy3d/tidy3d/__init__.py#107\u001b\\\u001b[2m107\u001b[0m\u001b]8;;\u001b\\\n"
      ]
     },
     "metadata": {},
     "output_type": "display_data"
    }
   ],
   "source": [
    "# standard python imports\n",
    "import numpy as np\n",
    "import matplotlib.pyplot as plt\n",
    "import xarray as xr\n",
    "\n",
    "import tidy3d as td\n",
    "from tidy3d import web\n",
    "from tidy3d.plugins import ResonanceFinder"
   ]
  },
  {
   "cell_type": "markdown",
   "id": "6022fa5a",
   "metadata": {},
   "source": [
    "We will randomly position our sources and monitors. Here, we seed the random number generator to guarantee reproducible results."
   ]
  },
  {
   "cell_type": "code",
   "execution_count": 2,
   "id": "be1a51fc",
   "metadata": {},
   "outputs": [],
   "source": [
    "rng = np.random.default_rng(12345)"
   ]
  },
  {
   "cell_type": "markdown",
   "id": "5b3da68c",
   "metadata": {},
   "source": [
    "Now we define the parameters for the simulation, structure, sources, and monitors.\n",
    "\n",
    "We take the dipole polarization to be `Hz` and the symmetry to be `(0,0,1)` in order to excite only modes which are even with respect to the xy mirror plane."
   ]
  },
  {
   "cell_type": "code",
   "execution_count": 3,
   "id": "da1f5f85",
   "metadata": {},
   "outputs": [
    {
     "name": "stdout",
     "output_type": "stream",
     "text": [
      "Total runtime = 6.74 ps\n"
     ]
    }
   ],
   "source": [
    "# Simulation parameters\n",
    "runtime_fwidth = 200.0 # in units of 1/frequency bandwidth of the source\n",
    "t_start_fwidth = 5.0 # time to start monitoring after source has decayed, units of 1/frequency bandwidth\n",
    "dPML = 1.0 # space between PhC slabs and PML, in unit of longest wavelength of interest\n",
    "\n",
    "# Structure parameters (um)\n",
    "a_lattice = 1 # lattice constant \"a\"\n",
    "r_hole = 0.2*a_lattice # radius of the air holes\n",
    "t_slab = 0.5*a_lattice # slab thickness\n",
    "ep_slab = 12 # dielectric constant of the slab\n",
    "ep_hole = 1 # dielectric constant of the holes\n",
    "\n",
    "# Frequency range of interest (Hz)\n",
    "freq_range_unitless = np.array((0.1, 0.43)) # in units of c/a\n",
    "freq_scale = td.constants.C_0/a_lattice # frequency scale determined by the lattice constant\n",
    "freq_range = freq_range_unitless * freq_scale\n",
    "lambda_range = (td.constants.C_0/freq_range[1], td.constants.C_0/freq_range[0])\n",
    "\n",
    "# Gaussian pulse parameters\n",
    "freq0 = np.sum(freq_range)/2 # central frequency\n",
    "freqw  = 0.3 * (freq_range[1] - freq_range[0]) # pulse width\n",
    "\n",
    "# Runtime\n",
    "run_time = runtime_fwidth/freqw\n",
    "print(f\"Total runtime = {(run_time*1e12):.2f} ps\")\n",
    "t_start = t_start_fwidth/freqw\n",
    "\n",
    "# Simulation size \n",
    "spacing = dPML * lambda_range[-1] # space between PhC slabs and PML\n",
    "sim_size = Lx, Ly, Lz = (a_lattice, a_lattice, 2*spacing + t_slab)\n",
    "\n",
    "# Number of k values to sample, per edge of the irreducible Brillouin zone\n",
    "Nk = 4\n",
    "\n",
    "# Number of dipoles and monitors\n",
    "num_dipoles = 7\n",
    "num_monitors = 2\n",
    "\n",
    "# Dipole polarization and symmetry\n",
    "polarization='Hz'\n",
    "symmetry=(0,0,1)"
   ]
  },
  {
   "cell_type": "markdown",
   "id": "27c57eee",
   "metadata": {},
   "source": [
    "We define the materials and structures in terms of the above parameters. We take the photonic crystal slab to be lying in the xy plane. Because the photonic crystal slab is periodic in the x and y directions, we only need to simulate a single unit cell, containing the dielectric slab and a single air hole."
   ]
  },
  {
   "cell_type": "code",
   "execution_count": 4,
   "id": "cbcc09f9",
   "metadata": {},
   "outputs": [],
   "source": [
    "mat_slab = td.Medium(permittivity=ep_slab, name='mat_slab')\n",
    "mat_hole = td.Medium(permittivity=ep_hole, name='mat_hole')\n",
    "\n",
    "slab = td.Structure(\n",
    "    geometry=td.Box(\n",
    "        center=(0, 0, 0),\n",
    "        size=(td.inf,td.inf,t_slab),\n",
    "    ),\n",
    "    medium=mat_slab,\n",
    "    name='slab',\n",
    ")\n",
    "\n",
    "hole = td.Structure(\n",
    "    geometry=td.Cylinder(\n",
    "        center=(0, 0, 0),\n",
    "        axis=2,\n",
    "        radius=r_hole,\n",
    "        length=t_slab,\n",
    "    ),\n",
    "    medium=mat_hole,\n",
    "    name='hole',\n",
    ")\n",
    "\n",
    "structures = [slab, hole]"
   ]
  },
  {
   "cell_type": "markdown",
   "id": "dbda5f33",
   "metadata": {},
   "source": [
    "We will excite the photonic crystal slab with several `PointDipole` sources. Each dipole will have a random position and phase."
   ]
  },
  {
   "cell_type": "code",
   "execution_count": 5,
   "id": "7cd6c4ed",
   "metadata": {},
   "outputs": [],
   "source": [
    "dipole_positions = rng.uniform([-Lx/2, -Ly/2, 0], [Lx/2, Ly/2, 0], [num_dipoles,3])\n",
    "\n",
    "dipole_phases = rng.uniform(0, 2*np.pi, num_dipoles)\n",
    "\n",
    "pulses = []\n",
    "dipoles = []\n",
    "for i in range(num_dipoles):\n",
    "    pulse = td.GaussianPulse(\n",
    "        freq0=freq0,\n",
    "        fwidth=freqw,\n",
    "        phase=dipole_phases[i]\n",
    "    )\n",
    "    pulses.append(pulse)\n",
    "    dipoles.append(td.PointDipole(\n",
    "        source_time = pulse,\n",
    "        center=tuple(dipole_positions[i]),\n",
    "        polarization=polarization,\n",
    "        name='dipole_' + str(i)\n",
    "    ))"
   ]
  },
  {
   "cell_type": "markdown",
   "id": "700880a7",
   "metadata": {},
   "source": [
    "We create `FieldTimeMonitors` to record the field as a function of time at several random locations within the photonic crystal slab. Crucially, we start the monitors after the source pulse has decayed."
   ]
  },
  {
   "cell_type": "code",
   "execution_count": 6,
   "id": "bc6dca60",
   "metadata": {},
   "outputs": [],
   "source": [
    "monitor_positions = rng.uniform([-Lx/2, -Ly/2, 0], [Lx/2, Ly/2, 0], [num_monitors,3])\n",
    "\n",
    "monitors_time = []\n",
    "for i in range(num_monitors):\n",
    "    monitors_time.append(td.FieldTimeMonitor(\n",
    "        fields=['Hz'],\n",
    "        center = tuple(monitor_positions[i]),\n",
    "        size = (0, 0, 0),\n",
    "        start=t_start,\n",
    "        name='monitor_time_'+str(i),\n",
    "    ))"
   ]
  },
  {
   "cell_type": "markdown",
   "id": "e6939eae",
   "metadata": {},
   "source": [
    "We will perform `3*Nk` different simulations, each with different Bloch boundary conditions, as we sweep the Bloch wavevector over the boundary of the irreducible Brillouin zone. We sweep over three lines, namely $\\Gamma X$, $XM$, and $M\\Gamma$. We use a PML in the z direction.\n",
    "\n",
    "Here, we simply define all of the boundary conditions we will use and put them into a single array."
   ]
  },
  {
   "cell_type": "code",
   "execution_count": 7,
   "id": "84ec0547",
   "metadata": {},
   "outputs": [],
   "source": [
    "bspecs_gammax = []\n",
    "bspecs_xm = []\n",
    "bspecs_mgamma = []\n",
    "for i in range(Nk):\n",
    "    bspecs_gammax.append(td.BoundarySpec(\n",
    "        x=td.Boundary.bloch((1/2)*i/Nk),\n",
    "        y=td.Boundary.periodic(),\n",
    "        z=td.Boundary.pml()\n",
    "    ))\n",
    "    bspecs_xm.append(td.BoundarySpec(\n",
    "        x=td.Boundary.bloch(1/2),\n",
    "        y=td.Boundary.bloch((1/2)*i/Nk),\n",
    "        z=td.Boundary.pml()\n",
    "    ))\n",
    "    bspecs_mgamma.append(td.BoundarySpec(\n",
    "        x=td.Boundary.bloch((1/2)*(1-i/Nk)),\n",
    "        y=td.Boundary.bloch((1/2)*(1-i/Nk)),\n",
    "        z=td.Boundary.pml()\n",
    "    ))\n",
    "bspecs = bspecs_gammax + bspecs_xm + bspecs_mgamma"
   ]
  },
  {
   "cell_type": "markdown",
   "id": "e80d5995",
   "metadata": {},
   "source": [
    "Now we define the simulations we want to run. "
   ]
  },
  {
   "cell_type": "code",
   "execution_count": 8,
   "id": "0c0a8a8a",
   "metadata": {},
   "outputs": [],
   "source": [
    "sims = {}\n",
    "for i in range(3*Nk):\n",
    "    sims[f'sim_{i}'] = td.Simulation(\n",
    "        center = (0, 0, 0),\n",
    "        size = sim_size,\n",
    "        grid_spec = td.GridSpec.auto(),\n",
    "        structures = structures,\n",
    "        sources = dipoles,\n",
    "        monitors = monitors_time,\n",
    "        run_time = run_time,\n",
    "        shutoff = 0,\n",
    "        boundary_spec = bspecs[i],\n",
    "        normalize_index = None,\n",
    "        symmetry=symmetry\n",
    "    )"
   ]
  },
  {
   "cell_type": "markdown",
   "id": "22ff9910",
   "metadata": {},
   "source": [
    "Let's check that the structure and source look correct. The source spectrum must fill the entire frequency range of interest."
   ]
  },
  {
   "cell_type": "code",
   "execution_count": 9,
   "id": "443a41b7",
   "metadata": {},
   "outputs": [
    {
     "data": {
      "text/html": [
       "<pre style=\"white-space:pre;overflow-x:auto;line-height:normal;font-family:Menlo,'DejaVu Sans Mono',consolas,'Courier New',monospace\"><span style=\"color: #7fbfbf; text-decoration-color: #7fbfbf\">           </span><span style=\"color: #000080; text-decoration-color: #000080\">INFO    </span> Auto meshing using wavelength <span style=\"color: #008080; text-decoration-color: #008080; font-weight: bold\">3.7736</span> defined from sources.                     <a href=\"file:///Users/twhughes/Documents/Flexcompute/tidy3d-docs/tidy3d/tidy3d/components/grid/grid_spec.py\" target=\"_blank\"><span style=\"color: #7f7f7f; text-decoration-color: #7f7f7f\">grid_spec.py</span></a><span style=\"color: #7f7f7f; text-decoration-color: #7f7f7f\">:</span><a href=\"file:///Users/twhughes/Documents/Flexcompute/tidy3d-docs/tidy3d/tidy3d/components/grid/grid_spec.py#510\" target=\"_blank\"><span style=\"color: #7f7f7f; text-decoration-color: #7f7f7f\">510</span></a>\n",
       "</pre>\n"
      ],
      "text/plain": [
       "\u001b[2;36m          \u001b[0m\u001b[2;36m \u001b[0m\u001b[34mINFO    \u001b[0m Auto meshing using wavelength \u001b[1;36m3.7736\u001b[0m defined from sources.                     \u001b]8;id=375305;file:///Users/twhughes/Documents/Flexcompute/tidy3d-docs/tidy3d/tidy3d/components/grid/grid_spec.py\u001b\\\u001b[2mgrid_spec.py\u001b[0m\u001b]8;;\u001b\\\u001b[2m:\u001b[0m\u001b]8;id=508163;file:///Users/twhughes/Documents/Flexcompute/tidy3d-docs/tidy3d/tidy3d/components/grid/grid_spec.py#510\u001b\\\u001b[2m510\u001b[0m\u001b]8;;\u001b\\\n"
      ]
     },
     "metadata": {},
     "output_type": "display_data"
    },
    {
     "data": {
      "image/png": "[encoded data removed]"
     },
     "metadata": {
      "needs_background": "light"
     },
     "output_type": "display_data"
    },
    {
     "data": {
      "image/png": "[encoded data removed]"
     },
     "metadata": {
      "needs_background": "light"
     },
     "output_type": "display_data"
    }
   ],
   "source": [
    "fig, ax = plt.subplots(1, 2, tight_layout=True, figsize=(10, 4))\n",
    "sims['sim_0'].plot(z=0., ax=ax[0]);\n",
    "sims['sim_0'].plot(x=0, freq=freq0, ax=ax[1]);\n",
    "plt.show()\n",
    "\n",
    "f, (ax1, ax2) = plt.subplots(1, 2, tight_layout=True, figsize=(8, 4))\n",
    "plot_time = 5/freqw\n",
    "ax1 = sims['sim_0'].sources[0].source_time.plot(times=np.linspace(0, plot_time, 1001), ax=ax1)\n",
    "ax1.lines.pop(0)\n",
    "ax1.lines.pop(1)\n",
    "ax1.set_xlim(0, plot_time)\n",
    "ax1.legend(('source amplitude',))\n",
    "ax2 = sims['sim_0'].sources[0].source_time.plot_spectrum(times=np.linspace(0, sims['sim_0'].run_time, 10001), ax=ax2)\n",
    "ax2.lines.pop(0)\n",
    "ax2.lines.pop(0)\n",
    "ax2.hlines(0, freq_range[0], freq_range[1], linewidth=10, color='g', alpha=.4)\n",
    "ax2.legend(('source spectrum', 'measurement'))\n",
    "ax2.set_ylim(-1e-16)\n",
    "plt.show()"
   ]
  },
  {
   "cell_type": "markdown",
   "id": "c7983aad",
   "metadata": {},
   "source": [
    "Now we run the simulations as a `Batch`. We save "
   ]
  },
  {
   "cell_type": "code",
   "execution_count": 10,
   "id": "70058b88",
   "metadata": {},
   "outputs": [
    {
     "data": {
      "text/html": [
       "<pre style=\"white-space:pre;overflow-x:auto;line-height:normal;font-family:Menlo,'DejaVu Sans Mono',consolas,'Courier New',monospace\">sim_0: status = success     <span style=\"color: #729c1f; text-decoration-color: #729c1f\">━━━━━━━━━━━━━━━━━━━━━━━━━━━━━━━━━━━━━━━━</span> <span style=\"color: #800080; text-decoration-color: #800080\">100%</span> <span style=\"color: #008080; text-decoration-color: #008080\">0:00:00</span>\n",
       "sim_1: status = success     <span style=\"color: #729c1f; text-decoration-color: #729c1f\">━━━━━━━━━━━━━━━━━━━━━━━━━━━━━━━━━━━━━━━━</span> <span style=\"color: #800080; text-decoration-color: #800080\">100%</span> <span style=\"color: #008080; text-decoration-color: #008080\">0:00:00</span>\n",
       "sim_2: status = success     <span style=\"color: #729c1f; text-decoration-color: #729c1f\">━━━━━━━━━━━━━━━━━━━━━━━━━━━━━━━━━━━━━━━━</span> <span style=\"color: #800080; text-decoration-color: #800080\">100%</span> <span style=\"color: #008080; text-decoration-color: #008080\">0:00:00</span>\n",
       "sim_3: status = postprocess <span style=\"color: #f92672; text-decoration-color: #f92672\">━━━━━━━━━━━━━━━━━━━━━━━━━━━━╸</span><span style=\"color: #3a3a3a; text-decoration-color: #3a3a3a\">━━━━━━━━━━━</span> <span style=\"color: #800080; text-decoration-color: #800080\"> 71%</span> <span style=\"color: #008080; text-decoration-color: #008080\">-:--:--</span>\n",
       "sim_4: status = success     <span style=\"color: #729c1f; text-decoration-color: #729c1f\">━━━━━━━━━━━━━━━━━━━━━━━━━━━━━━━━━━━━━━━━</span> <span style=\"color: #800080; text-decoration-color: #800080\">100%</span> <span style=\"color: #008080; text-decoration-color: #008080\">0:00:00</span>\n",
       "sim_5: status = success     <span style=\"color: #729c1f; text-decoration-color: #729c1f\">━━━━━━━━━━━━━━━━━━━━━━━━━━━━━━━━━━━━━━━━</span> <span style=\"color: #800080; text-decoration-color: #800080\">100%</span> <span style=\"color: #008080; text-decoration-color: #008080\">0:00:00</span>\n",
       "sim_6: status = running     <span style=\"color: #f92672; text-decoration-color: #f92672\">━━━━━━━━━━━━━━━━━━━━━━╸</span><span style=\"color: #3a3a3a; text-decoration-color: #3a3a3a\">━━━━━━━━━━━━━━━━━</span> <span style=\"color: #800080; text-decoration-color: #800080\"> 57%</span> <span style=\"color: #008080; text-decoration-color: #008080\">-:--:--</span>\n",
       "sim_7: status = postprocess <span style=\"color: #f92672; text-decoration-color: #f92672\">━━━━━━━━━━━━━━━━━━━━━━━━━━━━╸</span><span style=\"color: #3a3a3a; text-decoration-color: #3a3a3a\">━━━━━━━━━━━</span> <span style=\"color: #800080; text-decoration-color: #800080\"> 71%</span> <span style=\"color: #008080; text-decoration-color: #008080\">-:--:--</span>\n",
       "sim_8: status = success     <span style=\"color: #729c1f; text-decoration-color: #729c1f\">━━━━━━━━━━━━━━━━━━━━━━━━━━━━━━━━━━━━━━━━</span> <span style=\"color: #800080; text-decoration-color: #800080\">100%</span> <span style=\"color: #008080; text-decoration-color: #008080\">0:00:00</span>\n",
       "sim_9: status = postprocess <span style=\"color: #f92672; text-decoration-color: #f92672\">━━━━━━━━━━━━━━━━━━━━━━━━━━━━╸</span><span style=\"color: #3a3a3a; text-decoration-color: #3a3a3a\">━━━━━━━━━━━</span> <span style=\"color: #800080; text-decoration-color: #800080\"> 71%</span> <span style=\"color: #008080; text-decoration-color: #008080\">0:00:49</span>\n",
       "sim_10: status = success    <span style=\"color: #729c1f; text-decoration-color: #729c1f\">━━━━━━━━━━━━━━━━━━━━━━━━━━━━━━━━━━━━━━━━</span> <span style=\"color: #800080; text-decoration-color: #800080\">100%</span> <span style=\"color: #008080; text-decoration-color: #008080\">0:00:00</span>\n",
       "sim_11: status = success    <span style=\"color: #729c1f; text-decoration-color: #729c1f\">━━━━━━━━━━━━━━━━━━━━━━━━━━━━━━━━━━━━━━━━</span> <span style=\"color: #800080; text-decoration-color: #800080\">100%</span> <span style=\"color: #008080; text-decoration-color: #008080\">0:00:00</span>\n",
       "</pre>\n"
      ],
      "text/plain": [
       "sim_0: status = success     \u001b[38;2;114;156;31m━━━━━━━━━━━━━━━━━━━━━━━━━━━━━━━━━━━━━━━━\u001b[0m \u001b[35m100%\u001b[0m \u001b[36m0:00:00\u001b[0m\n",
       "sim_1: status = success     \u001b[38;2;114;156;31m━━━━━━━━━━━━━━━━━━━━━━━━━━━━━━━━━━━━━━━━\u001b[0m \u001b[35m100%\u001b[0m \u001b[36m0:00:00\u001b[0m\n",
       "sim_2: status = success     \u001b[38;2;114;156;31m━━━━━━━━━━━━━━━━━━━━━━━━━━━━━━━━━━━━━━━━\u001b[0m \u001b[35m100%\u001b[0m \u001b[36m0:00:00\u001b[0m\n",
       "sim_3: status = postprocess \u001b[38;2;249;38;114m━━━━━━━━━━━━━━━━━━━━━━━━━━━━\u001b[0m\u001b[38;2;249;38;114m╸\u001b[0m\u001b[38;5;237m━━━━━━━━━━━\u001b[0m \u001b[35m 71%\u001b[0m \u001b[36m-:--:--\u001b[0m\n",
       "sim_4: status = success     \u001b[38;2;114;156;31m━━━━━━━━━━━━━━━━━━━━━━━━━━━━━━━━━━━━━━━━\u001b[0m \u001b[35m100%\u001b[0m \u001b[36m0:00:00\u001b[0m\n",
       "sim_5: status = success     \u001b[38;2;114;156;31m━━━━━━━━━━━━━━━━━━━━━━━━━━━━━━━━━━━━━━━━\u001b[0m \u001b[35m100%\u001b[0m \u001b[36m0:00:00\u001b[0m\n",
       "sim_6: status = running     \u001b[38;2;249;38;114m━━━━━━━━━━━━━━━━━━━━━━\u001b[0m\u001b[38;2;249;38;114m╸\u001b[0m\u001b[38;5;237m━━━━━━━━━━━━━━━━━\u001b[0m \u001b[35m 57%\u001b[0m \u001b[36m-:--:--\u001b[0m\n",
       "sim_7: status = postprocess \u001b[38;2;249;38;114m━━━━━━━━━━━━━━━━━━━━━━━━━━━━\u001b[0m\u001b[38;2;249;38;114m╸\u001b[0m\u001b[38;5;237m━━━━━━━━━━━\u001b[0m \u001b[35m 71%\u001b[0m \u001b[36m-:--:--\u001b[0m\n",
       "sim_8: status = success     \u001b[38;2;114;156;31m━━━━━━━━━━━━━━━━━━━━━━━━━━━━━━━━━━━━━━━━\u001b[0m \u001b[35m100%\u001b[0m \u001b[36m0:00:00\u001b[0m\n",
       "sim_9: status = postprocess \u001b[38;2;249;38;114m━━━━━━━━━━━━━━━━━━━━━━━━━━━━\u001b[0m\u001b[38;2;249;38;114m╸\u001b[0m\u001b[38;5;237m━━━━━━━━━━━\u001b[0m \u001b[35m 71%\u001b[0m \u001b[36m0:00:49\u001b[0m\n",
       "sim_10: status = success    \u001b[38;2;114;156;31m━━━━━━━━━━━━━━━━━━━━━━━━━━━━━━━━━━━━━━━━\u001b[0m \u001b[35m100%\u001b[0m \u001b[36m0:00:00\u001b[0m\n",
       "sim_11: status = success    \u001b[38;2;114;156;31m━━━━━━━━━━━━━━━━━━━━━━━━━━━━━━━━━━━━━━━━\u001b[0m \u001b[35m100%\u001b[0m \u001b[36m0:00:00\u001b[0m\n"
      ]
     },
     "metadata": {},
     "output_type": "display_data"
    },
    {
     "data": {
      "text/html": [
       "<pre style=\"white-space:pre;overflow-x:auto;line-height:normal;font-family:Menlo,'DejaVu Sans Mono',consolas,'Courier New',monospace\"></pre>\n"
      ],
      "text/plain": []
     },
     "metadata": {},
     "output_type": "display_data"
    },
    {
     "data": {
      "text/html": [
       "<pre style=\"white-space:pre;overflow-x:auto;line-height:normal;font-family:Menlo,'DejaVu Sans Mono',consolas,'Courier New',monospace\">\n",
       "</pre>\n"
      ],
      "text/plain": [
       "\n"
      ]
     },
     "metadata": {},
     "output_type": "display_data"
    },
    {
     "data": {
      "text/html": [
       "<pre style=\"white-space:pre;overflow-x:auto;line-height:normal;font-family:Menlo,'DejaVu Sans Mono',consolas,'Courier New',monospace\"><span style=\"color: #7fbfbf; text-decoration-color: #7fbfbf\">[09:21:28] </span>Batch complete.                                                                         <a href=\"file:///Users/twhughes/Documents/Flexcompute/tidy3d-docs/tidy3d/tidy3d/web/container.py\" target=\"_blank\"><span style=\"color: #7f7f7f; text-decoration-color: #7f7f7f\">container.py</span></a><span style=\"color: #7f7f7f; text-decoration-color: #7f7f7f\">:</span><a href=\"file:///Users/twhughes/Documents/Flexcompute/tidy3d-docs/tidy3d/tidy3d/web/container.py#375\" target=\"_blank\"><span style=\"color: #7f7f7f; text-decoration-color: #7f7f7f\">375</span></a>\n",
       "</pre>\n"
      ],
      "text/plain": [
       "\u001b[2;36m[09:21:28]\u001b[0m\u001b[2;36m \u001b[0mBatch complete.                                                                         \u001b]8;id=28544;file:///Users/twhughes/Documents/Flexcompute/tidy3d-docs/tidy3d/tidy3d/web/container.py\u001b\\\u001b[2mcontainer.py\u001b[0m\u001b]8;;\u001b\\\u001b[2m:\u001b[0m\u001b]8;id=650588;file:///Users/twhughes/Documents/Flexcompute/tidy3d-docs/tidy3d/tidy3d/web/container.py#375\u001b\\\u001b[2m375\u001b[0m\u001b]8;;\u001b\\\n"
      ]
     },
     "metadata": {},
     "output_type": "display_data"
    }
   ],
   "source": [
    "# initialize a batch and run them all\n",
    "batch = td.web.Batch(simulations=sims)\n",
    "\n",
    "# run the batch and store all of the data in the `data/` dir.\n",
    "batch_data = batch.run(path_dir='data')"
   ]
  },
  {
   "cell_type": "markdown",
   "id": "6c283857-8095-407f-ae38-018693c366e3",
   "metadata": {},
   "source": [
    "Load the batch from the file it was saved in."
   ]
  },
  {
   "cell_type": "code",
   "execution_count": 11,
   "id": "22f0cecc-1fc5-4cae-b53b-f758e79f17dd",
   "metadata": {},
   "outputs": [],
   "source": [
    "batch = td.web.Batch.from_file('data/batch.json')\n",
    "batch_data = batch.load('data')"
   ]
  },
  {
   "cell_type": "markdown",
   "id": "c865c155",
   "metadata": {},
   "source": [
    "Now that the simulations are complete, we can analyze the data. Let's first look at one of the FieldTimeMonitors to make sure the source has decayed."
   ]
  },
  {
   "cell_type": "code",
   "execution_count": 12,
   "id": "4a97628f-c2d1-4e2f-82f2-ba97d88fe48e",
   "metadata": {},
   "outputs": [
    {
     "data": {
      "text/html": [
       "<pre style=\"white-space:pre;overflow-x:auto;line-height:normal;font-family:Menlo,'DejaVu Sans Mono',consolas,'Courier New',monospace\"><span style=\"color: #008000; text-decoration-color: #008000; font-weight: bold\">↓</span> <span style=\"color: #000080; text-decoration-color: #000080; font-weight: bold\">monitor_data.hdf5</span> <span style=\"color: #f92672; text-decoration-color: #f92672\">━━━━━━━━━━━━━━━━━━━━━━━━━╸</span><span style=\"color: #3a3a3a; text-decoration-color: #3a3a3a\">━━━━━━━━━━━━━━</span> <span style=\"color: #800080; text-decoration-color: #800080\">64.4%</span> • <span style=\"color: #008000; text-decoration-color: #008000\">0.8/1.2 MB</span> • <span style=\"color: #800000; text-decoration-color: #800000\">1.6 MB/s</span> • <span style=\"color: #008080; text-decoration-color: #008080\">0:00:01</span>\n",
       "</pre>\n"
      ],
      "text/plain": [
       "\u001b[1;32m↓\u001b[0m \u001b[1;34mmonitor_data.hdf5\u001b[0m \u001b[38;2;249;38;114m━━━━━━━━━━━━━━━━━━━━━━━━━\u001b[0m\u001b[38;2;249;38;114m╸\u001b[0m\u001b[38;5;237m━━━━━━━━━━━━━━\u001b[0m \u001b[35m64.4%\u001b[0m • \u001b[32m0.8/1.2 MB\u001b[0m • \u001b[31m1.6 MB/s\u001b[0m • \u001b[36m0:00:01\u001b[0m\n"
      ]
     },
     "metadata": {},
     "output_type": "display_data"
    },
    {
     "data": {
      "text/html": [
       "<pre style=\"white-space:pre;overflow-x:auto;line-height:normal;font-family:Menlo,'DejaVu Sans Mono',consolas,'Courier New',monospace\"></pre>\n"
      ],
      "text/plain": []
     },
     "metadata": {},
     "output_type": "display_data"
    },
    {
     "data": {
      "text/html": [
       "<pre style=\"white-space:pre;overflow-x:auto;line-height:normal;font-family:Menlo,'DejaVu Sans Mono',consolas,'Courier New',monospace\">\n",
       "</pre>\n"
      ],
      "text/plain": [
       "\n"
      ]
     },
     "metadata": {},
     "output_type": "display_data"
    },
    {
     "data": {
      "text/html": [
       "<pre style=\"white-space:pre;overflow-x:auto;line-height:normal;font-family:Menlo,'DejaVu Sans Mono',consolas,'Courier New',monospace\"><span style=\"color: #7fbfbf; text-decoration-color: #7fbfbf\">[09:21:33] </span><span style=\"color: #000080; text-decoration-color: #000080\">INFO    </span> loading SimulationData from data/<span style=\"color: #ffff00; text-decoration-color: #ffff00\">83c4d646-83e5-42b6-bc9e-aeed4f6d9b1e</span>.hdf5        <a href=\"file:///Users/twhughes/Documents/Flexcompute/tidy3d-docs/tidy3d/tidy3d/web/webapi.py\" target=\"_blank\"><span style=\"color: #7f7f7f; text-decoration-color: #7f7f7f\">webapi.py</span></a><span style=\"color: #7f7f7f; text-decoration-color: #7f7f7f\">:</span><a href=\"file:///Users/twhughes/Documents/Flexcompute/tidy3d-docs/tidy3d/tidy3d/web/webapi.py#403\" target=\"_blank\"><span style=\"color: #7f7f7f; text-decoration-color: #7f7f7f\">403</span></a>\n",
       "</pre>\n"
      ],
      "text/plain": [
       "\u001b[2;36m[09:21:33]\u001b[0m\u001b[2;36m \u001b[0m\u001b[34mINFO    \u001b[0m loading SimulationData from data/\u001b[93m83c4d646-83e5-42b6-bc9e-aeed4f6d9b1e\u001b[0m.hdf5        \u001b]8;id=501952;file:///Users/twhughes/Documents/Flexcompute/tidy3d-docs/tidy3d/tidy3d/web/webapi.py\u001b\\\u001b[2mwebapi.py\u001b[0m\u001b]8;;\u001b\\\u001b[2m:\u001b[0m\u001b]8;id=786619;file:///Users/twhughes/Documents/Flexcompute/tidy3d-docs/tidy3d/tidy3d/web/webapi.py#403\u001b\\\u001b[2m403\u001b[0m\u001b]8;;\u001b\\\n"
      ]
     },
     "metadata": {},
     "output_type": "display_data"
    },
    {
     "data": {
      "text/html": [
       "<pre style=\"white-space:pre;overflow-x:auto;line-height:normal;font-family:Menlo,'DejaVu Sans Mono',consolas,'Courier New',monospace\"><span style=\"color: #7fbfbf; text-decoration-color: #7fbfbf\">           </span><span style=\"color: #000080; text-decoration-color: #000080\">INFO    </span> loading SimulationData from data/<span style=\"color: #ffff00; text-decoration-color: #ffff00\">83c4d646-83e5-42b6-bc9e-aeed4f6d9b1e</span>.hdf5        <a href=\"file:///Users/twhughes/Documents/Flexcompute/tidy3d-docs/tidy3d/tidy3d/web/webapi.py\" target=\"_blank\"><span style=\"color: #7f7f7f; text-decoration-color: #7f7f7f\">webapi.py</span></a><span style=\"color: #7f7f7f; text-decoration-color: #7f7f7f\">:</span><a href=\"file:///Users/twhughes/Documents/Flexcompute/tidy3d-docs/tidy3d/tidy3d/web/webapi.py#403\" target=\"_blank\"><span style=\"color: #7f7f7f; text-decoration-color: #7f7f7f\">403</span></a>\n",
       "</pre>\n"
      ],
      "text/plain": [
       "\u001b[2;36m          \u001b[0m\u001b[2;36m \u001b[0m\u001b[34mINFO    \u001b[0m loading SimulationData from data/\u001b[93m83c4d646-83e5-42b6-bc9e-aeed4f6d9b1e\u001b[0m.hdf5        \u001b]8;id=871292;file:///Users/twhughes/Documents/Flexcompute/tidy3d-docs/tidy3d/tidy3d/web/webapi.py\u001b\\\u001b[2mwebapi.py\u001b[0m\u001b]8;;\u001b\\\u001b[2m:\u001b[0m\u001b]8;id=630483;file:///Users/twhughes/Documents/Flexcompute/tidy3d-docs/tidy3d/tidy3d/web/webapi.py#403\u001b\\\u001b[2m403\u001b[0m\u001b]8;;\u001b\\\n"
      ]
     },
     "metadata": {},
     "output_type": "display_data"
    },
    {
     "data": {
      "image/png": "[encoded data removed]"
     },
     "metadata": {
      "needs_background": "light"
     },
     "output_type": "display_data"
    }
   ],
   "source": [
    "plt.plot(batch_data['sim_1'].monitor_data['monitor_time_0'].Hz.t, np.real(batch_data['sim_1'].monitor_data['monitor_time_0'].Hz.squeeze()))\n",
    "plt.title('FieldTimeMonitor data')\n",
    "plt.xlabel('t')\n",
    "plt.ylabel('Hz')"
   ]
  },
  {
   "cell_type": "markdown",
   "id": "21bc59dc-0163-432b-9cf0-5c2d2617ef35",
   "metadata": {},
   "source": [
    "We see that the source has mostly decayed by the time we switch on the monitors, and the remaining data shows decay and oscillation due to the resonances inside the system.\n",
    "\n",
    "Looking at the Fourier transform of this data, we can see resonances at the band frequencies."
   ]
  },
  {
   "cell_type": "code",
   "execution_count": 13,
   "id": "e1b95adb-1ea6-40cb-ba63-ef5ac60de470",
   "metadata": {},
   "outputs": [
    {
     "data": {
      "text/html": [
       "<pre style=\"white-space:pre;overflow-x:auto;line-height:normal;font-family:Menlo,'DejaVu Sans Mono',consolas,'Courier New',monospace\"><span style=\"color: #7fbfbf; text-decoration-color: #7fbfbf\">           </span><span style=\"color: #000080; text-decoration-color: #000080\">INFO    </span> loading SimulationData from data/<span style=\"color: #ffff00; text-decoration-color: #ffff00\">83c4d646-83e5-42b6-bc9e-aeed4f6d9b1e</span>.hdf5        <a href=\"file:///Users/twhughes/Documents/Flexcompute/tidy3d-docs/tidy3d/tidy3d/web/webapi.py\" target=\"_blank\"><span style=\"color: #7f7f7f; text-decoration-color: #7f7f7f\">webapi.py</span></a><span style=\"color: #7f7f7f; text-decoration-color: #7f7f7f\">:</span><a href=\"file:///Users/twhughes/Documents/Flexcompute/tidy3d-docs/tidy3d/tidy3d/web/webapi.py#403\" target=\"_blank\"><span style=\"color: #7f7f7f; text-decoration-color: #7f7f7f\">403</span></a>\n",
       "</pre>\n"
      ],
      "text/plain": [
       "\u001b[2;36m          \u001b[0m\u001b[2;36m \u001b[0m\u001b[34mINFO    \u001b[0m loading SimulationData from data/\u001b[93m83c4d646-83e5-42b6-bc9e-aeed4f6d9b1e\u001b[0m.hdf5        \u001b]8;id=497706;file:///Users/twhughes/Documents/Flexcompute/tidy3d-docs/tidy3d/tidy3d/web/webapi.py\u001b\\\u001b[2mwebapi.py\u001b[0m\u001b]8;;\u001b\\\u001b[2m:\u001b[0m\u001b]8;id=277919;file:///Users/twhughes/Documents/Flexcompute/tidy3d-docs/tidy3d/tidy3d/web/webapi.py#403\u001b\\\u001b[2m403\u001b[0m\u001b]8;;\u001b\\\n"
      ]
     },
     "metadata": {},
     "output_type": "display_data"
    },
    {
     "data": {
      "text/html": [
       "<pre style=\"white-space:pre;overflow-x:auto;line-height:normal;font-family:Menlo,'DejaVu Sans Mono',consolas,'Courier New',monospace\"><span style=\"color: #7fbfbf; text-decoration-color: #7fbfbf\">           </span><span style=\"color: #000080; text-decoration-color: #000080\">INFO    </span> loading SimulationData from data/<span style=\"color: #ffff00; text-decoration-color: #ffff00\">83c4d646-83e5-42b6-bc9e-aeed4f6d9b1e</span>.hdf5        <a href=\"file:///Users/twhughes/Documents/Flexcompute/tidy3d-docs/tidy3d/tidy3d/web/webapi.py\" target=\"_blank\"><span style=\"color: #7f7f7f; text-decoration-color: #7f7f7f\">webapi.py</span></a><span style=\"color: #7f7f7f; text-decoration-color: #7f7f7f\">:</span><a href=\"file:///Users/twhughes/Documents/Flexcompute/tidy3d-docs/tidy3d/tidy3d/web/webapi.py#403\" target=\"_blank\"><span style=\"color: #7f7f7f; text-decoration-color: #7f7f7f\">403</span></a>\n",
       "</pre>\n"
      ],
      "text/plain": [
       "\u001b[2;36m          \u001b[0m\u001b[2;36m \u001b[0m\u001b[34mINFO    \u001b[0m loading SimulationData from data/\u001b[93m83c4d646-83e5-42b6-bc9e-aeed4f6d9b1e\u001b[0m.hdf5        \u001b]8;id=66286;file:///Users/twhughes/Documents/Flexcompute/tidy3d-docs/tidy3d/tidy3d/web/webapi.py\u001b\\\u001b[2mwebapi.py\u001b[0m\u001b]8;;\u001b\\\u001b[2m:\u001b[0m\u001b]8;id=307475;file:///Users/twhughes/Documents/Flexcompute/tidy3d-docs/tidy3d/tidy3d/web/webapi.py#403\u001b\\\u001b[2m403\u001b[0m\u001b]8;;\u001b\\\n"
      ]
     },
     "metadata": {},
     "output_type": "display_data"
    },
    {
     "data": {
      "image/png": "[encoded data removed]"
     },
     "metadata": {
      "needs_background": "light"
     },
     "output_type": "display_data"
    }
   ],
   "source": [
    "df = 1/np.amax(batch_data['sim_1'].monitor_data['monitor_time_0'].Hz.t)\n",
    "minn = int(freq_range[0]/df)\n",
    "maxn = int(freq_range[1]/df)\n",
    "spectrum = np.fft.fft(batch_data['sim_1'].monitor_data['monitor_time_0'].Hz.squeeze())\n",
    "plt.plot(np.linspace(freq_range[0], freq_range[1], maxn-minn), np.abs(spectrum[::-1][minn:maxn]))\n",
    "plt.title('Spectrum at single wavevector')\n",
    "plt.xlabel('Frequency (Hz)')\n",
    "plt.ylabel('Amplitude')"
   ]
  },
  {
   "cell_type": "markdown",
   "id": "663c96ba-8b16-4056-9983-bef38e7a5c9a",
   "metadata": {},
   "source": [
    "We use the ResonanceFinder plugin to find the band frequencies.\n",
    "\n",
    "We first construct a `ResonanceFinder` object storing our parameters, and then call `run()` on our list of `FieldTimeData` objects. This will add up the signals from all of the monitors before searching for resonances. The `ResonanceFinder` class has additional methods in case the signal takes another form; see the api reference [here](https://docs.flexcompute.com/projects/tidy3d/en/latest/_autosummary/tidy3d.plugins.ResonanceFinder.html).\n",
    "\n",
    "The `run()` method returns an `xr.Dataset` containing the decay rate, Q factor, amplitude, phase, and estimation error for each resonance as a function of frequency.  "
   ]
  },
  {
   "cell_type": "code",
   "execution_count": 14,
   "id": "7496ef10-068e-41ce-8907-418bbcd60e26",
   "metadata": {},
   "outputs": [
    {
     "data": {
      "text/html": [
       "<pre style=\"white-space:pre;overflow-x:auto;line-height:normal;font-family:Menlo,'DejaVu Sans Mono',consolas,'Courier New',monospace\"><span style=\"color: #7fbfbf; text-decoration-color: #7fbfbf\">           </span><span style=\"color: #000080; text-decoration-color: #000080\">INFO    </span> loading SimulationData from data/<span style=\"color: #ffff00; text-decoration-color: #ffff00\">83c4d646-83e5-42b6-bc9e-aeed4f6d9b1e</span>.hdf5        <a href=\"file:///Users/twhughes/Documents/Flexcompute/tidy3d-docs/tidy3d/tidy3d/web/webapi.py\" target=\"_blank\"><span style=\"color: #7f7f7f; text-decoration-color: #7f7f7f\">webapi.py</span></a><span style=\"color: #7f7f7f; text-decoration-color: #7f7f7f\">:</span><a href=\"file:///Users/twhughes/Documents/Flexcompute/tidy3d-docs/tidy3d/tidy3d/web/webapi.py#403\" target=\"_blank\"><span style=\"color: #7f7f7f; text-decoration-color: #7f7f7f\">403</span></a>\n",
       "</pre>\n"
      ],
      "text/plain": [
       "\u001b[2;36m          \u001b[0m\u001b[2;36m \u001b[0m\u001b[34mINFO    \u001b[0m loading SimulationData from data/\u001b[93m83c4d646-83e5-42b6-bc9e-aeed4f6d9b1e\u001b[0m.hdf5        \u001b]8;id=771285;file:///Users/twhughes/Documents/Flexcompute/tidy3d-docs/tidy3d/tidy3d/web/webapi.py\u001b\\\u001b[2mwebapi.py\u001b[0m\u001b]8;;\u001b\\\u001b[2m:\u001b[0m\u001b]8;id=296625;file:///Users/twhughes/Documents/Flexcompute/tidy3d-docs/tidy3d/tidy3d/web/webapi.py#403\u001b\\\u001b[2m403\u001b[0m\u001b]8;;\u001b\\\n"
      ]
     },
     "metadata": {},
     "output_type": "display_data"
    },
    {
     "data": {
      "text/html": [
       "<pre style=\"white-space:pre;overflow-x:auto;line-height:normal;font-family:Menlo,'DejaVu Sans Mono',consolas,'Courier New',monospace\"><span style=\"color: #7fbfbf; text-decoration-color: #7fbfbf\">           </span><span style=\"color: #000080; text-decoration-color: #000080\">INFO    </span>         Running ResonanceFinder <span style=\"font-weight: bold\">(</span>nfreqs = <span style=\"color: #008080; text-decoration-color: #008080; font-weight: bold\">200</span><span style=\"font-weight: bold\">)</span>                                 <a href=\"file:///Users/twhughes/Documents/Flexcompute/tidy3d-docs/tidy3d/tidy3d/plugins/resonance/resonance.py\" target=\"_blank\"><span style=\"color: #7f7f7f; text-decoration-color: #7f7f7f\">resonance.py</span></a><span style=\"color: #7f7f7f; text-decoration-color: #7f7f7f\">:</span><a href=\"file:///Users/twhughes/Documents/Flexcompute/tidy3d-docs/tidy3d/tidy3d/plugins/resonance/resonance.py#187\" target=\"_blank\"><span style=\"color: #7f7f7f; text-decoration-color: #7f7f7f\">187</span></a>\n",
       "</pre>\n"
      ],
      "text/plain": [
       "\u001b[2;36m          \u001b[0m\u001b[2;36m \u001b[0m\u001b[34mINFO    \u001b[0m         Running ResonanceFinder \u001b[1m(\u001b[0mnfreqs = \u001b[1;36m200\u001b[0m\u001b[1m)\u001b[0m                                 \u001b]8;id=296540;file:///Users/twhughes/Documents/Flexcompute/tidy3d-docs/tidy3d/tidy3d/plugins/resonance/resonance.py\u001b\\\u001b[2mresonance.py\u001b[0m\u001b]8;;\u001b\\\u001b[2m:\u001b[0m\u001b]8;id=23993;file:///Users/twhughes/Documents/Flexcompute/tidy3d-docs/tidy3d/tidy3d/plugins/resonance/resonance.py#187\u001b\\\u001b[2m187\u001b[0m\u001b]8;;\u001b\\\n"
      ]
     },
     "metadata": {},
     "output_type": "display_data"
    },
    {
     "data": {
      "text/html": [
       "<pre style=\"white-space:pre;overflow-x:auto;line-height:normal;font-family:Menlo,'DejaVu Sans Mono',consolas,'Courier New',monospace\"><span style=\"color: #7fbfbf; text-decoration-color: #7fbfbf\">[09:21:34] </span><span style=\"color: #000080; text-decoration-color: #000080\">INFO    </span>         Completed ResonanceFinder <span style=\"font-weight: bold\">(</span>nfreqs = <span style=\"color: #008080; text-decoration-color: #008080; font-weight: bold\">5</span><span style=\"font-weight: bold\">)</span>                                 <a href=\"file:///Users/twhughes/Documents/Flexcompute/tidy3d-docs/tidy3d/tidy3d/plugins/resonance/resonance.py\" target=\"_blank\"><span style=\"color: #7f7f7f; text-decoration-color: #7f7f7f\">resonance.py</span></a><span style=\"color: #7f7f7f; text-decoration-color: #7f7f7f\">:</span><a href=\"file:///Users/twhughes/Documents/Flexcompute/tidy3d-docs/tidy3d/tidy3d/plugins/resonance/resonance.py#201\" target=\"_blank\"><span style=\"color: #7f7f7f; text-decoration-color: #7f7f7f\">201</span></a>\n",
       "</pre>\n"
      ],
      "text/plain": [
       "\u001b[2;36m[09:21:34]\u001b[0m\u001b[2;36m \u001b[0m\u001b[34mINFO    \u001b[0m         Completed ResonanceFinder \u001b[1m(\u001b[0mnfreqs = \u001b[1;36m5\u001b[0m\u001b[1m)\u001b[0m                                 \u001b]8;id=226761;file:///Users/twhughes/Documents/Flexcompute/tidy3d-docs/tidy3d/tidy3d/plugins/resonance/resonance.py\u001b\\\u001b[2mresonance.py\u001b[0m\u001b]8;;\u001b\\\u001b[2m:\u001b[0m\u001b]8;id=262087;file:///Users/twhughes/Documents/Flexcompute/tidy3d-docs/tidy3d/tidy3d/plugins/resonance/resonance.py#201\u001b\\\u001b[2m201\u001b[0m\u001b]8;;\u001b\\\n"
      ]
     },
     "metadata": {},
     "output_type": "display_data"
    },
    {
     "data": {
      "text/html": [
       "<div>\n",
       "<style scoped>\n",
       "    .dataframe tbody tr th:only-of-type {\n",
       "        vertical-align: middle;\n",
       "    }\n",
       "\n",
       "    .dataframe tbody tr th {\n",
       "        vertical-align: top;\n",
       "    }\n",
       "\n",
       "    .dataframe thead th {\n",
       "        text-align: right;\n",
       "    }\n",
       "</style>\n",
       "<table border=\"1\" class=\"dataframe\">\n",
       "  <thead>\n",
       "    <tr style=\"text-align: right;\">\n",
       "      <th></th>\n",
       "      <th>decay</th>\n",
       "      <th>Q</th>\n",
       "      <th>amplitude</th>\n",
       "      <th>phase</th>\n",
       "      <th>error</th>\n",
       "    </tr>\n",
       "    <tr>\n",
       "      <th>freq</th>\n",
       "      <th></th>\n",
       "      <th></th>\n",
       "      <th></th>\n",
       "      <th></th>\n",
       "      <th></th>\n",
       "    </tr>\n",
       "  </thead>\n",
       "  <tbody>\n",
       "    <tr>\n",
       "      <th>9.788253e+13</th>\n",
       "      <td>7.430808e+11</td>\n",
       "      <td>413.827169</td>\n",
       "      <td>0.004166</td>\n",
       "      <td>1.656389</td>\n",
       "      <td>0.000029</td>\n",
       "    </tr>\n",
       "    <tr>\n",
       "      <th>1.061235e+14</th>\n",
       "      <td>9.529779e+10</td>\n",
       "      <td>3498.473808</td>\n",
       "      <td>0.018676</td>\n",
       "      <td>3.054479</td>\n",
       "      <td>0.000006</td>\n",
       "    </tr>\n",
       "    <tr>\n",
       "      <th>1.131265e+14</th>\n",
       "      <td>2.128038e+12</td>\n",
       "      <td>167.007044</td>\n",
       "      <td>0.019482</td>\n",
       "      <td>1.695436</td>\n",
       "      <td>0.000036</td>\n",
       "    </tr>\n",
       "    <tr>\n",
       "      <th>1.191562e+14</th>\n",
       "      <td>1.150597e+12</td>\n",
       "      <td>325.344338</td>\n",
       "      <td>0.011175</td>\n",
       "      <td>-2.133775</td>\n",
       "      <td>0.000024</td>\n",
       "    </tr>\n",
       "    <tr>\n",
       "      <th>1.372927e+14</th>\n",
       "      <td>1.121526e+12</td>\n",
       "      <td>384.580918</td>\n",
       "      <td>0.015800</td>\n",
       "      <td>-0.707253</td>\n",
       "      <td>0.000037</td>\n",
       "    </tr>\n",
       "  </tbody>\n",
       "</table>\n",
       "</div>"
      ]
     },
     "execution_count": 14,
     "metadata": {},
     "output_type": "execute_result"
    }
   ],
   "source": [
    "resonance_finder = ResonanceFinder(freq_window=tuple(freq_range))\n",
    "resonance_data = resonance_finder.run(signals=batch_data['sim_1'].data)\n",
    "resonance_data.to_dataframe()"
   ]
  },
  {
   "cell_type": "markdown",
   "id": "46db3d3c",
   "metadata": {},
   "source": [
    "We see the four resonances from the previous figure. All four have reasonable Q factors, amplitudes, and errors, so they are likely to represent physical resonances. Note that in order to accurately obtain the Q factor for high-Q modes, it may be necessary to run the simulation for a longer time.\n",
    "\n",
    "Now we are ready to compute the band structure. We run the resonance finder at every Bloch wavevector."
   ]
  },
  {
   "cell_type": "code",
   "execution_count": 15,
   "id": "4afe673e",
   "metadata": {},
   "outputs": [
    {
     "data": {
      "text/html": [
       "<pre style=\"white-space:pre;overflow-x:auto;line-height:normal;font-family:Menlo,'DejaVu Sans Mono',consolas,'Courier New',monospace\"><span style=\"color: #008000; text-decoration-color: #008000; font-weight: bold\">↓</span> <span style=\"color: #000080; text-decoration-color: #000080; font-weight: bold\">monitor_data.hdf5</span> <span style=\"color: #f92672; text-decoration-color: #f92672\">━━━━━━━━━━━━━━━━━━━━━━━━━━━━━━━━━━</span><span style=\"color: #3a3a3a; text-decoration-color: #3a3a3a\">╺━━━━━</span> <span style=\"color: #800080; text-decoration-color: #800080\">85.9%</span> • <span style=\"color: #008000; text-decoration-color: #008000\">1.0/1.2 MB</span> • <span style=\"color: #800000; text-decoration-color: #800000\">2.0 MB/s</span> • <span style=\"color: #008080; text-decoration-color: #008080\">0:00:01</span>\n",
       "</pre>\n"
      ],
      "text/plain": [
       "\u001b[1;32m↓\u001b[0m \u001b[1;34mmonitor_data.hdf5\u001b[0m \u001b[38;2;249;38;114m━━━━━━━━━━━━━━━━━━━━━━━━━━━━━━━━━━\u001b[0m\u001b[38;5;237m╺\u001b[0m\u001b[38;5;237m━━━━━\u001b[0m \u001b[35m85.9%\u001b[0m • \u001b[32m1.0/1.2 MB\u001b[0m • \u001b[31m2.0 MB/s\u001b[0m • \u001b[36m0:00:01\u001b[0m\n"
      ]
     },
     "metadata": {},
     "output_type": "display_data"
    },
    {
     "data": {
      "text/html": [
       "<pre style=\"white-space:pre;overflow-x:auto;line-height:normal;font-family:Menlo,'DejaVu Sans Mono',consolas,'Courier New',monospace\"></pre>\n"
      ],
      "text/plain": []
     },
     "metadata": {},
     "output_type": "display_data"
    },
    {
     "data": {
      "text/html": [
       "<pre style=\"white-space:pre;overflow-x:auto;line-height:normal;font-family:Menlo,'DejaVu Sans Mono',consolas,'Courier New',monospace\">\n",
       "</pre>\n"
      ],
      "text/plain": [
       "\n"
      ]
     },
     "metadata": {},
     "output_type": "display_data"
    },
    {
     "data": {
      "text/html": [
       "<pre style=\"white-space:pre;overflow-x:auto;line-height:normal;font-family:Menlo,'DejaVu Sans Mono',consolas,'Courier New',monospace\"><span style=\"color: #7fbfbf; text-decoration-color: #7fbfbf\">[09:22:24] </span><span style=\"color: #000080; text-decoration-color: #000080\">INFO    </span> loading SimulationData from data/<span style=\"color: #ffff00; text-decoration-color: #ffff00\">c372903a-dc24-4a46-bd3c-1eb29f989128</span>.hdf5        <a href=\"file:///Users/twhughes/Documents/Flexcompute/tidy3d-docs/tidy3d/tidy3d/web/webapi.py\" target=\"_blank\"><span style=\"color: #7f7f7f; text-decoration-color: #7f7f7f\">webapi.py</span></a><span style=\"color: #7f7f7f; text-decoration-color: #7f7f7f\">:</span><a href=\"file:///Users/twhughes/Documents/Flexcompute/tidy3d-docs/tidy3d/tidy3d/web/webapi.py#403\" target=\"_blank\"><span style=\"color: #7f7f7f; text-decoration-color: #7f7f7f\">403</span></a>\n",
       "</pre>\n"
      ],
      "text/plain": [
       "\u001b[2;36m[09:22:24]\u001b[0m\u001b[2;36m \u001b[0m\u001b[34mINFO    \u001b[0m loading SimulationData from data/\u001b[93mc372903a-dc24-4a46-bd3c-1eb29f989128\u001b[0m.hdf5        \u001b]8;id=816220;file:///Users/twhughes/Documents/Flexcompute/tidy3d-docs/tidy3d/tidy3d/web/webapi.py\u001b\\\u001b[2mwebapi.py\u001b[0m\u001b]8;;\u001b\\\u001b[2m:\u001b[0m\u001b]8;id=205608;file:///Users/twhughes/Documents/Flexcompute/tidy3d-docs/tidy3d/tidy3d/web/webapi.py#403\u001b\\\u001b[2m403\u001b[0m\u001b]8;;\u001b\\\n"
      ]
     },
     "metadata": {},
     "output_type": "display_data"
    },
    {
     "data": {
      "text/html": [
       "<pre style=\"white-space:pre;overflow-x:auto;line-height:normal;font-family:Menlo,'DejaVu Sans Mono',consolas,'Courier New',monospace\"><span style=\"color: #7fbfbf; text-decoration-color: #7fbfbf\">           </span><span style=\"color: #000080; text-decoration-color: #000080\">INFO    </span>         Running ResonanceFinder <span style=\"font-weight: bold\">(</span>nfreqs = <span style=\"color: #008080; text-decoration-color: #008080; font-weight: bold\">200</span><span style=\"font-weight: bold\">)</span>                                 <a href=\"file:///Users/twhughes/Documents/Flexcompute/tidy3d-docs/tidy3d/tidy3d/plugins/resonance/resonance.py\" target=\"_blank\"><span style=\"color: #7f7f7f; text-decoration-color: #7f7f7f\">resonance.py</span></a><span style=\"color: #7f7f7f; text-decoration-color: #7f7f7f\">:</span><a href=\"file:///Users/twhughes/Documents/Flexcompute/tidy3d-docs/tidy3d/tidy3d/plugins/resonance/resonance.py#187\" target=\"_blank\"><span style=\"color: #7f7f7f; text-decoration-color: #7f7f7f\">187</span></a>\n",
       "</pre>\n"
      ],
      "text/plain": [
       "\u001b[2;36m          \u001b[0m\u001b[2;36m \u001b[0m\u001b[34mINFO    \u001b[0m         Running ResonanceFinder \u001b[1m(\u001b[0mnfreqs = \u001b[1;36m200\u001b[0m\u001b[1m)\u001b[0m                                 \u001b]8;id=793768;file:///Users/twhughes/Documents/Flexcompute/tidy3d-docs/tidy3d/tidy3d/plugins/resonance/resonance.py\u001b\\\u001b[2mresonance.py\u001b[0m\u001b]8;;\u001b\\\u001b[2m:\u001b[0m\u001b]8;id=347852;file:///Users/twhughes/Documents/Flexcompute/tidy3d-docs/tidy3d/tidy3d/plugins/resonance/resonance.py#187\u001b\\\u001b[2m187\u001b[0m\u001b]8;;\u001b\\\n"
      ]
     },
     "metadata": {},
     "output_type": "display_data"
    },
    {
     "data": {
      "text/html": [
       "<pre style=\"white-space:pre;overflow-x:auto;line-height:normal;font-family:Menlo,'DejaVu Sans Mono',consolas,'Courier New',monospace\"><span style=\"color: #7fbfbf; text-decoration-color: #7fbfbf\">           </span><span style=\"color: #000080; text-decoration-color: #000080\">INFO    </span>         Completed ResonanceFinder <span style=\"font-weight: bold\">(</span>nfreqs = <span style=\"color: #008080; text-decoration-color: #008080; font-weight: bold\">6</span><span style=\"font-weight: bold\">)</span>                                 <a href=\"file:///Users/twhughes/Documents/Flexcompute/tidy3d-docs/tidy3d/tidy3d/plugins/resonance/resonance.py\" target=\"_blank\"><span style=\"color: #7f7f7f; text-decoration-color: #7f7f7f\">resonance.py</span></a><span style=\"color: #7f7f7f; text-decoration-color: #7f7f7f\">:</span><a href=\"file:///Users/twhughes/Documents/Flexcompute/tidy3d-docs/tidy3d/tidy3d/plugins/resonance/resonance.py#201\" target=\"_blank\"><span style=\"color: #7f7f7f; text-decoration-color: #7f7f7f\">201</span></a>\n",
       "</pre>\n"
      ],
      "text/plain": [
       "\u001b[2;36m          \u001b[0m\u001b[2;36m \u001b[0m\u001b[34mINFO    \u001b[0m         Completed ResonanceFinder \u001b[1m(\u001b[0mnfreqs = \u001b[1;36m6\u001b[0m\u001b[1m)\u001b[0m                                 \u001b]8;id=175270;file:///Users/twhughes/Documents/Flexcompute/tidy3d-docs/tidy3d/tidy3d/plugins/resonance/resonance.py\u001b\\\u001b[2mresonance.py\u001b[0m\u001b]8;;\u001b\\\u001b[2m:\u001b[0m\u001b]8;id=964454;file:///Users/twhughes/Documents/Flexcompute/tidy3d-docs/tidy3d/tidy3d/plugins/resonance/resonance.py#201\u001b\\\u001b[2m201\u001b[0m\u001b]8;;\u001b\\\n"
      ]
     },
     "metadata": {},
     "output_type": "display_data"
    }
   ],
   "source": [
    "resonance_finder = ResonanceFinder(freq_window=tuple(freq_range))\n",
    "resonance_datas = []\n",
    "plt.figure(figsize=(10,8))\n",
    "for i in range(3*Nk):\n",
    "    sim_data = batch_data[f'sim_{i}']\n",
    "    resonance_datas.append(resonance_finder.run(signals=sim_data.data))"
   ]
  },
  {
   "cell_type": "markdown",
   "id": "7f48f416-be79-4c85-9dd3-36a7101dfe70",
   "metadata": {},
   "source": [
    "We define a function to filter resonances based on their Q, amplitude, and error."
   ]
  },
  {
   "cell_type": "code",
   "execution_count": 16,
   "id": "225f04aa-2390-456e-bcb0-395320ae4015",
   "metadata": {},
   "outputs": [],
   "source": [
    "def filter_resonances(resonance_data, minQ, minamp, maxerr):\n",
    "    resonance_data = resonance_data.where(abs(resonance_data.Q) > minQ, drop=True)\n",
    "    resonance_data = resonance_data.where(resonance_data.amplitude > minamp, drop=True)\n",
    "    resonance_data = resonance_data.where(resonance_data.error < maxerr, drop=True)\n",
    "    return resonance_data"
   ]
  },
  {
   "cell_type": "markdown",
   "id": "9398f9cc-e31c-4fc8-a8af-4fb89cee9034",
   "metadata": {},
   "source": [
    "We plot the band structure with the light line overlaid."
   ]
  },
  {
   "cell_type": "code",
   "execution_count": 18,
   "id": "fc001a93",
   "metadata": {},
   "outputs": [
    {
     "data": {
      "image/png": "[encoded data removed]"
     },
     "metadata": {
      "needs_background": "light"
     },
     "output_type": "display_data"
    }
   ],
   "source": [
    "for i in range(3*Nk):\n",
    "    resonance_data = resonance_datas[i]\n",
    "    resonance_data = filter_resonances(resonance_data=resonance_data, minQ=0, minamp=.001, maxerr=100)\n",
    "    freqs = resonance_data.freq.to_numpy()\n",
    "    Qs = resonance_data.Q.to_numpy()\n",
    "    plt.scatter(np.full(len(freqs), (1/2)*i/Nk), freqs/3e14, color='blue')\n",
    "    \n",
    "lightx = np.linspace(0, .5, 100)\n",
    "lighty1 = lightx\n",
    "lighty3 = (.5-lightx)*np.sqrt(2)\n",
    "    \n",
    "plt.plot(lightx, lighty1, color='blue', alpha=0.2)\n",
    "plt.plot(1 + lightx, lighty3, color='blue', alpha=0.2)\n",
    "\n",
    "plt.ylim(0, freq_range_unitless[1])\n",
    "    \n",
    "plt.title('Band diagram')\n",
    "plt.ylabel('Frequency (c/a)')\n",
    "plt.xlabel('Wavevector')\n",
    "plt.xticks([0, 0.5, 1, 1.5], ['$\\Gamma$', 'X', 'M', '$\\Gamma$']);\n",
    "plt.xlim(0, 1.5)\n",
    "plt.show()"
   ]
  },
  {
   "cell_type": "markdown",
   "id": "3c9ac653-3d76-4588-946a-71b2db764030",
   "metadata": {},
   "source": [
    "The bandstructure we obtained matches the expected result from the paper. If we were seeing too many resonances, we could change the parameters to our filter_resonances function to eliminate the spurious ones. If we were seeing too few resonances even before filtering, we might have to change the parameters of the ResonanceFinder, for example decreasing `rcond` or increasing `init_num_freqs`. If the ResonanceFinder takes too long, we can decrease `init_num_freqs`. There can also be resonances on the light line associated with Wood's anomaly; we filter those out here based on their small amplitude."
   ]
  }
 ],
 "metadata": {
  "kernelspec": {
   "display_name": "Python 3 (ipykernel)",
   "language": "python",
   "name": "python3"
  },
  "language_info": {
   "codemirror_mode": {
    "name": "ipython",
    "version": 3
   },
   "file_extension": ".py",
   "mimetype": "text/x-python",
   "name": "python",
   "nbconvert_exporter": "python",
   "pygments_lexer": "ipython3",
   "version": "3.9.9"
  }
 },
 "nbformat": 4,
 "nbformat_minor": 5
}
