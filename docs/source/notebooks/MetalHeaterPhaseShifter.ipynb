{
 "cells": [
  {
   "cell_type": "markdown",
   "id": "cad0085c-728f-47a1-a601-cedfb7771ce3",
   "metadata": {},
   "source": [
    "# Thermally Tuned Waveguide\n",
    "\n",
    "In this example we use Tidy3D's heat solver to investigate tuning of a straight rectangular waveguide using a heating strip."
   ]
  },
  {
   "cell_type": "code",
   "execution_count": 1,
   "id": "3137f8fc-8ab5-4001-a28b-8bf82627257b",
   "metadata": {},
   "outputs": [],
   "source": [
    "import numpy as np\n",
    "from matplotlib import pyplot as plt\n",
    "\n",
    "import tidy3d as td\n",
    "import tidy3d.web as web\n"
   ]
  },
  {
   "cell_type": "markdown",
   "id": "8f99fb33-e37f-456d-abd7-6f3c4dc60ffd",
   "metadata": {},
   "source": [
    "The simulation setup consists of a silicon waveguide in a silicon dioxide cladding on top of a silicon wafer. The heating strip is placed in the cladding above the waveguide. Let us define basic geometric parameters of simulated structures."
   ]
  },
  {
   "cell_type": "code",
   "execution_count": 2,
   "id": "4e9610d3-e8de-4a39-9c2e-b0d1e587d174",
   "metadata": {},
   "outputs": [],
   "source": [
    "# in um\n",
    "\n",
    "w_sim = 16  # simulation width\n",
    "h_buffer = 1  # vertical simulation buffer\n",
    "\n",
    "h_clad = 2.8  # thickness of cladding\n",
    "h_box = 2  # thickness of buried oxide\n",
    "h_wafer = 0.5  # wafer thickness\n",
    "\n",
    "# waveguide paramters\n",
    "w_core = 0.5\n",
    "h_core = 0.22\n",
    "\n",
    "# heater parameters\n",
    "h_heater = 0.14\n",
    "w_heater = 2\n",
    "d_heater = 2  # distance between heater and waveguide\n"
   ]
  },
  {
   "cell_type": "markdown",
   "id": "fa8ede33-1d33-4f2c-8874-da7713c61cdc",
   "metadata": {},
   "source": [
    "We will place the wafer's top surface at location $z=0$. Let us define vertical locations of each structure. Note that we will model buried oxide and cladding as a single structure since they are made of the same material."
   ]
  },
  {
   "cell_type": "code",
   "execution_count": 3,
   "id": "5155e134-1f26-455e-86f8-6bc79a4db5f5",
   "metadata": {},
   "outputs": [],
   "source": [
    "z_wafer = -h_wafer / 2\n",
    "z_core = h_box + h_core / 2\n",
    "z_heater = h_box + h_core + d_heater + h_heater / 2\n",
    "\n",
    "box_clad_max = h_box + h_clad\n",
    "box_clad_min = (\n",
    "    -h_wafer / 2\n",
    ")  # make structures overlap to ensure no gaps due to numerical roundoff errors\n",
    "h_box_clad = box_clad_max - box_clad_min\n",
    "z_box_clad = (box_clad_max + box_clad_min) / 2\n",
    "\n",
    "z_sim = (h_box + h_clad - h_wafer) / 2\n",
    "h_sim = h_box + h_clad + h_wafer + 2 * h_buffer\n"
   ]
  },
  {
   "cell_type": "markdown",
   "id": "d97a699c-3657-4582-ad91-cd5d98a124a5",
   "metadata": {},
   "source": [
    "Define optic and thermal properties of materials."
   ]
  },
  {
   "cell_type": "code",
   "execution_count": 4,
   "id": "7720c1e7-9264-4e65-a8d9-26af985838e8",
   "metadata": {},
   "outputs": [],
   "source": [
    "Si_n = 3.4777\n",
    "Si_n_slope = 1.86e-4  # 1/K\n",
    "Si_k = 148e-12  # W / (um * K)\n",
    "Si_s = 0.71 * 2.33e-12  # J / (um^3 * K)\n",
    "\n",
    "SiO2_n = 1.444\n",
    "SiO2_n_slope = 1e-5  # 1/K\n",
    "SiO2_k = 1.38e-12  # W/(um*K)\n",
    "SiO2_s = 0.709 * 2.203e-12  # J / (um^3 * K)\n",
    "\n",
    "TiN_k = 28e-12  # W/(um*K)\n",
    "TiN_s = 0.598 * 5240e-12  # J / (um^3 * K)\n",
    "TiN_sigma = 2.3e6  # S/m\n"
   ]
  },
  {
   "cell_type": "markdown",
   "id": "b8714c3c-c09a-48ca-8d3c-79b48c61353e",
   "metadata": {},
   "source": [
    "Convert refraction indices into permittivity values."
   ]
  },
  {
   "cell_type": "code",
   "execution_count": 5,
   "id": "585b3a51-98c9-4daf-b90f-eba276eb2638",
   "metadata": {},
   "outputs": [],
   "source": [
    "Si_eps = Si_n**2\n",
    "Si_eps_slope = 2 * Si_n * Si_n_slope\n",
    "\n",
    "SiO2_eps = SiO2_n**2\n",
    "SiO2_eps_slope = 2 * SiO2_n * SiO2_n_slope\n"
   ]
  },
  {
   "cell_type": "markdown",
   "id": "2f426e3f-40cf-4aed-8968-a84c6121fe48",
   "metadata": {},
   "source": [
    "Create material classes containing relevant information for each medium. Note that we use class [`PerturbationMedium`](../_autosummary/tidy3d.PerturbationMedium.html) to specify sensitivity of optic properties to temperature and field `heat_spec` to specify thermal properties. Optic characteristics of the heating strip material is modeled as a perfect electric conductor."
   ]
  },
  {
   "cell_type": "code",
   "execution_count": 6,
   "id": "a847929e-19c0-4b58-91c6-2a3491c1957c",
   "metadata": {},
   "outputs": [],
   "source": [
    "Si = td.PerturbationMedium(\n",
    "    permittivity=Si_eps,\n",
    "    permittivity_perturbation=td.ParameterPerturbation(\n",
    "        heat=td.LinearHeatPerturbation(coeff=Si_eps_slope, temperature_ref=300)\n",
    "    ),\n",
    "    heat_spec=td.SolidSpec(\n",
    "        conductivity=Si_k,\n",
    "        capacity=Si_s,\n",
    "    ),\n",
    "    name=\"Si\",\n",
    ")\n",
    "\n",
    "SiO2 = td.PerturbationMedium(\n",
    "    permittivity=SiO2_eps,\n",
    "    permittivity_perturbation=td.ParameterPerturbation(\n",
    "        heat=td.LinearHeatPerturbation(coeff=SiO2_eps_slope, temperature_ref=300)\n",
    "    ),\n",
    "    heat_spec=td.SolidSpec(\n",
    "        conductivity=SiO2_k,\n",
    "        capacity=SiO2_s,\n",
    "    ),\n",
    "    name=\"SiO2\",\n",
    ")\n",
    "\n",
    "TiN = td.PECMedium(\n",
    "    heat_spec=td.SolidSpec(\n",
    "        conductivity=TiN_k,\n",
    "        capacity=TiN_s,\n",
    "    ),\n",
    "    name=\"TiN\",\n",
    ")\n",
    "\n",
    "air = td.Medium(heat_spec=td.FluidSpec(), name=\"air\")\n"
   ]
  },
  {
   "cell_type": "markdown",
   "id": "b54b6ec2-f758-4972-8d05-06d96127942b",
   "metadata": {},
   "source": [
    "Create structures representing waveguide, heater, cladding, and wafer."
   ]
  },
  {
   "cell_type": "code",
   "execution_count": 7,
   "id": "813aa69e-6a51-4535-a8fd-052c7a4879ed",
   "metadata": {},
   "outputs": [],
   "source": [
    "core = td.Structure(\n",
    "    geometry=td.Box(center=(0, 0, z_core), size=(w_core, td.inf, h_core)),\n",
    "    medium=Si,\n",
    ")\n",
    "\n",
    "heater = td.Structure(\n",
    "    geometry=td.Box(center=(0, 0, z_heater), size=(w_heater, td.inf, h_heater)),\n",
    "    medium=TiN,\n",
    "    name=\"heater\",\n",
    ")\n",
    "\n",
    "box_clad = td.Structure(\n",
    "    geometry=td.Box(center=(0, 0, z_box_clad), size=(td.inf, td.inf, h_box_clad)),\n",
    "    medium=SiO2,\n",
    ")\n",
    "\n",
    "wafer = td.Structure(\n",
    "    geometry=td.Box(center=(0, 0, z_wafer), size=(td.inf, td.inf, h_wafer)),\n",
    "    medium=Si,\n",
    "    name=\"wafer\",\n",
    ")\n"
   ]
  },
  {
   "cell_type": "markdown",
   "id": "635f30fc-791e-49c3-962c-9e517d095834",
   "metadata": {},
   "source": [
    "Pack structures into a simulation scene."
   ]
  },
  {
   "cell_type": "code",
   "execution_count": 8,
   "id": "263abcd0-8534-4a00-ad51-9958160902a0",
   "metadata": {},
   "outputs": [],
   "source": [
    "scene = td.Scene(\n",
    "    medium=air,\n",
    "    structures=[box_clad, core, heater, wafer],\n",
    ")\n"
   ]
  },
  {
   "cell_type": "markdown",
   "id": "3ac406cd-ca35-4477-a2ad-76329b930ca8",
   "metadata": {},
   "source": [
    "Visual validation of the setup."
   ]
  },
  {
   "cell_type": "code",
   "execution_count": 9,
   "id": "d7016678-ab78-48da-a79f-18ef247ba3b6",
   "metadata": {},
   "outputs": [
    {
     "data": {
      "image/png": "[encoded data removed]",
      "text/plain": [
       "<Figure size 640x480 with 1 Axes>"
      ]
     },
     "metadata": {},
     "output_type": "display_data"
    }
   ],
   "source": [
    "scene.plot(\n",
    "    y=0, hlim=[-w_sim / 2, w_sim / 2], vlim=[z_sim - h_sim / 2, z_sim + h_sim / 2]\n",
    ")\n",
    "plt.show()\n"
   ]
  },
  {
   "cell_type": "markdown",
   "id": "6c7d3070-13f3-47a3-b96a-b0a84ac9f2aa",
   "metadata": {},
   "source": [
    "We assume that the bottom of the wafer is maintained at temperature $T=300$ K and ignore heat transfer at the cladding/air boundary. In this simulation setup these boundary conditions can be set using [`MediumMediumInterface`](../_autosummary/tidy3d.MediumMediumInterface.html) placement. Note since no other boundary conditions are specified, the other sides of the simulation box will be treated as insulating boundary conditions."
   ]
  },
  {
   "cell_type": "code",
   "execution_count": 10,
   "id": "4fd9469e-8e40-4983-923d-cf5941d52f60",
   "metadata": {},
   "outputs": [],
   "source": [
    "bc_bottom = td.HeatBoundarySpec(\n",
    "    placement=td.MediumMediumInterface(mediums=[\"Si\", \"air\"]),\n",
    "    condition=td.TemperatureBC(temperature=300),\n",
    ")\n",
    "\n",
    "bc_top = td.HeatBoundarySpec(\n",
    "    placement=td.MediumMediumInterface(mediums=[\"SiO2\", \"air\"]),\n",
    "    condition=td.HeatFluxBC(flux=0),\n",
    ")\n"
   ]
  },
  {
   "cell_type": "markdown",
   "id": "6a398f0d-47d0-486c-865f-562e3fe7d043",
   "metadata": {},
   "source": [
    "Create a uniform heat source inside the heater structure equivalent to electrical current of $7.3 \\times 10^{-3}$ A."
   ]
  },
  {
   "cell_type": "code",
   "execution_count": 11,
   "id": "8954c828-a5fc-43f2-a7dc-670ec37b36a9",
   "metadata": {},
   "outputs": [],
   "source": [
    "current = 7.4e-3  # A\n",
    "heat_rate = (current / h_heater / w_heater) ** 2 / TiN_sigma  # convert into power\n",
    "heater_source = td.UniformHeatSource(rate=heat_rate, structures=[heater.name])\n"
   ]
  },
  {
   "cell_type": "markdown",
   "id": "fe7dd73f-9033-4bf4-8c81-3075cd7c6d66",
   "metadata": {},
   "source": [
    "We will measure temperature distribution in the entire cross section of the simulation setup."
   ]
  },
  {
   "cell_type": "code",
   "execution_count": 12,
   "id": "5d2baca8-2510-42ef-a264-cf01de60ddf3",
   "metadata": {},
   "outputs": [],
   "source": [
    "temp_mnt = td.TemperatureMonitor(size=(td.inf, 0, td.inf), name=\"temperature\")\n"
   ]
  },
  {
   "cell_type": "markdown",
   "id": "e7d0b9b0-156d-4055-a7a0-4b45bf628b8d",
   "metadata": {},
   "source": [
    "For spatial discretization we will use a distance-based meshing specifying that solid-solid material interfaces should be discretized with mesh size equal to the heater height `h_heater` divided by 3 and away from interfaces the grid should coarsen to four times of that size. Setting `distance_interface` to three of minimal mesh size will create approximately three layers of cells with the minimal size around interfaces. Cells outside of this region will have sizes according to linear relation `dl_interface * (1 - ratio(d)) + dl_interface * ratio(d)`, where `ratio(d) = (d - distance_interface) / (distance_bulk - distance_interface)` and `d` is the distance to the closest material interface. We choose this transition to happen on the order of `2 * d_heater`. We will also exclude using the higher mesh resolution around the wafer since that region is of less interest."
   ]
  },
  {
   "cell_type": "code",
   "execution_count": 13,
   "id": "90f4bdba-1c90-486b-b737-c502a5dd1c29",
   "metadata": {},
   "outputs": [],
   "source": [
    "# parameters for meshing\n",
    "dl_min = h_heater / 3\n",
    "dl_max = 4 * dl_min\n",
    "\n",
    "grid_spec = td.DistanceUnstructuredGrid(\n",
    "    dl_interface=dl_min,\n",
    "    dl_bulk=dl_max,\n",
    "    distance_interface=3 * dl_min,\n",
    "    distance_bulk=2 * d_heater,\n",
    "    non_refined_structures=[\"wafer\"],  # do not refine near wafer\n",
    ")\n"
   ]
  },
  {
   "cell_type": "markdown",
   "id": "958db673-038f-4344-ac24-3c6647b1fc8d",
   "metadata": {},
   "source": [
    "Pack components into a heat simulation specification. Note that from the heat transfer perspective the problem is symmetric around $x=0$. Thus, we can set symmetry specification to `(1, 0, 0)` to reduce simulation size and cost. \n",
    "\n",
    "Given that the problem is two-dimensional we will use a small simulation size along the invariant $y$-direction."
   ]
  },
  {
   "cell_type": "code",
   "execution_count": 14,
   "id": "b2a59d61-0a5b-46bd-b8c7-7689f9d26165",
   "metadata": {},
   "outputs": [],
   "source": [
    "heat_sim = td.HeatSimulation.from_scene(\n",
    "    scene=scene,\n",
    "    center=(0, 0, z_sim),\n",
    "    size=(w_sim, dl_min, h_sim),\n",
    "    boundary_spec=[bc_bottom, bc_top],\n",
    "    sources=[heater_source],\n",
    "    monitors=[temp_mnt],\n",
    "    symmetry=(1, 0, 0),\n",
    "    grid_spec=grid_spec,\n",
    ")\n"
   ]
  },
  {
   "cell_type": "code",
   "execution_count": 15,
   "id": "e9e3e692-115d-4e3b-afc7-829f24a441c8",
   "metadata": {},
   "outputs": [
    {
     "data": {
      "image/png": "[encoded data removed]",
      "text/plain": [
       "<Figure size 640x480 with 1 Axes>"
      ]
     },
     "metadata": {},
     "output_type": "display_data"
    }
   ],
   "source": [
    "heat_sim.plot(y=0.01)\n",
    "plt.show()\n"
   ]
  },
  {
   "cell_type": "markdown",
   "id": "6afb7c27-908c-45f8-bb10-950272539010",
   "metadata": {},
   "source": [
    "In case the resulting simulation mesh needs to be inspected one can submit the simulation for solving and download directly either mesh alone (\"mesh.cgns\") or simulation results sampled together with the mesh (\"volume_proc0.vtu\"). These files can be inspected using common third-party software like Paraview. In the upcoming Tidy3D version the mesh inspection step will be simplified and optimized."
   ]
  },
  {
   "cell_type": "code",
   "execution_count": 16,
   "id": "0b6655b2-d720-48d3-a1c7-b37a769a0581",
   "metadata": {},
   "outputs": [
    {
     "data": {
      "text/html": [
       "<pre style=\"white-space:pre;overflow-x:auto;line-height:normal;font-family:Menlo,'DejaVu Sans Mono',consolas,'Courier New',monospace\"><span style=\"color: #7fbfbf; text-decoration-color: #7fbfbf\">15:19:14 CDT </span>Created task <span style=\"color: #008000; text-decoration-color: #008000\">'heat_sim_check_mesh'</span> with task_id                    \n",
       "<span style=\"color: #7fbfbf; text-decoration-color: #7fbfbf\">             </span><span style=\"color: #008000; text-decoration-color: #008000\">'he-3dcd3b86-1729-431c-98b4-11935e22f5d6v1'</span> and task_type <span style=\"color: #008000; text-decoration-color: #008000\">'HEAT'</span>.  \n",
       "</pre>\n"
      ],
      "text/plain": [
       "\u001b[2;36m15:19:14 CDT\u001b[0m\u001b[2;36m \u001b[0mCreated task \u001b[32m'heat_sim_check_mesh'\u001b[0m with task_id                    \n",
       "\u001b[2;36m             \u001b[0m\u001b[32m'he-3dcd3b86-1729-431c-98b4-11935e22f5d6v1'\u001b[0m and task_type \u001b[32m'HEAT'\u001b[0m.  \n"
      ]
     },
     "metadata": {},
     "output_type": "display_data"
    },
    {
     "data": {
      "text/html": [
       "<pre style=\"white-space:pre;overflow-x:auto;line-height:normal;font-family:Menlo,'DejaVu Sans Mono',consolas,'Courier New',monospace\"><span style=\"color: #7fbfbf; text-decoration-color: #7fbfbf\">             </span>Tidy3D's heat solver is currently in the beta stage. All heat      \n",
       "<span style=\"color: #7fbfbf; text-decoration-color: #7fbfbf\">             </span>simulations are charged a flat fee of <span style=\"color: #008080; text-decoration-color: #008080; font-weight: bold\">0.025</span> FlexCredit.            \n",
       "</pre>\n"
      ],
      "text/plain": [
       "\u001b[2;36m            \u001b[0m\u001b[2;36m \u001b[0mTidy3D's heat solver is currently in the beta stage. All heat      \n",
       "\u001b[2;36m             \u001b[0msimulations are charged a flat fee of \u001b[1;36m0.025\u001b[0m FlexCredit.            \n"
      ]
     },
     "metadata": {},
     "output_type": "display_data"
    },
    {
     "data": {
      "application/vnd.jupyter.widget-view+json": {
       "model_id": "95e28986f4ff4219a718d56fb6459d04",
       "version_major": 2,
       "version_minor": 0
      },
      "text/plain": [
       "Output()"
      ]
     },
     "metadata": {},
     "output_type": "display_data"
    },
    {
     "data": {
      "text/html": [
       "<pre style=\"white-space:pre;overflow-x:auto;line-height:normal;font-family:Menlo,'DejaVu Sans Mono',consolas,'Courier New',monospace\"></pre>\n"
      ],
      "text/plain": []
     },
     "metadata": {},
     "output_type": "display_data"
    },
    {
     "data": {
      "text/html": [
       "<pre style=\"white-space:pre;overflow-x:auto;line-height:normal;font-family:Menlo,'DejaVu Sans Mono',consolas,'Courier New',monospace\">\n",
       "</pre>\n"
      ],
      "text/plain": [
       "\n"
      ]
     },
     "metadata": {},
     "output_type": "display_data"
    },
    {
     "data": {
      "text/html": [
       "<pre style=\"white-space:pre;overflow-x:auto;line-height:normal;font-family:Menlo,'DejaVu Sans Mono',consolas,'Courier New',monospace\"><span style=\"color: #7fbfbf; text-decoration-color: #7fbfbf\">15:19:15 CDT </span>Heat solver status: queued                                         \n",
       "</pre>\n"
      ],
      "text/plain": [
       "\u001b[2;36m15:19:15 CDT\u001b[0m\u001b[2;36m \u001b[0mHeat solver status: queued                                         \n"
      ]
     },
     "metadata": {},
     "output_type": "display_data"
    },
    {
     "data": {
      "text/html": [
       "<pre style=\"white-space:pre;overflow-x:auto;line-height:normal;font-family:Menlo,'DejaVu Sans Mono',consolas,'Courier New',monospace\"><span style=\"color: #7fbfbf; text-decoration-color: #7fbfbf\">15:19:19 CDT </span>Heat solver status: preprocess                                     \n",
       "</pre>\n"
      ],
      "text/plain": [
       "\u001b[2;36m15:19:19 CDT\u001b[0m\u001b[2;36m \u001b[0mHeat solver status: preprocess                                     \n"
      ]
     },
     "metadata": {},
     "output_type": "display_data"
    },
    {
     "data": {
      "text/html": [
       "<pre style=\"white-space:pre;overflow-x:auto;line-height:normal;font-family:Menlo,'DejaVu Sans Mono',consolas,'Courier New',monospace\"><span style=\"color: #7fbfbf; text-decoration-color: #7fbfbf\">15:19:37 CDT </span>Heat solver status: running                                        \n",
       "</pre>\n"
      ],
      "text/plain": [
       "\u001b[2;36m15:19:37 CDT\u001b[0m\u001b[2;36m \u001b[0mHeat solver status: running                                        \n"
      ]
     },
     "metadata": {},
     "output_type": "display_data"
    },
    {
     "data": {
      "text/html": [
       "<pre style=\"white-space:pre;overflow-x:auto;line-height:normal;font-family:Menlo,'DejaVu Sans Mono',consolas,'Courier New',monospace\"><span style=\"color: #7fbfbf; text-decoration-color: #7fbfbf\">15:19:40 CDT </span>Heat solver status: postprocess                                    \n",
       "</pre>\n"
      ],
      "text/plain": [
       "\u001b[2;36m15:19:40 CDT\u001b[0m\u001b[2;36m \u001b[0mHeat solver status: postprocess                                    \n"
      ]
     },
     "metadata": {},
     "output_type": "display_data"
    },
    {
     "data": {
      "text/html": [
       "<pre style=\"white-space:pre;overflow-x:auto;line-height:normal;font-family:Menlo,'DejaVu Sans Mono',consolas,'Courier New',monospace\"><span style=\"color: #7fbfbf; text-decoration-color: #7fbfbf\">15:19:48 CDT </span>Heat solver status: success                                        \n",
       "</pre>\n"
      ],
      "text/plain": [
       "\u001b[2;36m15:19:48 CDT\u001b[0m\u001b[2;36m \u001b[0mHeat solver status: success                                        \n"
      ]
     },
     "metadata": {},
     "output_type": "display_data"
    },
    {
     "data": {
      "application/vnd.jupyter.widget-view+json": {
       "model_id": "14c7f74d503e484f9b2caf57227c5463",
       "version_major": 2,
       "version_minor": 0
      },
      "text/plain": [
       "Output()"
      ]
     },
     "metadata": {},
     "output_type": "display_data"
    },
    {
     "data": {
      "text/html": [
       "<pre style=\"white-space:pre;overflow-x:auto;line-height:normal;font-family:Menlo,'DejaVu Sans Mono',consolas,'Courier New',monospace\"></pre>\n"
      ],
      "text/plain": []
     },
     "metadata": {},
     "output_type": "display_data"
    },
    {
     "data": {
      "text/html": [
       "<pre style=\"white-space:pre;overflow-x:auto;line-height:normal;font-family:Menlo,'DejaVu Sans Mono',consolas,'Courier New',monospace\">\n",
       "</pre>\n"
      ],
      "text/plain": [
       "\n"
      ]
     },
     "metadata": {},
     "output_type": "display_data"
    },
    {
     "data": {
      "text/html": [
       "<pre style=\"white-space:pre;overflow-x:auto;line-height:normal;font-family:Menlo,'DejaVu Sans Mono',consolas,'Courier New',monospace\"><span style=\"color: #7fbfbf; text-decoration-color: #7fbfbf\">15:19:49 CDT </span>loading simulation from simulation_data.hdf5                       \n",
       "</pre>\n"
      ],
      "text/plain": [
       "\u001b[2;36m15:19:49 CDT\u001b[0m\u001b[2;36m \u001b[0mloading simulation from simulation_data.hdf5                       \n"
      ]
     },
     "metadata": {},
     "output_type": "display_data"
    }
   ],
   "source": [
    "job = web.Job(simulation=heat_sim, task_name=\"heat_sim_check_mesh\")\n",
    "heat_sim_data = job.run()\n"
   ]
  },
  {
   "cell_type": "code",
   "execution_count": 17,
   "id": "b6d34c7e-9236-4e66-9518-c253e14bfa90",
   "metadata": {},
   "outputs": [
    {
     "data": {
      "application/vnd.jupyter.widget-view+json": {
       "model_id": "4bd4474ce68346e3b5111026b19bcc66",
       "version_major": 2,
       "version_minor": 0
      },
      "text/plain": [
       "Output()"
      ]
     },
     "metadata": {},
     "output_type": "display_data"
    },
    {
     "data": {
      "text/html": [
       "<pre style=\"white-space:pre;overflow-x:auto;line-height:normal;font-family:Menlo,'DejaVu Sans Mono',consolas,'Courier New',monospace\"></pre>\n"
      ],
      "text/plain": []
     },
     "metadata": {},
     "output_type": "display_data"
    },
    {
     "data": {
      "text/html": [
       "<pre style=\"white-space:pre;overflow-x:auto;line-height:normal;font-family:Menlo,'DejaVu Sans Mono',consolas,'Courier New',monospace\">\n",
       "</pre>\n"
      ],
      "text/plain": [
       "\n"
      ]
     },
     "metadata": {},
     "output_type": "display_data"
    }
   ],
   "source": [
    "_ = web.core.s3utils.download_file(\n",
    "    resource_id=job.task_id,\n",
    "    remote_filename=\"volume_proc0.vtu\",\n",
    "    to_file=\"./heat_sim_solution.vtu\",\n",
    "    verbose=True,\n",
    ")\n"
   ]
  },
  {
   "cell_type": "markdown",
   "id": "27139077-7dec-41f0-9cb4-85200721d80d",
   "metadata": {},
   "source": [
    "Having ensured that the simulation mesh is suitable for this simulation setup, let us perform a sweep through several values of electric current in the heating strip. To do this we create a dictionary of simulations with different source definitions."
   ]
  },
  {
   "cell_type": "code",
   "execution_count": 18,
   "id": "cf517d62-30d9-49af-87dd-a4206c3fd565",
   "metadata": {},
   "outputs": [],
   "source": [
    "currents = np.linspace(1e-10, 7.4e-3, 10)\n",
    "heat_sims = {}\n",
    "\n",
    "for ind, current in enumerate(currents):\n",
    "    heat_rate = (current / h_heater / w_heater) ** 2 / TiN_sigma\n",
    "    heater_source = td.UniformHeatSource(rate=heat_rate, structures=[heater.name])\n",
    "\n",
    "    heat_sim_new = heat_sim.updated_copy(sources=[heater_source])\n",
    "    heat_sims[f\"heat_wg_current_{ind}\"] = heat_sim_new\n"
   ]
  },
  {
   "cell_type": "markdown",
   "id": "1328a7ef-4474-4706-916c-7d93c8860f26",
   "metadata": {},
   "source": [
    "And submit this dictionary using [`Batch`](../_autosummary/tidy3d.web.Batch.html) functionality."
   ]
  },
  {
   "cell_type": "code",
   "execution_count": 19,
   "id": "45fcd76e-adca-4ca1-8a80-b11e140bc947",
   "metadata": {},
   "outputs": [
    {
     "data": {
      "text/html": [
       "<pre style=\"white-space:pre;overflow-x:auto;line-height:normal;font-family:Menlo,'DejaVu Sans Mono',consolas,'Courier New',monospace\"><span style=\"color: #7fbfbf; text-decoration-color: #7fbfbf\">15:19:50 CDT </span>Created task <span style=\"color: #008000; text-decoration-color: #008000\">'heat_wg_current_0'</span> with task_id                      \n",
       "<span style=\"color: #7fbfbf; text-decoration-color: #7fbfbf\">             </span><span style=\"color: #008000; text-decoration-color: #008000\">'he-17b477ec-29b4-4cda-b392-3da51019b606v1'</span> and task_type <span style=\"color: #008000; text-decoration-color: #008000\">'HEAT'</span>.  \n",
       "</pre>\n"
      ],
      "text/plain": [
       "\u001b[2;36m15:19:50 CDT\u001b[0m\u001b[2;36m \u001b[0mCreated task \u001b[32m'heat_wg_current_0'\u001b[0m with task_id                      \n",
       "\u001b[2;36m             \u001b[0m\u001b[32m'he-17b477ec-29b4-4cda-b392-3da51019b606v1'\u001b[0m and task_type \u001b[32m'HEAT'\u001b[0m.  \n"
      ]
     },
     "metadata": {},
     "output_type": "display_data"
    },
    {
     "data": {
      "text/html": [
       "<pre style=\"white-space:pre;overflow-x:auto;line-height:normal;font-family:Menlo,'DejaVu Sans Mono',consolas,'Courier New',monospace\"><span style=\"color: #7fbfbf; text-decoration-color: #7fbfbf\">             </span>Tidy3D's heat solver is currently in the beta stage. All heat      \n",
       "<span style=\"color: #7fbfbf; text-decoration-color: #7fbfbf\">             </span>simulations are charged a flat fee of <span style=\"color: #008080; text-decoration-color: #008080; font-weight: bold\">0.025</span> FlexCredit.            \n",
       "</pre>\n"
      ],
      "text/plain": [
       "\u001b[2;36m            \u001b[0m\u001b[2;36m \u001b[0mTidy3D's heat solver is currently in the beta stage. All heat      \n",
       "\u001b[2;36m             \u001b[0msimulations are charged a flat fee of \u001b[1;36m0.025\u001b[0m FlexCredit.            \n"
      ]
     },
     "metadata": {},
     "output_type": "display_data"
    },
    {
     "data": {
      "application/vnd.jupyter.widget-view+json": {
       "model_id": "0a4513f52cc34e158b5db35c775c2398",
       "version_major": 2,
       "version_minor": 0
      },
      "text/plain": [
       "Output()"
      ]
     },
     "metadata": {},
     "output_type": "display_data"
    },
    {
     "data": {
      "text/html": [
       "<pre style=\"white-space:pre;overflow-x:auto;line-height:normal;font-family:Menlo,'DejaVu Sans Mono',consolas,'Courier New',monospace\"></pre>\n"
      ],
      "text/plain": []
     },
     "metadata": {},
     "output_type": "display_data"
    },
    {
     "data": {
      "text/html": [
       "<pre style=\"white-space:pre;overflow-x:auto;line-height:normal;font-family:Menlo,'DejaVu Sans Mono',consolas,'Courier New',monospace\">\n",
       "</pre>\n"
      ],
      "text/plain": [
       "\n"
      ]
     },
     "metadata": {},
     "output_type": "display_data"
    },
    {
     "data": {
      "text/html": [
       "<pre style=\"white-space:pre;overflow-x:auto;line-height:normal;font-family:Menlo,'DejaVu Sans Mono',consolas,'Courier New',monospace\"><span style=\"color: #7fbfbf; text-decoration-color: #7fbfbf\">15:19:51 CDT </span>Created task <span style=\"color: #008000; text-decoration-color: #008000\">'heat_wg_current_1'</span> with task_id                      \n",
       "<span style=\"color: #7fbfbf; text-decoration-color: #7fbfbf\">             </span><span style=\"color: #008000; text-decoration-color: #008000\">'he-c2a41e0f-40c0-4f4d-9a07-e128b0f39fa9v1'</span> and task_type <span style=\"color: #008000; text-decoration-color: #008000\">'HEAT'</span>.  \n",
       "</pre>\n"
      ],
      "text/plain": [
       "\u001b[2;36m15:19:51 CDT\u001b[0m\u001b[2;36m \u001b[0mCreated task \u001b[32m'heat_wg_current_1'\u001b[0m with task_id                      \n",
       "\u001b[2;36m             \u001b[0m\u001b[32m'he-c2a41e0f-40c0-4f4d-9a07-e128b0f39fa9v1'\u001b[0m and task_type \u001b[32m'HEAT'\u001b[0m.  \n"
      ]
     },
     "metadata": {},
     "output_type": "display_data"
    },
    {
     "data": {
      "text/html": [
       "<pre style=\"white-space:pre;overflow-x:auto;line-height:normal;font-family:Menlo,'DejaVu Sans Mono',consolas,'Courier New',monospace\"><span style=\"color: #7fbfbf; text-decoration-color: #7fbfbf\">             </span>Tidy3D's heat solver is currently in the beta stage. All heat      \n",
       "<span style=\"color: #7fbfbf; text-decoration-color: #7fbfbf\">             </span>simulations are charged a flat fee of <span style=\"color: #008080; text-decoration-color: #008080; font-weight: bold\">0.025</span> FlexCredit.            \n",
       "</pre>\n"
      ],
      "text/plain": [
       "\u001b[2;36m            \u001b[0m\u001b[2;36m \u001b[0mTidy3D's heat solver is currently in the beta stage. All heat      \n",
       "\u001b[2;36m             \u001b[0msimulations are charged a flat fee of \u001b[1;36m0.025\u001b[0m FlexCredit.            \n"
      ]
     },
     "metadata": {},
     "output_type": "display_data"
    },
    {
     "data": {
      "application/vnd.jupyter.widget-view+json": {
       "model_id": "1cb764a4522e4cd089d5ed1b9f410eaf",
       "version_major": 2,
       "version_minor": 0
      },
      "text/plain": [
       "Output()"
      ]
     },
     "metadata": {},
     "output_type": "display_data"
    },
    {
     "data": {
      "text/html": [
       "<pre style=\"white-space:pre;overflow-x:auto;line-height:normal;font-family:Menlo,'DejaVu Sans Mono',consolas,'Courier New',monospace\"></pre>\n"
      ],
      "text/plain": []
     },
     "metadata": {},
     "output_type": "display_data"
    },
    {
     "data": {
      "text/html": [
       "<pre style=\"white-space:pre;overflow-x:auto;line-height:normal;font-family:Menlo,'DejaVu Sans Mono',consolas,'Courier New',monospace\">\n",
       "</pre>\n"
      ],
      "text/plain": [
       "\n"
      ]
     },
     "metadata": {},
     "output_type": "display_data"
    },
    {
     "data": {
      "text/html": [
       "<pre style=\"white-space:pre;overflow-x:auto;line-height:normal;font-family:Menlo,'DejaVu Sans Mono',consolas,'Courier New',monospace\"><span style=\"color: #7fbfbf; text-decoration-color: #7fbfbf\">             </span>Created task <span style=\"color: #008000; text-decoration-color: #008000\">'heat_wg_current_2'</span> with task_id                      \n",
       "<span style=\"color: #7fbfbf; text-decoration-color: #7fbfbf\">             </span><span style=\"color: #008000; text-decoration-color: #008000\">'he-fb6d89a8-b247-4fab-b979-83b6e3bf481av1'</span> and task_type <span style=\"color: #008000; text-decoration-color: #008000\">'HEAT'</span>.  \n",
       "</pre>\n"
      ],
      "text/plain": [
       "\u001b[2;36m            \u001b[0m\u001b[2;36m \u001b[0mCreated task \u001b[32m'heat_wg_current_2'\u001b[0m with task_id                      \n",
       "\u001b[2;36m             \u001b[0m\u001b[32m'he-fb6d89a8-b247-4fab-b979-83b6e3bf481av1'\u001b[0m and task_type \u001b[32m'HEAT'\u001b[0m.  \n"
      ]
     },
     "metadata": {},
     "output_type": "display_data"
    },
    {
     "data": {
      "text/html": [
       "<pre style=\"white-space:pre;overflow-x:auto;line-height:normal;font-family:Menlo,'DejaVu Sans Mono',consolas,'Courier New',monospace\"><span style=\"color: #7fbfbf; text-decoration-color: #7fbfbf\">             </span>Tidy3D's heat solver is currently in the beta stage. All heat      \n",
       "<span style=\"color: #7fbfbf; text-decoration-color: #7fbfbf\">             </span>simulations are charged a flat fee of <span style=\"color: #008080; text-decoration-color: #008080; font-weight: bold\">0.025</span> FlexCredit.            \n",
       "</pre>\n"
      ],
      "text/plain": [
       "\u001b[2;36m            \u001b[0m\u001b[2;36m \u001b[0mTidy3D's heat solver is currently in the beta stage. All heat      \n",
       "\u001b[2;36m             \u001b[0msimulations are charged a flat fee of \u001b[1;36m0.025\u001b[0m FlexCredit.            \n"
      ]
     },
     "metadata": {},
     "output_type": "display_data"
    },
    {
     "data": {
      "application/vnd.jupyter.widget-view+json": {
       "model_id": "b56be31b4b2a41919cc8e6c42bba58be",
       "version_major": 2,
       "version_minor": 0
      },
      "text/plain": [
       "Output()"
      ]
     },
     "metadata": {},
     "output_type": "display_data"
    },
    {
     "data": {
      "text/html": [
       "<pre style=\"white-space:pre;overflow-x:auto;line-height:normal;font-family:Menlo,'DejaVu Sans Mono',consolas,'Courier New',monospace\"></pre>\n"
      ],
      "text/plain": []
     },
     "metadata": {},
     "output_type": "display_data"
    },
    {
     "data": {
      "text/html": [
       "<pre style=\"white-space:pre;overflow-x:auto;line-height:normal;font-family:Menlo,'DejaVu Sans Mono',consolas,'Courier New',monospace\">\n",
       "</pre>\n"
      ],
      "text/plain": [
       "\n"
      ]
     },
     "metadata": {},
     "output_type": "display_data"
    },
    {
     "data": {
      "text/html": [
       "<pre style=\"white-space:pre;overflow-x:auto;line-height:normal;font-family:Menlo,'DejaVu Sans Mono',consolas,'Courier New',monospace\"><span style=\"color: #7fbfbf; text-decoration-color: #7fbfbf\">15:19:52 CDT </span>Created task <span style=\"color: #008000; text-decoration-color: #008000\">'heat_wg_current_3'</span> with task_id                      \n",
       "<span style=\"color: #7fbfbf; text-decoration-color: #7fbfbf\">             </span><span style=\"color: #008000; text-decoration-color: #008000\">'he-defe0e79-56c5-4cf9-9439-91a97cc248fcv1'</span> and task_type <span style=\"color: #008000; text-decoration-color: #008000\">'HEAT'</span>.  \n",
       "</pre>\n"
      ],
      "text/plain": [
       "\u001b[2;36m15:19:52 CDT\u001b[0m\u001b[2;36m \u001b[0mCreated task \u001b[32m'heat_wg_current_3'\u001b[0m with task_id                      \n",
       "\u001b[2;36m             \u001b[0m\u001b[32m'he-defe0e79-56c5-4cf9-9439-91a97cc248fcv1'\u001b[0m and task_type \u001b[32m'HEAT'\u001b[0m.  \n"
      ]
     },
     "metadata": {},
     "output_type": "display_data"
    },
    {
     "data": {
      "text/html": [
       "<pre style=\"white-space:pre;overflow-x:auto;line-height:normal;font-family:Menlo,'DejaVu Sans Mono',consolas,'Courier New',monospace\"><span style=\"color: #7fbfbf; text-decoration-color: #7fbfbf\">             </span>Tidy3D's heat solver is currently in the beta stage. All heat      \n",
       "<span style=\"color: #7fbfbf; text-decoration-color: #7fbfbf\">             </span>simulations are charged a flat fee of <span style=\"color: #008080; text-decoration-color: #008080; font-weight: bold\">0.025</span> FlexCredit.            \n",
       "</pre>\n"
      ],
      "text/plain": [
       "\u001b[2;36m            \u001b[0m\u001b[2;36m \u001b[0mTidy3D's heat solver is currently in the beta stage. All heat      \n",
       "\u001b[2;36m             \u001b[0msimulations are charged a flat fee of \u001b[1;36m0.025\u001b[0m FlexCredit.            \n"
      ]
     },
     "metadata": {},
     "output_type": "display_data"
    },
    {
     "data": {
      "application/vnd.jupyter.widget-view+json": {
       "model_id": "8bd0b7372a60426ca496e5b0d2f77bf8",
       "version_major": 2,
       "version_minor": 0
      },
      "text/plain": [
       "Output()"
      ]
     },
     "metadata": {},
     "output_type": "display_data"
    },
    {
     "data": {
      "text/html": [
       "<pre style=\"white-space:pre;overflow-x:auto;line-height:normal;font-family:Menlo,'DejaVu Sans Mono',consolas,'Courier New',monospace\"></pre>\n"
      ],
      "text/plain": []
     },
     "metadata": {},
     "output_type": "display_data"
    },
    {
     "data": {
      "text/html": [
       "<pre style=\"white-space:pre;overflow-x:auto;line-height:normal;font-family:Menlo,'DejaVu Sans Mono',consolas,'Courier New',monospace\">\n",
       "</pre>\n"
      ],
      "text/plain": [
       "\n"
      ]
     },
     "metadata": {},
     "output_type": "display_data"
    },
    {
     "data": {
      "text/html": [
       "<pre style=\"white-space:pre;overflow-x:auto;line-height:normal;font-family:Menlo,'DejaVu Sans Mono',consolas,'Courier New',monospace\"><span style=\"color: #7fbfbf; text-decoration-color: #7fbfbf\">15:19:53 CDT </span>Created task <span style=\"color: #008000; text-decoration-color: #008000\">'heat_wg_current_4'</span> with task_id                      \n",
       "<span style=\"color: #7fbfbf; text-decoration-color: #7fbfbf\">             </span><span style=\"color: #008000; text-decoration-color: #008000\">'he-7139f8b6-fdf3-4d44-b6ab-8609a8ac5a86v1'</span> and task_type <span style=\"color: #008000; text-decoration-color: #008000\">'HEAT'</span>.  \n",
       "</pre>\n"
      ],
      "text/plain": [
       "\u001b[2;36m15:19:53 CDT\u001b[0m\u001b[2;36m \u001b[0mCreated task \u001b[32m'heat_wg_current_4'\u001b[0m with task_id                      \n",
       "\u001b[2;36m             \u001b[0m\u001b[32m'he-7139f8b6-fdf3-4d44-b6ab-8609a8ac5a86v1'\u001b[0m and task_type \u001b[32m'HEAT'\u001b[0m.  \n"
      ]
     },
     "metadata": {},
     "output_type": "display_data"
    },
    {
     "data": {
      "text/html": [
       "<pre style=\"white-space:pre;overflow-x:auto;line-height:normal;font-family:Menlo,'DejaVu Sans Mono',consolas,'Courier New',monospace\"><span style=\"color: #7fbfbf; text-decoration-color: #7fbfbf\">             </span>Tidy3D's heat solver is currently in the beta stage. All heat      \n",
       "<span style=\"color: #7fbfbf; text-decoration-color: #7fbfbf\">             </span>simulations are charged a flat fee of <span style=\"color: #008080; text-decoration-color: #008080; font-weight: bold\">0.025</span> FlexCredit.            \n",
       "</pre>\n"
      ],
      "text/plain": [
       "\u001b[2;36m            \u001b[0m\u001b[2;36m \u001b[0mTidy3D's heat solver is currently in the beta stage. All heat      \n",
       "\u001b[2;36m             \u001b[0msimulations are charged a flat fee of \u001b[1;36m0.025\u001b[0m FlexCredit.            \n"
      ]
     },
     "metadata": {},
     "output_type": "display_data"
    },
    {
     "data": {
      "application/vnd.jupyter.widget-view+json": {
       "model_id": "a66b6f9ffb0644c3994887b19b9b2a1d",
       "version_major": 2,
       "version_minor": 0
      },
      "text/plain": [
       "Output()"
      ]
     },
     "metadata": {},
     "output_type": "display_data"
    },
    {
     "data": {
      "text/html": [
       "<pre style=\"white-space:pre;overflow-x:auto;line-height:normal;font-family:Menlo,'DejaVu Sans Mono',consolas,'Courier New',monospace\"></pre>\n"
      ],
      "text/plain": []
     },
     "metadata": {},
     "output_type": "display_data"
    },
    {
     "data": {
      "text/html": [
       "<pre style=\"white-space:pre;overflow-x:auto;line-height:normal;font-family:Menlo,'DejaVu Sans Mono',consolas,'Courier New',monospace\">\n",
       "</pre>\n"
      ],
      "text/plain": [
       "\n"
      ]
     },
     "metadata": {},
     "output_type": "display_data"
    },
    {
     "data": {
      "text/html": [
       "<pre style=\"white-space:pre;overflow-x:auto;line-height:normal;font-family:Menlo,'DejaVu Sans Mono',consolas,'Courier New',monospace\"><span style=\"color: #7fbfbf; text-decoration-color: #7fbfbf\">15:19:54 CDT </span>Created task <span style=\"color: #008000; text-decoration-color: #008000\">'heat_wg_current_5'</span> with task_id                      \n",
       "<span style=\"color: #7fbfbf; text-decoration-color: #7fbfbf\">             </span><span style=\"color: #008000; text-decoration-color: #008000\">'he-0992481e-3e0b-4b0f-a372-a5dcb36429ecv1'</span> and task_type <span style=\"color: #008000; text-decoration-color: #008000\">'HEAT'</span>.  \n",
       "</pre>\n"
      ],
      "text/plain": [
       "\u001b[2;36m15:19:54 CDT\u001b[0m\u001b[2;36m \u001b[0mCreated task \u001b[32m'heat_wg_current_5'\u001b[0m with task_id                      \n",
       "\u001b[2;36m             \u001b[0m\u001b[32m'he-0992481e-3e0b-4b0f-a372-a5dcb36429ecv1'\u001b[0m and task_type \u001b[32m'HEAT'\u001b[0m.  \n"
      ]
     },
     "metadata": {},
     "output_type": "display_data"
    },
    {
     "data": {
      "text/html": [
       "<pre style=\"white-space:pre;overflow-x:auto;line-height:normal;font-family:Menlo,'DejaVu Sans Mono',consolas,'Courier New',monospace\"><span style=\"color: #7fbfbf; text-decoration-color: #7fbfbf\">             </span>Tidy3D's heat solver is currently in the beta stage. All heat      \n",
       "<span style=\"color: #7fbfbf; text-decoration-color: #7fbfbf\">             </span>simulations are charged a flat fee of <span style=\"color: #008080; text-decoration-color: #008080; font-weight: bold\">0.025</span> FlexCredit.            \n",
       "</pre>\n"
      ],
      "text/plain": [
       "\u001b[2;36m            \u001b[0m\u001b[2;36m \u001b[0mTidy3D's heat solver is currently in the beta stage. All heat      \n",
       "\u001b[2;36m             \u001b[0msimulations are charged a flat fee of \u001b[1;36m0.025\u001b[0m FlexCredit.            \n"
      ]
     },
     "metadata": {},
     "output_type": "display_data"
    },
    {
     "data": {
      "application/vnd.jupyter.widget-view+json": {
       "model_id": "0f7a231a02c84508a944b041d1b20e6a",
       "version_major": 2,
       "version_minor": 0
      },
      "text/plain": [
       "Output()"
      ]
     },
     "metadata": {},
     "output_type": "display_data"
    },
    {
     "data": {
      "text/html": [
       "<pre style=\"white-space:pre;overflow-x:auto;line-height:normal;font-family:Menlo,'DejaVu Sans Mono',consolas,'Courier New',monospace\"></pre>\n"
      ],
      "text/plain": []
     },
     "metadata": {},
     "output_type": "display_data"
    },
    {
     "data": {
      "text/html": [
       "<pre style=\"white-space:pre;overflow-x:auto;line-height:normal;font-family:Menlo,'DejaVu Sans Mono',consolas,'Courier New',monospace\">\n",
       "</pre>\n"
      ],
      "text/plain": [
       "\n"
      ]
     },
     "metadata": {},
     "output_type": "display_data"
    },
    {
     "data": {
      "text/html": [
       "<pre style=\"white-space:pre;overflow-x:auto;line-height:normal;font-family:Menlo,'DejaVu Sans Mono',consolas,'Courier New',monospace\"><span style=\"color: #7fbfbf; text-decoration-color: #7fbfbf\">             </span>Created task <span style=\"color: #008000; text-decoration-color: #008000\">'heat_wg_current_6'</span> with task_id                      \n",
       "<span style=\"color: #7fbfbf; text-decoration-color: #7fbfbf\">             </span><span style=\"color: #008000; text-decoration-color: #008000\">'he-5a5a6071-14e4-4d0f-bfb8-6ffdc15d9042v1'</span> and task_type <span style=\"color: #008000; text-decoration-color: #008000\">'HEAT'</span>.  \n",
       "</pre>\n"
      ],
      "text/plain": [
       "\u001b[2;36m            \u001b[0m\u001b[2;36m \u001b[0mCreated task \u001b[32m'heat_wg_current_6'\u001b[0m with task_id                      \n",
       "\u001b[2;36m             \u001b[0m\u001b[32m'he-5a5a6071-14e4-4d0f-bfb8-6ffdc15d9042v1'\u001b[0m and task_type \u001b[32m'HEAT'\u001b[0m.  \n"
      ]
     },
     "metadata": {},
     "output_type": "display_data"
    },
    {
     "data": {
      "text/html": [
       "<pre style=\"white-space:pre;overflow-x:auto;line-height:normal;font-family:Menlo,'DejaVu Sans Mono',consolas,'Courier New',monospace\"><span style=\"color: #7fbfbf; text-decoration-color: #7fbfbf\">             </span>Tidy3D's heat solver is currently in the beta stage. All heat      \n",
       "<span style=\"color: #7fbfbf; text-decoration-color: #7fbfbf\">             </span>simulations are charged a flat fee of <span style=\"color: #008080; text-decoration-color: #008080; font-weight: bold\">0.025</span> FlexCredit.            \n",
       "</pre>\n"
      ],
      "text/plain": [
       "\u001b[2;36m            \u001b[0m\u001b[2;36m \u001b[0mTidy3D's heat solver is currently in the beta stage. All heat      \n",
       "\u001b[2;36m             \u001b[0msimulations are charged a flat fee of \u001b[1;36m0.025\u001b[0m FlexCredit.            \n"
      ]
     },
     "metadata": {},
     "output_type": "display_data"
    },
    {
     "data": {
      "application/vnd.jupyter.widget-view+json": {
       "model_id": "b58cbb0c76cd4e2ba007113cf6e59798",
       "version_major": 2,
       "version_minor": 0
      },
      "text/plain": [
       "Output()"
      ]
     },
     "metadata": {},
     "output_type": "display_data"
    },
    {
     "data": {
      "text/html": [
       "<pre style=\"white-space:pre;overflow-x:auto;line-height:normal;font-family:Menlo,'DejaVu Sans Mono',consolas,'Courier New',monospace\"></pre>\n"
      ],
      "text/plain": []
     },
     "metadata": {},
     "output_type": "display_data"
    },
    {
     "data": {
      "text/html": [
       "<pre style=\"white-space:pre;overflow-x:auto;line-height:normal;font-family:Menlo,'DejaVu Sans Mono',consolas,'Courier New',monospace\">\n",
       "</pre>\n"
      ],
      "text/plain": [
       "\n"
      ]
     },
     "metadata": {},
     "output_type": "display_data"
    },
    {
     "data": {
      "text/html": [
       "<pre style=\"white-space:pre;overflow-x:auto;line-height:normal;font-family:Menlo,'DejaVu Sans Mono',consolas,'Courier New',monospace\"><span style=\"color: #7fbfbf; text-decoration-color: #7fbfbf\">15:19:55 CDT </span>Created task <span style=\"color: #008000; text-decoration-color: #008000\">'heat_wg_current_7'</span> with task_id                      \n",
       "<span style=\"color: #7fbfbf; text-decoration-color: #7fbfbf\">             </span><span style=\"color: #008000; text-decoration-color: #008000\">'he-c0ee5e2a-b5ff-4173-b6c1-b77a85fe0ef6v1'</span> and task_type <span style=\"color: #008000; text-decoration-color: #008000\">'HEAT'</span>.  \n",
       "</pre>\n"
      ],
      "text/plain": [
       "\u001b[2;36m15:19:55 CDT\u001b[0m\u001b[2;36m \u001b[0mCreated task \u001b[32m'heat_wg_current_7'\u001b[0m with task_id                      \n",
       "\u001b[2;36m             \u001b[0m\u001b[32m'he-c0ee5e2a-b5ff-4173-b6c1-b77a85fe0ef6v1'\u001b[0m and task_type \u001b[32m'HEAT'\u001b[0m.  \n"
      ]
     },
     "metadata": {},
     "output_type": "display_data"
    },
    {
     "data": {
      "text/html": [
       "<pre style=\"white-space:pre;overflow-x:auto;line-height:normal;font-family:Menlo,'DejaVu Sans Mono',consolas,'Courier New',monospace\"><span style=\"color: #7fbfbf; text-decoration-color: #7fbfbf\">             </span>Tidy3D's heat solver is currently in the beta stage. All heat      \n",
       "<span style=\"color: #7fbfbf; text-decoration-color: #7fbfbf\">             </span>simulations are charged a flat fee of <span style=\"color: #008080; text-decoration-color: #008080; font-weight: bold\">0.025</span> FlexCredit.            \n",
       "</pre>\n"
      ],
      "text/plain": [
       "\u001b[2;36m            \u001b[0m\u001b[2;36m \u001b[0mTidy3D's heat solver is currently in the beta stage. All heat      \n",
       "\u001b[2;36m             \u001b[0msimulations are charged a flat fee of \u001b[1;36m0.025\u001b[0m FlexCredit.            \n"
      ]
     },
     "metadata": {},
     "output_type": "display_data"
    },
    {
     "data": {
      "application/vnd.jupyter.widget-view+json": {
       "model_id": "bd25ddf3e1464eb2b71933a84cb89d53",
       "version_major": 2,
       "version_minor": 0
      },
      "text/plain": [
       "Output()"
      ]
     },
     "metadata": {},
     "output_type": "display_data"
    },
    {
     "data": {
      "text/html": [
       "<pre style=\"white-space:pre;overflow-x:auto;line-height:normal;font-family:Menlo,'DejaVu Sans Mono',consolas,'Courier New',monospace\"></pre>\n"
      ],
      "text/plain": []
     },
     "metadata": {},
     "output_type": "display_data"
    },
    {
     "data": {
      "text/html": [
       "<pre style=\"white-space:pre;overflow-x:auto;line-height:normal;font-family:Menlo,'DejaVu Sans Mono',consolas,'Courier New',monospace\">\n",
       "</pre>\n"
      ],
      "text/plain": [
       "\n"
      ]
     },
     "metadata": {},
     "output_type": "display_data"
    },
    {
     "data": {
      "text/html": [
       "<pre style=\"white-space:pre;overflow-x:auto;line-height:normal;font-family:Menlo,'DejaVu Sans Mono',consolas,'Courier New',monospace\"><span style=\"color: #7fbfbf; text-decoration-color: #7fbfbf\">15:19:56 CDT </span>Created task <span style=\"color: #008000; text-decoration-color: #008000\">'heat_wg_current_8'</span> with task_id                      \n",
       "<span style=\"color: #7fbfbf; text-decoration-color: #7fbfbf\">             </span><span style=\"color: #008000; text-decoration-color: #008000\">'he-0c104cde-9508-4f2f-9466-f8f7c97f4ca6v1'</span> and task_type <span style=\"color: #008000; text-decoration-color: #008000\">'HEAT'</span>.  \n",
       "</pre>\n"
      ],
      "text/plain": [
       "\u001b[2;36m15:19:56 CDT\u001b[0m\u001b[2;36m \u001b[0mCreated task \u001b[32m'heat_wg_current_8'\u001b[0m with task_id                      \n",
       "\u001b[2;36m             \u001b[0m\u001b[32m'he-0c104cde-9508-4f2f-9466-f8f7c97f4ca6v1'\u001b[0m and task_type \u001b[32m'HEAT'\u001b[0m.  \n"
      ]
     },
     "metadata": {},
     "output_type": "display_data"
    },
    {
     "data": {
      "text/html": [
       "<pre style=\"white-space:pre;overflow-x:auto;line-height:normal;font-family:Menlo,'DejaVu Sans Mono',consolas,'Courier New',monospace\"><span style=\"color: #7fbfbf; text-decoration-color: #7fbfbf\">             </span>Tidy3D's heat solver is currently in the beta stage. All heat      \n",
       "<span style=\"color: #7fbfbf; text-decoration-color: #7fbfbf\">             </span>simulations are charged a flat fee of <span style=\"color: #008080; text-decoration-color: #008080; font-weight: bold\">0.025</span> FlexCredit.            \n",
       "</pre>\n"
      ],
      "text/plain": [
       "\u001b[2;36m            \u001b[0m\u001b[2;36m \u001b[0mTidy3D's heat solver is currently in the beta stage. All heat      \n",
       "\u001b[2;36m             \u001b[0msimulations are charged a flat fee of \u001b[1;36m0.025\u001b[0m FlexCredit.            \n"
      ]
     },
     "metadata": {},
     "output_type": "display_data"
    },
    {
     "data": {
      "application/vnd.jupyter.widget-view+json": {
       "model_id": "330b5e0eecad45e787595232cb0311e2",
       "version_major": 2,
       "version_minor": 0
      },
      "text/plain": [
       "Output()"
      ]
     },
     "metadata": {},
     "output_type": "display_data"
    },
    {
     "data": {
      "text/html": [
       "<pre style=\"white-space:pre;overflow-x:auto;line-height:normal;font-family:Menlo,'DejaVu Sans Mono',consolas,'Courier New',monospace\"></pre>\n"
      ],
      "text/plain": []
     },
     "metadata": {},
     "output_type": "display_data"
    },
    {
     "data": {
      "text/html": [
       "<pre style=\"white-space:pre;overflow-x:auto;line-height:normal;font-family:Menlo,'DejaVu Sans Mono',consolas,'Courier New',monospace\">\n",
       "</pre>\n"
      ],
      "text/plain": [
       "\n"
      ]
     },
     "metadata": {},
     "output_type": "display_data"
    },
    {
     "data": {
      "text/html": [
       "<pre style=\"white-space:pre;overflow-x:auto;line-height:normal;font-family:Menlo,'DejaVu Sans Mono',consolas,'Courier New',monospace\"><span style=\"color: #7fbfbf; text-decoration-color: #7fbfbf\">15:19:57 CDT </span>Created task <span style=\"color: #008000; text-decoration-color: #008000\">'heat_wg_current_9'</span> with task_id                      \n",
       "<span style=\"color: #7fbfbf; text-decoration-color: #7fbfbf\">             </span><span style=\"color: #008000; text-decoration-color: #008000\">'he-fce02b17-cf2a-444c-8c8f-9c99f3d6eafev1'</span> and task_type <span style=\"color: #008000; text-decoration-color: #008000\">'HEAT'</span>.  \n",
       "</pre>\n"
      ],
      "text/plain": [
       "\u001b[2;36m15:19:57 CDT\u001b[0m\u001b[2;36m \u001b[0mCreated task \u001b[32m'heat_wg_current_9'\u001b[0m with task_id                      \n",
       "\u001b[2;36m             \u001b[0m\u001b[32m'he-fce02b17-cf2a-444c-8c8f-9c99f3d6eafev1'\u001b[0m and task_type \u001b[32m'HEAT'\u001b[0m.  \n"
      ]
     },
     "metadata": {},
     "output_type": "display_data"
    },
    {
     "data": {
      "text/html": [
       "<pre style=\"white-space:pre;overflow-x:auto;line-height:normal;font-family:Menlo,'DejaVu Sans Mono',consolas,'Courier New',monospace\"><span style=\"color: #7fbfbf; text-decoration-color: #7fbfbf\">             </span>Tidy3D's heat solver is currently in the beta stage. All heat      \n",
       "<span style=\"color: #7fbfbf; text-decoration-color: #7fbfbf\">             </span>simulations are charged a flat fee of <span style=\"color: #008080; text-decoration-color: #008080; font-weight: bold\">0.025</span> FlexCredit.            \n",
       "</pre>\n"
      ],
      "text/plain": [
       "\u001b[2;36m            \u001b[0m\u001b[2;36m \u001b[0mTidy3D's heat solver is currently in the beta stage. All heat      \n",
       "\u001b[2;36m             \u001b[0msimulations are charged a flat fee of \u001b[1;36m0.025\u001b[0m FlexCredit.            \n"
      ]
     },
     "metadata": {},
     "output_type": "display_data"
    },
    {
     "data": {
      "application/vnd.jupyter.widget-view+json": {
       "model_id": "69a1f0df5e0d4df18900cb7e658597f0",
       "version_major": 2,
       "version_minor": 0
      },
      "text/plain": [
       "Output()"
      ]
     },
     "metadata": {},
     "output_type": "display_data"
    },
    {
     "data": {
      "text/html": [
       "<pre style=\"white-space:pre;overflow-x:auto;line-height:normal;font-family:Menlo,'DejaVu Sans Mono',consolas,'Courier New',monospace\"></pre>\n"
      ],
      "text/plain": []
     },
     "metadata": {},
     "output_type": "display_data"
    },
    {
     "data": {
      "text/html": [
       "<pre style=\"white-space:pre;overflow-x:auto;line-height:normal;font-family:Menlo,'DejaVu Sans Mono',consolas,'Courier New',monospace\">\n",
       "</pre>\n"
      ],
      "text/plain": [
       "\n"
      ]
     },
     "metadata": {},
     "output_type": "display_data"
    }
   ],
   "source": [
    "batch = web.Batch(simulations=heat_sims)\n"
   ]
  },
  {
   "cell_type": "code",
   "execution_count": 20,
   "id": "2e1a7bb5-d583-451c-8ef2-a8a06615c789",
   "metadata": {},
   "outputs": [
    {
     "data": {
      "text/html": [
       "<pre style=\"white-space:pre;overflow-x:auto;line-height:normal;font-family:Menlo,'DejaVu Sans Mono',consolas,'Courier New',monospace\"><span style=\"color: #7fbfbf; text-decoration-color: #7fbfbf\">15:20:01 CDT </span>Started working on Batch.                                          \n",
       "</pre>\n"
      ],
      "text/plain": [
       "\u001b[2;36m15:20:01 CDT\u001b[0m\u001b[2;36m \u001b[0mStarted working on Batch.                                          \n"
      ]
     },
     "metadata": {},
     "output_type": "display_data"
    },
    {
     "data": {
      "text/html": [
       "<pre style=\"white-space:pre;overflow-x:auto;line-height:normal;font-family:Menlo,'DejaVu Sans Mono',consolas,'Courier New',monospace\"><span style=\"color: #7fbfbf; text-decoration-color: #7fbfbf\">15:20:05 CDT </span>Maximum FlexCredit cost: <span style=\"color: #008080; text-decoration-color: #008080; font-weight: bold\">0.250</span> for the whole batch. Use            \n",
       "<span style=\"color: #7fbfbf; text-decoration-color: #7fbfbf\">             </span><span style=\"color: #008000; text-decoration-color: #008000\">'Batch.real_cost()'</span> to get the billed FlexCredit cost after the    \n",
       "<span style=\"color: #7fbfbf; text-decoration-color: #7fbfbf\">             </span>Batch has completed.                                               \n",
       "</pre>\n"
      ],
      "text/plain": [
       "\u001b[2;36m15:20:05 CDT\u001b[0m\u001b[2;36m \u001b[0mMaximum FlexCredit cost: \u001b[1;36m0.250\u001b[0m for the whole batch. Use            \n",
       "\u001b[2;36m             \u001b[0m\u001b[32m'Batch.real_cost\u001b[0m\u001b[32m(\u001b[0m\u001b[32m)\u001b[0m\u001b[32m'\u001b[0m to get the billed FlexCredit cost after the    \n",
       "\u001b[2;36m             \u001b[0mBatch has completed.                                               \n"
      ]
     },
     "metadata": {},
     "output_type": "display_data"
    },
    {
     "data": {
      "application/vnd.jupyter.widget-view+json": {
       "model_id": "dbb55d5202c34010844907425e0169a8",
       "version_major": 2,
       "version_minor": 0
      },
      "text/plain": [
       "Output()"
      ]
     },
     "metadata": {},
     "output_type": "display_data"
    },
    {
     "data": {
      "text/html": [
       "<pre style=\"white-space:pre;overflow-x:auto;line-height:normal;font-family:Menlo,'DejaVu Sans Mono',consolas,'Courier New',monospace\"><span style=\"color: #7fbfbf; text-decoration-color: #7fbfbf\">15:21:36 CDT </span>Batch complete.                                                    \n",
       "</pre>\n"
      ],
      "text/plain": [
       "\u001b[2;36m15:21:36 CDT\u001b[0m\u001b[2;36m \u001b[0mBatch complete.                                                    \n"
      ]
     },
     "metadata": {},
     "output_type": "display_data"
    },
    {
     "data": {
      "text/html": [
       "<pre style=\"white-space:pre;overflow-x:auto;line-height:normal;font-family:Menlo,'DejaVu Sans Mono',consolas,'Courier New',monospace\"></pre>\n"
      ],
      "text/plain": []
     },
     "metadata": {},
     "output_type": "display_data"
    },
    {
     "data": {
      "text/html": [
       "<pre style=\"white-space:pre;overflow-x:auto;line-height:normal;font-family:Menlo,'DejaVu Sans Mono',consolas,'Courier New',monospace\">\n",
       "</pre>\n"
      ],
      "text/plain": [
       "\n"
      ]
     },
     "metadata": {},
     "output_type": "display_data"
    }
   ],
   "source": [
    "batch_data = batch.run()\n"
   ]
  },
  {
   "cell_type": "markdown",
   "id": "32e26154-db45-4ef6-9147-fd1a4558c0a3",
   "metadata": {},
   "source": [
    "Visualize some of the simulation results."
   ]
  },
  {
   "cell_type": "code",
   "execution_count": 21,
   "id": "82ccf4ce-548d-4f33-b2be-7d19fab02db6",
   "metadata": {},
   "outputs": [
    {
     "data": {
      "application/vnd.jupyter.widget-view+json": {
       "model_id": "8d5e296c56864a02aeb68e33d1c1efd7",
       "version_major": 2,
       "version_minor": 0
      },
      "text/plain": [
       "Output()"
      ]
     },
     "metadata": {},
     "output_type": "display_data"
    },
    {
     "data": {
      "text/html": [
       "<pre style=\"white-space:pre;overflow-x:auto;line-height:normal;font-family:Menlo,'DejaVu Sans Mono',consolas,'Courier New',monospace\"></pre>\n"
      ],
      "text/plain": []
     },
     "metadata": {},
     "output_type": "display_data"
    },
    {
     "data": {
      "text/html": [
       "<pre style=\"white-space:pre;overflow-x:auto;line-height:normal;font-family:Menlo,'DejaVu Sans Mono',consolas,'Courier New',monospace\">\n",
       "</pre>\n"
      ],
      "text/plain": [
       "\n"
      ]
     },
     "metadata": {},
     "output_type": "display_data"
    },
    {
     "data": {
      "text/html": [
       "<pre style=\"white-space:pre;overflow-x:auto;line-height:normal;font-family:Menlo,'DejaVu Sans Mono',consolas,'Courier New',monospace\"><span style=\"color: #7fbfbf; text-decoration-color: #7fbfbf\">15:21:38 CDT </span>loading simulation from                                            \n",
       "<span style=\"color: #7fbfbf; text-decoration-color: #7fbfbf\">             </span>.<span style=\"color: #800080; text-decoration-color: #800080\">/</span><span style=\"color: #ff00ff; text-decoration-color: #ff00ff\">he-c2a41e0f-40c0-4f4d-9a07-e128b0f39fa9v1.hdf5</span>                   \n",
       "</pre>\n"
      ],
      "text/plain": [
       "\u001b[2;36m15:21:38 CDT\u001b[0m\u001b[2;36m \u001b[0mloading simulation from                                            \n",
       "\u001b[2;36m             \u001b[0m.\u001b[35m/\u001b[0m\u001b[95mhe-c2a41e0f-40c0-4f4d-9a07-e128b0f39fa9v1.hdf5\u001b[0m                   \n"
      ]
     },
     "metadata": {},
     "output_type": "display_data"
    },
    {
     "data": {
      "application/vnd.jupyter.widget-view+json": {
       "model_id": "4c3f4ead4b8d49399fc74ca8205e392a",
       "version_major": 2,
       "version_minor": 0
      },
      "text/plain": [
       "Output()"
      ]
     },
     "metadata": {},
     "output_type": "display_data"
    },
    {
     "data": {
      "text/html": [
       "<pre style=\"white-space:pre;overflow-x:auto;line-height:normal;font-family:Menlo,'DejaVu Sans Mono',consolas,'Courier New',monospace\"></pre>\n"
      ],
      "text/plain": []
     },
     "metadata": {},
     "output_type": "display_data"
    },
    {
     "data": {
      "text/html": [
       "<pre style=\"white-space:pre;overflow-x:auto;line-height:normal;font-family:Menlo,'DejaVu Sans Mono',consolas,'Courier New',monospace\">\n",
       "</pre>\n"
      ],
      "text/plain": [
       "\n"
      ]
     },
     "metadata": {},
     "output_type": "display_data"
    },
    {
     "data": {
      "text/html": [
       "<pre style=\"white-space:pre;overflow-x:auto;line-height:normal;font-family:Menlo,'DejaVu Sans Mono',consolas,'Courier New',monospace\"><span style=\"color: #7fbfbf; text-decoration-color: #7fbfbf\">15:21:39 CDT </span>loading simulation from                                            \n",
       "<span style=\"color: #7fbfbf; text-decoration-color: #7fbfbf\">             </span>.<span style=\"color: #800080; text-decoration-color: #800080\">/</span><span style=\"color: #ff00ff; text-decoration-color: #ff00ff\">he-0992481e-3e0b-4b0f-a372-a5dcb36429ecv1.hdf5</span>                   \n",
       "</pre>\n"
      ],
      "text/plain": [
       "\u001b[2;36m15:21:39 CDT\u001b[0m\u001b[2;36m \u001b[0mloading simulation from                                            \n",
       "\u001b[2;36m             \u001b[0m.\u001b[35m/\u001b[0m\u001b[95mhe-0992481e-3e0b-4b0f-a372-a5dcb36429ecv1.hdf5\u001b[0m                   \n"
      ]
     },
     "metadata": {},
     "output_type": "display_data"
    },
    {
     "data": {
      "application/vnd.jupyter.widget-view+json": {
       "model_id": "7c12d0da6cd0495a91365ffb6dc82a37",
       "version_major": 2,
       "version_minor": 0
      },
      "text/plain": [
       "Output()"
      ]
     },
     "metadata": {},
     "output_type": "display_data"
    },
    {
     "data": {
      "text/html": [
       "<pre style=\"white-space:pre;overflow-x:auto;line-height:normal;font-family:Menlo,'DejaVu Sans Mono',consolas,'Courier New',monospace\"></pre>\n"
      ],
      "text/plain": []
     },
     "metadata": {},
     "output_type": "display_data"
    },
    {
     "data": {
      "text/html": [
       "<pre style=\"white-space:pre;overflow-x:auto;line-height:normal;font-family:Menlo,'DejaVu Sans Mono',consolas,'Courier New',monospace\">\n",
       "</pre>\n"
      ],
      "text/plain": [
       "\n"
      ]
     },
     "metadata": {},
     "output_type": "display_data"
    },
    {
     "data": {
      "text/html": [
       "<pre style=\"white-space:pre;overflow-x:auto;line-height:normal;font-family:Menlo,'DejaVu Sans Mono',consolas,'Courier New',monospace\"><span style=\"color: #7fbfbf; text-decoration-color: #7fbfbf\">15:21:40 CDT </span>loading simulation from                                            \n",
       "<span style=\"color: #7fbfbf; text-decoration-color: #7fbfbf\">             </span>.<span style=\"color: #800080; text-decoration-color: #800080\">/</span><span style=\"color: #ff00ff; text-decoration-color: #ff00ff\">he-fce02b17-cf2a-444c-8c8f-9c99f3d6eafev1.hdf5</span>                   \n",
       "</pre>\n"
      ],
      "text/plain": [
       "\u001b[2;36m15:21:40 CDT\u001b[0m\u001b[2;36m \u001b[0mloading simulation from                                            \n",
       "\u001b[2;36m             \u001b[0m.\u001b[35m/\u001b[0m\u001b[95mhe-fce02b17-cf2a-444c-8c8f-9c99f3d6eafev1.hdf5\u001b[0m                   \n"
      ]
     },
     "metadata": {},
     "output_type": "display_data"
    },
    {
     "data": {
      "image/png": "[encoded data removed]",
      "text/plain": [
       "<Figure size 1700x200 with 6 Axes>"
      ]
     },
     "metadata": {},
     "output_type": "display_data"
    }
   ],
   "source": [
    "# max temperature value when plotting to enforce the same coloring\n",
    "temp_max_plot = 340\n",
    "\n",
    "fig, ax = plt.subplots(1, 3, figsize=(17, 2))\n",
    "\n",
    "batch_data[\"heat_wg_current_1\"].plot_field(\"temperature\", ax=ax[0], vmax=temp_max_plot)\n",
    "ax[0].set_title(f\"Current I = {currents[1]:1.3} A\")\n",
    "\n",
    "batch_data[\"heat_wg_current_5\"].plot_field(\"temperature\", ax=ax[1], vmax=temp_max_plot)\n",
    "ax[1].set_title(f\"Current I = {currents[5]:1.3} A\")\n",
    "\n",
    "batch_data[\"heat_wg_current_9\"].plot_field(\"temperature\", ax=ax[2], vmax=temp_max_plot)\n",
    "ax[2].set_title(f\"Current I = {currents[9]:1.3} A\")\n",
    "\n",
    "plt.show()\n"
   ]
  },
  {
   "cell_type": "markdown",
   "id": "1d22aebe-aa30-4332-b1b5-433922f10265",
   "metadata": {},
   "source": [
    "Now let us create optic simulations where material properties are modified according to obtained temperature distributions. One can conveniently do that using method `.perturbed_mediums_copy()` of class [`Scene`](../_autosummary/tidy3d.Scene.html). We will use obtained optic simulations only to investigate waveguide modes, thus we are defining neither sources nor monitors, and only provide grid specification."
   ]
  },
  {
   "cell_type": "code",
   "execution_count": 22,
   "id": "1d695bd0-2428-4eaf-8970-60d99919eb02",
   "metadata": {},
   "outputs": [
    {
     "data": {
      "application/vnd.jupyter.widget-view+json": {
       "model_id": "837d9f8a44bb463fac557e0832ac2fbc",
       "version_major": 2,
       "version_minor": 0
      },
      "text/plain": [
       "Output()"
      ]
     },
     "metadata": {},
     "output_type": "display_data"
    },
    {
     "data": {
      "text/html": [
       "<pre style=\"white-space:pre;overflow-x:auto;line-height:normal;font-family:Menlo,'DejaVu Sans Mono',consolas,'Courier New',monospace\"></pre>\n"
      ],
      "text/plain": []
     },
     "metadata": {},
     "output_type": "display_data"
    },
    {
     "data": {
      "text/html": [
       "<pre style=\"white-space:pre;overflow-x:auto;line-height:normal;font-family:Menlo,'DejaVu Sans Mono',consolas,'Courier New',monospace\">\n",
       "</pre>\n"
      ],
      "text/plain": [
       "\n"
      ]
     },
     "metadata": {},
     "output_type": "display_data"
    },
    {
     "data": {
      "text/html": [
       "<pre style=\"white-space:pre;overflow-x:auto;line-height:normal;font-family:Menlo,'DejaVu Sans Mono',consolas,'Courier New',monospace\"><span style=\"color: #7fbfbf; text-decoration-color: #7fbfbf\">15:21:42 CDT </span>loading simulation from                                            \n",
       "<span style=\"color: #7fbfbf; text-decoration-color: #7fbfbf\">             </span>.<span style=\"color: #800080; text-decoration-color: #800080\">/</span><span style=\"color: #ff00ff; text-decoration-color: #ff00ff\">he-17b477ec-29b4-4cda-b392-3da51019b606v1.hdf5</span>                   \n",
       "</pre>\n"
      ],
      "text/plain": [
       "\u001b[2;36m15:21:42 CDT\u001b[0m\u001b[2;36m \u001b[0mloading simulation from                                            \n",
       "\u001b[2;36m             \u001b[0m.\u001b[35m/\u001b[0m\u001b[95mhe-17b477ec-29b4-4cda-b392-3da51019b606v1.hdf5\u001b[0m                   \n"
      ]
     },
     "metadata": {},
     "output_type": "display_data"
    },
    {
     "data": {
      "text/html": [
       "<pre style=\"white-space:pre;overflow-x:auto;line-height:normal;font-family:Menlo,'DejaVu Sans Mono',consolas,'Courier New',monospace\"><span style=\"color: #7fbfbf; text-decoration-color: #7fbfbf\">             </span>loading simulation from                                            \n",
       "<span style=\"color: #7fbfbf; text-decoration-color: #7fbfbf\">             </span>.<span style=\"color: #800080; text-decoration-color: #800080\">/</span><span style=\"color: #ff00ff; text-decoration-color: #ff00ff\">he-c2a41e0f-40c0-4f4d-9a07-e128b0f39fa9v1.hdf5</span>                   \n",
       "</pre>\n"
      ],
      "text/plain": [
       "\u001b[2;36m            \u001b[0m\u001b[2;36m \u001b[0mloading simulation from                                            \n",
       "\u001b[2;36m             \u001b[0m.\u001b[35m/\u001b[0m\u001b[95mhe-c2a41e0f-40c0-4f4d-9a07-e128b0f39fa9v1.hdf5\u001b[0m                   \n"
      ]
     },
     "metadata": {},
     "output_type": "display_data"
    },
    {
     "data": {
      "application/vnd.jupyter.widget-view+json": {
       "model_id": "91153639f0aa488882b2027daa6c132e",
       "version_major": 2,
       "version_minor": 0
      },
      "text/plain": [
       "Output()"
      ]
     },
     "metadata": {},
     "output_type": "display_data"
    },
    {
     "data": {
      "text/html": [
       "<pre style=\"white-space:pre;overflow-x:auto;line-height:normal;font-family:Menlo,'DejaVu Sans Mono',consolas,'Courier New',monospace\"></pre>\n"
      ],
      "text/plain": []
     },
     "metadata": {},
     "output_type": "display_data"
    },
    {
     "data": {
      "text/html": [
       "<pre style=\"white-space:pre;overflow-x:auto;line-height:normal;font-family:Menlo,'DejaVu Sans Mono',consolas,'Courier New',monospace\">\n",
       "</pre>\n"
      ],
      "text/plain": [
       "\n"
      ]
     },
     "metadata": {},
     "output_type": "display_data"
    },
    {
     "data": {
      "text/html": [
       "<pre style=\"white-space:pre;overflow-x:auto;line-height:normal;font-family:Menlo,'DejaVu Sans Mono',consolas,'Courier New',monospace\"><span style=\"color: #7fbfbf; text-decoration-color: #7fbfbf\">15:21:43 CDT </span>loading simulation from                                            \n",
       "<span style=\"color: #7fbfbf; text-decoration-color: #7fbfbf\">             </span>.<span style=\"color: #800080; text-decoration-color: #800080\">/</span><span style=\"color: #ff00ff; text-decoration-color: #ff00ff\">he-fb6d89a8-b247-4fab-b979-83b6e3bf481av1.hdf5</span>                   \n",
       "</pre>\n"
      ],
      "text/plain": [
       "\u001b[2;36m15:21:43 CDT\u001b[0m\u001b[2;36m \u001b[0mloading simulation from                                            \n",
       "\u001b[2;36m             \u001b[0m.\u001b[35m/\u001b[0m\u001b[95mhe-fb6d89a8-b247-4fab-b979-83b6e3bf481av1.hdf5\u001b[0m                   \n"
      ]
     },
     "metadata": {},
     "output_type": "display_data"
    },
    {
     "data": {
      "application/vnd.jupyter.widget-view+json": {
       "model_id": "eabcc70f1d06451e87687ba16104b1f8",
       "version_major": 2,
       "version_minor": 0
      },
      "text/plain": [
       "Output()"
      ]
     },
     "metadata": {},
     "output_type": "display_data"
    },
    {
     "data": {
      "text/html": [
       "<pre style=\"white-space:pre;overflow-x:auto;line-height:normal;font-family:Menlo,'DejaVu Sans Mono',consolas,'Courier New',monospace\"></pre>\n"
      ],
      "text/plain": []
     },
     "metadata": {},
     "output_type": "display_data"
    },
    {
     "data": {
      "text/html": [
       "<pre style=\"white-space:pre;overflow-x:auto;line-height:normal;font-family:Menlo,'DejaVu Sans Mono',consolas,'Courier New',monospace\">\n",
       "</pre>\n"
      ],
      "text/plain": [
       "\n"
      ]
     },
     "metadata": {},
     "output_type": "display_data"
    },
    {
     "data": {
      "text/html": [
       "<pre style=\"white-space:pre;overflow-x:auto;line-height:normal;font-family:Menlo,'DejaVu Sans Mono',consolas,'Courier New',monospace\"><span style=\"color: #7fbfbf; text-decoration-color: #7fbfbf\">15:21:44 CDT </span>loading simulation from                                            \n",
       "<span style=\"color: #7fbfbf; text-decoration-color: #7fbfbf\">             </span>.<span style=\"color: #800080; text-decoration-color: #800080\">/</span><span style=\"color: #ff00ff; text-decoration-color: #ff00ff\">he-defe0e79-56c5-4cf9-9439-91a97cc248fcv1.hdf5</span>                   \n",
       "</pre>\n"
      ],
      "text/plain": [
       "\u001b[2;36m15:21:44 CDT\u001b[0m\u001b[2;36m \u001b[0mloading simulation from                                            \n",
       "\u001b[2;36m             \u001b[0m.\u001b[35m/\u001b[0m\u001b[95mhe-defe0e79-56c5-4cf9-9439-91a97cc248fcv1.hdf5\u001b[0m                   \n"
      ]
     },
     "metadata": {},
     "output_type": "display_data"
    },
    {
     "data": {
      "application/vnd.jupyter.widget-view+json": {
       "model_id": "9b2a8a96840c4a65a84f6c14a157bae9",
       "version_major": 2,
       "version_minor": 0
      },
      "text/plain": [
       "Output()"
      ]
     },
     "metadata": {},
     "output_type": "display_data"
    },
    {
     "data": {
      "text/html": [
       "<pre style=\"white-space:pre;overflow-x:auto;line-height:normal;font-family:Menlo,'DejaVu Sans Mono',consolas,'Courier New',monospace\"></pre>\n"
      ],
      "text/plain": []
     },
     "metadata": {},
     "output_type": "display_data"
    },
    {
     "data": {
      "text/html": [
       "<pre style=\"white-space:pre;overflow-x:auto;line-height:normal;font-family:Menlo,'DejaVu Sans Mono',consolas,'Courier New',monospace\">\n",
       "</pre>\n"
      ],
      "text/plain": [
       "\n"
      ]
     },
     "metadata": {},
     "output_type": "display_data"
    },
    {
     "data": {
      "text/html": [
       "<pre style=\"white-space:pre;overflow-x:auto;line-height:normal;font-family:Menlo,'DejaVu Sans Mono',consolas,'Courier New',monospace\"><span style=\"color: #7fbfbf; text-decoration-color: #7fbfbf\">15:21:45 CDT </span>loading simulation from                                            \n",
       "<span style=\"color: #7fbfbf; text-decoration-color: #7fbfbf\">             </span>.<span style=\"color: #800080; text-decoration-color: #800080\">/</span><span style=\"color: #ff00ff; text-decoration-color: #ff00ff\">he-7139f8b6-fdf3-4d44-b6ab-8609a8ac5a86v1.hdf5</span>                   \n",
       "</pre>\n"
      ],
      "text/plain": [
       "\u001b[2;36m15:21:45 CDT\u001b[0m\u001b[2;36m \u001b[0mloading simulation from                                            \n",
       "\u001b[2;36m             \u001b[0m.\u001b[35m/\u001b[0m\u001b[95mhe-7139f8b6-fdf3-4d44-b6ab-8609a8ac5a86v1.hdf5\u001b[0m                   \n"
      ]
     },
     "metadata": {},
     "output_type": "display_data"
    },
    {
     "data": {
      "text/html": [
       "<pre style=\"white-space:pre;overflow-x:auto;line-height:normal;font-family:Menlo,'DejaVu Sans Mono',consolas,'Courier New',monospace\"><span style=\"color: #7fbfbf; text-decoration-color: #7fbfbf\">             </span>loading simulation from                                            \n",
       "<span style=\"color: #7fbfbf; text-decoration-color: #7fbfbf\">             </span>.<span style=\"color: #800080; text-decoration-color: #800080\">/</span><span style=\"color: #ff00ff; text-decoration-color: #ff00ff\">he-0992481e-3e0b-4b0f-a372-a5dcb36429ecv1.hdf5</span>                   \n",
       "</pre>\n"
      ],
      "text/plain": [
       "\u001b[2;36m            \u001b[0m\u001b[2;36m \u001b[0mloading simulation from                                            \n",
       "\u001b[2;36m             \u001b[0m.\u001b[35m/\u001b[0m\u001b[95mhe-0992481e-3e0b-4b0f-a372-a5dcb36429ecv1.hdf5\u001b[0m                   \n"
      ]
     },
     "metadata": {},
     "output_type": "display_data"
    },
    {
     "data": {
      "application/vnd.jupyter.widget-view+json": {
       "model_id": "0ce0d0ed693f491a8be67dac8e1ff536",
       "version_major": 2,
       "version_minor": 0
      },
      "text/plain": [
       "Output()"
      ]
     },
     "metadata": {},
     "output_type": "display_data"
    },
    {
     "data": {
      "text/html": [
       "<pre style=\"white-space:pre;overflow-x:auto;line-height:normal;font-family:Menlo,'DejaVu Sans Mono',consolas,'Courier New',monospace\"></pre>\n"
      ],
      "text/plain": []
     },
     "metadata": {},
     "output_type": "display_data"
    },
    {
     "data": {
      "text/html": [
       "<pre style=\"white-space:pre;overflow-x:auto;line-height:normal;font-family:Menlo,'DejaVu Sans Mono',consolas,'Courier New',monospace\">\n",
       "</pre>\n"
      ],
      "text/plain": [
       "\n"
      ]
     },
     "metadata": {},
     "output_type": "display_data"
    },
    {
     "data": {
      "text/html": [
       "<pre style=\"white-space:pre;overflow-x:auto;line-height:normal;font-family:Menlo,'DejaVu Sans Mono',consolas,'Courier New',monospace\"><span style=\"color: #7fbfbf; text-decoration-color: #7fbfbf\">15:21:46 CDT </span>loading simulation from                                            \n",
       "<span style=\"color: #7fbfbf; text-decoration-color: #7fbfbf\">             </span>.<span style=\"color: #800080; text-decoration-color: #800080\">/</span><span style=\"color: #ff00ff; text-decoration-color: #ff00ff\">he-5a5a6071-14e4-4d0f-bfb8-6ffdc15d9042v1.hdf5</span>                   \n",
       "</pre>\n"
      ],
      "text/plain": [
       "\u001b[2;36m15:21:46 CDT\u001b[0m\u001b[2;36m \u001b[0mloading simulation from                                            \n",
       "\u001b[2;36m             \u001b[0m.\u001b[35m/\u001b[0m\u001b[95mhe-5a5a6071-14e4-4d0f-bfb8-6ffdc15d9042v1.hdf5\u001b[0m                   \n"
      ]
     },
     "metadata": {},
     "output_type": "display_data"
    },
    {
     "data": {
      "application/vnd.jupyter.widget-view+json": {
       "model_id": "bf0c89467b824c4aac9ca3fffa1ffe02",
       "version_major": 2,
       "version_minor": 0
      },
      "text/plain": [
       "Output()"
      ]
     },
     "metadata": {},
     "output_type": "display_data"
    },
    {
     "data": {
      "text/html": [
       "<pre style=\"white-space:pre;overflow-x:auto;line-height:normal;font-family:Menlo,'DejaVu Sans Mono',consolas,'Courier New',monospace\"></pre>\n"
      ],
      "text/plain": []
     },
     "metadata": {},
     "output_type": "display_data"
    },
    {
     "data": {
      "text/html": [
       "<pre style=\"white-space:pre;overflow-x:auto;line-height:normal;font-family:Menlo,'DejaVu Sans Mono',consolas,'Courier New',monospace\">\n",
       "</pre>\n"
      ],
      "text/plain": [
       "\n"
      ]
     },
     "metadata": {},
     "output_type": "display_data"
    },
    {
     "data": {
      "text/html": [
       "<pre style=\"white-space:pre;overflow-x:auto;line-height:normal;font-family:Menlo,'DejaVu Sans Mono',consolas,'Courier New',monospace\"><span style=\"color: #7fbfbf; text-decoration-color: #7fbfbf\">15:21:47 CDT </span>loading simulation from                                            \n",
       "<span style=\"color: #7fbfbf; text-decoration-color: #7fbfbf\">             </span>.<span style=\"color: #800080; text-decoration-color: #800080\">/</span><span style=\"color: #ff00ff; text-decoration-color: #ff00ff\">he-c0ee5e2a-b5ff-4173-b6c1-b77a85fe0ef6v1.hdf5</span>                   \n",
       "</pre>\n"
      ],
      "text/plain": [
       "\u001b[2;36m15:21:47 CDT\u001b[0m\u001b[2;36m \u001b[0mloading simulation from                                            \n",
       "\u001b[2;36m             \u001b[0m.\u001b[35m/\u001b[0m\u001b[95mhe-c0ee5e2a-b5ff-4173-b6c1-b77a85fe0ef6v1.hdf5\u001b[0m                   \n"
      ]
     },
     "metadata": {},
     "output_type": "display_data"
    },
    {
     "data": {
      "application/vnd.jupyter.widget-view+json": {
       "model_id": "ff1f0db1f0814066b0a985d178f9d988",
       "version_major": 2,
       "version_minor": 0
      },
      "text/plain": [
       "Output()"
      ]
     },
     "metadata": {},
     "output_type": "display_data"
    },
    {
     "data": {
      "text/html": [
       "<pre style=\"white-space:pre;overflow-x:auto;line-height:normal;font-family:Menlo,'DejaVu Sans Mono',consolas,'Courier New',monospace\"></pre>\n"
      ],
      "text/plain": []
     },
     "metadata": {},
     "output_type": "display_data"
    },
    {
     "data": {
      "text/html": [
       "<pre style=\"white-space:pre;overflow-x:auto;line-height:normal;font-family:Menlo,'DejaVu Sans Mono',consolas,'Courier New',monospace\">\n",
       "</pre>\n"
      ],
      "text/plain": [
       "\n"
      ]
     },
     "metadata": {},
     "output_type": "display_data"
    },
    {
     "data": {
      "text/html": [
       "<pre style=\"white-space:pre;overflow-x:auto;line-height:normal;font-family:Menlo,'DejaVu Sans Mono',consolas,'Courier New',monospace\"><span style=\"color: #7fbfbf; text-decoration-color: #7fbfbf\">15:21:48 CDT </span>loading simulation from                                            \n",
       "<span style=\"color: #7fbfbf; text-decoration-color: #7fbfbf\">             </span>.<span style=\"color: #800080; text-decoration-color: #800080\">/</span><span style=\"color: #ff00ff; text-decoration-color: #ff00ff\">he-0c104cde-9508-4f2f-9466-f8f7c97f4ca6v1.hdf5</span>                   \n",
       "</pre>\n"
      ],
      "text/plain": [
       "\u001b[2;36m15:21:48 CDT\u001b[0m\u001b[2;36m \u001b[0mloading simulation from                                            \n",
       "\u001b[2;36m             \u001b[0m.\u001b[35m/\u001b[0m\u001b[95mhe-0c104cde-9508-4f2f-9466-f8f7c97f4ca6v1.hdf5\u001b[0m                   \n"
      ]
     },
     "metadata": {},
     "output_type": "display_data"
    },
    {
     "data": {
      "text/html": [
       "<pre style=\"white-space:pre;overflow-x:auto;line-height:normal;font-family:Menlo,'DejaVu Sans Mono',consolas,'Courier New',monospace\"><span style=\"color: #7fbfbf; text-decoration-color: #7fbfbf\">             </span>loading simulation from                                            \n",
       "<span style=\"color: #7fbfbf; text-decoration-color: #7fbfbf\">             </span>.<span style=\"color: #800080; text-decoration-color: #800080\">/</span><span style=\"color: #ff00ff; text-decoration-color: #ff00ff\">he-fce02b17-cf2a-444c-8c8f-9c99f3d6eafev1.hdf5</span>                   \n",
       "</pre>\n"
      ],
      "text/plain": [
       "\u001b[2;36m            \u001b[0m\u001b[2;36m \u001b[0mloading simulation from                                            \n",
       "\u001b[2;36m             \u001b[0m.\u001b[35m/\u001b[0m\u001b[95mhe-fce02b17-cf2a-444c-8c8f-9c99f3d6eafev1.hdf5\u001b[0m                   \n"
      ]
     },
     "metadata": {},
     "output_type": "display_data"
    }
   ],
   "source": [
    "wvl_um = 1.55\n",
    "freq0 = td.C_0 / wvl_um\n",
    "\n",
    "grid_spec = td.GridSpec.auto(min_steps_per_wvl=50, wavelength=wvl_um)\n",
    "\n",
    "perturb_sims = []\n",
    "\n",
    "for _, hs_data in batch_data.items():\n",
    "    pscene = scene.perturbed_mediums_copy(\n",
    "        temperature=hs_data[\"temperature\"].temperature\n",
    "    )\n",
    "    psim = td.Simulation.from_scene(\n",
    "        scene=pscene,\n",
    "        center=(0, 0, z_sim),\n",
    "        size=(w_sim, dl_min, h_sim),\n",
    "        run_time=1e-15,\n",
    "        grid_spec=grid_spec,\n",
    "    )\n",
    "    perturb_sims.append(psim)\n"
   ]
  },
  {
   "cell_type": "markdown",
   "id": "f70adcce-7348-401f-a10a-191757e644db",
   "metadata": {},
   "source": [
    "Define plane where waveguide modes will be calculated."
   ]
  },
  {
   "cell_type": "code",
   "execution_count": 23,
   "id": "093cf729-809d-492f-b4ab-50f50a808218",
   "metadata": {},
   "outputs": [],
   "source": [
    "mode_plane = td.Box(center=(0, 0, z_core), size=(4, 0, 3))\n"
   ]
  },
  {
   "cell_type": "markdown",
   "id": "cdae2d75-f415-499a-bf0a-53edb2fcf5f9",
   "metadata": {},
   "source": [
    "Visual inspection."
   ]
  },
  {
   "cell_type": "code",
   "execution_count": 24,
   "id": "204452a0-0167-405e-8c3e-7428159d01dd",
   "metadata": {},
   "outputs": [
    {
     "data": {
      "image/png": "[encoded data removed]",
      "text/plain": [
       "<Figure size 640x480 with 1 Axes>"
      ]
     },
     "metadata": {},
     "output_type": "display_data"
    }
   ],
   "source": [
    "fig, ax = plt.subplots(1, 1)\n",
    "perturb_sims[0].plot(y=0, ax=ax)\n",
    "mode_plane.plot(y=0, ax=ax, alpha=0.5)\n",
    "plt.show()\n"
   ]
  },
  {
   "cell_type": "markdown",
   "id": "6ee2f518-ec74-4a0c-86af-684dc08cfe33",
   "metadata": {},
   "source": [
    "We will use Tidy3D's mode solver plugin."
   ]
  },
  {
   "cell_type": "code",
   "execution_count": 25,
   "id": "071a271c-4d5f-41fe-a613-c01d388f91db",
   "metadata": {},
   "outputs": [],
   "source": [
    "from tidy3d.plugins.mode.web import run as run_mode\n",
    "from tidy3d.plugins.mode import ModeSolver\n"
   ]
  },
  {
   "cell_type": "markdown",
   "id": "f9549a70-2d04-4c32-969e-2c17b5d00eca",
   "metadata": {},
   "source": [
    "Find only the first mode at the frequency corresponding to 1.55 um wavelength."
   ]
  },
  {
   "cell_type": "code",
   "execution_count": 26,
   "id": "0ee26850-1da3-44b2-acea-9d5385bb19b1",
   "metadata": {},
   "outputs": [
    {
     "data": {
      "text/html": [
       "<pre style=\"white-space:pre;overflow-x:auto;line-height:normal;font-family:Menlo,'DejaVu Sans Mono',consolas,'Courier New',monospace\"><span style=\"color: #7fbfbf; text-decoration-color: #7fbfbf\">15:21:49 CDT </span>Mode solver created with                                           \n",
       "<span style=\"color: #7fbfbf; text-decoration-color: #7fbfbf\">             </span><span style=\"color: #808000; text-decoration-color: #808000\">task_id</span>=<span style=\"color: #008000; text-decoration-color: #008000\">'fdve-9a9dcdb7-4570-4551-824e-11bc50655c86v1'</span>,             \n",
       "<span style=\"color: #7fbfbf; text-decoration-color: #7fbfbf\">             </span><span style=\"color: #808000; text-decoration-color: #808000\">solver_id</span>=<span style=\"color: #008000; text-decoration-color: #008000\">'mo-bca03663-185d-4c8b-b8d4-bbdeb4df79f2'</span>.               \n",
       "</pre>\n"
      ],
      "text/plain": [
       "\u001b[2;36m15:21:49 CDT\u001b[0m\u001b[2;36m \u001b[0mMode solver created with                                           \n",
       "\u001b[2;36m             \u001b[0m\u001b[33mtask_id\u001b[0m=\u001b[32m'fdve-9a9dcdb7-4570-4551-824e-11bc50655c86v1'\u001b[0m,             \n",
       "\u001b[2;36m             \u001b[0m\u001b[33msolver_id\u001b[0m=\u001b[32m'mo-bca03663-185d-4c8b-b8d4-bbdeb4df79f2'\u001b[0m.               \n"
      ]
     },
     "metadata": {},
     "output_type": "display_data"
    },
    {
     "data": {
      "application/vnd.jupyter.widget-view+json": {
       "model_id": "4a6ec7ca09ee4cab95d36012be42d9e6",
       "version_major": 2,
       "version_minor": 0
      },
      "text/plain": [
       "Output()"
      ]
     },
     "metadata": {},
     "output_type": "display_data"
    },
    {
     "data": {
      "text/html": [
       "<pre style=\"white-space:pre;overflow-x:auto;line-height:normal;font-family:Menlo,'DejaVu Sans Mono',consolas,'Courier New',monospace\"></pre>\n"
      ],
      "text/plain": []
     },
     "metadata": {},
     "output_type": "display_data"
    },
    {
     "data": {
      "text/html": [
       "<pre style=\"white-space:pre;overflow-x:auto;line-height:normal;font-family:Menlo,'DejaVu Sans Mono',consolas,'Courier New',monospace\">\n",
       "</pre>\n"
      ],
      "text/plain": [
       "\n"
      ]
     },
     "metadata": {},
     "output_type": "display_data"
    },
    {
     "data": {
      "application/vnd.jupyter.widget-view+json": {
       "model_id": "94a946c34d6444c2b84ddd048025920b",
       "version_major": 2,
       "version_minor": 0
      },
      "text/plain": [
       "Output()"
      ]
     },
     "metadata": {},
     "output_type": "display_data"
    },
    {
     "data": {
      "text/html": [
       "<pre style=\"white-space:pre;overflow-x:auto;line-height:normal;font-family:Menlo,'DejaVu Sans Mono',consolas,'Courier New',monospace\"></pre>\n"
      ],
      "text/plain": []
     },
     "metadata": {},
     "output_type": "display_data"
    },
    {
     "data": {
      "text/html": [
       "<pre style=\"white-space:pre;overflow-x:auto;line-height:normal;font-family:Menlo,'DejaVu Sans Mono',consolas,'Courier New',monospace\">\n",
       "</pre>\n"
      ],
      "text/plain": [
       "\n"
      ]
     },
     "metadata": {},
     "output_type": "display_data"
    },
    {
     "data": {
      "text/html": [
       "<pre style=\"white-space:pre;overflow-x:auto;line-height:normal;font-family:Menlo,'DejaVu Sans Mono',consolas,'Courier New',monospace\"><span style=\"color: #7fbfbf; text-decoration-color: #7fbfbf\">15:21:51 CDT </span>Mode solver status: queued                                         \n",
       "</pre>\n"
      ],
      "text/plain": [
       "\u001b[2;36m15:21:51 CDT\u001b[0m\u001b[2;36m \u001b[0mMode solver status: queued                                         \n"
      ]
     },
     "metadata": {},
     "output_type": "display_data"
    },
    {
     "data": {
      "text/html": [
       "<pre style=\"white-space:pre;overflow-x:auto;line-height:normal;font-family:Menlo,'DejaVu Sans Mono',consolas,'Courier New',monospace\"><span style=\"color: #7fbfbf; text-decoration-color: #7fbfbf\">15:21:52 CDT </span>Mode solver status: running                                        \n",
       "</pre>\n"
      ],
      "text/plain": [
       "\u001b[2;36m15:21:52 CDT\u001b[0m\u001b[2;36m \u001b[0mMode solver status: running                                        \n"
      ]
     },
     "metadata": {},
     "output_type": "display_data"
    },
    {
     "data": {
      "text/html": [
       "<pre style=\"white-space:pre;overflow-x:auto;line-height:normal;font-family:Menlo,'DejaVu Sans Mono',consolas,'Courier New',monospace\"><span style=\"color: #7fbfbf; text-decoration-color: #7fbfbf\">15:22:07 CDT </span>Mode solver status: success                                        \n",
       "</pre>\n"
      ],
      "text/plain": [
       "\u001b[2;36m15:22:07 CDT\u001b[0m\u001b[2;36m \u001b[0mMode solver status: success                                        \n"
      ]
     },
     "metadata": {},
     "output_type": "display_data"
    },
    {
     "data": {
      "application/vnd.jupyter.widget-view+json": {
       "model_id": "9da4095dec4b402d909cea6b12ff3d6e",
       "version_major": 2,
       "version_minor": 0
      },
      "text/plain": [
       "Output()"
      ]
     },
     "metadata": {},
     "output_type": "display_data"
    },
    {
     "data": {
      "text/html": [
       "<pre style=\"white-space:pre;overflow-x:auto;line-height:normal;font-family:Menlo,'DejaVu Sans Mono',consolas,'Courier New',monospace\"></pre>\n"
      ],
      "text/plain": []
     },
     "metadata": {},
     "output_type": "display_data"
    },
    {
     "data": {
      "text/html": [
       "<pre style=\"white-space:pre;overflow-x:auto;line-height:normal;font-family:Menlo,'DejaVu Sans Mono',consolas,'Courier New',monospace\">\n",
       "</pre>\n"
      ],
      "text/plain": [
       "\n"
      ]
     },
     "metadata": {},
     "output_type": "display_data"
    },
    {
     "data": {
      "text/html": [
       "<pre style=\"white-space:pre;overflow-x:auto;line-height:normal;font-family:Menlo,'DejaVu Sans Mono',consolas,'Courier New',monospace\"><span style=\"color: #7fbfbf; text-decoration-color: #7fbfbf\">15:22:09 CDT </span>Mode solver created with                                           \n",
       "<span style=\"color: #7fbfbf; text-decoration-color: #7fbfbf\">             </span><span style=\"color: #808000; text-decoration-color: #808000\">task_id</span>=<span style=\"color: #008000; text-decoration-color: #008000\">'fdve-cf243c95-1f72-40b9-a963-3691ddf65d4cv1'</span>,             \n",
       "<span style=\"color: #7fbfbf; text-decoration-color: #7fbfbf\">             </span><span style=\"color: #808000; text-decoration-color: #808000\">solver_id</span>=<span style=\"color: #008000; text-decoration-color: #008000\">'mo-bd1363f1-7e36-4a9a-a21b-b1c75c19da85'</span>.               \n",
       "</pre>\n"
      ],
      "text/plain": [
       "\u001b[2;36m15:22:09 CDT\u001b[0m\u001b[2;36m \u001b[0mMode solver created with                                           \n",
       "\u001b[2;36m             \u001b[0m\u001b[33mtask_id\u001b[0m=\u001b[32m'fdve-cf243c95-1f72-40b9-a963-3691ddf65d4cv1'\u001b[0m,             \n",
       "\u001b[2;36m             \u001b[0m\u001b[33msolver_id\u001b[0m=\u001b[32m'mo-bd1363f1-7e36-4a9a-a21b-b1c75c19da85'\u001b[0m.               \n"
      ]
     },
     "metadata": {},
     "output_type": "display_data"
    },
    {
     "data": {
      "application/vnd.jupyter.widget-view+json": {
       "model_id": "71c45ffbc5314d51b3c0b50509371c60",
       "version_major": 2,
       "version_minor": 0
      },
      "text/plain": [
       "Output()"
      ]
     },
     "metadata": {},
     "output_type": "display_data"
    },
    {
     "data": {
      "text/html": [
       "<pre style=\"white-space:pre;overflow-x:auto;line-height:normal;font-family:Menlo,'DejaVu Sans Mono',consolas,'Courier New',monospace\"></pre>\n"
      ],
      "text/plain": []
     },
     "metadata": {},
     "output_type": "display_data"
    },
    {
     "data": {
      "text/html": [
       "<pre style=\"white-space:pre;overflow-x:auto;line-height:normal;font-family:Menlo,'DejaVu Sans Mono',consolas,'Courier New',monospace\">\n",
       "</pre>\n"
      ],
      "text/plain": [
       "\n"
      ]
     },
     "metadata": {},
     "output_type": "display_data"
    },
    {
     "data": {
      "application/vnd.jupyter.widget-view+json": {
       "model_id": "22b01f8840ca478b96f1f543464c97dd",
       "version_major": 2,
       "version_minor": 0
      },
      "text/plain": [
       "Output()"
      ]
     },
     "metadata": {},
     "output_type": "display_data"
    },
    {
     "data": {
      "text/html": [
       "<pre style=\"white-space:pre;overflow-x:auto;line-height:normal;font-family:Menlo,'DejaVu Sans Mono',consolas,'Courier New',monospace\"></pre>\n"
      ],
      "text/plain": []
     },
     "metadata": {},
     "output_type": "display_data"
    },
    {
     "data": {
      "text/html": [
       "<pre style=\"white-space:pre;overflow-x:auto;line-height:normal;font-family:Menlo,'DejaVu Sans Mono',consolas,'Courier New',monospace\">\n",
       "</pre>\n"
      ],
      "text/plain": [
       "\n"
      ]
     },
     "metadata": {},
     "output_type": "display_data"
    },
    {
     "data": {
      "text/html": [
       "<pre style=\"white-space:pre;overflow-x:auto;line-height:normal;font-family:Menlo,'DejaVu Sans Mono',consolas,'Courier New',monospace\"><span style=\"color: #7fbfbf; text-decoration-color: #7fbfbf\">15:22:12 CDT </span>Mode solver status: queued                                         \n",
       "</pre>\n"
      ],
      "text/plain": [
       "\u001b[2;36m15:22:12 CDT\u001b[0m\u001b[2;36m \u001b[0mMode solver status: queued                                         \n"
      ]
     },
     "metadata": {},
     "output_type": "display_data"
    },
    {
     "data": {
      "text/html": [
       "<pre style=\"white-space:pre;overflow-x:auto;line-height:normal;font-family:Menlo,'DejaVu Sans Mono',consolas,'Courier New',monospace\"><span style=\"color: #7fbfbf; text-decoration-color: #7fbfbf\">15:22:13 CDT </span>Mode solver status: running                                        \n",
       "</pre>\n"
      ],
      "text/plain": [
       "\u001b[2;36m15:22:13 CDT\u001b[0m\u001b[2;36m \u001b[0mMode solver status: running                                        \n"
      ]
     },
     "metadata": {},
     "output_type": "display_data"
    },
    {
     "data": {
      "text/html": [
       "<pre style=\"white-space:pre;overflow-x:auto;line-height:normal;font-family:Menlo,'DejaVu Sans Mono',consolas,'Courier New',monospace\"><span style=\"color: #7fbfbf; text-decoration-color: #7fbfbf\">15:22:28 CDT </span>Mode solver status: success                                        \n",
       "</pre>\n"
      ],
      "text/plain": [
       "\u001b[2;36m15:22:28 CDT\u001b[0m\u001b[2;36m \u001b[0mMode solver status: success                                        \n"
      ]
     },
     "metadata": {},
     "output_type": "display_data"
    },
    {
     "data": {
      "application/vnd.jupyter.widget-view+json": {
       "model_id": "0f05301fb2e54bd89d8d49ddf18e0fcd",
       "version_major": 2,
       "version_minor": 0
      },
      "text/plain": [
       "Output()"
      ]
     },
     "metadata": {},
     "output_type": "display_data"
    },
    {
     "data": {
      "text/html": [
       "<pre style=\"white-space:pre;overflow-x:auto;line-height:normal;font-family:Menlo,'DejaVu Sans Mono',consolas,'Courier New',monospace\"></pre>\n"
      ],
      "text/plain": []
     },
     "metadata": {},
     "output_type": "display_data"
    },
    {
     "data": {
      "text/html": [
       "<pre style=\"white-space:pre;overflow-x:auto;line-height:normal;font-family:Menlo,'DejaVu Sans Mono',consolas,'Courier New',monospace\">\n",
       "</pre>\n"
      ],
      "text/plain": [
       "\n"
      ]
     },
     "metadata": {},
     "output_type": "display_data"
    },
    {
     "data": {
      "text/html": [
       "<pre style=\"white-space:pre;overflow-x:auto;line-height:normal;font-family:Menlo,'DejaVu Sans Mono',consolas,'Courier New',monospace\"><span style=\"color: #7fbfbf; text-decoration-color: #7fbfbf\">15:22:30 CDT </span>Mode solver created with                                           \n",
       "<span style=\"color: #7fbfbf; text-decoration-color: #7fbfbf\">             </span><span style=\"color: #808000; text-decoration-color: #808000\">task_id</span>=<span style=\"color: #008000; text-decoration-color: #008000\">'fdve-6803cd64-291c-494d-90b6-0fdfa8602d6dv1'</span>,             \n",
       "<span style=\"color: #7fbfbf; text-decoration-color: #7fbfbf\">             </span><span style=\"color: #808000; text-decoration-color: #808000\">solver_id</span>=<span style=\"color: #008000; text-decoration-color: #008000\">'mo-4ef35264-11de-42a2-8f7b-e817573719b6'</span>.               \n",
       "</pre>\n"
      ],
      "text/plain": [
       "\u001b[2;36m15:22:30 CDT\u001b[0m\u001b[2;36m \u001b[0mMode solver created with                                           \n",
       "\u001b[2;36m             \u001b[0m\u001b[33mtask_id\u001b[0m=\u001b[32m'fdve-6803cd64-291c-494d-90b6-0fdfa8602d6dv1'\u001b[0m,             \n",
       "\u001b[2;36m             \u001b[0m\u001b[33msolver_id\u001b[0m=\u001b[32m'mo-4ef35264-11de-42a2-8f7b-e817573719b6'\u001b[0m.               \n"
      ]
     },
     "metadata": {},
     "output_type": "display_data"
    },
    {
     "data": {
      "application/vnd.jupyter.widget-view+json": {
       "model_id": "1e6c5b47b78d4b2f99e720fded753ec4",
       "version_major": 2,
       "version_minor": 0
      },
      "text/plain": [
       "Output()"
      ]
     },
     "metadata": {},
     "output_type": "display_data"
    },
    {
     "data": {
      "text/html": [
       "<pre style=\"white-space:pre;overflow-x:auto;line-height:normal;font-family:Menlo,'DejaVu Sans Mono',consolas,'Courier New',monospace\"></pre>\n"
      ],
      "text/plain": []
     },
     "metadata": {},
     "output_type": "display_data"
    },
    {
     "data": {
      "text/html": [
       "<pre style=\"white-space:pre;overflow-x:auto;line-height:normal;font-family:Menlo,'DejaVu Sans Mono',consolas,'Courier New',monospace\">\n",
       "</pre>\n"
      ],
      "text/plain": [
       "\n"
      ]
     },
     "metadata": {},
     "output_type": "display_data"
    },
    {
     "data": {
      "application/vnd.jupyter.widget-view+json": {
       "model_id": "ccf6a4c291cb4a268a5f8f9d816edf0d",
       "version_major": 2,
       "version_minor": 0
      },
      "text/plain": [
       "Output()"
      ]
     },
     "metadata": {},
     "output_type": "display_data"
    },
    {
     "data": {
      "text/html": [
       "<pre style=\"white-space:pre;overflow-x:auto;line-height:normal;font-family:Menlo,'DejaVu Sans Mono',consolas,'Courier New',monospace\"></pre>\n"
      ],
      "text/plain": []
     },
     "metadata": {},
     "output_type": "display_data"
    },
    {
     "data": {
      "text/html": [
       "<pre style=\"white-space:pre;overflow-x:auto;line-height:normal;font-family:Menlo,'DejaVu Sans Mono',consolas,'Courier New',monospace\">\n",
       "</pre>\n"
      ],
      "text/plain": [
       "\n"
      ]
     },
     "metadata": {},
     "output_type": "display_data"
    },
    {
     "data": {
      "text/html": [
       "<pre style=\"white-space:pre;overflow-x:auto;line-height:normal;font-family:Menlo,'DejaVu Sans Mono',consolas,'Courier New',monospace\"><span style=\"color: #7fbfbf; text-decoration-color: #7fbfbf\">15:22:33 CDT </span>Mode solver status: queued                                         \n",
       "</pre>\n"
      ],
      "text/plain": [
       "\u001b[2;36m15:22:33 CDT\u001b[0m\u001b[2;36m \u001b[0mMode solver status: queued                                         \n"
      ]
     },
     "metadata": {},
     "output_type": "display_data"
    },
    {
     "data": {
      "text/html": [
       "<pre style=\"white-space:pre;overflow-x:auto;line-height:normal;font-family:Menlo,'DejaVu Sans Mono',consolas,'Courier New',monospace\"><span style=\"color: #7fbfbf; text-decoration-color: #7fbfbf\">             </span>Mode solver status: running                                        \n",
       "</pre>\n"
      ],
      "text/plain": [
       "\u001b[2;36m            \u001b[0m\u001b[2;36m \u001b[0mMode solver status: running                                        \n"
      ]
     },
     "metadata": {},
     "output_type": "display_data"
    },
    {
     "data": {
      "text/html": [
       "<pre style=\"white-space:pre;overflow-x:auto;line-height:normal;font-family:Menlo,'DejaVu Sans Mono',consolas,'Courier New',monospace\"><span style=\"color: #7fbfbf; text-decoration-color: #7fbfbf\">15:22:46 CDT </span>Mode solver status: success                                        \n",
       "</pre>\n"
      ],
      "text/plain": [
       "\u001b[2;36m15:22:46 CDT\u001b[0m\u001b[2;36m \u001b[0mMode solver status: success                                        \n"
      ]
     },
     "metadata": {},
     "output_type": "display_data"
    },
    {
     "data": {
      "application/vnd.jupyter.widget-view+json": {
       "model_id": "02eab359037a481f85d39b8747c1cc3c",
       "version_major": 2,
       "version_minor": 0
      },
      "text/plain": [
       "Output()"
      ]
     },
     "metadata": {},
     "output_type": "display_data"
    },
    {
     "data": {
      "text/html": [
       "<pre style=\"white-space:pre;overflow-x:auto;line-height:normal;font-family:Menlo,'DejaVu Sans Mono',consolas,'Courier New',monospace\"></pre>\n"
      ],
      "text/plain": []
     },
     "metadata": {},
     "output_type": "display_data"
    },
    {
     "data": {
      "text/html": [
       "<pre style=\"white-space:pre;overflow-x:auto;line-height:normal;font-family:Menlo,'DejaVu Sans Mono',consolas,'Courier New',monospace\">\n",
       "</pre>\n"
      ],
      "text/plain": [
       "\n"
      ]
     },
     "metadata": {},
     "output_type": "display_data"
    },
    {
     "data": {
      "text/html": [
       "<pre style=\"white-space:pre;overflow-x:auto;line-height:normal;font-family:Menlo,'DejaVu Sans Mono',consolas,'Courier New',monospace\"><span style=\"color: #7fbfbf; text-decoration-color: #7fbfbf\">15:22:49 CDT </span>Mode solver created with                                           \n",
       "<span style=\"color: #7fbfbf; text-decoration-color: #7fbfbf\">             </span><span style=\"color: #808000; text-decoration-color: #808000\">task_id</span>=<span style=\"color: #008000; text-decoration-color: #008000\">'fdve-3016dcd4-3085-48c0-8ca3-27191b499a55v1'</span>,             \n",
       "<span style=\"color: #7fbfbf; text-decoration-color: #7fbfbf\">             </span><span style=\"color: #808000; text-decoration-color: #808000\">solver_id</span>=<span style=\"color: #008000; text-decoration-color: #008000\">'mo-a7290bea-7843-4a1a-aeef-1a27c7570a52'</span>.               \n",
       "</pre>\n"
      ],
      "text/plain": [
       "\u001b[2;36m15:22:49 CDT\u001b[0m\u001b[2;36m \u001b[0mMode solver created with                                           \n",
       "\u001b[2;36m             \u001b[0m\u001b[33mtask_id\u001b[0m=\u001b[32m'fdve-3016dcd4-3085-48c0-8ca3-27191b499a55v1'\u001b[0m,             \n",
       "\u001b[2;36m             \u001b[0m\u001b[33msolver_id\u001b[0m=\u001b[32m'mo-a7290bea-7843-4a1a-aeef-1a27c7570a52'\u001b[0m.               \n"
      ]
     },
     "metadata": {},
     "output_type": "display_data"
    },
    {
     "data": {
      "application/vnd.jupyter.widget-view+json": {
       "model_id": "63dfff80c747468b980582ed2cf28555",
       "version_major": 2,
       "version_minor": 0
      },
      "text/plain": [
       "Output()"
      ]
     },
     "metadata": {},
     "output_type": "display_data"
    },
    {
     "data": {
      "text/html": [
       "<pre style=\"white-space:pre;overflow-x:auto;line-height:normal;font-family:Menlo,'DejaVu Sans Mono',consolas,'Courier New',monospace\"></pre>\n"
      ],
      "text/plain": []
     },
     "metadata": {},
     "output_type": "display_data"
    },
    {
     "data": {
      "text/html": [
       "<pre style=\"white-space:pre;overflow-x:auto;line-height:normal;font-family:Menlo,'DejaVu Sans Mono',consolas,'Courier New',monospace\">\n",
       "</pre>\n"
      ],
      "text/plain": [
       "\n"
      ]
     },
     "metadata": {},
     "output_type": "display_data"
    },
    {
     "data": {
      "application/vnd.jupyter.widget-view+json": {
       "model_id": "cbdfa22b2d4643f78bcc9dcd4592464c",
       "version_major": 2,
       "version_minor": 0
      },
      "text/plain": [
       "Output()"
      ]
     },
     "metadata": {},
     "output_type": "display_data"
    },
    {
     "data": {
      "text/html": [
       "<pre style=\"white-space:pre;overflow-x:auto;line-height:normal;font-family:Menlo,'DejaVu Sans Mono',consolas,'Courier New',monospace\"></pre>\n"
      ],
      "text/plain": []
     },
     "metadata": {},
     "output_type": "display_data"
    },
    {
     "data": {
      "text/html": [
       "<pre style=\"white-space:pre;overflow-x:auto;line-height:normal;font-family:Menlo,'DejaVu Sans Mono',consolas,'Courier New',monospace\">\n",
       "</pre>\n"
      ],
      "text/plain": [
       "\n"
      ]
     },
     "metadata": {},
     "output_type": "display_data"
    },
    {
     "data": {
      "text/html": [
       "<pre style=\"white-space:pre;overflow-x:auto;line-height:normal;font-family:Menlo,'DejaVu Sans Mono',consolas,'Courier New',monospace\"><span style=\"color: #7fbfbf; text-decoration-color: #7fbfbf\">15:22:51 CDT </span>Mode solver status: queued                                         \n",
       "</pre>\n"
      ],
      "text/plain": [
       "\u001b[2;36m15:22:51 CDT\u001b[0m\u001b[2;36m \u001b[0mMode solver status: queued                                         \n"
      ]
     },
     "metadata": {},
     "output_type": "display_data"
    },
    {
     "data": {
      "text/html": [
       "<pre style=\"white-space:pre;overflow-x:auto;line-height:normal;font-family:Menlo,'DejaVu Sans Mono',consolas,'Courier New',monospace\"><span style=\"color: #7fbfbf; text-decoration-color: #7fbfbf\">15:22:53 CDT </span>Mode solver status: running                                        \n",
       "</pre>\n"
      ],
      "text/plain": [
       "\u001b[2;36m15:22:53 CDT\u001b[0m\u001b[2;36m \u001b[0mMode solver status: running                                        \n"
      ]
     },
     "metadata": {},
     "output_type": "display_data"
    },
    {
     "data": {
      "text/html": [
       "<pre style=\"white-space:pre;overflow-x:auto;line-height:normal;font-family:Menlo,'DejaVu Sans Mono',consolas,'Courier New',monospace\"><span style=\"color: #7fbfbf; text-decoration-color: #7fbfbf\">15:23:17 CDT </span>Mode solver status: success                                        \n",
       "</pre>\n"
      ],
      "text/plain": [
       "\u001b[2;36m15:23:17 CDT\u001b[0m\u001b[2;36m \u001b[0mMode solver status: success                                        \n"
      ]
     },
     "metadata": {},
     "output_type": "display_data"
    },
    {
     "data": {
      "application/vnd.jupyter.widget-view+json": {
       "model_id": "dbadb059eff74578b7790bd6e86920e8",
       "version_major": 2,
       "version_minor": 0
      },
      "text/plain": [
       "Output()"
      ]
     },
     "metadata": {},
     "output_type": "display_data"
    },
    {
     "data": {
      "text/html": [
       "<pre style=\"white-space:pre;overflow-x:auto;line-height:normal;font-family:Menlo,'DejaVu Sans Mono',consolas,'Courier New',monospace\"></pre>\n"
      ],
      "text/plain": []
     },
     "metadata": {},
     "output_type": "display_data"
    },
    {
     "data": {
      "text/html": [
       "<pre style=\"white-space:pre;overflow-x:auto;line-height:normal;font-family:Menlo,'DejaVu Sans Mono',consolas,'Courier New',monospace\">\n",
       "</pre>\n"
      ],
      "text/plain": [
       "\n"
      ]
     },
     "metadata": {},
     "output_type": "display_data"
    },
    {
     "data": {
      "text/html": [
       "<pre style=\"white-space:pre;overflow-x:auto;line-height:normal;font-family:Menlo,'DejaVu Sans Mono',consolas,'Courier New',monospace\"><span style=\"color: #7fbfbf; text-decoration-color: #7fbfbf\">15:23:19 CDT </span>Mode solver created with                                           \n",
       "<span style=\"color: #7fbfbf; text-decoration-color: #7fbfbf\">             </span><span style=\"color: #808000; text-decoration-color: #808000\">task_id</span>=<span style=\"color: #008000; text-decoration-color: #008000\">'fdve-6f71f710-6dfa-437e-bc75-6868d9c1490fv1'</span>,             \n",
       "<span style=\"color: #7fbfbf; text-decoration-color: #7fbfbf\">             </span><span style=\"color: #808000; text-decoration-color: #808000\">solver_id</span>=<span style=\"color: #008000; text-decoration-color: #008000\">'mo-9f12d644-e646-4239-be66-6154db63c699'</span>.               \n",
       "</pre>\n"
      ],
      "text/plain": [
       "\u001b[2;36m15:23:19 CDT\u001b[0m\u001b[2;36m \u001b[0mMode solver created with                                           \n",
       "\u001b[2;36m             \u001b[0m\u001b[33mtask_id\u001b[0m=\u001b[32m'fdve-6f71f710-6dfa-437e-bc75-6868d9c1490fv1'\u001b[0m,             \n",
       "\u001b[2;36m             \u001b[0m\u001b[33msolver_id\u001b[0m=\u001b[32m'mo-9f12d644-e646-4239-be66-6154db63c699'\u001b[0m.               \n"
      ]
     },
     "metadata": {},
     "output_type": "display_data"
    },
    {
     "data": {
      "application/vnd.jupyter.widget-view+json": {
       "model_id": "e9d276d764d147768436950e706f4431",
       "version_major": 2,
       "version_minor": 0
      },
      "text/plain": [
       "Output()"
      ]
     },
     "metadata": {},
     "output_type": "display_data"
    },
    {
     "data": {
      "text/html": [
       "<pre style=\"white-space:pre;overflow-x:auto;line-height:normal;font-family:Menlo,'DejaVu Sans Mono',consolas,'Courier New',monospace\"></pre>\n"
      ],
      "text/plain": []
     },
     "metadata": {},
     "output_type": "display_data"
    },
    {
     "data": {
      "text/html": [
       "<pre style=\"white-space:pre;overflow-x:auto;line-height:normal;font-family:Menlo,'DejaVu Sans Mono',consolas,'Courier New',monospace\">\n",
       "</pre>\n"
      ],
      "text/plain": [
       "\n"
      ]
     },
     "metadata": {},
     "output_type": "display_data"
    },
    {
     "data": {
      "application/vnd.jupyter.widget-view+json": {
       "model_id": "45fe4fd7641a4017837ec00945809580",
       "version_major": 2,
       "version_minor": 0
      },
      "text/plain": [
       "Output()"
      ]
     },
     "metadata": {},
     "output_type": "display_data"
    },
    {
     "data": {
      "text/html": [
       "<pre style=\"white-space:pre;overflow-x:auto;line-height:normal;font-family:Menlo,'DejaVu Sans Mono',consolas,'Courier New',monospace\"></pre>\n"
      ],
      "text/plain": []
     },
     "metadata": {},
     "output_type": "display_data"
    },
    {
     "data": {
      "text/html": [
       "<pre style=\"white-space:pre;overflow-x:auto;line-height:normal;font-family:Menlo,'DejaVu Sans Mono',consolas,'Courier New',monospace\">\n",
       "</pre>\n"
      ],
      "text/plain": [
       "\n"
      ]
     },
     "metadata": {},
     "output_type": "display_data"
    },
    {
     "data": {
      "text/html": [
       "<pre style=\"white-space:pre;overflow-x:auto;line-height:normal;font-family:Menlo,'DejaVu Sans Mono',consolas,'Courier New',monospace\"><span style=\"color: #7fbfbf; text-decoration-color: #7fbfbf\">15:23:21 CDT </span>Mode solver status: queued                                         \n",
       "</pre>\n"
      ],
      "text/plain": [
       "\u001b[2;36m15:23:21 CDT\u001b[0m\u001b[2;36m \u001b[0mMode solver status: queued                                         \n"
      ]
     },
     "metadata": {},
     "output_type": "display_data"
    },
    {
     "data": {
      "text/html": [
       "<pre style=\"white-space:pre;overflow-x:auto;line-height:normal;font-family:Menlo,'DejaVu Sans Mono',consolas,'Courier New',monospace\"><span style=\"color: #7fbfbf; text-decoration-color: #7fbfbf\">15:23:22 CDT </span>Mode solver status: running                                        \n",
       "</pre>\n"
      ],
      "text/plain": [
       "\u001b[2;36m15:23:22 CDT\u001b[0m\u001b[2;36m \u001b[0mMode solver status: running                                        \n"
      ]
     },
     "metadata": {},
     "output_type": "display_data"
    },
    {
     "data": {
      "text/html": [
       "<pre style=\"white-space:pre;overflow-x:auto;line-height:normal;font-family:Menlo,'DejaVu Sans Mono',consolas,'Courier New',monospace\"><span style=\"color: #7fbfbf; text-decoration-color: #7fbfbf\">15:23:37 CDT </span>Mode solver status: success                                        \n",
       "</pre>\n"
      ],
      "text/plain": [
       "\u001b[2;36m15:23:37 CDT\u001b[0m\u001b[2;36m \u001b[0mMode solver status: success                                        \n"
      ]
     },
     "metadata": {},
     "output_type": "display_data"
    },
    {
     "data": {
      "application/vnd.jupyter.widget-view+json": {
       "model_id": "bbf298e25fcb4e18b4fd2c51086a6571",
       "version_major": 2,
       "version_minor": 0
      },
      "text/plain": [
       "Output()"
      ]
     },
     "metadata": {},
     "output_type": "display_data"
    },
    {
     "data": {
      "text/html": [
       "<pre style=\"white-space:pre;overflow-x:auto;line-height:normal;font-family:Menlo,'DejaVu Sans Mono',consolas,'Courier New',monospace\"></pre>\n"
      ],
      "text/plain": []
     },
     "metadata": {},
     "output_type": "display_data"
    },
    {
     "data": {
      "text/html": [
       "<pre style=\"white-space:pre;overflow-x:auto;line-height:normal;font-family:Menlo,'DejaVu Sans Mono',consolas,'Courier New',monospace\">\n",
       "</pre>\n"
      ],
      "text/plain": [
       "\n"
      ]
     },
     "metadata": {},
     "output_type": "display_data"
    },
    {
     "data": {
      "text/html": [
       "<pre style=\"white-space:pre;overflow-x:auto;line-height:normal;font-family:Menlo,'DejaVu Sans Mono',consolas,'Courier New',monospace\"><span style=\"color: #7fbfbf; text-decoration-color: #7fbfbf\">15:23:40 CDT </span>Mode solver created with                                           \n",
       "<span style=\"color: #7fbfbf; text-decoration-color: #7fbfbf\">             </span><span style=\"color: #808000; text-decoration-color: #808000\">task_id</span>=<span style=\"color: #008000; text-decoration-color: #008000\">'fdve-cb42db23-53a1-448b-9fe5-b9cf73a2fd7dv1'</span>,             \n",
       "<span style=\"color: #7fbfbf; text-decoration-color: #7fbfbf\">             </span><span style=\"color: #808000; text-decoration-color: #808000\">solver_id</span>=<span style=\"color: #008000; text-decoration-color: #008000\">'mo-36b857f2-63ae-4b25-bcc7-ac17b7c59d9c'</span>.               \n",
       "</pre>\n"
      ],
      "text/plain": [
       "\u001b[2;36m15:23:40 CDT\u001b[0m\u001b[2;36m \u001b[0mMode solver created with                                           \n",
       "\u001b[2;36m             \u001b[0m\u001b[33mtask_id\u001b[0m=\u001b[32m'fdve-cb42db23-53a1-448b-9fe5-b9cf73a2fd7dv1'\u001b[0m,             \n",
       "\u001b[2;36m             \u001b[0m\u001b[33msolver_id\u001b[0m=\u001b[32m'mo-36b857f2-63ae-4b25-bcc7-ac17b7c59d9c'\u001b[0m.               \n"
      ]
     },
     "metadata": {},
     "output_type": "display_data"
    },
    {
     "data": {
      "application/vnd.jupyter.widget-view+json": {
       "model_id": "f6c59de9d6a04b1c82fb66b2b65b9533",
       "version_major": 2,
       "version_minor": 0
      },
      "text/plain": [
       "Output()"
      ]
     },
     "metadata": {},
     "output_type": "display_data"
    },
    {
     "data": {
      "text/html": [
       "<pre style=\"white-space:pre;overflow-x:auto;line-height:normal;font-family:Menlo,'DejaVu Sans Mono',consolas,'Courier New',monospace\"></pre>\n"
      ],
      "text/plain": []
     },
     "metadata": {},
     "output_type": "display_data"
    },
    {
     "data": {
      "text/html": [
       "<pre style=\"white-space:pre;overflow-x:auto;line-height:normal;font-family:Menlo,'DejaVu Sans Mono',consolas,'Courier New',monospace\">\n",
       "</pre>\n"
      ],
      "text/plain": [
       "\n"
      ]
     },
     "metadata": {},
     "output_type": "display_data"
    },
    {
     "data": {
      "application/vnd.jupyter.widget-view+json": {
       "model_id": "6c688ae38c8944a483db5c9aff81e536",
       "version_major": 2,
       "version_minor": 0
      },
      "text/plain": [
       "Output()"
      ]
     },
     "metadata": {},
     "output_type": "display_data"
    },
    {
     "data": {
      "text/html": [
       "<pre style=\"white-space:pre;overflow-x:auto;line-height:normal;font-family:Menlo,'DejaVu Sans Mono',consolas,'Courier New',monospace\"></pre>\n"
      ],
      "text/plain": []
     },
     "metadata": {},
     "output_type": "display_data"
    },
    {
     "data": {
      "text/html": [
       "<pre style=\"white-space:pre;overflow-x:auto;line-height:normal;font-family:Menlo,'DejaVu Sans Mono',consolas,'Courier New',monospace\">\n",
       "</pre>\n"
      ],
      "text/plain": [
       "\n"
      ]
     },
     "metadata": {},
     "output_type": "display_data"
    },
    {
     "data": {
      "text/html": [
       "<pre style=\"white-space:pre;overflow-x:auto;line-height:normal;font-family:Menlo,'DejaVu Sans Mono',consolas,'Courier New',monospace\"><span style=\"color: #7fbfbf; text-decoration-color: #7fbfbf\">15:23:43 CDT </span>Mode solver status: queued                                         \n",
       "</pre>\n"
      ],
      "text/plain": [
       "\u001b[2;36m15:23:43 CDT\u001b[0m\u001b[2;36m \u001b[0mMode solver status: queued                                         \n"
      ]
     },
     "metadata": {},
     "output_type": "display_data"
    },
    {
     "data": {
      "text/html": [
       "<pre style=\"white-space:pre;overflow-x:auto;line-height:normal;font-family:Menlo,'DejaVu Sans Mono',consolas,'Courier New',monospace\"><span style=\"color: #7fbfbf; text-decoration-color: #7fbfbf\">             </span>Mode solver status: running                                        \n",
       "</pre>\n"
      ],
      "text/plain": [
       "\u001b[2;36m            \u001b[0m\u001b[2;36m \u001b[0mMode solver status: running                                        \n"
      ]
     },
     "metadata": {},
     "output_type": "display_data"
    },
    {
     "data": {
      "text/html": [
       "<pre style=\"white-space:pre;overflow-x:auto;line-height:normal;font-family:Menlo,'DejaVu Sans Mono',consolas,'Courier New',monospace\"><span style=\"color: #7fbfbf; text-decoration-color: #7fbfbf\">15:23:55 CDT </span>Mode solver status: success                                        \n",
       "</pre>\n"
      ],
      "text/plain": [
       "\u001b[2;36m15:23:55 CDT\u001b[0m\u001b[2;36m \u001b[0mMode solver status: success                                        \n"
      ]
     },
     "metadata": {},
     "output_type": "display_data"
    },
    {
     "data": {
      "application/vnd.jupyter.widget-view+json": {
       "model_id": "02064a09c7b045dbb4793be0cb1ec441",
       "version_major": 2,
       "version_minor": 0
      },
      "text/plain": [
       "Output()"
      ]
     },
     "metadata": {},
     "output_type": "display_data"
    },
    {
     "data": {
      "text/html": [
       "<pre style=\"white-space:pre;overflow-x:auto;line-height:normal;font-family:Menlo,'DejaVu Sans Mono',consolas,'Courier New',monospace\"></pre>\n"
      ],
      "text/plain": []
     },
     "metadata": {},
     "output_type": "display_data"
    },
    {
     "data": {
      "text/html": [
       "<pre style=\"white-space:pre;overflow-x:auto;line-height:normal;font-family:Menlo,'DejaVu Sans Mono',consolas,'Courier New',monospace\">\n",
       "</pre>\n"
      ],
      "text/plain": [
       "\n"
      ]
     },
     "metadata": {},
     "output_type": "display_data"
    },
    {
     "data": {
      "text/html": [
       "<pre style=\"white-space:pre;overflow-x:auto;line-height:normal;font-family:Menlo,'DejaVu Sans Mono',consolas,'Courier New',monospace\"><span style=\"color: #7fbfbf; text-decoration-color: #7fbfbf\">15:23:58 CDT </span>Mode solver created with                                           \n",
       "<span style=\"color: #7fbfbf; text-decoration-color: #7fbfbf\">             </span><span style=\"color: #808000; text-decoration-color: #808000\">task_id</span>=<span style=\"color: #008000; text-decoration-color: #008000\">'fdve-18eaaed8-3204-48f4-a43f-05c55b0fe233v1'</span>,             \n",
       "<span style=\"color: #7fbfbf; text-decoration-color: #7fbfbf\">             </span><span style=\"color: #808000; text-decoration-color: #808000\">solver_id</span>=<span style=\"color: #008000; text-decoration-color: #008000\">'mo-9b3e5fb7-3d74-450c-a03a-4bc166d90ff4'</span>.               \n",
       "</pre>\n"
      ],
      "text/plain": [
       "\u001b[2;36m15:23:58 CDT\u001b[0m\u001b[2;36m \u001b[0mMode solver created with                                           \n",
       "\u001b[2;36m             \u001b[0m\u001b[33mtask_id\u001b[0m=\u001b[32m'fdve-18eaaed8-3204-48f4-a43f-05c55b0fe233v1'\u001b[0m,             \n",
       "\u001b[2;36m             \u001b[0m\u001b[33msolver_id\u001b[0m=\u001b[32m'mo-9b3e5fb7-3d74-450c-a03a-4bc166d90ff4'\u001b[0m.               \n"
      ]
     },
     "metadata": {},
     "output_type": "display_data"
    },
    {
     "data": {
      "application/vnd.jupyter.widget-view+json": {
       "model_id": "54b6fbaa68c54f68a1cd0417dd8fc475",
       "version_major": 2,
       "version_minor": 0
      },
      "text/plain": [
       "Output()"
      ]
     },
     "metadata": {},
     "output_type": "display_data"
    },
    {
     "data": {
      "text/html": [
       "<pre style=\"white-space:pre;overflow-x:auto;line-height:normal;font-family:Menlo,'DejaVu Sans Mono',consolas,'Courier New',monospace\"></pre>\n"
      ],
      "text/plain": []
     },
     "metadata": {},
     "output_type": "display_data"
    },
    {
     "data": {
      "text/html": [
       "<pre style=\"white-space:pre;overflow-x:auto;line-height:normal;font-family:Menlo,'DejaVu Sans Mono',consolas,'Courier New',monospace\">\n",
       "</pre>\n"
      ],
      "text/plain": [
       "\n"
      ]
     },
     "metadata": {},
     "output_type": "display_data"
    },
    {
     "data": {
      "application/vnd.jupyter.widget-view+json": {
       "model_id": "8cf7fa880ec942ea902d56857b3f6ffd",
       "version_major": 2,
       "version_minor": 0
      },
      "text/plain": [
       "Output()"
      ]
     },
     "metadata": {},
     "output_type": "display_data"
    },
    {
     "data": {
      "text/html": [
       "<pre style=\"white-space:pre;overflow-x:auto;line-height:normal;font-family:Menlo,'DejaVu Sans Mono',consolas,'Courier New',monospace\"></pre>\n"
      ],
      "text/plain": []
     },
     "metadata": {},
     "output_type": "display_data"
    },
    {
     "data": {
      "text/html": [
       "<pre style=\"white-space:pre;overflow-x:auto;line-height:normal;font-family:Menlo,'DejaVu Sans Mono',consolas,'Courier New',monospace\">\n",
       "</pre>\n"
      ],
      "text/plain": [
       "\n"
      ]
     },
     "metadata": {},
     "output_type": "display_data"
    },
    {
     "data": {
      "text/html": [
       "<pre style=\"white-space:pre;overflow-x:auto;line-height:normal;font-family:Menlo,'DejaVu Sans Mono',consolas,'Courier New',monospace\"><span style=\"color: #7fbfbf; text-decoration-color: #7fbfbf\">15:24:01 CDT </span>Mode solver status: queued                                         \n",
       "</pre>\n"
      ],
      "text/plain": [
       "\u001b[2;36m15:24:01 CDT\u001b[0m\u001b[2;36m \u001b[0mMode solver status: queued                                         \n"
      ]
     },
     "metadata": {},
     "output_type": "display_data"
    },
    {
     "data": {
      "text/html": [
       "<pre style=\"white-space:pre;overflow-x:auto;line-height:normal;font-family:Menlo,'DejaVu Sans Mono',consolas,'Courier New',monospace\"><span style=\"color: #7fbfbf; text-decoration-color: #7fbfbf\">15:24:02 CDT </span>Mode solver status: running                                        \n",
       "</pre>\n"
      ],
      "text/plain": [
       "\u001b[2;36m15:24:02 CDT\u001b[0m\u001b[2;36m \u001b[0mMode solver status: running                                        \n"
      ]
     },
     "metadata": {},
     "output_type": "display_data"
    },
    {
     "data": {
      "text/html": [
       "<pre style=\"white-space:pre;overflow-x:auto;line-height:normal;font-family:Menlo,'DejaVu Sans Mono',consolas,'Courier New',monospace\"><span style=\"color: #7fbfbf; text-decoration-color: #7fbfbf\">15:24:18 CDT </span>Mode solver status: success                                        \n",
       "</pre>\n"
      ],
      "text/plain": [
       "\u001b[2;36m15:24:18 CDT\u001b[0m\u001b[2;36m \u001b[0mMode solver status: success                                        \n"
      ]
     },
     "metadata": {},
     "output_type": "display_data"
    },
    {
     "data": {
      "application/vnd.jupyter.widget-view+json": {
       "model_id": "5b1ce45df72a49d7aa3b3ff706e51ecf",
       "version_major": 2,
       "version_minor": 0
      },
      "text/plain": [
       "Output()"
      ]
     },
     "metadata": {},
     "output_type": "display_data"
    },
    {
     "data": {
      "text/html": [
       "<pre style=\"white-space:pre;overflow-x:auto;line-height:normal;font-family:Menlo,'DejaVu Sans Mono',consolas,'Courier New',monospace\"></pre>\n"
      ],
      "text/plain": []
     },
     "metadata": {},
     "output_type": "display_data"
    },
    {
     "data": {
      "text/html": [
       "<pre style=\"white-space:pre;overflow-x:auto;line-height:normal;font-family:Menlo,'DejaVu Sans Mono',consolas,'Courier New',monospace\">\n",
       "</pre>\n"
      ],
      "text/plain": [
       "\n"
      ]
     },
     "metadata": {},
     "output_type": "display_data"
    },
    {
     "data": {
      "text/html": [
       "<pre style=\"white-space:pre;overflow-x:auto;line-height:normal;font-family:Menlo,'DejaVu Sans Mono',consolas,'Courier New',monospace\"><span style=\"color: #7fbfbf; text-decoration-color: #7fbfbf\">15:24:23 CDT </span>Mode solver created with                                           \n",
       "<span style=\"color: #7fbfbf; text-decoration-color: #7fbfbf\">             </span><span style=\"color: #808000; text-decoration-color: #808000\">task_id</span>=<span style=\"color: #008000; text-decoration-color: #008000\">'fdve-f91a54fe-242f-4486-870c-e15d021b7f64v1'</span>,             \n",
       "<span style=\"color: #7fbfbf; text-decoration-color: #7fbfbf\">             </span><span style=\"color: #808000; text-decoration-color: #808000\">solver_id</span>=<span style=\"color: #008000; text-decoration-color: #008000\">'mo-57b668f8-76cf-4ec0-b6c6-66ce51cb4221'</span>.               \n",
       "</pre>\n"
      ],
      "text/plain": [
       "\u001b[2;36m15:24:23 CDT\u001b[0m\u001b[2;36m \u001b[0mMode solver created with                                           \n",
       "\u001b[2;36m             \u001b[0m\u001b[33mtask_id\u001b[0m=\u001b[32m'fdve-f91a54fe-242f-4486-870c-e15d021b7f64v1'\u001b[0m,             \n",
       "\u001b[2;36m             \u001b[0m\u001b[33msolver_id\u001b[0m=\u001b[32m'mo-57b668f8-76cf-4ec0-b6c6-66ce51cb4221'\u001b[0m.               \n"
      ]
     },
     "metadata": {},
     "output_type": "display_data"
    },
    {
     "data": {
      "application/vnd.jupyter.widget-view+json": {
       "model_id": "d2097e56a3cc4baf972657142af88f26",
       "version_major": 2,
       "version_minor": 0
      },
      "text/plain": [
       "Output()"
      ]
     },
     "metadata": {},
     "output_type": "display_data"
    },
    {
     "data": {
      "text/html": [
       "<pre style=\"white-space:pre;overflow-x:auto;line-height:normal;font-family:Menlo,'DejaVu Sans Mono',consolas,'Courier New',monospace\"></pre>\n"
      ],
      "text/plain": []
     },
     "metadata": {},
     "output_type": "display_data"
    },
    {
     "data": {
      "text/html": [
       "<pre style=\"white-space:pre;overflow-x:auto;line-height:normal;font-family:Menlo,'DejaVu Sans Mono',consolas,'Courier New',monospace\">\n",
       "</pre>\n"
      ],
      "text/plain": [
       "\n"
      ]
     },
     "metadata": {},
     "output_type": "display_data"
    },
    {
     "data": {
      "application/vnd.jupyter.widget-view+json": {
       "model_id": "3982452c17ab4453aa04f5d255e395f3",
       "version_major": 2,
       "version_minor": 0
      },
      "text/plain": [
       "Output()"
      ]
     },
     "metadata": {},
     "output_type": "display_data"
    },
    {
     "data": {
      "text/html": [
       "<pre style=\"white-space:pre;overflow-x:auto;line-height:normal;font-family:Menlo,'DejaVu Sans Mono',consolas,'Courier New',monospace\"></pre>\n"
      ],
      "text/plain": []
     },
     "metadata": {},
     "output_type": "display_data"
    },
    {
     "data": {
      "text/html": [
       "<pre style=\"white-space:pre;overflow-x:auto;line-height:normal;font-family:Menlo,'DejaVu Sans Mono',consolas,'Courier New',monospace\">\n",
       "</pre>\n"
      ],
      "text/plain": [
       "\n"
      ]
     },
     "metadata": {},
     "output_type": "display_data"
    },
    {
     "data": {
      "text/html": [
       "<pre style=\"white-space:pre;overflow-x:auto;line-height:normal;font-family:Menlo,'DejaVu Sans Mono',consolas,'Courier New',monospace\"><span style=\"color: #7fbfbf; text-decoration-color: #7fbfbf\">15:24:26 CDT </span>Mode solver status: queued                                         \n",
       "</pre>\n"
      ],
      "text/plain": [
       "\u001b[2;36m15:24:26 CDT\u001b[0m\u001b[2;36m \u001b[0mMode solver status: queued                                         \n"
      ]
     },
     "metadata": {},
     "output_type": "display_data"
    },
    {
     "data": {
      "text/html": [
       "<pre style=\"white-space:pre;overflow-x:auto;line-height:normal;font-family:Menlo,'DejaVu Sans Mono',consolas,'Courier New',monospace\"><span style=\"color: #7fbfbf; text-decoration-color: #7fbfbf\">15:24:28 CDT </span>Mode solver status: running                                        \n",
       "</pre>\n"
      ],
      "text/plain": [
       "\u001b[2;36m15:24:28 CDT\u001b[0m\u001b[2;36m \u001b[0mMode solver status: running                                        \n"
      ]
     },
     "metadata": {},
     "output_type": "display_data"
    },
    {
     "data": {
      "text/html": [
       "<pre style=\"white-space:pre;overflow-x:auto;line-height:normal;font-family:Menlo,'DejaVu Sans Mono',consolas,'Courier New',monospace\"><span style=\"color: #7fbfbf; text-decoration-color: #7fbfbf\">15:24:42 CDT </span>Mode solver status: success                                        \n",
       "</pre>\n"
      ],
      "text/plain": [
       "\u001b[2;36m15:24:42 CDT\u001b[0m\u001b[2;36m \u001b[0mMode solver status: success                                        \n"
      ]
     },
     "metadata": {},
     "output_type": "display_data"
    },
    {
     "data": {
      "application/vnd.jupyter.widget-view+json": {
       "model_id": "4458481d352d4d09ab5b25a94f8f5135",
       "version_major": 2,
       "version_minor": 0
      },
      "text/plain": [
       "Output()"
      ]
     },
     "metadata": {},
     "output_type": "display_data"
    },
    {
     "data": {
      "text/html": [
       "<pre style=\"white-space:pre;overflow-x:auto;line-height:normal;font-family:Menlo,'DejaVu Sans Mono',consolas,'Courier New',monospace\"></pre>\n"
      ],
      "text/plain": []
     },
     "metadata": {},
     "output_type": "display_data"
    },
    {
     "data": {
      "text/html": [
       "<pre style=\"white-space:pre;overflow-x:auto;line-height:normal;font-family:Menlo,'DejaVu Sans Mono',consolas,'Courier New',monospace\">\n",
       "</pre>\n"
      ],
      "text/plain": [
       "\n"
      ]
     },
     "metadata": {},
     "output_type": "display_data"
    },
    {
     "data": {
      "text/html": [
       "<pre style=\"white-space:pre;overflow-x:auto;line-height:normal;font-family:Menlo,'DejaVu Sans Mono',consolas,'Courier New',monospace\"><span style=\"color: #7fbfbf; text-decoration-color: #7fbfbf\">15:24:44 CDT </span>Mode solver created with                                           \n",
       "<span style=\"color: #7fbfbf; text-decoration-color: #7fbfbf\">             </span><span style=\"color: #808000; text-decoration-color: #808000\">task_id</span>=<span style=\"color: #008000; text-decoration-color: #008000\">'fdve-7139887d-8699-4ee0-8653-c17e9a8cf7d5v1'</span>,             \n",
       "<span style=\"color: #7fbfbf; text-decoration-color: #7fbfbf\">             </span><span style=\"color: #808000; text-decoration-color: #808000\">solver_id</span>=<span style=\"color: #008000; text-decoration-color: #008000\">'mo-f0ae8e91-ff7e-4f91-b2c9-31e0499afe9b'</span>.               \n",
       "</pre>\n"
      ],
      "text/plain": [
       "\u001b[2;36m15:24:44 CDT\u001b[0m\u001b[2;36m \u001b[0mMode solver created with                                           \n",
       "\u001b[2;36m             \u001b[0m\u001b[33mtask_id\u001b[0m=\u001b[32m'fdve-7139887d-8699-4ee0-8653-c17e9a8cf7d5v1'\u001b[0m,             \n",
       "\u001b[2;36m             \u001b[0m\u001b[33msolver_id\u001b[0m=\u001b[32m'mo-f0ae8e91-ff7e-4f91-b2c9-31e0499afe9b'\u001b[0m.               \n"
      ]
     },
     "metadata": {},
     "output_type": "display_data"
    },
    {
     "data": {
      "application/vnd.jupyter.widget-view+json": {
       "model_id": "99c66743ca574b579296b77567796ebf",
       "version_major": 2,
       "version_minor": 0
      },
      "text/plain": [
       "Output()"
      ]
     },
     "metadata": {},
     "output_type": "display_data"
    },
    {
     "data": {
      "text/html": [
       "<pre style=\"white-space:pre;overflow-x:auto;line-height:normal;font-family:Menlo,'DejaVu Sans Mono',consolas,'Courier New',monospace\"></pre>\n"
      ],
      "text/plain": []
     },
     "metadata": {},
     "output_type": "display_data"
    },
    {
     "data": {
      "text/html": [
       "<pre style=\"white-space:pre;overflow-x:auto;line-height:normal;font-family:Menlo,'DejaVu Sans Mono',consolas,'Courier New',monospace\">\n",
       "</pre>\n"
      ],
      "text/plain": [
       "\n"
      ]
     },
     "metadata": {},
     "output_type": "display_data"
    },
    {
     "data": {
      "application/vnd.jupyter.widget-view+json": {
       "model_id": "a41955d7a5cb4ceb8440d25e9397cdc6",
       "version_major": 2,
       "version_minor": 0
      },
      "text/plain": [
       "Output()"
      ]
     },
     "metadata": {},
     "output_type": "display_data"
    },
    {
     "data": {
      "text/html": [
       "<pre style=\"white-space:pre;overflow-x:auto;line-height:normal;font-family:Menlo,'DejaVu Sans Mono',consolas,'Courier New',monospace\"></pre>\n"
      ],
      "text/plain": []
     },
     "metadata": {},
     "output_type": "display_data"
    },
    {
     "data": {
      "text/html": [
       "<pre style=\"white-space:pre;overflow-x:auto;line-height:normal;font-family:Menlo,'DejaVu Sans Mono',consolas,'Courier New',monospace\">\n",
       "</pre>\n"
      ],
      "text/plain": [
       "\n"
      ]
     },
     "metadata": {},
     "output_type": "display_data"
    },
    {
     "data": {
      "text/html": [
       "<pre style=\"white-space:pre;overflow-x:auto;line-height:normal;font-family:Menlo,'DejaVu Sans Mono',consolas,'Courier New',monospace\"><span style=\"color: #7fbfbf; text-decoration-color: #7fbfbf\">15:24:47 CDT </span>Mode solver status: queued                                         \n",
       "</pre>\n"
      ],
      "text/plain": [
       "\u001b[2;36m15:24:47 CDT\u001b[0m\u001b[2;36m \u001b[0mMode solver status: queued                                         \n"
      ]
     },
     "metadata": {},
     "output_type": "display_data"
    },
    {
     "data": {
      "text/html": [
       "<pre style=\"white-space:pre;overflow-x:auto;line-height:normal;font-family:Menlo,'DejaVu Sans Mono',consolas,'Courier New',monospace\"><span style=\"color: #7fbfbf; text-decoration-color: #7fbfbf\">15:24:48 CDT </span>Mode solver status: running                                        \n",
       "</pre>\n"
      ],
      "text/plain": [
       "\u001b[2;36m15:24:48 CDT\u001b[0m\u001b[2;36m \u001b[0mMode solver status: running                                        \n"
      ]
     },
     "metadata": {},
     "output_type": "display_data"
    },
    {
     "data": {
      "text/html": [
       "<pre style=\"white-space:pre;overflow-x:auto;line-height:normal;font-family:Menlo,'DejaVu Sans Mono',consolas,'Courier New',monospace\"><span style=\"color: #7fbfbf; text-decoration-color: #7fbfbf\">15:25:01 CDT </span>Mode solver status: success                                        \n",
       "</pre>\n"
      ],
      "text/plain": [
       "\u001b[2;36m15:25:01 CDT\u001b[0m\u001b[2;36m \u001b[0mMode solver status: success                                        \n"
      ]
     },
     "metadata": {},
     "output_type": "display_data"
    },
    {
     "data": {
      "application/vnd.jupyter.widget-view+json": {
       "model_id": "9e7ca70c452e4223a11e4f9c72aafdb8",
       "version_major": 2,
       "version_minor": 0
      },
      "text/plain": [
       "Output()"
      ]
     },
     "metadata": {},
     "output_type": "display_data"
    },
    {
     "data": {
      "text/html": [
       "<pre style=\"white-space:pre;overflow-x:auto;line-height:normal;font-family:Menlo,'DejaVu Sans Mono',consolas,'Courier New',monospace\"></pre>\n"
      ],
      "text/plain": []
     },
     "metadata": {},
     "output_type": "display_data"
    },
    {
     "data": {
      "text/html": [
       "<pre style=\"white-space:pre;overflow-x:auto;line-height:normal;font-family:Menlo,'DejaVu Sans Mono',consolas,'Courier New',monospace\">\n",
       "</pre>\n"
      ],
      "text/plain": [
       "\n"
      ]
     },
     "metadata": {},
     "output_type": "display_data"
    },
    {
     "data": {
      "text/html": [
       "<pre style=\"white-space:pre;overflow-x:auto;line-height:normal;font-family:Menlo,'DejaVu Sans Mono',consolas,'Courier New',monospace\"><span style=\"color: #7fbfbf; text-decoration-color: #7fbfbf\">15:25:03 CDT </span>Mode solver created with                                           \n",
       "<span style=\"color: #7fbfbf; text-decoration-color: #7fbfbf\">             </span><span style=\"color: #808000; text-decoration-color: #808000\">task_id</span>=<span style=\"color: #008000; text-decoration-color: #008000\">'fdve-282c11f1-c6ca-4936-8802-7e2f322b951cv1'</span>,             \n",
       "<span style=\"color: #7fbfbf; text-decoration-color: #7fbfbf\">             </span><span style=\"color: #808000; text-decoration-color: #808000\">solver_id</span>=<span style=\"color: #008000; text-decoration-color: #008000\">'mo-493f2d95-7bf2-4289-b097-66c926f06848'</span>.               \n",
       "</pre>\n"
      ],
      "text/plain": [
       "\u001b[2;36m15:25:03 CDT\u001b[0m\u001b[2;36m \u001b[0mMode solver created with                                           \n",
       "\u001b[2;36m             \u001b[0m\u001b[33mtask_id\u001b[0m=\u001b[32m'fdve-282c11f1-c6ca-4936-8802-7e2f322b951cv1'\u001b[0m,             \n",
       "\u001b[2;36m             \u001b[0m\u001b[33msolver_id\u001b[0m=\u001b[32m'mo-493f2d95-7bf2-4289-b097-66c926f06848'\u001b[0m.               \n"
      ]
     },
     "metadata": {},
     "output_type": "display_data"
    },
    {
     "data": {
      "application/vnd.jupyter.widget-view+json": {
       "model_id": "d7e821f6e75445cebef44e960b5d460d",
       "version_major": 2,
       "version_minor": 0
      },
      "text/plain": [
       "Output()"
      ]
     },
     "metadata": {},
     "output_type": "display_data"
    },
    {
     "data": {
      "text/html": [
       "<pre style=\"white-space:pre;overflow-x:auto;line-height:normal;font-family:Menlo,'DejaVu Sans Mono',consolas,'Courier New',monospace\"></pre>\n"
      ],
      "text/plain": []
     },
     "metadata": {},
     "output_type": "display_data"
    },
    {
     "data": {
      "text/html": [
       "<pre style=\"white-space:pre;overflow-x:auto;line-height:normal;font-family:Menlo,'DejaVu Sans Mono',consolas,'Courier New',monospace\">\n",
       "</pre>\n"
      ],
      "text/plain": [
       "\n"
      ]
     },
     "metadata": {},
     "output_type": "display_data"
    },
    {
     "data": {
      "application/vnd.jupyter.widget-view+json": {
       "model_id": "03f13c6158ec43298c440caee2eb3eec",
       "version_major": 2,
       "version_minor": 0
      },
      "text/plain": [
       "Output()"
      ]
     },
     "metadata": {},
     "output_type": "display_data"
    },
    {
     "data": {
      "text/html": [
       "<pre style=\"white-space:pre;overflow-x:auto;line-height:normal;font-family:Menlo,'DejaVu Sans Mono',consolas,'Courier New',monospace\"></pre>\n"
      ],
      "text/plain": []
     },
     "metadata": {},
     "output_type": "display_data"
    },
    {
     "data": {
      "text/html": [
       "<pre style=\"white-space:pre;overflow-x:auto;line-height:normal;font-family:Menlo,'DejaVu Sans Mono',consolas,'Courier New',monospace\">\n",
       "</pre>\n"
      ],
      "text/plain": [
       "\n"
      ]
     },
     "metadata": {},
     "output_type": "display_data"
    },
    {
     "data": {
      "text/html": [
       "<pre style=\"white-space:pre;overflow-x:auto;line-height:normal;font-family:Menlo,'DejaVu Sans Mono',consolas,'Courier New',monospace\"><span style=\"color: #7fbfbf; text-decoration-color: #7fbfbf\">15:25:06 CDT </span>Mode solver status: queued                                         \n",
       "</pre>\n"
      ],
      "text/plain": [
       "\u001b[2;36m15:25:06 CDT\u001b[0m\u001b[2;36m \u001b[0mMode solver status: queued                                         \n"
      ]
     },
     "metadata": {},
     "output_type": "display_data"
    },
    {
     "data": {
      "text/html": [
       "<pre style=\"white-space:pre;overflow-x:auto;line-height:normal;font-family:Menlo,'DejaVu Sans Mono',consolas,'Courier New',monospace\"><span style=\"color: #7fbfbf; text-decoration-color: #7fbfbf\">15:25:08 CDT </span>Mode solver status: running                                        \n",
       "</pre>\n"
      ],
      "text/plain": [
       "\u001b[2;36m15:25:08 CDT\u001b[0m\u001b[2;36m \u001b[0mMode solver status: running                                        \n"
      ]
     },
     "metadata": {},
     "output_type": "display_data"
    },
    {
     "data": {
      "text/html": [
       "<pre style=\"white-space:pre;overflow-x:auto;line-height:normal;font-family:Menlo,'DejaVu Sans Mono',consolas,'Courier New',monospace\"><span style=\"color: #7fbfbf; text-decoration-color: #7fbfbf\">15:25:23 CDT </span>Mode solver status: success                                        \n",
       "</pre>\n"
      ],
      "text/plain": [
       "\u001b[2;36m15:25:23 CDT\u001b[0m\u001b[2;36m \u001b[0mMode solver status: success                                        \n"
      ]
     },
     "metadata": {},
     "output_type": "display_data"
    },
    {
     "data": {
      "application/vnd.jupyter.widget-view+json": {
       "model_id": "cefc6f6a7df2488aa2774c0e9ce13e4f",
       "version_major": 2,
       "version_minor": 0
      },
      "text/plain": [
       "Output()"
      ]
     },
     "metadata": {},
     "output_type": "display_data"
    },
    {
     "data": {
      "text/html": [
       "<pre style=\"white-space:pre;overflow-x:auto;line-height:normal;font-family:Menlo,'DejaVu Sans Mono',consolas,'Courier New',monospace\"></pre>\n"
      ],
      "text/plain": []
     },
     "metadata": {},
     "output_type": "display_data"
    },
    {
     "data": {
      "text/html": [
       "<pre style=\"white-space:pre;overflow-x:auto;line-height:normal;font-family:Menlo,'DejaVu Sans Mono',consolas,'Courier New',monospace\">\n",
       "</pre>\n"
      ],
      "text/plain": [
       "\n"
      ]
     },
     "metadata": {},
     "output_type": "display_data"
    }
   ],
   "source": [
    "mode_datas = []\n",
    "\n",
    "for psim in perturb_sims:\n",
    "    ms = ModeSolver(\n",
    "        simulation=psim,\n",
    "        plane=mode_plane,\n",
    "        mode_spec=td.ModeSpec(num_modes=1, precision=\"double\"),\n",
    "        freqs=[freq0],\n",
    "    )\n",
    "\n",
    "    md = run_mode(ms)\n",
    "\n",
    "    mode_datas.append(md)\n"
   ]
  },
  {
   "cell_type": "markdown",
   "id": "c7b3cce3-ae47-46ac-988f-f5d11466682b",
   "metadata": {},
   "source": [
    "Extract found propagation indices into a single array."
   ]
  },
  {
   "cell_type": "code",
   "execution_count": 27,
   "id": "e86552fe-95e4-424f-8371-eea3e4839cc7",
   "metadata": {},
   "outputs": [],
   "source": [
    "n_eff = np.array([md.n_eff.isel(f=0, mode_index=0) for md in mode_datas])\n"
   ]
  },
  {
   "cell_type": "markdown",
   "id": "45e3557a-ed40-4a9c-9478-7ddafce1a097",
   "metadata": {},
   "source": [
    "We will compare to results obtained using different thermal and mode solvers."
   ]
  },
  {
   "cell_type": "code",
   "execution_count": 28,
   "id": "ae8e79ff-cc62-4a3a-8efd-b1c4cad4f616",
   "metadata": {},
   "outputs": [],
   "source": [
    "currents_ref = np.linspace(0.0, 7.4e-3, 10)\n",
    "neff_ref = [\n",
    "    2.4401133396065293,\n",
    "    2.440149458129956,\n",
    "    2.440257814666438,\n",
    "    2.4404384121136413,\n",
    "    2.4406912552977094,\n",
    "    2.441016350968344,\n",
    "    2.441413707791896,\n",
    "    2.4418833363425283,\n",
    "    2.4424252490914293,\n",
    "    2.443039460394046,\n",
    "]\n"
   ]
  },
  {
   "cell_type": "markdown",
   "id": "a1e6f2ae-e2a3-4efb-b3e3-3e994e3d26aa",
   "metadata": {},
   "source": [
    "The absolute values of propagation indices are quite sensitive to the type of solver used and parameters of mode solver solution domain. Thus, we compare changes to the propagation indices rather then their absolute values."
   ]
  },
  {
   "cell_type": "code",
   "execution_count": 29,
   "id": "fb41b91d-bebd-4342-baa1-0187f84033ae",
   "metadata": {},
   "outputs": [
    {
     "name": "stdout",
     "output_type": "stream",
     "text": [
      "Phase shift over 320um: 3.807933115315297\n",
      "Phase shift over 320um (ref): 3.795687048084378\n"
     ]
    },
    {
     "data": {
      "image/png": "[encoded data removed]",
      "text/plain": [
       "<Figure size 640x480 with 1 Axes>"
      ]
     },
     "metadata": {},
     "output_type": "display_data"
    }
   ],
   "source": [
    "print(f\"Phase shift over 320um: {2 * np.pi / 1.55 * (n_eff[-1] - n_eff[0]) * 320}\")\n",
    "print(\n",
    "    f\"Phase shift over 320um (ref): {2 * np.pi / 1.55 * (neff_ref[-1] - neff_ref[0]) * 320}\"\n",
    ")\n",
    "plt.plot(currents * 1e3, n_eff[:] - n_eff[0], \"o:\")\n",
    "plt.plot(currents_ref * 1e3, np.array(neff_ref) - neff_ref[0])\n",
    "plt.xlabel(\"Current / mA\")\n",
    "plt.ylabel(\"Change in effective refractive index $n_{eff}$\")\n",
    "plt.legend([\"tidy3d\", \"reference\"])\n",
    "plt.show()\n"
   ]
  },
  {
   "cell_type": "code",
   "execution_count": null,
   "id": "162e46de-ad7d-45e4-b87a-1cb0177e1431",
   "metadata": {},
   "outputs": [],
   "source": []
  }
 ],
 "metadata": {
  "kernelspec": {
   "display_name": "Python 3 (ipykernel)",
   "language": "python",
   "name": "python3"
  },
  "language_info": {
   "codemirror_mode": {
    "name": "ipython",
    "version": 3
   },
   "file_extension": ".py",
   "mimetype": "text/x-python",
   "name": "python",
   "nbconvert_exporter": "python",
   "pygments_lexer": "ipython3",
   "version": "3.10.12"
  }
 },
 "nbformat": 4,
 "nbformat_minor": 5
}