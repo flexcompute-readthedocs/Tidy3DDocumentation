{
  "nbformat": 4,
  "nbformat_minor": 0,
  "metadata": {
    "colab": {
      "provenance": [],
      "authorship_tag": "ABX9TyNHLKYIcr6i9Dwy1gniJSox",
      "include_colab_link": true
    },
    "kernelspec": {
      "name": "python3",
      "display_name": "Python 3"
    },
    "language_info": {
      "name": "python"
    }
  },
  "cells": [
    {
      "cell_type": "markdown",
      "metadata": {
        "id": "view-in-github",
        "colab_type": "text"
      },
      "source": [
        "<a href=\"https://colab.research.google.com/github/flexcompute-readthedocs/tidy3d-docs/blob/alec%2Fperiodic-structures/arrays.ipynb\" target=\"_parent\"><img src=\"https://colab.research.google.com/assets/colab-badge.svg\" alt=\"Open In Colab\"/></a>"
      ]
    },
    {
      "cell_type": "code",
      "execution_count": null,
      "metadata": {
        "id": "tnxO7HHUdbE0"
      },
      "outputs": [],
      "source": [
        "!pip install tidy3d\n",
        "import tidy3d.web as web\n",
        "web.configure(\"ZMFCYeAdFMUW0nfCPjWkqZ9F8CRcJipBU96yDbZbB25ZsEF9\")\n",
        "import tidy3d as td\n",
        "import numpy as np"
      ]
    },
    {
      "cell_type": "code",
      "source": [
        "web.test()"
      ],
      "metadata": {
        "colab": {
          "base_uri": "https://localhost:8080/",
          "height": 33
        },
        "id": "qMSiawupIoVP",
        "outputId": "d17c2a07-ae4d-4e48-f467-e60d8775b094"
      },
      "execution_count": null,
      "outputs": [
        {
          "output_type": "display_data",
          "data": {
            "text/plain": [
              "\u001b[2;36m[16:04:16]\u001b[0m\u001b[2;36m \u001b[0mAuthentication configured successfully!                                                    \u001b]8;id=822426;file:///usr/local/lib/python3.10/dist-packages/tidy3d/web/webapi.py\u001b\\\u001b[2mwebapi.py\u001b[0m\u001b]8;;\u001b\\\u001b[2m:\u001b[0m\u001b]8;id=40377;file:///usr/local/lib/python3.10/dist-packages/tidy3d/web/webapi.py#785\u001b\\\u001b[2m785\u001b[0m\u001b]8;;\u001b\\\n"
            ],
            "text/html": [
              "<pre style=\"white-space:pre;overflow-x:auto;line-height:normal;font-family:Menlo,'DejaVu Sans Mono',consolas,'Courier New',monospace\"><span style=\"color: #7fbfbf; text-decoration-color: #7fbfbf\">[16:04:16] </span>Authentication configured successfully!                                                    <a href=\"file:///usr/local/lib/python3.10/dist-packages/tidy3d/web/webapi.py\" target=\"_blank\"><span style=\"color: #7f7f7f; text-decoration-color: #7f7f7f\">webapi.py</span></a><span style=\"color: #7f7f7f; text-decoration-color: #7f7f7f\">:</span><a href=\"file:///usr/local/lib/python3.10/dist-packages/tidy3d/web/webapi.py#785\" target=\"_blank\"><span style=\"color: #7f7f7f; text-decoration-color: #7f7f7f\">785</span></a>\n",
              "</pre>\n"
            ]
          },
          "metadata": {}
        }
      ]
    },
    {
      "cell_type": "code",
      "source": [
        "!pip install gdstk"
      ],
      "metadata": {
        "id": "k70tJ0weIr_i"
      },
      "execution_count": null,
      "outputs": []
    },
    {
      "cell_type": "code",
      "source": [
        "import matplotlib.pyplot as plt"
      ],
      "metadata": {
        "id": "iNwY_if9xyVA"
      },
      "execution_count": null,
      "outputs": []
    },
    {
      "cell_type": "markdown",
      "source": [
        "## Respective function formats for the above structures starting here:"
      ],
      "metadata": {
        "id": "gzvHTEawADvt"
      }
    },
    {
      "cell_type": "markdown",
      "source": [
        "Create square array of cylinders:"
      ],
      "metadata": {
        "id": "HrAk1UZCSJra"
      }
    },
    {
      "cell_type": "code",
      "source": [
        "import tidy3d as td\n",
        "import numpy as np\n",
        "from tidy3d_lambda import entrypoint\n",
        "\n",
        "# This script object defines a square array of cylinders and\n",
        "# returns the tidy3d structure of it.\n",
        "\n",
        "@entrypoint\n",
        "def generate_object(param):\n",
        "  # parameters\n",
        "  #------------------------------------------------------------\n",
        "  x0=2 # x coordinate of center of the array (um)\n",
        "  y0=-3 # y coordinate of center of the array (um)\n",
        "  z0=0 # z coordinate of center of the array (um)\n",
        "  R=3 # radius of the circular holes (um)\n",
        "  hole_spacing_x=8 # distance between centers of holes in x direction (um)\n",
        "  hole_spacing_y=8 # distance between centers of holes in y direction (um)\n",
        "  n_x=3 # number of holes in x direction\n",
        "  n_y=7 # number of holes in y direction\n",
        "  height=5 # height of array\n",
        "  sidewall_angle=0 # angle slant of cylinders\n",
        "  # medium of the holes\n",
        "  medium=td.material_library[\"cSi\"][\"Li1993_293K\"]\n",
        "  axis=2\n",
        "  reference_plane = 'bottom'\n",
        "\n",
        "  cylinder_group = []\n",
        "\n",
        "  start_x, start_y = x0 + hole_spacing_x*(1-n_x)/2, y0 + hole_spacing_y*(1-n_y)/2\n",
        "  for i in range(0, n_x):\n",
        "    for j in range(0, n_y):\n",
        "      c = td.Cylinder(axis=axis,\n",
        "                      sidewall_angle=sidewall_angle,\n",
        "                      reference_plane=reference_plane,\n",
        "                      radius=R,\n",
        "                      center=(start_x+i*hole_spacing_x, start_y+j*hole_spacing_y, z0),\n",
        "                      length=height)\n",
        "      cylinder_group.append(c)\n",
        "\n",
        "\n",
        "  structure = td.Structure(geometry=td.GeometryGroup(geometries=cylinder_group), medium=medium)\n",
        "\n",
        "\n",
        "  return [structure]"
      ],
      "metadata": {
        "id": "jz8-gPg3xpVe"
      },
      "execution_count": null,
      "outputs": []
    },
    {
      "cell_type": "markdown",
      "source": [
        "Create slab with square array of holes:"
      ],
      "metadata": {
        "id": "UG-CDw0zSM5j"
      }
    },
    {
      "cell_type": "code",
      "source": [
        "import tidy3d as td\n",
        "import numpy as np\n",
        "from tidy3d_lambda import entrypoint\n",
        "\n",
        "# This script object defines a square array of holes in a slab and\n",
        "# returns the tidy3d structure of it.\n",
        "\n",
        "@entrypoint\n",
        "def generate_object(param):\n",
        "  # parameters\n",
        "  #------------------------------------------------------------\n",
        "  x0=0 # x coordinate of center of the array (um)\n",
        "  y0=0 # y coordinate of center of the array (um)\n",
        "  z0=0 # z coordinate of center of the array (um)\n",
        "  R=3 # radius of the circular holes (um)\n",
        "  hole_spacing_x=8 # distance between centers of holes in x direction (um)\n",
        "  hole_spacing_y=8 # distance between centers of holes in y direction (um)\n",
        "  n_x=6 # number of holes in x direction\n",
        "  n_y=2 # number of holes in y direction\n",
        "  height=5 # height of array\n",
        "  # medium of the holes\n",
        "  hole_medium=td.material_library[\"cSi\"][\"Li1993_293K\"]\n",
        "  slab_medium=td.Medium(permittivity=1.003**2) #td.material_library[\"cSi\"][\"Li1993_293K\"]\n",
        "  reference_plane = 'bottom'\n",
        "  sidewall_angle=0 # angle slant of cylinders. Add compensation for the box geometry if != 0?\n",
        "  axis=2\n",
        "\n",
        "  # could use gdstk.Reference to save mem at first but will it end up making a difference?\n",
        "  start_x, start_y = x0 - hole_spacing_x*(n_x-1)/2, y0 - hole_spacing_y*(n_y-1)/2\n",
        "\n",
        "  box = td.Box(center=(x0, y0, z0), size=(hole_spacing_x*n_x, hole_spacing_y*n_y, height))\n",
        "  structures = [td.Structure(geometry=box, medium=slab_medium)]\n",
        "  cylinders = []\n",
        "\n",
        "  for i in range(0, n_x):\n",
        "    for j in range(0, n_y):\n",
        "      c = td.Cylinder(axis=axis,\n",
        "                      sidewall_angle=sidewall_angle,\n",
        "                      reference_plane=reference_plane,\n",
        "                      radius=R,\n",
        "                      center=(start_x+i*hole_spacing_x, start_y+j*hole_spacing_y, z0),\n",
        "                      length=height)\n",
        "      cylinders.append(c)\n",
        "\n",
        "  cylinders_structure = td.Structure(geometry=td.GeometryGroup(geometries=cylinders), medium=hole_medium)\n",
        "\n",
        "  structures.append(cylinders_structure)\n",
        "\n",
        "  return structures"
      ],
      "metadata": {
        "id": "SCTLr4wRHgnG"
      },
      "execution_count": null,
      "outputs": []
    },
    {
      "cell_type": "markdown",
      "source": [
        "Create a slab with a hexagonal array of holes:"
      ],
      "metadata": {
        "id": "linFX0nZSkWV"
      }
    },
    {
      "cell_type": "code",
      "source": [
        "\n",
        "import tidy3d as td\n",
        "import numpy as np\n",
        "from tidy3d_lambda import entrypoint\n",
        "\n",
        "# This script object defines a hexagonal array of holes in a slab and\n",
        "# returns the tidy3d structure of it.\n",
        "\n",
        "@entrypoint\n",
        "def generate_object(param):\n",
        "  # parameters\n",
        "  #------------------------------------------------------------\n",
        "  x0=0 # x coordinate of center of the array (um)\n",
        "  y0=0 # y coordinate of center of the array (um)\n",
        "  z0=0 # z coordinate of center of the array (um)\n",
        "  R=3 # radius of the circular holes (um)\n",
        "  hole_spacing_x=8 # distance between centers of holes in x direction (um)\n",
        "  hole_spacing_y=8 # distance between centers of holes in y direction (um)\n",
        "  n_x=6 # number of holes in x direction\n",
        "  n_y=5 # number of holes in y direction\n",
        "  height=5 # height of array\n",
        "  # medium of the holes\n",
        "  hole_medium=td.material_library[\"cSi\"][\"Li1993_293K\"]\n",
        "  slab_medium=td.Medium(permittivity=1.003**2) #td.material_library[\"cSi\"][\"Li1993_293K\"]\n",
        "  reference_plane = 'bottom'\n",
        "  sidewall_angle=0 # angle slant of cylinders. Add compensation for the box geometry if != 0?\n",
        "  axis=2\n",
        "\n",
        "\n",
        "  # define geometry for slab\n",
        "  x_slab_length, y_slab_length = hole_spacing_x*(n_x+0.5), hole_spacing_y*n_y\n",
        "  start_x, start_y = x0 - x_slab_length/2 + hole_spacing_x/2, y0 - y_slab_length/2 + hole_spacing_y/2\n",
        "  box = td.Box(center=(x0, y0, z0), size=(x_slab_length, y_slab_length, height))\n",
        "\n",
        "  structures = [td.Structure(geometry=box, medium=slab_medium)]\n",
        "\n",
        "  cylinders = []\n",
        "  for i in range(0, n_x):\n",
        "    for j in range(0, n_y):\n",
        "      c = td.Cylinder(axis=axis,\n",
        "                      sidewall_angle=sidewall_angle,\n",
        "                      reference_plane=reference_plane,\n",
        "                      radius=R,\n",
        "                      center=(start_x+(i+(j%2)*0.5)*hole_spacing_x, start_y+j*hole_spacing_y, z0),\n",
        "                      length=height)\n",
        "      cylinders.append(c)\n",
        "\n",
        "  cylinders_structure = td.Structure(geometry=td.GeometryGroup(geometries=cylinders), medium=hole_medium)\n",
        "\n",
        "  structures.append(cylinders_structure)\n",
        "\n",
        "  return structures"
      ],
      "metadata": {
        "id": "h65euGEOaTED"
      },
      "execution_count": null,
      "outputs": []
    },
    {
      "cell_type": "markdown",
      "source": [
        "Create a hexagonal array of cylinders:"
      ],
      "metadata": {
        "id": "DS9_LTA2Sn85"
      }
    },
    {
      "cell_type": "code",
      "source": [
        "\n",
        "import tidy3d as td\n",
        "import numpy as np\n",
        "from tidy3d_lambda import entrypoint\n",
        "\n",
        "# This script object defines a hexagonal array of cylinders and\n",
        "# returns the tidy3d structure of it.\n",
        "\n",
        "@entrypoint\n",
        "def generate_object(param):\n",
        "  # parameters\n",
        "  #------------------------------------------------------------\n",
        "  x0=0 # x coordinate of center of the array (um)\n",
        "  y0=0 # y coordinate of center of the array (um)\n",
        "  z0=0 # z coordinate of center of the array (um)\n",
        "  R=3 # radius of the circular holes (um)\n",
        "  hole_spacing_x=8 # distance between centers of holes in x direction (um)\n",
        "  hole_spacing_y=8 # distance between centers of holes in y direction (um)\n",
        "  n_x=6 # number of holes in x direction\n",
        "  n_y=5 # number of holes in y direction\n",
        "  height=5 # height of array\n",
        "  # medium of the holes\n",
        "  medium=td.material_library[\"cSi\"][\"Li1993_293K\"]\n",
        "  reference_plane = 'bottom'\n",
        "  sidewall_angle=0 # angle slant of cylinders. Add compensation for the box geometry if != 0?\n",
        "  axis=2\n",
        "\n",
        "\n",
        "  x_slab_length, y_slab_length = hole_spacing_x*(n_x+0.5), hole_spacing_y*n_y\n",
        "  start_x, start_y = x0 - x_slab_length/2 + hole_spacing_x/2, y0 - y_slab_length/2 + hole_spacing_y/2\n",
        "\n",
        "  cylinders = []\n",
        "\n",
        "  for i in range(0, n_x):\n",
        "    for j in range(0, n_y):\n",
        "      c = td.Cylinder(axis=axis,\n",
        "                      sidewall_angle=sidewall_angle,\n",
        "                      reference_plane=reference_plane,\n",
        "                      radius=R,\n",
        "                      center=(start_x+(i+(j%2)*0.5)*hole_spacing_x, start_y+j*hole_spacing_y, z0),\n",
        "                      length=height)\n",
        "      cylinders.append(c)\n",
        "\n",
        "  structure = td.Structure(geometry=td.GeometryGroup(geometries=cylinders), medium=medium)\n",
        "\n",
        "\n",
        "  return [structure]"
      ],
      "metadata": {
        "id": "BFWNPeeZem0L"
      },
      "execution_count": null,
      "outputs": []
    },
    {
      "cell_type": "markdown",
      "source": [
        "Create a rectangular grating:"
      ],
      "metadata": {
        "id": "-bhhqGPJTAPw"
      }
    },
    {
      "cell_type": "code",
      "source": [
        "import tidy3d as td\n",
        "import numpy as np\n",
        "from tidy3d_lambda import entrypoint\n",
        "\n",
        "# This script object defines a rectangular grating and\n",
        "# returns the tidy3d structure of it.\n",
        "\n",
        "@entrypoint\n",
        "def generate_object(param):\n",
        "  # parameters\n",
        "  #------------------------------------------------------------\n",
        "  x0=0 # x coordinate of center of the grating (um)\n",
        "  y0=0 # y coordinate of center of the grating (um)\n",
        "  z0=0 # z coordinate of center of the grating (um)\n",
        "  tooth_width=4 # width of each grating tooth (um)\n",
        "  tooth_height=2.5 # height of each tooth (um)\n",
        "  spacing=3 # spacing between teeth (um) # NOTE: different from the dimensions given in Tom's diagram\n",
        "  base_height=6 # height of underlying base (um)\n",
        "  thickness=10 # width of underlying base (um)\n",
        "  tooth_number=6 # number of teeth in grating\n",
        "  sidewall_angle=0 # angle of slant\n",
        "  # medium of the grating\n",
        "  medium=td.material_library[\"cSi\"][\"Li1993_293K\"]\n",
        "  axis=2\n",
        "  reference_plane = 'bottom'\n",
        "\n",
        "  x_length, z_length = (tooth_width+spacing)*tooth_number-spacing, tooth_height+base_height\n",
        "  start_x, start_z = x0-x_length/2, z0+z_length/2\n",
        "\n",
        "  # create list of points as vertices for polyslab\n",
        "  points = [(start_x, start_z), (start_x+tooth_width, start_z)]\n",
        "  prevPoint = points[-1]\n",
        "  # adding points for teeth\n",
        "  for i in range(0, tooth_number-1):\n",
        "    points.append((prevPoint[0], prevPoint[1]-tooth_height))\n",
        "    points.append((prevPoint[0]+spacing, prevPoint[1]-tooth_height))\n",
        "    points.append((prevPoint[0]+spacing, prevPoint[1]))\n",
        "    prevPoint = (prevPoint[0]+spacing+tooth_width, prevPoint[1])\n",
        "    points.append(prevPoint)\n",
        "  points.append((prevPoint[0], prevPoint[1]-z_length))\n",
        "  points.append((prevPoint[0]-x_length, prevPoint[1]-z_length))\n",
        "\n",
        "  grating = td.PolySlab(vertices=points,\n",
        "                        axis=axis,\n",
        "                        slab_bounds=(-thickness/2, thickness/2),\n",
        "                        sidewall_angle=sidewall_angle,\n",
        "                        reference_plane=reference_plane\n",
        "                        )\n",
        "\n",
        "  structure = td.Structure(geometry=grating, medium=medium)\n",
        "\n",
        "  return [structure]"
      ],
      "metadata": {
        "id": "TxfyN1grpZHY"
      },
      "execution_count": null,
      "outputs": []
    },
    {
      "cell_type": "code",
      "source": [],
      "metadata": {
        "id": "Cakc2Pn06VEt"
      },
      "execution_count": null,
      "outputs": []
    }
  ]
}
