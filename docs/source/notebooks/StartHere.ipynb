{
 "cells": [
  {
   "cell_type": "markdown",
   "id": "e8df7288",
   "metadata": {},
   "source": [
    "# Basic simulation template\n",
    "\n",
    "This is a basic Tidy3D script showing the FDTD simulation of a delectric cube in the presence of a point dipole."
   ]
  },
  {
   "cell_type": "code",
   "execution_count": 1,
   "id": "19787f48-98be-4f65-8fd1-7f46c398ca86",
   "metadata": {
    "tags": []
   },
   "outputs": [],
   "source": [
    "# import packages and authenticate (if needed)\n",
    "import numpy as np\n",
    "import matplotlib.pylab as plt\n",
    "\n",
    "import tidy3d as td\n",
    "import tidy3d.web as web\n",
    "# web.configure(\"YOUR API KEY GOES HERE\")"
   ]
  },
  {
   "cell_type": "code",
   "execution_count": 2,
   "id": "8a6c56eb-149c-4691-bd4a-7b48e8127933",
   "metadata": {
    "tags": []
   },
   "outputs": [],
   "source": [
    "# set up parameters of simulation (length scales are micrometers)\n",
    "freq0 = td.C_0 / 0.75"
   ]
  },
  {
   "cell_type": "code",
   "execution_count": 3,
   "id": "269efda8-682f-4358-a052-58191856efc0",
   "metadata": {
    "tags": []
   },
   "outputs": [],
   "source": [
    "# create structure\n",
    "square = td.Structure(\n",
    "    geometry=td.Box(center=(0, 0, 0), size=(1.5, 1.5, 1.5)), \n",
    "    medium=td.Medium(permittivity=2.0)\n",
    ")"
   ]
  },
  {
   "cell_type": "code",
   "execution_count": 4,
   "id": "d1b33707-0a3a-4d21-89e3-730883b80753",
   "metadata": {
    "tags": []
   },
   "outputs": [],
   "source": [
    "# create source\n",
    "source = td.UniformCurrentSource(\n",
    "    center=(-1.5, 0, 0),\n",
    "    size=(0, 0.4, 0.4),\n",
    "    source_time=td.GaussianPulse(freq0=freq0, fwidth=freq0 / 10.0),\n",
    "    polarization=\"Ey\",\n",
    ")"
   ]
  },
  {
   "cell_type": "code",
   "execution_count": 5,
   "id": "dfbc36f5-2073-4b17-945e-500fd2c0d6c4",
   "metadata": {
    "tags": []
   },
   "outputs": [],
   "source": [
    "# create monitor\n",
    "monitor = td.FieldMonitor(\n",
    "    size=(td.inf, td.inf, 0),\n",
    "    freqs=[freq0],\n",
    "    name=\"fields\",\n",
    "    colocate=True,\n",
    ")"
   ]
  },
  {
   "cell_type": "code",
   "execution_count": 6,
   "id": "8c735e33-7021-4193-9ab6-9860ae0d8a97",
   "metadata": {
    "tags": []
   },
   "outputs": [],
   "source": [
    "# Initialize simulation\n",
    "sim = td.Simulation(\n",
    "    size=(4, 3, 3),\n",
    "    grid_spec=td.GridSpec.auto(min_steps_per_wvl=25),\n",
    "    structures=[square],\n",
    "    sources=[source],\n",
    "    monitors=[monitor],\n",
    "    run_time=120/freq0,\n",
    ")"
   ]
  },
  {
   "cell_type": "code",
   "execution_count": 7,
   "id": "9fd94b52-2751-4e74-a107-8d94c7274c9d",
   "metadata": {
    "tags": []
   },
   "outputs": [
    {
     "data": {
      "text/html": [
       "\n",
       "    <iframe id=\"simulation-viewer169444071396856451\" src=https://feature-simulation-viewer.d3a9gfg7glllfq.amplifyapp.com/simulation-viewer?uuid=169444071396856451 width=\"800\" height=\"800\"></iframe>\n",
       "    <script>\n",
       "        \n",
       "    window.postMessageToViewer169444071396856451 = event => {\n",
       "        if(event.data.type === 'viewer'&&event.data.uuid==='169444071396856451'){\n",
       "            document.getElementById('simulation-viewer169444071396856451').contentWindow.postMessage({ type: 'jupyter', uuid:'169444071396856451', value:{\n",
       "    \"type\": \"Simulation\",\n",
       "    \"center\": [\n",
       "        0.0,\n",
       "        0.0,\n",
       "        0.0\n",
       "    ],\n",
       "    \"size\": [\n",
       "        4.0,\n",
       "        3.0,\n",
       "        3.0\n",
       "    ],\n",
       "    \"run_time\": 3.0020768567833687e-13,\n",
       "    \"medium\": {\n",
       "        \"name\": null,\n",
       "        \"frequency_range\": null,\n",
       "        \"allow_gain\": false,\n",
       "        \"type\": \"Medium\",\n",
       "        \"permittivity\": 1.0,\n",
       "        \"conductivity\": 0.0\n",
       "    },\n",
       "    \"symmetry\": [\n",
       "        0,\n",
       "        0,\n",
       "        0\n",
       "    ],\n",
       "    \"structures\": [\n",
       "        {\n",
       "            \"geometry\": {\n",
       "                \"type\": \"Box\",\n",
       "                \"center\": [\n",
       "                    0.0,\n",
       "                    0.0,\n",
       "                    0.0\n",
       "                ],\n",
       "                \"size\": [\n",
       "                    1.5,\n",
       "                    1.5,\n",
       "                    1.5\n",
       "                ]\n",
       "            },\n",
       "            \"name\": null,\n",
       "            \"type\": \"Structure\",\n",
       "            \"medium\": {\n",
       "                \"name\": null,\n",
       "                \"frequency_range\": null,\n",
       "                \"allow_gain\": false,\n",
       "                \"type\": \"Medium\",\n",
       "                \"permittivity\": 2.0,\n",
       "                \"conductivity\": 0.0\n",
       "            }\n",
       "        }\n",
       "    ],\n",
       "    \"sources\": [\n",
       "        {\n",
       "            \"type\": \"UniformCurrentSource\",\n",
       "            \"center\": [\n",
       "                -1.5,\n",
       "                0.0,\n",
       "                0.0\n",
       "            ],\n",
       "            \"size\": [\n",
       "                0.0,\n",
       "                0.4,\n",
       "                0.4\n",
       "            ],\n",
       "            \"source_time\": {\n",
       "                \"amplitude\": 1.0,\n",
       "                \"phase\": 0.0,\n",
       "                \"type\": \"GaussianPulse\",\n",
       "                \"freq0\": 399723277333333.3,\n",
       "                \"fwidth\": 39972327733333.33,\n",
       "                \"offset\": 5.0\n",
       "            },\n",
       "            \"name\": null,\n",
       "            \"interpolate\": true,\n",
       "            \"polarization\": \"Ey\"\n",
       "        }\n",
       "    ],\n",
       "    \"boundary_spec\": {\n",
       "        \"x\": {\n",
       "            \"plus\": {\n",
       "                \"name\": null,\n",
       "                \"type\": \"PML\",\n",
       "                \"num_layers\": 12,\n",
       "                \"parameters\": {\n",
       "                    \"sigma_order\": 3,\n",
       "                    \"sigma_min\": 0.0,\n",
       "                    \"sigma_max\": 1.5,\n",
       "                    \"type\": \"PMLParams\",\n",
       "                    \"kappa_order\": 3,\n",
       "                    \"kappa_min\": 1.0,\n",
       "                    \"kappa_max\": 3.0,\n",
       "                    \"alpha_order\": 1,\n",
       "                    \"alpha_min\": 0.0,\n",
       "                    \"alpha_max\": 0.0\n",
       "                }\n",
       "            },\n",
       "            \"minus\": {\n",
       "                \"name\": null,\n",
       "                \"type\": \"PML\",\n",
       "                \"num_layers\": 12,\n",
       "                \"parameters\": {\n",
       "                    \"sigma_order\": 3,\n",
       "                    \"sigma_min\": 0.0,\n",
       "                    \"sigma_max\": 1.5,\n",
       "                    \"type\": \"PMLParams\",\n",
       "                    \"kappa_order\": 3,\n",
       "                    \"kappa_min\": 1.0,\n",
       "                    \"kappa_max\": 3.0,\n",
       "                    \"alpha_order\": 1,\n",
       "                    \"alpha_min\": 0.0,\n",
       "                    \"alpha_max\": 0.0\n",
       "                }\n",
       "            },\n",
       "            \"type\": \"Boundary\"\n",
       "        },\n",
       "        \"y\": {\n",
       "            \"plus\": {\n",
       "                \"name\": null,\n",
       "                \"type\": \"PML\",\n",
       "                \"num_layers\": 12,\n",
       "                \"parameters\": {\n",
       "                    \"sigma_order\": 3,\n",
       "                    \"sigma_min\": 0.0,\n",
       "                    \"sigma_max\": 1.5,\n",
       "                    \"type\": \"PMLParams\",\n",
       "                    \"kappa_order\": 3,\n",
       "                    \"kappa_min\": 1.0,\n",
       "                    \"kappa_max\": 3.0,\n",
       "                    \"alpha_order\": 1,\n",
       "                    \"alpha_min\": 0.0,\n",
       "                    \"alpha_max\": 0.0\n",
       "                }\n",
       "            },\n",
       "            \"minus\": {\n",
       "                \"name\": null,\n",
       "                \"type\": \"PML\",\n",
       "                \"num_layers\": 12,\n",
       "                \"parameters\": {\n",
       "                    \"sigma_order\": 3,\n",
       "                    \"sigma_min\": 0.0,\n",
       "                    \"sigma_max\": 1.5,\n",
       "                    \"type\": \"PMLParams\",\n",
       "                    \"kappa_order\": 3,\n",
       "                    \"kappa_min\": 1.0,\n",
       "                    \"kappa_max\": 3.0,\n",
       "                    \"alpha_order\": 1,\n",
       "                    \"alpha_min\": 0.0,\n",
       "                    \"alpha_max\": 0.0\n",
       "                }\n",
       "            },\n",
       "            \"type\": \"Boundary\"\n",
       "        },\n",
       "        \"z\": {\n",
       "            \"plus\": {\n",
       "                \"name\": null,\n",
       "                \"type\": \"PML\",\n",
       "                \"num_layers\": 12,\n",
       "                \"parameters\": {\n",
       "                    \"sigma_order\": 3,\n",
       "                    \"sigma_min\": 0.0,\n",
       "                    \"sigma_max\": 1.5,\n",
       "                    \"type\": \"PMLParams\",\n",
       "                    \"kappa_order\": 3,\n",
       "                    \"kappa_min\": 1.0,\n",
       "                    \"kappa_max\": 3.0,\n",
       "                    \"alpha_order\": 1,\n",
       "                    \"alpha_min\": 0.0,\n",
       "                    \"alpha_max\": 0.0\n",
       "                }\n",
       "            },\n",
       "            \"minus\": {\n",
       "                \"name\": null,\n",
       "                \"type\": \"PML\",\n",
       "                \"num_layers\": 12,\n",
       "                \"parameters\": {\n",
       "                    \"sigma_order\": 3,\n",
       "                    \"sigma_min\": 0.0,\n",
       "                    \"sigma_max\": 1.5,\n",
       "                    \"type\": \"PMLParams\",\n",
       "                    \"kappa_order\": 3,\n",
       "                    \"kappa_min\": 1.0,\n",
       "                    \"kappa_max\": 3.0,\n",
       "                    \"alpha_order\": 1,\n",
       "                    \"alpha_min\": 0.0,\n",
       "                    \"alpha_max\": 0.0\n",
       "                }\n",
       "            },\n",
       "            \"type\": \"Boundary\"\n",
       "        },\n",
       "        \"type\": \"BoundarySpec\"\n",
       "    },\n",
       "    \"monitors\": [\n",
       "        {\n",
       "            \"type\": \"FieldMonitor\",\n",
       "            \"center\": [\n",
       "                0.0,\n",
       "                0.0,\n",
       "                0.0\n",
       "            ],\n",
       "            \"size\": [\n",
       "                \"Infinity\",\n",
       "                \"Infinity\",\n",
       "                0.0\n",
       "            ],\n",
       "            \"name\": \"fields\",\n",
       "            \"freqs\": [\n",
       "                399723277333333.3\n",
       "            ],\n",
       "            \"apodization\": {\n",
       "                \"start\": null,\n",
       "                \"end\": null,\n",
       "                \"width\": null,\n",
       "                \"type\": \"ApodizationSpec\"\n",
       "            },\n",
       "            \"fields\": [\n",
       "                \"Ex\",\n",
       "                \"Ey\",\n",
       "                \"Ez\",\n",
       "                \"Hx\",\n",
       "                \"Hy\",\n",
       "                \"Hz\"\n",
       "            ],\n",
       "            \"interval_space\": [\n",
       "                1,\n",
       "                1,\n",
       "                1\n",
       "            ],\n",
       "            \"colocate\": true\n",
       "        }\n",
       "    ],\n",
       "    \"grid_spec\": {\n",
       "        \"grid_x\": {\n",
       "            \"type\": \"AutoGrid\",\n",
       "            \"min_steps_per_wvl\": 25.0,\n",
       "            \"max_scale\": 1.4,\n",
       "            \"dl_min\": 0.0,\n",
       "            \"mesher\": {\n",
       "                \"type\": \"GradedMesher\"\n",
       "            }\n",
       "        },\n",
       "        \"grid_y\": {\n",
       "            \"type\": \"AutoGrid\",\n",
       "            \"min_steps_per_wvl\": 25.0,\n",
       "            \"max_scale\": 1.4,\n",
       "            \"dl_min\": 0.0,\n",
       "            \"mesher\": {\n",
       "                \"type\": \"GradedMesher\"\n",
       "            }\n",
       "        },\n",
       "        \"grid_z\": {\n",
       "            \"type\": \"AutoGrid\",\n",
       "            \"min_steps_per_wvl\": 25.0,\n",
       "            \"max_scale\": 1.4,\n",
       "            \"dl_min\": 0.0,\n",
       "            \"mesher\": {\n",
       "                \"type\": \"GradedMesher\"\n",
       "            }\n",
       "        },\n",
       "        \"wavelength\": null,\n",
       "        \"override_structures\": [],\n",
       "        \"type\": \"GridSpec\"\n",
       "    },\n",
       "    \"shutoff\": 1e-05,\n",
       "    \"subpixel\": true,\n",
       "    \"normalize_index\": 0,\n",
       "    \"courant\": 0.99,\n",
       "    \"version\": \"2.3.3\"\n",
       "}}, '*')\n",
       "        }\n",
       "    };\n",
       "    window.addEventListener(\n",
       "        'message',\n",
       "        window.postMessageToViewer169444071396856451,\n",
       "        false\n",
       "    );\n",
       "    \n",
       "    </script>\n",
       "    "
      ],
      "text/plain": [
       "<IPython.core.display.HTML object>"
      ]
     },
     "metadata": {},
     "output_type": "display_data"
    }
   ],
   "source": [
    "# visualize in 3D\n",
    "sim.plot_3d()"
   ]
  },
  {
   "cell_type": "code",
   "execution_count": 8,
   "id": "0d73a70a",
   "metadata": {
    "tags": []
   },
   "outputs": [],
   "source": [
    "# set up parameters of simulation (length scales are micrometers)\n",
    "grid_cells_per_wvl = 30\n",
    "pml = td.PML()\n",
    "sim_size = (4, 4, 4)\n",
    "lambda0 = 1.0\n",
    "freq0 = td.C_0 / lambda0\n",
    "fwidth = freq0 / 10.0\n",
    "run_time = 12.0 / fwidth\n",
    "\n",
    "# create structure\n",
    "dielectric = td.Medium.from_nk(n=2, k=0, freq=freq0)\n",
    "square = td.Structure(\n",
    "    geometry=td.Box(center=(0, 0, 0), size=(1.5, 1.5, 1.5)), medium=dielectric\n",
    ")\n",
    "\n",
    "# create source\n",
    "source = td.UniformCurrentSource(\n",
    "    center=(-1.5, 0, 0),\n",
    "    size=(0, 0.4, 0.4),\n",
    "    source_time=td.GaussianPulse(freq0=freq0, fwidth=fwidth),\n",
    "    polarization=\"Ey\",\n",
    ")\n",
    "\n",
    "# create monitor\n",
    "monitor = td.FieldMonitor(\n",
    "    fields=[\"Ex\", \"Ey\", \"Hz\"],\n",
    "    center=(0, 0, 0),\n",
    "    size=(td.inf, td.inf, 0),\n",
    "    freqs=[freq0],\n",
    "    name=\"fields_on_plane\",\n",
    ")\n",
    "\n",
    "# Initialize simulation\n",
    "sim = td.Simulation(\n",
    "    size=sim_size,\n",
    "    grid_spec=td.GridSpec.auto(min_steps_per_wvl=grid_cells_per_wvl),\n",
    "    structures=[square],\n",
    "    sources=[source],\n",
    "    monitors=[monitor],\n",
    "    run_time=run_time,\n",
    "    boundary_spec=td.BoundarySpec.all_sides(boundary=td.PML()),\n",
    ")\n"
   ]
  },
  {
   "cell_type": "code",
   "execution_count": 9,
   "id": "21f75a2a",
   "metadata": {},
   "outputs": [
    {
     "name": "stdout",
     "output_type": "stream",
     "text": [
      "simulation grid is shaped [192, 192, 192] for 7 million cells.\n"
     ]
    }
   ],
   "source": [
    "print(\n",
    "    f\"simulation grid is shaped {sim.grid.num_cells} for {int(np.prod(sim.grid.num_cells)/1e6)} million cells.\"\n",
    ")\n"
   ]
  },
  {
   "cell_type": "code",
   "execution_count": 10,
   "id": "53e62b20-bddd-4dc7-be88-c8dab6de5377",
   "metadata": {
    "tags": []
   },
   "outputs": [
    {
     "data": {
      "text/html": [
       "<pre style=\"white-space:pre;overflow-x:auto;line-height:normal;font-family:Menlo,'DejaVu Sans Mono',consolas,'Courier New',monospace\"><span style=\"color: #7fbfbf; text-decoration-color: #7fbfbf\">[09:58:34] </span>Created task <span style=\"color: #008000; text-decoration-color: #008000\">'quickstart'</span> with task_id <span style=\"color: #008000; text-decoration-color: #008000\">'fdve-2e18b02a-4e0f-45ca-b68b-a681d2fae473v1'</span>.      <a href=\"file:///Users/twhughes/Documents/Flexcompute/tidy3d-docs/tidy3d/tidy3d/web/webapi.py\" target=\"_blank\"><span style=\"color: #7f7f7f; text-decoration-color: #7f7f7f\">webapi.py</span></a><span style=\"color: #7f7f7f; text-decoration-color: #7f7f7f\">:</span><a href=\"file:///Users/twhughes/Documents/Flexcompute/tidy3d-docs/tidy3d/tidy3d/web/webapi.py#189\" target=\"_blank\"><span style=\"color: #7f7f7f; text-decoration-color: #7f7f7f\">189</span></a>\n",
       "</pre>\n"
      ],
      "text/plain": [
       "\u001b[2;36m[09:58:34]\u001b[0m\u001b[2;36m \u001b[0mCreated task \u001b[32m'quickstart'\u001b[0m with task_id \u001b[32m'fdve-2e18b02a-4e0f-45ca-b68b-a681d2fae473v1'\u001b[0m.      \u001b]8;id=567757;file:///Users/twhughes/Documents/Flexcompute/tidy3d-docs/tidy3d/tidy3d/web/webapi.py\u001b\\\u001b[2mwebapi.py\u001b[0m\u001b]8;;\u001b\\\u001b[2m:\u001b[0m\u001b]8;id=854220;file:///Users/twhughes/Documents/Flexcompute/tidy3d-docs/tidy3d/tidy3d/web/webapi.py#189\u001b\\\u001b[2m189\u001b[0m\u001b]8;;\u001b\\\n"
      ]
     },
     "metadata": {},
     "output_type": "display_data"
    },
    {
     "data": {
      "text/html": [
       "<pre style=\"white-space:pre;overflow-x:auto;line-height:normal;font-family:Menlo,'DejaVu Sans Mono',consolas,'Courier New',monospace\"><span style=\"color: #7fbfbf; text-decoration-color: #7fbfbf\">           </span>View task using web UI at                                                                  <a href=\"file:///Users/twhughes/Documents/Flexcompute/tidy3d-docs/tidy3d/tidy3d/web/webapi.py\" target=\"_blank\"><span style=\"color: #7f7f7f; text-decoration-color: #7f7f7f\">webapi.py</span></a><span style=\"color: #7f7f7f; text-decoration-color: #7f7f7f\">:</span><a href=\"file:///Users/twhughes/Documents/Flexcompute/tidy3d-docs/tidy3d/tidy3d/web/webapi.py#191\" target=\"_blank\"><span style=\"color: #7f7f7f; text-decoration-color: #7f7f7f\">191</span></a>\n",
       "<span style=\"color: #7fbfbf; text-decoration-color: #7fbfbf\">           </span><a href=\"https://tidy3d.simulation.cloud/workbench?taskId=fdve-2e18b02a-4e0f-45ca-b68b-a681d2fae473v1\" target=\"_blank\"><span style=\"color: #008000; text-decoration-color: #008000\">'https://tidy3d.simulation.cloud/workbench?taskId=fdve-2e18b02a-4e0f-45ca-b68b-a681d2fae47</span></a> <span style=\"color: #7f7f7f; text-decoration-color: #7f7f7f\">             </span>\n",
       "<span style=\"color: #7fbfbf; text-decoration-color: #7fbfbf\">           </span><a href=\"https://tidy3d.simulation.cloud/workbench?taskId=fdve-2e18b02a-4e0f-45ca-b68b-a681d2fae473v1\" target=\"_blank\"><span style=\"color: #008000; text-decoration-color: #008000\">3v1'</span></a>.                                                                                      <span style=\"color: #7f7f7f; text-decoration-color: #7f7f7f\">             </span>\n",
       "</pre>\n"
      ],
      "text/plain": [
       "\u001b[2;36m          \u001b[0m\u001b[2;36m \u001b[0mView task using web UI at                                                                  \u001b]8;id=933349;file:///Users/twhughes/Documents/Flexcompute/tidy3d-docs/tidy3d/tidy3d/web/webapi.py\u001b\\\u001b[2mwebapi.py\u001b[0m\u001b]8;;\u001b\\\u001b[2m:\u001b[0m\u001b]8;id=157864;file:///Users/twhughes/Documents/Flexcompute/tidy3d-docs/tidy3d/tidy3d/web/webapi.py#191\u001b\\\u001b[2m191\u001b[0m\u001b]8;;\u001b\\\n",
       "\u001b[2;36m           \u001b[0m\u001b]8;id=51028;https://tidy3d.simulation.cloud/workbench?taskId=fdve-2e18b02a-4e0f-45ca-b68b-a681d2fae473v1\u001b\\\u001b[32m'https://tidy3d.simulation.cloud/workbench?\u001b[0m\u001b]8;;\u001b\\\u001b]8;id=525661;https://tidy3d.simulation.cloud/workbench?taskId=fdve-2e18b02a-4e0f-45ca-b68b-a681d2fae473v1\u001b\\\u001b[32mtaskId\u001b[0m\u001b]8;;\u001b\\\u001b]8;id=51028;https://tidy3d.simulation.cloud/workbench?taskId=fdve-2e18b02a-4e0f-45ca-b68b-a681d2fae473v1\u001b\\\u001b[32m=\u001b[0m\u001b]8;;\u001b\\\u001b]8;id=761523;https://tidy3d.simulation.cloud/workbench?taskId=fdve-2e18b02a-4e0f-45ca-b68b-a681d2fae473v1\u001b\\\u001b[32mfdve\u001b[0m\u001b]8;;\u001b\\\u001b]8;id=51028;https://tidy3d.simulation.cloud/workbench?taskId=fdve-2e18b02a-4e0f-45ca-b68b-a681d2fae473v1\u001b\\\u001b[32m-2e18b02a-4e0f-45ca-b68b-a681d2fae47\u001b[0m\u001b]8;;\u001b\\ \u001b[2m             \u001b[0m\n",
       "\u001b[2;36m           \u001b[0m\u001b]8;id=51028;https://tidy3d.simulation.cloud/workbench?taskId=fdve-2e18b02a-4e0f-45ca-b68b-a681d2fae473v1\u001b\\\u001b[32m3v1'\u001b[0m\u001b]8;;\u001b\\.                                                                                      \u001b[2m             \u001b[0m\n"
      ]
     },
     "metadata": {},
     "output_type": "display_data"
    },
    {
     "data": {
      "application/vnd.jupyter.widget-view+json": {
       "model_id": "c69fe35e78ab45f286aa9cf5cc6c943a",
       "version_major": 2,
       "version_minor": 0
      },
      "text/plain": [
       "Output()"
      ]
     },
     "metadata": {},
     "output_type": "display_data"
    },
    {
     "data": {
      "text/html": [
       "<pre style=\"white-space:pre;overflow-x:auto;line-height:normal;font-family:Menlo,'DejaVu Sans Mono',consolas,'Courier New',monospace\"></pre>\n"
      ],
      "text/plain": []
     },
     "metadata": {},
     "output_type": "display_data"
    },
    {
     "data": {
      "text/html": [
       "<pre style=\"white-space:pre;overflow-x:auto;line-height:normal;font-family:Menlo,'DejaVu Sans Mono',consolas,'Courier New',monospace\">\n",
       "</pre>\n"
      ],
      "text/plain": [
       "\n"
      ]
     },
     "metadata": {},
     "output_type": "display_data"
    },
    {
     "data": {
      "text/html": [
       "<pre style=\"white-space:pre;overflow-x:auto;line-height:normal;font-family:Menlo,'DejaVu Sans Mono',consolas,'Courier New',monospace\"><span style=\"color: #7fbfbf; text-decoration-color: #7fbfbf\">[09:58:36] </span>status = queued                                                                            <a href=\"file:///Users/twhughes/Documents/Flexcompute/tidy3d-docs/tidy3d/tidy3d/web/webapi.py\" target=\"_blank\"><span style=\"color: #7f7f7f; text-decoration-color: #7f7f7f\">webapi.py</span></a><span style=\"color: #7f7f7f; text-decoration-color: #7f7f7f\">:</span><a href=\"file:///Users/twhughes/Documents/Flexcompute/tidy3d-docs/tidy3d/tidy3d/web/webapi.py#363\" target=\"_blank\"><span style=\"color: #7f7f7f; text-decoration-color: #7f7f7f\">363</span></a>\n",
       "</pre>\n"
      ],
      "text/plain": [
       "\u001b[2;36m[09:58:36]\u001b[0m\u001b[2;36m \u001b[0mstatus = queued                                                                            \u001b]8;id=450090;file:///Users/twhughes/Documents/Flexcompute/tidy3d-docs/tidy3d/tidy3d/web/webapi.py\u001b\\\u001b[2mwebapi.py\u001b[0m\u001b]8;;\u001b\\\u001b[2m:\u001b[0m\u001b]8;id=746666;file:///Users/twhughes/Documents/Flexcompute/tidy3d-docs/tidy3d/tidy3d/web/webapi.py#363\u001b\\\u001b[2m363\u001b[0m\u001b]8;;\u001b\\\n"
      ]
     },
     "metadata": {},
     "output_type": "display_data"
    },
    {
     "data": {
      "application/vnd.jupyter.widget-view+json": {
       "model_id": "",
       "version_major": 2,
       "version_minor": 0
      },
      "text/plain": [
       "Output()"
      ]
     },
     "metadata": {},
     "output_type": "display_data"
    },
    {
     "data": {
      "text/html": [
       "<pre style=\"white-space:pre;overflow-x:auto;line-height:normal;font-family:Menlo,'DejaVu Sans Mono',consolas,'Courier New',monospace\"><span style=\"color: #7fbfbf; text-decoration-color: #7fbfbf\">[09:58:39] </span>status = preprocess                                                                        <a href=\"file:///Users/twhughes/Documents/Flexcompute/tidy3d-docs/tidy3d/tidy3d/web/webapi.py\" target=\"_blank\"><span style=\"color: #7f7f7f; text-decoration-color: #7f7f7f\">webapi.py</span></a><span style=\"color: #7f7f7f; text-decoration-color: #7f7f7f\">:</span><a href=\"file:///Users/twhughes/Documents/Flexcompute/tidy3d-docs/tidy3d/tidy3d/web/webapi.py#357\" target=\"_blank\"><span style=\"color: #7f7f7f; text-decoration-color: #7f7f7f\">357</span></a>\n",
       "</pre>\n"
      ],
      "text/plain": [
       "\u001b[2;36m[09:58:39]\u001b[0m\u001b[2;36m \u001b[0mstatus = preprocess                                                                        \u001b]8;id=399548;file:///Users/twhughes/Documents/Flexcompute/tidy3d-docs/tidy3d/tidy3d/web/webapi.py\u001b\\\u001b[2mwebapi.py\u001b[0m\u001b]8;;\u001b\\\u001b[2m:\u001b[0m\u001b]8;id=875609;file:///Users/twhughes/Documents/Flexcompute/tidy3d-docs/tidy3d/tidy3d/web/webapi.py#357\u001b\\\u001b[2m357\u001b[0m\u001b]8;;\u001b\\\n"
      ]
     },
     "metadata": {},
     "output_type": "display_data"
    },
    {
     "data": {
      "text/html": [
       "<pre style=\"white-space:pre;overflow-x:auto;line-height:normal;font-family:Menlo,'DejaVu Sans Mono',consolas,'Courier New',monospace\"></pre>\n"
      ],
      "text/plain": []
     },
     "metadata": {},
     "output_type": "display_data"
    },
    {
     "data": {
      "text/html": [
       "<pre style=\"white-space:pre;overflow-x:auto;line-height:normal;font-family:Menlo,'DejaVu Sans Mono',consolas,'Courier New',monospace\"><span style=\"color: #7fbfbf; text-decoration-color: #7fbfbf\">[09:58:44] </span>Maximum FlexCredit cost: <span style=\"color: #008080; text-decoration-color: #008080; font-weight: bold\">0.028</span>. Use <span style=\"color: #008000; text-decoration-color: #008000\">'web.real_cost(task_id)'</span> to get the billed FlexCredit  <a href=\"file:///Users/twhughes/Documents/Flexcompute/tidy3d-docs/tidy3d/tidy3d/web/webapi.py\" target=\"_blank\"><span style=\"color: #7f7f7f; text-decoration-color: #7f7f7f\">webapi.py</span></a><span style=\"color: #7f7f7f; text-decoration-color: #7f7f7f\">:</span><a href=\"file:///Users/twhughes/Documents/Flexcompute/tidy3d-docs/tidy3d/tidy3d/web/webapi.py#343\" target=\"_blank\"><span style=\"color: #7f7f7f; text-decoration-color: #7f7f7f\">343</span></a>\n",
       "<span style=\"color: #7fbfbf; text-decoration-color: #7fbfbf\">           </span>cost after a simulation run.                                                               <span style=\"color: #7f7f7f; text-decoration-color: #7f7f7f\">             </span>\n",
       "</pre>\n"
      ],
      "text/plain": [
       "\u001b[2;36m[09:58:44]\u001b[0m\u001b[2;36m \u001b[0mMaximum FlexCredit cost: \u001b[1;36m0.028\u001b[0m. Use \u001b[32m'web.real_cost\u001b[0m\u001b[32m(\u001b[0m\u001b[32mtask_id\u001b[0m\u001b[32m)\u001b[0m\u001b[32m'\u001b[0m to get the billed FlexCredit  \u001b]8;id=282600;file:///Users/twhughes/Documents/Flexcompute/tidy3d-docs/tidy3d/tidy3d/web/webapi.py\u001b\\\u001b[2mwebapi.py\u001b[0m\u001b]8;;\u001b\\\u001b[2m:\u001b[0m\u001b]8;id=684734;file:///Users/twhughes/Documents/Flexcompute/tidy3d-docs/tidy3d/tidy3d/web/webapi.py#343\u001b\\\u001b[2m343\u001b[0m\u001b]8;;\u001b\\\n",
       "\u001b[2;36m           \u001b[0mcost after a simulation run.                                                               \u001b[2m             \u001b[0m\n"
      ]
     },
     "metadata": {},
     "output_type": "display_data"
    },
    {
     "data": {
      "text/html": [
       "<pre style=\"white-space:pre;overflow-x:auto;line-height:normal;font-family:Menlo,'DejaVu Sans Mono',consolas,'Courier New',monospace\"><span style=\"color: #7fbfbf; text-decoration-color: #7fbfbf\">           </span>starting up solver                                                                         <a href=\"file:///Users/twhughes/Documents/Flexcompute/tidy3d-docs/tidy3d/tidy3d/web/webapi.py\" target=\"_blank\"><span style=\"color: #7f7f7f; text-decoration-color: #7f7f7f\">webapi.py</span></a><span style=\"color: #7f7f7f; text-decoration-color: #7f7f7f\">:</span><a href=\"file:///Users/twhughes/Documents/Flexcompute/tidy3d-docs/tidy3d/tidy3d/web/webapi.py#379\" target=\"_blank\"><span style=\"color: #7f7f7f; text-decoration-color: #7f7f7f\">379</span></a>\n",
       "</pre>\n"
      ],
      "text/plain": [
       "\u001b[2;36m          \u001b[0m\u001b[2;36m \u001b[0mstarting up solver                                                                         \u001b]8;id=661581;file:///Users/twhughes/Documents/Flexcompute/tidy3d-docs/tidy3d/tidy3d/web/webapi.py\u001b\\\u001b[2mwebapi.py\u001b[0m\u001b]8;;\u001b\\\u001b[2m:\u001b[0m\u001b]8;id=30891;file:///Users/twhughes/Documents/Flexcompute/tidy3d-docs/tidy3d/tidy3d/web/webapi.py#379\u001b\\\u001b[2m379\u001b[0m\u001b]8;;\u001b\\\n"
      ]
     },
     "metadata": {},
     "output_type": "display_data"
    },
    {
     "data": {
      "text/html": [
       "<pre style=\"white-space:pre;overflow-x:auto;line-height:normal;font-family:Menlo,'DejaVu Sans Mono',consolas,'Courier New',monospace\"><span style=\"color: #7fbfbf; text-decoration-color: #7fbfbf\">           </span>running solver                                                                             <a href=\"file:///Users/twhughes/Documents/Flexcompute/tidy3d-docs/tidy3d/tidy3d/web/webapi.py\" target=\"_blank\"><span style=\"color: #7f7f7f; text-decoration-color: #7f7f7f\">webapi.py</span></a><span style=\"color: #7f7f7f; text-decoration-color: #7f7f7f\">:</span><a href=\"file:///Users/twhughes/Documents/Flexcompute/tidy3d-docs/tidy3d/tidy3d/web/webapi.py#389\" target=\"_blank\"><span style=\"color: #7f7f7f; text-decoration-color: #7f7f7f\">389</span></a>\n",
       "</pre>\n"
      ],
      "text/plain": [
       "\u001b[2;36m          \u001b[0m\u001b[2;36m \u001b[0mrunning solver                                                                             \u001b]8;id=360351;file:///Users/twhughes/Documents/Flexcompute/tidy3d-docs/tidy3d/tidy3d/web/webapi.py\u001b\\\u001b[2mwebapi.py\u001b[0m\u001b]8;;\u001b\\\u001b[2m:\u001b[0m\u001b]8;id=618876;file:///Users/twhughes/Documents/Flexcompute/tidy3d-docs/tidy3d/tidy3d/web/webapi.py#389\u001b\\\u001b[2m389\u001b[0m\u001b]8;;\u001b\\\n"
      ]
     },
     "metadata": {},
     "output_type": "display_data"
    },
    {
     "data": {
      "text/html": [
       "<pre style=\"white-space:pre;overflow-x:auto;line-height:normal;font-family:Menlo,'DejaVu Sans Mono',consolas,'Courier New',monospace\"><span style=\"color: #7fbfbf; text-decoration-color: #7fbfbf\">           </span>To cancel the simulation, use <span style=\"color: #008000; text-decoration-color: #008000\">'web.delete(task_id)'</span> or delete the task in the web UI.      <a href=\"file:///Users/twhughes/Documents/Flexcompute/tidy3d-docs/tidy3d/tidy3d/web/webapi.py\" target=\"_blank\"><span style=\"color: #7f7f7f; text-decoration-color: #7f7f7f\">webapi.py</span></a><span style=\"color: #7f7f7f; text-decoration-color: #7f7f7f\">:</span><a href=\"file:///Users/twhughes/Documents/Flexcompute/tidy3d-docs/tidy3d/tidy3d/web/webapi.py#390\" target=\"_blank\"><span style=\"color: #7f7f7f; text-decoration-color: #7f7f7f\">390</span></a>\n",
       "<span style=\"color: #7fbfbf; text-decoration-color: #7fbfbf\">           </span>Terminating the Python script will not stop the job running on the cloud.                  <span style=\"color: #7f7f7f; text-decoration-color: #7f7f7f\">             </span>\n",
       "</pre>\n"
      ],
      "text/plain": [
       "\u001b[2;36m          \u001b[0m\u001b[2;36m \u001b[0mTo cancel the simulation, use \u001b[32m'web.delete\u001b[0m\u001b[32m(\u001b[0m\u001b[32mtask_id\u001b[0m\u001b[32m)\u001b[0m\u001b[32m'\u001b[0m or delete the task in the web UI.      \u001b]8;id=950987;file:///Users/twhughes/Documents/Flexcompute/tidy3d-docs/tidy3d/tidy3d/web/webapi.py\u001b\\\u001b[2mwebapi.py\u001b[0m\u001b]8;;\u001b\\\u001b[2m:\u001b[0m\u001b]8;id=691449;file:///Users/twhughes/Documents/Flexcompute/tidy3d-docs/tidy3d/tidy3d/web/webapi.py#390\u001b\\\u001b[2m390\u001b[0m\u001b]8;;\u001b\\\n",
       "\u001b[2;36m           \u001b[0mTerminating the Python script will not stop the job running on the cloud.                  \u001b[2m             \u001b[0m\n"
      ]
     },
     "metadata": {},
     "output_type": "display_data"
    },
    {
     "data": {
      "application/vnd.jupyter.widget-view+json": {
       "model_id": "484c2a1a051a485a9e6433db65933dab",
       "version_major": 2,
       "version_minor": 0
      },
      "text/plain": [
       "Output()"
      ]
     },
     "metadata": {},
     "output_type": "display_data"
    },
    {
     "data": {
      "text/html": [
       "<pre style=\"white-space:pre;overflow-x:auto;line-height:normal;font-family:Menlo,'DejaVu Sans Mono',consolas,'Courier New',monospace\"><span style=\"color: #7fbfbf; text-decoration-color: #7fbfbf\">[09:59:04] </span>early shutoff detected, exiting.                                                           <a href=\"file:///Users/twhughes/Documents/Flexcompute/tidy3d-docs/tidy3d/tidy3d/web/webapi.py\" target=\"_blank\"><span style=\"color: #7f7f7f; text-decoration-color: #7f7f7f\">webapi.py</span></a><span style=\"color: #7f7f7f; text-decoration-color: #7f7f7f\">:</span><a href=\"file:///Users/twhughes/Documents/Flexcompute/tidy3d-docs/tidy3d/tidy3d/web/webapi.py#407\" target=\"_blank\"><span style=\"color: #7f7f7f; text-decoration-color: #7f7f7f\">407</span></a>\n",
       "</pre>\n"
      ],
      "text/plain": [
       "\u001b[2;36m[09:59:04]\u001b[0m\u001b[2;36m \u001b[0mearly shutoff detected, exiting.                                                           \u001b]8;id=276855;file:///Users/twhughes/Documents/Flexcompute/tidy3d-docs/tidy3d/tidy3d/web/webapi.py\u001b\\\u001b[2mwebapi.py\u001b[0m\u001b]8;;\u001b\\\u001b[2m:\u001b[0m\u001b]8;id=772207;file:///Users/twhughes/Documents/Flexcompute/tidy3d-docs/tidy3d/tidy3d/web/webapi.py#407\u001b\\\u001b[2m407\u001b[0m\u001b]8;;\u001b\\\n"
      ]
     },
     "metadata": {},
     "output_type": "display_data"
    },
    {
     "data": {
      "text/html": [
       "<pre style=\"white-space:pre;overflow-x:auto;line-height:normal;font-family:Menlo,'DejaVu Sans Mono',consolas,'Courier New',monospace\"></pre>\n"
      ],
      "text/plain": []
     },
     "metadata": {},
     "output_type": "display_data"
    },
    {
     "data": {
      "text/html": [
       "<pre style=\"white-space:pre;overflow-x:auto;line-height:normal;font-family:Menlo,'DejaVu Sans Mono',consolas,'Courier New',monospace\">\n",
       "</pre>\n"
      ],
      "text/plain": [
       "\n"
      ]
     },
     "metadata": {},
     "output_type": "display_data"
    },
    {
     "data": {
      "text/html": [
       "<pre style=\"white-space:pre;overflow-x:auto;line-height:normal;font-family:Menlo,'DejaVu Sans Mono',consolas,'Courier New',monospace\"><span style=\"color: #7fbfbf; text-decoration-color: #7fbfbf\">           </span>status = postprocess                                                                       <a href=\"file:///Users/twhughes/Documents/Flexcompute/tidy3d-docs/tidy3d/tidy3d/web/webapi.py\" target=\"_blank\"><span style=\"color: #7f7f7f; text-decoration-color: #7f7f7f\">webapi.py</span></a><span style=\"color: #7f7f7f; text-decoration-color: #7f7f7f\">:</span><a href=\"file:///Users/twhughes/Documents/Flexcompute/tidy3d-docs/tidy3d/tidy3d/web/webapi.py#424\" target=\"_blank\"><span style=\"color: #7f7f7f; text-decoration-color: #7f7f7f\">424</span></a>\n",
       "</pre>\n"
      ],
      "text/plain": [
       "\u001b[2;36m          \u001b[0m\u001b[2;36m \u001b[0mstatus = postprocess                                                                       \u001b]8;id=751434;file:///Users/twhughes/Documents/Flexcompute/tidy3d-docs/tidy3d/tidy3d/web/webapi.py\u001b\\\u001b[2mwebapi.py\u001b[0m\u001b]8;;\u001b\\\u001b[2m:\u001b[0m\u001b]8;id=971454;file:///Users/twhughes/Documents/Flexcompute/tidy3d-docs/tidy3d/tidy3d/web/webapi.py#424\u001b\\\u001b[2m424\u001b[0m\u001b]8;;\u001b\\\n"
      ]
     },
     "metadata": {},
     "output_type": "display_data"
    },
    {
     "data": {
      "application/vnd.jupyter.widget-view+json": {
       "model_id": "",
       "version_major": 2,
       "version_minor": 0
      },
      "text/plain": [
       "Output()"
      ]
     },
     "metadata": {},
     "output_type": "display_data"
    },
    {
     "data": {
      "text/html": [
       "<pre style=\"white-space:pre;overflow-x:auto;line-height:normal;font-family:Menlo,'DejaVu Sans Mono',consolas,'Courier New',monospace\"><span style=\"color: #7fbfbf; text-decoration-color: #7fbfbf\">[09:59:08] </span>status = success                                                                           <a href=\"file:///Users/twhughes/Documents/Flexcompute/tidy3d-docs/tidy3d/tidy3d/web/webapi.py\" target=\"_blank\"><span style=\"color: #7f7f7f; text-decoration-color: #7f7f7f\">webapi.py</span></a><span style=\"color: #7f7f7f; text-decoration-color: #7f7f7f\">:</span><a href=\"file:///Users/twhughes/Documents/Flexcompute/tidy3d-docs/tidy3d/tidy3d/web/webapi.py#431\" target=\"_blank\"><span style=\"color: #7f7f7f; text-decoration-color: #7f7f7f\">431</span></a>\n",
       "</pre>\n"
      ],
      "text/plain": [
       "\u001b[2;36m[09:59:08]\u001b[0m\u001b[2;36m \u001b[0mstatus = success                                                                           \u001b]8;id=333884;file:///Users/twhughes/Documents/Flexcompute/tidy3d-docs/tidy3d/tidy3d/web/webapi.py\u001b\\\u001b[2mwebapi.py\u001b[0m\u001b]8;;\u001b\\\u001b[2m:\u001b[0m\u001b]8;id=16509;file:///Users/twhughes/Documents/Flexcompute/tidy3d-docs/tidy3d/tidy3d/web/webapi.py#431\u001b\\\u001b[2m431\u001b[0m\u001b]8;;\u001b\\\n"
      ]
     },
     "metadata": {},
     "output_type": "display_data"
    },
    {
     "data": {
      "text/html": [
       "<pre style=\"white-space:pre;overflow-x:auto;line-height:normal;font-family:Menlo,'DejaVu Sans Mono',consolas,'Courier New',monospace\"></pre>\n"
      ],
      "text/plain": []
     },
     "metadata": {},
     "output_type": "display_data"
    },
    {
     "data": {
      "application/vnd.jupyter.widget-view+json": {
       "model_id": "64a63ed1639b47cbaedb0634c18b7fbf",
       "version_major": 2,
       "version_minor": 0
      },
      "text/plain": [
       "Output()"
      ]
     },
     "metadata": {},
     "output_type": "display_data"
    },
    {
     "data": {
      "text/html": [
       "<pre style=\"white-space:pre;overflow-x:auto;line-height:normal;font-family:Menlo,'DejaVu Sans Mono',consolas,'Courier New',monospace\"></pre>\n"
      ],
      "text/plain": []
     },
     "metadata": {},
     "output_type": "display_data"
    },
    {
     "data": {
      "text/html": [
       "<pre style=\"white-space:pre;overflow-x:auto;line-height:normal;font-family:Menlo,'DejaVu Sans Mono',consolas,'Courier New',monospace\">\n",
       "</pre>\n"
      ],
      "text/plain": [
       "\n"
      ]
     },
     "metadata": {},
     "output_type": "display_data"
    },
    {
     "data": {
      "text/html": [
       "<pre style=\"white-space:pre;overflow-x:auto;line-height:normal;font-family:Menlo,'DejaVu Sans Mono',consolas,'Courier New',monospace\"><span style=\"color: #7fbfbf; text-decoration-color: #7fbfbf\">[09:59:10] </span>loading SimulationData from data/data.hdf5                                                 <a href=\"file:///Users/twhughes/Documents/Flexcompute/tidy3d-docs/tidy3d/tidy3d/web/webapi.py\" target=\"_blank\"><span style=\"color: #7f7f7f; text-decoration-color: #7f7f7f\">webapi.py</span></a><span style=\"color: #7f7f7f; text-decoration-color: #7f7f7f\">:</span><a href=\"file:///Users/twhughes/Documents/Flexcompute/tidy3d-docs/tidy3d/tidy3d/web/webapi.py#609\" target=\"_blank\"><span style=\"color: #7f7f7f; text-decoration-color: #7f7f7f\">609</span></a>\n",
       "</pre>\n"
      ],
      "text/plain": [
       "\u001b[2;36m[09:59:10]\u001b[0m\u001b[2;36m \u001b[0mloading SimulationData from data/data.hdf5                                                 \u001b]8;id=90797;file:///Users/twhughes/Documents/Flexcompute/tidy3d-docs/tidy3d/tidy3d/web/webapi.py\u001b\\\u001b[2mwebapi.py\u001b[0m\u001b]8;;\u001b\\\u001b[2m:\u001b[0m\u001b]8;id=289179;file:///Users/twhughes/Documents/Flexcompute/tidy3d-docs/tidy3d/tidy3d/web/webapi.py#609\u001b\\\u001b[2m609\u001b[0m\u001b]8;;\u001b\\\n"
      ]
     },
     "metadata": {},
     "output_type": "display_data"
    }
   ],
   "source": [
    "# run simulation\n",
    "data = td.web.run(sim, task_name=\"quickstart\", path=\"data/data.hdf5\", verbose=True)"
   ]
  },
  {
   "cell_type": "code",
   "execution_count": 11,
   "id": "bfe889fc",
   "metadata": {},
   "outputs": [
    {
     "name": "stdout",
     "output_type": "stream",
     "text": [
      "Simulation domain Nx, Ny, Nz: [192, 192, 192]\n",
      "Applied symmetries: (0, 0, 0)\n",
      "Number of computational grid points: 7.3014e+06.\n",
      "Using subpixel averaging: True\n",
      "Number of time steps: 1.2659e+04\n",
      "Automatic shutoff factor: 1.00e-05\n",
      "Time step (s): 3.1624e-17\n",
      "\n",
      "\n",
      "Compute source modes time (s):     0.0210\n",
      "Compute monitor modes time (s):    0.0025\n",
      "Rest of setup time (s):            2.1051\n",
      "\n",
      "Running solver for 12659 time steps...\n",
      "- Time step    506 / time 1.60e-14s (  4 % done), field decay: 1.00e+00\n",
      "- Time step    839 / time 2.65e-14s (  6 % done), field decay: 1.00e+00\n",
      "- Time step   1012 / time 3.20e-14s (  8 % done), field decay: 1.00e+00\n",
      "- Time step   1519 / time 4.80e-14s ( 12 % done), field decay: 1.44e-01\n",
      "- Time step   2025 / time 6.40e-14s ( 16 % done), field decay: 3.24e-02\n",
      "- Time step   2531 / time 8.00e-14s ( 20 % done), field decay: 1.38e-02\n",
      "- Time step   3038 / time 9.61e-14s ( 24 % done), field decay: 6.96e-03\n",
      "- Time step   3544 / time 1.12e-13s ( 28 % done), field decay: 3.33e-03\n",
      "- Time step   4050 / time 1.28e-13s ( 32 % done), field decay: 2.39e-03\n",
      "- Time step   4557 / time 1.44e-13s ( 36 % done), field decay: 1.64e-03\n",
      "- Time step   5063 / time 1.60e-13s ( 40 % done), field decay: 1.21e-03\n",
      "- Time step   5569 / time 1.76e-13s ( 44 % done), field decay: 7.31e-04\n",
      "- Time step   6076 / time 1.92e-13s ( 48 % done), field decay: 5.03e-04\n",
      "- Time step   6582 / time 2.08e-13s ( 52 % done), field decay: 2.34e-04\n",
      "- Time step   7089 / time 2.24e-13s ( 56 % done), field decay: 1.58e-04\n",
      "- Time step   7595 / time 2.40e-13s ( 60 % done), field decay: 6.85e-05\n",
      "- Time step   8101 / time 2.56e-13s ( 64 % done), field decay: 7.63e-05\n",
      "- Time step   8608 / time 2.72e-13s ( 68 % done), field decay: 4.45e-05\n",
      "- Time step   9114 / time 2.88e-13s ( 72 % done), field decay: 6.23e-05\n",
      "- Time step   9620 / time 3.04e-13s ( 76 % done), field decay: 2.68e-05\n",
      "- Time step  10127 / time 3.20e-13s ( 80 % done), field decay: 3.22e-05\n",
      "- Time step  10633 / time 3.36e-13s ( 84 % done), field decay: 1.45e-05\n",
      "- Time step  11139 / time 3.52e-13s ( 88 % done), field decay: 2.10e-05\n",
      "- Time step  11646 / time 3.68e-13s ( 92 % done), field decay: 5.99e-06\n",
      "Field decay smaller than shutoff factor, exiting solver.\n",
      "\n",
      "Solver time (s):                   15.0995\n",
      "Data write time (s):               0.0068\n",
      "\n"
     ]
    }
   ],
   "source": [
    "# see the log\n",
    "print(data.log)\n"
   ]
  },
  {
   "cell_type": "code",
   "execution_count": 12,
   "id": "a94d3289-58f4-4310-bfad-62046ce48eb8",
   "metadata": {
    "tags": []
   },
   "outputs": [
    {
     "data": {
      "image/png": "[encoded data removed]",
      "text/plain": [
       "<Figure size 640x480 with 2 Axes>"
      ]
     },
     "metadata": {},
     "output_type": "display_data"
    }
   ],
   "source": [
    "# plot the field data stored in the monitor\n",
    "ax = data.plot_field(\"fields_on_plane\", \"Ey\", z=0)"
   ]
  }
 ],
 "metadata": {
  "description": "This notebook serves as a basic simulation template in Tidy3D FDTD. Beginners can adapt this template to run their own simulations.",
  "feature_image": "",
  "kernelspec": {
   "display_name": "Python 3 (ipykernel)",
   "language": "python",
   "name": "python3"
  },
  "keywords": "Tidy3D, FDTD",
  "language_info": {
   "codemirror_mode": {
    "name": "ipython",
    "version": 3
   },
   "file_extension": ".py",
   "mimetype": "text/x-python",
   "name": "python",
   "nbconvert_exporter": "python",
   "pygments_lexer": "ipython3",
   "version": "3.10.9"
  },
  "nbdime-conflicts": {
   "local_diff": [
    {
     "diff": [
      {
       "diff": [
        {
         "key": 0,
         "length": 1,
         "op": "removerange"
        }
       ],
       "key": "version",
       "op": "patch"
      }
     ],
     "key": "language_info",
     "op": "patch"
    }
   ],
   "remote_diff": [
    {
     "diff": [
      {
       "diff": [
        {
         "diff": [
          {
           "key": 5,
           "op": "addrange",
           "valuelist": "9"
          },
          {
           "key": 5,
           "length": 1,
           "op": "removerange"
          }
         ],
         "key": 0,
         "op": "patch"
        }
       ],
       "key": "version",
       "op": "patch"
      }
     ],
     "key": "language_info",
     "op": "patch"
    }
   ]
  },
  "title": "Basic Simulation Template in Tidy3D | Flexcompute",
  "widgets": {
   "application/vnd.jupyter.widget-state+json": {
    "state": {
     "05a1e503b7a6457a8d0330da229762af": {
      "model_module": "@jupyter-widgets/base",
      "model_module_version": "2.0.0",
      "model_name": "LayoutModel",
      "state": {
       "_model_module": "@jupyter-widgets/base",
       "_model_module_version": "2.0.0",
       "_model_name": "LayoutModel",
       "_view_count": null,
       "_view_module": "@jupyter-widgets/base",
       "_view_module_version": "2.0.0",
       "_view_name": "LayoutView",
       "align_content": null,
       "align_items": null,
       "align_self": null,
       "border_bottom": null,
       "border_left": null,
       "border_right": null,
       "border_top": null,
       "bottom": null,
       "display": null,
       "flex": null,
       "flex_flow": null,
       "grid_area": null,
       "grid_auto_columns": null,
       "grid_auto_flow": null,
       "grid_auto_rows": null,
       "grid_column": null,
       "grid_gap": null,
       "grid_row": null,
       "grid_template_areas": null,
       "grid_template_columns": null,
       "grid_template_rows": null,
       "height": null,
       "justify_content": null,
       "justify_items": null,
       "left": null,
       "margin": null,
       "max_height": null,
       "max_width": null,
       "min_height": null,
       "min_width": null,
       "object_fit": null,
       "object_position": null,
       "order": null,
       "overflow": null,
       "padding": null,
       "right": null,
       "top": null,
       "visibility": null,
       "width": null
      }
     },
     "2092cd0e48434573b887ca6476cd1d12": {
      "model_module": "@jupyter-widgets/base",
      "model_module_version": "2.0.0",
      "model_name": "LayoutModel",
      "state": {
       "_model_module": "@jupyter-widgets/base",
       "_model_module_version": "2.0.0",
       "_model_name": "LayoutModel",
       "_view_count": null,
       "_view_module": "@jupyter-widgets/base",
       "_view_module_version": "2.0.0",
       "_view_name": "LayoutView",
       "align_content": null,
       "align_items": null,
       "align_self": null,
       "border_bottom": null,
       "border_left": null,
       "border_right": null,
       "border_top": null,
       "bottom": null,
       "display": null,
       "flex": null,
       "flex_flow": null,
       "grid_area": null,
       "grid_auto_columns": null,
       "grid_auto_flow": null,
       "grid_auto_rows": null,
       "grid_column": null,
       "grid_gap": null,
       "grid_row": null,
       "grid_template_areas": null,
       "grid_template_columns": null,
       "grid_template_rows": null,
       "height": null,
       "justify_content": null,
       "justify_items": null,
       "left": null,
       "margin": null,
       "max_height": null,
       "max_width": null,
       "min_height": null,
       "min_width": null,
       "object_fit": null,
       "object_position": null,
       "order": null,
       "overflow": null,
       "padding": null,
       "right": null,
       "top": null,
       "visibility": null,
       "width": null
      }
     },
     "29adb3b5db634c29bfb3f2973fc484de": {
      "model_module": "@jupyter-widgets/base",
      "model_module_version": "2.0.0",
      "model_name": "LayoutModel",
      "state": {
       "_model_module": "@jupyter-widgets/base",
       "_model_module_version": "2.0.0",
       "_model_name": "LayoutModel",
       "_view_count": null,
       "_view_module": "@jupyter-widgets/base",
       "_view_module_version": "2.0.0",
       "_view_name": "LayoutView",
       "align_content": null,
       "align_items": null,
       "align_self": null,
       "border_bottom": null,
       "border_left": null,
       "border_right": null,
       "border_top": null,
       "bottom": null,
       "display": null,
       "flex": null,
       "flex_flow": null,
       "grid_area": null,
       "grid_auto_columns": null,
       "grid_auto_flow": null,
       "grid_auto_rows": null,
       "grid_column": null,
       "grid_gap": null,
       "grid_row": null,
       "grid_template_areas": null,
       "grid_template_columns": null,
       "grid_template_rows": null,
       "height": null,
       "justify_content": null,
       "justify_items": null,
       "left": null,
       "margin": null,
       "max_height": null,
       "max_width": null,
       "min_height": null,
       "min_width": null,
       "object_fit": null,
       "object_position": null,
       "order": null,
       "overflow": null,
       "padding": null,
       "right": null,
       "top": null,
       "visibility": null,
       "width": null
      }
     },
     "4338890ff430410691c7225567377761": {
      "model_module": "@jupyter-widgets/output",
      "model_module_version": "1.0.0",
      "model_name": "OutputModel",
      "state": {
       "_dom_classes": [],
       "_model_module": "@jupyter-widgets/output",
       "_model_module_version": "1.0.0",
       "_model_name": "OutputModel",
       "_view_count": null,
       "_view_module": "@jupyter-widgets/output",
       "_view_module_version": "1.0.0",
       "_view_name": "OutputView",
       "layout": "IPY_MODEL_5fd8cda451b3476c9392d90f121c27d2",
       "msg_id": "",
       "outputs": [
        {
         "data": {
          "text/html": "<pre style=\"white-space:pre;overflow-x:auto;line-height:normal;font-family:Menlo,'DejaVu Sans Mono',consolas,'Courier New',monospace\"><span style=\"color: #008000; text-decoration-color: #008000; font-weight: bold\">↓</span> <span style=\"color: #000080; text-decoration-color: #000080; font-weight: bold\">monitor_data.hdf5</span> <span style=\"color: #729c1f; text-decoration-color: #729c1f\">━━━━━━━━━━━━━━━</span> <span style=\"color: #800080; text-decoration-color: #800080\">100.0%</span> • <span style=\"color: #008000; text-decoration-color: #008000\">945.8/945.8 kB</span> • <span style=\"color: #800000; text-decoration-color: #800000\">2.1 MB/s</span> • <span style=\"color: #008080; text-decoration-color: #008080\">0:00:00</span>\n</pre>\n",
          "text/plain": "\u001b[1;32m↓\u001b[0m \u001b[1;34mmonitor_data.hdf5\u001b[0m \u001b[38;2;114;156;31m━━━━━━━━━━━━━━━\u001b[0m \u001b[35m100.0%\u001b[0m • \u001b[32m945.8/945.8 kB\u001b[0m • \u001b[31m2.1 MB/s\u001b[0m • \u001b[36m0:00:00\u001b[0m\n"
         },
         "metadata": {},
         "output_type": "display_data"
        }
       ],
       "tabbable": null,
       "tooltip": null
      }
     },
     "5fd8cda451b3476c9392d90f121c27d2": {
      "model_module": "@jupyter-widgets/base",
      "model_module_version": "2.0.0",
      "model_name": "LayoutModel",
      "state": {
       "_model_module": "@jupyter-widgets/base",
       "_model_module_version": "2.0.0",
       "_model_name": "LayoutModel",
       "_view_count": null,
       "_view_module": "@jupyter-widgets/base",
       "_view_module_version": "2.0.0",
       "_view_name": "LayoutView",
       "align_content": null,
       "align_items": null,
       "align_self": null,
       "border_bottom": null,
       "border_left": null,
       "border_right": null,
       "border_top": null,
       "bottom": null,
       "display": null,
       "flex": null,
       "flex_flow": null,
       "grid_area": null,
       "grid_auto_columns": null,
       "grid_auto_flow": null,
       "grid_auto_rows": null,
       "grid_column": null,
       "grid_gap": null,
       "grid_row": null,
       "grid_template_areas": null,
       "grid_template_columns": null,
       "grid_template_rows": null,
       "height": null,
       "justify_content": null,
       "justify_items": null,
       "left": null,
       "margin": null,
       "max_height": null,
       "max_width": null,
       "min_height": null,
       "min_width": null,
       "object_fit": null,
       "object_position": null,
       "order": null,
       "overflow": null,
       "padding": null,
       "right": null,
       "top": null,
       "visibility": null,
       "width": null
      }
     },
     "709061c5e9034b9984468d411e0f0739": {
      "model_module": "@jupyter-widgets/output",
      "model_module_version": "1.0.0",
      "model_name": "OutputModel",
      "state": {
       "_dom_classes": [],
       "_model_module": "@jupyter-widgets/output",
       "_model_module_version": "1.0.0",
       "_model_name": "OutputModel",
       "_view_count": null,
       "_view_module": "@jupyter-widgets/output",
       "_view_module_version": "1.0.0",
       "_view_name": "OutputView",
       "layout": "IPY_MODEL_29adb3b5db634c29bfb3f2973fc484de",
       "msg_id": "",
       "outputs": [
        {
         "data": {
          "text/html": "<pre style=\"white-space:pre;overflow-x:auto;line-height:normal;font-family:Menlo,'DejaVu Sans Mono',consolas,'Courier New',monospace\"><span style=\"color: #800000; text-decoration-color: #800000; font-weight: bold\">↑</span> <span style=\"color: #000080; text-decoration-color: #000080; font-weight: bold\">simulation.hdf5.gz</span> <span style=\"color: #729c1f; text-decoration-color: #729c1f\">━━━━━━━━━━━━━━━━━━━━━━━━━</span> <span style=\"color: #800080; text-decoration-color: #800080\">100.0%</span> • <span style=\"color: #008000; text-decoration-color: #008000\">1.2/1.2 kB</span> • <span style=\"color: #800000; text-decoration-color: #800000\">?</span> • <span style=\"color: #008080; text-decoration-color: #008080\">0:00:00</span>\n</pre>\n",
          "text/plain": "\u001b[1;31m↑\u001b[0m \u001b[1;34msimulation.hdf5.gz\u001b[0m \u001b[38;2;114;156;31m━━━━━━━━━━━━━━━━━━━━━━━━━\u001b[0m \u001b[35m100.0%\u001b[0m • \u001b[32m1.2/1.2 kB\u001b[0m • \u001b[31m?\u001b[0m • \u001b[36m0:00:00\u001b[0m\n"
         },
         "metadata": {},
         "output_type": "display_data"
        }
       ],
       "tabbable": null,
       "tooltip": null
      }
     },
     "7aa5a17756f5445aa57fe0cc7d413232": {
      "model_module": "@jupyter-widgets/output",
      "model_module_version": "1.0.0",
      "model_name": "OutputModel",
      "state": {
       "_dom_classes": [],
       "_model_module": "@jupyter-widgets/output",
       "_model_module_version": "1.0.0",
       "_model_name": "OutputModel",
       "_view_count": null,
       "_view_module": "@jupyter-widgets/output",
       "_view_module_version": "1.0.0",
       "_view_name": "OutputView",
       "layout": "IPY_MODEL_05a1e503b7a6457a8d0330da229762af",
       "msg_id": "",
       "outputs": [
        {
         "data": {
          "text/html": "<pre style=\"white-space:pre;overflow-x:auto;line-height:normal;font-family:Menlo,'DejaVu Sans Mono',consolas,'Courier New',monospace\"><span style=\"color: #008000; text-decoration-color: #008000\">🚶 </span> <span style=\"color: #008000; text-decoration-color: #008000; font-weight: bold\">Starting 'quickstart'...</span>\n</pre>\n",
          "text/plain": "\u001b[32m🚶 \u001b[0m \u001b[1;32mStarting 'quickstart'...\u001b[0m\n"
         },
         "metadata": {},
         "output_type": "display_data"
        }
       ],
       "tabbable": null,
       "tooltip": null
      }
     },
     "b61754ee984f493695b0728b72f6a250": {
      "model_module": "@jupyter-widgets/output",
      "model_module_version": "1.0.0",
      "model_name": "OutputModel",
      "state": {
       "_dom_classes": [],
       "_model_module": "@jupyter-widgets/output",
       "_model_module_version": "1.0.0",
       "_model_name": "OutputModel",
       "_view_count": null,
       "_view_module": "@jupyter-widgets/output",
       "_view_module_version": "1.0.0",
       "_view_name": "OutputView",
       "layout": "IPY_MODEL_2092cd0e48434573b887ca6476cd1d12",
       "msg_id": "",
       "outputs": [
        {
         "data": {
          "text/html": "<pre style=\"white-space:pre;overflow-x:auto;line-height:normal;font-family:Menlo,'DejaVu Sans Mono',consolas,'Courier New',monospace\">solver progress (field decay = 1.64e-03) <span style=\"color: #729c1f; text-decoration-color: #729c1f\">━━━━━━━━━━━━━━━━━━━━━━━━━━</span> <span style=\"color: #800080; text-decoration-color: #800080\">100%</span> <span style=\"color: #008080; text-decoration-color: #008080\">0:00:00</span>\n</pre>\n",
          "text/plain": "solver progress (field decay = 1.64e-03) \u001b[38;2;114;156;31m━━━━━━━━━━━━━━━━━━━━━━━━━━\u001b[0m \u001b[35m100%\u001b[0m \u001b[36m0:00:00\u001b[0m\n"
         },
         "metadata": {},
         "output_type": "display_data"
        }
       ],
       "tabbable": null,
       "tooltip": null
      }
     },
     "e5fc86e45a91478b9dc9a09f8c12a584": {
      "model_module": "@jupyter-widgets/output",
      "model_module_version": "1.0.0",
      "model_name": "OutputModel",
      "state": {
       "_dom_classes": [],
       "_model_module": "@jupyter-widgets/output",
       "_model_module_version": "1.0.0",
       "_model_name": "OutputModel",
       "_view_count": null,
       "_view_module": "@jupyter-widgets/output",
       "_view_module_version": "1.0.0",
       "_view_name": "OutputView",
       "layout": "IPY_MODEL_f5146d23d88f49e4a60c18accdbaffea",
       "msg_id": "",
       "outputs": [
        {
         "data": {
          "text/html": "<pre style=\"white-space:pre;overflow-x:auto;line-height:normal;font-family:Menlo,'DejaVu Sans Mono',consolas,'Courier New',monospace\"><span style=\"color: #008000; text-decoration-color: #008000\">🏃 </span> <span style=\"color: #008000; text-decoration-color: #008000; font-weight: bold\">Finishing 'quickstart'...</span>\n</pre>\n",
          "text/plain": "\u001b[32m🏃 \u001b[0m \u001b[1;32mFinishing 'quickstart'...\u001b[0m\n"
         },
         "metadata": {},
         "output_type": "display_data"
        }
       ],
       "tabbable": null,
       "tooltip": null
      }
     },
     "f5146d23d88f49e4a60c18accdbaffea": {
      "model_module": "@jupyter-widgets/base",
      "model_module_version": "2.0.0",
      "model_name": "LayoutModel",
      "state": {
       "_model_module": "@jupyter-widgets/base",
       "_model_module_version": "2.0.0",
       "_model_name": "LayoutModel",
       "_view_count": null,
       "_view_module": "@jupyter-widgets/base",
       "_view_module_version": "2.0.0",
       "_view_name": "LayoutView",
       "align_content": null,
       "align_items": null,
       "align_self": null,
       "border_bottom": null,
       "border_left": null,
       "border_right": null,
       "border_top": null,
       "bottom": null,
       "display": null,
       "flex": null,
       "flex_flow": null,
       "grid_area": null,
       "grid_auto_columns": null,
       "grid_auto_flow": null,
       "grid_auto_rows": null,
       "grid_column": null,
       "grid_gap": null,
       "grid_row": null,
       "grid_template_areas": null,
       "grid_template_columns": null,
       "grid_template_rows": null,
       "height": null,
       "justify_content": null,
       "justify_items": null,
       "left": null,
       "margin": null,
       "max_height": null,
       "max_width": null,
       "min_height": null,
       "min_width": null,
       "object_fit": null,
       "object_position": null,
       "order": null,
       "overflow": null,
       "padding": null,
       "right": null,
       "top": null,
       "visibility": null,
       "width": null
      }
     }
    },
    "version_major": 2,
    "version_minor": 0
   }
  }
 },
 "nbformat": 4,
 "nbformat_minor": 5
}
