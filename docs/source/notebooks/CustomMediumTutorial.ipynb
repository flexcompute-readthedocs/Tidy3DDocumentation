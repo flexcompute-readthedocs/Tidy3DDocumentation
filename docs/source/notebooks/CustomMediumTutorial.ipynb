{
 "cells": [
  {
   "cell_type": "markdown",
   "id": "94534c24",
   "metadata": {},
   "source": [
    "# Defining spatially varying index using custom medium"
   ]
  },
  {
   "cell_type": "markdown",
   "id": "10952dec",
   "metadata": {},
   "source": [
    "When a regular `Tidy3D` [Medium](../_autosummary/tidy3d.Medium.html) is assigned to a [Structure](../_autosummary/tidy3d.Structure.html), the refractive index is homogeneous within the geometry. In some cases, such as gradient-index optics component simulations, a spatially varying refractive index distribution is desirable. In principle, this can be achieved by manually dividing the [Structure](../_autosummary/tidy3d.Structure.html) into smaller sub-components and assigning a refractive index value to each component according to the spatial distribution. However, this process can be tedious and error-prone. Fortunately, `Tidy3D`'s [CustomMedium](../_autosummary/tidy3d.CustomMedium.html) can help you achieve this result very conveniently.\n",
    "\n",
    "In this tutorial, we illustrate how to define structures made of [CustomMedium](../_autosummary/tidy3d.CustomMedium.html) that allow for a customized refractive index spatial profile. An example is an ideal gradient index lens that has flat surfaces but a parabolic distribution of refractive index. The simulation result allows us to examine the focusing capability of the lens. \n",
    "\n",
    "<img src=\"img/graded_index_lens.png\" width=\"300\">"
   ]
  },
  {
   "cell_type": "code",
   "execution_count": 1,
   "id": "8f41d7b4",
   "metadata": {},
   "outputs": [
    {
     "data": {
      "text/html": [
       "<pre style=\"white-space:pre;overflow-x:auto;line-height:normal;font-family:Menlo,'DejaVu Sans Mono',consolas,'Courier New',monospace\"><span style=\"color: #7fbfbf; text-decoration-color: #7fbfbf\">[20:01:29] </span><span style=\"color: #800000; text-decoration-color: #800000\">WARNING </span> This version of Tidy3D was pip installed from the <span style=\"color: #008000; text-decoration-color: #008000\">'tidy3d-beta'</span> repository on   <a href=\"file:///home/lucas/Flexcompute/dev/tidy3d-core/tidy3d_frontend/tidy3d/__init__.py\" target=\"_blank\"><span style=\"color: #7f7f7f; text-decoration-color: #7f7f7f\">__init__.py</span></a><span style=\"color: #7f7f7f; text-decoration-color: #7f7f7f\">:</span><a href=\"file:///home/lucas/Flexcompute/dev/tidy3d-core/tidy3d_frontend/tidy3d/__init__.py#101\" target=\"_blank\"><span style=\"color: #7f7f7f; text-decoration-color: #7f7f7f\">101</span></a>\n",
       "<span style=\"color: #7fbfbf; text-decoration-color: #7fbfbf\">           </span>         PyPI. Future releases will be uploaded to the <span style=\"color: #008000; text-decoration-color: #008000\">'tidy3d'</span> repository. From now on, <span style=\"color: #7f7f7f; text-decoration-color: #7f7f7f\">               </span>\n",
       "<span style=\"color: #7fbfbf; text-decoration-color: #7fbfbf\">           </span>         please use <span style=\"color: #008000; text-decoration-color: #008000\">'pip install tidy3d'</span> instead.                                        <span style=\"color: #7f7f7f; text-decoration-color: #7f7f7f\">               </span>\n",
       "</pre>\n"
      ],
      "text/plain": [
       "\u001b[2;36m[20:01:29]\u001b[0m\u001b[2;36m \u001b[0m\u001b[31mWARNING \u001b[0m This version of Tidy3D was pip installed from the \u001b[32m'tidy3d-beta'\u001b[0m repository on   \u001b]8;id=886973;file:///home/lucas/Flexcompute/dev/tidy3d-core/tidy3d_frontend/tidy3d/__init__.py\u001b\\\u001b[2m__init__.py\u001b[0m\u001b]8;;\u001b\\\u001b[2m:\u001b[0m\u001b]8;id=602900;file:///home/lucas/Flexcompute/dev/tidy3d-core/tidy3d_frontend/tidy3d/__init__.py#101\u001b\\\u001b[2m101\u001b[0m\u001b]8;;\u001b\\\n",
       "\u001b[2;36m           \u001b[0m         PyPI. Future releases will be uploaded to the \u001b[32m'tidy3d'\u001b[0m repository. From now on, \u001b[2m               \u001b[0m\n",
       "\u001b[2;36m           \u001b[0m         please use \u001b[32m'pip install tidy3d'\u001b[0m instead.                                        \u001b[2m               \u001b[0m\n"
      ]
     },
     "metadata": {},
     "output_type": "display_data"
    },
    {
     "data": {
      "text/html": [
       "<pre style=\"white-space:pre;overflow-x:auto;line-height:normal;font-family:Menlo,'DejaVu Sans Mono',consolas,'Courier New',monospace\"><span style=\"color: #7fbfbf; text-decoration-color: #7fbfbf\">           </span><span style=\"color: #000080; text-decoration-color: #000080\">INFO    </span> Using client version: <span style=\"color: #008080; text-decoration-color: #008080; font-weight: bold\">1.10</span>.0rc2                                                 <a href=\"file:///home/lucas/Flexcompute/dev/tidy3d-core/tidy3d_frontend/tidy3d/__init__.py\" target=\"_blank\"><span style=\"color: #7f7f7f; text-decoration-color: #7f7f7f\">__init__.py</span></a><span style=\"color: #7f7f7f; text-decoration-color: #7f7f7f\">:</span><a href=\"file:///home/lucas/Flexcompute/dev/tidy3d-core/tidy3d_frontend/tidy3d/__init__.py#116\" target=\"_blank\"><span style=\"color: #7f7f7f; text-decoration-color: #7f7f7f\">116</span></a>\n",
       "</pre>\n"
      ],
      "text/plain": [
       "\u001b[2;36m          \u001b[0m\u001b[2;36m \u001b[0m\u001b[34mINFO    \u001b[0m Using client version: \u001b[1;36m1.10\u001b[0m.0rc2                                                 \u001b]8;id=416326;file:///home/lucas/Flexcompute/dev/tidy3d-core/tidy3d_frontend/tidy3d/__init__.py\u001b\\\u001b[2m__init__.py\u001b[0m\u001b]8;;\u001b\\\u001b[2m:\u001b[0m\u001b]8;id=33212;file:///home/lucas/Flexcompute/dev/tidy3d-core/tidy3d_frontend/tidy3d/__init__.py#116\u001b\\\u001b[2m116\u001b[0m\u001b]8;;\u001b\\\n"
      ]
     },
     "metadata": {},
     "output_type": "display_data"
    }
   ],
   "source": [
    "import numpy as np\n",
    "import matplotlib.pyplot as plt\n",
    "\n",
    "import tidy3d as td\n",
    "from tidy3d import web\n",
    "from tidy3d import ScalarFieldDataArray\n",
    "from tidy3d import PermittivityDataset"
   ]
  },
  {
   "cell_type": "markdown",
   "id": "97b501eb",
   "metadata": {},
   "source": [
    "The lens is designed to work at 1 $\\mu m$ wavelength."
   ]
  },
  {
   "cell_type": "code",
   "execution_count": 2,
   "id": "7d00a9e8",
   "metadata": {},
   "outputs": [],
   "source": [
    "lda0 = 1  #central wavelength\n",
    "\n",
    "freq0 = td.C_0/lda0  #central frequency"
   ]
  },
  {
   "cell_type": "markdown",
   "id": "34f858f8",
   "metadata": {},
   "source": [
    "## Custom medium setup"
   ]
  },
  {
   "cell_type": "markdown",
   "id": "f66c7370",
   "metadata": {},
   "source": [
    "With [CustomMedium](../_autosummary/tidy3d.CustomMedium.html), one can customize the spatial profile of refractive index inside a structure. The spatial profile is defined with [ScalarFieldDataAarray](../_autosummary/tidy3d.ScalarFieldDataArray) where we provide scalar data such as refractive index and labeled coordinates. Below, let's see how to define a flat lens whose index of refraction follows $n(r)=n_0(1-Ar^2)$, where $r$ is the radial distance to the $z$-axis. In this particular example, we study a lens of 20 $\\mu m$ radius and 10 $\\mu m$ thickness.\n",
    "\n",
    "First, we define the spatial and frequency grids. The refractive index is invariant alone $z$-axis, and varies in the $x$-$y$ plane. For the uniform $z$-axis, we only need to supply one grid point since [CustomMedium](../_autosummary/tidy3d.CustomMedium.html) will automatically generate uniform profiles along the axis where a single grid point is supplied. In the $x$ and $y$ dimensions, we set 100 grid points to fully resolve the refractive index variation. Finally, for the frequency grid, we only support dispersiveless medium at the moment, so we just define the frequency of interest."
   ]
  },
  {
   "cell_type": "code",
   "execution_count": 3,
   "id": "2732a9df",
   "metadata": {},
   "outputs": [],
   "source": [
    "Nx, Ny, Nz, Nf = 100, 100, 1, 1  #number of grid points along each dimension\n",
    "\n",
    "r = 20  #radius of the lens, unit: micron\n",
    "t = 10  #thickness of the lens, unit: micron\n",
    "\n",
    "# The coordinate for the refractive index data that includes x, y, z, and frequency\n",
    "# Note: when only one coordinate is supplied along an axis, it means the medium is uniform along this axis.\n",
    "X = np.linspace(-r, r, Nx)  #x grid\n",
    "Y = np.linspace(-r, r, Ny)  #y grid\n",
    "Z = [0]  #z grid\n",
    "freqs = [freq0]  #frequency grid"
   ]
  },
  {
   "cell_type": "markdown",
   "id": "9e74eb4b",
   "metadata": {},
   "source": [
    "Next, we define a 4-dimensional array that stores the refractive index."
   ]
  },
  {
   "cell_type": "code",
   "execution_count": 4,
   "id": "86a784fc",
   "metadata": {},
   "outputs": [],
   "source": [
    "# define coordinate array\n",
    "x_mesh, y_mesh, z_mesh, freq_mesh = np.meshgrid(X,Y,Z,freqs,indexing=\"ij\")\n",
    "r_mesh = np.sqrt(x_mesh**2+y_mesh**2)  #radial distance\n",
    "\n",
    "# index of refraction array\n",
    "#assign the refractive index value to the array according to the desired profile\n",
    "n_data = np.ones((Nx,Ny,Nz,Nf))\n",
    "n0 = 2\n",
    "A = 1e-3\n",
    "n_data[r_mesh<=r] = n0*(1-A*r_mesh[r_mesh<=r]**2)"
   ]
  },
  {
   "cell_type": "markdown",
   "id": "7a9f73ff",
   "metadata": {},
   "source": [
    "Finally, we convert the numpy array to a [ScalarFieldDataArray](../_autosummary/tidy3d.ScalarFieldDataArray.html) that labels the coordinate."
   ]
  },
  {
   "cell_type": "code",
   "execution_count": 5,
   "id": "c2bafbb5",
   "metadata": {},
   "outputs": [],
   "source": [
    "# convert to dataset array\n",
    "n_dataset = ScalarFieldDataArray(n_data, coords=dict(x=X, y=Y, z=Z, f=freqs))"
   ]
  },
  {
   "cell_type": "markdown",
   "id": "78ebb07c",
   "metadata": {},
   "source": [
    "### Defining CustomMedium in three ways\n",
    "Here, we will illustrate defining custom medium in three different ways:\n",
    "1. Using classmethod [td.CustomMedium.from_nk](https://docs.flexcompute.com/projects/tidy3d/en/pre/1.9.0/_autosummary/tidy3d.CustomMedium.html#tidy3d.CustomMedium.fron_nk) when refractive index and extinction coefficients are readily available.\n",
    "2. Using classmethod [td.CustomMedium.from_eps_raw](https://docs.flexcompute.com/projects/tidy3d/en/pre/1.9.0/_autosummary/tidy3d.CustomMedium.html#tidy3d.CustomMedium.fron_eps_raw) to supply complex-valued permittivity data.\n",
    "3. Define permittivity for each component separately via [PermittivityDataset](../_autosummary/tidy3d.PermittivityDataset.html) to be supplied to `td.CustomMedium`.\n",
    "\n",
    "In any of the three ways, you can optionally define how the permittivity is **interpolated** to Yee-grid with `interp_method` that can take the value of \"linear\" or \"nearest\". The default value is \"nearest\". If the custom medium is applied to a geometry larger than the custom medium's grid range, **extrapolation** is automatically applied for Yee grids outside the supplied coordinate region. When the extrapolated value is smaller (greater) than the minimal (maximal) of the supplied data, the extrapolated value will take the minimal (maximal) of the supplied data."
   ]
  },
  {
   "cell_type": "code",
   "execution_count": 6,
   "id": "f106ecd6",
   "metadata": {},
   "outputs": [],
   "source": [
    "## Three equivalent ways of defining custom medium for the lens\n",
    "\n",
    "# define custom medium with n/k data\n",
    "mat_custom1 = td.CustomMedium.from_nk(n_dataset, interp_method='nearest')\n",
    "\n",
    "# define custom medium with permittivity data\n",
    "eps_dataset = ScalarFieldDataArray(n_dataset**2, coords=dict(x=X, y=Y, z=Z, f=freqs))\n",
    "mat_custom2 = td.CustomMedium.from_eps_raw(eps_dataset, interp_method='nearest')\n",
    "\n",
    "# define each component of permittivity via \"PermittivityDataset\"\n",
    "eps_xyz_dataset = PermittivityDataset(eps_xx=eps_dataset,eps_yy=eps_dataset,eps_zz=eps_dataset)\n",
    "mat_custom3 = td.CustomMedium(eps_dataset=eps_xyz_dataset, interp_method='nearest')"
   ]
  },
  {
   "cell_type": "markdown",
   "id": "bfcee3d6",
   "metadata": {},
   "source": [
    "## Simulation setup\n",
    "### Define Lens Structure "
   ]
  },
  {
   "cell_type": "code",
   "execution_count": 7,
   "id": "104ff4f5",
   "metadata": {},
   "outputs": [],
   "source": [
    "#define the lens structure as a box\n",
    "lens = td.Structure(geometry=td.Box(center=(0,0,t/2), size=(td.inf,td.inf,t)), medium=mat_custom1)"
   ]
  },
  {
   "cell_type": "markdown",
   "id": "dc23cbf0",
   "metadata": {},
   "source": [
    "### Define a Source and Monitor"
   ]
  },
  {
   "cell_type": "code",
   "execution_count": 8,
   "id": "19f65aa9",
   "metadata": {},
   "outputs": [],
   "source": [
    "#define a plane wave source\n",
    "plane_wave = td.PlaneWave(\n",
    "    source_time=td.GaussianPulse(freq0=freq0, fwidth=freq0/10),\n",
    "    size=(td.inf, td.inf, 0),\n",
    "    center=(0, 0, -lda0),\n",
    "    direction=\"+\",\n",
    "    pol_angle=0,\n",
    ")\n",
    "\n",
    "\n",
    "#define a field monitor in the xz plane at y=0\n",
    "monitor_field_xz = td.FieldMonitor(\n",
    "    center=[0, 0, 0], size=[td.inf, 0, td.inf], freqs=[freq0], name=\"field_xz\"\n",
    ")"
   ]
  },
  {
   "cell_type": "markdown",
   "id": "403be13a",
   "metadata": {},
   "source": [
    "### Define a Simulation "
   ]
  },
  {
   "cell_type": "code",
   "execution_count": 9,
   "id": "2a9b9568",
   "metadata": {},
   "outputs": [],
   "source": [
    "#simulation domain size\n",
    "Lx, Ly, Lz = 2*r, 2*r, 5*t\n",
    "sim_size = (Lx, Ly, Lz)\n",
    "\n",
    "run_time = 2e-12 #simulation run time\n",
    "\n",
    "#define simulation\n",
    "sim = td.Simulation(\n",
    "    center=(0,0,Lz/2-lda0),\n",
    "    size=sim_size,\n",
    "    grid_spec=td.GridSpec.auto(min_steps_per_wvl=10, wavelength=lda0),\n",
    "    structures=[lens],\n",
    "    sources=[plane_wave],\n",
    "    monitors=[monitor_field_xz],\n",
    "    run_time=run_time,\n",
    "    boundary_spec=td.BoundarySpec.all_sides(boundary=td.PML()),  #pml is applied in all boundaries\n",
    "    symmetry=(-1,1,0)   #symmetry is used such that only a quarter of the structure needs to be modeled.\n",
    ") "
   ]
  },
  {
   "cell_type": "markdown",
   "id": "a7884ffa",
   "metadata": {},
   "source": [
    "### Visualize the Simulation and Gradient Index Distribution "
   ]
  },
  {
   "cell_type": "markdown",
   "id": "4b0b20fd",
   "metadata": {},
   "source": [
    "We can use the `plot_eps` method of [Simulation](../_autosummary/tidy3d.Simulation.html) to visualize the simulation setup as well as the permittivity distribution. \n",
    "\n",
    "First, plot the $yz$ plane at $x$=0."
   ]
  },
  {
   "cell_type": "code",
   "execution_count": 10,
   "id": "c52645ee",
   "metadata": {},
   "outputs": [
    {
     "ename": "ValueError",
     "evalue": "The truth value of an array with more than one element is ambiguous. Use a.any() or a.all()",
     "output_type": "error",
     "traceback": [
      "\u001b[0;31m---------------------------------------------------------------------------\u001b[0m",
      "\u001b[0;31mValueError\u001b[0m                                Traceback (most recent call last)",
      "Cell \u001b[0;32mIn[10], line 1\u001b[0m\n\u001b[0;32m----> 1\u001b[0m \u001b[43msim\u001b[49m\u001b[38;5;241;43m.\u001b[39;49m\u001b[43mplot_eps\u001b[49m\u001b[43m(\u001b[49m\u001b[43mx\u001b[49m\u001b[38;5;241;43m=\u001b[39;49m\u001b[38;5;241;43m0\u001b[39;49m\u001b[43m)\u001b[49m;\n",
      "File \u001b[0;32m~/Flexcompute/dev/tidy3d-core/tidy3d_frontend/tidy3d/components/viz.py:66\u001b[0m, in \u001b[0;36mequal_aspect.<locals>._plot\u001b[0;34m(*args, **kwargs)\u001b[0m\n\u001b[1;32m     63\u001b[0m \u001b[38;5;129m@wraps\u001b[39m(plot)\n\u001b[1;32m     64\u001b[0m \u001b[38;5;28;01mdef\u001b[39;00m \u001b[38;5;21m_plot\u001b[39m(\u001b[38;5;241m*\u001b[39margs, \u001b[38;5;241m*\u001b[39m\u001b[38;5;241m*\u001b[39mkwargs) \u001b[38;5;241m-\u001b[39m\u001b[38;5;241m>\u001b[39m Ax:\n\u001b[1;32m     65\u001b[0m \u001b[38;5;250m    \u001b[39m\u001b[38;5;124;03m\"\"\"New plot function with equal aspect ratio axes returned.\"\"\"\u001b[39;00m\n\u001b[0;32m---> 66\u001b[0m     ax \u001b[38;5;241m=\u001b[39m \u001b[43mplot\u001b[49m\u001b[43m(\u001b[49m\u001b[38;5;241;43m*\u001b[39;49m\u001b[43margs\u001b[49m\u001b[43m,\u001b[49m\u001b[43m \u001b[49m\u001b[38;5;241;43m*\u001b[39;49m\u001b[38;5;241;43m*\u001b[39;49m\u001b[43mkwargs\u001b[49m\u001b[43m)\u001b[49m\n\u001b[1;32m     67\u001b[0m     ax\u001b[38;5;241m.\u001b[39mset_aspect(\u001b[38;5;124m\"\u001b[39m\u001b[38;5;124mequal\u001b[39m\u001b[38;5;124m\"\u001b[39m)\n\u001b[1;32m     68\u001b[0m     \u001b[38;5;28;01mreturn\u001b[39;00m ax\n",
      "File \u001b[0;32m~/Flexcompute/dev/tidy3d-core/tidy3d_frontend/tidy3d/components/viz.py:52\u001b[0m, in \u001b[0;36madd_ax_if_none.<locals>._plot\u001b[0;34m(*args, **kwargs)\u001b[0m\n\u001b[1;32m     50\u001b[0m     ax \u001b[38;5;241m=\u001b[39m make_ax()\n\u001b[1;32m     51\u001b[0m     kwargs[\u001b[38;5;124m\"\u001b[39m\u001b[38;5;124max\u001b[39m\u001b[38;5;124m\"\u001b[39m] \u001b[38;5;241m=\u001b[39m ax\n\u001b[0;32m---> 52\u001b[0m \u001b[38;5;28;01mreturn\u001b[39;00m \u001b[43mplot\u001b[49m\u001b[43m(\u001b[49m\u001b[38;5;241;43m*\u001b[39;49m\u001b[43margs\u001b[49m\u001b[43m,\u001b[49m\u001b[43m \u001b[49m\u001b[38;5;241;43m*\u001b[39;49m\u001b[38;5;241;43m*\u001b[39;49m\u001b[43mkwargs\u001b[49m\u001b[43m)\u001b[49m\n",
      "File \u001b[0;32m~/Flexcompute/dev/tidy3d-core/tidy3d_frontend/tidy3d/components/simulation.py:1242\u001b[0m, in \u001b[0;36mSimulation.plot_eps\u001b[0;34m(self, x, y, z, freq, alpha, source_alpha, monitor_alpha, ax)\u001b[0m\n\u001b[1;32m   1199\u001b[0m \u001b[38;5;129m@equal_aspect\u001b[39m\n\u001b[1;32m   1200\u001b[0m \u001b[38;5;129m@add_ax_if_none\u001b[39m\n\u001b[1;32m   1201\u001b[0m \u001b[38;5;28;01mdef\u001b[39;00m \u001b[38;5;21mplot_eps\u001b[39m(  \u001b[38;5;66;03m# pylint:disable=too-many-arguments\u001b[39;00m\n\u001b[0;32m   (...)\u001b[0m\n\u001b[1;32m   1210\u001b[0m     ax: Ax \u001b[38;5;241m=\u001b[39m \u001b[38;5;28;01mNone\u001b[39;00m,\n\u001b[1;32m   1211\u001b[0m ) \u001b[38;5;241m-\u001b[39m\u001b[38;5;241m>\u001b[39m Ax:\n\u001b[1;32m   1212\u001b[0m \u001b[38;5;250m    \u001b[39m\u001b[38;5;124;03m\"\"\"Plot each of simulation's components on a plane defined by one nonzero x,y,z coordinate.\u001b[39;00m\n\u001b[1;32m   1213\u001b[0m \u001b[38;5;124;03m    The permittivity is plotted in grayscale based on its value at the specified frequency.\u001b[39;00m\n\u001b[1;32m   1214\u001b[0m \n\u001b[0;32m   (...)\u001b[0m\n\u001b[1;32m   1239\u001b[0m \u001b[38;5;124;03m        The supplied or created matplotlib axes.\u001b[39;00m\n\u001b[1;32m   1240\u001b[0m \u001b[38;5;124;03m    \"\"\"\u001b[39;00m\n\u001b[0;32m-> 1242\u001b[0m     ax \u001b[38;5;241m=\u001b[39m \u001b[38;5;28;43mself\u001b[39;49m\u001b[38;5;241;43m.\u001b[39;49m\u001b[43mplot_structures_eps\u001b[49m\u001b[43m(\u001b[49m\u001b[43mfreq\u001b[49m\u001b[38;5;241;43m=\u001b[39;49m\u001b[43mfreq\u001b[49m\u001b[43m,\u001b[49m\u001b[43m \u001b[49m\u001b[43mcbar\u001b[49m\u001b[38;5;241;43m=\u001b[39;49m\u001b[38;5;28;43;01mTrue\u001b[39;49;00m\u001b[43m,\u001b[49m\u001b[43m \u001b[49m\u001b[43malpha\u001b[49m\u001b[38;5;241;43m=\u001b[39;49m\u001b[43malpha\u001b[49m\u001b[43m,\u001b[49m\u001b[43m \u001b[49m\u001b[43max\u001b[49m\u001b[38;5;241;43m=\u001b[39;49m\u001b[43max\u001b[49m\u001b[43m,\u001b[49m\u001b[43m \u001b[49m\u001b[43mx\u001b[49m\u001b[38;5;241;43m=\u001b[39;49m\u001b[43mx\u001b[49m\u001b[43m,\u001b[49m\u001b[43m \u001b[49m\u001b[43my\u001b[49m\u001b[38;5;241;43m=\u001b[39;49m\u001b[43my\u001b[49m\u001b[43m,\u001b[49m\u001b[43m \u001b[49m\u001b[43mz\u001b[49m\u001b[38;5;241;43m=\u001b[39;49m\u001b[43mz\u001b[49m\u001b[43m)\u001b[49m\n\u001b[1;32m   1243\u001b[0m     ax \u001b[38;5;241m=\u001b[39m \u001b[38;5;28mself\u001b[39m\u001b[38;5;241m.\u001b[39mplot_sources(ax\u001b[38;5;241m=\u001b[39max, x\u001b[38;5;241m=\u001b[39mx, y\u001b[38;5;241m=\u001b[39my, z\u001b[38;5;241m=\u001b[39mz, alpha\u001b[38;5;241m=\u001b[39msource_alpha)\n\u001b[1;32m   1244\u001b[0m     ax \u001b[38;5;241m=\u001b[39m \u001b[38;5;28mself\u001b[39m\u001b[38;5;241m.\u001b[39mplot_monitors(ax\u001b[38;5;241m=\u001b[39max, x\u001b[38;5;241m=\u001b[39mx, y\u001b[38;5;241m=\u001b[39my, z\u001b[38;5;241m=\u001b[39mz, alpha\u001b[38;5;241m=\u001b[39mmonitor_alpha)\n",
      "File \u001b[0;32m~/Flexcompute/dev/tidy3d-core/tidy3d_frontend/tidy3d/components/viz.py:66\u001b[0m, in \u001b[0;36mequal_aspect.<locals>._plot\u001b[0;34m(*args, **kwargs)\u001b[0m\n\u001b[1;32m     63\u001b[0m \u001b[38;5;129m@wraps\u001b[39m(plot)\n\u001b[1;32m     64\u001b[0m \u001b[38;5;28;01mdef\u001b[39;00m \u001b[38;5;21m_plot\u001b[39m(\u001b[38;5;241m*\u001b[39margs, \u001b[38;5;241m*\u001b[39m\u001b[38;5;241m*\u001b[39mkwargs) \u001b[38;5;241m-\u001b[39m\u001b[38;5;241m>\u001b[39m Ax:\n\u001b[1;32m     65\u001b[0m \u001b[38;5;250m    \u001b[39m\u001b[38;5;124;03m\"\"\"New plot function with equal aspect ratio axes returned.\"\"\"\u001b[39;00m\n\u001b[0;32m---> 66\u001b[0m     ax \u001b[38;5;241m=\u001b[39m \u001b[43mplot\u001b[49m\u001b[43m(\u001b[49m\u001b[38;5;241;43m*\u001b[39;49m\u001b[43margs\u001b[49m\u001b[43m,\u001b[49m\u001b[43m \u001b[49m\u001b[38;5;241;43m*\u001b[39;49m\u001b[38;5;241;43m*\u001b[39;49m\u001b[43mkwargs\u001b[49m\u001b[43m)\u001b[49m\n\u001b[1;32m     67\u001b[0m     ax\u001b[38;5;241m.\u001b[39mset_aspect(\u001b[38;5;124m\"\u001b[39m\u001b[38;5;124mequal\u001b[39m\u001b[38;5;124m\"\u001b[39m)\n\u001b[1;32m     68\u001b[0m     \u001b[38;5;28;01mreturn\u001b[39;00m ax\n",
      "File \u001b[0;32m~/Flexcompute/dev/tidy3d-core/tidy3d_frontend/tidy3d/components/viz.py:52\u001b[0m, in \u001b[0;36madd_ax_if_none.<locals>._plot\u001b[0;34m(*args, **kwargs)\u001b[0m\n\u001b[1;32m     50\u001b[0m     ax \u001b[38;5;241m=\u001b[39m make_ax()\n\u001b[1;32m     51\u001b[0m     kwargs[\u001b[38;5;124m\"\u001b[39m\u001b[38;5;124max\u001b[39m\u001b[38;5;124m\"\u001b[39m] \u001b[38;5;241m=\u001b[39m ax\n\u001b[0;32m---> 52\u001b[0m \u001b[38;5;28;01mreturn\u001b[39;00m \u001b[43mplot\u001b[49m\u001b[43m(\u001b[49m\u001b[38;5;241;43m*\u001b[39;49m\u001b[43margs\u001b[49m\u001b[43m,\u001b[49m\u001b[43m \u001b[49m\u001b[38;5;241;43m*\u001b[39;49m\u001b[38;5;241;43m*\u001b[39;49m\u001b[43mkwargs\u001b[49m\u001b[43m)\u001b[49m\n",
      "File \u001b[0;32m~/Flexcompute/dev/tidy3d-core/tidy3d_frontend/tidy3d/components/simulation.py:1389\u001b[0m, in \u001b[0;36mSimulation.plot_structures_eps\u001b[0;34m(self, x, y, z, freq, alpha, cbar, reverse, ax)\u001b[0m\n\u001b[1;32m   1386\u001b[0m     structures \u001b[38;5;241m=\u001b[39m [\u001b[38;5;28mself\u001b[39m\u001b[38;5;241m.\u001b[39mbackground_structure] \u001b[38;5;241m+\u001b[39m \u001b[38;5;28mlist\u001b[39m(structures)\n\u001b[1;32m   1387\u001b[0m     medium_shapes \u001b[38;5;241m=\u001b[39m \u001b[38;5;28mself\u001b[39m\u001b[38;5;241m.\u001b[39m_get_structures_plane(structures\u001b[38;5;241m=\u001b[39mstructures, x\u001b[38;5;241m=\u001b[39mx, y\u001b[38;5;241m=\u001b[39my, z\u001b[38;5;241m=\u001b[39mz)\n\u001b[0;32m-> 1389\u001b[0m eps_min, eps_max \u001b[38;5;241m=\u001b[39m \u001b[38;5;28;43mself\u001b[39;49m\u001b[38;5;241;43m.\u001b[39;49m\u001b[43meps_bounds\u001b[49m\u001b[43m(\u001b[49m\u001b[43mfreq\u001b[49m\u001b[38;5;241;43m=\u001b[39;49m\u001b[43mfreq\u001b[49m\u001b[43m)\u001b[49m\n\u001b[1;32m   1390\u001b[0m \u001b[38;5;28;01mfor\u001b[39;00m (medium, shape) \u001b[38;5;129;01min\u001b[39;00m medium_shapes:\n\u001b[1;32m   1391\u001b[0m     \u001b[38;5;66;03m# if the background medium is custom medium, it needs to be rendered separately\u001b[39;00m\n\u001b[1;32m   1392\u001b[0m     \u001b[38;5;28;01mif\u001b[39;00m medium \u001b[38;5;241m==\u001b[39m \u001b[38;5;28mself\u001b[39m\u001b[38;5;241m.\u001b[39mmedium \u001b[38;5;129;01mand\u001b[39;00m alpha \u001b[38;5;241m<\u001b[39m \u001b[38;5;241m1\u001b[39m \u001b[38;5;129;01mand\u001b[39;00m \u001b[38;5;129;01mnot\u001b[39;00m \u001b[38;5;28misinstance\u001b[39m(medium, CustomMedium):\n",
      "File \u001b[0;32m~/Flexcompute/dev/tidy3d-core/tidy3d_frontend/tidy3d/components/simulation.py:1441\u001b[0m, in \u001b[0;36mSimulation.eps_bounds\u001b[0;34m(self, freq)\u001b[0m\n\u001b[1;32m   1439\u001b[0m     eps_dataset_at_freq \u001b[38;5;241m=\u001b[39m mat\u001b[38;5;241m.\u001b[39meps_dataset_freq(freq)\n\u001b[1;32m   1440\u001b[0m     \u001b[38;5;28;01mfor\u001b[39;00m eps_component \u001b[38;5;129;01min\u001b[39;00m eps_dataset_at_freq\u001b[38;5;241m.\u001b[39mfield_components\u001b[38;5;241m.\u001b[39mvalues():\n\u001b[0;32m-> 1441\u001b[0m         eps_min \u001b[38;5;241m=\u001b[39m \u001b[38;5;28;43mmin\u001b[39;49m\u001b[43m(\u001b[49m\u001b[43meps_min\u001b[49m\u001b[43m,\u001b[49m\u001b[43m \u001b[49m\u001b[43meps_component\u001b[49m\u001b[38;5;241;43m.\u001b[39;49m\u001b[43mreal\u001b[49m\u001b[38;5;241;43m.\u001b[39;49m\u001b[43mvalues\u001b[49m\u001b[38;5;241;43m.\u001b[39;49m\u001b[43mravel\u001b[49m\u001b[43m(\u001b[49m\u001b[43m)\u001b[49m\u001b[43m)\u001b[49m\n\u001b[1;32m   1442\u001b[0m         eps_max \u001b[38;5;241m=\u001b[39m \u001b[38;5;28mmax\u001b[39m(eps_max, eps_component\u001b[38;5;241m.\u001b[39mreal\u001b[38;5;241m.\u001b[39mvalues\u001b[38;5;241m.\u001b[39mravel())\n\u001b[1;32m   1443\u001b[0m \u001b[38;5;28;01mreturn\u001b[39;00m eps_min, eps_max\n",
      "\u001b[0;31mValueError\u001b[0m: The truth value of an array with more than one element is ambiguous. Use a.any() or a.all()"
     ]
    },
    {
     "data": {
      "image/png": "[encoded data removed]",
      "text/plain": [
       "<Figure size 640x480 with 1 Axes>"
      ]
     },
     "metadata": {},
     "output_type": "display_data"
    }
   ],
   "source": [
    "sim.plot_eps(x=0);"
   ]
  },
  {
   "cell_type": "markdown",
   "id": "bdc5934d",
   "metadata": {},
   "source": [
    "Similarly, plot the $xy$ plane at $z$=0. The spatially varying permittivity is clearly observed."
   ]
  },
  {
   "cell_type": "code",
   "execution_count": null,
   "id": "b3820e26",
   "metadata": {},
   "outputs": [],
   "source": [
    "sim.plot_eps(z=t/2);"
   ]
  },
  {
   "cell_type": "markdown",
   "id": "6d4992a4",
   "metadata": {},
   "source": [
    "### Submit Simulation Job "
   ]
  },
  {
   "cell_type": "markdown",
   "id": "9c1086db",
   "metadata": {},
   "source": [
    "Submit the simulation job to the server."
   ]
  },
  {
   "cell_type": "code",
   "execution_count": null,
   "id": "b1959a41",
   "metadata": {},
   "outputs": [],
   "source": [
    "sim_data = web.run(\n",
    "sim, task_name=\"gradient_index_lens\", path=\"data/simulation.hdf5\"\n",
    ")"
   ]
  },
  {
   "cell_type": "markdown",
   "id": "7a94dd40",
   "metadata": {},
   "source": [
    "## Result Visualization "
   ]
  },
  {
   "cell_type": "markdown",
   "id": "2d5f7bf0",
   "metadata": {},
   "source": [
    "After the simulation is complete, we can inspect the focusing capability of the gradient-index lens by plotting the field distributions. First, plot $E_x$ in the $xz$ plane at $y=0$."
   ]
  },
  {
   "cell_type": "code",
   "execution_count": null,
   "id": "877956ab",
   "metadata": {},
   "outputs": [],
   "source": [
    "sim_data.plot_field(\"field_xz\", \"Ex\", vmin=-15, vmax=15);"
   ]
  },
  {
   "cell_type": "markdown",
   "id": "3d1e6cf3",
   "metadata": {},
   "source": [
    "The focus is better visualized by plotting the field intensity. A strong focus about 17 $\\mu m$ from the front surface of the lens is observed."
   ]
  },
  {
   "cell_type": "code",
   "execution_count": null,
   "id": "9760ce31",
   "metadata": {},
   "outputs": [],
   "source": [
    "sim_data.plot_field(\"field_xz\", \"E\", \"abs^2\", vmin=0, vmax=300);"
   ]
  },
  {
   "cell_type": "markdown",
   "id": "7db0b5c2",
   "metadata": {},
   "source": [
    "## Notes:\n",
    "* Subpixel averaging is turned off on the surface and inside the structure made of custom medium. Therefore, it is generally recommended to use a finer grid to resolve the fields around curved surfaces. \n",
    "\n",
    "* Only non-dispersive custom medium is supported in this release. Dispersive custom medium support is expected in the future."
   ]
  },
  {
   "cell_type": "code",
   "execution_count": null,
   "id": "ae99d94e",
   "metadata": {},
   "outputs": [],
   "source": []
  }
 ],
 "metadata": {
  "kernelspec": {
   "display_name": "Flexcompute",
   "language": "python",
   "name": "flexcompute"
  },
  "language_info": {
   "codemirror_mode": {
    "name": "ipython",
    "version": 3
   },
   "file_extension": ".py",
   "mimetype": "text/x-python",
   "name": "python",
   "nbconvert_exporter": "python",
   "pygments_lexer": "ipython3",
   "version": "3.10.10"
  },
  "widgets": {
   "application/vnd.jupyter.widget-state+json": {
    "state": {
     "226bfd5b1bb34b0f9248399768a0cd21": {
      "model_module": "@jupyter-widgets/base",
      "model_module_version": "1.2.0",
      "model_name": "LayoutModel",
      "state": {
       "_model_module": "@jupyter-widgets/base",
       "_model_module_version": "1.2.0",
       "_model_name": "LayoutModel",
       "_view_count": null,
       "_view_module": "@jupyter-widgets/base",
       "_view_module_version": "1.2.0",
       "_view_name": "LayoutView",
       "align_content": null,
       "align_items": null,
       "align_self": null,
       "border": null,
       "bottom": null,
       "display": null,
       "flex": null,
       "flex_flow": null,
       "grid_area": null,
       "grid_auto_columns": null,
       "grid_auto_flow": null,
       "grid_auto_rows": null,
       "grid_column": null,
       "grid_gap": null,
       "grid_row": null,
       "grid_template_areas": null,
       "grid_template_columns": null,
       "grid_template_rows": null,
       "height": null,
       "justify_content": null,
       "justify_items": null,
       "left": null,
       "margin": null,
       "max_height": null,
       "max_width": null,
       "min_height": null,
       "min_width": null,
       "object_fit": null,
       "object_position": null,
       "order": null,
       "overflow": null,
       "overflow_x": null,
       "overflow_y": null,
       "padding": null,
       "right": null,
       "top": null,
       "visibility": null,
       "width": null
      }
     },
     "22aa791bfb174fa6a8dfb64c250fb347": {
      "model_module": "@jupyter-widgets/base",
      "model_module_version": "1.2.0",
      "model_name": "LayoutModel",
      "state": {
       "_model_module": "@jupyter-widgets/base",
       "_model_module_version": "1.2.0",
       "_model_name": "LayoutModel",
       "_view_count": null,
       "_view_module": "@jupyter-widgets/base",
       "_view_module_version": "1.2.0",
       "_view_name": "LayoutView",
       "align_content": null,
       "align_items": null,
       "align_self": null,
       "border": null,
       "bottom": null,
       "display": null,
       "flex": null,
       "flex_flow": null,
       "grid_area": null,
       "grid_auto_columns": null,
       "grid_auto_flow": null,
       "grid_auto_rows": null,
       "grid_column": null,
       "grid_gap": null,
       "grid_row": null,
       "grid_template_areas": null,
       "grid_template_columns": null,
       "grid_template_rows": null,
       "height": null,
       "justify_content": null,
       "justify_items": null,
       "left": null,
       "margin": null,
       "max_height": null,
       "max_width": null,
       "min_height": null,
       "min_width": null,
       "object_fit": null,
       "object_position": null,
       "order": null,
       "overflow": null,
       "overflow_x": null,
       "overflow_y": null,
       "padding": null,
       "right": null,
       "top": null,
       "visibility": null,
       "width": null
      }
     },
     "439efc578dcd48cc854ea31711dad459": {
      "model_module": "@jupyter-widgets/output",
      "model_module_version": "1.0.0",
      "model_name": "OutputModel",
      "state": {
       "_dom_classes": [],
       "_model_module": "@jupyter-widgets/output",
       "_model_module_version": "1.0.0",
       "_model_name": "OutputModel",
       "_view_count": null,
       "_view_module": "@jupyter-widgets/output",
       "_view_module_version": "1.0.0",
       "_view_name": "OutputView",
       "layout": "IPY_MODEL_ae46b436dd224077a67dce9317871472",
       "msg_id": "",
       "outputs": [
        {
         "data": {
          "text/html": "<pre style=\"white-space:pre;overflow-x:auto;line-height:normal;font-family:Menlo,'DejaVu Sans Mono',consolas,'Courier New',monospace\"><span style=\"color: #008000; text-decoration-color: #008000\">🏃 </span> <span style=\"color: #008000; text-decoration-color: #008000; font-weight: bold\">Starting 'gradient_index_lens'...</span>\n</pre>\n",
          "text/plain": "\u001b[32m🏃 \u001b[0m \u001b[1;32mStarting 'gradient_index_lens'...\u001b[0m\n"
         },
         "metadata": {},
         "output_type": "display_data"
        }
       ]
      }
     },
     "4e53a0c6133d4b1c9d004e081a6851c9": {
      "model_module": "@jupyter-widgets/base",
      "model_module_version": "1.2.0",
      "model_name": "LayoutModel",
      "state": {
       "_model_module": "@jupyter-widgets/base",
       "_model_module_version": "1.2.0",
       "_model_name": "LayoutModel",
       "_view_count": null,
       "_view_module": "@jupyter-widgets/base",
       "_view_module_version": "1.2.0",
       "_view_name": "LayoutView",
       "align_content": null,
       "align_items": null,
       "align_self": null,
       "border": null,
       "bottom": null,
       "display": null,
       "flex": null,
       "flex_flow": null,
       "grid_area": null,
       "grid_auto_columns": null,
       "grid_auto_flow": null,
       "grid_auto_rows": null,
       "grid_column": null,
       "grid_gap": null,
       "grid_row": null,
       "grid_template_areas": null,
       "grid_template_columns": null,
       "grid_template_rows": null,
       "height": null,
       "justify_content": null,
       "justify_items": null,
       "left": null,
       "margin": null,
       "max_height": null,
       "max_width": null,
       "min_height": null,
       "min_width": null,
       "object_fit": null,
       "object_position": null,
       "order": null,
       "overflow": null,
       "overflow_x": null,
       "overflow_y": null,
       "padding": null,
       "right": null,
       "top": null,
       "visibility": null,
       "width": null
      }
     },
     "6c5b2ff473bc4f41a740f32a3ba697fc": {
      "model_module": "@jupyter-widgets/base",
      "model_module_version": "1.2.0",
      "model_name": "LayoutModel",
      "state": {
       "_model_module": "@jupyter-widgets/base",
       "_model_module_version": "1.2.0",
       "_model_name": "LayoutModel",
       "_view_count": null,
       "_view_module": "@jupyter-widgets/base",
       "_view_module_version": "1.2.0",
       "_view_name": "LayoutView",
       "align_content": null,
       "align_items": null,
       "align_self": null,
       "border": null,
       "bottom": null,
       "display": null,
       "flex": null,
       "flex_flow": null,
       "grid_area": null,
       "grid_auto_columns": null,
       "grid_auto_flow": null,
       "grid_auto_rows": null,
       "grid_column": null,
       "grid_gap": null,
       "grid_row": null,
       "grid_template_areas": null,
       "grid_template_columns": null,
       "grid_template_rows": null,
       "height": null,
       "justify_content": null,
       "justify_items": null,
       "left": null,
       "margin": null,
       "max_height": null,
       "max_width": null,
       "min_height": null,
       "min_width": null,
       "object_fit": null,
       "object_position": null,
       "order": null,
       "overflow": null,
       "overflow_x": null,
       "overflow_y": null,
       "padding": null,
       "right": null,
       "top": null,
       "visibility": null,
       "width": null
      }
     },
     "86b9ba2a26bc4f29b78192cfb2161e9b": {
      "model_module": "@jupyter-widgets/output",
      "model_module_version": "1.0.0",
      "model_name": "OutputModel",
      "state": {
       "_dom_classes": [],
       "_model_module": "@jupyter-widgets/output",
       "_model_module_version": "1.0.0",
       "_model_name": "OutputModel",
       "_view_count": null,
       "_view_module": "@jupyter-widgets/output",
       "_view_module_version": "1.0.0",
       "_view_name": "OutputView",
       "layout": "IPY_MODEL_e0a5674f57c842809cfbeabb6fdcc80a",
       "msg_id": "",
       "outputs": [
        {
         "data": {
          "text/html": "<pre style=\"white-space:pre;overflow-x:auto;line-height:normal;font-family:Menlo,'DejaVu Sans Mono',consolas,'Courier New',monospace\">% done (field decay = 9.55e-06) <span style=\"color: #729c1f; text-decoration-color: #729c1f\">━━━━━━━━━━━━━━━━━━━━━━━━━━━━━━━━━━━━━━━━</span> <span style=\"color: #800080; text-decoration-color: #800080\">100%</span> <span style=\"color: #008080; text-decoration-color: #008080\">0:00:00</span>\n</pre>\n",
          "text/plain": "% done (field decay = 9.55e-06) \u001b[38;2;114;156;31m━━━━━━━━━━━━━━━━━━━━━━━━━━━━━━━━━━━━━━━━\u001b[0m \u001b[35m100%\u001b[0m \u001b[36m0:00:00\u001b[0m\n"
         },
         "metadata": {},
         "output_type": "display_data"
        }
       ]
      }
     },
     "9478781240724d69bc698558b8bfc10b": {
      "model_module": "@jupyter-widgets/output",
      "model_module_version": "1.0.0",
      "model_name": "OutputModel",
      "state": {
       "_dom_classes": [],
       "_model_module": "@jupyter-widgets/output",
       "_model_module_version": "1.0.0",
       "_model_name": "OutputModel",
       "_view_count": null,
       "_view_module": "@jupyter-widgets/output",
       "_view_module_version": "1.0.0",
       "_view_name": "OutputView",
       "layout": "IPY_MODEL_226bfd5b1bb34b0f9248399768a0cd21",
       "msg_id": "",
       "outputs": [
        {
         "data": {
          "text/html": "<pre style=\"white-space:pre;overflow-x:auto;line-height:normal;font-family:Menlo,'DejaVu Sans Mono',consolas,'Courier New',monospace\"><span style=\"color: #800000; text-decoration-color: #800000; font-weight: bold\">↑</span> <span style=\"color: #000080; text-decoration-color: #000080; font-weight: bold\">simulation.hdf5</span> <span style=\"color: #729c1f; text-decoration-color: #729c1f\">━━━━━━━━━━━━━━━━━━━━━━━━━━━━━━</span> <span style=\"color: #800080; text-decoration-color: #800080\">100.0%</span> • <span style=\"color: #008000; text-decoration-color: #008000\">506.6/506.6 kB</span> • <span style=\"color: #800000; text-decoration-color: #800000\">1.6 MB/s</span> • <span style=\"color: #008080; text-decoration-color: #008080\">0:00:00</span>\n</pre>\n",
          "text/plain": "\u001b[1;31m↑\u001b[0m \u001b[1;34msimulation.hdf5\u001b[0m \u001b[38;2;114;156;31m━━━━━━━━━━━━━━━━━━━━━━━━━━━━━━\u001b[0m \u001b[35m100.0%\u001b[0m • \u001b[32m506.6/506.6 kB\u001b[0m • \u001b[31m1.6 MB/s\u001b[0m • \u001b[36m0:00:00\u001b[0m\n"
         },
         "metadata": {},
         "output_type": "display_data"
        }
       ]
      }
     },
     "ae46b436dd224077a67dce9317871472": {
      "model_module": "@jupyter-widgets/base",
      "model_module_version": "1.2.0",
      "model_name": "LayoutModel",
      "state": {
       "_model_module": "@jupyter-widgets/base",
       "_model_module_version": "1.2.0",
       "_model_name": "LayoutModel",
       "_view_count": null,
       "_view_module": "@jupyter-widgets/base",
       "_view_module_version": "1.2.0",
       "_view_name": "LayoutView",
       "align_content": null,
       "align_items": null,
       "align_self": null,
       "border": null,
       "bottom": null,
       "display": null,
       "flex": null,
       "flex_flow": null,
       "grid_area": null,
       "grid_auto_columns": null,
       "grid_auto_flow": null,
       "grid_auto_rows": null,
       "grid_column": null,
       "grid_gap": null,
       "grid_row": null,
       "grid_template_areas": null,
       "grid_template_columns": null,
       "grid_template_rows": null,
       "height": null,
       "justify_content": null,
       "justify_items": null,
       "left": null,
       "margin": null,
       "max_height": null,
       "max_width": null,
       "min_height": null,
       "min_width": null,
       "object_fit": null,
       "object_position": null,
       "order": null,
       "overflow": null,
       "overflow_x": null,
       "overflow_y": null,
       "padding": null,
       "right": null,
       "top": null,
       "visibility": null,
       "width": null
      }
     },
     "bbe70e1770914a71a82bcfd7d415a4b5": {
      "model_module": "@jupyter-widgets/output",
      "model_module_version": "1.0.0",
      "model_name": "OutputModel",
      "state": {
       "_dom_classes": [],
       "_model_module": "@jupyter-widgets/output",
       "_model_module_version": "1.0.0",
       "_model_name": "OutputModel",
       "_view_count": null,
       "_view_module": "@jupyter-widgets/output",
       "_view_module_version": "1.0.0",
       "_view_name": "OutputView",
       "layout": "IPY_MODEL_22aa791bfb174fa6a8dfb64c250fb347",
       "msg_id": "",
       "outputs": [
        {
         "data": {
          "text/html": "<pre style=\"white-space:pre;overflow-x:auto;line-height:normal;font-family:Menlo,'DejaVu Sans Mono',consolas,'Courier New',monospace\"><span style=\"color: #008000; text-decoration-color: #008000; font-weight: bold\">↓</span> <span style=\"color: #000080; text-decoration-color: #000080; font-weight: bold\">monitor_data.hdf5</span> <span style=\"color: #729c1f; text-decoration-color: #729c1f\">━━━━━━━━━━━━━━━━━━━━━━━━━━━━━</span> <span style=\"color: #800080; text-decoration-color: #800080\">100.0%</span> • <span style=\"color: #008000; text-decoration-color: #008000\">13.1/13.1 MB</span> • <span style=\"color: #800000; text-decoration-color: #800000\">24.1 MB/s</span> • <span style=\"color: #008080; text-decoration-color: #008080\">0:00:00</span>\n</pre>\n",
          "text/plain": "\u001b[1;32m↓\u001b[0m \u001b[1;34mmonitor_data.hdf5\u001b[0m \u001b[38;2;114;156;31m━━━━━━━━━━━━━━━━━━━━━━━━━━━━━\u001b[0m \u001b[35m100.0%\u001b[0m • \u001b[32m13.1/13.1 MB\u001b[0m • \u001b[31m24.1 MB/s\u001b[0m • \u001b[36m0:00:00\u001b[0m\n"
         },
         "metadata": {},
         "output_type": "display_data"
        }
       ]
      }
     },
     "cf59b7bd0202490da4c78a13b9dab1a0": {
      "model_module": "@jupyter-widgets/output",
      "model_module_version": "1.0.0",
      "model_name": "OutputModel",
      "state": {
       "_dom_classes": [],
       "_model_module": "@jupyter-widgets/output",
       "_model_module_version": "1.0.0",
       "_model_name": "OutputModel",
       "_view_count": null,
       "_view_module": "@jupyter-widgets/output",
       "_view_module_version": "1.0.0",
       "_view_name": "OutputView",
       "layout": "IPY_MODEL_6c5b2ff473bc4f41a740f32a3ba697fc",
       "msg_id": "",
       "outputs": [
        {
         "data": {
          "text/html": "<pre style=\"white-space:pre;overflow-x:auto;line-height:normal;font-family:Menlo,'DejaVu Sans Mono',consolas,'Courier New',monospace\"><span style=\"color: #800000; text-decoration-color: #800000; font-weight: bold\">↑</span> <span style=\"color: #000080; text-decoration-color: #000080; font-weight: bold\">simulation.json</span> <span style=\"color: #729c1f; text-decoration-color: #729c1f\">━━━━━━━━━━━━━━━━━━━━━━━━━━━━━━━━━━━━━━━━</span> <span style=\"color: #800080; text-decoration-color: #800080\">100.0%</span> • <span style=\"color: #008000; text-decoration-color: #008000\">7.4/7.4 kB</span> • <span style=\"color: #800000; text-decoration-color: #800000\">?</span> • <span style=\"color: #008080; text-decoration-color: #008080\">0:00:00</span>\n</pre>\n",
          "text/plain": "\u001b[1;31m↑\u001b[0m \u001b[1;34msimulation.json\u001b[0m \u001b[38;2;114;156;31m━━━━━━━━━━━━━━━━━━━━━━━━━━━━━━━━━━━━━━━━\u001b[0m \u001b[35m100.0%\u001b[0m • \u001b[32m7.4/7.4 kB\u001b[0m • \u001b[31m?\u001b[0m • \u001b[36m0:00:00\u001b[0m\n"
         },
         "metadata": {},
         "output_type": "display_data"
        }
       ]
      }
     },
     "e0a5674f57c842809cfbeabb6fdcc80a": {
      "model_module": "@jupyter-widgets/base",
      "model_module_version": "1.2.0",
      "model_name": "LayoutModel",
      "state": {
       "_model_module": "@jupyter-widgets/base",
       "_model_module_version": "1.2.0",
       "_model_name": "LayoutModel",
       "_view_count": null,
       "_view_module": "@jupyter-widgets/base",
       "_view_module_version": "1.2.0",
       "_view_name": "LayoutView",
       "align_content": null,
       "align_items": null,
       "align_self": null,
       "border": null,
       "bottom": null,
       "display": null,
       "flex": null,
       "flex_flow": null,
       "grid_area": null,
       "grid_auto_columns": null,
       "grid_auto_flow": null,
       "grid_auto_rows": null,
       "grid_column": null,
       "grid_gap": null,
       "grid_row": null,
       "grid_template_areas": null,
       "grid_template_columns": null,
       "grid_template_rows": null,
       "height": null,
       "justify_content": null,
       "justify_items": null,
       "left": null,
       "margin": null,
       "max_height": null,
       "max_width": null,
       "min_height": null,
       "min_width": null,
       "object_fit": null,
       "object_position": null,
       "order": null,
       "overflow": null,
       "overflow_x": null,
       "overflow_y": null,
       "padding": null,
       "right": null,
       "top": null,
       "visibility": null,
       "width": null
      }
     },
     "eaf79c16045a4acaa3d2a2a2ecbdd425": {
      "model_module": "@jupyter-widgets/output",
      "model_module_version": "1.0.0",
      "model_name": "OutputModel",
      "state": {
       "_dom_classes": [],
       "_model_module": "@jupyter-widgets/output",
       "_model_module_version": "1.0.0",
       "_model_name": "OutputModel",
       "_view_count": null,
       "_view_module": "@jupyter-widgets/output",
       "_view_module_version": "1.0.0",
       "_view_name": "OutputView",
       "layout": "IPY_MODEL_4e53a0c6133d4b1c9d004e081a6851c9",
       "msg_id": "",
       "outputs": [
        {
         "data": {
          "text/html": "<pre style=\"white-space:pre;overflow-x:auto;line-height:normal;font-family:Menlo,'DejaVu Sans Mono',consolas,'Courier New',monospace\"><span style=\"color: #008000; text-decoration-color: #008000\">🏃 </span> <span style=\"color: #008000; text-decoration-color: #008000; font-weight: bold\">Finishing 'gradient_index_lens'...</span>\n</pre>\n",
          "text/plain": "\u001b[32m🏃 \u001b[0m \u001b[1;32mFinishing 'gradient_index_lens'...\u001b[0m\n"
         },
         "metadata": {},
         "output_type": "display_data"
        }
       ]
      }
     }
    },
    "version_major": 2,
    "version_minor": 0
   }
  }
 },
 "nbformat": 4,
 "nbformat_minor": 5
}
