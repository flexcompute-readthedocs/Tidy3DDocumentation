{
 "cells": [
  {
   "cell_type": "code",
   "execution_count": 1,
   "id": "51963da1",
   "metadata": {},
   "outputs": [
    {
     "name": "stderr",
     "output_type": "stream",
     "text": [
      "INFO:rich:Using client version: 1.8.0\n"
     ]
    }
   ],
   "source": [
    "import numpy as np\n",
    "import jax.numpy as jnp\n",
    "import jax\n",
    "import tmm\n",
    "import matplotlib.pyplot as plt\n",
    "from typing import Tuple, List\n",
    "\n",
    "import sys; sys.path.append('../../../tidy3d')\n",
    "import tidy3d as td\n",
    "from tidy3d.web import run as run_sim\n",
    "from tidy3d.plugins.adjoint import JaxSimulation, JaxBox, JaxMedium, JaxStructure, JaxSimulationData\n",
    "from tidy3d.plugins.adjoint.web import run as run_adjoint"
   ]
  },
  {
   "cell_type": "code",
   "execution_count": 2,
   "id": "ccbd2c6a-419d-4570-8f91-f57ad5bad813",
   "metadata": {},
   "outputs": [],
   "source": [
    "freq0 = 2e14\n",
    "freqs = [freq0]\n",
    "wavelength = td.C_0 / freq0\n",
    "bck_eps = 1.4**2\n",
    "\n",
    "spc = 0.04 # space between slabs\n",
    "\n",
    "slab_eps0 = [2.**2, 1.8**2, 1.5**2, 1.9**2]\n",
    "slab_ds0 = [0.5, 0.25, 0.5, 0.5]\n",
    "\n",
    "theta = 0\n",
    "dl = 0.01"
   ]
  },
  {
   "cell_type": "markdown",
   "id": "48dd37b0-ba97-45cd-a861-53ea6ae3fa74",
   "metadata": {},
   "source": [
    "## TMM / Numerical Gradient"
   ]
  },
  {
   "cell_type": "code",
   "execution_count": 3,
   "id": "cc4f6e91-6a53-476e-b4c6-e76e50246426",
   "metadata": {},
   "outputs": [],
   "source": [
    "def compute_T_tmm(slab_eps=slab_eps0, slab_ds=slab_ds0) -> float:\n",
    "    new_slab_eps = []\n",
    "    new_slab_ds = []\n",
    "    for eps, d in zip(slab_eps, slab_ds):\n",
    "        new_slab_eps.append(eps)\n",
    "        new_slab_eps.append(bck_eps)\n",
    "        new_slab_ds.append(d)\n",
    "        new_slab_ds.append(spc)\n",
    "    slab_eps = new_slab_eps[:-1]\n",
    "    slab_ds = new_slab_ds[:-1]\n",
    "\n",
    "    eps_list = [bck_eps] + slab_eps + [bck_eps]\n",
    "    n_list = np.sqrt(eps_list)    \n",
    "    d_list = [np.inf] + slab_ds + [np.inf]\n",
    "    return tmm.coh_tmm(\"p\", n_list, d_list, theta, wavelength)[\"T\"]"
   ]
  },
  {
   "cell_type": "code",
   "execution_count": 4,
   "id": "c1743e54-d7f3-468a-8ac4-d42d4c2bc8dc",
   "metadata": {},
   "outputs": [
    {
     "name": "stdout",
     "output_type": "stream",
     "text": [
      "T (tmm) = 0.937\n"
     ]
    }
   ],
   "source": [
    "T_tmm = compute_T_tmm(slab_eps=slab_eps0, slab_ds=slab_ds0)\n",
    "print(f\"T (tmm) = {T_tmm:.3f}\")"
   ]
  },
  {
   "cell_type": "code",
   "execution_count": 5,
   "id": "15d5bae1-6fc7-41c8-8772-2e80505be17d",
   "metadata": {},
   "outputs": [],
   "source": [
    "def compute_grad_tmm(slab_eps=slab_eps0, slab_ds=slab_ds0) -> Tuple[List[float], List[float]]:\n",
    "    num_slabs = len(slab_eps)\n",
    "    grad_tmm = np.zeros((2, num_slabs), dtype=float)\n",
    "    args = np.stack((slab_eps, slab_ds), axis=0)\n",
    "    delta = 1e-4\n",
    "\n",
    "    for arg_index in range(2):\n",
    "        for slab_index in range(num_slabs):\n",
    "            grad = 0.0\n",
    "            for pm in (-1, +1):\n",
    "                args_num = args.copy()\n",
    "                args_num[arg_index][slab_index] += delta * pm\n",
    "                T_tmm = compute_T_tmm(slab_eps=args_num[0], slab_ds=args_num[1])\n",
    "                grad += pm * T_tmm / 2 / delta        \n",
    "            grad_tmm[arg_index][slab_index] = grad\n",
    "    grad_eps, grad_ds = grad_tmm\n",
    "    return grad_eps, grad_ds"
   ]
  },
  {
   "cell_type": "code",
   "execution_count": 6,
   "id": "b5d1cc93-6d6e-43a7-8e5f-f1829770f3d5",
   "metadata": {},
   "outputs": [
    {
     "name": "stdout",
     "output_type": "stream",
     "text": [
      "grad_eps (tmm)  = [-0.05507938  0.08842354  0.04846866 -0.0672575 ]\n",
      "grad_ds  (tmm)  = [-0.13597267  0.5026034   0.43752418 -0.33141184]\n"
     ]
    }
   ],
   "source": [
    "grad_eps_tmm, grad_ds_tmm = compute_grad_tmm()\n",
    "print(f\"grad_eps (tmm)  = {grad_eps_tmm}\")\n",
    "print(f\"grad_ds  (tmm)  = {grad_ds_tmm}\")"
   ]
  },
  {
   "cell_type": "markdown",
   "id": "50ca68ae-ca5a-49aa-9969-ac6d43324ea9",
   "metadata": {},
   "source": [
    "## FDTD / Adjoint"
   ]
  },
  {
   "cell_type": "code",
   "execution_count": 7,
   "id": "4d12f133-a8d8-4e59-938f-fca4d2e2fa0b",
   "metadata": {},
   "outputs": [],
   "source": [
    "def make_sim(slab_eps=slab_eps0, slab_ds=slab_ds0) -> JaxSimulation:\n",
    "\n",
    "    # frequency setup\n",
    "    wavelength = td.C_0 / freq0\n",
    "    fwidth = freq0 / 10.0\n",
    "    freqs = [freq0]\n",
    "\n",
    "    # geometry setup\n",
    "    bck_medium = td.Medium(permittivity=bck_eps)\n",
    "\n",
    "    space_above = 2\n",
    "    space_below = 2\n",
    "\n",
    "    length_x = 0.5\n",
    "    length_y = 0.2\n",
    "    length_z = space_below + sum(slab_ds0) + space_above + (len(slab_ds0) - 1) * spc\n",
    "    sim_size = (length_x, length_y, length_z)\n",
    "\n",
    "    # make structures\n",
    "    slabs = []\n",
    "    z_start = -length_z/2 + space_below\n",
    "    for (d, eps) in zip(slab_ds, slab_eps):\n",
    "        slab = JaxStructure(\n",
    "            geometry=JaxBox(center=[0, 0, z_start + d / 2], size=[td.inf, td.inf, d]),\n",
    "            medium=JaxMedium(permittivity=eps),\n",
    "        )\n",
    "        slabs.append(slab)\n",
    "        z_start += d + spc\n",
    "\n",
    "    # source setup\n",
    "    gaussian = td.GaussianPulse(freq0=freq0, fwidth=fwidth)\n",
    "    src_z = -length_z/2 + space_below/2.0\n",
    "\n",
    "    source = td.PlaneWave(\n",
    "        center=(0, 0, src_z),\n",
    "        size=(td.inf, td.inf, 0),\n",
    "        source_time=gaussian,\n",
    "        direction=\"+\",\n",
    "        angle_theta=theta,\n",
    "        angle_phi=0,\n",
    "        pol_angle=0,\n",
    "    )\n",
    "\n",
    "    # boundaries\n",
    "    boundary_x = td.Boundary.bloch_from_source(\n",
    "        source=source, domain_size=sim_size[0], axis=0, medium=bck_medium\n",
    "    )\n",
    "    boundary_spec = td.BoundarySpec(x=boundary_x, y=td.Boundary.periodic(), z=td.Boundary.pml(num_layers=40))\n",
    "\n",
    "    # monitors\n",
    "    mnt_z = length_z/2 - space_above/2.0\n",
    "    monitor_1 = td.DiffractionMonitor(\n",
    "        center=[0.0, 0.0, mnt_z],\n",
    "        size=[td.inf, td.inf, 0],\n",
    "        freqs=freqs,\n",
    "        name=\"diffraction\",\n",
    "        normal_dir=\"+\",\n",
    "    )\n",
    "\n",
    "    # make simulation\n",
    "    return JaxSimulation(\n",
    "        size=sim_size,\n",
    "        grid_spec=td.GridSpec.uniform(dl=dl),\n",
    "        input_structures=slabs,\n",
    "        sources=[source],\n",
    "        output_monitors=[monitor_1],\n",
    "        run_time= 10 / fwidth,\n",
    "        boundary_spec=boundary_spec,\n",
    "        medium=bck_medium,\n",
    "        subpixel=True,\n",
    "        shutoff=1e-8,\n",
    "    )"
   ]
  },
  {
   "cell_type": "code",
   "execution_count": 8,
   "id": "bc0dc456-e742-4299-ae5e-22daa49e3997",
   "metadata": {},
   "outputs": [
    {
     "data": {
      "image/png": "[encoded data removed]"
     },
     "metadata": {
      "needs_background": "light"
     },
     "output_type": "display_data"
    }
   ],
   "source": [
    "sim = make_sim()\n",
    "f, ax = plt.subplots(1, 1, figsize=(10, 10))\n",
    "sim.plot(y=0, ax=ax)\n",
    "plt.show()"
   ]
  },
  {
   "cell_type": "code",
   "execution_count": 9,
   "id": "0347633a-c146-4c03-bb1b-d8bbeb431033",
   "metadata": {},
   "outputs": [],
   "source": [
    "def post_process_T(sim_data: JaxSimulationData) -> float:\n",
    "    amps = sim_data.output_monitor_data[\"diffraction\"].amps.sel(polarization=\"p\")\n",
    "    return jnp.sum(abs(amps.values)**2)\n",
    "\n",
    "def compute_T_fdtd(slab_eps=slab_eps0, slab_ds=slab_ds0) -> float:\n",
    "    sim = make_sim(slab_eps=slab_eps, slab_ds=slab_ds)\n",
    "    sim_data = run_adjoint(sim, task_name='slab')\n",
    "    return post_process_T(sim_data)\n",
    "\n",
    "compute_T_and_grad_fdtd = jax.value_and_grad(compute_T_fdtd, argnums=(0, 1))"
   ]
  },
  {
   "cell_type": "code",
   "execution_count": 10,
   "id": "ef6716b3-79a3-40cc-ac2a-5056b5ed2ae9",
   "metadata": {},
   "outputs": [
    {
     "data": {
      "text/html": [
       "<pre style=\"white-space:pre;overflow-x:auto;line-height:normal;font-family:Menlo,'DejaVu Sans Mono',consolas,'Courier New',monospace\"><span style=\"color: #008000; text-decoration-color: #008000; font-weight: bold\">↓</span> <span style=\"color: #000080; text-decoration-color: #000080; font-weight: bold\">monitor_data.hdf5</span> <span style=\"color: #f92672; text-decoration-color: #f92672\">━━━━━━━━━━━━━━━━━━━━━━━━━━━━━━━━━━━━━━━</span><span style=\"color: #3a3a3a; text-decoration-color: #3a3a3a\">╺</span> <span style=\"color: #800080; text-decoration-color: #800080\">97.6%</span> • <span style=\"color: #008000; text-decoration-color: #008000\">10.7/11.0 MB</span> • <span style=\"color: #800000; text-decoration-color: #800000\">5.4 MB/s</span> • <span style=\"color: #008080; text-decoration-color: #008080\">0:00:01</span>\n",
       "</pre>\n"
      ],
      "text/plain": [
       "\u001b[1;32m↓\u001b[0m \u001b[1;34mmonitor_data.hdf5\u001b[0m \u001b[38;2;249;38;114m━━━━━━━━━━━━━━━━━━━━━━━━━━━━━━━━━━━━━━━\u001b[0m\u001b[38;5;237m╺\u001b[0m \u001b[35m97.6%\u001b[0m • \u001b[32m10.7/11.0 MB\u001b[0m • \u001b[31m5.4 MB/s\u001b[0m • \u001b[36m0:00:01\u001b[0m\n"
      ]
     },
     "metadata": {},
     "output_type": "display_data"
    },
    {
     "data": {
      "text/html": [
       "<pre style=\"white-space:pre;overflow-x:auto;line-height:normal;font-family:Menlo,'DejaVu Sans Mono',consolas,'Courier New',monospace\"></pre>\n"
      ],
      "text/plain": []
     },
     "metadata": {},
     "output_type": "display_data"
    },
    {
     "data": {
      "text/html": [
       "<pre style=\"white-space:pre;overflow-x:auto;line-height:normal;font-family:Menlo,'DejaVu Sans Mono',consolas,'Courier New',monospace\">\n",
       "</pre>\n"
      ],
      "text/plain": [
       "\n"
      ]
     },
     "metadata": {},
     "output_type": "display_data"
    },
    {
     "name": "stderr",
     "output_type": "stream",
     "text": [
      "INFO:rich:loading SimulationData from simulation_data.hdf5\n"
     ]
    }
   ],
   "source": [
    "T_fdtd, (grad_eps_fdtd, grad_ds_fdtd) = compute_T_and_grad_fdtd(slab_eps0, slab_ds0)\n",
    "\n",
    "grad_eps_fdtd = np.array(grad_eps_fdtd)\n",
    "grad_ds_fdtd = np.array(grad_ds_fdtd)"
   ]
  },
  {
   "cell_type": "code",
   "execution_count": 11,
   "id": "41e66722-bb8c-41d9-a0a7-85009ff46df3",
   "metadata": {},
   "outputs": [],
   "source": [
    "grad_eps_fdtd = np.array(grad_eps_fdtd)\n",
    "grad_ds_fdtd = np.array(grad_ds_fdtd)"
   ]
  },
  {
   "cell_type": "code",
   "execution_count": 12,
   "id": "953d2497-240a-4295-9fcd-5342942983d0",
   "metadata": {},
   "outputs": [
    {
     "name": "stdout",
     "output_type": "stream",
     "text": [
      "T (tmm)  = 0.937\n",
      "T (FDTD) = 0.937\n"
     ]
    }
   ],
   "source": [
    "print(f\"T (tmm)  = {T_tmm:.3f}\")\n",
    "print(f\"T (FDTD) = {T_fdtd:.3f}\")"
   ]
  },
  {
   "cell_type": "raw",
   "id": "9884395d-7e8a-4431-ba56-d21d9bffaf12",
   "metadata": {},
   "source": [
    "NOTE: the adjoint source is:\n",
    "\n",
    "PlaneWave(\n",
    "    type='PlaneWave',\n",
    "    center=(0.0, 0.0, 1.25103770934502),\n",
    "    size=(inf, inf, 0.0),\n",
    "    source_time=GaussianPulse(\n",
    "        amplitude=0.003474581943130177,\n",
    "        phase=0.1947782334779624,\n",
    "        type='GaussianPulse',\n",
    "        freq0=200000000000000.0,\n",
    "        fwidth=40000000000000.0,\n",
    "        offset=5.0\n",
    "    ),\n",
    "    name=None,\n",
    "    direction='-',\n",
    "    angle_theta=0.0,\n",
    "    angle_phi=0.0,\n",
    "    pol_angle=0.0\n",
    ")\n",
    "  "
   ]
  },
  {
   "cell_type": "code",
   "execution_count": 13,
   "id": "d0e496be-a967-427d-9ed6-8eea5a96fd70",
   "metadata": {},
   "outputs": [
    {
     "name": "stdout",
     "output_type": "stream",
     "text": [
      "un-normalized:\n",
      "\tgrad_eps (tmm)  = [-0.05507938  0.08842354  0.04846866 -0.0672575 ]\n",
      "\tgrad_eps (FDTD)  = [-0.0004965   0.00080167  0.00044146 -0.00060681]\n",
      "--------------------------------------------------------------------------------\n",
      "\tgrad_ds  (tmm)  = [-0.13597267  0.5026034   0.43752418 -0.33141184]\n",
      "\tgrad_ds  (FDTD)  = [-0.0011994   0.00458654  0.00399421 -0.0029731 ]\n"
     ]
    }
   ],
   "source": [
    "print(\"un-normalized:\")\n",
    "print(f\"\\tgrad_eps (tmm)  = {grad_eps_tmm}\")\n",
    "print(f\"\\tgrad_eps (FDTD)  = {grad_eps_fdtd}\")\n",
    "print(80*'-')\n",
    "print(f\"\\tgrad_ds  (tmm)  = {grad_ds_tmm}\")\n",
    "print(f\"\\tgrad_ds  (FDTD)  = {grad_ds_fdtd}\")"
   ]
  },
  {
   "cell_type": "code",
   "execution_count": 14,
   "id": "2993410c-0c1d-412e-9c2c-1c43664ae20c",
   "metadata": {},
   "outputs": [],
   "source": [
    "def normalize(arr):\n",
    "    return arr / np.linalg.norm(arr)\n",
    "\n",
    "grad_eps_tmm_norm = normalize(grad_eps_tmm)\n",
    "grad_ds_tmm_norm = normalize(grad_ds_tmm)\n",
    "grad_eps_fdtd_norm = normalize(grad_eps_fdtd)\n",
    "grad_ds_fdtd_norm = normalize(grad_ds_fdtd)\n",
    "\n",
    "rms_eps = np.linalg.norm(grad_eps_tmm_norm - grad_eps_fdtd_norm) / np.linalg.norm(grad_eps_tmm_norm)\n",
    "rms_ds = np.linalg.norm(grad_ds_tmm_norm - grad_ds_fdtd_norm) / np.linalg.norm(grad_ds_tmm_norm)"
   ]
  },
  {
   "cell_type": "code",
   "execution_count": 15,
   "id": "8a375cb8-79ae-4b57-86bd-26af66bba8b4",
   "metadata": {},
   "outputs": [
    {
     "name": "stdout",
     "output_type": "stream",
     "text": [
      "normalized:\n",
      "\tgrad_eps (tmm)  = [-0.41370709  0.66415857  0.36405326 -0.50517824]\n",
      "\tgrad_eps (FDTD)  = [-0.4119939   0.66522765  0.36632255 -0.5035285 ]\n",
      "\tRMS error = 0.345678813085545 %\n",
      "--------------------------------------------------------------------------------\n",
      "\tgrad_ds  (tmm)  = [-0.17972852  0.66434061  0.57831897 -0.4380598 ]\n",
      "\tgrad_ds  (FDTD)  = [-0.17445396  0.6671165   0.580962   -0.43244022]\n",
      "\tRMS error = 0.8607668469686812 %\n"
     ]
    }
   ],
   "source": [
    "print(\"normalized:\")\n",
    "print(f\"\\tgrad_eps (tmm)  = {grad_eps_tmm_norm}\")\n",
    "print(f\"\\tgrad_eps (FDTD)  = {grad_eps_fdtd_norm}\")\n",
    "print(f\"\\tRMS error = {rms_eps * 100} %\")\n",
    "print(80*'-')\n",
    "print(f\"\\tgrad_ds  (tmm)  = {grad_ds_tmm_norm}\")\n",
    "print(f\"\\tgrad_ds  (FDTD)  = {grad_ds_fdtd_norm}\")\n",
    "print(f\"\\tRMS error = {rms_ds * 100} %\")"
   ]
  },
  {
   "cell_type": "code",
   "execution_count": 16,
   "id": "03a53d4c-9ca9-45ed-8841-e7500a8a02e8",
   "metadata": {},
   "outputs": [],
   "source": [
    "k0 = 2 * np.pi * td.C_0 / freq0"
   ]
  },
  {
   "cell_type": "code",
   "execution_count": 17,
   "id": "41ce24c2-1e6a-4885-8030-67e271357235",
   "metadata": {},
   "outputs": [
    {
     "data": {
      "text/html": [
       "<pre style=\"white-space:pre;overflow-x:auto;line-height:normal;font-family:Menlo,'DejaVu Sans Mono',consolas,'Courier New',monospace\"><span style=\"color: #008080; text-decoration-color: #008080; font-weight: bold\">835.4331949229065</span>\n",
       "</pre>\n"
      ],
      "text/plain": [
       "\u001b[1;36m835.4331949229065\u001b[0m\n"
      ]
     },
     "metadata": {},
     "output_type": "display_data"
    }
   ],
   "source": [
    "k0**3"
   ]
  },
  {
   "cell_type": "code",
   "execution_count": null,
   "id": "87cbec5c-cc51-4111-8ce4-7d7224233158",
   "metadata": {},
   "outputs": [],
   "source": []
  }
 ],
 "metadata": {
  "kernelspec": {
   "display_name": "Python 3 (ipykernel)",
   "language": "python",
   "name": "python3"
  },
  "language_info": {
   "codemirror_mode": {
    "name": "ipython",
    "version": 3
   },
   "file_extension": ".py",
   "mimetype": "text/x-python",
   "name": "python",
   "nbconvert_exporter": "python",
   "pygments_lexer": "ipython3",
   "version": "3.9.9"
  }
 },
 "nbformat": 4,
 "nbformat_minor": 5
}
