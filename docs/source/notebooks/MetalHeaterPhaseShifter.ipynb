{
 "cells": [
  {
   "cell_type": "markdown",
   "id": "cad0085c-728f-47a1-a601-cedfb7771ce3",
   "metadata": {},
   "source": [
    "# Thermally tuned waveguide\n",
    "\n",
    "In this example we use Tidy3D's heat solver to investigate tuning of a straight rectangular waveguide using a heating strip."
   ]
  },
  {
   "cell_type": "code",
   "execution_count": 1,
   "id": "3137f8fc-8ab5-4001-a28b-8bf82627257b",
   "metadata": {},
   "outputs": [],
   "source": [
    "import numpy as np\n",
    "from matplotlib import pyplot as plt\n",
    "\n",
    "import tidy3d as td\n",
    "import tidy3d.web as web\n"
   ]
  },
  {
   "cell_type": "markdown",
   "id": "8f99fb33-e37f-456d-abd7-6f3c4dc60ffd",
   "metadata": {},
   "source": [
    "## Setup Simulation Scene\n",
    "\n",
    "The simulation setup consists of a silicon waveguide in a silicon dioxide cladding on top of a silicon wafer. The heating strip is placed in the cladding above the waveguide. Let us define basic geometric parameters of simulated structures."
   ]
  },
  {
   "cell_type": "code",
   "execution_count": 2,
   "id": "4e9610d3-e8de-4a39-9c2e-b0d1e587d174",
   "metadata": {},
   "outputs": [],
   "source": [
    "# in um\n",
    "\n",
    "w_sim = 16  # simulation width\n",
    "h_buffer = 1  # vertical simulation buffer\n",
    "\n",
    "h_clad = 2.8  # thickness of cladding\n",
    "h_box = 2  # thickness of buried oxide\n",
    "h_wafer = 0.5  # wafer thickness\n",
    "\n",
    "# waveguide parameters\n",
    "w_core = 0.5\n",
    "h_core = 0.22\n",
    "\n",
    "# heater parameters\n",
    "h_heater = 0.14\n",
    "w_heater = 2\n",
    "d_heater = 2  # distance between heater and waveguide\n"
   ]
  },
  {
   "cell_type": "markdown",
   "id": "fa8ede33-1d33-4f2c-8874-da7713c61cdc",
   "metadata": {},
   "source": [
    "We will place the wafer's top surface at location $z=0$. Let us define vertical locations of each structure. Note that we will model buried oxide and cladding as a single structure since they are made of the same material."
   ]
  },
  {
   "cell_type": "code",
   "execution_count": 3,
   "id": "5155e134-1f26-455e-86f8-6bc79a4db5f5",
   "metadata": {},
   "outputs": [],
   "source": [
    "z_wafer = -h_wafer / 2\n",
    "z_core = h_box + h_core / 2\n",
    "z_heater = h_box + h_core + d_heater + h_heater / 2\n",
    "\n",
    "box_clad_max = h_box + h_clad\n",
    "box_clad_min = (\n",
    "    -h_wafer / 2\n",
    ")  # make structures overlap to ensure no gaps due to numerical roundoff errors\n",
    "h_box_clad = box_clad_max - box_clad_min\n",
    "z_box_clad = (box_clad_max + box_clad_min) / 2\n",
    "\n",
    "z_sim = (h_box + h_clad - h_wafer) / 2\n",
    "h_sim = h_box + h_clad + h_wafer + 2 * h_buffer\n"
   ]
  },
  {
   "cell_type": "markdown",
   "id": "d97a699c-3657-4582-ad91-cd5d98a124a5",
   "metadata": {},
   "source": [
    "Define optic and thermal properties of materials."
   ]
  },
  {
   "cell_type": "code",
   "execution_count": 4,
   "id": "7720c1e7-9264-4e65-a8d9-26af985838e8",
   "metadata": {},
   "outputs": [],
   "source": [
    "Si_n = 3.4777  # Si refraction index\n",
    "Si_n_slope = 1.86e-4  # Si thermo-optic coefficient dn/dT, 1/K\n",
    "Si_k = 148e-12  # Si thermal conductivity, W / (um * K)\n",
    "Si_s = 0.71 * 2.33e-12  # Si volumetric heat capacity, J / (um^3 * K)\n",
    "\n",
    "SiO2_n = 1.444  # SiO2 refraction index\n",
    "SiO2_n_slope = 1e-5  # SiO2 thermo-optic coefficient dn/dT, 1/K\n",
    "SiO2_k = 1.38e-12  # SiO2 thermal conductivity, W/(um*K)\n",
    "SiO2_s = 0.709 * 2.203e-12  # SiO2 volumetric heat capacity, J / (um^3 * K)\n",
    "\n",
    "TiN_k = 28e-12  # TiN thermal conductivity W/(um*K)\n",
    "TiN_s = 0.598 * 5240e-12  # TiN volumetric heat capacityJ / (um^3 * K)\n",
    "TiN_sigma = 2.3e6  # Electric conductivity of TiN, S/m\n"
   ]
  },
  {
   "cell_type": "markdown",
   "id": "b8714c3c-c09a-48ca-8d3c-79b48c61353e",
   "metadata": {},
   "source": [
    "Convert refraction indices into permittivity values."
   ]
  },
  {
   "cell_type": "code",
   "execution_count": 5,
   "id": "585b3a51-98c9-4daf-b90f-eba276eb2638",
   "metadata": {},
   "outputs": [],
   "source": [
    "Si_eps = Si_n**2\n",
    "Si_eps_slope = 2 * Si_n * Si_n_slope\n",
    "\n",
    "SiO2_eps = SiO2_n**2\n",
    "SiO2_eps_slope = 2 * SiO2_n * SiO2_n_slope\n"
   ]
  },
  {
   "cell_type": "markdown",
   "id": "2f426e3f-40cf-4aed-8968-a84c6121fe48",
   "metadata": {},
   "source": [
    "Create material classes containing relevant information for each medium. Note that we use class [PerturbationMedium](../_autosummary/tidy3d.PerturbationMedium.html) to specify sensitivity of optic properties to temperature and field `heat_spec` to specify thermal properties. Optic characteristics of the heating strip material is modeled as a perfect electric conductor."
   ]
  },
  {
   "cell_type": "code",
   "execution_count": 6,
   "id": "a847929e-19c0-4b58-91c6-2a3491c1957c",
   "metadata": {},
   "outputs": [],
   "source": [
    "Si = td.PerturbationMedium(\n",
    "    permittivity=Si_eps,\n",
    "    permittivity_perturbation=td.ParameterPerturbation(\n",
    "        heat=td.LinearHeatPerturbation(coeff=Si_eps_slope, temperature_ref=300)\n",
    "    ),\n",
    "    heat_spec=td.SolidSpec(\n",
    "        conductivity=Si_k,\n",
    "        capacity=Si_s,\n",
    "    ),\n",
    "    name=\"Si\",\n",
    ")\n",
    "\n",
    "SiO2 = td.PerturbationMedium(\n",
    "    permittivity=SiO2_eps,\n",
    "    permittivity_perturbation=td.ParameterPerturbation(\n",
    "        heat=td.LinearHeatPerturbation(coeff=SiO2_eps_slope, temperature_ref=300)\n",
    "    ),\n",
    "    heat_spec=td.SolidSpec(\n",
    "        conductivity=SiO2_k,\n",
    "        capacity=SiO2_s,\n",
    "    ),\n",
    "    name=\"SiO2\",\n",
    ")\n",
    "\n",
    "TiN = td.PECMedium(\n",
    "    heat_spec=td.SolidSpec(\n",
    "        conductivity=TiN_k,\n",
    "        capacity=TiN_s,\n",
    "    ),\n",
    "    name=\"TiN\",\n",
    ")\n",
    "\n",
    "air = td.Medium(heat_spec=td.FluidSpec(), name=\"air\")\n"
   ]
  },
  {
   "cell_type": "markdown",
   "id": "b54b6ec2-f758-4972-8d05-06d96127942b",
   "metadata": {},
   "source": [
    "Create structures representing waveguide, heater, cladding, and wafer."
   ]
  },
  {
   "cell_type": "code",
   "execution_count": 7,
   "id": "813aa69e-6a51-4535-a8fd-052c7a4879ed",
   "metadata": {},
   "outputs": [],
   "source": [
    "core = td.Structure(\n",
    "    geometry=td.Box(center=(0, 0, z_core), size=(w_core, td.inf, h_core)),\n",
    "    medium=Si,\n",
    ")\n",
    "\n",
    "heater = td.Structure(\n",
    "    geometry=td.Box(center=(0, 0, z_heater), size=(w_heater, td.inf, h_heater)),\n",
    "    medium=TiN,\n",
    "    name=\"heater\",\n",
    ")\n",
    "\n",
    "box_clad = td.Structure(\n",
    "    geometry=td.Box(center=(0, 0, z_box_clad), size=(td.inf, td.inf, h_box_clad)),\n",
    "    medium=SiO2,\n",
    ")\n",
    "\n",
    "wafer = td.Structure(\n",
    "    geometry=td.Box(center=(0, 0, z_wafer), size=(td.inf, td.inf, h_wafer)),\n",
    "    medium=Si,\n",
    "    name=\"wafer\",\n",
    ")\n"
   ]
  },
  {
   "cell_type": "markdown",
   "id": "635f30fc-791e-49c3-962c-9e517d095834",
   "metadata": {},
   "source": [
    "Pack structures into a simulation scene."
   ]
  },
  {
   "cell_type": "code",
   "execution_count": 8,
   "id": "263abcd0-8534-4a00-ad51-9958160902a0",
   "metadata": {},
   "outputs": [],
   "source": [
    "scene = td.Scene(\n",
    "    medium=air,\n",
    "    structures=[box_clad, core, heater, wafer],\n",
    ")\n"
   ]
  },
  {
   "cell_type": "markdown",
   "id": "3ac406cd-ca35-4477-a2ad-76329b930ca8",
   "metadata": {},
   "source": [
    "Visual validation of the setup."
   ]
  },
  {
   "cell_type": "code",
   "execution_count": 9,
   "id": "d7016678-ab78-48da-a79f-18ef247ba3b6",
   "metadata": {},
   "outputs": [
    {
     "data": {
      "image/png": "[encoded data removed]",
      "text/plain": [
       "<Figure size 640x480 with 1 Axes>"
      ]
     },
     "metadata": {},
     "output_type": "display_data"
    }
   ],
   "source": [
    "scene.plot(\n",
    "    y=0, hlim=[-w_sim / 2, w_sim / 2], vlim=[z_sim - h_sim / 2, z_sim + h_sim / 2]\n",
    ")\n",
    "plt.show()\n"
   ]
  },
  {
   "cell_type": "markdown",
   "id": "6c7d3070-13f3-47a3-b96a-b0a84ac9f2aa",
   "metadata": {},
   "source": [
    "## Setup Heat Simulation\n",
    "\n",
    "We assume that the bottom of the wafer is maintained at temperature $T=300$ K and ignore heat transfer at the cladding/air boundary. In this simulation setup these boundary conditions can be set using [MediumMediumInterface](../_autosummary/tidy3d.MediumMediumInterface.html) placement. Note since no other boundary conditions are specified, the other sides of the simulation box will be treated as insulating boundary conditions.\n",
    "\n",
    "Convective cooling/heating at the cladding/air boundary can be easily taken into account using [ConvectionBC](../_autosummary/tidy3d.ConvectionBC.html) boundary conditions."
   ]
  },
  {
   "cell_type": "code",
   "execution_count": 10,
   "id": "4fd9469e-8e40-4983-923d-cf5941d52f60",
   "metadata": {},
   "outputs": [],
   "source": [
    "bc_bottom = td.HeatBoundarySpec(\n",
    "    placement=td.MediumMediumInterface(mediums=[\"Si\", \"air\"]),\n",
    "    condition=td.TemperatureBC(temperature=300),\n",
    ")\n",
    "\n",
    "bc_top = td.HeatBoundarySpec(\n",
    "    placement=td.MediumMediumInterface(mediums=[\"SiO2\", \"air\"]),\n",
    "    condition=td.HeatFluxBC(flux=0),\n",
    ")\n"
   ]
  },
  {
   "cell_type": "markdown",
   "id": "6a398f0d-47d0-486c-865f-562e3fe7d043",
   "metadata": {},
   "source": [
    "Create a uniform heat source inside the heater structure equivalent to electrical current of $7.3 \\times 10^{-3}$ A."
   ]
  },
  {
   "cell_type": "code",
   "execution_count": 11,
   "id": "8954c828-a5fc-43f2-a7dc-670ec37b36a9",
   "metadata": {},
   "outputs": [],
   "source": [
    "current = 7.4e-3  # A\n",
    "heat_rate = (current / h_heater / w_heater) ** 2 / TiN_sigma  # convert into power\n",
    "heater_source = td.UniformHeatSource(rate=heat_rate, structures=[heater.name])\n"
   ]
  },
  {
   "cell_type": "markdown",
   "id": "fe7dd73f-9033-4bf4-8c81-3075cd7c6d66",
   "metadata": {},
   "source": [
    "We will measure temperature distribution in the entire cross section of the simulation setup."
   ]
  },
  {
   "cell_type": "code",
   "execution_count": 12,
   "id": "5d2baca8-2510-42ef-a264-cf01de60ddf3",
   "metadata": {},
   "outputs": [],
   "source": [
    "temp_mnt = td.TemperatureMonitor(size=(td.inf, 0, td.inf), name=\"temperature\")\n"
   ]
  },
  {
   "cell_type": "markdown",
   "id": "e7d0b9b0-156d-4055-a7a0-4b45bf628b8d",
   "metadata": {},
   "source": [
    "For spatial discretization we will use a distance-based meshing specifying that solid-solid material interfaces should be discretized with mesh size equal to the heater height `h_heater` divided by 3 and away from interfaces the grid should coarsen to four times of that size. Setting `distance_interface` to three of minimal mesh size will create approximately three layers of cells with the minimal size around interfaces. Cells outside of this region will have sizes according to linear relation `dl_interface * (1 - ratio(d)) + dl_interface * ratio(d)`, where `ratio(d) = (d - distance_interface) / (distance_bulk - distance_interface)` and `d` is the distance to the closest material interface. We choose this transition to happen on the order of `2 * d_heater`. We will also exclude using the higher mesh resolution around the wafer since that region is of less interest."
   ]
  },
  {
   "cell_type": "code",
   "execution_count": 13,
   "id": "90f4bdba-1c90-486b-b737-c502a5dd1c29",
   "metadata": {},
   "outputs": [],
   "source": [
    "# parameters for meshing\n",
    "dl_min = h_heater / 3\n",
    "dl_max = 4 * dl_min\n",
    "\n",
    "grid_spec = td.DistanceUnstructuredGrid(\n",
    "    dl_interface=dl_min,\n",
    "    dl_bulk=dl_max,\n",
    "    distance_interface=3 * dl_min,\n",
    "    distance_bulk=2 * d_heater,\n",
    "    non_refined_structures=[\"wafer\"],  # do not refine near wafer\n",
    ")\n"
   ]
  },
  {
   "cell_type": "markdown",
   "id": "958db673-038f-4344-ac24-3c6647b1fc8d",
   "metadata": {},
   "source": [
    "Pack components into a heat simulation specification. Note that from the heat transfer perspective the problem is symmetric around $x=0$. Thus, we can set symmetry specification to `(1, 0, 0)` to reduce simulation size and cost. \n",
    "\n",
    "Given that the problem is two-dimensional we will use a small simulation size along the invariant $y$-direction."
   ]
  },
  {
   "cell_type": "code",
   "execution_count": 14,
   "id": "b2a59d61-0a5b-46bd-b8c7-7689f9d26165",
   "metadata": {},
   "outputs": [
    {
     "data": {
      "text/html": [
       "<pre style=\"white-space:pre;overflow-x:auto;line-height:normal;font-family:Menlo,'DejaVu Sans Mono',consolas,'Courier New',monospace\"><span style=\"color: #7fbfbf; text-decoration-color: #7fbfbf\">15:43:53 CDT </span><span style=\"color: #800000; text-decoration-color: #800000\">WARNING: More than </span><span style=\"color: #008080; text-decoration-color: #008080; font-weight: bold\">2</span><span style=\"color: #800000; text-decoration-color: #800000\"> different solid zones </span><span style=\"color: #800000; text-decoration-color: #800000; font-weight: bold\">(</span><span style=\"color: #800000; text-decoration-color: #800000\">zone = medium + source</span><span style=\"color: #800000; text-decoration-color: #800000; font-weight: bold\">)</span>\n",
       "<span style=\"color: #7fbfbf; text-decoration-color: #7fbfbf\">             </span><span style=\"color: #800000; text-decoration-color: #800000\">are detected in the heat simulation. Make sure no more than </span><span style=\"color: #008080; text-decoration-color: #008080; font-weight: bold\">2</span><span style=\"color: #800000; text-decoration-color: #800000\"> solid</span>\n",
       "<span style=\"color: #7fbfbf; text-decoration-color: #7fbfbf\">             </span><span style=\"color: #800000; text-decoration-color: #800000\">zones are adjacent to each other anywhere in the simulation domain.</span>\n",
       "<span style=\"color: #7fbfbf; text-decoration-color: #7fbfbf\">             </span><span style=\"color: #800000; text-decoration-color: #800000\">The simulation results may be inaccurate otherwise. This           </span>\n",
       "<span style=\"color: #7fbfbf; text-decoration-color: #7fbfbf\">             </span><span style=\"color: #800000; text-decoration-color: #800000\">restriction will be removed in the upcoming Tidy3D versions.       </span>\n",
       "</pre>\n"
      ],
      "text/plain": [
       "\u001b[2;36m15:43:53 CDT\u001b[0m\u001b[2;36m \u001b[0m\u001b[31mWARNING: More than \u001b[0m\u001b[1;36m2\u001b[0m\u001b[31m different solid zones \u001b[0m\u001b[1;31m(\u001b[0m\u001b[31mzone = medium + source\u001b[0m\u001b[1;31m)\u001b[0m\n",
       "\u001b[2;36m             \u001b[0m\u001b[31mare detected in the heat simulation. Make sure no more than \u001b[0m\u001b[1;36m2\u001b[0m\u001b[31m solid\u001b[0m\n",
       "\u001b[2;36m             \u001b[0m\u001b[31mzones are adjacent to each other anywhere in the simulation domain.\u001b[0m\n",
       "\u001b[2;36m             \u001b[0m\u001b[31mThe simulation results may be inaccurate otherwise. This           \u001b[0m\n",
       "\u001b[2;36m             \u001b[0m\u001b[31mrestriction will be removed in the upcoming Tidy3D versions.       \u001b[0m\n"
      ]
     },
     "metadata": {},
     "output_type": "display_data"
    }
   ],
   "source": [
    "heat_sim = td.HeatSimulation.from_scene(\n",
    "    scene=scene,\n",
    "    center=(0, 0, z_sim),\n",
    "    size=(w_sim, dl_min, h_sim),\n",
    "    boundary_spec=[bc_bottom, bc_top],\n",
    "    sources=[heater_source],\n",
    "    monitors=[temp_mnt],\n",
    "    symmetry=(1, 0, 0),\n",
    "    grid_spec=grid_spec,\n",
    ")\n"
   ]
  },
  {
   "cell_type": "code",
   "execution_count": 15,
   "id": "e9e3e692-115d-4e3b-afc7-829f24a441c8",
   "metadata": {},
   "outputs": [
    {
     "data": {
      "image/png": "[encoded data removed]",
      "text/plain": [
       "<Figure size 640x480 with 1 Axes>"
      ]
     },
     "metadata": {},
     "output_type": "display_data"
    }
   ],
   "source": [
    "heat_sim.plot(y=0.01)\n",
    "plt.show()\n"
   ]
  },
  {
   "cell_type": "markdown",
   "id": "6afb7c27-908c-45f8-bb10-950272539010",
   "metadata": {},
   "source": [
    "## Mesh Inspection\n",
    "\n",
    "In case the resulting simulation mesh needs to be inspected one can submit the simulation for solving and download directly either mesh alone (\"mesh.cgns\") or simulation results sampled together with the mesh (\"volume_proc0.vtu\"). These files can be inspected using common third-party software like Paraview. In the upcoming Tidy3D version the mesh inspection step will be simplified and optimized."
   ]
  },
  {
   "cell_type": "code",
   "execution_count": 16,
   "id": "0b6655b2-d720-48d3-a1c7-b37a769a0581",
   "metadata": {},
   "outputs": [
    {
     "data": {
      "text/html": [
       "<pre style=\"white-space:pre;overflow-x:auto;line-height:normal;font-family:Menlo,'DejaVu Sans Mono',consolas,'Courier New',monospace\"><span style=\"color: #7fbfbf; text-decoration-color: #7fbfbf\">15:43:54 CDT </span>Created task <span style=\"color: #008000; text-decoration-color: #008000\">'heat_sim_check_mesh'</span> with task_id                    \n",
       "<span style=\"color: #7fbfbf; text-decoration-color: #7fbfbf\">             </span><span style=\"color: #008000; text-decoration-color: #008000\">'he-e853c581-7e41-46de-9161-1cfd506adb01v1'</span> and task_type <span style=\"color: #008000; text-decoration-color: #008000\">'HEAT'</span>.  \n",
       "</pre>\n"
      ],
      "text/plain": [
       "\u001b[2;36m15:43:54 CDT\u001b[0m\u001b[2;36m \u001b[0mCreated task \u001b[32m'heat_sim_check_mesh'\u001b[0m with task_id                    \n",
       "\u001b[2;36m             \u001b[0m\u001b[32m'he-e853c581-7e41-46de-9161-1cfd506adb01v1'\u001b[0m and task_type \u001b[32m'HEAT'\u001b[0m.  \n"
      ]
     },
     "metadata": {},
     "output_type": "display_data"
    },
    {
     "data": {
      "text/html": [
       "<pre style=\"white-space:pre;overflow-x:auto;line-height:normal;font-family:Menlo,'DejaVu Sans Mono',consolas,'Courier New',monospace\"><span style=\"color: #7fbfbf; text-decoration-color: #7fbfbf\">             </span>Tidy3D's heat solver is currently in the beta stage. All heat      \n",
       "<span style=\"color: #7fbfbf; text-decoration-color: #7fbfbf\">             </span>simulations are charged a flat fee of <span style=\"color: #008080; text-decoration-color: #008080; font-weight: bold\">0.025</span> FlexCredit.            \n",
       "</pre>\n"
      ],
      "text/plain": [
       "\u001b[2;36m            \u001b[0m\u001b[2;36m \u001b[0mTidy3D's heat solver is currently in the beta stage. All heat      \n",
       "\u001b[2;36m             \u001b[0msimulations are charged a flat fee of \u001b[1;36m0.025\u001b[0m FlexCredit.            \n"
      ]
     },
     "metadata": {},
     "output_type": "display_data"
    },
    {
     "data": {
      "application/vnd.jupyter.widget-view+json": {
       "model_id": "366500b7032741a3a7ce102a529b1c99",
       "version_major": 2,
       "version_minor": 0
      },
      "text/plain": [
       "Output()"
      ]
     },
     "metadata": {},
     "output_type": "display_data"
    },
    {
     "data": {
      "text/html": [
       "<pre style=\"white-space:pre;overflow-x:auto;line-height:normal;font-family:Menlo,'DejaVu Sans Mono',consolas,'Courier New',monospace\"></pre>\n"
      ],
      "text/plain": []
     },
     "metadata": {},
     "output_type": "display_data"
    },
    {
     "data": {
      "text/html": [
       "<pre style=\"white-space:pre;overflow-x:auto;line-height:normal;font-family:Menlo,'DejaVu Sans Mono',consolas,'Courier New',monospace\">\n",
       "</pre>\n"
      ],
      "text/plain": [
       "\n"
      ]
     },
     "metadata": {},
     "output_type": "display_data"
    },
    {
     "data": {
      "text/html": [
       "<pre style=\"white-space:pre;overflow-x:auto;line-height:normal;font-family:Menlo,'DejaVu Sans Mono',consolas,'Courier New',monospace\"><span style=\"color: #7fbfbf; text-decoration-color: #7fbfbf\">15:43:56 CDT </span>Heat solver status: queued                                         \n",
       "</pre>\n"
      ],
      "text/plain": [
       "\u001b[2;36m15:43:56 CDT\u001b[0m\u001b[2;36m \u001b[0mHeat solver status: queued                                         \n"
      ]
     },
     "metadata": {},
     "output_type": "display_data"
    },
    {
     "data": {
      "text/html": [
       "<pre style=\"white-space:pre;overflow-x:auto;line-height:normal;font-family:Menlo,'DejaVu Sans Mono',consolas,'Courier New',monospace\"><span style=\"color: #7fbfbf; text-decoration-color: #7fbfbf\">15:44:01 CDT </span>Heat solver status: preprocess                                     \n",
       "</pre>\n"
      ],
      "text/plain": [
       "\u001b[2;36m15:44:01 CDT\u001b[0m\u001b[2;36m \u001b[0mHeat solver status: preprocess                                     \n"
      ]
     },
     "metadata": {},
     "output_type": "display_data"
    },
    {
     "data": {
      "text/html": [
       "<pre style=\"white-space:pre;overflow-x:auto;line-height:normal;font-family:Menlo,'DejaVu Sans Mono',consolas,'Courier New',monospace\"><span style=\"color: #7fbfbf; text-decoration-color: #7fbfbf\">15:44:20 CDT </span>Heat solver status: running                                        \n",
       "</pre>\n"
      ],
      "text/plain": [
       "\u001b[2;36m15:44:20 CDT\u001b[0m\u001b[2;36m \u001b[0mHeat solver status: running                                        \n"
      ]
     },
     "metadata": {},
     "output_type": "display_data"
    },
    {
     "data": {
      "text/html": [
       "<pre style=\"white-space:pre;overflow-x:auto;line-height:normal;font-family:Menlo,'DejaVu Sans Mono',consolas,'Courier New',monospace\"><span style=\"color: #7fbfbf; text-decoration-color: #7fbfbf\">15:44:26 CDT </span>Heat solver status: postprocess                                    \n",
       "</pre>\n"
      ],
      "text/plain": [
       "\u001b[2;36m15:44:26 CDT\u001b[0m\u001b[2;36m \u001b[0mHeat solver status: postprocess                                    \n"
      ]
     },
     "metadata": {},
     "output_type": "display_data"
    },
    {
     "data": {
      "text/html": [
       "<pre style=\"white-space:pre;overflow-x:auto;line-height:normal;font-family:Menlo,'DejaVu Sans Mono',consolas,'Courier New',monospace\"><span style=\"color: #7fbfbf; text-decoration-color: #7fbfbf\">15:44:34 CDT </span>Heat solver status: success                                        \n",
       "</pre>\n"
      ],
      "text/plain": [
       "\u001b[2;36m15:44:34 CDT\u001b[0m\u001b[2;36m \u001b[0mHeat solver status: success                                        \n"
      ]
     },
     "metadata": {},
     "output_type": "display_data"
    },
    {
     "data": {
      "application/vnd.jupyter.widget-view+json": {
       "model_id": "c4a82b881d704f8280f7246a14b72399",
       "version_major": 2,
       "version_minor": 0
      },
      "text/plain": [
       "Output()"
      ]
     },
     "metadata": {},
     "output_type": "display_data"
    },
    {
     "data": {
      "text/html": [
       "<pre style=\"white-space:pre;overflow-x:auto;line-height:normal;font-family:Menlo,'DejaVu Sans Mono',consolas,'Courier New',monospace\"></pre>\n"
      ],
      "text/plain": []
     },
     "metadata": {},
     "output_type": "display_data"
    },
    {
     "data": {
      "text/html": [
       "<pre style=\"white-space:pre;overflow-x:auto;line-height:normal;font-family:Menlo,'DejaVu Sans Mono',consolas,'Courier New',monospace\">\n",
       "</pre>\n"
      ],
      "text/plain": [
       "\n"
      ]
     },
     "metadata": {},
     "output_type": "display_data"
    },
    {
     "data": {
      "text/html": [
       "<pre style=\"white-space:pre;overflow-x:auto;line-height:normal;font-family:Menlo,'DejaVu Sans Mono',consolas,'Courier New',monospace\"><span style=\"color: #7fbfbf; text-decoration-color: #7fbfbf\">15:44:36 CDT </span>loading simulation from simulation_data.hdf5                       \n",
       "</pre>\n"
      ],
      "text/plain": [
       "\u001b[2;36m15:44:36 CDT\u001b[0m\u001b[2;36m \u001b[0mloading simulation from simulation_data.hdf5                       \n"
      ]
     },
     "metadata": {},
     "output_type": "display_data"
    },
    {
     "data": {
      "text/html": [
       "<pre style=\"white-space:pre;overflow-x:auto;line-height:normal;font-family:Menlo,'DejaVu Sans Mono',consolas,'Courier New',monospace\"><span style=\"color: #7fbfbf; text-decoration-color: #7fbfbf\">             </span><span style=\"color: #800000; text-decoration-color: #800000\">WARNING: More than </span><span style=\"color: #008080; text-decoration-color: #008080; font-weight: bold\">2</span><span style=\"color: #800000; text-decoration-color: #800000\"> different solid zones </span><span style=\"color: #800000; text-decoration-color: #800000; font-weight: bold\">(</span><span style=\"color: #800000; text-decoration-color: #800000\">zone = medium + source</span><span style=\"color: #800000; text-decoration-color: #800000; font-weight: bold\">)</span>\n",
       "<span style=\"color: #7fbfbf; text-decoration-color: #7fbfbf\">             </span><span style=\"color: #800000; text-decoration-color: #800000\">are detected in the heat simulation. Make sure no more than </span><span style=\"color: #008080; text-decoration-color: #008080; font-weight: bold\">2</span><span style=\"color: #800000; text-decoration-color: #800000\"> solid</span>\n",
       "<span style=\"color: #7fbfbf; text-decoration-color: #7fbfbf\">             </span><span style=\"color: #800000; text-decoration-color: #800000\">zones are adjacent to each other anywhere in the simulation domain.</span>\n",
       "<span style=\"color: #7fbfbf; text-decoration-color: #7fbfbf\">             </span><span style=\"color: #800000; text-decoration-color: #800000\">The simulation results may be inaccurate otherwise. This           </span>\n",
       "<span style=\"color: #7fbfbf; text-decoration-color: #7fbfbf\">             </span><span style=\"color: #800000; text-decoration-color: #800000\">restriction will be removed in the upcoming Tidy3D versions.       </span>\n",
       "</pre>\n"
      ],
      "text/plain": [
       "\u001b[2;36m            \u001b[0m\u001b[2;36m \u001b[0m\u001b[31mWARNING: More than \u001b[0m\u001b[1;36m2\u001b[0m\u001b[31m different solid zones \u001b[0m\u001b[1;31m(\u001b[0m\u001b[31mzone = medium + source\u001b[0m\u001b[1;31m)\u001b[0m\n",
       "\u001b[2;36m             \u001b[0m\u001b[31mare detected in the heat simulation. Make sure no more than \u001b[0m\u001b[1;36m2\u001b[0m\u001b[31m solid\u001b[0m\n",
       "\u001b[2;36m             \u001b[0m\u001b[31mzones are adjacent to each other anywhere in the simulation domain.\u001b[0m\n",
       "\u001b[2;36m             \u001b[0m\u001b[31mThe simulation results may be inaccurate otherwise. This           \u001b[0m\n",
       "\u001b[2;36m             \u001b[0m\u001b[31mrestriction will be removed in the upcoming Tidy3D versions.       \u001b[0m\n"
      ]
     },
     "metadata": {},
     "output_type": "display_data"
    }
   ],
   "source": [
    "job = web.Job(simulation=heat_sim, task_name=\"heat_sim_check_mesh\")\n",
    "heat_sim_data = job.run()\n"
   ]
  },
  {
   "cell_type": "code",
   "execution_count": 17,
   "id": "b6d34c7e-9236-4e66-9518-c253e14bfa90",
   "metadata": {},
   "outputs": [
    {
     "data": {
      "application/vnd.jupyter.widget-view+json": {
       "model_id": "6e0acab714ea4908b13b5a4578af597d",
       "version_major": 2,
       "version_minor": 0
      },
      "text/plain": [
       "Output()"
      ]
     },
     "metadata": {},
     "output_type": "display_data"
    },
    {
     "data": {
      "text/html": [
       "<pre style=\"white-space:pre;overflow-x:auto;line-height:normal;font-family:Menlo,'DejaVu Sans Mono',consolas,'Courier New',monospace\"></pre>\n"
      ],
      "text/plain": []
     },
     "metadata": {},
     "output_type": "display_data"
    },
    {
     "data": {
      "text/html": [
       "<pre style=\"white-space:pre;overflow-x:auto;line-height:normal;font-family:Menlo,'DejaVu Sans Mono',consolas,'Courier New',monospace\">\n",
       "</pre>\n"
      ],
      "text/plain": [
       "\n"
      ]
     },
     "metadata": {},
     "output_type": "display_data"
    }
   ],
   "source": [
    "_ = web.core.s3utils.download_file(\n",
    "    resource_id=job.task_id,\n",
    "    remote_filename=\"volume_proc0.vtu\",\n",
    "    to_file=\"./heat_sim_solution.vtu\",\n",
    "    verbose=True,\n",
    ")\n"
   ]
  },
  {
   "cell_type": "markdown",
   "id": "27139077-7dec-41f0-9cb4-85200721d80d",
   "metadata": {},
   "source": [
    "## Batch Processing of Heat Simulations\n",
    "\n",
    "Having ensured that the simulation mesh is suitable for this simulation setup, let us perform a sweep through several values of electric current in the heating strip. To do this we create a dictionary of simulations with different source definitions."
   ]
  },
  {
   "cell_type": "code",
   "execution_count": 18,
   "id": "cf517d62-30d9-49af-87dd-a4206c3fd565",
   "metadata": {},
   "outputs": [
    {
     "data": {
      "text/html": [
       "<pre style=\"white-space:pre;overflow-x:auto;line-height:normal;font-family:Menlo,'DejaVu Sans Mono',consolas,'Courier New',monospace\"><span style=\"color: #7fbfbf; text-decoration-color: #7fbfbf\">15:44:38 CDT </span><span style=\"color: #800000; text-decoration-color: #800000\">WARNING: More than </span><span style=\"color: #008080; text-decoration-color: #008080; font-weight: bold\">2</span><span style=\"color: #800000; text-decoration-color: #800000\"> different solid zones </span><span style=\"color: #800000; text-decoration-color: #800000; font-weight: bold\">(</span><span style=\"color: #800000; text-decoration-color: #800000\">zone = medium + source</span><span style=\"color: #800000; text-decoration-color: #800000; font-weight: bold\">)</span>\n",
       "<span style=\"color: #7fbfbf; text-decoration-color: #7fbfbf\">             </span><span style=\"color: #800000; text-decoration-color: #800000\">are detected in the heat simulation. Make sure no more than </span><span style=\"color: #008080; text-decoration-color: #008080; font-weight: bold\">2</span><span style=\"color: #800000; text-decoration-color: #800000\"> solid</span>\n",
       "<span style=\"color: #7fbfbf; text-decoration-color: #7fbfbf\">             </span><span style=\"color: #800000; text-decoration-color: #800000\">zones are adjacent to each other anywhere in the simulation domain.</span>\n",
       "<span style=\"color: #7fbfbf; text-decoration-color: #7fbfbf\">             </span><span style=\"color: #800000; text-decoration-color: #800000\">The simulation results may be inaccurate otherwise. This           </span>\n",
       "<span style=\"color: #7fbfbf; text-decoration-color: #7fbfbf\">             </span><span style=\"color: #800000; text-decoration-color: #800000\">restriction will be removed in the upcoming Tidy3D versions.       </span>\n",
       "</pre>\n"
      ],
      "text/plain": [
       "\u001b[2;36m15:44:38 CDT\u001b[0m\u001b[2;36m \u001b[0m\u001b[31mWARNING: More than \u001b[0m\u001b[1;36m2\u001b[0m\u001b[31m different solid zones \u001b[0m\u001b[1;31m(\u001b[0m\u001b[31mzone = medium + source\u001b[0m\u001b[1;31m)\u001b[0m\n",
       "\u001b[2;36m             \u001b[0m\u001b[31mare detected in the heat simulation. Make sure no more than \u001b[0m\u001b[1;36m2\u001b[0m\u001b[31m solid\u001b[0m\n",
       "\u001b[2;36m             \u001b[0m\u001b[31mzones are adjacent to each other anywhere in the simulation domain.\u001b[0m\n",
       "\u001b[2;36m             \u001b[0m\u001b[31mThe simulation results may be inaccurate otherwise. This           \u001b[0m\n",
       "\u001b[2;36m             \u001b[0m\u001b[31mrestriction will be removed in the upcoming Tidy3D versions.       \u001b[0m\n"
      ]
     },
     "metadata": {},
     "output_type": "display_data"
    },
    {
     "data": {
      "text/html": [
       "<pre style=\"white-space:pre;overflow-x:auto;line-height:normal;font-family:Menlo,'DejaVu Sans Mono',consolas,'Courier New',monospace\"><span style=\"color: #7fbfbf; text-decoration-color: #7fbfbf\">             </span><span style=\"color: #800000; text-decoration-color: #800000\">WARNING: More than </span><span style=\"color: #008080; text-decoration-color: #008080; font-weight: bold\">2</span><span style=\"color: #800000; text-decoration-color: #800000\"> different solid zones </span><span style=\"color: #800000; text-decoration-color: #800000; font-weight: bold\">(</span><span style=\"color: #800000; text-decoration-color: #800000\">zone = medium + source</span><span style=\"color: #800000; text-decoration-color: #800000; font-weight: bold\">)</span>\n",
       "<span style=\"color: #7fbfbf; text-decoration-color: #7fbfbf\">             </span><span style=\"color: #800000; text-decoration-color: #800000\">are detected in the heat simulation. Make sure no more than </span><span style=\"color: #008080; text-decoration-color: #008080; font-weight: bold\">2</span><span style=\"color: #800000; text-decoration-color: #800000\"> solid</span>\n",
       "<span style=\"color: #7fbfbf; text-decoration-color: #7fbfbf\">             </span><span style=\"color: #800000; text-decoration-color: #800000\">zones are adjacent to each other anywhere in the simulation domain.</span>\n",
       "<span style=\"color: #7fbfbf; text-decoration-color: #7fbfbf\">             </span><span style=\"color: #800000; text-decoration-color: #800000\">The simulation results may be inaccurate otherwise. This           </span>\n",
       "<span style=\"color: #7fbfbf; text-decoration-color: #7fbfbf\">             </span><span style=\"color: #800000; text-decoration-color: #800000\">restriction will be removed in the upcoming Tidy3D versions.       </span>\n",
       "</pre>\n"
      ],
      "text/plain": [
       "\u001b[2;36m            \u001b[0m\u001b[2;36m \u001b[0m\u001b[31mWARNING: More than \u001b[0m\u001b[1;36m2\u001b[0m\u001b[31m different solid zones \u001b[0m\u001b[1;31m(\u001b[0m\u001b[31mzone = medium + source\u001b[0m\u001b[1;31m)\u001b[0m\n",
       "\u001b[2;36m             \u001b[0m\u001b[31mare detected in the heat simulation. Make sure no more than \u001b[0m\u001b[1;36m2\u001b[0m\u001b[31m solid\u001b[0m\n",
       "\u001b[2;36m             \u001b[0m\u001b[31mzones are adjacent to each other anywhere in the simulation domain.\u001b[0m\n",
       "\u001b[2;36m             \u001b[0m\u001b[31mThe simulation results may be inaccurate otherwise. This           \u001b[0m\n",
       "\u001b[2;36m             \u001b[0m\u001b[31mrestriction will be removed in the upcoming Tidy3D versions.       \u001b[0m\n"
      ]
     },
     "metadata": {},
     "output_type": "display_data"
    },
    {
     "data": {
      "text/html": [
       "<pre style=\"white-space:pre;overflow-x:auto;line-height:normal;font-family:Menlo,'DejaVu Sans Mono',consolas,'Courier New',monospace\"><span style=\"color: #7fbfbf; text-decoration-color: #7fbfbf\">             </span><span style=\"color: #800000; text-decoration-color: #800000\">WARNING: More than </span><span style=\"color: #008080; text-decoration-color: #008080; font-weight: bold\">2</span><span style=\"color: #800000; text-decoration-color: #800000\"> different solid zones </span><span style=\"color: #800000; text-decoration-color: #800000; font-weight: bold\">(</span><span style=\"color: #800000; text-decoration-color: #800000\">zone = medium + source</span><span style=\"color: #800000; text-decoration-color: #800000; font-weight: bold\">)</span>\n",
       "<span style=\"color: #7fbfbf; text-decoration-color: #7fbfbf\">             </span><span style=\"color: #800000; text-decoration-color: #800000\">are detected in the heat simulation. Make sure no more than </span><span style=\"color: #008080; text-decoration-color: #008080; font-weight: bold\">2</span><span style=\"color: #800000; text-decoration-color: #800000\"> solid</span>\n",
       "<span style=\"color: #7fbfbf; text-decoration-color: #7fbfbf\">             </span><span style=\"color: #800000; text-decoration-color: #800000\">zones are adjacent to each other anywhere in the simulation domain.</span>\n",
       "<span style=\"color: #7fbfbf; text-decoration-color: #7fbfbf\">             </span><span style=\"color: #800000; text-decoration-color: #800000\">The simulation results may be inaccurate otherwise. This           </span>\n",
       "<span style=\"color: #7fbfbf; text-decoration-color: #7fbfbf\">             </span><span style=\"color: #800000; text-decoration-color: #800000\">restriction will be removed in the upcoming Tidy3D versions.       </span>\n",
       "</pre>\n"
      ],
      "text/plain": [
       "\u001b[2;36m            \u001b[0m\u001b[2;36m \u001b[0m\u001b[31mWARNING: More than \u001b[0m\u001b[1;36m2\u001b[0m\u001b[31m different solid zones \u001b[0m\u001b[1;31m(\u001b[0m\u001b[31mzone = medium + source\u001b[0m\u001b[1;31m)\u001b[0m\n",
       "\u001b[2;36m             \u001b[0m\u001b[31mare detected in the heat simulation. Make sure no more than \u001b[0m\u001b[1;36m2\u001b[0m\u001b[31m solid\u001b[0m\n",
       "\u001b[2;36m             \u001b[0m\u001b[31mzones are adjacent to each other anywhere in the simulation domain.\u001b[0m\n",
       "\u001b[2;36m             \u001b[0m\u001b[31mThe simulation results may be inaccurate otherwise. This           \u001b[0m\n",
       "\u001b[2;36m             \u001b[0m\u001b[31mrestriction will be removed in the upcoming Tidy3D versions.       \u001b[0m\n"
      ]
     },
     "metadata": {},
     "output_type": "display_data"
    },
    {
     "data": {
      "text/html": [
       "<pre style=\"white-space:pre;overflow-x:auto;line-height:normal;font-family:Menlo,'DejaVu Sans Mono',consolas,'Courier New',monospace\"><span style=\"color: #7fbfbf; text-decoration-color: #7fbfbf\">             </span><span style=\"color: #800000; text-decoration-color: #800000\">WARNING: More than </span><span style=\"color: #008080; text-decoration-color: #008080; font-weight: bold\">2</span><span style=\"color: #800000; text-decoration-color: #800000\"> different solid zones </span><span style=\"color: #800000; text-decoration-color: #800000; font-weight: bold\">(</span><span style=\"color: #800000; text-decoration-color: #800000\">zone = medium + source</span><span style=\"color: #800000; text-decoration-color: #800000; font-weight: bold\">)</span>\n",
       "<span style=\"color: #7fbfbf; text-decoration-color: #7fbfbf\">             </span><span style=\"color: #800000; text-decoration-color: #800000\">are detected in the heat simulation. Make sure no more than </span><span style=\"color: #008080; text-decoration-color: #008080; font-weight: bold\">2</span><span style=\"color: #800000; text-decoration-color: #800000\"> solid</span>\n",
       "<span style=\"color: #7fbfbf; text-decoration-color: #7fbfbf\">             </span><span style=\"color: #800000; text-decoration-color: #800000\">zones are adjacent to each other anywhere in the simulation domain.</span>\n",
       "<span style=\"color: #7fbfbf; text-decoration-color: #7fbfbf\">             </span><span style=\"color: #800000; text-decoration-color: #800000\">The simulation results may be inaccurate otherwise. This           </span>\n",
       "<span style=\"color: #7fbfbf; text-decoration-color: #7fbfbf\">             </span><span style=\"color: #800000; text-decoration-color: #800000\">restriction will be removed in the upcoming Tidy3D versions.       </span>\n",
       "</pre>\n"
      ],
      "text/plain": [
       "\u001b[2;36m            \u001b[0m\u001b[2;36m \u001b[0m\u001b[31mWARNING: More than \u001b[0m\u001b[1;36m2\u001b[0m\u001b[31m different solid zones \u001b[0m\u001b[1;31m(\u001b[0m\u001b[31mzone = medium + source\u001b[0m\u001b[1;31m)\u001b[0m\n",
       "\u001b[2;36m             \u001b[0m\u001b[31mare detected in the heat simulation. Make sure no more than \u001b[0m\u001b[1;36m2\u001b[0m\u001b[31m solid\u001b[0m\n",
       "\u001b[2;36m             \u001b[0m\u001b[31mzones are adjacent to each other anywhere in the simulation domain.\u001b[0m\n",
       "\u001b[2;36m             \u001b[0m\u001b[31mThe simulation results may be inaccurate otherwise. This           \u001b[0m\n",
       "\u001b[2;36m             \u001b[0m\u001b[31mrestriction will be removed in the upcoming Tidy3D versions.       \u001b[0m\n"
      ]
     },
     "metadata": {},
     "output_type": "display_data"
    },
    {
     "data": {
      "text/html": [
       "<pre style=\"white-space:pre;overflow-x:auto;line-height:normal;font-family:Menlo,'DejaVu Sans Mono',consolas,'Courier New',monospace\"><span style=\"color: #7fbfbf; text-decoration-color: #7fbfbf\">             </span><span style=\"color: #800000; text-decoration-color: #800000\">WARNING: More than </span><span style=\"color: #008080; text-decoration-color: #008080; font-weight: bold\">2</span><span style=\"color: #800000; text-decoration-color: #800000\"> different solid zones </span><span style=\"color: #800000; text-decoration-color: #800000; font-weight: bold\">(</span><span style=\"color: #800000; text-decoration-color: #800000\">zone = medium + source</span><span style=\"color: #800000; text-decoration-color: #800000; font-weight: bold\">)</span>\n",
       "<span style=\"color: #7fbfbf; text-decoration-color: #7fbfbf\">             </span><span style=\"color: #800000; text-decoration-color: #800000\">are detected in the heat simulation. Make sure no more than </span><span style=\"color: #008080; text-decoration-color: #008080; font-weight: bold\">2</span><span style=\"color: #800000; text-decoration-color: #800000\"> solid</span>\n",
       "<span style=\"color: #7fbfbf; text-decoration-color: #7fbfbf\">             </span><span style=\"color: #800000; text-decoration-color: #800000\">zones are adjacent to each other anywhere in the simulation domain.</span>\n",
       "<span style=\"color: #7fbfbf; text-decoration-color: #7fbfbf\">             </span><span style=\"color: #800000; text-decoration-color: #800000\">The simulation results may be inaccurate otherwise. This           </span>\n",
       "<span style=\"color: #7fbfbf; text-decoration-color: #7fbfbf\">             </span><span style=\"color: #800000; text-decoration-color: #800000\">restriction will be removed in the upcoming Tidy3D versions.       </span>\n",
       "</pre>\n"
      ],
      "text/plain": [
       "\u001b[2;36m            \u001b[0m\u001b[2;36m \u001b[0m\u001b[31mWARNING: More than \u001b[0m\u001b[1;36m2\u001b[0m\u001b[31m different solid zones \u001b[0m\u001b[1;31m(\u001b[0m\u001b[31mzone = medium + source\u001b[0m\u001b[1;31m)\u001b[0m\n",
       "\u001b[2;36m             \u001b[0m\u001b[31mare detected in the heat simulation. Make sure no more than \u001b[0m\u001b[1;36m2\u001b[0m\u001b[31m solid\u001b[0m\n",
       "\u001b[2;36m             \u001b[0m\u001b[31mzones are adjacent to each other anywhere in the simulation domain.\u001b[0m\n",
       "\u001b[2;36m             \u001b[0m\u001b[31mThe simulation results may be inaccurate otherwise. This           \u001b[0m\n",
       "\u001b[2;36m             \u001b[0m\u001b[31mrestriction will be removed in the upcoming Tidy3D versions.       \u001b[0m\n"
      ]
     },
     "metadata": {},
     "output_type": "display_data"
    },
    {
     "data": {
      "text/html": [
       "<pre style=\"white-space:pre;overflow-x:auto;line-height:normal;font-family:Menlo,'DejaVu Sans Mono',consolas,'Courier New',monospace\"><span style=\"color: #7fbfbf; text-decoration-color: #7fbfbf\">             </span><span style=\"color: #800000; text-decoration-color: #800000\">WARNING: More than </span><span style=\"color: #008080; text-decoration-color: #008080; font-weight: bold\">2</span><span style=\"color: #800000; text-decoration-color: #800000\"> different solid zones </span><span style=\"color: #800000; text-decoration-color: #800000; font-weight: bold\">(</span><span style=\"color: #800000; text-decoration-color: #800000\">zone = medium + source</span><span style=\"color: #800000; text-decoration-color: #800000; font-weight: bold\">)</span>\n",
       "<span style=\"color: #7fbfbf; text-decoration-color: #7fbfbf\">             </span><span style=\"color: #800000; text-decoration-color: #800000\">are detected in the heat simulation. Make sure no more than </span><span style=\"color: #008080; text-decoration-color: #008080; font-weight: bold\">2</span><span style=\"color: #800000; text-decoration-color: #800000\"> solid</span>\n",
       "<span style=\"color: #7fbfbf; text-decoration-color: #7fbfbf\">             </span><span style=\"color: #800000; text-decoration-color: #800000\">zones are adjacent to each other anywhere in the simulation domain.</span>\n",
       "<span style=\"color: #7fbfbf; text-decoration-color: #7fbfbf\">             </span><span style=\"color: #800000; text-decoration-color: #800000\">The simulation results may be inaccurate otherwise. This           </span>\n",
       "<span style=\"color: #7fbfbf; text-decoration-color: #7fbfbf\">             </span><span style=\"color: #800000; text-decoration-color: #800000\">restriction will be removed in the upcoming Tidy3D versions.       </span>\n",
       "</pre>\n"
      ],
      "text/plain": [
       "\u001b[2;36m            \u001b[0m\u001b[2;36m \u001b[0m\u001b[31mWARNING: More than \u001b[0m\u001b[1;36m2\u001b[0m\u001b[31m different solid zones \u001b[0m\u001b[1;31m(\u001b[0m\u001b[31mzone = medium + source\u001b[0m\u001b[1;31m)\u001b[0m\n",
       "\u001b[2;36m             \u001b[0m\u001b[31mare detected in the heat simulation. Make sure no more than \u001b[0m\u001b[1;36m2\u001b[0m\u001b[31m solid\u001b[0m\n",
       "\u001b[2;36m             \u001b[0m\u001b[31mzones are adjacent to each other anywhere in the simulation domain.\u001b[0m\n",
       "\u001b[2;36m             \u001b[0m\u001b[31mThe simulation results may be inaccurate otherwise. This           \u001b[0m\n",
       "\u001b[2;36m             \u001b[0m\u001b[31mrestriction will be removed in the upcoming Tidy3D versions.       \u001b[0m\n"
      ]
     },
     "metadata": {},
     "output_type": "display_data"
    },
    {
     "data": {
      "text/html": [
       "<pre style=\"white-space:pre;overflow-x:auto;line-height:normal;font-family:Menlo,'DejaVu Sans Mono',consolas,'Courier New',monospace\"><span style=\"color: #7fbfbf; text-decoration-color: #7fbfbf\">             </span><span style=\"color: #800000; text-decoration-color: #800000\">WARNING: More than </span><span style=\"color: #008080; text-decoration-color: #008080; font-weight: bold\">2</span><span style=\"color: #800000; text-decoration-color: #800000\"> different solid zones </span><span style=\"color: #800000; text-decoration-color: #800000; font-weight: bold\">(</span><span style=\"color: #800000; text-decoration-color: #800000\">zone = medium + source</span><span style=\"color: #800000; text-decoration-color: #800000; font-weight: bold\">)</span>\n",
       "<span style=\"color: #7fbfbf; text-decoration-color: #7fbfbf\">             </span><span style=\"color: #800000; text-decoration-color: #800000\">are detected in the heat simulation. Make sure no more than </span><span style=\"color: #008080; text-decoration-color: #008080; font-weight: bold\">2</span><span style=\"color: #800000; text-decoration-color: #800000\"> solid</span>\n",
       "<span style=\"color: #7fbfbf; text-decoration-color: #7fbfbf\">             </span><span style=\"color: #800000; text-decoration-color: #800000\">zones are adjacent to each other anywhere in the simulation domain.</span>\n",
       "<span style=\"color: #7fbfbf; text-decoration-color: #7fbfbf\">             </span><span style=\"color: #800000; text-decoration-color: #800000\">The simulation results may be inaccurate otherwise. This           </span>\n",
       "<span style=\"color: #7fbfbf; text-decoration-color: #7fbfbf\">             </span><span style=\"color: #800000; text-decoration-color: #800000\">restriction will be removed in the upcoming Tidy3D versions.       </span>\n",
       "</pre>\n"
      ],
      "text/plain": [
       "\u001b[2;36m            \u001b[0m\u001b[2;36m \u001b[0m\u001b[31mWARNING: More than \u001b[0m\u001b[1;36m2\u001b[0m\u001b[31m different solid zones \u001b[0m\u001b[1;31m(\u001b[0m\u001b[31mzone = medium + source\u001b[0m\u001b[1;31m)\u001b[0m\n",
       "\u001b[2;36m             \u001b[0m\u001b[31mare detected in the heat simulation. Make sure no more than \u001b[0m\u001b[1;36m2\u001b[0m\u001b[31m solid\u001b[0m\n",
       "\u001b[2;36m             \u001b[0m\u001b[31mzones are adjacent to each other anywhere in the simulation domain.\u001b[0m\n",
       "\u001b[2;36m             \u001b[0m\u001b[31mThe simulation results may be inaccurate otherwise. This           \u001b[0m\n",
       "\u001b[2;36m             \u001b[0m\u001b[31mrestriction will be removed in the upcoming Tidy3D versions.       \u001b[0m\n"
      ]
     },
     "metadata": {},
     "output_type": "display_data"
    },
    {
     "data": {
      "text/html": [
       "<pre style=\"white-space:pre;overflow-x:auto;line-height:normal;font-family:Menlo,'DejaVu Sans Mono',consolas,'Courier New',monospace\"><span style=\"color: #7fbfbf; text-decoration-color: #7fbfbf\">             </span><span style=\"color: #800000; text-decoration-color: #800000\">WARNING: More than </span><span style=\"color: #008080; text-decoration-color: #008080; font-weight: bold\">2</span><span style=\"color: #800000; text-decoration-color: #800000\"> different solid zones </span><span style=\"color: #800000; text-decoration-color: #800000; font-weight: bold\">(</span><span style=\"color: #800000; text-decoration-color: #800000\">zone = medium + source</span><span style=\"color: #800000; text-decoration-color: #800000; font-weight: bold\">)</span>\n",
       "<span style=\"color: #7fbfbf; text-decoration-color: #7fbfbf\">             </span><span style=\"color: #800000; text-decoration-color: #800000\">are detected in the heat simulation. Make sure no more than </span><span style=\"color: #008080; text-decoration-color: #008080; font-weight: bold\">2</span><span style=\"color: #800000; text-decoration-color: #800000\"> solid</span>\n",
       "<span style=\"color: #7fbfbf; text-decoration-color: #7fbfbf\">             </span><span style=\"color: #800000; text-decoration-color: #800000\">zones are adjacent to each other anywhere in the simulation domain.</span>\n",
       "<span style=\"color: #7fbfbf; text-decoration-color: #7fbfbf\">             </span><span style=\"color: #800000; text-decoration-color: #800000\">The simulation results may be inaccurate otherwise. This           </span>\n",
       "<span style=\"color: #7fbfbf; text-decoration-color: #7fbfbf\">             </span><span style=\"color: #800000; text-decoration-color: #800000\">restriction will be removed in the upcoming Tidy3D versions.       </span>\n",
       "</pre>\n"
      ],
      "text/plain": [
       "\u001b[2;36m            \u001b[0m\u001b[2;36m \u001b[0m\u001b[31mWARNING: More than \u001b[0m\u001b[1;36m2\u001b[0m\u001b[31m different solid zones \u001b[0m\u001b[1;31m(\u001b[0m\u001b[31mzone = medium + source\u001b[0m\u001b[1;31m)\u001b[0m\n",
       "\u001b[2;36m             \u001b[0m\u001b[31mare detected in the heat simulation. Make sure no more than \u001b[0m\u001b[1;36m2\u001b[0m\u001b[31m solid\u001b[0m\n",
       "\u001b[2;36m             \u001b[0m\u001b[31mzones are adjacent to each other anywhere in the simulation domain.\u001b[0m\n",
       "\u001b[2;36m             \u001b[0m\u001b[31mThe simulation results may be inaccurate otherwise. This           \u001b[0m\n",
       "\u001b[2;36m             \u001b[0m\u001b[31mrestriction will be removed in the upcoming Tidy3D versions.       \u001b[0m\n"
      ]
     },
     "metadata": {},
     "output_type": "display_data"
    },
    {
     "data": {
      "text/html": [
       "<pre style=\"white-space:pre;overflow-x:auto;line-height:normal;font-family:Menlo,'DejaVu Sans Mono',consolas,'Courier New',monospace\"><span style=\"color: #7fbfbf; text-decoration-color: #7fbfbf\">             </span><span style=\"color: #800000; text-decoration-color: #800000\">WARNING: More than </span><span style=\"color: #008080; text-decoration-color: #008080; font-weight: bold\">2</span><span style=\"color: #800000; text-decoration-color: #800000\"> different solid zones </span><span style=\"color: #800000; text-decoration-color: #800000; font-weight: bold\">(</span><span style=\"color: #800000; text-decoration-color: #800000\">zone = medium + source</span><span style=\"color: #800000; text-decoration-color: #800000; font-weight: bold\">)</span>\n",
       "<span style=\"color: #7fbfbf; text-decoration-color: #7fbfbf\">             </span><span style=\"color: #800000; text-decoration-color: #800000\">are detected in the heat simulation. Make sure no more than </span><span style=\"color: #008080; text-decoration-color: #008080; font-weight: bold\">2</span><span style=\"color: #800000; text-decoration-color: #800000\"> solid</span>\n",
       "<span style=\"color: #7fbfbf; text-decoration-color: #7fbfbf\">             </span><span style=\"color: #800000; text-decoration-color: #800000\">zones are adjacent to each other anywhere in the simulation domain.</span>\n",
       "<span style=\"color: #7fbfbf; text-decoration-color: #7fbfbf\">             </span><span style=\"color: #800000; text-decoration-color: #800000\">The simulation results may be inaccurate otherwise. This           </span>\n",
       "<span style=\"color: #7fbfbf; text-decoration-color: #7fbfbf\">             </span><span style=\"color: #800000; text-decoration-color: #800000\">restriction will be removed in the upcoming Tidy3D versions.       </span>\n",
       "</pre>\n"
      ],
      "text/plain": [
       "\u001b[2;36m            \u001b[0m\u001b[2;36m \u001b[0m\u001b[31mWARNING: More than \u001b[0m\u001b[1;36m2\u001b[0m\u001b[31m different solid zones \u001b[0m\u001b[1;31m(\u001b[0m\u001b[31mzone = medium + source\u001b[0m\u001b[1;31m)\u001b[0m\n",
       "\u001b[2;36m             \u001b[0m\u001b[31mare detected in the heat simulation. Make sure no more than \u001b[0m\u001b[1;36m2\u001b[0m\u001b[31m solid\u001b[0m\n",
       "\u001b[2;36m             \u001b[0m\u001b[31mzones are adjacent to each other anywhere in the simulation domain.\u001b[0m\n",
       "\u001b[2;36m             \u001b[0m\u001b[31mThe simulation results may be inaccurate otherwise. This           \u001b[0m\n",
       "\u001b[2;36m             \u001b[0m\u001b[31mrestriction will be removed in the upcoming Tidy3D versions.       \u001b[0m\n"
      ]
     },
     "metadata": {},
     "output_type": "display_data"
    },
    {
     "data": {
      "text/html": [
       "<pre style=\"white-space:pre;overflow-x:auto;line-height:normal;font-family:Menlo,'DejaVu Sans Mono',consolas,'Courier New',monospace\"><span style=\"color: #7fbfbf; text-decoration-color: #7fbfbf\">             </span><span style=\"color: #800000; text-decoration-color: #800000\">WARNING: More than </span><span style=\"color: #008080; text-decoration-color: #008080; font-weight: bold\">2</span><span style=\"color: #800000; text-decoration-color: #800000\"> different solid zones </span><span style=\"color: #800000; text-decoration-color: #800000; font-weight: bold\">(</span><span style=\"color: #800000; text-decoration-color: #800000\">zone = medium + source</span><span style=\"color: #800000; text-decoration-color: #800000; font-weight: bold\">)</span>\n",
       "<span style=\"color: #7fbfbf; text-decoration-color: #7fbfbf\">             </span><span style=\"color: #800000; text-decoration-color: #800000\">are detected in the heat simulation. Make sure no more than </span><span style=\"color: #008080; text-decoration-color: #008080; font-weight: bold\">2</span><span style=\"color: #800000; text-decoration-color: #800000\"> solid</span>\n",
       "<span style=\"color: #7fbfbf; text-decoration-color: #7fbfbf\">             </span><span style=\"color: #800000; text-decoration-color: #800000\">zones are adjacent to each other anywhere in the simulation domain.</span>\n",
       "<span style=\"color: #7fbfbf; text-decoration-color: #7fbfbf\">             </span><span style=\"color: #800000; text-decoration-color: #800000\">The simulation results may be inaccurate otherwise. This           </span>\n",
       "<span style=\"color: #7fbfbf; text-decoration-color: #7fbfbf\">             </span><span style=\"color: #800000; text-decoration-color: #800000\">restriction will be removed in the upcoming Tidy3D versions.       </span>\n",
       "</pre>\n"
      ],
      "text/plain": [
       "\u001b[2;36m            \u001b[0m\u001b[2;36m \u001b[0m\u001b[31mWARNING: More than \u001b[0m\u001b[1;36m2\u001b[0m\u001b[31m different solid zones \u001b[0m\u001b[1;31m(\u001b[0m\u001b[31mzone = medium + source\u001b[0m\u001b[1;31m)\u001b[0m\n",
       "\u001b[2;36m             \u001b[0m\u001b[31mare detected in the heat simulation. Make sure no more than \u001b[0m\u001b[1;36m2\u001b[0m\u001b[31m solid\u001b[0m\n",
       "\u001b[2;36m             \u001b[0m\u001b[31mzones are adjacent to each other anywhere in the simulation domain.\u001b[0m\n",
       "\u001b[2;36m             \u001b[0m\u001b[31mThe simulation results may be inaccurate otherwise. This           \u001b[0m\n",
       "\u001b[2;36m             \u001b[0m\u001b[31mrestriction will be removed in the upcoming Tidy3D versions.       \u001b[0m\n"
      ]
     },
     "metadata": {},
     "output_type": "display_data"
    }
   ],
   "source": [
    "currents = np.linspace(1e-10, 7.4e-3, 10)\n",
    "heat_sims = {}\n",
    "\n",
    "for ind, current in enumerate(currents):\n",
    "    heat_rate = (current / h_heater / w_heater) ** 2 / TiN_sigma\n",
    "    heater_source = td.UniformHeatSource(rate=heat_rate, structures=[heater.name])\n",
    "\n",
    "    heat_sim_new = heat_sim.updated_copy(sources=[heater_source])\n",
    "    heat_sims[f\"heat_wg_current_{ind}\"] = heat_sim_new\n"
   ]
  },
  {
   "cell_type": "markdown",
   "id": "1328a7ef-4474-4706-916c-7d93c8860f26",
   "metadata": {},
   "source": [
    "And submit this dictionary using [Batch](../_autosummary/tidy3d.web.Batch.html) functionality."
   ]
  },
  {
   "cell_type": "code",
   "execution_count": 19,
   "id": "45fcd76e-adca-4ca1-8a80-b11e140bc947",
   "metadata": {},
   "outputs": [
    {
     "data": {
      "text/html": [
       "<pre style=\"white-space:pre;overflow-x:auto;line-height:normal;font-family:Menlo,'DejaVu Sans Mono',consolas,'Courier New',monospace\"><span style=\"color: #7fbfbf; text-decoration-color: #7fbfbf\">             </span>Created task <span style=\"color: #008000; text-decoration-color: #008000\">'heat_wg_current_0'</span> with task_id                      \n",
       "<span style=\"color: #7fbfbf; text-decoration-color: #7fbfbf\">             </span><span style=\"color: #008000; text-decoration-color: #008000\">'he-e5487cc9-6200-439a-a294-6a71298303a0v1'</span> and task_type <span style=\"color: #008000; text-decoration-color: #008000\">'HEAT'</span>.  \n",
       "</pre>\n"
      ],
      "text/plain": [
       "\u001b[2;36m            \u001b[0m\u001b[2;36m \u001b[0mCreated task \u001b[32m'heat_wg_current_0'\u001b[0m with task_id                      \n",
       "\u001b[2;36m             \u001b[0m\u001b[32m'he-e5487cc9-6200-439a-a294-6a71298303a0v1'\u001b[0m and task_type \u001b[32m'HEAT'\u001b[0m.  \n"
      ]
     },
     "metadata": {},
     "output_type": "display_data"
    },
    {
     "data": {
      "text/html": [
       "<pre style=\"white-space:pre;overflow-x:auto;line-height:normal;font-family:Menlo,'DejaVu Sans Mono',consolas,'Courier New',monospace\"><span style=\"color: #7fbfbf; text-decoration-color: #7fbfbf\">             </span>Tidy3D's heat solver is currently in the beta stage. All heat      \n",
       "<span style=\"color: #7fbfbf; text-decoration-color: #7fbfbf\">             </span>simulations are charged a flat fee of <span style=\"color: #008080; text-decoration-color: #008080; font-weight: bold\">0.025</span> FlexCredit.            \n",
       "</pre>\n"
      ],
      "text/plain": [
       "\u001b[2;36m            \u001b[0m\u001b[2;36m \u001b[0mTidy3D's heat solver is currently in the beta stage. All heat      \n",
       "\u001b[2;36m             \u001b[0msimulations are charged a flat fee of \u001b[1;36m0.025\u001b[0m FlexCredit.            \n"
      ]
     },
     "metadata": {},
     "output_type": "display_data"
    },
    {
     "data": {
      "application/vnd.jupyter.widget-view+json": {
       "model_id": "b44f4f6db4104527ab662d58b47cd33f",
       "version_major": 2,
       "version_minor": 0
      },
      "text/plain": [
       "Output()"
      ]
     },
     "metadata": {},
     "output_type": "display_data"
    },
    {
     "data": {
      "text/html": [
       "<pre style=\"white-space:pre;overflow-x:auto;line-height:normal;font-family:Menlo,'DejaVu Sans Mono',consolas,'Courier New',monospace\"></pre>\n"
      ],
      "text/plain": []
     },
     "metadata": {},
     "output_type": "display_data"
    },
    {
     "data": {
      "text/html": [
       "<pre style=\"white-space:pre;overflow-x:auto;line-height:normal;font-family:Menlo,'DejaVu Sans Mono',consolas,'Courier New',monospace\">\n",
       "</pre>\n"
      ],
      "text/plain": [
       "\n"
      ]
     },
     "metadata": {},
     "output_type": "display_data"
    },
    {
     "data": {
      "text/html": [
       "<pre style=\"white-space:pre;overflow-x:auto;line-height:normal;font-family:Menlo,'DejaVu Sans Mono',consolas,'Courier New',monospace\"><span style=\"color: #7fbfbf; text-decoration-color: #7fbfbf\">15:44:39 CDT </span>Created task <span style=\"color: #008000; text-decoration-color: #008000\">'heat_wg_current_1'</span> with task_id                      \n",
       "<span style=\"color: #7fbfbf; text-decoration-color: #7fbfbf\">             </span><span style=\"color: #008000; text-decoration-color: #008000\">'he-6568fb97-9ebd-4bb0-9899-adfb2dab37c0v1'</span> and task_type <span style=\"color: #008000; text-decoration-color: #008000\">'HEAT'</span>.  \n",
       "</pre>\n"
      ],
      "text/plain": [
       "\u001b[2;36m15:44:39 CDT\u001b[0m\u001b[2;36m \u001b[0mCreated task \u001b[32m'heat_wg_current_1'\u001b[0m with task_id                      \n",
       "\u001b[2;36m             \u001b[0m\u001b[32m'he-6568fb97-9ebd-4bb0-9899-adfb2dab37c0v1'\u001b[0m and task_type \u001b[32m'HEAT'\u001b[0m.  \n"
      ]
     },
     "metadata": {},
     "output_type": "display_data"
    },
    {
     "data": {
      "text/html": [
       "<pre style=\"white-space:pre;overflow-x:auto;line-height:normal;font-family:Menlo,'DejaVu Sans Mono',consolas,'Courier New',monospace\"><span style=\"color: #7fbfbf; text-decoration-color: #7fbfbf\">             </span>Tidy3D's heat solver is currently in the beta stage. All heat      \n",
       "<span style=\"color: #7fbfbf; text-decoration-color: #7fbfbf\">             </span>simulations are charged a flat fee of <span style=\"color: #008080; text-decoration-color: #008080; font-weight: bold\">0.025</span> FlexCredit.            \n",
       "</pre>\n"
      ],
      "text/plain": [
       "\u001b[2;36m            \u001b[0m\u001b[2;36m \u001b[0mTidy3D's heat solver is currently in the beta stage. All heat      \n",
       "\u001b[2;36m             \u001b[0msimulations are charged a flat fee of \u001b[1;36m0.025\u001b[0m FlexCredit.            \n"
      ]
     },
     "metadata": {},
     "output_type": "display_data"
    },
    {
     "data": {
      "application/vnd.jupyter.widget-view+json": {
       "model_id": "fb86c90470ce428a8f6e3961a3af0c3a",
       "version_major": 2,
       "version_minor": 0
      },
      "text/plain": [
       "Output()"
      ]
     },
     "metadata": {},
     "output_type": "display_data"
    },
    {
     "data": {
      "text/html": [
       "<pre style=\"white-space:pre;overflow-x:auto;line-height:normal;font-family:Menlo,'DejaVu Sans Mono',consolas,'Courier New',monospace\"></pre>\n"
      ],
      "text/plain": []
     },
     "metadata": {},
     "output_type": "display_data"
    },
    {
     "data": {
      "text/html": [
       "<pre style=\"white-space:pre;overflow-x:auto;line-height:normal;font-family:Menlo,'DejaVu Sans Mono',consolas,'Courier New',monospace\">\n",
       "</pre>\n"
      ],
      "text/plain": [
       "\n"
      ]
     },
     "metadata": {},
     "output_type": "display_data"
    },
    {
     "data": {
      "text/html": [
       "<pre style=\"white-space:pre;overflow-x:auto;line-height:normal;font-family:Menlo,'DejaVu Sans Mono',consolas,'Courier New',monospace\"><span style=\"color: #7fbfbf; text-decoration-color: #7fbfbf\">15:44:40 CDT </span>Created task <span style=\"color: #008000; text-decoration-color: #008000\">'heat_wg_current_2'</span> with task_id                      \n",
       "<span style=\"color: #7fbfbf; text-decoration-color: #7fbfbf\">             </span><span style=\"color: #008000; text-decoration-color: #008000\">'he-3e3301d5-5314-4afe-b85b-99041ca2ccc9v1'</span> and task_type <span style=\"color: #008000; text-decoration-color: #008000\">'HEAT'</span>.  \n",
       "</pre>\n"
      ],
      "text/plain": [
       "\u001b[2;36m15:44:40 CDT\u001b[0m\u001b[2;36m \u001b[0mCreated task \u001b[32m'heat_wg_current_2'\u001b[0m with task_id                      \n",
       "\u001b[2;36m             \u001b[0m\u001b[32m'he-3e3301d5-5314-4afe-b85b-99041ca2ccc9v1'\u001b[0m and task_type \u001b[32m'HEAT'\u001b[0m.  \n"
      ]
     },
     "metadata": {},
     "output_type": "display_data"
    },
    {
     "data": {
      "text/html": [
       "<pre style=\"white-space:pre;overflow-x:auto;line-height:normal;font-family:Menlo,'DejaVu Sans Mono',consolas,'Courier New',monospace\"><span style=\"color: #7fbfbf; text-decoration-color: #7fbfbf\">             </span>Tidy3D's heat solver is currently in the beta stage. All heat      \n",
       "<span style=\"color: #7fbfbf; text-decoration-color: #7fbfbf\">             </span>simulations are charged a flat fee of <span style=\"color: #008080; text-decoration-color: #008080; font-weight: bold\">0.025</span> FlexCredit.            \n",
       "</pre>\n"
      ],
      "text/plain": [
       "\u001b[2;36m            \u001b[0m\u001b[2;36m \u001b[0mTidy3D's heat solver is currently in the beta stage. All heat      \n",
       "\u001b[2;36m             \u001b[0msimulations are charged a flat fee of \u001b[1;36m0.025\u001b[0m FlexCredit.            \n"
      ]
     },
     "metadata": {},
     "output_type": "display_data"
    },
    {
     "data": {
      "application/vnd.jupyter.widget-view+json": {
       "model_id": "731c87679af440ac9303eb0370184d9f",
       "version_major": 2,
       "version_minor": 0
      },
      "text/plain": [
       "Output()"
      ]
     },
     "metadata": {},
     "output_type": "display_data"
    },
    {
     "data": {
      "text/html": [
       "<pre style=\"white-space:pre;overflow-x:auto;line-height:normal;font-family:Menlo,'DejaVu Sans Mono',consolas,'Courier New',monospace\"></pre>\n"
      ],
      "text/plain": []
     },
     "metadata": {},
     "output_type": "display_data"
    },
    {
     "data": {
      "text/html": [
       "<pre style=\"white-space:pre;overflow-x:auto;line-height:normal;font-family:Menlo,'DejaVu Sans Mono',consolas,'Courier New',monospace\">\n",
       "</pre>\n"
      ],
      "text/plain": [
       "\n"
      ]
     },
     "metadata": {},
     "output_type": "display_data"
    },
    {
     "data": {
      "text/html": [
       "<pre style=\"white-space:pre;overflow-x:auto;line-height:normal;font-family:Menlo,'DejaVu Sans Mono',consolas,'Courier New',monospace\"><span style=\"color: #7fbfbf; text-decoration-color: #7fbfbf\">15:44:41 CDT </span>Created task <span style=\"color: #008000; text-decoration-color: #008000\">'heat_wg_current_3'</span> with task_id                      \n",
       "<span style=\"color: #7fbfbf; text-decoration-color: #7fbfbf\">             </span><span style=\"color: #008000; text-decoration-color: #008000\">'he-b11255cf-1f8e-4ba2-8641-9317552ae56bv1'</span> and task_type <span style=\"color: #008000; text-decoration-color: #008000\">'HEAT'</span>.  \n",
       "</pre>\n"
      ],
      "text/plain": [
       "\u001b[2;36m15:44:41 CDT\u001b[0m\u001b[2;36m \u001b[0mCreated task \u001b[32m'heat_wg_current_3'\u001b[0m with task_id                      \n",
       "\u001b[2;36m             \u001b[0m\u001b[32m'he-b11255cf-1f8e-4ba2-8641-9317552ae56bv1'\u001b[0m and task_type \u001b[32m'HEAT'\u001b[0m.  \n"
      ]
     },
     "metadata": {},
     "output_type": "display_data"
    },
    {
     "data": {
      "text/html": [
       "<pre style=\"white-space:pre;overflow-x:auto;line-height:normal;font-family:Menlo,'DejaVu Sans Mono',consolas,'Courier New',monospace\"><span style=\"color: #7fbfbf; text-decoration-color: #7fbfbf\">             </span>Tidy3D's heat solver is currently in the beta stage. All heat      \n",
       "<span style=\"color: #7fbfbf; text-decoration-color: #7fbfbf\">             </span>simulations are charged a flat fee of <span style=\"color: #008080; text-decoration-color: #008080; font-weight: bold\">0.025</span> FlexCredit.            \n",
       "</pre>\n"
      ],
      "text/plain": [
       "\u001b[2;36m            \u001b[0m\u001b[2;36m \u001b[0mTidy3D's heat solver is currently in the beta stage. All heat      \n",
       "\u001b[2;36m             \u001b[0msimulations are charged a flat fee of \u001b[1;36m0.025\u001b[0m FlexCredit.            \n"
      ]
     },
     "metadata": {},
     "output_type": "display_data"
    },
    {
     "data": {
      "application/vnd.jupyter.widget-view+json": {
       "model_id": "35c1ae70c09e4a1a88c6c8f6476d8349",
       "version_major": 2,
       "version_minor": 0
      },
      "text/plain": [
       "Output()"
      ]
     },
     "metadata": {},
     "output_type": "display_data"
    },
    {
     "data": {
      "text/html": [
       "<pre style=\"white-space:pre;overflow-x:auto;line-height:normal;font-family:Menlo,'DejaVu Sans Mono',consolas,'Courier New',monospace\"></pre>\n"
      ],
      "text/plain": []
     },
     "metadata": {},
     "output_type": "display_data"
    },
    {
     "data": {
      "text/html": [
       "<pre style=\"white-space:pre;overflow-x:auto;line-height:normal;font-family:Menlo,'DejaVu Sans Mono',consolas,'Courier New',monospace\">\n",
       "</pre>\n"
      ],
      "text/plain": [
       "\n"
      ]
     },
     "metadata": {},
     "output_type": "display_data"
    },
    {
     "data": {
      "text/html": [
       "<pre style=\"white-space:pre;overflow-x:auto;line-height:normal;font-family:Menlo,'DejaVu Sans Mono',consolas,'Courier New',monospace\"><span style=\"color: #7fbfbf; text-decoration-color: #7fbfbf\">15:44:42 CDT </span>Created task <span style=\"color: #008000; text-decoration-color: #008000\">'heat_wg_current_4'</span> with task_id                      \n",
       "<span style=\"color: #7fbfbf; text-decoration-color: #7fbfbf\">             </span><span style=\"color: #008000; text-decoration-color: #008000\">'he-1c8f1e45-e9a7-4e8f-8978-81cba46c0807v1'</span> and task_type <span style=\"color: #008000; text-decoration-color: #008000\">'HEAT'</span>.  \n",
       "</pre>\n"
      ],
      "text/plain": [
       "\u001b[2;36m15:44:42 CDT\u001b[0m\u001b[2;36m \u001b[0mCreated task \u001b[32m'heat_wg_current_4'\u001b[0m with task_id                      \n",
       "\u001b[2;36m             \u001b[0m\u001b[32m'he-1c8f1e45-e9a7-4e8f-8978-81cba46c0807v1'\u001b[0m and task_type \u001b[32m'HEAT'\u001b[0m.  \n"
      ]
     },
     "metadata": {},
     "output_type": "display_data"
    },
    {
     "data": {
      "text/html": [
       "<pre style=\"white-space:pre;overflow-x:auto;line-height:normal;font-family:Menlo,'DejaVu Sans Mono',consolas,'Courier New',monospace\"><span style=\"color: #7fbfbf; text-decoration-color: #7fbfbf\">             </span>Tidy3D's heat solver is currently in the beta stage. All heat      \n",
       "<span style=\"color: #7fbfbf; text-decoration-color: #7fbfbf\">             </span>simulations are charged a flat fee of <span style=\"color: #008080; text-decoration-color: #008080; font-weight: bold\">0.025</span> FlexCredit.            \n",
       "</pre>\n"
      ],
      "text/plain": [
       "\u001b[2;36m            \u001b[0m\u001b[2;36m \u001b[0mTidy3D's heat solver is currently in the beta stage. All heat      \n",
       "\u001b[2;36m             \u001b[0msimulations are charged a flat fee of \u001b[1;36m0.025\u001b[0m FlexCredit.            \n"
      ]
     },
     "metadata": {},
     "output_type": "display_data"
    },
    {
     "data": {
      "application/vnd.jupyter.widget-view+json": {
       "model_id": "7da8370559354235a35350b1aeb4a0fc",
       "version_major": 2,
       "version_minor": 0
      },
      "text/plain": [
       "Output()"
      ]
     },
     "metadata": {},
     "output_type": "display_data"
    },
    {
     "data": {
      "text/html": [
       "<pre style=\"white-space:pre;overflow-x:auto;line-height:normal;font-family:Menlo,'DejaVu Sans Mono',consolas,'Courier New',monospace\"></pre>\n"
      ],
      "text/plain": []
     },
     "metadata": {},
     "output_type": "display_data"
    },
    {
     "data": {
      "text/html": [
       "<pre style=\"white-space:pre;overflow-x:auto;line-height:normal;font-family:Menlo,'DejaVu Sans Mono',consolas,'Courier New',monospace\">\n",
       "</pre>\n"
      ],
      "text/plain": [
       "\n"
      ]
     },
     "metadata": {},
     "output_type": "display_data"
    },
    {
     "data": {
      "text/html": [
       "<pre style=\"white-space:pre;overflow-x:auto;line-height:normal;font-family:Menlo,'DejaVu Sans Mono',consolas,'Courier New',monospace\"><span style=\"color: #7fbfbf; text-decoration-color: #7fbfbf\">15:44:43 CDT </span>Created task <span style=\"color: #008000; text-decoration-color: #008000\">'heat_wg_current_5'</span> with task_id                      \n",
       "<span style=\"color: #7fbfbf; text-decoration-color: #7fbfbf\">             </span><span style=\"color: #008000; text-decoration-color: #008000\">'he-fa32eb95-1385-4a5a-9390-fc4eae9d2a81v1'</span> and task_type <span style=\"color: #008000; text-decoration-color: #008000\">'HEAT'</span>.  \n",
       "</pre>\n"
      ],
      "text/plain": [
       "\u001b[2;36m15:44:43 CDT\u001b[0m\u001b[2;36m \u001b[0mCreated task \u001b[32m'heat_wg_current_5'\u001b[0m with task_id                      \n",
       "\u001b[2;36m             \u001b[0m\u001b[32m'he-fa32eb95-1385-4a5a-9390-fc4eae9d2a81v1'\u001b[0m and task_type \u001b[32m'HEAT'\u001b[0m.  \n"
      ]
     },
     "metadata": {},
     "output_type": "display_data"
    },
    {
     "data": {
      "text/html": [
       "<pre style=\"white-space:pre;overflow-x:auto;line-height:normal;font-family:Menlo,'DejaVu Sans Mono',consolas,'Courier New',monospace\"><span style=\"color: #7fbfbf; text-decoration-color: #7fbfbf\">             </span>Tidy3D's heat solver is currently in the beta stage. All heat      \n",
       "<span style=\"color: #7fbfbf; text-decoration-color: #7fbfbf\">             </span>simulations are charged a flat fee of <span style=\"color: #008080; text-decoration-color: #008080; font-weight: bold\">0.025</span> FlexCredit.            \n",
       "</pre>\n"
      ],
      "text/plain": [
       "\u001b[2;36m            \u001b[0m\u001b[2;36m \u001b[0mTidy3D's heat solver is currently in the beta stage. All heat      \n",
       "\u001b[2;36m             \u001b[0msimulations are charged a flat fee of \u001b[1;36m0.025\u001b[0m FlexCredit.            \n"
      ]
     },
     "metadata": {},
     "output_type": "display_data"
    },
    {
     "data": {
      "application/vnd.jupyter.widget-view+json": {
       "model_id": "53e9b1ce3bd6438a8db5c85f445fb00a",
       "version_major": 2,
       "version_minor": 0
      },
      "text/plain": [
       "Output()"
      ]
     },
     "metadata": {},
     "output_type": "display_data"
    },
    {
     "data": {
      "text/html": [
       "<pre style=\"white-space:pre;overflow-x:auto;line-height:normal;font-family:Menlo,'DejaVu Sans Mono',consolas,'Courier New',monospace\"></pre>\n"
      ],
      "text/plain": []
     },
     "metadata": {},
     "output_type": "display_data"
    },
    {
     "data": {
      "text/html": [
       "<pre style=\"white-space:pre;overflow-x:auto;line-height:normal;font-family:Menlo,'DejaVu Sans Mono',consolas,'Courier New',monospace\">\n",
       "</pre>\n"
      ],
      "text/plain": [
       "\n"
      ]
     },
     "metadata": {},
     "output_type": "display_data"
    },
    {
     "data": {
      "text/html": [
       "<pre style=\"white-space:pre;overflow-x:auto;line-height:normal;font-family:Menlo,'DejaVu Sans Mono',consolas,'Courier New',monospace\"><span style=\"color: #7fbfbf; text-decoration-color: #7fbfbf\">15:44:45 CDT </span>Created task <span style=\"color: #008000; text-decoration-color: #008000\">'heat_wg_current_6'</span> with task_id                      \n",
       "<span style=\"color: #7fbfbf; text-decoration-color: #7fbfbf\">             </span><span style=\"color: #008000; text-decoration-color: #008000\">'he-3b5d6d2e-761e-4bc7-b080-34d4b22bcfb1v1'</span> and task_type <span style=\"color: #008000; text-decoration-color: #008000\">'HEAT'</span>.  \n",
       "</pre>\n"
      ],
      "text/plain": [
       "\u001b[2;36m15:44:45 CDT\u001b[0m\u001b[2;36m \u001b[0mCreated task \u001b[32m'heat_wg_current_6'\u001b[0m with task_id                      \n",
       "\u001b[2;36m             \u001b[0m\u001b[32m'he-3b5d6d2e-761e-4bc7-b080-34d4b22bcfb1v1'\u001b[0m and task_type \u001b[32m'HEAT'\u001b[0m.  \n"
      ]
     },
     "metadata": {},
     "output_type": "display_data"
    },
    {
     "data": {
      "text/html": [
       "<pre style=\"white-space:pre;overflow-x:auto;line-height:normal;font-family:Menlo,'DejaVu Sans Mono',consolas,'Courier New',monospace\"><span style=\"color: #7fbfbf; text-decoration-color: #7fbfbf\">             </span>Tidy3D's heat solver is currently in the beta stage. All heat      \n",
       "<span style=\"color: #7fbfbf; text-decoration-color: #7fbfbf\">             </span>simulations are charged a flat fee of <span style=\"color: #008080; text-decoration-color: #008080; font-weight: bold\">0.025</span> FlexCredit.            \n",
       "</pre>\n"
      ],
      "text/plain": [
       "\u001b[2;36m            \u001b[0m\u001b[2;36m \u001b[0mTidy3D's heat solver is currently in the beta stage. All heat      \n",
       "\u001b[2;36m             \u001b[0msimulations are charged a flat fee of \u001b[1;36m0.025\u001b[0m FlexCredit.            \n"
      ]
     },
     "metadata": {},
     "output_type": "display_data"
    },
    {
     "data": {
      "application/vnd.jupyter.widget-view+json": {
       "model_id": "6923d31402474936870e7702379a9ab7",
       "version_major": 2,
       "version_minor": 0
      },
      "text/plain": [
       "Output()"
      ]
     },
     "metadata": {},
     "output_type": "display_data"
    },
    {
     "data": {
      "text/html": [
       "<pre style=\"white-space:pre;overflow-x:auto;line-height:normal;font-family:Menlo,'DejaVu Sans Mono',consolas,'Courier New',monospace\"></pre>\n"
      ],
      "text/plain": []
     },
     "metadata": {},
     "output_type": "display_data"
    },
    {
     "data": {
      "text/html": [
       "<pre style=\"white-space:pre;overflow-x:auto;line-height:normal;font-family:Menlo,'DejaVu Sans Mono',consolas,'Courier New',monospace\">\n",
       "</pre>\n"
      ],
      "text/plain": [
       "\n"
      ]
     },
     "metadata": {},
     "output_type": "display_data"
    },
    {
     "data": {
      "text/html": [
       "<pre style=\"white-space:pre;overflow-x:auto;line-height:normal;font-family:Menlo,'DejaVu Sans Mono',consolas,'Courier New',monospace\"><span style=\"color: #7fbfbf; text-decoration-color: #7fbfbf\">15:44:46 CDT </span>Created task <span style=\"color: #008000; text-decoration-color: #008000\">'heat_wg_current_7'</span> with task_id                      \n",
       "<span style=\"color: #7fbfbf; text-decoration-color: #7fbfbf\">             </span><span style=\"color: #008000; text-decoration-color: #008000\">'he-6bb99901-4870-4a4d-bd06-275ad43e049bv1'</span> and task_type <span style=\"color: #008000; text-decoration-color: #008000\">'HEAT'</span>.  \n",
       "</pre>\n"
      ],
      "text/plain": [
       "\u001b[2;36m15:44:46 CDT\u001b[0m\u001b[2;36m \u001b[0mCreated task \u001b[32m'heat_wg_current_7'\u001b[0m with task_id                      \n",
       "\u001b[2;36m             \u001b[0m\u001b[32m'he-6bb99901-4870-4a4d-bd06-275ad43e049bv1'\u001b[0m and task_type \u001b[32m'HEAT'\u001b[0m.  \n"
      ]
     },
     "metadata": {},
     "output_type": "display_data"
    },
    {
     "data": {
      "text/html": [
       "<pre style=\"white-space:pre;overflow-x:auto;line-height:normal;font-family:Menlo,'DejaVu Sans Mono',consolas,'Courier New',monospace\"><span style=\"color: #7fbfbf; text-decoration-color: #7fbfbf\">             </span>Tidy3D's heat solver is currently in the beta stage. All heat      \n",
       "<span style=\"color: #7fbfbf; text-decoration-color: #7fbfbf\">             </span>simulations are charged a flat fee of <span style=\"color: #008080; text-decoration-color: #008080; font-weight: bold\">0.025</span> FlexCredit.            \n",
       "</pre>\n"
      ],
      "text/plain": [
       "\u001b[2;36m            \u001b[0m\u001b[2;36m \u001b[0mTidy3D's heat solver is currently in the beta stage. All heat      \n",
       "\u001b[2;36m             \u001b[0msimulations are charged a flat fee of \u001b[1;36m0.025\u001b[0m FlexCredit.            \n"
      ]
     },
     "metadata": {},
     "output_type": "display_data"
    },
    {
     "data": {
      "application/vnd.jupyter.widget-view+json": {
       "model_id": "d27236fb37524f59ab8300c2ff72e32e",
       "version_major": 2,
       "version_minor": 0
      },
      "text/plain": [
       "Output()"
      ]
     },
     "metadata": {},
     "output_type": "display_data"
    },
    {
     "data": {
      "text/html": [
       "<pre style=\"white-space:pre;overflow-x:auto;line-height:normal;font-family:Menlo,'DejaVu Sans Mono',consolas,'Courier New',monospace\"></pre>\n"
      ],
      "text/plain": []
     },
     "metadata": {},
     "output_type": "display_data"
    },
    {
     "data": {
      "text/html": [
       "<pre style=\"white-space:pre;overflow-x:auto;line-height:normal;font-family:Menlo,'DejaVu Sans Mono',consolas,'Courier New',monospace\">\n",
       "</pre>\n"
      ],
      "text/plain": [
       "\n"
      ]
     },
     "metadata": {},
     "output_type": "display_data"
    },
    {
     "data": {
      "text/html": [
       "<pre style=\"white-space:pre;overflow-x:auto;line-height:normal;font-family:Menlo,'DejaVu Sans Mono',consolas,'Courier New',monospace\"><span style=\"color: #7fbfbf; text-decoration-color: #7fbfbf\">15:44:47 CDT </span>Created task <span style=\"color: #008000; text-decoration-color: #008000\">'heat_wg_current_8'</span> with task_id                      \n",
       "<span style=\"color: #7fbfbf; text-decoration-color: #7fbfbf\">             </span><span style=\"color: #008000; text-decoration-color: #008000\">'he-eb15d586-c201-415d-a74a-42c9fd0716fav1'</span> and task_type <span style=\"color: #008000; text-decoration-color: #008000\">'HEAT'</span>.  \n",
       "</pre>\n"
      ],
      "text/plain": [
       "\u001b[2;36m15:44:47 CDT\u001b[0m\u001b[2;36m \u001b[0mCreated task \u001b[32m'heat_wg_current_8'\u001b[0m with task_id                      \n",
       "\u001b[2;36m             \u001b[0m\u001b[32m'he-eb15d586-c201-415d-a74a-42c9fd0716fav1'\u001b[0m and task_type \u001b[32m'HEAT'\u001b[0m.  \n"
      ]
     },
     "metadata": {},
     "output_type": "display_data"
    },
    {
     "data": {
      "text/html": [
       "<pre style=\"white-space:pre;overflow-x:auto;line-height:normal;font-family:Menlo,'DejaVu Sans Mono',consolas,'Courier New',monospace\"><span style=\"color: #7fbfbf; text-decoration-color: #7fbfbf\">             </span>Tidy3D's heat solver is currently in the beta stage. All heat      \n",
       "<span style=\"color: #7fbfbf; text-decoration-color: #7fbfbf\">             </span>simulations are charged a flat fee of <span style=\"color: #008080; text-decoration-color: #008080; font-weight: bold\">0.025</span> FlexCredit.            \n",
       "</pre>\n"
      ],
      "text/plain": [
       "\u001b[2;36m            \u001b[0m\u001b[2;36m \u001b[0mTidy3D's heat solver is currently in the beta stage. All heat      \n",
       "\u001b[2;36m             \u001b[0msimulations are charged a flat fee of \u001b[1;36m0.025\u001b[0m FlexCredit.            \n"
      ]
     },
     "metadata": {},
     "output_type": "display_data"
    },
    {
     "data": {
      "application/vnd.jupyter.widget-view+json": {
       "model_id": "446b0ba0caa94f858396860657973350",
       "version_major": 2,
       "version_minor": 0
      },
      "text/plain": [
       "Output()"
      ]
     },
     "metadata": {},
     "output_type": "display_data"
    },
    {
     "data": {
      "text/html": [
       "<pre style=\"white-space:pre;overflow-x:auto;line-height:normal;font-family:Menlo,'DejaVu Sans Mono',consolas,'Courier New',monospace\"></pre>\n"
      ],
      "text/plain": []
     },
     "metadata": {},
     "output_type": "display_data"
    },
    {
     "data": {
      "text/html": [
       "<pre style=\"white-space:pre;overflow-x:auto;line-height:normal;font-family:Menlo,'DejaVu Sans Mono',consolas,'Courier New',monospace\">\n",
       "</pre>\n"
      ],
      "text/plain": [
       "\n"
      ]
     },
     "metadata": {},
     "output_type": "display_data"
    },
    {
     "data": {
      "text/html": [
       "<pre style=\"white-space:pre;overflow-x:auto;line-height:normal;font-family:Menlo,'DejaVu Sans Mono',consolas,'Courier New',monospace\"><span style=\"color: #7fbfbf; text-decoration-color: #7fbfbf\">15:44:48 CDT </span>Created task <span style=\"color: #008000; text-decoration-color: #008000\">'heat_wg_current_9'</span> with task_id                      \n",
       "<span style=\"color: #7fbfbf; text-decoration-color: #7fbfbf\">             </span><span style=\"color: #008000; text-decoration-color: #008000\">'he-d682c15e-9865-4146-bd2a-43f59bd9f115v1'</span> and task_type <span style=\"color: #008000; text-decoration-color: #008000\">'HEAT'</span>.  \n",
       "</pre>\n"
      ],
      "text/plain": [
       "\u001b[2;36m15:44:48 CDT\u001b[0m\u001b[2;36m \u001b[0mCreated task \u001b[32m'heat_wg_current_9'\u001b[0m with task_id                      \n",
       "\u001b[2;36m             \u001b[0m\u001b[32m'he-d682c15e-9865-4146-bd2a-43f59bd9f115v1'\u001b[0m and task_type \u001b[32m'HEAT'\u001b[0m.  \n"
      ]
     },
     "metadata": {},
     "output_type": "display_data"
    },
    {
     "data": {
      "text/html": [
       "<pre style=\"white-space:pre;overflow-x:auto;line-height:normal;font-family:Menlo,'DejaVu Sans Mono',consolas,'Courier New',monospace\"><span style=\"color: #7fbfbf; text-decoration-color: #7fbfbf\">             </span>Tidy3D's heat solver is currently in the beta stage. All heat      \n",
       "<span style=\"color: #7fbfbf; text-decoration-color: #7fbfbf\">             </span>simulations are charged a flat fee of <span style=\"color: #008080; text-decoration-color: #008080; font-weight: bold\">0.025</span> FlexCredit.            \n",
       "</pre>\n"
      ],
      "text/plain": [
       "\u001b[2;36m            \u001b[0m\u001b[2;36m \u001b[0mTidy3D's heat solver is currently in the beta stage. All heat      \n",
       "\u001b[2;36m             \u001b[0msimulations are charged a flat fee of \u001b[1;36m0.025\u001b[0m FlexCredit.            \n"
      ]
     },
     "metadata": {},
     "output_type": "display_data"
    },
    {
     "data": {
      "application/vnd.jupyter.widget-view+json": {
       "model_id": "8b00dc1e9e5642a88efea1c1b6d1e324",
       "version_major": 2,
       "version_minor": 0
      },
      "text/plain": [
       "Output()"
      ]
     },
     "metadata": {},
     "output_type": "display_data"
    },
    {
     "data": {
      "text/html": [
       "<pre style=\"white-space:pre;overflow-x:auto;line-height:normal;font-family:Menlo,'DejaVu Sans Mono',consolas,'Courier New',monospace\"></pre>\n"
      ],
      "text/plain": []
     },
     "metadata": {},
     "output_type": "display_data"
    },
    {
     "data": {
      "text/html": [
       "<pre style=\"white-space:pre;overflow-x:auto;line-height:normal;font-family:Menlo,'DejaVu Sans Mono',consolas,'Courier New',monospace\">\n",
       "</pre>\n"
      ],
      "text/plain": [
       "\n"
      ]
     },
     "metadata": {},
     "output_type": "display_data"
    }
   ],
   "source": [
    "batch = web.Batch(simulations=heat_sims)\n"
   ]
  },
  {
   "cell_type": "code",
   "execution_count": 20,
   "id": "2e1a7bb5-d583-451c-8ef2-a8a06615c789",
   "metadata": {},
   "outputs": [
    {
     "data": {
      "text/html": [
       "<pre style=\"white-space:pre;overflow-x:auto;line-height:normal;font-family:Menlo,'DejaVu Sans Mono',consolas,'Courier New',monospace\"><span style=\"color: #7fbfbf; text-decoration-color: #7fbfbf\">15:44:53 CDT </span>Started working on Batch.                                          \n",
       "</pre>\n"
      ],
      "text/plain": [
       "\u001b[2;36m15:44:53 CDT\u001b[0m\u001b[2;36m \u001b[0mStarted working on Batch.                                          \n"
      ]
     },
     "metadata": {},
     "output_type": "display_data"
    },
    {
     "data": {
      "text/html": [
       "<pre style=\"white-space:pre;overflow-x:auto;line-height:normal;font-family:Menlo,'DejaVu Sans Mono',consolas,'Courier New',monospace\"><span style=\"color: #7fbfbf; text-decoration-color: #7fbfbf\">15:44:58 CDT </span>Maximum FlexCredit cost: <span style=\"color: #008080; text-decoration-color: #008080; font-weight: bold\">0.250</span> for the whole batch. Use            \n",
       "<span style=\"color: #7fbfbf; text-decoration-color: #7fbfbf\">             </span><span style=\"color: #008000; text-decoration-color: #008000\">'Batch.real_cost()'</span> to get the billed FlexCredit cost after the    \n",
       "<span style=\"color: #7fbfbf; text-decoration-color: #7fbfbf\">             </span>Batch has completed.                                               \n",
       "</pre>\n"
      ],
      "text/plain": [
       "\u001b[2;36m15:44:58 CDT\u001b[0m\u001b[2;36m \u001b[0mMaximum FlexCredit cost: \u001b[1;36m0.250\u001b[0m for the whole batch. Use            \n",
       "\u001b[2;36m             \u001b[0m\u001b[32m'Batch.real_cost\u001b[0m\u001b[32m(\u001b[0m\u001b[32m)\u001b[0m\u001b[32m'\u001b[0m to get the billed FlexCredit cost after the    \n",
       "\u001b[2;36m             \u001b[0mBatch has completed.                                               \n"
      ]
     },
     "metadata": {},
     "output_type": "display_data"
    },
    {
     "data": {
      "application/vnd.jupyter.widget-view+json": {
       "model_id": "a77c8d845a9d4494a36d140986e86669",
       "version_major": 2,
       "version_minor": 0
      },
      "text/plain": [
       "Output()"
      ]
     },
     "metadata": {},
     "output_type": "display_data"
    },
    {
     "data": {
      "text/html": [
       "<pre style=\"white-space:pre;overflow-x:auto;line-height:normal;font-family:Menlo,'DejaVu Sans Mono',consolas,'Courier New',monospace\"><span style=\"color: #7fbfbf; text-decoration-color: #7fbfbf\">15:46:23 CDT </span>Batch complete.                                                    \n",
       "</pre>\n"
      ],
      "text/plain": [
       "\u001b[2;36m15:46:23 CDT\u001b[0m\u001b[2;36m \u001b[0mBatch complete.                                                    \n"
      ]
     },
     "metadata": {},
     "output_type": "display_data"
    },
    {
     "data": {
      "text/html": [
       "<pre style=\"white-space:pre;overflow-x:auto;line-height:normal;font-family:Menlo,'DejaVu Sans Mono',consolas,'Courier New',monospace\"></pre>\n"
      ],
      "text/plain": []
     },
     "metadata": {},
     "output_type": "display_data"
    },
    {
     "data": {
      "text/html": [
       "<pre style=\"white-space:pre;overflow-x:auto;line-height:normal;font-family:Menlo,'DejaVu Sans Mono',consolas,'Courier New',monospace\">\n",
       "</pre>\n"
      ],
      "text/plain": [
       "\n"
      ]
     },
     "metadata": {},
     "output_type": "display_data"
    }
   ],
   "source": [
    "batch_data = batch.run()\n"
   ]
  },
  {
   "cell_type": "markdown",
   "id": "32e26154-db45-4ef6-9147-fd1a4558c0a3",
   "metadata": {},
   "source": [
    "Visualize some of the simulation results."
   ]
  },
  {
   "cell_type": "code",
   "execution_count": 21,
   "id": "82ccf4ce-548d-4f33-b2be-7d19fab02db6",
   "metadata": {},
   "outputs": [
    {
     "data": {
      "application/vnd.jupyter.widget-view+json": {
       "model_id": "a7c3284c439541c3a2d9927782ee003c",
       "version_major": 2,
       "version_minor": 0
      },
      "text/plain": [
       "Output()"
      ]
     },
     "metadata": {},
     "output_type": "display_data"
    },
    {
     "data": {
      "text/html": [
       "<pre style=\"white-space:pre;overflow-x:auto;line-height:normal;font-family:Menlo,'DejaVu Sans Mono',consolas,'Courier New',monospace\"></pre>\n"
      ],
      "text/plain": []
     },
     "metadata": {},
     "output_type": "display_data"
    },
    {
     "data": {
      "text/html": [
       "<pre style=\"white-space:pre;overflow-x:auto;line-height:normal;font-family:Menlo,'DejaVu Sans Mono',consolas,'Courier New',monospace\">\n",
       "</pre>\n"
      ],
      "text/plain": [
       "\n"
      ]
     },
     "metadata": {},
     "output_type": "display_data"
    },
    {
     "data": {
      "text/html": [
       "<pre style=\"white-space:pre;overflow-x:auto;line-height:normal;font-family:Menlo,'DejaVu Sans Mono',consolas,'Courier New',monospace\"><span style=\"color: #7fbfbf; text-decoration-color: #7fbfbf\">15:46:26 CDT </span>loading simulation from                                            \n",
       "<span style=\"color: #7fbfbf; text-decoration-color: #7fbfbf\">             </span>.<span style=\"color: #800080; text-decoration-color: #800080\">/</span><span style=\"color: #ff00ff; text-decoration-color: #ff00ff\">he-6568fb97-9ebd-4bb0-9899-adfb2dab37c0v1.hdf5</span>                   \n",
       "</pre>\n"
      ],
      "text/plain": [
       "\u001b[2;36m15:46:26 CDT\u001b[0m\u001b[2;36m \u001b[0mloading simulation from                                            \n",
       "\u001b[2;36m             \u001b[0m.\u001b[35m/\u001b[0m\u001b[95mhe-6568fb97-9ebd-4bb0-9899-adfb2dab37c0v1.hdf5\u001b[0m                   \n"
      ]
     },
     "metadata": {},
     "output_type": "display_data"
    },
    {
     "data": {
      "text/html": [
       "<pre style=\"white-space:pre;overflow-x:auto;line-height:normal;font-family:Menlo,'DejaVu Sans Mono',consolas,'Courier New',monospace\"><span style=\"color: #7fbfbf; text-decoration-color: #7fbfbf\">             </span><span style=\"color: #800000; text-decoration-color: #800000\">WARNING: More than </span><span style=\"color: #008080; text-decoration-color: #008080; font-weight: bold\">2</span><span style=\"color: #800000; text-decoration-color: #800000\"> different solid zones </span><span style=\"color: #800000; text-decoration-color: #800000; font-weight: bold\">(</span><span style=\"color: #800000; text-decoration-color: #800000\">zone = medium + source</span><span style=\"color: #800000; text-decoration-color: #800000; font-weight: bold\">)</span>\n",
       "<span style=\"color: #7fbfbf; text-decoration-color: #7fbfbf\">             </span><span style=\"color: #800000; text-decoration-color: #800000\">are detected in the heat simulation. Make sure no more than </span><span style=\"color: #008080; text-decoration-color: #008080; font-weight: bold\">2</span><span style=\"color: #800000; text-decoration-color: #800000\"> solid</span>\n",
       "<span style=\"color: #7fbfbf; text-decoration-color: #7fbfbf\">             </span><span style=\"color: #800000; text-decoration-color: #800000\">zones are adjacent to each other anywhere in the simulation domain.</span>\n",
       "<span style=\"color: #7fbfbf; text-decoration-color: #7fbfbf\">             </span><span style=\"color: #800000; text-decoration-color: #800000\">The simulation results may be inaccurate otherwise. This           </span>\n",
       "<span style=\"color: #7fbfbf; text-decoration-color: #7fbfbf\">             </span><span style=\"color: #800000; text-decoration-color: #800000\">restriction will be removed in the upcoming Tidy3D versions.       </span>\n",
       "</pre>\n"
      ],
      "text/plain": [
       "\u001b[2;36m            \u001b[0m\u001b[2;36m \u001b[0m\u001b[31mWARNING: More than \u001b[0m\u001b[1;36m2\u001b[0m\u001b[31m different solid zones \u001b[0m\u001b[1;31m(\u001b[0m\u001b[31mzone = medium + source\u001b[0m\u001b[1;31m)\u001b[0m\n",
       "\u001b[2;36m             \u001b[0m\u001b[31mare detected in the heat simulation. Make sure no more than \u001b[0m\u001b[1;36m2\u001b[0m\u001b[31m solid\u001b[0m\n",
       "\u001b[2;36m             \u001b[0m\u001b[31mzones are adjacent to each other anywhere in the simulation domain.\u001b[0m\n",
       "\u001b[2;36m             \u001b[0m\u001b[31mThe simulation results may be inaccurate otherwise. This           \u001b[0m\n",
       "\u001b[2;36m             \u001b[0m\u001b[31mrestriction will be removed in the upcoming Tidy3D versions.       \u001b[0m\n"
      ]
     },
     "metadata": {},
     "output_type": "display_data"
    },
    {
     "data": {
      "application/vnd.jupyter.widget-view+json": {
       "model_id": "22d4ae71c6fc4c9ba129c6be42a0b46a",
       "version_major": 2,
       "version_minor": 0
      },
      "text/plain": [
       "Output()"
      ]
     },
     "metadata": {},
     "output_type": "display_data"
    },
    {
     "data": {
      "text/html": [
       "<pre style=\"white-space:pre;overflow-x:auto;line-height:normal;font-family:Menlo,'DejaVu Sans Mono',consolas,'Courier New',monospace\"></pre>\n"
      ],
      "text/plain": []
     },
     "metadata": {},
     "output_type": "display_data"
    },
    {
     "data": {
      "text/html": [
       "<pre style=\"white-space:pre;overflow-x:auto;line-height:normal;font-family:Menlo,'DejaVu Sans Mono',consolas,'Courier New',monospace\">\n",
       "</pre>\n"
      ],
      "text/plain": [
       "\n"
      ]
     },
     "metadata": {},
     "output_type": "display_data"
    },
    {
     "data": {
      "text/html": [
       "<pre style=\"white-space:pre;overflow-x:auto;line-height:normal;font-family:Menlo,'DejaVu Sans Mono',consolas,'Courier New',monospace\"><span style=\"color: #7fbfbf; text-decoration-color: #7fbfbf\">15:46:27 CDT </span>loading simulation from                                            \n",
       "<span style=\"color: #7fbfbf; text-decoration-color: #7fbfbf\">             </span>.<span style=\"color: #800080; text-decoration-color: #800080\">/</span><span style=\"color: #ff00ff; text-decoration-color: #ff00ff\">he-fa32eb95-1385-4a5a-9390-fc4eae9d2a81v1.hdf5</span>                   \n",
       "</pre>\n"
      ],
      "text/plain": [
       "\u001b[2;36m15:46:27 CDT\u001b[0m\u001b[2;36m \u001b[0mloading simulation from                                            \n",
       "\u001b[2;36m             \u001b[0m.\u001b[35m/\u001b[0m\u001b[95mhe-fa32eb95-1385-4a5a-9390-fc4eae9d2a81v1.hdf5\u001b[0m                   \n"
      ]
     },
     "metadata": {},
     "output_type": "display_data"
    },
    {
     "data": {
      "text/html": [
       "<pre style=\"white-space:pre;overflow-x:auto;line-height:normal;font-family:Menlo,'DejaVu Sans Mono',consolas,'Courier New',monospace\"><span style=\"color: #7fbfbf; text-decoration-color: #7fbfbf\">             </span><span style=\"color: #800000; text-decoration-color: #800000\">WARNING: More than </span><span style=\"color: #008080; text-decoration-color: #008080; font-weight: bold\">2</span><span style=\"color: #800000; text-decoration-color: #800000\"> different solid zones </span><span style=\"color: #800000; text-decoration-color: #800000; font-weight: bold\">(</span><span style=\"color: #800000; text-decoration-color: #800000\">zone = medium + source</span><span style=\"color: #800000; text-decoration-color: #800000; font-weight: bold\">)</span>\n",
       "<span style=\"color: #7fbfbf; text-decoration-color: #7fbfbf\">             </span><span style=\"color: #800000; text-decoration-color: #800000\">are detected in the heat simulation. Make sure no more than </span><span style=\"color: #008080; text-decoration-color: #008080; font-weight: bold\">2</span><span style=\"color: #800000; text-decoration-color: #800000\"> solid</span>\n",
       "<span style=\"color: #7fbfbf; text-decoration-color: #7fbfbf\">             </span><span style=\"color: #800000; text-decoration-color: #800000\">zones are adjacent to each other anywhere in the simulation domain.</span>\n",
       "<span style=\"color: #7fbfbf; text-decoration-color: #7fbfbf\">             </span><span style=\"color: #800000; text-decoration-color: #800000\">The simulation results may be inaccurate otherwise. This           </span>\n",
       "<span style=\"color: #7fbfbf; text-decoration-color: #7fbfbf\">             </span><span style=\"color: #800000; text-decoration-color: #800000\">restriction will be removed in the upcoming Tidy3D versions.       </span>\n",
       "</pre>\n"
      ],
      "text/plain": [
       "\u001b[2;36m            \u001b[0m\u001b[2;36m \u001b[0m\u001b[31mWARNING: More than \u001b[0m\u001b[1;36m2\u001b[0m\u001b[31m different solid zones \u001b[0m\u001b[1;31m(\u001b[0m\u001b[31mzone = medium + source\u001b[0m\u001b[1;31m)\u001b[0m\n",
       "\u001b[2;36m             \u001b[0m\u001b[31mare detected in the heat simulation. Make sure no more than \u001b[0m\u001b[1;36m2\u001b[0m\u001b[31m solid\u001b[0m\n",
       "\u001b[2;36m             \u001b[0m\u001b[31mzones are adjacent to each other anywhere in the simulation domain.\u001b[0m\n",
       "\u001b[2;36m             \u001b[0m\u001b[31mThe simulation results may be inaccurate otherwise. This           \u001b[0m\n",
       "\u001b[2;36m             \u001b[0m\u001b[31mrestriction will be removed in the upcoming Tidy3D versions.       \u001b[0m\n"
      ]
     },
     "metadata": {},
     "output_type": "display_data"
    },
    {
     "data": {
      "application/vnd.jupyter.widget-view+json": {
       "model_id": "63575b25397b481d89af50a018519bec",
       "version_major": 2,
       "version_minor": 0
      },
      "text/plain": [
       "Output()"
      ]
     },
     "metadata": {},
     "output_type": "display_data"
    },
    {
     "data": {
      "text/html": [
       "<pre style=\"white-space:pre;overflow-x:auto;line-height:normal;font-family:Menlo,'DejaVu Sans Mono',consolas,'Courier New',monospace\"></pre>\n"
      ],
      "text/plain": []
     },
     "metadata": {},
     "output_type": "display_data"
    },
    {
     "data": {
      "text/html": [
       "<pre style=\"white-space:pre;overflow-x:auto;line-height:normal;font-family:Menlo,'DejaVu Sans Mono',consolas,'Courier New',monospace\">\n",
       "</pre>\n"
      ],
      "text/plain": [
       "\n"
      ]
     },
     "metadata": {},
     "output_type": "display_data"
    },
    {
     "data": {
      "text/html": [
       "<pre style=\"white-space:pre;overflow-x:auto;line-height:normal;font-family:Menlo,'DejaVu Sans Mono',consolas,'Courier New',monospace\"><span style=\"color: #7fbfbf; text-decoration-color: #7fbfbf\">15:46:29 CDT </span>loading simulation from                                            \n",
       "<span style=\"color: #7fbfbf; text-decoration-color: #7fbfbf\">             </span>.<span style=\"color: #800080; text-decoration-color: #800080\">/</span><span style=\"color: #ff00ff; text-decoration-color: #ff00ff\">he-d682c15e-9865-4146-bd2a-43f59bd9f115v1.hdf5</span>                   \n",
       "</pre>\n"
      ],
      "text/plain": [
       "\u001b[2;36m15:46:29 CDT\u001b[0m\u001b[2;36m \u001b[0mloading simulation from                                            \n",
       "\u001b[2;36m             \u001b[0m.\u001b[35m/\u001b[0m\u001b[95mhe-d682c15e-9865-4146-bd2a-43f59bd9f115v1.hdf5\u001b[0m                   \n"
      ]
     },
     "metadata": {},
     "output_type": "display_data"
    },
    {
     "data": {
      "text/html": [
       "<pre style=\"white-space:pre;overflow-x:auto;line-height:normal;font-family:Menlo,'DejaVu Sans Mono',consolas,'Courier New',monospace\"><span style=\"color: #7fbfbf; text-decoration-color: #7fbfbf\">             </span><span style=\"color: #800000; text-decoration-color: #800000\">WARNING: More than </span><span style=\"color: #008080; text-decoration-color: #008080; font-weight: bold\">2</span><span style=\"color: #800000; text-decoration-color: #800000\"> different solid zones </span><span style=\"color: #800000; text-decoration-color: #800000; font-weight: bold\">(</span><span style=\"color: #800000; text-decoration-color: #800000\">zone = medium + source</span><span style=\"color: #800000; text-decoration-color: #800000; font-weight: bold\">)</span>\n",
       "<span style=\"color: #7fbfbf; text-decoration-color: #7fbfbf\">             </span><span style=\"color: #800000; text-decoration-color: #800000\">are detected in the heat simulation. Make sure no more than </span><span style=\"color: #008080; text-decoration-color: #008080; font-weight: bold\">2</span><span style=\"color: #800000; text-decoration-color: #800000\"> solid</span>\n",
       "<span style=\"color: #7fbfbf; text-decoration-color: #7fbfbf\">             </span><span style=\"color: #800000; text-decoration-color: #800000\">zones are adjacent to each other anywhere in the simulation domain.</span>\n",
       "<span style=\"color: #7fbfbf; text-decoration-color: #7fbfbf\">             </span><span style=\"color: #800000; text-decoration-color: #800000\">The simulation results may be inaccurate otherwise. This           </span>\n",
       "<span style=\"color: #7fbfbf; text-decoration-color: #7fbfbf\">             </span><span style=\"color: #800000; text-decoration-color: #800000\">restriction will be removed in the upcoming Tidy3D versions.       </span>\n",
       "</pre>\n"
      ],
      "text/plain": [
       "\u001b[2;36m            \u001b[0m\u001b[2;36m \u001b[0m\u001b[31mWARNING: More than \u001b[0m\u001b[1;36m2\u001b[0m\u001b[31m different solid zones \u001b[0m\u001b[1;31m(\u001b[0m\u001b[31mzone = medium + source\u001b[0m\u001b[1;31m)\u001b[0m\n",
       "\u001b[2;36m             \u001b[0m\u001b[31mare detected in the heat simulation. Make sure no more than \u001b[0m\u001b[1;36m2\u001b[0m\u001b[31m solid\u001b[0m\n",
       "\u001b[2;36m             \u001b[0m\u001b[31mzones are adjacent to each other anywhere in the simulation domain.\u001b[0m\n",
       "\u001b[2;36m             \u001b[0m\u001b[31mThe simulation results may be inaccurate otherwise. This           \u001b[0m\n",
       "\u001b[2;36m             \u001b[0m\u001b[31mrestriction will be removed in the upcoming Tidy3D versions.       \u001b[0m\n"
      ]
     },
     "metadata": {},
     "output_type": "display_data"
    },
    {
     "data": {
      "image/png": "[encoded data removed]",
      "text/plain": [
       "<Figure size 1700x200 with 6 Axes>"
      ]
     },
     "metadata": {},
     "output_type": "display_data"
    }
   ],
   "source": [
    "# max temperature value when plotting to enforce the same coloring\n",
    "temp_max_plot = 340\n",
    "\n",
    "fig, ax = plt.subplots(1, 3, figsize=(17, 2))\n",
    "\n",
    "batch_data[\"heat_wg_current_1\"].plot_field(\"temperature\", ax=ax[0], vmax=temp_max_plot)\n",
    "ax[0].set_title(f\"Current I = {currents[1]:1.3} A\")\n",
    "\n",
    "batch_data[\"heat_wg_current_5\"].plot_field(\"temperature\", ax=ax[1], vmax=temp_max_plot)\n",
    "ax[1].set_title(f\"Current I = {currents[5]:1.3} A\")\n",
    "\n",
    "batch_data[\"heat_wg_current_9\"].plot_field(\"temperature\", ax=ax[2], vmax=temp_max_plot)\n",
    "ax[2].set_title(f\"Current I = {currents[9]:1.3} A\")\n",
    "\n",
    "plt.show()\n"
   ]
  },
  {
   "cell_type": "markdown",
   "id": "1d22aebe-aa30-4332-b1b5-433922f10265",
   "metadata": {},
   "source": [
    "## Coupling to Optic Simulations\n",
    "\n",
    "Now let us create optic simulations where material properties are modified according to obtained temperature distributions. One can conveniently do that using method `.perturbed_mediums_copy()` of class [Scene](../_autosummary/tidy3d.Scene.html). We will use obtained optic simulations only to investigate waveguide modes, thus we are defining neither sources nor monitors, and only provide grid specification."
   ]
  },
  {
   "cell_type": "code",
   "execution_count": 22,
   "id": "1d695bd0-2428-4eaf-8970-60d99919eb02",
   "metadata": {},
   "outputs": [
    {
     "data": {
      "application/vnd.jupyter.widget-view+json": {
       "model_id": "dc8a4910bafc4e71888889fb66e830a8",
       "version_major": 2,
       "version_minor": 0
      },
      "text/plain": [
       "Output()"
      ]
     },
     "metadata": {},
     "output_type": "display_data"
    },
    {
     "data": {
      "text/html": [
       "<pre style=\"white-space:pre;overflow-x:auto;line-height:normal;font-family:Menlo,'DejaVu Sans Mono',consolas,'Courier New',monospace\"></pre>\n"
      ],
      "text/plain": []
     },
     "metadata": {},
     "output_type": "display_data"
    },
    {
     "data": {
      "text/html": [
       "<pre style=\"white-space:pre;overflow-x:auto;line-height:normal;font-family:Menlo,'DejaVu Sans Mono',consolas,'Courier New',monospace\">\n",
       "</pre>\n"
      ],
      "text/plain": [
       "\n"
      ]
     },
     "metadata": {},
     "output_type": "display_data"
    },
    {
     "data": {
      "text/html": [
       "<pre style=\"white-space:pre;overflow-x:auto;line-height:normal;font-family:Menlo,'DejaVu Sans Mono',consolas,'Courier New',monospace\"><span style=\"color: #7fbfbf; text-decoration-color: #7fbfbf\">15:46:31 CDT </span>loading simulation from                                            \n",
       "<span style=\"color: #7fbfbf; text-decoration-color: #7fbfbf\">             </span>.<span style=\"color: #800080; text-decoration-color: #800080\">/</span><span style=\"color: #ff00ff; text-decoration-color: #ff00ff\">he-e5487cc9-6200-439a-a294-6a71298303a0v1.hdf5</span>                   \n",
       "</pre>\n"
      ],
      "text/plain": [
       "\u001b[2;36m15:46:31 CDT\u001b[0m\u001b[2;36m \u001b[0mloading simulation from                                            \n",
       "\u001b[2;36m             \u001b[0m.\u001b[35m/\u001b[0m\u001b[95mhe-e5487cc9-6200-439a-a294-6a71298303a0v1.hdf5\u001b[0m                   \n"
      ]
     },
     "metadata": {},
     "output_type": "display_data"
    },
    {
     "data": {
      "text/html": [
       "<pre style=\"white-space:pre;overflow-x:auto;line-height:normal;font-family:Menlo,'DejaVu Sans Mono',consolas,'Courier New',monospace\"><span style=\"color: #7fbfbf; text-decoration-color: #7fbfbf\">             </span><span style=\"color: #800000; text-decoration-color: #800000\">WARNING: More than </span><span style=\"color: #008080; text-decoration-color: #008080; font-weight: bold\">2</span><span style=\"color: #800000; text-decoration-color: #800000\"> different solid zones </span><span style=\"color: #800000; text-decoration-color: #800000; font-weight: bold\">(</span><span style=\"color: #800000; text-decoration-color: #800000\">zone = medium + source</span><span style=\"color: #800000; text-decoration-color: #800000; font-weight: bold\">)</span>\n",
       "<span style=\"color: #7fbfbf; text-decoration-color: #7fbfbf\">             </span><span style=\"color: #800000; text-decoration-color: #800000\">are detected in the heat simulation. Make sure no more than </span><span style=\"color: #008080; text-decoration-color: #008080; font-weight: bold\">2</span><span style=\"color: #800000; text-decoration-color: #800000\"> solid</span>\n",
       "<span style=\"color: #7fbfbf; text-decoration-color: #7fbfbf\">             </span><span style=\"color: #800000; text-decoration-color: #800000\">zones are adjacent to each other anywhere in the simulation domain.</span>\n",
       "<span style=\"color: #7fbfbf; text-decoration-color: #7fbfbf\">             </span><span style=\"color: #800000; text-decoration-color: #800000\">The simulation results may be inaccurate otherwise. This           </span>\n",
       "<span style=\"color: #7fbfbf; text-decoration-color: #7fbfbf\">             </span><span style=\"color: #800000; text-decoration-color: #800000\">restriction will be removed in the upcoming Tidy3D versions.       </span>\n",
       "</pre>\n"
      ],
      "text/plain": [
       "\u001b[2;36m            \u001b[0m\u001b[2;36m \u001b[0m\u001b[31mWARNING: More than \u001b[0m\u001b[1;36m2\u001b[0m\u001b[31m different solid zones \u001b[0m\u001b[1;31m(\u001b[0m\u001b[31mzone = medium + source\u001b[0m\u001b[1;31m)\u001b[0m\n",
       "\u001b[2;36m             \u001b[0m\u001b[31mare detected in the heat simulation. Make sure no more than \u001b[0m\u001b[1;36m2\u001b[0m\u001b[31m solid\u001b[0m\n",
       "\u001b[2;36m             \u001b[0m\u001b[31mzones are adjacent to each other anywhere in the simulation domain.\u001b[0m\n",
       "\u001b[2;36m             \u001b[0m\u001b[31mThe simulation results may be inaccurate otherwise. This           \u001b[0m\n",
       "\u001b[2;36m             \u001b[0m\u001b[31mrestriction will be removed in the upcoming Tidy3D versions.       \u001b[0m\n"
      ]
     },
     "metadata": {},
     "output_type": "display_data"
    },
    {
     "data": {
      "text/html": [
       "<pre style=\"white-space:pre;overflow-x:auto;line-height:normal;font-family:Menlo,'DejaVu Sans Mono',consolas,'Courier New',monospace\"><span style=\"color: #7fbfbf; text-decoration-color: #7fbfbf\">             </span>loading simulation from                                            \n",
       "<span style=\"color: #7fbfbf; text-decoration-color: #7fbfbf\">             </span>.<span style=\"color: #800080; text-decoration-color: #800080\">/</span><span style=\"color: #ff00ff; text-decoration-color: #ff00ff\">he-6568fb97-9ebd-4bb0-9899-adfb2dab37c0v1.hdf5</span>                   \n",
       "</pre>\n"
      ],
      "text/plain": [
       "\u001b[2;36m            \u001b[0m\u001b[2;36m \u001b[0mloading simulation from                                            \n",
       "\u001b[2;36m             \u001b[0m.\u001b[35m/\u001b[0m\u001b[95mhe-6568fb97-9ebd-4bb0-9899-adfb2dab37c0v1.hdf5\u001b[0m                   \n"
      ]
     },
     "metadata": {},
     "output_type": "display_data"
    },
    {
     "data": {
      "text/html": [
       "<pre style=\"white-space:pre;overflow-x:auto;line-height:normal;font-family:Menlo,'DejaVu Sans Mono',consolas,'Courier New',monospace\"><span style=\"color: #7fbfbf; text-decoration-color: #7fbfbf\">             </span><span style=\"color: #800000; text-decoration-color: #800000\">WARNING: More than </span><span style=\"color: #008080; text-decoration-color: #008080; font-weight: bold\">2</span><span style=\"color: #800000; text-decoration-color: #800000\"> different solid zones </span><span style=\"color: #800000; text-decoration-color: #800000; font-weight: bold\">(</span><span style=\"color: #800000; text-decoration-color: #800000\">zone = medium + source</span><span style=\"color: #800000; text-decoration-color: #800000; font-weight: bold\">)</span>\n",
       "<span style=\"color: #7fbfbf; text-decoration-color: #7fbfbf\">             </span><span style=\"color: #800000; text-decoration-color: #800000\">are detected in the heat simulation. Make sure no more than </span><span style=\"color: #008080; text-decoration-color: #008080; font-weight: bold\">2</span><span style=\"color: #800000; text-decoration-color: #800000\"> solid</span>\n",
       "<span style=\"color: #7fbfbf; text-decoration-color: #7fbfbf\">             </span><span style=\"color: #800000; text-decoration-color: #800000\">zones are adjacent to each other anywhere in the simulation domain.</span>\n",
       "<span style=\"color: #7fbfbf; text-decoration-color: #7fbfbf\">             </span><span style=\"color: #800000; text-decoration-color: #800000\">The simulation results may be inaccurate otherwise. This           </span>\n",
       "<span style=\"color: #7fbfbf; text-decoration-color: #7fbfbf\">             </span><span style=\"color: #800000; text-decoration-color: #800000\">restriction will be removed in the upcoming Tidy3D versions.       </span>\n",
       "</pre>\n"
      ],
      "text/plain": [
       "\u001b[2;36m            \u001b[0m\u001b[2;36m \u001b[0m\u001b[31mWARNING: More than \u001b[0m\u001b[1;36m2\u001b[0m\u001b[31m different solid zones \u001b[0m\u001b[1;31m(\u001b[0m\u001b[31mzone = medium + source\u001b[0m\u001b[1;31m)\u001b[0m\n",
       "\u001b[2;36m             \u001b[0m\u001b[31mare detected in the heat simulation. Make sure no more than \u001b[0m\u001b[1;36m2\u001b[0m\u001b[31m solid\u001b[0m\n",
       "\u001b[2;36m             \u001b[0m\u001b[31mzones are adjacent to each other anywhere in the simulation domain.\u001b[0m\n",
       "\u001b[2;36m             \u001b[0m\u001b[31mThe simulation results may be inaccurate otherwise. This           \u001b[0m\n",
       "\u001b[2;36m             \u001b[0m\u001b[31mrestriction will be removed in the upcoming Tidy3D versions.       \u001b[0m\n"
      ]
     },
     "metadata": {},
     "output_type": "display_data"
    },
    {
     "data": {
      "application/vnd.jupyter.widget-view+json": {
       "model_id": "2e20cdb9f05040a2a343a578fdb6688e",
       "version_major": 2,
       "version_minor": 0
      },
      "text/plain": [
       "Output()"
      ]
     },
     "metadata": {},
     "output_type": "display_data"
    },
    {
     "data": {
      "text/html": [
       "<pre style=\"white-space:pre;overflow-x:auto;line-height:normal;font-family:Menlo,'DejaVu Sans Mono',consolas,'Courier New',monospace\"></pre>\n"
      ],
      "text/plain": []
     },
     "metadata": {},
     "output_type": "display_data"
    },
    {
     "data": {
      "text/html": [
       "<pre style=\"white-space:pre;overflow-x:auto;line-height:normal;font-family:Menlo,'DejaVu Sans Mono',consolas,'Courier New',monospace\">\n",
       "</pre>\n"
      ],
      "text/plain": [
       "\n"
      ]
     },
     "metadata": {},
     "output_type": "display_data"
    },
    {
     "data": {
      "text/html": [
       "<pre style=\"white-space:pre;overflow-x:auto;line-height:normal;font-family:Menlo,'DejaVu Sans Mono',consolas,'Courier New',monospace\"><span style=\"color: #7fbfbf; text-decoration-color: #7fbfbf\">15:46:33 CDT </span>loading simulation from                                            \n",
       "<span style=\"color: #7fbfbf; text-decoration-color: #7fbfbf\">             </span>.<span style=\"color: #800080; text-decoration-color: #800080\">/</span><span style=\"color: #ff00ff; text-decoration-color: #ff00ff\">he-3e3301d5-5314-4afe-b85b-99041ca2ccc9v1.hdf5</span>                   \n",
       "</pre>\n"
      ],
      "text/plain": [
       "\u001b[2;36m15:46:33 CDT\u001b[0m\u001b[2;36m \u001b[0mloading simulation from                                            \n",
       "\u001b[2;36m             \u001b[0m.\u001b[35m/\u001b[0m\u001b[95mhe-3e3301d5-5314-4afe-b85b-99041ca2ccc9v1.hdf5\u001b[0m                   \n"
      ]
     },
     "metadata": {},
     "output_type": "display_data"
    },
    {
     "data": {
      "text/html": [
       "<pre style=\"white-space:pre;overflow-x:auto;line-height:normal;font-family:Menlo,'DejaVu Sans Mono',consolas,'Courier New',monospace\"><span style=\"color: #7fbfbf; text-decoration-color: #7fbfbf\">             </span><span style=\"color: #800000; text-decoration-color: #800000\">WARNING: More than </span><span style=\"color: #008080; text-decoration-color: #008080; font-weight: bold\">2</span><span style=\"color: #800000; text-decoration-color: #800000\"> different solid zones </span><span style=\"color: #800000; text-decoration-color: #800000; font-weight: bold\">(</span><span style=\"color: #800000; text-decoration-color: #800000\">zone = medium + source</span><span style=\"color: #800000; text-decoration-color: #800000; font-weight: bold\">)</span>\n",
       "<span style=\"color: #7fbfbf; text-decoration-color: #7fbfbf\">             </span><span style=\"color: #800000; text-decoration-color: #800000\">are detected in the heat simulation. Make sure no more than </span><span style=\"color: #008080; text-decoration-color: #008080; font-weight: bold\">2</span><span style=\"color: #800000; text-decoration-color: #800000\"> solid</span>\n",
       "<span style=\"color: #7fbfbf; text-decoration-color: #7fbfbf\">             </span><span style=\"color: #800000; text-decoration-color: #800000\">zones are adjacent to each other anywhere in the simulation domain.</span>\n",
       "<span style=\"color: #7fbfbf; text-decoration-color: #7fbfbf\">             </span><span style=\"color: #800000; text-decoration-color: #800000\">The simulation results may be inaccurate otherwise. This           </span>\n",
       "<span style=\"color: #7fbfbf; text-decoration-color: #7fbfbf\">             </span><span style=\"color: #800000; text-decoration-color: #800000\">restriction will be removed in the upcoming Tidy3D versions.       </span>\n",
       "</pre>\n"
      ],
      "text/plain": [
       "\u001b[2;36m            \u001b[0m\u001b[2;36m \u001b[0m\u001b[31mWARNING: More than \u001b[0m\u001b[1;36m2\u001b[0m\u001b[31m different solid zones \u001b[0m\u001b[1;31m(\u001b[0m\u001b[31mzone = medium + source\u001b[0m\u001b[1;31m)\u001b[0m\n",
       "\u001b[2;36m             \u001b[0m\u001b[31mare detected in the heat simulation. Make sure no more than \u001b[0m\u001b[1;36m2\u001b[0m\u001b[31m solid\u001b[0m\n",
       "\u001b[2;36m             \u001b[0m\u001b[31mzones are adjacent to each other anywhere in the simulation domain.\u001b[0m\n",
       "\u001b[2;36m             \u001b[0m\u001b[31mThe simulation results may be inaccurate otherwise. This           \u001b[0m\n",
       "\u001b[2;36m             \u001b[0m\u001b[31mrestriction will be removed in the upcoming Tidy3D versions.       \u001b[0m\n"
      ]
     },
     "metadata": {},
     "output_type": "display_data"
    },
    {
     "data": {
      "application/vnd.jupyter.widget-view+json": {
       "model_id": "16f7741bf008423aab319fc284341199",
       "version_major": 2,
       "version_minor": 0
      },
      "text/plain": [
       "Output()"
      ]
     },
     "metadata": {},
     "output_type": "display_data"
    },
    {
     "data": {
      "text/html": [
       "<pre style=\"white-space:pre;overflow-x:auto;line-height:normal;font-family:Menlo,'DejaVu Sans Mono',consolas,'Courier New',monospace\"></pre>\n"
      ],
      "text/plain": []
     },
     "metadata": {},
     "output_type": "display_data"
    },
    {
     "data": {
      "text/html": [
       "<pre style=\"white-space:pre;overflow-x:auto;line-height:normal;font-family:Menlo,'DejaVu Sans Mono',consolas,'Courier New',monospace\">\n",
       "</pre>\n"
      ],
      "text/plain": [
       "\n"
      ]
     },
     "metadata": {},
     "output_type": "display_data"
    },
    {
     "data": {
      "text/html": [
       "<pre style=\"white-space:pre;overflow-x:auto;line-height:normal;font-family:Menlo,'DejaVu Sans Mono',consolas,'Courier New',monospace\"><span style=\"color: #7fbfbf; text-decoration-color: #7fbfbf\">15:46:34 CDT </span>loading simulation from                                            \n",
       "<span style=\"color: #7fbfbf; text-decoration-color: #7fbfbf\">             </span>.<span style=\"color: #800080; text-decoration-color: #800080\">/</span><span style=\"color: #ff00ff; text-decoration-color: #ff00ff\">he-b11255cf-1f8e-4ba2-8641-9317552ae56bv1.hdf5</span>                   \n",
       "</pre>\n"
      ],
      "text/plain": [
       "\u001b[2;36m15:46:34 CDT\u001b[0m\u001b[2;36m \u001b[0mloading simulation from                                            \n",
       "\u001b[2;36m             \u001b[0m.\u001b[35m/\u001b[0m\u001b[95mhe-b11255cf-1f8e-4ba2-8641-9317552ae56bv1.hdf5\u001b[0m                   \n"
      ]
     },
     "metadata": {},
     "output_type": "display_data"
    },
    {
     "data": {
      "text/html": [
       "<pre style=\"white-space:pre;overflow-x:auto;line-height:normal;font-family:Menlo,'DejaVu Sans Mono',consolas,'Courier New',monospace\"><span style=\"color: #7fbfbf; text-decoration-color: #7fbfbf\">             </span><span style=\"color: #800000; text-decoration-color: #800000\">WARNING: More than </span><span style=\"color: #008080; text-decoration-color: #008080; font-weight: bold\">2</span><span style=\"color: #800000; text-decoration-color: #800000\"> different solid zones </span><span style=\"color: #800000; text-decoration-color: #800000; font-weight: bold\">(</span><span style=\"color: #800000; text-decoration-color: #800000\">zone = medium + source</span><span style=\"color: #800000; text-decoration-color: #800000; font-weight: bold\">)</span>\n",
       "<span style=\"color: #7fbfbf; text-decoration-color: #7fbfbf\">             </span><span style=\"color: #800000; text-decoration-color: #800000\">are detected in the heat simulation. Make sure no more than </span><span style=\"color: #008080; text-decoration-color: #008080; font-weight: bold\">2</span><span style=\"color: #800000; text-decoration-color: #800000\"> solid</span>\n",
       "<span style=\"color: #7fbfbf; text-decoration-color: #7fbfbf\">             </span><span style=\"color: #800000; text-decoration-color: #800000\">zones are adjacent to each other anywhere in the simulation domain.</span>\n",
       "<span style=\"color: #7fbfbf; text-decoration-color: #7fbfbf\">             </span><span style=\"color: #800000; text-decoration-color: #800000\">The simulation results may be inaccurate otherwise. This           </span>\n",
       "<span style=\"color: #7fbfbf; text-decoration-color: #7fbfbf\">             </span><span style=\"color: #800000; text-decoration-color: #800000\">restriction will be removed in the upcoming Tidy3D versions.       </span>\n",
       "</pre>\n"
      ],
      "text/plain": [
       "\u001b[2;36m            \u001b[0m\u001b[2;36m \u001b[0m\u001b[31mWARNING: More than \u001b[0m\u001b[1;36m2\u001b[0m\u001b[31m different solid zones \u001b[0m\u001b[1;31m(\u001b[0m\u001b[31mzone = medium + source\u001b[0m\u001b[1;31m)\u001b[0m\n",
       "\u001b[2;36m             \u001b[0m\u001b[31mare detected in the heat simulation. Make sure no more than \u001b[0m\u001b[1;36m2\u001b[0m\u001b[31m solid\u001b[0m\n",
       "\u001b[2;36m             \u001b[0m\u001b[31mzones are adjacent to each other anywhere in the simulation domain.\u001b[0m\n",
       "\u001b[2;36m             \u001b[0m\u001b[31mThe simulation results may be inaccurate otherwise. This           \u001b[0m\n",
       "\u001b[2;36m             \u001b[0m\u001b[31mrestriction will be removed in the upcoming Tidy3D versions.       \u001b[0m\n"
      ]
     },
     "metadata": {},
     "output_type": "display_data"
    },
    {
     "data": {
      "application/vnd.jupyter.widget-view+json": {
       "model_id": "f01fa254caf5405ebd4672577ddd1a6b",
       "version_major": 2,
       "version_minor": 0
      },
      "text/plain": [
       "Output()"
      ]
     },
     "metadata": {},
     "output_type": "display_data"
    },
    {
     "data": {
      "text/html": [
       "<pre style=\"white-space:pre;overflow-x:auto;line-height:normal;font-family:Menlo,'DejaVu Sans Mono',consolas,'Courier New',monospace\"></pre>\n"
      ],
      "text/plain": []
     },
     "metadata": {},
     "output_type": "display_data"
    },
    {
     "data": {
      "text/html": [
       "<pre style=\"white-space:pre;overflow-x:auto;line-height:normal;font-family:Menlo,'DejaVu Sans Mono',consolas,'Courier New',monospace\">\n",
       "</pre>\n"
      ],
      "text/plain": [
       "\n"
      ]
     },
     "metadata": {},
     "output_type": "display_data"
    },
    {
     "data": {
      "text/html": [
       "<pre style=\"white-space:pre;overflow-x:auto;line-height:normal;font-family:Menlo,'DejaVu Sans Mono',consolas,'Courier New',monospace\"><span style=\"color: #7fbfbf; text-decoration-color: #7fbfbf\">15:46:36 CDT </span>loading simulation from                                            \n",
       "<span style=\"color: #7fbfbf; text-decoration-color: #7fbfbf\">             </span>.<span style=\"color: #800080; text-decoration-color: #800080\">/</span><span style=\"color: #ff00ff; text-decoration-color: #ff00ff\">he-1c8f1e45-e9a7-4e8f-8978-81cba46c0807v1.hdf5</span>                   \n",
       "</pre>\n"
      ],
      "text/plain": [
       "\u001b[2;36m15:46:36 CDT\u001b[0m\u001b[2;36m \u001b[0mloading simulation from                                            \n",
       "\u001b[2;36m             \u001b[0m.\u001b[35m/\u001b[0m\u001b[95mhe-1c8f1e45-e9a7-4e8f-8978-81cba46c0807v1.hdf5\u001b[0m                   \n"
      ]
     },
     "metadata": {},
     "output_type": "display_data"
    },
    {
     "data": {
      "text/html": [
       "<pre style=\"white-space:pre;overflow-x:auto;line-height:normal;font-family:Menlo,'DejaVu Sans Mono',consolas,'Courier New',monospace\"><span style=\"color: #7fbfbf; text-decoration-color: #7fbfbf\">             </span><span style=\"color: #800000; text-decoration-color: #800000\">WARNING: More than </span><span style=\"color: #008080; text-decoration-color: #008080; font-weight: bold\">2</span><span style=\"color: #800000; text-decoration-color: #800000\"> different solid zones </span><span style=\"color: #800000; text-decoration-color: #800000; font-weight: bold\">(</span><span style=\"color: #800000; text-decoration-color: #800000\">zone = medium + source</span><span style=\"color: #800000; text-decoration-color: #800000; font-weight: bold\">)</span>\n",
       "<span style=\"color: #7fbfbf; text-decoration-color: #7fbfbf\">             </span><span style=\"color: #800000; text-decoration-color: #800000\">are detected in the heat simulation. Make sure no more than </span><span style=\"color: #008080; text-decoration-color: #008080; font-weight: bold\">2</span><span style=\"color: #800000; text-decoration-color: #800000\"> solid</span>\n",
       "<span style=\"color: #7fbfbf; text-decoration-color: #7fbfbf\">             </span><span style=\"color: #800000; text-decoration-color: #800000\">zones are adjacent to each other anywhere in the simulation domain.</span>\n",
       "<span style=\"color: #7fbfbf; text-decoration-color: #7fbfbf\">             </span><span style=\"color: #800000; text-decoration-color: #800000\">The simulation results may be inaccurate otherwise. This           </span>\n",
       "<span style=\"color: #7fbfbf; text-decoration-color: #7fbfbf\">             </span><span style=\"color: #800000; text-decoration-color: #800000\">restriction will be removed in the upcoming Tidy3D versions.       </span>\n",
       "</pre>\n"
      ],
      "text/plain": [
       "\u001b[2;36m            \u001b[0m\u001b[2;36m \u001b[0m\u001b[31mWARNING: More than \u001b[0m\u001b[1;36m2\u001b[0m\u001b[31m different solid zones \u001b[0m\u001b[1;31m(\u001b[0m\u001b[31mzone = medium + source\u001b[0m\u001b[1;31m)\u001b[0m\n",
       "\u001b[2;36m             \u001b[0m\u001b[31mare detected in the heat simulation. Make sure no more than \u001b[0m\u001b[1;36m2\u001b[0m\u001b[31m solid\u001b[0m\n",
       "\u001b[2;36m             \u001b[0m\u001b[31mzones are adjacent to each other anywhere in the simulation domain.\u001b[0m\n",
       "\u001b[2;36m             \u001b[0m\u001b[31mThe simulation results may be inaccurate otherwise. This           \u001b[0m\n",
       "\u001b[2;36m             \u001b[0m\u001b[31mrestriction will be removed in the upcoming Tidy3D versions.       \u001b[0m\n"
      ]
     },
     "metadata": {},
     "output_type": "display_data"
    },
    {
     "data": {
      "text/html": [
       "<pre style=\"white-space:pre;overflow-x:auto;line-height:normal;font-family:Menlo,'DejaVu Sans Mono',consolas,'Courier New',monospace\"><span style=\"color: #7fbfbf; text-decoration-color: #7fbfbf\">             </span>loading simulation from                                            \n",
       "<span style=\"color: #7fbfbf; text-decoration-color: #7fbfbf\">             </span>.<span style=\"color: #800080; text-decoration-color: #800080\">/</span><span style=\"color: #ff00ff; text-decoration-color: #ff00ff\">he-fa32eb95-1385-4a5a-9390-fc4eae9d2a81v1.hdf5</span>                   \n",
       "</pre>\n"
      ],
      "text/plain": [
       "\u001b[2;36m            \u001b[0m\u001b[2;36m \u001b[0mloading simulation from                                            \n",
       "\u001b[2;36m             \u001b[0m.\u001b[35m/\u001b[0m\u001b[95mhe-fa32eb95-1385-4a5a-9390-fc4eae9d2a81v1.hdf5\u001b[0m                   \n"
      ]
     },
     "metadata": {},
     "output_type": "display_data"
    },
    {
     "data": {
      "text/html": [
       "<pre style=\"white-space:pre;overflow-x:auto;line-height:normal;font-family:Menlo,'DejaVu Sans Mono',consolas,'Courier New',monospace\"><span style=\"color: #7fbfbf; text-decoration-color: #7fbfbf\">             </span><span style=\"color: #800000; text-decoration-color: #800000\">WARNING: More than </span><span style=\"color: #008080; text-decoration-color: #008080; font-weight: bold\">2</span><span style=\"color: #800000; text-decoration-color: #800000\"> different solid zones </span><span style=\"color: #800000; text-decoration-color: #800000; font-weight: bold\">(</span><span style=\"color: #800000; text-decoration-color: #800000\">zone = medium + source</span><span style=\"color: #800000; text-decoration-color: #800000; font-weight: bold\">)</span>\n",
       "<span style=\"color: #7fbfbf; text-decoration-color: #7fbfbf\">             </span><span style=\"color: #800000; text-decoration-color: #800000\">are detected in the heat simulation. Make sure no more than </span><span style=\"color: #008080; text-decoration-color: #008080; font-weight: bold\">2</span><span style=\"color: #800000; text-decoration-color: #800000\"> solid</span>\n",
       "<span style=\"color: #7fbfbf; text-decoration-color: #7fbfbf\">             </span><span style=\"color: #800000; text-decoration-color: #800000\">zones are adjacent to each other anywhere in the simulation domain.</span>\n",
       "<span style=\"color: #7fbfbf; text-decoration-color: #7fbfbf\">             </span><span style=\"color: #800000; text-decoration-color: #800000\">The simulation results may be inaccurate otherwise. This           </span>\n",
       "<span style=\"color: #7fbfbf; text-decoration-color: #7fbfbf\">             </span><span style=\"color: #800000; text-decoration-color: #800000\">restriction will be removed in the upcoming Tidy3D versions.       </span>\n",
       "</pre>\n"
      ],
      "text/plain": [
       "\u001b[2;36m            \u001b[0m\u001b[2;36m \u001b[0m\u001b[31mWARNING: More than \u001b[0m\u001b[1;36m2\u001b[0m\u001b[31m different solid zones \u001b[0m\u001b[1;31m(\u001b[0m\u001b[31mzone = medium + source\u001b[0m\u001b[1;31m)\u001b[0m\n",
       "\u001b[2;36m             \u001b[0m\u001b[31mare detected in the heat simulation. Make sure no more than \u001b[0m\u001b[1;36m2\u001b[0m\u001b[31m solid\u001b[0m\n",
       "\u001b[2;36m             \u001b[0m\u001b[31mzones are adjacent to each other anywhere in the simulation domain.\u001b[0m\n",
       "\u001b[2;36m             \u001b[0m\u001b[31mThe simulation results may be inaccurate otherwise. This           \u001b[0m\n",
       "\u001b[2;36m             \u001b[0m\u001b[31mrestriction will be removed in the upcoming Tidy3D versions.       \u001b[0m\n"
      ]
     },
     "metadata": {},
     "output_type": "display_data"
    },
    {
     "data": {
      "application/vnd.jupyter.widget-view+json": {
       "model_id": "dc95c67f614b4b4aa8826f017f7faf43",
       "version_major": 2,
       "version_minor": 0
      },
      "text/plain": [
       "Output()"
      ]
     },
     "metadata": {},
     "output_type": "display_data"
    },
    {
     "data": {
      "text/html": [
       "<pre style=\"white-space:pre;overflow-x:auto;line-height:normal;font-family:Menlo,'DejaVu Sans Mono',consolas,'Courier New',monospace\"></pre>\n"
      ],
      "text/plain": []
     },
     "metadata": {},
     "output_type": "display_data"
    },
    {
     "data": {
      "text/html": [
       "<pre style=\"white-space:pre;overflow-x:auto;line-height:normal;font-family:Menlo,'DejaVu Sans Mono',consolas,'Courier New',monospace\">\n",
       "</pre>\n"
      ],
      "text/plain": [
       "\n"
      ]
     },
     "metadata": {},
     "output_type": "display_data"
    },
    {
     "data": {
      "text/html": [
       "<pre style=\"white-space:pre;overflow-x:auto;line-height:normal;font-family:Menlo,'DejaVu Sans Mono',consolas,'Courier New',monospace\"><span style=\"color: #7fbfbf; text-decoration-color: #7fbfbf\">15:46:38 CDT </span>loading simulation from                                            \n",
       "<span style=\"color: #7fbfbf; text-decoration-color: #7fbfbf\">             </span>.<span style=\"color: #800080; text-decoration-color: #800080\">/</span><span style=\"color: #ff00ff; text-decoration-color: #ff00ff\">he-3b5d6d2e-761e-4bc7-b080-34d4b22bcfb1v1.hdf5</span>                   \n",
       "</pre>\n"
      ],
      "text/plain": [
       "\u001b[2;36m15:46:38 CDT\u001b[0m\u001b[2;36m \u001b[0mloading simulation from                                            \n",
       "\u001b[2;36m             \u001b[0m.\u001b[35m/\u001b[0m\u001b[95mhe-3b5d6d2e-761e-4bc7-b080-34d4b22bcfb1v1.hdf5\u001b[0m                   \n"
      ]
     },
     "metadata": {},
     "output_type": "display_data"
    },
    {
     "data": {
      "text/html": [
       "<pre style=\"white-space:pre;overflow-x:auto;line-height:normal;font-family:Menlo,'DejaVu Sans Mono',consolas,'Courier New',monospace\"><span style=\"color: #7fbfbf; text-decoration-color: #7fbfbf\">             </span><span style=\"color: #800000; text-decoration-color: #800000\">WARNING: More than </span><span style=\"color: #008080; text-decoration-color: #008080; font-weight: bold\">2</span><span style=\"color: #800000; text-decoration-color: #800000\"> different solid zones </span><span style=\"color: #800000; text-decoration-color: #800000; font-weight: bold\">(</span><span style=\"color: #800000; text-decoration-color: #800000\">zone = medium + source</span><span style=\"color: #800000; text-decoration-color: #800000; font-weight: bold\">)</span>\n",
       "<span style=\"color: #7fbfbf; text-decoration-color: #7fbfbf\">             </span><span style=\"color: #800000; text-decoration-color: #800000\">are detected in the heat simulation. Make sure no more than </span><span style=\"color: #008080; text-decoration-color: #008080; font-weight: bold\">2</span><span style=\"color: #800000; text-decoration-color: #800000\"> solid</span>\n",
       "<span style=\"color: #7fbfbf; text-decoration-color: #7fbfbf\">             </span><span style=\"color: #800000; text-decoration-color: #800000\">zones are adjacent to each other anywhere in the simulation domain.</span>\n",
       "<span style=\"color: #7fbfbf; text-decoration-color: #7fbfbf\">             </span><span style=\"color: #800000; text-decoration-color: #800000\">The simulation results may be inaccurate otherwise. This           </span>\n",
       "<span style=\"color: #7fbfbf; text-decoration-color: #7fbfbf\">             </span><span style=\"color: #800000; text-decoration-color: #800000\">restriction will be removed in the upcoming Tidy3D versions.       </span>\n",
       "</pre>\n"
      ],
      "text/plain": [
       "\u001b[2;36m            \u001b[0m\u001b[2;36m \u001b[0m\u001b[31mWARNING: More than \u001b[0m\u001b[1;36m2\u001b[0m\u001b[31m different solid zones \u001b[0m\u001b[1;31m(\u001b[0m\u001b[31mzone = medium + source\u001b[0m\u001b[1;31m)\u001b[0m\n",
       "\u001b[2;36m             \u001b[0m\u001b[31mare detected in the heat simulation. Make sure no more than \u001b[0m\u001b[1;36m2\u001b[0m\u001b[31m solid\u001b[0m\n",
       "\u001b[2;36m             \u001b[0m\u001b[31mzones are adjacent to each other anywhere in the simulation domain.\u001b[0m\n",
       "\u001b[2;36m             \u001b[0m\u001b[31mThe simulation results may be inaccurate otherwise. This           \u001b[0m\n",
       "\u001b[2;36m             \u001b[0m\u001b[31mrestriction will be removed in the upcoming Tidy3D versions.       \u001b[0m\n"
      ]
     },
     "metadata": {},
     "output_type": "display_data"
    },
    {
     "data": {
      "application/vnd.jupyter.widget-view+json": {
       "model_id": "00ed9299b09342e18b4b72a62028dfad",
       "version_major": 2,
       "version_minor": 0
      },
      "text/plain": [
       "Output()"
      ]
     },
     "metadata": {},
     "output_type": "display_data"
    },
    {
     "data": {
      "text/html": [
       "<pre style=\"white-space:pre;overflow-x:auto;line-height:normal;font-family:Menlo,'DejaVu Sans Mono',consolas,'Courier New',monospace\"></pre>\n"
      ],
      "text/plain": []
     },
     "metadata": {},
     "output_type": "display_data"
    },
    {
     "data": {
      "text/html": [
       "<pre style=\"white-space:pre;overflow-x:auto;line-height:normal;font-family:Menlo,'DejaVu Sans Mono',consolas,'Courier New',monospace\">\n",
       "</pre>\n"
      ],
      "text/plain": [
       "\n"
      ]
     },
     "metadata": {},
     "output_type": "display_data"
    },
    {
     "data": {
      "text/html": [
       "<pre style=\"white-space:pre;overflow-x:auto;line-height:normal;font-family:Menlo,'DejaVu Sans Mono',consolas,'Courier New',monospace\"><span style=\"color: #7fbfbf; text-decoration-color: #7fbfbf\">15:46:39 CDT </span>loading simulation from                                            \n",
       "<span style=\"color: #7fbfbf; text-decoration-color: #7fbfbf\">             </span>.<span style=\"color: #800080; text-decoration-color: #800080\">/</span><span style=\"color: #ff00ff; text-decoration-color: #ff00ff\">he-6bb99901-4870-4a4d-bd06-275ad43e049bv1.hdf5</span>                   \n",
       "</pre>\n"
      ],
      "text/plain": [
       "\u001b[2;36m15:46:39 CDT\u001b[0m\u001b[2;36m \u001b[0mloading simulation from                                            \n",
       "\u001b[2;36m             \u001b[0m.\u001b[35m/\u001b[0m\u001b[95mhe-6bb99901-4870-4a4d-bd06-275ad43e049bv1.hdf5\u001b[0m                   \n"
      ]
     },
     "metadata": {},
     "output_type": "display_data"
    },
    {
     "data": {
      "text/html": [
       "<pre style=\"white-space:pre;overflow-x:auto;line-height:normal;font-family:Menlo,'DejaVu Sans Mono',consolas,'Courier New',monospace\"><span style=\"color: #7fbfbf; text-decoration-color: #7fbfbf\">             </span><span style=\"color: #800000; text-decoration-color: #800000\">WARNING: More than </span><span style=\"color: #008080; text-decoration-color: #008080; font-weight: bold\">2</span><span style=\"color: #800000; text-decoration-color: #800000\"> different solid zones </span><span style=\"color: #800000; text-decoration-color: #800000; font-weight: bold\">(</span><span style=\"color: #800000; text-decoration-color: #800000\">zone = medium + source</span><span style=\"color: #800000; text-decoration-color: #800000; font-weight: bold\">)</span>\n",
       "<span style=\"color: #7fbfbf; text-decoration-color: #7fbfbf\">             </span><span style=\"color: #800000; text-decoration-color: #800000\">are detected in the heat simulation. Make sure no more than </span><span style=\"color: #008080; text-decoration-color: #008080; font-weight: bold\">2</span><span style=\"color: #800000; text-decoration-color: #800000\"> solid</span>\n",
       "<span style=\"color: #7fbfbf; text-decoration-color: #7fbfbf\">             </span><span style=\"color: #800000; text-decoration-color: #800000\">zones are adjacent to each other anywhere in the simulation domain.</span>\n",
       "<span style=\"color: #7fbfbf; text-decoration-color: #7fbfbf\">             </span><span style=\"color: #800000; text-decoration-color: #800000\">The simulation results may be inaccurate otherwise. This           </span>\n",
       "<span style=\"color: #7fbfbf; text-decoration-color: #7fbfbf\">             </span><span style=\"color: #800000; text-decoration-color: #800000\">restriction will be removed in the upcoming Tidy3D versions.       </span>\n",
       "</pre>\n"
      ],
      "text/plain": [
       "\u001b[2;36m            \u001b[0m\u001b[2;36m \u001b[0m\u001b[31mWARNING: More than \u001b[0m\u001b[1;36m2\u001b[0m\u001b[31m different solid zones \u001b[0m\u001b[1;31m(\u001b[0m\u001b[31mzone = medium + source\u001b[0m\u001b[1;31m)\u001b[0m\n",
       "\u001b[2;36m             \u001b[0m\u001b[31mare detected in the heat simulation. Make sure no more than \u001b[0m\u001b[1;36m2\u001b[0m\u001b[31m solid\u001b[0m\n",
       "\u001b[2;36m             \u001b[0m\u001b[31mzones are adjacent to each other anywhere in the simulation domain.\u001b[0m\n",
       "\u001b[2;36m             \u001b[0m\u001b[31mThe simulation results may be inaccurate otherwise. This           \u001b[0m\n",
       "\u001b[2;36m             \u001b[0m\u001b[31mrestriction will be removed in the upcoming Tidy3D versions.       \u001b[0m\n"
      ]
     },
     "metadata": {},
     "output_type": "display_data"
    },
    {
     "data": {
      "application/vnd.jupyter.widget-view+json": {
       "model_id": "d82ea347a9ff4cc7b681ced8f8567b00",
       "version_major": 2,
       "version_minor": 0
      },
      "text/plain": [
       "Output()"
      ]
     },
     "metadata": {},
     "output_type": "display_data"
    },
    {
     "data": {
      "text/html": [
       "<pre style=\"white-space:pre;overflow-x:auto;line-height:normal;font-family:Menlo,'DejaVu Sans Mono',consolas,'Courier New',monospace\"></pre>\n"
      ],
      "text/plain": []
     },
     "metadata": {},
     "output_type": "display_data"
    },
    {
     "data": {
      "text/html": [
       "<pre style=\"white-space:pre;overflow-x:auto;line-height:normal;font-family:Menlo,'DejaVu Sans Mono',consolas,'Courier New',monospace\">\n",
       "</pre>\n"
      ],
      "text/plain": [
       "\n"
      ]
     },
     "metadata": {},
     "output_type": "display_data"
    },
    {
     "data": {
      "text/html": [
       "<pre style=\"white-space:pre;overflow-x:auto;line-height:normal;font-family:Menlo,'DejaVu Sans Mono',consolas,'Courier New',monospace\"><span style=\"color: #7fbfbf; text-decoration-color: #7fbfbf\">15:46:40 CDT </span>loading simulation from                                            \n",
       "<span style=\"color: #7fbfbf; text-decoration-color: #7fbfbf\">             </span>.<span style=\"color: #800080; text-decoration-color: #800080\">/</span><span style=\"color: #ff00ff; text-decoration-color: #ff00ff\">he-eb15d586-c201-415d-a74a-42c9fd0716fav1.hdf5</span>                   \n",
       "</pre>\n"
      ],
      "text/plain": [
       "\u001b[2;36m15:46:40 CDT\u001b[0m\u001b[2;36m \u001b[0mloading simulation from                                            \n",
       "\u001b[2;36m             \u001b[0m.\u001b[35m/\u001b[0m\u001b[95mhe-eb15d586-c201-415d-a74a-42c9fd0716fav1.hdf5\u001b[0m                   \n"
      ]
     },
     "metadata": {},
     "output_type": "display_data"
    },
    {
     "data": {
      "text/html": [
       "<pre style=\"white-space:pre;overflow-x:auto;line-height:normal;font-family:Menlo,'DejaVu Sans Mono',consolas,'Courier New',monospace\"><span style=\"color: #7fbfbf; text-decoration-color: #7fbfbf\">             </span><span style=\"color: #800000; text-decoration-color: #800000\">WARNING: More than </span><span style=\"color: #008080; text-decoration-color: #008080; font-weight: bold\">2</span><span style=\"color: #800000; text-decoration-color: #800000\"> different solid zones </span><span style=\"color: #800000; text-decoration-color: #800000; font-weight: bold\">(</span><span style=\"color: #800000; text-decoration-color: #800000\">zone = medium + source</span><span style=\"color: #800000; text-decoration-color: #800000; font-weight: bold\">)</span>\n",
       "<span style=\"color: #7fbfbf; text-decoration-color: #7fbfbf\">             </span><span style=\"color: #800000; text-decoration-color: #800000\">are detected in the heat simulation. Make sure no more than </span><span style=\"color: #008080; text-decoration-color: #008080; font-weight: bold\">2</span><span style=\"color: #800000; text-decoration-color: #800000\"> solid</span>\n",
       "<span style=\"color: #7fbfbf; text-decoration-color: #7fbfbf\">             </span><span style=\"color: #800000; text-decoration-color: #800000\">zones are adjacent to each other anywhere in the simulation domain.</span>\n",
       "<span style=\"color: #7fbfbf; text-decoration-color: #7fbfbf\">             </span><span style=\"color: #800000; text-decoration-color: #800000\">The simulation results may be inaccurate otherwise. This           </span>\n",
       "<span style=\"color: #7fbfbf; text-decoration-color: #7fbfbf\">             </span><span style=\"color: #800000; text-decoration-color: #800000\">restriction will be removed in the upcoming Tidy3D versions.       </span>\n",
       "</pre>\n"
      ],
      "text/plain": [
       "\u001b[2;36m            \u001b[0m\u001b[2;36m \u001b[0m\u001b[31mWARNING: More than \u001b[0m\u001b[1;36m2\u001b[0m\u001b[31m different solid zones \u001b[0m\u001b[1;31m(\u001b[0m\u001b[31mzone = medium + source\u001b[0m\u001b[1;31m)\u001b[0m\n",
       "\u001b[2;36m             \u001b[0m\u001b[31mare detected in the heat simulation. Make sure no more than \u001b[0m\u001b[1;36m2\u001b[0m\u001b[31m solid\u001b[0m\n",
       "\u001b[2;36m             \u001b[0m\u001b[31mzones are adjacent to each other anywhere in the simulation domain.\u001b[0m\n",
       "\u001b[2;36m             \u001b[0m\u001b[31mThe simulation results may be inaccurate otherwise. This           \u001b[0m\n",
       "\u001b[2;36m             \u001b[0m\u001b[31mrestriction will be removed in the upcoming Tidy3D versions.       \u001b[0m\n"
      ]
     },
     "metadata": {},
     "output_type": "display_data"
    },
    {
     "data": {
      "text/html": [
       "<pre style=\"white-space:pre;overflow-x:auto;line-height:normal;font-family:Menlo,'DejaVu Sans Mono',consolas,'Courier New',monospace\"><span style=\"color: #7fbfbf; text-decoration-color: #7fbfbf\">15:46:41 CDT </span>loading simulation from                                            \n",
       "<span style=\"color: #7fbfbf; text-decoration-color: #7fbfbf\">             </span>.<span style=\"color: #800080; text-decoration-color: #800080\">/</span><span style=\"color: #ff00ff; text-decoration-color: #ff00ff\">he-d682c15e-9865-4146-bd2a-43f59bd9f115v1.hdf5</span>                   \n",
       "</pre>\n"
      ],
      "text/plain": [
       "\u001b[2;36m15:46:41 CDT\u001b[0m\u001b[2;36m \u001b[0mloading simulation from                                            \n",
       "\u001b[2;36m             \u001b[0m.\u001b[35m/\u001b[0m\u001b[95mhe-d682c15e-9865-4146-bd2a-43f59bd9f115v1.hdf5\u001b[0m                   \n"
      ]
     },
     "metadata": {},
     "output_type": "display_data"
    },
    {
     "data": {
      "text/html": [
       "<pre style=\"white-space:pre;overflow-x:auto;line-height:normal;font-family:Menlo,'DejaVu Sans Mono',consolas,'Courier New',monospace\"><span style=\"color: #7fbfbf; text-decoration-color: #7fbfbf\">             </span><span style=\"color: #800000; text-decoration-color: #800000\">WARNING: More than </span><span style=\"color: #008080; text-decoration-color: #008080; font-weight: bold\">2</span><span style=\"color: #800000; text-decoration-color: #800000\"> different solid zones </span><span style=\"color: #800000; text-decoration-color: #800000; font-weight: bold\">(</span><span style=\"color: #800000; text-decoration-color: #800000\">zone = medium + source</span><span style=\"color: #800000; text-decoration-color: #800000; font-weight: bold\">)</span>\n",
       "<span style=\"color: #7fbfbf; text-decoration-color: #7fbfbf\">             </span><span style=\"color: #800000; text-decoration-color: #800000\">are detected in the heat simulation. Make sure no more than </span><span style=\"color: #008080; text-decoration-color: #008080; font-weight: bold\">2</span><span style=\"color: #800000; text-decoration-color: #800000\"> solid</span>\n",
       "<span style=\"color: #7fbfbf; text-decoration-color: #7fbfbf\">             </span><span style=\"color: #800000; text-decoration-color: #800000\">zones are adjacent to each other anywhere in the simulation domain.</span>\n",
       "<span style=\"color: #7fbfbf; text-decoration-color: #7fbfbf\">             </span><span style=\"color: #800000; text-decoration-color: #800000\">The simulation results may be inaccurate otherwise. This           </span>\n",
       "<span style=\"color: #7fbfbf; text-decoration-color: #7fbfbf\">             </span><span style=\"color: #800000; text-decoration-color: #800000\">restriction will be removed in the upcoming Tidy3D versions.       </span>\n",
       "</pre>\n"
      ],
      "text/plain": [
       "\u001b[2;36m            \u001b[0m\u001b[2;36m \u001b[0m\u001b[31mWARNING: More than \u001b[0m\u001b[1;36m2\u001b[0m\u001b[31m different solid zones \u001b[0m\u001b[1;31m(\u001b[0m\u001b[31mzone = medium + source\u001b[0m\u001b[1;31m)\u001b[0m\n",
       "\u001b[2;36m             \u001b[0m\u001b[31mare detected in the heat simulation. Make sure no more than \u001b[0m\u001b[1;36m2\u001b[0m\u001b[31m solid\u001b[0m\n",
       "\u001b[2;36m             \u001b[0m\u001b[31mzones are adjacent to each other anywhere in the simulation domain.\u001b[0m\n",
       "\u001b[2;36m             \u001b[0m\u001b[31mThe simulation results may be inaccurate otherwise. This           \u001b[0m\n",
       "\u001b[2;36m             \u001b[0m\u001b[31mrestriction will be removed in the upcoming Tidy3D versions.       \u001b[0m\n"
      ]
     },
     "metadata": {},
     "output_type": "display_data"
    }
   ],
   "source": [
    "wvl_um = 1.55\n",
    "freq0 = td.C_0 / wvl_um\n",
    "\n",
    "grid_spec = td.GridSpec.auto(min_steps_per_wvl=50, wavelength=wvl_um)\n",
    "\n",
    "perturb_sims = []\n",
    "\n",
    "for _, hs_data in batch_data.items():\n",
    "    pscene = scene.perturbed_mediums_copy(\n",
    "        temperature=hs_data[\"temperature\"].temperature\n",
    "    )\n",
    "    psim = td.Simulation.from_scene(\n",
    "        scene=pscene,\n",
    "        center=(0, 0, z_sim),\n",
    "        size=(w_sim, dl_min, h_sim),\n",
    "        run_time=1e-15,\n",
    "        grid_spec=grid_spec,\n",
    "    )\n",
    "    perturb_sims.append(psim)\n"
   ]
  },
  {
   "cell_type": "markdown",
   "id": "f70adcce-7348-401f-a10a-191757e644db",
   "metadata": {},
   "source": [
    "Define plane where waveguide modes will be calculated."
   ]
  },
  {
   "cell_type": "code",
   "execution_count": 23,
   "id": "093cf729-809d-492f-b4ab-50f50a808218",
   "metadata": {},
   "outputs": [],
   "source": [
    "mode_plane = td.Box(center=(0, 0, z_core), size=(4, 0, 3))\n"
   ]
  },
  {
   "cell_type": "markdown",
   "id": "cdae2d75-f415-499a-bf0a-53edb2fcf5f9",
   "metadata": {},
   "source": [
    "Visual inspection."
   ]
  },
  {
   "cell_type": "code",
   "execution_count": 24,
   "id": "204452a0-0167-405e-8c3e-7428159d01dd",
   "metadata": {},
   "outputs": [
    {
     "data": {
      "image/png": "[encoded data removed]",
      "text/plain": [
       "<Figure size 640x480 with 1 Axes>"
      ]
     },
     "metadata": {},
     "output_type": "display_data"
    }
   ],
   "source": [
    "fig, ax = plt.subplots(1, 1)\n",
    "perturb_sims[0].plot(y=0, ax=ax)\n",
    "mode_plane.plot(y=0, ax=ax, alpha=0.5)\n",
    "plt.show()\n"
   ]
  },
  {
   "cell_type": "markdown",
   "id": "6ee2f518-ec74-4a0c-86af-684dc08cfe33",
   "metadata": {},
   "source": [
    "We will use Tidy3D's mode solver plugin."
   ]
  },
  {
   "cell_type": "code",
   "execution_count": 25,
   "id": "071a271c-4d5f-41fe-a613-c01d388f91db",
   "metadata": {},
   "outputs": [],
   "source": [
    "from tidy3d.plugins.mode.web import run as run_mode\n",
    "from tidy3d.plugins.mode import ModeSolver\n"
   ]
  },
  {
   "cell_type": "markdown",
   "id": "f9549a70-2d04-4c32-969e-2c17b5d00eca",
   "metadata": {},
   "source": [
    "Find only the first mode at the frequency corresponding to 1.55 um wavelength."
   ]
  },
  {
   "cell_type": "code",
   "execution_count": 26,
   "id": "0ee26850-1da3-44b2-acea-9d5385bb19b1",
   "metadata": {},
   "outputs": [
    {
     "data": {
      "text/html": [
       "<pre style=\"white-space:pre;overflow-x:auto;line-height:normal;font-family:Menlo,'DejaVu Sans Mono',consolas,'Courier New',monospace\"><span style=\"color: #7fbfbf; text-decoration-color: #7fbfbf\">             </span>Mode solver created with                                           \n",
       "<span style=\"color: #7fbfbf; text-decoration-color: #7fbfbf\">             </span><span style=\"color: #808000; text-decoration-color: #808000\">task_id</span>=<span style=\"color: #008000; text-decoration-color: #008000\">'fdve-2d530e9f-ce67-4282-ac0a-468870ba8351v1'</span>,             \n",
       "<span style=\"color: #7fbfbf; text-decoration-color: #7fbfbf\">             </span><span style=\"color: #808000; text-decoration-color: #808000\">solver_id</span>=<span style=\"color: #008000; text-decoration-color: #008000\">'mo-8fbd2e0d-554b-401d-b245-6315195385a1'</span>.               \n",
       "</pre>\n"
      ],
      "text/plain": [
       "\u001b[2;36m            \u001b[0m\u001b[2;36m \u001b[0mMode solver created with                                           \n",
       "\u001b[2;36m             \u001b[0m\u001b[33mtask_id\u001b[0m=\u001b[32m'fdve-2d530e9f-ce67-4282-ac0a-468870ba8351v1'\u001b[0m,             \n",
       "\u001b[2;36m             \u001b[0m\u001b[33msolver_id\u001b[0m=\u001b[32m'mo-8fbd2e0d-554b-401d-b245-6315195385a1'\u001b[0m.               \n"
      ]
     },
     "metadata": {},
     "output_type": "display_data"
    },
    {
     "data": {
      "application/vnd.jupyter.widget-view+json": {
       "model_id": "ab676421cdf04174a6ffc51ab3e4fc6c",
       "version_major": 2,
       "version_minor": 0
      },
      "text/plain": [
       "Output()"
      ]
     },
     "metadata": {},
     "output_type": "display_data"
    },
    {
     "data": {
      "text/html": [
       "<pre style=\"white-space:pre;overflow-x:auto;line-height:normal;font-family:Menlo,'DejaVu Sans Mono',consolas,'Courier New',monospace\"></pre>\n"
      ],
      "text/plain": []
     },
     "metadata": {},
     "output_type": "display_data"
    },
    {
     "data": {
      "text/html": [
       "<pre style=\"white-space:pre;overflow-x:auto;line-height:normal;font-family:Menlo,'DejaVu Sans Mono',consolas,'Courier New',monospace\">\n",
       "</pre>\n"
      ],
      "text/plain": [
       "\n"
      ]
     },
     "metadata": {},
     "output_type": "display_data"
    },
    {
     "data": {
      "application/vnd.jupyter.widget-view+json": {
       "model_id": "d66f9bca7f734cc5b4a7a957be94f8e8",
       "version_major": 2,
       "version_minor": 0
      },
      "text/plain": [
       "Output()"
      ]
     },
     "metadata": {},
     "output_type": "display_data"
    },
    {
     "data": {
      "text/html": [
       "<pre style=\"white-space:pre;overflow-x:auto;line-height:normal;font-family:Menlo,'DejaVu Sans Mono',consolas,'Courier New',monospace\"></pre>\n"
      ],
      "text/plain": []
     },
     "metadata": {},
     "output_type": "display_data"
    },
    {
     "data": {
      "text/html": [
       "<pre style=\"white-space:pre;overflow-x:auto;line-height:normal;font-family:Menlo,'DejaVu Sans Mono',consolas,'Courier New',monospace\">\n",
       "</pre>\n"
      ],
      "text/plain": [
       "\n"
      ]
     },
     "metadata": {},
     "output_type": "display_data"
    },
    {
     "data": {
      "text/html": [
       "<pre style=\"white-space:pre;overflow-x:auto;line-height:normal;font-family:Menlo,'DejaVu Sans Mono',consolas,'Courier New',monospace\"><span style=\"color: #7fbfbf; text-decoration-color: #7fbfbf\">15:46:44 CDT </span>Mode solver status: queued                                         \n",
       "</pre>\n"
      ],
      "text/plain": [
       "\u001b[2;36m15:46:44 CDT\u001b[0m\u001b[2;36m \u001b[0mMode solver status: queued                                         \n"
      ]
     },
     "metadata": {},
     "output_type": "display_data"
    },
    {
     "data": {
      "text/html": [
       "<pre style=\"white-space:pre;overflow-x:auto;line-height:normal;font-family:Menlo,'DejaVu Sans Mono',consolas,'Courier New',monospace\"><span style=\"color: #7fbfbf; text-decoration-color: #7fbfbf\">15:46:45 CDT </span>Mode solver status: running                                        \n",
       "</pre>\n"
      ],
      "text/plain": [
       "\u001b[2;36m15:46:45 CDT\u001b[0m\u001b[2;36m \u001b[0mMode solver status: running                                        \n"
      ]
     },
     "metadata": {},
     "output_type": "display_data"
    },
    {
     "data": {
      "text/html": [
       "<pre style=\"white-space:pre;overflow-x:auto;line-height:normal;font-family:Menlo,'DejaVu Sans Mono',consolas,'Courier New',monospace\"><span style=\"color: #7fbfbf; text-decoration-color: #7fbfbf\">15:47:00 CDT </span>Mode solver status: success                                        \n",
       "</pre>\n"
      ],
      "text/plain": [
       "\u001b[2;36m15:47:00 CDT\u001b[0m\u001b[2;36m \u001b[0mMode solver status: success                                        \n"
      ]
     },
     "metadata": {},
     "output_type": "display_data"
    },
    {
     "data": {
      "application/vnd.jupyter.widget-view+json": {
       "model_id": "c867ed46fa2f47829fc1faaad48b94db",
       "version_major": 2,
       "version_minor": 0
      },
      "text/plain": [
       "Output()"
      ]
     },
     "metadata": {},
     "output_type": "display_data"
    },
    {
     "data": {
      "text/html": [
       "<pre style=\"white-space:pre;overflow-x:auto;line-height:normal;font-family:Menlo,'DejaVu Sans Mono',consolas,'Courier New',monospace\"></pre>\n"
      ],
      "text/plain": []
     },
     "metadata": {},
     "output_type": "display_data"
    },
    {
     "data": {
      "text/html": [
       "<pre style=\"white-space:pre;overflow-x:auto;line-height:normal;font-family:Menlo,'DejaVu Sans Mono',consolas,'Courier New',monospace\">\n",
       "</pre>\n"
      ],
      "text/plain": [
       "\n"
      ]
     },
     "metadata": {},
     "output_type": "display_data"
    },
    {
     "data": {
      "text/html": [
       "<pre style=\"white-space:pre;overflow-x:auto;line-height:normal;font-family:Menlo,'DejaVu Sans Mono',consolas,'Courier New',monospace\"><span style=\"color: #7fbfbf; text-decoration-color: #7fbfbf\">15:47:04 CDT </span>Mode solver created with                                           \n",
       "<span style=\"color: #7fbfbf; text-decoration-color: #7fbfbf\">             </span><span style=\"color: #808000; text-decoration-color: #808000\">task_id</span>=<span style=\"color: #008000; text-decoration-color: #008000\">'fdve-bd8d8ef8-bbe5-4d3f-9b8b-aeb302f190d3v1'</span>,             \n",
       "<span style=\"color: #7fbfbf; text-decoration-color: #7fbfbf\">             </span><span style=\"color: #808000; text-decoration-color: #808000\">solver_id</span>=<span style=\"color: #008000; text-decoration-color: #008000\">'mo-f1339b5e-8e09-4ad5-9e4c-cde67344d7b3'</span>.               \n",
       "</pre>\n"
      ],
      "text/plain": [
       "\u001b[2;36m15:47:04 CDT\u001b[0m\u001b[2;36m \u001b[0mMode solver created with                                           \n",
       "\u001b[2;36m             \u001b[0m\u001b[33mtask_id\u001b[0m=\u001b[32m'fdve-bd8d8ef8-bbe5-4d3f-9b8b-aeb302f190d3v1'\u001b[0m,             \n",
       "\u001b[2;36m             \u001b[0m\u001b[33msolver_id\u001b[0m=\u001b[32m'mo-f1339b5e-8e09-4ad5-9e4c-cde67344d7b3'\u001b[0m.               \n"
      ]
     },
     "metadata": {},
     "output_type": "display_data"
    },
    {
     "data": {
      "application/vnd.jupyter.widget-view+json": {
       "model_id": "c1e7f112a7c5453ba5cc330dc84181ef",
       "version_major": 2,
       "version_minor": 0
      },
      "text/plain": [
       "Output()"
      ]
     },
     "metadata": {},
     "output_type": "display_data"
    },
    {
     "data": {
      "text/html": [
       "<pre style=\"white-space:pre;overflow-x:auto;line-height:normal;font-family:Menlo,'DejaVu Sans Mono',consolas,'Courier New',monospace\"></pre>\n"
      ],
      "text/plain": []
     },
     "metadata": {},
     "output_type": "display_data"
    },
    {
     "data": {
      "text/html": [
       "<pre style=\"white-space:pre;overflow-x:auto;line-height:normal;font-family:Menlo,'DejaVu Sans Mono',consolas,'Courier New',monospace\">\n",
       "</pre>\n"
      ],
      "text/plain": [
       "\n"
      ]
     },
     "metadata": {},
     "output_type": "display_data"
    },
    {
     "data": {
      "application/vnd.jupyter.widget-view+json": {
       "model_id": "c0e5f7a6c10541a69da98efb77cae8bd",
       "version_major": 2,
       "version_minor": 0
      },
      "text/plain": [
       "Output()"
      ]
     },
     "metadata": {},
     "output_type": "display_data"
    },
    {
     "data": {
      "text/html": [
       "<pre style=\"white-space:pre;overflow-x:auto;line-height:normal;font-family:Menlo,'DejaVu Sans Mono',consolas,'Courier New',monospace\"></pre>\n"
      ],
      "text/plain": []
     },
     "metadata": {},
     "output_type": "display_data"
    },
    {
     "data": {
      "text/html": [
       "<pre style=\"white-space:pre;overflow-x:auto;line-height:normal;font-family:Menlo,'DejaVu Sans Mono',consolas,'Courier New',monospace\">\n",
       "</pre>\n"
      ],
      "text/plain": [
       "\n"
      ]
     },
     "metadata": {},
     "output_type": "display_data"
    },
    {
     "data": {
      "text/html": [
       "<pre style=\"white-space:pre;overflow-x:auto;line-height:normal;font-family:Menlo,'DejaVu Sans Mono',consolas,'Courier New',monospace\"><span style=\"color: #7fbfbf; text-decoration-color: #7fbfbf\">15:47:08 CDT </span>Mode solver status: queued                                         \n",
       "</pre>\n"
      ],
      "text/plain": [
       "\u001b[2;36m15:47:08 CDT\u001b[0m\u001b[2;36m \u001b[0mMode solver status: queued                                         \n"
      ]
     },
     "metadata": {},
     "output_type": "display_data"
    },
    {
     "data": {
      "text/html": [
       "<pre style=\"white-space:pre;overflow-x:auto;line-height:normal;font-family:Menlo,'DejaVu Sans Mono',consolas,'Courier New',monospace\"><span style=\"color: #7fbfbf; text-decoration-color: #7fbfbf\">15:47:09 CDT </span>Mode solver status: running                                        \n",
       "</pre>\n"
      ],
      "text/plain": [
       "\u001b[2;36m15:47:09 CDT\u001b[0m\u001b[2;36m \u001b[0mMode solver status: running                                        \n"
      ]
     },
     "metadata": {},
     "output_type": "display_data"
    },
    {
     "data": {
      "text/html": [
       "<pre style=\"white-space:pre;overflow-x:auto;line-height:normal;font-family:Menlo,'DejaVu Sans Mono',consolas,'Courier New',monospace\"><span style=\"color: #7fbfbf; text-decoration-color: #7fbfbf\">15:47:24 CDT </span>Mode solver status: success                                        \n",
       "</pre>\n"
      ],
      "text/plain": [
       "\u001b[2;36m15:47:24 CDT\u001b[0m\u001b[2;36m \u001b[0mMode solver status: success                                        \n"
      ]
     },
     "metadata": {},
     "output_type": "display_data"
    },
    {
     "data": {
      "application/vnd.jupyter.widget-view+json": {
       "model_id": "33223370ade7495ea019af7334fadc1b",
       "version_major": 2,
       "version_minor": 0
      },
      "text/plain": [
       "Output()"
      ]
     },
     "metadata": {},
     "output_type": "display_data"
    },
    {
     "data": {
      "text/html": [
       "<pre style=\"white-space:pre;overflow-x:auto;line-height:normal;font-family:Menlo,'DejaVu Sans Mono',consolas,'Courier New',monospace\"></pre>\n"
      ],
      "text/plain": []
     },
     "metadata": {},
     "output_type": "display_data"
    },
    {
     "data": {
      "text/html": [
       "<pre style=\"white-space:pre;overflow-x:auto;line-height:normal;font-family:Menlo,'DejaVu Sans Mono',consolas,'Courier New',monospace\">\n",
       "</pre>\n"
      ],
      "text/plain": [
       "\n"
      ]
     },
     "metadata": {},
     "output_type": "display_data"
    },
    {
     "data": {
      "text/html": [
       "<pre style=\"white-space:pre;overflow-x:auto;line-height:normal;font-family:Menlo,'DejaVu Sans Mono',consolas,'Courier New',monospace\"><span style=\"color: #7fbfbf; text-decoration-color: #7fbfbf\">15:47:27 CDT </span>Mode solver created with                                           \n",
       "<span style=\"color: #7fbfbf; text-decoration-color: #7fbfbf\">             </span><span style=\"color: #808000; text-decoration-color: #808000\">task_id</span>=<span style=\"color: #008000; text-decoration-color: #008000\">'fdve-bf6babca-6f38-44f3-8da4-2b6526e11822v1'</span>,             \n",
       "<span style=\"color: #7fbfbf; text-decoration-color: #7fbfbf\">             </span><span style=\"color: #808000; text-decoration-color: #808000\">solver_id</span>=<span style=\"color: #008000; text-decoration-color: #008000\">'mo-ff0a8a84-55d1-40d3-accc-be0abf6ac7a4'</span>.               \n",
       "</pre>\n"
      ],
      "text/plain": [
       "\u001b[2;36m15:47:27 CDT\u001b[0m\u001b[2;36m \u001b[0mMode solver created with                                           \n",
       "\u001b[2;36m             \u001b[0m\u001b[33mtask_id\u001b[0m=\u001b[32m'fdve-bf6babca-6f38-44f3-8da4-2b6526e11822v1'\u001b[0m,             \n",
       "\u001b[2;36m             \u001b[0m\u001b[33msolver_id\u001b[0m=\u001b[32m'mo-ff0a8a84-55d1-40d3-accc-be0abf6ac7a4'\u001b[0m.               \n"
      ]
     },
     "metadata": {},
     "output_type": "display_data"
    },
    {
     "data": {
      "application/vnd.jupyter.widget-view+json": {
       "model_id": "f3eba2f868f84147b742329e68169407",
       "version_major": 2,
       "version_minor": 0
      },
      "text/plain": [
       "Output()"
      ]
     },
     "metadata": {},
     "output_type": "display_data"
    },
    {
     "data": {
      "text/html": [
       "<pre style=\"white-space:pre;overflow-x:auto;line-height:normal;font-family:Menlo,'DejaVu Sans Mono',consolas,'Courier New',monospace\"></pre>\n"
      ],
      "text/plain": []
     },
     "metadata": {},
     "output_type": "display_data"
    },
    {
     "data": {
      "text/html": [
       "<pre style=\"white-space:pre;overflow-x:auto;line-height:normal;font-family:Menlo,'DejaVu Sans Mono',consolas,'Courier New',monospace\">\n",
       "</pre>\n"
      ],
      "text/plain": [
       "\n"
      ]
     },
     "metadata": {},
     "output_type": "display_data"
    },
    {
     "data": {
      "application/vnd.jupyter.widget-view+json": {
       "model_id": "ed6ea89b7115411d8fd180e5ccd9e3c6",
       "version_major": 2,
       "version_minor": 0
      },
      "text/plain": [
       "Output()"
      ]
     },
     "metadata": {},
     "output_type": "display_data"
    },
    {
     "data": {
      "text/html": [
       "<pre style=\"white-space:pre;overflow-x:auto;line-height:normal;font-family:Menlo,'DejaVu Sans Mono',consolas,'Courier New',monospace\"></pre>\n"
      ],
      "text/plain": []
     },
     "metadata": {},
     "output_type": "display_data"
    },
    {
     "data": {
      "text/html": [
       "<pre style=\"white-space:pre;overflow-x:auto;line-height:normal;font-family:Menlo,'DejaVu Sans Mono',consolas,'Courier New',monospace\">\n",
       "</pre>\n"
      ],
      "text/plain": [
       "\n"
      ]
     },
     "metadata": {},
     "output_type": "display_data"
    },
    {
     "data": {
      "text/html": [
       "<pre style=\"white-space:pre;overflow-x:auto;line-height:normal;font-family:Menlo,'DejaVu Sans Mono',consolas,'Courier New',monospace\"><span style=\"color: #7fbfbf; text-decoration-color: #7fbfbf\">15:47:30 CDT </span>Mode solver status: queued                                         \n",
       "</pre>\n"
      ],
      "text/plain": [
       "\u001b[2;36m15:47:30 CDT\u001b[0m\u001b[2;36m \u001b[0mMode solver status: queued                                         \n"
      ]
     },
     "metadata": {},
     "output_type": "display_data"
    },
    {
     "data": {
      "text/html": [
       "<pre style=\"white-space:pre;overflow-x:auto;line-height:normal;font-family:Menlo,'DejaVu Sans Mono',consolas,'Courier New',monospace\"><span style=\"color: #7fbfbf; text-decoration-color: #7fbfbf\">15:48:59 CDT </span>Mode solver status: running                                        \n",
       "</pre>\n"
      ],
      "text/plain": [
       "\u001b[2;36m15:48:59 CDT\u001b[0m\u001b[2;36m \u001b[0mMode solver status: running                                        \n"
      ]
     },
     "metadata": {},
     "output_type": "display_data"
    },
    {
     "data": {
      "text/html": [
       "<pre style=\"white-space:pre;overflow-x:auto;line-height:normal;font-family:Menlo,'DejaVu Sans Mono',consolas,'Courier New',monospace\"><span style=\"color: #7fbfbf; text-decoration-color: #7fbfbf\">15:49:15 CDT </span>Mode solver status: success                                        \n",
       "</pre>\n"
      ],
      "text/plain": [
       "\u001b[2;36m15:49:15 CDT\u001b[0m\u001b[2;36m \u001b[0mMode solver status: success                                        \n"
      ]
     },
     "metadata": {},
     "output_type": "display_data"
    },
    {
     "data": {
      "application/vnd.jupyter.widget-view+json": {
       "model_id": "210f8231d3864997a91bd3936b1a07c4",
       "version_major": 2,
       "version_minor": 0
      },
      "text/plain": [
       "Output()"
      ]
     },
     "metadata": {},
     "output_type": "display_data"
    },
    {
     "data": {
      "text/html": [
       "<pre style=\"white-space:pre;overflow-x:auto;line-height:normal;font-family:Menlo,'DejaVu Sans Mono',consolas,'Courier New',monospace\"></pre>\n"
      ],
      "text/plain": []
     },
     "metadata": {},
     "output_type": "display_data"
    },
    {
     "data": {
      "text/html": [
       "<pre style=\"white-space:pre;overflow-x:auto;line-height:normal;font-family:Menlo,'DejaVu Sans Mono',consolas,'Courier New',monospace\">\n",
       "</pre>\n"
      ],
      "text/plain": [
       "\n"
      ]
     },
     "metadata": {},
     "output_type": "display_data"
    },
    {
     "data": {
      "text/html": [
       "<pre style=\"white-space:pre;overflow-x:auto;line-height:normal;font-family:Menlo,'DejaVu Sans Mono',consolas,'Courier New',monospace\"><span style=\"color: #7fbfbf; text-decoration-color: #7fbfbf\">15:49:19 CDT </span>Mode solver created with                                           \n",
       "<span style=\"color: #7fbfbf; text-decoration-color: #7fbfbf\">             </span><span style=\"color: #808000; text-decoration-color: #808000\">task_id</span>=<span style=\"color: #008000; text-decoration-color: #008000\">'fdve-f06dd8ec-a46c-4c65-b852-ffdddc9d0ef9v1'</span>,             \n",
       "<span style=\"color: #7fbfbf; text-decoration-color: #7fbfbf\">             </span><span style=\"color: #808000; text-decoration-color: #808000\">solver_id</span>=<span style=\"color: #008000; text-decoration-color: #008000\">'mo-7911b5d0-c057-4d18-9f24-a21be30d8275'</span>.               \n",
       "</pre>\n"
      ],
      "text/plain": [
       "\u001b[2;36m15:49:19 CDT\u001b[0m\u001b[2;36m \u001b[0mMode solver created with                                           \n",
       "\u001b[2;36m             \u001b[0m\u001b[33mtask_id\u001b[0m=\u001b[32m'fdve-f06dd8ec-a46c-4c65-b852-ffdddc9d0ef9v1'\u001b[0m,             \n",
       "\u001b[2;36m             \u001b[0m\u001b[33msolver_id\u001b[0m=\u001b[32m'mo-7911b5d0-c057-4d18-9f24-a21be30d8275'\u001b[0m.               \n"
      ]
     },
     "metadata": {},
     "output_type": "display_data"
    },
    {
     "data": {
      "application/vnd.jupyter.widget-view+json": {
       "model_id": "3140acafd1ee460bb72100db0391a99b",
       "version_major": 2,
       "version_minor": 0
      },
      "text/plain": [
       "Output()"
      ]
     },
     "metadata": {},
     "output_type": "display_data"
    },
    {
     "data": {
      "text/html": [
       "<pre style=\"white-space:pre;overflow-x:auto;line-height:normal;font-family:Menlo,'DejaVu Sans Mono',consolas,'Courier New',monospace\"></pre>\n"
      ],
      "text/plain": []
     },
     "metadata": {},
     "output_type": "display_data"
    },
    {
     "data": {
      "text/html": [
       "<pre style=\"white-space:pre;overflow-x:auto;line-height:normal;font-family:Menlo,'DejaVu Sans Mono',consolas,'Courier New',monospace\">\n",
       "</pre>\n"
      ],
      "text/plain": [
       "\n"
      ]
     },
     "metadata": {},
     "output_type": "display_data"
    },
    {
     "data": {
      "application/vnd.jupyter.widget-view+json": {
       "model_id": "5d22e430d03c42c9a164c516ba510e59",
       "version_major": 2,
       "version_minor": 0
      },
      "text/plain": [
       "Output()"
      ]
     },
     "metadata": {},
     "output_type": "display_data"
    },
    {
     "data": {
      "text/html": [
       "<pre style=\"white-space:pre;overflow-x:auto;line-height:normal;font-family:Menlo,'DejaVu Sans Mono',consolas,'Courier New',monospace\"></pre>\n"
      ],
      "text/plain": []
     },
     "metadata": {},
     "output_type": "display_data"
    },
    {
     "data": {
      "text/html": [
       "<pre style=\"white-space:pre;overflow-x:auto;line-height:normal;font-family:Menlo,'DejaVu Sans Mono',consolas,'Courier New',monospace\">\n",
       "</pre>\n"
      ],
      "text/plain": [
       "\n"
      ]
     },
     "metadata": {},
     "output_type": "display_data"
    },
    {
     "data": {
      "text/html": [
       "<pre style=\"white-space:pre;overflow-x:auto;line-height:normal;font-family:Menlo,'DejaVu Sans Mono',consolas,'Courier New',monospace\"><span style=\"color: #7fbfbf; text-decoration-color: #7fbfbf\">15:49:23 CDT </span>Mode solver status: queued                                         \n",
       "</pre>\n"
      ],
      "text/plain": [
       "\u001b[2;36m15:49:23 CDT\u001b[0m\u001b[2;36m \u001b[0mMode solver status: queued                                         \n"
      ]
     },
     "metadata": {},
     "output_type": "display_data"
    },
    {
     "data": {
      "text/html": [
       "<pre style=\"white-space:pre;overflow-x:auto;line-height:normal;font-family:Menlo,'DejaVu Sans Mono',consolas,'Courier New',monospace\"><span style=\"color: #7fbfbf; text-decoration-color: #7fbfbf\">15:49:24 CDT </span>Mode solver status: running                                        \n",
       "</pre>\n"
      ],
      "text/plain": [
       "\u001b[2;36m15:49:24 CDT\u001b[0m\u001b[2;36m \u001b[0mMode solver status: running                                        \n"
      ]
     },
     "metadata": {},
     "output_type": "display_data"
    },
    {
     "data": {
      "text/html": [
       "<pre style=\"white-space:pre;overflow-x:auto;line-height:normal;font-family:Menlo,'DejaVu Sans Mono',consolas,'Courier New',monospace\"><span style=\"color: #7fbfbf; text-decoration-color: #7fbfbf\">15:49:39 CDT </span>Mode solver status: success                                        \n",
       "</pre>\n"
      ],
      "text/plain": [
       "\u001b[2;36m15:49:39 CDT\u001b[0m\u001b[2;36m \u001b[0mMode solver status: success                                        \n"
      ]
     },
     "metadata": {},
     "output_type": "display_data"
    },
    {
     "data": {
      "application/vnd.jupyter.widget-view+json": {
       "model_id": "0fa33e4f1c454fc3aaad55712c93ede7",
       "version_major": 2,
       "version_minor": 0
      },
      "text/plain": [
       "Output()"
      ]
     },
     "metadata": {},
     "output_type": "display_data"
    },
    {
     "data": {
      "text/html": [
       "<pre style=\"white-space:pre;overflow-x:auto;line-height:normal;font-family:Menlo,'DejaVu Sans Mono',consolas,'Courier New',monospace\"></pre>\n"
      ],
      "text/plain": []
     },
     "metadata": {},
     "output_type": "display_data"
    },
    {
     "data": {
      "text/html": [
       "<pre style=\"white-space:pre;overflow-x:auto;line-height:normal;font-family:Menlo,'DejaVu Sans Mono',consolas,'Courier New',monospace\">\n",
       "</pre>\n"
      ],
      "text/plain": [
       "\n"
      ]
     },
     "metadata": {},
     "output_type": "display_data"
    },
    {
     "data": {
      "text/html": [
       "<pre style=\"white-space:pre;overflow-x:auto;line-height:normal;font-family:Menlo,'DejaVu Sans Mono',consolas,'Courier New',monospace\"><span style=\"color: #7fbfbf; text-decoration-color: #7fbfbf\">15:49:41 CDT </span>Mode solver created with                                           \n",
       "<span style=\"color: #7fbfbf; text-decoration-color: #7fbfbf\">             </span><span style=\"color: #808000; text-decoration-color: #808000\">task_id</span>=<span style=\"color: #008000; text-decoration-color: #008000\">'fdve-517b8b59-e0ec-4cfd-b0fa-ee1d037ab0b3v1'</span>,             \n",
       "<span style=\"color: #7fbfbf; text-decoration-color: #7fbfbf\">             </span><span style=\"color: #808000; text-decoration-color: #808000\">solver_id</span>=<span style=\"color: #008000; text-decoration-color: #008000\">'mo-f97bad26-f0da-489e-b1cf-959481459f76'</span>.               \n",
       "</pre>\n"
      ],
      "text/plain": [
       "\u001b[2;36m15:49:41 CDT\u001b[0m\u001b[2;36m \u001b[0mMode solver created with                                           \n",
       "\u001b[2;36m             \u001b[0m\u001b[33mtask_id\u001b[0m=\u001b[32m'fdve-517b8b59-e0ec-4cfd-b0fa-ee1d037ab0b3v1'\u001b[0m,             \n",
       "\u001b[2;36m             \u001b[0m\u001b[33msolver_id\u001b[0m=\u001b[32m'mo-f97bad26-f0da-489e-b1cf-959481459f76'\u001b[0m.               \n"
      ]
     },
     "metadata": {},
     "output_type": "display_data"
    },
    {
     "data": {
      "application/vnd.jupyter.widget-view+json": {
       "model_id": "b918b8d322694efc98db6b32b2d4840e",
       "version_major": 2,
       "version_minor": 0
      },
      "text/plain": [
       "Output()"
      ]
     },
     "metadata": {},
     "output_type": "display_data"
    },
    {
     "data": {
      "text/html": [
       "<pre style=\"white-space:pre;overflow-x:auto;line-height:normal;font-family:Menlo,'DejaVu Sans Mono',consolas,'Courier New',monospace\"></pre>\n"
      ],
      "text/plain": []
     },
     "metadata": {},
     "output_type": "display_data"
    },
    {
     "data": {
      "text/html": [
       "<pre style=\"white-space:pre;overflow-x:auto;line-height:normal;font-family:Menlo,'DejaVu Sans Mono',consolas,'Courier New',monospace\">\n",
       "</pre>\n"
      ],
      "text/plain": [
       "\n"
      ]
     },
     "metadata": {},
     "output_type": "display_data"
    },
    {
     "data": {
      "application/vnd.jupyter.widget-view+json": {
       "model_id": "95c2bb3c5e374be2aa557ccdb2a1dbd8",
       "version_major": 2,
       "version_minor": 0
      },
      "text/plain": [
       "Output()"
      ]
     },
     "metadata": {},
     "output_type": "display_data"
    },
    {
     "data": {
      "text/html": [
       "<pre style=\"white-space:pre;overflow-x:auto;line-height:normal;font-family:Menlo,'DejaVu Sans Mono',consolas,'Courier New',monospace\"></pre>\n"
      ],
      "text/plain": []
     },
     "metadata": {},
     "output_type": "display_data"
    },
    {
     "data": {
      "text/html": [
       "<pre style=\"white-space:pre;overflow-x:auto;line-height:normal;font-family:Menlo,'DejaVu Sans Mono',consolas,'Courier New',monospace\">\n",
       "</pre>\n"
      ],
      "text/plain": [
       "\n"
      ]
     },
     "metadata": {},
     "output_type": "display_data"
    },
    {
     "data": {
      "text/html": [
       "<pre style=\"white-space:pre;overflow-x:auto;line-height:normal;font-family:Menlo,'DejaVu Sans Mono',consolas,'Courier New',monospace\"><span style=\"color: #7fbfbf; text-decoration-color: #7fbfbf\">15:49:44 CDT </span>Mode solver status: queued                                         \n",
       "</pre>\n"
      ],
      "text/plain": [
       "\u001b[2;36m15:49:44 CDT\u001b[0m\u001b[2;36m \u001b[0mMode solver status: queued                                         \n"
      ]
     },
     "metadata": {},
     "output_type": "display_data"
    },
    {
     "data": {
      "text/html": [
       "<pre style=\"white-space:pre;overflow-x:auto;line-height:normal;font-family:Menlo,'DejaVu Sans Mono',consolas,'Courier New',monospace\"><span style=\"color: #7fbfbf; text-decoration-color: #7fbfbf\">15:49:45 CDT </span>Mode solver status: running                                        \n",
       "</pre>\n"
      ],
      "text/plain": [
       "\u001b[2;36m15:49:45 CDT\u001b[0m\u001b[2;36m \u001b[0mMode solver status: running                                        \n"
      ]
     },
     "metadata": {},
     "output_type": "display_data"
    },
    {
     "data": {
      "text/html": [
       "<pre style=\"white-space:pre;overflow-x:auto;line-height:normal;font-family:Menlo,'DejaVu Sans Mono',consolas,'Courier New',monospace\"><span style=\"color: #7fbfbf; text-decoration-color: #7fbfbf\">15:49:57 CDT </span>Mode solver status: success                                        \n",
       "</pre>\n"
      ],
      "text/plain": [
       "\u001b[2;36m15:49:57 CDT\u001b[0m\u001b[2;36m \u001b[0mMode solver status: success                                        \n"
      ]
     },
     "metadata": {},
     "output_type": "display_data"
    },
    {
     "data": {
      "application/vnd.jupyter.widget-view+json": {
       "model_id": "17985c7c86d84844b260596543df5f17",
       "version_major": 2,
       "version_minor": 0
      },
      "text/plain": [
       "Output()"
      ]
     },
     "metadata": {},
     "output_type": "display_data"
    },
    {
     "data": {
      "text/html": [
       "<pre style=\"white-space:pre;overflow-x:auto;line-height:normal;font-family:Menlo,'DejaVu Sans Mono',consolas,'Courier New',monospace\"></pre>\n"
      ],
      "text/plain": []
     },
     "metadata": {},
     "output_type": "display_data"
    },
    {
     "data": {
      "text/html": [
       "<pre style=\"white-space:pre;overflow-x:auto;line-height:normal;font-family:Menlo,'DejaVu Sans Mono',consolas,'Courier New',monospace\">\n",
       "</pre>\n"
      ],
      "text/plain": [
       "\n"
      ]
     },
     "metadata": {},
     "output_type": "display_data"
    },
    {
     "data": {
      "text/html": [
       "<pre style=\"white-space:pre;overflow-x:auto;line-height:normal;font-family:Menlo,'DejaVu Sans Mono',consolas,'Courier New',monospace\"><span style=\"color: #7fbfbf; text-decoration-color: #7fbfbf\">15:50:00 CDT </span>Mode solver created with                                           \n",
       "<span style=\"color: #7fbfbf; text-decoration-color: #7fbfbf\">             </span><span style=\"color: #808000; text-decoration-color: #808000\">task_id</span>=<span style=\"color: #008000; text-decoration-color: #008000\">'fdve-73e7da85-46ed-4197-89c5-f925f81eb394v1'</span>,             \n",
       "<span style=\"color: #7fbfbf; text-decoration-color: #7fbfbf\">             </span><span style=\"color: #808000; text-decoration-color: #808000\">solver_id</span>=<span style=\"color: #008000; text-decoration-color: #008000\">'mo-ed3f65f3-dcd6-4396-ba81-d40f8177651e'</span>.               \n",
       "</pre>\n"
      ],
      "text/plain": [
       "\u001b[2;36m15:50:00 CDT\u001b[0m\u001b[2;36m \u001b[0mMode solver created with                                           \n",
       "\u001b[2;36m             \u001b[0m\u001b[33mtask_id\u001b[0m=\u001b[32m'fdve-73e7da85-46ed-4197-89c5-f925f81eb394v1'\u001b[0m,             \n",
       "\u001b[2;36m             \u001b[0m\u001b[33msolver_id\u001b[0m=\u001b[32m'mo-ed3f65f3-dcd6-4396-ba81-d40f8177651e'\u001b[0m.               \n"
      ]
     },
     "metadata": {},
     "output_type": "display_data"
    },
    {
     "data": {
      "application/vnd.jupyter.widget-view+json": {
       "model_id": "7f75b3246e2e4283bc76465c7d1f2b1c",
       "version_major": 2,
       "version_minor": 0
      },
      "text/plain": [
       "Output()"
      ]
     },
     "metadata": {},
     "output_type": "display_data"
    },
    {
     "data": {
      "text/html": [
       "<pre style=\"white-space:pre;overflow-x:auto;line-height:normal;font-family:Menlo,'DejaVu Sans Mono',consolas,'Courier New',monospace\"></pre>\n"
      ],
      "text/plain": []
     },
     "metadata": {},
     "output_type": "display_data"
    },
    {
     "data": {
      "text/html": [
       "<pre style=\"white-space:pre;overflow-x:auto;line-height:normal;font-family:Menlo,'DejaVu Sans Mono',consolas,'Courier New',monospace\">\n",
       "</pre>\n"
      ],
      "text/plain": [
       "\n"
      ]
     },
     "metadata": {},
     "output_type": "display_data"
    },
    {
     "data": {
      "application/vnd.jupyter.widget-view+json": {
       "model_id": "d086f1c3076c4b329e0ffd59f80c142a",
       "version_major": 2,
       "version_minor": 0
      },
      "text/plain": [
       "Output()"
      ]
     },
     "metadata": {},
     "output_type": "display_data"
    },
    {
     "data": {
      "text/html": [
       "<pre style=\"white-space:pre;overflow-x:auto;line-height:normal;font-family:Menlo,'DejaVu Sans Mono',consolas,'Courier New',monospace\"></pre>\n"
      ],
      "text/plain": []
     },
     "metadata": {},
     "output_type": "display_data"
    },
    {
     "data": {
      "text/html": [
       "<pre style=\"white-space:pre;overflow-x:auto;line-height:normal;font-family:Menlo,'DejaVu Sans Mono',consolas,'Courier New',monospace\">\n",
       "</pre>\n"
      ],
      "text/plain": [
       "\n"
      ]
     },
     "metadata": {},
     "output_type": "display_data"
    },
    {
     "data": {
      "text/html": [
       "<pre style=\"white-space:pre;overflow-x:auto;line-height:normal;font-family:Menlo,'DejaVu Sans Mono',consolas,'Courier New',monospace\"><span style=\"color: #7fbfbf; text-decoration-color: #7fbfbf\">15:50:03 CDT </span>Mode solver status: queued                                         \n",
       "</pre>\n"
      ],
      "text/plain": [
       "\u001b[2;36m15:50:03 CDT\u001b[0m\u001b[2;36m \u001b[0mMode solver status: queued                                         \n"
      ]
     },
     "metadata": {},
     "output_type": "display_data"
    },
    {
     "data": {
      "text/html": [
       "<pre style=\"white-space:pre;overflow-x:auto;line-height:normal;font-family:Menlo,'DejaVu Sans Mono',consolas,'Courier New',monospace\"><span style=\"color: #7fbfbf; text-decoration-color: #7fbfbf\">15:50:10 CDT </span>Mode solver status: running                                        \n",
       "</pre>\n"
      ],
      "text/plain": [
       "\u001b[2;36m15:50:10 CDT\u001b[0m\u001b[2;36m \u001b[0mMode solver status: running                                        \n"
      ]
     },
     "metadata": {},
     "output_type": "display_data"
    },
    {
     "data": {
      "text/html": [
       "<pre style=\"white-space:pre;overflow-x:auto;line-height:normal;font-family:Menlo,'DejaVu Sans Mono',consolas,'Courier New',monospace\"><span style=\"color: #7fbfbf; text-decoration-color: #7fbfbf\">15:50:25 CDT </span>Mode solver status: success                                        \n",
       "</pre>\n"
      ],
      "text/plain": [
       "\u001b[2;36m15:50:25 CDT\u001b[0m\u001b[2;36m \u001b[0mMode solver status: success                                        \n"
      ]
     },
     "metadata": {},
     "output_type": "display_data"
    },
    {
     "data": {
      "application/vnd.jupyter.widget-view+json": {
       "model_id": "a16dc1f10c9a44b8a6d2d38d6e6fa2b2",
       "version_major": 2,
       "version_minor": 0
      },
      "text/plain": [
       "Output()"
      ]
     },
     "metadata": {},
     "output_type": "display_data"
    },
    {
     "data": {
      "text/html": [
       "<pre style=\"white-space:pre;overflow-x:auto;line-height:normal;font-family:Menlo,'DejaVu Sans Mono',consolas,'Courier New',monospace\"></pre>\n"
      ],
      "text/plain": []
     },
     "metadata": {},
     "output_type": "display_data"
    },
    {
     "data": {
      "text/html": [
       "<pre style=\"white-space:pre;overflow-x:auto;line-height:normal;font-family:Menlo,'DejaVu Sans Mono',consolas,'Courier New',monospace\">\n",
       "</pre>\n"
      ],
      "text/plain": [
       "\n"
      ]
     },
     "metadata": {},
     "output_type": "display_data"
    },
    {
     "data": {
      "text/html": [
       "<pre style=\"white-space:pre;overflow-x:auto;line-height:normal;font-family:Menlo,'DejaVu Sans Mono',consolas,'Courier New',monospace\"><span style=\"color: #7fbfbf; text-decoration-color: #7fbfbf\">15:50:28 CDT </span>Mode solver created with                                           \n",
       "<span style=\"color: #7fbfbf; text-decoration-color: #7fbfbf\">             </span><span style=\"color: #808000; text-decoration-color: #808000\">task_id</span>=<span style=\"color: #008000; text-decoration-color: #008000\">'fdve-5ee8c5fc-1ad2-4599-bcc5-9d93417c90e3v1'</span>,             \n",
       "<span style=\"color: #7fbfbf; text-decoration-color: #7fbfbf\">             </span><span style=\"color: #808000; text-decoration-color: #808000\">solver_id</span>=<span style=\"color: #008000; text-decoration-color: #008000\">'mo-f334dca2-686b-4c77-86d3-3c720ba23622'</span>.               \n",
       "</pre>\n"
      ],
      "text/plain": [
       "\u001b[2;36m15:50:28 CDT\u001b[0m\u001b[2;36m \u001b[0mMode solver created with                                           \n",
       "\u001b[2;36m             \u001b[0m\u001b[33mtask_id\u001b[0m=\u001b[32m'fdve-5ee8c5fc-1ad2-4599-bcc5-9d93417c90e3v1'\u001b[0m,             \n",
       "\u001b[2;36m             \u001b[0m\u001b[33msolver_id\u001b[0m=\u001b[32m'mo-f334dca2-686b-4c77-86d3-3c720ba23622'\u001b[0m.               \n"
      ]
     },
     "metadata": {},
     "output_type": "display_data"
    },
    {
     "data": {
      "application/vnd.jupyter.widget-view+json": {
       "model_id": "d47f5bb828b54aceb908392563f964fb",
       "version_major": 2,
       "version_minor": 0
      },
      "text/plain": [
       "Output()"
      ]
     },
     "metadata": {},
     "output_type": "display_data"
    },
    {
     "data": {
      "text/html": [
       "<pre style=\"white-space:pre;overflow-x:auto;line-height:normal;font-family:Menlo,'DejaVu Sans Mono',consolas,'Courier New',monospace\"></pre>\n"
      ],
      "text/plain": []
     },
     "metadata": {},
     "output_type": "display_data"
    },
    {
     "data": {
      "text/html": [
       "<pre style=\"white-space:pre;overflow-x:auto;line-height:normal;font-family:Menlo,'DejaVu Sans Mono',consolas,'Courier New',monospace\">\n",
       "</pre>\n"
      ],
      "text/plain": [
       "\n"
      ]
     },
     "metadata": {},
     "output_type": "display_data"
    },
    {
     "data": {
      "application/vnd.jupyter.widget-view+json": {
       "model_id": "712187c74a5c460b937c998e9ee7dad1",
       "version_major": 2,
       "version_minor": 0
      },
      "text/plain": [
       "Output()"
      ]
     },
     "metadata": {},
     "output_type": "display_data"
    },
    {
     "data": {
      "text/html": [
       "<pre style=\"white-space:pre;overflow-x:auto;line-height:normal;font-family:Menlo,'DejaVu Sans Mono',consolas,'Courier New',monospace\"></pre>\n"
      ],
      "text/plain": []
     },
     "metadata": {},
     "output_type": "display_data"
    },
    {
     "data": {
      "text/html": [
       "<pre style=\"white-space:pre;overflow-x:auto;line-height:normal;font-family:Menlo,'DejaVu Sans Mono',consolas,'Courier New',monospace\">\n",
       "</pre>\n"
      ],
      "text/plain": [
       "\n"
      ]
     },
     "metadata": {},
     "output_type": "display_data"
    },
    {
     "data": {
      "text/html": [
       "<pre style=\"white-space:pre;overflow-x:auto;line-height:normal;font-family:Menlo,'DejaVu Sans Mono',consolas,'Courier New',monospace\"><span style=\"color: #7fbfbf; text-decoration-color: #7fbfbf\">15:50:31 CDT </span>Mode solver status: queued                                         \n",
       "</pre>\n"
      ],
      "text/plain": [
       "\u001b[2;36m15:50:31 CDT\u001b[0m\u001b[2;36m \u001b[0mMode solver status: queued                                         \n"
      ]
     },
     "metadata": {},
     "output_type": "display_data"
    },
    {
     "data": {
      "text/html": [
       "<pre style=\"white-space:pre;overflow-x:auto;line-height:normal;font-family:Menlo,'DejaVu Sans Mono',consolas,'Courier New',monospace\"><span style=\"color: #7fbfbf; text-decoration-color: #7fbfbf\">15:50:33 CDT </span>Mode solver status: running                                        \n",
       "</pre>\n"
      ],
      "text/plain": [
       "\u001b[2;36m15:50:33 CDT\u001b[0m\u001b[2;36m \u001b[0mMode solver status: running                                        \n"
      ]
     },
     "metadata": {},
     "output_type": "display_data"
    },
    {
     "data": {
      "text/html": [
       "<pre style=\"white-space:pre;overflow-x:auto;line-height:normal;font-family:Menlo,'DejaVu Sans Mono',consolas,'Courier New',monospace\"><span style=\"color: #7fbfbf; text-decoration-color: #7fbfbf\">15:50:47 CDT </span>Mode solver status: success                                        \n",
       "</pre>\n"
      ],
      "text/plain": [
       "\u001b[2;36m15:50:47 CDT\u001b[0m\u001b[2;36m \u001b[0mMode solver status: success                                        \n"
      ]
     },
     "metadata": {},
     "output_type": "display_data"
    },
    {
     "data": {
      "application/vnd.jupyter.widget-view+json": {
       "model_id": "faaf6825ecc041db9e88440fe429165d",
       "version_major": 2,
       "version_minor": 0
      },
      "text/plain": [
       "Output()"
      ]
     },
     "metadata": {},
     "output_type": "display_data"
    },
    {
     "data": {
      "text/html": [
       "<pre style=\"white-space:pre;overflow-x:auto;line-height:normal;font-family:Menlo,'DejaVu Sans Mono',consolas,'Courier New',monospace\"></pre>\n"
      ],
      "text/plain": []
     },
     "metadata": {},
     "output_type": "display_data"
    },
    {
     "data": {
      "text/html": [
       "<pre style=\"white-space:pre;overflow-x:auto;line-height:normal;font-family:Menlo,'DejaVu Sans Mono',consolas,'Courier New',monospace\">\n",
       "</pre>\n"
      ],
      "text/plain": [
       "\n"
      ]
     },
     "metadata": {},
     "output_type": "display_data"
    },
    {
     "data": {
      "text/html": [
       "<pre style=\"white-space:pre;overflow-x:auto;line-height:normal;font-family:Menlo,'DejaVu Sans Mono',consolas,'Courier New',monospace\"><span style=\"color: #7fbfbf; text-decoration-color: #7fbfbf\">15:50:51 CDT </span>Mode solver created with                                           \n",
       "<span style=\"color: #7fbfbf; text-decoration-color: #7fbfbf\">             </span><span style=\"color: #808000; text-decoration-color: #808000\">task_id</span>=<span style=\"color: #008000; text-decoration-color: #008000\">'fdve-c69ecbb6-0a33-4480-b9ab-d55319bcb5f9v1'</span>,             \n",
       "<span style=\"color: #7fbfbf; text-decoration-color: #7fbfbf\">             </span><span style=\"color: #808000; text-decoration-color: #808000\">solver_id</span>=<span style=\"color: #008000; text-decoration-color: #008000\">'mo-71621ac9-f796-4c51-937e-e97cd8396d4b'</span>.               \n",
       "</pre>\n"
      ],
      "text/plain": [
       "\u001b[2;36m15:50:51 CDT\u001b[0m\u001b[2;36m \u001b[0mMode solver created with                                           \n",
       "\u001b[2;36m             \u001b[0m\u001b[33mtask_id\u001b[0m=\u001b[32m'fdve-c69ecbb6-0a33-4480-b9ab-d55319bcb5f9v1'\u001b[0m,             \n",
       "\u001b[2;36m             \u001b[0m\u001b[33msolver_id\u001b[0m=\u001b[32m'mo-71621ac9-f796-4c51-937e-e97cd8396d4b'\u001b[0m.               \n"
      ]
     },
     "metadata": {},
     "output_type": "display_data"
    },
    {
     "data": {
      "application/vnd.jupyter.widget-view+json": {
       "model_id": "64a1d71e9b6c4229aab601510594c033",
       "version_major": 2,
       "version_minor": 0
      },
      "text/plain": [
       "Output()"
      ]
     },
     "metadata": {},
     "output_type": "display_data"
    },
    {
     "data": {
      "text/html": [
       "<pre style=\"white-space:pre;overflow-x:auto;line-height:normal;font-family:Menlo,'DejaVu Sans Mono',consolas,'Courier New',monospace\"></pre>\n"
      ],
      "text/plain": []
     },
     "metadata": {},
     "output_type": "display_data"
    },
    {
     "data": {
      "text/html": [
       "<pre style=\"white-space:pre;overflow-x:auto;line-height:normal;font-family:Menlo,'DejaVu Sans Mono',consolas,'Courier New',monospace\">\n",
       "</pre>\n"
      ],
      "text/plain": [
       "\n"
      ]
     },
     "metadata": {},
     "output_type": "display_data"
    },
    {
     "data": {
      "application/vnd.jupyter.widget-view+json": {
       "model_id": "1f045aad7af64e71a6f9dde652d56b35",
       "version_major": 2,
       "version_minor": 0
      },
      "text/plain": [
       "Output()"
      ]
     },
     "metadata": {},
     "output_type": "display_data"
    },
    {
     "data": {
      "text/html": [
       "<pre style=\"white-space:pre;overflow-x:auto;line-height:normal;font-family:Menlo,'DejaVu Sans Mono',consolas,'Courier New',monospace\"></pre>\n"
      ],
      "text/plain": []
     },
     "metadata": {},
     "output_type": "display_data"
    },
    {
     "data": {
      "text/html": [
       "<pre style=\"white-space:pre;overflow-x:auto;line-height:normal;font-family:Menlo,'DejaVu Sans Mono',consolas,'Courier New',monospace\">\n",
       "</pre>\n"
      ],
      "text/plain": [
       "\n"
      ]
     },
     "metadata": {},
     "output_type": "display_data"
    },
    {
     "data": {
      "text/html": [
       "<pre style=\"white-space:pre;overflow-x:auto;line-height:normal;font-family:Menlo,'DejaVu Sans Mono',consolas,'Courier New',monospace\"><span style=\"color: #7fbfbf; text-decoration-color: #7fbfbf\">15:50:55 CDT </span>Mode solver status: queued                                         \n",
       "</pre>\n"
      ],
      "text/plain": [
       "\u001b[2;36m15:50:55 CDT\u001b[0m\u001b[2;36m \u001b[0mMode solver status: queued                                         \n"
      ]
     },
     "metadata": {},
     "output_type": "display_data"
    },
    {
     "data": {
      "text/html": [
       "<pre style=\"white-space:pre;overflow-x:auto;line-height:normal;font-family:Menlo,'DejaVu Sans Mono',consolas,'Courier New',monospace\"><span style=\"color: #7fbfbf; text-decoration-color: #7fbfbf\">15:50:56 CDT </span>Mode solver status: running                                        \n",
       "</pre>\n"
      ],
      "text/plain": [
       "\u001b[2;36m15:50:56 CDT\u001b[0m\u001b[2;36m \u001b[0mMode solver status: running                                        \n"
      ]
     },
     "metadata": {},
     "output_type": "display_data"
    },
    {
     "data": {
      "text/html": [
       "<pre style=\"white-space:pre;overflow-x:auto;line-height:normal;font-family:Menlo,'DejaVu Sans Mono',consolas,'Courier New',monospace\"><span style=\"color: #7fbfbf; text-decoration-color: #7fbfbf\">15:51:16 CDT </span>Mode solver status: success                                        \n",
       "</pre>\n"
      ],
      "text/plain": [
       "\u001b[2;36m15:51:16 CDT\u001b[0m\u001b[2;36m \u001b[0mMode solver status: success                                        \n"
      ]
     },
     "metadata": {},
     "output_type": "display_data"
    },
    {
     "data": {
      "application/vnd.jupyter.widget-view+json": {
       "model_id": "bd997e089c8a4d31a29d5a0ff83f0ffd",
       "version_major": 2,
       "version_minor": 0
      },
      "text/plain": [
       "Output()"
      ]
     },
     "metadata": {},
     "output_type": "display_data"
    },
    {
     "data": {
      "text/html": [
       "<pre style=\"white-space:pre;overflow-x:auto;line-height:normal;font-family:Menlo,'DejaVu Sans Mono',consolas,'Courier New',monospace\"></pre>\n"
      ],
      "text/plain": []
     },
     "metadata": {},
     "output_type": "display_data"
    },
    {
     "data": {
      "text/html": [
       "<pre style=\"white-space:pre;overflow-x:auto;line-height:normal;font-family:Menlo,'DejaVu Sans Mono',consolas,'Courier New',monospace\">\n",
       "</pre>\n"
      ],
      "text/plain": [
       "\n"
      ]
     },
     "metadata": {},
     "output_type": "display_data"
    },
    {
     "data": {
      "text/html": [
       "<pre style=\"white-space:pre;overflow-x:auto;line-height:normal;font-family:Menlo,'DejaVu Sans Mono',consolas,'Courier New',monospace\"><span style=\"color: #7fbfbf; text-decoration-color: #7fbfbf\">15:51:19 CDT </span>Mode solver created with                                           \n",
       "<span style=\"color: #7fbfbf; text-decoration-color: #7fbfbf\">             </span><span style=\"color: #808000; text-decoration-color: #808000\">task_id</span>=<span style=\"color: #008000; text-decoration-color: #008000\">'fdve-0f9fe98b-199b-482b-bedc-cba6beaabba1v1'</span>,             \n",
       "<span style=\"color: #7fbfbf; text-decoration-color: #7fbfbf\">             </span><span style=\"color: #808000; text-decoration-color: #808000\">solver_id</span>=<span style=\"color: #008000; text-decoration-color: #008000\">'mo-d186b861-bd6c-4b25-93ca-bafd947a2980'</span>.               \n",
       "</pre>\n"
      ],
      "text/plain": [
       "\u001b[2;36m15:51:19 CDT\u001b[0m\u001b[2;36m \u001b[0mMode solver created with                                           \n",
       "\u001b[2;36m             \u001b[0m\u001b[33mtask_id\u001b[0m=\u001b[32m'fdve-0f9fe98b-199b-482b-bedc-cba6beaabba1v1'\u001b[0m,             \n",
       "\u001b[2;36m             \u001b[0m\u001b[33msolver_id\u001b[0m=\u001b[32m'mo-d186b861-bd6c-4b25-93ca-bafd947a2980'\u001b[0m.               \n"
      ]
     },
     "metadata": {},
     "output_type": "display_data"
    },
    {
     "data": {
      "application/vnd.jupyter.widget-view+json": {
       "model_id": "0118d6aef4a141eda0f393cace38f45e",
       "version_major": 2,
       "version_minor": 0
      },
      "text/plain": [
       "Output()"
      ]
     },
     "metadata": {},
     "output_type": "display_data"
    },
    {
     "data": {
      "text/html": [
       "<pre style=\"white-space:pre;overflow-x:auto;line-height:normal;font-family:Menlo,'DejaVu Sans Mono',consolas,'Courier New',monospace\"></pre>\n"
      ],
      "text/plain": []
     },
     "metadata": {},
     "output_type": "display_data"
    },
    {
     "data": {
      "text/html": [
       "<pre style=\"white-space:pre;overflow-x:auto;line-height:normal;font-family:Menlo,'DejaVu Sans Mono',consolas,'Courier New',monospace\">\n",
       "</pre>\n"
      ],
      "text/plain": [
       "\n"
      ]
     },
     "metadata": {},
     "output_type": "display_data"
    },
    {
     "data": {
      "application/vnd.jupyter.widget-view+json": {
       "model_id": "edbcf40beabb4043b6000518e8742c29",
       "version_major": 2,
       "version_minor": 0
      },
      "text/plain": [
       "Output()"
      ]
     },
     "metadata": {},
     "output_type": "display_data"
    },
    {
     "data": {
      "text/html": [
       "<pre style=\"white-space:pre;overflow-x:auto;line-height:normal;font-family:Menlo,'DejaVu Sans Mono',consolas,'Courier New',monospace\"></pre>\n"
      ],
      "text/plain": []
     },
     "metadata": {},
     "output_type": "display_data"
    },
    {
     "data": {
      "text/html": [
       "<pre style=\"white-space:pre;overflow-x:auto;line-height:normal;font-family:Menlo,'DejaVu Sans Mono',consolas,'Courier New',monospace\">\n",
       "</pre>\n"
      ],
      "text/plain": [
       "\n"
      ]
     },
     "metadata": {},
     "output_type": "display_data"
    },
    {
     "data": {
      "text/html": [
       "<pre style=\"white-space:pre;overflow-x:auto;line-height:normal;font-family:Menlo,'DejaVu Sans Mono',consolas,'Courier New',monospace\"><span style=\"color: #7fbfbf; text-decoration-color: #7fbfbf\">15:51:22 CDT </span>Mode solver status: queued                                         \n",
       "</pre>\n"
      ],
      "text/plain": [
       "\u001b[2;36m15:51:22 CDT\u001b[0m\u001b[2;36m \u001b[0mMode solver status: queued                                         \n"
      ]
     },
     "metadata": {},
     "output_type": "display_data"
    },
    {
     "data": {
      "text/html": [
       "<pre style=\"white-space:pre;overflow-x:auto;line-height:normal;font-family:Menlo,'DejaVu Sans Mono',consolas,'Courier New',monospace\"><span style=\"color: #7fbfbf; text-decoration-color: #7fbfbf\">15:51:23 CDT </span>Mode solver status: running                                        \n",
       "</pre>\n"
      ],
      "text/plain": [
       "\u001b[2;36m15:51:23 CDT\u001b[0m\u001b[2;36m \u001b[0mMode solver status: running                                        \n"
      ]
     },
     "metadata": {},
     "output_type": "display_data"
    },
    {
     "data": {
      "text/html": [
       "<pre style=\"white-space:pre;overflow-x:auto;line-height:normal;font-family:Menlo,'DejaVu Sans Mono',consolas,'Courier New',monospace\"><span style=\"color: #7fbfbf; text-decoration-color: #7fbfbf\">15:51:35 CDT </span>Mode solver status: success                                        \n",
       "</pre>\n"
      ],
      "text/plain": [
       "\u001b[2;36m15:51:35 CDT\u001b[0m\u001b[2;36m \u001b[0mMode solver status: success                                        \n"
      ]
     },
     "metadata": {},
     "output_type": "display_data"
    },
    {
     "data": {
      "application/vnd.jupyter.widget-view+json": {
       "model_id": "e9b316036a154234983e6cd3ed0c24cb",
       "version_major": 2,
       "version_minor": 0
      },
      "text/plain": [
       "Output()"
      ]
     },
     "metadata": {},
     "output_type": "display_data"
    },
    {
     "data": {
      "text/html": [
       "<pre style=\"white-space:pre;overflow-x:auto;line-height:normal;font-family:Menlo,'DejaVu Sans Mono',consolas,'Courier New',monospace\"></pre>\n"
      ],
      "text/plain": []
     },
     "metadata": {},
     "output_type": "display_data"
    },
    {
     "data": {
      "text/html": [
       "<pre style=\"white-space:pre;overflow-x:auto;line-height:normal;font-family:Menlo,'DejaVu Sans Mono',consolas,'Courier New',monospace\">\n",
       "</pre>\n"
      ],
      "text/plain": [
       "\n"
      ]
     },
     "metadata": {},
     "output_type": "display_data"
    },
    {
     "data": {
      "text/html": [
       "<pre style=\"white-space:pre;overflow-x:auto;line-height:normal;font-family:Menlo,'DejaVu Sans Mono',consolas,'Courier New',monospace\"><span style=\"color: #7fbfbf; text-decoration-color: #7fbfbf\">15:51:38 CDT </span>Mode solver created with                                           \n",
       "<span style=\"color: #7fbfbf; text-decoration-color: #7fbfbf\">             </span><span style=\"color: #808000; text-decoration-color: #808000\">task_id</span>=<span style=\"color: #008000; text-decoration-color: #008000\">'fdve-7c710a16-24d4-4f5f-90f8-cc1f32731ef2v1'</span>,             \n",
       "<span style=\"color: #7fbfbf; text-decoration-color: #7fbfbf\">             </span><span style=\"color: #808000; text-decoration-color: #808000\">solver_id</span>=<span style=\"color: #008000; text-decoration-color: #008000\">'mo-e6d0f8a0-8b41-47af-a85b-7c85a17d6032'</span>.               \n",
       "</pre>\n"
      ],
      "text/plain": [
       "\u001b[2;36m15:51:38 CDT\u001b[0m\u001b[2;36m \u001b[0mMode solver created with                                           \n",
       "\u001b[2;36m             \u001b[0m\u001b[33mtask_id\u001b[0m=\u001b[32m'fdve-7c710a16-24d4-4f5f-90f8-cc1f32731ef2v1'\u001b[0m,             \n",
       "\u001b[2;36m             \u001b[0m\u001b[33msolver_id\u001b[0m=\u001b[32m'mo-e6d0f8a0-8b41-47af-a85b-7c85a17d6032'\u001b[0m.               \n"
      ]
     },
     "metadata": {},
     "output_type": "display_data"
    },
    {
     "data": {
      "application/vnd.jupyter.widget-view+json": {
       "model_id": "897193754a6147bc8da1c10acdb24c26",
       "version_major": 2,
       "version_minor": 0
      },
      "text/plain": [
       "Output()"
      ]
     },
     "metadata": {},
     "output_type": "display_data"
    },
    {
     "data": {
      "text/html": [
       "<pre style=\"white-space:pre;overflow-x:auto;line-height:normal;font-family:Menlo,'DejaVu Sans Mono',consolas,'Courier New',monospace\"></pre>\n"
      ],
      "text/plain": []
     },
     "metadata": {},
     "output_type": "display_data"
    },
    {
     "data": {
      "text/html": [
       "<pre style=\"white-space:pre;overflow-x:auto;line-height:normal;font-family:Menlo,'DejaVu Sans Mono',consolas,'Courier New',monospace\">\n",
       "</pre>\n"
      ],
      "text/plain": [
       "\n"
      ]
     },
     "metadata": {},
     "output_type": "display_data"
    },
    {
     "data": {
      "application/vnd.jupyter.widget-view+json": {
       "model_id": "e34152cb00544771a56e534c05b3e79d",
       "version_major": 2,
       "version_minor": 0
      },
      "text/plain": [
       "Output()"
      ]
     },
     "metadata": {},
     "output_type": "display_data"
    },
    {
     "data": {
      "text/html": [
       "<pre style=\"white-space:pre;overflow-x:auto;line-height:normal;font-family:Menlo,'DejaVu Sans Mono',consolas,'Courier New',monospace\"></pre>\n"
      ],
      "text/plain": []
     },
     "metadata": {},
     "output_type": "display_data"
    },
    {
     "data": {
      "text/html": [
       "<pre style=\"white-space:pre;overflow-x:auto;line-height:normal;font-family:Menlo,'DejaVu Sans Mono',consolas,'Courier New',monospace\">\n",
       "</pre>\n"
      ],
      "text/plain": [
       "\n"
      ]
     },
     "metadata": {},
     "output_type": "display_data"
    },
    {
     "data": {
      "text/html": [
       "<pre style=\"white-space:pre;overflow-x:auto;line-height:normal;font-family:Menlo,'DejaVu Sans Mono',consolas,'Courier New',monospace\"><span style=\"color: #7fbfbf; text-decoration-color: #7fbfbf\">15:51:43 CDT </span>Mode solver status: queued                                         \n",
       "</pre>\n"
      ],
      "text/plain": [
       "\u001b[2;36m15:51:43 CDT\u001b[0m\u001b[2;36m \u001b[0mMode solver status: queued                                         \n"
      ]
     },
     "metadata": {},
     "output_type": "display_data"
    },
    {
     "data": {
      "text/html": [
       "<pre style=\"white-space:pre;overflow-x:auto;line-height:normal;font-family:Menlo,'DejaVu Sans Mono',consolas,'Courier New',monospace\"><span style=\"color: #7fbfbf; text-decoration-color: #7fbfbf\">             </span>Mode solver status: running                                        \n",
       "</pre>\n"
      ],
      "text/plain": [
       "\u001b[2;36m            \u001b[0m\u001b[2;36m \u001b[0mMode solver status: running                                        \n"
      ]
     },
     "metadata": {},
     "output_type": "display_data"
    },
    {
     "data": {
      "text/html": [
       "<pre style=\"white-space:pre;overflow-x:auto;line-height:normal;font-family:Menlo,'DejaVu Sans Mono',consolas,'Courier New',monospace\"><span style=\"color: #7fbfbf; text-decoration-color: #7fbfbf\">15:51:56 CDT </span>Mode solver status: success                                        \n",
       "</pre>\n"
      ],
      "text/plain": [
       "\u001b[2;36m15:51:56 CDT\u001b[0m\u001b[2;36m \u001b[0mMode solver status: success                                        \n"
      ]
     },
     "metadata": {},
     "output_type": "display_data"
    },
    {
     "data": {
      "application/vnd.jupyter.widget-view+json": {
       "model_id": "fd35993b9c4f4354a3b4f0f410f7e0f4",
       "version_major": 2,
       "version_minor": 0
      },
      "text/plain": [
       "Output()"
      ]
     },
     "metadata": {},
     "output_type": "display_data"
    },
    {
     "data": {
      "text/html": [
       "<pre style=\"white-space:pre;overflow-x:auto;line-height:normal;font-family:Menlo,'DejaVu Sans Mono',consolas,'Courier New',monospace\"></pre>\n"
      ],
      "text/plain": []
     },
     "metadata": {},
     "output_type": "display_data"
    },
    {
     "data": {
      "text/html": [
       "<pre style=\"white-space:pre;overflow-x:auto;line-height:normal;font-family:Menlo,'DejaVu Sans Mono',consolas,'Courier New',monospace\">\n",
       "</pre>\n"
      ],
      "text/plain": [
       "\n"
      ]
     },
     "metadata": {},
     "output_type": "display_data"
    }
   ],
   "source": [
    "mode_datas = []\n",
    "\n",
    "for psim in perturb_sims:\n",
    "    ms = ModeSolver(\n",
    "        simulation=psim,\n",
    "        plane=mode_plane,\n",
    "        mode_spec=td.ModeSpec(num_modes=1, precision=\"double\"),\n",
    "        freqs=[freq0],\n",
    "    )\n",
    "\n",
    "    md = run_mode(ms)\n",
    "\n",
    "    mode_datas.append(md)\n"
   ]
  },
  {
   "cell_type": "markdown",
   "id": "c7b3cce3-ae47-46ac-988f-f5d11466682b",
   "metadata": {},
   "source": [
    "Extract found propagation indices into a single array."
   ]
  },
  {
   "cell_type": "code",
   "execution_count": 27,
   "id": "e86552fe-95e4-424f-8371-eea3e4839cc7",
   "metadata": {},
   "outputs": [],
   "source": [
    "n_eff = np.array([md.n_eff.isel(f=0, mode_index=0) for md in mode_datas])\n"
   ]
  },
  {
   "cell_type": "markdown",
   "id": "45e3557a-ed40-4a9c-9478-7ddafce1a097",
   "metadata": {},
   "source": [
    "We will compare to results obtained using different thermal and mode solvers."
   ]
  },
  {
   "cell_type": "code",
   "execution_count": 28,
   "id": "ae8e79ff-cc62-4a3a-8efd-b1c4cad4f616",
   "metadata": {},
   "outputs": [],
   "source": [
    "currents_ref = np.linspace(0.0, 7.4e-3, 10)\n",
    "neff_ref = [\n",
    "    2.4401133396065293,\n",
    "    2.440149458129956,\n",
    "    2.440257814666438,\n",
    "    2.4404384121136413,\n",
    "    2.4406912552977094,\n",
    "    2.441016350968344,\n",
    "    2.441413707791896,\n",
    "    2.4418833363425283,\n",
    "    2.4424252490914293,\n",
    "    2.443039460394046,\n",
    "]\n"
   ]
  },
  {
   "cell_type": "markdown",
   "id": "a1e6f2ae-e2a3-4efb-b3e3-3e994e3d26aa",
   "metadata": {},
   "source": [
    "The absolute values of propagation indices are quite sensitive to the type of solver used and parameters of mode solver solution domain. Thus, we compare changes to the propagation indices rather then their absolute values."
   ]
  },
  {
   "cell_type": "code",
   "execution_count": 29,
   "id": "fb41b91d-bebd-4342-baa1-0187f84033ae",
   "metadata": {},
   "outputs": [
    {
     "name": "stdout",
     "output_type": "stream",
     "text": [
      "Phase shift over 320um: 3.807849105815964\n",
      "Phase shift over 320um (ref): 3.795687048084378\n"
     ]
    },
    {
     "data": {
      "image/png": "[encoded data removed]",
      "text/plain": [
       "<Figure size 640x480 with 1 Axes>"
      ]
     },
     "metadata": {},
     "output_type": "display_data"
    }
   ],
   "source": [
    "print(f\"Phase shift over 320um: {2 * np.pi / 1.55 * (n_eff[-1] - n_eff[0]) * 320}\")\n",
    "print(\n",
    "    f\"Phase shift over 320um (ref): {2 * np.pi / 1.55 * (neff_ref[-1] - neff_ref[0]) * 320}\"\n",
    ")\n",
    "plt.plot(currents * 1e3, n_eff[:] - n_eff[0], \"o:\")\n",
    "plt.plot(currents_ref * 1e3, np.array(neff_ref) - neff_ref[0])\n",
    "plt.xlabel(\"Current / mA\")\n",
    "plt.ylabel(\"Change in effective refractive index $n_{eff}$\")\n",
    "plt.legend([\"tidy3d\", \"reference\"])\n",
    "plt.show()\n"
   ]
  },
  {
   "cell_type": "code",
   "execution_count": null,
   "id": "162e46de-ad7d-45e4-b87a-1cb0177e1431",
   "metadata": {},
   "outputs": [],
   "source": []
  }
 ],
 "metadata": {
  "kernelspec": {
   "display_name": "Python 3 (ipykernel)",
   "language": "python",
   "name": "python3"
  },
  "language_info": {
   "codemirror_mode": {
    "name": "ipython",
    "version": 3
   },
   "description": "This notebook demonstrate how to couple heat and optic simulations in Tidy3D using thermally tuned waveguide as an example.",
   "feature_image": "",
   "file_extension": ".py",
   "keywords": "waveguide, tuning, thermo-optic, heat, Tidy3D, FDTD",
   "mimetype": "text/x-python",
   "name": "python",
   "nbconvert_exporter": "python",
   "pygments_lexer": "ipython3",
   "title": "Modeling thermally tuned waveguide in Tidy3D | Flexcompute",
   "version": "3.10.12"
  }
 },
 "nbformat": 4,
 "nbformat_minor": 5
}
