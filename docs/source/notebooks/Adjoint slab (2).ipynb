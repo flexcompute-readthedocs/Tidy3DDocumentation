{
 "cells": [
  {
   "cell_type": "code",
   "execution_count": 1,
   "id": "51963da1",
   "metadata": {},
   "outputs": [
    {
     "data": {
      "text/html": [
       "<pre style=\"white-space:pre;overflow-x:auto;line-height:normal;font-family:Menlo,'DejaVu Sans Mono',consolas,'Courier New',monospace\"><span style=\"color: #7fbfbf; text-decoration-color: #7fbfbf\">[15:03:56] </span><span style=\"color: #000080; text-decoration-color: #000080\">INFO    </span> Using client version: <span style=\"color: #008080; text-decoration-color: #008080; font-weight: bold\">1.8</span>.<span style=\"color: #008080; text-decoration-color: #008080; font-weight: bold\">0</span>                                                     <a href=\"file:///Users/twhughes/Documents/Flexcompute/tidy3d-docs/docs/source/notebooks/../../../tidy3d/tidy3d/__init__.py\" target=\"_blank\"><span style=\"color: #7f7f7f; text-decoration-color: #7f7f7f\">__init__.py</span></a><span style=\"color: #7f7f7f; text-decoration-color: #7f7f7f\">:</span><a href=\"file:///Users/twhughes/Documents/Flexcompute/tidy3d-docs/docs/source/notebooks/../../../tidy3d/tidy3d/__init__.py#112\" target=\"_blank\"><span style=\"color: #7f7f7f; text-decoration-color: #7f7f7f\">112</span></a>\n",
       "</pre>\n"
      ],
      "text/plain": [
       "\u001b[2;36m[15:03:56]\u001b[0m\u001b[2;36m \u001b[0m\u001b[34mINFO    \u001b[0m Using client version: \u001b[1;36m1.8\u001b[0m.\u001b[1;36m0\u001b[0m                                                     \u001b]8;id=626965;file:///Users/twhughes/Documents/Flexcompute/tidy3d-docs/docs/source/notebooks/../../../tidy3d/tidy3d/__init__.py\u001b\\\u001b[2m__init__.py\u001b[0m\u001b]8;;\u001b\\\u001b[2m:\u001b[0m\u001b]8;id=203077;file:///Users/twhughes/Documents/Flexcompute/tidy3d-docs/docs/source/notebooks/../../../tidy3d/tidy3d/__init__.py#112\u001b\\\u001b[2m112\u001b[0m\u001b]8;;\u001b\\\n"
      ]
     },
     "metadata": {},
     "output_type": "display_data"
    }
   ],
   "source": [
    "import numpy as np\n",
    "import matplotlib.pyplot as plt\n",
    "import sys; sys.path.append('../../../tidy3d')\n",
    "import tidy3d as td\n",
    "from copy import copy\n",
    "import tmm\n",
    "\n",
    "from tidy3d.plugins.adjoint.components.simulation import JaxSimulation\n",
    "from tidy3d.plugins.adjoint.components.geometry import JaxBox\n",
    "from tidy3d.plugins.adjoint.components.medium import JaxMedium\n",
    "from tidy3d.plugins.adjoint.components.structure import JaxStructure\n",
    "from tidy3d.plugins.adjoint.components.data.sim_data import JaxSimulationData\n",
    "from tidy3d.plugins.adjoint.web import run"
   ]
  },
  {
   "cell_type": "code",
   "execution_count": 2,
   "id": "1bd4d314-2b7f-4d96-ab95-19e397961003",
   "metadata": {},
   "outputs": [],
   "source": [
    "freq0 = 2e14\n",
    "subpixel = True\n",
    "offset_z =1e-5\n",
    "dl = 0.0125\n",
    "eps0 = [2**2, 1.8**2, 1.5**2, 1.9**2]\n",
    "ds0 = [0.5, 0.25, 0.5, 0.25]\n",
    "bck_eps = 1.4**2\n",
    "num_modes = 2"
   ]
  },
  {
   "cell_type": "code",
   "execution_count": 3,
   "id": "1b4da4bd-de0b-412a-8bfd-edf429fa40c9",
   "metadata": {},
   "outputs": [],
   "source": [
    "def compute_T_tmm(slab_eps=eps0, slab_ds=ds0):\n",
    "    eps_list = [bck_eps] + slab_eps + [bck_eps]\n",
    "    n_list = np.sqrt(eps_list)\n",
    "    d_list = [np.inf] + slab_ds + [np.inf]\n",
    "    wavelength = td.C_0 / freq0\n",
    "    T = tmm.coh_tmm(\"p\", n_list, d_list, 0, wavelength)[\"T\"]\n",
    "    return T"
   ]
  },
  {
   "cell_type": "code",
   "execution_count": 4,
   "id": "41832213-6725-4ef0-a86e-c67c0bbf23cd",
   "metadata": {},
   "outputs": [
    {
     "data": {
      "text/html": [
       "<pre style=\"white-space:pre;overflow-x:auto;line-height:normal;font-family:Menlo,'DejaVu Sans Mono',consolas,'Courier New',monospace\"><span style=\"color: #008080; text-decoration-color: #008080; font-weight: bold\">0.8752655778361093</span>\n",
       "</pre>\n"
      ],
      "text/plain": [
       "\u001b[1;36m0.8752655778361093\u001b[0m\n"
      ]
     },
     "metadata": {},
     "output_type": "display_data"
    }
   ],
   "source": [
    "compute_T_tmm(eps0, ds0)"
   ]
  },
  {
   "cell_type": "code",
   "execution_count": 5,
   "id": "9f349002",
   "metadata": {},
   "outputs": [],
   "source": [
    "def grad_tmm(slab_eps, slab_ds, delta=1e-4):\n",
    "    \"\"\"Use numerical derivative to compute the gradient of transmission through slabs with respect\n",
    "    to each slab permittivity and upper and lower boundary. Uses tmm to get the analytical\n",
    "    transmission results.\n",
    "    \"\"\"\n",
    "\n",
    "    num_slabs = len(slab_eps)\n",
    "    assert num_slabs == len(slab_ds)\n",
    "    \n",
    "    grad_eps = np.zeros((num_slabs,))  # gradient of each slab's permittivity\n",
    "    grad_ds = np.zeros((num_slabs,))  # gradient of shifting each slab's bottom boundary\n",
    "\n",
    "    T0 = compute_T_tmm(slab_eps, slab_ds)\n",
    "    \n",
    "    for islab in range(num_slabs):\n",
    "\n",
    "        # epsilon\n",
    "        eps_p = copy(slab_eps)\n",
    "        eps_p[islab] += delta\n",
    "        T_p = compute_T_tmm(eps_p, slab_ds)\n",
    "        eps_m = copy(slab_eps)\n",
    "        eps_m[islab] -= delta\n",
    "        T_m = compute_T_tmm(eps_m, slab_ds)\n",
    "        grad_eps[islab] = (T_p - T_m) / (2 * delta)\n",
    "    \n",
    "        # thicknesses\n",
    "        ds_p = copy(slab_ds)\n",
    "        ds_p[islab] += delta\n",
    "        T_p = compute_T_tmm(slab_eps, ds_p)\n",
    "        ds_m = copy(slab_ds)\n",
    "        ds_m[islab] -= delta\n",
    "        T_p = compute_T_tmm(slab_eps, ds_m)\n",
    "        grad_ds[islab] = (T_p - T_m) / (2 * delta)\n",
    "    return grad_eps, grad_ds\n"
   ]
  },
  {
   "cell_type": "code",
   "execution_count": 6,
   "id": "c9cbd513-0e60-4a1f-bd2f-11c3af803629",
   "metadata": {},
   "outputs": [
    {
     "name": "stdout",
     "output_type": "stream",
     "text": [
      "[-0.05588192  0.08454998  0.0097844  -0.05841657]\n",
      "[-0.04149632 -0.18446432 -0.03840651 -0.32220109]\n"
     ]
    }
   ],
   "source": [
    "ge, gd = grad_tmm(eps0, ds0)\n",
    "print(ge)\n",
    "print(gd)"
   ]
  },
  {
   "cell_type": "code",
   "execution_count": 7,
   "id": "0648c532",
   "metadata": {},
   "outputs": [],
   "source": [
    "def make_sim(slab_eps=eps0, slab_ds=ds0, incl_fields=False):\n",
    "    \n",
    "    # frequency setup\n",
    "    wavelength = td.C_0 / freq0\n",
    "    fwidth = freq0 / 10.0\n",
    "    freqs = [freq0]\n",
    "\n",
    "    # geometry setup\n",
    "    bck_medium = td.Medium(permittivity=bck_eps)\n",
    "\n",
    "    space_above = 2\n",
    "    space_below = 2\n",
    "\n",
    "    length_x = 1.0\n",
    "    center_x = 0.0\n",
    "    length_z = space_below + np.sum(slab_ds) + space_above\n",
    "    sim_size = (length_x, length_x, length_z)\n",
    "\n",
    "    # make structures\n",
    "    slabs = []\n",
    "    z_start = -np.sum(slab_ds) / 2\n",
    "    for (d, eps) in zip(slab_ds, slab_eps):\n",
    "        slab = JaxStructure(\n",
    "            geometry=JaxBox(center=[0, 0, z_start + offset_z + d / 2], size=[td.inf, td.inf, d]),\n",
    "            medium=JaxMedium(permittivity=eps),\n",
    "        )\n",
    "        slabs.append(slab)\n",
    "        z_start += d\n",
    "\n",
    "    # source setup\n",
    "    gaussian = td.GaussianPulse(freq0=freq0, fwidth=fwidth)\n",
    "    src_z = -length_z / 2 + 3 * space_below / 4\n",
    "\n",
    "    source = td.PlaneWave(\n",
    "        center=(center_x, 0, src_z),\n",
    "        size=(td.inf, td.inf, 0),\n",
    "        source_time=gaussian,\n",
    "        direction=\"+\",\n",
    "        angle_theta=0,\n",
    "        angle_phi=0,\n",
    "        pol_angle=0,\n",
    "    )\n",
    "\n",
    "    # boundaries\n",
    "    boundary_x = td.Boundary.bloch_from_source(\n",
    "        source=source, domain_size=sim_size[0], axis=0, medium=bck_medium\n",
    "    )\n",
    "    boundary_spec = td.BoundarySpec(x=boundary_x, y=td.Boundary.periodic(), z=td.Boundary.pml(num_layers=40))\n",
    "    boundary_spec = td.BoundarySpec.all_sides(boundary=td.PML())\n",
    "\n",
    "    # monitors\n",
    "    mnt_z = length_z / 2 - wavelength\n",
    "    monitor_1 = td.DiffractionMonitor(\n",
    "        center=[0.0, 0.0, mnt_z],\n",
    "        size=[td.inf, td.inf, 0],\n",
    "        freqs=freqs,\n",
    "        name=\"modes\",\n",
    "    )\n",
    "\n",
    "    monitor_2 = td.FieldMonitor(\n",
    "        center=[0.0, 0.0, mnt_z],\n",
    "        size=[td.inf, td.inf, 0],\n",
    "        freqs=freqs,\n",
    "        name=\"field\",\n",
    "    )\n",
    "    \n",
    "    monitors = [monitor_2] if incl_fields else []\n",
    "\n",
    "    # make simulation\n",
    "    return JaxSimulation(\n",
    "        size=sim_size,\n",
    "        grid_spec=td.GridSpec.uniform(dl=dl),\n",
    "        input_structures=slabs,\n",
    "        sources=[source],\n",
    "        monitors=monitors,\n",
    "        output_monitors=[monitor_1],\n",
    "        run_time=50 / fwidth,\n",
    "        boundary_spec=boundary_spec,\n",
    "        medium=bck_medium,\n",
    "        subpixel=subpixel,\n",
    "        shutoff=1e-8,\n",
    "    )\n",
    "\n",
    "def compute_T_fdtd(slab_eps=eps0, slab_ds=ds0):\n",
    "    \n",
    "    sim=make_sim(slab_eps=slab_eps, slab_ds=slab_ds)\n",
    "\n",
    "    # run forward simulation\n",
    "    sim_data = run(sim, task_name='slabs')\n",
    "    \n",
    "    # output amplitudes\n",
    "    amp = sim_data[\"modes\"].amps.sel(direction=\"+\", f=freq0, mode_index=0)\n",
    "    return abs(amp)**2"
   ]
  },
  {
   "cell_type": "code",
   "execution_count": 8,
   "id": "0d974d44-48b4-42df-ada9-e9bae72d40fc",
   "metadata": {},
   "outputs": [
    {
     "data": {
      "text/html": [
       "<pre style=\"white-space:pre;overflow-x:auto;line-height:normal;font-family:Menlo,'DejaVu Sans Mono',consolas,'Courier New',monospace\"><span style=\"color: #7fbfbf; text-decoration-color: #7fbfbf\">[15:03:58] </span><span style=\"color: #800000; text-decoration-color: #800000; font-weight: bold\">ERROR   </span> The <span style=\"color: #008000; text-decoration-color: #008000\">'DiffractionMonitor'</span> modes requires periodic or Bloch boundaries along dimensions <a href=\"file:///Users/twhughes/Documents/Flexcompute/tidy3d-docs/docs/source/notebooks/../../../tidy3d/tidy3d/log.py\" target=\"_blank\"><span style=\"color: #7f7f7f; text-decoration-color: #7f7f7f\">log.py</span></a><span style=\"color: #7f7f7f; text-decoration-color: #7f7f7f\">:</span><a href=\"file:///Users/twhughes/Documents/Flexcompute/tidy3d-docs/docs/source/notebooks/../../../tidy3d/tidy3d/log.py#33\" target=\"_blank\"><span style=\"color: #7f7f7f; text-decoration-color: #7f7f7f\">33</span></a>\n",
       "<span style=\"color: #7fbfbf; text-decoration-color: #7fbfbf\">           </span>         x and y.                                                                              <span style=\"color: #7f7f7f; text-decoration-color: #7f7f7f\">         </span>\n",
       "</pre>\n"
      ],
      "text/plain": [
       "\u001b[2;36m[15:03:58]\u001b[0m\u001b[2;36m \u001b[0m\u001b[1;31mERROR   \u001b[0m The \u001b[32m'DiffractionMonitor'\u001b[0m modes requires periodic or Bloch boundaries along dimensions \u001b]8;id=490102;file:///Users/twhughes/Documents/Flexcompute/tidy3d-docs/docs/source/notebooks/../../../tidy3d/tidy3d/log.py\u001b\\\u001b[2mlog.py\u001b[0m\u001b]8;;\u001b\\\u001b[2m:\u001b[0m\u001b]8;id=840561;file:///Users/twhughes/Documents/Flexcompute/tidy3d-docs/docs/source/notebooks/../../../tidy3d/tidy3d/log.py#33\u001b\\\u001b[2m33\u001b[0m\u001b]8;;\u001b\\\n",
       "\u001b[2;36m           \u001b[0m         x and y.                                                                              \u001b[2m         \u001b[0m\n"
      ]
     },
     "metadata": {},
     "output_type": "display_data"
    },
    {
     "ename": "SetupError",
     "evalue": "(SetupError(...), \"The 'DiffractionMonitor' modes requires periodic or Bloch boundaries along dimensions x and y.\")",
     "output_type": "error",
     "traceback": [
      "\u001b[0;31m---------------------------------------------------------------------------\u001b[0m",
      "\u001b[0;31mSetupError\u001b[0m                                Traceback (most recent call last)",
      "Cell \u001b[0;32mIn [8], line 5\u001b[0m\n\u001b[1;32m      1\u001b[0m sim_base \u001b[38;5;241m=\u001b[39m make_sim(eps0, ds0)\n\u001b[1;32m      3\u001b[0m f, axes \u001b[38;5;241m=\u001b[39m plt\u001b[38;5;241m.\u001b[39msubplots(\u001b[38;5;241m1\u001b[39m, \u001b[38;5;241m3\u001b[39m, tight_layout\u001b[38;5;241m=\u001b[39m\u001b[38;5;28;01mTrue\u001b[39;00m, figsize\u001b[38;5;241m=\u001b[39m(\u001b[38;5;241m10\u001b[39m, \u001b[38;5;241m5\u001b[39m))\n\u001b[0;32m----> 5\u001b[0m sim_plot \u001b[38;5;241m=\u001b[39m \u001b[43msim_base\u001b[49m\u001b[38;5;241;43m.\u001b[39;49m\u001b[43mto_simulation\u001b[49m\u001b[43m(\u001b[49m\u001b[43m)\u001b[49m[\u001b[38;5;241m0\u001b[39m]\n\u001b[1;32m      7\u001b[0m \u001b[38;5;28;01mfor\u001b[39;00m dim, ax \u001b[38;5;129;01min\u001b[39;00m \u001b[38;5;28mzip\u001b[39m(\u001b[38;5;124m'\u001b[39m\u001b[38;5;124mxyz\u001b[39m\u001b[38;5;124m'\u001b[39m, axes):\n\u001b[1;32m      8\u001b[0m     sim_plot\u001b[38;5;241m.\u001b[39mplot_eps(\u001b[38;5;241m*\u001b[39m\u001b[38;5;241m*\u001b[39m{dim:\u001b[38;5;241m0\u001b[39m}, ax\u001b[38;5;241m=\u001b[39max)\n",
      "File \u001b[0;32m~/Documents/Flexcompute/tidy3d-docs/docs/source/notebooks/../../../tidy3d/tidy3d/plugins/adjoint/components/simulation.py:116\u001b[0m, in \u001b[0;36mJaxSimulation.to_simulation\u001b[0;34m(self)\u001b[0m\n\u001b[1;32m    108\u001b[0m all_structures \u001b[38;5;241m=\u001b[39m \u001b[38;5;28mlist\u001b[39m(\u001b[38;5;28mself\u001b[39m\u001b[38;5;241m.\u001b[39mstructures) \u001b[38;5;241m+\u001b[39m [js\u001b[38;5;241m.\u001b[39mto_structure() \u001b[38;5;28;01mfor\u001b[39;00m js \u001b[38;5;129;01min\u001b[39;00m \u001b[38;5;28mself\u001b[39m\u001b[38;5;241m.\u001b[39minput_structures]\n\u001b[1;32m    109\u001b[0m all_monitors \u001b[38;5;241m=\u001b[39m (\n\u001b[1;32m    110\u001b[0m     \u001b[38;5;28mlist\u001b[39m(\u001b[38;5;28mself\u001b[39m\u001b[38;5;241m.\u001b[39mmonitors)\n\u001b[1;32m    111\u001b[0m     \u001b[38;5;241m+\u001b[39m \u001b[38;5;28mlist\u001b[39m(\u001b[38;5;28mself\u001b[39m\u001b[38;5;241m.\u001b[39moutput_monitors)\n\u001b[1;32m    112\u001b[0m     \u001b[38;5;241m+\u001b[39m \u001b[38;5;28mlist\u001b[39m(\u001b[38;5;28mself\u001b[39m\u001b[38;5;241m.\u001b[39mgrad_monitors)\n\u001b[1;32m    113\u001b[0m     \u001b[38;5;241m+\u001b[39m \u001b[38;5;28mlist\u001b[39m(\u001b[38;5;28mself\u001b[39m\u001b[38;5;241m.\u001b[39mgrad_eps_monitors)\n\u001b[1;32m    114\u001b[0m )\n\u001b[0;32m--> 116\u001b[0m sim \u001b[38;5;241m=\u001b[39m \u001b[43msim\u001b[49m\u001b[38;5;241;43m.\u001b[39;49m\u001b[43mcopy\u001b[49m\u001b[43m(\u001b[49m\u001b[43mupdate\u001b[49m\u001b[38;5;241;43m=\u001b[39;49m\u001b[38;5;28;43mdict\u001b[39;49m\u001b[43m(\u001b[49m\u001b[43mstructures\u001b[49m\u001b[38;5;241;43m=\u001b[39;49m\u001b[43mall_structures\u001b[49m\u001b[43m,\u001b[49m\u001b[43m \u001b[49m\u001b[43mmonitors\u001b[49m\u001b[38;5;241;43m=\u001b[39;49m\u001b[43mall_monitors\u001b[49m\u001b[43m)\u001b[49m\u001b[43m)\u001b[49m\n\u001b[1;32m    118\u001b[0m \u001b[38;5;66;03m# TODO: use named tuple?\u001b[39;00m\n\u001b[1;32m    119\u001b[0m \n\u001b[1;32m    120\u001b[0m \u001b[38;5;66;03m# information about the state of the original JaxSimulation to stash for reconstruction\u001b[39;00m\n\u001b[1;32m    121\u001b[0m jax_info \u001b[38;5;241m=\u001b[39m JaxInfo(\n\u001b[1;32m    122\u001b[0m     num_input_structures\u001b[38;5;241m=\u001b[39m\u001b[38;5;28mlen\u001b[39m(\u001b[38;5;28mself\u001b[39m\u001b[38;5;241m.\u001b[39minput_structures),\n\u001b[1;32m    123\u001b[0m     num_output_monitors\u001b[38;5;241m=\u001b[39m\u001b[38;5;28mlen\u001b[39m(\u001b[38;5;28mself\u001b[39m\u001b[38;5;241m.\u001b[39moutput_monitors),\n\u001b[1;32m    124\u001b[0m     num_grad_monitors\u001b[38;5;241m=\u001b[39m\u001b[38;5;28mlen\u001b[39m(\u001b[38;5;28mself\u001b[39m\u001b[38;5;241m.\u001b[39mgrad_monitors),\n\u001b[1;32m    125\u001b[0m     num_grad_eps_monitors\u001b[38;5;241m=\u001b[39m\u001b[38;5;28mlen\u001b[39m(\u001b[38;5;28mself\u001b[39m\u001b[38;5;241m.\u001b[39mgrad_eps_monitors),\n\u001b[1;32m    126\u001b[0m )\n",
      "File \u001b[0;32m~/Documents/Flexcompute/tidy3d-docs/docs/source/notebooks/../../../tidy3d/tidy3d/components/base.py:79\u001b[0m, in \u001b[0;36mTidy3dBaseModel.copy\u001b[0;34m(self, **kwargs)\u001b[0m\n\u001b[1;32m     77\u001b[0m kwargs\u001b[38;5;241m.\u001b[39mupdate(\u001b[38;5;28mdict\u001b[39m(deep\u001b[38;5;241m=\u001b[39m\u001b[38;5;28;01mTrue\u001b[39;00m))\n\u001b[1;32m     78\u001b[0m new_copy \u001b[38;5;241m=\u001b[39m pydantic\u001b[38;5;241m.\u001b[39mBaseModel\u001b[38;5;241m.\u001b[39mcopy(\u001b[38;5;28mself\u001b[39m, \u001b[38;5;241m*\u001b[39m\u001b[38;5;241m*\u001b[39mkwargs)\n\u001b[0;32m---> 79\u001b[0m \u001b[38;5;28;01mreturn\u001b[39;00m \u001b[38;5;28;43mself\u001b[39;49m\u001b[38;5;241;43m.\u001b[39;49m\u001b[43mvalidate\u001b[49m\u001b[43m(\u001b[49m\u001b[43mnew_copy\u001b[49m\u001b[38;5;241;43m.\u001b[39;49m\u001b[43mdict\u001b[49m\u001b[43m(\u001b[49m\u001b[43m)\u001b[49m\u001b[43m)\u001b[49m\n",
      "File \u001b[0;32m/usr/local/lib/python3.9/site-packages/pydantic/main.py:711\u001b[0m, in \u001b[0;36mpydantic.main.BaseModel.validate\u001b[0;34m()\u001b[0m\n",
      "File \u001b[0;32m/usr/local/lib/python3.9/site-packages/pydantic/main.py:340\u001b[0m, in \u001b[0;36mpydantic.main.BaseModel.__init__\u001b[0;34m()\u001b[0m\n",
      "File \u001b[0;32m/usr/local/lib/python3.9/site-packages/pydantic/main.py:1076\u001b[0m, in \u001b[0;36mpydantic.main.validate_model\u001b[0;34m()\u001b[0m\n",
      "File \u001b[0;32m/usr/local/lib/python3.9/site-packages/pydantic/fields.py:898\u001b[0m, in \u001b[0;36mpydantic.fields.ModelField.validate\u001b[0;34m()\u001b[0m\n",
      "File \u001b[0;32m/usr/local/lib/python3.9/site-packages/pydantic/fields.py:1148\u001b[0m, in \u001b[0;36mpydantic.fields.ModelField._apply_validators\u001b[0;34m()\u001b[0m\n",
      "File \u001b[0;32m/usr/local/lib/python3.9/site-packages/pydantic/class_validators.py:287\u001b[0m, in \u001b[0;36mpydantic.class_validators._generic_validator_cls.lambda5\u001b[0;34m()\u001b[0m\n",
      "File \u001b[0;32m~/Documents/Flexcompute/tidy3d-docs/docs/source/notebooks/../../../tidy3d/tidy3d/components/simulation.py:493\u001b[0m, in \u001b[0;36mSimulation.diffraction_monitor_boundaries\u001b[0;34m(cls, val, values)\u001b[0m\n\u001b[1;32m    491\u001b[0m         \u001b[38;5;28;01mfor\u001b[39;00m boundary \u001b[38;5;129;01min\u001b[39;00m boundaries:\n\u001b[1;32m    492\u001b[0m             \u001b[38;5;28;01mif\u001b[39;00m \u001b[38;5;129;01mnot\u001b[39;00m \u001b[38;5;28misinstance\u001b[39m(boundary, (Periodic, BlochBoundary)):\n\u001b[0;32m--> 493\u001b[0m                 \u001b[38;5;28;01mraise\u001b[39;00m SetupError(\n\u001b[1;32m    494\u001b[0m                     \u001b[38;5;124mf\u001b[39m\u001b[38;5;124m\"\u001b[39m\u001b[38;5;124mThe \u001b[39m\u001b[38;5;124m'\u001b[39m\u001b[38;5;124mDiffractionMonitor\u001b[39m\u001b[38;5;124m'\u001b[39m\u001b[38;5;124m \u001b[39m\u001b[38;5;132;01m{\u001b[39;00mmonitor\u001b[38;5;241m.\u001b[39mname\u001b[38;5;132;01m}\u001b[39;00m\u001b[38;5;124m requires periodic \u001b[39m\u001b[38;5;124m\"\u001b[39m\n\u001b[1;32m    495\u001b[0m                     \u001b[38;5;124mf\u001b[39m\u001b[38;5;124m\"\u001b[39m\u001b[38;5;124mor Bloch boundaries along dimensions \u001b[39m\u001b[38;5;132;01m{\u001b[39;00mn_x\u001b[38;5;132;01m}\u001b[39;00m\u001b[38;5;124m and \u001b[39m\u001b[38;5;132;01m{\u001b[39;00mn_y\u001b[38;5;132;01m}\u001b[39;00m\u001b[38;5;124m.\u001b[39m\u001b[38;5;124m\"\u001b[39m\n\u001b[1;32m    496\u001b[0m                 )\n\u001b[1;32m    497\u001b[0m \u001b[38;5;28;01mreturn\u001b[39;00m val\n",
      "\u001b[0;31mSetupError\u001b[0m: (SetupError(...), \"The 'DiffractionMonitor' modes requires periodic or Bloch boundaries along dimensions x and y.\")"
     ]
    },
    {
     "data": {
      "image/png": "[encoded data removed]"
     },
     "metadata": {
      "needs_background": "light"
     },
     "output_type": "display_data"
    }
   ],
   "source": [
    "sim_base = make_sim(eps0, ds0)\n",
    "\n",
    "f, axes = plt.subplots(1, 3, tight_layout=True, figsize=(10, 5))\n",
    "\n",
    "sim_plot = sim_base.to_simulation()[0]\n",
    "\n",
    "for dim, ax in zip('xyz', axes):\n",
    "    sim_plot.plot_eps(**{dim:0}, ax=ax)\n",
    "    # sim_plot.plot_grid(**{dim:0}, ax=ax)\n",
    "\n",
    "plt.show()\n",
    "\n",
    "print(f\"total cells in simulation = {sim_base.num_cells:.1e}\")"
   ]
  },
  {
   "cell_type": "code",
   "execution_count": null,
   "id": "41598d52-bc82-48ed-bda5-7d992a7928a6",
   "metadata": {},
   "outputs": [],
   "source": [
    "sim_plot.monitors[0].mode_spec"
   ]
  },
  {
   "cell_type": "code",
   "execution_count": null,
   "id": "8e95cbab-76d6-45af-b757-071bb20ab993",
   "metadata": {},
   "outputs": [],
   "source": [
    "from tidy3d.plugins import ModeSolver\n",
    "plane = td.Box(\n",
    "    center=sim_plot.monitors[0].center,\n",
    "    size=[1.0, 1.0, 0],\n",
    ")\n",
    "mode_solver = ModeSolver(simulation=sim_plot, plane=plane, mode_spec=sim_plot.monitors[0].mode_spec, freqs=[freq0])\n",
    "modes = mode_solver.solve()\n",
    "\n",
    "print(\"Effective index of computed modes: \", np.array(modes.n_eff))\n",
    "\n",
    "fig, axs = plt.subplots(num_modes, 3, figsize=(12, 10))\n",
    "for mode_ind in range(num_modes):\n",
    "    mode_solver.plot_field(\"Ex\", \"real\", f=freq0, mode_index=mode_ind, ax=axs[mode_ind, 0])\n",
    "    mode_solver.plot_field(\"Ey\", \"real\", f=freq0, mode_index=mode_ind, ax=axs[mode_ind, 1])\n",
    "    mode_solver.plot_field(\"Ez\", \"real\", f=freq0, mode_index=mode_ind, ax=axs[mode_ind, 2])"
   ]
  },
  {
   "cell_type": "code",
   "execution_count": null,
   "id": "90614591-30a1-49b8-ab25-9dd24b5f5449",
   "metadata": {},
   "outputs": [],
   "source": []
  }
 ],
 "metadata": {
  "kernelspec": {
   "display_name": "Python 3 (ipykernel)",
   "language": "python",
   "name": "python3"
  },
  "language_info": {
   "codemirror_mode": {
    "name": "ipython",
    "version": 3
   },
   "file_extension": ".py",
   "mimetype": "text/x-python",
   "name": "python",
   "nbconvert_exporter": "python",
   "pygments_lexer": "ipython3",
   "version": "3.9.9"
  }
 },
 "nbformat": 4,
 "nbformat_minor": 5
}
