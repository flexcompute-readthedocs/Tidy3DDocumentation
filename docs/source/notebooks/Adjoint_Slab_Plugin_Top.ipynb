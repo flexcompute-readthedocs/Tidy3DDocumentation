{
 "cells": [
  {
   "cell_type": "code",
   "execution_count": 1,
   "id": "51963da1",
   "metadata": {},
   "outputs": [
    {
     "name": "stderr",
     "output_type": "stream",
     "text": [
      "INFO:rich:Using client version: 1.8.0\n"
     ]
    }
   ],
   "source": [
    "import numpy as np\n",
    "import jax.numpy as jnp\n",
    "import jax\n",
    "import tmm\n",
    "import matplotlib.pyplot as plt\n",
    "from typing import Tuple, List\n",
    "\n",
    "import sys; sys.path.append('../../../tidy3d')\n",
    "import tidy3d as td\n",
    "from tidy3d.web import run as run_sim\n",
    "from tidy3d.plugins.adjoint import JaxSimulation, JaxBox, JaxMedium, JaxStructure, JaxSimulationData\n",
    "from tidy3d.plugins.adjoint.web import run as run_adjoint"
   ]
  },
  {
   "cell_type": "code",
   "execution_count": 2,
   "id": "ccbd2c6a-419d-4570-8f91-f57ad5bad813",
   "metadata": {},
   "outputs": [
    {
     "name": "stdout",
     "output_type": "stream",
     "text": [
      "[-0.25, 0.0, 0.5, 0.75]\n",
      "[0.5, 0.25, 0.5, 0.25]\n"
     ]
    }
   ],
   "source": [
    "freq0 = 2e14\n",
    "freqs = [freq0]\n",
    "wavelength = td.C_0 / freq0\n",
    "bck_eps = 1.4**2\n",
    "\n",
    "eps0 = [2.**2, 1.8**2, 1.5**2, 1.9**2]\n",
    "ds0 = [0.5, 0.25, 0.5, 0.25]\n",
    "\n",
    "\n",
    "def ds_to_tops(ds):\n",
    "    slab_tops = []\n",
    "    z_bottom = -np.sum(ds) / 2.\n",
    "    for d in ds:\n",
    "        z_top = z_bottom + d\n",
    "        slab_tops.append(z_top)\n",
    "        z_bottom = z_top\n",
    "    return slab_tops\n",
    "\n",
    "def tops_to_ds(tops):\n",
    "    z_bottom = -tops[-1]\n",
    "    d_bottom = tops[0] - z_bottom\n",
    "    ds = [d_bottom]\n",
    "    for i in range(len(tops)-1):\n",
    "        ds.append(tops[i+1] - tops[i])\n",
    "    return ds\n",
    "\n",
    "tops0 = ds_to_tops(ds0)\n",
    "print(tops0)\n",
    "print(tops_to_ds(tops0))\n",
    "\n",
    "theta = 0\n",
    "dl = 0.0125"
   ]
  },
  {
   "cell_type": "code",
   "execution_count": 3,
   "id": "250e54d3-379b-485c-af92-ad76aafd183b",
   "metadata": {},
   "outputs": [],
   "source": [
    "def normalize(arr):\n",
    "    return arr / np.linalg.norm(arr)\n",
    "\n",
    "def compute_error(truth, guess):\n",
    "    return np.linalg.norm(truth - guess) / np.linalg.norm(truth)"
   ]
  },
  {
   "cell_type": "markdown",
   "id": "48dd37b0-ba97-45cd-a861-53ea6ae3fa74",
   "metadata": {},
   "source": [
    "## TMM / Numerical Gradient"
   ]
  },
  {
   "cell_type": "code",
   "execution_count": 4,
   "id": "cc4f6e91-6a53-476e-b4c6-e76e50246426",
   "metadata": {},
   "outputs": [],
   "source": [
    "def compute_T_tmm(slab_eps=eps0, slab_tops=tops0) -> float:\n",
    "    slab_eps = list(slab_eps)\n",
    "    slab_ds = list(tops_to_ds(slab_tops))\n",
    "    \n",
    "    eps_list = [bck_eps] + slab_eps + [bck_eps]\n",
    "    n_list = np.sqrt(eps_list)    \n",
    "    d_list = [np.inf] + slab_ds + [np.inf]\n",
    "    return tmm.coh_tmm(\"p\", n_list, d_list, theta, wavelength)[\"T\"]"
   ]
  },
  {
   "cell_type": "code",
   "execution_count": 5,
   "id": "c1743e54-d7f3-468a-8ac4-d42d4c2bc8dc",
   "metadata": {},
   "outputs": [
    {
     "name": "stdout",
     "output_type": "stream",
     "text": [
      "T (tmm) = 0.875\n"
     ]
    }
   ],
   "source": [
    "T_tmm = compute_T_tmm(slab_eps=eps0, slab_tops=tops0)\n",
    "print(f\"T (tmm) = {T_tmm:.3f}\")"
   ]
  },
  {
   "cell_type": "code",
   "execution_count": 6,
   "id": "15d5bae1-6fc7-41c8-8772-2e80505be17d",
   "metadata": {},
   "outputs": [],
   "source": [
    "def val_and_grad_tmm():\n",
    "\n",
    "    T0 = compute_T_tmm(eps0, tops0)\n",
    "\n",
    "    num_slabs = len(eps0)\n",
    "    grad_tmm = np.zeros((2, num_slabs), dtype=float)\n",
    "    args = np.stack((eps0, tops0), axis=0)\n",
    "    delta = 1e-6\n",
    "\n",
    "    for arg_index in range(2):\n",
    "        for slab_index in range(num_slabs):\n",
    "            grad = 0.0\n",
    "            for pm in (-1, +1):\n",
    "                args_num = args.copy()\n",
    "                args_num[arg_index][slab_index] += delta * pm\n",
    "                T_tmm = compute_T_tmm(args_num[0], args_num[1])\n",
    "                grad += pm * T_tmm / 2 / delta        \n",
    "            grad_tmm[arg_index][slab_index] = grad\n",
    "\n",
    "    grad_eps, grad_top = grad_tmm\n",
    "\n",
    "    grad_eps = normalize(grad_eps)\n",
    "    grad_top = normalize(grad_top)\n",
    "    \n",
    "    return T0, (grad_eps, grad_top)"
   ]
  },
  {
   "cell_type": "code",
   "execution_count": 7,
   "id": "b5d1cc93-6d6e-43a7-8e5f-f1829770f3d5",
   "metadata": {},
   "outputs": [
    {
     "name": "stdout",
     "output_type": "stream",
     "text": [
      "T (tmm)  = 0.8752655778361093\n",
      "grad_eps (tmm)  = [-0.47604842  0.72026671  0.08335161 -0.49764072]\n",
      "grad_top (tmm)  = [-0.4387459   0.37791092 -0.5143388   0.63256697]\n"
     ]
    }
   ],
   "source": [
    "T_tmm, (grad_eps_tmm, grad_top_tmm) = val_and_grad_tmm()\n",
    "print(f\"T (tmm)  = {T_tmm}\")\n",
    "print(f\"grad_eps (tmm)  = {grad_eps_tmm}\")\n",
    "print(f\"grad_top (tmm)  = {grad_top_tmm}\")"
   ]
  },
  {
   "cell_type": "markdown",
   "id": "50ca68ae-ca5a-49aa-9969-ac6d43324ea9",
   "metadata": {},
   "source": [
    "## FDTD / Adjoint"
   ]
  },
  {
   "cell_type": "code",
   "execution_count": 8,
   "id": "4d12f133-a8d8-4e59-938f-fca4d2e2fa0b",
   "metadata": {},
   "outputs": [],
   "source": [
    "def make_sim(slab_eps=eps0, slab_tops=tops0) -> JaxSimulation:\n",
    "\n",
    "    # frequency setup\n",
    "    wavelength = td.C_0 / freq0\n",
    "    fwidth = freq0 / 10.0\n",
    "    freqs = [freq0]\n",
    "\n",
    "    # geometry setup\n",
    "    bck_medium = td.Medium(permittivity=bck_eps)\n",
    "\n",
    "    space_above = 2\n",
    "    space_below = 2\n",
    "\n",
    "    length_x = 0.5\n",
    "    length_y = 0.5\n",
    "    length_z = space_below + sum(ds0) + space_above\n",
    "    sim_size = (length_x, length_y, length_z)\n",
    "\n",
    "    # make structures\n",
    "    slabs = []\n",
    "    slab_ds = tops_to_ds(slab_tops)\n",
    "    z_start = -slab_tops[-1]\n",
    "    for (d, eps) in zip(slab_ds, slab_eps):\n",
    "        slab = JaxStructure(\n",
    "            geometry=JaxBox(\n",
    "                center=[0, 0, z_start + d / 2],\n",
    "                size=[td.inf, td.inf, d]\n",
    "            ),\n",
    "            medium=JaxMedium(permittivity=eps),\n",
    "        )\n",
    "        slabs.append(slab)\n",
    "        z_start += d\n",
    "\n",
    "    # source setup\n",
    "    gaussian = td.GaussianPulse(freq0=freq0, fwidth=fwidth)\n",
    "    src_z = -length_z / 2 + 3 * space_below / 4\n",
    "\n",
    "    source = td.PlaneWave(\n",
    "        center=(0, 0, src_z),\n",
    "        size=(td.inf, td.inf, 0),\n",
    "        source_time=gaussian,\n",
    "        direction=\"+\",\n",
    "        angle_theta=theta,\n",
    "        angle_phi=0,\n",
    "        pol_angle=0,\n",
    "    )\n",
    "\n",
    "    # boundaries\n",
    "    boundary_x = td.Boundary.bloch_from_source(\n",
    "        source=source, domain_size=sim_size[0], axis=0, medium=bck_medium\n",
    "    )\n",
    "    boundary_spec = td.BoundarySpec(x=boundary_x, y=td.Boundary.periodic(), z=td.Boundary.pml(num_layers=40))\n",
    "\n",
    "    # monitors\n",
    "    mnt_z = length_z / 2 - wavelength\n",
    "    monitor_1 = td.DiffractionMonitor(\n",
    "        center=[0.0, 0.0, mnt_z],\n",
    "        size=[td.inf, td.inf, 0],\n",
    "        freqs=freqs,\n",
    "        name=\"diffraction\",\n",
    "        normal_dir=\"+\",\n",
    "    )\n",
    "\n",
    "    # make simulation\n",
    "    return JaxSimulation(\n",
    "        size=sim_size,\n",
    "        grid_spec=td.GridSpec.uniform(dl=dl),\n",
    "        input_structures=slabs,\n",
    "        sources=[source],\n",
    "        output_monitors=[monitor_1],\n",
    "        run_time=50 / fwidth,\n",
    "        boundary_spec=boundary_spec,\n",
    "        medium=bck_medium,\n",
    "        subpixel=True,\n",
    "        shutoff=1e-8,\n",
    "    )"
   ]
  },
  {
   "cell_type": "code",
   "execution_count": 9,
   "id": "bc0dc456-e742-4299-ae5e-22daa49e3997",
   "metadata": {},
   "outputs": [
    {
     "data": {
      "image/png": "[encoded data removed]"
     },
     "metadata": {
      "needs_background": "light"
     },
     "output_type": "display_data"
    }
   ],
   "source": [
    "sim = make_sim()\n",
    "f, ax = plt.subplots(1, 1, figsize=(10, 10))\n",
    "sim.plot(y=0, ax=ax)\n",
    "plt.show()"
   ]
  },
  {
   "cell_type": "code",
   "execution_count": 10,
   "id": "0347633a-c146-4c03-bb1b-d8bbeb431033",
   "metadata": {},
   "outputs": [],
   "source": [
    "def post_process_T(sim_data: JaxSimulationData) -> float:\n",
    "    amps = sim_data.output_monitor_data[\"diffraction\"].amps.sel(polarization=\"p\")\n",
    "    return jnp.sum(abs(amps.values)**2)\n",
    "\n",
    "def compute_T_fdtd(slab_eps=eps0, slab_tops=tops0) -> float:\n",
    "    sim = make_sim(slab_eps=slab_eps, slab_tops=slab_tops)\n",
    "    sim_data = run_adjoint(sim, task_name='slab')\n",
    "    return post_process_T(sim_data)\n",
    "\n",
    "compute_T_and_grad_fdtd = jax.value_and_grad(compute_T_fdtd, argnums=(0, 1))"
   ]
  },
  {
   "cell_type": "code",
   "execution_count": 11,
   "id": "ef6716b3-79a3-40cc-ac2a-5056b5ed2ae9",
   "metadata": {},
   "outputs": [
    {
     "data": {
      "text/html": [
       "<pre style=\"white-space:pre;overflow-x:auto;line-height:normal;font-family:Menlo,'DejaVu Sans Mono',consolas,'Courier New',monospace\"><span style=\"color: #008000; text-decoration-color: #008000; font-weight: bold\">↓</span> <span style=\"color: #000080; text-decoration-color: #000080; font-weight: bold\">monitor_data.hdf5</span> <span style=\"color: #729c1f; text-decoration-color: #729c1f\">━━━━━━━━━━━━━━━━━━━━━━━━━━━━━━━━━━━━━━━━</span> <span style=\"color: #800080; text-decoration-color: #800080\">100.0%</span> • <span style=\"color: #008000; text-decoration-color: #008000\">12.1/12.1 MB</span> • <span style=\"color: #800000; text-decoration-color: #800000\">2.9 MB/s</span> • <span style=\"color: #008080; text-decoration-color: #008080\">0:00:00</span>\n",
       "</pre>\n"
      ],
      "text/plain": [
       "\u001b[1;32m↓\u001b[0m \u001b[1;34mmonitor_data.hdf5\u001b[0m \u001b[38;2;114;156;31m━━━━━━━━━━━━━━━━━━━━━━━━━━━━━━━━━━━━━━━━\u001b[0m \u001b[35m100.0%\u001b[0m • \u001b[32m12.1/12.1 MB\u001b[0m • \u001b[31m2.9 MB/s\u001b[0m • \u001b[36m0:00:00\u001b[0m\n"
      ]
     },
     "metadata": {},
     "output_type": "display_data"
    },
    {
     "data": {
      "text/html": [
       "<pre style=\"white-space:pre;overflow-x:auto;line-height:normal;font-family:Menlo,'DejaVu Sans Mono',consolas,'Courier New',monospace\"></pre>\n"
      ],
      "text/plain": []
     },
     "metadata": {},
     "output_type": "display_data"
    },
    {
     "data": {
      "text/html": [
       "<pre style=\"white-space:pre;overflow-x:auto;line-height:normal;font-family:Menlo,'DejaVu Sans Mono',consolas,'Courier New',monospace\">\n",
       "</pre>\n"
      ],
      "text/plain": [
       "\n"
      ]
     },
     "metadata": {},
     "output_type": "display_data"
    },
    {
     "name": "stderr",
     "output_type": "stream",
     "text": [
      "INFO:rich:loading SimulationData from simulation_data.hdf5\n"
     ]
    }
   ],
   "source": [
    "T_fdtd, (grad_eps_fdtd, grad_top_fdtd) = compute_T_and_grad_fdtd(eps0, tops0)"
   ]
  },
  {
   "cell_type": "code",
   "execution_count": 12,
   "id": "953d2497-240a-4295-9fcd-5342942983d0",
   "metadata": {},
   "outputs": [
    {
     "name": "stdout",
     "output_type": "stream",
     "text": [
      "T (tmm)  = 0.875\n",
      "T (FDTD) = 0.876\n"
     ]
    }
   ],
   "source": [
    "print(f\"T (tmm)  = {T_tmm:.3f}\")\n",
    "print(f\"T (FDTD) = {T_fdtd:.3f}\")"
   ]
  },
  {
   "cell_type": "code",
   "execution_count": 13,
   "id": "c52258fc-c683-43a4-b091-b95665972260",
   "metadata": {},
   "outputs": [],
   "source": [
    "grad_eps_tmm = normalize(grad_eps_tmm)\n",
    "grad_eps_fdtd = normalize(grad_eps_fdtd)\n",
    "grad_top_tmm = normalize(grad_top_tmm)\n",
    "grad_top_fdtd = normalize(grad_top_fdtd)\n",
    "\n",
    "error_T = compute_error(T_tmm, T_fdtd)\n",
    "error_eps = compute_error(grad_eps_tmm, grad_eps_fdtd)\n",
    "error_top = compute_error(grad_top_tmm, grad_top_fdtd)"
   ]
  },
  {
   "cell_type": "code",
   "execution_count": 14,
   "id": "b24e6b67-6585-4876-a831-bd05d9ff360b",
   "metadata": {},
   "outputs": [
    {
     "name": "stdout",
     "output_type": "stream",
     "text": [
      "\n",
      "transmission:\n",
      "\n",
      "0.8752655778361093\n",
      "0.8756735\n",
      "error = 0.0466%\n",
      "\n",
      "gradient EPSILON:\n",
      "\n",
      "[-0.47604842  0.72026671  0.08335161 -0.49764072]\n",
      "[-0.4724427   0.7229099   0.08918309 -0.49623132]\n",
      "error = 0.7482%\n",
      "\n",
      "gradient TOP:\n",
      "\n",
      "[-0.4387459   0.37791092 -0.5143388   0.63256697]\n",
      "[-0.5228621   0.4513099  -0.61241204  0.38455978]\n",
      "error = 28.9117%\n"
     ]
    }
   ],
   "source": [
    "print('\\ntransmission:\\n')\n",
    "print(T_tmm)\n",
    "print(T_fdtd)\n",
    "print(f'error = {(error_T*100):.4f}%')\n",
    "print('\\ngradient EPSILON:\\n')\n",
    "print(grad_eps_tmm)\n",
    "print(grad_eps_fdtd)\n",
    "print(f'error = {(error_eps*100):.4f}%')\n",
    "print('\\ngradient TOP:\\n')\n",
    "print(grad_top_tmm)\n",
    "print(grad_top_fdtd)\n",
    "print(f'error = {(error_top*100):.4f}%')"
   ]
  },
  {
   "cell_type": "code",
   "execution_count": null,
   "id": "c28565d7-77cb-4163-b9a2-69cbd076806f",
   "metadata": {},
   "outputs": [],
   "source": []
  }
 ],
 "metadata": {
  "kernelspec": {
   "display_name": "Python 3 (ipykernel)",
   "language": "python",
   "name": "python3"
  },
  "language_info": {
   "codemirror_mode": {
    "name": "ipython",
    "version": 3
   },
   "file_extension": ".py",
   "mimetype": "text/x-python",
   "name": "python",
   "nbconvert_exporter": "python",
   "pygments_lexer": "ipython3",
   "version": "3.9.9"
  }
 },
 "nbformat": 4,
 "nbformat_minor": 5
}
