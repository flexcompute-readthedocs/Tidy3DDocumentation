{
 "cells": [
  {
   "cell_type": "markdown",
   "id": "a65a6737",
   "metadata": {},
   "source": [
    "# Distributed Bragg reflector and cavity"
   ]
  },
  {
   "cell_type": "markdown",
   "id": "47e433db",
   "metadata": {},
   "source": [
    "Run this notebook in your browser using [Binder](https://mybinder.org/v2/gh/flexcompute-readthedocs/tidy3d-docs/readthedocs?labpath=docs%2Fsource%2Fnotebooks%2FDistributedBraggReflectorCavity.ipynb).\n",
    "\n",
    "A [distributed Bragg reflector](https://en.wikipedia.org/wiki/Distributed_Bragg_reflector) (DBR) is a multilayer structure consisting of alternating layers of high refractive index and low refractive index. When the thickness of each layer is close to a quarter of the medium wavelength, nearly perfect reflection occurs due to constructive interference of the reflected waves at each layer. DBR is commonly used at optical and UV wavelengths due to the fact that metallic reflectors have a high loss at high frequencies. Besides free space optics, similar concepts have also been applied to integrated photonics and fiber optics. Furthermore, high-Q cavities based on DBR structures are widely popular in lasers, filters, and sensors.\n",
    "\n",
    "Although Tidy3D uses highly optimized algorithms and hardware designed to perform large 3D simulations at ease, the computational efficiency can be improved exponentially if we can reduce the dimension of the model. The DBR structure has translational symmetry along the two in-plane directions. Thus, simulating a DBR is effectively a 1D problem. \n",
    "\n",
    "<img src=\"img/dbr_schematic.png\">"
   ]
  },
  {
   "cell_type": "code",
   "execution_count": 1,
   "id": "67c41dde",
   "metadata": {},
   "outputs": [
    {
     "data": {
      "text/html": [
       "<pre style=\"white-space:pre;overflow-x:auto;line-height:normal;font-family:Menlo,'DejaVu Sans Mono',consolas,'Courier New',monospace\"><span style=\"color: #7fbfbf; text-decoration-color: #7fbfbf\">[08:34:26] </span><span style=\"color: #000080; text-decoration-color: #000080\">INFO    </span> Using client version: <span style=\"color: #008080; text-decoration-color: #008080; font-weight: bold\">1.8</span>.<span style=\"color: #008080; text-decoration-color: #008080; font-weight: bold\">0</span>                                                     <a href=\"file://C:\\Users\\xinzh\\Anaconda3\\envs\\tidy3d_dev\\lib\\site-packages\\tidy3d_beta-1.8.0-py3.10.egg\\tidy3d\\__init__.py\" target=\"_blank\"><span style=\"color: #7f7f7f; text-decoration-color: #7f7f7f\">__init__.py</span></a><span style=\"color: #7f7f7f; text-decoration-color: #7f7f7f\">:</span><a href=\"file://C:\\Users\\xinzh\\Anaconda3\\envs\\tidy3d_dev\\lib\\site-packages\\tidy3d_beta-1.8.0-py3.10.egg\\tidy3d\\__init__.py#111\" target=\"_blank\"><span style=\"color: #7f7f7f; text-decoration-color: #7f7f7f\">111</span></a>\n",
       "</pre>\n"
      ],
      "text/plain": [
       "\u001b[2;36m[08:34:26]\u001b[0m\u001b[2;36m \u001b[0m\u001b[34mINFO    \u001b[0m Using client version: \u001b[1;36m1.8\u001b[0m.\u001b[1;36m0\u001b[0m                                                     \u001b]8;id=772352;file://C:\\Users\\xinzh\\Anaconda3\\envs\\tidy3d_dev\\lib\\site-packages\\tidy3d_beta-1.8.0-py3.10.egg\\tidy3d\\__init__.py\u001b\\\u001b[2m__init__.py\u001b[0m\u001b]8;;\u001b\\\u001b[2m:\u001b[0m\u001b]8;id=944974;file://C:\\Users\\xinzh\\Anaconda3\\envs\\tidy3d_dev\\lib\\site-packages\\tidy3d_beta-1.8.0-py3.10.egg\\tidy3d\\__init__.py#111\u001b\\\u001b[2m111\u001b[0m\u001b]8;;\u001b\\\n"
      ]
     },
     "metadata": {},
     "output_type": "display_data"
    }
   ],
   "source": [
    "import tidy3d as td\n",
    "import tidy3d.web as web\n",
    "import numpy as np\n",
    "import matplotlib.pyplot as plt"
   ]
  },
  {
   "cell_type": "markdown",
   "id": "a0c8e122",
   "metadata": {},
   "source": [
    "## Simulating the Stopband of a DBR"
   ]
  },
  {
   "cell_type": "markdown",
   "id": "f150734b",
   "metadata": {},
   "source": [
    "### Simulation Setup "
   ]
  },
  {
   "cell_type": "markdown",
   "id": "86d2bbb5",
   "metadata": {},
   "source": [
    "The most common DBR is made of alternating layers of titanium dioxide ($TiO_2$) and silica ($SiO_2$). The target stopband of the DBR is around 630 nm. "
   ]
  },
  {
   "cell_type": "code",
   "execution_count": 2,
   "id": "3c528785",
   "metadata": {},
   "outputs": [],
   "source": [
    "lda0 = 0.63  #central wavelength\n",
    "freq0 = td.C_0/lda0  #central frequency\n",
    "freqs = freq0*np.linspace(0.5,1.5,1001)   #frequency range of interest"
   ]
  },
  {
   "cell_type": "code",
   "execution_count": 3,
   "id": "a80a24bf",
   "metadata": {},
   "outputs": [],
   "source": [
    "n_tio2 = 2.5  #refractive index of TiO2\n",
    "n_sio2 = 1.5  #refractive index of SiO2\n",
    "n_s = 1.5   #refractive index of the substrate material. It's set to SiO2 in this case\n",
    "inf_eff = 10  #effective infinity in this model"
   ]
  },
  {
   "cell_type": "markdown",
   "id": "8c710663",
   "metadata": {},
   "source": [
    "The bandwidth of the stopband is given by \n",
    "\n",
    "$$\n",
    "\\frac{\\Delta f}{f_0} = \\frac{4}{\\pi} arcsin(\\frac{n_1-n_2}{n_1+n_2}),\n",
    "$$\n",
    "\n",
    "where $f_0$ is the central frequency, $n_1$ is the refractive index of the high index material, and $n_2$ is the refractive index of the low index material. We use the above equation to estimate the bandwidth of the DBR."
   ]
  },
  {
   "cell_type": "code",
   "execution_count": 4,
   "id": "2a4913bb",
   "metadata": {},
   "outputs": [
    {
     "name": "stdout",
     "output_type": "stream",
     "text": [
      "The normalized bandwidth of the reflection band is 0.32\n"
     ]
    }
   ],
   "source": [
    "df = 4*np.arcsin((n_tio2-n_sio2)/(n_tio2+n_sio2))/np.pi\n",
    "print(f'The normalized bandwidth of the reflection band is {df:1.2f}')"
   ]
  },
  {
   "cell_type": "markdown",
   "id": "7be52b05",
   "metadata": {},
   "source": [
    "Next, we construct a function that builds the DBR layers given four parameters: the refractive indices of the materials, the number of layer pairs, and the starting position of the lowest layer. This function will be handy for constructing the DBR as well as the cavity device in the next section. "
   ]
  },
  {
   "cell_type": "code",
   "execution_count": 5,
   "id": "8c34ee9c",
   "metadata": {},
   "outputs": [],
   "source": [
    "def build_layers(n_1, n_2, N, z_0):\n",
    "    #n_1 and n_2 are the refractive indices of the two materials\n",
    "    #N is the number of repeated pairs of low/high refractive index material\n",
    "    #z_0 is the z coordinate of the lowest layer\n",
    "    \n",
    "    material_1 = td.Medium(permittivity=n_1**2)  #define the first material\n",
    "    material_2 = td.Medium(permittivity=n_2**2)  #define the second material\n",
    "    t_1 = lda0/(4*n_1)  #thickness of the first material\n",
    "    t_2 = lda0/(4*n_2)  #thicness of the second material\n",
    "    layers = []  #holder for all the layers\n",
    "    \n",
    "    #building layers alternatively\n",
    "    for i in range(2*N):\n",
    "        if i % 2 == 0:\n",
    "            layers.append(td.Structure(geometry=td.Box.from_bounds(rmin=(-inf_eff,-inf_eff,z_0), \n",
    "                                                                   rmax=(inf_eff,inf_eff,z_0+t_1)),\n",
    "                                       medium=material_1))\n",
    "            z_0 = z_0 + t_1\n",
    "        else:\n",
    "            layers.append(td.Structure(geometry=td.Box.from_bounds(rmin=(-inf_eff,-inf_eff,z_0), \n",
    "                                                                   rmax=(inf_eff,inf_eff,z_0+t_2)),\n",
    "                                       medium=material_2))\n",
    "            z_0 = z_0 + t_2       \n",
    "\n",
    "    return layers"
   ]
  },
  {
   "cell_type": "markdown",
   "id": "00772287",
   "metadata": {},
   "source": [
    "We plan to perform a parameter sweep of $N$, the number of layer pairs. In order to do so, we define another function that takes $N$ as an argument and builds the simulation including structures, source, monitor, and so on."
   ]
  },
  {
   "cell_type": "code",
   "execution_count": 6,
   "id": "426ca532",
   "metadata": {},
   "outputs": [],
   "source": [
    "def make_DBR(N):\n",
    "    \n",
    "    #build the DBR layers using the previously defined function\n",
    "    DBR = build_layers(n_tio2, n_sio2, N, 0) \n",
    "    \n",
    "    thickness = N*(lda0/(4*n_tio2)+lda0/(4*n_sio2)) #total thickness of the DBR layers\n",
    "    \n",
    "    #build the substrate structure\n",
    "    sub = td.Structure(geometry=td.Box.from_bounds(rmin=(-inf_eff,-inf_eff,-inf_eff), \n",
    "                                                   rmax=(inf_eff,inf_eff,0)),\n",
    "                           medium=td.Medium(permittivity=n_s**2))\n",
    "    \n",
    "    #the entire DBR structure includes the layers and the substrate\n",
    "    DBR.append(sub)\n",
    "    \n",
    "    #create a plane wave excitation source\n",
    "    fwidth = 0.5*freq0  #width of the frequency distribution\n",
    "    plane_wave = td.PlaneWave(source_time=td.GaussianPulse(freq0=freq0,\n",
    "                                                           fwidth=fwidth),\n",
    "                              size=(td.inf,td.inf,0),\n",
    "                              center=(0,0,thickness+lda0/4),\n",
    "                              direction='-',\n",
    "                              pol_angle=0)\n",
    "\n",
    "    #create a flux monitor to measure the reflectance\n",
    "    flux_monitor = td.FluxMonitor(center=(0,0,thickness+lda0/2),\n",
    "                               size=(td.inf,td.inf,0),\n",
    "                               freqs=freqs,\n",
    "                               name='R')    \n",
    "    \n",
    "    Lz = thickness+2*lda0  #simulation domain size in z direction\n",
    "    run_time = 100/fwidth  #simulation run time\n",
    "    \n",
    "    sim = td.Simulation(size=(0,0,Lz),  #simulation domain sizes in x and y directions are set to 0\n",
    "                        center=(0,0,thickness/2),\n",
    "                        grid_spec=td.GridSpec.auto(min_steps_per_wvl=60,wavelength=lda0),\n",
    "                        structures=DBR,\n",
    "                        sources=[plane_wave],\n",
    "                        monitors=[flux_monitor],\n",
    "                        run_time=run_time,\n",
    "                        boundary_spec=td.BoundarySpec.pml(z=True),  #pml is applied in the z direction\n",
    "                        shutoff=1e-7)   #early shutoff level is decreased to 1e-7 to increase the simulation accuracy\n",
    "    return sim"
   ]
  },
  {
   "cell_type": "markdown",
   "id": "318abb79",
   "metadata": {},
   "source": [
    "To visualize the relationship between reflectance and the number of repeated pairs, we perform a parameter sweep. N is swept from 2 to 10 in a total of 5 simulations."
   ]
  },
  {
   "cell_type": "code",
   "execution_count": 7,
   "id": "c42cfd32",
   "metadata": {},
   "outputs": [],
   "source": [
    "Ns = np.array([2, 3, 4, 5, 10])  #collection of N for the parameter sweep\n",
    "sims = {f'N={N:.2f}' : make_DBR(N) for N in Ns}  #construct simulations for each N from Ns"
   ]
  },
  {
   "cell_type": "markdown",
   "id": "6568d3d7",
   "metadata": {},
   "source": [
    "Submit the batch to the server. "
   ]
  },
  {
   "cell_type": "code",
   "execution_count": 8,
   "id": "20157b64",
   "metadata": {},
   "outputs": [
    {
     "data": {
      "text/html": [
       "<pre style=\"white-space:pre;overflow-x:auto;line-height:normal;font-family:Menlo,'DejaVu Sans Mono',consolas,'Courier New',monospace\"><span style=\"color: #7fbfbf; text-decoration-color: #7fbfbf\">[08:34:27] </span><span style=\"color: #000080; text-decoration-color: #000080\">INFO    </span> Using Tidy3D credentials from stored file.                                           <a href=\"file://C:\\Users\\xinzh\\Anaconda3\\envs\\tidy3d_dev\\lib\\site-packages\\tidy3d_beta-1.8.0-py3.10.egg\\tidy3d\\web\\auth.py\" target=\"_blank\"><span style=\"color: #7f7f7f; text-decoration-color: #7f7f7f\">auth.py</span></a><span style=\"color: #7f7f7f; text-decoration-color: #7f7f7f\">:</span><a href=\"file://C:\\Users\\xinzh\\Anaconda3\\envs\\tidy3d_dev\\lib\\site-packages\\tidy3d_beta-1.8.0-py3.10.egg\\tidy3d\\web\\auth.py#70\" target=\"_blank\"><span style=\"color: #7f7f7f; text-decoration-color: #7f7f7f\">70</span></a>\n",
       "</pre>\n"
      ],
      "text/plain": [
       "\u001b[2;36m[08:34:27]\u001b[0m\u001b[2;36m \u001b[0m\u001b[34mINFO    \u001b[0m Using Tidy3D credentials from stored file.                                           \u001b]8;id=405642;file://C:\\Users\\xinzh\\Anaconda3\\envs\\tidy3d_dev\\lib\\site-packages\\tidy3d_beta-1.8.0-py3.10.egg\\tidy3d\\web\\auth.py\u001b\\\u001b[2mauth.py\u001b[0m\u001b]8;;\u001b\\\u001b[2m:\u001b[0m\u001b]8;id=164060;file://C:\\Users\\xinzh\\Anaconda3\\envs\\tidy3d_dev\\lib\\site-packages\\tidy3d_beta-1.8.0-py3.10.egg\\tidy3d\\web\\auth.py#70\u001b\\\u001b[2m70\u001b[0m\u001b]8;;\u001b\\\n"
      ]
     },
     "metadata": {},
     "output_type": "display_data"
    },
    {
     "data": {
      "text/html": [
       "<pre style=\"white-space:pre;overflow-x:auto;line-height:normal;font-family:Menlo,'DejaVu Sans Mono',consolas,'Courier New',monospace\"><span style=\"color: #7fbfbf; text-decoration-color: #7fbfbf\">[08:34:31] </span><span style=\"color: #000080; text-decoration-color: #000080\">INFO    </span> Authentication successful.                                                           <a href=\"file://C:\\Users\\xinzh\\Anaconda3\\envs\\tidy3d_dev\\lib\\site-packages\\tidy3d_beta-1.8.0-py3.10.egg\\tidy3d\\web\\auth.py\" target=\"_blank\"><span style=\"color: #7f7f7f; text-decoration-color: #7f7f7f\">auth.py</span></a><span style=\"color: #7f7f7f; text-decoration-color: #7f7f7f\">:</span><a href=\"file://C:\\Users\\xinzh\\Anaconda3\\envs\\tidy3d_dev\\lib\\site-packages\\tidy3d_beta-1.8.0-py3.10.egg\\tidy3d\\web\\auth.py#30\" target=\"_blank\"><span style=\"color: #7f7f7f; text-decoration-color: #7f7f7f\">30</span></a>\n",
       "</pre>\n"
      ],
      "text/plain": [
       "\u001b[2;36m[08:34:31]\u001b[0m\u001b[2;36m \u001b[0m\u001b[34mINFO    \u001b[0m Authentication successful.                                                           \u001b]8;id=424868;file://C:\\Users\\xinzh\\Anaconda3\\envs\\tidy3d_dev\\lib\\site-packages\\tidy3d_beta-1.8.0-py3.10.egg\\tidy3d\\web\\auth.py\u001b\\\u001b[2mauth.py\u001b[0m\u001b]8;;\u001b\\\u001b[2m:\u001b[0m\u001b]8;id=599565;file://C:\\Users\\xinzh\\Anaconda3\\envs\\tidy3d_dev\\lib\\site-packages\\tidy3d_beta-1.8.0-py3.10.egg\\tidy3d\\web\\auth.py#30\u001b\\\u001b[2m30\u001b[0m\u001b]8;;\u001b\\\n"
      ]
     },
     "metadata": {},
     "output_type": "display_data"
    },
    {
     "data": {
      "text/html": [
       "<pre style=\"white-space:pre;overflow-x:auto;line-height:normal;font-family:Menlo,'DejaVu Sans Mono',consolas,'Courier New',monospace\"><span style=\"color: #7fbfbf; text-decoration-color: #7fbfbf\">           </span><span style=\"color: #000080; text-decoration-color: #000080\">INFO    </span> Created task <span style=\"color: #008000; text-decoration-color: #008000\">'N=2.00'</span> with task_id <span style=\"color: #008000; text-decoration-color: #008000\">'c2a87a03-b3de-4b7f-a20d-b61f1e736c7c'</span>.        <a href=\"file://C:\\Users\\xinzh\\Anaconda3\\envs\\tidy3d_dev\\lib\\site-packages\\tidy3d_beta-1.8.0-py3.10.egg\\tidy3d\\web\\webapi.py\" target=\"_blank\"><span style=\"color: #7f7f7f; text-decoration-color: #7f7f7f\">webapi.py</span></a><span style=\"color: #7f7f7f; text-decoration-color: #7f7f7f\">:</span><a href=\"file://C:\\Users\\xinzh\\Anaconda3\\envs\\tidy3d_dev\\lib\\site-packages\\tidy3d_beta-1.8.0-py3.10.egg\\tidy3d\\web\\webapi.py#120\" target=\"_blank\"><span style=\"color: #7f7f7f; text-decoration-color: #7f7f7f\">120</span></a>\n",
       "</pre>\n"
      ],
      "text/plain": [
       "\u001b[2;36m          \u001b[0m\u001b[2;36m \u001b[0m\u001b[34mINFO    \u001b[0m Created task \u001b[32m'\u001b[0m\u001b[32mN\u001b[0m\u001b[32m=\u001b[0m\u001b[32m2\u001b[0m\u001b[32m.00'\u001b[0m with task_id \u001b[32m'c2a87a03-b3de-4b7f-a20d-b61f1e736c7c'\u001b[0m.        \u001b]8;id=869001;file://C:\\Users\\xinzh\\Anaconda3\\envs\\tidy3d_dev\\lib\\site-packages\\tidy3d_beta-1.8.0-py3.10.egg\\tidy3d\\web\\webapi.py\u001b\\\u001b[2mwebapi.py\u001b[0m\u001b]8;;\u001b\\\u001b[2m:\u001b[0m\u001b]8;id=325231;file://C:\\Users\\xinzh\\Anaconda3\\envs\\tidy3d_dev\\lib\\site-packages\\tidy3d_beta-1.8.0-py3.10.egg\\tidy3d\\web\\webapi.py#120\u001b\\\u001b[2m120\u001b[0m\u001b]8;;\u001b\\\n"
      ]
     },
     "metadata": {},
     "output_type": "display_data"
    },
    {
     "data": {
      "application/vnd.jupyter.widget-view+json": {
       "model_id": "a2bdc7340b634fcdabb975f98bd4e882",
       "version_major": 2,
       "version_minor": 0
      },
      "text/plain": [
       "Output()"
      ]
     },
     "metadata": {},
     "output_type": "display_data"
    },
    {
     "data": {
      "text/html": [
       "<pre style=\"white-space:pre;overflow-x:auto;line-height:normal;font-family:Menlo,'DejaVu Sans Mono',consolas,'Courier New',monospace\"></pre>\n"
      ],
      "text/plain": []
     },
     "metadata": {},
     "output_type": "display_data"
    },
    {
     "data": {
      "text/html": [
       "<pre style=\"white-space:pre;overflow-x:auto;line-height:normal;font-family:Menlo,'DejaVu Sans Mono',consolas,'Courier New',monospace\">\n",
       "</pre>\n"
      ],
      "text/plain": [
       "\n"
      ]
     },
     "metadata": {},
     "output_type": "display_data"
    },
    {
     "data": {
      "text/html": [
       "<pre style=\"white-space:pre;overflow-x:auto;line-height:normal;font-family:Menlo,'DejaVu Sans Mono',consolas,'Courier New',monospace\"><span style=\"color: #7fbfbf; text-decoration-color: #7fbfbf\">[08:34:33] </span><span style=\"color: #000080; text-decoration-color: #000080\">INFO    </span> Created task <span style=\"color: #008000; text-decoration-color: #008000\">'N=3.00'</span> with task_id <span style=\"color: #008000; text-decoration-color: #008000\">'db095429-9a76-4821-a0be-f8ded84aad63'</span>.        <a href=\"file://C:\\Users\\xinzh\\Anaconda3\\envs\\tidy3d_dev\\lib\\site-packages\\tidy3d_beta-1.8.0-py3.10.egg\\tidy3d\\web\\webapi.py\" target=\"_blank\"><span style=\"color: #7f7f7f; text-decoration-color: #7f7f7f\">webapi.py</span></a><span style=\"color: #7f7f7f; text-decoration-color: #7f7f7f\">:</span><a href=\"file://C:\\Users\\xinzh\\Anaconda3\\envs\\tidy3d_dev\\lib\\site-packages\\tidy3d_beta-1.8.0-py3.10.egg\\tidy3d\\web\\webapi.py#120\" target=\"_blank\"><span style=\"color: #7f7f7f; text-decoration-color: #7f7f7f\">120</span></a>\n",
       "</pre>\n"
      ],
      "text/plain": [
       "\u001b[2;36m[08:34:33]\u001b[0m\u001b[2;36m \u001b[0m\u001b[34mINFO    \u001b[0m Created task \u001b[32m'\u001b[0m\u001b[32mN\u001b[0m\u001b[32m=\u001b[0m\u001b[32m3\u001b[0m\u001b[32m.00'\u001b[0m with task_id \u001b[32m'db095429-9a76-4821-a0be-f8ded84aad63'\u001b[0m.        \u001b]8;id=271676;file://C:\\Users\\xinzh\\Anaconda3\\envs\\tidy3d_dev\\lib\\site-packages\\tidy3d_beta-1.8.0-py3.10.egg\\tidy3d\\web\\webapi.py\u001b\\\u001b[2mwebapi.py\u001b[0m\u001b]8;;\u001b\\\u001b[2m:\u001b[0m\u001b]8;id=46224;file://C:\\Users\\xinzh\\Anaconda3\\envs\\tidy3d_dev\\lib\\site-packages\\tidy3d_beta-1.8.0-py3.10.egg\\tidy3d\\web\\webapi.py#120\u001b\\\u001b[2m120\u001b[0m\u001b]8;;\u001b\\\n"
      ]
     },
     "metadata": {},
     "output_type": "display_data"
    },
    {
     "data": {
      "application/vnd.jupyter.widget-view+json": {
       "model_id": "c356a8e429fc41768f1f9f6028e80944",
       "version_major": 2,
       "version_minor": 0
      },
      "text/plain": [
       "Output()"
      ]
     },
     "metadata": {},
     "output_type": "display_data"
    },
    {
     "data": {
      "text/html": [
       "<pre style=\"white-space:pre;overflow-x:auto;line-height:normal;font-family:Menlo,'DejaVu Sans Mono',consolas,'Courier New',monospace\"></pre>\n"
      ],
      "text/plain": []
     },
     "metadata": {},
     "output_type": "display_data"
    },
    {
     "data": {
      "text/html": [
       "<pre style=\"white-space:pre;overflow-x:auto;line-height:normal;font-family:Menlo,'DejaVu Sans Mono',consolas,'Courier New',monospace\">\n",
       "</pre>\n"
      ],
      "text/plain": [
       "\n"
      ]
     },
     "metadata": {},
     "output_type": "display_data"
    },
    {
     "data": {
      "text/html": [
       "<pre style=\"white-space:pre;overflow-x:auto;line-height:normal;font-family:Menlo,'DejaVu Sans Mono',consolas,'Courier New',monospace\"><span style=\"color: #7fbfbf; text-decoration-color: #7fbfbf\">[08:34:35] </span><span style=\"color: #000080; text-decoration-color: #000080\">INFO    </span> Created task <span style=\"color: #008000; text-decoration-color: #008000\">'N=4.00'</span> with task_id <span style=\"color: #008000; text-decoration-color: #008000\">'45b817c4-37c1-4258-a1b6-3b37d695bbe5'</span>.        <a href=\"file://C:\\Users\\xinzh\\Anaconda3\\envs\\tidy3d_dev\\lib\\site-packages\\tidy3d_beta-1.8.0-py3.10.egg\\tidy3d\\web\\webapi.py\" target=\"_blank\"><span style=\"color: #7f7f7f; text-decoration-color: #7f7f7f\">webapi.py</span></a><span style=\"color: #7f7f7f; text-decoration-color: #7f7f7f\">:</span><a href=\"file://C:\\Users\\xinzh\\Anaconda3\\envs\\tidy3d_dev\\lib\\site-packages\\tidy3d_beta-1.8.0-py3.10.egg\\tidy3d\\web\\webapi.py#120\" target=\"_blank\"><span style=\"color: #7f7f7f; text-decoration-color: #7f7f7f\">120</span></a>\n",
       "</pre>\n"
      ],
      "text/plain": [
       "\u001b[2;36m[08:34:35]\u001b[0m\u001b[2;36m \u001b[0m\u001b[34mINFO    \u001b[0m Created task \u001b[32m'\u001b[0m\u001b[32mN\u001b[0m\u001b[32m=\u001b[0m\u001b[32m4\u001b[0m\u001b[32m.00'\u001b[0m with task_id \u001b[32m'45b817c4-37c1-4258-a1b6-3b37d695bbe5'\u001b[0m.        \u001b]8;id=241766;file://C:\\Users\\xinzh\\Anaconda3\\envs\\tidy3d_dev\\lib\\site-packages\\tidy3d_beta-1.8.0-py3.10.egg\\tidy3d\\web\\webapi.py\u001b\\\u001b[2mwebapi.py\u001b[0m\u001b]8;;\u001b\\\u001b[2m:\u001b[0m\u001b]8;id=162864;file://C:\\Users\\xinzh\\Anaconda3\\envs\\tidy3d_dev\\lib\\site-packages\\tidy3d_beta-1.8.0-py3.10.egg\\tidy3d\\web\\webapi.py#120\u001b\\\u001b[2m120\u001b[0m\u001b]8;;\u001b\\\n"
      ]
     },
     "metadata": {},
     "output_type": "display_data"
    },
    {
     "data": {
      "application/vnd.jupyter.widget-view+json": {
       "model_id": "0a0226a327084acabee0c371d7a5d486",
       "version_major": 2,
       "version_minor": 0
      },
      "text/plain": [
       "Output()"
      ]
     },
     "metadata": {},
     "output_type": "display_data"
    },
    {
     "data": {
      "text/html": [
       "<pre style=\"white-space:pre;overflow-x:auto;line-height:normal;font-family:Menlo,'DejaVu Sans Mono',consolas,'Courier New',monospace\"></pre>\n"
      ],
      "text/plain": []
     },
     "metadata": {},
     "output_type": "display_data"
    },
    {
     "data": {
      "text/html": [
       "<pre style=\"white-space:pre;overflow-x:auto;line-height:normal;font-family:Menlo,'DejaVu Sans Mono',consolas,'Courier New',monospace\">\n",
       "</pre>\n"
      ],
      "text/plain": [
       "\n"
      ]
     },
     "metadata": {},
     "output_type": "display_data"
    },
    {
     "data": {
      "text/html": [
       "<pre style=\"white-space:pre;overflow-x:auto;line-height:normal;font-family:Menlo,'DejaVu Sans Mono',consolas,'Courier New',monospace\"><span style=\"color: #7fbfbf; text-decoration-color: #7fbfbf\">[08:34:37] </span><span style=\"color: #000080; text-decoration-color: #000080\">INFO    </span> Created task <span style=\"color: #008000; text-decoration-color: #008000\">'N=5.00'</span> with task_id <span style=\"color: #008000; text-decoration-color: #008000\">'4c70f439-c320-4b1e-96a8-47e416d9ddad'</span>.        <a href=\"file://C:\\Users\\xinzh\\Anaconda3\\envs\\tidy3d_dev\\lib\\site-packages\\tidy3d_beta-1.8.0-py3.10.egg\\tidy3d\\web\\webapi.py\" target=\"_blank\"><span style=\"color: #7f7f7f; text-decoration-color: #7f7f7f\">webapi.py</span></a><span style=\"color: #7f7f7f; text-decoration-color: #7f7f7f\">:</span><a href=\"file://C:\\Users\\xinzh\\Anaconda3\\envs\\tidy3d_dev\\lib\\site-packages\\tidy3d_beta-1.8.0-py3.10.egg\\tidy3d\\web\\webapi.py#120\" target=\"_blank\"><span style=\"color: #7f7f7f; text-decoration-color: #7f7f7f\">120</span></a>\n",
       "</pre>\n"
      ],
      "text/plain": [
       "\u001b[2;36m[08:34:37]\u001b[0m\u001b[2;36m \u001b[0m\u001b[34mINFO    \u001b[0m Created task \u001b[32m'\u001b[0m\u001b[32mN\u001b[0m\u001b[32m=\u001b[0m\u001b[32m5\u001b[0m\u001b[32m.00'\u001b[0m with task_id \u001b[32m'4c70f439-c320-4b1e-96a8-47e416d9ddad'\u001b[0m.        \u001b]8;id=794831;file://C:\\Users\\xinzh\\Anaconda3\\envs\\tidy3d_dev\\lib\\site-packages\\tidy3d_beta-1.8.0-py3.10.egg\\tidy3d\\web\\webapi.py\u001b\\\u001b[2mwebapi.py\u001b[0m\u001b]8;;\u001b\\\u001b[2m:\u001b[0m\u001b]8;id=766604;file://C:\\Users\\xinzh\\Anaconda3\\envs\\tidy3d_dev\\lib\\site-packages\\tidy3d_beta-1.8.0-py3.10.egg\\tidy3d\\web\\webapi.py#120\u001b\\\u001b[2m120\u001b[0m\u001b]8;;\u001b\\\n"
      ]
     },
     "metadata": {},
     "output_type": "display_data"
    },
    {
     "data": {
      "application/vnd.jupyter.widget-view+json": {
       "model_id": "8839b4070da14031a32f026af0d5eeeb",
       "version_major": 2,
       "version_minor": 0
      },
      "text/plain": [
       "Output()"
      ]
     },
     "metadata": {},
     "output_type": "display_data"
    },
    {
     "data": {
      "text/html": [
       "<pre style=\"white-space:pre;overflow-x:auto;line-height:normal;font-family:Menlo,'DejaVu Sans Mono',consolas,'Courier New',monospace\"></pre>\n"
      ],
      "text/plain": []
     },
     "metadata": {},
     "output_type": "display_data"
    },
    {
     "data": {
      "text/html": [
       "<pre style=\"white-space:pre;overflow-x:auto;line-height:normal;font-family:Menlo,'DejaVu Sans Mono',consolas,'Courier New',monospace\">\n",
       "</pre>\n"
      ],
      "text/plain": [
       "\n"
      ]
     },
     "metadata": {},
     "output_type": "display_data"
    },
    {
     "data": {
      "text/html": [
       "<pre style=\"white-space:pre;overflow-x:auto;line-height:normal;font-family:Menlo,'DejaVu Sans Mono',consolas,'Courier New',monospace\"><span style=\"color: #7fbfbf; text-decoration-color: #7fbfbf\">[08:34:39] </span><span style=\"color: #000080; text-decoration-color: #000080\">INFO    </span> Created task <span style=\"color: #008000; text-decoration-color: #008000\">'N=10.00'</span> with task_id <span style=\"color: #008000; text-decoration-color: #008000\">'c600f88d-9612-4c4e-9efa-479198566a64'</span>.       <a href=\"file://C:\\Users\\xinzh\\Anaconda3\\envs\\tidy3d_dev\\lib\\site-packages\\tidy3d_beta-1.8.0-py3.10.egg\\tidy3d\\web\\webapi.py\" target=\"_blank\"><span style=\"color: #7f7f7f; text-decoration-color: #7f7f7f\">webapi.py</span></a><span style=\"color: #7f7f7f; text-decoration-color: #7f7f7f\">:</span><a href=\"file://C:\\Users\\xinzh\\Anaconda3\\envs\\tidy3d_dev\\lib\\site-packages\\tidy3d_beta-1.8.0-py3.10.egg\\tidy3d\\web\\webapi.py#120\" target=\"_blank\"><span style=\"color: #7f7f7f; text-decoration-color: #7f7f7f\">120</span></a>\n",
       "</pre>\n"
      ],
      "text/plain": [
       "\u001b[2;36m[08:34:39]\u001b[0m\u001b[2;36m \u001b[0m\u001b[34mINFO    \u001b[0m Created task \u001b[32m'\u001b[0m\u001b[32mN\u001b[0m\u001b[32m=\u001b[0m\u001b[32m10\u001b[0m\u001b[32m.00'\u001b[0m with task_id \u001b[32m'c600f88d-9612-4c4e-9efa-479198566a64'\u001b[0m.       \u001b]8;id=947660;file://C:\\Users\\xinzh\\Anaconda3\\envs\\tidy3d_dev\\lib\\site-packages\\tidy3d_beta-1.8.0-py3.10.egg\\tidy3d\\web\\webapi.py\u001b\\\u001b[2mwebapi.py\u001b[0m\u001b]8;;\u001b\\\u001b[2m:\u001b[0m\u001b]8;id=110906;file://C:\\Users\\xinzh\\Anaconda3\\envs\\tidy3d_dev\\lib\\site-packages\\tidy3d_beta-1.8.0-py3.10.egg\\tidy3d\\web\\webapi.py#120\u001b\\\u001b[2m120\u001b[0m\u001b]8;;\u001b\\\n"
      ]
     },
     "metadata": {},
     "output_type": "display_data"
    },
    {
     "data": {
      "application/vnd.jupyter.widget-view+json": {
       "model_id": "ee7c2940208149b5b9b201a7202d93c5",
       "version_major": 2,
       "version_minor": 0
      },
      "text/plain": [
       "Output()"
      ]
     },
     "metadata": {},
     "output_type": "display_data"
    },
    {
     "data": {
      "text/html": [
       "<pre style=\"white-space:pre;overflow-x:auto;line-height:normal;font-family:Menlo,'DejaVu Sans Mono',consolas,'Courier New',monospace\"></pre>\n"
      ],
      "text/plain": []
     },
     "metadata": {},
     "output_type": "display_data"
    },
    {
     "data": {
      "text/html": [
       "<pre style=\"white-space:pre;overflow-x:auto;line-height:normal;font-family:Menlo,'DejaVu Sans Mono',consolas,'Courier New',monospace\">\n",
       "</pre>\n"
      ],
      "text/plain": [
       "\n"
      ]
     },
     "metadata": {},
     "output_type": "display_data"
    },
    {
     "data": {
      "text/html": [
       "<pre style=\"white-space:pre;overflow-x:auto;line-height:normal;font-family:Menlo,'DejaVu Sans Mono',consolas,'Courier New',monospace\"><span style=\"color: #7fbfbf; text-decoration-color: #7fbfbf\">[08:34:44] </span>Started working on Batch.                                                               <a href=\"file://C:\\Users\\xinzh\\Anaconda3\\envs\\tidy3d_dev\\lib\\site-packages\\tidy3d_beta-1.8.0-py3.10.egg\\tidy3d\\web\\container.py\" target=\"_blank\"><span style=\"color: #7f7f7f; text-decoration-color: #7f7f7f\">container.py</span></a><span style=\"color: #7f7f7f; text-decoration-color: #7f7f7f\">:</span><a href=\"file://C:\\Users\\xinzh\\Anaconda3\\envs\\tidy3d_dev\\lib\\site-packages\\tidy3d_beta-1.8.0-py3.10.egg\\tidy3d\\web\\container.py#354\" target=\"_blank\"><span style=\"color: #7f7f7f; text-decoration-color: #7f7f7f\">354</span></a>\n",
       "</pre>\n"
      ],
      "text/plain": [
       "\u001b[2;36m[08:34:44]\u001b[0m\u001b[2;36m \u001b[0mStarted working on Batch.                                                               \u001b]8;id=147552;file://C:\\Users\\xinzh\\Anaconda3\\envs\\tidy3d_dev\\lib\\site-packages\\tidy3d_beta-1.8.0-py3.10.egg\\tidy3d\\web\\container.py\u001b\\\u001b[2mcontainer.py\u001b[0m\u001b]8;;\u001b\\\u001b[2m:\u001b[0m\u001b]8;id=858351;file://C:\\Users\\xinzh\\Anaconda3\\envs\\tidy3d_dev\\lib\\site-packages\\tidy3d_beta-1.8.0-py3.10.egg\\tidy3d\\web\\container.py#354\u001b\\\u001b[2m354\u001b[0m\u001b]8;;\u001b\\\n"
      ]
     },
     "metadata": {},
     "output_type": "display_data"
    },
    {
     "data": {
      "application/vnd.jupyter.widget-view+json": {
       "model_id": "1a85b4c3b69d4f21b85f46b599e3ad02",
       "version_major": 2,
       "version_minor": 0
      },
      "text/plain": [
       "Output()"
      ]
     },
     "metadata": {},
     "output_type": "display_data"
    },
    {
     "data": {
      "text/html": [
       "<pre style=\"white-space:pre;overflow-x:auto;line-height:normal;font-family:Menlo,'DejaVu Sans Mono',consolas,'Courier New',monospace\"></pre>\n"
      ],
      "text/plain": []
     },
     "metadata": {},
     "output_type": "display_data"
    },
    {
     "data": {
      "text/html": [
       "<pre style=\"white-space:pre;overflow-x:auto;line-height:normal;font-family:Menlo,'DejaVu Sans Mono',consolas,'Courier New',monospace\">\n",
       "</pre>\n"
      ],
      "text/plain": [
       "\n"
      ]
     },
     "metadata": {},
     "output_type": "display_data"
    },
    {
     "data": {
      "text/html": [
       "<pre style=\"white-space:pre;overflow-x:auto;line-height:normal;font-family:Menlo,'DejaVu Sans Mono',consolas,'Courier New',monospace\"><span style=\"color: #7fbfbf; text-decoration-color: #7fbfbf\">[08:35:12] </span>Batch complete.                                                                         <a href=\"file://C:\\Users\\xinzh\\Anaconda3\\envs\\tidy3d_dev\\lib\\site-packages\\tidy3d_beta-1.8.0-py3.10.egg\\tidy3d\\web\\container.py\" target=\"_blank\"><span style=\"color: #7f7f7f; text-decoration-color: #7f7f7f\">container.py</span></a><span style=\"color: #7f7f7f; text-decoration-color: #7f7f7f\">:</span><a href=\"file://C:\\Users\\xinzh\\Anaconda3\\envs\\tidy3d_dev\\lib\\site-packages\\tidy3d_beta-1.8.0-py3.10.egg\\tidy3d\\web\\container.py#375\" target=\"_blank\"><span style=\"color: #7f7f7f; text-decoration-color: #7f7f7f\">375</span></a>\n",
       "</pre>\n"
      ],
      "text/plain": [
       "\u001b[2;36m[08:35:12]\u001b[0m\u001b[2;36m \u001b[0mBatch complete.                                                                         \u001b]8;id=856459;file://C:\\Users\\xinzh\\Anaconda3\\envs\\tidy3d_dev\\lib\\site-packages\\tidy3d_beta-1.8.0-py3.10.egg\\tidy3d\\web\\container.py\u001b\\\u001b[2mcontainer.py\u001b[0m\u001b]8;;\u001b\\\u001b[2m:\u001b[0m\u001b]8;id=408809;file://C:\\Users\\xinzh\\Anaconda3\\envs\\tidy3d_dev\\lib\\site-packages\\tidy3d_beta-1.8.0-py3.10.egg\\tidy3d\\web\\container.py#375\u001b\\\u001b[2m375\u001b[0m\u001b]8;;\u001b\\\n"
      ]
     },
     "metadata": {},
     "output_type": "display_data"
    }
   ],
   "source": [
    "batch = web.Batch(simulations=sims)  \n",
    "batch_results = batch.run(path_dir='data')"
   ]
  },
  {
   "cell_type": "markdown",
   "id": "a5fb6368",
   "metadata": {},
   "source": [
    "### Result Visualization "
   ]
  },
  {
   "cell_type": "markdown",
   "id": "e5624996",
   "metadata": {},
   "source": [
    "Once the batch of simulations is complete, we can plot the reflectance spectra.\n",
    "\n",
    "Analytically, the reflectance at the central frequency is given by\n",
    "\n",
    "$$\n",
    "R = [\\frac{n_0(n_1)^{2N}-n_s(n_2)^{2N}}{n_0(n_1)^{2N}+n_s(n_2)^{2N}}]^2,\n",
    "$$\n",
    "\n",
    "where $n_0=1$ is the refractive index of the superstrate, $n_s=n_{SiO_2}$ is the refractive index of the substrate. We will use this analytical solution to validate the accuracy of our simulations."
   ]
  },
  {
   "cell_type": "code",
   "execution_count": 9,
   "id": "75083244",
   "metadata": {},
   "outputs": [
    {
     "data": {
      "text/html": [
       "<pre style=\"white-space:pre;overflow-x:auto;line-height:normal;font-family:Menlo,'DejaVu Sans Mono',consolas,'Courier New',monospace\"><span style=\"color: #7fbfbf; text-decoration-color: #7fbfbf\">[08:35:12] </span><span style=\"color: #000080; text-decoration-color: #000080\">INFO    </span> downloading file <span style=\"color: #008000; text-decoration-color: #008000\">\"output/monitor_data.hdf5\"</span> to                                    <a href=\"file://C:\\Users\\xinzh\\Anaconda3\\envs\\tidy3d_dev\\lib\\site-packages\\tidy3d_beta-1.8.0-py3.10.egg\\tidy3d\\web\\webapi.py\" target=\"_blank\"><span style=\"color: #7f7f7f; text-decoration-color: #7f7f7f\">webapi.py</span></a><span style=\"color: #7f7f7f; text-decoration-color: #7f7f7f\">:</span><a href=\"file://C:\\Users\\xinzh\\Anaconda3\\envs\\tidy3d_dev\\lib\\site-packages\\tidy3d_beta-1.8.0-py3.10.egg\\tidy3d\\web\\webapi.py#585\" target=\"_blank\"><span style=\"color: #7f7f7f; text-decoration-color: #7f7f7f\">585</span></a>\n",
       "<span style=\"color: #7fbfbf; text-decoration-color: #7fbfbf\">           </span>         <span style=\"color: #008000; text-decoration-color: #008000\">\"data\\c2a87a03-b3de-4b7f-a20d-b61f1e736c7c.hdf5\"</span>                                  <span style=\"color: #7f7f7f; text-decoration-color: #7f7f7f\">             </span>\n",
       "</pre>\n"
      ],
      "text/plain": [
       "\u001b[2;36m[08:35:12]\u001b[0m\u001b[2;36m \u001b[0m\u001b[34mINFO    \u001b[0m downloading file \u001b[32m\"output/monitor_data.hdf5\"\u001b[0m to                                    \u001b]8;id=215761;file://C:\\Users\\xinzh\\Anaconda3\\envs\\tidy3d_dev\\lib\\site-packages\\tidy3d_beta-1.8.0-py3.10.egg\\tidy3d\\web\\webapi.py\u001b\\\u001b[2mwebapi.py\u001b[0m\u001b]8;;\u001b\\\u001b[2m:\u001b[0m\u001b]8;id=730182;file://C:\\Users\\xinzh\\Anaconda3\\envs\\tidy3d_dev\\lib\\site-packages\\tidy3d_beta-1.8.0-py3.10.egg\\tidy3d\\web\\webapi.py#585\u001b\\\u001b[2m585\u001b[0m\u001b]8;;\u001b\\\n",
       "\u001b[2;36m           \u001b[0m         \u001b[32m\"data\\c2a87a03-b3de-4b7f-a20d-b61f1e736c7c.hdf5\"\u001b[0m                                  \u001b[2m             \u001b[0m\n"
      ]
     },
     "metadata": {},
     "output_type": "display_data"
    },
    {
     "data": {
      "application/vnd.jupyter.widget-view+json": {
       "model_id": "842ef56b6b194347a248f3400dd71c08",
       "version_major": 2,
       "version_minor": 0
      },
      "text/plain": [
       "Output()"
      ]
     },
     "metadata": {},
     "output_type": "display_data"
    },
    {
     "data": {
      "text/html": [
       "<pre style=\"white-space:pre;overflow-x:auto;line-height:normal;font-family:Menlo,'DejaVu Sans Mono',consolas,'Courier New',monospace\"></pre>\n"
      ],
      "text/plain": []
     },
     "metadata": {},
     "output_type": "display_data"
    },
    {
     "data": {
      "text/html": [
       "<pre style=\"white-space:pre;overflow-x:auto;line-height:normal;font-family:Menlo,'DejaVu Sans Mono',consolas,'Courier New',monospace\">\n",
       "</pre>\n"
      ],
      "text/plain": [
       "\n"
      ]
     },
     "metadata": {},
     "output_type": "display_data"
    },
    {
     "data": {
      "text/html": [
       "<pre style=\"white-space:pre;overflow-x:auto;line-height:normal;font-family:Menlo,'DejaVu Sans Mono',consolas,'Courier New',monospace\"><span style=\"color: #7fbfbf; text-decoration-color: #7fbfbf\">[08:35:14] </span><span style=\"color: #000080; text-decoration-color: #000080\">INFO    </span> loading SimulationData from data\\<span style=\"color: #ffff00; text-decoration-color: #ffff00\">c2a87a03-b3de-4b7f-a20d-b61f1e736c7c</span>.hdf5        <a href=\"file://C:\\Users\\xinzh\\Anaconda3\\envs\\tidy3d_dev\\lib\\site-packages\\tidy3d_beta-1.8.0-py3.10.egg\\tidy3d\\web\\webapi.py\" target=\"_blank\"><span style=\"color: #7f7f7f; text-decoration-color: #7f7f7f\">webapi.py</span></a><span style=\"color: #7f7f7f; text-decoration-color: #7f7f7f\">:</span><a href=\"file://C:\\Users\\xinzh\\Anaconda3\\envs\\tidy3d_dev\\lib\\site-packages\\tidy3d_beta-1.8.0-py3.10.egg\\tidy3d\\web\\webapi.py#407\" target=\"_blank\"><span style=\"color: #7f7f7f; text-decoration-color: #7f7f7f\">407</span></a>\n",
       "</pre>\n"
      ],
      "text/plain": [
       "\u001b[2;36m[08:35:14]\u001b[0m\u001b[2;36m \u001b[0m\u001b[34mINFO    \u001b[0m loading SimulationData from data\\\u001b[93mc2a87a03-b3de-4b7f-a20d-b61f1e736c7c\u001b[0m.hdf5        \u001b]8;id=828839;file://C:\\Users\\xinzh\\Anaconda3\\envs\\tidy3d_dev\\lib\\site-packages\\tidy3d_beta-1.8.0-py3.10.egg\\tidy3d\\web\\webapi.py\u001b\\\u001b[2mwebapi.py\u001b[0m\u001b]8;;\u001b\\\u001b[2m:\u001b[0m\u001b]8;id=912455;file://C:\\Users\\xinzh\\Anaconda3\\envs\\tidy3d_dev\\lib\\site-packages\\tidy3d_beta-1.8.0-py3.10.egg\\tidy3d\\web\\webapi.py#407\u001b\\\u001b[2m407\u001b[0m\u001b]8;;\u001b\\\n"
      ]
     },
     "metadata": {},
     "output_type": "display_data"
    },
    {
     "data": {
      "text/html": [
       "<pre style=\"white-space:pre;overflow-x:auto;line-height:normal;font-family:Menlo,'DejaVu Sans Mono',consolas,'Courier New',monospace\"><span style=\"color: #7fbfbf; text-decoration-color: #7fbfbf\">           </span><span style=\"color: #000080; text-decoration-color: #000080\">INFO    </span> downloading file <span style=\"color: #008000; text-decoration-color: #008000\">\"output/monitor_data.hdf5\"</span> to                                    <a href=\"file://C:\\Users\\xinzh\\Anaconda3\\envs\\tidy3d_dev\\lib\\site-packages\\tidy3d_beta-1.8.0-py3.10.egg\\tidy3d\\web\\webapi.py\" target=\"_blank\"><span style=\"color: #7f7f7f; text-decoration-color: #7f7f7f\">webapi.py</span></a><span style=\"color: #7f7f7f; text-decoration-color: #7f7f7f\">:</span><a href=\"file://C:\\Users\\xinzh\\Anaconda3\\envs\\tidy3d_dev\\lib\\site-packages\\tidy3d_beta-1.8.0-py3.10.egg\\tidy3d\\web\\webapi.py#585\" target=\"_blank\"><span style=\"color: #7f7f7f; text-decoration-color: #7f7f7f\">585</span></a>\n",
       "<span style=\"color: #7fbfbf; text-decoration-color: #7fbfbf\">           </span>         <span style=\"color: #008000; text-decoration-color: #008000\">\"data\\db095429-9a76-4821-a0be-f8ded84aad63.hdf5\"</span>                                  <span style=\"color: #7f7f7f; text-decoration-color: #7f7f7f\">             </span>\n",
       "</pre>\n"
      ],
      "text/plain": [
       "\u001b[2;36m          \u001b[0m\u001b[2;36m \u001b[0m\u001b[34mINFO    \u001b[0m downloading file \u001b[32m\"output/monitor_data.hdf5\"\u001b[0m to                                    \u001b]8;id=49868;file://C:\\Users\\xinzh\\Anaconda3\\envs\\tidy3d_dev\\lib\\site-packages\\tidy3d_beta-1.8.0-py3.10.egg\\tidy3d\\web\\webapi.py\u001b\\\u001b[2mwebapi.py\u001b[0m\u001b]8;;\u001b\\\u001b[2m:\u001b[0m\u001b]8;id=240885;file://C:\\Users\\xinzh\\Anaconda3\\envs\\tidy3d_dev\\lib\\site-packages\\tidy3d_beta-1.8.0-py3.10.egg\\tidy3d\\web\\webapi.py#585\u001b\\\u001b[2m585\u001b[0m\u001b]8;;\u001b\\\n",
       "\u001b[2;36m           \u001b[0m         \u001b[32m\"data\\db095429-9a76-4821-a0be-f8ded84aad63.hdf5\"\u001b[0m                                  \u001b[2m             \u001b[0m\n"
      ]
     },
     "metadata": {},
     "output_type": "display_data"
    },
    {
     "data": {
      "application/vnd.jupyter.widget-view+json": {
       "model_id": "f51f3cebe8c045cbb4c0c9549df08f0c",
       "version_major": 2,
       "version_minor": 0
      },
      "text/plain": [
       "Output()"
      ]
     },
     "metadata": {},
     "output_type": "display_data"
    },
    {
     "data": {
      "text/html": [
       "<pre style=\"white-space:pre;overflow-x:auto;line-height:normal;font-family:Menlo,'DejaVu Sans Mono',consolas,'Courier New',monospace\"></pre>\n"
      ],
      "text/plain": []
     },
     "metadata": {},
     "output_type": "display_data"
    },
    {
     "data": {
      "text/html": [
       "<pre style=\"white-space:pre;overflow-x:auto;line-height:normal;font-family:Menlo,'DejaVu Sans Mono',consolas,'Courier New',monospace\">\n",
       "</pre>\n"
      ],
      "text/plain": [
       "\n"
      ]
     },
     "metadata": {},
     "output_type": "display_data"
    },
    {
     "data": {
      "text/html": [
       "<pre style=\"white-space:pre;overflow-x:auto;line-height:normal;font-family:Menlo,'DejaVu Sans Mono',consolas,'Courier New',monospace\"><span style=\"color: #7fbfbf; text-decoration-color: #7fbfbf\">[08:35:15] </span><span style=\"color: #000080; text-decoration-color: #000080\">INFO    </span> loading SimulationData from data\\<span style=\"color: #ffff00; text-decoration-color: #ffff00\">db095429-9a76-4821-a0be-f8ded84aad63</span>.hdf5        <a href=\"file://C:\\Users\\xinzh\\Anaconda3\\envs\\tidy3d_dev\\lib\\site-packages\\tidy3d_beta-1.8.0-py3.10.egg\\tidy3d\\web\\webapi.py\" target=\"_blank\"><span style=\"color: #7f7f7f; text-decoration-color: #7f7f7f\">webapi.py</span></a><span style=\"color: #7f7f7f; text-decoration-color: #7f7f7f\">:</span><a href=\"file://C:\\Users\\xinzh\\Anaconda3\\envs\\tidy3d_dev\\lib\\site-packages\\tidy3d_beta-1.8.0-py3.10.egg\\tidy3d\\web\\webapi.py#407\" target=\"_blank\"><span style=\"color: #7f7f7f; text-decoration-color: #7f7f7f\">407</span></a>\n",
       "</pre>\n"
      ],
      "text/plain": [
       "\u001b[2;36m[08:35:15]\u001b[0m\u001b[2;36m \u001b[0m\u001b[34mINFO    \u001b[0m loading SimulationData from data\\\u001b[93mdb095429-9a76-4821-a0be-f8ded84aad63\u001b[0m.hdf5        \u001b]8;id=200007;file://C:\\Users\\xinzh\\Anaconda3\\envs\\tidy3d_dev\\lib\\site-packages\\tidy3d_beta-1.8.0-py3.10.egg\\tidy3d\\web\\webapi.py\u001b\\\u001b[2mwebapi.py\u001b[0m\u001b]8;;\u001b\\\u001b[2m:\u001b[0m\u001b]8;id=445211;file://C:\\Users\\xinzh\\Anaconda3\\envs\\tidy3d_dev\\lib\\site-packages\\tidy3d_beta-1.8.0-py3.10.egg\\tidy3d\\web\\webapi.py#407\u001b\\\u001b[2m407\u001b[0m\u001b]8;;\u001b\\\n"
      ]
     },
     "metadata": {},
     "output_type": "display_data"
    },
    {
     "data": {
      "text/html": [
       "<pre style=\"white-space:pre;overflow-x:auto;line-height:normal;font-family:Menlo,'DejaVu Sans Mono',consolas,'Courier New',monospace\"><span style=\"color: #7fbfbf; text-decoration-color: #7fbfbf\">[08:35:16] </span><span style=\"color: #000080; text-decoration-color: #000080\">INFO    </span> downloading file <span style=\"color: #008000; text-decoration-color: #008000\">\"output/monitor_data.hdf5\"</span> to                                    <a href=\"file://C:\\Users\\xinzh\\Anaconda3\\envs\\tidy3d_dev\\lib\\site-packages\\tidy3d_beta-1.8.0-py3.10.egg\\tidy3d\\web\\webapi.py\" target=\"_blank\"><span style=\"color: #7f7f7f; text-decoration-color: #7f7f7f\">webapi.py</span></a><span style=\"color: #7f7f7f; text-decoration-color: #7f7f7f\">:</span><a href=\"file://C:\\Users\\xinzh\\Anaconda3\\envs\\tidy3d_dev\\lib\\site-packages\\tidy3d_beta-1.8.0-py3.10.egg\\tidy3d\\web\\webapi.py#585\" target=\"_blank\"><span style=\"color: #7f7f7f; text-decoration-color: #7f7f7f\">585</span></a>\n",
       "<span style=\"color: #7fbfbf; text-decoration-color: #7fbfbf\">           </span>         <span style=\"color: #008000; text-decoration-color: #008000\">\"data\\45b817c4-37c1-4258-a1b6-3b37d695bbe5.hdf5\"</span>                                  <span style=\"color: #7f7f7f; text-decoration-color: #7f7f7f\">             </span>\n",
       "</pre>\n"
      ],
      "text/plain": [
       "\u001b[2;36m[08:35:16]\u001b[0m\u001b[2;36m \u001b[0m\u001b[34mINFO    \u001b[0m downloading file \u001b[32m\"output/monitor_data.hdf5\"\u001b[0m to                                    \u001b]8;id=141530;file://C:\\Users\\xinzh\\Anaconda3\\envs\\tidy3d_dev\\lib\\site-packages\\tidy3d_beta-1.8.0-py3.10.egg\\tidy3d\\web\\webapi.py\u001b\\\u001b[2mwebapi.py\u001b[0m\u001b]8;;\u001b\\\u001b[2m:\u001b[0m\u001b]8;id=193791;file://C:\\Users\\xinzh\\Anaconda3\\envs\\tidy3d_dev\\lib\\site-packages\\tidy3d_beta-1.8.0-py3.10.egg\\tidy3d\\web\\webapi.py#585\u001b\\\u001b[2m585\u001b[0m\u001b]8;;\u001b\\\n",
       "\u001b[2;36m           \u001b[0m         \u001b[32m\"data\\45b817c4-37c1-4258-a1b6-3b37d695bbe5.hdf5\"\u001b[0m                                  \u001b[2m             \u001b[0m\n"
      ]
     },
     "metadata": {},
     "output_type": "display_data"
    },
    {
     "data": {
      "application/vnd.jupyter.widget-view+json": {
       "model_id": "e162cba1b09f480db0358675060f166f",
       "version_major": 2,
       "version_minor": 0
      },
      "text/plain": [
       "Output()"
      ]
     },
     "metadata": {},
     "output_type": "display_data"
    },
    {
     "data": {
      "text/html": [
       "<pre style=\"white-space:pre;overflow-x:auto;line-height:normal;font-family:Menlo,'DejaVu Sans Mono',consolas,'Courier New',monospace\"></pre>\n"
      ],
      "text/plain": []
     },
     "metadata": {},
     "output_type": "display_data"
    },
    {
     "data": {
      "text/html": [
       "<pre style=\"white-space:pre;overflow-x:auto;line-height:normal;font-family:Menlo,'DejaVu Sans Mono',consolas,'Courier New',monospace\">\n",
       "</pre>\n"
      ],
      "text/plain": [
       "\n"
      ]
     },
     "metadata": {},
     "output_type": "display_data"
    },
    {
     "data": {
      "text/html": [
       "<pre style=\"white-space:pre;overflow-x:auto;line-height:normal;font-family:Menlo,'DejaVu Sans Mono',consolas,'Courier New',monospace\"><span style=\"color: #7fbfbf; text-decoration-color: #7fbfbf\">[08:35:17] </span><span style=\"color: #000080; text-decoration-color: #000080\">INFO    </span> loading SimulationData from data\\<span style=\"color: #ffff00; text-decoration-color: #ffff00\">45b817c4-37c1-4258-a1b6-3b37d695bbe5</span>.hdf5        <a href=\"file://C:\\Users\\xinzh\\Anaconda3\\envs\\tidy3d_dev\\lib\\site-packages\\tidy3d_beta-1.8.0-py3.10.egg\\tidy3d\\web\\webapi.py\" target=\"_blank\"><span style=\"color: #7f7f7f; text-decoration-color: #7f7f7f\">webapi.py</span></a><span style=\"color: #7f7f7f; text-decoration-color: #7f7f7f\">:</span><a href=\"file://C:\\Users\\xinzh\\Anaconda3\\envs\\tidy3d_dev\\lib\\site-packages\\tidy3d_beta-1.8.0-py3.10.egg\\tidy3d\\web\\webapi.py#407\" target=\"_blank\"><span style=\"color: #7f7f7f; text-decoration-color: #7f7f7f\">407</span></a>\n",
       "</pre>\n"
      ],
      "text/plain": [
       "\u001b[2;36m[08:35:17]\u001b[0m\u001b[2;36m \u001b[0m\u001b[34mINFO    \u001b[0m loading SimulationData from data\\\u001b[93m45b817c4-37c1-4258-a1b6-3b37d695bbe5\u001b[0m.hdf5        \u001b]8;id=821815;file://C:\\Users\\xinzh\\Anaconda3\\envs\\tidy3d_dev\\lib\\site-packages\\tidy3d_beta-1.8.0-py3.10.egg\\tidy3d\\web\\webapi.py\u001b\\\u001b[2mwebapi.py\u001b[0m\u001b]8;;\u001b\\\u001b[2m:\u001b[0m\u001b]8;id=971100;file://C:\\Users\\xinzh\\Anaconda3\\envs\\tidy3d_dev\\lib\\site-packages\\tidy3d_beta-1.8.0-py3.10.egg\\tidy3d\\web\\webapi.py#407\u001b\\\u001b[2m407\u001b[0m\u001b]8;;\u001b\\\n"
      ]
     },
     "metadata": {},
     "output_type": "display_data"
    },
    {
     "data": {
      "text/html": [
       "<pre style=\"white-space:pre;overflow-x:auto;line-height:normal;font-family:Menlo,'DejaVu Sans Mono',consolas,'Courier New',monospace\"><span style=\"color: #7fbfbf; text-decoration-color: #7fbfbf\">           </span><span style=\"color: #000080; text-decoration-color: #000080\">INFO    </span> downloading file <span style=\"color: #008000; text-decoration-color: #008000\">\"output/monitor_data.hdf5\"</span> to                                    <a href=\"file://C:\\Users\\xinzh\\Anaconda3\\envs\\tidy3d_dev\\lib\\site-packages\\tidy3d_beta-1.8.0-py3.10.egg\\tidy3d\\web\\webapi.py\" target=\"_blank\"><span style=\"color: #7f7f7f; text-decoration-color: #7f7f7f\">webapi.py</span></a><span style=\"color: #7f7f7f; text-decoration-color: #7f7f7f\">:</span><a href=\"file://C:\\Users\\xinzh\\Anaconda3\\envs\\tidy3d_dev\\lib\\site-packages\\tidy3d_beta-1.8.0-py3.10.egg\\tidy3d\\web\\webapi.py#585\" target=\"_blank\"><span style=\"color: #7f7f7f; text-decoration-color: #7f7f7f\">585</span></a>\n",
       "<span style=\"color: #7fbfbf; text-decoration-color: #7fbfbf\">           </span>         <span style=\"color: #008000; text-decoration-color: #008000\">\"data\\4c70f439-c320-4b1e-96a8-47e416d9ddad.hdf5\"</span>                                  <span style=\"color: #7f7f7f; text-decoration-color: #7f7f7f\">             </span>\n",
       "</pre>\n"
      ],
      "text/plain": [
       "\u001b[2;36m          \u001b[0m\u001b[2;36m \u001b[0m\u001b[34mINFO    \u001b[0m downloading file \u001b[32m\"output/monitor_data.hdf5\"\u001b[0m to                                    \u001b]8;id=31749;file://C:\\Users\\xinzh\\Anaconda3\\envs\\tidy3d_dev\\lib\\site-packages\\tidy3d_beta-1.8.0-py3.10.egg\\tidy3d\\web\\webapi.py\u001b\\\u001b[2mwebapi.py\u001b[0m\u001b]8;;\u001b\\\u001b[2m:\u001b[0m\u001b]8;id=936653;file://C:\\Users\\xinzh\\Anaconda3\\envs\\tidy3d_dev\\lib\\site-packages\\tidy3d_beta-1.8.0-py3.10.egg\\tidy3d\\web\\webapi.py#585\u001b\\\u001b[2m585\u001b[0m\u001b]8;;\u001b\\\n",
       "\u001b[2;36m           \u001b[0m         \u001b[32m\"data\\4c70f439-c320-4b1e-96a8-47e416d9ddad.hdf5\"\u001b[0m                                  \u001b[2m             \u001b[0m\n"
      ]
     },
     "metadata": {},
     "output_type": "display_data"
    },
    {
     "data": {
      "application/vnd.jupyter.widget-view+json": {
       "model_id": "bf9a3b5727a04e80ad14b623b0a7d15d",
       "version_major": 2,
       "version_minor": 0
      },
      "text/plain": [
       "Output()"
      ]
     },
     "metadata": {},
     "output_type": "display_data"
    },
    {
     "data": {
      "text/html": [
       "<pre style=\"white-space:pre;overflow-x:auto;line-height:normal;font-family:Menlo,'DejaVu Sans Mono',consolas,'Courier New',monospace\"></pre>\n"
      ],
      "text/plain": []
     },
     "metadata": {},
     "output_type": "display_data"
    },
    {
     "data": {
      "text/html": [
       "<pre style=\"white-space:pre;overflow-x:auto;line-height:normal;font-family:Menlo,'DejaVu Sans Mono',consolas,'Courier New',monospace\">\n",
       "</pre>\n"
      ],
      "text/plain": [
       "\n"
      ]
     },
     "metadata": {},
     "output_type": "display_data"
    },
    {
     "data": {
      "text/html": [
       "<pre style=\"white-space:pre;overflow-x:auto;line-height:normal;font-family:Menlo,'DejaVu Sans Mono',consolas,'Courier New',monospace\"><span style=\"color: #7fbfbf; text-decoration-color: #7fbfbf\">[08:35:19] </span><span style=\"color: #000080; text-decoration-color: #000080\">INFO    </span> loading SimulationData from data\\<span style=\"color: #ffff00; text-decoration-color: #ffff00\">4c70f439-c320-4b1e-96a8-47e416d9ddad</span>.hdf5        <a href=\"file://C:\\Users\\xinzh\\Anaconda3\\envs\\tidy3d_dev\\lib\\site-packages\\tidy3d_beta-1.8.0-py3.10.egg\\tidy3d\\web\\webapi.py\" target=\"_blank\"><span style=\"color: #7f7f7f; text-decoration-color: #7f7f7f\">webapi.py</span></a><span style=\"color: #7f7f7f; text-decoration-color: #7f7f7f\">:</span><a href=\"file://C:\\Users\\xinzh\\Anaconda3\\envs\\tidy3d_dev\\lib\\site-packages\\tidy3d_beta-1.8.0-py3.10.egg\\tidy3d\\web\\webapi.py#407\" target=\"_blank\"><span style=\"color: #7f7f7f; text-decoration-color: #7f7f7f\">407</span></a>\n",
       "</pre>\n"
      ],
      "text/plain": [
       "\u001b[2;36m[08:35:19]\u001b[0m\u001b[2;36m \u001b[0m\u001b[34mINFO    \u001b[0m loading SimulationData from data\\\u001b[93m4c70f439-c320-4b1e-96a8-47e416d9ddad\u001b[0m.hdf5        \u001b]8;id=935325;file://C:\\Users\\xinzh\\Anaconda3\\envs\\tidy3d_dev\\lib\\site-packages\\tidy3d_beta-1.8.0-py3.10.egg\\tidy3d\\web\\webapi.py\u001b\\\u001b[2mwebapi.py\u001b[0m\u001b]8;;\u001b\\\u001b[2m:\u001b[0m\u001b]8;id=155674;file://C:\\Users\\xinzh\\Anaconda3\\envs\\tidy3d_dev\\lib\\site-packages\\tidy3d_beta-1.8.0-py3.10.egg\\tidy3d\\web\\webapi.py#407\u001b\\\u001b[2m407\u001b[0m\u001b]8;;\u001b\\\n"
      ]
     },
     "metadata": {},
     "output_type": "display_data"
    },
    {
     "data": {
      "text/html": [
       "<pre style=\"white-space:pre;overflow-x:auto;line-height:normal;font-family:Menlo,'DejaVu Sans Mono',consolas,'Courier New',monospace\"><span style=\"color: #7fbfbf; text-decoration-color: #7fbfbf\">           </span><span style=\"color: #000080; text-decoration-color: #000080\">INFO    </span> downloading file <span style=\"color: #008000; text-decoration-color: #008000\">\"output/monitor_data.hdf5\"</span> to                                    <a href=\"file://C:\\Users\\xinzh\\Anaconda3\\envs\\tidy3d_dev\\lib\\site-packages\\tidy3d_beta-1.8.0-py3.10.egg\\tidy3d\\web\\webapi.py\" target=\"_blank\"><span style=\"color: #7f7f7f; text-decoration-color: #7f7f7f\">webapi.py</span></a><span style=\"color: #7f7f7f; text-decoration-color: #7f7f7f\">:</span><a href=\"file://C:\\Users\\xinzh\\Anaconda3\\envs\\tidy3d_dev\\lib\\site-packages\\tidy3d_beta-1.8.0-py3.10.egg\\tidy3d\\web\\webapi.py#585\" target=\"_blank\"><span style=\"color: #7f7f7f; text-decoration-color: #7f7f7f\">585</span></a>\n",
       "<span style=\"color: #7fbfbf; text-decoration-color: #7fbfbf\">           </span>         <span style=\"color: #008000; text-decoration-color: #008000\">\"data\\c600f88d-9612-4c4e-9efa-479198566a64.hdf5\"</span>                                  <span style=\"color: #7f7f7f; text-decoration-color: #7f7f7f\">             </span>\n",
       "</pre>\n"
      ],
      "text/plain": [
       "\u001b[2;36m          \u001b[0m\u001b[2;36m \u001b[0m\u001b[34mINFO    \u001b[0m downloading file \u001b[32m\"output/monitor_data.hdf5\"\u001b[0m to                                    \u001b]8;id=803799;file://C:\\Users\\xinzh\\Anaconda3\\envs\\tidy3d_dev\\lib\\site-packages\\tidy3d_beta-1.8.0-py3.10.egg\\tidy3d\\web\\webapi.py\u001b\\\u001b[2mwebapi.py\u001b[0m\u001b]8;;\u001b\\\u001b[2m:\u001b[0m\u001b]8;id=411833;file://C:\\Users\\xinzh\\Anaconda3\\envs\\tidy3d_dev\\lib\\site-packages\\tidy3d_beta-1.8.0-py3.10.egg\\tidy3d\\web\\webapi.py#585\u001b\\\u001b[2m585\u001b[0m\u001b]8;;\u001b\\\n",
       "\u001b[2;36m           \u001b[0m         \u001b[32m\"data\\c600f88d-9612-4c4e-9efa-479198566a64.hdf5\"\u001b[0m                                  \u001b[2m             \u001b[0m\n"
      ]
     },
     "metadata": {},
     "output_type": "display_data"
    },
    {
     "data": {
      "application/vnd.jupyter.widget-view+json": {
       "model_id": "6b9122060a654ea6ac325df47f89f296",
       "version_major": 2,
       "version_minor": 0
      },
      "text/plain": [
       "Output()"
      ]
     },
     "metadata": {},
     "output_type": "display_data"
    },
    {
     "data": {
      "text/html": [
       "<pre style=\"white-space:pre;overflow-x:auto;line-height:normal;font-family:Menlo,'DejaVu Sans Mono',consolas,'Courier New',monospace\"></pre>\n"
      ],
      "text/plain": []
     },
     "metadata": {},
     "output_type": "display_data"
    },
    {
     "data": {
      "text/html": [
       "<pre style=\"white-space:pre;overflow-x:auto;line-height:normal;font-family:Menlo,'DejaVu Sans Mono',consolas,'Courier New',monospace\">\n",
       "</pre>\n"
      ],
      "text/plain": [
       "\n"
      ]
     },
     "metadata": {},
     "output_type": "display_data"
    },
    {
     "data": {
      "text/html": [
       "<pre style=\"white-space:pre;overflow-x:auto;line-height:normal;font-family:Menlo,'DejaVu Sans Mono',consolas,'Courier New',monospace\"><span style=\"color: #7fbfbf; text-decoration-color: #7fbfbf\">[08:35:20] </span><span style=\"color: #000080; text-decoration-color: #000080\">INFO    </span> loading SimulationData from data\\<span style=\"color: #ffff00; text-decoration-color: #ffff00\">c600f88d-9612-4c4e-9efa-479198566a64</span>.hdf5        <a href=\"file://C:\\Users\\xinzh\\Anaconda3\\envs\\tidy3d_dev\\lib\\site-packages\\tidy3d_beta-1.8.0-py3.10.egg\\tidy3d\\web\\webapi.py\" target=\"_blank\"><span style=\"color: #7f7f7f; text-decoration-color: #7f7f7f\">webapi.py</span></a><span style=\"color: #7f7f7f; text-decoration-color: #7f7f7f\">:</span><a href=\"file://C:\\Users\\xinzh\\Anaconda3\\envs\\tidy3d_dev\\lib\\site-packages\\tidy3d_beta-1.8.0-py3.10.egg\\tidy3d\\web\\webapi.py#407\" target=\"_blank\"><span style=\"color: #7f7f7f; text-decoration-color: #7f7f7f\">407</span></a>\n",
       "</pre>\n"
      ],
      "text/plain": [
       "\u001b[2;36m[08:35:20]\u001b[0m\u001b[2;36m \u001b[0m\u001b[34mINFO    \u001b[0m loading SimulationData from data\\\u001b[93mc600f88d-9612-4c4e-9efa-479198566a64\u001b[0m.hdf5        \u001b]8;id=820072;file://C:\\Users\\xinzh\\Anaconda3\\envs\\tidy3d_dev\\lib\\site-packages\\tidy3d_beta-1.8.0-py3.10.egg\\tidy3d\\web\\webapi.py\u001b\\\u001b[2mwebapi.py\u001b[0m\u001b]8;;\u001b\\\u001b[2m:\u001b[0m\u001b]8;id=803474;file://C:\\Users\\xinzh\\Anaconda3\\envs\\tidy3d_dev\\lib\\site-packages\\tidy3d_beta-1.8.0-py3.10.egg\\tidy3d\\web\\webapi.py#407\u001b\\\u001b[2m407\u001b[0m\u001b]8;;\u001b\\\n"
      ]
     },
     "metadata": {},
     "output_type": "display_data"
    },
    {
     "data": {
      "image/png": "[encoded data removed]"
     },
     "metadata": {},
     "output_type": "display_data"
    }
   ],
   "source": [
    "for i, N in enumerate(Ns):\n",
    "        sim_data = batch_results[f'N={N:.2f}'] \n",
    "        R = sim_data['R'].flux  #extract reflectance data from the flux monitor\n",
    "        plt.plot(freqs/freq0, R, label=f'N={N}')  #plot reflectance spectrum\n",
    "        \n",
    "        #plot the analytically calculated reflectance at the central frequency with a star marker\n",
    "        plt.scatter(1,(((n_tio2)**(2*N)-(n_sio2)**(2*N+1))/((n_tio2)**(2*N)+(n_sio2)**(2*N+1)))**2,marker='*',s=50)\n",
    "\n",
    "plt.title('Reflectance of DBR of different number of periods')\n",
    "plt.xlabel('Normalized frequency')\n",
    "plt.ylabel('Reflectance')\n",
    "plt.legend()"
   ]
  },
  {
   "cell_type": "markdown",
   "id": "0bd979cb",
   "metadata": {},
   "source": [
    "As the number of pairs increases, the reflectance at the stopband increases to unity. The width of the stopband agrees with the analytical expression discussed above. The analytical solution of the reflectance at the central frequency (stars) also agrees well with Tidy3D simulation results."
   ]
  },
  {
   "cell_type": "markdown",
   "id": "b5ad1b17",
   "metadata": {},
   "source": [
    "## Modeling a High-Q DBR Microcavity"
   ]
  },
  {
   "cell_type": "markdown",
   "id": "4702ac74",
   "metadata": {},
   "source": [
    "Similar to a defect in a photonic crystal, an optical microcavity is formed when one layer of a DBR has an anomalous thickness. For example, if a high index layer in the middle of a DBR has a thickness of half a material wavelength instead of the usual quarter material wavelength, the DBR will show greatly suppressed reflection at the central frequency. The quality factor of this cavity mode can be very high if the total number of layers is large. DBR-based microcavities are widely used in lasers, filters, and sensing applications. \n",
    "\n",
    "To obtain the reflectance spectrum of a high-Q DBR cavity, a long simulation run time is required since we need to run the time stepping until the energy in the simulation domain dissipates. Fortunately, for 1D or 2D simulations, this is still an easy task. \n",
    "\n",
    "On the other hand, for a large 3D cavity with a very high Q value, this kind of simulation can become computationally impractical. In this case, the `ResonanceFinder` plugin of Tidy3D is a handy tool. It can be used to extract the resonance frequencies and Q values without running the time stepping until the resonance modes fully decay, as demonstrated in the [photonic crystal cavity example](https://docs.flexcompute.com/projects/tidy3d/en/latest/notebooks/L3_cavity.html)."
   ]
  },
  {
   "cell_type": "markdown",
   "id": "33303304",
   "metadata": {},
   "source": [
    "### Simulation Setup "
   ]
  },
  {
   "cell_type": "markdown",
   "id": "930a6064",
   "metadata": {},
   "source": [
    "To resolve the cavity resonance in the spectrum, we narrow the frequency range a bit compared to the previous simulations."
   ]
  },
  {
   "cell_type": "code",
   "execution_count": 10,
   "id": "c0eb2030",
   "metadata": {},
   "outputs": [],
   "source": [
    "lda0 = 0.63  #central wavelength\n",
    "freq0 = td.C_0/lda0  #central frequency\n",
    "freqs = freq0*np.linspace(0.9,1.1,1001)   #frequency range of interest. The range is narrowed compared to previous simulations"
   ]
  },
  {
   "cell_type": "markdown",
   "id": "1dfb9aab",
   "metadata": {},
   "source": [
    "To create a DBR cavity, we will use the previously defined `build_layers` function twice to construct the regular DBRs on the top and bottom of the cavity. Then a single layer of $TiO_2$ with thickness $\\lambda_0/2n_{TiO_2}$ is added between them. "
   ]
  },
  {
   "cell_type": "code",
   "execution_count": 11,
   "id": "e3c9ded3",
   "metadata": {},
   "outputs": [
    {
     "data": {
      "image/png": "[encoded data removed]"
     },
     "metadata": {},
     "output_type": "display_data"
    }
   ],
   "source": [
    "N_bottom = 6  #number of layer pairs for the bottom DBR\n",
    "thickness_bottom = N_bottom*(lda0/(4*n_tio2)+lda0/(4*n_sio2))  #thickness of the bottom DBR\n",
    "bottom_DBR = build_layers(n_tio2, n_sio2, N_bottom, 0)  #construct the bottom DBR \n",
    "\n",
    "thickness_cavity = lda0/(2*n_tio2)  #thickness of the cavity layer\n",
    "#construct the cavity layer\n",
    "cavity = td.Structure(geometry=td.Box.from_bounds(rmin=(-inf_eff,-inf_eff,thickness_bottom), \n",
    "                                                                   rmax=(inf_eff,inf_eff,thickness_bottom+thickness_cavity)),\n",
    "                                       medium=td.Medium(permittivity=n_tio2**2))\n",
    "\n",
    "N_top = 6  #number of layer pairs for the top DBR\n",
    "#construct the bottom DBR \n",
    "top_DBR = build_layers(n_sio2, n_tio2, N_top, thickness_bottom+thickness_cavity)  \n",
    "thickness_top = N_top = N_bottom*(lda0/(4*n_tio2)+lda0/(4*n_sio2))  #thickness of the bottom DBR\n",
    "\n",
    "#construct the substrate\n",
    "sub = td.Structure(geometry=td.Box.from_bounds(rmin=(-inf_eff,-inf_eff,-inf_eff), \n",
    "                                                   rmax=(inf_eff,inf_eff,0)),\n",
    "                           medium=td.Medium(permittivity=n_s**2))\n",
    "\n",
    "#combining the top DBR, the bottom DBR, the cavity layer, and the substrate\n",
    "DBR_cavity = bottom_DBR + top_DBR\n",
    "DBR_cavity.append(cavity)\n",
    "DBR_cavity.append(sub)\n",
    "\n",
    "thickness = thickness_bottom + thickness_cavity + thickness_top  #total thickness of the device\n",
    "\n",
    "fwidth = 0.1*freq0  #width of the frequency range\n",
    "\n",
    "#add a plane wave source\n",
    "plane_wave = td.PlaneWave(source_time=td.GaussianPulse(freq0=freq0,\n",
    "                                                       fwidth=fwidth),\n",
    "                          size=(td.inf,td.inf,0),\n",
    "                          center=(0,0,thickness+lda0/4),\n",
    "                          direction='-',\n",
    "                          pol_angle=0)\n",
    "\n",
    "#add a flux monitor to measure reflectance\n",
    "flux_monitor = td.FluxMonitor(center=(0,0,thickness+lda0/2),\n",
    "                           size=(td.inf,td.inf,0),\n",
    "                           freqs=freqs,\n",
    "                           name='R')    \n",
    "\n",
    "#add a field monitor to measure the field distribution\n",
    "field_monitor = td.FieldMonitor(center=(0,0,0),\n",
    "                           size=(td.inf,td.inf,td.inf),\n",
    "                           freqs=freqs,\n",
    "                           name='field') \n",
    "\n",
    "#simulation domain size in z direction\n",
    "Lz = thickness+2*lda0\n",
    "\n",
    "#run time needs to be sufficiently long to ensure the field decays away in the end\n",
    "run_time = 500/fwidth\n",
    "\n",
    "sim = td.Simulation(size=(0,0,Lz),\n",
    "                    center=(0,0,thickness/2),\n",
    "                    grid_spec=td.GridSpec.auto(min_steps_per_wvl=60,wavelength=lda0),\n",
    "                    structures=DBR_cavity,\n",
    "                    sources=[plane_wave],\n",
    "                    monitors=[flux_monitor,field_monitor],\n",
    "                    run_time=run_time,\n",
    "                    boundary_spec=td.BoundarySpec.pml(z=True),\n",
    "                    shutoff=1e-7)   #early shutoff level is decreased to 1e-7 to increase the simulation accuracy\n",
    "\n",
    "#visulize the simulation setup\n",
    "ax = sim.plot(y=0)\n",
    "ax.get_xaxis().set_visible(False)"
   ]
  },
  {
   "cell_type": "markdown",
   "id": "9eb096c3",
   "metadata": {},
   "source": [
    "Submit the simulation job to the server."
   ]
  },
  {
   "cell_type": "code",
   "execution_count": 12,
   "id": "20b4d1f3",
   "metadata": {},
   "outputs": [
    {
     "data": {
      "text/html": [
       "<pre style=\"white-space:pre;overflow-x:auto;line-height:normal;font-family:Menlo,'DejaVu Sans Mono',consolas,'Courier New',monospace\"><span style=\"color: #7fbfbf; text-decoration-color: #7fbfbf\">[08:35:22] </span><span style=\"color: #000080; text-decoration-color: #000080\">INFO    </span> Created task <span style=\"color: #008000; text-decoration-color: #008000\">'dbr_cavity'</span> with task_id <span style=\"color: #008000; text-decoration-color: #008000\">'d6734d50-8935-4d13-8f85-9b7d5a0bcd9b'</span>.    <a href=\"file://C:\\Users\\xinzh\\Anaconda3\\envs\\tidy3d_dev\\lib\\site-packages\\tidy3d_beta-1.8.0-py3.10.egg\\tidy3d\\web\\webapi.py\" target=\"_blank\"><span style=\"color: #7f7f7f; text-decoration-color: #7f7f7f\">webapi.py</span></a><span style=\"color: #7f7f7f; text-decoration-color: #7f7f7f\">:</span><a href=\"file://C:\\Users\\xinzh\\Anaconda3\\envs\\tidy3d_dev\\lib\\site-packages\\tidy3d_beta-1.8.0-py3.10.egg\\tidy3d\\web\\webapi.py#120\" target=\"_blank\"><span style=\"color: #7f7f7f; text-decoration-color: #7f7f7f\">120</span></a>\n",
       "</pre>\n"
      ],
      "text/plain": [
       "\u001b[2;36m[08:35:22]\u001b[0m\u001b[2;36m \u001b[0m\u001b[34mINFO    \u001b[0m Created task \u001b[32m'dbr_cavity'\u001b[0m with task_id \u001b[32m'd6734d50-8935-4d13-8f85-9b7d5a0bcd9b'\u001b[0m.    \u001b]8;id=387424;file://C:\\Users\\xinzh\\Anaconda3\\envs\\tidy3d_dev\\lib\\site-packages\\tidy3d_beta-1.8.0-py3.10.egg\\tidy3d\\web\\webapi.py\u001b\\\u001b[2mwebapi.py\u001b[0m\u001b]8;;\u001b\\\u001b[2m:\u001b[0m\u001b]8;id=542692;file://C:\\Users\\xinzh\\Anaconda3\\envs\\tidy3d_dev\\lib\\site-packages\\tidy3d_beta-1.8.0-py3.10.egg\\tidy3d\\web\\webapi.py#120\u001b\\\u001b[2m120\u001b[0m\u001b]8;;\u001b\\\n"
      ]
     },
     "metadata": {},
     "output_type": "display_data"
    },
    {
     "data": {
      "application/vnd.jupyter.widget-view+json": {
       "model_id": "85ff8af329044c169ad8cf37d10fbee3",
       "version_major": 2,
       "version_minor": 0
      },
      "text/plain": [
       "Output()"
      ]
     },
     "metadata": {},
     "output_type": "display_data"
    },
    {
     "data": {
      "text/html": [
       "<pre style=\"white-space:pre;overflow-x:auto;line-height:normal;font-family:Menlo,'DejaVu Sans Mono',consolas,'Courier New',monospace\"></pre>\n"
      ],
      "text/plain": []
     },
     "metadata": {},
     "output_type": "display_data"
    },
    {
     "data": {
      "text/html": [
       "<pre style=\"white-space:pre;overflow-x:auto;line-height:normal;font-family:Menlo,'DejaVu Sans Mono',consolas,'Courier New',monospace\">\n",
       "</pre>\n"
      ],
      "text/plain": [
       "\n"
      ]
     },
     "metadata": {},
     "output_type": "display_data"
    },
    {
     "data": {
      "text/html": [
       "<pre style=\"white-space:pre;overflow-x:auto;line-height:normal;font-family:Menlo,'DejaVu Sans Mono',consolas,'Courier New',monospace\"><span style=\"color: #7fbfbf; text-decoration-color: #7fbfbf\">[08:35:25] </span><span style=\"color: #000080; text-decoration-color: #000080\">INFO    </span> status = queued                                                                   <a href=\"file://C:\\Users\\xinzh\\Anaconda3\\envs\\tidy3d_dev\\lib\\site-packages\\tidy3d_beta-1.8.0-py3.10.egg\\tidy3d\\web\\webapi.py\" target=\"_blank\"><span style=\"color: #7f7f7f; text-decoration-color: #7f7f7f\">webapi.py</span></a><span style=\"color: #7f7f7f; text-decoration-color: #7f7f7f\">:</span><a href=\"file://C:\\Users\\xinzh\\Anaconda3\\envs\\tidy3d_dev\\lib\\site-packages\\tidy3d_beta-1.8.0-py3.10.egg\\tidy3d\\web\\webapi.py#257\" target=\"_blank\"><span style=\"color: #7f7f7f; text-decoration-color: #7f7f7f\">257</span></a>\n",
       "</pre>\n"
      ],
      "text/plain": [
       "\u001b[2;36m[08:35:25]\u001b[0m\u001b[2;36m \u001b[0m\u001b[34mINFO    \u001b[0m status = queued                                                                   \u001b]8;id=855697;file://C:\\Users\\xinzh\\Anaconda3\\envs\\tidy3d_dev\\lib\\site-packages\\tidy3d_beta-1.8.0-py3.10.egg\\tidy3d\\web\\webapi.py\u001b\\\u001b[2mwebapi.py\u001b[0m\u001b]8;;\u001b\\\u001b[2m:\u001b[0m\u001b]8;id=261742;file://C:\\Users\\xinzh\\Anaconda3\\envs\\tidy3d_dev\\lib\\site-packages\\tidy3d_beta-1.8.0-py3.10.egg\\tidy3d\\web\\webapi.py#257\u001b\\\u001b[2m257\u001b[0m\u001b]8;;\u001b\\\n"
      ]
     },
     "metadata": {},
     "output_type": "display_data"
    },
    {
     "data": {
      "application/vnd.jupyter.widget-view+json": {
       "model_id": "",
       "version_major": 2,
       "version_minor": 0
      },
      "text/plain": [
       "Output()"
      ]
     },
     "metadata": {},
     "output_type": "display_data"
    },
    {
     "data": {
      "text/html": [
       "<pre style=\"white-space:pre;overflow-x:auto;line-height:normal;font-family:Menlo,'DejaVu Sans Mono',consolas,'Courier New',monospace\"><span style=\"color: #7fbfbf; text-decoration-color: #7fbfbf\">[08:35:33] </span><span style=\"color: #000080; text-decoration-color: #000080\">INFO    </span> Maximum flex unit cost: <span style=\"color: #008080; text-decoration-color: #008080; font-weight: bold\">0.10</span>                                                      <a href=\"file://C:\\Users\\xinzh\\Anaconda3\\envs\\tidy3d_dev\\lib\\site-packages\\tidy3d_beta-1.8.0-py3.10.egg\\tidy3d\\web\\webapi.py\" target=\"_blank\"><span style=\"color: #7f7f7f; text-decoration-color: #7f7f7f\">webapi.py</span></a><span style=\"color: #7f7f7f; text-decoration-color: #7f7f7f\">:</span><a href=\"file://C:\\Users\\xinzh\\Anaconda3\\envs\\tidy3d_dev\\lib\\site-packages\\tidy3d_beta-1.8.0-py3.10.egg\\tidy3d\\web\\webapi.py#248\" target=\"_blank\"><span style=\"color: #7f7f7f; text-decoration-color: #7f7f7f\">248</span></a>\n",
       "</pre>\n"
      ],
      "text/plain": [
       "\u001b[2;36m[08:35:33]\u001b[0m\u001b[2;36m \u001b[0m\u001b[34mINFO    \u001b[0m Maximum flex unit cost: \u001b[1;36m0.10\u001b[0m                                                      \u001b]8;id=332347;file://C:\\Users\\xinzh\\Anaconda3\\envs\\tidy3d_dev\\lib\\site-packages\\tidy3d_beta-1.8.0-py3.10.egg\\tidy3d\\web\\webapi.py\u001b\\\u001b[2mwebapi.py\u001b[0m\u001b]8;;\u001b\\\u001b[2m:\u001b[0m\u001b]8;id=375955;file://C:\\Users\\xinzh\\Anaconda3\\envs\\tidy3d_dev\\lib\\site-packages\\tidy3d_beta-1.8.0-py3.10.egg\\tidy3d\\web\\webapi.py#248\u001b\\\u001b[2m248\u001b[0m\u001b]8;;\u001b\\\n"
      ]
     },
     "metadata": {},
     "output_type": "display_data"
    },
    {
     "data": {
      "text/html": [
       "<pre style=\"white-space:pre;overflow-x:auto;line-height:normal;font-family:Menlo,'DejaVu Sans Mono',consolas,'Courier New',monospace\"><span style=\"color: #7fbfbf; text-decoration-color: #7fbfbf\">[08:35:35] </span><span style=\"color: #000080; text-decoration-color: #000080\">INFO    </span> status = preprocess                                                               <a href=\"file://C:\\Users\\xinzh\\Anaconda3\\envs\\tidy3d_dev\\lib\\site-packages\\tidy3d_beta-1.8.0-py3.10.egg\\tidy3d\\web\\webapi.py\" target=\"_blank\"><span style=\"color: #7f7f7f; text-decoration-color: #7f7f7f\">webapi.py</span></a><span style=\"color: #7f7f7f; text-decoration-color: #7f7f7f\">:</span><a href=\"file://C:\\Users\\xinzh\\Anaconda3\\envs\\tidy3d_dev\\lib\\site-packages\\tidy3d_beta-1.8.0-py3.10.egg\\tidy3d\\web\\webapi.py#269\" target=\"_blank\"><span style=\"color: #7f7f7f; text-decoration-color: #7f7f7f\">269</span></a>\n",
       "</pre>\n"
      ],
      "text/plain": [
       "\u001b[2;36m[08:35:35]\u001b[0m\u001b[2;36m \u001b[0m\u001b[34mINFO    \u001b[0m status = preprocess                                                               \u001b]8;id=501201;file://C:\\Users\\xinzh\\Anaconda3\\envs\\tidy3d_dev\\lib\\site-packages\\tidy3d_beta-1.8.0-py3.10.egg\\tidy3d\\web\\webapi.py\u001b\\\u001b[2mwebapi.py\u001b[0m\u001b]8;;\u001b\\\u001b[2m:\u001b[0m\u001b]8;id=943858;file://C:\\Users\\xinzh\\Anaconda3\\envs\\tidy3d_dev\\lib\\site-packages\\tidy3d_beta-1.8.0-py3.10.egg\\tidy3d\\web\\webapi.py#269\u001b\\\u001b[2m269\u001b[0m\u001b]8;;\u001b\\\n"
      ]
     },
     "metadata": {},
     "output_type": "display_data"
    },
    {
     "data": {
      "text/html": [
       "<pre style=\"white-space:pre;overflow-x:auto;line-height:normal;font-family:Menlo,'DejaVu Sans Mono',consolas,'Courier New',monospace\"></pre>\n"
      ],
      "text/plain": []
     },
     "metadata": {},
     "output_type": "display_data"
    },
    {
     "data": {
      "text/html": [
       "<pre style=\"white-space:pre;overflow-x:auto;line-height:normal;font-family:Menlo,'DejaVu Sans Mono',consolas,'Courier New',monospace\"><span style=\"color: #7fbfbf; text-decoration-color: #7fbfbf\">[08:35:40] </span><span style=\"color: #000080; text-decoration-color: #000080\">INFO    </span> starting up solver                                                                <a href=\"file://C:\\Users\\xinzh\\Anaconda3\\envs\\tidy3d_dev\\lib\\site-packages\\tidy3d_beta-1.8.0-py3.10.egg\\tidy3d\\web\\webapi.py\" target=\"_blank\"><span style=\"color: #7f7f7f; text-decoration-color: #7f7f7f\">webapi.py</span></a><span style=\"color: #7f7f7f; text-decoration-color: #7f7f7f\">:</span><a href=\"file://C:\\Users\\xinzh\\Anaconda3\\envs\\tidy3d_dev\\lib\\site-packages\\tidy3d_beta-1.8.0-py3.10.egg\\tidy3d\\web\\webapi.py#273\" target=\"_blank\"><span style=\"color: #7f7f7f; text-decoration-color: #7f7f7f\">273</span></a>\n",
       "</pre>\n"
      ],
      "text/plain": [
       "\u001b[2;36m[08:35:40]\u001b[0m\u001b[2;36m \u001b[0m\u001b[34mINFO    \u001b[0m starting up solver                                                                \u001b]8;id=931007;file://C:\\Users\\xinzh\\Anaconda3\\envs\\tidy3d_dev\\lib\\site-packages\\tidy3d_beta-1.8.0-py3.10.egg\\tidy3d\\web\\webapi.py\u001b\\\u001b[2mwebapi.py\u001b[0m\u001b]8;;\u001b\\\u001b[2m:\u001b[0m\u001b]8;id=903988;file://C:\\Users\\xinzh\\Anaconda3\\envs\\tidy3d_dev\\lib\\site-packages\\tidy3d_beta-1.8.0-py3.10.egg\\tidy3d\\web\\webapi.py#273\u001b\\\u001b[2m273\u001b[0m\u001b]8;;\u001b\\\n"
      ]
     },
     "metadata": {},
     "output_type": "display_data"
    },
    {
     "data": {
      "text/html": [
       "<pre style=\"white-space:pre;overflow-x:auto;line-height:normal;font-family:Menlo,'DejaVu Sans Mono',consolas,'Courier New',monospace\"><span style=\"color: #7fbfbf; text-decoration-color: #7fbfbf\">[08:35:51] </span><span style=\"color: #000080; text-decoration-color: #000080\">INFO    </span> running solver                                                                    <a href=\"file://C:\\Users\\xinzh\\Anaconda3\\envs\\tidy3d_dev\\lib\\site-packages\\tidy3d_beta-1.8.0-py3.10.egg\\tidy3d\\web\\webapi.py\" target=\"_blank\"><span style=\"color: #7f7f7f; text-decoration-color: #7f7f7f\">webapi.py</span></a><span style=\"color: #7f7f7f; text-decoration-color: #7f7f7f\">:</span><a href=\"file://C:\\Users\\xinzh\\Anaconda3\\envs\\tidy3d_dev\\lib\\site-packages\\tidy3d_beta-1.8.0-py3.10.egg\\tidy3d\\web\\webapi.py#279\" target=\"_blank\"><span style=\"color: #7f7f7f; text-decoration-color: #7f7f7f\">279</span></a>\n",
       "</pre>\n"
      ],
      "text/plain": [
       "\u001b[2;36m[08:35:51]\u001b[0m\u001b[2;36m \u001b[0m\u001b[34mINFO    \u001b[0m running solver                                                                    \u001b]8;id=790033;file://C:\\Users\\xinzh\\Anaconda3\\envs\\tidy3d_dev\\lib\\site-packages\\tidy3d_beta-1.8.0-py3.10.egg\\tidy3d\\web\\webapi.py\u001b\\\u001b[2mwebapi.py\u001b[0m\u001b]8;;\u001b\\\u001b[2m:\u001b[0m\u001b]8;id=345648;file://C:\\Users\\xinzh\\Anaconda3\\envs\\tidy3d_dev\\lib\\site-packages\\tidy3d_beta-1.8.0-py3.10.egg\\tidy3d\\web\\webapi.py#279\u001b\\\u001b[2m279\u001b[0m\u001b]8;;\u001b\\\n"
      ]
     },
     "metadata": {},
     "output_type": "display_data"
    },
    {
     "data": {
      "application/vnd.jupyter.widget-view+json": {
       "model_id": "5e13ab82bfab4475a6f01d5d70dd39c9",
       "version_major": 2,
       "version_minor": 0
      },
      "text/plain": [
       "Output()"
      ]
     },
     "metadata": {},
     "output_type": "display_data"
    },
    {
     "data": {
      "text/html": [
       "<pre style=\"white-space:pre;overflow-x:auto;line-height:normal;font-family:Menlo,'DejaVu Sans Mono',consolas,'Courier New',monospace\"><span style=\"color: #7fbfbf; text-decoration-color: #7fbfbf\">[08:37:09] </span><span style=\"color: #000080; text-decoration-color: #000080\">INFO    </span> early shutoff detected, exiting.                                                  <a href=\"file://C:\\Users\\xinzh\\Anaconda3\\envs\\tidy3d_dev\\lib\\site-packages\\tidy3d_beta-1.8.0-py3.10.egg\\tidy3d\\web\\webapi.py\" target=\"_blank\"><span style=\"color: #7f7f7f; text-decoration-color: #7f7f7f\">webapi.py</span></a><span style=\"color: #7f7f7f; text-decoration-color: #7f7f7f\">:</span><a href=\"file://C:\\Users\\xinzh\\Anaconda3\\envs\\tidy3d_dev\\lib\\site-packages\\tidy3d_beta-1.8.0-py3.10.egg\\tidy3d\\web\\webapi.py#290\" target=\"_blank\"><span style=\"color: #7f7f7f; text-decoration-color: #7f7f7f\">290</span></a>\n",
       "</pre>\n"
      ],
      "text/plain": [
       "\u001b[2;36m[08:37:09]\u001b[0m\u001b[2;36m \u001b[0m\u001b[34mINFO    \u001b[0m early shutoff detected, exiting.                                                  \u001b]8;id=43705;file://C:\\Users\\xinzh\\Anaconda3\\envs\\tidy3d_dev\\lib\\site-packages\\tidy3d_beta-1.8.0-py3.10.egg\\tidy3d\\web\\webapi.py\u001b\\\u001b[2mwebapi.py\u001b[0m\u001b]8;;\u001b\\\u001b[2m:\u001b[0m\u001b]8;id=42961;file://C:\\Users\\xinzh\\Anaconda3\\envs\\tidy3d_dev\\lib\\site-packages\\tidy3d_beta-1.8.0-py3.10.egg\\tidy3d\\web\\webapi.py#290\u001b\\\u001b[2m290\u001b[0m\u001b]8;;\u001b\\\n"
      ]
     },
     "metadata": {},
     "output_type": "display_data"
    },
    {
     "data": {
      "text/html": [
       "<pre style=\"white-space:pre;overflow-x:auto;line-height:normal;font-family:Menlo,'DejaVu Sans Mono',consolas,'Courier New',monospace\"></pre>\n"
      ],
      "text/plain": []
     },
     "metadata": {},
     "output_type": "display_data"
    },
    {
     "data": {
      "text/html": [
       "<pre style=\"white-space:pre;overflow-x:auto;line-height:normal;font-family:Menlo,'DejaVu Sans Mono',consolas,'Courier New',monospace\">\n",
       "</pre>\n"
      ],
      "text/plain": [
       "\n"
      ]
     },
     "metadata": {},
     "output_type": "display_data"
    },
    {
     "data": {
      "text/html": [
       "<pre style=\"white-space:pre;overflow-x:auto;line-height:normal;font-family:Menlo,'DejaVu Sans Mono',consolas,'Courier New',monospace\"><span style=\"color: #7fbfbf; text-decoration-color: #7fbfbf\">           </span><span style=\"color: #000080; text-decoration-color: #000080\">INFO    </span> status = postprocess                                                              <a href=\"file://C:\\Users\\xinzh\\Anaconda3\\envs\\tidy3d_dev\\lib\\site-packages\\tidy3d_beta-1.8.0-py3.10.egg\\tidy3d\\web\\webapi.py\" target=\"_blank\"><span style=\"color: #7f7f7f; text-decoration-color: #7f7f7f\">webapi.py</span></a><span style=\"color: #7f7f7f; text-decoration-color: #7f7f7f\">:</span><a href=\"file://C:\\Users\\xinzh\\Anaconda3\\envs\\tidy3d_dev\\lib\\site-packages\\tidy3d_beta-1.8.0-py3.10.egg\\tidy3d\\web\\webapi.py#296\" target=\"_blank\"><span style=\"color: #7f7f7f; text-decoration-color: #7f7f7f\">296</span></a>\n",
       "</pre>\n"
      ],
      "text/plain": [
       "\u001b[2;36m          \u001b[0m\u001b[2;36m \u001b[0m\u001b[34mINFO    \u001b[0m status = postprocess                                                              \u001b]8;id=619422;file://C:\\Users\\xinzh\\Anaconda3\\envs\\tidy3d_dev\\lib\\site-packages\\tidy3d_beta-1.8.0-py3.10.egg\\tidy3d\\web\\webapi.py\u001b\\\u001b[2mwebapi.py\u001b[0m\u001b]8;;\u001b\\\u001b[2m:\u001b[0m\u001b]8;id=382087;file://C:\\Users\\xinzh\\Anaconda3\\envs\\tidy3d_dev\\lib\\site-packages\\tidy3d_beta-1.8.0-py3.10.egg\\tidy3d\\web\\webapi.py#296\u001b\\\u001b[2m296\u001b[0m\u001b]8;;\u001b\\\n"
      ]
     },
     "metadata": {},
     "output_type": "display_data"
    },
    {
     "data": {
      "application/vnd.jupyter.widget-view+json": {
       "model_id": "",
       "version_major": 2,
       "version_minor": 0
      },
      "text/plain": [
       "Output()"
      ]
     },
     "metadata": {},
     "output_type": "display_data"
    },
    {
     "data": {
      "text/html": [
       "<pre style=\"white-space:pre;overflow-x:auto;line-height:normal;font-family:Menlo,'DejaVu Sans Mono',consolas,'Courier New',monospace\"><span style=\"color: #7fbfbf; text-decoration-color: #7fbfbf\">[08:37:21] </span><span style=\"color: #000080; text-decoration-color: #000080\">INFO    </span> status = success                                                                  <a href=\"file://C:\\Users\\xinzh\\Anaconda3\\envs\\tidy3d_dev\\lib\\site-packages\\tidy3d_beta-1.8.0-py3.10.egg\\tidy3d\\web\\webapi.py\" target=\"_blank\"><span style=\"color: #7f7f7f; text-decoration-color: #7f7f7f\">webapi.py</span></a><span style=\"color: #7f7f7f; text-decoration-color: #7f7f7f\">:</span><a href=\"file://C:\\Users\\xinzh\\Anaconda3\\envs\\tidy3d_dev\\lib\\site-packages\\tidy3d_beta-1.8.0-py3.10.egg\\tidy3d\\web\\webapi.py#302\" target=\"_blank\"><span style=\"color: #7f7f7f; text-decoration-color: #7f7f7f\">302</span></a>\n",
       "</pre>\n"
      ],
      "text/plain": [
       "\u001b[2;36m[08:37:21]\u001b[0m\u001b[2;36m \u001b[0m\u001b[34mINFO    \u001b[0m status = success                                                                  \u001b]8;id=314559;file://C:\\Users\\xinzh\\Anaconda3\\envs\\tidy3d_dev\\lib\\site-packages\\tidy3d_beta-1.8.0-py3.10.egg\\tidy3d\\web\\webapi.py\u001b\\\u001b[2mwebapi.py\u001b[0m\u001b]8;;\u001b\\\u001b[2m:\u001b[0m\u001b]8;id=857137;file://C:\\Users\\xinzh\\Anaconda3\\envs\\tidy3d_dev\\lib\\site-packages\\tidy3d_beta-1.8.0-py3.10.egg\\tidy3d\\web\\webapi.py#302\u001b\\\u001b[2m302\u001b[0m\u001b]8;;\u001b\\\n"
      ]
     },
     "metadata": {},
     "output_type": "display_data"
    },
    {
     "data": {
      "text/html": [
       "<pre style=\"white-space:pre;overflow-x:auto;line-height:normal;font-family:Menlo,'DejaVu Sans Mono',consolas,'Courier New',monospace\"></pre>\n"
      ],
      "text/plain": []
     },
     "metadata": {},
     "output_type": "display_data"
    },
    {
     "data": {
      "text/html": [
       "<pre style=\"white-space:pre;overflow-x:auto;line-height:normal;font-family:Menlo,'DejaVu Sans Mono',consolas,'Courier New',monospace\"><span style=\"color: #7fbfbf; text-decoration-color: #7fbfbf\">[08:37:22] </span><span style=\"color: #000080; text-decoration-color: #000080\">INFO    </span> downloading file <span style=\"color: #008000; text-decoration-color: #008000\">\"output/monitor_data.hdf5\"</span> to <span style=\"color: #008000; text-decoration-color: #008000\">\"data/simulation.hdf5\"</span>             <a href=\"file://C:\\Users\\xinzh\\Anaconda3\\envs\\tidy3d_dev\\lib\\site-packages\\tidy3d_beta-1.8.0-py3.10.egg\\tidy3d\\web\\webapi.py\" target=\"_blank\"><span style=\"color: #7f7f7f; text-decoration-color: #7f7f7f\">webapi.py</span></a><span style=\"color: #7f7f7f; text-decoration-color: #7f7f7f\">:</span><a href=\"file://C:\\Users\\xinzh\\Anaconda3\\envs\\tidy3d_dev\\lib\\site-packages\\tidy3d_beta-1.8.0-py3.10.egg\\tidy3d\\web\\webapi.py#585\" target=\"_blank\"><span style=\"color: #7f7f7f; text-decoration-color: #7f7f7f\">585</span></a>\n",
       "</pre>\n"
      ],
      "text/plain": [
       "\u001b[2;36m[08:37:22]\u001b[0m\u001b[2;36m \u001b[0m\u001b[34mINFO    \u001b[0m downloading file \u001b[32m\"output/monitor_data.hdf5\"\u001b[0m to \u001b[32m\"data/simulation.hdf5\"\u001b[0m             \u001b]8;id=594461;file://C:\\Users\\xinzh\\Anaconda3\\envs\\tidy3d_dev\\lib\\site-packages\\tidy3d_beta-1.8.0-py3.10.egg\\tidy3d\\web\\webapi.py\u001b\\\u001b[2mwebapi.py\u001b[0m\u001b]8;;\u001b\\\u001b[2m:\u001b[0m\u001b]8;id=330337;file://C:\\Users\\xinzh\\Anaconda3\\envs\\tidy3d_dev\\lib\\site-packages\\tidy3d_beta-1.8.0-py3.10.egg\\tidy3d\\web\\webapi.py#585\u001b\\\u001b[2m585\u001b[0m\u001b]8;;\u001b\\\n"
      ]
     },
     "metadata": {},
     "output_type": "display_data"
    },
    {
     "data": {
      "application/vnd.jupyter.widget-view+json": {
       "model_id": "58cef516176043df8f25cf31d8b3f492",
       "version_major": 2,
       "version_minor": 0
      },
      "text/plain": [
       "Output()"
      ]
     },
     "metadata": {},
     "output_type": "display_data"
    },
    {
     "data": {
      "text/html": [
       "<pre style=\"white-space:pre;overflow-x:auto;line-height:normal;font-family:Menlo,'DejaVu Sans Mono',consolas,'Courier New',monospace\"></pre>\n"
      ],
      "text/plain": []
     },
     "metadata": {},
     "output_type": "display_data"
    },
    {
     "data": {
      "text/html": [
       "<pre style=\"white-space:pre;overflow-x:auto;line-height:normal;font-family:Menlo,'DejaVu Sans Mono',consolas,'Courier New',monospace\">\n",
       "</pre>\n"
      ],
      "text/plain": [
       "\n"
      ]
     },
     "metadata": {},
     "output_type": "display_data"
    },
    {
     "data": {
      "text/html": [
       "<pre style=\"white-space:pre;overflow-x:auto;line-height:normal;font-family:Menlo,'DejaVu Sans Mono',consolas,'Courier New',monospace\"><span style=\"color: #7fbfbf; text-decoration-color: #7fbfbf\">[08:37:24] </span><span style=\"color: #000080; text-decoration-color: #000080\">INFO    </span> loading SimulationData from data/simulation.hdf5                                  <a href=\"file://C:\\Users\\xinzh\\Anaconda3\\envs\\tidy3d_dev\\lib\\site-packages\\tidy3d_beta-1.8.0-py3.10.egg\\tidy3d\\web\\webapi.py\" target=\"_blank\"><span style=\"color: #7f7f7f; text-decoration-color: #7f7f7f\">webapi.py</span></a><span style=\"color: #7f7f7f; text-decoration-color: #7f7f7f\">:</span><a href=\"file://C:\\Users\\xinzh\\Anaconda3\\envs\\tidy3d_dev\\lib\\site-packages\\tidy3d_beta-1.8.0-py3.10.egg\\tidy3d\\web\\webapi.py#407\" target=\"_blank\"><span style=\"color: #7f7f7f; text-decoration-color: #7f7f7f\">407</span></a>\n",
       "</pre>\n"
      ],
      "text/plain": [
       "\u001b[2;36m[08:37:24]\u001b[0m\u001b[2;36m \u001b[0m\u001b[34mINFO    \u001b[0m loading SimulationData from data/simulation.hdf5                                  \u001b]8;id=876799;file://C:\\Users\\xinzh\\Anaconda3\\envs\\tidy3d_dev\\lib\\site-packages\\tidy3d_beta-1.8.0-py3.10.egg\\tidy3d\\web\\webapi.py\u001b\\\u001b[2mwebapi.py\u001b[0m\u001b]8;;\u001b\\\u001b[2m:\u001b[0m\u001b]8;id=202970;file://C:\\Users\\xinzh\\Anaconda3\\envs\\tidy3d_dev\\lib\\site-packages\\tidy3d_beta-1.8.0-py3.10.egg\\tidy3d\\web\\webapi.py#407\u001b\\\u001b[2m407\u001b[0m\u001b]8;;\u001b\\\n"
      ]
     },
     "metadata": {},
     "output_type": "display_data"
    }
   ],
   "source": [
    "sim_data = web.run(sim, task_name='dbr_cavity', path='data/simulation.hdf5')"
   ]
  },
  {
   "cell_type": "markdown",
   "id": "293b98dc",
   "metadata": {},
   "source": [
    "### Result Visualization "
   ]
  },
  {
   "cell_type": "markdown",
   "id": "2ff29699",
   "metadata": {},
   "source": [
    "Once the simulation is complete, we can plot the reflectance spectra. A sharp dip at the central frequency due to the cavity resonance mode is observed, in agreement with our expectation."
   ]
  },
  {
   "cell_type": "code",
   "execution_count": 13,
   "id": "7e966b70",
   "metadata": {},
   "outputs": [
    {
     "data": {
      "image/png": "[encoded data removed]"
     },
     "metadata": {},
     "output_type": "display_data"
    }
   ],
   "source": [
    "R = sim_data['R'].flux  #extracting reflection data from the flux monitor\n",
    "plt.plot(freqs/freq0, R)\n",
    "plt.xlabel('Normalized frequency')\n",
    "plt.ylabel('Reflectance')"
   ]
  },
  {
   "cell_type": "markdown",
   "id": "5da1c2f8",
   "metadata": {},
   "source": [
    "Finally, we visualize the frequency domain field distribution. Since the simulation is in 1D, we can not plot the field as a 2D false color image. Instead, we can plot it as a curve. The incident plane wave is polarized in the x direction, so we will look at the x component of the field. \n",
    "\n",
    "At the resonance frequency, the field distribution shows a strong localization at the cavity. On the contrary, when the frequency is slightly off-resonance, the field is exponentially decaying, leading to strong reflection. "
   ]
  },
  {
   "cell_type": "code",
   "execution_count": 14,
   "id": "5304a252",
   "metadata": {},
   "outputs": [
    {
     "data": {
      "image/png": "[encoded data removed]"
     },
     "metadata": {},
     "output_type": "display_data"
    }
   ],
   "source": [
    "f, (ax1, ax2) = plt.subplots(1, 2, tight_layout=True, figsize=(8, 4))\n",
    "\n",
    "#plot the field distribution at the resonance frequency\n",
    "np.squeeze(sim_data['field'].Ex.sel(f=freq0)).abs.plot(ax=ax1)\n",
    "ax1.set_title('|Ex(x, y)| at $f_0$')\n",
    "\n",
    "#plot the field distribution at the off-resonance frequency\n",
    "np.squeeze(sim_data['field'].Ex.sel(f=0.9*freq0)).abs.plot(ax=ax2)\n",
    "ax2.set_title('|Ex(x, y)| at $0.9f_0$')"
   ]
  },
  {
   "cell_type": "code",
   "execution_count": null,
   "id": "bfb8b98d",
   "metadata": {},
   "outputs": [],
   "source": []
  }
 ],
 "metadata": {
  "kernelspec": {
   "display_name": "Python 3 (ipykernel)",
   "language": "python",
   "name": "python3"
  },
  "language_info": {
   "codemirror_mode": {
    "name": "ipython",
    "version": 3
   },
   "file_extension": ".py",
   "mimetype": "text/x-python",
   "name": "python",
   "nbconvert_exporter": "python",
   "pygments_lexer": "ipython3",
   "version": "3.10.0"
  }
 },
 "nbformat": 4,
 "nbformat_minor": 5
}
