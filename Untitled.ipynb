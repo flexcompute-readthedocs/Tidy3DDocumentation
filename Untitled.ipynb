{
 "cells": [
  {
   "cell_type": "code",
   "execution_count": 1,
   "id": "8491f3b3-9b57-40f6-835d-a9f8bcd631a0",
   "metadata": {},
   "outputs": [],
   "source": [
    "import autograd as ag\n",
    "import autograd.numpy as np"
   ]
  },
  {
   "cell_type": "code",
   "execution_count": 23,
   "id": "e9bcacd9-6868-408b-8a32-4ce2c2c2814f",
   "metadata": {},
   "outputs": [
    {
     "name": "stdout",
     "output_type": "stream",
     "text": [
      "Autograd ArrayBox with value (19713+13484j)\n",
      "(27660+17130j)\n",
      "0j\n"
     ]
    }
   ],
   "source": [
    "x0 = np.array([5.0 - 2j, 3.0 + 1j])\n",
    "x0 = 5.0 - 2j\n",
    "eps0 = eps(x0)\n",
    "\n",
    "def make_complex(x, y):\n",
    "    return x + 1j\n",
    "\n",
    "def split_complex(z):\n",
    "    return np.real(z), np.imag(z)\n",
    "\n",
    "def J(eps):\n",
    "    return (2 + 1j) * eps ** 3\n",
    "\n",
    "def J_(eps_r, eps_i):\n",
    "    eps = make_complex(eps_r, eps_i)\n",
    "    return J(eps)\n",
    "\n",
    "def J_r(eps_r, eps_i):\n",
    "    val = J_(eps_r, eps_i)\n",
    "    return np.real(val)\n",
    "\n",
    "def J_i(eps_r, eps_i):\n",
    "    val = J_(eps_r, eps_i)\n",
    "    return np.imag(val)\n",
    "    \n",
    "def eps(x):\n",
    "    return x**2 + 2j * x\n",
    "\n",
    "def eps_(x_r, x_i):\n",
    "    x = make_complex(x_r, x_i)\n",
    "    return eps(x)\n",
    "\n",
    "def eps_r(x_r, x_i):\n",
    "    val = eps_(x_r, x_i)\n",
    "    return np.real(val)\n",
    "\n",
    "def eps_i(x_r, x_i):\n",
    "    val = eps_(x_r, x_i)\n",
    "    return np.imag(val)\n",
    "\n",
    "def Jx(x):\n",
    "    eps_val = eps(x)\n",
    "    return J(eps_val)\n",
    "\n",
    "def Jx_(x_r, x_i):\n",
    "    eps_val = eps_(x_r, x_i)\n",
    "    eps_val_r, eps_val_i = split_complex(eps_val)\n",
    "    return J_(eps_val_r, eps_val_i)\n",
    "\n",
    "def Jx_r(x_r, x_i):\n",
    "    val = Jx_(x_r, x_i)\n",
    "    return np.real(val)\n",
    "\n",
    "def Jx_i(x_r, x_i):\n",
    "    val = Jx_(x_r, x_i)\n",
    "    print(val)\n",
    "    return np.imag(val)\n",
    "    \n",
    "dJ_dx = ag.holomorphic_grad(Jx)\n",
    "dJ_deps = ag.holomorphic_grad(J)\n",
    "deps_dx = ag.holomorphic_grad(eps)\n",
    "\n",
    "x0_r, x0_i = split_complex(x0)\n",
    "dJ_dx_rr, dJ_dx_ri = ag.elementwise_grad(Jx_r, argnum=(0,1))(x0_r, x0_i)\n",
    "dJ_dx_ir, dJ_dx_ii = ag.elementwise_grad(Jx_i, argnum=(0,1))(x0_r, x0_i)\n",
    "\n",
    "print(dJ_dx_rr + 1j * dJ_dx_ir)\n",
    "print(dJ_dx_ii + 1j * dJ_dx_ri)"
   ]
  },
  {
   "cell_type": "code",
   "execution_count": 24,
   "id": "ffc5c6d7-a357-4c97-b583-8f72f66d382e",
   "metadata": {},
   "outputs": [],
   "source": [
    "eps0 = eps(x0)\n",
    "\n",
    "def aux_fn(x):\n",
    "    return dJ_deps(eps0) * eps(x)"
   ]
  },
  {
   "cell_type": "code",
   "execution_count": 25,
   "id": "f51ab080-0a75-4cae-9634-9dc57564eb97",
   "metadata": {},
   "outputs": [],
   "source": [
    "g = dJ_deps(eps0)"
   ]
  },
  {
   "cell_type": "code",
   "execution_count": 26,
   "id": "3b21241f-65fb-4eca-b870-debb4f14ed91",
   "metadata": {},
   "outputs": [],
   "source": [
    "deps_dx2 = ag.holomorphic_grad(aux_fn)(x0)\n"
   ]
  },
  {
   "cell_type": "code",
   "execution_count": 27,
   "id": "7500d9a3-605c-40f0-8df9-aa343ff1fdb2",
   "metadata": {},
   "outputs": [
    {
     "name": "stdout",
     "output_type": "stream",
     "text": [
      "(43650-23550j)\n",
      "(43650-23550j)\n"
     ]
    }
   ],
   "source": [
    "print(dJ_dx(x0))\n",
    "print(deps_dx2)\n",
    "# print(deps_dx3)\n"
   ]
  },
  {
   "cell_type": "code",
   "execution_count": null,
   "id": "f0ff927e-b13d-4469-b2ba-fa758a5daf2a",
   "metadata": {},
   "outputs": [],
   "source": []
  },
  {
   "cell_type": "code",
   "execution_count": null,
   "id": "698ed4a3-f49e-46dc-b818-dcb10c6136f5",
   "metadata": {},
   "outputs": [],
   "source": []
  }
 ],
 "metadata": {
  "kernelspec": {
   "display_name": "Python 3 (ipykernel)",
   "language": "python",
   "name": "python3"
  },
  "language_info": {
   "codemirror_mode": {
    "name": "ipython",
    "version": 3
   },
   "file_extension": ".py",
   "mimetype": "text/x-python",
   "name": "python",
   "nbconvert_exporter": "python",
   "pygments_lexer": "ipython3",
   "version": "3.11.9"
  }
 },
 "nbformat": 4,
 "nbformat_minor": 5
}
