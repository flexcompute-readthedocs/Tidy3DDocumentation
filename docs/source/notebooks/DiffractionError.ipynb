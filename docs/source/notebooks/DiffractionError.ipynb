{
 "cells": [
  {
   "cell_type": "code",
   "execution_count": 19,
   "id": "4d12f133-a8d8-4e59-938f-fca4d2e2fa0b",
   "metadata": {},
   "outputs": [
    {
     "data": {
      "text/html": [
       "<pre style=\"white-space:pre;overflow-x:auto;line-height:normal;font-family:Menlo,'DejaVu Sans Mono',consolas,'Courier New',monospace\"><span style=\"color: #008000; text-decoration-color: #008000\">🚶 </span> <span style=\"color: #008000; text-decoration-color: #008000; font-weight: bold\">Starting 'error'...</span>\n",
       "</pre>\n"
      ],
      "text/plain": [
       "\u001b[32m🚶 \u001b[0m \u001b[1;32mStarting 'error'...\u001b[0m\n"
      ]
     },
     "metadata": {},
     "output_type": "display_data"
    },
    {
     "data": {
      "text/html": [
       "<pre style=\"white-space:pre;overflow-x:auto;line-height:normal;font-family:Menlo,'DejaVu Sans Mono',consolas,'Courier New',monospace\"><span style=\"color: #7fbfbf; text-decoration-color: #7fbfbf\">[09:36:11] </span><span style=\"color: #800000; text-decoration-color: #800000; font-weight: bold\">ERROR   </span> Error running task!                                                                   <a href=\"file:///Users/twhughes/Documents/Flexcompute/tidy3d-docs/docs/source/notebooks/../../../tidy3d/tidy3d/log.py\" target=\"_blank\"><span style=\"color: #7f7f7f; text-decoration-color: #7f7f7f\">log.py</span></a><span style=\"color: #7f7f7f; text-decoration-color: #7f7f7f\">:</span><a href=\"file:///Users/twhughes/Documents/Flexcompute/tidy3d-docs/docs/source/notebooks/../../../tidy3d/tidy3d/log.py#33\" target=\"_blank\"><span style=\"color: #7f7f7f; text-decoration-color: #7f7f7f\">33</span></a>\n",
       "</pre>\n"
      ],
      "text/plain": [
       "\u001b[2;36m[09:36:11]\u001b[0m\u001b[2;36m \u001b[0m\u001b[1;31mERROR   \u001b[0m Error running task!                                                                   \u001b]8;id=650294;file:///Users/twhughes/Documents/Flexcompute/tidy3d-docs/docs/source/notebooks/../../../tidy3d/tidy3d/log.py\u001b\\\u001b[2mlog.py\u001b[0m\u001b]8;;\u001b\\\u001b[2m:\u001b[0m\u001b]8;id=215988;file:///Users/twhughes/Documents/Flexcompute/tidy3d-docs/docs/source/notebooks/../../../tidy3d/tidy3d/log.py#33\u001b\\\u001b[2m33\u001b[0m\u001b]8;;\u001b\\\n"
      ]
     },
     "metadata": {},
     "output_type": "display_data"
    },
    {
     "data": {
      "text/html": [
       "<pre style=\"white-space:pre;overflow-x:auto;line-height:normal;font-family:Menlo,'DejaVu Sans Mono',consolas,'Courier New',monospace\"></pre>\n"
      ],
      "text/plain": []
     },
     "metadata": {},
     "output_type": "display_data"
    },
    {
     "ename": "WebError",
     "evalue": "(WebError(...), 'Error running task!')",
     "output_type": "error",
     "traceback": [
      "\u001b[0;31m---------------------------------------------------------------------------\u001b[0m",
      "\u001b[0;31mWebError\u001b[0m                                  Traceback (most recent call last)",
      "Cell \u001b[0;32mIn [19], line 90\u001b[0m\n\u001b[1;32m     76\u001b[0m     \u001b[38;5;28;01mreturn\u001b[39;00m td\u001b[38;5;241m.\u001b[39mSimulation(\n\u001b[1;32m     77\u001b[0m         size\u001b[38;5;241m=\u001b[39msim_size,\n\u001b[1;32m     78\u001b[0m         grid_spec\u001b[38;5;241m=\u001b[39mtd\u001b[38;5;241m.\u001b[39mGridSpec\u001b[38;5;241m.\u001b[39muniform(dl\u001b[38;5;241m=\u001b[39mdl),\n\u001b[0;32m   (...)\u001b[0m\n\u001b[1;32m     86\u001b[0m         shutoff\u001b[38;5;241m=\u001b[39m\u001b[38;5;241m1e-8\u001b[39m,\n\u001b[1;32m     87\u001b[0m     )\n\u001b[1;32m     89\u001b[0m sim \u001b[38;5;241m=\u001b[39m make_sim()\n\u001b[0;32m---> 90\u001b[0m sim_data \u001b[38;5;241m=\u001b[39m \u001b[43mweb\u001b[49m\u001b[38;5;241;43m.\u001b[39;49m\u001b[43mrun\u001b[49m\u001b[43m(\u001b[49m\u001b[43msim\u001b[49m\u001b[43m,\u001b[49m\u001b[43m \u001b[49m\u001b[43mtask_name\u001b[49m\u001b[38;5;241;43m=\u001b[39;49m\u001b[38;5;124;43m'\u001b[39;49m\u001b[38;5;124;43merror\u001b[39;49m\u001b[38;5;124;43m'\u001b[39;49m\u001b[43m)\u001b[49m\n",
      "File \u001b[0;32m~/Documents/Flexcompute/tidy3d-docs/docs/source/notebooks/../../../tidy3d/tidy3d/web/webapi.py:71\u001b[0m, in \u001b[0;36mrun\u001b[0;34m(simulation, task_name, folder_name, path, callback_url)\u001b[0m\n\u001b[1;32m     64\u001b[0m task_id \u001b[38;5;241m=\u001b[39m upload(\n\u001b[1;32m     65\u001b[0m     simulation\u001b[38;5;241m=\u001b[39msimulation,\n\u001b[1;32m     66\u001b[0m     task_name\u001b[38;5;241m=\u001b[39mtask_name,\n\u001b[1;32m     67\u001b[0m     folder_name\u001b[38;5;241m=\u001b[39mfolder_name,\n\u001b[1;32m     68\u001b[0m     callback_url\u001b[38;5;241m=\u001b[39mcallback_url,\n\u001b[1;32m     69\u001b[0m )\n\u001b[1;32m     70\u001b[0m start(task_id)\n\u001b[0;32m---> 71\u001b[0m \u001b[43mmonitor\u001b[49m\u001b[43m(\u001b[49m\u001b[43mtask_id\u001b[49m\u001b[43m)\u001b[49m\n\u001b[1;32m     72\u001b[0m \u001b[38;5;28;01mreturn\u001b[39;00m load(task_id\u001b[38;5;241m=\u001b[39mtask_id, path\u001b[38;5;241m=\u001b[39mpath)\n",
      "File \u001b[0;32m~/Documents/Flexcompute/tidy3d-docs/docs/source/notebooks/../../../tidy3d/tidy3d/web/webapi.py:265\u001b[0m, in \u001b[0;36mmonitor\u001b[0;34m(task_id)\u001b[0m\n\u001b[1;32m    263\u001b[0m \u001b[38;5;28;01mwith\u001b[39;00m console\u001b[38;5;241m.\u001b[39mstatus(\u001b[38;5;124mf\u001b[39m\u001b[38;5;124m\"\u001b[39m\u001b[38;5;124m[bold green]Starting \u001b[39m\u001b[38;5;124m'\u001b[39m\u001b[38;5;132;01m{\u001b[39;00mtask_name\u001b[38;5;132;01m}\u001b[39;00m\u001b[38;5;124m'\u001b[39m\u001b[38;5;124m...\u001b[39m\u001b[38;5;124m\"\u001b[39m, spinner\u001b[38;5;241m=\u001b[39m\u001b[38;5;124m\"\u001b[39m\u001b[38;5;124mrunner\u001b[39m\u001b[38;5;124m\"\u001b[39m):\n\u001b[1;32m    264\u001b[0m     \u001b[38;5;28;01mwhile\u001b[39;00m status \u001b[38;5;129;01mnot\u001b[39;00m \u001b[38;5;129;01min\u001b[39;00m break_statuses \u001b[38;5;129;01mand\u001b[39;00m status \u001b[38;5;241m!=\u001b[39m \u001b[38;5;124m\"\u001b[39m\u001b[38;5;124mrunning\u001b[39m\u001b[38;5;124m\"\u001b[39m:\n\u001b[0;32m--> 265\u001b[0m         new_status, show_cost \u001b[38;5;241m=\u001b[39m \u001b[43mget_status\u001b[49m\u001b[43m(\u001b[49m\u001b[43mshow_cost\u001b[49m\u001b[38;5;241;43m=\u001b[39;49m\u001b[43mshow_cost\u001b[49m\u001b[43m)\u001b[49m\n\u001b[1;32m    266\u001b[0m         \u001b[38;5;28;01mif\u001b[39;00m new_status \u001b[38;5;241m!=\u001b[39m status:\n\u001b[1;32m    267\u001b[0m             status \u001b[38;5;241m=\u001b[39m new_status\n",
      "File \u001b[0;32m~/Documents/Flexcompute/tidy3d-docs/docs/source/notebooks/../../../tidy3d/tidy3d/web/webapi.py:243\u001b[0m, in \u001b[0;36mmonitor.<locals>.get_status\u001b[0;34m(show_cost)\u001b[0m\n\u001b[1;32m    241\u001b[0m     \u001b[38;5;28;01mreturn\u001b[39;00m \u001b[38;5;124m\"\u001b[39m\u001b[38;5;124msuccess\u001b[39m\u001b[38;5;124m\"\u001b[39m\n\u001b[1;32m    242\u001b[0m \u001b[38;5;28;01mif\u001b[39;00m status \u001b[38;5;241m==\u001b[39m \u001b[38;5;124m\"\u001b[39m\u001b[38;5;124merror\u001b[39m\u001b[38;5;124m\"\u001b[39m:\n\u001b[0;32m--> 243\u001b[0m     \u001b[38;5;28;01mraise\u001b[39;00m WebError(\u001b[38;5;124m\"\u001b[39m\u001b[38;5;124mError running task!\u001b[39m\u001b[38;5;124m\"\u001b[39m)\n\u001b[1;32m    245\u001b[0m \u001b[38;5;66;03m# log the maximum flex unit cost\u001b[39;00m\n\u001b[1;32m    246\u001b[0m est_flex_unit \u001b[38;5;241m=\u001b[39m task_info\u001b[38;5;241m.\u001b[39mestFlexUnit\n",
      "\u001b[0;31mWebError\u001b[0m: (WebError(...), 'Error running task!')"
     ]
    }
   ],
   "source": [
    "import numpy as np\n",
    "from typing import Tuple, List\n",
    "import matplotlib.pylab as plt\n",
    "import tidy3d as td\n",
    "import tidy3d.web as web\n",
    "\n",
    "freq0 = 2e14\n",
    "freqs = [freq0]\n",
    "wavelength = td.C_0 / freq0\n",
    "bck_eps = 1.0**2\n",
    "slab_eps0 = [4.0, 3.0, 2.0, 4.0]\n",
    "slab_ds0 = [1.4, 2.1, 1.5, 4.25]\n",
    "theta = np.pi/5\n",
    "dl = 0.005\n",
    "\n",
    "def make_sim(slab_eps=slab_eps0, slab_ds=slab_ds0) -> td.Simulation:\n",
    "\n",
    "    # frequency setup\n",
    "    wavelength = td.C_0 / freq0\n",
    "    fwidth = freq0 / 10.0\n",
    "    freqs = [freq0]\n",
    "\n",
    "    # geometry setup\n",
    "    bck_medium = td.Medium(permittivity=bck_eps)\n",
    "\n",
    "    space_above = 2\n",
    "    space_below = 2\n",
    "\n",
    "    length_x = 0.2\n",
    "    center_x = 0.0\n",
    "    length_z = space_below + sum(slab_ds0) + space_above\n",
    "    sim_size = (length_x, length_x, length_z)\n",
    "\n",
    "    # make structures\n",
    "    slabs = []\n",
    "    z_start = -length_z/2 + space_below\n",
    "    for (d, eps) in zip(slab_ds, slab_eps):\n",
    "        slab = td.Structure(\n",
    "            geometry=td.Box(center=[0, 0, z_start + d / 2], size=[td.inf, td.inf, d]),\n",
    "            medium=td.Medium(permittivity=eps),\n",
    "        )\n",
    "        slabs.append(slab)\n",
    "        z_start += d\n",
    "\n",
    "    # source setup\n",
    "    gaussian = td.GaussianPulse(freq0=freq0, fwidth=fwidth)\n",
    "    src_z = -length_z / 2 + 3 * space_below / 4\n",
    "\n",
    "    source = td.PlaneWave(\n",
    "        center=(center_x, 0, src_z),\n",
    "        size=(td.inf, td.inf, 0),\n",
    "        source_time=gaussian,\n",
    "        direction=\"+\",\n",
    "        angle_theta=theta,\n",
    "        angle_phi=0,\n",
    "        pol_angle=0,\n",
    "    )\n",
    "\n",
    "    # boundaries\n",
    "    boundary_x = td.Boundary.bloch_from_source(\n",
    "        source=source, domain_size=sim_size[0], axis=0, medium=bck_medium\n",
    "    )\n",
    "    boundary_spec = td.BoundarySpec(x=boundary_x, y=td.Boundary.periodic(), z=td.Boundary.pml(num_layers=40))\n",
    "\n",
    "    # monitors\n",
    "    mnt_z = length_z / 2 - wavelength\n",
    "    monitor_1 = td.DiffractionMonitor(\n",
    "        center=[0.0, 0.0, mnt_z],\n",
    "        size=[td.inf, td.inf, 0],\n",
    "        freqs=freqs,\n",
    "        name=\"diffraction\",\n",
    "        normal_dir=\"+\",\n",
    "    )\n",
    "\n",
    "    # make simulation\n",
    "    return td.Simulation(\n",
    "        size=sim_size,\n",
    "        grid_spec=td.GridSpec.uniform(dl=dl),\n",
    "        # structures=slabs,\n",
    "        sources=[source],\n",
    "        # monitors=[monitor_1],\n",
    "        run_time=50 / fwidth,\n",
    "        boundary_spec=boundary_spec,\n",
    "        medium=bck_medium,\n",
    "        subpixel=True,\n",
    "        shutoff=1e-8,\n",
    "    )\n",
    "\n",
    "sim = make_sim()\n",
    "sim_data = web.run(sim, task_name='error')"
   ]
  },
  {
   "cell_type": "code",
   "execution_count": null,
   "id": "bc0dc456-e742-4299-ae5e-22daa49e3997",
   "metadata": {},
   "outputs": [],
   "source": [
    "sim = make_sim()\n",
    "f, ax = plt.subplots(1, 1, figsize=(10, 10))\n",
    "sim.plot(y=0, ax=ax)\n",
    "plt.show()"
   ]
  },
  {
   "cell_type": "code",
   "execution_count": null,
   "id": "26a05e2a-0118-4c16-aae5-fa9260a00bb1",
   "metadata": {},
   "outputs": [],
   "source": [
    "sim_data = web.run(sim, task_name='error')"
   ]
  },
  {
   "cell_type": "code",
   "execution_count": null,
   "id": "08223a8d-edec-4fc3-bdb9-30d149f7f2bd",
   "metadata": {},
   "outputs": [],
   "source": []
  }
 ],
 "metadata": {
  "kernelspec": {
   "display_name": "Python 3 (ipykernel)",
   "language": "python",
   "name": "python3"
  },
  "language_info": {
   "codemirror_mode": {
    "name": "ipython",
    "version": 3
   },
   "file_extension": ".py",
   "mimetype": "text/x-python",
   "name": "python",
   "nbconvert_exporter": "python",
   "pygments_lexer": "ipython3",
   "version": "3.9.9"
  }
 },
 "nbformat": 4,
 "nbformat_minor": 5
}
