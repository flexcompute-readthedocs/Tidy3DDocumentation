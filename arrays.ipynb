{
  "nbformat": 4,
  "nbformat_minor": 0,
  "metadata": {
    "colab": {
      "provenance": [],
      "authorship_tag": "ABX9TyNHLKYIcr6i9Dwy1gniJSox",
      "include_colab_link": true
    },
    "kernelspec": {
      "name": "python3",
      "display_name": "Python 3"
    },
    "language_info": {
      "name": "python"
    }
  },
  "cells": [
    {
      "cell_type": "markdown",
      "metadata": {
        "id": "view-in-github",
        "colab_type": "text"
      },
      "source": [
        "<a href=\"https://colab.research.google.com/github/flexcompute-readthedocs/tidy3d-docs/blob/alec%2Fperiodic-structures/arrays.ipynb\" target=\"_parent\"><img src=\"https://colab.research.google.com/assets/colab-badge.svg\" alt=\"Open In Colab\"/></a>"
      ]
    },
    {
      "cell_type": "code",
      "execution_count": null,
      "metadata": {
        "colab": {
          "base_uri": "https://localhost:8080/"
        },
        "id": "tnxO7HHUdbE0",
        "outputId": "14fcda88-c074-4bec-dd33-3a2edc41b60a"
      },
      "outputs": [
        {
          "output_type": "stream",
          "name": "stdout",
          "text": [
            "Requirement already satisfied: tidy3d in /usr/local/lib/python3.10/dist-packages (2.3.0)\n",
            "Requirement already satisfied: scipy in /usr/local/lib/python3.10/dist-packages (from tidy3d) (1.10.1)\n",
            "Requirement already satisfied: pyroots>=0.5.0 in /usr/local/lib/python3.10/dist-packages (from tidy3d) (0.5.0)\n",
            "Requirement already satisfied: xarray>=0.16.2 in /usr/local/lib/python3.10/dist-packages (from tidy3d) (2022.12.0)\n",
            "Requirement already satisfied: importlib-metadata>=6.0.0 in /usr/local/lib/python3.10/dist-packages (from tidy3d) (6.8.0)\n",
            "Requirement already satisfied: h5netcdf==1.0.2 in /usr/local/lib/python3.10/dist-packages (from tidy3d) (1.0.2)\n",
            "Requirement already satisfied: h5py>=3.0.0 in /usr/local/lib/python3.10/dist-packages (from tidy3d) (3.8.0)\n",
            "Requirement already satisfied: rich<12.6.0 in /usr/local/lib/python3.10/dist-packages (from tidy3d) (12.5.1)\n",
            "Requirement already satisfied: matplotlib in /usr/local/lib/python3.10/dist-packages (from tidy3d) (3.7.1)\n",
            "Requirement already satisfied: shapely>=2.0 in /usr/local/lib/python3.10/dist-packages (from tidy3d) (2.0.1)\n",
            "Requirement already satisfied: pydantic<2.0.0,>=1.10.0 in /usr/local/lib/python3.10/dist-packages (from tidy3d) (1.10.11)\n",
            "Requirement already satisfied: PyYAML in /usr/local/lib/python3.10/dist-packages (from tidy3d) (6.0)\n",
            "Requirement already satisfied: dask in /usr/local/lib/python3.10/dist-packages (from tidy3d) (2022.12.1)\n",
            "Requirement already satisfied: toml in /usr/local/lib/python3.10/dist-packages (from tidy3d) (0.10.2)\n",
            "Requirement already satisfied: boto3==1.23.1 in /usr/local/lib/python3.10/dist-packages (from tidy3d) (1.23.1)\n",
            "Requirement already satisfied: requests in /usr/local/lib/python3.10/dist-packages (from tidy3d) (2.27.1)\n",
            "Requirement already satisfied: pyjwt in /usr/local/lib/python3.10/dist-packages (from tidy3d) (2.7.0)\n",
            "Requirement already satisfied: click==8.0.3 in /usr/local/lib/python3.10/dist-packages (from tidy3d) (8.0.3)\n",
            "Requirement already satisfied: responses in /usr/local/lib/python3.10/dist-packages (from tidy3d) (0.23.1)\n",
            "Requirement already satisfied: botocore<1.27.0,>=1.26.1 in /usr/local/lib/python3.10/dist-packages (from boto3==1.23.1->tidy3d) (1.26.10)\n",
            "Requirement already satisfied: jmespath<2.0.0,>=0.7.1 in /usr/local/lib/python3.10/dist-packages (from boto3==1.23.1->tidy3d) (1.0.1)\n",
            "Requirement already satisfied: s3transfer<0.6.0,>=0.5.0 in /usr/local/lib/python3.10/dist-packages (from boto3==1.23.1->tidy3d) (0.5.2)\n",
            "Requirement already satisfied: packaging in /usr/local/lib/python3.10/dist-packages (from h5netcdf==1.0.2->tidy3d) (23.1)\n",
            "Requirement already satisfied: numpy>=1.14.5 in /usr/local/lib/python3.10/dist-packages (from h5py>=3.0.0->tidy3d) (1.22.4)\n",
            "Requirement already satisfied: zipp>=0.5 in /usr/local/lib/python3.10/dist-packages (from importlib-metadata>=6.0.0->tidy3d) (3.15.0)\n",
            "Requirement already satisfied: typing-extensions>=4.2.0 in /usr/local/lib/python3.10/dist-packages (from pydantic<2.0.0,>=1.10.0->tidy3d) (4.7.1)\n",
            "Requirement already satisfied: commonmark<0.10.0,>=0.9.0 in /usr/local/lib/python3.10/dist-packages (from rich<12.6.0->tidy3d) (0.9.1)\n",
            "Requirement already satisfied: pygments<3.0.0,>=2.6.0 in /usr/local/lib/python3.10/dist-packages (from rich<12.6.0->tidy3d) (2.14.0)\n",
            "Requirement already satisfied: pandas>=1.3 in /usr/local/lib/python3.10/dist-packages (from xarray>=0.16.2->tidy3d) (1.5.3)\n",
            "Requirement already satisfied: cloudpickle>=1.1.1 in /usr/local/lib/python3.10/dist-packages (from dask->tidy3d) (2.2.1)\n",
            "Requirement already satisfied: fsspec>=0.6.0 in /usr/local/lib/python3.10/dist-packages (from dask->tidy3d) (2023.6.0)\n",
            "Requirement already satisfied: partd>=0.3.10 in /usr/local/lib/python3.10/dist-packages (from dask->tidy3d) (1.4.0)\n",
            "Requirement already satisfied: toolz>=0.8.2 in /usr/local/lib/python3.10/dist-packages (from dask->tidy3d) (0.12.0)\n",
            "Requirement already satisfied: contourpy>=1.0.1 in /usr/local/lib/python3.10/dist-packages (from matplotlib->tidy3d) (1.1.0)\n",
            "Requirement already satisfied: cycler>=0.10 in /usr/local/lib/python3.10/dist-packages (from matplotlib->tidy3d) (0.11.0)\n",
            "Requirement already satisfied: fonttools>=4.22.0 in /usr/local/lib/python3.10/dist-packages (from matplotlib->tidy3d) (4.40.0)\n",
            "Requirement already satisfied: kiwisolver>=1.0.1 in /usr/local/lib/python3.10/dist-packages (from matplotlib->tidy3d) (1.4.4)\n",
            "Requirement already satisfied: pillow>=6.2.0 in /usr/local/lib/python3.10/dist-packages (from matplotlib->tidy3d) (8.4.0)\n",
            "Requirement already satisfied: pyparsing>=2.3.1 in /usr/local/lib/python3.10/dist-packages (from matplotlib->tidy3d) (3.1.0)\n",
            "Requirement already satisfied: python-dateutil>=2.7 in /usr/local/lib/python3.10/dist-packages (from matplotlib->tidy3d) (2.8.2)\n",
            "Requirement already satisfied: urllib3<1.27,>=1.21.1 in /usr/local/lib/python3.10/dist-packages (from requests->tidy3d) (1.26.16)\n",
            "Requirement already satisfied: certifi>=2017.4.17 in /usr/local/lib/python3.10/dist-packages (from requests->tidy3d) (2023.5.7)\n",
            "Requirement already satisfied: charset-normalizer~=2.0.0 in /usr/local/lib/python3.10/dist-packages (from requests->tidy3d) (2.0.12)\n",
            "Requirement already satisfied: idna<4,>=2.5 in /usr/local/lib/python3.10/dist-packages (from requests->tidy3d) (3.4)\n",
            "Requirement already satisfied: types-PyYAML in /usr/local/lib/python3.10/dist-packages (from responses->tidy3d) (6.0.12.10)\n",
            "Requirement already satisfied: pytz>=2020.1 in /usr/local/lib/python3.10/dist-packages (from pandas>=1.3->xarray>=0.16.2->tidy3d) (2022.7.1)\n",
            "Requirement already satisfied: locket in /usr/local/lib/python3.10/dist-packages (from partd>=0.3.10->dask->tidy3d) (1.0.0)\n",
            "Requirement already satisfied: six>=1.5 in /usr/local/lib/python3.10/dist-packages (from python-dateutil>=2.7->matplotlib->tidy3d) (1.16.0)\n",
            "Configured successfully.\n"
          ]
        }
      ],
      "source": [
        "!pip install tidy3d\n",
        "import tidy3d.web as web\n",
        "web.configure(\"ZMFCYeAdFMUW0nfCPjWkqZ9F8CRcJipBU96yDbZbB25ZsEF9\")\n",
        "import tidy3d as td\n",
        "import numpy as np"
      ]
    },
    {
      "cell_type": "code",
      "source": [
        "web.test()"
      ],
      "metadata": {
        "colab": {
          "base_uri": "https://localhost:8080/",
          "height": 33
        },
        "id": "qMSiawupIoVP",
        "outputId": "d17c2a07-ae4d-4e48-f467-e60d8775b094"
      },
      "execution_count": null,
      "outputs": [
        {
          "output_type": "display_data",
          "data": {
            "text/plain": [
              "\u001b[2;36m[16:04:16]\u001b[0m\u001b[2;36m \u001b[0mAuthentication configured successfully!                                                    \u001b]8;id=822426;file:///usr/local/lib/python3.10/dist-packages/tidy3d/web/webapi.py\u001b\\\u001b[2mwebapi.py\u001b[0m\u001b]8;;\u001b\\\u001b[2m:\u001b[0m\u001b]8;id=40377;file:///usr/local/lib/python3.10/dist-packages/tidy3d/web/webapi.py#785\u001b\\\u001b[2m785\u001b[0m\u001b]8;;\u001b\\\n"
            ],
            "text/html": [
              "<pre style=\"white-space:pre;overflow-x:auto;line-height:normal;font-family:Menlo,'DejaVu Sans Mono',consolas,'Courier New',monospace\"><span style=\"color: #7fbfbf; text-decoration-color: #7fbfbf\">[16:04:16] </span>Authentication configured successfully!                                                    <a href=\"file:///usr/local/lib/python3.10/dist-packages/tidy3d/web/webapi.py\" target=\"_blank\"><span style=\"color: #7f7f7f; text-decoration-color: #7f7f7f\">webapi.py</span></a><span style=\"color: #7f7f7f; text-decoration-color: #7f7f7f\">:</span><a href=\"file:///usr/local/lib/python3.10/dist-packages/tidy3d/web/webapi.py#785\" target=\"_blank\"><span style=\"color: #7f7f7f; text-decoration-color: #7f7f7f\">785</span></a>\n",
              "</pre>\n"
            ]
          },
          "metadata": {}
        }
      ]
    },
    {
      "cell_type": "code",
      "source": [
        "!pip install gdstk"
      ],
      "metadata": {
        "colab": {
          "base_uri": "https://localhost:8080/"
        },
        "id": "k70tJ0weIr_i",
        "outputId": "ea9ca650-552e-41d6-881c-f2d4084a4a5a"
      },
      "execution_count": null,
      "outputs": [
        {
          "output_type": "stream",
          "name": "stdout",
          "text": [
            "Requirement already satisfied: gdstk in /usr/local/lib/python3.10/dist-packages (0.9.42)\n",
            "Requirement already satisfied: numpy in /usr/local/lib/python3.10/dist-packages (from gdstk) (1.22.4)\n"
          ]
        }
      ]
    },
    {
      "cell_type": "code",
      "source": [
        "import matplotlib.pyplot as plt"
      ],
      "metadata": {
        "id": "iNwY_if9xyVA"
      },
      "execution_count": null,
      "outputs": []
    },
    {
      "cell_type": "markdown",
      "source": [
        "## Respective function formats for the above structures starting here:"
      ],
      "metadata": {
        "id": "gzvHTEawADvt"
      }
    },
    {
      "cell_type": "markdown",
      "source": [
        "Create square array of cylinders:"
      ],
      "metadata": {
        "id": "HrAk1UZCSJra"
      }
    },
    {
      "cell_type": "code",
      "source": [
        "import tidy3d as td\n",
        "import numpy as np\n",
        "from tidy3d_lambda import entrypoint\n",
        "\n",
        "# This script object defines a square array of cylinders and\n",
        "# returns the tidy3d structure of it.\n",
        "\n",
        "@entrypoint\n",
        "def generate_object(param):\n",
        "  # parameters\n",
        "  #------------------------------------------------------------\n",
        "  x0=2 # x coordinate of center of the array (um)\n",
        "  y0=-3 # y coordinate of center of the array (um)\n",
        "  z0=0 # z coordinate of center of the array (um)\n",
        "  R=3 # radius of the circular holes (um)\n",
        "  hole_spacing_x=8 # distance between centers of holes in x direction (um)\n",
        "  hole_spacing_y=8 # distance between centers of holes in y direction (um)\n",
        "  n_x=3 # number of holes in x direction\n",
        "  n_y=7 # number of holes in y direction\n",
        "  height=5 # height of array\n",
        "  sidewall_angle=0 # angle slant of cylinders\n",
        "  # medium of the holes\n",
        "  medium=td.material_library[\"cSi\"][\"Li1993_293K\"]\n",
        "  axis=2\n",
        "  reference_plane = 'bottom'\n",
        "\n",
        "  cylinder_group = []\n",
        "\n",
        "  start_x, start_y = x0 + hole_spacing_x*(1-n_x)/2, y0 + hole_spacing_y*(1-n_y)/2\n",
        "  for i in range(0, n_x):\n",
        "    for j in range(0, n_y):\n",
        "      c = td.Cylinder(axis=axis,\n",
        "                      sidewall_angle=sidewall_angle,\n",
        "                      reference_plane=reference_plane,\n",
        "                      radius=R,\n",
        "                      center=(start_x+i*hole_spacing_x, start_y+j*hole_spacing_y, z0),\n",
        "                      length=height)\n",
        "      cylinder_group.append(c)\n",
        "\n",
        "\n",
        "  structure = td.Structure(geometry=td.GeometryGroup(geometries=cylinder_group), medium=medium)\n",
        "\n",
        "\n",
        "  return [structure]"
      ],
      "metadata": {
        "colab": {
          "base_uri": "https://localhost:8080/",
          "height": 373
        },
        "id": "jz8-gPg3xpVe",
        "outputId": "cee822ad-cf8d-4f84-81c4-745459689524"
      },
      "execution_count": 30,
      "outputs": [
        {
          "output_type": "error",
          "ename": "ModuleNotFoundError",
          "evalue": "ignored",
          "traceback": [
            "\u001b[0;31m---------------------------------------------------------------------------\u001b[0m",
            "\u001b[0;31mModuleNotFoundError\u001b[0m                       Traceback (most recent call last)",
            "\u001b[0;32m<ipython-input-30-2a20daec2bb5>\u001b[0m in \u001b[0;36m<cell line: 3>\u001b[0;34m()\u001b[0m\n\u001b[1;32m      1\u001b[0m \u001b[0;32mimport\u001b[0m \u001b[0mtidy3d\u001b[0m \u001b[0;32mas\u001b[0m \u001b[0mtd\u001b[0m\u001b[0;34m\u001b[0m\u001b[0;34m\u001b[0m\u001b[0m\n\u001b[1;32m      2\u001b[0m \u001b[0;32mimport\u001b[0m \u001b[0mnumpy\u001b[0m \u001b[0;32mas\u001b[0m \u001b[0mnp\u001b[0m\u001b[0;34m\u001b[0m\u001b[0;34m\u001b[0m\u001b[0m\n\u001b[0;32m----> 3\u001b[0;31m \u001b[0;32mfrom\u001b[0m \u001b[0mtidy3d_lambda\u001b[0m \u001b[0;32mimport\u001b[0m \u001b[0mentrypoint\u001b[0m\u001b[0;34m\u001b[0m\u001b[0;34m\u001b[0m\u001b[0m\n\u001b[0m\u001b[1;32m      4\u001b[0m \u001b[0;34m\u001b[0m\u001b[0m\n\u001b[1;32m      5\u001b[0m \u001b[0;31m# This script object defines a square array of cylinders and\u001b[0m\u001b[0;34m\u001b[0m\u001b[0;34m\u001b[0m\u001b[0m\n",
            "\u001b[0;31mModuleNotFoundError\u001b[0m: No module named 'tidy3d_lambda'",
            "",
            "\u001b[0;31m---------------------------------------------------------------------------\u001b[0;32m\nNOTE: If your import is failing due to a missing package, you can\nmanually install dependencies using either !pip or !apt.\n\nTo view examples of installing some common dependencies, click the\n\"Open Examples\" button below.\n\u001b[0;31m---------------------------------------------------------------------------\u001b[0m\n"
          ],
          "errorDetails": {
            "actions": [
              {
                "action": "open_url",
                "actionText": "Open Examples",
                "url": "/notebooks/snippets/importing_libraries.ipynb"
              }
            ]
          }
        }
      ]
    },
    {
      "cell_type": "markdown",
      "source": [
        "Create slab with square array of holes:"
      ],
      "metadata": {
        "id": "UG-CDw0zSM5j"
      }
    },
    {
      "cell_type": "code",
      "source": [
        "import tidy3d as td\n",
        "import numpy as np\n",
        "from tidy3d_lambda import entrypoint\n",
        "\n",
        "# This script object defines a square array of holes in a slab and\n",
        "# returns the tidy3d structure of it.\n",
        "\n",
        "@entrypoint\n",
        "def generate_object(param):\n",
        "  # parameters\n",
        "  #------------------------------------------------------------\n",
        "  x0=0 # x coordinate of center of the array (um)\n",
        "  y0=0 # y coordinate of center of the array (um)\n",
        "  z0=0 # z coordinate of center of the array (um)\n",
        "  R=3 # radius of the circular holes (um)\n",
        "  hole_spacing_x=8 # distance between centers of holes in x direction (um)\n",
        "  hole_spacing_y=8 # distance between centers of holes in y direction (um)\n",
        "  n_x=6 # number of holes in x direction\n",
        "  n_y=2 # number of holes in y direction\n",
        "  height=5 # height of array\n",
        "  # medium of the holes\n",
        "  hole_medium=td.material_library[\"cSi\"][\"Li1993_293K\"]\n",
        "  slab_medium=td.Medium(permittivity=1.003**2) #td.material_library[\"cSi\"][\"Li1993_293K\"]\n",
        "  reference_plane = 'bottom'\n",
        "  sidewall_angle=0 # angle slant of cylinders. Add compensation for the box geometry if != 0?\n",
        "  axis=2\n",
        "\n",
        "  # could use gdstk.Reference to save mem at first but will it end up making a difference?\n",
        "  start_x, start_y = x0 - hole_spacing_x*(n_x-1)/2, y0 - hole_spacing_y*(n_y-1)/2\n",
        "\n",
        "  box = td.Box(center=(x0, y0, z0), size=(hole_spacing_x*n_x, hole_spacing_y*n_y, height))\n",
        "  structures = [td.Structure(geometry=box, medium=slab_medium)]\n",
        "  cylinders = []\n",
        "\n",
        "  for i in range(0, n_x):\n",
        "    for j in range(0, n_y):\n",
        "      c = td.Cylinder(axis=axis,\n",
        "                      sidewall_angle=sidewall_angle,\n",
        "                      reference_plane=reference_plane,\n",
        "                      radius=R,\n",
        "                      center=(start_x+i*hole_spacing_x, start_y+j*hole_spacing_y, z0),\n",
        "                      length=height)\n",
        "      cylinders.append(c)\n",
        "\n",
        "  cylinders_structure = td.Structure(geometry=td.GeometryGroup(geometries=cylinders), medium=hole_medium)\n",
        "\n",
        "  structures.append(cylinders_structure)\n",
        "\n",
        "  return structures"
      ],
      "metadata": {
        "colab": {
          "base_uri": "https://localhost:8080/",
          "height": 373
        },
        "id": "SCTLr4wRHgnG",
        "outputId": "2f3b22a8-446d-433e-ce88-389d604612c3"
      },
      "execution_count": 32,
      "outputs": [
        {
          "output_type": "error",
          "ename": "ModuleNotFoundError",
          "evalue": "ignored",
          "traceback": [
            "\u001b[0;31m---------------------------------------------------------------------------\u001b[0m",
            "\u001b[0;31mModuleNotFoundError\u001b[0m                       Traceback (most recent call last)",
            "\u001b[0;32m<ipython-input-32-97cee7249fd6>\u001b[0m in \u001b[0;36m<cell line: 3>\u001b[0;34m()\u001b[0m\n\u001b[1;32m      1\u001b[0m \u001b[0;32mimport\u001b[0m \u001b[0mtidy3d\u001b[0m \u001b[0;32mas\u001b[0m \u001b[0mtd\u001b[0m\u001b[0;34m\u001b[0m\u001b[0;34m\u001b[0m\u001b[0m\n\u001b[1;32m      2\u001b[0m \u001b[0;32mimport\u001b[0m \u001b[0mnumpy\u001b[0m \u001b[0;32mas\u001b[0m \u001b[0mnp\u001b[0m\u001b[0;34m\u001b[0m\u001b[0;34m\u001b[0m\u001b[0m\n\u001b[0;32m----> 3\u001b[0;31m \u001b[0;32mfrom\u001b[0m \u001b[0mtidy3d_lambda\u001b[0m \u001b[0;32mimport\u001b[0m \u001b[0mentrypoint\u001b[0m\u001b[0;34m\u001b[0m\u001b[0;34m\u001b[0m\u001b[0m\n\u001b[0m\u001b[1;32m      4\u001b[0m \u001b[0;34m\u001b[0m\u001b[0m\n\u001b[1;32m      5\u001b[0m \u001b[0;31m# This script object defines a square array of holes in a slab and\u001b[0m\u001b[0;34m\u001b[0m\u001b[0;34m\u001b[0m\u001b[0m\n",
            "\u001b[0;31mModuleNotFoundError\u001b[0m: No module named 'tidy3d_lambda'",
            "",
            "\u001b[0;31m---------------------------------------------------------------------------\u001b[0;32m\nNOTE: If your import is failing due to a missing package, you can\nmanually install dependencies using either !pip or !apt.\n\nTo view examples of installing some common dependencies, click the\n\"Open Examples\" button below.\n\u001b[0;31m---------------------------------------------------------------------------\u001b[0m\n"
          ],
          "errorDetails": {
            "actions": [
              {
                "action": "open_url",
                "actionText": "Open Examples",
                "url": "/notebooks/snippets/importing_libraries.ipynb"
              }
            ]
          }
        }
      ]
    },
    {
      "cell_type": "markdown",
      "source": [
        "Create a slab with a hexagonal array of holes:"
      ],
      "metadata": {
        "id": "linFX0nZSkWV"
      }
    },
    {
      "cell_type": "code",
      "source": [
        "\n",
        "import tidy3d as td\n",
        "import numpy as np\n",
        "from tidy3d_lambda import entrypoint\n",
        "\n",
        "# This script object defines a hexagonal array of holes in a slab and\n",
        "# returns the tidy3d structure of it.\n",
        "\n",
        "@entrypoint\n",
        "def generate_object(param):\n",
        "  # parameters\n",
        "  #------------------------------------------------------------\n",
        "  x0=0 # x coordinate of center of the array (um)\n",
        "  y0=0 # y coordinate of center of the array (um)\n",
        "  z0=0 # z coordinate of center of the array (um)\n",
        "  R=3 # radius of the circular holes (um)\n",
        "  hole_spacing_x=8 # distance between centers of holes in x direction (um)\n",
        "  hole_spacing_y=8 # distance between centers of holes in y direction (um)\n",
        "  n_x=6 # number of holes in x direction\n",
        "  n_y=5 # number of holes in y direction\n",
        "  height=5 # height of array\n",
        "  # medium of the holes\n",
        "  hole_medium=td.material_library[\"cSi\"][\"Li1993_293K\"]\n",
        "  slab_medium=td.Medium(permittivity=1.003**2) #td.material_library[\"cSi\"][\"Li1993_293K\"]\n",
        "  reference_plane = 'bottom'\n",
        "  sidewall_angle=0 # angle slant of cylinders. Add compensation for the box geometry if != 0?\n",
        "  axis=2\n",
        "\n",
        "\n",
        "  # define geometry for slab\n",
        "  x_slab_length, y_slab_length = hole_spacing_x*(n_x+0.5), hole_spacing_y*n_y\n",
        "  start_x, start_y = x0 - x_slab_length/2 + hole_spacing_x/2, y0 - y_slab_length/2 + hole_spacing_y/2\n",
        "  box = td.Box(center=(x0, y0, z0), size=(x_slab_length, y_slab_length, height))\n",
        "\n",
        "  structures = [td.Structure(geometry=box, medium=slab_medium)]\n",
        "\n",
        "  cylinders = []\n",
        "  for i in range(0, n_x):\n",
        "    for j in range(0, n_y):\n",
        "      c = td.Cylinder(axis=axis,\n",
        "                      sidewall_angle=sidewall_angle,\n",
        "                      reference_plane=reference_plane,\n",
        "                      radius=R,\n",
        "                      center=(start_x+(i+(j%2)*0.5)*hole_spacing_x, start_y+j*hole_spacing_y, z0),\n",
        "                      length=height)\n",
        "      cylinders.append(c)\n",
        "\n",
        "  cylinders_structure = td.Structure(geometry=td.GeometryGroup(geometries=cylinders), medium=hole_medium)\n",
        "\n",
        "  structures.append(cylinders_structure)\n",
        "\n",
        "  return structures"
      ],
      "metadata": {
        "colab": {
          "base_uri": "https://localhost:8080/",
          "height": 373
        },
        "id": "h65euGEOaTED",
        "outputId": "eee8ce38-8ae4-41ed-d773-5c4c302e9f1e"
      },
      "execution_count": 33,
      "outputs": [
        {
          "output_type": "error",
          "ename": "ModuleNotFoundError",
          "evalue": "ignored",
          "traceback": [
            "\u001b[0;31m---------------------------------------------------------------------------\u001b[0m",
            "\u001b[0;31mModuleNotFoundError\u001b[0m                       Traceback (most recent call last)",
            "\u001b[0;32m<ipython-input-33-d8b332b3644e>\u001b[0m in \u001b[0;36m<cell line: 3>\u001b[0;34m()\u001b[0m\n\u001b[1;32m      1\u001b[0m \u001b[0;32mimport\u001b[0m \u001b[0mtidy3d\u001b[0m \u001b[0;32mas\u001b[0m \u001b[0mtd\u001b[0m\u001b[0;34m\u001b[0m\u001b[0;34m\u001b[0m\u001b[0m\n\u001b[1;32m      2\u001b[0m \u001b[0;32mimport\u001b[0m \u001b[0mnumpy\u001b[0m \u001b[0;32mas\u001b[0m \u001b[0mnp\u001b[0m\u001b[0;34m\u001b[0m\u001b[0;34m\u001b[0m\u001b[0m\n\u001b[0;32m----> 3\u001b[0;31m \u001b[0;32mimport\u001b[0m \u001b[0mgdstk\u001b[0m\u001b[0;34m\u001b[0m\u001b[0;34m\u001b[0m\u001b[0m\n\u001b[0m\u001b[1;32m      4\u001b[0m \u001b[0;32mfrom\u001b[0m \u001b[0mtidy3d_lambda\u001b[0m \u001b[0;32mimport\u001b[0m \u001b[0mentrypoint\u001b[0m\u001b[0;34m\u001b[0m\u001b[0;34m\u001b[0m\u001b[0m\n\u001b[1;32m      5\u001b[0m \u001b[0;34m\u001b[0m\u001b[0m\n",
            "\u001b[0;31mModuleNotFoundError\u001b[0m: No module named 'gdstk'",
            "",
            "\u001b[0;31m---------------------------------------------------------------------------\u001b[0;32m\nNOTE: If your import is failing due to a missing package, you can\nmanually install dependencies using either !pip or !apt.\n\nTo view examples of installing some common dependencies, click the\n\"Open Examples\" button below.\n\u001b[0;31m---------------------------------------------------------------------------\u001b[0m\n"
          ],
          "errorDetails": {
            "actions": [
              {
                "action": "open_url",
                "actionText": "Open Examples",
                "url": "/notebooks/snippets/importing_libraries.ipynb"
              }
            ]
          }
        }
      ]
    },
    {
      "cell_type": "markdown",
      "source": [
        "Create a hexagonal array of cylinders:"
      ],
      "metadata": {
        "id": "DS9_LTA2Sn85"
      }
    },
    {
      "cell_type": "code",
      "source": [
        "\n",
        "import tidy3d as td\n",
        "import numpy as np\n",
        "from tidy3d_lambda import entrypoint\n",
        "\n",
        "# This script object defines a hexagonal array of cylinders and\n",
        "# returns the tidy3d structure of it.\n",
        "\n",
        "@entrypoint\n",
        "def generate_object(param):\n",
        "  # parameters\n",
        "  #------------------------------------------------------------\n",
        "  x0=0 # x coordinate of center of the array (um)\n",
        "  y0=0 # y coordinate of center of the array (um)\n",
        "  z0=0 # z coordinate of center of the array (um)\n",
        "  R=3 # radius of the circular holes (um)\n",
        "  hole_spacing_x=8 # distance between centers of holes in x direction (um)\n",
        "  hole_spacing_y=8 # distance between centers of holes in y direction (um)\n",
        "  n_x=6 # number of holes in x direction\n",
        "  n_y=5 # number of holes in y direction\n",
        "  height=5 # height of array\n",
        "  # medium of the holes\n",
        "  medium=td.material_library[\"cSi\"][\"Li1993_293K\"]\n",
        "  reference_plane = 'bottom'\n",
        "  sidewall_angle=0 # angle slant of cylinders. Add compensation for the box geometry if != 0?\n",
        "  axis=2\n",
        "\n",
        "\n",
        "  x_slab_length, y_slab_length = hole_spacing_x*(n_x+0.5), hole_spacing_y*n_y\n",
        "  start_x, start_y = x0 - x_slab_length/2 + hole_spacing_x/2, y0 - y_slab_length/2 + hole_spacing_y/2\n",
        "\n",
        "  cylinders = []\n",
        "\n",
        "  for i in range(0, n_x):\n",
        "    for j in range(0, n_y):\n",
        "      c = td.Cylinder(axis=axis,\n",
        "                      sidewall_angle=sidewall_angle,\n",
        "                      reference_plane=reference_plane,\n",
        "                      radius=R,\n",
        "                      center=(start_x+(i+(j%2)*0.5)*hole_spacing_x, start_y+j*hole_spacing_y, z0),\n",
        "                      length=height)\n",
        "      cylinders.append(c)\n",
        "\n",
        "  structure = td.Structure(geometry=td.GeometryGroup(geometries=cylinders), medium=medium)\n",
        "\n",
        "\n",
        "  return [structure]"
      ],
      "metadata": {
        "colab": {
          "base_uri": "https://localhost:8080/",
          "height": 373
        },
        "id": "BFWNPeeZem0L",
        "outputId": "2380336b-8b90-4cd8-a44f-b4dde18e00b5"
      },
      "execution_count": 34,
      "outputs": [
        {
          "output_type": "error",
          "ename": "ModuleNotFoundError",
          "evalue": "ignored",
          "traceback": [
            "\u001b[0;31m---------------------------------------------------------------------------\u001b[0m",
            "\u001b[0;31mModuleNotFoundError\u001b[0m                       Traceback (most recent call last)",
            "\u001b[0;32m<ipython-input-34-4f5d923d9e79>\u001b[0m in \u001b[0;36m<cell line: 3>\u001b[0;34m()\u001b[0m\n\u001b[1;32m      1\u001b[0m \u001b[0;32mimport\u001b[0m \u001b[0mtidy3d\u001b[0m \u001b[0;32mas\u001b[0m \u001b[0mtd\u001b[0m\u001b[0;34m\u001b[0m\u001b[0;34m\u001b[0m\u001b[0m\n\u001b[1;32m      2\u001b[0m \u001b[0;32mimport\u001b[0m \u001b[0mnumpy\u001b[0m \u001b[0;32mas\u001b[0m \u001b[0mnp\u001b[0m\u001b[0;34m\u001b[0m\u001b[0;34m\u001b[0m\u001b[0m\n\u001b[0;32m----> 3\u001b[0;31m \u001b[0;32mimport\u001b[0m \u001b[0mgdstk\u001b[0m\u001b[0;34m\u001b[0m\u001b[0;34m\u001b[0m\u001b[0m\n\u001b[0m\u001b[1;32m      4\u001b[0m \u001b[0;32mfrom\u001b[0m \u001b[0mtidy3d_lambda\u001b[0m \u001b[0;32mimport\u001b[0m \u001b[0mentrypoint\u001b[0m\u001b[0;34m\u001b[0m\u001b[0;34m\u001b[0m\u001b[0m\n\u001b[1;32m      5\u001b[0m \u001b[0;34m\u001b[0m\u001b[0m\n",
            "\u001b[0;31mModuleNotFoundError\u001b[0m: No module named 'gdstk'",
            "",
            "\u001b[0;31m---------------------------------------------------------------------------\u001b[0;32m\nNOTE: If your import is failing due to a missing package, you can\nmanually install dependencies using either !pip or !apt.\n\nTo view examples of installing some common dependencies, click the\n\"Open Examples\" button below.\n\u001b[0;31m---------------------------------------------------------------------------\u001b[0m\n"
          ],
          "errorDetails": {
            "actions": [
              {
                "action": "open_url",
                "actionText": "Open Examples",
                "url": "/notebooks/snippets/importing_libraries.ipynb"
              }
            ]
          }
        }
      ]
    },
    {
      "cell_type": "markdown",
      "source": [
        "Create a rectangular grating:"
      ],
      "metadata": {
        "id": "-bhhqGPJTAPw"
      }
    },
    {
      "cell_type": "code",
      "source": [
        "import tidy3d as td\n",
        "import numpy as np\n",
        "from tidy3d_lambda import entrypoint\n",
        "\n",
        "# This script object defines a rectangular grating and\n",
        "# returns the tidy3d structure of it.\n",
        "\n",
        "@entrypoint\n",
        "def generate_object(param):\n",
        "  # parameters\n",
        "  #------------------------------------------------------------\n",
        "  x0=0 # x coordinate of center of the grating (um)\n",
        "  y0=0 # y coordinate of center of the grating (um)\n",
        "  z0=0 # z coordinate of center of the grating (um)\n",
        "  tooth_width=4 # width of each grating tooth (um)\n",
        "  tooth_height=2.5 # height of each tooth (um)\n",
        "  spacing=3 # spacing between teeth (um) # NOTE: different from the dimensions given in Tom's diagram\n",
        "  base_height=6 # height of underlying base (um)\n",
        "  thickness=10 # width of underlying base (um)\n",
        "  tooth_number=6 # number of teeth in grating\n",
        "  sidewall_angle=0 # angle of slant\n",
        "  # medium of the grating\n",
        "  medium=td.material_library[\"cSi\"][\"Li1993_293K\"]\n",
        "  axis=2\n",
        "  reference_plane = 'bottom'\n",
        "\n",
        "  x_length, z_length = (tooth_width+spacing)*tooth_number-spacing, tooth_height+base_height\n",
        "  start_x, start_z = x0-x_length/2, z0+z_length/2\n",
        "\n",
        "  # create list of points as vertices for polyslab\n",
        "  points = [(start_x, start_z), (start_x+tooth_width, start_z)]\n",
        "  prevPoint = points[-1]\n",
        "  # adding points for teeth\n",
        "  for i in range(0, tooth_number-1):\n",
        "    points.append((prevPoint[0], prevPoint[1]-tooth_height))\n",
        "    points.append((prevPoint[0]+spacing, prevPoint[1]-tooth_height))\n",
        "    points.append((prevPoint[0]+spacing, prevPoint[1]))\n",
        "    prevPoint = (prevPoint[0]+spacing+tooth_width, prevPoint[1])\n",
        "    points.append(prevPoint)\n",
        "  points.append((prevPoint[0], prevPoint[1]-z_length))\n",
        "  points.append((prevPoint[0]-x_length, prevPoint[1]-z_length))\n",
        "\n",
        "  grating = td.PolySlab(vertices=points,\n",
        "                        axis=axis,\n",
        "                        slab_bounds=(-thickness/2, thickness/2),\n",
        "                        sidewall_angle=sidewall_angle,\n",
        "                        reference_plane=reference_plane\n",
        "                        )\n",
        "\n",
        "  structure = td.Structure(geometry=grating, medium=medium)\n",
        "\n",
        "  return [structure]"
      ],
      "metadata": {
        "id": "TxfyN1grpZHY",
        "colab": {
          "base_uri": "https://localhost:8080/",
          "height": 373
        },
        "outputId": "d9251152-13ef-4944-c9eb-65aa6ac74c6d"
      },
      "execution_count": 35,
      "outputs": [
        {
          "output_type": "error",
          "ename": "ModuleNotFoundError",
          "evalue": "ignored",
          "traceback": [
            "\u001b[0;31m---------------------------------------------------------------------------\u001b[0m",
            "\u001b[0;31mModuleNotFoundError\u001b[0m                       Traceback (most recent call last)",
            "\u001b[0;32m<ipython-input-35-91651ea4c5dd>\u001b[0m in \u001b[0;36m<cell line: 3>\u001b[0;34m()\u001b[0m\n\u001b[1;32m      1\u001b[0m \u001b[0;32mimport\u001b[0m \u001b[0mtidy3d\u001b[0m \u001b[0;32mas\u001b[0m \u001b[0mtd\u001b[0m\u001b[0;34m\u001b[0m\u001b[0;34m\u001b[0m\u001b[0m\n\u001b[1;32m      2\u001b[0m \u001b[0;32mimport\u001b[0m \u001b[0mnumpy\u001b[0m \u001b[0;32mas\u001b[0m \u001b[0mnp\u001b[0m\u001b[0;34m\u001b[0m\u001b[0;34m\u001b[0m\u001b[0m\n\u001b[0;32m----> 3\u001b[0;31m \u001b[0;32mfrom\u001b[0m \u001b[0mtidy3d_lambda\u001b[0m \u001b[0;32mimport\u001b[0m \u001b[0mentrypoint\u001b[0m\u001b[0;34m\u001b[0m\u001b[0;34m\u001b[0m\u001b[0m\n\u001b[0m\u001b[1;32m      4\u001b[0m \u001b[0;34m\u001b[0m\u001b[0m\n\u001b[1;32m      5\u001b[0m \u001b[0;31m# This script object defines a rectangular grating and\u001b[0m\u001b[0;34m\u001b[0m\u001b[0;34m\u001b[0m\u001b[0m\n",
            "\u001b[0;31mModuleNotFoundError\u001b[0m: No module named 'tidy3d_lambda'",
            "",
            "\u001b[0;31m---------------------------------------------------------------------------\u001b[0;32m\nNOTE: If your import is failing due to a missing package, you can\nmanually install dependencies using either !pip or !apt.\n\nTo view examples of installing some common dependencies, click the\n\"Open Examples\" button below.\n\u001b[0;31m---------------------------------------------------------------------------\u001b[0m\n"
          ],
          "errorDetails": {
            "actions": [
              {
                "action": "open_url",
                "actionText": "Open Examples",
                "url": "/notebooks/snippets/importing_libraries.ipynb"
              }
            ]
          }
        }
      ]
    },
    {
      "cell_type": "code",
      "source": [],
      "metadata": {
        "id": "Cakc2Pn06VEt"
      },
      "execution_count": null,
      "outputs": []
    }
  ]
}