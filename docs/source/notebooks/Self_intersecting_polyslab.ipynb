{
 "cells": [
  {
   "cell_type": "markdown",
   "metadata": {},
   "source": [
    "# Self-intersecting PolySlab\n",
    "\n",
    "This tutorial shows how to use the `ComplexPolySlab` plugin in tidy3d to deal with self-intersecting polygon that occurs during extrusion in a slanted polyslab."
   ]
  },
  {
   "cell_type": "code",
   "execution_count": 1,
   "metadata": {
    "execution": {
     "iopub.execute_input": "2023-03-27T21:58:14.123659Z",
     "iopub.status.busy": "2023-03-27T21:58:14.123431Z",
     "iopub.status.idle": "2023-03-27T21:58:15.584351Z",
     "shell.execute_reply": "2023-03-27T21:58:15.583778Z"
    },
    "scrolled": false,
    "tags": []
   },
   "outputs": [
    {
     "data": {
      "text/html": [
       "<pre style=\"white-space:pre;overflow-x:auto;line-height:normal;font-family:Menlo,'DejaVu Sans Mono',consolas,'Courier New',monospace\"><span style=\"color: #7fbfbf; text-decoration-color: #7fbfbf\">[14:58:15] </span>WARNING: This version of Tidy3D was pip installed from the <span style=\"color: #008000; text-decoration-color: #008000\">'tidy3d-beta'</span> <a href=\"file:///home/momchil/Drive/flexcompute/tidy3d-docs/tidy3d/tidy3d/log.py\" target=\"_blank\"><span style=\"color: #7f7f7f; text-decoration-color: #7f7f7f\">log.py</span></a><span style=\"color: #7f7f7f; text-decoration-color: #7f7f7f\">:</span><a href=\"file:///home/momchil/Drive/flexcompute/tidy3d-docs/tidy3d/tidy3d/log.py#57\" target=\"_blank\"><span style=\"color: #7f7f7f; text-decoration-color: #7f7f7f\">57</span></a>\n",
       "<span style=\"color: #7fbfbf; text-decoration-color: #7fbfbf\">           </span>repository on PyPI. Future releases will be uploaded to the <span style=\"color: #008000; text-decoration-color: #008000\">'tidy3d'</span>     <span style=\"color: #7f7f7f; text-decoration-color: #7f7f7f\">         </span>\n",
       "<span style=\"color: #7fbfbf; text-decoration-color: #7fbfbf\">           </span>repository. From now on, please use <span style=\"color: #008000; text-decoration-color: #008000\">'pip install tidy3d'</span> instead.        <span style=\"color: #7f7f7f; text-decoration-color: #7f7f7f\">         </span>\n",
       "</pre>\n"
      ],
      "text/plain": [
       "\u001b[2;36m[14:58:15]\u001b[0m\u001b[2;36m \u001b[0mWARNING: This version of Tidy3D was pip installed from the \u001b[32m'tidy3d-beta'\u001b[0m \u001b]8;id=668652;file:///home/momchil/Drive/flexcompute/tidy3d-docs/tidy3d/tidy3d/log.py\u001b\\\u001b[2mlog.py\u001b[0m\u001b]8;;\u001b\\\u001b[2m:\u001b[0m\u001b]8;id=421814;file:///home/momchil/Drive/flexcompute/tidy3d-docs/tidy3d/tidy3d/log.py#57\u001b\\\u001b[2m57\u001b[0m\u001b]8;;\u001b\\\n",
       "\u001b[2;36m           \u001b[0mrepository on PyPI. Future releases will be uploaded to the \u001b[32m'tidy3d'\u001b[0m     \u001b[2m         \u001b[0m\n",
       "\u001b[2;36m           \u001b[0mrepository. From now on, please use \u001b[32m'pip install tidy3d'\u001b[0m instead.        \u001b[2m         \u001b[0m\n"
      ]
     },
     "metadata": {},
     "output_type": "display_data"
    },
    {
     "data": {
      "text/html": [
       "<pre style=\"white-space:pre;overflow-x:auto;line-height:normal;font-family:Menlo,'DejaVu Sans Mono',consolas,'Courier New',monospace\"><span style=\"color: #7fbfbf; text-decoration-color: #7fbfbf\">           </span>INFO: Using client version: <span style=\"color: #008080; text-decoration-color: #008080; font-weight: bold\">1.10</span>.<span style=\"color: #008080; text-decoration-color: #008080; font-weight: bold\">0</span>                                       <a href=\"file:///home/momchil/Drive/flexcompute/tidy3d-docs/tidy3d/tidy3d/log.py\" target=\"_blank\"><span style=\"color: #7f7f7f; text-decoration-color: #7f7f7f\">log.py</span></a><span style=\"color: #7f7f7f; text-decoration-color: #7f7f7f\">:</span><a href=\"file:///home/momchil/Drive/flexcompute/tidy3d-docs/tidy3d/tidy3d/log.py#57\" target=\"_blank\"><span style=\"color: #7f7f7f; text-decoration-color: #7f7f7f\">57</span></a>\n",
       "</pre>\n"
      ],
      "text/plain": [
       "\u001b[2;36m          \u001b[0m\u001b[2;36m \u001b[0mINFO: Using client version: \u001b[1;36m1.10\u001b[0m.\u001b[1;36m0\u001b[0m                                       \u001b]8;id=679511;file:///home/momchil/Drive/flexcompute/tidy3d-docs/tidy3d/tidy3d/log.py\u001b\\\u001b[2mlog.py\u001b[0m\u001b]8;;\u001b\\\u001b[2m:\u001b[0m\u001b]8;id=432465;file:///home/momchil/Drive/flexcompute/tidy3d-docs/tidy3d/tidy3d/log.py#57\u001b\\\u001b[2m57\u001b[0m\u001b]8;;\u001b\\\n"
      ]
     },
     "metadata": {},
     "output_type": "display_data"
    }
   ],
   "source": [
    "import numpy as np\n",
    "import matplotlib.pyplot as plt\n",
    "import gdstk\n",
    "\n",
    "import tidy3d as td\n",
    "\n",
    "from tidy3d.plugins import ComplexPolySlab"
   ]
  },
  {
   "cell_type": "markdown",
   "metadata": {},
   "source": [
    "## Example 1: concave polygon on the top with positive sidewall angle\n",
    "\n",
    "Let's consider a concave polygon as shown in the following figure. As we dilate the polygon, the length of the edge in the middle will approach 0, and the two vertices at the end of the edge can be degenerate. Further dilation will result in a self-intersecting polygon. The collapsing of the two neighboring vertices is known as one type of edge events. There are other types of edge events as well, while our plugin at the moment will focus on this type of edge event."
   ]
  },
  {
   "cell_type": "code",
   "execution_count": 2,
   "metadata": {
    "execution": {
     "iopub.execute_input": "2023-03-27T21:58:15.587605Z",
     "iopub.status.busy": "2023-03-27T21:58:15.587270Z",
     "iopub.status.idle": "2023-03-27T21:58:15.952262Z",
     "shell.execute_reply": "2023-03-27T21:58:15.951687Z"
    }
   },
   "outputs": [
    {
     "data": {
      "text/plain": [
       "<Axes: title={'center': 'cross section at z=0.50'}, xlabel='x', ylabel='y'>"
      ]
     },
     "execution_count": 1,
     "metadata": {},
     "output_type": "execute_result"
    },
    {
     "data": {
      "image/png": "[encoded data removed]",
      "text/plain": [
       "<Figure size 640x480 with 1 Axes>"
      ]
     },
     "metadata": {},
     "output_type": "display_data"
    }
   ],
   "source": [
    "vertices= ((0, 0), (1, 0), (1, 1), (0, 1), (0, 0.8), (0.5, 0.65), (0.5, 0.35), (0, 0.2))\n",
    "s = td.PolySlab(\n",
    "    vertices=vertices,\n",
    "    slab_bounds=(0, 1),\n",
    "    axis=2,\n",
    "    sidewall_angle=0,\n",
    "    reference_plane=\"top\",\n",
    ")\n",
    "s.plot(z=0.5)"
   ]
  },
  {
   "cell_type": "markdown",
   "metadata": {},
   "source": [
    "For a slanted polyslab where this polygon is at the top, self-intersection can occur as the polygon is extruded to the base when the sidewall angle is large. Since `td.PolySlab` only deals with simple polyslab, an error message will be displayed in this case."
   ]
  },
  {
   "cell_type": "code",
   "execution_count": 3,
   "metadata": {
    "execution": {
     "iopub.execute_input": "2023-03-27T21:58:15.954472Z",
     "iopub.status.busy": "2023-03-27T21:58:15.954305Z",
     "iopub.status.idle": "2023-03-27T21:58:15.976994Z",
     "shell.execute_reply": "2023-03-27T21:58:15.976461Z"
    }
   },
   "outputs": [
    {
     "data": {
      "text/html": [
       "<pre style=\"white-space:pre;overflow-x:auto;line-height:normal;font-family:Menlo,'DejaVu Sans Mono',consolas,'Courier New',monospace\"><span style=\"color: #7fbfbf; text-decoration-color: #7fbfbf\">           </span>ERROR: Sidewall angle or structure thickness is so large that the        <a href=\"file:///home/momchil/Drive/flexcompute/tidy3d-docs/tidy3d/tidy3d/log.py\" target=\"_blank\"><span style=\"color: #7f7f7f; text-decoration-color: #7f7f7f\">log.py</span></a><span style=\"color: #7f7f7f; text-decoration-color: #7f7f7f\">:</span><a href=\"file:///home/momchil/Drive/flexcompute/tidy3d-docs/tidy3d/tidy3d/log.py#57\" target=\"_blank\"><span style=\"color: #7f7f7f; text-decoration-color: #7f7f7f\">57</span></a>\n",
       "<span style=\"color: #7fbfbf; text-decoration-color: #7fbfbf\">           </span>polygon is self-intersecting during extrusion. Please either reduce      <span style=\"color: #7f7f7f; text-decoration-color: #7f7f7f\">         </span>\n",
       "<span style=\"color: #7fbfbf; text-decoration-color: #7fbfbf\">           </span>structure thickness to be &lt; <span style=\"color: #008080; text-decoration-color: #008080; font-weight: bold\">2.016e-01</span>, or use our plugin                 <span style=\"color: #7f7f7f; text-decoration-color: #7f7f7f\">         </span>\n",
       "<span style=\"color: #7fbfbf; text-decoration-color: #7fbfbf\">           </span><span style=\"color: #008000; text-decoration-color: #008000\">'ComplexPolySlab'</span> to divide the complex polyslab into a list of simple   <span style=\"color: #7f7f7f; text-decoration-color: #7f7f7f\">         </span>\n",
       "<span style=\"color: #7fbfbf; text-decoration-color: #7fbfbf\">           </span>polyslabs.                                                               <span style=\"color: #7f7f7f; text-decoration-color: #7f7f7f\">         </span>\n",
       "</pre>\n"
      ],
      "text/plain": [
       "\u001b[2;36m          \u001b[0m\u001b[2;36m \u001b[0mERROR: Sidewall angle or structure thickness is so large that the        \u001b]8;id=60887;file:///home/momchil/Drive/flexcompute/tidy3d-docs/tidy3d/tidy3d/log.py\u001b\\\u001b[2mlog.py\u001b[0m\u001b]8;;\u001b\\\u001b[2m:\u001b[0m\u001b]8;id=135585;file:///home/momchil/Drive/flexcompute/tidy3d-docs/tidy3d/tidy3d/log.py#57\u001b\\\u001b[2m57\u001b[0m\u001b]8;;\u001b\\\n",
       "\u001b[2;36m           \u001b[0mpolygon is self-intersecting during extrusion. Please either reduce      \u001b[2m         \u001b[0m\n",
       "\u001b[2;36m           \u001b[0mstructure thickness to be < \u001b[1;36m2.016e-01\u001b[0m, or use our plugin                 \u001b[2m         \u001b[0m\n",
       "\u001b[2;36m           \u001b[0m\u001b[32m'ComplexPolySlab'\u001b[0m to divide the complex polyslab into a list of simple   \u001b[2m         \u001b[0m\n",
       "\u001b[2;36m           \u001b[0mpolyslabs.                                                               \u001b[2m         \u001b[0m\n"
      ]
     },
     "metadata": {},
     "output_type": "display_data"
    }
   ],
   "source": [
    "sidewall_angle = np.pi/4\n",
    "try:\n",
    "    s = td.PolySlab(\n",
    "        vertices=vertices,\n",
    "        slab_bounds=(0, 1),\n",
    "        axis=2,\n",
    "        sidewall_angle=sidewall_angle,\n",
    "        reference_plane=\"top\",\n",
    "    )\n",
    "except Exception as e:\n",
    "    pass"
   ]
  },
  {
   "cell_type": "markdown",
   "metadata": {},
   "source": [
    "### Dividing a complex polyslab into sub-polyslabs\n",
    "\n",
    "The plugin `ComplexPolySlab` can divide such a complex polyslab into a list of simple polyslabs. The procedure of setting up the object is the same as in `td.PolySlab`:"
   ]
  },
  {
   "cell_type": "code",
   "execution_count": 4,
   "metadata": {
    "execution": {
     "iopub.execute_input": "2023-03-27T21:58:15.979089Z",
     "iopub.status.busy": "2023-03-27T21:58:15.978933Z",
     "iopub.status.idle": "2023-03-27T21:58:15.998780Z",
     "shell.execute_reply": "2023-03-27T21:58:15.998204Z"
    }
   },
   "outputs": [],
   "source": [
    "s = ComplexPolySlab(\n",
    "    vertices=vertices,\n",
    "    slab_bounds=(0, 1),\n",
    "    axis=2,\n",
    "    sidewall_angle=sidewall_angle,\n",
    "    reference_plane=\"top\",\n",
    ")"
   ]
  },
  {
   "cell_type": "markdown",
   "metadata": {},
   "source": [
    "We can obtain the division result in the form of a list of simple polyslabs, or combined into a `GeometryGroup`. As shown below, the entire polyslab will be divided into 3 simple polyslabsl"
   ]
  },
  {
   "cell_type": "code",
   "execution_count": 5,
   "metadata": {
    "execution": {
     "iopub.execute_input": "2023-03-27T21:58:16.000890Z",
     "iopub.status.busy": "2023-03-27T21:58:16.000745Z",
     "iopub.status.idle": "2023-03-27T21:58:16.233439Z",
     "shell.execute_reply": "2023-03-27T21:58:16.232914Z"
    }
   },
   "outputs": [
    {
     "name": "stdout",
     "output_type": "stream",
     "text": [
      "The number of sub-polyslabs in the list is 3.\n",
      "The number of sub-polyslabs in geometry group is 3.\n"
     ]
    }
   ],
   "source": [
    "# To obtain the divided polyslabs, there are two approaches:\n",
    "# 1) a list of divided polyslabs\n",
    "sub_polyslabs = s.sub_polyslabs\n",
    "\n",
    "# 2) geometry group containing the divided polyslabs\n",
    "polyslabs_group = s.geometry_group\n",
    "\n",
    "print(f\"The number of sub-polyslabs in the list is {len(sub_polyslabs)}.\")\n",
    "print(f\"The number of sub-polyslabs in geometry group is {len(polyslabs_group.geometries)}.\")"
   ]
  },
  {
   "cell_type": "markdown",
   "metadata": {},
   "source": [
    "### Define a simulation\n",
    "Now let's make a simple simulation with a `ComplexPolySlab` object."
   ]
  },
  {
   "cell_type": "code",
   "execution_count": 6,
   "metadata": {
    "execution": {
     "iopub.execute_input": "2023-03-27T21:58:16.235508Z",
     "iopub.status.busy": "2023-03-27T21:58:16.235355Z",
     "iopub.status.idle": "2023-03-27T21:58:16.572814Z",
     "shell.execute_reply": "2023-03-27T21:58:16.572236Z"
    }
   },
   "outputs": [],
   "source": [
    "mat = td.Medium(permittivity=2)\n",
    "\n",
    "# Three equivalent approaches\n",
    "# 1) from sub-polyslabs\n",
    "struct_list = [td.Structure(geometry=poly, medium=mat) for poly in s.sub_polyslabs]\n",
    "\n",
    "# 2) from geometry group\n",
    "struct_list = [td.Structure(geometry=s.geometry_group, medium=mat)]\n",
    "\n",
    "# 3) directly obtain the structure with a user-specified medium\n",
    "struct_list = [s.to_structure(mat)]"
   ]
  },
  {
   "cell_type": "code",
   "execution_count": 7,
   "metadata": {
    "execution": {
     "iopub.execute_input": "2023-03-27T21:58:16.575059Z",
     "iopub.status.busy": "2023-03-27T21:58:16.574907Z",
     "iopub.status.idle": "2023-03-27T21:58:16.604210Z",
     "shell.execute_reply": "2023-03-27T21:58:16.603603Z"
    }
   },
   "outputs": [
    {
     "data": {
      "text/html": [
       "<pre style=\"white-space:pre;overflow-x:auto;line-height:normal;font-family:Menlo,'DejaVu Sans Mono',consolas,'Courier New',monospace\"><span style=\"color: #7fbfbf; text-decoration-color: #7fbfbf\">[14:58:16] </span>WARNING: <span style=\"color: #008000; text-decoration-color: #008000\">'Simulation.boundary_spec'</span> uses default value, which is         <a href=\"file:///home/momchil/Drive/flexcompute/tidy3d-docs/tidy3d/tidy3d/log.py\" target=\"_blank\"><span style=\"color: #7f7f7f; text-decoration-color: #7f7f7f\">log.py</span></a><span style=\"color: #7f7f7f; text-decoration-color: #7f7f7f\">:</span><a href=\"file:///home/momchil/Drive/flexcompute/tidy3d-docs/tidy3d/tidy3d/log.py#57\" target=\"_blank\"><span style=\"color: #7f7f7f; text-decoration-color: #7f7f7f\">57</span></a>\n",
       "<span style=\"color: #7fbfbf; text-decoration-color: #7fbfbf\">           </span><span style=\"color: #008000; text-decoration-color: #008000\">'Periodic()'</span> on all sides but will change to <span style=\"color: #008000; text-decoration-color: #008000\">'PML()'</span> in Tidy3D version   <span style=\"color: #7f7f7f; text-decoration-color: #7f7f7f\">         </span>\n",
       "<span style=\"color: #7fbfbf; text-decoration-color: #7fbfbf\">           </span><span style=\"color: #008080; text-decoration-color: #008080; font-weight: bold\">2.0</span>. We recommend explicitly setting all boundary conditions ahead of    <span style=\"color: #7f7f7f; text-decoration-color: #7f7f7f\">         </span>\n",
       "<span style=\"color: #7fbfbf; text-decoration-color: #7fbfbf\">           </span>this release to avoid unexpected results.                                <span style=\"color: #7f7f7f; text-decoration-color: #7f7f7f\">         </span>\n",
       "</pre>\n"
      ],
      "text/plain": [
       "\u001b[2;36m[14:58:16]\u001b[0m\u001b[2;36m \u001b[0mWARNING: \u001b[32m'Simulation.boundary_spec'\u001b[0m uses default value, which is         \u001b]8;id=175673;file:///home/momchil/Drive/flexcompute/tidy3d-docs/tidy3d/tidy3d/log.py\u001b\\\u001b[2mlog.py\u001b[0m\u001b]8;;\u001b\\\u001b[2m:\u001b[0m\u001b]8;id=312985;file:///home/momchil/Drive/flexcompute/tidy3d-docs/tidy3d/tidy3d/log.py#57\u001b\\\u001b[2m57\u001b[0m\u001b]8;;\u001b\\\n",
       "\u001b[2;36m           \u001b[0m\u001b[32m'Periodic\u001b[0m\u001b[32m(\u001b[0m\u001b[32m)\u001b[0m\u001b[32m'\u001b[0m on all sides but will change to \u001b[32m'PML\u001b[0m\u001b[32m(\u001b[0m\u001b[32m)\u001b[0m\u001b[32m'\u001b[0m in Tidy3D version   \u001b[2m         \u001b[0m\n",
       "\u001b[2;36m           \u001b[0m\u001b[1;36m2.0\u001b[0m. We recommend explicitly setting all boundary conditions ahead of    \u001b[2m         \u001b[0m\n",
       "\u001b[2;36m           \u001b[0mthis release to avoid unexpected results.                                \u001b[2m         \u001b[0m\n"
      ]
     },
     "metadata": {},
     "output_type": "display_data"
    },
    {
     "data": {
      "text/html": [
       "<pre style=\"white-space:pre;overflow-x:auto;line-height:normal;font-family:Menlo,'DejaVu Sans Mono',consolas,'Courier New',monospace\"><span style=\"color: #7fbfbf; text-decoration-color: #7fbfbf\">           </span>WARNING: No sources in simulation.                                       <a href=\"file:///home/momchil/Drive/flexcompute/tidy3d-docs/tidy3d/tidy3d/log.py\" target=\"_blank\"><span style=\"color: #7f7f7f; text-decoration-color: #7f7f7f\">log.py</span></a><span style=\"color: #7f7f7f; text-decoration-color: #7f7f7f\">:</span><a href=\"file:///home/momchil/Drive/flexcompute/tidy3d-docs/tidy3d/tidy3d/log.py#57\" target=\"_blank\"><span style=\"color: #7f7f7f; text-decoration-color: #7f7f7f\">57</span></a>\n",
       "</pre>\n"
      ],
      "text/plain": [
       "\u001b[2;36m          \u001b[0m\u001b[2;36m \u001b[0mWARNING: No sources in simulation.                                       \u001b]8;id=261925;file:///home/momchil/Drive/flexcompute/tidy3d-docs/tidy3d/tidy3d/log.py\u001b\\\u001b[2mlog.py\u001b[0m\u001b]8;;\u001b\\\u001b[2m:\u001b[0m\u001b]8;id=228455;file:///home/momchil/Drive/flexcompute/tidy3d-docs/tidy3d/tidy3d/log.py#57\u001b\\\u001b[2m57\u001b[0m\u001b]8;;\u001b\\\n"
      ]
     },
     "metadata": {},
     "output_type": "display_data"
    }
   ],
   "source": [
    "sim = td.Simulation(\n",
    "    run_time=1e-12,\n",
    "    size=(4, 4, 2),\n",
    "    center=(0.5,0.5,0.5),\n",
    "    grid_spec=td.GridSpec.auto(wavelength=1.0),\n",
    "    structures=struct_list,\n",
    ")"
   ]
  },
  {
   "cell_type": "markdown",
   "metadata": {},
   "source": [
    "### Visualization\n",
    "\n",
    "Three characteristic normal cross sections are illustrated below. The polygon near the top looks similar to the supplied polygon. Somewhere between $z=0.75$ $\\mu$m and $z=0.95$ $\\mu$m, a vertex-vertex crossing event happens, and the shape of the polygon changes. Between $z=0.75$ $\\mu$m and $z=0.5$ $\\mu$m, another event occurs, and the shape evolves to a simple box."
   ]
  },
  {
   "cell_type": "code",
   "execution_count": 8,
   "metadata": {
    "execution": {
     "iopub.execute_input": "2023-03-27T21:58:16.607357Z",
     "iopub.status.busy": "2023-03-27T21:58:16.607176Z",
     "iopub.status.idle": "2023-03-27T21:58:17.164897Z",
     "shell.execute_reply": "2023-03-27T21:58:17.164266Z"
    }
   },
   "outputs": [
    {
     "data": {
      "text/plain": [
       "<Axes: title={'center': 'cross section at z=0.50'}, xlabel='x', ylabel='y'>"
      ]
     },
     "execution_count": 1,
     "metadata": {},
     "output_type": "execute_result"
    },
    {
     "data": {
      "image/png": "[encoded data removed]",
      "text/plain": [
       "<Figure size 800x400 with 3 Axes>"
      ]
     },
     "metadata": {},
     "output_type": "display_data"
    }
   ],
   "source": [
    "fig, ax = plt.subplots(1, 3, figsize=(8,4),layout=\"tight\")\n",
    "sim.plot(z=0.95,ax=ax[0])\n",
    "sim.plot(z=0.75,ax=ax[1])\n",
    "sim.plot(z=0.5,ax=ax[2])"
   ]
  },
  {
   "cell_type": "markdown",
   "metadata": {},
   "source": [
    "## Example 2: GDS import\n",
    "Similar to `PolySlab`, a `ComplexPolySlab` can also be setup from a `gdstk.Cell`. To illustrate this, let's make a GDS cell with the aforementioned concave polygon, and load it with `.from_gds` classmethod."
   ]
  },
  {
   "cell_type": "code",
   "execution_count": 9,
   "metadata": {
    "execution": {
     "iopub.execute_input": "2023-03-27T21:58:17.167391Z",
     "iopub.status.busy": "2023-03-27T21:58:17.167230Z",
     "iopub.status.idle": "2023-03-27T21:58:17.188160Z",
     "shell.execute_reply": "2023-03-27T21:58:17.187536Z"
    }
   },
   "outputs": [
    {
     "data": {
      "text/plain": [
       "<gdstk.Cell at 0x7f0e0aa53c30>"
      ]
     },
     "execution_count": 1,
     "metadata": {},
     "output_type": "execute_result"
    }
   ],
   "source": [
    "# add the concave polygon to the gds cell\n",
    "\n",
    "lib = gdstk.Library()\n",
    "cell = lib.new_cell(\"SI\")\n",
    "poly = gdstk.Polygon(vertices,layer=0)\n",
    "cell.add(poly)"
   ]
  },
  {
   "cell_type": "markdown",
   "metadata": {},
   "source": [
    "### Loading a GDS cell into `ComplexPolySlab`"
   ]
  },
  {
   "cell_type": "code",
   "execution_count": 10,
   "metadata": {
    "execution": {
     "iopub.execute_input": "2023-03-27T21:58:17.191033Z",
     "iopub.status.busy": "2023-03-27T21:58:17.190784Z",
     "iopub.status.idle": "2023-03-27T21:58:17.315676Z",
     "shell.execute_reply": "2023-03-27T21:58:17.315141Z"
    }
   },
   "outputs": [],
   "source": [
    "# obtain a list of polyslabs\n",
    "geo_list = ComplexPolySlab.from_gds(\n",
    "    cell,\n",
    "    gds_layer=0,\n",
    "    axis=2,\n",
    "    slab_bounds=(0, 1),\n",
    "    sidewall_angle=np.pi/4,\n",
    "    reference_plane=\"top\",\n",
    ")"
   ]
  },
  {
   "cell_type": "code",
   "execution_count": 11,
   "metadata": {
    "execution": {
     "iopub.execute_input": "2023-03-27T21:58:17.318250Z",
     "iopub.status.busy": "2023-03-27T21:58:17.318096Z",
     "iopub.status.idle": "2023-03-27T21:58:17.346758Z",
     "shell.execute_reply": "2023-03-27T21:58:17.346220Z"
    }
   },
   "outputs": [
    {
     "data": {
      "text/html": [
       "<pre style=\"white-space:pre;overflow-x:auto;line-height:normal;font-family:Menlo,'DejaVu Sans Mono',consolas,'Courier New',monospace\"><span style=\"color: #7fbfbf; text-decoration-color: #7fbfbf\">[14:58:17] </span>WARNING: <span style=\"color: #008000; text-decoration-color: #008000\">'Simulation.boundary_spec'</span> uses default value, which is         <a href=\"file:///home/momchil/Drive/flexcompute/tidy3d-docs/tidy3d/tidy3d/log.py\" target=\"_blank\"><span style=\"color: #7f7f7f; text-decoration-color: #7f7f7f\">log.py</span></a><span style=\"color: #7f7f7f; text-decoration-color: #7f7f7f\">:</span><a href=\"file:///home/momchil/Drive/flexcompute/tidy3d-docs/tidy3d/tidy3d/log.py#57\" target=\"_blank\"><span style=\"color: #7f7f7f; text-decoration-color: #7f7f7f\">57</span></a>\n",
       "<span style=\"color: #7fbfbf; text-decoration-color: #7fbfbf\">           </span><span style=\"color: #008000; text-decoration-color: #008000\">'Periodic()'</span> on all sides but will change to <span style=\"color: #008000; text-decoration-color: #008000\">'PML()'</span> in Tidy3D version   <span style=\"color: #7f7f7f; text-decoration-color: #7f7f7f\">         </span>\n",
       "<span style=\"color: #7fbfbf; text-decoration-color: #7fbfbf\">           </span><span style=\"color: #008080; text-decoration-color: #008080; font-weight: bold\">2.0</span>. We recommend explicitly setting all boundary conditions ahead of    <span style=\"color: #7f7f7f; text-decoration-color: #7f7f7f\">         </span>\n",
       "<span style=\"color: #7fbfbf; text-decoration-color: #7fbfbf\">           </span>this release to avoid unexpected results.                                <span style=\"color: #7f7f7f; text-decoration-color: #7f7f7f\">         </span>\n",
       "</pre>\n"
      ],
      "text/plain": [
       "\u001b[2;36m[14:58:17]\u001b[0m\u001b[2;36m \u001b[0mWARNING: \u001b[32m'Simulation.boundary_spec'\u001b[0m uses default value, which is         \u001b]8;id=549844;file:///home/momchil/Drive/flexcompute/tidy3d-docs/tidy3d/tidy3d/log.py\u001b\\\u001b[2mlog.py\u001b[0m\u001b]8;;\u001b\\\u001b[2m:\u001b[0m\u001b]8;id=334999;file:///home/momchil/Drive/flexcompute/tidy3d-docs/tidy3d/tidy3d/log.py#57\u001b\\\u001b[2m57\u001b[0m\u001b]8;;\u001b\\\n",
       "\u001b[2;36m           \u001b[0m\u001b[32m'Periodic\u001b[0m\u001b[32m(\u001b[0m\u001b[32m)\u001b[0m\u001b[32m'\u001b[0m on all sides but will change to \u001b[32m'PML\u001b[0m\u001b[32m(\u001b[0m\u001b[32m)\u001b[0m\u001b[32m'\u001b[0m in Tidy3D version   \u001b[2m         \u001b[0m\n",
       "\u001b[2;36m           \u001b[0m\u001b[1;36m2.0\u001b[0m. We recommend explicitly setting all boundary conditions ahead of    \u001b[2m         \u001b[0m\n",
       "\u001b[2;36m           \u001b[0mthis release to avoid unexpected results.                                \u001b[2m         \u001b[0m\n"
      ]
     },
     "metadata": {},
     "output_type": "display_data"
    },
    {
     "data": {
      "text/html": [
       "<pre style=\"white-space:pre;overflow-x:auto;line-height:normal;font-family:Menlo,'DejaVu Sans Mono',consolas,'Courier New',monospace\"><span style=\"color: #7fbfbf; text-decoration-color: #7fbfbf\">           </span>WARNING: No sources in simulation.                                       <a href=\"file:///home/momchil/Drive/flexcompute/tidy3d-docs/tidy3d/tidy3d/log.py\" target=\"_blank\"><span style=\"color: #7f7f7f; text-decoration-color: #7f7f7f\">log.py</span></a><span style=\"color: #7f7f7f; text-decoration-color: #7f7f7f\">:</span><a href=\"file:///home/momchil/Drive/flexcompute/tidy3d-docs/tidy3d/tidy3d/log.py#57\" target=\"_blank\"><span style=\"color: #7f7f7f; text-decoration-color: #7f7f7f\">57</span></a>\n",
       "</pre>\n"
      ],
      "text/plain": [
       "\u001b[2;36m          \u001b[0m\u001b[2;36m \u001b[0mWARNING: No sources in simulation.                                       \u001b]8;id=363570;file:///home/momchil/Drive/flexcompute/tidy3d-docs/tidy3d/tidy3d/log.py\u001b\\\u001b[2mlog.py\u001b[0m\u001b]8;;\u001b\\\u001b[2m:\u001b[0m\u001b]8;id=900034;file:///home/momchil/Drive/flexcompute/tidy3d-docs/tidy3d/tidy3d/log.py#57\u001b\\\u001b[2m57\u001b[0m\u001b]8;;\u001b\\\n"
      ]
     },
     "metadata": {},
     "output_type": "display_data"
    }
   ],
   "source": [
    "structure = td.Structure(\n",
    "    geometry=td.GeometryGroup(geometries=geo_list),\n",
    "    medium=mat,\n",
    ")\n",
    "\n",
    "sim = td.Simulation(\n",
    "    run_time=1e-12,\n",
    "    size=(4, 4, 2),\n",
    "    center=(0.5,0.5,0.5),\n",
    "    grid_spec=td.GridSpec.auto(wavelength=1.0),\n",
    "    structures=[structure],\n",
    ")"
   ]
  },
  {
   "cell_type": "code",
   "execution_count": 12,
   "metadata": {
    "execution": {
     "iopub.execute_input": "2023-03-27T21:58:17.348774Z",
     "iopub.status.busy": "2023-03-27T21:58:17.348605Z",
     "iopub.status.idle": "2023-03-27T21:58:17.947422Z",
     "shell.execute_reply": "2023-03-27T21:58:17.946886Z"
    }
   },
   "outputs": [
    {
     "data": {
      "text/plain": [
       "<Axes: title={'center': 'cross section at z=0.50'}, xlabel='x', ylabel='y'>"
      ]
     },
     "execution_count": 1,
     "metadata": {},
     "output_type": "execute_result"
    },
    {
     "data": {
      "image/png": "[encoded data removed]",
      "text/plain": [
       "<Figure size 800x400 with 3 Axes>"
      ]
     },
     "metadata": {},
     "output_type": "display_data"
    }
   ],
   "source": [
    "fig, ax = plt.subplots(1, 3, figsize=(8,4),layout=\"tight\")\n",
    "sim.plot(z=0.95,ax=ax[0])\n",
    "sim.plot(z=0.75,ax=ax[1])\n",
    "sim.plot(z=0.5,ax=ax[2])"
   ]
  },
  {
   "cell_type": "code",
   "execution_count": null,
   "metadata": {},
   "outputs": [],
   "source": []
  }
 ],
 "metadata": {
  "kernelspec": {
   "display_name": "Python 3",
   "language": "python",
   "name": "python3"
  },
  "language_info": {
   "codemirror_mode": {
    "name": "ipython",
    "version": 3
   },
   "file_extension": ".py",
   "mimetype": "text/x-python",
   "name": "python",
   "nbconvert_exporter": "python",
   "pygments_lexer": "ipython3",
   "version": "3.9.16"
  }
 },
 "nbformat": 4,
 "nbformat_minor": 4
}
