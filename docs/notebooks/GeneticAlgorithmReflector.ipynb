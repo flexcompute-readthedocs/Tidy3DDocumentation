{
 "cells": [
  {
   "cell_type": "markdown",
   "id": "89f983f5",
   "metadata": {},
   "source": [
    "# Genetic algorithm optimization of a silicon on-chip reflector"
   ]
  },
  {
   "cell_type": "markdown",
   "id": "c129793b",
   "metadata": {},
   "source": [
    "**Note: the cost of running the entire notebook is larger than 10 FlexCredits.**\n",
    "\n",
    "A [genetic algorithm](https://en.wikipedia.org/wiki/Genetic_algorithm) (GA) is a search heuristic that mimics the process of natural selection. This algorithm reflects the process of natural evolution where the fittest individuals are selected for reproduction in order to produce offspring of the next generation.\n",
    "\n",
    "The steps in a GA are typically as follows:\n",
    "\n",
    "1. **Initial Population**: The process begins with a set of individuals which is called a population. Each individual is a solution to the problem you want to solve.\n",
    "\n",
    "2. **Fitness Function**: Each individual in the population has a fitness score which indicates how good it is at solving the problem.\n",
    "\n",
    "3. **Selection**: The algorithm selects individuals, often the fittest among the population, to breed a new generation. The selection can be done in various ways, such as roulette wheel selection, tournament selection, etc.\n",
    "\n",
    "4. **Crossover**: During crossover, parts of two individuals' chromosome strings are swapped to get a new offspring, which may contain some parts of both parents' strings. This simulates reproduction and biological crossover.\n",
    "\n",
    "5. **Mutation**: In some new offspring, random genes are mutated or changed to maintain diversity within the population and to avoid premature convergence.\n",
    "\n",
    "6. **New Generation**: The new generation of population is formed by the offspring. This new generation is then used in the next iteration of the algorithm.\n",
    "\n",
    "7. **Termination**: The algorithm terminates if the population has converged (does not produce offspring that are significantly different from the previous generation), or a satisfactory solution has been found, or a set number of generations have been produced.\n",
    "\n",
    "GAs have become a powerful tool for optimizing photonic components, leveraging their ability to efficiently search large and complex design spaces. In photonics, where the performance of components like waveguides, photonic crystals, and fibers can be highly sensitive to geometrical and material parameters, GAs offer a way to find optimal solutions that might be difficult to discover using traditional design methods. \n",
    "\n",
    "In this notebook, we demonstrate the optimization of a compact silicon waveguide reflector using GA, utilizing the open source Python library [pyGAD](https://pygad.readthedocs.io/en/latest/). The idea follows `Zejie Yu, Haoran Cui, and Xiankai Sun, \"Genetically optimized on-chip wideband ultracompact reflectors and Fabry–Perot cavities,\" Photon. Res. 5, B15-B19 (2017)` [DOI:10.1364/PRJ.5.000B15](https://doi.org/10.1364/PRJ.5.000B15). The design region of the reflector consists of a grid divided into 18x18 pixels. Each pixel is a square measuring 120 nm by 120 nm. \n",
    "\n",
    "<img src=\"img/optimized_reflector.png\" width=\"450\" alt=\"Schematic of the reflector\">\n",
    "\n",
    "`Tidy3D` is a powerful tool for photonic design optimization due to its fast speed and high throughput. Besides GA, we have demonstrated particle swarm optimizations of a [polarization beam splitter](https://www.flexcompute.com/tidy3d/examples/notebooks/ParticleSwarmOptimizedPBS/) and a [bullseye cavity](https://www.flexcompute.com/tidy3d/examples/notebooks/BullseyeCavityPSO/), CMA-ES optimization of an [waveguide S-bend](https://www.flexcompute.com/tidy3d/examples/notebooks/SbendCMAES/), and direct binary search optimization of an [optical switch](https://www.flexcompute.com/tidy3d/examples/notebooks/OpticalSwitchDBS/). Furthermore, we also have a growing list of gradient-based adjoint optimization examples including\n",
    "\n",
    "1. [Mode converter](https://www.flexcompute.com/tidy3d/examples/notebooks/AdjointPlugin3InverseDesign/),\n",
    "\n",
    "2. [Waveguide taper](https://www.flexcompute.com/tidy3d/examples/notebooks/AdjointPlugin5BoundaryGradients/),\n",
    "\n",
    "3. [Metalens](https://www.flexcompute.com/tidy3d/examples/notebooks/AdjointPlugin7Metalens/),\n",
    "\n",
    "4. [Waveguide bend](https://www.flexcompute.com/tidy3d/examples/notebooks/AdjointPlugin8WaveguideBend/), \n",
    "\n",
    "5. [Multiplexer](https://www.flexcompute.com/tidy3d/examples/notebooks/AdjointPlugin9WDM/),\n",
    "\n",
    "6. [Y-branch](https://www.flexcompute.com/tidy3d/examples/notebooks/AdjointPlugin10YBranchLevelSet/),\n",
    "\n",
    "7. [MZI circuit](https://www.flexcompute.com/tidy3d/examples/notebooks/AdjointPlugin11CircuitMZI/),\n",
    "\n",
    "8. [Light extractor](https://www.flexcompute.com/tidy3d/examples/notebooks/AdjointPlugin12LightExtractor/)."
   ]
  },
  {
   "cell_type": "code",
   "execution_count": 1,
   "id": "b9979b1b",
   "metadata": {},
   "outputs": [],
   "source": [
    "import pygad\n",
    "import numpy as np\n",
    "import matplotlib.pyplot as plt\n",
    "\n",
    "import tidy3d as td\n",
    "import tidy3d.web as web"
   ]
  },
  {
   "cell_type": "markdown",
   "id": "fb19411a",
   "metadata": {},
   "source": [
    "## Simulation Setup"
   ]
  },
  {
   "cell_type": "markdown",
   "id": "21fd3302",
   "metadata": {},
   "source": [
    "For simplicity, we will use the silicon and oxide media directly from the [material library](https://docs.flexcompute.com/projects/tidy3d/en/latest/api/material_library.html#)."
   ]
  },
  {
   "cell_type": "code",
   "execution_count": 2,
   "id": "3e01ad5e",
   "metadata": {},
   "outputs": [],
   "source": [
    "Si = td.material_library[\"cSi\"][\"Palik_Lossless\"]\n",
    "SiO2 = td.material_library[\"SiO2\"][\"Palik_Lossless\"]"
   ]
  },
  {
   "cell_type": "markdown",
   "id": "eb7a4663",
   "metadata": {},
   "source": [
    "The simulation wavelength range is 1450 nm to 1650 nm."
   ]
  },
  {
   "cell_type": "code",
   "execution_count": 3,
   "id": "531341c1",
   "metadata": {},
   "outputs": [],
   "source": [
    "lda0 = 1.55  # central wavelength\n",
    "freq0 = td.C_0 / lda0  # central frequency\n",
    "ldas = np.linspace(1.45, 1.65, 101)  # wavelength range\n",
    "freqs = td.C_0 / ldas  # frequency range\n",
    "fwidth = 0.5 * (np.max(freqs) - np.min(freqs))  # width of the source frequency range"
   ]
  },
  {
   "cell_type": "markdown",
   "id": "c58826ce",
   "metadata": {},
   "source": [
    "The waveguide has a 500 nm width and 220 nm thickness. The design region consists of 18 by 18 pixels. Each pixel is 120 nm by 120 nm. Due to the symmetry, we only consider symmetric design so the total number of tunable pixels is 18*9=162."
   ]
  },
  {
   "cell_type": "code",
   "execution_count": 4,
   "id": "70707ef4",
   "metadata": {},
   "outputs": [],
   "source": [
    "w = 0.5  # width of the waveguide\n",
    "t = 0.22  # thickness of the silicon\n",
    "l = 1  # length of the waveguide in the simulation\n",
    "Px = Py = 0.12  # pixel sizes in the x and y directions\n",
    "Nx = 18  # number of pixels in the x direction\n",
    "Ny = 9  # numbre of pixels in the y direction\n",
    "buffer = 0.8  # buffer spacing"
   ]
  },
  {
   "cell_type": "markdown",
   "id": "7f6e1510",
   "metadata": {},
   "source": [
    "We will an array of length 162 to represent a design. Each element corresponds to each pixel in the design region. An element value of 1 means the pixel is silicon while an element value of 0 means the pixel is void. To facilitate the optimization, we define a helper function `create_design(pixels)` that takes the pixel array and creates the [Structures](https://docs.flexcompute.com/projects/tidy3d/en/latest/api/_autosummary/tidy3d.Structure.html) of the simulation, inlcuding the waveguide and the design region. "
   ]
  },
  {
   "cell_type": "code",
   "execution_count": 5,
   "id": "04b74f92",
   "metadata": {},
   "outputs": [],
   "source": [
    "def create_design(pixels):\n",
    "    geo = 0\n",
    "    for i, pixel in enumerate(pixels):\n",
    "        if pixel == 1:\n",
    "            geo += td.Box(\n",
    "                center=(l + Px / 2 + Px * (i % Nx), Py * Ny - Py / 2 - Py * (i // Nx), t / 2),\n",
    "                size=(Px, Py, t),\n",
    "            )\n",
    "            geo += td.Box(\n",
    "                center=(l + Px / 2 + Px * (i % Nx), -(Py * Ny - Py / 2 - Py * (i // Nx)), t / 2),\n",
    "                size=(Px, Py, t),\n",
    "            )\n",
    "    geo = geo + td.Box(center=(0, 0, t / 2), size=(2 * l, w, t))\n",
    "\n",
    "    design = td.Structure(geometry=geo, medium=Si)\n",
    "\n",
    "    return design"
   ]
  },
  {
   "cell_type": "markdown",
   "id": "d4a87700",
   "metadata": {},
   "source": [
    "As a quick check, we create a random array and plot the created structures."
   ]
  },
  {
   "cell_type": "code",
   "execution_count": 6,
   "id": "3fc9d4e5",
   "metadata": {},
   "outputs": [
    {
     "data": {
      "image/png": "[encoded data removed]",
      "text/plain": [
       "<Figure size 640x480 with 1 Axes>"
      ]
     },
     "metadata": {},
     "output_type": "display_data"
    }
   ],
   "source": [
    "pixels = np.random.choice([0, 1], size=Nx * Ny)\n",
    "design = create_design(pixels)\n",
    "design.plot(z=t / 2)\n",
    "plt.show()"
   ]
  },
  {
   "cell_type": "markdown",
   "id": "93cfd3ca",
   "metadata": {},
   "source": [
    "Furthermore, we define a `make_sim(pixels)` function to define the entire simulation given the pixel array. The simulation includes a [ModeSource](https://docs.flexcompute.com/projects/tidy3d/en/latest/api/_autosummary/tidy3d.ModeSource.html) to launch the TE0 mode at the waveguide and a [ModeMonitor](https://docs.flexcompute.com/projects/tidy3d/en/latest/api/_autosummary/tidy3d.ModeMonitor.html) next to the source to measure the reflection. To minimize data download during the optimization, we will only record the reflection at the central wavelength of 1550 nm since the objective is to maximize this value. "
   ]
  },
  {
   "cell_type": "code",
   "execution_count": 8,
   "id": "cd22e367",
   "metadata": {},
   "outputs": [],
   "source": [
    "def make_sim(pixels):\n",
    "\n",
    "    design = create_design(pixels)\n",
    "\n",
    "    # add a mode source as excitation\n",
    "    mode_spec = td.ModeSpec(num_modes=1, target_neff=3.5)\n",
    "    mode_source = td.ModeSource(\n",
    "        center=(l / 2, 0, t / 2),\n",
    "        size=(0, 4 * w, 6 * t),\n",
    "        source_time=td.GaussianPulse(freq0=freq0, fwidth=fwidth),\n",
    "        direction=\"+\",\n",
    "        mode_spec=mode_spec,\n",
    "        mode_index=0,\n",
    "    )\n",
    "\n",
    "    # add a mode monitor to measure transmission at the output waveguide\n",
    "    mode_monitor = td.ModeMonitor(\n",
    "        center=(l / 4, 0, t / 2),\n",
    "        size=mode_source.size,\n",
    "        freqs=[freq0],\n",
    "        mode_spec=mode_spec,\n",
    "        name=\"mode\",\n",
    "    )\n",
    "\n",
    "    # define simulation domain size\n",
    "    Lx = l + Nx * Px + buffer\n",
    "    Ly = 2 * Ny * Py + 2 * buffer\n",
    "    Lz = 10 * t\n",
    "\n",
    "    eff_inf = 1e2  # effective infinity\n",
    "\n",
    "    # define substrate structure\n",
    "    substrate = td.Structure(\n",
    "        geometry=td.Box.from_bounds(\n",
    "            rmin=(-eff_inf, -eff_inf, -eff_inf), rmax=(eff_inf, eff_inf, 0)\n",
    "        ),\n",
    "        medium=SiO2,\n",
    "    )\n",
    "\n",
    "    run_time = 5e-13  # simulation run time\n",
    "\n",
    "    # simulation box\n",
    "    sim_box = td.Box.from_bounds(rmin=(0, -Ly / 2, -Lz / 2), rmax=(Lx, Ly / 2, Lz / 2))\n",
    "\n",
    "    # define simulation\n",
    "    sim = td.Simulation(\n",
    "        center=sim_box.center,\n",
    "        size=sim_box.size,\n",
    "        grid_spec=td.GridSpec.auto(min_steps_per_wvl=16, wavelength=lda0),\n",
    "        structures=[design, substrate],\n",
    "        sources=[mode_source],\n",
    "        monitors=[mode_monitor],\n",
    "        run_time=run_time,\n",
    "        boundary_spec=td.BoundarySpec.all_sides(boundary=td.PML()),\n",
    "        symmetry=(0, -1, 0),\n",
    "    )\n",
    "\n",
    "    return sim"
   ]
  },
  {
   "cell_type": "markdown",
   "id": "174fe54c",
   "metadata": {},
   "source": [
    "Again, we test it by defining a simulation with a random pixel array. From the 3D view, we confirm that the simulation setup is correct."
   ]
  },
  {
   "cell_type": "code",
   "execution_count": 9,
   "id": "cc3e6ad7",
   "metadata": {},
   "outputs": [
    {
     "data": {
      "text/html": [
       "\n",
       "    <div class=\"simulation-viewer\" data-width=\"800\" data-height=\"800\" data-simulation=\"{&quot;attrs&quot;: {}, &quot;type&quot;: &quot;Simulation&quot;, &quot;center&quot;: [1.98, 0.0, 0.0], &quot;size&quot;: [3.96, 3.7600000000000002, 2.2], &quot;medium&quot;: {&quot;attrs&quot;: {}, &quot;name&quot;: null, &quot;frequency_range&quot;: null, &quot;allow_gain&quot;: false, &quot;nonlinear_spec&quot;: null, &quot;modulation_spec&quot;: null, &quot;heat_spec&quot;: null, &quot;type&quot;: &quot;Medium&quot;, &quot;permittivity&quot;: 1.0, &quot;conductivity&quot;: 0.0}, &quot;structures&quot;: [{&quot;attrs&quot;: {}, &quot;geometry&quot;: {&quot;attrs&quot;: {}, &quot;type&quot;: &quot;GeometryGroup&quot;, &quot;geometries&quot;: [{&quot;attrs&quot;: {}, &quot;type&quot;: &quot;Box&quot;, &quot;center&quot;: [1.54, 1.02, 0.11], &quot;size&quot;: [0.12, 0.12, 0.22]}, {&quot;attrs&quot;: {}, &quot;type&quot;: &quot;Box&quot;, &quot;center&quot;: [1.54, -1.02, 0.11], &quot;size&quot;: [0.12, 0.12, 0.22]}, {&quot;attrs&quot;: {}, &quot;type&quot;: &quot;Box&quot;, &quot;center&quot;: [1.6600000000000001, 1.02, 0.11], &quot;size&quot;: [0.12, 0.12, 0.22]}, {&quot;attrs&quot;: {}, &quot;type&quot;: &quot;Box&quot;, &quot;center&quot;: [1.6600000000000001, -1.02, 0.11], &quot;size&quot;: [0.12, 0.12, 0.22]}, {&quot;attrs&quot;: {}, &quot;type&quot;: &quot;Box&quot;, &quot;center&quot;: [1.78, 1.02, 0.11], &quot;size&quot;: [0.12, 0.12, 0.22]}, {&quot;attrs&quot;: {}, &quot;type&quot;: &quot;Box&quot;, &quot;center&quot;: [1.78, -1.02, 0.11], &quot;size&quot;: [0.12, 0.12, 0.22]}, {&quot;attrs&quot;: {}, &quot;type&quot;: &quot;Box&quot;, &quot;center&quot;: [1.9, 1.02, 0.11], &quot;size&quot;: [0.12, 0.12, 0.22]}, {&quot;attrs&quot;: {}, &quot;type&quot;: &quot;Box&quot;, &quot;center&quot;: [1.9, -1.02, 0.11], &quot;size&quot;: [0.12, 0.12, 0.22]}, {&quot;attrs&quot;: {}, &quot;type&quot;: &quot;Box&quot;, &quot;center&quot;: [2.02, 1.02, 0.11], &quot;size&quot;: [0.12, 0.12, 0.22]}, {&quot;attrs&quot;: {}, &quot;type&quot;: &quot;Box&quot;, &quot;center&quot;: [2.02, -1.02, 0.11], &quot;size&quot;: [0.12, 0.12, 0.22]}, {&quot;attrs&quot;: {}, &quot;type&quot;: &quot;Box&quot;, &quot;center&quot;: [2.26, 1.02, 0.11], &quot;size&quot;: [0.12, 0.12, 0.22]}, {&quot;attrs&quot;: {}, &quot;type&quot;: &quot;Box&quot;, &quot;center&quot;: [2.26, -1.02, 0.11], &quot;size&quot;: [0.12, 0.12, 0.22]}, {&quot;attrs&quot;: {}, &quot;type&quot;: &quot;Box&quot;, &quot;center&quot;: [2.5, 1.02, 0.11], &quot;size&quot;: [0.12, 0.12, 0.22]}, {&quot;attrs&quot;: {}, &quot;type&quot;: &quot;Box&quot;, &quot;center&quot;: [2.5, -1.02, 0.11], &quot;size&quot;: [0.12, 0.12, 0.22]}, {&quot;attrs&quot;: {}, &quot;type&quot;: &quot;Box&quot;, &quot;center&quot;: [2.62, 1.02, 0.11], &quot;size&quot;: [0.12, 0.12, 0.22]}, {&quot;attrs&quot;: {}, &quot;type&quot;: &quot;Box&quot;, &quot;center&quot;: [2.62, -1.02, 0.11], &quot;size&quot;: [0.12, 0.12, 0.22]}, {&quot;attrs&quot;: {}, &quot;type&quot;: &quot;Box&quot;, &quot;center&quot;: [3.1, 1.02, 0.11], &quot;size&quot;: [0.12, 0.12, 0.22]}, {&quot;attrs&quot;: {}, &quot;type&quot;: &quot;Box&quot;, &quot;center&quot;: [3.1, -1.02, 0.11], &quot;size&quot;: [0.12, 0.12, 0.22]}, {&quot;attrs&quot;: {}, &quot;type&quot;: &quot;Box&quot;, &quot;center&quot;: [1.06, 0.9, 0.11], &quot;size&quot;: [0.12, 0.12, 0.22]}, {&quot;attrs&quot;: {}, &quot;type&quot;: &quot;Box&quot;, &quot;center&quot;: [1.06, -0.9, 0.11], &quot;size&quot;: [0.12, 0.12, 0.22]}, {&quot;attrs&quot;: {}, &quot;type&quot;: &quot;Box&quot;, &quot;center&quot;: [1.42, 0.9, 0.11], &quot;size&quot;: [0.12, 0.12, 0.22]}, {&quot;attrs&quot;: {}, &quot;type&quot;: &quot;Box&quot;, &quot;center&quot;: [1.42, -0.9, 0.11], &quot;size&quot;: [0.12, 0.12, 0.22]}, {&quot;attrs&quot;: {}, &quot;type&quot;: &quot;Box&quot;, &quot;center&quot;: [1.6600000000000001, 0.9, 0.11], &quot;size&quot;: [0.12, 0.12, 0.22]}, {&quot;attrs&quot;: {}, &quot;type&quot;: &quot;Box&quot;, &quot;center&quot;: [1.6600000000000001, -0.9, 0.11], &quot;size&quot;: [0.12, 0.12, 0.22]}, {&quot;attrs&quot;: {}, &quot;type&quot;: &quot;Box&quot;, &quot;center&quot;: [1.9, 0.9, 0.11], &quot;size&quot;: [0.12, 0.12, 0.22]}, {&quot;attrs&quot;: {}, &quot;type&quot;: &quot;Box&quot;, &quot;center&quot;: [1.9, -0.9, 0.11], &quot;size&quot;: [0.12, 0.12, 0.22]}, {&quot;attrs&quot;: {}, &quot;type&quot;: &quot;Box&quot;, &quot;center&quot;: [2.02, 0.9, 0.11], &quot;size&quot;: [0.12, 0.12, 0.22]}, {&quot;attrs&quot;: {}, &quot;type&quot;: &quot;Box&quot;, &quot;center&quot;: [2.02, -0.9, 0.11], &quot;size&quot;: [0.12, 0.12, 0.22]}, {&quot;attrs&quot;: {}, &quot;type&quot;: &quot;Box&quot;, &quot;center&quot;: [2.26, 0.9, 0.11], &quot;size&quot;: [0.12, 0.12, 0.22]}, {&quot;attrs&quot;: {}, &quot;type&quot;: &quot;Box&quot;, &quot;center&quot;: [2.26, -0.9, 0.11], &quot;size&quot;: [0.12, 0.12, 0.22]}, {&quot;attrs&quot;: {}, &quot;type&quot;: &quot;Box&quot;, &quot;center&quot;: [2.5, 0.9, 0.11], &quot;size&quot;: [0.12, 0.12, 0.22]}, {&quot;attrs&quot;: {}, &quot;type&quot;: &quot;Box&quot;, &quot;center&quot;: [2.5, -0.9, 0.11], &quot;size&quot;: [0.12, 0.12, 0.22]}, {&quot;attrs&quot;: {}, &quot;type&quot;: &quot;Box&quot;, &quot;center&quot;: [2.86, 0.9, 0.11], &quot;size&quot;: [0.12, 0.12, 0.22]}, {&quot;attrs&quot;: {}, &quot;type&quot;: &quot;Box&quot;, &quot;center&quot;: [2.86, -0.9, 0.11], &quot;size&quot;: [0.12, 0.12, 0.22]}, {&quot;attrs&quot;: {}, &quot;type&quot;: &quot;Box&quot;, &quot;center&quot;: [1.06, 0.78, 0.11], &quot;size&quot;: [0.12, 0.12, 0.22]}, {&quot;attrs&quot;: {}, &quot;type&quot;: &quot;Box&quot;, &quot;center&quot;: [1.06, -0.78, 0.11], &quot;size&quot;: [0.12, 0.12, 0.22]}, {&quot;attrs&quot;: {}, &quot;type&quot;: &quot;Box&quot;, &quot;center&quot;: [1.1800000000000002, 0.78, 0.11], &quot;size&quot;: [0.12, 0.12, 0.22]}, {&quot;attrs&quot;: {}, &quot;type&quot;: &quot;Box&quot;, &quot;center&quot;: [1.1800000000000002, -0.78, 0.11], &quot;size&quot;: [0.12, 0.12, 0.22]}, {&quot;attrs&quot;: {}, &quot;type&quot;: &quot;Box&quot;, &quot;center&quot;: [1.6600000000000001, 0.78, 0.11], &quot;size&quot;: [0.12, 0.12, 0.22]}, {&quot;attrs&quot;: {}, &quot;type&quot;: &quot;Box&quot;, &quot;center&quot;: [1.6600000000000001, -0.78, 0.11], &quot;size&quot;: [0.12, 0.12, 0.22]}, {&quot;attrs&quot;: {}, &quot;type&quot;: &quot;Box&quot;, &quot;center&quot;: [1.9, 0.78, 0.11], &quot;size&quot;: [0.12, 0.12, 0.22]}, {&quot;attrs&quot;: {}, &quot;type&quot;: &quot;Box&quot;, &quot;center&quot;: [1.9, -0.78, 0.11], &quot;size&quot;: [0.12, 0.12, 0.22]}, {&quot;attrs&quot;: {}, &quot;type&quot;: &quot;Box&quot;, &quot;center&quot;: [2.02, 0.78, 0.11], &quot;size&quot;: [0.12, 0.12, 0.22]}, {&quot;attrs&quot;: {}, &quot;type&quot;: &quot;Box&quot;, &quot;center&quot;: [2.02, -0.78, 0.11], &quot;size&quot;: [0.12, 0.12, 0.22]}, {&quot;attrs&quot;: {}, &quot;type&quot;: &quot;Box&quot;, &quot;center&quot;: [2.14, 0.78, 0.11], &quot;size&quot;: [0.12, 0.12, 0.22]}, {&quot;attrs&quot;: {}, &quot;type&quot;: &quot;Box&quot;, &quot;center&quot;: [2.14, -0.78, 0.11], &quot;size&quot;: [0.12, 0.12, 0.22]}, {&quot;attrs&quot;: {}, &quot;type&quot;: &quot;Box&quot;, &quot;center&quot;: [2.26, 0.78, 0.11], &quot;size&quot;: [0.12, 0.12, 0.22]}, {&quot;attrs&quot;: {}, &quot;type&quot;: &quot;Box&quot;, &quot;center&quot;: [2.26, -0.78, 0.11], &quot;size&quot;: [0.12, 0.12, 0.22]}, {&quot;attrs&quot;: {}, &quot;type&quot;: &quot;Box&quot;, &quot;center&quot;: [2.5, 0.78, 0.11], &quot;size&quot;: [0.12, 0.12, 0.22]}, {&quot;attrs&quot;: {}, &quot;type&quot;: &quot;Box&quot;, &quot;center&quot;: [2.5, -0.78, 0.11], &quot;size&quot;: [0.12, 0.12, 0.22]}, {&quot;attrs&quot;: {}, &quot;type&quot;: &quot;Box&quot;, &quot;center&quot;: [2.74, 0.78, 0.11], &quot;size&quot;: [0.12, 0.12, 0.22]}, {&quot;attrs&quot;: {}, &quot;type&quot;: &quot;Box&quot;, &quot;center&quot;: [2.74, -0.78, 0.11], &quot;size&quot;: [0.12, 0.12, 0.22]}, {&quot;attrs&quot;: {}, &quot;type&quot;: &quot;Box&quot;, &quot;center&quot;: [2.86, 0.78, 0.11], &quot;size&quot;: [0.12, 0.12, 0.22]}, {&quot;attrs&quot;: {}, &quot;type&quot;: &quot;Box&quot;, &quot;center&quot;: [2.86, -0.78, 0.11], &quot;size&quot;: [0.12, 0.12, 0.22]}, {&quot;attrs&quot;: {}, &quot;type&quot;: &quot;Box&quot;, &quot;center&quot;: [1.06, 0.66, 0.11], &quot;size&quot;: [0.12, 0.12, 0.22]}, {&quot;attrs&quot;: {}, &quot;type&quot;: &quot;Box&quot;, &quot;center&quot;: [1.06, -0.66, 0.11], &quot;size&quot;: [0.12, 0.12, 0.22]}, {&quot;attrs&quot;: {}, &quot;type&quot;: &quot;Box&quot;, &quot;center&quot;: [1.1800000000000002, 0.66, 0.11], &quot;size&quot;: [0.12, 0.12, 0.22]}, {&quot;attrs&quot;: {}, &quot;type&quot;: &quot;Box&quot;, &quot;center&quot;: [1.1800000000000002, -0.66, 0.11], &quot;size&quot;: [0.12, 0.12, 0.22]}, {&quot;attrs&quot;: {}, &quot;type&quot;: &quot;Box&quot;, &quot;center&quot;: [1.42, 0.66, 0.11], &quot;size&quot;: [0.12, 0.12, 0.22]}, {&quot;attrs&quot;: {}, &quot;type&quot;: &quot;Box&quot;, &quot;center&quot;: [1.42, -0.66, 0.11], &quot;size&quot;: [0.12, 0.12, 0.22]}, {&quot;attrs&quot;: {}, &quot;type&quot;: &quot;Box&quot;, &quot;center&quot;: [1.6600000000000001, 0.66, 0.11], &quot;size&quot;: [0.12, 0.12, 0.22]}, {&quot;attrs&quot;: {}, &quot;type&quot;: &quot;Box&quot;, &quot;center&quot;: [1.6600000000000001, -0.66, 0.11], &quot;size&quot;: [0.12, 0.12, 0.22]}, {&quot;attrs&quot;: {}, &quot;type&quot;: &quot;Box&quot;, &quot;center&quot;: [1.9, 0.66, 0.11], &quot;size&quot;: [0.12, 0.12, 0.22]}, {&quot;attrs&quot;: {}, &quot;type&quot;: &quot;Box&quot;, &quot;center&quot;: [1.9, -0.66, 0.11], &quot;size&quot;: [0.12, 0.12, 0.22]}, {&quot;attrs&quot;: {}, &quot;type&quot;: &quot;Box&quot;, &quot;center&quot;: [2.14, 0.66, 0.11], &quot;size&quot;: [0.12, 0.12, 0.22]}, {&quot;attrs&quot;: {}, &quot;type&quot;: &quot;Box&quot;, &quot;center&quot;: [2.14, -0.66, 0.11], &quot;size&quot;: [0.12, 0.12, 0.22]}, {&quot;attrs&quot;: {}, &quot;type&quot;: &quot;Box&quot;, &quot;center&quot;: [2.26, 0.66, 0.11], &quot;size&quot;: [0.12, 0.12, 0.22]}, {&quot;attrs&quot;: {}, &quot;type&quot;: &quot;Box&quot;, &quot;center&quot;: [2.26, -0.66, 0.11], &quot;size&quot;: [0.12, 0.12, 0.22]}, {&quot;attrs&quot;: {}, &quot;type&quot;: &quot;Box&quot;, &quot;center&quot;: [2.38, 0.66, 0.11], &quot;size&quot;: [0.12, 0.12, 0.22]}, {&quot;attrs&quot;: {}, &quot;type&quot;: &quot;Box&quot;, &quot;center&quot;: [2.38, -0.66, 0.11], &quot;size&quot;: [0.12, 0.12, 0.22]}, {&quot;attrs&quot;: {}, &quot;type&quot;: &quot;Box&quot;, &quot;center&quot;: [2.5, 0.66, 0.11], &quot;size&quot;: [0.12, 0.12, 0.22]}, {&quot;attrs&quot;: {}, &quot;type&quot;: &quot;Box&quot;, &quot;center&quot;: [2.5, -0.66, 0.11], &quot;size&quot;: [0.12, 0.12, 0.22]}, {&quot;attrs&quot;: {}, &quot;type&quot;: &quot;Box&quot;, &quot;center&quot;: [2.74, 0.66, 0.11], &quot;size&quot;: [0.12, 0.12, 0.22]}, {&quot;attrs&quot;: {}, &quot;type&quot;: &quot;Box&quot;, &quot;center&quot;: [2.74, -0.66, 0.11], &quot;size&quot;: [0.12, 0.12, 0.22]}, {&quot;attrs&quot;: {}, &quot;type&quot;: &quot;Box&quot;, &quot;center&quot;: [1.06, 0.54, 0.11], &quot;size&quot;: [0.12, 0.12, 0.22]}, {&quot;attrs&quot;: {}, &quot;type&quot;: &quot;Box&quot;, &quot;center&quot;: [1.06, -0.54, 0.11], &quot;size&quot;: [0.12, 0.12, 0.22]}, {&quot;attrs&quot;: {}, &quot;type&quot;: &quot;Box&quot;, &quot;center&quot;: [1.6600000000000001, 0.54, 0.11], &quot;size&quot;: [0.12, 0.12, 0.22]}, {&quot;attrs&quot;: {}, &quot;type&quot;: &quot;Box&quot;, &quot;center&quot;: [1.6600000000000001, -0.54, 0.11], &quot;size&quot;: [0.12, 0.12, 0.22]}, {&quot;attrs&quot;: {}, &quot;type&quot;: &quot;Box&quot;, &quot;center&quot;: [1.78, 0.54, 0.11], &quot;size&quot;: [0.12, 0.12, 0.22]}, {&quot;attrs&quot;: {}, &quot;type&quot;: &quot;Box&quot;, &quot;center&quot;: [1.78, -0.54, 0.11], &quot;size&quot;: [0.12, 0.12, 0.22]}, {&quot;attrs&quot;: {}, &quot;type&quot;: &quot;Box&quot;, &quot;center&quot;: [2.02, 0.54, 0.11], &quot;size&quot;: [0.12, 0.12, 0.22]}, {&quot;attrs&quot;: {}, &quot;type&quot;: &quot;Box&quot;, &quot;center&quot;: [2.02, -0.54, 0.11], &quot;size&quot;: [0.12, 0.12, 0.22]}, {&quot;attrs&quot;: {}, &quot;type&quot;: &quot;Box&quot;, &quot;center&quot;: [2.26, 0.54, 0.11], &quot;size&quot;: [0.12, 0.12, 0.22]}, {&quot;attrs&quot;: {}, &quot;type&quot;: &quot;Box&quot;, &quot;center&quot;: [2.26, -0.54, 0.11], &quot;size&quot;: [0.12, 0.12, 0.22]}, {&quot;attrs&quot;: {}, &quot;type&quot;: &quot;Box&quot;, &quot;center&quot;: [2.86, 0.54, 0.11], &quot;size&quot;: [0.12, 0.12, 0.22]}, {&quot;attrs&quot;: {}, &quot;type&quot;: &quot;Box&quot;, &quot;center&quot;: [2.86, -0.54, 0.11], &quot;size&quot;: [0.12, 0.12, 0.22]}, {&quot;attrs&quot;: {}, &quot;type&quot;: &quot;Box&quot;, &quot;center&quot;: [3.1, 0.54, 0.11], &quot;size&quot;: [0.12, 0.12, 0.22]}, {&quot;attrs&quot;: {}, &quot;type&quot;: &quot;Box&quot;, &quot;center&quot;: [3.1, -0.54, 0.11], &quot;size&quot;: [0.12, 0.12, 0.22]}, {&quot;attrs&quot;: {}, &quot;type&quot;: &quot;Box&quot;, &quot;center&quot;: [1.3, 0.42000000000000004, 0.11], &quot;size&quot;: [0.12, 0.12, 0.22]}, {&quot;attrs&quot;: {}, &quot;type&quot;: &quot;Box&quot;, &quot;center&quot;: [1.3, -0.42000000000000004, 0.11], &quot;size&quot;: [0.12, 0.12, 0.22]}, {&quot;attrs&quot;: {}, &quot;type&quot;: &quot;Box&quot;, &quot;center&quot;: [1.42, 0.42000000000000004, 0.11], &quot;size&quot;: [0.12, 0.12, 0.22]}, {&quot;attrs&quot;: {}, &quot;type&quot;: &quot;Box&quot;, &quot;center&quot;: [1.42, -0.42000000000000004, 0.11], &quot;size&quot;: [0.12, 0.12, 0.22]}, {&quot;attrs&quot;: {}, &quot;type&quot;: &quot;Box&quot;, &quot;center&quot;: [1.78, 0.42000000000000004, 0.11], &quot;size&quot;: [0.12, 0.12, 0.22]}, {&quot;attrs&quot;: {}, &quot;type&quot;: &quot;Box&quot;, &quot;center&quot;: [1.78, -0.42000000000000004, 0.11], &quot;size&quot;: [0.12, 0.12, 0.22]}, {&quot;attrs&quot;: {}, &quot;type&quot;: &quot;Box&quot;, &quot;center&quot;: [1.9, 0.42000000000000004, 0.11], &quot;size&quot;: [0.12, 0.12, 0.22]}, {&quot;attrs&quot;: {}, &quot;type&quot;: &quot;Box&quot;, &quot;center&quot;: [1.9, -0.42000000000000004, 0.11], &quot;size&quot;: [0.12, 0.12, 0.22]}, {&quot;attrs&quot;: {}, &quot;type&quot;: &quot;Box&quot;, &quot;center&quot;: [2.02, 0.42000000000000004, 0.11], &quot;size&quot;: [0.12, 0.12, 0.22]}, {&quot;attrs&quot;: {}, &quot;type&quot;: &quot;Box&quot;, &quot;center&quot;: [2.02, -0.42000000000000004, 0.11], &quot;size&quot;: [0.12, 0.12, 0.22]}, {&quot;attrs&quot;: {}, &quot;type&quot;: &quot;Box&quot;, &quot;center&quot;: [2.86, 0.42000000000000004, 0.11], &quot;size&quot;: [0.12, 0.12, 0.22]}, {&quot;attrs&quot;: {}, &quot;type&quot;: &quot;Box&quot;, &quot;center&quot;: [2.86, -0.42000000000000004, 0.11], &quot;size&quot;: [0.12, 0.12, 0.22]}, {&quot;attrs&quot;: {}, &quot;type&quot;: &quot;Box&quot;, &quot;center&quot;: [2.98, 0.42000000000000004, 0.11], &quot;size&quot;: [0.12, 0.12, 0.22]}, {&quot;attrs&quot;: {}, &quot;type&quot;: &quot;Box&quot;, &quot;center&quot;: [2.98, -0.42000000000000004, 0.11], &quot;size&quot;: [0.12, 0.12, 0.22]}, {&quot;attrs&quot;: {}, &quot;type&quot;: &quot;Box&quot;, &quot;center&quot;: [1.06, 0.30000000000000004, 0.11], &quot;size&quot;: [0.12, 0.12, 0.22]}, {&quot;attrs&quot;: {}, &quot;type&quot;: &quot;Box&quot;, &quot;center&quot;: [1.06, -0.30000000000000004, 0.11], &quot;size&quot;: [0.12, 0.12, 0.22]}, {&quot;attrs&quot;: {}, &quot;type&quot;: &quot;Box&quot;, &quot;center&quot;: [1.54, 0.30000000000000004, 0.11], &quot;size&quot;: [0.12, 0.12, 0.22]}, {&quot;attrs&quot;: {}, &quot;type&quot;: &quot;Box&quot;, &quot;center&quot;: [1.54, -0.30000000000000004, 0.11], &quot;size&quot;: [0.12, 0.12, 0.22]}, {&quot;attrs&quot;: {}, &quot;type&quot;: &quot;Box&quot;, &quot;center&quot;: [1.6600000000000001, 0.30000000000000004, 0.11], &quot;size&quot;: [0.12, 0.12, 0.22]}, {&quot;attrs&quot;: {}, &quot;type&quot;: &quot;Box&quot;, &quot;center&quot;: [1.6600000000000001, -0.30000000000000004, 0.11], &quot;size&quot;: [0.12, 0.12, 0.22]}, {&quot;attrs&quot;: {}, &quot;type&quot;: &quot;Box&quot;, &quot;center&quot;: [1.78, 0.30000000000000004, 0.11], &quot;size&quot;: [0.12, 0.12, 0.22]}, {&quot;attrs&quot;: {}, &quot;type&quot;: &quot;Box&quot;, &quot;center&quot;: [1.78, -0.30000000000000004, 0.11], &quot;size&quot;: [0.12, 0.12, 0.22]}, {&quot;attrs&quot;: {}, &quot;type&quot;: &quot;Box&quot;, &quot;center&quot;: [2.02, 0.30000000000000004, 0.11], &quot;size&quot;: [0.12, 0.12, 0.22]}, {&quot;attrs&quot;: {}, &quot;type&quot;: &quot;Box&quot;, &quot;center&quot;: [2.02, -0.30000000000000004, 0.11], &quot;size&quot;: [0.12, 0.12, 0.22]}, {&quot;attrs&quot;: {}, &quot;type&quot;: &quot;Box&quot;, &quot;center&quot;: [2.14, 0.30000000000000004, 0.11], &quot;size&quot;: [0.12, 0.12, 0.22]}, {&quot;attrs&quot;: {}, &quot;type&quot;: &quot;Box&quot;, &quot;center&quot;: [2.14, -0.30000000000000004, 0.11], &quot;size&quot;: [0.12, 0.12, 0.22]}, {&quot;attrs&quot;: {}, &quot;type&quot;: &quot;Box&quot;, &quot;center&quot;: [2.5, 0.30000000000000004, 0.11], &quot;size&quot;: [0.12, 0.12, 0.22]}, {&quot;attrs&quot;: {}, &quot;type&quot;: &quot;Box&quot;, &quot;center&quot;: [2.5, -0.30000000000000004, 0.11], &quot;size&quot;: [0.12, 0.12, 0.22]}, {&quot;attrs&quot;: {}, &quot;type&quot;: &quot;Box&quot;, &quot;center&quot;: [2.74, 0.30000000000000004, 0.11], &quot;size&quot;: [0.12, 0.12, 0.22]}, {&quot;attrs&quot;: {}, &quot;type&quot;: &quot;Box&quot;, &quot;center&quot;: [2.74, -0.30000000000000004, 0.11], &quot;size&quot;: [0.12, 0.12, 0.22]}, {&quot;attrs&quot;: {}, &quot;type&quot;: &quot;Box&quot;, &quot;center&quot;: [2.86, 0.30000000000000004, 0.11], &quot;size&quot;: [0.12, 0.12, 0.22]}, {&quot;attrs&quot;: {}, &quot;type&quot;: &quot;Box&quot;, &quot;center&quot;: [2.86, -0.30000000000000004, 0.11], &quot;size&quot;: [0.12, 0.12, 0.22]}, {&quot;attrs&quot;: {}, &quot;type&quot;: &quot;Box&quot;, &quot;center&quot;: [2.98, 0.30000000000000004, 0.11], &quot;size&quot;: [0.12, 0.12, 0.22]}, {&quot;attrs&quot;: {}, &quot;type&quot;: &quot;Box&quot;, &quot;center&quot;: [2.98, -0.30000000000000004, 0.11], &quot;size&quot;: [0.12, 0.12, 0.22]}, {&quot;attrs&quot;: {}, &quot;type&quot;: &quot;Box&quot;, &quot;center&quot;: [3.1, 0.30000000000000004, 0.11], &quot;size&quot;: [0.12, 0.12, 0.22]}, {&quot;attrs&quot;: {}, &quot;type&quot;: &quot;Box&quot;, &quot;center&quot;: [3.1, -0.30000000000000004, 0.11], &quot;size&quot;: [0.12, 0.12, 0.22]}, {&quot;attrs&quot;: {}, &quot;type&quot;: &quot;Box&quot;, &quot;center&quot;: [1.1800000000000002, 0.18000000000000005, 0.11], &quot;size&quot;: [0.12, 0.12, 0.22]}, {&quot;attrs&quot;: {}, &quot;type&quot;: &quot;Box&quot;, &quot;center&quot;: [1.1800000000000002, -0.18000000000000005, 0.11], &quot;size&quot;: [0.12, 0.12, 0.22]}, {&quot;attrs&quot;: {}, &quot;type&quot;: &quot;Box&quot;, &quot;center&quot;: [1.3, 0.18000000000000005, 0.11], &quot;size&quot;: [0.12, 0.12, 0.22]}, {&quot;attrs&quot;: {}, &quot;type&quot;: &quot;Box&quot;, &quot;center&quot;: [1.3, -0.18000000000000005, 0.11], &quot;size&quot;: [0.12, 0.12, 0.22]}, {&quot;attrs&quot;: {}, &quot;type&quot;: &quot;Box&quot;, &quot;center&quot;: [1.42, 0.18000000000000005, 0.11], &quot;size&quot;: [0.12, 0.12, 0.22]}, {&quot;attrs&quot;: {}, &quot;type&quot;: &quot;Box&quot;, &quot;center&quot;: [1.42, -0.18000000000000005, 0.11], &quot;size&quot;: [0.12, 0.12, 0.22]}, {&quot;attrs&quot;: {}, &quot;type&quot;: &quot;Box&quot;, &quot;center&quot;: [1.54, 0.18000000000000005, 0.11], &quot;size&quot;: [0.12, 0.12, 0.22]}, {&quot;attrs&quot;: {}, &quot;type&quot;: &quot;Box&quot;, &quot;center&quot;: [1.54, -0.18000000000000005, 0.11], &quot;size&quot;: [0.12, 0.12, 0.22]}, {&quot;attrs&quot;: {}, &quot;type&quot;: &quot;Box&quot;, &quot;center&quot;: [2.14, 0.18000000000000005, 0.11], &quot;size&quot;: [0.12, 0.12, 0.22]}, {&quot;attrs&quot;: {}, &quot;type&quot;: &quot;Box&quot;, &quot;center&quot;: [2.14, -0.18000000000000005, 0.11], &quot;size&quot;: [0.12, 0.12, 0.22]}, {&quot;attrs&quot;: {}, &quot;type&quot;: &quot;Box&quot;, &quot;center&quot;: [2.38, 0.18000000000000005, 0.11], &quot;size&quot;: [0.12, 0.12, 0.22]}, {&quot;attrs&quot;: {}, &quot;type&quot;: &quot;Box&quot;, &quot;center&quot;: [2.38, -0.18000000000000005, 0.11], &quot;size&quot;: [0.12, 0.12, 0.22]}, {&quot;attrs&quot;: {}, &quot;type&quot;: &quot;Box&quot;, &quot;center&quot;: [2.74, 0.18000000000000005, 0.11], &quot;size&quot;: [0.12, 0.12, 0.22]}, {&quot;attrs&quot;: {}, &quot;type&quot;: &quot;Box&quot;, &quot;center&quot;: [2.74, -0.18000000000000005, 0.11], &quot;size&quot;: [0.12, 0.12, 0.22]}, {&quot;attrs&quot;: {}, &quot;type&quot;: &quot;Box&quot;, &quot;center&quot;: [2.86, 0.18000000000000005, 0.11], &quot;size&quot;: [0.12, 0.12, 0.22]}, {&quot;attrs&quot;: {}, &quot;type&quot;: &quot;Box&quot;, &quot;center&quot;: [2.86, -0.18000000000000005, 0.11], &quot;size&quot;: [0.12, 0.12, 0.22]}, {&quot;attrs&quot;: {}, &quot;type&quot;: &quot;Box&quot;, &quot;center&quot;: [2.98, 0.18000000000000005, 0.11], &quot;size&quot;: [0.12, 0.12, 0.22]}, {&quot;attrs&quot;: {}, &quot;type&quot;: &quot;Box&quot;, &quot;center&quot;: [2.98, -0.18000000000000005, 0.11], &quot;size&quot;: [0.12, 0.12, 0.22]}, {&quot;attrs&quot;: {}, &quot;type&quot;: &quot;Box&quot;, &quot;center&quot;: [3.1, 0.18000000000000005, 0.11], &quot;size&quot;: [0.12, 0.12, 0.22]}, {&quot;attrs&quot;: {}, &quot;type&quot;: &quot;Box&quot;, &quot;center&quot;: [3.1, -0.18000000000000005, 0.11], &quot;size&quot;: [0.12, 0.12, 0.22]}, {&quot;attrs&quot;: {}, &quot;type&quot;: &quot;Box&quot;, &quot;center&quot;: [1.06, 0.06000000000000005, 0.11], &quot;size&quot;: [0.12, 0.12, 0.22]}, {&quot;attrs&quot;: {}, &quot;type&quot;: &quot;Box&quot;, &quot;center&quot;: [1.06, -0.06000000000000005, 0.11], &quot;size&quot;: [0.12, 0.12, 0.22]}, {&quot;attrs&quot;: {}, &quot;type&quot;: &quot;Box&quot;, &quot;center&quot;: [1.1800000000000002, 0.06000000000000005, 0.11], &quot;size&quot;: [0.12, 0.12, 0.22]}, {&quot;attrs&quot;: {}, &quot;type&quot;: &quot;Box&quot;, &quot;center&quot;: [1.1800000000000002, -0.06000000000000005, 0.11], &quot;size&quot;: [0.12, 0.12, 0.22]}, {&quot;attrs&quot;: {}, &quot;type&quot;: &quot;Box&quot;, &quot;center&quot;: [1.42, 0.06000000000000005, 0.11], &quot;size&quot;: [0.12, 0.12, 0.22]}, {&quot;attrs&quot;: {}, &quot;type&quot;: &quot;Box&quot;, &quot;center&quot;: [1.42, -0.06000000000000005, 0.11], &quot;size&quot;: [0.12, 0.12, 0.22]}, {&quot;attrs&quot;: {}, &quot;type&quot;: &quot;Box&quot;, &quot;center&quot;: [1.54, 0.06000000000000005, 0.11], &quot;size&quot;: [0.12, 0.12, 0.22]}, {&quot;attrs&quot;: {}, &quot;type&quot;: &quot;Box&quot;, &quot;center&quot;: [1.54, -0.06000000000000005, 0.11], &quot;size&quot;: [0.12, 0.12, 0.22]}, {&quot;attrs&quot;: {}, &quot;type&quot;: &quot;Box&quot;, &quot;center&quot;: [1.9, 0.06000000000000005, 0.11], &quot;size&quot;: [0.12, 0.12, 0.22]}, {&quot;attrs&quot;: {}, &quot;type&quot;: &quot;Box&quot;, &quot;center&quot;: [1.9, -0.06000000000000005, 0.11], &quot;size&quot;: [0.12, 0.12, 0.22]}, {&quot;attrs&quot;: {}, &quot;type&quot;: &quot;Box&quot;, &quot;center&quot;: [2.14, 0.06000000000000005, 0.11], &quot;size&quot;: [0.12, 0.12, 0.22]}, {&quot;attrs&quot;: {}, &quot;type&quot;: &quot;Box&quot;, &quot;center&quot;: [2.14, -0.06000000000000005, 0.11], &quot;size&quot;: [0.12, 0.12, 0.22]}, {&quot;attrs&quot;: {}, &quot;type&quot;: &quot;Box&quot;, &quot;center&quot;: [2.38, 0.06000000000000005, 0.11], &quot;size&quot;: [0.12, 0.12, 0.22]}, {&quot;attrs&quot;: {}, &quot;type&quot;: &quot;Box&quot;, &quot;center&quot;: [2.38, -0.06000000000000005, 0.11], &quot;size&quot;: [0.12, 0.12, 0.22]}, {&quot;attrs&quot;: {}, &quot;type&quot;: &quot;Box&quot;, &quot;center&quot;: [2.5, 0.06000000000000005, 0.11], &quot;size&quot;: [0.12, 0.12, 0.22]}, {&quot;attrs&quot;: {}, &quot;type&quot;: &quot;Box&quot;, &quot;center&quot;: [2.5, -0.06000000000000005, 0.11], &quot;size&quot;: [0.12, 0.12, 0.22]}, {&quot;attrs&quot;: {}, &quot;type&quot;: &quot;Box&quot;, &quot;center&quot;: [2.74, 0.06000000000000005, 0.11], &quot;size&quot;: [0.12, 0.12, 0.22]}, {&quot;attrs&quot;: {}, &quot;type&quot;: &quot;Box&quot;, &quot;center&quot;: [2.74, -0.06000000000000005, 0.11], &quot;size&quot;: [0.12, 0.12, 0.22]}, {&quot;attrs&quot;: {}, &quot;type&quot;: &quot;Box&quot;, &quot;center&quot;: [2.86, 0.06000000000000005, 0.11], &quot;size&quot;: [0.12, 0.12, 0.22]}, {&quot;attrs&quot;: {}, &quot;type&quot;: &quot;Box&quot;, &quot;center&quot;: [2.86, -0.06000000000000005, 0.11], &quot;size&quot;: [0.12, 0.12, 0.22]}, {&quot;attrs&quot;: {}, &quot;type&quot;: &quot;Box&quot;, &quot;center&quot;: [2.98, 0.06000000000000005, 0.11], &quot;size&quot;: [0.12, 0.12, 0.22]}, {&quot;attrs&quot;: {}, &quot;type&quot;: &quot;Box&quot;, &quot;center&quot;: [2.98, -0.06000000000000005, 0.11], &quot;size&quot;: [0.12, 0.12, 0.22]}, {&quot;attrs&quot;: {}, &quot;type&quot;: &quot;Box&quot;, &quot;center&quot;: [0.0, 0.0, 0.11], &quot;size&quot;: [2.0, 0.5, 0.22]}]}, &quot;name&quot;: null, &quot;type&quot;: &quot;Structure&quot;, &quot;medium&quot;: {&quot;attrs&quot;: {}, &quot;name&quot;: null, &quot;frequency_range&quot;: [1199169832000.0, 249827048333333.34], &quot;allow_gain&quot;: false, &quot;nonlinear_spec&quot;: null, &quot;modulation_spec&quot;: null, &quot;heat_spec&quot;: null, &quot;type&quot;: &quot;PoleResidue&quot;, &quot;eps_inf&quot;: 1.0, &quot;poles&quot;: [[{&quot;real&quot;: -1.7473849958109988, &quot;imag&quot;: -6409829457220535.0}, {&quot;real&quot;: 0.06947645444424029, &quot;imag&quot;: 3.4268436708700284e+16}]]}}, {&quot;attrs&quot;: {}, &quot;geometry&quot;: {&quot;attrs&quot;: {}, &quot;type&quot;: &quot;Box&quot;, &quot;center&quot;: [0.0, 0.0, -50.0], &quot;size&quot;: [200.0, 200.0, 100.0]}, &quot;name&quot;: null, &quot;type&quot;: &quot;Structure&quot;, &quot;medium&quot;: {&quot;attrs&quot;: {}, &quot;name&quot;: null, &quot;frequency_range&quot;: [59958491600000.0, 1998616386666666.8], &quot;allow_gain&quot;: false, &quot;nonlinear_spec&quot;: null, &quot;modulation_spec&quot;: null, &quot;heat_spec&quot;: null, &quot;type&quot;: &quot;PoleResidue&quot;, &quot;eps_inf&quot;: 1.5385442336875639, &quot;poles&quot;: [[{&quot;real&quot;: -11504139.374277674, &quot;imag&quot;: -1.595196740783775e+16}, {&quot;real&quot;: 7507685.43042605, &quot;imag&quot;: 4535416182817100.0}], [{&quot;real&quot;: -249390.3565044153, &quot;imag&quot;: -172280738540723.53}, {&quot;real&quot;: 46272.506981344035, &quot;imag&quot;: 99704543223121.88}]]}}], &quot;symmetry&quot;: [0, -1, 0], &quot;sources&quot;: [{&quot;attrs&quot;: {}, &quot;name&quot;: null, &quot;type&quot;: &quot;ModeSource&quot;, &quot;center&quot;: [0.5, 0.0, 0.11], &quot;size&quot;: [0.0, 2.0, 1.32], &quot;source_time&quot;: {&quot;attrs&quot;: {}, &quot;amplitude&quot;: 1.0, &quot;phase&quot;: 0.0, &quot;type&quot;: &quot;GaussianPulse&quot;, &quot;freq0&quot;: 193414489032258.06, &quot;fwidth&quot;: 12530510261233.016, &quot;offset&quot;: 5.0, &quot;remove_dc_component&quot;: true}, &quot;num_freqs&quot;: 1, &quot;direction&quot;: &quot;+&quot;, &quot;mode_spec&quot;: {&quot;attrs&quot;: {}, &quot;num_modes&quot;: 1, &quot;target_neff&quot;: 3.5, &quot;num_pml&quot;: [0, 0], &quot;filter_pol&quot;: null, &quot;angle_theta&quot;: 0.0, &quot;angle_phi&quot;: 0.0, &quot;precision&quot;: &quot;single&quot;, &quot;bend_radius&quot;: null, &quot;bend_axis&quot;: null, &quot;track_freq&quot;: &quot;central&quot;, &quot;group_index_step&quot;: false, &quot;type&quot;: &quot;ModeSpec&quot;}, &quot;mode_index&quot;: 0}], &quot;boundary_spec&quot;: {&quot;attrs&quot;: {}, &quot;x&quot;: {&quot;attrs&quot;: {}, &quot;plus&quot;: {&quot;attrs&quot;: {}, &quot;name&quot;: null, &quot;type&quot;: &quot;PML&quot;, &quot;num_layers&quot;: 12, &quot;parameters&quot;: {&quot;attrs&quot;: {}, &quot;sigma_order&quot;: 3, &quot;sigma_min&quot;: 0.0, &quot;sigma_max&quot;: 1.5, &quot;type&quot;: &quot;PMLParams&quot;, &quot;kappa_order&quot;: 3, &quot;kappa_min&quot;: 1.0, &quot;kappa_max&quot;: 3.0, &quot;alpha_order&quot;: 1, &quot;alpha_min&quot;: 0.0, &quot;alpha_max&quot;: 0.0}}, &quot;minus&quot;: {&quot;attrs&quot;: {}, &quot;name&quot;: null, &quot;type&quot;: &quot;PML&quot;, &quot;num_layers&quot;: 12, &quot;parameters&quot;: {&quot;attrs&quot;: {}, &quot;sigma_order&quot;: 3, &quot;sigma_min&quot;: 0.0, &quot;sigma_max&quot;: 1.5, &quot;type&quot;: &quot;PMLParams&quot;, &quot;kappa_order&quot;: 3, &quot;kappa_min&quot;: 1.0, &quot;kappa_max&quot;: 3.0, &quot;alpha_order&quot;: 1, &quot;alpha_min&quot;: 0.0, &quot;alpha_max&quot;: 0.0}}, &quot;type&quot;: &quot;Boundary&quot;}, &quot;y&quot;: {&quot;attrs&quot;: {}, &quot;plus&quot;: {&quot;attrs&quot;: {}, &quot;name&quot;: null, &quot;type&quot;: &quot;PML&quot;, &quot;num_layers&quot;: 12, &quot;parameters&quot;: {&quot;attrs&quot;: {}, &quot;sigma_order&quot;: 3, &quot;sigma_min&quot;: 0.0, &quot;sigma_max&quot;: 1.5, &quot;type&quot;: &quot;PMLParams&quot;, &quot;kappa_order&quot;: 3, &quot;kappa_min&quot;: 1.0, &quot;kappa_max&quot;: 3.0, &quot;alpha_order&quot;: 1, &quot;alpha_min&quot;: 0.0, &quot;alpha_max&quot;: 0.0}}, &quot;minus&quot;: {&quot;attrs&quot;: {}, &quot;name&quot;: null, &quot;type&quot;: &quot;PML&quot;, &quot;num_layers&quot;: 12, &quot;parameters&quot;: {&quot;attrs&quot;: {}, &quot;sigma_order&quot;: 3, &quot;sigma_min&quot;: 0.0, &quot;sigma_max&quot;: 1.5, &quot;type&quot;: &quot;PMLParams&quot;, &quot;kappa_order&quot;: 3, &quot;kappa_min&quot;: 1.0, &quot;kappa_max&quot;: 3.0, &quot;alpha_order&quot;: 1, &quot;alpha_min&quot;: 0.0, &quot;alpha_max&quot;: 0.0}}, &quot;type&quot;: &quot;Boundary&quot;}, &quot;z&quot;: {&quot;attrs&quot;: {}, &quot;plus&quot;: {&quot;attrs&quot;: {}, &quot;name&quot;: null, &quot;type&quot;: &quot;PML&quot;, &quot;num_layers&quot;: 12, &quot;parameters&quot;: {&quot;attrs&quot;: {}, &quot;sigma_order&quot;: 3, &quot;sigma_min&quot;: 0.0, &quot;sigma_max&quot;: 1.5, &quot;type&quot;: &quot;PMLParams&quot;, &quot;kappa_order&quot;: 3, &quot;kappa_min&quot;: 1.0, &quot;kappa_max&quot;: 3.0, &quot;alpha_order&quot;: 1, &quot;alpha_min&quot;: 0.0, &quot;alpha_max&quot;: 0.0}}, &quot;minus&quot;: {&quot;attrs&quot;: {}, &quot;name&quot;: null, &quot;type&quot;: &quot;PML&quot;, &quot;num_layers&quot;: 12, &quot;parameters&quot;: {&quot;attrs&quot;: {}, &quot;sigma_order&quot;: 3, &quot;sigma_min&quot;: 0.0, &quot;sigma_max&quot;: 1.5, &quot;type&quot;: &quot;PMLParams&quot;, &quot;kappa_order&quot;: 3, &quot;kappa_min&quot;: 1.0, &quot;kappa_max&quot;: 3.0, &quot;alpha_order&quot;: 1, &quot;alpha_min&quot;: 0.0, &quot;alpha_max&quot;: 0.0}}, &quot;type&quot;: &quot;Boundary&quot;}, &quot;type&quot;: &quot;BoundarySpec&quot;}, &quot;monitors&quot;: [{&quot;attrs&quot;: {}, &quot;type&quot;: &quot;ModeMonitor&quot;, &quot;center&quot;: [0.25, 0.0, 0.11], &quot;size&quot;: [0.0, 2.0, 1.32], &quot;name&quot;: &quot;mode&quot;, &quot;interval_space&quot;: [1, 1, 1], &quot;colocate&quot;: false, &quot;freqs&quot;: [193414489032258.06], &quot;apodization&quot;: {&quot;attrs&quot;: {}, &quot;start&quot;: null, &quot;end&quot;: null, &quot;width&quot;: null, &quot;type&quot;: &quot;ApodizationSpec&quot;}, &quot;mode_spec&quot;: {&quot;attrs&quot;: {}, &quot;num_modes&quot;: 1, &quot;target_neff&quot;: 3.5, &quot;num_pml&quot;: [0, 0], &quot;filter_pol&quot;: null, &quot;angle_theta&quot;: 0.0, &quot;angle_phi&quot;: 0.0, &quot;precision&quot;: &quot;single&quot;, &quot;bend_radius&quot;: null, &quot;bend_axis&quot;: null, &quot;track_freq&quot;: &quot;central&quot;, &quot;group_index_step&quot;: false, &quot;type&quot;: &quot;ModeSpec&quot;}, &quot;store_fields_direction&quot;: null}], &quot;grid_spec&quot;: {&quot;attrs&quot;: {}, &quot;grid_x&quot;: {&quot;attrs&quot;: {}, &quot;type&quot;: &quot;AutoGrid&quot;, &quot;min_steps_per_wvl&quot;: 16.0, &quot;max_scale&quot;: 1.4, &quot;dl_min&quot;: 0.0, &quot;mesher&quot;: {&quot;attrs&quot;: {}, &quot;type&quot;: &quot;GradedMesher&quot;}}, &quot;grid_y&quot;: {&quot;attrs&quot;: {}, &quot;type&quot;: &quot;AutoGrid&quot;, &quot;min_steps_per_wvl&quot;: 16.0, &quot;max_scale&quot;: 1.4, &quot;dl_min&quot;: 0.0, &quot;mesher&quot;: {&quot;attrs&quot;: {}, &quot;type&quot;: &quot;GradedMesher&quot;}}, &quot;grid_z&quot;: {&quot;attrs&quot;: {}, &quot;type&quot;: &quot;AutoGrid&quot;, &quot;min_steps_per_wvl&quot;: 16.0, &quot;max_scale&quot;: 1.4, &quot;dl_min&quot;: 0.0, &quot;mesher&quot;: {&quot;attrs&quot;: {}, &quot;type&quot;: &quot;GradedMesher&quot;}}, &quot;wavelength&quot;: 1.55, &quot;override_structures&quot;: [], &quot;snapping_points&quot;: [], &quot;type&quot;: &quot;GridSpec&quot;}, &quot;version&quot;: &quot;2.7.0&quot;, &quot;lumped_elements&quot;: [], &quot;subpixel&quot;: {&quot;attrs&quot;: {}, &quot;dielectric&quot;: {&quot;attrs&quot;: {}, &quot;type&quot;: &quot;PolarizedAveraging&quot;}, &quot;metal&quot;: {&quot;attrs&quot;: {}, &quot;type&quot;: &quot;Staircasing&quot;}, &quot;pec&quot;: {&quot;attrs&quot;: {}, &quot;type&quot;: &quot;PECConformal&quot;, &quot;timestep_reduction&quot;: 0.3}, &quot;type&quot;: &quot;SubpixelSpec&quot;}, &quot;courant&quot;: 0.99, &quot;normalize_index&quot;: 0, &quot;shutoff&quot;: 1e-05, &quot;run_time&quot;: 5e-13}\" />\n",
       "    <script>\n",
       "        \n",
       "        /**\n",
       "        * Simulation Viewer Injector\n",
       "        *\n",
       "        * Monitors the document for elements being added in the form:\n",
       "        *\n",
       "        *    <div class=\"simulation-viewer\" data-width=\"800\" data-height=\"800\" data-simulation=\"{...}\" />\n",
       "        *\n",
       "        * This script will then inject an iframe to the viewer application, and pass it the simulation data\n",
       "        * via the postMessage API on request. The script may be safely included multiple times, with only the\n",
       "        * configuration of the first started script (e.g. viewer URL) applying.\n",
       "        *\n",
       "        */\n",
       "        (function() {\n",
       "            const TARGET_CLASS = \"simulation-viewer\";\n",
       "            const ACTIVE_CLASS = \"simulation-viewer-active\";\n",
       "            const VIEWER_URL = \"https://feature-simulation-viewer.d3a9gfg7glllfq.amplifyapp.com/simulation-viewer\";\n",
       "\n",
       "            class SimulationViewerInjector {\n",
       "                constructor() {\n",
       "                    for (var node of document.getElementsByClassName(TARGET_CLASS)) {\n",
       "                        this.injectViewer(node);\n",
       "                    }\n",
       "\n",
       "                    // Monitor for newly added nodes to the DOM\n",
       "                    this.observer = new MutationObserver(this.onMutations.bind(this));\n",
       "                    this.observer.observe(document.body, {childList: true, subtree: true});\n",
       "                }\n",
       "\n",
       "                onMutations(mutations) {\n",
       "                    for (var mutation of mutations) {\n",
       "                        if (mutation.type === 'childList') {\n",
       "                            /**\n",
       "                            * Have found that adding the element does not reliably trigger the mutation observer.\n",
       "                            * It may be the case that setting content with innerHTML does not trigger.\n",
       "                            *\n",
       "                            * It seems to be sufficient to re-scan the document for un-activated viewers\n",
       "                            * whenever an event occurs, as Jupyter triggers multiple events on cell evaluation.\n",
       "                            */\n",
       "                            var viewers = document.getElementsByClassName(TARGET_CLASS);\n",
       "                            for (var node of viewers) {\n",
       "                                this.injectViewer(node);\n",
       "                            }\n",
       "                        }\n",
       "                    }\n",
       "                }\n",
       "\n",
       "                injectViewer(node) {\n",
       "                    // (re-)check that this is a valid simulation container and has not already been injected\n",
       "                    if (node.classList.contains(TARGET_CLASS) && !node.classList.contains(ACTIVE_CLASS)) {\n",
       "                        // Mark node as injected, to prevent re-runs\n",
       "                        node.classList.add(ACTIVE_CLASS);\n",
       "\n",
       "                        var uuid;\n",
       "                        if (window.crypto && window.crypto.randomUUID) {\n",
       "                            uuid = window.crypto.randomUUID();\n",
       "                        } else {\n",
       "                            uuid = \"\" + Math.random();\n",
       "                        }\n",
       "\n",
       "                        var frame = document.createElement(\"iframe\");\n",
       "                        frame.width = node.dataset.width || 800;\n",
       "                        frame.height = node.dataset.height || 800;\n",
       "                        frame.src = VIEWER_URL + \"?uuid=\" + uuid;\n",
       "\n",
       "                        var postMessageToViewer;\n",
       "                        postMessageToViewer = event => {{\n",
       "                            if(event.data.type === 'viewer' && event.data.uuid===uuid){{\n",
       "                                var simulation = JSON.parse(node.dataset.simulation);\n",
       "                                frame.contentWindow.postMessage({ type: 'jupyter', uuid, value: simulation}, '*');\n",
       "\n",
       "                                // Run once only\n",
       "                                window.removeEventListener('message', postMessageToViewer);\n",
       "                            }}\n",
       "                        }};\n",
       "                        window.addEventListener(\n",
       "                            'message',\n",
       "                            postMessageToViewer,\n",
       "                            false\n",
       "                        );\n",
       "\n",
       "                        node.appendChild(frame);\n",
       "                    }\n",
       "                }\n",
       "            }\n",
       "\n",
       "            if (!window.simulationViewerInjector) {\n",
       "                window.simulationViewerInjector = new SimulationViewerInjector();\n",
       "            }\n",
       "        })();\n",
       "    \n",
       "    </script>\n",
       "    "
      ],
      "text/plain": [
       "<IPython.core.display.HTML object>"
      ]
     },
     "metadata": {},
     "output_type": "display_data"
    }
   ],
   "source": [
    "sim = make_sim(pixels)\n",
    "sim.plot_3d()"
   ]
  },
  {
   "cell_type": "markdown",
   "id": "6ada207d",
   "metadata": {},
   "source": [
    "## Fitness Function"
   ]
  },
  {
   "cell_type": "markdown",
   "id": "940dae3a",
   "metadata": {},
   "source": [
    "An important step in any optimization is to define the objective function, which is often called the fitness function in the context of GA. Here we define the fitness function according to the convention in [pyGAD](https://pygad.readthedocs.io/en/latest/). By default, the evaluation of the fitness function in each generation of the GA is done sequentially. To harness the concurrent run in Tidy3D, we will submit all simulations in each generation as a batch. In `fitness_function`, the argument `pixels_array` is a 2D array, where each row is a pixel array of size 162. The number of columns is the number of solutions in the population, which we will define later. \n",
    "\n",
    "In addition, we define the `on_generation` function, which is called after each generation, to provide a real time update on the optimization. "
   ]
  },
  {
   "cell_type": "code",
   "execution_count": 10,
   "id": "e1340e47",
   "metadata": {},
   "outputs": [],
   "source": [
    "def fitness_function(ga_instance, pixels_array, solution_indices):\n",
    "    sims = {}\n",
    "    R = []\n",
    "\n",
    "    # define all simulations in the generation\n",
    "    for i in range(pixels_array.shape[0]):\n",
    "        pixels = pixels_array[i]\n",
    "        sim = make_sim(pixels)\n",
    "        sims[f\"sim_{i}\"] = sim\n",
    "\n",
    "    # define and submit a batch\n",
    "    batch = web.Batch(simulations=sims, verbose=False)\n",
    "    batch_results = batch.run(path_dir=\"data\")\n",
    "\n",
    "    # extract reflection results from all simulations\n",
    "    for i in range(pixels_array.shape[0]):\n",
    "        sim_data = batch_results[f\"sim_{i}\"]\n",
    "        R.append(abs(sim_data[\"mode\"].amps.sel(direction=\"-\").squeeze(drop=True).values) ** 2)\n",
    "    return R\n",
    "\n",
    "\n",
    "# function to be called in each generation\n",
    "def on_generation(ga_instance):\n",
    "    best_fitness = ga_instance.best_solution(ga_instance.last_generation_fitness)[1]\n",
    "    print(f\"Generation {ga_instance.generations_completed}: Best Fitness = {best_fitness:.3f}\")"
   ]
  },
  {
   "cell_type": "markdown",
   "id": "a25227f1",
   "metadata": {},
   "source": [
    "## GA Optimizer"
   ]
  },
  {
   "cell_type": "markdown",
   "id": "e62a2da5",
   "metadata": {},
   "source": [
    "Now we are ready to create a GA optimizer. First we need to define some hyper-parameters. In this particular example, we will use 30 solutions per population and run the optimization for a total of 25 generations. There are a number of parameters we can tune to change the selection, crossover, and mutation processes. We only change a few and leave the most to the default settings. Users are encouraged to explore these settings and fine tune them for better results. For reproducibility, we also set a fixed random seed."
   ]
  },
  {
   "cell_type": "code",
   "execution_count": 11,
   "id": "f20c82cf",
   "metadata": {},
   "outputs": [
    {
     "name": "stderr",
     "output_type": "stream",
     "text": [
      "/home/momchil/miniconda3/envs/tidy3d-test/lib/python3.10/site-packages/pygad/pygad.py:1139: UserWarning: The 'delay_after_gen' parameter is deprecated starting from PyGAD 3.3.0. To delay or pause the evolution after each generation, assign a callback function/method to the 'on_generation' parameter to adds some time delay.\n",
      "  warnings.warn(\"The 'delay_after_gen' parameter is deprecated starting from PyGAD 3.3.0. To delay or pause the evolution after each generation, assign a callback function/method to the 'on_generation' parameter to adds some time delay.\")\n"
     ]
    }
   ],
   "source": [
    "sol_per_pop = 30  # number of solutions in the population\n",
    "num_generations = 25  # number of generation\n",
    "\n",
    "num_parents_mating = 10  # number of mating parents\n",
    "parent_selection_type = \"sss\"  # parent selection rule\n",
    "\n",
    "crossover_type = \"single_point\"  # crossover rule\n",
    "crossover_probability = 0.7  # cross over probability\n",
    "\n",
    "mutation_type = \"inversion\"  # mutation rule\n",
    "\n",
    "# define the optimizer\n",
    "ga_instance = pygad.GA(\n",
    "    num_generations=num_generations,\n",
    "    num_parents_mating=num_parents_mating,\n",
    "    fitness_func=fitness_function,\n",
    "    parent_selection_type=parent_selection_type,\n",
    "    mutation_type=mutation_type,\n",
    "    crossover_type=crossover_type,\n",
    "    crossover_probability=crossover_probability,\n",
    "    sol_per_pop=sol_per_pop,\n",
    "    num_genes=Nx * Ny,\n",
    "    init_range_low=0,\n",
    "    init_range_high=2,\n",
    "    gene_type=int,\n",
    "    fitness_batch_size=sol_per_pop,\n",
    "    on_generation=on_generation,\n",
    "    random_seed=1,\n",
    ")"
   ]
  },
  {
   "cell_type": "markdown",
   "id": "0b67c427",
   "metadata": {},
   "source": [
    "## Optimization and Results"
   ]
  },
  {
   "cell_type": "markdown",
   "id": "ce8d115d",
   "metadata": {},
   "source": [
    "With the optimizer defined, we are ready to start the optimization. With the defined `on_generation` function, we will print out the best fitness in each generation. We should see a steady increase of the fitness function as the population evolves."
   ]
  },
  {
   "cell_type": "code",
   "execution_count": 12,
   "id": "71f251d6",
   "metadata": {},
   "outputs": [
    {
     "name": "stdout",
     "output_type": "stream",
     "text": [
      "Generation 1: Best Fitness = 0.590\n",
      "Generation 2: Best Fitness = 0.634\n",
      "Generation 3: Best Fitness = 0.695\n",
      "Generation 4: Best Fitness = 0.752\n",
      "Generation 5: Best Fitness = 0.831\n",
      "Generation 6: Best Fitness = 0.831\n",
      "Generation 7: Best Fitness = 0.866\n",
      "Generation 8: Best Fitness = 0.866\n",
      "Generation 9: Best Fitness = 0.889\n",
      "Generation 10: Best Fitness = 0.895\n",
      "Generation 11: Best Fitness = 0.895\n",
      "Generation 12: Best Fitness = 0.895\n",
      "Generation 13: Best Fitness = 0.895\n",
      "Generation 14: Best Fitness = 0.895\n",
      "Generation 15: Best Fitness = 0.919\n",
      "Generation 16: Best Fitness = 0.919\n",
      "Generation 17: Best Fitness = 0.919\n",
      "Generation 18: Best Fitness = 0.919\n",
      "Generation 19: Best Fitness = 0.919\n",
      "Generation 20: Best Fitness = 0.919\n",
      "Generation 21: Best Fitness = 0.919\n",
      "Generation 22: Best Fitness = 0.919\n",
      "Generation 23: Best Fitness = 0.919\n",
      "Generation 24: Best Fitness = 0.919\n",
      "Generation 25: Best Fitness = 0.919\n"
     ]
    },
    {
     "name": "stdout",
     "output_type": "stream",
     "text": [
      "Generation 5: Best Fitness = 0.676\n"
     ]
    },
    {
     "name": "stdout",
     "output_type": "stream",
     "text": [
      "Generation 6: Best Fitness = 0.729\n"
     ]
    },
    {
     "name": "stdout",
     "output_type": "stream",
     "text": [
      "Generation 7: Best Fitness = 0.729\n"
     ]
    },
    {
     "name": "stdout",
     "output_type": "stream",
     "text": [
      "Generation 8: Best Fitness = 0.778\n"
     ]
    },
    {
     "name": "stdout",
     "output_type": "stream",
     "text": [
      "Generation 9: Best Fitness = 0.778\n"
     ]
    },
    {
     "name": "stdout",
     "output_type": "stream",
     "text": [
      "Generation 10: Best Fitness = 0.788\n"
     ]
    },
    {
     "name": "stdout",
     "output_type": "stream",
     "text": [
      "Generation 11: Best Fitness = 0.788\n"
     ]
    },
    {
     "name": "stdout",
     "output_type": "stream",
     "text": [
      "Generation 12: Best Fitness = 0.788\n"
     ]
    },
    {
     "name": "stdout",
     "output_type": "stream",
     "text": [
      "Generation 13: Best Fitness = 0.788\n"
     ]
    },
    {
     "name": "stdout",
     "output_type": "stream",
     "text": [
      "Generation 14: Best Fitness = 0.788\n"
     ]
    },
    {
     "name": "stdout",
     "output_type": "stream",
     "text": [
      "Generation 15: Best Fitness = 0.788\n"
     ]
    },
    {
     "ename": "KeyboardInterrupt",
     "evalue": "",
     "output_type": "error",
     "traceback": [
      "\u001b[0;31m---------------------------------------------------------------------------\u001b[0m",
      "\u001b[0;31mKeyboardInterrupt\u001b[0m                         Traceback (most recent call last)",
      "Cell \u001b[0;32mIn[11], line 1\u001b[0m\n\u001b[0;32m----> 1\u001b[0m \u001b[43mga_instance\u001b[49m\u001b[38;5;241;43m.\u001b[39;49m\u001b[43mrun\u001b[49m\u001b[43m(\u001b[49m\u001b[43m)\u001b[49m\n",
      "File \u001b[0;32m~/miniconda3/envs/tidy3d-test/lib/python3.10/site-packages/pygad/pygad.py:1993\u001b[0m, in \u001b[0;36mGA.run\u001b[0;34m(self)\u001b[0m\n\u001b[1;32m   1990\u001b[0m \u001b[38;5;66;03m# Note: Any code that has loop-dependant statements (e.g. continue, break, etc) must be kept inside the loop of the 'run()' method. It can be moved to another method to clean the run() method.\u001b[39;00m\n\u001b[1;32m   1991\u001b[0m \u001b[38;5;66;03m# If the on_generation attribute is not None, then cal the callback function after the generation.\u001b[39;00m\n\u001b[1;32m   1992\u001b[0m \u001b[38;5;28;01mif\u001b[39;00m \u001b[38;5;129;01mnot\u001b[39;00m (\u001b[38;5;28mself\u001b[39m\u001b[38;5;241m.\u001b[39mon_generation \u001b[38;5;129;01mis\u001b[39;00m \u001b[38;5;28;01mNone\u001b[39;00m):\n\u001b[0;32m-> 1993\u001b[0m     r \u001b[38;5;241m=\u001b[39m \u001b[38;5;28;43mself\u001b[39;49m\u001b[38;5;241;43m.\u001b[39;49m\u001b[43mon_generation\u001b[49m\u001b[43m(\u001b[49m\u001b[38;5;28;43mself\u001b[39;49m\u001b[43m)\u001b[49m\n\u001b[1;32m   1994\u001b[0m     \u001b[38;5;28;01mif\u001b[39;00m \u001b[38;5;28mtype\u001b[39m(r) \u001b[38;5;129;01mis\u001b[39;00m \u001b[38;5;28mstr\u001b[39m \u001b[38;5;129;01mand\u001b[39;00m r\u001b[38;5;241m.\u001b[39mlower() \u001b[38;5;241m==\u001b[39m \u001b[38;5;124m\"\u001b[39m\u001b[38;5;124mstop\u001b[39m\u001b[38;5;124m\"\u001b[39m:\n\u001b[1;32m   1995\u001b[0m         \u001b[38;5;66;03m# Before aborting the loop, save the fitness value of the best solution.\u001b[39;00m\n\u001b[1;32m   1996\u001b[0m         \u001b[38;5;66;03m# _, best_solution_fitness, _ = self.best_solution()\u001b[39;00m\n\u001b[1;32m   1997\u001b[0m         \u001b[38;5;28mself\u001b[39m\u001b[38;5;241m.\u001b[39mbest_solutions_fitness\u001b[38;5;241m.\u001b[39mappend(best_solution_fitness)\n",
      "Cell \u001b[0;32mIn[9], line 24\u001b[0m, in \u001b[0;36mon_generation\u001b[0;34m(ga_instance)\u001b[0m\n\u001b[1;32m     23\u001b[0m \u001b[38;5;28;01mdef\u001b[39;00m \u001b[38;5;21mon_generation\u001b[39m(ga_instance):\n\u001b[0;32m---> 24\u001b[0m     best_fitness \u001b[38;5;241m=\u001b[39m \u001b[43mga_instance\u001b[49m\u001b[38;5;241;43m.\u001b[39;49m\u001b[43mbest_solution\u001b[49m\u001b[43m(\u001b[49m\u001b[43m)\u001b[49m[\u001b[38;5;241m1\u001b[39m]\n\u001b[1;32m     25\u001b[0m     \u001b[38;5;28mprint\u001b[39m(\u001b[38;5;124mf\u001b[39m\u001b[38;5;124m\"\u001b[39m\u001b[38;5;124mGeneration \u001b[39m\u001b[38;5;132;01m{\u001b[39;00mga_instance\u001b[38;5;241m.\u001b[39mgenerations_completed\u001b[38;5;132;01m}\u001b[39;00m\u001b[38;5;124m: Best Fitness = \u001b[39m\u001b[38;5;132;01m{\u001b[39;00mbest_fitness\u001b[38;5;132;01m:\u001b[39;00m\u001b[38;5;124m.3f\u001b[39m\u001b[38;5;132;01m}\u001b[39;00m\u001b[38;5;124m\"\u001b[39m)\n",
      "File \u001b[0;32m~/miniconda3/envs/tidy3d-test/lib/python3.10/site-packages/pygad/pygad.py:2348\u001b[0m, in \u001b[0;36mGA.best_solution\u001b[0;34m(self, pop_fitness)\u001b[0m\n\u001b[1;32m   2345\u001b[0m \u001b[38;5;28;01mtry\u001b[39;00m:\n\u001b[1;32m   2346\u001b[0m     \u001b[38;5;28;01mif\u001b[39;00m pop_fitness \u001b[38;5;129;01mis\u001b[39;00m \u001b[38;5;28;01mNone\u001b[39;00m:\n\u001b[1;32m   2347\u001b[0m         \u001b[38;5;66;03m# If the 'pop_fitness' parameter is not passed, then we have to call the 'cal_pop_fitness()' method to calculate the fitness of all solutions in the lastest population.\u001b[39;00m\n\u001b[0;32m-> 2348\u001b[0m         pop_fitness \u001b[38;5;241m=\u001b[39m \u001b[38;5;28;43mself\u001b[39;49m\u001b[38;5;241;43m.\u001b[39;49m\u001b[43mcal_pop_fitness\u001b[49m\u001b[43m(\u001b[49m\u001b[43m)\u001b[49m\n\u001b[1;32m   2349\u001b[0m     \u001b[38;5;66;03m# Verify the type of the 'pop_fitness' parameter.\u001b[39;00m\n\u001b[1;32m   2350\u001b[0m     \u001b[38;5;28;01melif\u001b[39;00m \u001b[38;5;28mtype\u001b[39m(pop_fitness) \u001b[38;5;129;01min\u001b[39;00m [\u001b[38;5;28mtuple\u001b[39m, \u001b[38;5;28mlist\u001b[39m, numpy\u001b[38;5;241m.\u001b[39mndarray]:\n\u001b[1;32m   2351\u001b[0m         \u001b[38;5;66;03m# Verify that the length of the passed population fitness matches the length of the 'self.population' attribute.\u001b[39;00m\n",
      "File \u001b[0;32m~/miniconda3/envs/tidy3d-test/lib/python3.10/site-packages/pygad/pygad.py:1741\u001b[0m, in \u001b[0;36mGA.cal_pop_fitness\u001b[0;34m(self)\u001b[0m\n\u001b[1;32m   1738\u001b[0m batch_indices \u001b[38;5;241m=\u001b[39m solutions_indices[batch_first_index:batch_last_index]\n\u001b[1;32m   1739\u001b[0m batch_solutions \u001b[38;5;241m=\u001b[39m \u001b[38;5;28mself\u001b[39m\u001b[38;5;241m.\u001b[39mpopulation[batch_indices, :]\n\u001b[0;32m-> 1741\u001b[0m batch_fitness \u001b[38;5;241m=\u001b[39m \u001b[38;5;28;43mself\u001b[39;49m\u001b[38;5;241;43m.\u001b[39;49m\u001b[43mfitness_func\u001b[49m\u001b[43m(\u001b[49m\n\u001b[1;32m   1742\u001b[0m \u001b[43m    \u001b[49m\u001b[38;5;28;43mself\u001b[39;49m\u001b[43m,\u001b[49m\u001b[43m \u001b[49m\u001b[43mbatch_solutions\u001b[49m\u001b[43m,\u001b[49m\u001b[43m \u001b[49m\u001b[43mbatch_indices\u001b[49m\u001b[43m)\u001b[49m\n\u001b[1;32m   1743\u001b[0m \u001b[38;5;28;01mif\u001b[39;00m \u001b[38;5;28mtype\u001b[39m(batch_fitness) \u001b[38;5;129;01mnot\u001b[39;00m \u001b[38;5;129;01min\u001b[39;00m [\u001b[38;5;28mlist\u001b[39m, \u001b[38;5;28mtuple\u001b[39m, numpy\u001b[38;5;241m.\u001b[39mndarray]:\n\u001b[1;32m   1744\u001b[0m     \u001b[38;5;28;01mraise\u001b[39;00m \u001b[38;5;167;01mTypeError\u001b[39;00m(\u001b[38;5;124mf\u001b[39m\u001b[38;5;124m\"\u001b[39m\u001b[38;5;124mExpected to receive a list, tuple, or numpy.ndarray from the fitness function but the value (\u001b[39m\u001b[38;5;132;01m{\u001b[39;00mbatch_fitness\u001b[38;5;132;01m}\u001b[39;00m\u001b[38;5;124m) of type \u001b[39m\u001b[38;5;132;01m{\u001b[39;00m\u001b[38;5;28mtype\u001b[39m(batch_fitness)\u001b[38;5;132;01m}\u001b[39;00m\u001b[38;5;124m.\u001b[39m\u001b[38;5;124m\"\u001b[39m)\n",
      "Cell \u001b[0;32mIn[9], line 13\u001b[0m, in \u001b[0;36mfitness_function\u001b[0;34m(ga_instance, pixels_array, solution_indices)\u001b[0m\n\u001b[1;32m     11\u001b[0m \u001b[38;5;66;03m# define and submit a batch\u001b[39;00m\n\u001b[1;32m     12\u001b[0m batch \u001b[38;5;241m=\u001b[39m web\u001b[38;5;241m.\u001b[39mBatch(simulations\u001b[38;5;241m=\u001b[39msims, verbose\u001b[38;5;241m=\u001b[39m\u001b[38;5;28;01mFalse\u001b[39;00m)\n\u001b[0;32m---> 13\u001b[0m batch_results \u001b[38;5;241m=\u001b[39m \u001b[43mbatch\u001b[49m\u001b[38;5;241;43m.\u001b[39;49m\u001b[43mrun\u001b[49m\u001b[43m(\u001b[49m\u001b[43mpath_dir\u001b[49m\u001b[38;5;241;43m=\u001b[39;49m\u001b[38;5;124;43m\"\u001b[39;49m\u001b[38;5;124;43mdata\u001b[39;49m\u001b[38;5;124;43m\"\u001b[39;49m\u001b[43m)\u001b[49m\n\u001b[1;32m     15\u001b[0m \u001b[38;5;66;03m# extract reflection results from all simulations\u001b[39;00m\n\u001b[1;32m     16\u001b[0m \u001b[38;5;28;01mfor\u001b[39;00m i \u001b[38;5;129;01min\u001b[39;00m \u001b[38;5;28mrange\u001b[39m(pixels_array\u001b[38;5;241m.\u001b[39mshape[\u001b[38;5;241m0\u001b[39m]):\n",
      "File \u001b[0;32m~/Drive/flexcompute/tidy3d-docs/tidy3d/web/api/container.py:552\u001b[0m, in \u001b[0;36mBatch.run\u001b[0;34m(self, path_dir)\u001b[0m\n\u001b[1;32m    550\u001b[0m \u001b[38;5;28mself\u001b[39m\u001b[38;5;241m.\u001b[39mupload()\n\u001b[1;32m    551\u001b[0m \u001b[38;5;28mself\u001b[39m\u001b[38;5;241m.\u001b[39mstart()\n\u001b[0;32m--> 552\u001b[0m \u001b[38;5;28;43mself\u001b[39;49m\u001b[38;5;241;43m.\u001b[39;49m\u001b[43mmonitor\u001b[49m\u001b[43m(\u001b[49m\u001b[43m)\u001b[49m\n\u001b[1;32m    553\u001b[0m \u001b[38;5;28mself\u001b[39m\u001b[38;5;241m.\u001b[39mdownload(path_dir\u001b[38;5;241m=\u001b[39mpath_dir)\n\u001b[1;32m    554\u001b[0m \u001b[38;5;28;01mreturn\u001b[39;00m \u001b[38;5;28mself\u001b[39m\u001b[38;5;241m.\u001b[39mload(path_dir\u001b[38;5;241m=\u001b[39mpath_dir)\n",
      "File \u001b[0;32m~/Drive/flexcompute/tidy3d-docs/tidy3d/web/api/container.py:750\u001b[0m, in \u001b[0;36mBatch.monitor\u001b[0;34m(self)\u001b[0m\n\u001b[1;32m    748\u001b[0m \u001b[38;5;28;01melse\u001b[39;00m:\n\u001b[1;32m    749\u001b[0m     \u001b[38;5;28;01mwhile\u001b[39;00m \u001b[38;5;28many\u001b[39m(job\u001b[38;5;241m.\u001b[39mstatus \u001b[38;5;129;01mnot\u001b[39;00m \u001b[38;5;129;01min\u001b[39;00m end_statuses \u001b[38;5;28;01mfor\u001b[39;00m job \u001b[38;5;129;01min\u001b[39;00m \u001b[38;5;28mself\u001b[39m\u001b[38;5;241m.\u001b[39mjobs\u001b[38;5;241m.\u001b[39mvalues()):\n\u001b[0;32m--> 750\u001b[0m         \u001b[43mtime\u001b[49m\u001b[38;5;241;43m.\u001b[39;49m\u001b[43msleep\u001b[49m\u001b[43m(\u001b[49m\u001b[43mweb\u001b[49m\u001b[38;5;241;43m.\u001b[39;49m\u001b[43mREFRESH_TIME\u001b[49m\u001b[43m)\u001b[49m\n",
      "\u001b[0;31mKeyboardInterrupt\u001b[0m: "
     ]
    }
   ],
   "source": [
    "ga_instance.run()"
   ]
  },
  {
   "cell_type": "markdown",
   "id": "296adb3a",
   "metadata": {},
   "source": [
    "After the optimization is complete, we see that we achieved the best fitness (reflection) of 0.928. We can plot the best fitness as a function of generation to better visualize the improvement. "
   ]
  },
  {
   "cell_type": "code",
   "execution_count": 13,
   "id": "8dfdc377",
   "metadata": {},
   "outputs": [
    {
     "data": {
      "image/png": "[encoded data removed]",
      "text/plain": [
       "<Figure size 640x480 with 1 Axes>"
      ]
     },
     "metadata": {},
     "output_type": "display_data"
    },
    {
     "name": "stdout",
     "output_type": "stream",
     "text": [
      "Fitness value of the best solution = 0.919\n"
     ]
    }
   ],
   "source": [
    "# Plotting the best fitness over generations\n",
    "best_fitness = ga_instance.best_solutions_fitness\n",
    "generations = range(len(best_fitness))\n",
    "\n",
    "plt.plot(generations, best_fitness)\n",
    "plt.title(\"Best Fitness over Generations\")\n",
    "plt.xlabel(\"Generation\")\n",
    "plt.ylabel(\"Best Fitness\")\n",
    "plt.show()\n",
    "\n",
    "pixels_final, solution_fitness, solution_idx = ga_instance.best_solution()\n",
    "print(f\"Fitness value of the best solution = {solution_fitness:.3f}\")"
   ]
  },
  {
   "cell_type": "markdown",
   "id": "bd16ffaf",
   "metadata": {},
   "source": [
    "Now that we have an optimized design, we will grab the best pixel array and re-simulate the design with a broadband [ModeMonitor](https://docs.flexcompute.com/projects/tidy3d/en/latest/api/_autosummary/tidy3d.ModeMonitor.html) and a [FieldMonitor](https://docs.flexcompute.com/projects/tidy3d/en/latest/api/_autosummary/tidy3d.FieldMonitor.html) at the central wavelength. This final simulation can be defined by copying the original simulation and updating the monitors."
   ]
  },
  {
   "cell_type": "code",
   "execution_count": 14,
   "id": "2024c056",
   "metadata": {},
   "outputs": [
    {
     "data": {
      "text/html": [
       "<pre style=\"white-space:pre;overflow-x:auto;line-height:normal;font-family:Menlo,'DejaVu Sans Mono',consolas,'Courier New',monospace\"><span style=\"color: #7fbfbf; text-decoration-color: #7fbfbf\">14:37:59 CEST </span>Created task <span style=\"color: #008000; text-decoration-color: #008000\">'final design'</span> with task_id                          \n",
       "<span style=\"color: #7fbfbf; text-decoration-color: #7fbfbf\">              </span><span style=\"color: #008000; text-decoration-color: #008000\">'fdve-c1d3ed53-4fab-4d39-898d-03725212ee60'</span> and task_type <span style=\"color: #008000; text-decoration-color: #008000\">'FDTD'</span>. \n",
       "</pre>\n"
      ],
      "text/plain": [
       "\u001b[2;36m14:37:59 CEST\u001b[0m\u001b[2;36m \u001b[0mCreated task \u001b[32m'final design'\u001b[0m with task_id                          \n",
       "\u001b[2;36m              \u001b[0m\u001b[32m'fdve-c1d3ed53-4fab-4d39-898d-03725212ee60'\u001b[0m and task_type \u001b[32m'FDTD'\u001b[0m. \n"
      ]
     },
     "metadata": {},
     "output_type": "display_data"
    },
    {
     "data": {
      "text/html": [
       "<pre style=\"white-space:pre;overflow-x:auto;line-height:normal;font-family:Menlo,'DejaVu Sans Mono',consolas,'Courier New',monospace\"><span style=\"color: #7fbfbf; text-decoration-color: #7fbfbf\">              </span>View task using web UI at                                         \n",
       "<span style=\"color: #7fbfbf; text-decoration-color: #7fbfbf\">              </span><a href=\"https://tidy3d.simulation.cloud/workbench?taskId=fdve-c1d3ed53-4fab-4d39-898d-03725212ee60\" target=\"_blank\"><span style=\"color: #008000; text-decoration-color: #008000\">'https://tidy3d.simulation.cloud/workbench?taskId=fdve-c1d3ed53-4f</span></a>\n",
       "<span style=\"color: #7fbfbf; text-decoration-color: #7fbfbf\">              </span><a href=\"https://tidy3d.simulation.cloud/workbench?taskId=fdve-c1d3ed53-4fab-4d39-898d-03725212ee60\" target=\"_blank\"><span style=\"color: #008000; text-decoration-color: #008000\">ab-4d39-898d-03725212ee60'</span></a>.                                       \n",
       "</pre>\n"
      ],
      "text/plain": [
       "\u001b[2;36m             \u001b[0m\u001b[2;36m \u001b[0mView task using web UI at                                         \n",
       "\u001b[2;36m              \u001b[0m\u001b]8;id=543562;https://tidy3d.simulation.cloud/workbench?taskId=fdve-c1d3ed53-4fab-4d39-898d-03725212ee60\u001b\\\u001b[32m'https://tidy3d.simulation.cloud/workbench?\u001b[0m\u001b]8;;\u001b\\\u001b]8;id=13105;https://tidy3d.simulation.cloud/workbench?taskId=fdve-c1d3ed53-4fab-4d39-898d-03725212ee60\u001b\\\u001b[32mtaskId\u001b[0m\u001b]8;;\u001b\\\u001b]8;id=543562;https://tidy3d.simulation.cloud/workbench?taskId=fdve-c1d3ed53-4fab-4d39-898d-03725212ee60\u001b\\\u001b[32m=\u001b[0m\u001b]8;;\u001b\\\u001b]8;id=403780;https://tidy3d.simulation.cloud/workbench?taskId=fdve-c1d3ed53-4fab-4d39-898d-03725212ee60\u001b\\\u001b[32mfdve\u001b[0m\u001b]8;;\u001b\\\u001b]8;id=543562;https://tidy3d.simulation.cloud/workbench?taskId=fdve-c1d3ed53-4fab-4d39-898d-03725212ee60\u001b\\\u001b[32m-c1d3ed53-4f\u001b[0m\u001b]8;;\u001b\\\n",
       "\u001b[2;36m              \u001b[0m\u001b]8;id=543562;https://tidy3d.simulation.cloud/workbench?taskId=fdve-c1d3ed53-4fab-4d39-898d-03725212ee60\u001b\\\u001b[32mab-4d39-898d-03725212ee60'\u001b[0m\u001b]8;;\u001b\\.                                       \n"
      ]
     },
     "metadata": {},
     "output_type": "display_data"
    },
    {
     "data": {
      "application/vnd.jupyter.widget-view+json": {
       "model_id": "3865e97f355d4c2681a5b59e57355bfe",
       "version_major": 2,
       "version_minor": 0
      },
      "text/plain": [
       "Output()"
      ]
     },
     "metadata": {},
     "output_type": "display_data"
    },
    {
     "data": {
      "text/html": [
       "<pre style=\"white-space:pre;overflow-x:auto;line-height:normal;font-family:Menlo,'DejaVu Sans Mono',consolas,'Courier New',monospace\"></pre>\n"
      ],
      "text/plain": []
     },
     "metadata": {},
     "output_type": "display_data"
    },
    {
     "data": {
      "text/html": [
       "<pre style=\"white-space:pre;overflow-x:auto;line-height:normal;font-family:Menlo,'DejaVu Sans Mono',consolas,'Courier New',monospace\">\n",
       "</pre>\n"
      ],
      "text/plain": [
       "\n"
      ]
     },
     "metadata": {},
     "output_type": "display_data"
    },
    {
     "data": {
      "text/html": [
       "<pre style=\"white-space:pre;overflow-x:auto;line-height:normal;font-family:Menlo,'DejaVu Sans Mono',consolas,'Courier New',monospace\"><span style=\"color: #7fbfbf; text-decoration-color: #7fbfbf\">14:38:01 CEST </span>status = queued                                                   \n",
       "</pre>\n"
      ],
      "text/plain": [
       "\u001b[2;36m14:38:01 CEST\u001b[0m\u001b[2;36m \u001b[0mstatus = queued                                                   \n"
      ]
     },
     "metadata": {},
     "output_type": "display_data"
    },
    {
     "data": {
      "text/html": [
       "<pre style=\"white-space:pre;overflow-x:auto;line-height:normal;font-family:Menlo,'DejaVu Sans Mono',consolas,'Courier New',monospace\"><span style=\"color: #7fbfbf; text-decoration-color: #7fbfbf\">              </span>To cancel the simulation, use <span style=\"color: #008000; text-decoration-color: #008000\">'web.abort(task_id)'</span> or             \n",
       "<span style=\"color: #7fbfbf; text-decoration-color: #7fbfbf\">              </span><span style=\"color: #008000; text-decoration-color: #008000\">'web.delete(task_id)'</span> or abort/delete the task in the web UI.     \n",
       "<span style=\"color: #7fbfbf; text-decoration-color: #7fbfbf\">              </span>Terminating the Python script will not stop the job running on the\n",
       "<span style=\"color: #7fbfbf; text-decoration-color: #7fbfbf\">              </span>cloud.                                                            \n",
       "</pre>\n"
      ],
      "text/plain": [
       "\u001b[2;36m             \u001b[0m\u001b[2;36m \u001b[0mTo cancel the simulation, use \u001b[32m'web.abort\u001b[0m\u001b[32m(\u001b[0m\u001b[32mtask_id\u001b[0m\u001b[32m)\u001b[0m\u001b[32m'\u001b[0m or             \n",
       "\u001b[2;36m              \u001b[0m\u001b[32m'web.delete\u001b[0m\u001b[32m(\u001b[0m\u001b[32mtask_id\u001b[0m\u001b[32m)\u001b[0m\u001b[32m'\u001b[0m or abort/delete the task in the web UI.     \n",
       "\u001b[2;36m              \u001b[0mTerminating the Python script will not stop the job running on the\n",
       "\u001b[2;36m              \u001b[0mcloud.                                                            \n"
      ]
     },
     "metadata": {},
     "output_type": "display_data"
    },
    {
     "data": {
      "application/vnd.jupyter.widget-view+json": {
       "model_id": "",
       "version_major": 2,
       "version_minor": 0
      },
      "text/plain": [
       "Output()"
      ]
     },
     "metadata": {},
     "output_type": "display_data"
    },
    {
     "data": {
      "text/html": [
       "<pre style=\"white-space:pre;overflow-x:auto;line-height:normal;font-family:Menlo,'DejaVu Sans Mono',consolas,'Courier New',monospace\"><span style=\"color: #7fbfbf; text-decoration-color: #7fbfbf\">14:38:48 CEST </span>status = preprocess                                               \n",
       "</pre>\n"
      ],
      "text/plain": [
       "\u001b[2;36m14:38:48 CEST\u001b[0m\u001b[2;36m \u001b[0mstatus = preprocess                                               \n"
      ]
     },
     "metadata": {},
     "output_type": "display_data"
    },
    {
     "data": {
      "text/html": [
       "<pre style=\"white-space:pre;overflow-x:auto;line-height:normal;font-family:Menlo,'DejaVu Sans Mono',consolas,'Courier New',monospace\"></pre>\n"
      ],
      "text/plain": []
     },
     "metadata": {},
     "output_type": "display_data"
    },
    {
     "data": {
      "text/html": [
       "<pre style=\"white-space:pre;overflow-x:auto;line-height:normal;font-family:Menlo,'DejaVu Sans Mono',consolas,'Courier New',monospace\"><span style=\"color: #7fbfbf; text-decoration-color: #7fbfbf\">14:38:51 CEST </span>Maximum FlexCredit cost: <span style=\"color: #008080; text-decoration-color: #008080; font-weight: bold\">0.025</span>. Use <span style=\"color: #008000; text-decoration-color: #008000\">'web.real_cost(task_id)'</span> to   \n",
       "<span style=\"color: #7fbfbf; text-decoration-color: #7fbfbf\">              </span>get the billed FlexCredit cost after a simulation run.            \n",
       "</pre>\n"
      ],
      "text/plain": [
       "\u001b[2;36m14:38:51 CEST\u001b[0m\u001b[2;36m \u001b[0mMaximum FlexCredit cost: \u001b[1;36m0.025\u001b[0m. Use \u001b[32m'web.real_cost\u001b[0m\u001b[32m(\u001b[0m\u001b[32mtask_id\u001b[0m\u001b[32m)\u001b[0m\u001b[32m'\u001b[0m to   \n",
       "\u001b[2;36m              \u001b[0mget the billed FlexCredit cost after a simulation run.            \n"
      ]
     },
     "metadata": {},
     "output_type": "display_data"
    },
    {
     "data": {
      "text/html": [
       "<pre style=\"white-space:pre;overflow-x:auto;line-height:normal;font-family:Menlo,'DejaVu Sans Mono',consolas,'Courier New',monospace\"><span style=\"color: #7fbfbf; text-decoration-color: #7fbfbf\">              </span>starting up solver                                                \n",
       "</pre>\n"
      ],
      "text/plain": [
       "\u001b[2;36m             \u001b[0m\u001b[2;36m \u001b[0mstarting up solver                                                \n"
      ]
     },
     "metadata": {},
     "output_type": "display_data"
    },
    {
     "data": {
      "text/html": [
       "<pre style=\"white-space:pre;overflow-x:auto;line-height:normal;font-family:Menlo,'DejaVu Sans Mono',consolas,'Courier New',monospace\"><span style=\"color: #7fbfbf; text-decoration-color: #7fbfbf\">              </span>running solver                                                    \n",
       "</pre>\n"
      ],
      "text/plain": [
       "\u001b[2;36m             \u001b[0m\u001b[2;36m \u001b[0mrunning solver                                                    \n"
      ]
     },
     "metadata": {},
     "output_type": "display_data"
    },
    {
     "data": {
      "application/vnd.jupyter.widget-view+json": {
       "model_id": "cf3e6cfd95f643d3acf12256c491f19d",
       "version_major": 2,
       "version_minor": 0
      },
      "text/plain": [
       "Output()"
      ]
     },
     "metadata": {},
     "output_type": "display_data"
    },
    {
     "data": {
      "text/html": [
       "<pre style=\"white-space:pre;overflow-x:auto;line-height:normal;font-family:Menlo,'DejaVu Sans Mono',consolas,'Courier New',monospace\"><span style=\"color: #7fbfbf; text-decoration-color: #7fbfbf\">14:39:01 CEST </span>early shutoff detected at <span style=\"color: #008080; text-decoration-color: #008080; font-weight: bold\">36</span>%, exiting.                           \n",
       "</pre>\n"
      ],
      "text/plain": [
       "\u001b[2;36m14:39:01 CEST\u001b[0m\u001b[2;36m \u001b[0mearly shutoff detected at \u001b[1;36m36\u001b[0m%, exiting.                           \n"
      ]
     },
     "metadata": {},
     "output_type": "display_data"
    },
    {
     "data": {
      "text/html": [
       "<pre style=\"white-space:pre;overflow-x:auto;line-height:normal;font-family:Menlo,'DejaVu Sans Mono',consolas,'Courier New',monospace\"></pre>\n"
      ],
      "text/plain": []
     },
     "metadata": {},
     "output_type": "display_data"
    },
    {
     "data": {
      "text/html": [
       "<pre style=\"white-space:pre;overflow-x:auto;line-height:normal;font-family:Menlo,'DejaVu Sans Mono',consolas,'Courier New',monospace\">\n",
       "</pre>\n"
      ],
      "text/plain": [
       "\n"
      ]
     },
     "metadata": {},
     "output_type": "display_data"
    },
    {
     "data": {
      "text/html": [
       "<pre style=\"white-space:pre;overflow-x:auto;line-height:normal;font-family:Menlo,'DejaVu Sans Mono',consolas,'Courier New',monospace\"><span style=\"color: #7fbfbf; text-decoration-color: #7fbfbf\">              </span>status = postprocess                                              \n",
       "</pre>\n"
      ],
      "text/plain": [
       "\u001b[2;36m             \u001b[0m\u001b[2;36m \u001b[0mstatus = postprocess                                              \n"
      ]
     },
     "metadata": {},
     "output_type": "display_data"
    },
    {
     "data": {
      "application/vnd.jupyter.widget-view+json": {
       "model_id": "",
       "version_major": 2,
       "version_minor": 0
      },
      "text/plain": [
       "Output()"
      ]
     },
     "metadata": {},
     "output_type": "display_data"
    },
    {
     "data": {
      "text/html": [
       "<pre style=\"white-space:pre;overflow-x:auto;line-height:normal;font-family:Menlo,'DejaVu Sans Mono',consolas,'Courier New',monospace\"><span style=\"color: #7fbfbf; text-decoration-color: #7fbfbf\">14:39:03 CEST </span>status = success                                                  \n",
       "</pre>\n"
      ],
      "text/plain": [
       "\u001b[2;36m14:39:03 CEST\u001b[0m\u001b[2;36m \u001b[0mstatus = success                                                  \n"
      ]
     },
     "metadata": {},
     "output_type": "display_data"
    },
    {
     "data": {
      "text/html": [
       "<pre style=\"white-space:pre;overflow-x:auto;line-height:normal;font-family:Menlo,'DejaVu Sans Mono',consolas,'Courier New',monospace\"></pre>\n"
      ],
      "text/plain": []
     },
     "metadata": {},
     "output_type": "display_data"
    },
    {
     "data": {
      "text/html": [
       "<pre style=\"white-space:pre;overflow-x:auto;line-height:normal;font-family:Menlo,'DejaVu Sans Mono',consolas,'Courier New',monospace\"><span style=\"color: #7fbfbf; text-decoration-color: #7fbfbf\">14:39:04 CEST </span>View simulation result at                                         \n",
       "<span style=\"color: #7fbfbf; text-decoration-color: #7fbfbf\">              </span><a href=\"https://tidy3d.simulation.cloud/workbench?taskId=fdve-c1d3ed53-4fab-4d39-898d-03725212ee60\" target=\"_blank\"><span style=\"color: #000080; text-decoration-color: #000080; text-decoration: underline\">'https://tidy3d.simulation.cloud/workbench?taskId=fdve-c1d3ed53-4f</span></a>\n",
       "<span style=\"color: #7fbfbf; text-decoration-color: #7fbfbf\">              </span><a href=\"https://tidy3d.simulation.cloud/workbench?taskId=fdve-c1d3ed53-4fab-4d39-898d-03725212ee60\" target=\"_blank\"><span style=\"color: #000080; text-decoration-color: #000080; text-decoration: underline\">ab-4d39-898d-03725212ee60'</span></a><span style=\"color: #000080; text-decoration-color: #000080; text-decoration: underline\">.</span>                                       \n",
       "</pre>\n"
      ],
      "text/plain": [
       "\u001b[2;36m14:39:04 CEST\u001b[0m\u001b[2;36m \u001b[0mView simulation result at                                         \n",
       "\u001b[2;36m              \u001b[0m\u001b]8;id=995813;https://tidy3d.simulation.cloud/workbench?taskId=fdve-c1d3ed53-4fab-4d39-898d-03725212ee60\u001b\\\u001b[4;34m'https://tidy3d.simulation.cloud/workbench?\u001b[0m\u001b]8;;\u001b\\\u001b]8;id=2340;https://tidy3d.simulation.cloud/workbench?taskId=fdve-c1d3ed53-4fab-4d39-898d-03725212ee60\u001b\\\u001b[4;34mtaskId\u001b[0m\u001b]8;;\u001b\\\u001b]8;id=995813;https://tidy3d.simulation.cloud/workbench?taskId=fdve-c1d3ed53-4fab-4d39-898d-03725212ee60\u001b\\\u001b[4;34m=\u001b[0m\u001b]8;;\u001b\\\u001b]8;id=865616;https://tidy3d.simulation.cloud/workbench?taskId=fdve-c1d3ed53-4fab-4d39-898d-03725212ee60\u001b\\\u001b[4;34mfdve\u001b[0m\u001b]8;;\u001b\\\u001b]8;id=995813;https://tidy3d.simulation.cloud/workbench?taskId=fdve-c1d3ed53-4fab-4d39-898d-03725212ee60\u001b\\\u001b[4;34m-c1d3ed53-4f\u001b[0m\u001b]8;;\u001b\\\n",
       "\u001b[2;36m              \u001b[0m\u001b]8;id=995813;https://tidy3d.simulation.cloud/workbench?taskId=fdve-c1d3ed53-4fab-4d39-898d-03725212ee60\u001b\\\u001b[4;34mab-4d39-898d-03725212ee60'\u001b[0m\u001b]8;;\u001b\\\u001b[4;34m.\u001b[0m                                       \n"
      ]
     },
     "metadata": {},
     "output_type": "display_data"
    },
    {
     "data": {
      "application/vnd.jupyter.widget-view+json": {
       "model_id": "454bea2819cc4ed696f808d0e5c331b7",
       "version_major": 2,
       "version_minor": 0
      },
      "text/plain": [
       "Output()"
      ]
     },
     "metadata": {},
     "output_type": "display_data"
    },
    {
     "data": {
      "text/html": [
       "<pre style=\"white-space:pre;overflow-x:auto;line-height:normal;font-family:Menlo,'DejaVu Sans Mono',consolas,'Courier New',monospace\"></pre>\n"
      ],
      "text/plain": []
     },
     "metadata": {},
     "output_type": "display_data"
    },
    {
     "data": {
      "text/html": [
       "<pre style=\"white-space:pre;overflow-x:auto;line-height:normal;font-family:Menlo,'DejaVu Sans Mono',consolas,'Courier New',monospace\">\n",
       "</pre>\n"
      ],
      "text/plain": [
       "\n"
      ]
     },
     "metadata": {},
     "output_type": "display_data"
    },
    {
     "data": {
      "text/html": [
       "<pre style=\"white-space:pre;overflow-x:auto;line-height:normal;font-family:Menlo,'DejaVu Sans Mono',consolas,'Courier New',monospace\"><span style=\"color: #7fbfbf; text-decoration-color: #7fbfbf\">14:39:06 CEST </span>loading simulation from simulation_data.hdf5                      \n",
       "</pre>\n"
      ],
      "text/plain": [
       "\u001b[2;36m14:39:06 CEST\u001b[0m\u001b[2;36m \u001b[0mloading simulation from simulation_data.hdf5                      \n"
      ]
     },
     "metadata": {},
     "output_type": "display_data"
    }
   ],
   "source": [
    "sim_final = make_sim(pixels_final)\n",
    "\n",
    "# update mode monitor's recording frequencies\n",
    "mode_monitor = sim.monitors[0].copy(update={\"freqs\": freqs})\n",
    "\n",
    "# add a field monitor to visualize field distribution\n",
    "field_monitor = td.FieldMonitor(\n",
    "    center=(0, 0, t / 2), size=(td.inf, td.inf, 0), freqs=[freq0], name=\"field\"\n",
    ")\n",
    "\n",
    "# update simulation to use the new monitors\n",
    "sim_final = sim_final.copy(update={\"monitors\": [mode_monitor, field_monitor]})\n",
    "\n",
    "# submit the simulation to the server\n",
    "sim_data_final = web.run(simulation=sim_final, task_name=\"final design\")"
   ]
  },
  {
   "cell_type": "markdown",
   "id": "645d4052",
   "metadata": {},
   "source": [
    "After the simulation, we visualize the electric field norm at the central wavelength. As expected, a strong reflection is observed. "
   ]
  },
  {
   "cell_type": "code",
   "execution_count": 15,
   "id": "0eff6f90",
   "metadata": {},
   "outputs": [
    {
     "data": {
      "image/png": "[encoded data removed]",
      "text/plain": [
       "<Figure size 640x480 with 2 Axes>"
      ]
     },
     "metadata": {},
     "output_type": "display_data"
    }
   ],
   "source": [
    "sim_data_final.plot_field(\"field\", \"Ey\", \"abs\", vmin=0, vmax=1e2)\n",
    "plt.show()"
   ]
  },
  {
   "cell_type": "markdown",
   "id": "89311128",
   "metadata": {},
   "source": [
    "Finally plot the reflection spectrum, where we see a broadband reflection. Considering the very compact footprint, the performance is very good. With this reflector design, we can further construct other devices such as high-quality-factor Fabry–Perot cavities as demonstrated in the [publication](https://doi.org/10.1364/PRJ.5.000B15)."
   ]
  },
  {
   "cell_type": "code",
   "execution_count": 16,
   "id": "20e9667f",
   "metadata": {},
   "outputs": [
    {
     "data": {
      "image/png": "[encoded data removed]",
      "text/plain": [
       "<Figure size 640x480 with 1 Axes>"
      ]
     },
     "metadata": {},
     "output_type": "display_data"
    }
   ],
   "source": [
    "R = abs(sim_data_final[\"mode\"].amps.sel(direction=\"-\").squeeze(drop=True).values) ** 2\n",
    "\n",
    "plt.plot(ldas, R, \"red\", linewidth=2)\n",
    "plt.xlim(min(ldas), max(ldas))\n",
    "plt.ylim(0, 1)\n",
    "plt.xlabel(\"Wavelength (µm)\")\n",
    "plt.ylabel(\"Reflectivity\")\n",
    "plt.show()"
   ]
  },
  {
   "cell_type": "markdown",
   "id": "6cf44ce8",
   "metadata": {},
   "source": [
    "With the optimized design, we can directly export a GDS file of the reflector for fabrication. "
   ]
  },
  {
   "cell_type": "code",
   "execution_count": 16,
   "id": "26cf87f5",
   "metadata": {},
   "outputs": [],
   "source": [
    "# make the misc/ directory to store the GDS file if it doesnt exist already\n",
    "import os\n",
    "if not os.path.exists('./misc/'):\n",
    "    os.mkdir('./misc/')\n",
    "    \n",
    "sim_final.to_gds_file(fname=\"misc/optimized_reflector.gds\", z=t / 2)"
   ]
  }
 ],
 "metadata": {
  "description": "This notebook demonstrates how to use genetic algorithm (GA) to optimize an on-chip reflector.",
  "feature_image": "./img/optimized_reflector.png",
  "kernelspec": {
   "display_name": "Python 3 (ipykernel)",
   "language": "python",
   "name": "python3"
  },
  "keywords": "genetic algorithm, optimization, Tidy3D, FDTD",
  "language_info": {
   "codemirror_mode": {
    "name": "ipython",
    "version": 3
   },
   "file_extension": ".py",
   "mimetype": "text/x-python",
   "name": "python",
   "nbconvert_exporter": "python",
   "pygments_lexer": "ipython3",
   "version": "3.10.13"
  },
  "title": "Genetic Algorithm Optimization of a Reflector | Flexcompute"
 },
 "nbformat": 4,
 "nbformat_minor": 5
}
