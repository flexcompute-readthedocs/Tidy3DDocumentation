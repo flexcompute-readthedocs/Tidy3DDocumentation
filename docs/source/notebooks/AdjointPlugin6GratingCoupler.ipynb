{
 "cells": [
  {
   "cell_type": "markdown",
   "metadata": {},
   "source": [
    "# Inverse design optimization of a compact grating coupler\n",
    "\n",
    "**This notebook contains a long optimization. Running the entire notebook will cost about 20 FlexCredits and take several hours.**\n",
    "\n",
    "The ability to couple light in and out of photonic integrated circuits (PICs) is crucial for developing wafer-scale systems and tests. This need makes designing efficient and compact grating couplers an important task in the PIC development cycle. In this notebook, we will demonstrate how to use [Tidy3D's adjoint plugin](../notebooks/AdjointPlugin1Intro.html) to perform the inverse design of a compact 3D grating coupler. We will show how to improve design fabricability by enhancing permittivity binarization and controlling the device's minimum feature size.\n",
    "\n",
    "We start by importing our typical python packages, `jax`, `tidy3d` and its `adjoint` plugin."
   ]
  },
  {
   "cell_type": "code",
   "execution_count": 1,
   "metadata": {},
   "outputs": [],
   "source": [
    "# Standard python imports.\n",
    "from typing import List\n",
    "import numpy as np\n",
    "import scipy as sp\n",
    "import matplotlib.pylab as plt\n",
    "import os\n",
    "import json\n",
    "import pydantic as pd\n",
    "from typing import Callable\n",
    "\n",
    "# Import jax to be able to use automatic differentiation.\n",
    "import jax.numpy as jnp\n",
    "import jax.scipy as jsp\n",
    "from jax import value_and_grad\n",
    "\n",
    "# Import regular tidy3d.\n",
    "import tidy3d as td\n",
    "import tidy3d.web as web\n",
    "\n",
    "# Import the components we need from the adjoint plugin.\n",
    "from tidy3d.plugins.adjoint import (\n",
    "    JaxSimulation, \n",
    "    JaxBox, \n",
    "    JaxCustomMedium, \n",
    "    JaxStructure,\n",
    "    JaxSimulationData,\n",
    "    JaxDataArray,\n",
    "    JaxPermittivityDataset,\n",
    ")\n",
    "from tidy3d.plugins.adjoint.web import run_local as run\n"
   ]
  },
  {
   "cell_type": "markdown",
   "metadata": {},
   "source": [
    "## Grating Coupler Inverse Design Configuration\n",
    "\n",
    "The grating coupler inverse design begins with a rectangular design region connected to a $Si$ waveguide. Throughout the optimization process, this initial structure evolves to convert a vertically incident Gaussian-like mode from an optical fiber into a guided mode and then funnel it into the $Si$ waveguide.\n",
    "\n",
    "We are considering a full-etched grating structure, so a $SiO_{2}$ BOX layer is included. To reduce backreflection, we adjusted the fiber tilt angle to $10^{\\circ}$ [[1](https://doi.org/10.1364/OE.23.022628), [2](https://doi.org/10.3390/mi11070666)].\n",
    "\n",
    "In the following block of code, you can find the parameters that can be modified to configure the grating coupler structure, optimization, and simulation setup. Special care should be devoted to the `it_per_step` and `opt_steps` variables bellow."
   ]
  },
  {
   "cell_type": "code",
   "execution_count": 2,
   "metadata": {},
   "outputs": [],
   "source": [
    "# Geometric parameters.\n",
    "w_thick = 0.22  # Waveguide thickness (um).\n",
    "w_width = 0.5  # Waveguide width (um).\n",
    "w_length = 1.0  # Waveguide length (um).\n",
    "box_thick = 1.6  # SiO2 BOX thickness (um).\n",
    "spot_size = 2.5  # Spot size of the input Gaussian field regarding a lensed fiber (um).\n",
    "fiber_tilt = 10.0  # Fiber tilt angle (degrees).\n",
    "src_offset = 0.05  # Distance between the source focus and device (um).\n",
    "\n",
    "# Material.\n",
    "nSi = 3.48  # Silicon refractive index.\n",
    "nSiO2 = 1.44  # Silica refractive index.\n",
    "\n",
    "# Design region parameters.\n",
    "gc_width = 4.0  # Grating coupler width (um).\n",
    "gc_length = 4.0  # Grating coupler length (um).\n",
    "dr_grid_size = 0.02  # Grid size within the design region (um).\n",
    "\n",
    "# Inverse design set up parameters.\n",
    "#################################################################\n",
    "# Total number of iterations = opt_steps x it_per_step.\n",
    "it_per_step = 10  # Number of iterations per optimization step.\n",
    "opt_steps = 15 # Number of optimization steps.\n",
    "#################################################################\n",
    "feature_size = 0.070 # Minimum feature size (um).\n",
    "eta = 0.50  # Threshold value for the projection filter.\n",
    "init_beta = 10  # Sharpness parameter for the projection filter.\n",
    "del_beta = 10  # Increments of beta at each optimization step.\n",
    "fom_name = \"fom_field\"  # Name of the monitor used to compute the objective function.\n",
    "\n",
    "# Inverse design data file.\n",
    "output_file = \"./misc/invdes_gc.json\"\n",
    "\n",
    "# Simulation wavelength.\n",
    "wl = 1.55  # Central simulation wavelength (um).\n",
    "bw = 0.06  # Simulation bandwidth (um).\n",
    "n_wl = 61  # Number of wavelength points within the bandwidth."
   ]
  },
  {
   "cell_type": "markdown",
   "metadata": {},
   "source": [
    "### Ckeching For a Previous Optimization\n",
    "\n",
    "If `output_file` is a valid file, the results of a previous optimization are loaded, then the optimization will continue from the last iteration step. If the optimization was completed, only the final structure will be simulated. The JSON file used in this notebook can be downloaded from our documentation [repo](https://github.com/flexcompute-readthedocs/tidy3d-docs/tree/readthedocs/docs/source/notebooks/misc)."
   ]
  },
  {
   "cell_type": "code",
   "execution_count": 3,
   "metadata": {},
   "outputs": [
    {
     "name": "stdout",
     "output_type": "stream",
     "text": [
      "Total iterations = 150\n",
      "Iterations to run = 150\n"
     ]
    }
   ],
   "source": [
    "total_iter = opt_steps * it_per_step\n",
    "iter_to_do = total_iter\n",
    "prev_data = []\n",
    "if os.path.isfile(output_file):\n",
    "    with open(output_file, \"r\", encoding=\"utf-8\") as json_file:\n",
    "        prev_data = json.load(json_file)[0]\n",
    "        iter_to_do -= len(prev_data[\"obj_vals\"])\n",
    "        print(\"Previous optimization data loaded from \" + output_file)        \n",
    "\n",
    "print(f\"Total iterations = {total_iter}\")\n",
    "print(f\"Iterations to run = {iter_to_do}\")\n"
   ]
  },
  {
   "cell_type": "markdown",
   "metadata": {},
   "source": [
    "## Inverse Design Optimization Set Up\n",
    "\n",
    "We will calculate the values of some parameters used throughout the inverse design set up."
   ]
  },
  {
   "cell_type": "code",
   "execution_count": 4,
   "metadata": {},
   "outputs": [],
   "source": [
    "# Minimum and maximum values for the permittivities.\n",
    "eps_max = nSi**2\n",
    "eps_min = 1.0\n",
    "\n",
    "# Material definitions.\n",
    "mat_si = td.Medium(permittivity=eps_max)  # Waveguide material.\n",
    "mat_sio2 = td.Medium(permittivity=nSiO2**2)  # Substrate material.\n",
    "\n",
    "# Wavelengths and frequencies.\n",
    "wl_max = wl + bw / 2\n",
    "wl_min = wl - bw / 2\n",
    "wl_range = np.linspace(wl_min, wl_max, n_wl)\n",
    "freq = td.C_0 / wl\n",
    "freqs = td.C_0 / wl_range\n",
    "freqw = 0.5 * (freqs[0] - freqs[-1])\n",
    "run_time = 5e-12\n",
    "\n",
    "# Computational domain size.\n",
    "pml_spacing = 0.6 * wl\n",
    "size_x = pml_spacing + w_length + gc_length\n",
    "size_y = gc_width + 2 * pml_spacing\n",
    "size_z = w_thick + box_thick + 2 * pml_spacing\n",
    "center_z = size_z / 2 - pml_spacing - w_thick / 2\n",
    "eff_inf = 1000\n",
    "\n",
    "# Inverse design variables.\n",
    "src_pos_z = w_thick / 2 + src_offset\n",
    "mon_pos_x = -size_x / 2 + 0.25 * wl\n",
    "mon_w = int(3 * w_width / dr_grid_size) * dr_grid_size\n",
    "mon_h = int(5 * w_thick / dr_grid_size) * dr_grid_size\n",
    "nx = int(gc_length / dr_grid_size)\n",
    "ny = int(gc_width / dr_grid_size / 2.0)\n",
    "npar = nx * ny\n",
    "dr_size_x = nx * dr_grid_size\n",
    "dr_size_y = 2 * ny * dr_grid_size\n",
    "dr_center_x = -size_x / 2 + w_length + dr_size_x / 2\n"
   ]
  },
  {
   "cell_type": "markdown",
   "metadata": {},
   "source": [
    "First, we will introduce the simulation components that do not change during optimization, such as the $Si$ waveguide and $SiO_{2}$ BOX layer. Additionally, we will include a Gaussian source to drive the simulations, and a mode monitor to compute the objective function."
   ]
  },
  {
   "cell_type": "code",
   "execution_count": 5,
   "metadata": {},
   "outputs": [],
   "source": [
    "# Input/output waveguide.\n",
    "waveguide = td.Structure(\n",
    "    geometry=td.Box.from_bounds(\n",
    "        rmin=(-eff_inf, -w_width / 2, -w_thick / 2),\n",
    "        rmax=(-size_x / 2 + w_length, w_width / 2, w_thick / 2),\n",
    "    ),\n",
    "    medium=mat_si,\n",
    ")\n",
    "\n",
    "# SiO2 BOX layer.\n",
    "sio2_substrate = td.Structure(\n",
    "    geometry=td.Box.from_bounds(\n",
    "        rmin=(-eff_inf, -eff_inf, -w_thick / 2 - box_thick), \n",
    "        rmax=(eff_inf, eff_inf, -w_thick / 2)\n",
    "    ),\n",
    "    medium=mat_sio2,\n",
    ")\n",
    "\n",
    "# Si substrate.\n",
    "si_substrate = td.Structure(\n",
    "    geometry=td.Box.from_bounds(\n",
    "        rmin=(-eff_inf, -eff_inf, -eff_inf), \n",
    "        rmax=(eff_inf, eff_inf, -w_thick / 2 - box_thick)\n",
    "    ),\n",
    "    medium=mat_si,\n",
    ")\n",
    "\n",
    "# Gaussian source focused above the grating coupler.\n",
    "gauss_source = td.GaussianBeam(\n",
    "    center=(dr_center_x, 0, src_pos_z),\n",
    "    size=(dr_size_x, dr_size_y, 0),\n",
    "    source_time=td.GaussianPulse(freq0=freq, fwidth=freqw),\n",
    "    pol_angle=np.pi / 2,\n",
    "    angle_theta=fiber_tilt * np.pi / 180.0,\n",
    "    direction=\"-\",\n",
    "    num_freqs=7,\n",
    "    waist_radius=spot_size / 2,\n",
    ")\n",
    "\n",
    "# Monitor where we will compute the objective function from.\n",
    "mode_spec = td.ModeSpec(num_modes=1, target_neff=nSi)\n",
    "fom_monitor = td.ModeMonitor(\n",
    "    center=[mon_pos_x, 0, 0],\n",
    "    size=[0, mon_w, mon_h],\n",
    "    freqs=[freq],\n",
    "    mode_spec=mode_spec,\n",
    "    name=fom_name,\n",
    ")\n"
   ]
  },
  {
   "cell_type": "markdown",
   "metadata": {},
   "source": [
    "Now, we will define a random vector of initial design parameters or load a previously designed structure."
   ]
  },
  {
   "cell_type": "code",
   "execution_count": 6,
   "metadata": {},
   "outputs": [],
   "source": [
    "init_par = np.random.uniform(0, 1, npar)\n",
    "\n",
    "# Load parameters if continuing/visualizing a previous optimization:\n",
    "if iter_to_do < total_iter:\n",
    "    init_par = np.array(prev_data[\"design_parameters\"])\n",
    "    init_beta = prev_data[\"final_beta\"]\n",
    "# Only smooths the initial random distribution otherwise.\n",
    "else:\n",
    "    init_par = sp.ndimage.gaussian_filter(init_par, 1)"
   ]
  },
  {
   "cell_type": "markdown",
   "metadata": {},
   "source": [
    "### Fabrication Constraints\n",
    "\n",
    "We will use `jax` to build functions that improve device fabricability. A classical conic density filter, which is popular in topology optimization problems, is used to enforce a minimum feature size specified by the `feature_size` variable. Next, a hyperbolic tangent projection function is applied to eliminate grayscale and obtain a binarized permittivity pattern. The `beta` parameter controls the sharpness of the transition in the projection function, and for better results, this parameter should be gradually increased throughout the optimization process. Finally, the design parameters are transformed into permittivity values. For a detailed review of these methods, refer to [[3](https://doi.org/10.1007/s00419-015-1106-4)]."
   ]
  },
  {
   "cell_type": "code",
   "execution_count": 7,
   "metadata": {},
   "outputs": [],
   "source": [
    "def get_eps(design_param, beta: float = 1.00, binarize: bool = False) -> np.ndarray:\n",
    "    \"\"\"Returns the permittivities after applying a conic density filter on design parameters\n",
    "    to enforce fabrication constraints, followed by a binarization projection function\n",
    "    which reduces grayscale.\n",
    "    Parameters:\n",
    "        design_param: np.ndarray\n",
    "            Vector of design parameters.\n",
    "        beta: float = 1.0\n",
    "            Sharpness parameter for the projection filter.\n",
    "        binarize: bool = False\n",
    "            Enforce binarization.\n",
    "    Returns:\n",
    "        eps: np.ndarray\n",
    "            Permittivity vector.\n",
    "    \"\"\"\n",
    "    # Reshapes the design parameters into a 2D matrix.\n",
    "    rho = np.reshape(design_param, (nx, ny))\n",
    "\n",
    "    # Builds the conic filter and apply it to design parameters.\n",
    "    filter_radius = np.ceil((feature_size * np.sqrt(3)) / dr_grid_size)\n",
    "    xy = np.linspace(-filter_radius, filter_radius, int(2 * filter_radius + 1))\n",
    "    xm, ym = np.meshgrid(xy, xy)\n",
    "    xy_rad = np.sqrt(xm**2 + ym**2)\n",
    "    kernel = jnp.where(filter_radius - xy_rad > 0, filter_radius - xy_rad, 0)\n",
    "    filt_den = jsp.signal.convolve(jnp.ones_like(rho), kernel, mode=\"same\")\n",
    "    rho_dot = jsp.signal.convolve(rho, kernel, mode=\"same\") / filt_den\n",
    "\n",
    "    # Applies a hyperbolic tangent binarization function.\n",
    "    rho_bar = (jnp.tanh(beta * eta) + jnp.tanh(beta * (rho_dot - eta))) / (\n",
    "        jnp.tanh(beta * eta) + jnp.tanh(beta * (1.0 - eta))\n",
    "    )\n",
    "\n",
    "    # Calculates the permittivities from the transformed design parameters.\n",
    "    eps = eps_min + (eps_max - eps_min) * rho_bar\n",
    "    if binarize:\n",
    "        eps = jnp.where(eps < (eps_min + eps_max) / 2, eps_min, eps_max)\n",
    "    else:        \n",
    "        eps = jnp.where(eps < eps_min, eps_min, eps)\n",
    "        eps = jnp.where(eps > eps_max, eps_max, eps)\n",
    "    return eps\n"
   ]
  },
  {
   "cell_type": "markdown",
   "metadata": {},
   "source": [
    "### Using Tidy3d Convenience wrappers\n",
    "\n",
    "In Tidy3D 2.4.0, there are wrappers for the above operations which you may use instead for added convenience.\n",
    "\n",
    "We will implement the above function using such filtering and projection utilities as a demonstration."
   ]
  },
  {
   "cell_type": "code",
   "execution_count": 8,
   "metadata": {},
   "outputs": [],
   "source": [
    "from tidy3d.plugins.adjoint.utils.filter import ConicFilter, BinaryProjector\n",
    "\n",
    "def get_eps(design_param, beta: float = 1.00, binarize: bool = False) -> np.ndarray:\n",
    "    \"\"\"Returns the permittivities after applying a conic density filter on design parameters\n",
    "    to enforce fabrication constraints, followed by a binarization projection function\n",
    "    which reduces grayscale.\n",
    "    Parameters:\n",
    "        design_param: np.ndarray\n",
    "            Vector of design parameters.\n",
    "        beta: float = 1.0\n",
    "            Sharpness parameter for the projection filter.\n",
    "        binarize: bool = False\n",
    "            Enforce binarization.\n",
    "    Returns:\n",
    "        eps: np.ndarray\n",
    "            Permittivity vector.\n",
    "    \"\"\"\n",
    "    conic_filter = ConicFilter(feature_size=feature_size, design_region_dl=dr_grid_size)\n",
    "    binary_projector = BinaryProjector(vmin=eps_min, vmax=eps_max, eta=eta, beta=beta, strict_binarize=binarize)\n",
    "    \n",
    "    rho_dot = conic_filter.evaluate(design_param.reshape(nx, ny))\n",
    "    return binary_projector.evaluate(rho_dot)\n",
    "    "
   ]
  },
  {
   "cell_type": "markdown",
   "metadata": {},
   "source": [
    "The permittivity values obtained from the design parameters are then used to build a [JaxCustomMedium](https://docs.flexcompute.com/projects/tidy3d/en/latest/_autosummary/tidy3d.plugins.adjoint.JaxCustomMedium.html). As we will consider symmetry about the x-axis in the simulations, only the upper-half part of the design region needs to be populated. A `JaxStructure` built using the `JaxCustomMedium` will be returned by the following function: "
   ]
  },
  {
   "cell_type": "code",
   "execution_count": 9,
   "metadata": {},
   "outputs": [],
   "source": [
    "def update_design(eps, unfold: bool = False) -> List[JaxStructure]:\n",
    "    # Reflects the structure about the x-axis.\n",
    "    nyii = ny\n",
    "    y_min = 0\n",
    "    dr_s_y = dr_size_y / 2\n",
    "    dr_c_y = dr_s_y / 2\n",
    "    eps_val = jnp.array(eps).reshape((nx, ny, 1, 1))\n",
    "    if unfold:\n",
    "        nyii = 2 * ny\n",
    "        y_min = -dr_size_y / 2\n",
    "        dr_s_y = dr_size_y\n",
    "        dr_c_y = 0\n",
    "        eps_val = np.concatenate((np.fliplr(np.copy(eps_val)), eps_val), axis=1)\n",
    "\n",
    "    # Definition of the coordinates x,y along the design region.\n",
    "    coords_x = [(dr_center_x - dr_size_x / 2) + ix * dr_grid_size for ix in range(nx)]\n",
    "    coords_y = [y_min + iy * dr_grid_size for iy in range(nyii)]\n",
    "    coords = dict(x=coords_x, y=coords_y, z=[0], f=[freq])\n",
    "\n",
    "    # Creation of a custom medium using the values of the design parameters.\n",
    "    eps_components = {\n",
    "        f\"eps_{dim}{dim}\": JaxDataArray(values=eps_val, coords=coords) for dim in \"xyz\"\n",
    "    }\n",
    "    eps_dataset = JaxPermittivityDataset(**eps_components)\n",
    "    eps_medium = JaxCustomMedium(eps_dataset=eps_dataset)\n",
    "    box = JaxBox(center=(dr_center_x, dr_c_y, 0), size=(dr_size_x, dr_s_y, w_thick))\n",
    "    design_structure = JaxStructure(geometry=box, medium=eps_medium)\n",
    "    return [design_structure]\n"
   ]
  },
  {
   "cell_type": "markdown",
   "metadata": {},
   "source": [
    "Next, we will write a function to return the `JaxSimulation` object. Note that we are using a `MeshOverrideStructure` to obtain a uniform mesh over the design region."
   ]
  },
  {
   "cell_type": "code",
   "execution_count": 10,
   "metadata": {},
   "outputs": [],
   "source": [
    "def make_adjoint_sim(\n",
    "    design_param, beta: float = 1.00, unfold: bool = False, binarize: bool=False\n",
    ") -> JaxSimulation:\n",
    "    # Builds the design region from the design parameters.\n",
    "    eps = get_eps(design_param, beta, binarize)\n",
    "    design_structure = update_design(eps, unfold=unfold)\n",
    "\n",
    "    # Creates a uniform mesh for the design region.\n",
    "    adjoint_dr_mesh = td.MeshOverrideStructure(\n",
    "        geometry=td.Box(\n",
    "            center=(dr_center_x, 0, 0), size=(dr_size_x, dr_size_y, w_thick)\n",
    "        ),\n",
    "        dl=[dr_grid_size, dr_grid_size, dr_grid_size],\n",
    "        enforce=True,\n",
    "    )\n",
    "\n",
    "    return JaxSimulation(\n",
    "        size=[size_x, size_y, size_z],\n",
    "        center=[0, 0, -center_z],\n",
    "        grid_spec=td.GridSpec.auto(\n",
    "            wavelength=wl_max,\n",
    "            min_steps_per_wvl=15,\n",
    "            override_structures=[adjoint_dr_mesh],\n",
    "        ),\n",
    "        symmetry=(0, -1, 0),\n",
    "        structures=[waveguide, sio2_substrate, si_substrate],\n",
    "        input_structures=design_structure,\n",
    "        sources=[gauss_source],\n",
    "        monitors=[],\n",
    "        output_monitors=[fom_monitor],\n",
    "        run_time=run_time,\n",
    "        subpixel=True,\n",
    "    )\n"
   ]
  },
  {
   "cell_type": "markdown",
   "metadata": {},
   "source": [
    "Let's visualize the simulation set up and verify if all the elements are in their correct places."
   ]
  },
  {
   "cell_type": "code",
   "execution_count": 11,
   "metadata": {},
   "outputs": [
    {
     "data": {
      "image/png": "[encoded data removed]",
      "text/plain": [
       "<Figure size 1000x1000 with 4 Axes>"
      ]
     },
     "metadata": {},
     "output_type": "display_data"
    }
   ],
   "source": [
    "init_design = make_adjoint_sim(init_par, beta=init_beta)\n",
    "\n",
    "fig, (ax1, ax2) = plt.subplots(1, 2, tight_layout=True, figsize=(10, 10))\n",
    "init_design.plot_eps(z=0, ax=ax1)\n",
    "init_design.plot_eps(y=0, ax=ax2)\n",
    "plt.show()\n"
   ]
  },
  {
   "cell_type": "markdown",
   "metadata": {},
   "source": [
    "## Optimization\n",
    "\n",
    "We need to provide an objective function and its gradients with respect to the design parameters of the optimization algorithm.\n",
    "\n",
    "Our figure-of-merit (FOM) is the coupling efficiency of the incident power into the fundamental transverse electric mode of the $Si$ waveguide. The optimization algorithm will call the objective function at each iteration step. Therefore, the objective function will create the adjoint simulation, run it, and return the FOM value."
   ]
  },
  {
   "cell_type": "code",
   "execution_count": 12,
   "metadata": {},
   "outputs": [],
   "source": [
    "# Figure of Merit (FOM) calculation.\n",
    "def fom(sim_data: JaxSimulationData) -> float:\n",
    "    \"\"\"Return the power at the mode index of interest.\"\"\"\n",
    "    output_amps = sim_data.output_data[0].amps\n",
    "    amp = output_amps.sel(direction=\"-\", f=freq, mode_index=0)\n",
    "    return jnp.sum(jnp.abs(amp) ** 2)\n",
    "\n",
    "\n",
    "# Objective function to be passed to the optimization algorithm.\n",
    "def obj(\n",
    "    design_param, beta: float = 1.0, step_num: int = None, verbose: bool = False\n",
    ") -> float:\n",
    "    sim = make_adjoint_sim(design_param, beta)\n",
    "    task_name = \"inv_des\"\n",
    "    if step_num:\n",
    "        task_name += f\"_step_{step_num}\"\n",
    "    sim_data = run(sim, task_name=task_name, verbose=verbose)\n",
    "    fom_val = fom(sim_data)\n",
    "    return fom_val\n",
    "\n",
    "# Function to calculate the objective function value and its\n",
    "# gradient with respect to the design parameters.\n",
    "obj_grad = value_and_grad(obj)\n"
   ]
  },
  {
   "cell_type": "code",
   "execution_count": 13,
   "metadata": {
    "tags": []
   },
   "outputs": [],
   "source": [
    "import optax\n",
    "\n",
    "# hyperparameters\n",
    "learning_rate = 0.02\n",
    "\n",
    "# initialize adam optimizer with starting parameters\n",
    "params = np.array(init_par)\n",
    "optimizer = optax.adam(learning_rate=learning_rate)\n",
    "opt_state = optimizer.init(params)\n",
    "\n",
    "# store history\n",
    "Js = []\n",
    "perms = [params]\n",
    "\n",
    "for i in range(total_iter):\n",
    "\n",
    "    # compute gradient and current objective funciton value\n",
    "    step = i // it_per_step\n",
    "    beta_i = init_beta + step * del_beta\n",
    "    value, gradient = obj_grad(params, beta=beta_i)\n",
    "\n",
    "    # outputs\n",
    "    print(f\"iteration = {i + 1}\")\n",
    "    print(f\"\\tstep {step}, beta = {beta_i}\")\n",
    "    print(f\"\\tJ = {value:.4e}\")\n",
    "    print(f\"\\tgrad_norm = {np.linalg.norm(gradient):.4e}\")    \n",
    "\n",
    "    # compute and apply updates to the optimizer based on gradient (-1 sign to maximize obj_fn)\n",
    "    updates, opt_state = optimizer.update(-gradient, opt_state, params)\n",
    "    params = optax.apply_updates(params, updates)\n",
    "\n",
    "    # save history\n",
    "    Js.append(value)\n",
    "    perms.append(params)    "
   ]
  },
  {
   "cell_type": "markdown",
   "metadata": {},
   "source": [
    "Next, we will define an Optimizer class based on Adam gradient-descent algorithm to drive the inverse design process."
   ]
  },
  {
   "cell_type": "markdown",
   "metadata": {},
   "source": [
    "### Optimization Results\n",
    "\n",
    "After 150 iterations, a coupling efficiency value of 0.71 (-1.48 dB) was achieved at the central wavelength."
   ]
  },
  {
   "cell_type": "code",
   "execution_count": null,
   "metadata": {},
   "outputs": [],
   "source": [
    "fig, ax = plt.subplots(1, 1, figsize=(6, 4))\n",
    "ax.plot(obj_vals, \"ro\")\n",
    "ax.set_xlabel(\"iterations\")\n",
    "ax.set_ylabel(\"objective function\")\n",
    "ax.set_ylim(0, 1)\n",
    "ax.set_title(f\"Final Objective Function Value: {obj_vals[-1]:.2f}\")\n",
    "plt.show()\n"
   ]
  },
  {
   "cell_type": "markdown",
   "metadata": {},
   "source": [
    "The final grating coupler structure is well binarized, with mostly black (`eps_max`) and white (`eps_min`) regions."
   ]
  },
  {
   "cell_type": "code",
   "execution_count": null,
   "metadata": {},
   "outputs": [],
   "source": [
    "fig, ax = plt.subplots(1, figsize=(4, 4))\n",
    "sim_final = make_adjoint_sim(final_par, beta=final_beta, unfold=True)\n",
    "sim_final = sim_final.to_simulation()[0]\n",
    "sim_final.plot_eps(z=0, source_alpha=0, monitor_alpha=0, ax=ax)\n",
    "plt.show()\n"
   ]
  },
  {
   "cell_type": "markdown",
   "metadata": {},
   "source": [
    "Once the inverse design is complete, we can visualize the field distributions and the wavelength dependent coupling efficiency."
   ]
  },
  {
   "cell_type": "code",
   "execution_count": null,
   "metadata": {},
   "outputs": [],
   "source": [
    "# Field monitors to visualize the final fields.\n",
    "field_xy = td.FieldMonitor(\n",
    "    size=(td.inf, td.inf, 0),\n",
    "    freqs=[freq],\n",
    "    name=\"field_xy\",\n",
    ")\n",
    "\n",
    "field_xz = td.FieldMonitor(\n",
    "    size=(td.inf, 0, td.inf),\n",
    "    freqs=[freq],\n",
    "    name=\"field_xz\",\n",
    ")\n",
    "\n",
    "# Monitor to compute the grating coupler efficiency.\n",
    "gc_efficiency = td.ModeMonitor(\n",
    "    center=[mon_pos_x, 0, 0],\n",
    "    size=[0, mon_w, mon_h],\n",
    "    freqs=freqs,\n",
    "    mode_spec=mode_spec,\n",
    "    name=\"gc_efficiency\",\n",
    ")\n",
    "\n",
    "sim_final = sim_final.copy(update=dict(monitors=(field_xy, field_xz, gc_efficiency)))\n",
    "sim_data_final = web.run(sim_final, task_name=\"inv_des_final\")"
   ]
  },
  {
   "cell_type": "code",
   "execution_count": null,
   "metadata": {},
   "outputs": [],
   "source": [
    "mode_amps = sim_data_final[\"gc_efficiency\"]\n",
    "coeffs_f = mode_amps.amps.sel(direction=\"-\")\n",
    "power_0 = np.abs(coeffs_f.sel(mode_index=0)) ** 2\n",
    "power_0_db = 10 * np.log10(power_0)\n",
    "\n",
    "sim_plot = sim_final.updated_copy(symmetry=(0, 0, 0), monitors=(field_xy, field_xz, gc_efficiency))\n",
    "sim_data_plot = sim_data_final.updated_copy(simulation=sim_plot)\n",
    "\n",
    "f, ax = plt.subplots(2, 2, figsize=(8, 6), tight_layout=True)\n",
    "sim_plot.plot_eps(z=0, source_alpha=0, monitor_alpha=0, ax=ax[0, 1])\n",
    "ax[1, 0].plot(wl_range, power_0_db, \"-k\")\n",
    "ax[1, 0].set_xlabel(\"Wavelength (um)\")\n",
    "ax[1, 0].set_ylabel(\"Power (dB)\")\n",
    "ax[1, 0].set_ylim(-15, 0)\n",
    "ax[1, 0].set_xlim(wl - bw / 2, wl + bw / 2)\n",
    "ax[1, 0].set_title(\"Coupling Efficiency\")\n",
    "sim_data_plot.plot_field(\"field_xy\", \"E\", \"abs^2\", z=0, ax=ax[1, 1])\n",
    "ax[0, 0].plot(obj_vals, \"ro\")\n",
    "ax[0, 0].set_xlabel(\"iterations\")\n",
    "ax[0, 0].set_ylabel(\"objective function\")\n",
    "ax[0, 0].set_ylim(0, 1)\n",
    "ax[0, 0].set_title(f\"Final Objective Function Value: {obj_vals[-1]:.2f}\")\n",
    "plt.show()"
   ]
  },
  {
   "cell_type": "code",
   "execution_count": null,
   "metadata": {},
   "outputs": [],
   "source": []
  },
  {
   "cell_type": "code",
   "execution_count": null,
   "metadata": {},
   "outputs": [],
   "source": []
  }
 ],
 "metadata": {
  "description": "The ability to couple light in and out of photonic integrated circuits (PICs) is crucial for developing wafer-scale systems and tests. This need makes designing efficient and compact grating couplers an important task in the PIC development cycle. In this notebook, we will demonstrate how to use Tidy3D's adjoint plugin to perform the inverse design of a compact 3D grating coupler. We will show how to improve design fabricability by enhancing permittivity binarization and controlling the device's minimum feature size.",
  "feature_image": "",
  "kernelspec": {
   "display_name": "Python 3 (ipykernel)",
   "language": "python",
   "name": "python3"
  },
  "keywords": "inverse design, grating coupler, photonic integrated circuits, design optimization, adjoint, Tidy3D, FDTD",
  "language_info": {
   "codemirror_mode": {
    "name": "ipython",
    "version": 3
   },
   "file_extension": ".py",
   "mimetype": "text/x-python",
   "name": "python",
   "nbconvert_exporter": "python",
   "pygments_lexer": "ipython3",
   "version": "3.10.9"
  },
  "title": "Inverse design adjoint optimization of a grating coupler in Tidy3D"
 },
 "nbformat": 4,
 "nbformat_minor": 4
}
