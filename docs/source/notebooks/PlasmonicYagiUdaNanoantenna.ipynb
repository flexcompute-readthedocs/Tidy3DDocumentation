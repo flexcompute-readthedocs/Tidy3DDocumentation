{
 "cells": [
  {
   "cell_type": "markdown",
   "id": "e06d909a",
   "metadata": {},
   "source": [
    "# Plasmonic Yagi-Uda nanoantenna"
   ]
  },
  {
   "cell_type": "markdown",
   "id": "7d61adb8",
   "metadata": {},
   "source": [
    "Note: the cost of running the entire notebook is larger than 1 FlexUnit.\n",
    "\n",
    "Antennas are the fundamental building blocks for high-speed communication networks. The concept of an antenna is well-established, particularly in RF and microwave engineering, dating back over one century ago. An antenna transforms propagating electromagnetic waves to localized electromagnetic field and vice versa, depending on whether it is in the transmitting mode or receiving mode. Thus, it enables wireless communication and information transmission over long distances. \n",
    "\n",
    "Recent rapid developments in nanotechnology have sparked vast interest in constructing the optical counterpart of antennas by utilizing the plasmonic nature of metal at optical frequencies. The size of these antennas is usually in the order of 100 nm. Therefore, they are often termed plasmonic nanoantennas. As the demand for higher bandwidth information transmission keeps growing, plasmonic nanoantennas potentially be the technological cornerstone for future communication systems.\n",
    "\n",
    "In this example notebook, we demonstrate the modeling of a plasmonic Yagi-Uda nanoantenna made of aluminum nanorods excited by a point dipole source. The far-field radiation pattern is calculated. We show that the simulated plasmonic Yagi-Uda nanoantenna can achieve a high directivity, which is desirable in many applications. The model is based on [Tim H. Taminiau, Fernando D. Stefani, and Niek F. van Hulst, \"Enhanced directional excitation and emission of single emitters by a nano-optical Yagi-Uda antenna,\" Opt. Express 16, 10858-10866 (2008)](https://opg.optica.org/oe/fulltext.cfm?uri=oe-16-14-10858&id=167282).\n",
    "\n",
    "<img src=\"img/yagi_uda_antenna_schematic_1.png\">"
   ]
  },
  {
   "cell_type": "markdown",
   "id": "8c4e33ec",
   "metadata": {},
   "source": [
    "## Simulation Setup "
   ]
  },
  {
   "cell_type": "markdown",
   "id": "39e69ef7",
   "metadata": {},
   "source": [
    "In this model, we are going to fit the refractive index of aluminum using data from the literature. Thus, we import the [DispersionFitter](../_autosummary/tidy3d.plugins.DispersionFitter.html) from the Tidy3D plugins."
   ]
  },
  {
   "cell_type": "code",
   "execution_count": 1,
   "id": "1cd3ac66",
   "metadata": {
    "execution": {
     "iopub.execute_input": "2023-02-03T05:28:15.176014Z",
     "iopub.status.busy": "2023-02-03T05:28:15.175643Z",
     "iopub.status.idle": "2023-02-03T05:28:16.234581Z",
     "shell.execute_reply": "2023-02-03T05:28:16.234190Z"
    }
   },
   "outputs": [
    {
     "data": {
      "text/html": [
       "<pre style=\"white-space:pre;overflow-x:auto;line-height:normal;font-family:Menlo,'DejaVu Sans Mono',consolas,'Courier New',monospace\"><span style=\"color: #7fbfbf; text-decoration-color: #7fbfbf\">[18:05:24] </span><span style=\"color: #000080; text-decoration-color: #000080\">INFO    </span> Using client version: <span style=\"color: #008080; text-decoration-color: #008080; font-weight: bold\">1.8</span>.<span style=\"color: #008080; text-decoration-color: #008080; font-weight: bold\">4</span>                                                     <a href=\"file://C:\\Users\\xinzhong\\anaconda3\\envs\\tidy3d_env\\lib\\site-packages\\tidy3d\\__init__.py\" target=\"_blank\"><span style=\"color: #7f7f7f; text-decoration-color: #7f7f7f\">__init__.py</span></a><span style=\"color: #7f7f7f; text-decoration-color: #7f7f7f\">:</span><a href=\"file://C:\\Users\\xinzhong\\anaconda3\\envs\\tidy3d_env\\lib\\site-packages\\tidy3d\\__init__.py#120\" target=\"_blank\"><span style=\"color: #7f7f7f; text-decoration-color: #7f7f7f\">120</span></a>\n",
       "</pre>\n"
      ],
      "text/plain": [
       "\u001b[2;36m[18:05:24]\u001b[0m\u001b[2;36m \u001b[0m\u001b[34mINFO    \u001b[0m Using client version: \u001b[1;36m1.8\u001b[0m.\u001b[1;36m4\u001b[0m                                                     \u001b]8;id=852249;file://C:\\Users\\xinzhong\\anaconda3\\envs\\tidy3d_env\\lib\\site-packages\\tidy3d\\__init__.py\u001b\\\u001b[2m__init__.py\u001b[0m\u001b]8;;\u001b\\\u001b[2m:\u001b[0m\u001b]8;id=821603;file://C:\\Users\\xinzhong\\anaconda3\\envs\\tidy3d_env\\lib\\site-packages\\tidy3d\\__init__.py#120\u001b\\\u001b[2m120\u001b[0m\u001b]8;;\u001b\\\n"
      ]
     },
     "metadata": {},
     "output_type": "display_data"
    }
   ],
   "source": [
    "import numpy as np\n",
    "import matplotlib.pyplot as plt\n",
    "import tidy3d as td\n",
    "import tidy3d.web as web\n",
    "from tidy3d.plugins import DispersionFitter\n"
   ]
  },
  {
   "cell_type": "markdown",
   "id": "d1868111",
   "metadata": {},
   "source": [
    "As schematically shown above, a typical Yagi-Uda antenna consists of three components: a feed element that is excited by a source, a reflector element that suppresses the radiation in the backward direction, and an array of director elements that enhances the radiation in the forward direction. Usually, having a large number of director elements is beneficial for achieving a high directivity. In practice, we need to consider the footprint, fabrication constraints, costs, and so on. In this particular example, our Yagi-Uda antenna has three director elements. All elements are made of aluminum nanorods with rounded ends.  \n",
    "\n",
    "The lengths and spacings of the elements are designed to achieve optimal performance at 570 nm wavelength. An initial design can be obtained by following the classical design principle of RF/microwave Yagi-Uda antennas. Since metals behave very differently in lower frequencies compared to optical frequencies, the parameters need to be optimized to account for the finite skin depth and ohmic loss. In this notebook, we skip the optimization process and only present the optimized design from the referenced paper. "
   ]
  },
  {
   "cell_type": "code",
   "execution_count": 2,
   "id": "f76b62d9",
   "metadata": {
    "execution": {
     "iopub.execute_input": "2023-02-03T05:28:16.236444Z",
     "iopub.status.busy": "2023-02-03T05:28:16.236251Z",
     "iopub.status.idle": "2023-02-03T05:28:16.238155Z",
     "shell.execute_reply": "2023-02-03T05:28:16.237866Z"
    }
   },
   "outputs": [],
   "source": [
    "lda0 = 0.57  # operation wavelength\n",
    "freq0 = td.C_0 / lda0  # operation frequency\n"
   ]
  },
  {
   "cell_type": "markdown",
   "id": "7bfd9947",
   "metadata": {},
   "source": [
    "The nanorods are made of aluminum. Before constructing the model, we first need to use the [DispersionFitter](../_autosummary/tidy3d.plugins.DispersionFitter.html) to fit the refractive index data of aluminum, which can be found in the [refractive index database](https://refractiveindex.info/). In particular, we use the data from [McPeak et al. 2015](https://pubs.acs.org/doi/10.1021/ph5004237). Since we are only interested in the antenna response at 570 nm, we only need to fit the refractive index in the vicinity of the operation wavelength.\n",
    "\n",
    "The fitting results in a RMS error about of 0.01, which is reasonably good."
   ]
  },
  {
   "cell_type": "code",
   "execution_count": 3,
   "id": "0c4d1567",
   "metadata": {
    "execution": {
     "iopub.execute_input": "2023-02-03T05:28:16.239765Z",
     "iopub.status.busy": "2023-02-03T05:28:16.239667Z",
     "iopub.status.idle": "2023-02-03T05:28:27.598173Z",
     "shell.execute_reply": "2023-02-03T05:28:27.597847Z"
    }
   },
   "outputs": [
    {
     "data": {
      "text/html": [
       "<pre style=\"white-space:pre;overflow-x:auto;line-height:normal;font-family:Menlo,'DejaVu Sans Mono',consolas,'Courier New',monospace\"></pre>\n"
      ],
      "text/plain": [
       "\u001b[?25l"
      ]
     },
     "metadata": {},
     "output_type": "display_data"
    },
    {
     "data": {
      "application/vnd.jupyter.widget-view+json": {
       "model_id": "ba202ad99a9d45a48b409245804f7d8b",
       "version_major": 2,
       "version_minor": 0
      },
      "text/plain": [
       "Output()"
      ]
     },
     "metadata": {},
     "output_type": "display_data"
    },
    {
     "data": {
      "text/html": [
       "<pre style=\"white-space:pre;overflow-x:auto;line-height:normal;font-family:Menlo,'DejaVu Sans Mono',consolas,'Courier New',monospace\"><span style=\"color: #7fbfbf; text-decoration-color: #7fbfbf\">[18:05:29] </span><span style=\"color: #000080; text-decoration-color: #000080\">INFO    </span>         found optimal fit with RMS error = <span style=\"color: #008080; text-decoration-color: #008080; font-weight: bold\">1.35e-02</span>, returning                       <a href=\"file://C:\\Users\\xinzhong\\anaconda3\\envs\\tidy3d_env\\lib\\site-packages\\tidy3d\\plugins\\dispersion\\fit.py\" target=\"_blank\"><span style=\"color: #7f7f7f; text-decoration-color: #7f7f7f\">fit.py</span></a><span style=\"color: #7f7f7f; text-decoration-color: #7f7f7f\">:</span><a href=\"file://C:\\Users\\xinzhong\\anaconda3\\envs\\tidy3d_env\\lib\\site-packages\\tidy3d\\plugins\\dispersion\\fit.py#360\" target=\"_blank\"><span style=\"color: #7f7f7f; text-decoration-color: #7f7f7f\">360</span></a>\n",
       "best RMS error so far: 3.63e-02 <span style=\"color: #f92672; text-decoration-color: #f92672\">━━━</span><span style=\"color: #3a3a3a; text-decoration-color: #3a3a3a\">╺━━━━━━━━━━━━━━━━━━━━━━━━━━━━━━━━━━━━</span> <span style=\"color: #800080; text-decoration-color: #800080\">  8%</span> <span style=\"color: #008080; text-decoration-color: #008080\">0:00:38</span></pre>\n"
      ],
      "text/plain": [
       "\r",
       "\u001b[2K\u001b[2;36m[18:05:29]\u001b[0m\u001b[2;36m \u001b[0m\u001b[34mINFO    \u001b[0m         found optimal fit with RMS error = \u001b[1;36m1.35e-02\u001b[0m, returning                       \u001b]8;id=473562;file://C:\\Users\\xinzhong\\anaconda3\\envs\\tidy3d_env\\lib\\site-packages\\tidy3d\\plugins\\dispersion\\fit.py\u001b\\\u001b[2mfit.py\u001b[0m\u001b]8;;\u001b\\\u001b[2m:\u001b[0m\u001b]8;id=506570;file://C:\\Users\\xinzhong\\anaconda3\\envs\\tidy3d_env\\lib\\site-packages\\tidy3d\\plugins\\dispersion\\fit.py#360\u001b\\\u001b[2m360\u001b[0m\u001b]8;;\u001b\\\n",
       "best RMS error so far: 3.63e-02 \u001b[38;2;249;38;114m━━━\u001b[0m\u001b[38;5;237m╺\u001b[0m\u001b[38;5;237m━━━━━━━━━━━━━━━━━━━━━━━━━━━━━━━━━━━━\u001b[0m \u001b[35m  8%\u001b[0m \u001b[36m0:00:38\u001b[0m"
      ]
     },
     "metadata": {},
     "output_type": "display_data"
    },
    {
     "data": {
      "text/html": [
       "<pre style=\"white-space:pre;overflow-x:auto;line-height:normal;font-family:Menlo,'DejaVu Sans Mono',consolas,'Courier New',monospace\">\n",
       "</pre>\n"
      ],
      "text/plain": [
       "\n",
       "\u001b[?25h"
      ]
     },
     "metadata": {},
     "output_type": "display_data"
    }
   ],
   "source": [
    "fname = \"data/McPeak.csv\"  # read the refractive index data from a csv file\n",
    "fitter = DispersionFitter.from_file(fname, delimiter=\",\")  # construct a fitter\n",
    "al, rms_error = fitter.fit(num_poles=6, tolerance_rms=2e-2, num_tries=50)\n"
   ]
  },
  {
   "cell_type": "markdown",
   "id": "c1f03abd",
   "metadata": {},
   "source": [
    "Next, we construct the Yagi-Uda antenna by individually constructing the feed, reflector, and three directors. Each element consists of a cylinder and two spheres that represent the rounded caps on each end. For convenience, we define a function to build the antenna structures since it will be used repeatedly in the next section of this notebook."
   ]
  },
  {
   "cell_type": "code",
   "execution_count": 4,
   "id": "db39d6c3",
   "metadata": {
    "execution": {
     "iopub.execute_input": "2023-02-03T05:28:27.686652Z",
     "iopub.status.busy": "2023-02-03T05:28:27.686573Z",
     "iopub.status.idle": "2023-02-03T05:28:27.693380Z",
     "shell.execute_reply": "2023-02-03T05:28:27.693128Z"
    }
   },
   "outputs": [],
   "source": [
    "# L_f is the length of the feed element\n",
    "# r is the radius of the nanorods.\n",
    "# medium is the material of the nanorods\n",
    "def construct_antenna(L_f, r, lda0, medium):\n",
    "    L_r = L_f * 1.25  # length of the reflector\n",
    "    L_d = L_f * 0.9  # length of the directors\n",
    "    a_r = lda0 / 4.4  # spacing between the feed and the reflector\n",
    "    a_d = (\n",
    "        lda0 / 4\n",
    "    )  # spacing between the feed and the first director (also the spacing between directors)\n",
    "\n",
    "    feed = [\n",
    "        td.Structure(\n",
    "            geometry=td.Cylinder(\n",
    "                center=(0, 0, 0), radius=r, length=L_f - 2 * r, axis=1\n",
    "            ),\n",
    "            medium=medium,\n",
    "        ),\n",
    "        td.Structure(\n",
    "            geometry=td.Sphere(center=(0, (L_f - 2 * r) / 2, 0), radius=r),\n",
    "            medium=medium,\n",
    "        ),\n",
    "        td.Structure(\n",
    "            geometry=td.Sphere(center=(0, -(L_f - 2 * r) / 2, 0), radius=r),\n",
    "            medium=medium,\n",
    "        ),\n",
    "    ]\n",
    "\n",
    "    reflector = [\n",
    "        td.Structure(\n",
    "            geometry=td.Cylinder(\n",
    "                center=(-a_r, 0, 0), radius=r, length=L_r - 2 * r, axis=1\n",
    "            ),\n",
    "            medium=medium,\n",
    "        ),\n",
    "        td.Structure(\n",
    "            geometry=td.Sphere(center=(-a_r, (L_r - 2 * r) / 2, 0), radius=r),\n",
    "            medium=medium,\n",
    "        ),\n",
    "        td.Structure(\n",
    "            geometry=td.Sphere(center=(-a_r, -(L_r - 2 * r) / 2, 0), radius=r),\n",
    "            medium=medium,\n",
    "        ),\n",
    "    ]\n",
    "\n",
    "    director_1 = [\n",
    "        td.Structure(\n",
    "            geometry=td.Cylinder(\n",
    "                center=(a_d, 0, 0), radius=r, length=L_d - 2 * r, axis=1\n",
    "            ),\n",
    "            medium=medium,\n",
    "        ),\n",
    "        td.Structure(\n",
    "            geometry=td.Sphere(center=(a_d, (L_d - 2 * r) / 2, 0), radius=r),\n",
    "            medium=medium,\n",
    "        ),\n",
    "        td.Structure(\n",
    "            geometry=td.Sphere(center=(a_d, -(L_d - 2 * r) / 2, 0), radius=r),\n",
    "            medium=medium,\n",
    "        ),\n",
    "    ]\n",
    "\n",
    "    director_2 = [\n",
    "        td.Structure(\n",
    "            geometry=td.Cylinder(\n",
    "                center=(2 * a_d, 0, 0), radius=r, length=L_d - 2 * r, axis=1\n",
    "            ),\n",
    "            medium=medium,\n",
    "        ),\n",
    "        td.Structure(\n",
    "            geometry=td.Sphere(center=(2 * a_d, (L_d - 2 * r) / 2, 0), radius=r),\n",
    "            medium=medium,\n",
    "        ),\n",
    "        td.Structure(\n",
    "            geometry=td.Sphere(center=(2 * a_d, -(L_d - 2 * r) / 2, 0), radius=r),\n",
    "            medium=medium,\n",
    "        ),\n",
    "    ]\n",
    "\n",
    "    director_3 = [\n",
    "        td.Structure(\n",
    "            geometry=td.Cylinder(\n",
    "                center=(3 * a_d, 0, 0), radius=r, length=L_d - 2 * r, axis=1\n",
    "            ),\n",
    "            medium=medium,\n",
    "        ),\n",
    "        td.Structure(\n",
    "            geometry=td.Sphere(center=(3 * a_d, (L_d - 2 * r) / 2, 0), radius=r),\n",
    "            medium=medium,\n",
    "        ),\n",
    "        td.Structure(\n",
    "            geometry=td.Sphere(center=(3 * a_d, -(L_d - 2 * r) / 2, 0), radius=r),\n",
    "            medium=medium,\n",
    "        ),\n",
    "    ]\n",
    "\n",
    "    antenna = feed + reflector + director_1 + director_2 + director_3\n",
    "    return antenna\n",
    "\n",
    "\n",
    "L_f = 0.16  # length of the feed\n",
    "r = 0.02  # radius of the nanorods\n",
    "medium = al  # material of the antenna\n",
    "\n",
    "antenna = construct_antenna(L_f, r, lda0, medium)\n"
   ]
  },
  {
   "cell_type": "markdown",
   "id": "94620334",
   "metadata": {},
   "source": [
    "The Yagi-Uda antenna is usually fed by a small quantum emitter such as a laser-excited quantum dot. In the simulation, the source can be well approximated as a [PointDipole](../_autosummary/tidy3d.PointDipole.html), which is what we are going to use.\n",
    "\n",
    "To calculate the far-field radiation pattern and directivity, we will use the [FieldProjectionAngleMonitor](../_autosummary/tidy3d.FieldProjectionAngleMonitor.html) as well as a [FluxMonitor](../_autosummary/tidy3d.FluxMonitor.html). The [FieldProjectionAngleMonitor](../_autosummary/tidy3d.FieldProjectionAngleMonitor.html) yields the angular radiation power and the [FluxMonitor](../_autosummary/tidy3d.FluxMonitor.html) helps to calculate the total radiated power. Both are required in the calculation of directivity."
   ]
  },
  {
   "cell_type": "code",
   "execution_count": 5,
   "id": "79a4c9d5",
   "metadata": {
    "execution": {
     "iopub.execute_input": "2023-02-03T05:28:27.695813Z",
     "iopub.status.busy": "2023-02-03T05:28:27.695693Z",
     "iopub.status.idle": "2023-02-03T05:28:27.866333Z",
     "shell.execute_reply": "2023-02-03T05:28:27.866087Z"
    }
   },
   "outputs": [
    {
     "data": {
      "image/png": "[encoded data removed]",
      "text/plain": [
       "<Figure size 640x480 with 1 Axes>"
      ]
     },
     "metadata": {},
     "output_type": "display_data"
    }
   ],
   "source": [
    "# define simulation domain size\n",
    "Lx = 3 * lda0\n",
    "Ly = 2 * lda0\n",
    "Lz = 2 * lda0\n",
    "sim_size = (Lx, Ly, Lz)\n",
    "\n",
    "# create an electrical point dipole source polarized in the y direction to excite the feed element\n",
    "d_dp = 0.004  # distance between the dipole and the feed element\n",
    "pulse = td.GaussianPulse(freq0=freq0, fwidth=freq0 / 20)\n",
    "pt_dipole = td.PointDipole(\n",
    "    center=(0, L_f / 2 + d_dp, 0), source_time=pulse, polarization=\"Ey\"\n",
    ")\n",
    "\n",
    "# create a FieldProjectionAngleMonitor to perform the near field to far field transformation in spherical coordinates\n",
    "theta_array = np.linspace(0, 2 * np.pi, 200)\n",
    "phi_array = np.linspace(0, np.pi, 100)\n",
    "n2f_monitor = td.FieldProjectionAngleMonitor(\n",
    "    center=(0, 0, 0),\n",
    "    size=(2 * lda0, 1 * lda0, 1 * lda0),\n",
    "    freqs=[freq0],\n",
    "    name=\"n2f_monitor\",\n",
    "    custom_origin=(0, 0, 0),\n",
    "    phi=phi_array,\n",
    "    theta=theta_array,\n",
    ")\n",
    "\n",
    "# create a flux monitor to calculate the total radiated power\n",
    "flux_monitor = td.FluxMonitor(\n",
    "    center=(0, 0, 0),\n",
    "    size=(Lx * 0.9, Ly * 0.9, Lz * 0.9),\n",
    "    freqs=[freq0],\n",
    "    name=\"power\",\n",
    ")\n",
    "\n",
    "# create the simulation with the above defined elements\n",
    "sim = td.Simulation(\n",
    "    center=(0, 0, 0),\n",
    "    size=sim_size,\n",
    "    grid_spec=td.GridSpec.auto(min_steps_per_wvl=40, wavelength=lda0),\n",
    "    structures=antenna,\n",
    "    sources=[pt_dipole],\n",
    "    monitors=[n2f_monitor, flux_monitor],\n",
    "    run_time=1e-13,\n",
    "    boundary_spec=td.BoundarySpec.all_sides(boundary=td.PML()),\n",
    ")\n",
    "\n",
    "# visualize the simulation setup\n",
    "sim.plot(z=0);\n"
   ]
  },
  {
   "cell_type": "markdown",
   "id": "820025da",
   "metadata": {},
   "source": [
    "For comparison, define an empty simulation with only the [PointDipole](../_autosummary/tidy3d.PointDipole.html). We will use this to show that the Yagi-Uda antenna exhibits a much higher directivity compared to a dipole radiation source."
   ]
  },
  {
   "cell_type": "code",
   "execution_count": 6,
   "id": "4d0836a6",
   "metadata": {
    "execution": {
     "iopub.execute_input": "2023-02-03T05:28:27.867894Z",
     "iopub.status.busy": "2023-02-03T05:28:27.867780Z",
     "iopub.status.idle": "2023-02-03T05:28:27.872626Z",
     "shell.execute_reply": "2023-02-03T05:28:27.872373Z"
    }
   },
   "outputs": [],
   "source": [
    "sim_empty = td.Simulation(\n",
    "    center=(0, 0, 0),\n",
    "    size=sim_size,\n",
    "    grid_spec=td.GridSpec.auto(min_steps_per_wvl=40, wavelength=lda0),\n",
    "    structures=[],  # this simulation is identical to the previous one besides the structures is set to an empty list\n",
    "    sources=[pt_dipole],\n",
    "    monitors=[n2f_monitor, flux_monitor],\n",
    "    run_time=1e-13,\n",
    "    boundary_spec=td.BoundarySpec.all_sides(boundary=td.PML()),\n",
    ")\n"
   ]
  },
  {
   "cell_type": "markdown",
   "id": "38a3a87d",
   "metadata": {},
   "source": [
    "Submit both the antenna simulation and empty simulation to the server."
   ]
  },
  {
   "cell_type": "code",
   "execution_count": 7,
   "id": "f25b9b66",
   "metadata": {
    "execution": {
     "iopub.execute_input": "2023-02-03T05:28:27.874016Z",
     "iopub.status.busy": "2023-02-03T05:28:27.873929Z",
     "iopub.status.idle": "2023-02-03T05:30:00.893232Z",
     "shell.execute_reply": "2023-02-03T05:30:00.892801Z"
    }
   },
   "outputs": [
    {
     "data": {
      "text/html": [
       "<pre style=\"white-space:pre;overflow-x:auto;line-height:normal;font-family:Menlo,'DejaVu Sans Mono',consolas,'Courier New',monospace\"><span style=\"color: #7fbfbf; text-decoration-color: #7fbfbf\">           </span><span style=\"color: #000080; text-decoration-color: #000080\">INFO    </span> Using Tidy3D credentials from stored file.                                           <a href=\"file://C:\\Users\\xinzhong\\anaconda3\\envs\\tidy3d_env\\lib\\site-packages\\tidy3d\\web\\auth.py\" target=\"_blank\"><span style=\"color: #7f7f7f; text-decoration-color: #7f7f7f\">auth.py</span></a><span style=\"color: #7f7f7f; text-decoration-color: #7f7f7f\">:</span><a href=\"file://C:\\Users\\xinzhong\\anaconda3\\envs\\tidy3d_env\\lib\\site-packages\\tidy3d\\web\\auth.py#70\" target=\"_blank\"><span style=\"color: #7f7f7f; text-decoration-color: #7f7f7f\">70</span></a>\n",
       "</pre>\n"
      ],
      "text/plain": [
       "\u001b[2;36m          \u001b[0m\u001b[2;36m \u001b[0m\u001b[34mINFO    \u001b[0m Using Tidy3D credentials from stored file.                                           \u001b]8;id=352176;file://C:\\Users\\xinzhong\\anaconda3\\envs\\tidy3d_env\\lib\\site-packages\\tidy3d\\web\\auth.py\u001b\\\u001b[2mauth.py\u001b[0m\u001b]8;;\u001b\\\u001b[2m:\u001b[0m\u001b]8;id=125466;file://C:\\Users\\xinzhong\\anaconda3\\envs\\tidy3d_env\\lib\\site-packages\\tidy3d\\web\\auth.py#70\u001b\\\u001b[2m70\u001b[0m\u001b]8;;\u001b\\\n"
      ]
     },
     "metadata": {},
     "output_type": "display_data"
    },
    {
     "data": {
      "text/html": [
       "<pre style=\"white-space:pre;overflow-x:auto;line-height:normal;font-family:Menlo,'DejaVu Sans Mono',consolas,'Courier New',monospace\"><span style=\"color: #7fbfbf; text-decoration-color: #7fbfbf\">[18:05:31] </span><span style=\"color: #000080; text-decoration-color: #000080\">INFO    </span> Authentication successful.                                                           <a href=\"file://C:\\Users\\xinzhong\\anaconda3\\envs\\tidy3d_env\\lib\\site-packages\\tidy3d\\web\\auth.py\" target=\"_blank\"><span style=\"color: #7f7f7f; text-decoration-color: #7f7f7f\">auth.py</span></a><span style=\"color: #7f7f7f; text-decoration-color: #7f7f7f\">:</span><a href=\"file://C:\\Users\\xinzhong\\anaconda3\\envs\\tidy3d_env\\lib\\site-packages\\tidy3d\\web\\auth.py#30\" target=\"_blank\"><span style=\"color: #7f7f7f; text-decoration-color: #7f7f7f\">30</span></a>\n",
       "</pre>\n"
      ],
      "text/plain": [
       "\u001b[2;36m[18:05:31]\u001b[0m\u001b[2;36m \u001b[0m\u001b[34mINFO    \u001b[0m Authentication successful.                                                           \u001b]8;id=9583;file://C:\\Users\\xinzhong\\anaconda3\\envs\\tidy3d_env\\lib\\site-packages\\tidy3d\\web\\auth.py\u001b\\\u001b[2mauth.py\u001b[0m\u001b]8;;\u001b\\\u001b[2m:\u001b[0m\u001b]8;id=217361;file://C:\\Users\\xinzhong\\anaconda3\\envs\\tidy3d_env\\lib\\site-packages\\tidy3d\\web\\auth.py#30\u001b\\\u001b[2m30\u001b[0m\u001b]8;;\u001b\\\n"
      ]
     },
     "metadata": {},
     "output_type": "display_data"
    },
    {
     "data": {
      "text/html": [
       "<pre style=\"white-space:pre;overflow-x:auto;line-height:normal;font-family:Menlo,'DejaVu Sans Mono',consolas,'Courier New',monospace\"><span style=\"color: #7fbfbf; text-decoration-color: #7fbfbf\">[18:05:32] </span><span style=\"color: #000080; text-decoration-color: #000080\">INFO    </span> Created task <span style=\"color: #008000; text-decoration-color: #008000\">'plasmonic_yagi_uda'</span> with task_id                                    <a href=\"file://C:\\Users\\xinzhong\\anaconda3\\envs\\tidy3d_env\\lib\\site-packages\\tidy3d\\web\\webapi.py\" target=\"_blank\"><span style=\"color: #7f7f7f; text-decoration-color: #7f7f7f\">webapi.py</span></a><span style=\"color: #7f7f7f; text-decoration-color: #7f7f7f\">:</span><a href=\"file://C:\\Users\\xinzhong\\anaconda3\\envs\\tidy3d_env\\lib\\site-packages\\tidy3d\\web\\webapi.py#120\" target=\"_blank\"><span style=\"color: #7f7f7f; text-decoration-color: #7f7f7f\">120</span></a>\n",
       "<span style=\"color: #7fbfbf; text-decoration-color: #7fbfbf\">           </span>         <span style=\"color: #008000; text-decoration-color: #008000\">'6ab2434b-4e71-41ec-a0e5-329c84a6cef1'</span>.                                           <span style=\"color: #7f7f7f; text-decoration-color: #7f7f7f\">             </span>\n",
       "</pre>\n"
      ],
      "text/plain": [
       "\u001b[2;36m[18:05:32]\u001b[0m\u001b[2;36m \u001b[0m\u001b[34mINFO    \u001b[0m Created task \u001b[32m'plasmonic_yagi_uda'\u001b[0m with task_id                                    \u001b]8;id=606644;file://C:\\Users\\xinzhong\\anaconda3\\envs\\tidy3d_env\\lib\\site-packages\\tidy3d\\web\\webapi.py\u001b\\\u001b[2mwebapi.py\u001b[0m\u001b]8;;\u001b\\\u001b[2m:\u001b[0m\u001b]8;id=406270;file://C:\\Users\\xinzhong\\anaconda3\\envs\\tidy3d_env\\lib\\site-packages\\tidy3d\\web\\webapi.py#120\u001b\\\u001b[2m120\u001b[0m\u001b]8;;\u001b\\\n",
       "\u001b[2;36m           \u001b[0m         \u001b[32m'6ab2434b-4e71-41ec-a0e5-329c84a6cef1'\u001b[0m.                                           \u001b[2m             \u001b[0m\n"
      ]
     },
     "metadata": {},
     "output_type": "display_data"
    },
    {
     "data": {
      "text/html": [
       "<pre style=\"white-space:pre;overflow-x:auto;line-height:normal;font-family:Menlo,'DejaVu Sans Mono',consolas,'Courier New',monospace\"></pre>\n"
      ],
      "text/plain": [
       "\u001b[?25l"
      ]
     },
     "metadata": {},
     "output_type": "display_data"
    },
    {
     "data": {
      "application/vnd.jupyter.widget-view+json": {
       "model_id": "3345c8e159144f408059fa678e8766af",
       "version_major": 2,
       "version_minor": 0
      },
      "text/plain": [
       "Output()"
      ]
     },
     "metadata": {},
     "output_type": "display_data"
    },
    {
     "data": {
      "text/html": [
       "<pre style=\"white-space:pre;overflow-x:auto;line-height:normal;font-family:Menlo,'DejaVu Sans Mono',consolas,'Courier New',monospace\">\n",
       "</pre>\n"
      ],
      "text/plain": [
       "\n",
       "\u001b[?25h"
      ]
     },
     "metadata": {},
     "output_type": "display_data"
    },
    {
     "data": {
      "text/html": [
       "<pre style=\"white-space:pre;overflow-x:auto;line-height:normal;font-family:Menlo,'DejaVu Sans Mono',consolas,'Courier New',monospace\"><span style=\"color: #7fbfbf; text-decoration-color: #7fbfbf\">[18:05:33] </span><span style=\"color: #000080; text-decoration-color: #000080\">INFO    </span> Maximum FlexUnit cost: <span style=\"color: #008080; text-decoration-color: #008080; font-weight: bold\">0.058</span>                                                      <a href=\"file://C:\\Users\\xinzhong\\anaconda3\\envs\\tidy3d_env\\lib\\site-packages\\tidy3d\\web\\webapi.py\" target=\"_blank\"><span style=\"color: #7f7f7f; text-decoration-color: #7f7f7f\">webapi.py</span></a><span style=\"color: #7f7f7f; text-decoration-color: #7f7f7f\">:</span><a href=\"file://C:\\Users\\xinzhong\\anaconda3\\envs\\tidy3d_env\\lib\\site-packages\\tidy3d\\web\\webapi.py#252\" target=\"_blank\"><span style=\"color: #7f7f7f; text-decoration-color: #7f7f7f\">252</span></a>\n",
       "</pre>\n"
      ],
      "text/plain": [
       "\u001b[2;36m[18:05:33]\u001b[0m\u001b[2;36m \u001b[0m\u001b[34mINFO    \u001b[0m Maximum FlexUnit cost: \u001b[1;36m0.058\u001b[0m                                                      \u001b]8;id=577202;file://C:\\Users\\xinzhong\\anaconda3\\envs\\tidy3d_env\\lib\\site-packages\\tidy3d\\web\\webapi.py\u001b\\\u001b[2mwebapi.py\u001b[0m\u001b]8;;\u001b\\\u001b[2m:\u001b[0m\u001b]8;id=663396;file://C:\\Users\\xinzhong\\anaconda3\\envs\\tidy3d_env\\lib\\site-packages\\tidy3d\\web\\webapi.py#252\u001b\\\u001b[2m252\u001b[0m\u001b]8;;\u001b\\\n"
      ]
     },
     "metadata": {},
     "output_type": "display_data"
    },
    {
     "data": {
      "text/html": [
       "<pre style=\"white-space:pre;overflow-x:auto;line-height:normal;font-family:Menlo,'DejaVu Sans Mono',consolas,'Courier New',monospace\"><span style=\"color: #7fbfbf; text-decoration-color: #7fbfbf\">           </span><span style=\"color: #000080; text-decoration-color: #000080\">INFO    </span> status = queued                                                                   <a href=\"file://C:\\Users\\xinzhong\\anaconda3\\envs\\tidy3d_env\\lib\\site-packages\\tidy3d\\web\\webapi.py\" target=\"_blank\"><span style=\"color: #7f7f7f; text-decoration-color: #7f7f7f\">webapi.py</span></a><span style=\"color: #7f7f7f; text-decoration-color: #7f7f7f\">:</span><a href=\"file://C:\\Users\\xinzhong\\anaconda3\\envs\\tidy3d_env\\lib\\site-packages\\tidy3d\\web\\webapi.py#261\" target=\"_blank\"><span style=\"color: #7f7f7f; text-decoration-color: #7f7f7f\">261</span></a>\n",
       "</pre>\n"
      ],
      "text/plain": [
       "\u001b[2;36m          \u001b[0m\u001b[2;36m \u001b[0m\u001b[34mINFO    \u001b[0m status = queued                                                                   \u001b]8;id=805452;file://C:\\Users\\xinzhong\\anaconda3\\envs\\tidy3d_env\\lib\\site-packages\\tidy3d\\web\\webapi.py\u001b\\\u001b[2mwebapi.py\u001b[0m\u001b]8;;\u001b\\\u001b[2m:\u001b[0m\u001b]8;id=245961;file://C:\\Users\\xinzhong\\anaconda3\\envs\\tidy3d_env\\lib\\site-packages\\tidy3d\\web\\webapi.py#261\u001b\\\u001b[2m261\u001b[0m\u001b]8;;\u001b\\\n"
      ]
     },
     "metadata": {},
     "output_type": "display_data"
    },
    {
     "data": {
      "text/html": [
       "<pre style=\"white-space:pre;overflow-x:auto;line-height:normal;font-family:Menlo,'DejaVu Sans Mono',consolas,'Courier New',monospace\"></pre>\n"
      ],
      "text/plain": [
       "\u001b[?25l"
      ]
     },
     "metadata": {},
     "output_type": "display_data"
    },
    {
     "data": {
      "application/vnd.jupyter.widget-view+json": {
       "model_id": "",
       "version_major": 2,
       "version_minor": 0
      },
      "text/plain": [
       "Output()"
      ]
     },
     "metadata": {},
     "output_type": "display_data"
    },
    {
     "data": {
      "text/html": [
       "<pre style=\"white-space:pre;overflow-x:auto;line-height:normal;font-family:Menlo,'DejaVu Sans Mono',consolas,'Courier New',monospace\"><span style=\"color: #7fbfbf; text-decoration-color: #7fbfbf\">[18:05:36] </span><span style=\"color: #000080; text-decoration-color: #000080\">INFO    </span> status = preprocess                                                               <a href=\"file://C:\\Users\\xinzhong\\anaconda3\\envs\\tidy3d_env\\lib\\site-packages\\tidy3d\\web\\webapi.py\" target=\"_blank\"><span style=\"color: #7f7f7f; text-decoration-color: #7f7f7f\">webapi.py</span></a><span style=\"color: #7f7f7f; text-decoration-color: #7f7f7f\">:</span><a href=\"file://C:\\Users\\xinzhong\\anaconda3\\envs\\tidy3d_env\\lib\\site-packages\\tidy3d\\web\\webapi.py#273\" target=\"_blank\"><span style=\"color: #7f7f7f; text-decoration-color: #7f7f7f\">273</span></a>\n",
       "</pre>\n"
      ],
      "text/plain": [
       "\u001b[2;36m[18:05:36]\u001b[0m\u001b[2;36m \u001b[0m\u001b[34mINFO    \u001b[0m status = preprocess                                                               \u001b]8;id=963754;file://C:\\Users\\xinzhong\\anaconda3\\envs\\tidy3d_env\\lib\\site-packages\\tidy3d\\web\\webapi.py\u001b\\\u001b[2mwebapi.py\u001b[0m\u001b]8;;\u001b\\\u001b[2m:\u001b[0m\u001b]8;id=668787;file://C:\\Users\\xinzhong\\anaconda3\\envs\\tidy3d_env\\lib\\site-packages\\tidy3d\\web\\webapi.py#273\u001b\\\u001b[2m273\u001b[0m\u001b]8;;\u001b\\\n"
      ]
     },
     "metadata": {},
     "output_type": "display_data"
    },
    {
     "data": {
      "text/html": [
       "<pre style=\"white-space:pre;overflow-x:auto;line-height:normal;font-family:Menlo,'DejaVu Sans Mono',consolas,'Courier New',monospace\">\n",
       "</pre>\n"
      ],
      "text/plain": [
       "\n",
       "\u001b[?25h\r",
       "\u001b[1A\u001b[2K"
      ]
     },
     "metadata": {},
     "output_type": "display_data"
    },
    {
     "data": {
      "text/html": [
       "<pre style=\"white-space:pre;overflow-x:auto;line-height:normal;font-family:Menlo,'DejaVu Sans Mono',consolas,'Courier New',monospace\"><span style=\"color: #7fbfbf; text-decoration-color: #7fbfbf\">[18:05:40] </span><span style=\"color: #000080; text-decoration-color: #000080\">INFO    </span> starting up solver                                                                <a href=\"file://C:\\Users\\xinzhong\\anaconda3\\envs\\tidy3d_env\\lib\\site-packages\\tidy3d\\web\\webapi.py\" target=\"_blank\"><span style=\"color: #7f7f7f; text-decoration-color: #7f7f7f\">webapi.py</span></a><span style=\"color: #7f7f7f; text-decoration-color: #7f7f7f\">:</span><a href=\"file://C:\\Users\\xinzhong\\anaconda3\\envs\\tidy3d_env\\lib\\site-packages\\tidy3d\\web\\webapi.py#277\" target=\"_blank\"><span style=\"color: #7f7f7f; text-decoration-color: #7f7f7f\">277</span></a>\n",
       "</pre>\n"
      ],
      "text/plain": [
       "\u001b[2;36m[18:05:40]\u001b[0m\u001b[2;36m \u001b[0m\u001b[34mINFO    \u001b[0m starting up solver                                                                \u001b]8;id=853643;file://C:\\Users\\xinzhong\\anaconda3\\envs\\tidy3d_env\\lib\\site-packages\\tidy3d\\web\\webapi.py\u001b\\\u001b[2mwebapi.py\u001b[0m\u001b]8;;\u001b\\\u001b[2m:\u001b[0m\u001b]8;id=153830;file://C:\\Users\\xinzhong\\anaconda3\\envs\\tidy3d_env\\lib\\site-packages\\tidy3d\\web\\webapi.py#277\u001b\\\u001b[2m277\u001b[0m\u001b]8;;\u001b\\\n"
      ]
     },
     "metadata": {},
     "output_type": "display_data"
    },
    {
     "data": {
      "text/html": [
       "<pre style=\"white-space:pre;overflow-x:auto;line-height:normal;font-family:Menlo,'DejaVu Sans Mono',consolas,'Courier New',monospace\"><span style=\"color: #7fbfbf; text-decoration-color: #7fbfbf\">[18:05:50] </span><span style=\"color: #000080; text-decoration-color: #000080\">INFO    </span> running solver                                                                    <a href=\"file://C:\\Users\\xinzhong\\anaconda3\\envs\\tidy3d_env\\lib\\site-packages\\tidy3d\\web\\webapi.py\" target=\"_blank\"><span style=\"color: #7f7f7f; text-decoration-color: #7f7f7f\">webapi.py</span></a><span style=\"color: #7f7f7f; text-decoration-color: #7f7f7f\">:</span><a href=\"file://C:\\Users\\xinzhong\\anaconda3\\envs\\tidy3d_env\\lib\\site-packages\\tidy3d\\web\\webapi.py#283\" target=\"_blank\"><span style=\"color: #7f7f7f; text-decoration-color: #7f7f7f\">283</span></a>\n",
       "</pre>\n"
      ],
      "text/plain": [
       "\u001b[2;36m[18:05:50]\u001b[0m\u001b[2;36m \u001b[0m\u001b[34mINFO    \u001b[0m running solver                                                                    \u001b]8;id=230099;file://C:\\Users\\xinzhong\\anaconda3\\envs\\tidy3d_env\\lib\\site-packages\\tidy3d\\web\\webapi.py\u001b\\\u001b[2mwebapi.py\u001b[0m\u001b]8;;\u001b\\\u001b[2m:\u001b[0m\u001b]8;id=268843;file://C:\\Users\\xinzhong\\anaconda3\\envs\\tidy3d_env\\lib\\site-packages\\tidy3d\\web\\webapi.py#283\u001b\\\u001b[2m283\u001b[0m\u001b]8;;\u001b\\\n"
      ]
     },
     "metadata": {},
     "output_type": "display_data"
    },
    {
     "data": {
      "text/html": [
       "<pre style=\"white-space:pre;overflow-x:auto;line-height:normal;font-family:Menlo,'DejaVu Sans Mono',consolas,'Courier New',monospace\"></pre>\n"
      ],
      "text/plain": [
       "\u001b[?25l"
      ]
     },
     "metadata": {},
     "output_type": "display_data"
    },
    {
     "data": {
      "application/vnd.jupyter.widget-view+json": {
       "model_id": "ad977fdf4e224fa1adbef964c3f6c2f9",
       "version_major": 2,
       "version_minor": 0
      },
      "text/plain": [
       "Output()"
      ]
     },
     "metadata": {},
     "output_type": "display_data"
    },
    {
     "data": {
      "text/html": [
       "<pre style=\"white-space:pre;overflow-x:auto;line-height:normal;font-family:Menlo,'DejaVu Sans Mono',consolas,'Courier New',monospace\"><span style=\"color: #7fbfbf; text-decoration-color: #7fbfbf\">[18:06:34] </span><span style=\"color: #000080; text-decoration-color: #000080\">INFO    </span> early shutoff detected, exiting.                                                  <a href=\"file://C:\\Users\\xinzhong\\anaconda3\\envs\\tidy3d_env\\lib\\site-packages\\tidy3d\\web\\webapi.py\" target=\"_blank\"><span style=\"color: #7f7f7f; text-decoration-color: #7f7f7f\">webapi.py</span></a><span style=\"color: #7f7f7f; text-decoration-color: #7f7f7f\">:</span><a href=\"file://C:\\Users\\xinzhong\\anaconda3\\envs\\tidy3d_env\\lib\\site-packages\\tidy3d\\web\\webapi.py#294\" target=\"_blank\"><span style=\"color: #7f7f7f; text-decoration-color: #7f7f7f\">294</span></a>\n",
       "</pre>\n"
      ],
      "text/plain": [
       "\u001b[2;36m[18:06:34]\u001b[0m\u001b[2;36m \u001b[0m\u001b[34mINFO    \u001b[0m early shutoff detected, exiting.                                                  \u001b]8;id=649995;file://C:\\Users\\xinzhong\\anaconda3\\envs\\tidy3d_env\\lib\\site-packages\\tidy3d\\web\\webapi.py\u001b\\\u001b[2mwebapi.py\u001b[0m\u001b]8;;\u001b\\\u001b[2m:\u001b[0m\u001b]8;id=897024;file://C:\\Users\\xinzhong\\anaconda3\\envs\\tidy3d_env\\lib\\site-packages\\tidy3d\\web\\webapi.py#294\u001b\\\u001b[2m294\u001b[0m\u001b]8;;\u001b\\\n"
      ]
     },
     "metadata": {},
     "output_type": "display_data"
    },
    {
     "data": {
      "text/html": [
       "<pre style=\"white-space:pre;overflow-x:auto;line-height:normal;font-family:Menlo,'DejaVu Sans Mono',consolas,'Courier New',monospace\">\n",
       "</pre>\n"
      ],
      "text/plain": [
       "\n",
       "\u001b[?25h"
      ]
     },
     "metadata": {},
     "output_type": "display_data"
    },
    {
     "data": {
      "text/html": [
       "<pre style=\"white-space:pre;overflow-x:auto;line-height:normal;font-family:Menlo,'DejaVu Sans Mono',consolas,'Courier New',monospace\"><span style=\"color: #7fbfbf; text-decoration-color: #7fbfbf\">           </span><span style=\"color: #000080; text-decoration-color: #000080\">INFO    </span> status = postprocess                                                              <a href=\"file://C:\\Users\\xinzhong\\anaconda3\\envs\\tidy3d_env\\lib\\site-packages\\tidy3d\\web\\webapi.py\" target=\"_blank\"><span style=\"color: #7f7f7f; text-decoration-color: #7f7f7f\">webapi.py</span></a><span style=\"color: #7f7f7f; text-decoration-color: #7f7f7f\">:</span><a href=\"file://C:\\Users\\xinzhong\\anaconda3\\envs\\tidy3d_env\\lib\\site-packages\\tidy3d\\web\\webapi.py#300\" target=\"_blank\"><span style=\"color: #7f7f7f; text-decoration-color: #7f7f7f\">300</span></a>\n",
       "</pre>\n"
      ],
      "text/plain": [
       "\u001b[2;36m          \u001b[0m\u001b[2;36m \u001b[0m\u001b[34mINFO    \u001b[0m status = postprocess                                                              \u001b]8;id=400938;file://C:\\Users\\xinzhong\\anaconda3\\envs\\tidy3d_env\\lib\\site-packages\\tidy3d\\web\\webapi.py\u001b\\\u001b[2mwebapi.py\u001b[0m\u001b]8;;\u001b\\\u001b[2m:\u001b[0m\u001b]8;id=126054;file://C:\\Users\\xinzhong\\anaconda3\\envs\\tidy3d_env\\lib\\site-packages\\tidy3d\\web\\webapi.py#300\u001b\\\u001b[2m300\u001b[0m\u001b]8;;\u001b\\\n"
      ]
     },
     "metadata": {},
     "output_type": "display_data"
    },
    {
     "data": {
      "text/html": [
       "<pre style=\"white-space:pre;overflow-x:auto;line-height:normal;font-family:Menlo,'DejaVu Sans Mono',consolas,'Courier New',monospace\"></pre>\n"
      ],
      "text/plain": [
       "\u001b[?25l"
      ]
     },
     "metadata": {},
     "output_type": "display_data"
    },
    {
     "data": {
      "application/vnd.jupyter.widget-view+json": {
       "model_id": "",
       "version_major": 2,
       "version_minor": 0
      },
      "text/plain": [
       "Output()"
      ]
     },
     "metadata": {},
     "output_type": "display_data"
    },
    {
     "data": {
      "text/html": [
       "<pre style=\"white-space:pre;overflow-x:auto;line-height:normal;font-family:Menlo,'DejaVu Sans Mono',consolas,'Courier New',monospace\"><span style=\"color: #7fbfbf; text-decoration-color: #7fbfbf\">[18:06:36] </span><span style=\"color: #000080; text-decoration-color: #000080\">INFO    </span> status = success                                                                  <a href=\"file://C:\\Users\\xinzhong\\anaconda3\\envs\\tidy3d_env\\lib\\site-packages\\tidy3d\\web\\webapi.py\" target=\"_blank\"><span style=\"color: #7f7f7f; text-decoration-color: #7f7f7f\">webapi.py</span></a><span style=\"color: #7f7f7f; text-decoration-color: #7f7f7f\">:</span><a href=\"file://C:\\Users\\xinzhong\\anaconda3\\envs\\tidy3d_env\\lib\\site-packages\\tidy3d\\web\\webapi.py#306\" target=\"_blank\"><span style=\"color: #7f7f7f; text-decoration-color: #7f7f7f\">306</span></a>\n",
       "</pre>\n"
      ],
      "text/plain": [
       "\u001b[2;36m[18:06:36]\u001b[0m\u001b[2;36m \u001b[0m\u001b[34mINFO    \u001b[0m status = success                                                                  \u001b]8;id=903840;file://C:\\Users\\xinzhong\\anaconda3\\envs\\tidy3d_env\\lib\\site-packages\\tidy3d\\web\\webapi.py\u001b\\\u001b[2mwebapi.py\u001b[0m\u001b]8;;\u001b\\\u001b[2m:\u001b[0m\u001b]8;id=360434;file://C:\\Users\\xinzhong\\anaconda3\\envs\\tidy3d_env\\lib\\site-packages\\tidy3d\\web\\webapi.py#306\u001b\\\u001b[2m306\u001b[0m\u001b]8;;\u001b\\\n"
      ]
     },
     "metadata": {},
     "output_type": "display_data"
    },
    {
     "data": {
      "text/html": [
       "<pre style=\"white-space:pre;overflow-x:auto;line-height:normal;font-family:Menlo,'DejaVu Sans Mono',consolas,'Courier New',monospace\">\n",
       "</pre>\n"
      ],
      "text/plain": [
       "\n",
       "\u001b[?25h\r",
       "\u001b[1A\u001b[2K"
      ]
     },
     "metadata": {},
     "output_type": "display_data"
    },
    {
     "data": {
      "text/html": [
       "<pre style=\"white-space:pre;overflow-x:auto;line-height:normal;font-family:Menlo,'DejaVu Sans Mono',consolas,'Courier New',monospace\"><span style=\"color: #7fbfbf; text-decoration-color: #7fbfbf\">[18:06:37] </span><span style=\"color: #000080; text-decoration-color: #000080\">INFO    </span> Billed FlexUnit cost: <span style=\"color: #008080; text-decoration-color: #008080; font-weight: bold\">0.031</span>                                                       <a href=\"file://C:\\Users\\xinzhong\\anaconda3\\envs\\tidy3d_env\\lib\\site-packages\\tidy3d\\web\\webapi.py\" target=\"_blank\"><span style=\"color: #7f7f7f; text-decoration-color: #7f7f7f\">webapi.py</span></a><span style=\"color: #7f7f7f; text-decoration-color: #7f7f7f\">:</span><a href=\"file://C:\\Users\\xinzhong\\anaconda3\\envs\\tidy3d_env\\lib\\site-packages\\tidy3d\\web\\webapi.py#310\" target=\"_blank\"><span style=\"color: #7f7f7f; text-decoration-color: #7f7f7f\">310</span></a>\n",
       "</pre>\n"
      ],
      "text/plain": [
       "\u001b[2;36m[18:06:37]\u001b[0m\u001b[2;36m \u001b[0m\u001b[34mINFO    \u001b[0m Billed FlexUnit cost: \u001b[1;36m0.031\u001b[0m                                                       \u001b]8;id=959111;file://C:\\Users\\xinzhong\\anaconda3\\envs\\tidy3d_env\\lib\\site-packages\\tidy3d\\web\\webapi.py\u001b\\\u001b[2mwebapi.py\u001b[0m\u001b]8;;\u001b\\\u001b[2m:\u001b[0m\u001b]8;id=118926;file://C:\\Users\\xinzhong\\anaconda3\\envs\\tidy3d_env\\lib\\site-packages\\tidy3d\\web\\webapi.py#310\u001b\\\u001b[2m310\u001b[0m\u001b]8;;\u001b\\\n"
      ]
     },
     "metadata": {},
     "output_type": "display_data"
    },
    {
     "data": {
      "text/html": [
       "<pre style=\"white-space:pre;overflow-x:auto;line-height:normal;font-family:Menlo,'DejaVu Sans Mono',consolas,'Courier New',monospace\"><span style=\"color: #7fbfbf; text-decoration-color: #7fbfbf\">           </span><span style=\"color: #000080; text-decoration-color: #000080\">INFO    </span> downloading file <span style=\"color: #008000; text-decoration-color: #008000\">\"output/monitor_data.hdf5\"</span> to <span style=\"color: #008000; text-decoration-color: #008000\">\"data/optical_yagi_uda.hdf5\"</span>       <a href=\"file://C:\\Users\\xinzhong\\anaconda3\\envs\\tidy3d_env\\lib\\site-packages\\tidy3d\\web\\webapi.py\" target=\"_blank\"><span style=\"color: #7f7f7f; text-decoration-color: #7f7f7f\">webapi.py</span></a><span style=\"color: #7f7f7f; text-decoration-color: #7f7f7f\">:</span><a href=\"file://C:\\Users\\xinzhong\\anaconda3\\envs\\tidy3d_env\\lib\\site-packages\\tidy3d\\web\\webapi.py#592\" target=\"_blank\"><span style=\"color: #7f7f7f; text-decoration-color: #7f7f7f\">592</span></a>\n",
       "</pre>\n"
      ],
      "text/plain": [
       "\u001b[2;36m          \u001b[0m\u001b[2;36m \u001b[0m\u001b[34mINFO    \u001b[0m downloading file \u001b[32m\"output/monitor_data.hdf5\"\u001b[0m to \u001b[32m\"data/optical_yagi_uda.hdf5\"\u001b[0m       \u001b]8;id=30346;file://C:\\Users\\xinzhong\\anaconda3\\envs\\tidy3d_env\\lib\\site-packages\\tidy3d\\web\\webapi.py\u001b\\\u001b[2mwebapi.py\u001b[0m\u001b]8;;\u001b\\\u001b[2m:\u001b[0m\u001b]8;id=829794;file://C:\\Users\\xinzhong\\anaconda3\\envs\\tidy3d_env\\lib\\site-packages\\tidy3d\\web\\webapi.py#592\u001b\\\u001b[2m592\u001b[0m\u001b]8;;\u001b\\\n"
      ]
     },
     "metadata": {},
     "output_type": "display_data"
    },
    {
     "data": {
      "text/html": [
       "<pre style=\"white-space:pre;overflow-x:auto;line-height:normal;font-family:Menlo,'DejaVu Sans Mono',consolas,'Courier New',monospace\"></pre>\n"
      ],
      "text/plain": [
       "\u001b[?25l"
      ]
     },
     "metadata": {},
     "output_type": "display_data"
    },
    {
     "data": {
      "application/vnd.jupyter.widget-view+json": {
       "model_id": "4dedb8f52d7644d0af57a3a3ecc6979a",
       "version_major": 2,
       "version_minor": 0
      },
      "text/plain": [
       "Output()"
      ]
     },
     "metadata": {},
     "output_type": "display_data"
    },
    {
     "data": {
      "text/html": [
       "<pre style=\"white-space:pre;overflow-x:auto;line-height:normal;font-family:Menlo,'DejaVu Sans Mono',consolas,'Courier New',monospace\">\n",
       "</pre>\n"
      ],
      "text/plain": [
       "\n",
       "\u001b[?25h"
      ]
     },
     "metadata": {},
     "output_type": "display_data"
    },
    {
     "data": {
      "text/html": [
       "<pre style=\"white-space:pre;overflow-x:auto;line-height:normal;font-family:Menlo,'DejaVu Sans Mono',consolas,'Courier New',monospace\"><span style=\"color: #7fbfbf; text-decoration-color: #7fbfbf\">[18:06:38] </span><span style=\"color: #000080; text-decoration-color: #000080\">INFO    </span> loading SimulationData from data/optical_yagi_uda.hdf5                            <a href=\"file://C:\\Users\\xinzhong\\anaconda3\\envs\\tidy3d_env\\lib\\site-packages\\tidy3d\\web\\webapi.py\" target=\"_blank\"><span style=\"color: #7f7f7f; text-decoration-color: #7f7f7f\">webapi.py</span></a><span style=\"color: #7f7f7f; text-decoration-color: #7f7f7f\">:</span><a href=\"file://C:\\Users\\xinzhong\\anaconda3\\envs\\tidy3d_env\\lib\\site-packages\\tidy3d\\web\\webapi.py#414\" target=\"_blank\"><span style=\"color: #7f7f7f; text-decoration-color: #7f7f7f\">414</span></a>\n",
       "</pre>\n"
      ],
      "text/plain": [
       "\u001b[2;36m[18:06:38]\u001b[0m\u001b[2;36m \u001b[0m\u001b[34mINFO    \u001b[0m loading SimulationData from data/optical_yagi_uda.hdf5                            \u001b]8;id=628594;file://C:\\Users\\xinzhong\\anaconda3\\envs\\tidy3d_env\\lib\\site-packages\\tidy3d\\web\\webapi.py\u001b\\\u001b[2mwebapi.py\u001b[0m\u001b]8;;\u001b\\\u001b[2m:\u001b[0m\u001b]8;id=162558;file://C:\\Users\\xinzhong\\anaconda3\\envs\\tidy3d_env\\lib\\site-packages\\tidy3d\\web\\webapi.py#414\u001b\\\u001b[2m414\u001b[0m\u001b]8;;\u001b\\\n"
      ]
     },
     "metadata": {},
     "output_type": "display_data"
    },
    {
     "data": {
      "text/html": [
       "<pre style=\"white-space:pre;overflow-x:auto;line-height:normal;font-family:Menlo,'DejaVu Sans Mono',consolas,'Courier New',monospace\"><span style=\"color: #7fbfbf; text-decoration-color: #7fbfbf\">           </span><span style=\"color: #000080; text-decoration-color: #000080\">INFO    </span> Created task <span style=\"color: #008000; text-decoration-color: #008000\">'empty'</span> with task_id <span style=\"color: #008000; text-decoration-color: #008000\">'5d19af81-366d-41e8-b390-18ddc10a86f1'</span>.         <a href=\"file://C:\\Users\\xinzhong\\anaconda3\\envs\\tidy3d_env\\lib\\site-packages\\tidy3d\\web\\webapi.py\" target=\"_blank\"><span style=\"color: #7f7f7f; text-decoration-color: #7f7f7f\">webapi.py</span></a><span style=\"color: #7f7f7f; text-decoration-color: #7f7f7f\">:</span><a href=\"file://C:\\Users\\xinzhong\\anaconda3\\envs\\tidy3d_env\\lib\\site-packages\\tidy3d\\web\\webapi.py#120\" target=\"_blank\"><span style=\"color: #7f7f7f; text-decoration-color: #7f7f7f\">120</span></a>\n",
       "</pre>\n"
      ],
      "text/plain": [
       "\u001b[2;36m          \u001b[0m\u001b[2;36m \u001b[0m\u001b[34mINFO    \u001b[0m Created task \u001b[32m'empty'\u001b[0m with task_id \u001b[32m'5d19af81-366d-41e8-b390-18ddc10a86f1'\u001b[0m.         \u001b]8;id=304070;file://C:\\Users\\xinzhong\\anaconda3\\envs\\tidy3d_env\\lib\\site-packages\\tidy3d\\web\\webapi.py\u001b\\\u001b[2mwebapi.py\u001b[0m\u001b]8;;\u001b\\\u001b[2m:\u001b[0m\u001b]8;id=630089;file://C:\\Users\\xinzhong\\anaconda3\\envs\\tidy3d_env\\lib\\site-packages\\tidy3d\\web\\webapi.py#120\u001b\\\u001b[2m120\u001b[0m\u001b]8;;\u001b\\\n"
      ]
     },
     "metadata": {},
     "output_type": "display_data"
    },
    {
     "data": {
      "text/html": [
       "<pre style=\"white-space:pre;overflow-x:auto;line-height:normal;font-family:Menlo,'DejaVu Sans Mono',consolas,'Courier New',monospace\"></pre>\n"
      ],
      "text/plain": [
       "\u001b[?25l"
      ]
     },
     "metadata": {},
     "output_type": "display_data"
    },
    {
     "data": {
      "application/vnd.jupyter.widget-view+json": {
       "model_id": "7f0579dc9e63478c8b8524141c39dbbb",
       "version_major": 2,
       "version_minor": 0
      },
      "text/plain": [
       "Output()"
      ]
     },
     "metadata": {},
     "output_type": "display_data"
    },
    {
     "data": {
      "text/html": [
       "<pre style=\"white-space:pre;overflow-x:auto;line-height:normal;font-family:Menlo,'DejaVu Sans Mono',consolas,'Courier New',monospace\">\n",
       "</pre>\n"
      ],
      "text/plain": [
       "\n",
       "\u001b[?25h"
      ]
     },
     "metadata": {},
     "output_type": "display_data"
    },
    {
     "data": {
      "text/html": [
       "<pre style=\"white-space:pre;overflow-x:auto;line-height:normal;font-family:Menlo,'DejaVu Sans Mono',consolas,'Courier New',monospace\"><span style=\"color: #7fbfbf; text-decoration-color: #7fbfbf\">[18:06:40] </span><span style=\"color: #000080; text-decoration-color: #000080\">INFO    </span> status = queued                                                                   <a href=\"file://C:\\Users\\xinzhong\\anaconda3\\envs\\tidy3d_env\\lib\\site-packages\\tidy3d\\web\\webapi.py\" target=\"_blank\"><span style=\"color: #7f7f7f; text-decoration-color: #7f7f7f\">webapi.py</span></a><span style=\"color: #7f7f7f; text-decoration-color: #7f7f7f\">:</span><a href=\"file://C:\\Users\\xinzhong\\anaconda3\\envs\\tidy3d_env\\lib\\site-packages\\tidy3d\\web\\webapi.py#261\" target=\"_blank\"><span style=\"color: #7f7f7f; text-decoration-color: #7f7f7f\">261</span></a>\n",
       "</pre>\n"
      ],
      "text/plain": [
       "\u001b[2;36m[18:06:40]\u001b[0m\u001b[2;36m \u001b[0m\u001b[34mINFO    \u001b[0m status = queued                                                                   \u001b]8;id=265472;file://C:\\Users\\xinzhong\\anaconda3\\envs\\tidy3d_env\\lib\\site-packages\\tidy3d\\web\\webapi.py\u001b\\\u001b[2mwebapi.py\u001b[0m\u001b]8;;\u001b\\\u001b[2m:\u001b[0m\u001b]8;id=524851;file://C:\\Users\\xinzhong\\anaconda3\\envs\\tidy3d_env\\lib\\site-packages\\tidy3d\\web\\webapi.py#261\u001b\\\u001b[2m261\u001b[0m\u001b]8;;\u001b\\\n"
      ]
     },
     "metadata": {},
     "output_type": "display_data"
    },
    {
     "data": {
      "text/html": [
       "<pre style=\"white-space:pre;overflow-x:auto;line-height:normal;font-family:Menlo,'DejaVu Sans Mono',consolas,'Courier New',monospace\"></pre>\n"
      ],
      "text/plain": [
       "\u001b[?25l"
      ]
     },
     "metadata": {},
     "output_type": "display_data"
    },
    {
     "data": {
      "application/vnd.jupyter.widget-view+json": {
       "model_id": "",
       "version_major": 2,
       "version_minor": 0
      },
      "text/plain": [
       "Output()"
      ]
     },
     "metadata": {},
     "output_type": "display_data"
    },
    {
     "data": {
      "text/html": [
       "<pre style=\"white-space:pre;overflow-x:auto;line-height:normal;font-family:Menlo,'DejaVu Sans Mono',consolas,'Courier New',monospace\"><span style=\"color: #7fbfbf; text-decoration-color: #7fbfbf\">[18:06:42] </span><span style=\"color: #000080; text-decoration-color: #000080\">INFO    </span> Maximum FlexUnit cost: <span style=\"color: #008080; text-decoration-color: #008080; font-weight: bold\">0.025</span>                                                      <a href=\"file://C:\\Users\\xinzhong\\anaconda3\\envs\\tidy3d_env\\lib\\site-packages\\tidy3d\\web\\webapi.py\" target=\"_blank\"><span style=\"color: #7f7f7f; text-decoration-color: #7f7f7f\">webapi.py</span></a><span style=\"color: #7f7f7f; text-decoration-color: #7f7f7f\">:</span><a href=\"file://C:\\Users\\xinzhong\\anaconda3\\envs\\tidy3d_env\\lib\\site-packages\\tidy3d\\web\\webapi.py#252\" target=\"_blank\"><span style=\"color: #7f7f7f; text-decoration-color: #7f7f7f\">252</span></a>\n",
       "</pre>\n"
      ],
      "text/plain": [
       "\u001b[2;36m[18:06:42]\u001b[0m\u001b[2;36m \u001b[0m\u001b[34mINFO    \u001b[0m Maximum FlexUnit cost: \u001b[1;36m0.025\u001b[0m                                                      \u001b]8;id=580557;file://C:\\Users\\xinzhong\\anaconda3\\envs\\tidy3d_env\\lib\\site-packages\\tidy3d\\web\\webapi.py\u001b\\\u001b[2mwebapi.py\u001b[0m\u001b]8;;\u001b\\\u001b[2m:\u001b[0m\u001b]8;id=236873;file://C:\\Users\\xinzhong\\anaconda3\\envs\\tidy3d_env\\lib\\site-packages\\tidy3d\\web\\webapi.py#252\u001b\\\u001b[2m252\u001b[0m\u001b]8;;\u001b\\\n"
      ]
     },
     "metadata": {},
     "output_type": "display_data"
    },
    {
     "data": {
      "text/html": [
       "<pre style=\"white-space:pre;overflow-x:auto;line-height:normal;font-family:Menlo,'DejaVu Sans Mono',consolas,'Courier New',monospace\"><span style=\"color: #7fbfbf; text-decoration-color: #7fbfbf\">[18:06:44] </span><span style=\"color: #000080; text-decoration-color: #000080\">INFO    </span> status = preprocess                                                               <a href=\"file://C:\\Users\\xinzhong\\anaconda3\\envs\\tidy3d_env\\lib\\site-packages\\tidy3d\\web\\webapi.py\" target=\"_blank\"><span style=\"color: #7f7f7f; text-decoration-color: #7f7f7f\">webapi.py</span></a><span style=\"color: #7f7f7f; text-decoration-color: #7f7f7f\">:</span><a href=\"file://C:\\Users\\xinzhong\\anaconda3\\envs\\tidy3d_env\\lib\\site-packages\\tidy3d\\web\\webapi.py#273\" target=\"_blank\"><span style=\"color: #7f7f7f; text-decoration-color: #7f7f7f\">273</span></a>\n",
       "</pre>\n"
      ],
      "text/plain": [
       "\u001b[2;36m[18:06:44]\u001b[0m\u001b[2;36m \u001b[0m\u001b[34mINFO    \u001b[0m status = preprocess                                                               \u001b]8;id=746434;file://C:\\Users\\xinzhong\\anaconda3\\envs\\tidy3d_env\\lib\\site-packages\\tidy3d\\web\\webapi.py\u001b\\\u001b[2mwebapi.py\u001b[0m\u001b]8;;\u001b\\\u001b[2m:\u001b[0m\u001b]8;id=470058;file://C:\\Users\\xinzhong\\anaconda3\\envs\\tidy3d_env\\lib\\site-packages\\tidy3d\\web\\webapi.py#273\u001b\\\u001b[2m273\u001b[0m\u001b]8;;\u001b\\\n"
      ]
     },
     "metadata": {},
     "output_type": "display_data"
    },
    {
     "data": {
      "text/html": [
       "<pre style=\"white-space:pre;overflow-x:auto;line-height:normal;font-family:Menlo,'DejaVu Sans Mono',consolas,'Courier New',monospace\">\n",
       "</pre>\n"
      ],
      "text/plain": [
       "\n",
       "\u001b[?25h\r",
       "\u001b[1A\u001b[2K"
      ]
     },
     "metadata": {},
     "output_type": "display_data"
    },
    {
     "data": {
      "text/html": [
       "<pre style=\"white-space:pre;overflow-x:auto;line-height:normal;font-family:Menlo,'DejaVu Sans Mono',consolas,'Courier New',monospace\"><span style=\"color: #7fbfbf; text-decoration-color: #7fbfbf\">[18:06:48] </span><span style=\"color: #000080; text-decoration-color: #000080\">INFO    </span> starting up solver                                                                <a href=\"file://C:\\Users\\xinzhong\\anaconda3\\envs\\tidy3d_env\\lib\\site-packages\\tidy3d\\web\\webapi.py\" target=\"_blank\"><span style=\"color: #7f7f7f; text-decoration-color: #7f7f7f\">webapi.py</span></a><span style=\"color: #7f7f7f; text-decoration-color: #7f7f7f\">:</span><a href=\"file://C:\\Users\\xinzhong\\anaconda3\\envs\\tidy3d_env\\lib\\site-packages\\tidy3d\\web\\webapi.py#277\" target=\"_blank\"><span style=\"color: #7f7f7f; text-decoration-color: #7f7f7f\">277</span></a>\n",
       "</pre>\n"
      ],
      "text/plain": [
       "\u001b[2;36m[18:06:48]\u001b[0m\u001b[2;36m \u001b[0m\u001b[34mINFO    \u001b[0m starting up solver                                                                \u001b]8;id=166490;file://C:\\Users\\xinzhong\\anaconda3\\envs\\tidy3d_env\\lib\\site-packages\\tidy3d\\web\\webapi.py\u001b\\\u001b[2mwebapi.py\u001b[0m\u001b]8;;\u001b\\\u001b[2m:\u001b[0m\u001b]8;id=880073;file://C:\\Users\\xinzhong\\anaconda3\\envs\\tidy3d_env\\lib\\site-packages\\tidy3d\\web\\webapi.py#277\u001b\\\u001b[2m277\u001b[0m\u001b]8;;\u001b\\\n"
      ]
     },
     "metadata": {},
     "output_type": "display_data"
    },
    {
     "data": {
      "text/html": [
       "<pre style=\"white-space:pre;overflow-x:auto;line-height:normal;font-family:Menlo,'DejaVu Sans Mono',consolas,'Courier New',monospace\"><span style=\"color: #7fbfbf; text-decoration-color: #7fbfbf\">[18:06:55] </span><span style=\"color: #000080; text-decoration-color: #000080\">INFO    </span> running solver                                                                    <a href=\"file://C:\\Users\\xinzhong\\anaconda3\\envs\\tidy3d_env\\lib\\site-packages\\tidy3d\\web\\webapi.py\" target=\"_blank\"><span style=\"color: #7f7f7f; text-decoration-color: #7f7f7f\">webapi.py</span></a><span style=\"color: #7f7f7f; text-decoration-color: #7f7f7f\">:</span><a href=\"file://C:\\Users\\xinzhong\\anaconda3\\envs\\tidy3d_env\\lib\\site-packages\\tidy3d\\web\\webapi.py#283\" target=\"_blank\"><span style=\"color: #7f7f7f; text-decoration-color: #7f7f7f\">283</span></a>\n",
       "</pre>\n"
      ],
      "text/plain": [
       "\u001b[2;36m[18:06:55]\u001b[0m\u001b[2;36m \u001b[0m\u001b[34mINFO    \u001b[0m running solver                                                                    \u001b]8;id=715315;file://C:\\Users\\xinzhong\\anaconda3\\envs\\tidy3d_env\\lib\\site-packages\\tidy3d\\web\\webapi.py\u001b\\\u001b[2mwebapi.py\u001b[0m\u001b]8;;\u001b\\\u001b[2m:\u001b[0m\u001b]8;id=491159;file://C:\\Users\\xinzhong\\anaconda3\\envs\\tidy3d_env\\lib\\site-packages\\tidy3d\\web\\webapi.py#283\u001b\\\u001b[2m283\u001b[0m\u001b]8;;\u001b\\\n"
      ]
     },
     "metadata": {},
     "output_type": "display_data"
    },
    {
     "data": {
      "text/html": [
       "<pre style=\"white-space:pre;overflow-x:auto;line-height:normal;font-family:Menlo,'DejaVu Sans Mono',consolas,'Courier New',monospace\"></pre>\n"
      ],
      "text/plain": [
       "\u001b[?25l"
      ]
     },
     "metadata": {},
     "output_type": "display_data"
    },
    {
     "data": {
      "application/vnd.jupyter.widget-view+json": {
       "model_id": "3359a73ebe384f73a299386e6295726a",
       "version_major": 2,
       "version_minor": 0
      },
      "text/plain": [
       "Output()"
      ]
     },
     "metadata": {},
     "output_type": "display_data"
    },
    {
     "data": {
      "text/html": [
       "<pre style=\"white-space:pre;overflow-x:auto;line-height:normal;font-family:Menlo,'DejaVu Sans Mono',consolas,'Courier New',monospace\"><span style=\"color: #7fbfbf; text-decoration-color: #7fbfbf\">[18:06:59] </span><span style=\"color: #000080; text-decoration-color: #000080\">INFO    </span> early shutoff detected, exiting.                                                  <a href=\"file://C:\\Users\\xinzhong\\anaconda3\\envs\\tidy3d_env\\lib\\site-packages\\tidy3d\\web\\webapi.py\" target=\"_blank\"><span style=\"color: #7f7f7f; text-decoration-color: #7f7f7f\">webapi.py</span></a><span style=\"color: #7f7f7f; text-decoration-color: #7f7f7f\">:</span><a href=\"file://C:\\Users\\xinzhong\\anaconda3\\envs\\tidy3d_env\\lib\\site-packages\\tidy3d\\web\\webapi.py#294\" target=\"_blank\"><span style=\"color: #7f7f7f; text-decoration-color: #7f7f7f\">294</span></a>\n",
       "</pre>\n"
      ],
      "text/plain": [
       "\u001b[2;36m[18:06:59]\u001b[0m\u001b[2;36m \u001b[0m\u001b[34mINFO    \u001b[0m early shutoff detected, exiting.                                                  \u001b]8;id=144563;file://C:\\Users\\xinzhong\\anaconda3\\envs\\tidy3d_env\\lib\\site-packages\\tidy3d\\web\\webapi.py\u001b\\\u001b[2mwebapi.py\u001b[0m\u001b]8;;\u001b\\\u001b[2m:\u001b[0m\u001b]8;id=818673;file://C:\\Users\\xinzhong\\anaconda3\\envs\\tidy3d_env\\lib\\site-packages\\tidy3d\\web\\webapi.py#294\u001b\\\u001b[2m294\u001b[0m\u001b]8;;\u001b\\\n"
      ]
     },
     "metadata": {},
     "output_type": "display_data"
    },
    {
     "data": {
      "text/html": [
       "<pre style=\"white-space:pre;overflow-x:auto;line-height:normal;font-family:Menlo,'DejaVu Sans Mono',consolas,'Courier New',monospace\">\n",
       "</pre>\n"
      ],
      "text/plain": [
       "\n",
       "\u001b[?25h"
      ]
     },
     "metadata": {},
     "output_type": "display_data"
    },
    {
     "data": {
      "text/html": [
       "<pre style=\"white-space:pre;overflow-x:auto;line-height:normal;font-family:Menlo,'DejaVu Sans Mono',consolas,'Courier New',monospace\"><span style=\"color: #7fbfbf; text-decoration-color: #7fbfbf\">           </span><span style=\"color: #000080; text-decoration-color: #000080\">INFO    </span> status = postprocess                                                              <a href=\"file://C:\\Users\\xinzhong\\anaconda3\\envs\\tidy3d_env\\lib\\site-packages\\tidy3d\\web\\webapi.py\" target=\"_blank\"><span style=\"color: #7f7f7f; text-decoration-color: #7f7f7f\">webapi.py</span></a><span style=\"color: #7f7f7f; text-decoration-color: #7f7f7f\">:</span><a href=\"file://C:\\Users\\xinzhong\\anaconda3\\envs\\tidy3d_env\\lib\\site-packages\\tidy3d\\web\\webapi.py#300\" target=\"_blank\"><span style=\"color: #7f7f7f; text-decoration-color: #7f7f7f\">300</span></a>\n",
       "</pre>\n"
      ],
      "text/plain": [
       "\u001b[2;36m          \u001b[0m\u001b[2;36m \u001b[0m\u001b[34mINFO    \u001b[0m status = postprocess                                                              \u001b]8;id=123941;file://C:\\Users\\xinzhong\\anaconda3\\envs\\tidy3d_env\\lib\\site-packages\\tidy3d\\web\\webapi.py\u001b\\\u001b[2mwebapi.py\u001b[0m\u001b]8;;\u001b\\\u001b[2m:\u001b[0m\u001b]8;id=578030;file://C:\\Users\\xinzhong\\anaconda3\\envs\\tidy3d_env\\lib\\site-packages\\tidy3d\\web\\webapi.py#300\u001b\\\u001b[2m300\u001b[0m\u001b]8;;\u001b\\\n"
      ]
     },
     "metadata": {},
     "output_type": "display_data"
    },
    {
     "data": {
      "text/html": [
       "<pre style=\"white-space:pre;overflow-x:auto;line-height:normal;font-family:Menlo,'DejaVu Sans Mono',consolas,'Courier New',monospace\"></pre>\n"
      ],
      "text/plain": [
       "\u001b[?25l"
      ]
     },
     "metadata": {},
     "output_type": "display_data"
    },
    {
     "data": {
      "application/vnd.jupyter.widget-view+json": {
       "model_id": "",
       "version_major": 2,
       "version_minor": 0
      },
      "text/plain": [
       "Output()"
      ]
     },
     "metadata": {},
     "output_type": "display_data"
    },
    {
     "data": {
      "text/html": [
       "<pre style=\"white-space:pre;overflow-x:auto;line-height:normal;font-family:Menlo,'DejaVu Sans Mono',consolas,'Courier New',monospace\"><span style=\"color: #7fbfbf; text-decoration-color: #7fbfbf\">[18:07:01] </span><span style=\"color: #000080; text-decoration-color: #000080\">INFO    </span> status = success                                                                  <a href=\"file://C:\\Users\\xinzhong\\anaconda3\\envs\\tidy3d_env\\lib\\site-packages\\tidy3d\\web\\webapi.py\" target=\"_blank\"><span style=\"color: #7f7f7f; text-decoration-color: #7f7f7f\">webapi.py</span></a><span style=\"color: #7f7f7f; text-decoration-color: #7f7f7f\">:</span><a href=\"file://C:\\Users\\xinzhong\\anaconda3\\envs\\tidy3d_env\\lib\\site-packages\\tidy3d\\web\\webapi.py#306\" target=\"_blank\"><span style=\"color: #7f7f7f; text-decoration-color: #7f7f7f\">306</span></a>\n",
       "</pre>\n"
      ],
      "text/plain": [
       "\u001b[2;36m[18:07:01]\u001b[0m\u001b[2;36m \u001b[0m\u001b[34mINFO    \u001b[0m status = success                                                                  \u001b]8;id=151505;file://C:\\Users\\xinzhong\\anaconda3\\envs\\tidy3d_env\\lib\\site-packages\\tidy3d\\web\\webapi.py\u001b\\\u001b[2mwebapi.py\u001b[0m\u001b]8;;\u001b\\\u001b[2m:\u001b[0m\u001b]8;id=244138;file://C:\\Users\\xinzhong\\anaconda3\\envs\\tidy3d_env\\lib\\site-packages\\tidy3d\\web\\webapi.py#306\u001b\\\u001b[2m306\u001b[0m\u001b]8;;\u001b\\\n"
      ]
     },
     "metadata": {},
     "output_type": "display_data"
    },
    {
     "data": {
      "text/html": [
       "<pre style=\"white-space:pre;overflow-x:auto;line-height:normal;font-family:Menlo,'DejaVu Sans Mono',consolas,'Courier New',monospace\">\n",
       "</pre>\n"
      ],
      "text/plain": [
       "\n",
       "\u001b[?25h\r",
       "\u001b[1A\u001b[2K"
      ]
     },
     "metadata": {},
     "output_type": "display_data"
    },
    {
     "data": {
      "text/html": [
       "<pre style=\"white-space:pre;overflow-x:auto;line-height:normal;font-family:Menlo,'DejaVu Sans Mono',consolas,'Courier New',monospace\"><span style=\"color: #7fbfbf; text-decoration-color: #7fbfbf\">           </span><span style=\"color: #000080; text-decoration-color: #000080\">INFO    </span> Billed FlexUnit cost: <span style=\"color: #008080; text-decoration-color: #008080; font-weight: bold\">0.025</span>                                                       <a href=\"file://C:\\Users\\xinzhong\\anaconda3\\envs\\tidy3d_env\\lib\\site-packages\\tidy3d\\web\\webapi.py\" target=\"_blank\"><span style=\"color: #7f7f7f; text-decoration-color: #7f7f7f\">webapi.py</span></a><span style=\"color: #7f7f7f; text-decoration-color: #7f7f7f\">:</span><a href=\"file://C:\\Users\\xinzhong\\anaconda3\\envs\\tidy3d_env\\lib\\site-packages\\tidy3d\\web\\webapi.py#310\" target=\"_blank\"><span style=\"color: #7f7f7f; text-decoration-color: #7f7f7f\">310</span></a>\n",
       "</pre>\n"
      ],
      "text/plain": [
       "\u001b[2;36m          \u001b[0m\u001b[2;36m \u001b[0m\u001b[34mINFO    \u001b[0m Billed FlexUnit cost: \u001b[1;36m0.025\u001b[0m                                                       \u001b]8;id=973489;file://C:\\Users\\xinzhong\\anaconda3\\envs\\tidy3d_env\\lib\\site-packages\\tidy3d\\web\\webapi.py\u001b\\\u001b[2mwebapi.py\u001b[0m\u001b]8;;\u001b\\\u001b[2m:\u001b[0m\u001b]8;id=45109;file://C:\\Users\\xinzhong\\anaconda3\\envs\\tidy3d_env\\lib\\site-packages\\tidy3d\\web\\webapi.py#310\u001b\\\u001b[2m310\u001b[0m\u001b]8;;\u001b\\\n"
      ]
     },
     "metadata": {},
     "output_type": "display_data"
    },
    {
     "data": {
      "text/html": [
       "<pre style=\"white-space:pre;overflow-x:auto;line-height:normal;font-family:Menlo,'DejaVu Sans Mono',consolas,'Courier New',monospace\"><span style=\"color: #7fbfbf; text-decoration-color: #7fbfbf\">           </span><span style=\"color: #000080; text-decoration-color: #000080\">INFO    </span> downloading file <span style=\"color: #008000; text-decoration-color: #008000\">\"output/monitor_data.hdf5\"</span> to <span style=\"color: #008000; text-decoration-color: #008000\">\"data/optical_yagi_uda.hdf5\"</span>       <a href=\"file://C:\\Users\\xinzhong\\anaconda3\\envs\\tidy3d_env\\lib\\site-packages\\tidy3d\\web\\webapi.py\" target=\"_blank\"><span style=\"color: #7f7f7f; text-decoration-color: #7f7f7f\">webapi.py</span></a><span style=\"color: #7f7f7f; text-decoration-color: #7f7f7f\">:</span><a href=\"file://C:\\Users\\xinzhong\\anaconda3\\envs\\tidy3d_env\\lib\\site-packages\\tidy3d\\web\\webapi.py#592\" target=\"_blank\"><span style=\"color: #7f7f7f; text-decoration-color: #7f7f7f\">592</span></a>\n",
       "</pre>\n"
      ],
      "text/plain": [
       "\u001b[2;36m          \u001b[0m\u001b[2;36m \u001b[0m\u001b[34mINFO    \u001b[0m downloading file \u001b[32m\"output/monitor_data.hdf5\"\u001b[0m to \u001b[32m\"data/optical_yagi_uda.hdf5\"\u001b[0m       \u001b]8;id=579485;file://C:\\Users\\xinzhong\\anaconda3\\envs\\tidy3d_env\\lib\\site-packages\\tidy3d\\web\\webapi.py\u001b\\\u001b[2mwebapi.py\u001b[0m\u001b]8;;\u001b\\\u001b[2m:\u001b[0m\u001b]8;id=879293;file://C:\\Users\\xinzhong\\anaconda3\\envs\\tidy3d_env\\lib\\site-packages\\tidy3d\\web\\webapi.py#592\u001b\\\u001b[2m592\u001b[0m\u001b]8;;\u001b\\\n"
      ]
     },
     "metadata": {},
     "output_type": "display_data"
    },
    {
     "data": {
      "text/html": [
       "<pre style=\"white-space:pre;overflow-x:auto;line-height:normal;font-family:Menlo,'DejaVu Sans Mono',consolas,'Courier New',monospace\"></pre>\n"
      ],
      "text/plain": [
       "\u001b[?25l"
      ]
     },
     "metadata": {},
     "output_type": "display_data"
    },
    {
     "data": {
      "application/vnd.jupyter.widget-view+json": {
       "model_id": "3236e8892c9f44ca8de94d2b54d375c0",
       "version_major": 2,
       "version_minor": 0
      },
      "text/plain": [
       "Output()"
      ]
     },
     "metadata": {},
     "output_type": "display_data"
    },
    {
     "data": {
      "text/html": [
       "<pre style=\"white-space:pre;overflow-x:auto;line-height:normal;font-family:Menlo,'DejaVu Sans Mono',consolas,'Courier New',monospace\">\n",
       "</pre>\n"
      ],
      "text/plain": [
       "\n",
       "\u001b[?25h"
      ]
     },
     "metadata": {},
     "output_type": "display_data"
    },
    {
     "data": {
      "text/html": [
       "<pre style=\"white-space:pre;overflow-x:auto;line-height:normal;font-family:Menlo,'DejaVu Sans Mono',consolas,'Courier New',monospace\"><span style=\"color: #7fbfbf; text-decoration-color: #7fbfbf\">[18:07:02] </span><span style=\"color: #000080; text-decoration-color: #000080\">INFO    </span> loading SimulationData from data/optical_yagi_uda.hdf5                            <a href=\"file://C:\\Users\\xinzhong\\anaconda3\\envs\\tidy3d_env\\lib\\site-packages\\tidy3d\\web\\webapi.py\" target=\"_blank\"><span style=\"color: #7f7f7f; text-decoration-color: #7f7f7f\">webapi.py</span></a><span style=\"color: #7f7f7f; text-decoration-color: #7f7f7f\">:</span><a href=\"file://C:\\Users\\xinzhong\\anaconda3\\envs\\tidy3d_env\\lib\\site-packages\\tidy3d\\web\\webapi.py#414\" target=\"_blank\"><span style=\"color: #7f7f7f; text-decoration-color: #7f7f7f\">414</span></a>\n",
       "</pre>\n"
      ],
      "text/plain": [
       "\u001b[2;36m[18:07:02]\u001b[0m\u001b[2;36m \u001b[0m\u001b[34mINFO    \u001b[0m loading SimulationData from data/optical_yagi_uda.hdf5                            \u001b]8;id=326672;file://C:\\Users\\xinzhong\\anaconda3\\envs\\tidy3d_env\\lib\\site-packages\\tidy3d\\web\\webapi.py\u001b\\\u001b[2mwebapi.py\u001b[0m\u001b]8;;\u001b\\\u001b[2m:\u001b[0m\u001b]8;id=862178;file://C:\\Users\\xinzhong\\anaconda3\\envs\\tidy3d_env\\lib\\site-packages\\tidy3d\\web\\webapi.py#414\u001b\\\u001b[2m414\u001b[0m\u001b]8;;\u001b\\\n"
      ]
     },
     "metadata": {},
     "output_type": "display_data"
    }
   ],
   "source": [
    "sim_data = web.run(\n",
    "    sim, task_name=\"plasmonic_yagi_uda\", path=\"data/optical_yagi_uda.hdf5\"\n",
    ")\n",
    "sim_empty_data = web.run(\n",
    "    sim_empty, task_name=\"empty\", path=\"data/optical_yagi_uda.hdf5\"\n",
    ")\n"
   ]
  },
  {
   "cell_type": "markdown",
   "id": "7a334ffc",
   "metadata": {},
   "source": [
    "## Postprocessing"
   ]
  },
  {
   "cell_type": "markdown",
   "id": "d002725e",
   "metadata": {},
   "source": [
    "After the simulations are complete, we calculate the directivity of the Yagi-Uda antenna and the single point dipole. The directivity is given by\n",
    "\n",
    "<center> $D(\\phi,\\theta)=\\frac{4\\pi P(\\phi,\\theta)}{P_0}$,</center>\n",
    "\n",
    "where $P$ is the angular radiated power and $P_0= \\iint P(\\phi,\\theta) d\\Omega$ is the total radiated power.\n",
    "\n",
    "The result shows that the dipole has a directivity of around 1.5, which is expected for a dipole radiator. On the other hand, the Yagi-Uda antenna has a much higher forward directivity above 6. "
   ]
  },
  {
   "cell_type": "code",
   "execution_count": 8,
   "id": "ff1fb3b0",
   "metadata": {
    "execution": {
     "iopub.execute_input": "2023-02-03T05:30:01.674296Z",
     "iopub.status.busy": "2023-02-03T05:30:01.674221Z",
     "iopub.status.idle": "2023-02-03T05:30:01.875017Z",
     "shell.execute_reply": "2023-02-03T05:30:01.874715Z"
    }
   },
   "outputs": [
    {
     "data": {
      "image/png": "[encoded data removed]",
      "text/plain": [
       "<Figure size 640x480 with 1 Axes>"
      ]
     },
     "metadata": {},
     "output_type": "display_data"
    }
   ],
   "source": [
    "P0 = np.array(sim_data[\"power\"].flux)  # total radiated power of the yagi-uda antenna\n",
    "\n",
    "# angular radiated power of the yagi-uda antenna\n",
    "# by default, the power is calculated at 1 meter away from the antenna. The 1e12 factor normalizes the power to unit distance (1 um)\n",
    "P = 1e12 * sim_data[\"n2f_monitor\"].power.sel(f=freq0, phi=0, method=\"nearest\").values\n",
    "P = np.squeeze(P)\n",
    "D = 4 * np.pi * P / P0  # directivity of the yagi-uda antenna\n",
    "\n",
    "P0_dp = np.array(\n",
    "    sim_empty_data[\"power\"].flux\n",
    ")  # total radiated power of the point dipole\n",
    "P_dp = (\n",
    "    1e12\n",
    "    * sim_empty_data[\"n2f_monitor\"].power.sel(f=freq0, phi=0, method=\"nearest\").values\n",
    ")  # angular radiated power of the point dipole\n",
    "P_dp = np.squeeze(P_dp)\n",
    "D_dp = 4 * np.pi * P_dp / P0_dp  # directivity of the point dipole\n",
    "\n",
    "# comparison of the directivity\n",
    "fig, ax = plt.subplots(subplot_kw={\"projection\": \"polar\"})\n",
    "ax.set_theta_direction(-1)\n",
    "ax.set_theta_offset(np.pi / 2.0)\n",
    "ax.plot(theta_array, D, theta_array, D_dp)\n",
    "ax.set_rlim(0, 8)\n",
    "ax.set_title(\"Directivity\")\n",
    "ax.legend((\"Yagi-Uda antenna\", \"Dipole\"));\n"
   ]
  },
  {
   "cell_type": "markdown",
   "id": "4fef9a61",
   "metadata": {},
   "source": [
    "When studying antennas, very often we want to plot the full 3D radiation pattern. Here we show how to do so. This requires us to convert the spherical coordinates representation of the radiation pattern to Cartesian coordinates representation. "
   ]
  },
  {
   "cell_type": "code",
   "execution_count": 9,
   "id": "c1d1e015",
   "metadata": {
    "execution": {
     "iopub.execute_input": "2023-02-03T05:30:01.876623Z",
     "iopub.status.busy": "2023-02-03T05:30:01.876502Z",
     "iopub.status.idle": "2023-02-03T05:30:03.438424Z",
     "shell.execute_reply": "2023-02-03T05:30:03.438111Z"
    }
   },
   "outputs": [
    {
     "data": {
      "image/png": "[encoded data removed]",
      "text/plain": [
       "<Figure size 640x480 with 1 Axes>"
      ]
     },
     "metadata": {},
     "output_type": "display_data"
    }
   ],
   "source": [
    "P = 1e12 * sim_data[\"n2f_monitor\"].power.sel(f=freq0).values  # angular radiated power\n",
    "D = 4 * np.pi * np.squeeze(P) / P0  # directivity\n",
    "\n",
    "# convert the spherical coordinates representation to cartesian coordinates\n",
    "phi, theta = np.meshgrid(phi_array, theta_array)\n",
    "X = D * np.cos(phi) * np.sin(theta)\n",
    "Y = D * np.sin(phi) * np.sin(theta)\n",
    "Z = D * np.cos(theta)\n",
    "\n",
    "R = np.sqrt(\n",
    "    X**2 + Y**2 + Z**2\n",
    ")  # distance to the center will be used to plot the color on top of the radiation pattern\n",
    "R = R / np.max(R)  # normalize it to 1\n",
    "\n",
    "color = plt.cm.jet(R)  # define colormap using the distance\n",
    "\n",
    "# plotting the radiation pattern in 3d\n",
    "fig = plt.figure()\n",
    "ax = fig.add_subplot(1, 1, 1, projection=\"3d\")\n",
    "ax.set_xlim((-2, 8))\n",
    "ax.set_ylim((-5, 5))\n",
    "ax.set_zlim((-5, 5))\n",
    "ax.set_xlabel(\"X\")\n",
    "ax.set_ylabel(\"Y\")\n",
    "ax.set_zlabel(\"Z\")\n",
    "surf = ax.plot_surface(\n",
    "    X, Y, Z, cstride=1, rstride=1, facecolors=color, antialiased=True, shade=False\n",
    ")\n"
   ]
  },
  {
   "cell_type": "markdown",
   "id": "62475fa2",
   "metadata": {},
   "source": [
    "## Alternative Approach: Extending the Simulation Domain into the Far-Field Zone"
   ]
  },
  {
   "cell_type": "markdown",
   "id": "9e95638d",
   "metadata": {},
   "source": [
    "Performing the near field to far field transformation using the [FieldProjectionAngleMonitor](../_autosummary/tidy3d.FieldProjectionAngleMonitor.html) is a great way to reduce the computational cost by limiting the simulation domain only to the vicinity of the antenna. However, there are certain limitations. For example, the transformation assumes a homogenous background medium. In practice, we often encounter inhomogeneous background such as when the antenna is placed on a dielectric substrate. \n",
    "\n",
    "Alternative to using the near field to far field transformation to obtain the far-field quantities, we can simply extend the simulation domain sufficiently far into the far-field zone. Here we harness the power of the highly optimized Tidy3D solver such that the simulation is still fast even when the domain size is large.\n",
    "\n",
    "Next, we demonstrate this alternative approach and compare the result to the previous simulation to verify the accuracy."
   ]
  },
  {
   "cell_type": "code",
   "execution_count": 10,
   "id": "89dad19a",
   "metadata": {
    "execution": {
     "iopub.execute_input": "2023-02-03T05:30:03.440115Z",
     "iopub.status.busy": "2023-02-03T05:30:03.439992Z",
     "iopub.status.idle": "2023-02-03T05:30:03.586315Z",
     "shell.execute_reply": "2023-02-03T05:30:03.586042Z"
    }
   },
   "outputs": [
    {
     "data": {
      "image/png": "[encoded data removed]",
      "text/plain": [
       "<Figure size 640x480 with 1 Axes>"
      ]
     },
     "metadata": {},
     "output_type": "display_data"
    }
   ],
   "source": [
    "# compared to the previous simulation, this simulation uses a much larger simulation domain size\n",
    "Lx = 15 * lda0\n",
    "Ly = 2 * lda0\n",
    "Lz = 15 * lda0\n",
    "sim_size = (Lx, Ly, Lz)\n",
    "\n",
    "# add a point dipole source\n",
    "pulse = td.GaussianPulse(freq0=freq0, fwidth=freq0 / 20)\n",
    "pt_dipole = td.PointDipole(\n",
    "    center=(0, L_f / 2 + d_dp, 0), source_time=pulse, polarization=\"Ey\"\n",
    ")\n",
    "\n",
    "# add a flux monitor to compute the total radiated power\n",
    "flux_monitor = td.FluxMonitor(\n",
    "    center=(0, 0, 0),\n",
    "    size=(Lx * 0.9, Ly * 0.9, Lz * 0.9),\n",
    "    freqs=[freq0],\n",
    "    name=\"power\",\n",
    ")\n",
    "\n",
    "# add a field monitor to compute the field far away from the antenna to calculate the directivity\n",
    "field_monitor = td.FieldMonitor(\n",
    "    center=(0, 0, 0),\n",
    "    size=(td.inf, 0, td.inf),\n",
    "    freqs=[freq0],\n",
    "    name=\"field\",\n",
    ")\n",
    "\n",
    "# create the simulation with the above defined elements\n",
    "sim = td.Simulation(\n",
    "    center=(0, 0, 0),\n",
    "    size=sim_size,\n",
    "    grid_spec=td.GridSpec.auto(min_steps_per_wvl=40, wavelength=lda0),\n",
    "    structures=antenna,\n",
    "    sources=[pt_dipole],\n",
    "    monitors=[flux_monitor, field_monitor],\n",
    "    run_time=1e-13,\n",
    "    boundary_spec=td.BoundarySpec.all_sides(boundary=td.PML()),\n",
    ")\n",
    "\n",
    "# visualize the simulation setup\n",
    "sim.plot(z=0);\n"
   ]
  },
  {
   "cell_type": "markdown",
   "id": "df2c4a9d",
   "metadata": {},
   "source": [
    "Submit the simulation to the server."
   ]
  },
  {
   "cell_type": "code",
   "execution_count": 11,
   "id": "7ce54de3",
   "metadata": {
    "execution": {
     "iopub.execute_input": "2023-02-03T05:30:03.587823Z",
     "iopub.status.busy": "2023-02-03T05:30:03.587714Z",
     "iopub.status.idle": "2023-02-03T05:31:31.888432Z",
     "shell.execute_reply": "2023-02-03T05:31:31.887979Z"
    }
   },
   "outputs": [
    {
     "data": {
      "text/html": [
       "<pre style=\"white-space:pre;overflow-x:auto;line-height:normal;font-family:Menlo,'DejaVu Sans Mono',consolas,'Courier New',monospace\"><span style=\"color: #7fbfbf; text-decoration-color: #7fbfbf\">[18:07:04] </span><span style=\"color: #000080; text-decoration-color: #000080\">INFO    </span> Created task <span style=\"color: #008000; text-decoration-color: #008000\">'plasmonic_yagi_uda'</span> with task_id                                    <a href=\"file://C:\\Users\\xinzhong\\anaconda3\\envs\\tidy3d_env\\lib\\site-packages\\tidy3d\\web\\webapi.py\" target=\"_blank\"><span style=\"color: #7f7f7f; text-decoration-color: #7f7f7f\">webapi.py</span></a><span style=\"color: #7f7f7f; text-decoration-color: #7f7f7f\">:</span><a href=\"file://C:\\Users\\xinzhong\\anaconda3\\envs\\tidy3d_env\\lib\\site-packages\\tidy3d\\web\\webapi.py#120\" target=\"_blank\"><span style=\"color: #7f7f7f; text-decoration-color: #7f7f7f\">120</span></a>\n",
       "<span style=\"color: #7fbfbf; text-decoration-color: #7fbfbf\">           </span>         <span style=\"color: #008000; text-decoration-color: #008000\">'7c4c4b3d-5497-43f6-8cb1-8bd7b104af88'</span>.                                           <span style=\"color: #7f7f7f; text-decoration-color: #7f7f7f\">             </span>\n",
       "</pre>\n"
      ],
      "text/plain": [
       "\u001b[2;36m[18:07:04]\u001b[0m\u001b[2;36m \u001b[0m\u001b[34mINFO    \u001b[0m Created task \u001b[32m'plasmonic_yagi_uda'\u001b[0m with task_id                                    \u001b]8;id=151764;file://C:\\Users\\xinzhong\\anaconda3\\envs\\tidy3d_env\\lib\\site-packages\\tidy3d\\web\\webapi.py\u001b\\\u001b[2mwebapi.py\u001b[0m\u001b]8;;\u001b\\\u001b[2m:\u001b[0m\u001b]8;id=986578;file://C:\\Users\\xinzhong\\anaconda3\\envs\\tidy3d_env\\lib\\site-packages\\tidy3d\\web\\webapi.py#120\u001b\\\u001b[2m120\u001b[0m\u001b]8;;\u001b\\\n",
       "\u001b[2;36m           \u001b[0m         \u001b[32m'7c4c4b3d-5497-43f6-8cb1-8bd7b104af88'\u001b[0m.                                           \u001b[2m             \u001b[0m\n"
      ]
     },
     "metadata": {},
     "output_type": "display_data"
    },
    {
     "data": {
      "text/html": [
       "<pre style=\"white-space:pre;overflow-x:auto;line-height:normal;font-family:Menlo,'DejaVu Sans Mono',consolas,'Courier New',monospace\"></pre>\n"
      ],
      "text/plain": [
       "\u001b[?25l"
      ]
     },
     "metadata": {},
     "output_type": "display_data"
    },
    {
     "data": {
      "application/vnd.jupyter.widget-view+json": {
       "model_id": "04e570b4e674458a99b0b05fc74faba7",
       "version_major": 2,
       "version_minor": 0
      },
      "text/plain": [
       "Output()"
      ]
     },
     "metadata": {},
     "output_type": "display_data"
    },
    {
     "data": {
      "text/html": [
       "<pre style=\"white-space:pre;overflow-x:auto;line-height:normal;font-family:Menlo,'DejaVu Sans Mono',consolas,'Courier New',monospace\">\n",
       "</pre>\n"
      ],
      "text/plain": [
       "\n",
       "\u001b[?25h"
      ]
     },
     "metadata": {},
     "output_type": "display_data"
    },
    {
     "data": {
      "text/html": [
       "<pre style=\"white-space:pre;overflow-x:auto;line-height:normal;font-family:Menlo,'DejaVu Sans Mono',consolas,'Courier New',monospace\"><span style=\"color: #7fbfbf; text-decoration-color: #7fbfbf\">[18:07:06] </span><span style=\"color: #000080; text-decoration-color: #000080\">INFO    </span> Maximum FlexUnit cost: <span style=\"color: #008080; text-decoration-color: #008080; font-weight: bold\">0.746</span>                                                      <a href=\"file://C:\\Users\\xinzhong\\anaconda3\\envs\\tidy3d_env\\lib\\site-packages\\tidy3d\\web\\webapi.py\" target=\"_blank\"><span style=\"color: #7f7f7f; text-decoration-color: #7f7f7f\">webapi.py</span></a><span style=\"color: #7f7f7f; text-decoration-color: #7f7f7f\">:</span><a href=\"file://C:\\Users\\xinzhong\\anaconda3\\envs\\tidy3d_env\\lib\\site-packages\\tidy3d\\web\\webapi.py#252\" target=\"_blank\"><span style=\"color: #7f7f7f; text-decoration-color: #7f7f7f\">252</span></a>\n",
       "</pre>\n"
      ],
      "text/plain": [
       "\u001b[2;36m[18:07:06]\u001b[0m\u001b[2;36m \u001b[0m\u001b[34mINFO    \u001b[0m Maximum FlexUnit cost: \u001b[1;36m0.746\u001b[0m                                                      \u001b]8;id=751325;file://C:\\Users\\xinzhong\\anaconda3\\envs\\tidy3d_env\\lib\\site-packages\\tidy3d\\web\\webapi.py\u001b\\\u001b[2mwebapi.py\u001b[0m\u001b]8;;\u001b\\\u001b[2m:\u001b[0m\u001b]8;id=909223;file://C:\\Users\\xinzhong\\anaconda3\\envs\\tidy3d_env\\lib\\site-packages\\tidy3d\\web\\webapi.py#252\u001b\\\u001b[2m252\u001b[0m\u001b]8;;\u001b\\\n"
      ]
     },
     "metadata": {},
     "output_type": "display_data"
    },
    {
     "data": {
      "text/html": [
       "<pre style=\"white-space:pre;overflow-x:auto;line-height:normal;font-family:Menlo,'DejaVu Sans Mono',consolas,'Courier New',monospace\"><span style=\"color: #7fbfbf; text-decoration-color: #7fbfbf\">           </span><span style=\"color: #000080; text-decoration-color: #000080\">INFO    </span> status = queued                                                                   <a href=\"file://C:\\Users\\xinzhong\\anaconda3\\envs\\tidy3d_env\\lib\\site-packages\\tidy3d\\web\\webapi.py\" target=\"_blank\"><span style=\"color: #7f7f7f; text-decoration-color: #7f7f7f\">webapi.py</span></a><span style=\"color: #7f7f7f; text-decoration-color: #7f7f7f\">:</span><a href=\"file://C:\\Users\\xinzhong\\anaconda3\\envs\\tidy3d_env\\lib\\site-packages\\tidy3d\\web\\webapi.py#261\" target=\"_blank\"><span style=\"color: #7f7f7f; text-decoration-color: #7f7f7f\">261</span></a>\n",
       "</pre>\n"
      ],
      "text/plain": [
       "\u001b[2;36m          \u001b[0m\u001b[2;36m \u001b[0m\u001b[34mINFO    \u001b[0m status = queued                                                                   \u001b]8;id=534416;file://C:\\Users\\xinzhong\\anaconda3\\envs\\tidy3d_env\\lib\\site-packages\\tidy3d\\web\\webapi.py\u001b\\\u001b[2mwebapi.py\u001b[0m\u001b]8;;\u001b\\\u001b[2m:\u001b[0m\u001b]8;id=196357;file://C:\\Users\\xinzhong\\anaconda3\\envs\\tidy3d_env\\lib\\site-packages\\tidy3d\\web\\webapi.py#261\u001b\\\u001b[2m261\u001b[0m\u001b]8;;\u001b\\\n"
      ]
     },
     "metadata": {},
     "output_type": "display_data"
    },
    {
     "data": {
      "text/html": [
       "<pre style=\"white-space:pre;overflow-x:auto;line-height:normal;font-family:Menlo,'DejaVu Sans Mono',consolas,'Courier New',monospace\"></pre>\n"
      ],
      "text/plain": [
       "\u001b[?25l"
      ]
     },
     "metadata": {},
     "output_type": "display_data"
    },
    {
     "data": {
      "application/vnd.jupyter.widget-view+json": {
       "model_id": "",
       "version_major": 2,
       "version_minor": 0
      },
      "text/plain": [
       "Output()"
      ]
     },
     "metadata": {},
     "output_type": "display_data"
    },
    {
     "data": {
      "text/html": [
       "<pre style=\"white-space:pre;overflow-x:auto;line-height:normal;font-family:Menlo,'DejaVu Sans Mono',consolas,'Courier New',monospace\"><span style=\"color: #7fbfbf; text-decoration-color: #7fbfbf\">[18:07:08] </span><span style=\"color: #000080; text-decoration-color: #000080\">INFO    </span> status = preprocess                                                               <a href=\"file://C:\\Users\\xinzhong\\anaconda3\\envs\\tidy3d_env\\lib\\site-packages\\tidy3d\\web\\webapi.py\" target=\"_blank\"><span style=\"color: #7f7f7f; text-decoration-color: #7f7f7f\">webapi.py</span></a><span style=\"color: #7f7f7f; text-decoration-color: #7f7f7f\">:</span><a href=\"file://C:\\Users\\xinzhong\\anaconda3\\envs\\tidy3d_env\\lib\\site-packages\\tidy3d\\web\\webapi.py#273\" target=\"_blank\"><span style=\"color: #7f7f7f; text-decoration-color: #7f7f7f\">273</span></a>\n",
       "</pre>\n"
      ],
      "text/plain": [
       "\u001b[2;36m[18:07:08]\u001b[0m\u001b[2;36m \u001b[0m\u001b[34mINFO    \u001b[0m status = preprocess                                                               \u001b]8;id=99414;file://C:\\Users\\xinzhong\\anaconda3\\envs\\tidy3d_env\\lib\\site-packages\\tidy3d\\web\\webapi.py\u001b\\\u001b[2mwebapi.py\u001b[0m\u001b]8;;\u001b\\\u001b[2m:\u001b[0m\u001b]8;id=205001;file://C:\\Users\\xinzhong\\anaconda3\\envs\\tidy3d_env\\lib\\site-packages\\tidy3d\\web\\webapi.py#273\u001b\\\u001b[2m273\u001b[0m\u001b]8;;\u001b\\\n"
      ]
     },
     "metadata": {},
     "output_type": "display_data"
    },
    {
     "data": {
      "text/html": [
       "<pre style=\"white-space:pre;overflow-x:auto;line-height:normal;font-family:Menlo,'DejaVu Sans Mono',consolas,'Courier New',monospace\">\n",
       "</pre>\n"
      ],
      "text/plain": [
       "\n",
       "\u001b[?25h\r",
       "\u001b[1A\u001b[2K"
      ]
     },
     "metadata": {},
     "output_type": "display_data"
    },
    {
     "data": {
      "text/html": [
       "<pre style=\"white-space:pre;overflow-x:auto;line-height:normal;font-family:Menlo,'DejaVu Sans Mono',consolas,'Courier New',monospace\"><span style=\"color: #7fbfbf; text-decoration-color: #7fbfbf\">[18:07:14] </span><span style=\"color: #000080; text-decoration-color: #000080\">INFO    </span> starting up solver                                                                <a href=\"file://C:\\Users\\xinzhong\\anaconda3\\envs\\tidy3d_env\\lib\\site-packages\\tidy3d\\web\\webapi.py\" target=\"_blank\"><span style=\"color: #7f7f7f; text-decoration-color: #7f7f7f\">webapi.py</span></a><span style=\"color: #7f7f7f; text-decoration-color: #7f7f7f\">:</span><a href=\"file://C:\\Users\\xinzhong\\anaconda3\\envs\\tidy3d_env\\lib\\site-packages\\tidy3d\\web\\webapi.py#277\" target=\"_blank\"><span style=\"color: #7f7f7f; text-decoration-color: #7f7f7f\">277</span></a>\n",
       "</pre>\n"
      ],
      "text/plain": [
       "\u001b[2;36m[18:07:14]\u001b[0m\u001b[2;36m \u001b[0m\u001b[34mINFO    \u001b[0m starting up solver                                                                \u001b]8;id=421446;file://C:\\Users\\xinzhong\\anaconda3\\envs\\tidy3d_env\\lib\\site-packages\\tidy3d\\web\\webapi.py\u001b\\\u001b[2mwebapi.py\u001b[0m\u001b]8;;\u001b\\\u001b[2m:\u001b[0m\u001b]8;id=687489;file://C:\\Users\\xinzhong\\anaconda3\\envs\\tidy3d_env\\lib\\site-packages\\tidy3d\\web\\webapi.py#277\u001b\\\u001b[2m277\u001b[0m\u001b]8;;\u001b\\\n"
      ]
     },
     "metadata": {},
     "output_type": "display_data"
    },
    {
     "data": {
      "text/html": [
       "<pre style=\"white-space:pre;overflow-x:auto;line-height:normal;font-family:Menlo,'DejaVu Sans Mono',consolas,'Courier New',monospace\"><span style=\"color: #7fbfbf; text-decoration-color: #7fbfbf\">[18:07:25] </span><span style=\"color: #000080; text-decoration-color: #000080\">INFO    </span> running solver                                                                    <a href=\"file://C:\\Users\\xinzhong\\anaconda3\\envs\\tidy3d_env\\lib\\site-packages\\tidy3d\\web\\webapi.py\" target=\"_blank\"><span style=\"color: #7f7f7f; text-decoration-color: #7f7f7f\">webapi.py</span></a><span style=\"color: #7f7f7f; text-decoration-color: #7f7f7f\">:</span><a href=\"file://C:\\Users\\xinzhong\\anaconda3\\envs\\tidy3d_env\\lib\\site-packages\\tidy3d\\web\\webapi.py#283\" target=\"_blank\"><span style=\"color: #7f7f7f; text-decoration-color: #7f7f7f\">283</span></a>\n",
       "</pre>\n"
      ],
      "text/plain": [
       "\u001b[2;36m[18:07:25]\u001b[0m\u001b[2;36m \u001b[0m\u001b[34mINFO    \u001b[0m running solver                                                                    \u001b]8;id=429608;file://C:\\Users\\xinzhong\\anaconda3\\envs\\tidy3d_env\\lib\\site-packages\\tidy3d\\web\\webapi.py\u001b\\\u001b[2mwebapi.py\u001b[0m\u001b]8;;\u001b\\\u001b[2m:\u001b[0m\u001b]8;id=945990;file://C:\\Users\\xinzhong\\anaconda3\\envs\\tidy3d_env\\lib\\site-packages\\tidy3d\\web\\webapi.py#283\u001b\\\u001b[2m283\u001b[0m\u001b]8;;\u001b\\\n"
      ]
     },
     "metadata": {},
     "output_type": "display_data"
    },
    {
     "data": {
      "text/html": [
       "<pre style=\"white-space:pre;overflow-x:auto;line-height:normal;font-family:Menlo,'DejaVu Sans Mono',consolas,'Courier New',monospace\"></pre>\n"
      ],
      "text/plain": [
       "\u001b[?25l"
      ]
     },
     "metadata": {},
     "output_type": "display_data"
    },
    {
     "data": {
      "application/vnd.jupyter.widget-view+json": {
       "model_id": "68923741000b48aabad67022fc8a2f9e",
       "version_major": 2,
       "version_minor": 0
      },
      "text/plain": [
       "Output()"
      ]
     },
     "metadata": {},
     "output_type": "display_data"
    },
    {
     "data": {
      "text/html": [
       "<pre style=\"white-space:pre;overflow-x:auto;line-height:normal;font-family:Menlo,'DejaVu Sans Mono',consolas,'Courier New',monospace\"><span style=\"color: #7fbfbf; text-decoration-color: #7fbfbf\">[18:08:39] </span><span style=\"color: #000080; text-decoration-color: #000080\">INFO    </span> early shutoff detected, exiting.                                                  <a href=\"file://C:\\Users\\xinzhong\\anaconda3\\envs\\tidy3d_env\\lib\\site-packages\\tidy3d\\web\\webapi.py\" target=\"_blank\"><span style=\"color: #7f7f7f; text-decoration-color: #7f7f7f\">webapi.py</span></a><span style=\"color: #7f7f7f; text-decoration-color: #7f7f7f\">:</span><a href=\"file://C:\\Users\\xinzhong\\anaconda3\\envs\\tidy3d_env\\lib\\site-packages\\tidy3d\\web\\webapi.py#294\" target=\"_blank\"><span style=\"color: #7f7f7f; text-decoration-color: #7f7f7f\">294</span></a>\n",
       "</pre>\n"
      ],
      "text/plain": [
       "\u001b[2;36m[18:08:39]\u001b[0m\u001b[2;36m \u001b[0m\u001b[34mINFO    \u001b[0m early shutoff detected, exiting.                                                  \u001b]8;id=56813;file://C:\\Users\\xinzhong\\anaconda3\\envs\\tidy3d_env\\lib\\site-packages\\tidy3d\\web\\webapi.py\u001b\\\u001b[2mwebapi.py\u001b[0m\u001b]8;;\u001b\\\u001b[2m:\u001b[0m\u001b]8;id=215736;file://C:\\Users\\xinzhong\\anaconda3\\envs\\tidy3d_env\\lib\\site-packages\\tidy3d\\web\\webapi.py#294\u001b\\\u001b[2m294\u001b[0m\u001b]8;;\u001b\\\n"
      ]
     },
     "metadata": {},
     "output_type": "display_data"
    },
    {
     "data": {
      "text/html": [
       "<pre style=\"white-space:pre;overflow-x:auto;line-height:normal;font-family:Menlo,'DejaVu Sans Mono',consolas,'Courier New',monospace\">\n",
       "</pre>\n"
      ],
      "text/plain": [
       "\n",
       "\u001b[?25h"
      ]
     },
     "metadata": {},
     "output_type": "display_data"
    },
    {
     "data": {
      "text/html": [
       "<pre style=\"white-space:pre;overflow-x:auto;line-height:normal;font-family:Menlo,'DejaVu Sans Mono',consolas,'Courier New',monospace\"><span style=\"color: #7fbfbf; text-decoration-color: #7fbfbf\">           </span><span style=\"color: #000080; text-decoration-color: #000080\">INFO    </span> status = postprocess                                                              <a href=\"file://C:\\Users\\xinzhong\\anaconda3\\envs\\tidy3d_env\\lib\\site-packages\\tidy3d\\web\\webapi.py\" target=\"_blank\"><span style=\"color: #7f7f7f; text-decoration-color: #7f7f7f\">webapi.py</span></a><span style=\"color: #7f7f7f; text-decoration-color: #7f7f7f\">:</span><a href=\"file://C:\\Users\\xinzhong\\anaconda3\\envs\\tidy3d_env\\lib\\site-packages\\tidy3d\\web\\webapi.py#300\" target=\"_blank\"><span style=\"color: #7f7f7f; text-decoration-color: #7f7f7f\">300</span></a>\n",
       "</pre>\n"
      ],
      "text/plain": [
       "\u001b[2;36m          \u001b[0m\u001b[2;36m \u001b[0m\u001b[34mINFO    \u001b[0m status = postprocess                                                              \u001b]8;id=217105;file://C:\\Users\\xinzhong\\anaconda3\\envs\\tidy3d_env\\lib\\site-packages\\tidy3d\\web\\webapi.py\u001b\\\u001b[2mwebapi.py\u001b[0m\u001b]8;;\u001b\\\u001b[2m:\u001b[0m\u001b]8;id=870000;file://C:\\Users\\xinzhong\\anaconda3\\envs\\tidy3d_env\\lib\\site-packages\\tidy3d\\web\\webapi.py#300\u001b\\\u001b[2m300\u001b[0m\u001b]8;;\u001b\\\n"
      ]
     },
     "metadata": {},
     "output_type": "display_data"
    },
    {
     "data": {
      "text/html": [
       "<pre style=\"white-space:pre;overflow-x:auto;line-height:normal;font-family:Menlo,'DejaVu Sans Mono',consolas,'Courier New',monospace\"></pre>\n"
      ],
      "text/plain": [
       "\u001b[?25l"
      ]
     },
     "metadata": {},
     "output_type": "display_data"
    },
    {
     "data": {
      "application/vnd.jupyter.widget-view+json": {
       "model_id": "",
       "version_major": 2,
       "version_minor": 0
      },
      "text/plain": [
       "Output()"
      ]
     },
     "metadata": {},
     "output_type": "display_data"
    },
    {
     "data": {
      "text/html": [
       "<pre style=\"white-space:pre;overflow-x:auto;line-height:normal;font-family:Menlo,'DejaVu Sans Mono',consolas,'Courier New',monospace\"><span style=\"color: #7fbfbf; text-decoration-color: #7fbfbf\">[18:08:51] </span><span style=\"color: #000080; text-decoration-color: #000080\">INFO    </span> status = success                                                                  <a href=\"file://C:\\Users\\xinzhong\\anaconda3\\envs\\tidy3d_env\\lib\\site-packages\\tidy3d\\web\\webapi.py\" target=\"_blank\"><span style=\"color: #7f7f7f; text-decoration-color: #7f7f7f\">webapi.py</span></a><span style=\"color: #7f7f7f; text-decoration-color: #7f7f7f\">:</span><a href=\"file://C:\\Users\\xinzhong\\anaconda3\\envs\\tidy3d_env\\lib\\site-packages\\tidy3d\\web\\webapi.py#306\" target=\"_blank\"><span style=\"color: #7f7f7f; text-decoration-color: #7f7f7f\">306</span></a>\n",
       "</pre>\n"
      ],
      "text/plain": [
       "\u001b[2;36m[18:08:51]\u001b[0m\u001b[2;36m \u001b[0m\u001b[34mINFO    \u001b[0m status = success                                                                  \u001b]8;id=676136;file://C:\\Users\\xinzhong\\anaconda3\\envs\\tidy3d_env\\lib\\site-packages\\tidy3d\\web\\webapi.py\u001b\\\u001b[2mwebapi.py\u001b[0m\u001b]8;;\u001b\\\u001b[2m:\u001b[0m\u001b]8;id=473546;file://C:\\Users\\xinzhong\\anaconda3\\envs\\tidy3d_env\\lib\\site-packages\\tidy3d\\web\\webapi.py#306\u001b\\\u001b[2m306\u001b[0m\u001b]8;;\u001b\\\n"
      ]
     },
     "metadata": {},
     "output_type": "display_data"
    },
    {
     "data": {
      "text/html": [
       "<pre style=\"white-space:pre;overflow-x:auto;line-height:normal;font-family:Menlo,'DejaVu Sans Mono',consolas,'Courier New',monospace\">\n",
       "</pre>\n"
      ],
      "text/plain": [
       "\n",
       "\u001b[?25h\r",
       "\u001b[1A\u001b[2K"
      ]
     },
     "metadata": {},
     "output_type": "display_data"
    },
    {
     "data": {
      "text/html": [
       "<pre style=\"white-space:pre;overflow-x:auto;line-height:normal;font-family:Menlo,'DejaVu Sans Mono',consolas,'Courier New',monospace\"><span style=\"color: #7fbfbf; text-decoration-color: #7fbfbf\">           </span><span style=\"color: #000080; text-decoration-color: #000080\">INFO    </span> Billed FlexUnit cost: <span style=\"color: #008080; text-decoration-color: #008080; font-weight: bold\">0.478</span>                                                       <a href=\"file://C:\\Users\\xinzhong\\anaconda3\\envs\\tidy3d_env\\lib\\site-packages\\tidy3d\\web\\webapi.py\" target=\"_blank\"><span style=\"color: #7f7f7f; text-decoration-color: #7f7f7f\">webapi.py</span></a><span style=\"color: #7f7f7f; text-decoration-color: #7f7f7f\">:</span><a href=\"file://C:\\Users\\xinzhong\\anaconda3\\envs\\tidy3d_env\\lib\\site-packages\\tidy3d\\web\\webapi.py#310\" target=\"_blank\"><span style=\"color: #7f7f7f; text-decoration-color: #7f7f7f\">310</span></a>\n",
       "</pre>\n"
      ],
      "text/plain": [
       "\u001b[2;36m          \u001b[0m\u001b[2;36m \u001b[0m\u001b[34mINFO    \u001b[0m Billed FlexUnit cost: \u001b[1;36m0.478\u001b[0m                                                       \u001b]8;id=104661;file://C:\\Users\\xinzhong\\anaconda3\\envs\\tidy3d_env\\lib\\site-packages\\tidy3d\\web\\webapi.py\u001b\\\u001b[2mwebapi.py\u001b[0m\u001b]8;;\u001b\\\u001b[2m:\u001b[0m\u001b]8;id=163028;file://C:\\Users\\xinzhong\\anaconda3\\envs\\tidy3d_env\\lib\\site-packages\\tidy3d\\web\\webapi.py#310\u001b\\\u001b[2m310\u001b[0m\u001b]8;;\u001b\\\n"
      ]
     },
     "metadata": {},
     "output_type": "display_data"
    },
    {
     "data": {
      "text/html": [
       "<pre style=\"white-space:pre;overflow-x:auto;line-height:normal;font-family:Menlo,'DejaVu Sans Mono',consolas,'Courier New',monospace\"><span style=\"color: #7fbfbf; text-decoration-color: #7fbfbf\">           </span><span style=\"color: #000080; text-decoration-color: #000080\">INFO    </span> downloading file <span style=\"color: #008000; text-decoration-color: #008000\">\"output/monitor_data.hdf5\"</span> to <span style=\"color: #008000; text-decoration-color: #008000\">\"data/optical_yagi_uda.hdf5\"</span>       <a href=\"file://C:\\Users\\xinzhong\\anaconda3\\envs\\tidy3d_env\\lib\\site-packages\\tidy3d\\web\\webapi.py\" target=\"_blank\"><span style=\"color: #7f7f7f; text-decoration-color: #7f7f7f\">webapi.py</span></a><span style=\"color: #7f7f7f; text-decoration-color: #7f7f7f\">:</span><a href=\"file://C:\\Users\\xinzhong\\anaconda3\\envs\\tidy3d_env\\lib\\site-packages\\tidy3d\\web\\webapi.py#592\" target=\"_blank\"><span style=\"color: #7f7f7f; text-decoration-color: #7f7f7f\">592</span></a>\n",
       "</pre>\n"
      ],
      "text/plain": [
       "\u001b[2;36m          \u001b[0m\u001b[2;36m \u001b[0m\u001b[34mINFO    \u001b[0m downloading file \u001b[32m\"output/monitor_data.hdf5\"\u001b[0m to \u001b[32m\"data/optical_yagi_uda.hdf5\"\u001b[0m       \u001b]8;id=479215;file://C:\\Users\\xinzhong\\anaconda3\\envs\\tidy3d_env\\lib\\site-packages\\tidy3d\\web\\webapi.py\u001b\\\u001b[2mwebapi.py\u001b[0m\u001b]8;;\u001b\\\u001b[2m:\u001b[0m\u001b]8;id=46588;file://C:\\Users\\xinzhong\\anaconda3\\envs\\tidy3d_env\\lib\\site-packages\\tidy3d\\web\\webapi.py#592\u001b\\\u001b[2m592\u001b[0m\u001b]8;;\u001b\\\n"
      ]
     },
     "metadata": {},
     "output_type": "display_data"
    },
    {
     "data": {
      "text/html": [
       "<pre style=\"white-space:pre;overflow-x:auto;line-height:normal;font-family:Menlo,'DejaVu Sans Mono',consolas,'Courier New',monospace\"></pre>\n"
      ],
      "text/plain": [
       "\u001b[?25l"
      ]
     },
     "metadata": {},
     "output_type": "display_data"
    },
    {
     "data": {
      "application/vnd.jupyter.widget-view+json": {
       "model_id": "8120bbd397df4aacbf68777d7224f088",
       "version_major": 2,
       "version_minor": 0
      },
      "text/plain": [
       "Output()"
      ]
     },
     "metadata": {},
     "output_type": "display_data"
    },
    {
     "data": {
      "text/html": [
       "<pre style=\"white-space:pre;overflow-x:auto;line-height:normal;font-family:Menlo,'DejaVu Sans Mono',consolas,'Courier New',monospace\">\n",
       "</pre>\n"
      ],
      "text/plain": [
       "\n",
       "\u001b[?25h"
      ]
     },
     "metadata": {},
     "output_type": "display_data"
    },
    {
     "data": {
      "text/html": [
       "<pre style=\"white-space:pre;overflow-x:auto;line-height:normal;font-family:Menlo,'DejaVu Sans Mono',consolas,'Courier New',monospace\"><span style=\"color: #7fbfbf; text-decoration-color: #7fbfbf\">[18:08:53] </span><span style=\"color: #000080; text-decoration-color: #000080\">INFO    </span> loading SimulationData from data/optical_yagi_uda.hdf5                            <a href=\"file://C:\\Users\\xinzhong\\anaconda3\\envs\\tidy3d_env\\lib\\site-packages\\tidy3d\\web\\webapi.py\" target=\"_blank\"><span style=\"color: #7f7f7f; text-decoration-color: #7f7f7f\">webapi.py</span></a><span style=\"color: #7f7f7f; text-decoration-color: #7f7f7f\">:</span><a href=\"file://C:\\Users\\xinzhong\\anaconda3\\envs\\tidy3d_env\\lib\\site-packages\\tidy3d\\web\\webapi.py#414\" target=\"_blank\"><span style=\"color: #7f7f7f; text-decoration-color: #7f7f7f\">414</span></a>\n",
       "</pre>\n"
      ],
      "text/plain": [
       "\u001b[2;36m[18:08:53]\u001b[0m\u001b[2;36m \u001b[0m\u001b[34mINFO    \u001b[0m loading SimulationData from data/optical_yagi_uda.hdf5                            \u001b]8;id=352790;file://C:\\Users\\xinzhong\\anaconda3\\envs\\tidy3d_env\\lib\\site-packages\\tidy3d\\web\\webapi.py\u001b\\\u001b[2mwebapi.py\u001b[0m\u001b]8;;\u001b\\\u001b[2m:\u001b[0m\u001b]8;id=220440;file://C:\\Users\\xinzhong\\anaconda3\\envs\\tidy3d_env\\lib\\site-packages\\tidy3d\\web\\webapi.py#414\u001b\\\u001b[2m414\u001b[0m\u001b]8;;\u001b\\\n"
      ]
     },
     "metadata": {},
     "output_type": "display_data"
    }
   ],
   "source": [
    "sim_data = web.run(\n",
    "    sim, task_name=\"plasmonic_yagi_uda\", path=\"data/optical_yagi_uda.hdf5\"\n",
    ")\n"
   ]
  },
  {
   "cell_type": "markdown",
   "id": "9fb88e64",
   "metadata": {},
   "source": [
    "In this simulation, the way to calculate the directivity is a little different. The simulation domain size is 15$\\lambda$. We can evaluate the radiated field at a circle 7$\\lambda$ away from the antenna. At this distance, the near field should completely decay away so the field is purely radiated field. Therefore, the power is directly given by\n",
    "\n",
    "<center>$P = \\frac{E^2}{2\\eta}$,</center>\n",
    "\n",
    "where $E$ is the peak-to-peak electric field strength and $\\eta=\\eta_0/n$ is the intrinsic impedance of the medium. $\\eta_0=377$ $\\Omega$ is the free space impedance and $n$ is the refractive index.\n",
    "\n",
    "As expected, the directivity pattern from this approach is practically identical to that from the near field to far field transformation, which verifies the validity of both methods."
   ]
  },
  {
   "cell_type": "code",
   "execution_count": 12,
   "id": "f5f98fd5",
   "metadata": {
    "execution": {
     "iopub.execute_input": "2023-02-03T05:31:32.727374Z",
     "iopub.status.busy": "2023-02-03T05:31:32.727307Z",
     "iopub.status.idle": "2023-02-03T05:31:36.525756Z",
     "shell.execute_reply": "2023-02-03T05:31:36.525497Z"
    }
   },
   "outputs": [
    {
     "data": {
      "image/png": "[encoded data removed]",
      "text/plain": [
       "<Figure size 640x480 with 1 Axes>"
      ]
     },
     "metadata": {},
     "output_type": "display_data"
    }
   ],
   "source": [
    "d = 7 * lda0  # distance at which the radiation pattern is evaluated\n",
    "Z0 = 377  # free space impedance\n",
    "P0 = np.array(sim_data[\"power\"].flux)  # total radiated power\n",
    "\n",
    "# evaluate the radiated power at 7*lda0 away from the antenna\n",
    "P = np.zeros(len(theta_array))\n",
    "for i, theta in enumerate(theta_array):\n",
    "    Ex = sim_data[\"field\"].Ex.sel(\n",
    "        x=d * np.sin(theta), z=d * np.cos(theta), method=\"nearest\"\n",
    "    )\n",
    "    Ey = sim_data[\"field\"].Ey.sel(\n",
    "        x=d * np.sin(theta), z=d * np.cos(theta), method=\"nearest\"\n",
    "    )\n",
    "    Ez = sim_data[\"field\"].Ez.sel(\n",
    "        x=d * np.sin(theta), z=d * np.cos(theta), method=\"nearest\"\n",
    "    )\n",
    "    P[i] = (\n",
    "        d**2 * (abs(Ex) ** 2 + abs(Ey) ** 2 + abs(Ez) ** 2) / (2 * Z0)\n",
    "    )  # we multiple the power by d^2 to normalize it to the power at unit distance\n",
    "D = 4 * np.pi * P / P0  # directivity of the yagi-uda antenna\n",
    "\n",
    "fig, ax = plt.subplots(subplot_kw={\"projection\": \"polar\"})\n",
    "ax.set_theta_direction(-1)\n",
    "ax.set_theta_offset(np.pi / 2.0)\n",
    "ax.plot(theta_array, D)\n",
    "ax.set_rlim(0, 8)\n",
    "ax.set_title(\"Directivity\");\n"
   ]
  },
  {
   "cell_type": "markdown",
   "id": "dd2e1744",
   "metadata": {},
   "source": [
    "## Modeling Antenna on Substrate "
   ]
  },
  {
   "cell_type": "markdown",
   "id": "c1b0f582",
   "metadata": {},
   "source": [
    "The approach of extending the simulation domain directly into the far-field zone really shows the benefit when the background medium is not uniform. Here we investigate such a case where a Yagi-Uda is placed on a glass substrate. It was predicted in the referenced paper that a lossless Yagi-Uda antenna on a glass substrate can achieve a directivity above 20, much higher than suspended in free space. \n",
    "\n",
    "For the lossless antenna, we will use PEC as the medium for the antenna structure. To make sure the mesh around the PEC domains is not excessively fine, we will utilize a mesh override structure and set the refractive index to 10. \n",
    "\n",
    "<img src=\"img/yagi_uda_antenna_schematic_2.png\" width=\"500\">"
   ]
  },
  {
   "cell_type": "code",
   "execution_count": 13,
   "id": "d40ee38b",
   "metadata": {
    "execution": {
     "iopub.execute_input": "2023-02-03T05:31:36.527360Z",
     "iopub.status.busy": "2023-02-03T05:31:36.527257Z",
     "iopub.status.idle": "2023-02-03T05:31:36.530541Z",
     "shell.execute_reply": "2023-02-03T05:31:36.530290Z"
    }
   },
   "outputs": [],
   "source": [
    "pec = td.PECMedium()  # pec medium\n",
    "\n",
    "n_glass = 1.5  # glass has a refractive index of 1.5\n",
    "glass = td.Medium(permittivity=n_glass**2)\n",
    "\n",
    "L_f = 0.187  # length of the feed element\n",
    "antenna_pec = construct_antenna(\n",
    "    L_f, r, lda0, pec\n",
    ")  # construct the lossless yagi-uda antenna with pec\n",
    "\n",
    "inf_eff = 100  # effective infinity\n",
    "# construct the substrate\n",
    "sub = td.Structure(\n",
    "    geometry=td.Box.from_bounds(\n",
    "        rmin=(-inf_eff, -inf_eff, -inf_eff), rmax=(inf_eff, inf_eff, -r)\n",
    "    ),\n",
    "    medium=glass,\n",
    ")\n",
    "\n",
    "# the whole structure is the antenna plus the substrate\n",
    "antenna_pec.append(sub)\n",
    "\n",
    "# to control the mesh around the antenna area, we construct a mesh override structure\n",
    "# refractive index of the override structure is set to 10 to ensure sufficiently but not excessively fine mesh\n",
    "refine_medium = td.Medium(permittivity=10**2)\n",
    "antenna_refine = construct_antenna(\n",
    "    L_f, r, lda0, refine_medium\n",
    ")  # construct the mesh override structure\n"
   ]
  },
  {
   "cell_type": "markdown",
   "id": "c3ae09b0",
   "metadata": {},
   "source": [
    "Construct the source, monitors, and simulation in a similar way to the previous simulation."
   ]
  },
  {
   "cell_type": "code",
   "execution_count": 14,
   "id": "f9960aea",
   "metadata": {
    "execution": {
     "iopub.execute_input": "2023-02-03T05:31:36.531871Z",
     "iopub.status.busy": "2023-02-03T05:31:36.531793Z",
     "iopub.status.idle": "2023-02-03T05:31:36.650065Z",
     "shell.execute_reply": "2023-02-03T05:31:36.649828Z"
    }
   },
   "outputs": [
    {
     "data": {
      "image/png": "[encoded data removed]",
      "text/plain": [
       "<Figure size 640x480 with 1 Axes>"
      ]
     },
     "metadata": {},
     "output_type": "display_data"
    }
   ],
   "source": [
    "Lx = 15 * lda0\n",
    "Ly = 2 * lda0\n",
    "Lz = 15 * lda0\n",
    "sim_size = (Lx, Ly, Lz)\n",
    "\n",
    "pulse = td.GaussianPulse(freq0=freq0, fwidth=freq0 / 20)\n",
    "pt_dipole = td.PointDipole(\n",
    "    center=(0, L_f / 2 + d_dp, 0), source_time=pulse, polarization=\"Ey\"\n",
    ")\n",
    "\n",
    "flux_monitor = td.FluxMonitor(\n",
    "    center=(0, 0, 0),\n",
    "    size=(Lx * 0.9, Ly * 0.9, Lz * 0.9),\n",
    "    freqs=[freq0],\n",
    "    name=\"power\",\n",
    ")\n",
    "\n",
    "field_monitor = td.FieldMonitor(\n",
    "    center=(0, 0, 0),\n",
    "    size=(td.inf, 0, td.inf),\n",
    "    freqs=[freq0],\n",
    "    name=\"field\",\n",
    ")\n",
    "\n",
    "sim = td.Simulation(\n",
    "    center=(0, 0, 0),\n",
    "    size=sim_size,\n",
    "    grid_spec=td.GridSpec.auto(\n",
    "        min_steps_per_wvl=40, wavelength=lda0, override_structures=antenna_refine\n",
    "    ),\n",
    "    structures=antenna_pec,\n",
    "    sources=[pt_dipole],\n",
    "    monitors=[flux_monitor, field_monitor],\n",
    "    run_time=1e-13,\n",
    "    boundary_spec=td.BoundarySpec.all_sides(boundary=td.PML()),\n",
    ")\n",
    "\n",
    "sim.plot(y=0);\n"
   ]
  },
  {
   "cell_type": "markdown",
   "id": "28a1aafb",
   "metadata": {},
   "source": [
    "Submit the simulation to the server."
   ]
  },
  {
   "cell_type": "code",
   "execution_count": 15,
   "id": "632a8a6f",
   "metadata": {
    "execution": {
     "iopub.execute_input": "2023-02-03T05:31:36.651499Z",
     "iopub.status.busy": "2023-02-03T05:31:36.651399Z",
     "iopub.status.idle": "2023-02-03T05:35:34.213642Z",
     "shell.execute_reply": "2023-02-03T05:35:34.213228Z"
    }
   },
   "outputs": [
    {
     "data": {
      "text/html": [
       "<pre style=\"white-space:pre;overflow-x:auto;line-height:normal;font-family:Menlo,'DejaVu Sans Mono',consolas,'Courier New',monospace\"><span style=\"color: #7fbfbf; text-decoration-color: #7fbfbf\">[18:09:01] </span><span style=\"color: #000080; text-decoration-color: #000080\">INFO    </span> Created task <span style=\"color: #008000; text-decoration-color: #008000\">'plasmonic_yagi_uda_on_glass'</span> with task_id                           <a href=\"file://C:\\Users\\xinzhong\\anaconda3\\envs\\tidy3d_env\\lib\\site-packages\\tidy3d\\web\\webapi.py\" target=\"_blank\"><span style=\"color: #7f7f7f; text-decoration-color: #7f7f7f\">webapi.py</span></a><span style=\"color: #7f7f7f; text-decoration-color: #7f7f7f\">:</span><a href=\"file://C:\\Users\\xinzhong\\anaconda3\\envs\\tidy3d_env\\lib\\site-packages\\tidy3d\\web\\webapi.py#120\" target=\"_blank\"><span style=\"color: #7f7f7f; text-decoration-color: #7f7f7f\">120</span></a>\n",
       "<span style=\"color: #7fbfbf; text-decoration-color: #7fbfbf\">           </span>         <span style=\"color: #008000; text-decoration-color: #008000\">'de3d0e62-1bd1-4551-b056-41f3628e94e8'</span>.                                           <span style=\"color: #7f7f7f; text-decoration-color: #7f7f7f\">             </span>\n",
       "</pre>\n"
      ],
      "text/plain": [
       "\u001b[2;36m[18:09:01]\u001b[0m\u001b[2;36m \u001b[0m\u001b[34mINFO    \u001b[0m Created task \u001b[32m'plasmonic_yagi_uda_on_glass'\u001b[0m with task_id                           \u001b]8;id=365789;file://C:\\Users\\xinzhong\\anaconda3\\envs\\tidy3d_env\\lib\\site-packages\\tidy3d\\web\\webapi.py\u001b\\\u001b[2mwebapi.py\u001b[0m\u001b]8;;\u001b\\\u001b[2m:\u001b[0m\u001b]8;id=295358;file://C:\\Users\\xinzhong\\anaconda3\\envs\\tidy3d_env\\lib\\site-packages\\tidy3d\\web\\webapi.py#120\u001b\\\u001b[2m120\u001b[0m\u001b]8;;\u001b\\\n",
       "\u001b[2;36m           \u001b[0m         \u001b[32m'de3d0e62-1bd1-4551-b056-41f3628e94e8'\u001b[0m.                                           \u001b[2m             \u001b[0m\n"
      ]
     },
     "metadata": {},
     "output_type": "display_data"
    },
    {
     "data": {
      "text/html": [
       "<pre style=\"white-space:pre;overflow-x:auto;line-height:normal;font-family:Menlo,'DejaVu Sans Mono',consolas,'Courier New',monospace\"></pre>\n"
      ],
      "text/plain": [
       "\u001b[?25l"
      ]
     },
     "metadata": {},
     "output_type": "display_data"
    },
    {
     "data": {
      "application/vnd.jupyter.widget-view+json": {
       "model_id": "d481b69f88d147609dc077abfef123e9",
       "version_major": 2,
       "version_minor": 0
      },
      "text/plain": [
       "Output()"
      ]
     },
     "metadata": {},
     "output_type": "display_data"
    },
    {
     "data": {
      "text/html": [
       "<pre style=\"white-space:pre;overflow-x:auto;line-height:normal;font-family:Menlo,'DejaVu Sans Mono',consolas,'Courier New',monospace\">\n",
       "</pre>\n"
      ],
      "text/plain": [
       "\n",
       "\u001b[?25h"
      ]
     },
     "metadata": {},
     "output_type": "display_data"
    },
    {
     "data": {
      "text/html": [
       "<pre style=\"white-space:pre;overflow-x:auto;line-height:normal;font-family:Menlo,'DejaVu Sans Mono',consolas,'Courier New',monospace\"><span style=\"color: #7fbfbf; text-decoration-color: #7fbfbf\">[18:09:03] </span><span style=\"color: #000080; text-decoration-color: #000080\">INFO    </span> Maximum FlexUnit cost: <span style=\"color: #008080; text-decoration-color: #008080; font-weight: bold\">3.070</span>                                                      <a href=\"file://C:\\Users\\xinzhong\\anaconda3\\envs\\tidy3d_env\\lib\\site-packages\\tidy3d\\web\\webapi.py\" target=\"_blank\"><span style=\"color: #7f7f7f; text-decoration-color: #7f7f7f\">webapi.py</span></a><span style=\"color: #7f7f7f; text-decoration-color: #7f7f7f\">:</span><a href=\"file://C:\\Users\\xinzhong\\anaconda3\\envs\\tidy3d_env\\lib\\site-packages\\tidy3d\\web\\webapi.py#252\" target=\"_blank\"><span style=\"color: #7f7f7f; text-decoration-color: #7f7f7f\">252</span></a>\n",
       "</pre>\n"
      ],
      "text/plain": [
       "\u001b[2;36m[18:09:03]\u001b[0m\u001b[2;36m \u001b[0m\u001b[34mINFO    \u001b[0m Maximum FlexUnit cost: \u001b[1;36m3.070\u001b[0m                                                      \u001b]8;id=666562;file://C:\\Users\\xinzhong\\anaconda3\\envs\\tidy3d_env\\lib\\site-packages\\tidy3d\\web\\webapi.py\u001b\\\u001b[2mwebapi.py\u001b[0m\u001b]8;;\u001b\\\u001b[2m:\u001b[0m\u001b]8;id=946430;file://C:\\Users\\xinzhong\\anaconda3\\envs\\tidy3d_env\\lib\\site-packages\\tidy3d\\web\\webapi.py#252\u001b\\\u001b[2m252\u001b[0m\u001b]8;;\u001b\\\n"
      ]
     },
     "metadata": {},
     "output_type": "display_data"
    },
    {
     "data": {
      "text/html": [
       "<pre style=\"white-space:pre;overflow-x:auto;line-height:normal;font-family:Menlo,'DejaVu Sans Mono',consolas,'Courier New',monospace\"><span style=\"color: #7fbfbf; text-decoration-color: #7fbfbf\">           </span><span style=\"color: #000080; text-decoration-color: #000080\">INFO    </span> status = queued                                                                   <a href=\"file://C:\\Users\\xinzhong\\anaconda3\\envs\\tidy3d_env\\lib\\site-packages\\tidy3d\\web\\webapi.py\" target=\"_blank\"><span style=\"color: #7f7f7f; text-decoration-color: #7f7f7f\">webapi.py</span></a><span style=\"color: #7f7f7f; text-decoration-color: #7f7f7f\">:</span><a href=\"file://C:\\Users\\xinzhong\\anaconda3\\envs\\tidy3d_env\\lib\\site-packages\\tidy3d\\web\\webapi.py#261\" target=\"_blank\"><span style=\"color: #7f7f7f; text-decoration-color: #7f7f7f\">261</span></a>\n",
       "</pre>\n"
      ],
      "text/plain": [
       "\u001b[2;36m          \u001b[0m\u001b[2;36m \u001b[0m\u001b[34mINFO    \u001b[0m status = queued                                                                   \u001b]8;id=393158;file://C:\\Users\\xinzhong\\anaconda3\\envs\\tidy3d_env\\lib\\site-packages\\tidy3d\\web\\webapi.py\u001b\\\u001b[2mwebapi.py\u001b[0m\u001b]8;;\u001b\\\u001b[2m:\u001b[0m\u001b]8;id=677866;file://C:\\Users\\xinzhong\\anaconda3\\envs\\tidy3d_env\\lib\\site-packages\\tidy3d\\web\\webapi.py#261\u001b\\\u001b[2m261\u001b[0m\u001b]8;;\u001b\\\n"
      ]
     },
     "metadata": {},
     "output_type": "display_data"
    },
    {
     "data": {
      "text/html": [
       "<pre style=\"white-space:pre;overflow-x:auto;line-height:normal;font-family:Menlo,'DejaVu Sans Mono',consolas,'Courier New',monospace\"></pre>\n"
      ],
      "text/plain": [
       "\u001b[?25l"
      ]
     },
     "metadata": {},
     "output_type": "display_data"
    },
    {
     "data": {
      "application/vnd.jupyter.widget-view+json": {
       "model_id": "",
       "version_major": 2,
       "version_minor": 0
      },
      "text/plain": [
       "Output()"
      ]
     },
     "metadata": {},
     "output_type": "display_data"
    },
    {
     "data": {
      "text/html": [
       "<pre style=\"white-space:pre;overflow-x:auto;line-height:normal;font-family:Menlo,'DejaVu Sans Mono',consolas,'Courier New',monospace\">\n",
       "</pre>\n"
      ],
      "text/plain": [
       "\n",
       "\u001b[?25h\r",
       "\u001b[1A\u001b[2K"
      ]
     },
     "metadata": {},
     "output_type": "display_data"
    },
    {
     "data": {
      "text/html": [
       "<pre style=\"white-space:pre;overflow-x:auto;line-height:normal;font-family:Menlo,'DejaVu Sans Mono',consolas,'Courier New',monospace\"><span style=\"color: #7fbfbf; text-decoration-color: #7fbfbf\">[18:09:09] </span><span style=\"color: #000080; text-decoration-color: #000080\">INFO    </span> starting up solver                                                                <a href=\"file://C:\\Users\\xinzhong\\anaconda3\\envs\\tidy3d_env\\lib\\site-packages\\tidy3d\\web\\webapi.py\" target=\"_blank\"><span style=\"color: #7f7f7f; text-decoration-color: #7f7f7f\">webapi.py</span></a><span style=\"color: #7f7f7f; text-decoration-color: #7f7f7f\">:</span><a href=\"file://C:\\Users\\xinzhong\\anaconda3\\envs\\tidy3d_env\\lib\\site-packages\\tidy3d\\web\\webapi.py#277\" target=\"_blank\"><span style=\"color: #7f7f7f; text-decoration-color: #7f7f7f\">277</span></a>\n",
       "</pre>\n"
      ],
      "text/plain": [
       "\u001b[2;36m[18:09:09]\u001b[0m\u001b[2;36m \u001b[0m\u001b[34mINFO    \u001b[0m starting up solver                                                                \u001b]8;id=721910;file://C:\\Users\\xinzhong\\anaconda3\\envs\\tidy3d_env\\lib\\site-packages\\tidy3d\\web\\webapi.py\u001b\\\u001b[2mwebapi.py\u001b[0m\u001b]8;;\u001b\\\u001b[2m:\u001b[0m\u001b]8;id=174266;file://C:\\Users\\xinzhong\\anaconda3\\envs\\tidy3d_env\\lib\\site-packages\\tidy3d\\web\\webapi.py#277\u001b\\\u001b[2m277\u001b[0m\u001b]8;;\u001b\\\n"
      ]
     },
     "metadata": {},
     "output_type": "display_data"
    },
    {
     "data": {
      "text/html": [
       "<pre style=\"white-space:pre;overflow-x:auto;line-height:normal;font-family:Menlo,'DejaVu Sans Mono',consolas,'Courier New',monospace\"><span style=\"color: #7fbfbf; text-decoration-color: #7fbfbf\">[18:09:19] </span><span style=\"color: #000080; text-decoration-color: #000080\">INFO    </span> running solver                                                                    <a href=\"file://C:\\Users\\xinzhong\\anaconda3\\envs\\tidy3d_env\\lib\\site-packages\\tidy3d\\web\\webapi.py\" target=\"_blank\"><span style=\"color: #7f7f7f; text-decoration-color: #7f7f7f\">webapi.py</span></a><span style=\"color: #7f7f7f; text-decoration-color: #7f7f7f\">:</span><a href=\"file://C:\\Users\\xinzhong\\anaconda3\\envs\\tidy3d_env\\lib\\site-packages\\tidy3d\\web\\webapi.py#283\" target=\"_blank\"><span style=\"color: #7f7f7f; text-decoration-color: #7f7f7f\">283</span></a>\n",
       "</pre>\n"
      ],
      "text/plain": [
       "\u001b[2;36m[18:09:19]\u001b[0m\u001b[2;36m \u001b[0m\u001b[34mINFO    \u001b[0m running solver                                                                    \u001b]8;id=591019;file://C:\\Users\\xinzhong\\anaconda3\\envs\\tidy3d_env\\lib\\site-packages\\tidy3d\\web\\webapi.py\u001b\\\u001b[2mwebapi.py\u001b[0m\u001b]8;;\u001b\\\u001b[2m:\u001b[0m\u001b]8;id=629449;file://C:\\Users\\xinzhong\\anaconda3\\envs\\tidy3d_env\\lib\\site-packages\\tidy3d\\web\\webapi.py#283\u001b\\\u001b[2m283\u001b[0m\u001b]8;;\u001b\\\n"
      ]
     },
     "metadata": {},
     "output_type": "display_data"
    },
    {
     "data": {
      "text/html": [
       "<pre style=\"white-space:pre;overflow-x:auto;line-height:normal;font-family:Menlo,'DejaVu Sans Mono',consolas,'Courier New',monospace\"></pre>\n"
      ],
      "text/plain": [
       "\u001b[?25l"
      ]
     },
     "metadata": {},
     "output_type": "display_data"
    },
    {
     "data": {
      "application/vnd.jupyter.widget-view+json": {
       "model_id": "4074a3c2c8ee45c39e5d8dc23daa09bc",
       "version_major": 2,
       "version_minor": 0
      },
      "text/plain": [
       "Output()"
      ]
     },
     "metadata": {},
     "output_type": "display_data"
    },
    {
     "data": {
      "text/html": [
       "<pre style=\"white-space:pre;overflow-x:auto;line-height:normal;font-family:Menlo,'DejaVu Sans Mono',consolas,'Courier New',monospace\"><span style=\"color: #7fbfbf; text-decoration-color: #7fbfbf\">[18:10:54] </span><span style=\"color: #000080; text-decoration-color: #000080\">INFO    </span> early shutoff detected, exiting.                                                  <a href=\"file://C:\\Users\\xinzhong\\anaconda3\\envs\\tidy3d_env\\lib\\site-packages\\tidy3d\\web\\webapi.py\" target=\"_blank\"><span style=\"color: #7f7f7f; text-decoration-color: #7f7f7f\">webapi.py</span></a><span style=\"color: #7f7f7f; text-decoration-color: #7f7f7f\">:</span><a href=\"file://C:\\Users\\xinzhong\\anaconda3\\envs\\tidy3d_env\\lib\\site-packages\\tidy3d\\web\\webapi.py#294\" target=\"_blank\"><span style=\"color: #7f7f7f; text-decoration-color: #7f7f7f\">294</span></a>\n",
       "</pre>\n"
      ],
      "text/plain": [
       "\u001b[2;36m[18:10:54]\u001b[0m\u001b[2;36m \u001b[0m\u001b[34mINFO    \u001b[0m early shutoff detected, exiting.                                                  \u001b]8;id=848955;file://C:\\Users\\xinzhong\\anaconda3\\envs\\tidy3d_env\\lib\\site-packages\\tidy3d\\web\\webapi.py\u001b\\\u001b[2mwebapi.py\u001b[0m\u001b]8;;\u001b\\\u001b[2m:\u001b[0m\u001b]8;id=989067;file://C:\\Users\\xinzhong\\anaconda3\\envs\\tidy3d_env\\lib\\site-packages\\tidy3d\\web\\webapi.py#294\u001b\\\u001b[2m294\u001b[0m\u001b]8;;\u001b\\\n"
      ]
     },
     "metadata": {},
     "output_type": "display_data"
    },
    {
     "data": {
      "text/html": [
       "<pre style=\"white-space:pre;overflow-x:auto;line-height:normal;font-family:Menlo,'DejaVu Sans Mono',consolas,'Courier New',monospace\">\n",
       "</pre>\n"
      ],
      "text/plain": [
       "\n",
       "\u001b[?25h"
      ]
     },
     "metadata": {},
     "output_type": "display_data"
    },
    {
     "data": {
      "text/html": [
       "<pre style=\"white-space:pre;overflow-x:auto;line-height:normal;font-family:Menlo,'DejaVu Sans Mono',consolas,'Courier New',monospace\"><span style=\"color: #7fbfbf; text-decoration-color: #7fbfbf\">           </span><span style=\"color: #000080; text-decoration-color: #000080\">INFO    </span> status = postprocess                                                              <a href=\"file://C:\\Users\\xinzhong\\anaconda3\\envs\\tidy3d_env\\lib\\site-packages\\tidy3d\\web\\webapi.py\" target=\"_blank\"><span style=\"color: #7f7f7f; text-decoration-color: #7f7f7f\">webapi.py</span></a><span style=\"color: #7f7f7f; text-decoration-color: #7f7f7f\">:</span><a href=\"file://C:\\Users\\xinzhong\\anaconda3\\envs\\tidy3d_env\\lib\\site-packages\\tidy3d\\web\\webapi.py#300\" target=\"_blank\"><span style=\"color: #7f7f7f; text-decoration-color: #7f7f7f\">300</span></a>\n",
       "</pre>\n"
      ],
      "text/plain": [
       "\u001b[2;36m          \u001b[0m\u001b[2;36m \u001b[0m\u001b[34mINFO    \u001b[0m status = postprocess                                                              \u001b]8;id=147776;file://C:\\Users\\xinzhong\\anaconda3\\envs\\tidy3d_env\\lib\\site-packages\\tidy3d\\web\\webapi.py\u001b\\\u001b[2mwebapi.py\u001b[0m\u001b]8;;\u001b\\\u001b[2m:\u001b[0m\u001b]8;id=126350;file://C:\\Users\\xinzhong\\anaconda3\\envs\\tidy3d_env\\lib\\site-packages\\tidy3d\\web\\webapi.py#300\u001b\\\u001b[2m300\u001b[0m\u001b]8;;\u001b\\\n"
      ]
     },
     "metadata": {},
     "output_type": "display_data"
    },
    {
     "data": {
      "text/html": [
       "<pre style=\"white-space:pre;overflow-x:auto;line-height:normal;font-family:Menlo,'DejaVu Sans Mono',consolas,'Courier New',monospace\"></pre>\n"
      ],
      "text/plain": [
       "\u001b[?25l"
      ]
     },
     "metadata": {},
     "output_type": "display_data"
    },
    {
     "data": {
      "application/vnd.jupyter.widget-view+json": {
       "model_id": "",
       "version_major": 2,
       "version_minor": 0
      },
      "text/plain": [
       "Output()"
      ]
     },
     "metadata": {},
     "output_type": "display_data"
    },
    {
     "data": {
      "text/html": [
       "<pre style=\"white-space:pre;overflow-x:auto;line-height:normal;font-family:Menlo,'DejaVu Sans Mono',consolas,'Courier New',monospace\"><span style=\"color: #7fbfbf; text-decoration-color: #7fbfbf\">[18:10:59] </span><span style=\"color: #000080; text-decoration-color: #000080\">INFO    </span> status = success                                                                  <a href=\"file://C:\\Users\\xinzhong\\anaconda3\\envs\\tidy3d_env\\lib\\site-packages\\tidy3d\\web\\webapi.py\" target=\"_blank\"><span style=\"color: #7f7f7f; text-decoration-color: #7f7f7f\">webapi.py</span></a><span style=\"color: #7f7f7f; text-decoration-color: #7f7f7f\">:</span><a href=\"file://C:\\Users\\xinzhong\\anaconda3\\envs\\tidy3d_env\\lib\\site-packages\\tidy3d\\web\\webapi.py#306\" target=\"_blank\"><span style=\"color: #7f7f7f; text-decoration-color: #7f7f7f\">306</span></a>\n",
       "</pre>\n"
      ],
      "text/plain": [
       "\u001b[2;36m[18:10:59]\u001b[0m\u001b[2;36m \u001b[0m\u001b[34mINFO    \u001b[0m status = success                                                                  \u001b]8;id=338479;file://C:\\Users\\xinzhong\\anaconda3\\envs\\tidy3d_env\\lib\\site-packages\\tidy3d\\web\\webapi.py\u001b\\\u001b[2mwebapi.py\u001b[0m\u001b]8;;\u001b\\\u001b[2m:\u001b[0m\u001b]8;id=361158;file://C:\\Users\\xinzhong\\anaconda3\\envs\\tidy3d_env\\lib\\site-packages\\tidy3d\\web\\webapi.py#306\u001b\\\u001b[2m306\u001b[0m\u001b]8;;\u001b\\\n"
      ]
     },
     "metadata": {},
     "output_type": "display_data"
    },
    {
     "data": {
      "text/html": [
       "<pre style=\"white-space:pre;overflow-x:auto;line-height:normal;font-family:Menlo,'DejaVu Sans Mono',consolas,'Courier New',monospace\">\n",
       "</pre>\n"
      ],
      "text/plain": [
       "\n",
       "\u001b[?25h\r",
       "\u001b[1A\u001b[2K"
      ]
     },
     "metadata": {},
     "output_type": "display_data"
    },
    {
     "data": {
      "text/html": [
       "<pre style=\"white-space:pre;overflow-x:auto;line-height:normal;font-family:Menlo,'DejaVu Sans Mono',consolas,'Courier New',monospace\"><span style=\"color: #7fbfbf; text-decoration-color: #7fbfbf\">[18:11:00] </span><span style=\"color: #000080; text-decoration-color: #000080\">INFO    </span> Billed FlexUnit cost: <span style=\"color: #008080; text-decoration-color: #008080; font-weight: bold\">2.108</span>                                                       <a href=\"file://C:\\Users\\xinzhong\\anaconda3\\envs\\tidy3d_env\\lib\\site-packages\\tidy3d\\web\\webapi.py\" target=\"_blank\"><span style=\"color: #7f7f7f; text-decoration-color: #7f7f7f\">webapi.py</span></a><span style=\"color: #7f7f7f; text-decoration-color: #7f7f7f\">:</span><a href=\"file://C:\\Users\\xinzhong\\anaconda3\\envs\\tidy3d_env\\lib\\site-packages\\tidy3d\\web\\webapi.py#310\" target=\"_blank\"><span style=\"color: #7f7f7f; text-decoration-color: #7f7f7f\">310</span></a>\n",
       "</pre>\n"
      ],
      "text/plain": [
       "\u001b[2;36m[18:11:00]\u001b[0m\u001b[2;36m \u001b[0m\u001b[34mINFO    \u001b[0m Billed FlexUnit cost: \u001b[1;36m2.108\u001b[0m                                                       \u001b]8;id=886885;file://C:\\Users\\xinzhong\\anaconda3\\envs\\tidy3d_env\\lib\\site-packages\\tidy3d\\web\\webapi.py\u001b\\\u001b[2mwebapi.py\u001b[0m\u001b]8;;\u001b\\\u001b[2m:\u001b[0m\u001b]8;id=126601;file://C:\\Users\\xinzhong\\anaconda3\\envs\\tidy3d_env\\lib\\site-packages\\tidy3d\\web\\webapi.py#310\u001b\\\u001b[2m310\u001b[0m\u001b]8;;\u001b\\\n"
      ]
     },
     "metadata": {},
     "output_type": "display_data"
    },
    {
     "data": {
      "text/html": [
       "<pre style=\"white-space:pre;overflow-x:auto;line-height:normal;font-family:Menlo,'DejaVu Sans Mono',consolas,'Courier New',monospace\"><span style=\"color: #7fbfbf; text-decoration-color: #7fbfbf\">           </span><span style=\"color: #000080; text-decoration-color: #000080\">INFO    </span> downloading file <span style=\"color: #008000; text-decoration-color: #008000\">\"output/monitor_data.hdf5\"</span> to <span style=\"color: #008000; text-decoration-color: #008000\">\"data/optical_yagi_uda.hdf5\"</span>       <a href=\"file://C:\\Users\\xinzhong\\anaconda3\\envs\\tidy3d_env\\lib\\site-packages\\tidy3d\\web\\webapi.py\" target=\"_blank\"><span style=\"color: #7f7f7f; text-decoration-color: #7f7f7f\">webapi.py</span></a><span style=\"color: #7f7f7f; text-decoration-color: #7f7f7f\">:</span><a href=\"file://C:\\Users\\xinzhong\\anaconda3\\envs\\tidy3d_env\\lib\\site-packages\\tidy3d\\web\\webapi.py#592\" target=\"_blank\"><span style=\"color: #7f7f7f; text-decoration-color: #7f7f7f\">592</span></a>\n",
       "</pre>\n"
      ],
      "text/plain": [
       "\u001b[2;36m          \u001b[0m\u001b[2;36m \u001b[0m\u001b[34mINFO    \u001b[0m downloading file \u001b[32m\"output/monitor_data.hdf5\"\u001b[0m to \u001b[32m\"data/optical_yagi_uda.hdf5\"\u001b[0m       \u001b]8;id=945366;file://C:\\Users\\xinzhong\\anaconda3\\envs\\tidy3d_env\\lib\\site-packages\\tidy3d\\web\\webapi.py\u001b\\\u001b[2mwebapi.py\u001b[0m\u001b]8;;\u001b\\\u001b[2m:\u001b[0m\u001b]8;id=350364;file://C:\\Users\\xinzhong\\anaconda3\\envs\\tidy3d_env\\lib\\site-packages\\tidy3d\\web\\webapi.py#592\u001b\\\u001b[2m592\u001b[0m\u001b]8;;\u001b\\\n"
      ]
     },
     "metadata": {},
     "output_type": "display_data"
    },
    {
     "data": {
      "text/html": [
       "<pre style=\"white-space:pre;overflow-x:auto;line-height:normal;font-family:Menlo,'DejaVu Sans Mono',consolas,'Courier New',monospace\"></pre>\n"
      ],
      "text/plain": [
       "\u001b[?25l"
      ]
     },
     "metadata": {},
     "output_type": "display_data"
    },
    {
     "data": {
      "application/vnd.jupyter.widget-view+json": {
       "model_id": "f8cc52af625549c2aa70dbd5a5044f55",
       "version_major": 2,
       "version_minor": 0
      },
      "text/plain": [
       "Output()"
      ]
     },
     "metadata": {},
     "output_type": "display_data"
    },
    {
     "data": {
      "text/html": [
       "<pre style=\"white-space:pre;overflow-x:auto;line-height:normal;font-family:Menlo,'DejaVu Sans Mono',consolas,'Courier New',monospace\">\n",
       "</pre>\n"
      ],
      "text/plain": [
       "\n",
       "\u001b[?25h"
      ]
     },
     "metadata": {},
     "output_type": "display_data"
    },
    {
     "data": {
      "text/html": [
       "<pre style=\"white-space:pre;overflow-x:auto;line-height:normal;font-family:Menlo,'DejaVu Sans Mono',consolas,'Courier New',monospace\"><span style=\"color: #7fbfbf; text-decoration-color: #7fbfbf\">[18:11:02] </span><span style=\"color: #000080; text-decoration-color: #000080\">INFO    </span> loading SimulationData from data/optical_yagi_uda.hdf5                            <a href=\"file://C:\\Users\\xinzhong\\anaconda3\\envs\\tidy3d_env\\lib\\site-packages\\tidy3d\\web\\webapi.py\" target=\"_blank\"><span style=\"color: #7f7f7f; text-decoration-color: #7f7f7f\">webapi.py</span></a><span style=\"color: #7f7f7f; text-decoration-color: #7f7f7f\">:</span><a href=\"file://C:\\Users\\xinzhong\\anaconda3\\envs\\tidy3d_env\\lib\\site-packages\\tidy3d\\web\\webapi.py#414\" target=\"_blank\"><span style=\"color: #7f7f7f; text-decoration-color: #7f7f7f\">414</span></a>\n",
       "</pre>\n"
      ],
      "text/plain": [
       "\u001b[2;36m[18:11:02]\u001b[0m\u001b[2;36m \u001b[0m\u001b[34mINFO    \u001b[0m loading SimulationData from data/optical_yagi_uda.hdf5                            \u001b]8;id=384827;file://C:\\Users\\xinzhong\\anaconda3\\envs\\tidy3d_env\\lib\\site-packages\\tidy3d\\web\\webapi.py\u001b\\\u001b[2mwebapi.py\u001b[0m\u001b]8;;\u001b\\\u001b[2m:\u001b[0m\u001b]8;id=571913;file://C:\\Users\\xinzhong\\anaconda3\\envs\\tidy3d_env\\lib\\site-packages\\tidy3d\\web\\webapi.py#414\u001b\\\u001b[2m414\u001b[0m\u001b]8;;\u001b\\\n"
      ]
     },
     "metadata": {},
     "output_type": "display_data"
    }
   ],
   "source": [
    "sim_data = web.run(\n",
    "    sim, task_name=\"plasmonic_yagi_uda_on_glass\", path=\"data/optical_yagi_uda.hdf5\"\n",
    ")\n"
   ]
  },
  {
   "cell_type": "markdown",
   "id": "6918092c",
   "metadata": {},
   "source": [
    "After the simulation is complete, we calculate the directivity in the same way as previously. Note that the intrinsic impedance $\\eta=\\eta_0/n$ is different in the glass ($n=1.5$) compared to in the free space ($n=1$). \n",
    "\n",
    "From the directivity plot, we can see that a directivity close to 25 can be achieved in this case."
   ]
  },
  {
   "cell_type": "code",
   "execution_count": 16,
   "id": "210e80f0",
   "metadata": {
    "execution": {
     "iopub.execute_input": "2023-02-03T05:35:36.382095Z",
     "iopub.status.busy": "2023-02-03T05:35:36.382004Z",
     "iopub.status.idle": "2023-02-03T05:35:41.172493Z",
     "shell.execute_reply": "2023-02-03T05:35:41.172233Z"
    }
   },
   "outputs": [
    {
     "data": {
      "image/png": "[encoded data removed]",
      "text/plain": [
       "<Figure size 640x480 with 1 Axes>"
      ]
     },
     "metadata": {},
     "output_type": "display_data"
    }
   ],
   "source": [
    "P0 = np.array(sim_data[\"power\"].flux)  # total radiated power\n",
    "\n",
    "# evaluate the radiated power at 7*lda0 away from the antenna\n",
    "P = np.zeros(len(theta_array))\n",
    "for i, theta in enumerate(theta_array):\n",
    "    Ex = sim_data[\"field\"].Ex.sel(\n",
    "        x=d * np.sin(theta), z=d * np.cos(theta), method=\"nearest\"\n",
    "    )\n",
    "    Ey = sim_data[\"field\"].Ey.sel(\n",
    "        x=d * np.sin(theta), z=d * np.cos(theta), method=\"nearest\"\n",
    "    )\n",
    "    Ez = sim_data[\"field\"].Ez.sel(\n",
    "        x=d * np.sin(theta), z=d * np.cos(theta), method=\"nearest\"\n",
    "    )\n",
    "    if d * np.cos(theta) > 0:\n",
    "        P[i] = d**2 * (abs(Ex) ** 2 + abs(Ey) ** 2 + abs(Ez) ** 2) / (2 * Z0)\n",
    "    else:\n",
    "        # inside the substrate, the impedance of the glass needs to be taken into account\n",
    "        P[i] = (\n",
    "            n_glass * d**2 * (abs(Ex) ** 2 + abs(Ey) ** 2 + abs(Ez) ** 2) / (2 * Z0)\n",
    "        )\n",
    "\n",
    "D = 4 * np.pi * P / P0  # directivity\n",
    "\n",
    "# plotting the directivity pattern\n",
    "fig, ax = plt.subplots(subplot_kw={\"projection\": \"polar\"})\n",
    "ax.set_theta_direction(-1)\n",
    "ax.set_theta_offset(np.pi / 2.0)\n",
    "ax.plot(theta_array, D)\n",
    "ax.set_rlim(0, 25)\n",
    "ax.set_title(\"Directivity\");\n"
   ]
  },
  {
   "cell_type": "code",
   "execution_count": null,
   "id": "0fac2e64",
   "metadata": {},
   "outputs": [],
   "source": []
  }
 ],
 "metadata": {
  "kernelspec": {
   "display_name": "Python 3 (ipykernel)",
   "language": "python",
   "name": "python3"
  },
  "language_info": {
   "codemirror_mode": {
    "name": "ipython",
    "version": 3
   },
   "file_extension": ".py",
   "mimetype": "text/x-python",
   "name": "python",
   "nbconvert_exporter": "python",
   "pygments_lexer": "ipython3",
   "version": "3.10.8"
  },
  "widgets": {
   "application/vnd.jupyter.widget-state+json": {
    "state": {
     "0583554e722d434792dd515dc94d04df": {
      "model_module": "@jupyter-widgets/output",
      "model_module_version": "1.0.0",
      "model_name": "OutputModel",
      "state": {
       "_dom_classes": [],
       "_model_module": "@jupyter-widgets/output",
       "_model_module_version": "1.0.0",
       "_model_name": "OutputModel",
       "_view_count": null,
       "_view_module": "@jupyter-widgets/output",
       "_view_module_version": "1.0.0",
       "_view_name": "OutputView",
       "layout": "IPY_MODEL_c4fe2a8ea98f4581999472086b32392a",
       "msg_id": "",
       "outputs": [
        {
         "data": {
          "text/html": "<pre style=\"white-space:pre;overflow-x:auto;line-height:normal;font-family:Menlo,'DejaVu Sans Mono',consolas,'Courier New',monospace\"><span style=\"color: #800000; text-decoration-color: #800000; font-weight: bold\">↑</span> <span style=\"color: #000080; text-decoration-color: #000080; font-weight: bold\">simulation.json</span> <span style=\"color: #3a3a3a; text-decoration-color: #3a3a3a\">━━━━━━━━━━━━━━━━━━━━━━━━━━━━━━━━━━━━━━━━</span> <span style=\"color: #800080; text-decoration-color: #800080\">0.0%</span> • <span style=\"color: #008000; text-decoration-color: #008000\">0.0/10.8 kB</span> • <span style=\"color: #800000; text-decoration-color: #800000\">?</span> • <span style=\"color: #008080; text-decoration-color: #008080\">-:--:--</span>\n<span style=\"color: #800000; text-decoration-color: #800000; font-weight: bold\">↑</span> <span style=\"color: #000080; text-decoration-color: #000080; font-weight: bold\">simulation.json</span> <span style=\"color: #3a3a3a; text-decoration-color: #3a3a3a\">━━━━━━━━━━━━━━━━━━━━━━━━━━━━━━━━━━━━━━━━</span> <span style=\"color: #800080; text-decoration-color: #800080\">0.0%</span> • <span style=\"color: #008000; text-decoration-color: #008000\">0.0/10.8 kB</span> • <span style=\"color: #800000; text-decoration-color: #800000\">?</span> • <span style=\"color: #008080; text-decoration-color: #008080\">-:--:--</span></pre>\n",
          "text/plain": "\r\u001b[2K\u001b[1;31m↑\u001b[0m \u001b[1;34msimulation.json\u001b[0m \u001b[38;5;237m━━━━━━━━━━━━━━━━━━━━━━━━━━━━━━━━━━━━━━━━\u001b[0m \u001b[35m0.0%\u001b[0m • \u001b[32m0.0/10.8 kB\u001b[0m • \u001b[31m?\u001b[0m • \u001b[36m-:--:--\u001b[0m\n\u001b[1;31m↑\u001b[0m \u001b[1;34msimulation.json\u001b[0m \u001b[38;5;237m━━━━━━━━━━━━━━━━━━━━━━━━━━━━━━━━━━━━━━━━\u001b[0m \u001b[35m0.0%\u001b[0m • \u001b[32m0.0/10.8 kB\u001b[0m • \u001b[31m?\u001b[0m • \u001b[36m-:--:--\u001b[0m"
         },
         "metadata": {},
         "output_type": "display_data"
        }
       ],
       "tabbable": null,
       "tooltip": null
      }
     },
     "0fad2935142c447ca9f341726a860743": {
      "model_module": "@jupyter-widgets/output",
      "model_module_version": "1.0.0",
      "model_name": "OutputModel",
      "state": {
       "_dom_classes": [],
       "_model_module": "@jupyter-widgets/output",
       "_model_module_version": "1.0.0",
       "_model_name": "OutputModel",
       "_view_count": null,
       "_view_module": "@jupyter-widgets/output",
       "_view_module_version": "1.0.0",
       "_view_name": "OutputView",
       "layout": "IPY_MODEL_66d5af8b638446b8b7404e2d28bc6355",
       "msg_id": "",
       "outputs": [
        {
         "data": {
          "text/html": "<pre style=\"white-space:pre;overflow-x:auto;line-height:normal;font-family:Menlo,'DejaVu Sans Mono',consolas,'Courier New',monospace\"><span style=\"color: #800000; text-decoration-color: #800000; font-weight: bold\">↑</span> <span style=\"color: #000080; text-decoration-color: #000080; font-weight: bold\">simulation.json</span> <span style=\"color: #3a3a3a; text-decoration-color: #3a3a3a\">━━━━━━━━━━━━━━━━━━━━━━━━━━━━━━━━━━━━━━━━</span> <span style=\"color: #800080; text-decoration-color: #800080\">0.0%</span> • <span style=\"color: #008000; text-decoration-color: #008000\">0.0/18.4 kB</span> • <span style=\"color: #800000; text-decoration-color: #800000\">?</span> • <span style=\"color: #008080; text-decoration-color: #008080\">-:--:--</span>\n<span style=\"color: #800000; text-decoration-color: #800000; font-weight: bold\">↑</span> <span style=\"color: #000080; text-decoration-color: #000080; font-weight: bold\">simulation.json</span> <span style=\"color: #3a3a3a; text-decoration-color: #3a3a3a\">━━━━━━━━━━━━━━━━━━━━━━━━━━━━━━━━━━━━━━━━</span> <span style=\"color: #800080; text-decoration-color: #800080\">0.0%</span> • <span style=\"color: #008000; text-decoration-color: #008000\">0.0/18.4 kB</span> • <span style=\"color: #800000; text-decoration-color: #800000\">?</span> • <span style=\"color: #008080; text-decoration-color: #008080\">-:--:--</span></pre>\n",
          "text/plain": "\r\u001b[2K\u001b[1;31m↑\u001b[0m \u001b[1;34msimulation.json\u001b[0m \u001b[38;5;237m━━━━━━━━━━━━━━━━━━━━━━━━━━━━━━━━━━━━━━━━\u001b[0m \u001b[35m0.0%\u001b[0m • \u001b[32m0.0/18.4 kB\u001b[0m • \u001b[31m?\u001b[0m • \u001b[36m-:--:--\u001b[0m\n\u001b[1;31m↑\u001b[0m \u001b[1;34msimulation.json\u001b[0m \u001b[38;5;237m━━━━━━━━━━━━━━━━━━━━━━━━━━━━━━━━━━━━━━━━\u001b[0m \u001b[35m0.0%\u001b[0m • \u001b[32m0.0/18.4 kB\u001b[0m • \u001b[31m?\u001b[0m • \u001b[36m-:--:--\u001b[0m"
         },
         "metadata": {},
         "output_type": "display_data"
        }
       ],
       "tabbable": null,
       "tooltip": null
      }
     },
     "1e0f9e78ad2349c086304d9a10f28739": {
      "model_module": "@jupyter-widgets/output",
      "model_module_version": "1.0.0",
      "model_name": "OutputModel",
      "state": {
       "_dom_classes": [],
       "_model_module": "@jupyter-widgets/output",
       "_model_module_version": "1.0.0",
       "_model_name": "OutputModel",
       "_view_count": null,
       "_view_module": "@jupyter-widgets/output",
       "_view_module_version": "1.0.0",
       "_view_name": "OutputView",
       "layout": "IPY_MODEL_345b6d74faa24650b23c49acb444fea9",
       "msg_id": "",
       "outputs": [
        {
         "data": {
          "text/html": "<pre style=\"white-space:pre;overflow-x:auto;line-height:normal;font-family:Menlo,'DejaVu Sans Mono',consolas,'Courier New',monospace\"><span style=\"color: #008000; text-decoration-color: #008000\">🚶 </span> <span style=\"color: #008000; text-decoration-color: #008000; font-weight: bold\">Starting 'plasmonic_yagi_uda'...</span>\n<span style=\"color: #008000; text-decoration-color: #008000\">🚶 </span> <span style=\"color: #008000; text-decoration-color: #008000; font-weight: bold\">Starting 'plasmonic_yagi_uda'...</span></pre>\n",
          "text/plain": "\r\u001b[2K\u001b[32m🚶 \u001b[0m \u001b[1;32mStarting 'plasmonic_yagi_uda'...\u001b[0m\n\u001b[32m🚶 \u001b[0m \u001b[1;32mStarting 'plasmonic_yagi_uda'...\u001b[0m"
         },
         "metadata": {},
         "output_type": "display_data"
        }
       ],
       "tabbable": null,
       "tooltip": null
      }
     },
     "2a54fb5b521a4c1496de7e8b1088e8fb": {
      "model_module": "@jupyter-widgets/base",
      "model_module_version": "2.0.0",
      "model_name": "LayoutModel",
      "state": {
       "_model_module": "@jupyter-widgets/base",
       "_model_module_version": "2.0.0",
       "_model_name": "LayoutModel",
       "_view_count": null,
       "_view_module": "@jupyter-widgets/base",
       "_view_module_version": "2.0.0",
       "_view_name": "LayoutView",
       "align_content": null,
       "align_items": null,
       "align_self": null,
       "border_bottom": null,
       "border_left": null,
       "border_right": null,
       "border_top": null,
       "bottom": null,
       "display": null,
       "flex": null,
       "flex_flow": null,
       "grid_area": null,
       "grid_auto_columns": null,
       "grid_auto_flow": null,
       "grid_auto_rows": null,
       "grid_column": null,
       "grid_gap": null,
       "grid_row": null,
       "grid_template_areas": null,
       "grid_template_columns": null,
       "grid_template_rows": null,
       "height": null,
       "justify_content": null,
       "justify_items": null,
       "left": null,
       "margin": null,
       "max_height": null,
       "max_width": null,
       "min_height": null,
       "min_width": null,
       "object_fit": null,
       "object_position": null,
       "order": null,
       "overflow": null,
       "padding": null,
       "right": null,
       "top": null,
       "visibility": null,
       "width": null
      }
     },
     "2bc8479f47c74bbdb83eb9627463b801": {
      "model_module": "@jupyter-widgets/base",
      "model_module_version": "2.0.0",
      "model_name": "LayoutModel",
      "state": {
       "_model_module": "@jupyter-widgets/base",
       "_model_module_version": "2.0.0",
       "_model_name": "LayoutModel",
       "_view_count": null,
       "_view_module": "@jupyter-widgets/base",
       "_view_module_version": "2.0.0",
       "_view_name": "LayoutView",
       "align_content": null,
       "align_items": null,
       "align_self": null,
       "border_bottom": null,
       "border_left": null,
       "border_right": null,
       "border_top": null,
       "bottom": null,
       "display": null,
       "flex": null,
       "flex_flow": null,
       "grid_area": null,
       "grid_auto_columns": null,
       "grid_auto_flow": null,
       "grid_auto_rows": null,
       "grid_column": null,
       "grid_gap": null,
       "grid_row": null,
       "grid_template_areas": null,
       "grid_template_columns": null,
       "grid_template_rows": null,
       "height": null,
       "justify_content": null,
       "justify_items": null,
       "left": null,
       "margin": null,
       "max_height": null,
       "max_width": null,
       "min_height": null,
       "min_width": null,
       "object_fit": null,
       "object_position": null,
       "order": null,
       "overflow": null,
       "padding": null,
       "right": null,
       "top": null,
       "visibility": null,
       "width": null
      }
     },
     "34415a42b26f47bfa891d6a37330f9dc": {
      "model_module": "@jupyter-widgets/output",
      "model_module_version": "1.0.0",
      "model_name": "OutputModel",
      "state": {
       "_dom_classes": [],
       "_model_module": "@jupyter-widgets/output",
       "_model_module_version": "1.0.0",
       "_model_name": "OutputModel",
       "_view_count": null,
       "_view_module": "@jupyter-widgets/output",
       "_view_module_version": "1.0.0",
       "_view_name": "OutputView",
       "layout": "IPY_MODEL_7b57e64b4a2c4c718f1956c974c46de3",
       "msg_id": "",
       "outputs": [
        {
         "data": {
          "text/html": "<pre style=\"white-space:pre;overflow-x:auto;line-height:normal;font-family:Menlo,'DejaVu Sans Mono',consolas,'Courier New',monospace\"><span style=\"color: #800000; text-decoration-color: #800000; font-weight: bold\">↑</span> <span style=\"color: #000080; text-decoration-color: #000080; font-weight: bold\">simulation.json</span> <span style=\"color: #3a3a3a; text-decoration-color: #3a3a3a\">━━━━━━━━━━━━━━━━━━━━━━━━━━━━━━━━━━━━━━━━</span> <span style=\"color: #800080; text-decoration-color: #800080\">0.0%</span> • <span style=\"color: #008000; text-decoration-color: #008000\">0.0/24.2 kB</span> • <span style=\"color: #800000; text-decoration-color: #800000\">?</span> • <span style=\"color: #008080; text-decoration-color: #008080\">-:--:--</span>\n<span style=\"color: #800000; text-decoration-color: #800000; font-weight: bold\">↑</span> <span style=\"color: #000080; text-decoration-color: #000080; font-weight: bold\">simulation.json</span> <span style=\"color: #3a3a3a; text-decoration-color: #3a3a3a\">━━━━━━━━━━━━━━━━━━━━━━━━━━━━━━━━━━━━━━━━</span> <span style=\"color: #800080; text-decoration-color: #800080\">0.0%</span> • <span style=\"color: #008000; text-decoration-color: #008000\">0.0/24.2 kB</span> • <span style=\"color: #800000; text-decoration-color: #800000\">?</span> • <span style=\"color: #008080; text-decoration-color: #008080\">-:--:--</span></pre>\n",
          "text/plain": "\r\u001b[2K\u001b[1;31m↑\u001b[0m \u001b[1;34msimulation.json\u001b[0m \u001b[38;5;237m━━━━━━━━━━━━━━━━━━━━━━━━━━━━━━━━━━━━━━━━\u001b[0m \u001b[35m0.0%\u001b[0m • \u001b[32m0.0/24.2 kB\u001b[0m • \u001b[31m?\u001b[0m • \u001b[36m-:--:--\u001b[0m\n\u001b[1;31m↑\u001b[0m \u001b[1;34msimulation.json\u001b[0m \u001b[38;5;237m━━━━━━━━━━━━━━━━━━━━━━━━━━━━━━━━━━━━━━━━\u001b[0m \u001b[35m0.0%\u001b[0m • \u001b[32m0.0/24.2 kB\u001b[0m • \u001b[31m?\u001b[0m • \u001b[36m-:--:--\u001b[0m"
         },
         "metadata": {},
         "output_type": "display_data"
        }
       ],
       "tabbable": null,
       "tooltip": null
      }
     },
     "345b6d74faa24650b23c49acb444fea9": {
      "model_module": "@jupyter-widgets/base",
      "model_module_version": "2.0.0",
      "model_name": "LayoutModel",
      "state": {
       "_model_module": "@jupyter-widgets/base",
       "_model_module_version": "2.0.0",
       "_model_name": "LayoutModel",
       "_view_count": null,
       "_view_module": "@jupyter-widgets/base",
       "_view_module_version": "2.0.0",
       "_view_name": "LayoutView",
       "align_content": null,
       "align_items": null,
       "align_self": null,
       "border_bottom": null,
       "border_left": null,
       "border_right": null,
       "border_top": null,
       "bottom": null,
       "display": null,
       "flex": null,
       "flex_flow": null,
       "grid_area": null,
       "grid_auto_columns": null,
       "grid_auto_flow": null,
       "grid_auto_rows": null,
       "grid_column": null,
       "grid_gap": null,
       "grid_row": null,
       "grid_template_areas": null,
       "grid_template_columns": null,
       "grid_template_rows": null,
       "height": null,
       "justify_content": null,
       "justify_items": null,
       "left": null,
       "margin": null,
       "max_height": null,
       "max_width": null,
       "min_height": null,
       "min_width": null,
       "object_fit": null,
       "object_position": null,
       "order": null,
       "overflow": null,
       "padding": null,
       "right": null,
       "top": null,
       "visibility": null,
       "width": null
      }
     },
     "36f43f0065ca4f43b697f08f992577c8": {
      "model_module": "@jupyter-widgets/base",
      "model_module_version": "2.0.0",
      "model_name": "LayoutModel",
      "state": {
       "_model_module": "@jupyter-widgets/base",
       "_model_module_version": "2.0.0",
       "_model_name": "LayoutModel",
       "_view_count": null,
       "_view_module": "@jupyter-widgets/base",
       "_view_module_version": "2.0.0",
       "_view_name": "LayoutView",
       "align_content": null,
       "align_items": null,
       "align_self": null,
       "border_bottom": null,
       "border_left": null,
       "border_right": null,
       "border_top": null,
       "bottom": null,
       "display": null,
       "flex": null,
       "flex_flow": null,
       "grid_area": null,
       "grid_auto_columns": null,
       "grid_auto_flow": null,
       "grid_auto_rows": null,
       "grid_column": null,
       "grid_gap": null,
       "grid_row": null,
       "grid_template_areas": null,
       "grid_template_columns": null,
       "grid_template_rows": null,
       "height": null,
       "justify_content": null,
       "justify_items": null,
       "left": null,
       "margin": null,
       "max_height": null,
       "max_width": null,
       "min_height": null,
       "min_width": null,
       "object_fit": null,
       "object_position": null,
       "order": null,
       "overflow": null,
       "padding": null,
       "right": null,
       "top": null,
       "visibility": null,
       "width": null
      }
     },
     "3c2946000c574a698db9f98e0c8fff6a": {
      "model_module": "@jupyter-widgets/base",
      "model_module_version": "2.0.0",
      "model_name": "LayoutModel",
      "state": {
       "_model_module": "@jupyter-widgets/base",
       "_model_module_version": "2.0.0",
       "_model_name": "LayoutModel",
       "_view_count": null,
       "_view_module": "@jupyter-widgets/base",
       "_view_module_version": "2.0.0",
       "_view_name": "LayoutView",
       "align_content": null,
       "align_items": null,
       "align_self": null,
       "border_bottom": null,
       "border_left": null,
       "border_right": null,
       "border_top": null,
       "bottom": null,
       "display": null,
       "flex": null,
       "flex_flow": null,
       "grid_area": null,
       "grid_auto_columns": null,
       "grid_auto_flow": null,
       "grid_auto_rows": null,
       "grid_column": null,
       "grid_gap": null,
       "grid_row": null,
       "grid_template_areas": null,
       "grid_template_columns": null,
       "grid_template_rows": null,
       "height": null,
       "justify_content": null,
       "justify_items": null,
       "left": null,
       "margin": null,
       "max_height": null,
       "max_width": null,
       "min_height": null,
       "min_width": null,
       "object_fit": null,
       "object_position": null,
       "order": null,
       "overflow": null,
       "padding": null,
       "right": null,
       "top": null,
       "visibility": null,
       "width": null
      }
     },
     "448de59ee0d443039f349c8cb0bb2efa": {
      "model_module": "@jupyter-widgets/output",
      "model_module_version": "1.0.0",
      "model_name": "OutputModel",
      "state": {
       "_dom_classes": [],
       "_model_module": "@jupyter-widgets/output",
       "_model_module_version": "1.0.0",
       "_model_name": "OutputModel",
       "_view_count": null,
       "_view_module": "@jupyter-widgets/output",
       "_view_module_version": "1.0.0",
       "_view_name": "OutputView",
       "layout": "IPY_MODEL_bf3f5e1d7103453482bee7d467fd422b",
       "msg_id": "",
       "outputs": [
        {
         "data": {
          "text/html": "<pre style=\"white-space:pre;overflow-x:auto;line-height:normal;font-family:Menlo,'DejaVu Sans Mono',consolas,'Courier New',monospace\"><span style=\"color: #800000; text-decoration-color: #800000; font-weight: bold\">↑</span> <span style=\"color: #000080; text-decoration-color: #000080; font-weight: bold\">simulation.json</span> <span style=\"color: #3a3a3a; text-decoration-color: #3a3a3a\">━━━━━━━━━━━━━━━━━━━━━━━━━━━━━━━━━━━━━━━━</span> <span style=\"color: #800080; text-decoration-color: #800080\">0.0%</span> • <span style=\"color: #008000; text-decoration-color: #008000\">0.0/9.3 kB</span> • <span style=\"color: #800000; text-decoration-color: #800000\">?</span> • <span style=\"color: #008080; text-decoration-color: #008080\">-:--:--</span>\n<span style=\"color: #800000; text-decoration-color: #800000; font-weight: bold\">↑</span> <span style=\"color: #000080; text-decoration-color: #000080; font-weight: bold\">simulation.json</span> <span style=\"color: #3a3a3a; text-decoration-color: #3a3a3a\">━━━━━━━━━━━━━━━━━━━━━━━━━━━━━━━━━━━━━━━━</span> <span style=\"color: #800080; text-decoration-color: #800080\">0.0%</span> • <span style=\"color: #008000; text-decoration-color: #008000\">0.0/9.3 kB</span> • <span style=\"color: #800000; text-decoration-color: #800000\">?</span> • <span style=\"color: #008080; text-decoration-color: #008080\">-:--:--</span></pre>\n",
          "text/plain": "\r\u001b[2K\u001b[1;31m↑\u001b[0m \u001b[1;34msimulation.json\u001b[0m \u001b[38;5;237m━━━━━━━━━━━━━━━━━━━━━━━━━━━━━━━━━━━━━━━━\u001b[0m \u001b[35m0.0%\u001b[0m • \u001b[32m0.0/9.3 kB\u001b[0m • \u001b[31m?\u001b[0m • \u001b[36m-:--:--\u001b[0m\n\u001b[1;31m↑\u001b[0m \u001b[1;34msimulation.json\u001b[0m \u001b[38;5;237m━━━━━━━━━━━━━━━━━━━━━━━━━━━━━━━━━━━━━━━━\u001b[0m \u001b[35m0.0%\u001b[0m • \u001b[32m0.0/9.3 kB\u001b[0m • \u001b[31m?\u001b[0m • \u001b[36m-:--:--\u001b[0m"
         },
         "metadata": {},
         "output_type": "display_data"
        }
       ],
       "tabbable": null,
       "tooltip": null
      }
     },
     "45d7b17d30044c62b26448dbe9ab8469": {
      "model_module": "@jupyter-widgets/base",
      "model_module_version": "2.0.0",
      "model_name": "LayoutModel",
      "state": {
       "_model_module": "@jupyter-widgets/base",
       "_model_module_version": "2.0.0",
       "_model_name": "LayoutModel",
       "_view_count": null,
       "_view_module": "@jupyter-widgets/base",
       "_view_module_version": "2.0.0",
       "_view_name": "LayoutView",
       "align_content": null,
       "align_items": null,
       "align_self": null,
       "border_bottom": null,
       "border_left": null,
       "border_right": null,
       "border_top": null,
       "bottom": null,
       "display": null,
       "flex": null,
       "flex_flow": null,
       "grid_area": null,
       "grid_auto_columns": null,
       "grid_auto_flow": null,
       "grid_auto_rows": null,
       "grid_column": null,
       "grid_gap": null,
       "grid_row": null,
       "grid_template_areas": null,
       "grid_template_columns": null,
       "grid_template_rows": null,
       "height": null,
       "justify_content": null,
       "justify_items": null,
       "left": null,
       "margin": null,
       "max_height": null,
       "max_width": null,
       "min_height": null,
       "min_width": null,
       "object_fit": null,
       "object_position": null,
       "order": null,
       "overflow": null,
       "padding": null,
       "right": null,
       "top": null,
       "visibility": null,
       "width": null
      }
     },
     "476873c3ad1a40f5941306330c21ac45": {
      "model_module": "@jupyter-widgets/base",
      "model_module_version": "2.0.0",
      "model_name": "LayoutModel",
      "state": {
       "_model_module": "@jupyter-widgets/base",
       "_model_module_version": "2.0.0",
       "_model_name": "LayoutModel",
       "_view_count": null,
       "_view_module": "@jupyter-widgets/base",
       "_view_module_version": "2.0.0",
       "_view_name": "LayoutView",
       "align_content": null,
       "align_items": null,
       "align_self": null,
       "border_bottom": null,
       "border_left": null,
       "border_right": null,
       "border_top": null,
       "bottom": null,
       "display": null,
       "flex": null,
       "flex_flow": null,
       "grid_area": null,
       "grid_auto_columns": null,
       "grid_auto_flow": null,
       "grid_auto_rows": null,
       "grid_column": null,
       "grid_gap": null,
       "grid_row": null,
       "grid_template_areas": null,
       "grid_template_columns": null,
       "grid_template_rows": null,
       "height": null,
       "justify_content": null,
       "justify_items": null,
       "left": null,
       "margin": null,
       "max_height": null,
       "max_width": null,
       "min_height": null,
       "min_width": null,
       "object_fit": null,
       "object_position": null,
       "order": null,
       "overflow": null,
       "padding": null,
       "right": null,
       "top": null,
       "visibility": null,
       "width": null
      }
     },
     "49213266572544cbb506fa4099284d55": {
      "model_module": "@jupyter-widgets/output",
      "model_module_version": "1.0.0",
      "model_name": "OutputModel",
      "state": {
       "_dom_classes": [],
       "_model_module": "@jupyter-widgets/output",
       "_model_module_version": "1.0.0",
       "_model_name": "OutputModel",
       "_view_count": null,
       "_view_module": "@jupyter-widgets/output",
       "_view_module_version": "1.0.0",
       "_view_name": "OutputView",
       "layout": "IPY_MODEL_edd6afbc22da4eb4bf80fcae85be1e01",
       "msg_id": "",
       "outputs": [
        {
         "data": {
          "text/html": "<pre style=\"white-space:pre;overflow-x:auto;line-height:normal;font-family:Menlo,'DejaVu Sans Mono',consolas,'Courier New',monospace\">best RMS error so far: 3.14e-02 <span style=\"color: #f92672; text-decoration-color: #f92672\">━━━━━━━━━╸</span><span style=\"color: #3a3a3a; text-decoration-color: #3a3a3a\">━━━━━━━━━━━━━━━━━━━━━━━━━━━━━━</span> <span style=\"color: #800080; text-decoration-color: #800080\"> 24%</span> <span style=\"color: #008080; text-decoration-color: #008080\">0:00:29</span>\nbest RMS error so far: 3.14e-02 <span style=\"color: #f92672; text-decoration-color: #f92672\">━━━━━━━━━╸</span><span style=\"color: #3a3a3a; text-decoration-color: #3a3a3a\">━━━━━━━━━━━━━━━━━━━━━━━━━━━━━━</span> <span style=\"color: #800080; text-decoration-color: #800080\"> 24%</span> <span style=\"color: #008080; text-decoration-color: #008080\">0:00:29</span></pre>\n",
          "text/plain": "\r\u001b[2Kbest RMS error so far: 3.14e-02 \u001b[38;2;249;38;114m━━━━━━━━━\u001b[0m\u001b[38;2;249;38;114m╸\u001b[0m\u001b[38;5;237m━━━━━━━━━━━━━━━━━━━━━━━━━━━━━━\u001b[0m \u001b[35m 24%\u001b[0m \u001b[36m0:00:29\u001b[0m\nbest RMS error so far: 3.14e-02 \u001b[38;2;249;38;114m━━━━━━━━━\u001b[0m\u001b[38;2;249;38;114m╸\u001b[0m\u001b[38;5;237m━━━━━━━━━━━━━━━━━━━━━━━━━━━━━━\u001b[0m \u001b[35m 24%\u001b[0m \u001b[36m0:00:29\u001b[0m"
         },
         "metadata": {},
         "output_type": "display_data"
        }
       ],
       "tabbable": null,
       "tooltip": null
      }
     },
     "4b765ffa7abe418eb3b7f9fec2be9fc0": {
      "model_module": "@jupyter-widgets/base",
      "model_module_version": "2.0.0",
      "model_name": "LayoutModel",
      "state": {
       "_model_module": "@jupyter-widgets/base",
       "_model_module_version": "2.0.0",
       "_model_name": "LayoutModel",
       "_view_count": null,
       "_view_module": "@jupyter-widgets/base",
       "_view_module_version": "2.0.0",
       "_view_name": "LayoutView",
       "align_content": null,
       "align_items": null,
       "align_self": null,
       "border_bottom": null,
       "border_left": null,
       "border_right": null,
       "border_top": null,
       "bottom": null,
       "display": null,
       "flex": null,
       "flex_flow": null,
       "grid_area": null,
       "grid_auto_columns": null,
       "grid_auto_flow": null,
       "grid_auto_rows": null,
       "grid_column": null,
       "grid_gap": null,
       "grid_row": null,
       "grid_template_areas": null,
       "grid_template_columns": null,
       "grid_template_rows": null,
       "height": null,
       "justify_content": null,
       "justify_items": null,
       "left": null,
       "margin": null,
       "max_height": null,
       "max_width": null,
       "min_height": null,
       "min_width": null,
       "object_fit": null,
       "object_position": null,
       "order": null,
       "overflow": null,
       "padding": null,
       "right": null,
       "top": null,
       "visibility": null,
       "width": null
      }
     },
     "51272322d4a14c78926208fd4643cdfb": {
      "model_module": "@jupyter-widgets/output",
      "model_module_version": "1.0.0",
      "model_name": "OutputModel",
      "state": {
       "_dom_classes": [],
       "_model_module": "@jupyter-widgets/output",
       "_model_module_version": "1.0.0",
       "_model_name": "OutputModel",
       "_view_count": null,
       "_view_module": "@jupyter-widgets/output",
       "_view_module_version": "1.0.0",
       "_view_name": "OutputView",
       "layout": "IPY_MODEL_fd8dae3e97d84c39b6c06e675f5d0785",
       "msg_id": "",
       "outputs": [
        {
         "data": {
          "text/html": "<pre style=\"white-space:pre;overflow-x:auto;line-height:normal;font-family:Menlo,'DejaVu Sans Mono',consolas,'Courier New',monospace\"><span style=\"color: #008000; text-decoration-color: #008000\">🏃 </span> <span style=\"color: #008000; text-decoration-color: #008000; font-weight: bold\">Starting 'plasmonic_yagi_uda_on_glass'...</span>\n<span style=\"color: #008000; text-decoration-color: #008000\">🏃 </span> <span style=\"color: #008000; text-decoration-color: #008000; font-weight: bold\">Starting 'plasmonic_yagi_uda_on_glass'...</span></pre>\n",
          "text/plain": "\r\u001b[2K\u001b[32m🏃 \u001b[0m \u001b[1;32mStarting 'plasmonic_yagi_uda_on_glass'...\u001b[0m\n\u001b[32m🏃 \u001b[0m \u001b[1;32mStarting 'plasmonic_yagi_uda_on_glass'...\u001b[0m"
         },
         "metadata": {},
         "output_type": "display_data"
        }
       ],
       "tabbable": null,
       "tooltip": null
      }
     },
     "54676d1d1edf4225b7152682b7f270cc": {
      "model_module": "@jupyter-widgets/base",
      "model_module_version": "2.0.0",
      "model_name": "LayoutModel",
      "state": {
       "_model_module": "@jupyter-widgets/base",
       "_model_module_version": "2.0.0",
       "_model_name": "LayoutModel",
       "_view_count": null,
       "_view_module": "@jupyter-widgets/base",
       "_view_module_version": "2.0.0",
       "_view_name": "LayoutView",
       "align_content": null,
       "align_items": null,
       "align_self": null,
       "border_bottom": null,
       "border_left": null,
       "border_right": null,
       "border_top": null,
       "bottom": null,
       "display": null,
       "flex": null,
       "flex_flow": null,
       "grid_area": null,
       "grid_auto_columns": null,
       "grid_auto_flow": null,
       "grid_auto_rows": null,
       "grid_column": null,
       "grid_gap": null,
       "grid_row": null,
       "grid_template_areas": null,
       "grid_template_columns": null,
       "grid_template_rows": null,
       "height": null,
       "justify_content": null,
       "justify_items": null,
       "left": null,
       "margin": null,
       "max_height": null,
       "max_width": null,
       "min_height": null,
       "min_width": null,
       "object_fit": null,
       "object_position": null,
       "order": null,
       "overflow": null,
       "padding": null,
       "right": null,
       "top": null,
       "visibility": null,
       "width": null
      }
     },
     "56f2037127af47e4ab90ec18eb1214f5": {
      "model_module": "@jupyter-widgets/output",
      "model_module_version": "1.0.0",
      "model_name": "OutputModel",
      "state": {
       "_dom_classes": [],
       "_model_module": "@jupyter-widgets/output",
       "_model_module_version": "1.0.0",
       "_model_name": "OutputModel",
       "_view_count": null,
       "_view_module": "@jupyter-widgets/output",
       "_view_module_version": "1.0.0",
       "_view_name": "OutputView",
       "layout": "IPY_MODEL_67904e159636461784ba84dc556d9302",
       "msg_id": "",
       "outputs": [
        {
         "data": {
          "text/html": "<pre style=\"white-space:pre;overflow-x:auto;line-height:normal;font-family:Menlo,'DejaVu Sans Mono',consolas,'Courier New',monospace\"><span style=\"color: #008000; text-decoration-color: #008000\">🚶 </span> <span style=\"color: #008000; text-decoration-color: #008000; font-weight: bold\">Starting 'plasmonic_yagi_uda'...</span>\n<span style=\"color: #008000; text-decoration-color: #008000\">🚶 </span> <span style=\"color: #008000; text-decoration-color: #008000; font-weight: bold\">Starting 'plasmonic_yagi_uda'...</span></pre>\n",
          "text/plain": "\r\u001b[2K\u001b[32m🚶 \u001b[0m \u001b[1;32mStarting 'plasmonic_yagi_uda'...\u001b[0m\n\u001b[32m🚶 \u001b[0m \u001b[1;32mStarting 'plasmonic_yagi_uda'...\u001b[0m"
         },
         "metadata": {},
         "output_type": "display_data"
        }
       ],
       "tabbable": null,
       "tooltip": null
      }
     },
     "5ebdce33ecf34d35963ad84de4f20dc0": {
      "model_module": "@jupyter-widgets/output",
      "model_module_version": "1.0.0",
      "model_name": "OutputModel",
      "state": {
       "_dom_classes": [],
       "_model_module": "@jupyter-widgets/output",
       "_model_module_version": "1.0.0",
       "_model_name": "OutputModel",
       "_view_count": null,
       "_view_module": "@jupyter-widgets/output",
       "_view_module_version": "1.0.0",
       "_view_name": "OutputView",
       "layout": "IPY_MODEL_54676d1d1edf4225b7152682b7f270cc",
       "msg_id": "",
       "outputs": [
        {
         "data": {
          "text/html": "<pre style=\"white-space:pre;overflow-x:auto;line-height:normal;font-family:Menlo,'DejaVu Sans Mono',consolas,'Courier New',monospace\"><span style=\"color: #008000; text-decoration-color: #008000; font-weight: bold\">↓</span> <span style=\"color: #000080; text-decoration-color: #000080; font-weight: bold\">monitor_data.hdf5</span> <span style=\"color: #f92672; text-decoration-color: #f92672\">━━━━━━━━━━━━━━━━━━━━━━━━━━━━━━╸</span><span style=\"color: #3a3a3a; text-decoration-color: #3a3a3a\">━━━━━━━━━</span> <span style=\"color: #800080; text-decoration-color: #800080\">77.4%</span> • <span style=\"color: #008000; text-decoration-color: #008000\">0.8/1.0 MB</span> • <span style=\"color: #800000; text-decoration-color: #800000\">1.8 MB/s</span> • <span style=\"color: #008080; text-decoration-color: #008080\">0:00:01</span>\n<span style=\"color: #008000; text-decoration-color: #008000; font-weight: bold\">↓</span> <span style=\"color: #000080; text-decoration-color: #000080; font-weight: bold\">monitor_data.hdf5</span> <span style=\"color: #f92672; text-decoration-color: #f92672\">━━━━━━━━━━━━━━━━━━━━━━━━━━━━━━╸</span><span style=\"color: #3a3a3a; text-decoration-color: #3a3a3a\">━━━━━━━━━</span> <span style=\"color: #800080; text-decoration-color: #800080\">77.4%</span> • <span style=\"color: #008000; text-decoration-color: #008000\">0.8/1.0 MB</span> • <span style=\"color: #800000; text-decoration-color: #800000\">1.8 MB/s</span> • <span style=\"color: #008080; text-decoration-color: #008080\">0:00:01</span></pre>\n",
          "text/plain": "\r\u001b[2K\u001b[1;32m↓\u001b[0m \u001b[1;34mmonitor_data.hdf5\u001b[0m \u001b[38;2;249;38;114m━━━━━━━━━━━━━━━━━━━━━━━━━━━━━━\u001b[0m\u001b[38;2;249;38;114m╸\u001b[0m\u001b[38;5;237m━━━━━━━━━\u001b[0m \u001b[35m77.4%\u001b[0m • \u001b[32m0.8/1.0 MB\u001b[0m • \u001b[31m1.8 MB/s\u001b[0m • \u001b[36m0:00:01\u001b[0m\n\u001b[1;32m↓\u001b[0m \u001b[1;34mmonitor_data.hdf5\u001b[0m \u001b[38;2;249;38;114m━━━━━━━━━━━━━━━━━━━━━━━━━━━━━━\u001b[0m\u001b[38;2;249;38;114m╸\u001b[0m\u001b[38;5;237m━━━━━━━━━\u001b[0m \u001b[35m77.4%\u001b[0m • \u001b[32m0.8/1.0 MB\u001b[0m • \u001b[31m1.8 MB/s\u001b[0m • \u001b[36m0:00:01\u001b[0m"
         },
         "metadata": {},
         "output_type": "display_data"
        }
       ],
       "tabbable": null,
       "tooltip": null
      }
     },
     "66d5af8b638446b8b7404e2d28bc6355": {
      "model_module": "@jupyter-widgets/base",
      "model_module_version": "2.0.0",
      "model_name": "LayoutModel",
      "state": {
       "_model_module": "@jupyter-widgets/base",
       "_model_module_version": "2.0.0",
       "_model_name": "LayoutModel",
       "_view_count": null,
       "_view_module": "@jupyter-widgets/base",
       "_view_module_version": "2.0.0",
       "_view_name": "LayoutView",
       "align_content": null,
       "align_items": null,
       "align_self": null,
       "border_bottom": null,
       "border_left": null,
       "border_right": null,
       "border_top": null,
       "bottom": null,
       "display": null,
       "flex": null,
       "flex_flow": null,
       "grid_area": null,
       "grid_auto_columns": null,
       "grid_auto_flow": null,
       "grid_auto_rows": null,
       "grid_column": null,
       "grid_gap": null,
       "grid_row": null,
       "grid_template_areas": null,
       "grid_template_columns": null,
       "grid_template_rows": null,
       "height": null,
       "justify_content": null,
       "justify_items": null,
       "left": null,
       "margin": null,
       "max_height": null,
       "max_width": null,
       "min_height": null,
       "min_width": null,
       "object_fit": null,
       "object_position": null,
       "order": null,
       "overflow": null,
       "padding": null,
       "right": null,
       "top": null,
       "visibility": null,
       "width": null
      }
     },
     "678e64688af14d22839d69d8b089d05c": {
      "model_module": "@jupyter-widgets/output",
      "model_module_version": "1.0.0",
      "model_name": "OutputModel",
      "state": {
       "_dom_classes": [],
       "_model_module": "@jupyter-widgets/output",
       "_model_module_version": "1.0.0",
       "_model_name": "OutputModel",
       "_view_count": null,
       "_view_module": "@jupyter-widgets/output",
       "_view_module_version": "1.0.0",
       "_view_name": "OutputView",
       "layout": "IPY_MODEL_3c2946000c574a698db9f98e0c8fff6a",
       "msg_id": "",
       "outputs": [
        {
         "data": {
          "text/html": "<pre style=\"white-space:pre;overflow-x:auto;line-height:normal;font-family:Menlo,'DejaVu Sans Mono',consolas,'Courier New',monospace\"><span style=\"color: #008000; text-decoration-color: #008000\">🚶 </span> <span style=\"color: #008000; text-decoration-color: #008000; font-weight: bold\">Starting 'empty'...</span>\n<span style=\"color: #008000; text-decoration-color: #008000\">🚶 </span> <span style=\"color: #008000; text-decoration-color: #008000; font-weight: bold\">Starting 'empty'...</span></pre>\n",
          "text/plain": "\r\u001b[2K\u001b[32m🚶 \u001b[0m \u001b[1;32mStarting 'empty'...\u001b[0m\n\u001b[32m🚶 \u001b[0m \u001b[1;32mStarting 'empty'...\u001b[0m"
         },
         "metadata": {},
         "output_type": "display_data"
        }
       ],
       "tabbable": null,
       "tooltip": null
      }
     },
     "67904e159636461784ba84dc556d9302": {
      "model_module": "@jupyter-widgets/base",
      "model_module_version": "2.0.0",
      "model_name": "LayoutModel",
      "state": {
       "_model_module": "@jupyter-widgets/base",
       "_model_module_version": "2.0.0",
       "_model_name": "LayoutModel",
       "_view_count": null,
       "_view_module": "@jupyter-widgets/base",
       "_view_module_version": "2.0.0",
       "_view_name": "LayoutView",
       "align_content": null,
       "align_items": null,
       "align_self": null,
       "border_bottom": null,
       "border_left": null,
       "border_right": null,
       "border_top": null,
       "bottom": null,
       "display": null,
       "flex": null,
       "flex_flow": null,
       "grid_area": null,
       "grid_auto_columns": null,
       "grid_auto_flow": null,
       "grid_auto_rows": null,
       "grid_column": null,
       "grid_gap": null,
       "grid_row": null,
       "grid_template_areas": null,
       "grid_template_columns": null,
       "grid_template_rows": null,
       "height": null,
       "justify_content": null,
       "justify_items": null,
       "left": null,
       "margin": null,
       "max_height": null,
       "max_width": null,
       "min_height": null,
       "min_width": null,
       "object_fit": null,
       "object_position": null,
       "order": null,
       "overflow": null,
       "padding": null,
       "right": null,
       "top": null,
       "visibility": null,
       "width": null
      }
     },
     "7b57e64b4a2c4c718f1956c974c46de3": {
      "model_module": "@jupyter-widgets/base",
      "model_module_version": "2.0.0",
      "model_name": "LayoutModel",
      "state": {
       "_model_module": "@jupyter-widgets/base",
       "_model_module_version": "2.0.0",
       "_model_name": "LayoutModel",
       "_view_count": null,
       "_view_module": "@jupyter-widgets/base",
       "_view_module_version": "2.0.0",
       "_view_name": "LayoutView",
       "align_content": null,
       "align_items": null,
       "align_self": null,
       "border_bottom": null,
       "border_left": null,
       "border_right": null,
       "border_top": null,
       "bottom": null,
       "display": null,
       "flex": null,
       "flex_flow": null,
       "grid_area": null,
       "grid_auto_columns": null,
       "grid_auto_flow": null,
       "grid_auto_rows": null,
       "grid_column": null,
       "grid_gap": null,
       "grid_row": null,
       "grid_template_areas": null,
       "grid_template_columns": null,
       "grid_template_rows": null,
       "height": null,
       "justify_content": null,
       "justify_items": null,
       "left": null,
       "margin": null,
       "max_height": null,
       "max_width": null,
       "min_height": null,
       "min_width": null,
       "object_fit": null,
       "object_position": null,
       "order": null,
       "overflow": null,
       "padding": null,
       "right": null,
       "top": null,
       "visibility": null,
       "width": null
      }
     },
     "82d1529becb84238905cdbb7a5e98b24": {
      "model_module": "@jupyter-widgets/output",
      "model_module_version": "1.0.0",
      "model_name": "OutputModel",
      "state": {
       "_dom_classes": [],
       "_model_module": "@jupyter-widgets/output",
       "_model_module_version": "1.0.0",
       "_model_name": "OutputModel",
       "_view_count": null,
       "_view_module": "@jupyter-widgets/output",
       "_view_module_version": "1.0.0",
       "_view_name": "OutputView",
       "layout": "IPY_MODEL_476873c3ad1a40f5941306330c21ac45",
       "msg_id": "",
       "outputs": [
        {
         "data": {
          "text/html": "<pre style=\"white-space:pre;overflow-x:auto;line-height:normal;font-family:Menlo,'DejaVu Sans Mono',consolas,'Courier New',monospace\">% done (field decay = 8.89e-06) <span style=\"color: #f92672; text-decoration-color: #f92672\">━━━━━━━━━━━━━━━━━━━━━━━━━━━</span><span style=\"color: #3a3a3a; text-decoration-color: #3a3a3a\">╺━━━━━━━━━━━━</span> <span style=\"color: #800080; text-decoration-color: #800080\"> 68%</span> <span style=\"color: #008080; text-decoration-color: #008080\">0:01:21</span>\n% done (field decay = 8.89e-06) <span style=\"color: #f92672; text-decoration-color: #f92672\">━━━━━━━━━━━━━━━━━━━━━━━━━━━</span><span style=\"color: #3a3a3a; text-decoration-color: #3a3a3a\">╺━━━━━━━━━━━━</span> <span style=\"color: #800080; text-decoration-color: #800080\"> 68%</span> <span style=\"color: #008080; text-decoration-color: #008080\">0:01:21</span></pre>\n",
          "text/plain": "\r\u001b[2K% done (field decay = 8.89e-06) \u001b[38;2;249;38;114m━━━━━━━━━━━━━━━━━━━━━━━━━━━\u001b[0m\u001b[38;5;237m╺\u001b[0m\u001b[38;5;237m━━━━━━━━━━━━\u001b[0m \u001b[35m 68%\u001b[0m \u001b[36m0:01:21\u001b[0m\n% done (field decay = 8.89e-06) \u001b[38;2;249;38;114m━━━━━━━━━━━━━━━━━━━━━━━━━━━\u001b[0m\u001b[38;5;237m╺\u001b[0m\u001b[38;5;237m━━━━━━━━━━━━\u001b[0m \u001b[35m 68%\u001b[0m \u001b[36m0:01:21\u001b[0m"
         },
         "metadata": {},
         "output_type": "display_data"
        }
       ],
       "tabbable": null,
       "tooltip": null
      }
     },
     "83e5333615f040b084821d92a428f670": {
      "model_module": "@jupyter-widgets/output",
      "model_module_version": "1.0.0",
      "model_name": "OutputModel",
      "state": {
       "_dom_classes": [],
       "_model_module": "@jupyter-widgets/output",
       "_model_module_version": "1.0.0",
       "_model_name": "OutputModel",
       "_view_count": null,
       "_view_module": "@jupyter-widgets/output",
       "_view_module_version": "1.0.0",
       "_view_name": "OutputView",
       "layout": "IPY_MODEL_45d7b17d30044c62b26448dbe9ab8469",
       "msg_id": "",
       "outputs": [
        {
         "data": {
          "text/html": "<pre style=\"white-space:pre;overflow-x:auto;line-height:normal;font-family:Menlo,'DejaVu Sans Mono',consolas,'Courier New',monospace\">% done (field decay = 4.35e-06) <span style=\"color: #f92672; text-decoration-color: #f92672\">━━━━━━━━━━━━━━━━━━━</span><span style=\"color: #3a3a3a; text-decoration-color: #3a3a3a\">╺━━━━━━━━━━━━━━━━━━━━</span> <span style=\"color: #800080; text-decoration-color: #800080\"> 48%</span> <span style=\"color: #008080; text-decoration-color: #008080\">-:--:--</span>\n% done (field decay = 4.35e-06) <span style=\"color: #f92672; text-decoration-color: #f92672\">━━━━━━━━━━━━━━━━━━━</span><span style=\"color: #3a3a3a; text-decoration-color: #3a3a3a\">╺━━━━━━━━━━━━━━━━━━━━</span> <span style=\"color: #800080; text-decoration-color: #800080\"> 48%</span> <span style=\"color: #008080; text-decoration-color: #008080\">-:--:--</span></pre>\n",
          "text/plain": "\r\u001b[2K% done (field decay = 4.35e-06) \u001b[38;2;249;38;114m━━━━━━━━━━━━━━━━━━━\u001b[0m\u001b[38;5;237m╺\u001b[0m\u001b[38;5;237m━━━━━━━━━━━━━━━━━━━━\u001b[0m \u001b[35m 48%\u001b[0m \u001b[36m-:--:--\u001b[0m\n% done (field decay = 4.35e-06) \u001b[38;2;249;38;114m━━━━━━━━━━━━━━━━━━━\u001b[0m\u001b[38;5;237m╺\u001b[0m\u001b[38;5;237m━━━━━━━━━━━━━━━━━━━━\u001b[0m \u001b[35m 48%\u001b[0m \u001b[36m-:--:--\u001b[0m"
         },
         "metadata": {},
         "output_type": "display_data"
        }
       ],
       "tabbable": null,
       "tooltip": null
      }
     },
     "85bc0656a831491ab654de6f80ced77d": {
      "model_module": "@jupyter-widgets/output",
      "model_module_version": "1.0.0",
      "model_name": "OutputModel",
      "state": {
       "_dom_classes": [],
       "_model_module": "@jupyter-widgets/output",
       "_model_module_version": "1.0.0",
       "_model_name": "OutputModel",
       "_view_count": null,
       "_view_module": "@jupyter-widgets/output",
       "_view_module_version": "1.0.0",
       "_view_name": "OutputView",
       "layout": "IPY_MODEL_2a54fb5b521a4c1496de7e8b1088e8fb",
       "msg_id": "",
       "outputs": [
        {
         "data": {
          "text/html": "<pre style=\"white-space:pre;overflow-x:auto;line-height:normal;font-family:Menlo,'DejaVu Sans Mono',consolas,'Courier New',monospace\"><span style=\"color: #008000; text-decoration-color: #008000\">🚶 </span> <span style=\"color: #008000; text-decoration-color: #008000; font-weight: bold\">Finishing 'plasmonic_yagi_uda'...</span>\n<span style=\"color: #008000; text-decoration-color: #008000\">🚶 </span> <span style=\"color: #008000; text-decoration-color: #008000; font-weight: bold\">Finishing 'plasmonic_yagi_uda'...</span></pre>\n",
          "text/plain": "\r\u001b[2K\u001b[32m🚶 \u001b[0m \u001b[1;32mFinishing 'plasmonic_yagi_uda'...\u001b[0m\n\u001b[32m🚶 \u001b[0m \u001b[1;32mFinishing 'plasmonic_yagi_uda'...\u001b[0m"
         },
         "metadata": {},
         "output_type": "display_data"
        }
       ],
       "tabbable": null,
       "tooltip": null
      }
     },
     "8ae0baf777a94e19a837973b2b5b90f7": {
      "model_module": "@jupyter-widgets/output",
      "model_module_version": "1.0.0",
      "model_name": "OutputModel",
      "state": {
       "_dom_classes": [],
       "_model_module": "@jupyter-widgets/output",
       "_model_module_version": "1.0.0",
       "_model_name": "OutputModel",
       "_view_count": null,
       "_view_module": "@jupyter-widgets/output",
       "_view_module_version": "1.0.0",
       "_view_name": "OutputView",
       "layout": "IPY_MODEL_9d70aa5408fa436fa85df6b0aa9fed14",
       "msg_id": "",
       "outputs": [
        {
         "data": {
          "text/html": "<pre style=\"white-space:pre;overflow-x:auto;line-height:normal;font-family:Menlo,'DejaVu Sans Mono',consolas,'Courier New',monospace\"><span style=\"color: #008000; text-decoration-color: #008000\">🏃 </span> <span style=\"color: #008000; text-decoration-color: #008000; font-weight: bold\">Finishing 'empty'...</span>\n<span style=\"color: #008000; text-decoration-color: #008000\">🏃 </span> <span style=\"color: #008000; text-decoration-color: #008000; font-weight: bold\">Finishing 'empty'...</span></pre>\n",
          "text/plain": "\r\u001b[2K\u001b[32m🏃 \u001b[0m \u001b[1;32mFinishing 'empty'...\u001b[0m\n\u001b[32m🏃 \u001b[0m \u001b[1;32mFinishing 'empty'...\u001b[0m"
         },
         "metadata": {},
         "output_type": "display_data"
        }
       ],
       "tabbable": null,
       "tooltip": null
      }
     },
     "9addd3b485e2445aa3df296d1c409fb2": {
      "model_module": "@jupyter-widgets/base",
      "model_module_version": "2.0.0",
      "model_name": "LayoutModel",
      "state": {
       "_model_module": "@jupyter-widgets/base",
       "_model_module_version": "2.0.0",
       "_model_name": "LayoutModel",
       "_view_count": null,
       "_view_module": "@jupyter-widgets/base",
       "_view_module_version": "2.0.0",
       "_view_name": "LayoutView",
       "align_content": null,
       "align_items": null,
       "align_self": null,
       "border_bottom": null,
       "border_left": null,
       "border_right": null,
       "border_top": null,
       "bottom": null,
       "display": null,
       "flex": null,
       "flex_flow": null,
       "grid_area": null,
       "grid_auto_columns": null,
       "grid_auto_flow": null,
       "grid_auto_rows": null,
       "grid_column": null,
       "grid_gap": null,
       "grid_row": null,
       "grid_template_areas": null,
       "grid_template_columns": null,
       "grid_template_rows": null,
       "height": null,
       "justify_content": null,
       "justify_items": null,
       "left": null,
       "margin": null,
       "max_height": null,
       "max_width": null,
       "min_height": null,
       "min_width": null,
       "object_fit": null,
       "object_position": null,
       "order": null,
       "overflow": null,
       "padding": null,
       "right": null,
       "top": null,
       "visibility": null,
       "width": null
      }
     },
     "9d70aa5408fa436fa85df6b0aa9fed14": {
      "model_module": "@jupyter-widgets/base",
      "model_module_version": "2.0.0",
      "model_name": "LayoutModel",
      "state": {
       "_model_module": "@jupyter-widgets/base",
       "_model_module_version": "2.0.0",
       "_model_name": "LayoutModel",
       "_view_count": null,
       "_view_module": "@jupyter-widgets/base",
       "_view_module_version": "2.0.0",
       "_view_name": "LayoutView",
       "align_content": null,
       "align_items": null,
       "align_self": null,
       "border_bottom": null,
       "border_left": null,
       "border_right": null,
       "border_top": null,
       "bottom": null,
       "display": null,
       "flex": null,
       "flex_flow": null,
       "grid_area": null,
       "grid_auto_columns": null,
       "grid_auto_flow": null,
       "grid_auto_rows": null,
       "grid_column": null,
       "grid_gap": null,
       "grid_row": null,
       "grid_template_areas": null,
       "grid_template_columns": null,
       "grid_template_rows": null,
       "height": null,
       "justify_content": null,
       "justify_items": null,
       "left": null,
       "margin": null,
       "max_height": null,
       "max_width": null,
       "min_height": null,
       "min_width": null,
       "object_fit": null,
       "object_position": null,
       "order": null,
       "overflow": null,
       "padding": null,
       "right": null,
       "top": null,
       "visibility": null,
       "width": null
      }
     },
     "b92ea678d8f24e01b3f94f226ecf1134": {
      "model_module": "@jupyter-widgets/output",
      "model_module_version": "1.0.0",
      "model_name": "OutputModel",
      "state": {
       "_dom_classes": [],
       "_model_module": "@jupyter-widgets/output",
       "_model_module_version": "1.0.0",
       "_model_name": "OutputModel",
       "_view_count": null,
       "_view_module": "@jupyter-widgets/output",
       "_view_module_version": "1.0.0",
       "_view_name": "OutputView",
       "layout": "IPY_MODEL_36f43f0065ca4f43b697f08f992577c8",
       "msg_id": "",
       "outputs": [
        {
         "data": {
          "text/html": "<pre style=\"white-space:pre;overflow-x:auto;line-height:normal;font-family:Menlo,'DejaVu Sans Mono',consolas,'Courier New',monospace\">% done (field decay = 4.64e-06) <span style=\"color: #f92672; text-decoration-color: #f92672\">━━━━━━━━━━━━━━━━━━━━━━━━━╸</span><span style=\"color: #3a3a3a; text-decoration-color: #3a3a3a\">━━━━━━━━━━━━━━</span> <span style=\"color: #800080; text-decoration-color: #800080\"> 64%</span> <span style=\"color: #008080; text-decoration-color: #008080\">0:00:30</span>\n% done (field decay = 4.64e-06) <span style=\"color: #f92672; text-decoration-color: #f92672\">━━━━━━━━━━━━━━━━━━━━━━━━━╸</span><span style=\"color: #3a3a3a; text-decoration-color: #3a3a3a\">━━━━━━━━━━━━━━</span> <span style=\"color: #800080; text-decoration-color: #800080\"> 64%</span> <span style=\"color: #008080; text-decoration-color: #008080\">0:00:30</span></pre>\n",
          "text/plain": "\r\u001b[2K% done (field decay = 4.64e-06) \u001b[38;2;249;38;114m━━━━━━━━━━━━━━━━━━━━━━━━━\u001b[0m\u001b[38;2;249;38;114m╸\u001b[0m\u001b[38;5;237m━━━━━━━━━━━━━━\u001b[0m \u001b[35m 64%\u001b[0m \u001b[36m0:00:30\u001b[0m\n% done (field decay = 4.64e-06) \u001b[38;2;249;38;114m━━━━━━━━━━━━━━━━━━━━━━━━━\u001b[0m\u001b[38;2;249;38;114m╸\u001b[0m\u001b[38;5;237m━━━━━━━━━━━━━━\u001b[0m \u001b[35m 64%\u001b[0m \u001b[36m0:00:30\u001b[0m"
         },
         "metadata": {},
         "output_type": "display_data"
        }
       ],
       "tabbable": null,
       "tooltip": null
      }
     },
     "bf3f5e1d7103453482bee7d467fd422b": {
      "model_module": "@jupyter-widgets/base",
      "model_module_version": "2.0.0",
      "model_name": "LayoutModel",
      "state": {
       "_model_module": "@jupyter-widgets/base",
       "_model_module_version": "2.0.0",
       "_model_name": "LayoutModel",
       "_view_count": null,
       "_view_module": "@jupyter-widgets/base",
       "_view_module_version": "2.0.0",
       "_view_name": "LayoutView",
       "align_content": null,
       "align_items": null,
       "align_self": null,
       "border_bottom": null,
       "border_left": null,
       "border_right": null,
       "border_top": null,
       "bottom": null,
       "display": null,
       "flex": null,
       "flex_flow": null,
       "grid_area": null,
       "grid_auto_columns": null,
       "grid_auto_flow": null,
       "grid_auto_rows": null,
       "grid_column": null,
       "grid_gap": null,
       "grid_row": null,
       "grid_template_areas": null,
       "grid_template_columns": null,
       "grid_template_rows": null,
       "height": null,
       "justify_content": null,
       "justify_items": null,
       "left": null,
       "margin": null,
       "max_height": null,
       "max_width": null,
       "min_height": null,
       "min_width": null,
       "object_fit": null,
       "object_position": null,
       "order": null,
       "overflow": null,
       "padding": null,
       "right": null,
       "top": null,
       "visibility": null,
       "width": null
      }
     },
     "c28ea7a35f0a407bb48c2c4125d15ca8": {
      "model_module": "@jupyter-widgets/base",
      "model_module_version": "2.0.0",
      "model_name": "LayoutModel",
      "state": {
       "_model_module": "@jupyter-widgets/base",
       "_model_module_version": "2.0.0",
       "_model_name": "LayoutModel",
       "_view_count": null,
       "_view_module": "@jupyter-widgets/base",
       "_view_module_version": "2.0.0",
       "_view_name": "LayoutView",
       "align_content": null,
       "align_items": null,
       "align_self": null,
       "border_bottom": null,
       "border_left": null,
       "border_right": null,
       "border_top": null,
       "bottom": null,
       "display": null,
       "flex": null,
       "flex_flow": null,
       "grid_area": null,
       "grid_auto_columns": null,
       "grid_auto_flow": null,
       "grid_auto_rows": null,
       "grid_column": null,
       "grid_gap": null,
       "grid_row": null,
       "grid_template_areas": null,
       "grid_template_columns": null,
       "grid_template_rows": null,
       "height": null,
       "justify_content": null,
       "justify_items": null,
       "left": null,
       "margin": null,
       "max_height": null,
       "max_width": null,
       "min_height": null,
       "min_width": null,
       "object_fit": null,
       "object_position": null,
       "order": null,
       "overflow": null,
       "padding": null,
       "right": null,
       "top": null,
       "visibility": null,
       "width": null
      }
     },
     "c4fe2a8ea98f4581999472086b32392a": {
      "model_module": "@jupyter-widgets/base",
      "model_module_version": "2.0.0",
      "model_name": "LayoutModel",
      "state": {
       "_model_module": "@jupyter-widgets/base",
       "_model_module_version": "2.0.0",
       "_model_name": "LayoutModel",
       "_view_count": null,
       "_view_module": "@jupyter-widgets/base",
       "_view_module_version": "2.0.0",
       "_view_name": "LayoutView",
       "align_content": null,
       "align_items": null,
       "align_self": null,
       "border_bottom": null,
       "border_left": null,
       "border_right": null,
       "border_top": null,
       "bottom": null,
       "display": null,
       "flex": null,
       "flex_flow": null,
       "grid_area": null,
       "grid_auto_columns": null,
       "grid_auto_flow": null,
       "grid_auto_rows": null,
       "grid_column": null,
       "grid_gap": null,
       "grid_row": null,
       "grid_template_areas": null,
       "grid_template_columns": null,
       "grid_template_rows": null,
       "height": null,
       "justify_content": null,
       "justify_items": null,
       "left": null,
       "margin": null,
       "max_height": null,
       "max_width": null,
       "min_height": null,
       "min_width": null,
       "object_fit": null,
       "object_position": null,
       "order": null,
       "overflow": null,
       "padding": null,
       "right": null,
       "top": null,
       "visibility": null,
       "width": null
      }
     },
     "d0071d4389fe465ea687f1d9d7aee482": {
      "model_module": "@jupyter-widgets/output",
      "model_module_version": "1.0.0",
      "model_name": "OutputModel",
      "state": {
       "_dom_classes": [],
       "_model_module": "@jupyter-widgets/output",
       "_model_module_version": "1.0.0",
       "_model_name": "OutputModel",
       "_view_count": null,
       "_view_module": "@jupyter-widgets/output",
       "_view_module_version": "1.0.0",
       "_view_name": "OutputView",
       "layout": "IPY_MODEL_c28ea7a35f0a407bb48c2c4125d15ca8",
       "msg_id": "",
       "outputs": [
        {
         "data": {
          "text/html": "<pre style=\"white-space:pre;overflow-x:auto;line-height:normal;font-family:Menlo,'DejaVu Sans Mono',consolas,'Courier New',monospace\"><span style=\"color: #008000; text-decoration-color: #008000; font-weight: bold\">↓</span> <span style=\"color: #000080; text-decoration-color: #000080; font-weight: bold\">monitor_data.hdf5</span> <span style=\"color: #f92672; text-decoration-color: #f92672\">━━━━━━━━━━━━━━━━━━━━━━━━━━━━━━━━━━━━━━━╸</span> <span style=\"color: #800080; text-decoration-color: #800080\">99.4%</span> • <span style=\"color: #008000; text-decoration-color: #008000\">42.2/42.5 MB</span> • <span style=\"color: #800000; text-decoration-color: #800000\">8.5 MB/s</span> • <span style=\"color: #008080; text-decoration-color: #008080\">0:00:01</span>\n<span style=\"color: #008000; text-decoration-color: #008000; font-weight: bold\">↓</span> <span style=\"color: #000080; text-decoration-color: #000080; font-weight: bold\">monitor_data.hdf5</span> <span style=\"color: #f92672; text-decoration-color: #f92672\">━━━━━━━━━━━━━━━━━━━━━━━━━━━━━━━━━━━━━━━╸</span> <span style=\"color: #800080; text-decoration-color: #800080\">99.4%</span> • <span style=\"color: #008000; text-decoration-color: #008000\">42.2/42.5 MB</span> • <span style=\"color: #800000; text-decoration-color: #800000\">8.5 MB/s</span> • <span style=\"color: #008080; text-decoration-color: #008080\">0:00:01</span></pre>\n",
          "text/plain": "\r\u001b[2K\u001b[1;32m↓\u001b[0m \u001b[1;34mmonitor_data.hdf5\u001b[0m \u001b[38;2;249;38;114m━━━━━━━━━━━━━━━━━━━━━━━━━━━━━━━━━━━━━━━\u001b[0m\u001b[38;2;249;38;114m╸\u001b[0m \u001b[35m99.4%\u001b[0m • \u001b[32m42.2/42.5 MB\u001b[0m • \u001b[31m8.5 MB/s\u001b[0m • \u001b[36m0:00:01\u001b[0m\n\u001b[1;32m↓\u001b[0m \u001b[1;34mmonitor_data.hdf5\u001b[0m \u001b[38;2;249;38;114m━━━━━━━━━━━━━━━━━━━━━━━━━━━━━━━━━━━━━━━\u001b[0m\u001b[38;2;249;38;114m╸\u001b[0m \u001b[35m99.4%\u001b[0m • \u001b[32m42.2/42.5 MB\u001b[0m • \u001b[31m8.5 MB/s\u001b[0m • \u001b[36m0:00:01\u001b[0m"
         },
         "metadata": {},
         "output_type": "display_data"
        }
       ],
       "tabbable": null,
       "tooltip": null
      }
     },
     "d644f1a1e253467da6b0136aaeb04b1f": {
      "model_module": "@jupyter-widgets/output",
      "model_module_version": "1.0.0",
      "model_name": "OutputModel",
      "state": {
       "_dom_classes": [],
       "_model_module": "@jupyter-widgets/output",
       "_model_module_version": "1.0.0",
       "_model_name": "OutputModel",
       "_view_count": null,
       "_view_module": "@jupyter-widgets/output",
       "_view_module_version": "1.0.0",
       "_view_name": "OutputView",
       "layout": "IPY_MODEL_ef21808c149a425780a86b182a99f96a",
       "msg_id": "",
       "outputs": [
        {
         "data": {
          "text/html": "<pre style=\"white-space:pre;overflow-x:auto;line-height:normal;font-family:Menlo,'DejaVu Sans Mono',consolas,'Courier New',monospace\"><span style=\"color: #008000; text-decoration-color: #008000\">🏃 </span> <span style=\"color: #008000; text-decoration-color: #008000; font-weight: bold\">Finishing 'plasmonic_yagi_uda_on_glass'...</span>\n<span style=\"color: #008000; text-decoration-color: #008000\">🏃 </span> <span style=\"color: #008000; text-decoration-color: #008000; font-weight: bold\">Finishing 'plasmonic_yagi_uda_on_glass'...</span></pre>\n",
          "text/plain": "\r\u001b[2K\u001b[32m🏃 \u001b[0m \u001b[1;32mFinishing 'plasmonic_yagi_uda_on_glass'...\u001b[0m\n\u001b[32m🏃 \u001b[0m \u001b[1;32mFinishing 'plasmonic_yagi_uda_on_glass'...\u001b[0m"
         },
         "metadata": {},
         "output_type": "display_data"
        }
       ],
       "tabbable": null,
       "tooltip": null
      }
     },
     "df6f7de6903b49c7b5c5b321d64b6c8e": {
      "model_module": "@jupyter-widgets/output",
      "model_module_version": "1.0.0",
      "model_name": "OutputModel",
      "state": {
       "_dom_classes": [],
       "_model_module": "@jupyter-widgets/output",
       "_model_module_version": "1.0.0",
       "_model_name": "OutputModel",
       "_view_count": null,
       "_view_module": "@jupyter-widgets/output",
       "_view_module_version": "1.0.0",
       "_view_name": "OutputView",
       "layout": "IPY_MODEL_9addd3b485e2445aa3df296d1c409fb2",
       "msg_id": "",
       "outputs": [
        {
         "data": {
          "text/html": "<pre style=\"white-space:pre;overflow-x:auto;line-height:normal;font-family:Menlo,'DejaVu Sans Mono',consolas,'Courier New',monospace\"><span style=\"color: #008000; text-decoration-color: #008000; font-weight: bold\">↓</span> <span style=\"color: #000080; text-decoration-color: #000080; font-weight: bold\">monitor_data.hdf5</span> <span style=\"color: #f92672; text-decoration-color: #f92672\">━━━━━━━━━━━━━━━━━━━━━━━━━━━━━━━━━━━━━━╸</span><span style=\"color: #3a3a3a; text-decoration-color: #3a3a3a\">━</span> <span style=\"color: #800080; text-decoration-color: #800080\">96.6%</span> • <span style=\"color: #008000; text-decoration-color: #008000\">22.3/23.1 MB</span> • <span style=\"color: #800000; text-decoration-color: #800000\">9.8 MB/s</span> • <span style=\"color: #008080; text-decoration-color: #008080\">0:00:01</span>\n<span style=\"color: #008000; text-decoration-color: #008000; font-weight: bold\">↓</span> <span style=\"color: #000080; text-decoration-color: #000080; font-weight: bold\">monitor_data.hdf5</span> <span style=\"color: #f92672; text-decoration-color: #f92672\">━━━━━━━━━━━━━━━━━━━━━━━━━━━━━━━━━━━━━━╸</span><span style=\"color: #3a3a3a; text-decoration-color: #3a3a3a\">━</span> <span style=\"color: #800080; text-decoration-color: #800080\">96.6%</span> • <span style=\"color: #008000; text-decoration-color: #008000\">22.3/23.1 MB</span> • <span style=\"color: #800000; text-decoration-color: #800000\">9.8 MB/s</span> • <span style=\"color: #008080; text-decoration-color: #008080\">0:00:01</span></pre>\n",
          "text/plain": "\r\u001b[2K\u001b[1;32m↓\u001b[0m \u001b[1;34mmonitor_data.hdf5\u001b[0m \u001b[38;2;249;38;114m━━━━━━━━━━━━━━━━━━━━━━━━━━━━━━━━━━━━━━\u001b[0m\u001b[38;2;249;38;114m╸\u001b[0m\u001b[38;5;237m━\u001b[0m \u001b[35m96.6%\u001b[0m • \u001b[32m22.3/23.1 MB\u001b[0m • \u001b[31m9.8 MB/s\u001b[0m • \u001b[36m0:00:01\u001b[0m\n\u001b[1;32m↓\u001b[0m \u001b[1;34mmonitor_data.hdf5\u001b[0m \u001b[38;2;249;38;114m━━━━━━━━━━━━━━━━━━━━━━━━━━━━━━━━━━━━━━\u001b[0m\u001b[38;2;249;38;114m╸\u001b[0m\u001b[38;5;237m━\u001b[0m \u001b[35m96.6%\u001b[0m • \u001b[32m22.3/23.1 MB\u001b[0m • \u001b[31m9.8 MB/s\u001b[0m • \u001b[36m0:00:01\u001b[0m"
         },
         "metadata": {},
         "output_type": "display_data"
        }
       ],
       "tabbable": null,
       "tooltip": null
      }
     },
     "dfb2f1139737488382bc96585b050eae": {
      "model_module": "@jupyter-widgets/base",
      "model_module_version": "2.0.0",
      "model_name": "LayoutModel",
      "state": {
       "_model_module": "@jupyter-widgets/base",
       "_model_module_version": "2.0.0",
       "_model_name": "LayoutModel",
       "_view_count": null,
       "_view_module": "@jupyter-widgets/base",
       "_view_module_version": "2.0.0",
       "_view_name": "LayoutView",
       "align_content": null,
       "align_items": null,
       "align_self": null,
       "border_bottom": null,
       "border_left": null,
       "border_right": null,
       "border_top": null,
       "bottom": null,
       "display": null,
       "flex": null,
       "flex_flow": null,
       "grid_area": null,
       "grid_auto_columns": null,
       "grid_auto_flow": null,
       "grid_auto_rows": null,
       "grid_column": null,
       "grid_gap": null,
       "grid_row": null,
       "grid_template_areas": null,
       "grid_template_columns": null,
       "grid_template_rows": null,
       "height": null,
       "justify_content": null,
       "justify_items": null,
       "left": null,
       "margin": null,
       "max_height": null,
       "max_width": null,
       "min_height": null,
       "min_width": null,
       "object_fit": null,
       "object_position": null,
       "order": null,
       "overflow": null,
       "padding": null,
       "right": null,
       "top": null,
       "visibility": null,
       "width": null
      }
     },
     "e3a372f17b894ed09209c628daa8e674": {
      "model_module": "@jupyter-widgets/output",
      "model_module_version": "1.0.0",
      "model_name": "OutputModel",
      "state": {
       "_dom_classes": [],
       "_model_module": "@jupyter-widgets/output",
       "_model_module_version": "1.0.0",
       "_model_name": "OutputModel",
       "_view_count": null,
       "_view_module": "@jupyter-widgets/output",
       "_view_module_version": "1.0.0",
       "_view_name": "OutputView",
       "layout": "IPY_MODEL_2bc8479f47c74bbdb83eb9627463b801",
       "msg_id": "",
       "outputs": [
        {
         "data": {
          "text/html": "<pre style=\"white-space:pre;overflow-x:auto;line-height:normal;font-family:Menlo,'DejaVu Sans Mono',consolas,'Courier New',monospace\"><span style=\"color: #008000; text-decoration-color: #008000\">🏃 </span> <span style=\"color: #008000; text-decoration-color: #008000; font-weight: bold\">Finishing 'plasmonic_yagi_uda'...</span>\n<span style=\"color: #008000; text-decoration-color: #008000\">🏃 </span> <span style=\"color: #008000; text-decoration-color: #008000; font-weight: bold\">Finishing 'plasmonic_yagi_uda'...</span></pre>\n",
          "text/plain": "\r\u001b[2K\u001b[32m🏃 \u001b[0m \u001b[1;32mFinishing 'plasmonic_yagi_uda'...\u001b[0m\n\u001b[32m🏃 \u001b[0m \u001b[1;32mFinishing 'plasmonic_yagi_uda'...\u001b[0m"
         },
         "metadata": {},
         "output_type": "display_data"
        }
       ],
       "tabbable": null,
       "tooltip": null
      }
     },
     "edd6afbc22da4eb4bf80fcae85be1e01": {
      "model_module": "@jupyter-widgets/base",
      "model_module_version": "2.0.0",
      "model_name": "LayoutModel",
      "state": {
       "_model_module": "@jupyter-widgets/base",
       "_model_module_version": "2.0.0",
       "_model_name": "LayoutModel",
       "_view_count": null,
       "_view_module": "@jupyter-widgets/base",
       "_view_module_version": "2.0.0",
       "_view_name": "LayoutView",
       "align_content": null,
       "align_items": null,
       "align_self": null,
       "border_bottom": null,
       "border_left": null,
       "border_right": null,
       "border_top": null,
       "bottom": null,
       "display": null,
       "flex": null,
       "flex_flow": null,
       "grid_area": null,
       "grid_auto_columns": null,
       "grid_auto_flow": null,
       "grid_auto_rows": null,
       "grid_column": null,
       "grid_gap": null,
       "grid_row": null,
       "grid_template_areas": null,
       "grid_template_columns": null,
       "grid_template_rows": null,
       "height": null,
       "justify_content": null,
       "justify_items": null,
       "left": null,
       "margin": null,
       "max_height": null,
       "max_width": null,
       "min_height": null,
       "min_width": null,
       "object_fit": null,
       "object_position": null,
       "order": null,
       "overflow": null,
       "padding": null,
       "right": null,
       "top": null,
       "visibility": null,
       "width": null
      }
     },
     "ef21808c149a425780a86b182a99f96a": {
      "model_module": "@jupyter-widgets/base",
      "model_module_version": "2.0.0",
      "model_name": "LayoutModel",
      "state": {
       "_model_module": "@jupyter-widgets/base",
       "_model_module_version": "2.0.0",
       "_model_name": "LayoutModel",
       "_view_count": null,
       "_view_module": "@jupyter-widgets/base",
       "_view_module_version": "2.0.0",
       "_view_name": "LayoutView",
       "align_content": null,
       "align_items": null,
       "align_self": null,
       "border_bottom": null,
       "border_left": null,
       "border_right": null,
       "border_top": null,
       "bottom": null,
       "display": null,
       "flex": null,
       "flex_flow": null,
       "grid_area": null,
       "grid_auto_columns": null,
       "grid_auto_flow": null,
       "grid_auto_rows": null,
       "grid_column": null,
       "grid_gap": null,
       "grid_row": null,
       "grid_template_areas": null,
       "grid_template_columns": null,
       "grid_template_rows": null,
       "height": null,
       "justify_content": null,
       "justify_items": null,
       "left": null,
       "margin": null,
       "max_height": null,
       "max_width": null,
       "min_height": null,
       "min_width": null,
       "object_fit": null,
       "object_position": null,
       "order": null,
       "overflow": null,
       "padding": null,
       "right": null,
       "top": null,
       "visibility": null,
       "width": null
      }
     },
     "f33015c77ff44d2b8a09042f1365c25b": {
      "model_module": "@jupyter-widgets/output",
      "model_module_version": "1.0.0",
      "model_name": "OutputModel",
      "state": {
       "_dom_classes": [],
       "_model_module": "@jupyter-widgets/output",
       "_model_module_version": "1.0.0",
       "_model_name": "OutputModel",
       "_view_count": null,
       "_view_module": "@jupyter-widgets/output",
       "_view_module_version": "1.0.0",
       "_view_name": "OutputView",
       "layout": "IPY_MODEL_dfb2f1139737488382bc96585b050eae",
       "msg_id": "",
       "outputs": [
        {
         "data": {
          "text/html": "<pre style=\"white-space:pre;overflow-x:auto;line-height:normal;font-family:Menlo,'DejaVu Sans Mono',consolas,'Courier New',monospace\">% done (field decay = 8.93e-06) <span style=\"color: #f92672; text-decoration-color: #f92672\">━━━━━━━━━━━━━━━━━━━━╸</span><span style=\"color: #3a3a3a; text-decoration-color: #3a3a3a\">━━━━━━━━━━━━━━━━━━━</span> <span style=\"color: #800080; text-decoration-color: #800080\"> 52%</span> <span style=\"color: #008080; text-decoration-color: #008080\">0:00:45</span>\n% done (field decay = 8.93e-06) <span style=\"color: #f92672; text-decoration-color: #f92672\">━━━━━━━━━━━━━━━━━━━━╸</span><span style=\"color: #3a3a3a; text-decoration-color: #3a3a3a\">━━━━━━━━━━━━━━━━━━━</span> <span style=\"color: #800080; text-decoration-color: #800080\"> 52%</span> <span style=\"color: #008080; text-decoration-color: #008080\">0:00:45</span></pre>\n",
          "text/plain": "\r\u001b[2K% done (field decay = 8.93e-06) \u001b[38;2;249;38;114m━━━━━━━━━━━━━━━━━━━━\u001b[0m\u001b[38;2;249;38;114m╸\u001b[0m\u001b[38;5;237m━━━━━━━━━━━━━━━━━━━\u001b[0m \u001b[35m 52%\u001b[0m \u001b[36m0:00:45\u001b[0m\n% done (field decay = 8.93e-06) \u001b[38;2;249;38;114m━━━━━━━━━━━━━━━━━━━━\u001b[0m\u001b[38;2;249;38;114m╸\u001b[0m\u001b[38;5;237m━━━━━━━━━━━━━━━━━━━\u001b[0m \u001b[35m 52%\u001b[0m \u001b[36m0:00:45\u001b[0m"
         },
         "metadata": {},
         "output_type": "display_data"
        }
       ],
       "tabbable": null,
       "tooltip": null
      }
     },
     "f4c33df2648d4af4a3091da192fb9152": {
      "model_module": "@jupyter-widgets/output",
      "model_module_version": "1.0.0",
      "model_name": "OutputModel",
      "state": {
       "_dom_classes": [],
       "_model_module": "@jupyter-widgets/output",
       "_model_module_version": "1.0.0",
       "_model_name": "OutputModel",
       "_view_count": null,
       "_view_module": "@jupyter-widgets/output",
       "_view_module_version": "1.0.0",
       "_view_name": "OutputView",
       "layout": "IPY_MODEL_4b765ffa7abe418eb3b7f9fec2be9fc0",
       "msg_id": "",
       "outputs": [
        {
         "data": {
          "text/html": "<pre style=\"white-space:pre;overflow-x:auto;line-height:normal;font-family:Menlo,'DejaVu Sans Mono',consolas,'Courier New',monospace\"><span style=\"color: #008000; text-decoration-color: #008000; font-weight: bold\">↓</span> <span style=\"color: #000080; text-decoration-color: #000080; font-weight: bold\">monitor_data.hdf5</span> <span style=\"color: #f92672; text-decoration-color: #f92672\">━━━━━━━━━━━━━━━━━━━━</span><span style=\"color: #3a3a3a; text-decoration-color: #3a3a3a\">╺━━━━━━━━━━━━━━━━━━━</span> <span style=\"color: #800080; text-decoration-color: #800080\">50.9%</span> • <span style=\"color: #008000; text-decoration-color: #008000\">0.5/1.0 MB</span> • <span style=\"color: #800000; text-decoration-color: #800000\">2.1 MB/s</span> • <span style=\"color: #008080; text-decoration-color: #008080\">0:00:01</span>\n<span style=\"color: #008000; text-decoration-color: #008000; font-weight: bold\">↓</span> <span style=\"color: #000080; text-decoration-color: #000080; font-weight: bold\">monitor_data.hdf5</span> <span style=\"color: #f92672; text-decoration-color: #f92672\">━━━━━━━━━━━━━━━━━━━━</span><span style=\"color: #3a3a3a; text-decoration-color: #3a3a3a\">╺━━━━━━━━━━━━━━━━━━━</span> <span style=\"color: #800080; text-decoration-color: #800080\">50.9%</span> • <span style=\"color: #008000; text-decoration-color: #008000\">0.5/1.0 MB</span> • <span style=\"color: #800000; text-decoration-color: #800000\">2.1 MB/s</span> • <span style=\"color: #008080; text-decoration-color: #008080\">0:00:01</span></pre>\n",
          "text/plain": "\r\u001b[2K\u001b[1;32m↓\u001b[0m \u001b[1;34mmonitor_data.hdf5\u001b[0m \u001b[38;2;249;38;114m━━━━━━━━━━━━━━━━━━━━\u001b[0m\u001b[38;5;237m╺\u001b[0m\u001b[38;5;237m━━━━━━━━━━━━━━━━━━━\u001b[0m \u001b[35m50.9%\u001b[0m • \u001b[32m0.5/1.0 MB\u001b[0m • \u001b[31m2.1 MB/s\u001b[0m • \u001b[36m0:00:01\u001b[0m\n\u001b[1;32m↓\u001b[0m \u001b[1;34mmonitor_data.hdf5\u001b[0m \u001b[38;2;249;38;114m━━━━━━━━━━━━━━━━━━━━\u001b[0m\u001b[38;5;237m╺\u001b[0m\u001b[38;5;237m━━━━━━━━━━━━━━━━━━━\u001b[0m \u001b[35m50.9%\u001b[0m • \u001b[32m0.5/1.0 MB\u001b[0m • \u001b[31m2.1 MB/s\u001b[0m • \u001b[36m0:00:01\u001b[0m"
         },
         "metadata": {},
         "output_type": "display_data"
        }
       ],
       "tabbable": null,
       "tooltip": null
      }
     },
     "fd8dae3e97d84c39b6c06e675f5d0785": {
      "model_module": "@jupyter-widgets/base",
      "model_module_version": "2.0.0",
      "model_name": "LayoutModel",
      "state": {
       "_model_module": "@jupyter-widgets/base",
       "_model_module_version": "2.0.0",
       "_model_name": "LayoutModel",
       "_view_count": null,
       "_view_module": "@jupyter-widgets/base",
       "_view_module_version": "2.0.0",
       "_view_name": "LayoutView",
       "align_content": null,
       "align_items": null,
       "align_self": null,
       "border_bottom": null,
       "border_left": null,
       "border_right": null,
       "border_top": null,
       "bottom": null,
       "display": null,
       "flex": null,
       "flex_flow": null,
       "grid_area": null,
       "grid_auto_columns": null,
       "grid_auto_flow": null,
       "grid_auto_rows": null,
       "grid_column": null,
       "grid_gap": null,
       "grid_row": null,
       "grid_template_areas": null,
       "grid_template_columns": null,
       "grid_template_rows": null,
       "height": null,
       "justify_content": null,
       "justify_items": null,
       "left": null,
       "margin": null,
       "max_height": null,
       "max_width": null,
       "min_height": null,
       "min_width": null,
       "object_fit": null,
       "object_position": null,
       "order": null,
       "overflow": null,
       "padding": null,
       "right": null,
       "top": null,
       "visibility": null,
       "width": null
      }
     }
    },
    "version_major": 2,
    "version_minor": 0
   }
  }
 },
 "nbformat": 4,
 "nbformat_minor": 5
}
