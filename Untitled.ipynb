{
 "cells": [
  {
   "cell_type": "code",
   "execution_count": 1,
   "id": "8491f3b3-9b57-40f6-835d-a9f8bcd631a0",
   "metadata": {},
   "outputs": [],
   "source": [
    "import autograd as ag\n",
    "import autograd.numpy as np"
   ]
  },
  {
   "cell_type": "code",
   "execution_count": 28,
   "id": "e9bcacd9-6868-408b-8a32-4ce2c2c2814f",
   "metadata": {},
   "outputs": [
    {
     "name": "stdout",
     "output_type": "stream",
     "text": [
      "Autograd ArrayBox with value (19713+13484j)\n",
      "(27660-17130j)\n",
      "0j\n"
     ]
    }
   ],
   "source": [
    "x0 = np.array([5.0 - 2j, 3.0 + 1j])\n",
    "x0 = 5.0 - 2j\n",
    "eps0 = eps(x0)\n",
    "\n",
    "def make_complex(x, y):\n",
    "    return x + 1j\n",
    "\n",
    "def split_complex(z):\n",
    "    return np.real(z), np.imag(z)\n",
    "\n",
    "def J(eps):\n",
    "    return (2 + 1j) * eps ** 3\n",
    "\n",
    "def J_(eps_r, eps_i):\n",
    "    eps = make_complex(eps_r, eps_i)\n",
    "    return J(eps)\n",
    "\n",
    "def J_r(eps_r, eps_i):\n",
    "    val = J_(eps_r, eps_i)\n",
    "    return np.real(val)\n",
    "\n",
    "def J_i(eps_r, eps_i):\n",
    "    val = J_(eps_r, eps_i)\n",
    "    return - np.imag(val)\n",
    "    \n",
    "def eps(x):\n",
    "    return x**2 + 2j * x\n",
    "\n",
    "def eps_(x_r, x_i):\n",
    "    x = make_complex(x_r, x_i)\n",
    "    return eps(x)\n",
    "\n",
    "def eps_r(x_r, x_i):\n",
    "    val = eps_(x_r, x_i)\n",
    "    return np.real(val)\n",
    "\n",
    "def eps_i(x_r, x_i):\n",
    "    val = eps_(x_r, x_i)\n",
    "    return -np.imag(val)\n",
    "\n",
    "def Jx(x):\n",
    "    eps_val = eps(x)\n",
    "    return J(eps_val)\n",
    "\n",
    "def Jx_(x_r, x_i):\n",
    "    eps_val = eps_(x_r, x_i)\n",
    "    eps_val_r, eps_val_i = split_complex(eps_val)\n",
    "    return J_(eps_val_r, eps_val_i)\n",
    "\n",
    "def Jx_r(x_r, x_i):\n",
    "    val = Jx_(x_r, x_i)\n",
    "    return np.real(val)\n",
    "\n",
    "def Jx_i(x_r, x_i):\n",
    "    val = Jx_(x_r, x_i)\n",
    "    print(val)\n",
    "    return -np.imag(val)\n",
    "    \n",
    "dJ_dx = ag.holomorphic_grad(Jx)\n",
    "dJ_deps = ag.holomorphic_grad(J)\n",
    "deps_dx = ag.holomorphic_grad(eps)\n",
    "\n",
    "x0_r, x0_i = split_complex(x0)\n",
    "dJ_dx_rr, dJ_dx_ri = ag.elementwise_grad(Jx_r, argnum=(0,1))(x0_r, x0_i)\n",
    "dJ_dx_ir, dJ_dx_ii = ag.elementwise_grad(Jx_i, argnum=(0,1))(x0_r, x0_i)\n",
    "\n",
    "print(dJ_dx_rr + 1j * dJ_dx_ir)\n",
    "print(dJ_dx_ii + 1j * dJ_dx_ri)"
   ]
  },
  {
   "cell_type": "code",
   "execution_count": 29,
   "id": "ffc5c6d7-a357-4c97-b583-8f72f66d382e",
   "metadata": {},
   "outputs": [],
   "source": [
    "eps0 = eps(x0)\n",
    "\n",
    "def aux_fn(x):\n",
    "    return dJ_deps(eps0) * eps(x)"
   ]
  },
  {
   "cell_type": "code",
   "execution_count": 30,
   "id": "f51ab080-0a75-4cae-9634-9dc57564eb97",
   "metadata": {},
   "outputs": [],
   "source": [
    "g = dJ_deps(eps0)"
   ]
  },
  {
   "cell_type": "code",
   "execution_count": 31,
   "id": "3b21241f-65fb-4eca-b870-debb4f14ed91",
   "metadata": {},
   "outputs": [],
   "source": [
    "deps_dx2 = ag.holomorphic_grad(aux_fn)(x0)\n"
   ]
  },
  {
   "cell_type": "code",
   "execution_count": 32,
   "id": "7500d9a3-605c-40f0-8df9-aa343ff1fdb2",
   "metadata": {},
   "outputs": [
    {
     "name": "stdout",
     "output_type": "stream",
     "text": [
      "(43650-23550j)\n",
      "(43650-23550j)\n"
     ]
    }
   ],
   "source": [
    "print(dJ_dx(x0))\n",
    "print(deps_dx2)\n",
    "# print(deps_dx3)\n"
   ]
  },
  {
   "cell_type": "code",
   "execution_count": 42,
   "id": "f0ff927e-b13d-4469-b2ba-fa758a5daf2a",
   "metadata": {},
   "outputs": [
    {
     "ename": "ValueError",
     "evalue": "cannot reshape array of size 2 into shape ()",
     "output_type": "error",
     "traceback": [
      "\u001b[0;31m---------------------------------------------------------------------------\u001b[0m",
      "\u001b[0;31mValueError\u001b[0m                                Traceback (most recent call last)",
      "Cell \u001b[0;32mIn[42], line 1\u001b[0m\n\u001b[0;32m----> 1\u001b[0m \u001b[43mag\u001b[49m\u001b[38;5;241;43m.\u001b[39;49m\u001b[43mtensor_jacobian_product\u001b[49m\u001b[43m(\u001b[49m\u001b[43meps_\u001b[49m\u001b[43m,\u001b[49m\u001b[43m \u001b[49m\u001b[38;5;241;43m0\u001b[39;49m\u001b[43m)\u001b[49m\u001b[43m(\u001b[49m\u001b[43mnp\u001b[49m\u001b[38;5;241;43m.\u001b[39;49m\u001b[43mreal\u001b[49m\u001b[43m(\u001b[49m\u001b[43mx0\u001b[49m\u001b[43m)\u001b[49m\u001b[43m,\u001b[49m\u001b[43m \u001b[49m\u001b[43mnp\u001b[49m\u001b[38;5;241;43m.\u001b[39;49m\u001b[43mreal\u001b[49m\u001b[43m(\u001b[49m\u001b[43mx0\u001b[49m\u001b[43m)\u001b[49m\u001b[43m,\u001b[49m\u001b[43m \u001b[49m\u001b[38;5;241;43m1.0\u001b[39;49m\u001b[43m)\u001b[49m\n",
      "File \u001b[0;32m/Library/Frameworks/Python.framework/Versions/3.11/lib/python3.11/site-packages/autograd/wrap_util.py:20\u001b[0m, in \u001b[0;36munary_to_nary.<locals>.nary_operator.<locals>.nary_f\u001b[0;34m(*args, **kwargs)\u001b[0m\n\u001b[1;32m     18\u001b[0m \u001b[38;5;28;01melse\u001b[39;00m:\n\u001b[1;32m     19\u001b[0m     x \u001b[38;5;241m=\u001b[39m \u001b[38;5;28mtuple\u001b[39m(args[i] \u001b[38;5;28;01mfor\u001b[39;00m i \u001b[38;5;129;01min\u001b[39;00m argnum)\n\u001b[0;32m---> 20\u001b[0m \u001b[38;5;28;01mreturn\u001b[39;00m \u001b[43munary_operator\u001b[49m\u001b[43m(\u001b[49m\u001b[43munary_f\u001b[49m\u001b[43m,\u001b[49m\u001b[43m \u001b[49m\u001b[43mx\u001b[49m\u001b[43m,\u001b[49m\u001b[43m \u001b[49m\u001b[38;5;241;43m*\u001b[39;49m\u001b[43mnary_op_args\u001b[49m\u001b[43m,\u001b[49m\u001b[43m \u001b[49m\u001b[38;5;241;43m*\u001b[39;49m\u001b[38;5;241;43m*\u001b[39;49m\u001b[43mnary_op_kwargs\u001b[49m\u001b[43m)\u001b[49m\n",
      "File \u001b[0;32m/Library/Frameworks/Python.framework/Versions/3.11/lib/python3.11/site-packages/autograd/differential_operators.py:64\u001b[0m, in \u001b[0;36mjacobian\u001b[0;34m(fun, x)\u001b[0m\n\u001b[1;32m     62\u001b[0m jacobian_shape \u001b[38;5;241m=\u001b[39m ans_vspace\u001b[38;5;241m.\u001b[39mshape \u001b[38;5;241m+\u001b[39m vspace(x)\u001b[38;5;241m.\u001b[39mshape\n\u001b[1;32m     63\u001b[0m grads \u001b[38;5;241m=\u001b[39m \u001b[38;5;28mmap\u001b[39m(vjp, ans_vspace\u001b[38;5;241m.\u001b[39mstandard_basis())\n\u001b[0;32m---> 64\u001b[0m \u001b[38;5;28;01mreturn\u001b[39;00m \u001b[43mnp\u001b[49m\u001b[38;5;241;43m.\u001b[39;49m\u001b[43mreshape\u001b[49m\u001b[43m(\u001b[49m\u001b[43mnp\u001b[49m\u001b[38;5;241;43m.\u001b[39;49m\u001b[43mstack\u001b[49m\u001b[43m(\u001b[49m\u001b[43mgrads\u001b[49m\u001b[43m)\u001b[49m\u001b[43m,\u001b[49m\u001b[43m \u001b[49m\u001b[43mjacobian_shape\u001b[49m\u001b[43m)\u001b[49m\n",
      "File \u001b[0;32m/Library/Frameworks/Python.framework/Versions/3.11/lib/python3.11/site-packages/autograd/tracer.py:48\u001b[0m, in \u001b[0;36mprimitive.<locals>.f_wrapped\u001b[0;34m(*args, **kwargs)\u001b[0m\n\u001b[1;32m     46\u001b[0m     \u001b[38;5;28;01mreturn\u001b[39;00m new_box(ans, trace, node)\n\u001b[1;32m     47\u001b[0m \u001b[38;5;28;01melse\u001b[39;00m:\n\u001b[0;32m---> 48\u001b[0m     \u001b[38;5;28;01mreturn\u001b[39;00m \u001b[43mf_raw\u001b[49m\u001b[43m(\u001b[49m\u001b[38;5;241;43m*\u001b[39;49m\u001b[43margs\u001b[49m\u001b[43m,\u001b[49m\u001b[43m \u001b[49m\u001b[38;5;241;43m*\u001b[39;49m\u001b[38;5;241;43m*\u001b[39;49m\u001b[43mkwargs\u001b[49m\u001b[43m)\u001b[49m\n",
      "File \u001b[0;32m/Library/Frameworks/Python.framework/Versions/3.11/lib/python3.11/site-packages/numpy/core/fromnumeric.py:285\u001b[0m, in \u001b[0;36mreshape\u001b[0;34m(a, newshape, order)\u001b[0m\n\u001b[1;32m    200\u001b[0m \u001b[38;5;129m@array_function_dispatch\u001b[39m(_reshape_dispatcher)\n\u001b[1;32m    201\u001b[0m \u001b[38;5;28;01mdef\u001b[39;00m \u001b[38;5;21mreshape\u001b[39m(a, newshape, order\u001b[38;5;241m=\u001b[39m\u001b[38;5;124m'\u001b[39m\u001b[38;5;124mC\u001b[39m\u001b[38;5;124m'\u001b[39m):\n\u001b[1;32m    202\u001b[0m \u001b[38;5;250m    \u001b[39m\u001b[38;5;124;03m\"\"\"\u001b[39;00m\n\u001b[1;32m    203\u001b[0m \u001b[38;5;124;03m    Gives a new shape to an array without changing its data.\u001b[39;00m\n\u001b[1;32m    204\u001b[0m \n\u001b[0;32m   (...)\u001b[0m\n\u001b[1;32m    283\u001b[0m \u001b[38;5;124;03m           [5, 6]])\u001b[39;00m\n\u001b[1;32m    284\u001b[0m \u001b[38;5;124;03m    \"\"\"\u001b[39;00m\n\u001b[0;32m--> 285\u001b[0m     \u001b[38;5;28;01mreturn\u001b[39;00m \u001b[43m_wrapfunc\u001b[49m\u001b[43m(\u001b[49m\u001b[43ma\u001b[49m\u001b[43m,\u001b[49m\u001b[43m \u001b[49m\u001b[38;5;124;43m'\u001b[39;49m\u001b[38;5;124;43mreshape\u001b[39;49m\u001b[38;5;124;43m'\u001b[39;49m\u001b[43m,\u001b[49m\u001b[43m \u001b[49m\u001b[43mnewshape\u001b[49m\u001b[43m,\u001b[49m\u001b[43m \u001b[49m\u001b[43morder\u001b[49m\u001b[38;5;241;43m=\u001b[39;49m\u001b[43morder\u001b[49m\u001b[43m)\u001b[49m\n",
      "File \u001b[0;32m/Library/Frameworks/Python.framework/Versions/3.11/lib/python3.11/site-packages/numpy/core/fromnumeric.py:59\u001b[0m, in \u001b[0;36m_wrapfunc\u001b[0;34m(obj, method, *args, **kwds)\u001b[0m\n\u001b[1;32m     56\u001b[0m     \u001b[38;5;28;01mreturn\u001b[39;00m _wrapit(obj, method, \u001b[38;5;241m*\u001b[39margs, \u001b[38;5;241m*\u001b[39m\u001b[38;5;241m*\u001b[39mkwds)\n\u001b[1;32m     58\u001b[0m \u001b[38;5;28;01mtry\u001b[39;00m:\n\u001b[0;32m---> 59\u001b[0m     \u001b[38;5;28;01mreturn\u001b[39;00m \u001b[43mbound\u001b[49m\u001b[43m(\u001b[49m\u001b[38;5;241;43m*\u001b[39;49m\u001b[43margs\u001b[49m\u001b[43m,\u001b[49m\u001b[43m \u001b[49m\u001b[38;5;241;43m*\u001b[39;49m\u001b[38;5;241;43m*\u001b[39;49m\u001b[43mkwds\u001b[49m\u001b[43m)\u001b[49m\n\u001b[1;32m     60\u001b[0m \u001b[38;5;28;01mexcept\u001b[39;00m \u001b[38;5;167;01mTypeError\u001b[39;00m:\n\u001b[1;32m     61\u001b[0m     \u001b[38;5;66;03m# A TypeError occurs if the object does have such a method in its\u001b[39;00m\n\u001b[1;32m     62\u001b[0m     \u001b[38;5;66;03m# class, but its signature is not identical to that of NumPy's. This\u001b[39;00m\n\u001b[0;32m   (...)\u001b[0m\n\u001b[1;32m     66\u001b[0m     \u001b[38;5;66;03m# Call _wrapit from within the except clause to ensure a potential\u001b[39;00m\n\u001b[1;32m     67\u001b[0m     \u001b[38;5;66;03m# exception has a traceback chain.\u001b[39;00m\n\u001b[1;32m     68\u001b[0m     \u001b[38;5;28;01mreturn\u001b[39;00m _wrapit(obj, method, \u001b[38;5;241m*\u001b[39margs, \u001b[38;5;241m*\u001b[39m\u001b[38;5;241m*\u001b[39mkwds)\n",
      "\u001b[0;31mValueError\u001b[0m: cannot reshape array of size 2 into shape ()"
     ]
    }
   ],
   "source": [
    "ag.tensor_jacobian_product(eps_, 0)(np.real(x0), np.real(x0), 1.0)\n"
   ]
  },
  {
   "cell_type": "code",
   "execution_count": null,
   "id": "698ed4a3-f49e-46dc-b818-dcb10c6136f5",
   "metadata": {},
   "outputs": [],
   "source": []
  }
 ],
 "metadata": {
  "kernelspec": {
   "display_name": "Python 3 (ipykernel)",
   "language": "python",
   "name": "python3"
  },
  "language_info": {
   "codemirror_mode": {
    "name": "ipython",
    "version": 3
   },
   "file_extension": ".py",
   "mimetype": "text/x-python",
   "name": "python",
   "nbconvert_exporter": "python",
   "pygments_lexer": "ipython3",
   "version": "3.11.9"
  }
 },
 "nbformat": 4,
 "nbformat_minor": 5
}
