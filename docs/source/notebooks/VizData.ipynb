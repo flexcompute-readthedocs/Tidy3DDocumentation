{
 "cells": [
  {
   "cell_type": "markdown",
   "id": "9e129b4e",
   "metadata": {},
   "source": [
    "# Data plotting\n",
    "\n",
    "This notebook is a tutorial on working with Tidy3D output data.\n",
    "\n",
    "We will cover:\n",
    "\n",
    "- Accessing data.\n",
    "\n",
    "- Manipulating data.\n",
    "\n",
    "- Visualizing data.\n",
    "\n",
    "First we import the packages we'll need."
   ]
  },
  {
   "cell_type": "code",
   "execution_count": 1,
   "id": "a22293a5",
   "metadata": {
    "execution": {
     "iopub.execute_input": "2023-05-19T21:10:02.139397Z",
     "iopub.status.busy": "2023-05-19T21:10:02.138745Z",
     "iopub.status.idle": "2023-05-19T21:10:03.361904Z",
     "shell.execute_reply": "2023-05-19T21:10:03.361237Z"
    },
    "tags": []
   },
   "outputs": [],
   "source": [
    "import numpy as np\n",
    "import matplotlib.pylab as plt\n",
    "\n",
    "import tidy3d as td\n",
    "import tidy3d.web as web\n"
   ]
  },
  {
   "cell_type": "markdown",
   "id": "cc1c1323",
   "metadata": {},
   "source": [
    "## Setup\n",
    "\n",
    "### Creating Simulation\n",
    "\n",
    "First, let's make a [Simulation](../_autosummary/tidy3d.Simulation.html) so we have data to plot.\n",
    "\n",
    "We will add each possible type of monitor into the simultion to explore their output data separately."
   ]
  },
  {
   "cell_type": "code",
   "execution_count": 2,
   "id": "61c49575",
   "metadata": {
    "execution": {
     "iopub.execute_input": "2023-05-19T21:10:03.364448Z",
     "iopub.status.busy": "2023-05-19T21:10:03.364186Z",
     "iopub.status.idle": "2023-05-19T21:10:03.392564Z",
     "shell.execute_reply": "2023-05-19T21:10:03.392056Z"
    },
    "tags": []
   },
   "outputs": [],
   "source": [
    "# simulation parameters\n",
    "Lx, Ly, Lz = 5, 5, 5\n",
    "min_steps_per_wvl = 32\n",
    "\n",
    "# monitor parameters\n",
    "freq0 = 2e14\n",
    "freqs = np.linspace(1e14, 3e14, 11)\n",
    "num_modes = 3\n",
    "\n",
    "simulation = td.Simulation(\n",
    "    size=(Lx, Ly, Lz),\n",
    "    grid_spec=td.GridSpec.auto(min_steps_per_wvl=min_steps_per_wvl),\n",
    "    run_time=4e-13,\n",
    "    boundary_spec=td.BoundarySpec.all_sides(boundary=td.PML()),\n",
    "    structures=[\n",
    "        td.Structure(\n",
    "            geometry=td.Box(center=(0, 0, 0), size=(10001, 1.4, 1.5)),\n",
    "            medium=td.Medium(permittivity=2),\n",
    "            name=\"waveguide\",\n",
    "        ),\n",
    "        td.Structure(\n",
    "            geometry=td.Box(center=(0, 0.5, 0.5), size=(1.5, 1.4, 1.5)),\n",
    "            medium=td.Medium(permittivity=2),\n",
    "            name=\"scatterer\",\n",
    "        ),\n",
    "    ],\n",
    "    sources=[\n",
    "        td.ModeSource(\n",
    "            source_time=td.GaussianPulse(freq0=freq0, fwidth=6e13),\n",
    "            center=(-2.0, 0.0, 0.0),\n",
    "            size=(0.0, 3, 3),\n",
    "            direction=\"+\",\n",
    "            mode_spec=td.ModeSpec(),\n",
    "            mode_index=0,\n",
    "        )\n",
    "    ],\n",
    "    monitors=[\n",
    "        td.FieldMonitor(\n",
    "            fields=[\"Ex\", \"Ey\", \"Ez\"],\n",
    "            size=(td.inf, 0, td.inf),\n",
    "            center=(0, 0, 0),\n",
    "            freqs=freqs,\n",
    "            name=\"field\",\n",
    "        ),\n",
    "        td.FieldTimeMonitor(\n",
    "            fields=[\"Ex\", \"Ey\", \"Ez\"],\n",
    "            size=(td.inf, 0, td.inf),\n",
    "            center=(0, 0, 0),\n",
    "            interval=200,\n",
    "            name=\"field_time\",\n",
    "        ),\n",
    "        td.FluxMonitor(size=(0, 3, 3), center=(2, 0, 0), freqs=freqs, name=\"flux\"),\n",
    "        td.FluxTimeMonitor(\n",
    "            size=(0, 3, 3), center=(2, 0, 0), interval=10, name=\"flux_time\"\n",
    "        ),\n",
    "        td.ModeMonitor(\n",
    "            size=(0, 3, 3),\n",
    "            center=(2, 0, 0),\n",
    "            freqs=freqs,\n",
    "            mode_spec=td.ModeSpec(num_modes=num_modes),\n",
    "            name=\"mode\",\n",
    "        ),\n",
    "    ],\n",
    ")\n"
   ]
  },
  {
   "cell_type": "code",
   "execution_count": 3,
   "id": "004348be",
   "metadata": {
    "execution": {
     "iopub.execute_input": "2023-05-19T21:10:03.394671Z",
     "iopub.status.busy": "2023-05-19T21:10:03.394530Z",
     "iopub.status.idle": "2023-05-19T21:10:03.416868Z",
     "shell.execute_reply": "2023-05-19T21:10:03.416384Z"
    },
    "tags": []
   },
   "outputs": [
    {
     "name": "stdout",
     "output_type": "stream",
     "text": [
      "monitor field requires 7.06e+06 bytes of storage.\n",
      "monitor field_time requires 1.06e+07 bytes of storage.\n",
      "monitor flux requires 4.40e+01 bytes of storage.\n",
      "monitor flux_time requires 2.65e+03 bytes of storage.\n",
      "monitor mode requires 7.92e+02 bytes of storage.\n"
     ]
    }
   ],
   "source": [
    "tmesh = simulation.tmesh\n",
    "\n",
    "total_size_bytes = 0\n",
    "for monitor in simulation.monitors:\n",
    "    monitor_grid = simulation.discretize(monitor)\n",
    "    num_cells = np.prod(monitor_grid.num_cells)\n",
    "    monitor_size = monitor.storage_size(num_cells=num_cells, tmesh=tmesh)\n",
    "    print(f\"monitor {monitor.name} requires {monitor_size:.2e} bytes of storage.\")\n"
   ]
  },
  {
   "cell_type": "markdown",
   "id": "e3748bef",
   "metadata": {},
   "source": [
    "### Visualize Geometry\n",
    "\n",
    "We've created a simple waveguide with a defect / scattering region defined using a [Box](../_autosummary/tidy3d.Box.html) geometry.\n",
    "\n",
    "A modal source is injected from the -x side of the simulation and we measure the mode amplitudes and flux at the +x side.\n",
    "\n",
    "We've also placed a couple field monitors to visualize the field patterns.\n",
    "\n",
    "Let's take a look at the geometry from a few cross sections."
   ]
  },
  {
   "cell_type": "code",
   "execution_count": 4,
   "id": "3f7e72a2",
   "metadata": {
    "execution": {
     "iopub.execute_input": "2023-05-19T21:10:03.418884Z",
     "iopub.status.busy": "2023-05-19T21:10:03.418742Z",
     "iopub.status.idle": "2023-05-19T21:10:03.877319Z",
     "shell.execute_reply": "2023-05-19T21:10:03.876820Z"
    },
    "tags": []
   },
   "outputs": [
    {
     "data": {
      "image/png": "[encoded data removed]",
      "text/plain": [
       "<Figure size 1400x400 with 3 Axes>"
      ]
     },
     "metadata": {},
     "output_type": "display_data"
    }
   ],
   "source": [
    "_, (ax1, ax2, ax3) = plt.subplots(1, 3, figsize=(14, 4))\n",
    "simulation.plot(x=0.0, ax=ax1)\n",
    "simulation.plot(y=0.01, ax=ax2)\n",
    "simulation.plot(z=0.01, ax=ax3)\n",
    "plt.show()\n"
   ]
  },
  {
   "cell_type": "markdown",
   "id": "db68e728",
   "metadata": {},
   "source": [
    "### Make normalization Simulation\n",
    "\n",
    "For purposes of demonstration, let's create another simulation without the scatterer, so we can compare what the data should look like for just the straight waveguide case.\n",
    "\n",
    "This is as simple as making a copy of the original simulation and removing the scatterer from the list of structures."
   ]
  },
  {
   "cell_type": "code",
   "execution_count": 5,
   "id": "bf9aedee",
   "metadata": {
    "execution": {
     "iopub.execute_input": "2023-05-19T21:10:03.879463Z",
     "iopub.status.busy": "2023-05-19T21:10:03.879273Z",
     "iopub.status.idle": "2023-05-19T21:10:03.902691Z",
     "shell.execute_reply": "2023-05-19T21:10:03.902045Z"
    },
    "tags": []
   },
   "outputs": [],
   "source": [
    "# get rid of scatterer for normalization\n",
    "simulation0 = simulation.copy(update=dict(structures=[simulation.structures[0]]))\n"
   ]
  },
  {
   "cell_type": "markdown",
   "id": "653a3b32",
   "metadata": {},
   "source": [
    "### Running simulations\n",
    "\n",
    "Now we will run both simulations and load them into [SimulationData](../_autosummary/tidy3d.SimulationData.html) objects.\n",
    "\n",
    "Since these will be a short and simple simulations, we can use the [web.run](../_autosummary/tidy3d.web.webapi.run.html) function to do them all in one line."
   ]
  },
  {
   "cell_type": "code",
   "execution_count": 6,
   "id": "bedb64a3",
   "metadata": {
    "execution": {
     "iopub.execute_input": "2023-05-19T21:10:03.904661Z",
     "iopub.status.busy": "2023-05-19T21:10:03.904495Z",
     "iopub.status.idle": "2023-05-19T21:11:09.782813Z",
     "shell.execute_reply": "2023-05-19T21:11:09.782166Z"
    },
    "tags": []
   },
   "outputs": [
    {
     "data": {
      "text/html": [
       "<pre style=\"white-space:pre;overflow-x:auto;line-height:normal;font-family:Menlo,'DejaVu Sans Mono',consolas,'Courier New',monospace\"><span style=\"color: #7fbfbf; text-decoration-color: #7fbfbf\">[14:10:04] </span>Created task <span style=\"color: #008000; text-decoration-color: #008000\">'straight waveguide'</span> with task_id                                             <a href=\"file:///home/momchil/Drive/flexcompute/tidy3d-docs/tidy3d/tidy3d/web/webapi.py\" target=\"_blank\"><span style=\"color: #7f7f7f; text-decoration-color: #7f7f7f\">webapi.py</span></a><span style=\"color: #7f7f7f; text-decoration-color: #7f7f7f\">:</span><a href=\"file:///home/momchil/Drive/flexcompute/tidy3d-docs/tidy3d/tidy3d/web/webapi.py#186\" target=\"_blank\"><span style=\"color: #7f7f7f; text-decoration-color: #7f7f7f\">186</span></a>\n",
       "<span style=\"color: #7fbfbf; text-decoration-color: #7fbfbf\">           </span><span style=\"color: #008000; text-decoration-color: #008000\">'fdve-34df7ee6-d54a-453b-8cf2-4d3007c165c6v1'</span>.                                             <span style=\"color: #7f7f7f; text-decoration-color: #7f7f7f\">             </span>\n",
       "</pre>\n"
      ],
      "text/plain": [
       "\u001b[2;36m[14:10:04]\u001b[0m\u001b[2;36m \u001b[0mCreated task \u001b[32m'straight waveguide'\u001b[0m with task_id                                             \u001b]8;id=645263;file:///home/momchil/Drive/flexcompute/tidy3d-docs/tidy3d/tidy3d/web/webapi.py\u001b\\\u001b[2mwebapi.py\u001b[0m\u001b]8;;\u001b\\\u001b[2m:\u001b[0m\u001b]8;id=47096;file:///home/momchil/Drive/flexcompute/tidy3d-docs/tidy3d/tidy3d/web/webapi.py#186\u001b\\\u001b[2m186\u001b[0m\u001b]8;;\u001b\\\n",
       "\u001b[2;36m           \u001b[0m\u001b[32m'fdve-34df7ee6-d54a-453b-8cf2-4d3007c165c6v1'\u001b[0m.                                             \u001b[2m             \u001b[0m\n"
      ]
     },
     "metadata": {},
     "output_type": "display_data"
    },
    {
     "data": {
      "text/html": [
       "<pre style=\"white-space:pre;overflow-x:auto;line-height:normal;font-family:Menlo,'DejaVu Sans Mono',consolas,'Courier New',monospace\"><span style=\"color: #7fbfbf; text-decoration-color: #7fbfbf\">           </span>View task using web UI at                                                                  <a href=\"file:///home/momchil/Drive/flexcompute/tidy3d-docs/tidy3d/tidy3d/web/webapi.py\" target=\"_blank\"><span style=\"color: #7f7f7f; text-decoration-color: #7f7f7f\">webapi.py</span></a><span style=\"color: #7f7f7f; text-decoration-color: #7f7f7f\">:</span><a href=\"file:///home/momchil/Drive/flexcompute/tidy3d-docs/tidy3d/tidy3d/web/webapi.py#188\" target=\"_blank\"><span style=\"color: #7f7f7f; text-decoration-color: #7f7f7f\">188</span></a>\n",
       "<span style=\"color: #7fbfbf; text-decoration-color: #7fbfbf\">           </span><a href=\"https://tidy3d.simulation.cloud/workbench?taskId=fdve-34df7ee6-d54a-453b-8cf2-4d3007c165c6v1\" target=\"_blank\"><span style=\"color: #008000; text-decoration-color: #008000\">'https://tidy3d.simulation.cloud/workbench?taskId=fdve-34df7ee6-d54a-453b-8cf2-4d3007c165c</span></a> <span style=\"color: #7f7f7f; text-decoration-color: #7f7f7f\">             </span>\n",
       "<span style=\"color: #7fbfbf; text-decoration-color: #7fbfbf\">           </span><a href=\"https://tidy3d.simulation.cloud/workbench?taskId=fdve-34df7ee6-d54a-453b-8cf2-4d3007c165c6v1\" target=\"_blank\"><span style=\"color: #008000; text-decoration-color: #008000\">6v1'</span></a>.                                                                                      <span style=\"color: #7f7f7f; text-decoration-color: #7f7f7f\">             </span>\n",
       "</pre>\n"
      ],
      "text/plain": [
       "\u001b[2;36m          \u001b[0m\u001b[2;36m \u001b[0mView task using web UI at                                                                  \u001b]8;id=202577;file:///home/momchil/Drive/flexcompute/tidy3d-docs/tidy3d/tidy3d/web/webapi.py\u001b\\\u001b[2mwebapi.py\u001b[0m\u001b]8;;\u001b\\\u001b[2m:\u001b[0m\u001b]8;id=396564;file:///home/momchil/Drive/flexcompute/tidy3d-docs/tidy3d/tidy3d/web/webapi.py#188\u001b\\\u001b[2m188\u001b[0m\u001b]8;;\u001b\\\n",
       "\u001b[2;36m           \u001b[0m\u001b]8;id=176021;https://tidy3d.simulation.cloud/workbench?taskId=fdve-34df7ee6-d54a-453b-8cf2-4d3007c165c6v1\u001b\\\u001b[32m'https://tidy3d.simulation.cloud/workbench?\u001b[0m\u001b]8;;\u001b\\\u001b]8;id=535945;https://tidy3d.simulation.cloud/workbench?taskId=fdve-34df7ee6-d54a-453b-8cf2-4d3007c165c6v1\u001b\\\u001b[32mtaskId\u001b[0m\u001b]8;;\u001b\\\u001b]8;id=176021;https://tidy3d.simulation.cloud/workbench?taskId=fdve-34df7ee6-d54a-453b-8cf2-4d3007c165c6v1\u001b\\\u001b[32m=\u001b[0m\u001b]8;;\u001b\\\u001b]8;id=222657;https://tidy3d.simulation.cloud/workbench?taskId=fdve-34df7ee6-d54a-453b-8cf2-4d3007c165c6v1\u001b\\\u001b[32mfdve\u001b[0m\u001b]8;;\u001b\\\u001b]8;id=176021;https://tidy3d.simulation.cloud/workbench?taskId=fdve-34df7ee6-d54a-453b-8cf2-4d3007c165c6v1\u001b\\\u001b[32m-34df7ee6-d54a-453b-8cf2-4d3007c165c\u001b[0m\u001b]8;;\u001b\\ \u001b[2m             \u001b[0m\n",
       "\u001b[2;36m           \u001b[0m\u001b]8;id=176021;https://tidy3d.simulation.cloud/workbench?taskId=fdve-34df7ee6-d54a-453b-8cf2-4d3007c165c6v1\u001b\\\u001b[32m6v1'\u001b[0m\u001b]8;;\u001b\\.                                                                                      \u001b[2m             \u001b[0m\n"
      ]
     },
     "metadata": {},
     "output_type": "display_data"
    },
    {
     "data": {
      "application/vnd.jupyter.widget-view+json": {
       "model_id": "4c81a75f1e1f4487afcab6ef38aa63e1",
       "version_major": 2,
       "version_minor": 0
      },
      "text/plain": [
       "Output()"
      ]
     },
     "metadata": {},
     "output_type": "display_data"
    },
    {
     "data": {
      "text/html": [
       "<pre style=\"white-space:pre;overflow-x:auto;line-height:normal;font-family:Menlo,'DejaVu Sans Mono',consolas,'Courier New',monospace\"></pre>\n"
      ],
      "text/plain": []
     },
     "metadata": {},
     "output_type": "display_data"
    },
    {
     "data": {
      "text/html": [
       "<pre style=\"white-space:pre;overflow-x:auto;line-height:normal;font-family:Menlo,'DejaVu Sans Mono',consolas,'Courier New',monospace\">\n",
       "</pre>\n"
      ],
      "text/plain": [
       "\n"
      ]
     },
     "metadata": {},
     "output_type": "display_data"
    },
    {
     "data": {
      "text/html": [
       "<pre style=\"white-space:pre;overflow-x:auto;line-height:normal;font-family:Menlo,'DejaVu Sans Mono',consolas,'Courier New',monospace\"><span style=\"color: #7fbfbf; text-decoration-color: #7fbfbf\">[14:10:05] </span>status = queued                                                                            <a href=\"file:///home/momchil/Drive/flexcompute/tidy3d-docs/tidy3d/tidy3d/web/webapi.py\" target=\"_blank\"><span style=\"color: #7f7f7f; text-decoration-color: #7f7f7f\">webapi.py</span></a><span style=\"color: #7f7f7f; text-decoration-color: #7f7f7f\">:</span><a href=\"file:///home/momchil/Drive/flexcompute/tidy3d-docs/tidy3d/tidy3d/web/webapi.py#321\" target=\"_blank\"><span style=\"color: #7f7f7f; text-decoration-color: #7f7f7f\">321</span></a>\n",
       "</pre>\n"
      ],
      "text/plain": [
       "\u001b[2;36m[14:10:05]\u001b[0m\u001b[2;36m \u001b[0mstatus = queued                                                                            \u001b]8;id=546670;file:///home/momchil/Drive/flexcompute/tidy3d-docs/tidy3d/tidy3d/web/webapi.py\u001b\\\u001b[2mwebapi.py\u001b[0m\u001b]8;;\u001b\\\u001b[2m:\u001b[0m\u001b]8;id=447244;file:///home/momchil/Drive/flexcompute/tidy3d-docs/tidy3d/tidy3d/web/webapi.py#321\u001b\\\u001b[2m321\u001b[0m\u001b]8;;\u001b\\\n"
      ]
     },
     "metadata": {},
     "output_type": "display_data"
    },
    {
     "data": {
      "application/vnd.jupyter.widget-view+json": {
       "model_id": "98a2a6813ff84b9d9cb890a9c948d9c4",
       "version_major": 2,
       "version_minor": 0
      },
      "text/plain": [
       "Output()"
      ]
     },
     "metadata": {},
     "output_type": "display_data"
    },
    {
     "data": {
      "text/html": [
       "<pre style=\"white-space:pre;overflow-x:auto;line-height:normal;font-family:Menlo,'DejaVu Sans Mono',consolas,'Courier New',monospace\"><span style=\"color: #7fbfbf; text-decoration-color: #7fbfbf\">[14:10:07] </span>status = preprocess                                                                        <a href=\"file:///home/momchil/Drive/flexcompute/tidy3d-docs/tidy3d/tidy3d/web/webapi.py\" target=\"_blank\"><span style=\"color: #7f7f7f; text-decoration-color: #7f7f7f\">webapi.py</span></a><span style=\"color: #7f7f7f; text-decoration-color: #7f7f7f\">:</span><a href=\"file:///home/momchil/Drive/flexcompute/tidy3d-docs/tidy3d/tidy3d/web/webapi.py#315\" target=\"_blank\"><span style=\"color: #7f7f7f; text-decoration-color: #7f7f7f\">315</span></a>\n",
       "</pre>\n"
      ],
      "text/plain": [
       "\u001b[2;36m[14:10:07]\u001b[0m\u001b[2;36m \u001b[0mstatus = preprocess                                                                        \u001b]8;id=611473;file:///home/momchil/Drive/flexcompute/tidy3d-docs/tidy3d/tidy3d/web/webapi.py\u001b\\\u001b[2mwebapi.py\u001b[0m\u001b]8;;\u001b\\\u001b[2m:\u001b[0m\u001b]8;id=22177;file:///home/momchil/Drive/flexcompute/tidy3d-docs/tidy3d/tidy3d/web/webapi.py#315\u001b\\\u001b[2m315\u001b[0m\u001b]8;;\u001b\\\n"
      ]
     },
     "metadata": {},
     "output_type": "display_data"
    },
    {
     "data": {
      "text/html": [
       "<pre style=\"white-space:pre;overflow-x:auto;line-height:normal;font-family:Menlo,'DejaVu Sans Mono',consolas,'Courier New',monospace\"></pre>\n"
      ],
      "text/plain": []
     },
     "metadata": {},
     "output_type": "display_data"
    },
    {
     "data": {
      "text/html": [
       "<pre style=\"white-space:pre;overflow-x:auto;line-height:normal;font-family:Menlo,'DejaVu Sans Mono',consolas,'Courier New',monospace\"><span style=\"color: #7fbfbf; text-decoration-color: #7fbfbf\">[14:10:15] </span>Maximum FlexCredit cost: <span style=\"color: #008080; text-decoration-color: #008080; font-weight: bold\">0.025</span>. Use <span style=\"color: #008000; text-decoration-color: #008000\">'web.real_cost(task_id)'</span> to get the billed FlexCredit  <a href=\"file:///home/momchil/Drive/flexcompute/tidy3d-docs/tidy3d/tidy3d/web/webapi.py\" target=\"_blank\"><span style=\"color: #7f7f7f; text-decoration-color: #7f7f7f\">webapi.py</span></a><span style=\"color: #7f7f7f; text-decoration-color: #7f7f7f\">:</span><a href=\"file:///home/momchil/Drive/flexcompute/tidy3d-docs/tidy3d/tidy3d/web/webapi.py#338\" target=\"_blank\"><span style=\"color: #7f7f7f; text-decoration-color: #7f7f7f\">338</span></a>\n",
       "<span style=\"color: #7fbfbf; text-decoration-color: #7fbfbf\">           </span>cost after a simulation run.                                                               <span style=\"color: #7f7f7f; text-decoration-color: #7f7f7f\">             </span>\n",
       "</pre>\n"
      ],
      "text/plain": [
       "\u001b[2;36m[14:10:15]\u001b[0m\u001b[2;36m \u001b[0mMaximum FlexCredit cost: \u001b[1;36m0.025\u001b[0m. Use \u001b[32m'web.real_cost\u001b[0m\u001b[32m(\u001b[0m\u001b[32mtask_id\u001b[0m\u001b[32m)\u001b[0m\u001b[32m'\u001b[0m to get the billed FlexCredit  \u001b]8;id=639930;file:///home/momchil/Drive/flexcompute/tidy3d-docs/tidy3d/tidy3d/web/webapi.py\u001b\\\u001b[2mwebapi.py\u001b[0m\u001b]8;;\u001b\\\u001b[2m:\u001b[0m\u001b]8;id=679713;file:///home/momchil/Drive/flexcompute/tidy3d-docs/tidy3d/tidy3d/web/webapi.py#338\u001b\\\u001b[2m338\u001b[0m\u001b]8;;\u001b\\\n",
       "\u001b[2;36m           \u001b[0mcost after a simulation run.                                                               \u001b[2m             \u001b[0m\n"
      ]
     },
     "metadata": {},
     "output_type": "display_data"
    },
    {
     "data": {
      "text/html": [
       "<pre style=\"white-space:pre;overflow-x:auto;line-height:normal;font-family:Menlo,'DejaVu Sans Mono',consolas,'Courier New',monospace\"><span style=\"color: #7fbfbf; text-decoration-color: #7fbfbf\">           </span>starting up solver                                                                         <a href=\"file:///home/momchil/Drive/flexcompute/tidy3d-docs/tidy3d/tidy3d/web/webapi.py\" target=\"_blank\"><span style=\"color: #7f7f7f; text-decoration-color: #7f7f7f\">webapi.py</span></a><span style=\"color: #7f7f7f; text-decoration-color: #7f7f7f\">:</span><a href=\"file:///home/momchil/Drive/flexcompute/tidy3d-docs/tidy3d/tidy3d/web/webapi.py#342\" target=\"_blank\"><span style=\"color: #7f7f7f; text-decoration-color: #7f7f7f\">342</span></a>\n",
       "</pre>\n"
      ],
      "text/plain": [
       "\u001b[2;36m          \u001b[0m\u001b[2;36m \u001b[0mstarting up solver                                                                         \u001b]8;id=222442;file:///home/momchil/Drive/flexcompute/tidy3d-docs/tidy3d/tidy3d/web/webapi.py\u001b\\\u001b[2mwebapi.py\u001b[0m\u001b]8;;\u001b\\\u001b[2m:\u001b[0m\u001b]8;id=158992;file:///home/momchil/Drive/flexcompute/tidy3d-docs/tidy3d/tidy3d/web/webapi.py#342\u001b\\\u001b[2m342\u001b[0m\u001b]8;;\u001b\\\n"
      ]
     },
     "metadata": {},
     "output_type": "display_data"
    },
    {
     "data": {
      "text/html": [
       "<pre style=\"white-space:pre;overflow-x:auto;line-height:normal;font-family:Menlo,'DejaVu Sans Mono',consolas,'Courier New',monospace\"><span style=\"color: #7fbfbf; text-decoration-color: #7fbfbf\">           </span>running solver                                                                             <a href=\"file:///home/momchil/Drive/flexcompute/tidy3d-docs/tidy3d/tidy3d/web/webapi.py\" target=\"_blank\"><span style=\"color: #7f7f7f; text-decoration-color: #7f7f7f\">webapi.py</span></a><span style=\"color: #7f7f7f; text-decoration-color: #7f7f7f\">:</span><a href=\"file:///home/momchil/Drive/flexcompute/tidy3d-docs/tidy3d/tidy3d/web/webapi.py#352\" target=\"_blank\"><span style=\"color: #7f7f7f; text-decoration-color: #7f7f7f\">352</span></a>\n",
       "</pre>\n"
      ],
      "text/plain": [
       "\u001b[2;36m          \u001b[0m\u001b[2;36m \u001b[0mrunning solver                                                                             \u001b]8;id=112907;file:///home/momchil/Drive/flexcompute/tidy3d-docs/tidy3d/tidy3d/web/webapi.py\u001b\\\u001b[2mwebapi.py\u001b[0m\u001b]8;;\u001b\\\u001b[2m:\u001b[0m\u001b]8;id=305137;file:///home/momchil/Drive/flexcompute/tidy3d-docs/tidy3d/tidy3d/web/webapi.py#352\u001b\\\u001b[2m352\u001b[0m\u001b]8;;\u001b\\\n"
      ]
     },
     "metadata": {},
     "output_type": "display_data"
    },
    {
     "data": {
      "application/vnd.jupyter.widget-view+json": {
       "model_id": "aa602db6429a445a9bc11356357f62b2",
       "version_major": 2,
       "version_minor": 0
      },
      "text/plain": [
       "Output()"
      ]
     },
     "metadata": {},
     "output_type": "display_data"
    },
    {
     "data": {
      "text/html": [
       "<pre style=\"white-space:pre;overflow-x:auto;line-height:normal;font-family:Menlo,'DejaVu Sans Mono',consolas,'Courier New',monospace\"></pre>\n"
      ],
      "text/plain": []
     },
     "metadata": {},
     "output_type": "display_data"
    },
    {
     "data": {
      "text/html": [
       "<pre style=\"white-space:pre;overflow-x:auto;line-height:normal;font-family:Menlo,'DejaVu Sans Mono',consolas,'Courier New',monospace\">\n",
       "</pre>\n"
      ],
      "text/plain": [
       "\n"
      ]
     },
     "metadata": {},
     "output_type": "display_data"
    },
    {
     "data": {
      "text/html": [
       "<pre style=\"white-space:pre;overflow-x:auto;line-height:normal;font-family:Menlo,'DejaVu Sans Mono',consolas,'Courier New',monospace\"><span style=\"color: #7fbfbf; text-decoration-color: #7fbfbf\">[14:10:22] </span>status = postprocess                                                                       <a href=\"file:///home/momchil/Drive/flexcompute/tidy3d-docs/tidy3d/tidy3d/web/webapi.py\" target=\"_blank\"><span style=\"color: #7f7f7f; text-decoration-color: #7f7f7f\">webapi.py</span></a><span style=\"color: #7f7f7f; text-decoration-color: #7f7f7f\">:</span><a href=\"file:///home/momchil/Drive/flexcompute/tidy3d-docs/tidy3d/tidy3d/web/webapi.py#383\" target=\"_blank\"><span style=\"color: #7f7f7f; text-decoration-color: #7f7f7f\">383</span></a>\n",
       "</pre>\n"
      ],
      "text/plain": [
       "\u001b[2;36m[14:10:22]\u001b[0m\u001b[2;36m \u001b[0mstatus = postprocess                                                                       \u001b]8;id=527811;file:///home/momchil/Drive/flexcompute/tidy3d-docs/tidy3d/tidy3d/web/webapi.py\u001b\\\u001b[2mwebapi.py\u001b[0m\u001b]8;;\u001b\\\u001b[2m:\u001b[0m\u001b]8;id=603238;file:///home/momchil/Drive/flexcompute/tidy3d-docs/tidy3d/tidy3d/web/webapi.py#383\u001b\\\u001b[2m383\u001b[0m\u001b]8;;\u001b\\\n"
      ]
     },
     "metadata": {},
     "output_type": "display_data"
    },
    {
     "data": {
      "application/vnd.jupyter.widget-view+json": {
       "model_id": "2b84dbb6aa64414c8cde75c3d02caa5d",
       "version_major": 2,
       "version_minor": 0
      },
      "text/plain": [
       "Output()"
      ]
     },
     "metadata": {},
     "output_type": "display_data"
    },
    {
     "data": {
      "text/html": [
       "<pre style=\"white-space:pre;overflow-x:auto;line-height:normal;font-family:Menlo,'DejaVu Sans Mono',consolas,'Courier New',monospace\"><span style=\"color: #7fbfbf; text-decoration-color: #7fbfbf\">[14:10:34] </span>status = success                                                                           <a href=\"file:///home/momchil/Drive/flexcompute/tidy3d-docs/tidy3d/tidy3d/web/webapi.py\" target=\"_blank\"><span style=\"color: #7f7f7f; text-decoration-color: #7f7f7f\">webapi.py</span></a><span style=\"color: #7f7f7f; text-decoration-color: #7f7f7f\">:</span><a href=\"file:///home/momchil/Drive/flexcompute/tidy3d-docs/tidy3d/tidy3d/web/webapi.py#390\" target=\"_blank\"><span style=\"color: #7f7f7f; text-decoration-color: #7f7f7f\">390</span></a>\n",
       "</pre>\n"
      ],
      "text/plain": [
       "\u001b[2;36m[14:10:34]\u001b[0m\u001b[2;36m \u001b[0mstatus = success                                                                           \u001b]8;id=898257;file:///home/momchil/Drive/flexcompute/tidy3d-docs/tidy3d/tidy3d/web/webapi.py\u001b\\\u001b[2mwebapi.py\u001b[0m\u001b]8;;\u001b\\\u001b[2m:\u001b[0m\u001b]8;id=334553;file:///home/momchil/Drive/flexcompute/tidy3d-docs/tidy3d/tidy3d/web/webapi.py#390\u001b\\\u001b[2m390\u001b[0m\u001b]8;;\u001b\\\n"
      ]
     },
     "metadata": {},
     "output_type": "display_data"
    },
    {
     "data": {
      "text/html": [
       "<pre style=\"white-space:pre;overflow-x:auto;line-height:normal;font-family:Menlo,'DejaVu Sans Mono',consolas,'Courier New',monospace\"></pre>\n"
      ],
      "text/plain": []
     },
     "metadata": {},
     "output_type": "display_data"
    },
    {
     "data": {
      "application/vnd.jupyter.widget-view+json": {
       "model_id": "f12321a293d44436997378299fe720be",
       "version_major": 2,
       "version_minor": 0
      },
      "text/plain": [
       "Output()"
      ]
     },
     "metadata": {},
     "output_type": "display_data"
    },
    {
     "data": {
      "text/html": [
       "<pre style=\"white-space:pre;overflow-x:auto;line-height:normal;font-family:Menlo,'DejaVu Sans Mono',consolas,'Courier New',monospace\"></pre>\n"
      ],
      "text/plain": []
     },
     "metadata": {},
     "output_type": "display_data"
    },
    {
     "data": {
      "text/html": [
       "<pre style=\"white-space:pre;overflow-x:auto;line-height:normal;font-family:Menlo,'DejaVu Sans Mono',consolas,'Courier New',monospace\">\n",
       "</pre>\n"
      ],
      "text/plain": [
       "\n"
      ]
     },
     "metadata": {},
     "output_type": "display_data"
    },
    {
     "data": {
      "text/html": [
       "<pre style=\"white-space:pre;overflow-x:auto;line-height:normal;font-family:Menlo,'DejaVu Sans Mono',consolas,'Courier New',monospace\"><span style=\"color: #7fbfbf; text-decoration-color: #7fbfbf\">[14:10:35] </span>loading SimulationData from data/simulation.hdf5                                           <a href=\"file:///home/momchil/Drive/flexcompute/tidy3d-docs/tidy3d/tidy3d/web/webapi.py\" target=\"_blank\"><span style=\"color: #7f7f7f; text-decoration-color: #7f7f7f\">webapi.py</span></a><span style=\"color: #7f7f7f; text-decoration-color: #7f7f7f\">:</span><a href=\"file:///home/momchil/Drive/flexcompute/tidy3d-docs/tidy3d/tidy3d/web/webapi.py#568\" target=\"_blank\"><span style=\"color: #7f7f7f; text-decoration-color: #7f7f7f\">568</span></a>\n",
       "</pre>\n"
      ],
      "text/plain": [
       "\u001b[2;36m[14:10:35]\u001b[0m\u001b[2;36m \u001b[0mloading SimulationData from data/simulation.hdf5                                           \u001b]8;id=331472;file:///home/momchil/Drive/flexcompute/tidy3d-docs/tidy3d/tidy3d/web/webapi.py\u001b\\\u001b[2mwebapi.py\u001b[0m\u001b]8;;\u001b\\\u001b[2m:\u001b[0m\u001b]8;id=162956;file:///home/momchil/Drive/flexcompute/tidy3d-docs/tidy3d/tidy3d/web/webapi.py#568\u001b\\\u001b[2m568\u001b[0m\u001b]8;;\u001b\\\n"
      ]
     },
     "metadata": {},
     "output_type": "display_data"
    },
    {
     "data": {
      "text/html": [
       "<pre style=\"white-space:pre;overflow-x:auto;line-height:normal;font-family:Menlo,'DejaVu Sans Mono',consolas,'Courier New',monospace\"><span style=\"color: #7fbfbf; text-decoration-color: #7fbfbf\">[14:10:35] </span>Created task <span style=\"color: #008000; text-decoration-color: #008000\">'scattered waveguide'</span> with task_id                                            <a href=\"file:///home/momchil/Drive/flexcompute/tidy3d-docs/tidy3d/tidy3d/web/webapi.py\" target=\"_blank\"><span style=\"color: #7f7f7f; text-decoration-color: #7f7f7f\">webapi.py</span></a><span style=\"color: #7f7f7f; text-decoration-color: #7f7f7f\">:</span><a href=\"file:///home/momchil/Drive/flexcompute/tidy3d-docs/tidy3d/tidy3d/web/webapi.py#186\" target=\"_blank\"><span style=\"color: #7f7f7f; text-decoration-color: #7f7f7f\">186</span></a>\n",
       "<span style=\"color: #7fbfbf; text-decoration-color: #7fbfbf\">           </span><span style=\"color: #008000; text-decoration-color: #008000\">'fdve-be1367bf-9c1f-4dcc-930a-4692b7220229v1'</span>.                                             <span style=\"color: #7f7f7f; text-decoration-color: #7f7f7f\">             </span>\n",
       "</pre>\n"
      ],
      "text/plain": [
       "\u001b[2;36m[14:10:35]\u001b[0m\u001b[2;36m \u001b[0mCreated task \u001b[32m'scattered waveguide'\u001b[0m with task_id                                            \u001b]8;id=468962;file:///home/momchil/Drive/flexcompute/tidy3d-docs/tidy3d/tidy3d/web/webapi.py\u001b\\\u001b[2mwebapi.py\u001b[0m\u001b]8;;\u001b\\\u001b[2m:\u001b[0m\u001b]8;id=945194;file:///home/momchil/Drive/flexcompute/tidy3d-docs/tidy3d/tidy3d/web/webapi.py#186\u001b\\\u001b[2m186\u001b[0m\u001b]8;;\u001b\\\n",
       "\u001b[2;36m           \u001b[0m\u001b[32m'fdve-be1367bf-9c1f-4dcc-930a-4692b7220229v1'\u001b[0m.                                             \u001b[2m             \u001b[0m\n"
      ]
     },
     "metadata": {},
     "output_type": "display_data"
    },
    {
     "data": {
      "text/html": [
       "<pre style=\"white-space:pre;overflow-x:auto;line-height:normal;font-family:Menlo,'DejaVu Sans Mono',consolas,'Courier New',monospace\"><span style=\"color: #7fbfbf; text-decoration-color: #7fbfbf\">           </span>View task using web UI at                                                                  <a href=\"file:///home/momchil/Drive/flexcompute/tidy3d-docs/tidy3d/tidy3d/web/webapi.py\" target=\"_blank\"><span style=\"color: #7f7f7f; text-decoration-color: #7f7f7f\">webapi.py</span></a><span style=\"color: #7f7f7f; text-decoration-color: #7f7f7f\">:</span><a href=\"file:///home/momchil/Drive/flexcompute/tidy3d-docs/tidy3d/tidy3d/web/webapi.py#188\" target=\"_blank\"><span style=\"color: #7f7f7f; text-decoration-color: #7f7f7f\">188</span></a>\n",
       "<span style=\"color: #7fbfbf; text-decoration-color: #7fbfbf\">           </span><a href=\"https://tidy3d.simulation.cloud/workbench?taskId=fdve-be1367bf-9c1f-4dcc-930a-4692b7220229v1\" target=\"_blank\"><span style=\"color: #008000; text-decoration-color: #008000\">'https://tidy3d.simulation.cloud/workbench?taskId=fdve-be1367bf-9c1f-4dcc-930a-4692b722022</span></a> <span style=\"color: #7f7f7f; text-decoration-color: #7f7f7f\">             </span>\n",
       "<span style=\"color: #7fbfbf; text-decoration-color: #7fbfbf\">           </span><a href=\"https://tidy3d.simulation.cloud/workbench?taskId=fdve-be1367bf-9c1f-4dcc-930a-4692b7220229v1\" target=\"_blank\"><span style=\"color: #008000; text-decoration-color: #008000\">9v1'</span></a>.                                                                                      <span style=\"color: #7f7f7f; text-decoration-color: #7f7f7f\">             </span>\n",
       "</pre>\n"
      ],
      "text/plain": [
       "\u001b[2;36m          \u001b[0m\u001b[2;36m \u001b[0mView task using web UI at                                                                  \u001b]8;id=221159;file:///home/momchil/Drive/flexcompute/tidy3d-docs/tidy3d/tidy3d/web/webapi.py\u001b\\\u001b[2mwebapi.py\u001b[0m\u001b]8;;\u001b\\\u001b[2m:\u001b[0m\u001b]8;id=715914;file:///home/momchil/Drive/flexcompute/tidy3d-docs/tidy3d/tidy3d/web/webapi.py#188\u001b\\\u001b[2m188\u001b[0m\u001b]8;;\u001b\\\n",
       "\u001b[2;36m           \u001b[0m\u001b]8;id=633957;https://tidy3d.simulation.cloud/workbench?taskId=fdve-be1367bf-9c1f-4dcc-930a-4692b7220229v1\u001b\\\u001b[32m'https://tidy3d.simulation.cloud/workbench?\u001b[0m\u001b]8;;\u001b\\\u001b]8;id=619551;https://tidy3d.simulation.cloud/workbench?taskId=fdve-be1367bf-9c1f-4dcc-930a-4692b7220229v1\u001b\\\u001b[32mtaskId\u001b[0m\u001b]8;;\u001b\\\u001b]8;id=633957;https://tidy3d.simulation.cloud/workbench?taskId=fdve-be1367bf-9c1f-4dcc-930a-4692b7220229v1\u001b\\\u001b[32m=\u001b[0m\u001b]8;;\u001b\\\u001b]8;id=811706;https://tidy3d.simulation.cloud/workbench?taskId=fdve-be1367bf-9c1f-4dcc-930a-4692b7220229v1\u001b\\\u001b[32mfdve\u001b[0m\u001b]8;;\u001b\\\u001b]8;id=633957;https://tidy3d.simulation.cloud/workbench?taskId=fdve-be1367bf-9c1f-4dcc-930a-4692b7220229v1\u001b\\\u001b[32m-be1367bf-9c1f-4dcc-930a-4692b722022\u001b[0m\u001b]8;;\u001b\\ \u001b[2m             \u001b[0m\n",
       "\u001b[2;36m           \u001b[0m\u001b]8;id=633957;https://tidy3d.simulation.cloud/workbench?taskId=fdve-be1367bf-9c1f-4dcc-930a-4692b7220229v1\u001b\\\u001b[32m9v1'\u001b[0m\u001b]8;;\u001b\\.                                                                                      \u001b[2m             \u001b[0m\n"
      ]
     },
     "metadata": {},
     "output_type": "display_data"
    },
    {
     "data": {
      "application/vnd.jupyter.widget-view+json": {
       "model_id": "3e0beceb22244312921e25757f0961d8",
       "version_major": 2,
       "version_minor": 0
      },
      "text/plain": [
       "Output()"
      ]
     },
     "metadata": {},
     "output_type": "display_data"
    },
    {
     "data": {
      "text/html": [
       "<pre style=\"white-space:pre;overflow-x:auto;line-height:normal;font-family:Menlo,'DejaVu Sans Mono',consolas,'Courier New',monospace\"></pre>\n"
      ],
      "text/plain": []
     },
     "metadata": {},
     "output_type": "display_data"
    },
    {
     "data": {
      "text/html": [
       "<pre style=\"white-space:pre;overflow-x:auto;line-height:normal;font-family:Menlo,'DejaVu Sans Mono',consolas,'Courier New',monospace\">\n",
       "</pre>\n"
      ],
      "text/plain": [
       "\n"
      ]
     },
     "metadata": {},
     "output_type": "display_data"
    },
    {
     "data": {
      "text/html": [
       "<pre style=\"white-space:pre;overflow-x:auto;line-height:normal;font-family:Menlo,'DejaVu Sans Mono',consolas,'Courier New',monospace\"><span style=\"color: #7fbfbf; text-decoration-color: #7fbfbf\">[14:10:36] </span>status = queued                                                                            <a href=\"file:///home/momchil/Drive/flexcompute/tidy3d-docs/tidy3d/tidy3d/web/webapi.py\" target=\"_blank\"><span style=\"color: #7f7f7f; text-decoration-color: #7f7f7f\">webapi.py</span></a><span style=\"color: #7f7f7f; text-decoration-color: #7f7f7f\">:</span><a href=\"file:///home/momchil/Drive/flexcompute/tidy3d-docs/tidy3d/tidy3d/web/webapi.py#321\" target=\"_blank\"><span style=\"color: #7f7f7f; text-decoration-color: #7f7f7f\">321</span></a>\n",
       "</pre>\n"
      ],
      "text/plain": [
       "\u001b[2;36m[14:10:36]\u001b[0m\u001b[2;36m \u001b[0mstatus = queued                                                                            \u001b]8;id=113941;file:///home/momchil/Drive/flexcompute/tidy3d-docs/tidy3d/tidy3d/web/webapi.py\u001b\\\u001b[2mwebapi.py\u001b[0m\u001b]8;;\u001b\\\u001b[2m:\u001b[0m\u001b]8;id=236835;file:///home/momchil/Drive/flexcompute/tidy3d-docs/tidy3d/tidy3d/web/webapi.py#321\u001b\\\u001b[2m321\u001b[0m\u001b]8;;\u001b\\\n"
      ]
     },
     "metadata": {},
     "output_type": "display_data"
    },
    {
     "data": {
      "application/vnd.jupyter.widget-view+json": {
       "model_id": "20aafb570e9940348455e81e1590e45c",
       "version_major": 2,
       "version_minor": 0
      },
      "text/plain": [
       "Output()"
      ]
     },
     "metadata": {},
     "output_type": "display_data"
    },
    {
     "data": {
      "text/html": [
       "<pre style=\"white-space:pre;overflow-x:auto;line-height:normal;font-family:Menlo,'DejaVu Sans Mono',consolas,'Courier New',monospace\"><span style=\"color: #7fbfbf; text-decoration-color: #7fbfbf\">[14:10:38] </span>status = preprocess                                                                        <a href=\"file:///home/momchil/Drive/flexcompute/tidy3d-docs/tidy3d/tidy3d/web/webapi.py\" target=\"_blank\"><span style=\"color: #7f7f7f; text-decoration-color: #7f7f7f\">webapi.py</span></a><span style=\"color: #7f7f7f; text-decoration-color: #7f7f7f\">:</span><a href=\"file:///home/momchil/Drive/flexcompute/tidy3d-docs/tidy3d/tidy3d/web/webapi.py#315\" target=\"_blank\"><span style=\"color: #7f7f7f; text-decoration-color: #7f7f7f\">315</span></a>\n",
       "</pre>\n"
      ],
      "text/plain": [
       "\u001b[2;36m[14:10:38]\u001b[0m\u001b[2;36m \u001b[0mstatus = preprocess                                                                        \u001b]8;id=65143;file:///home/momchil/Drive/flexcompute/tidy3d-docs/tidy3d/tidy3d/web/webapi.py\u001b\\\u001b[2mwebapi.py\u001b[0m\u001b]8;;\u001b\\\u001b[2m:\u001b[0m\u001b]8;id=1872;file:///home/momchil/Drive/flexcompute/tidy3d-docs/tidy3d/tidy3d/web/webapi.py#315\u001b\\\u001b[2m315\u001b[0m\u001b]8;;\u001b\\\n"
      ]
     },
     "metadata": {},
     "output_type": "display_data"
    },
    {
     "data": {
      "text/html": [
       "<pre style=\"white-space:pre;overflow-x:auto;line-height:normal;font-family:Menlo,'DejaVu Sans Mono',consolas,'Courier New',monospace\"></pre>\n"
      ],
      "text/plain": []
     },
     "metadata": {},
     "output_type": "display_data"
    },
    {
     "data": {
      "text/html": [
       "<pre style=\"white-space:pre;overflow-x:auto;line-height:normal;font-family:Menlo,'DejaVu Sans Mono',consolas,'Courier New',monospace\"><span style=\"color: #7fbfbf; text-decoration-color: #7fbfbf\">[14:10:42] </span>Maximum FlexCredit cost: <span style=\"color: #008080; text-decoration-color: #008080; font-weight: bold\">0.025</span>. Use <span style=\"color: #008000; text-decoration-color: #008000\">'web.real_cost(task_id)'</span> to get the billed FlexCredit  <a href=\"file:///home/momchil/Drive/flexcompute/tidy3d-docs/tidy3d/tidy3d/web/webapi.py\" target=\"_blank\"><span style=\"color: #7f7f7f; text-decoration-color: #7f7f7f\">webapi.py</span></a><span style=\"color: #7f7f7f; text-decoration-color: #7f7f7f\">:</span><a href=\"file:///home/momchil/Drive/flexcompute/tidy3d-docs/tidy3d/tidy3d/web/webapi.py#338\" target=\"_blank\"><span style=\"color: #7f7f7f; text-decoration-color: #7f7f7f\">338</span></a>\n",
       "<span style=\"color: #7fbfbf; text-decoration-color: #7fbfbf\">           </span>cost after a simulation run.                                                               <span style=\"color: #7f7f7f; text-decoration-color: #7f7f7f\">             </span>\n",
       "</pre>\n"
      ],
      "text/plain": [
       "\u001b[2;36m[14:10:42]\u001b[0m\u001b[2;36m \u001b[0mMaximum FlexCredit cost: \u001b[1;36m0.025\u001b[0m. Use \u001b[32m'web.real_cost\u001b[0m\u001b[32m(\u001b[0m\u001b[32mtask_id\u001b[0m\u001b[32m)\u001b[0m\u001b[32m'\u001b[0m to get the billed FlexCredit  \u001b]8;id=537876;file:///home/momchil/Drive/flexcompute/tidy3d-docs/tidy3d/tidy3d/web/webapi.py\u001b\\\u001b[2mwebapi.py\u001b[0m\u001b]8;;\u001b\\\u001b[2m:\u001b[0m\u001b]8;id=508403;file:///home/momchil/Drive/flexcompute/tidy3d-docs/tidy3d/tidy3d/web/webapi.py#338\u001b\\\u001b[2m338\u001b[0m\u001b]8;;\u001b\\\n",
       "\u001b[2;36m           \u001b[0mcost after a simulation run.                                                               \u001b[2m             \u001b[0m\n"
      ]
     },
     "metadata": {},
     "output_type": "display_data"
    },
    {
     "data": {
      "text/html": [
       "<pre style=\"white-space:pre;overflow-x:auto;line-height:normal;font-family:Menlo,'DejaVu Sans Mono',consolas,'Courier New',monospace\"><span style=\"color: #7fbfbf; text-decoration-color: #7fbfbf\">           </span>starting up solver                                                                         <a href=\"file:///home/momchil/Drive/flexcompute/tidy3d-docs/tidy3d/tidy3d/web/webapi.py\" target=\"_blank\"><span style=\"color: #7f7f7f; text-decoration-color: #7f7f7f\">webapi.py</span></a><span style=\"color: #7f7f7f; text-decoration-color: #7f7f7f\">:</span><a href=\"file:///home/momchil/Drive/flexcompute/tidy3d-docs/tidy3d/tidy3d/web/webapi.py#342\" target=\"_blank\"><span style=\"color: #7f7f7f; text-decoration-color: #7f7f7f\">342</span></a>\n",
       "</pre>\n"
      ],
      "text/plain": [
       "\u001b[2;36m          \u001b[0m\u001b[2;36m \u001b[0mstarting up solver                                                                         \u001b]8;id=622158;file:///home/momchil/Drive/flexcompute/tidy3d-docs/tidy3d/tidy3d/web/webapi.py\u001b\\\u001b[2mwebapi.py\u001b[0m\u001b]8;;\u001b\\\u001b[2m:\u001b[0m\u001b]8;id=289592;file:///home/momchil/Drive/flexcompute/tidy3d-docs/tidy3d/tidy3d/web/webapi.py#342\u001b\\\u001b[2m342\u001b[0m\u001b]8;;\u001b\\\n"
      ]
     },
     "metadata": {},
     "output_type": "display_data"
    },
    {
     "data": {
      "text/html": [
       "<pre style=\"white-space:pre;overflow-x:auto;line-height:normal;font-family:Menlo,'DejaVu Sans Mono',consolas,'Courier New',monospace\"><span style=\"color: #7fbfbf; text-decoration-color: #7fbfbf\">           </span>running solver                                                                             <a href=\"file:///home/momchil/Drive/flexcompute/tidy3d-docs/tidy3d/tidy3d/web/webapi.py\" target=\"_blank\"><span style=\"color: #7f7f7f; text-decoration-color: #7f7f7f\">webapi.py</span></a><span style=\"color: #7f7f7f; text-decoration-color: #7f7f7f\">:</span><a href=\"file:///home/momchil/Drive/flexcompute/tidy3d-docs/tidy3d/tidy3d/web/webapi.py#352\" target=\"_blank\"><span style=\"color: #7f7f7f; text-decoration-color: #7f7f7f\">352</span></a>\n",
       "</pre>\n"
      ],
      "text/plain": [
       "\u001b[2;36m          \u001b[0m\u001b[2;36m \u001b[0mrunning solver                                                                             \u001b]8;id=207969;file:///home/momchil/Drive/flexcompute/tidy3d-docs/tidy3d/tidy3d/web/webapi.py\u001b\\\u001b[2mwebapi.py\u001b[0m\u001b]8;;\u001b\\\u001b[2m:\u001b[0m\u001b]8;id=596199;file:///home/momchil/Drive/flexcompute/tidy3d-docs/tidy3d/tidy3d/web/webapi.py#352\u001b\\\u001b[2m352\u001b[0m\u001b]8;;\u001b\\\n"
      ]
     },
     "metadata": {},
     "output_type": "display_data"
    },
    {
     "data": {
      "application/vnd.jupyter.widget-view+json": {
       "model_id": "2f5b1f98649b4e3b84dcb7e6392eb349",
       "version_major": 2,
       "version_minor": 0
      },
      "text/plain": [
       "Output()"
      ]
     },
     "metadata": {},
     "output_type": "display_data"
    },
    {
     "data": {
      "text/html": [
       "<pre style=\"white-space:pre;overflow-x:auto;line-height:normal;font-family:Menlo,'DejaVu Sans Mono',consolas,'Courier New',monospace\"><span style=\"color: #7fbfbf; text-decoration-color: #7fbfbf\">[14:10:52] </span>early shutoff detected, exiting.                                                           <a href=\"file:///home/momchil/Drive/flexcompute/tidy3d-docs/tidy3d/tidy3d/web/webapi.py\" target=\"_blank\"><span style=\"color: #7f7f7f; text-decoration-color: #7f7f7f\">webapi.py</span></a><span style=\"color: #7f7f7f; text-decoration-color: #7f7f7f\">:</span><a href=\"file:///home/momchil/Drive/flexcompute/tidy3d-docs/tidy3d/tidy3d/web/webapi.py#366\" target=\"_blank\"><span style=\"color: #7f7f7f; text-decoration-color: #7f7f7f\">366</span></a>\n",
       "</pre>\n"
      ],
      "text/plain": [
       "\u001b[2;36m[14:10:52]\u001b[0m\u001b[2;36m \u001b[0mearly shutoff detected, exiting.                                                           \u001b]8;id=584904;file:///home/momchil/Drive/flexcompute/tidy3d-docs/tidy3d/tidy3d/web/webapi.py\u001b\\\u001b[2mwebapi.py\u001b[0m\u001b]8;;\u001b\\\u001b[2m:\u001b[0m\u001b]8;id=465419;file:///home/momchil/Drive/flexcompute/tidy3d-docs/tidy3d/tidy3d/web/webapi.py#366\u001b\\\u001b[2m366\u001b[0m\u001b]8;;\u001b\\\n"
      ]
     },
     "metadata": {},
     "output_type": "display_data"
    },
    {
     "data": {
      "text/html": [
       "<pre style=\"white-space:pre;overflow-x:auto;line-height:normal;font-family:Menlo,'DejaVu Sans Mono',consolas,'Courier New',monospace\"></pre>\n"
      ],
      "text/plain": []
     },
     "metadata": {},
     "output_type": "display_data"
    },
    {
     "data": {
      "text/html": [
       "<pre style=\"white-space:pre;overflow-x:auto;line-height:normal;font-family:Menlo,'DejaVu Sans Mono',consolas,'Courier New',monospace\">\n",
       "</pre>\n"
      ],
      "text/plain": [
       "\n"
      ]
     },
     "metadata": {},
     "output_type": "display_data"
    },
    {
     "data": {
      "text/html": [
       "<pre style=\"white-space:pre;overflow-x:auto;line-height:normal;font-family:Menlo,'DejaVu Sans Mono',consolas,'Courier New',monospace\"><span style=\"color: #7fbfbf; text-decoration-color: #7fbfbf\">[14:10:53] </span>status = postprocess                                                                       <a href=\"file:///home/momchil/Drive/flexcompute/tidy3d-docs/tidy3d/tidy3d/web/webapi.py\" target=\"_blank\"><span style=\"color: #7f7f7f; text-decoration-color: #7f7f7f\">webapi.py</span></a><span style=\"color: #7f7f7f; text-decoration-color: #7f7f7f\">:</span><a href=\"file:///home/momchil/Drive/flexcompute/tidy3d-docs/tidy3d/tidy3d/web/webapi.py#383\" target=\"_blank\"><span style=\"color: #7f7f7f; text-decoration-color: #7f7f7f\">383</span></a>\n",
       "</pre>\n"
      ],
      "text/plain": [
       "\u001b[2;36m[14:10:53]\u001b[0m\u001b[2;36m \u001b[0mstatus = postprocess                                                                       \u001b]8;id=947431;file:///home/momchil/Drive/flexcompute/tidy3d-docs/tidy3d/tidy3d/web/webapi.py\u001b\\\u001b[2mwebapi.py\u001b[0m\u001b]8;;\u001b\\\u001b[2m:\u001b[0m\u001b]8;id=749793;file:///home/momchil/Drive/flexcompute/tidy3d-docs/tidy3d/tidy3d/web/webapi.py#383\u001b\\\u001b[2m383\u001b[0m\u001b]8;;\u001b\\\n"
      ]
     },
     "metadata": {},
     "output_type": "display_data"
    },
    {
     "data": {
      "application/vnd.jupyter.widget-view+json": {
       "model_id": "6c3c122f1cef41b08d48200b19e597c7",
       "version_major": 2,
       "version_minor": 0
      },
      "text/plain": [
       "Output()"
      ]
     },
     "metadata": {},
     "output_type": "display_data"
    },
    {
     "data": {
      "text/html": [
       "<pre style=\"white-space:pre;overflow-x:auto;line-height:normal;font-family:Menlo,'DejaVu Sans Mono',consolas,'Courier New',monospace\"><span style=\"color: #7fbfbf; text-decoration-color: #7fbfbf\">[14:11:08] </span>status = success                                                                           <a href=\"file:///home/momchil/Drive/flexcompute/tidy3d-docs/tidy3d/tidy3d/web/webapi.py\" target=\"_blank\"><span style=\"color: #7f7f7f; text-decoration-color: #7f7f7f\">webapi.py</span></a><span style=\"color: #7f7f7f; text-decoration-color: #7f7f7f\">:</span><a href=\"file:///home/momchil/Drive/flexcompute/tidy3d-docs/tidy3d/tidy3d/web/webapi.py#390\" target=\"_blank\"><span style=\"color: #7f7f7f; text-decoration-color: #7f7f7f\">390</span></a>\n",
       "</pre>\n"
      ],
      "text/plain": [
       "\u001b[2;36m[14:11:08]\u001b[0m\u001b[2;36m \u001b[0mstatus = success                                                                           \u001b]8;id=313458;file:///home/momchil/Drive/flexcompute/tidy3d-docs/tidy3d/tidy3d/web/webapi.py\u001b\\\u001b[2mwebapi.py\u001b[0m\u001b]8;;\u001b\\\u001b[2m:\u001b[0m\u001b]8;id=19736;file:///home/momchil/Drive/flexcompute/tidy3d-docs/tidy3d/tidy3d/web/webapi.py#390\u001b\\\u001b[2m390\u001b[0m\u001b]8;;\u001b\\\n"
      ]
     },
     "metadata": {},
     "output_type": "display_data"
    },
    {
     "data": {
      "text/html": [
       "<pre style=\"white-space:pre;overflow-x:auto;line-height:normal;font-family:Menlo,'DejaVu Sans Mono',consolas,'Courier New',monospace\"></pre>\n"
      ],
      "text/plain": []
     },
     "metadata": {},
     "output_type": "display_data"
    },
    {
     "data": {
      "application/vnd.jupyter.widget-view+json": {
       "model_id": "b46ab37462954099825ec4e63bbf4174",
       "version_major": 2,
       "version_minor": 0
      },
      "text/plain": [
       "Output()"
      ]
     },
     "metadata": {},
     "output_type": "display_data"
    },
    {
     "data": {
      "text/html": [
       "<pre style=\"white-space:pre;overflow-x:auto;line-height:normal;font-family:Menlo,'DejaVu Sans Mono',consolas,'Courier New',monospace\"></pre>\n"
      ],
      "text/plain": []
     },
     "metadata": {},
     "output_type": "display_data"
    },
    {
     "data": {
      "text/html": [
       "<pre style=\"white-space:pre;overflow-x:auto;line-height:normal;font-family:Menlo,'DejaVu Sans Mono',consolas,'Courier New',monospace\">\n",
       "</pre>\n"
      ],
      "text/plain": [
       "\n"
      ]
     },
     "metadata": {},
     "output_type": "display_data"
    },
    {
     "data": {
      "text/html": [
       "<pre style=\"white-space:pre;overflow-x:auto;line-height:normal;font-family:Menlo,'DejaVu Sans Mono',consolas,'Courier New',monospace\"><span style=\"color: #7fbfbf; text-decoration-color: #7fbfbf\">[14:11:09] </span>loading SimulationData from data/simulation.hdf5                                           <a href=\"file:///home/momchil/Drive/flexcompute/tidy3d-docs/tidy3d/tidy3d/web/webapi.py\" target=\"_blank\"><span style=\"color: #7f7f7f; text-decoration-color: #7f7f7f\">webapi.py</span></a><span style=\"color: #7f7f7f; text-decoration-color: #7f7f7f\">:</span><a href=\"file:///home/momchil/Drive/flexcompute/tidy3d-docs/tidy3d/tidy3d/web/webapi.py#568\" target=\"_blank\"><span style=\"color: #7f7f7f; text-decoration-color: #7f7f7f\">568</span></a>\n",
       "</pre>\n"
      ],
      "text/plain": [
       "\u001b[2;36m[14:11:09]\u001b[0m\u001b[2;36m \u001b[0mloading SimulationData from data/simulation.hdf5                                           \u001b]8;id=541167;file:///home/momchil/Drive/flexcompute/tidy3d-docs/tidy3d/tidy3d/web/webapi.py\u001b\\\u001b[2mwebapi.py\u001b[0m\u001b]8;;\u001b\\\u001b[2m:\u001b[0m\u001b]8;id=637723;file:///home/momchil/Drive/flexcompute/tidy3d-docs/tidy3d/tidy3d/web/webapi.py#568\u001b\\\u001b[2m568\u001b[0m\u001b]8;;\u001b\\\n"
      ]
     },
     "metadata": {},
     "output_type": "display_data"
    }
   ],
   "source": [
    "sim0_data = web.run(\n",
    "    simulation0,\n",
    "    task_name=\"straight waveguide\",\n",
    "    path=\"data/simulation.hdf5\",\n",
    "    verbose=True,\n",
    ")\n",
    "\n",
    "sim_data = web.run(\n",
    "    simulation,\n",
    "    task_name=\"scattered waveguide\",\n",
    "    path=\"data/simulation.hdf5\",\n",
    "    verbose=True,\n",
    ")\n"
   ]
  },
  {
   "cell_type": "markdown",
   "id": "72401eff",
   "metadata": {},
   "source": [
    "### Inspecting Log\n",
    "\n",
    "Now let's take a look at the log to see if everything looks ok (fields decayed, etc)."
   ]
  },
  {
   "cell_type": "code",
   "execution_count": 7,
   "id": "3e528e33",
   "metadata": {
    "execution": {
     "iopub.execute_input": "2023-05-19T21:11:10.956402Z",
     "iopub.status.busy": "2023-05-19T21:11:10.956267Z",
     "iopub.status.idle": "2023-05-19T21:11:10.974909Z",
     "shell.execute_reply": "2023-05-19T21:11:10.974394Z"
    },
    "tags": []
   },
   "outputs": [
    {
     "name": "stdout",
     "output_type": "stream",
     "text": [
      "Simulation domain Nx, Ny, Nz: [176, 152, 152]\n",
      "Applied symmetries: (0, 0, 0)\n",
      "Number of computational grid points: 4.2214e+06.\n",
      "Using subpixel averaging: True\n",
      "Number of time steps: 6.6230e+03\n",
      "Automatic shutoff factor: 1.00e-05\n",
      "Time step (s): 6.0408e-17\n",
      "\n",
      "\n",
      "Compute source modes time (s):     0.4551\n",
      "Compute monitor modes time (s):    2.3215\n",
      "Rest of setup time (s):            6.6020\n",
      "\n",
      "Running solver for 6623 time steps...\n",
      "- Time step    220 / time 1.33e-14s (  3 % done), field decay: 1.00e+00\n",
      "- Time step    264 / time 1.59e-14s (  4 % done), field decay: 1.00e+00\n",
      "- Time step    529 / time 3.20e-14s (  8 % done), field decay: 1.00e+00\n",
      "- Time step    794 / time 4.80e-14s ( 12 % done), field decay: 8.03e-04\n",
      "- Time step   1059 / time 6.40e-14s ( 16 % done), field decay: 1.36e-06\n",
      "Field decay smaller than shutoff factor, exiting solver.\n",
      "\n",
      "Solver time (s):                   0.9779\n",
      "Data write time (s):               0.0850\n",
      "\n"
     ]
    }
   ],
   "source": [
    "print(sim_data.log)\n"
   ]
  },
  {
   "cell_type": "markdown",
   "id": "ce4a54c3",
   "metadata": {},
   "source": [
    "## Post-Processing\n",
    "\n",
    "Now that the simulations have run and their data are loaded into the `sim_data` and `sim0_data` variables, we will explore how to access, manipulate, and visualize the data.  \n",
    "\n",
    "### Accessing Data\n",
    "\n",
    "#### Original Simulation\n",
    "\n",
    "The [SimulationData](../_autosummary/tidy3d.SimulationData.html) objects store a copy of the original [Simulation](../_autosummary/tidy3d.Simulation.html), so it can be recovered if the [SimulationData](../_autosummary/tidy3d.SimulationData.html) is loaded in a new session and the [Simulation](../_autosummary/tidy3d.Simulation.html) is no longer in memory."
   ]
  },
  {
   "cell_type": "code",
   "execution_count": 8,
   "id": "2c3ef22b",
   "metadata": {
    "execution": {
     "iopub.execute_input": "2023-05-19T21:11:10.976778Z",
     "iopub.status.busy": "2023-05-19T21:11:10.976639Z",
     "iopub.status.idle": "2023-05-19T21:11:10.994755Z",
     "shell.execute_reply": "2023-05-19T21:11:10.994262Z"
    },
    "tags": []
   },
   "outputs": [
    {
     "name": "stdout",
     "output_type": "stream",
     "text": [
      "(5.0, 5.0, 5.0)\n"
     ]
    }
   ],
   "source": [
    "print(sim_data.simulation.size)\n"
   ]
  },
  {
   "cell_type": "markdown",
   "id": "30e26ff6",
   "metadata": {},
   "source": [
    "#### Monitor Data\n",
    "\n",
    "More importantly, the [SimulationData](../_autosummary/tidy3d.SimulationData.html) contains a reference to the data for each of the monitors within the original [Simulation](../_autosummary/tidy3d.Simulation.html).\n",
    "This data can be accessed directly using the `name` given to the monitors initially.\n",
    "\n",
    "For example, our [FluxMonitor](../_autosummary/tidy3d.FluxMonitor.html) was named `'flux'` while our [FluxTimeMonitor](../_autosummary/tidy3d.FluxTimeMonitor.html) was named `'flux_time'`, each with a `.flux` attribute storing the raw data. Therefore, we can access the data as follows."
   ]
  },
  {
   "cell_type": "code",
   "execution_count": 9,
   "id": "58af7e8c",
   "metadata": {
    "execution": {
     "iopub.execute_input": "2023-05-19T21:11:10.996496Z",
     "iopub.status.busy": "2023-05-19T21:11:10.996357Z",
     "iopub.status.idle": "2023-05-19T21:11:11.015597Z",
     "shell.execute_reply": "2023-05-19T21:11:11.015016Z"
    },
    "tags": []
   },
   "outputs": [],
   "source": [
    "# get the flux data from the monitor name\n",
    "flux_data = sim_data[\"flux\"].flux\n",
    "flux_time_data = sim_data[\"flux_time\"].flux\n"
   ]
  },
  {
   "cell_type": "markdown",
   "id": "8f9f3a94",
   "metadata": {},
   "source": [
    "### Structure of Data\n",
    "\n",
    "Now that we have the data loaded, let's inspect it."
   ]
  },
  {
   "cell_type": "code",
   "execution_count": 10,
   "id": "d672a805",
   "metadata": {
    "execution": {
     "iopub.execute_input": "2023-05-19T21:11:11.017492Z",
     "iopub.status.busy": "2023-05-19T21:11:11.017348Z",
     "iopub.status.idle": "2023-05-19T21:11:11.051574Z",
     "shell.execute_reply": "2023-05-19T21:11:11.050795Z"
    },
    "tags": []
   },
   "outputs": [
    {
     "data": {
      "text/html": [
       "<div><svg style=\"position: absolute; width: 0; height: 0; overflow: hidden\">\n",
       "<defs>\n",
       "<symbol id=\"icon-database\" viewBox=\"0 0 32 32\">\n",
       "<path d=\"M16 0c-8.837 0-16 2.239-16 5v4c0 2.761 7.163 5 16 5s16-2.239 16-5v-4c0-2.761-7.163-5-16-5z\"></path>\n",
       "<path d=\"M16 17c-8.837 0-16-2.239-16-5v6c0 2.761 7.163 5 16 5s16-2.239 16-5v-6c0 2.761-7.163 5-16 5z\"></path>\n",
       "<path d=\"M16 26c-8.837 0-16-2.239-16-5v6c0 2.761 7.163 5 16 5s16-2.239 16-5v-6c0 2.761-7.163 5-16 5z\"></path>\n",
       "</symbol>\n",
       "<symbol id=\"icon-file-text2\" viewBox=\"0 0 32 32\">\n",
       "<path d=\"M28.681 7.159c-0.694-0.947-1.662-2.053-2.724-3.116s-2.169-2.030-3.116-2.724c-1.612-1.182-2.393-1.319-2.841-1.319h-15.5c-1.378 0-2.5 1.121-2.5 2.5v27c0 1.378 1.122 2.5 2.5 2.5h23c1.378 0 2.5-1.122 2.5-2.5v-19.5c0-0.448-0.137-1.23-1.319-2.841zM24.543 5.457c0.959 0.959 1.712 1.825 2.268 2.543h-4.811v-4.811c0.718 0.556 1.584 1.309 2.543 2.268zM28 29.5c0 0.271-0.229 0.5-0.5 0.5h-23c-0.271 0-0.5-0.229-0.5-0.5v-27c0-0.271 0.229-0.5 0.5-0.5 0 0 15.499-0 15.5 0v7c0 0.552 0.448 1 1 1h7v19.5z\"></path>\n",
       "<path d=\"M23 26h-14c-0.552 0-1-0.448-1-1s0.448-1 1-1h14c0.552 0 1 0.448 1 1s-0.448 1-1 1z\"></path>\n",
       "<path d=\"M23 22h-14c-0.552 0-1-0.448-1-1s0.448-1 1-1h14c0.552 0 1 0.448 1 1s-0.448 1-1 1z\"></path>\n",
       "<path d=\"M23 18h-14c-0.552 0-1-0.448-1-1s0.448-1 1-1h14c0.552 0 1 0.448 1 1s-0.448 1-1 1z\"></path>\n",
       "</symbol>\n",
       "</defs>\n",
       "</svg>\n",
       "<style>/* CSS stylesheet for displaying xarray objects in jupyterlab.\n",
       " *\n",
       " */\n",
       "\n",
       ":root {\n",
       "  --xr-font-color0: var(--jp-content-font-color0, rgba(0, 0, 0, 1));\n",
       "  --xr-font-color2: var(--jp-content-font-color2, rgba(0, 0, 0, 0.54));\n",
       "  --xr-font-color3: var(--jp-content-font-color3, rgba(0, 0, 0, 0.38));\n",
       "  --xr-border-color: var(--jp-border-color2, #e0e0e0);\n",
       "  --xr-disabled-color: var(--jp-layout-color3, #bdbdbd);\n",
       "  --xr-background-color: var(--jp-layout-color0, white);\n",
       "  --xr-background-color-row-even: var(--jp-layout-color1, white);\n",
       "  --xr-background-color-row-odd: var(--jp-layout-color2, #eeeeee);\n",
       "}\n",
       "\n",
       "html[theme=dark],\n",
       "body[data-theme=dark],\n",
       "body.vscode-dark {\n",
       "  --xr-font-color0: rgba(255, 255, 255, 1);\n",
       "  --xr-font-color2: rgba(255, 255, 255, 0.54);\n",
       "  --xr-font-color3: rgba(255, 255, 255, 0.38);\n",
       "  --xr-border-color: #1F1F1F;\n",
       "  --xr-disabled-color: #515151;\n",
       "  --xr-background-color: #111111;\n",
       "  --xr-background-color-row-even: #111111;\n",
       "  --xr-background-color-row-odd: #313131;\n",
       "}\n",
       "\n",
       ".xr-wrap {\n",
       "  display: block !important;\n",
       "  min-width: 300px;\n",
       "  max-width: 700px;\n",
       "}\n",
       "\n",
       ".xr-text-repr-fallback {\n",
       "  /* fallback to plain text repr when CSS is not injected (untrusted notebook) */\n",
       "  display: none;\n",
       "}\n",
       "\n",
       ".xr-header {\n",
       "  padding-top: 6px;\n",
       "  padding-bottom: 6px;\n",
       "  margin-bottom: 4px;\n",
       "  border-bottom: solid 1px var(--xr-border-color);\n",
       "}\n",
       "\n",
       ".xr-header > div,\n",
       ".xr-header > ul {\n",
       "  display: inline;\n",
       "  margin-top: 0;\n",
       "  margin-bottom: 0;\n",
       "}\n",
       "\n",
       ".xr-obj-type,\n",
       ".xr-array-name {\n",
       "  margin-left: 2px;\n",
       "  margin-right: 10px;\n",
       "}\n",
       "\n",
       ".xr-obj-type {\n",
       "  color: var(--xr-font-color2);\n",
       "}\n",
       "\n",
       ".xr-sections {\n",
       "  padding-left: 0 !important;\n",
       "  display: grid;\n",
       "  grid-template-columns: 150px auto auto 1fr 20px 20px;\n",
       "}\n",
       "\n",
       ".xr-section-item {\n",
       "  display: contents;\n",
       "}\n",
       "\n",
       ".xr-section-item input {\n",
       "  display: none;\n",
       "}\n",
       "\n",
       ".xr-section-item input + label {\n",
       "  color: var(--xr-disabled-color);\n",
       "}\n",
       "\n",
       ".xr-section-item input:enabled + label {\n",
       "  cursor: pointer;\n",
       "  color: var(--xr-font-color2);\n",
       "}\n",
       "\n",
       ".xr-section-item input:enabled + label:hover {\n",
       "  color: var(--xr-font-color0);\n",
       "}\n",
       "\n",
       ".xr-section-summary {\n",
       "  grid-column: 1;\n",
       "  color: var(--xr-font-color2);\n",
       "  font-weight: 500;\n",
       "}\n",
       "\n",
       ".xr-section-summary > span {\n",
       "  display: inline-block;\n",
       "  padding-left: 0.5em;\n",
       "}\n",
       "\n",
       ".xr-section-summary-in:disabled + label {\n",
       "  color: var(--xr-font-color2);\n",
       "}\n",
       "\n",
       ".xr-section-summary-in + label:before {\n",
       "  display: inline-block;\n",
       "  content: '►';\n",
       "  font-size: 11px;\n",
       "  width: 15px;\n",
       "  text-align: center;\n",
       "}\n",
       "\n",
       ".xr-section-summary-in:disabled + label:before {\n",
       "  color: var(--xr-disabled-color);\n",
       "}\n",
       "\n",
       ".xr-section-summary-in:checked + label:before {\n",
       "  content: '▼';\n",
       "}\n",
       "\n",
       ".xr-section-summary-in:checked + label > span {\n",
       "  display: none;\n",
       "}\n",
       "\n",
       ".xr-section-summary,\n",
       ".xr-section-inline-details {\n",
       "  padding-top: 4px;\n",
       "  padding-bottom: 4px;\n",
       "}\n",
       "\n",
       ".xr-section-inline-details {\n",
       "  grid-column: 2 / -1;\n",
       "}\n",
       "\n",
       ".xr-section-details {\n",
       "  display: none;\n",
       "  grid-column: 1 / -1;\n",
       "  margin-bottom: 5px;\n",
       "}\n",
       "\n",
       ".xr-section-summary-in:checked ~ .xr-section-details {\n",
       "  display: contents;\n",
       "}\n",
       "\n",
       ".xr-array-wrap {\n",
       "  grid-column: 1 / -1;\n",
       "  display: grid;\n",
       "  grid-template-columns: 20px auto;\n",
       "}\n",
       "\n",
       ".xr-array-wrap > label {\n",
       "  grid-column: 1;\n",
       "  vertical-align: top;\n",
       "}\n",
       "\n",
       ".xr-preview {\n",
       "  color: var(--xr-font-color3);\n",
       "}\n",
       "\n",
       ".xr-array-preview,\n",
       ".xr-array-data {\n",
       "  padding: 0 5px !important;\n",
       "  grid-column: 2;\n",
       "}\n",
       "\n",
       ".xr-array-data,\n",
       ".xr-array-in:checked ~ .xr-array-preview {\n",
       "  display: none;\n",
       "}\n",
       "\n",
       ".xr-array-in:checked ~ .xr-array-data,\n",
       ".xr-array-preview {\n",
       "  display: inline-block;\n",
       "}\n",
       "\n",
       ".xr-dim-list {\n",
       "  display: inline-block !important;\n",
       "  list-style: none;\n",
       "  padding: 0 !important;\n",
       "  margin: 0;\n",
       "}\n",
       "\n",
       ".xr-dim-list li {\n",
       "  display: inline-block;\n",
       "  padding: 0;\n",
       "  margin: 0;\n",
       "}\n",
       "\n",
       ".xr-dim-list:before {\n",
       "  content: '(';\n",
       "}\n",
       "\n",
       ".xr-dim-list:after {\n",
       "  content: ')';\n",
       "}\n",
       "\n",
       ".xr-dim-list li:not(:last-child):after {\n",
       "  content: ',';\n",
       "  padding-right: 5px;\n",
       "}\n",
       "\n",
       ".xr-has-index {\n",
       "  font-weight: bold;\n",
       "}\n",
       "\n",
       ".xr-var-list,\n",
       ".xr-var-item {\n",
       "  display: contents;\n",
       "}\n",
       "\n",
       ".xr-var-item > div,\n",
       ".xr-var-item label,\n",
       ".xr-var-item > .xr-var-name span {\n",
       "  background-color: var(--xr-background-color-row-even);\n",
       "  margin-bottom: 0;\n",
       "}\n",
       "\n",
       ".xr-var-item > .xr-var-name:hover span {\n",
       "  padding-right: 5px;\n",
       "}\n",
       "\n",
       ".xr-var-list > li:nth-child(odd) > div,\n",
       ".xr-var-list > li:nth-child(odd) > label,\n",
       ".xr-var-list > li:nth-child(odd) > .xr-var-name span {\n",
       "  background-color: var(--xr-background-color-row-odd);\n",
       "}\n",
       "\n",
       ".xr-var-name {\n",
       "  grid-column: 1;\n",
       "}\n",
       "\n",
       ".xr-var-dims {\n",
       "  grid-column: 2;\n",
       "}\n",
       "\n",
       ".xr-var-dtype {\n",
       "  grid-column: 3;\n",
       "  text-align: right;\n",
       "  color: var(--xr-font-color2);\n",
       "}\n",
       "\n",
       ".xr-var-preview {\n",
       "  grid-column: 4;\n",
       "}\n",
       "\n",
       ".xr-index-preview {\n",
       "  grid-column: 2 / 5;\n",
       "  color: var(--xr-font-color2);\n",
       "}\n",
       "\n",
       ".xr-var-name,\n",
       ".xr-var-dims,\n",
       ".xr-var-dtype,\n",
       ".xr-preview,\n",
       ".xr-attrs dt {\n",
       "  white-space: nowrap;\n",
       "  overflow: hidden;\n",
       "  text-overflow: ellipsis;\n",
       "  padding-right: 10px;\n",
       "}\n",
       "\n",
       ".xr-var-name:hover,\n",
       ".xr-var-dims:hover,\n",
       ".xr-var-dtype:hover,\n",
       ".xr-attrs dt:hover {\n",
       "  overflow: visible;\n",
       "  width: auto;\n",
       "  z-index: 1;\n",
       "}\n",
       "\n",
       ".xr-var-attrs,\n",
       ".xr-var-data,\n",
       ".xr-index-data {\n",
       "  display: none;\n",
       "  background-color: var(--xr-background-color) !important;\n",
       "  padding-bottom: 5px !important;\n",
       "}\n",
       "\n",
       ".xr-var-attrs-in:checked ~ .xr-var-attrs,\n",
       ".xr-var-data-in:checked ~ .xr-var-data,\n",
       ".xr-index-data-in:checked ~ .xr-index-data {\n",
       "  display: block;\n",
       "}\n",
       "\n",
       ".xr-var-data > table {\n",
       "  float: right;\n",
       "}\n",
       "\n",
       ".xr-var-name span,\n",
       ".xr-var-data,\n",
       ".xr-index-name div,\n",
       ".xr-index-data,\n",
       ".xr-attrs {\n",
       "  padding-left: 25px !important;\n",
       "}\n",
       "\n",
       ".xr-attrs,\n",
       ".xr-var-attrs,\n",
       ".xr-var-data,\n",
       ".xr-index-data {\n",
       "  grid-column: 1 / -1;\n",
       "}\n",
       "\n",
       "dl.xr-attrs {\n",
       "  padding: 0;\n",
       "  margin: 0;\n",
       "  display: grid;\n",
       "  grid-template-columns: 125px auto;\n",
       "}\n",
       "\n",
       ".xr-attrs dt,\n",
       ".xr-attrs dd {\n",
       "  padding: 0;\n",
       "  margin: 0;\n",
       "  float: left;\n",
       "  padding-right: 10px;\n",
       "  width: auto;\n",
       "}\n",
       "\n",
       ".xr-attrs dt {\n",
       "  font-weight: normal;\n",
       "  grid-column: 1;\n",
       "}\n",
       "\n",
       ".xr-attrs dt:hover span {\n",
       "  display: inline-block;\n",
       "  background: var(--xr-background-color);\n",
       "  padding-right: 10px;\n",
       "}\n",
       "\n",
       ".xr-attrs dd {\n",
       "  grid-column: 2;\n",
       "  white-space: pre-wrap;\n",
       "  word-break: break-all;\n",
       "}\n",
       "\n",
       ".xr-icon-database,\n",
       ".xr-icon-file-text2,\n",
       ".xr-no-icon {\n",
       "  display: inline-block;\n",
       "  vertical-align: middle;\n",
       "  width: 1em;\n",
       "  height: 1.5em !important;\n",
       "  stroke-width: 0;\n",
       "  stroke: currentColor;\n",
       "  fill: currentColor;\n",
       "}\n",
       "</style><pre class='xr-text-repr-fallback'>&lt;xarray.FluxDataArray (f: 11)&gt;\n",
       "array([0.59191316, 0.7745057 , 0.89310044, 0.9528811 , 0.9721857 ,\n",
       "       0.97668207, 0.9795843 , 0.983906  , 0.98799443, 0.9901105 ,\n",
       "       0.99019223], dtype=float32)\n",
       "Coordinates:\n",
       "  * f        (f) float64 1e+14 1.2e+14 1.4e+14 1.6e+14 ... 2.6e+14 2.8e+14 3e+14\n",
       "Attributes:\n",
       "    units:      W\n",
       "    long_name:  flux</pre><div class='xr-wrap' style='display:none'><div class='xr-header'><div class='xr-obj-type'>xarray.FluxDataArray</div><div class='xr-array-name'></div><ul class='xr-dim-list'><li><span class='xr-has-index'>f</span>: 11</li></ul></div><ul class='xr-sections'><li class='xr-section-item'><div class='xr-array-wrap'><input id='section-fe5c1ad7-9bb5-4783-b987-af708411235d' class='xr-array-in' type='checkbox' checked><label for='section-fe5c1ad7-9bb5-4783-b987-af708411235d' title='Show/hide data repr'><svg class='icon xr-icon-database'><use xlink:href='#icon-database'></use></svg></label><div class='xr-array-preview xr-preview'><span>0.5919 0.7745 0.8931 0.9529 0.9722 ... 0.9839 0.988 0.9901 0.9902</span></div><div class='xr-array-data'><pre>array([0.59191316, 0.7745057 , 0.89310044, 0.9528811 , 0.9721857 ,\n",
       "       0.97668207, 0.9795843 , 0.983906  , 0.98799443, 0.9901105 ,\n",
       "       0.99019223], dtype=float32)</pre></div></div></li><li class='xr-section-item'><input id='section-a5d2b81f-b78e-4539-851c-de4606f50f76' class='xr-section-summary-in' type='checkbox'  checked><label for='section-a5d2b81f-b78e-4539-851c-de4606f50f76' class='xr-section-summary' >Coordinates: <span>(1)</span></label><div class='xr-section-inline-details'></div><div class='xr-section-details'><ul class='xr-var-list'><li class='xr-var-item'><div class='xr-var-name'><span class='xr-has-index'>f</span></div><div class='xr-var-dims'>(f)</div><div class='xr-var-dtype'>float64</div><div class='xr-var-preview xr-preview'>1e+14 1.2e+14 ... 2.8e+14 3e+14</div><input id='attrs-7c335d9b-e9b0-4de2-b6c6-fac758c25dbc' class='xr-var-attrs-in' type='checkbox' ><label for='attrs-7c335d9b-e9b0-4de2-b6c6-fac758c25dbc' title='Show/Hide attributes'><svg class='icon xr-icon-file-text2'><use xlink:href='#icon-file-text2'></use></svg></label><input id='data-5137e7c8-3278-4b35-8cf2-adeec3b8deda' class='xr-var-data-in' type='checkbox'><label for='data-5137e7c8-3278-4b35-8cf2-adeec3b8deda' title='Show/Hide data repr'><svg class='icon xr-icon-database'><use xlink:href='#icon-database'></use></svg></label><div class='xr-var-attrs'><dl class='xr-attrs'><dt><span>units :</span></dt><dd>Hz</dd><dt><span>long_name :</span></dt><dd>frequency</dd></dl></div><div class='xr-var-data'><pre>array([1.0e+14, 1.2e+14, 1.4e+14, 1.6e+14, 1.8e+14, 2.0e+14, 2.2e+14, 2.4e+14,\n",
       "       2.6e+14, 2.8e+14, 3.0e+14])</pre></div></li></ul></div></li><li class='xr-section-item'><input id='section-f090d673-97d4-4465-be24-7cbabc1b5b62' class='xr-section-summary-in' type='checkbox'  ><label for='section-f090d673-97d4-4465-be24-7cbabc1b5b62' class='xr-section-summary' >Indexes: <span>(1)</span></label><div class='xr-section-inline-details'></div><div class='xr-section-details'><ul class='xr-var-list'><li class='xr-var-item'><div class='xr-index-name'><div>f</div></div><div class='xr-index-preview'>PandasIndex</div><div></div><input id='index-cd539c08-9633-4270-a3e6-b688dcccffb6' class='xr-index-data-in' type='checkbox'/><label for='index-cd539c08-9633-4270-a3e6-b688dcccffb6' title='Show/Hide index repr'><svg class='icon xr-icon-database'><use xlink:href='#icon-database'></use></svg></label><div class='xr-index-data'><pre>PandasIndex(Float64Index([100000000000000.0, 120000000000000.0, 140000000000000.0,\n",
       "              160000000000000.0, 180000000000000.0, 200000000000000.0,\n",
       "              220000000000000.0, 240000000000000.0, 260000000000000.0,\n",
       "              280000000000000.0, 300000000000000.0],\n",
       "             dtype=&#x27;float64&#x27;, name=&#x27;f&#x27;))</pre></div></li></ul></div></li><li class='xr-section-item'><input id='section-7607cb92-a1f3-48c7-9be1-d68c8051a066' class='xr-section-summary-in' type='checkbox'  checked><label for='section-7607cb92-a1f3-48c7-9be1-d68c8051a066' class='xr-section-summary' >Attributes: <span>(2)</span></label><div class='xr-section-inline-details'></div><div class='xr-section-details'><dl class='xr-attrs'><dt><span>units :</span></dt><dd>W</dd><dt><span>long_name :</span></dt><dd>flux</dd></dl></div></li></ul></div></div>"
      ],
      "text/plain": [
       "<xarray.FluxDataArray (f: 11)>\n",
       "array([0.59191316, 0.7745057 , 0.89310044, 0.9528811 , 0.9721857 ,\n",
       "       0.97668207, 0.9795843 , 0.983906  , 0.98799443, 0.9901105 ,\n",
       "       0.99019223], dtype=float32)\n",
       "Coordinates:\n",
       "  * f        (f) float64 1e+14 1.2e+14 1.4e+14 1.6e+14 ... 2.6e+14 2.8e+14 3e+14\n",
       "Attributes:\n",
       "    units:      W\n",
       "    long_name:  flux"
      ]
     },
     "execution_count": 1,
     "metadata": {},
     "output_type": "execute_result"
    }
   ],
   "source": [
    "flux_data\n"
   ]
  },
  {
   "cell_type": "markdown",
   "id": "84f11714",
   "metadata": {},
   "source": [
    "The data is stored as a [DataArray](https://xarray.pydata.org/en/stable/generated/xarray.DataArray.html) object using the [xarray](https://xarray.pydata.org/en/stable/) package.\n",
    "You can think of it as a dataset where the flux data is stored as a large, multi-dimensional array (like a numpy array) and the coordinates along each of the dimensions are specified so it is easy to work with.\n",
    "\n",
    "For example:"
   ]
  },
  {
   "cell_type": "code",
   "execution_count": 11,
   "id": "f27c9e1d",
   "metadata": {
    "execution": {
     "iopub.execute_input": "2023-05-19T21:11:11.054663Z",
     "iopub.status.busy": "2023-05-19T21:11:11.054429Z",
     "iopub.status.idle": "2023-05-19T21:11:11.077320Z",
     "shell.execute_reply": "2023-05-19T21:11:11.076813Z"
    },
    "tags": []
   },
   "outputs": [
    {
     "name": "stdout",
     "output_type": "stream",
     "text": [
      "shape of flux dataset = (11,)\n",
      ".\n",
      "frequencies in dataset = <bound method Mapping.values of Coordinates:\n",
      "  * f        (f) float64 1e+14 1.2e+14 1.4e+14 1.6e+14 ... 2.6e+14 2.8e+14 3e+14> \n",
      ".\n",
      "flux values in dataset = [0.59191316 0.7745057  0.89310044 0.9528811  0.9721857  0.97668207\n",
      " 0.9795843  0.983906   0.98799443 0.9901105  0.99019223]\n",
      ".\n"
     ]
    }
   ],
   "source": [
    "# flux values (W) as numpy array\n",
    "print(f\"shape of flux dataset = {flux_data.shape}\\n.\")\n",
    "print(f\"frequencies in dataset = {flux_data.coords.values} \\n.\")\n",
    "print(f\"flux values in dataset = {flux_data.values}\\n.\")\n"
   ]
  },
  {
   "cell_type": "markdown",
   "id": "46e4f0da",
   "metadata": {},
   "source": [
    "So we can see the datset stores a 1D array of flux values (Watts) and a 1D array of frequency values (Hz).\n",
    "\n",
    "### Manipulating Data\n",
    "\n",
    "We can now do some useful operations with this data, including:"
   ]
  },
  {
   "cell_type": "code",
   "execution_count": 12,
   "id": "8774d777",
   "metadata": {
    "execution": {
     "iopub.execute_input": "2023-05-19T21:11:11.079201Z",
     "iopub.status.busy": "2023-05-19T21:11:11.079062Z",
     "iopub.status.idle": "2023-05-19T21:11:11.097351Z",
     "shell.execute_reply": "2023-05-19T21:11:11.096859Z"
    },
    "tags": []
   },
   "outputs": [
    {
     "name": "stdout",
     "output_type": "stream",
     "text": [
      "at central frequency, flux is 9.77e-01 W\n"
     ]
    }
   ],
   "source": [
    "# Selecting data at a specific coordinate\n",
    "flux_central_freq = flux_data.sel(f=freq0)\n",
    "print(f\"at central frequency, flux is {float(flux_central_freq):.2e} W\")\n"
   ]
  },
  {
   "cell_type": "code",
   "execution_count": 13,
   "id": "0c2defca",
   "metadata": {
    "execution": {
     "iopub.execute_input": "2023-05-19T21:11:11.099184Z",
     "iopub.status.busy": "2023-05-19T21:11:11.099012Z",
     "iopub.status.idle": "2023-05-19T21:11:11.116795Z",
     "shell.execute_reply": "2023-05-19T21:11:11.116291Z"
    },
    "tags": []
   },
   "outputs": [
    {
     "name": "stdout",
     "output_type": "stream",
     "text": [
      "at 4th frequency, flux is 9.72e-01 W\n"
     ]
    }
   ],
   "source": [
    "# Selecting data at a specific index\n",
    "flux_4th_freq = flux_data.isel(f=4)\n",
    "print(f\"at 4th frequency, flux is {float(flux_4th_freq):.2e} W\")\n"
   ]
  },
  {
   "cell_type": "code",
   "execution_count": 14,
   "id": "e63cfd62",
   "metadata": {
    "execution": {
     "iopub.execute_input": "2023-05-19T21:11:11.118531Z",
     "iopub.status.busy": "2023-05-19T21:11:11.118395Z",
     "iopub.status.idle": "2023-05-19T21:11:11.143643Z",
     "shell.execute_reply": "2023-05-19T21:11:11.143157Z"
    },
    "tags": []
   },
   "outputs": [
    {
     "name": "stdout",
     "output_type": "stream",
     "text": [
      "at an intermediate (not stored) frequency, flux is 9.79e-01 W\n"
     ]
    }
   ],
   "source": [
    "# Interpolating data at a specific coordinate\n",
    "flux_interp_freq = flux_data.interp(f=213.243523142e12)\n",
    "print(\n",
    "    f\"at an intermediate (not stored) frequency, flux is {float(flux_interp_freq):.2e} W\"\n",
    ")\n"
   ]
  },
  {
   "cell_type": "code",
   "execution_count": 15,
   "id": "e1cff990",
   "metadata": {
    "execution": {
     "iopub.execute_input": "2023-05-19T21:11:11.145481Z",
     "iopub.status.busy": "2023-05-19T21:11:11.145342Z",
     "iopub.status.idle": "2023-05-19T21:11:11.163697Z",
     "shell.execute_reply": "2023-05-19T21:11:11.163123Z"
    },
    "tags": []
   },
   "outputs": [],
   "source": [
    "# arithmetic opertions with numbers\n",
    "flux_times_2_plus_1 = 2 * flux_data + 1\n"
   ]
  },
  {
   "cell_type": "code",
   "execution_count": 16,
   "id": "87f3cc32",
   "metadata": {
    "execution": {
     "iopub.execute_input": "2023-05-19T21:11:11.165526Z",
     "iopub.status.busy": "2023-05-19T21:11:11.165385Z",
     "iopub.status.idle": "2023-05-19T21:11:11.183817Z",
     "shell.execute_reply": "2023-05-19T21:11:11.183256Z"
    },
    "tags": []
   },
   "outputs": [],
   "source": [
    "# operations with dataset (in this case, dividing by the normlization flux)\n",
    "flux_transmission = flux_data / sim0_data[\"flux\"].flux\n"
   ]
  },
  {
   "cell_type": "markdown",
   "id": "d86475df",
   "metadata": {},
   "source": [
    "There are mny more things you can do with the xarray package that are not covered here, so it is best to take a look at [their documention](http://xarray.pydata.org/en/stable/) for more details.\n",
    "\n",
    "### Plotting Data\n",
    "\n",
    "These datasets have built in plotting methods, which can be handy for quickly producing customizable plots.\n",
    "\n",
    "Let's plot the flux data to get a feeling."
   ]
  },
  {
   "cell_type": "code",
   "execution_count": 17,
   "id": "3c2c6760",
   "metadata": {
    "execution": {
     "iopub.execute_input": "2023-05-19T21:11:11.185709Z",
     "iopub.status.busy": "2023-05-19T21:11:11.185576Z",
     "iopub.status.idle": "2023-05-19T21:11:11.623630Z",
     "shell.execute_reply": "2023-05-19T21:11:11.623094Z"
    },
    "tags": []
   },
   "outputs": [
    {
     "data": {
      "image/png": "[encoded data removed]",
      "text/plain": [
       "<Figure size 1000x300 with 3 Axes>"
      ]
     },
     "metadata": {},
     "output_type": "display_data"
    }
   ],
   "source": [
    "f, (ax1, ax2, ax3) = plt.subplots(1, 3, tight_layout=True, figsize=(10, 3))\n",
    "flux_data.plot(ax=ax1)\n",
    "ax1.set_title(\"flux vs. frequency\")\n",
    "ax1.set_xlim(150e12, 250e12)\n",
    "\n",
    "# plot the ratio of flux with scatterer to without scatterer with dashed line signifying unity transmission.\n",
    "flux_transmission.plot(ax=ax2, color=\"k\")\n",
    "ax2.plot(flux_data.f, np.ones_like(flux_data.f), \"--\")\n",
    "ax2.set_ylabel(\"flux(f) / flux_normalize(f)\")\n",
    "ax2.set_xlabel(\"frequency (Hz)\")\n",
    "ax2.set_title(\"transmission spectrum\")\n",
    "ax2.set_xlim(150e12, 250e12)\n",
    "ax2.set_ylim(-0.1, 1.1)\n",
    "\n",
    "# plot the time dependence of the flux\n",
    "flux_time_data.plot(color=\"crimson\", ax=ax3)\n",
    "ax3.set_title(\"flux vs. time\")\n",
    "\n",
    "plt.show()\n"
   ]
  },
  {
   "cell_type": "markdown",
   "id": "ca03826c",
   "metadata": {},
   "source": [
    "Conveniently, xarray adds a lot of the plot labels and formatting automatically, which can save some time."
   ]
  },
  {
   "cell_type": "markdown",
   "id": "3e7f17db",
   "metadata": {},
   "source": [
    "### Complex, Multi-dimensional Data\n",
    "\n",
    "While the flux data is 1D and quite simple, the same approaches apply to more complex data, such as mode amplitude and field data, which can be complex-valued and muli-dimensional.\n",
    "\n",
    "Let's use the [ModeMonitor](../_autosummary/tidy3d.ModeMonitor.html) data as an example.  We'll access the data using it's name `'mode'` in the original simulation and print out some of the metadata to examine."
   ]
  },
  {
   "cell_type": "code",
   "execution_count": 18,
   "id": "28bd7aaf",
   "metadata": {
    "execution": {
     "iopub.execute_input": "2023-05-19T21:11:11.625733Z",
     "iopub.status.busy": "2023-05-19T21:11:11.625570Z",
     "iopub.status.idle": "2023-05-19T21:11:11.645172Z",
     "shell.execute_reply": "2023-05-19T21:11:11.644827Z"
    },
    "tags": []
   },
   "outputs": [
    {
     "data": {
      "text/plain": [
       "(2, 11, 3)"
      ]
     },
     "execution_count": 1,
     "metadata": {},
     "output_type": "execute_result"
    }
   ],
   "source": [
    "mode_data = sim_data[\"mode\"]\n",
    "mode_data.amps.shape\n"
   ]
  },
  {
   "cell_type": "markdown",
   "id": "877d5042",
   "metadata": {},
   "source": [
    "As we can see, the data is complex-valued and contains three dimensions.\n",
    "- a propagation direction for the mode, which is just positive or negative  (+/-)\n",
    "- an index into the list of modes returned by the solver given our initial [ModeSpec](../_autosummary/tidy3d.ModeSpec.html) specifications.\n",
    "- the frequency of the mode\n",
    "\n",
    "Let's plot the data just to get a feeling for it, using `.sel()` to split the forward and backward propagating modes onto separate plot axes."
   ]
  },
  {
   "cell_type": "code",
   "execution_count": 19,
   "id": "aa9bb765",
   "metadata": {
    "execution": {
     "iopub.execute_input": "2023-05-19T21:11:11.647022Z",
     "iopub.status.busy": "2023-05-19T21:11:11.646864Z",
     "iopub.status.idle": "2023-05-19T21:11:11.972610Z",
     "shell.execute_reply": "2023-05-19T21:11:11.972109Z"
    },
    "tags": []
   },
   "outputs": [
    {
     "data": {
      "image/png": "[encoded data removed]",
      "text/plain": [
       "<Figure size 800x300 with 2 Axes>"
      ]
     },
     "metadata": {},
     "output_type": "display_data"
    }
   ],
   "source": [
    "f, (ax1, ax2) = plt.subplots(1, 2, tight_layout=True, figsize=(8, 3))\n",
    "\n",
    "mode_data.amps.sel(direction=\"+\").abs.plot.line(x=\"f\", ax=ax1)\n",
    "mode_data.amps.sel(direction=\"-\").abs.plot.line(x=\"f\", ax=ax2)\n",
    "ax1.set_xlim(150e12, 250e12)\n",
    "ax2.set_xlim(150e12, 250e12)\n",
    "\n",
    "plt.show()\n"
   ]
  },
  {
   "cell_type": "markdown",
   "id": "48ae969a",
   "metadata": {},
   "source": [
    "As before, we can manipulate the data using basic algebra or xarray built ins, for example."
   ]
  },
  {
   "cell_type": "code",
   "execution_count": 20,
   "id": "5a2b68fa",
   "metadata": {
    "execution": {
     "iopub.execute_input": "2023-05-19T21:11:11.974645Z",
     "iopub.status.busy": "2023-05-19T21:11:11.974475Z",
     "iopub.status.idle": "2023-05-19T21:11:11.993768Z",
     "shell.execute_reply": "2023-05-19T21:11:11.993198Z"
    },
    "tags": []
   },
   "outputs": [],
   "source": [
    "# sum abolute value squared of the mode amplitudes to get powers\n",
    "mode_powers = abs(mode_data.amps) ** 2\n",
    "\n",
    "# select the powers at the central frequency only\n",
    "powers_central_freq = mode_powers.sel(f=freq0)\n",
    "\n",
    "# sum the powers over all of the mode indices\n",
    "powers_sum_modes = powers_central_freq.sum(\"mode_index\")\n"
   ]
  },
  {
   "cell_type": "markdown",
   "id": "99570157",
   "metadata": {},
   "source": [
    "## Field Data\n",
    "\n",
    "Data from a [FieldMonitor](../_autosummary/tidy3d.FieldMonitor.html) or [FieldTimeMonitor](../_autosummary/tidy3d.FieldTimeMonitor.html) is more complicated as it contains data from several field components.\n",
    "\n",
    "As such, when we just grab the data by name, we dont get an xarray object, but rather a [FieldData](../_autosummary/tidy3d.FieldData.html) container holding all of the field components.\n"
   ]
  },
  {
   "cell_type": "code",
   "execution_count": 21,
   "id": "68111c23",
   "metadata": {
    "execution": {
     "iopub.execute_input": "2023-05-19T21:11:11.995714Z",
     "iopub.status.busy": "2023-05-19T21:11:11.995537Z",
     "iopub.status.idle": "2023-05-19T21:11:12.025372Z",
     "shell.execute_reply": "2023-05-19T21:11:12.024752Z"
    },
    "tags": []
   },
   "outputs": [
    {
     "name": "stdout",
     "output_type": "stream",
     "text": [
      "<class 'tidy3d.components.data.monitor_data.FieldData'>\n"
     ]
    }
   ],
   "source": [
    "field_data = sim_data[\"field\"]\n",
    "field0_data = sim0_data[\"field\"]\n",
    "print(type(field_data))\n"
   ]
  },
  {
   "cell_type": "markdown",
   "id": "6e8d2385",
   "metadata": {
    "tags": []
   },
   "source": [
    "The field_data object contains data for each of the field components in it's `data_dict` dictionary.\n",
    "\n",
    "Let's look at what field components are contined"
   ]
  },
  {
   "cell_type": "code",
   "execution_count": 22,
   "id": "43efb783",
   "metadata": {
    "execution": {
     "iopub.execute_input": "2023-05-19T21:11:12.027327Z",
     "iopub.status.busy": "2023-05-19T21:11:12.027167Z",
     "iopub.status.idle": "2023-05-19T21:11:12.045457Z",
     "shell.execute_reply": "2023-05-19T21:11:12.044967Z"
    },
    "tags": []
   },
   "outputs": [
    {
     "name": "stdout",
     "output_type": "stream",
     "text": [
      "dict_keys(['type', 'Ex', 'Ey', 'Ez', 'Hx', 'Hy', 'Hz', 'monitor', 'symmetry', 'symmetry_center', 'grid_expanded', 'grid_primal_correction', 'grid_dual_correction'])\n"
     ]
    }
   ],
   "source": [
    "print(field_data.dict().keys())\n"
   ]
  },
  {
   "cell_type": "markdown",
   "id": "e01b21ff",
   "metadata": {},
   "source": [
    "The individual field components, themselves, can be accessed conveniently using a \"dot\" syntax, and are stored similarly to the flux and mode data as xarray data arrays."
   ]
  },
  {
   "cell_type": "code",
   "execution_count": 23,
   "id": "acd7313a",
   "metadata": {
    "execution": {
     "iopub.execute_input": "2023-05-19T21:11:12.047176Z",
     "iopub.status.busy": "2023-05-19T21:11:12.047041Z",
     "iopub.status.idle": "2023-05-19T21:11:12.075837Z",
     "shell.execute_reply": "2023-05-19T21:11:12.075353Z"
    },
    "tags": []
   },
   "outputs": [
    {
     "data": {
      "text/html": [
       "<div><svg style=\"position: absolute; width: 0; height: 0; overflow: hidden\">\n",
       "<defs>\n",
       "<symbol id=\"icon-database\" viewBox=\"0 0 32 32\">\n",
       "<path d=\"M16 0c-8.837 0-16 2.239-16 5v4c0 2.761 7.163 5 16 5s16-2.239 16-5v-4c0-2.761-7.163-5-16-5z\"></path>\n",
       "<path d=\"M16 17c-8.837 0-16-2.239-16-5v6c0 2.761 7.163 5 16 5s16-2.239 16-5v-6c0 2.761-7.163 5-16 5z\"></path>\n",
       "<path d=\"M16 26c-8.837 0-16-2.239-16-5v6c0 2.761 7.163 5 16 5s16-2.239 16-5v-6c0 2.761-7.163 5-16 5z\"></path>\n",
       "</symbol>\n",
       "<symbol id=\"icon-file-text2\" viewBox=\"0 0 32 32\">\n",
       "<path d=\"M28.681 7.159c-0.694-0.947-1.662-2.053-2.724-3.116s-2.169-2.030-3.116-2.724c-1.612-1.182-2.393-1.319-2.841-1.319h-15.5c-1.378 0-2.5 1.121-2.5 2.5v27c0 1.378 1.122 2.5 2.5 2.5h23c1.378 0 2.5-1.122 2.5-2.5v-19.5c0-0.448-0.137-1.23-1.319-2.841zM24.543 5.457c0.959 0.959 1.712 1.825 2.268 2.543h-4.811v-4.811c0.718 0.556 1.584 1.309 2.543 2.268zM28 29.5c0 0.271-0.229 0.5-0.5 0.5h-23c-0.271 0-0.5-0.229-0.5-0.5v-27c0-0.271 0.229-0.5 0.5-0.5 0 0 15.499-0 15.5 0v7c0 0.552 0.448 1 1 1h7v19.5z\"></path>\n",
       "<path d=\"M23 26h-14c-0.552 0-1-0.448-1-1s0.448-1 1-1h14c0.552 0 1 0.448 1 1s-0.448 1-1 1z\"></path>\n",
       "<path d=\"M23 22h-14c-0.552 0-1-0.448-1-1s0.448-1 1-1h14c0.552 0 1 0.448 1 1s-0.448 1-1 1z\"></path>\n",
       "<path d=\"M23 18h-14c-0.552 0-1-0.448-1-1s0.448-1 1-1h14c0.552 0 1 0.448 1 1s-0.448 1-1 1z\"></path>\n",
       "</symbol>\n",
       "</defs>\n",
       "</svg>\n",
       "<style>/* CSS stylesheet for displaying xarray objects in jupyterlab.\n",
       " *\n",
       " */\n",
       "\n",
       ":root {\n",
       "  --xr-font-color0: var(--jp-content-font-color0, rgba(0, 0, 0, 1));\n",
       "  --xr-font-color2: var(--jp-content-font-color2, rgba(0, 0, 0, 0.54));\n",
       "  --xr-font-color3: var(--jp-content-font-color3, rgba(0, 0, 0, 0.38));\n",
       "  --xr-border-color: var(--jp-border-color2, #e0e0e0);\n",
       "  --xr-disabled-color: var(--jp-layout-color3, #bdbdbd);\n",
       "  --xr-background-color: var(--jp-layout-color0, white);\n",
       "  --xr-background-color-row-even: var(--jp-layout-color1, white);\n",
       "  --xr-background-color-row-odd: var(--jp-layout-color2, #eeeeee);\n",
       "}\n",
       "\n",
       "html[theme=dark],\n",
       "body[data-theme=dark],\n",
       "body.vscode-dark {\n",
       "  --xr-font-color0: rgba(255, 255, 255, 1);\n",
       "  --xr-font-color2: rgba(255, 255, 255, 0.54);\n",
       "  --xr-font-color3: rgba(255, 255, 255, 0.38);\n",
       "  --xr-border-color: #1F1F1F;\n",
       "  --xr-disabled-color: #515151;\n",
       "  --xr-background-color: #111111;\n",
       "  --xr-background-color-row-even: #111111;\n",
       "  --xr-background-color-row-odd: #313131;\n",
       "}\n",
       "\n",
       ".xr-wrap {\n",
       "  display: block !important;\n",
       "  min-width: 300px;\n",
       "  max-width: 700px;\n",
       "}\n",
       "\n",
       ".xr-text-repr-fallback {\n",
       "  /* fallback to plain text repr when CSS is not injected (untrusted notebook) */\n",
       "  display: none;\n",
       "}\n",
       "\n",
       ".xr-header {\n",
       "  padding-top: 6px;\n",
       "  padding-bottom: 6px;\n",
       "  margin-bottom: 4px;\n",
       "  border-bottom: solid 1px var(--xr-border-color);\n",
       "}\n",
       "\n",
       ".xr-header > div,\n",
       ".xr-header > ul {\n",
       "  display: inline;\n",
       "  margin-top: 0;\n",
       "  margin-bottom: 0;\n",
       "}\n",
       "\n",
       ".xr-obj-type,\n",
       ".xr-array-name {\n",
       "  margin-left: 2px;\n",
       "  margin-right: 10px;\n",
       "}\n",
       "\n",
       ".xr-obj-type {\n",
       "  color: var(--xr-font-color2);\n",
       "}\n",
       "\n",
       ".xr-sections {\n",
       "  padding-left: 0 !important;\n",
       "  display: grid;\n",
       "  grid-template-columns: 150px auto auto 1fr 20px 20px;\n",
       "}\n",
       "\n",
       ".xr-section-item {\n",
       "  display: contents;\n",
       "}\n",
       "\n",
       ".xr-section-item input {\n",
       "  display: none;\n",
       "}\n",
       "\n",
       ".xr-section-item input + label {\n",
       "  color: var(--xr-disabled-color);\n",
       "}\n",
       "\n",
       ".xr-section-item input:enabled + label {\n",
       "  cursor: pointer;\n",
       "  color: var(--xr-font-color2);\n",
       "}\n",
       "\n",
       ".xr-section-item input:enabled + label:hover {\n",
       "  color: var(--xr-font-color0);\n",
       "}\n",
       "\n",
       ".xr-section-summary {\n",
       "  grid-column: 1;\n",
       "  color: var(--xr-font-color2);\n",
       "  font-weight: 500;\n",
       "}\n",
       "\n",
       ".xr-section-summary > span {\n",
       "  display: inline-block;\n",
       "  padding-left: 0.5em;\n",
       "}\n",
       "\n",
       ".xr-section-summary-in:disabled + label {\n",
       "  color: var(--xr-font-color2);\n",
       "}\n",
       "\n",
       ".xr-section-summary-in + label:before {\n",
       "  display: inline-block;\n",
       "  content: '►';\n",
       "  font-size: 11px;\n",
       "  width: 15px;\n",
       "  text-align: center;\n",
       "}\n",
       "\n",
       ".xr-section-summary-in:disabled + label:before {\n",
       "  color: var(--xr-disabled-color);\n",
       "}\n",
       "\n",
       ".xr-section-summary-in:checked + label:before {\n",
       "  content: '▼';\n",
       "}\n",
       "\n",
       ".xr-section-summary-in:checked + label > span {\n",
       "  display: none;\n",
       "}\n",
       "\n",
       ".xr-section-summary,\n",
       ".xr-section-inline-details {\n",
       "  padding-top: 4px;\n",
       "  padding-bottom: 4px;\n",
       "}\n",
       "\n",
       ".xr-section-inline-details {\n",
       "  grid-column: 2 / -1;\n",
       "}\n",
       "\n",
       ".xr-section-details {\n",
       "  display: none;\n",
       "  grid-column: 1 / -1;\n",
       "  margin-bottom: 5px;\n",
       "}\n",
       "\n",
       ".xr-section-summary-in:checked ~ .xr-section-details {\n",
       "  display: contents;\n",
       "}\n",
       "\n",
       ".xr-array-wrap {\n",
       "  grid-column: 1 / -1;\n",
       "  display: grid;\n",
       "  grid-template-columns: 20px auto;\n",
       "}\n",
       "\n",
       ".xr-array-wrap > label {\n",
       "  grid-column: 1;\n",
       "  vertical-align: top;\n",
       "}\n",
       "\n",
       ".xr-preview {\n",
       "  color: var(--xr-font-color3);\n",
       "}\n",
       "\n",
       ".xr-array-preview,\n",
       ".xr-array-data {\n",
       "  padding: 0 5px !important;\n",
       "  grid-column: 2;\n",
       "}\n",
       "\n",
       ".xr-array-data,\n",
       ".xr-array-in:checked ~ .xr-array-preview {\n",
       "  display: none;\n",
       "}\n",
       "\n",
       ".xr-array-in:checked ~ .xr-array-data,\n",
       ".xr-array-preview {\n",
       "  display: inline-block;\n",
       "}\n",
       "\n",
       ".xr-dim-list {\n",
       "  display: inline-block !important;\n",
       "  list-style: none;\n",
       "  padding: 0 !important;\n",
       "  margin: 0;\n",
       "}\n",
       "\n",
       ".xr-dim-list li {\n",
       "  display: inline-block;\n",
       "  padding: 0;\n",
       "  margin: 0;\n",
       "}\n",
       "\n",
       ".xr-dim-list:before {\n",
       "  content: '(';\n",
       "}\n",
       "\n",
       ".xr-dim-list:after {\n",
       "  content: ')';\n",
       "}\n",
       "\n",
       ".xr-dim-list li:not(:last-child):after {\n",
       "  content: ',';\n",
       "  padding-right: 5px;\n",
       "}\n",
       "\n",
       ".xr-has-index {\n",
       "  font-weight: bold;\n",
       "}\n",
       "\n",
       ".xr-var-list,\n",
       ".xr-var-item {\n",
       "  display: contents;\n",
       "}\n",
       "\n",
       ".xr-var-item > div,\n",
       ".xr-var-item label,\n",
       ".xr-var-item > .xr-var-name span {\n",
       "  background-color: var(--xr-background-color-row-even);\n",
       "  margin-bottom: 0;\n",
       "}\n",
       "\n",
       ".xr-var-item > .xr-var-name:hover span {\n",
       "  padding-right: 5px;\n",
       "}\n",
       "\n",
       ".xr-var-list > li:nth-child(odd) > div,\n",
       ".xr-var-list > li:nth-child(odd) > label,\n",
       ".xr-var-list > li:nth-child(odd) > .xr-var-name span {\n",
       "  background-color: var(--xr-background-color-row-odd);\n",
       "}\n",
       "\n",
       ".xr-var-name {\n",
       "  grid-column: 1;\n",
       "}\n",
       "\n",
       ".xr-var-dims {\n",
       "  grid-column: 2;\n",
       "}\n",
       "\n",
       ".xr-var-dtype {\n",
       "  grid-column: 3;\n",
       "  text-align: right;\n",
       "  color: var(--xr-font-color2);\n",
       "}\n",
       "\n",
       ".xr-var-preview {\n",
       "  grid-column: 4;\n",
       "}\n",
       "\n",
       ".xr-index-preview {\n",
       "  grid-column: 2 / 5;\n",
       "  color: var(--xr-font-color2);\n",
       "}\n",
       "\n",
       ".xr-var-name,\n",
       ".xr-var-dims,\n",
       ".xr-var-dtype,\n",
       ".xr-preview,\n",
       ".xr-attrs dt {\n",
       "  white-space: nowrap;\n",
       "  overflow: hidden;\n",
       "  text-overflow: ellipsis;\n",
       "  padding-right: 10px;\n",
       "}\n",
       "\n",
       ".xr-var-name:hover,\n",
       ".xr-var-dims:hover,\n",
       ".xr-var-dtype:hover,\n",
       ".xr-attrs dt:hover {\n",
       "  overflow: visible;\n",
       "  width: auto;\n",
       "  z-index: 1;\n",
       "}\n",
       "\n",
       ".xr-var-attrs,\n",
       ".xr-var-data,\n",
       ".xr-index-data {\n",
       "  display: none;\n",
       "  background-color: var(--xr-background-color) !important;\n",
       "  padding-bottom: 5px !important;\n",
       "}\n",
       "\n",
       ".xr-var-attrs-in:checked ~ .xr-var-attrs,\n",
       ".xr-var-data-in:checked ~ .xr-var-data,\n",
       ".xr-index-data-in:checked ~ .xr-index-data {\n",
       "  display: block;\n",
       "}\n",
       "\n",
       ".xr-var-data > table {\n",
       "  float: right;\n",
       "}\n",
       "\n",
       ".xr-var-name span,\n",
       ".xr-var-data,\n",
       ".xr-index-name div,\n",
       ".xr-index-data,\n",
       ".xr-attrs {\n",
       "  padding-left: 25px !important;\n",
       "}\n",
       "\n",
       ".xr-attrs,\n",
       ".xr-var-attrs,\n",
       ".xr-var-data,\n",
       ".xr-index-data {\n",
       "  grid-column: 1 / -1;\n",
       "}\n",
       "\n",
       "dl.xr-attrs {\n",
       "  padding: 0;\n",
       "  margin: 0;\n",
       "  display: grid;\n",
       "  grid-template-columns: 125px auto;\n",
       "}\n",
       "\n",
       ".xr-attrs dt,\n",
       ".xr-attrs dd {\n",
       "  padding: 0;\n",
       "  margin: 0;\n",
       "  float: left;\n",
       "  padding-right: 10px;\n",
       "  width: auto;\n",
       "}\n",
       "\n",
       ".xr-attrs dt {\n",
       "  font-weight: normal;\n",
       "  grid-column: 1;\n",
       "}\n",
       "\n",
       ".xr-attrs dt:hover span {\n",
       "  display: inline-block;\n",
       "  background: var(--xr-background-color);\n",
       "  padding-right: 10px;\n",
       "}\n",
       "\n",
       ".xr-attrs dd {\n",
       "  grid-column: 2;\n",
       "  white-space: pre-wrap;\n",
       "  word-break: break-all;\n",
       "}\n",
       "\n",
       ".xr-icon-database,\n",
       ".xr-icon-file-text2,\n",
       ".xr-no-icon {\n",
       "  display: inline-block;\n",
       "  vertical-align: middle;\n",
       "  width: 1em;\n",
       "  height: 1.5em !important;\n",
       "  stroke-width: 0;\n",
       "  stroke: currentColor;\n",
       "  fill: currentColor;\n",
       "}\n",
       "</style><pre class='xr-text-repr-fallback'>&lt;xarray.ScalarFieldDataArray (x: 178, y: 1, z: 154, f: 11)&gt;\n",
       "array([[[[ 0.00000000e+00+0.00000000e+00j,\n",
       "           0.00000000e+00+0.00000000e+00j,\n",
       "          -0.00000000e+00-0.00000000e+00j, ...,\n",
       "           0.00000000e+00+0.00000000e+00j,\n",
       "           0.00000000e+00-0.00000000e+00j,\n",
       "          -0.00000000e+00-0.00000000e+00j],\n",
       "         [ 0.00000000e+00+0.00000000e+00j,\n",
       "           0.00000000e+00+0.00000000e+00j,\n",
       "          -0.00000000e+00-0.00000000e+00j, ...,\n",
       "           0.00000000e+00+0.00000000e+00j,\n",
       "           0.00000000e+00-0.00000000e+00j,\n",
       "          -0.00000000e+00-0.00000000e+00j],\n",
       "         [ 7.40766168e-08+1.57779265e-08j,\n",
       "          -7.19988691e-08+3.78724074e-08j,\n",
       "          -2.97674969e-08-5.17312460e-09j, ...,\n",
       "           2.24112480e-08+2.36790783e-08j,\n",
       "          -3.84922707e-08+3.96335018e-08j,\n",
       "          -1.79134165e-08-1.72266308e-08j],\n",
       "         ...,\n",
       "         [-6.72237235e-08-1.41361580e-08j,\n",
       "...\n",
       "          -2.82733947e-09+4.84960294e-09j],\n",
       "         ...,\n",
       "         [ 1.11994092e-09-8.98631303e-09j,\n",
       "           1.88472615e-09+7.33258076e-09j,\n",
       "           2.03198292e-10-6.35743547e-09j, ...,\n",
       "           5.49242596e-10+1.54622470e-09j,\n",
       "          -1.94652006e-09-1.89816629e-09j,\n",
       "           3.88865429e-09-1.11349457e-10j],\n",
       "         [ 2.08760720e-09-3.85409898e-10j,\n",
       "           9.64011981e-10-3.78486076e-10j,\n",
       "           1.99931988e-10-5.96537819e-10j, ...,\n",
       "          -1.68519018e-10+1.06164876e-10j,\n",
       "          -2.70438477e-10-1.06389793e-11j,\n",
       "           3.67348013e-10-6.04262265e-11j],\n",
       "         [ 0.00000000e+00+0.00000000e+00j,\n",
       "           0.00000000e+00+0.00000000e+00j,\n",
       "          -0.00000000e+00-0.00000000e+00j, ...,\n",
       "           0.00000000e+00+0.00000000e+00j,\n",
       "           0.00000000e+00-0.00000000e+00j,\n",
       "          -0.00000000e+00-0.00000000e+00j]]]], dtype=complex64)\n",
       "Coordinates:\n",
       "  * x        (x) float64 -2.913 -2.88 -2.847 -2.814 ... 2.814 2.847 2.88 2.913\n",
       "  * y        (y) float64 0.0\n",
       "  * z        (z) float64 -3.108 -3.061 -3.015 -2.968 ... 2.922 2.968 3.015 3.062\n",
       "  * f        (f) float64 1e+14 1.2e+14 1.4e+14 1.6e+14 ... 2.6e+14 2.8e+14 3e+14\n",
       "Attributes:\n",
       "    long_name:  field value</pre><div class='xr-wrap' style='display:none'><div class='xr-header'><div class='xr-obj-type'>xarray.ScalarFieldDataArray</div><div class='xr-array-name'></div><ul class='xr-dim-list'><li><span class='xr-has-index'>x</span>: 178</li><li><span class='xr-has-index'>y</span>: 1</li><li><span class='xr-has-index'>z</span>: 154</li><li><span class='xr-has-index'>f</span>: 11</li></ul></div><ul class='xr-sections'><li class='xr-section-item'><div class='xr-array-wrap'><input id='section-284f9166-d813-49c0-8ece-a206241262cd' class='xr-array-in' type='checkbox' checked><label for='section-284f9166-d813-49c0-8ece-a206241262cd' title='Show/hide data repr'><svg class='icon xr-icon-database'><use xlink:href='#icon-database'></use></svg></label><div class='xr-array-preview xr-preview'><span>0j 0j (-0-0j) (-0-0j) 0j 0j ... 0j (-0-0j) (-0+0j) 0j -0j (-0-0j)</span></div><div class='xr-array-data'><pre>array([[[[ 0.00000000e+00+0.00000000e+00j,\n",
       "           0.00000000e+00+0.00000000e+00j,\n",
       "          -0.00000000e+00-0.00000000e+00j, ...,\n",
       "           0.00000000e+00+0.00000000e+00j,\n",
       "           0.00000000e+00-0.00000000e+00j,\n",
       "          -0.00000000e+00-0.00000000e+00j],\n",
       "         [ 0.00000000e+00+0.00000000e+00j,\n",
       "           0.00000000e+00+0.00000000e+00j,\n",
       "          -0.00000000e+00-0.00000000e+00j, ...,\n",
       "           0.00000000e+00+0.00000000e+00j,\n",
       "           0.00000000e+00-0.00000000e+00j,\n",
       "          -0.00000000e+00-0.00000000e+00j],\n",
       "         [ 7.40766168e-08+1.57779265e-08j,\n",
       "          -7.19988691e-08+3.78724074e-08j,\n",
       "          -2.97674969e-08-5.17312460e-09j, ...,\n",
       "           2.24112480e-08+2.36790783e-08j,\n",
       "          -3.84922707e-08+3.96335018e-08j,\n",
       "          -1.79134165e-08-1.72266308e-08j],\n",
       "         ...,\n",
       "         [-6.72237235e-08-1.41361580e-08j,\n",
       "...\n",
       "          -2.82733947e-09+4.84960294e-09j],\n",
       "         ...,\n",
       "         [ 1.11994092e-09-8.98631303e-09j,\n",
       "           1.88472615e-09+7.33258076e-09j,\n",
       "           2.03198292e-10-6.35743547e-09j, ...,\n",
       "           5.49242596e-10+1.54622470e-09j,\n",
       "          -1.94652006e-09-1.89816629e-09j,\n",
       "           3.88865429e-09-1.11349457e-10j],\n",
       "         [ 2.08760720e-09-3.85409898e-10j,\n",
       "           9.64011981e-10-3.78486076e-10j,\n",
       "           1.99931988e-10-5.96537819e-10j, ...,\n",
       "          -1.68519018e-10+1.06164876e-10j,\n",
       "          -2.70438477e-10-1.06389793e-11j,\n",
       "           3.67348013e-10-6.04262265e-11j],\n",
       "         [ 0.00000000e+00+0.00000000e+00j,\n",
       "           0.00000000e+00+0.00000000e+00j,\n",
       "          -0.00000000e+00-0.00000000e+00j, ...,\n",
       "           0.00000000e+00+0.00000000e+00j,\n",
       "           0.00000000e+00-0.00000000e+00j,\n",
       "          -0.00000000e+00-0.00000000e+00j]]]], dtype=complex64)</pre></div></div></li><li class='xr-section-item'><input id='section-47772175-0df7-47df-83a0-d667bf2a409a' class='xr-section-summary-in' type='checkbox'  checked><label for='section-47772175-0df7-47df-83a0-d667bf2a409a' class='xr-section-summary' >Coordinates: <span>(4)</span></label><div class='xr-section-inline-details'></div><div class='xr-section-details'><ul class='xr-var-list'><li class='xr-var-item'><div class='xr-var-name'><span class='xr-has-index'>x</span></div><div class='xr-var-dims'>(x)</div><div class='xr-var-dtype'>float64</div><div class='xr-var-preview xr-preview'>-2.913 -2.88 -2.847 ... 2.88 2.913</div><input id='attrs-80cf1236-a8d1-4c7d-863f-612b4f2396c3' class='xr-var-attrs-in' type='checkbox' ><label for='attrs-80cf1236-a8d1-4c7d-863f-612b4f2396c3' title='Show/Hide attributes'><svg class='icon xr-icon-file-text2'><use xlink:href='#icon-file-text2'></use></svg></label><input id='data-f51f833c-4d34-41e3-b0f1-5700cf64b008' class='xr-var-data-in' type='checkbox'><label for='data-f51f833c-4d34-41e3-b0f1-5700cf64b008' title='Show/Hide data repr'><svg class='icon xr-icon-database'><use xlink:href='#icon-database'></use></svg></label><div class='xr-var-attrs'><dl class='xr-attrs'><dt><span>units :</span></dt><dd>um</dd><dt><span>long_name :</span></dt><dd>x position</dd></dl></div><div class='xr-var-data'><pre>array([-2.912736, -2.879717, -2.846698, -2.813679, -2.78066 , -2.747642,\n",
       "       -2.714623, -2.681604, -2.648585, -2.615566, -2.582547, -2.549528,\n",
       "       -2.516509, -2.483491, -2.450472, -2.417453, -2.384434, -2.351415,\n",
       "       -2.318396, -2.285377, -2.252358, -2.21934 , -2.186321, -2.153302,\n",
       "       -2.120283, -2.087264, -2.054245, -2.021226, -1.988208, -1.955189,\n",
       "       -1.92217 , -1.889151, -1.856132, -1.823113, -1.790094, -1.757075,\n",
       "       -1.724057, -1.691038, -1.658019, -1.625   , -1.591981, -1.558962,\n",
       "       -1.525943, -1.492925, -1.459906, -1.426887, -1.393868, -1.360849,\n",
       "       -1.32783 , -1.294811, -1.261792, -1.228774, -1.195755, -1.162736,\n",
       "       -1.129717, -1.096698, -1.063679, -1.03066 , -0.997642, -0.964623,\n",
       "       -0.931604, -0.898585, -0.865566, -0.832547, -0.799528, -0.766509,\n",
       "       -0.733696, -0.701087, -0.668478, -0.63587 , -0.603261, -0.570652,\n",
       "       -0.538043, -0.505435, -0.472826, -0.440217, -0.407609, -0.375   ,\n",
       "       -0.342391, -0.309783, -0.277174, -0.244565, -0.211957, -0.179348,\n",
       "       -0.146739, -0.11413 , -0.081522, -0.048913, -0.016304,  0.016304,\n",
       "        0.048913,  0.081522,  0.11413 ,  0.146739,  0.179348,  0.211957,\n",
       "        0.244565,  0.277174,  0.309783,  0.342391,  0.375   ,  0.407609,\n",
       "        0.440217,  0.472826,  0.505435,  0.538043,  0.570652,  0.603261,\n",
       "        0.63587 ,  0.668478,  0.701087,  0.733696,  0.766509,  0.799528,\n",
       "        0.832547,  0.865566,  0.898585,  0.931604,  0.964623,  0.997642,\n",
       "        1.03066 ,  1.063679,  1.096698,  1.129717,  1.162736,  1.195755,\n",
       "        1.228774,  1.261792,  1.294811,  1.32783 ,  1.360849,  1.393868,\n",
       "        1.426887,  1.459906,  1.492925,  1.525943,  1.558962,  1.591981,\n",
       "        1.625   ,  1.658019,  1.691038,  1.724057,  1.757075,  1.790094,\n",
       "        1.823113,  1.856132,  1.889151,  1.92217 ,  1.955189,  1.988208,\n",
       "        2.021226,  2.054245,  2.087264,  2.120283,  2.153302,  2.186321,\n",
       "        2.21934 ,  2.252358,  2.285377,  2.318396,  2.351415,  2.384434,\n",
       "        2.417453,  2.450472,  2.483491,  2.516509,  2.549528,  2.582547,\n",
       "        2.615566,  2.648585,  2.681604,  2.714623,  2.747642,  2.78066 ,\n",
       "        2.813679,  2.846698,  2.879717,  2.912736])</pre></div></li><li class='xr-var-item'><div class='xr-var-name'><span class='xr-has-index'>y</span></div><div class='xr-var-dims'>(y)</div><div class='xr-var-dtype'>float64</div><div class='xr-var-preview xr-preview'>0.0</div><input id='attrs-cf879196-2050-4c34-a02d-9b399dc2ef39' class='xr-var-attrs-in' type='checkbox' ><label for='attrs-cf879196-2050-4c34-a02d-9b399dc2ef39' title='Show/Hide attributes'><svg class='icon xr-icon-file-text2'><use xlink:href='#icon-file-text2'></use></svg></label><input id='data-bd1b7535-5bfe-4743-bcef-0dcd37e75cf7' class='xr-var-data-in' type='checkbox'><label for='data-bd1b7535-5bfe-4743-bcef-0dcd37e75cf7' title='Show/Hide data repr'><svg class='icon xr-icon-database'><use xlink:href='#icon-database'></use></svg></label><div class='xr-var-attrs'><dl class='xr-attrs'><dt><span>units :</span></dt><dd>um</dd><dt><span>long_name :</span></dt><dd>y position</dd></dl></div><div class='xr-var-data'><pre>array([0.])</pre></div></li><li class='xr-var-item'><div class='xr-var-name'><span class='xr-has-index'>z</span></div><div class='xr-var-dims'>(z)</div><div class='xr-var-dtype'>float64</div><div class='xr-var-preview xr-preview'>-3.108 -3.061 ... 3.015 3.062</div><input id='attrs-7a7a2283-92fb-4b5d-83b7-806c5e5cf2fa' class='xr-var-attrs-in' type='checkbox' ><label for='attrs-7a7a2283-92fb-4b5d-83b7-806c5e5cf2fa' title='Show/Hide attributes'><svg class='icon xr-icon-file-text2'><use xlink:href='#icon-file-text2'></use></svg></label><input id='data-de4ebde9-51c6-4eba-abc9-1e9d95d31bb6' class='xr-var-data-in' type='checkbox'><label for='data-de4ebde9-51c6-4eba-abc9-1e9d95d31bb6' title='Show/Hide data repr'><svg class='icon xr-icon-database'><use xlink:href='#icon-database'></use></svg></label><div class='xr-var-attrs'><dl class='xr-attrs'><dt><span>units :</span></dt><dd>um</dd><dt><span>long_name :</span></dt><dd>z position</dd></dl></div><div class='xr-var-data'><pre>array([-3.108221, -3.061435, -3.014649, -2.967862, -2.921076, -2.87429 ,\n",
       "       -2.827504, -2.780717, -2.733931, -2.687145, -2.640359, -2.593572,\n",
       "       -2.546786, -2.5     , -2.453214, -2.406428, -2.359641, -2.312855,\n",
       "       -2.266069, -2.219283, -2.172496, -2.12571 , -2.078924, -2.032138,\n",
       "       -1.985351, -1.938565, -1.891779, -1.844993, -1.798206, -1.75142 ,\n",
       "       -1.704634, -1.657848, -1.611062, -1.564275, -1.517489, -1.470703,\n",
       "       -1.423917, -1.37713 , -1.330344, -1.283558, -1.236772, -1.189985,\n",
       "       -1.143199, -1.096413, -1.049627, -1.00284 , -0.956054, -0.909268,\n",
       "       -0.862482, -0.816166, -0.783083, -0.75    , -0.71875 , -0.6875  ,\n",
       "       -0.65625 , -0.625   , -0.59375 , -0.5625  , -0.53125 , -0.5     ,\n",
       "       -0.46875 , -0.4375  , -0.40625 , -0.375   , -0.34375 , -0.3125  ,\n",
       "       -0.28125 , -0.25    , -0.217742, -0.185484, -0.153226, -0.120968,\n",
       "       -0.08871 , -0.056452, -0.024194,  0.008065,  0.040323,  0.072581,\n",
       "        0.104839,  0.137097,  0.169355,  0.201613,  0.233871,  0.266129,\n",
       "        0.298387,  0.330645,  0.362903,  0.395161,  0.427419,  0.459677,\n",
       "        0.491935,  0.524194,  0.556452,  0.58871 ,  0.620968,  0.653226,\n",
       "        0.685484,  0.717742,  0.75    ,  0.78125 ,  0.8125  ,  0.84375 ,\n",
       "        0.875   ,  0.90625 ,  0.9375  ,  0.96875 ,  1.      ,  1.03125 ,\n",
       "        1.0625  ,  1.09375 ,  1.125   ,  1.15625 ,  1.1875  ,  1.21875 ,\n",
       "        1.25    ,  1.283123,  1.329407,  1.375778,  1.422621,  1.469463,\n",
       "        1.516306,  1.563149,  1.609991,  1.656834,  1.703676,  1.750519,\n",
       "        1.797361,  1.844204,  1.891047,  1.937889,  1.984732,  2.031574,\n",
       "        2.078417,  2.125259,  2.172102,  2.218945,  2.265787,  2.31263 ,\n",
       "        2.359472,  2.406315,  2.453157,  2.5     ,  2.546843,  2.593685,\n",
       "        2.640528,  2.68737 ,  2.734213,  2.781055,  2.827898,  2.874741,\n",
       "        2.921583,  2.968426,  3.015268,  3.062111])</pre></div></li><li class='xr-var-item'><div class='xr-var-name'><span class='xr-has-index'>f</span></div><div class='xr-var-dims'>(f)</div><div class='xr-var-dtype'>float64</div><div class='xr-var-preview xr-preview'>1e+14 1.2e+14 ... 2.8e+14 3e+14</div><input id='attrs-434cf288-039e-4643-9a25-3499c7ab1038' class='xr-var-attrs-in' type='checkbox' ><label for='attrs-434cf288-039e-4643-9a25-3499c7ab1038' title='Show/Hide attributes'><svg class='icon xr-icon-file-text2'><use xlink:href='#icon-file-text2'></use></svg></label><input id='data-b923b379-d4b0-41fa-a444-53e1e501540f' class='xr-var-data-in' type='checkbox'><label for='data-b923b379-d4b0-41fa-a444-53e1e501540f' title='Show/Hide data repr'><svg class='icon xr-icon-database'><use xlink:href='#icon-database'></use></svg></label><div class='xr-var-attrs'><dl class='xr-attrs'><dt><span>units :</span></dt><dd>Hz</dd><dt><span>long_name :</span></dt><dd>frequency</dd></dl></div><div class='xr-var-data'><pre>array([1.0e+14, 1.2e+14, 1.4e+14, 1.6e+14, 1.8e+14, 2.0e+14, 2.2e+14, 2.4e+14,\n",
       "       2.6e+14, 2.8e+14, 3.0e+14])</pre></div></li></ul></div></li><li class='xr-section-item'><input id='section-9d659fe4-518e-4e4c-b57f-f74d2f6be302' class='xr-section-summary-in' type='checkbox'  ><label for='section-9d659fe4-518e-4e4c-b57f-f74d2f6be302' class='xr-section-summary' >Indexes: <span>(4)</span></label><div class='xr-section-inline-details'></div><div class='xr-section-details'><ul class='xr-var-list'><li class='xr-var-item'><div class='xr-index-name'><div>x</div></div><div class='xr-index-preview'>PandasIndex</div><div></div><input id='index-4bc0f193-a351-47bb-9da2-ec4b4d17c003' class='xr-index-data-in' type='checkbox'/><label for='index-4bc0f193-a351-47bb-9da2-ec4b4d17c003' title='Show/Hide index repr'><svg class='icon xr-icon-database'><use xlink:href='#icon-database'></use></svg></label><div class='xr-index-data'><pre>PandasIndex(Float64Index([ -2.912735849056606,  -2.879716981132077,  -2.846698113207549,\n",
       "                -2.81367924528302,  -2.780660377358492, -2.7476415094339632,\n",
       "               -2.714622641509435, -2.6816037735849063, -2.6485849056603783,\n",
       "              -2.6155660377358494,\n",
       "              ...\n",
       "                2.615566037735879,   2.648584905660416,   2.681603773584953,\n",
       "                 2.71462264150949,  2.7476415094340267,  2.7806603773585636,\n",
       "               2.8136792452831005,  2.8466981132076374,  2.8797169811321743,\n",
       "               2.9127358490567112],\n",
       "             dtype=&#x27;float64&#x27;, name=&#x27;x&#x27;, length=178))</pre></div></li><li class='xr-var-item'><div class='xr-index-name'><div>y</div></div><div class='xr-index-preview'>PandasIndex</div><div></div><input id='index-e525977b-d400-40f8-a1ff-f14b52cdf3e1' class='xr-index-data-in' type='checkbox'/><label for='index-e525977b-d400-40f8-a1ff-f14b52cdf3e1' title='Show/Hide index repr'><svg class='icon xr-icon-database'><use xlink:href='#icon-database'></use></svg></label><div class='xr-index-data'><pre>PandasIndex(Float64Index([0.0], dtype=&#x27;float64&#x27;, name=&#x27;y&#x27;))</pre></div></li><li class='xr-var-item'><div class='xr-index-name'><div>z</div></div><div class='xr-index-preview'>PandasIndex</div><div></div><input id='index-7ec1f827-da83-48fd-b880-e48135bbf8fa' class='xr-index-data-in' type='checkbox'/><label for='index-7ec1f827-da83-48fd-b880-e48135bbf8fa' title='Show/Hide index repr'><svg class='icon xr-icon-database'><use xlink:href='#icon-database'></use></svg></label><div class='xr-index-data'><pre>PandasIndex(Float64Index([-3.1082210679575613, -3.0614348319608258, -3.0146485959640903,\n",
       "               -2.967862359967355, -2.9210761239706193,  -2.874289887973884,\n",
       "              -2.8275036519771484,  -2.780717415980413, -2.7339311799836774,\n",
       "               -2.687144943986942,\n",
       "              ...\n",
       "               2.6405277146874875,  2.6873702862499833,   2.734212857812479,\n",
       "                2.781055429374975,   2.827898000937471,  2.8747405724999666,\n",
       "               2.9215831440624624,  2.9684257156249583,   3.015268287187454,\n",
       "                 3.06211085874995],\n",
       "             dtype=&#x27;float64&#x27;, name=&#x27;z&#x27;, length=154))</pre></div></li><li class='xr-var-item'><div class='xr-index-name'><div>f</div></div><div class='xr-index-preview'>PandasIndex</div><div></div><input id='index-f8c7b54a-6e04-4642-b5ce-7ccafcea2cfe' class='xr-index-data-in' type='checkbox'/><label for='index-f8c7b54a-6e04-4642-b5ce-7ccafcea2cfe' title='Show/Hide index repr'><svg class='icon xr-icon-database'><use xlink:href='#icon-database'></use></svg></label><div class='xr-index-data'><pre>PandasIndex(Float64Index([100000000000000.0, 120000000000000.0, 140000000000000.0,\n",
       "              160000000000000.0, 180000000000000.0, 200000000000000.0,\n",
       "              220000000000000.0, 240000000000000.0, 260000000000000.0,\n",
       "              280000000000000.0, 300000000000000.0],\n",
       "             dtype=&#x27;float64&#x27;, name=&#x27;f&#x27;))</pre></div></li></ul></div></li><li class='xr-section-item'><input id='section-80747e53-6c82-4524-b854-e2b6d5e5664d' class='xr-section-summary-in' type='checkbox'  checked><label for='section-80747e53-6c82-4524-b854-e2b6d5e5664d' class='xr-section-summary' >Attributes: <span>(1)</span></label><div class='xr-section-inline-details'></div><div class='xr-section-details'><dl class='xr-attrs'><dt><span>long_name :</span></dt><dd>field value</dd></dl></div></li></ul></div></div>"
      ],
      "text/plain": [
       "<xarray.ScalarFieldDataArray (x: 178, y: 1, z: 154, f: 11)>\n",
       "array([[[[ 0.00000000e+00+0.00000000e+00j,\n",
       "           0.00000000e+00+0.00000000e+00j,\n",
       "          -0.00000000e+00-0.00000000e+00j, ...,\n",
       "           0.00000000e+00+0.00000000e+00j,\n",
       "           0.00000000e+00-0.00000000e+00j,\n",
       "          -0.00000000e+00-0.00000000e+00j],\n",
       "         [ 0.00000000e+00+0.00000000e+00j,\n",
       "           0.00000000e+00+0.00000000e+00j,\n",
       "          -0.00000000e+00-0.00000000e+00j, ...,\n",
       "           0.00000000e+00+0.00000000e+00j,\n",
       "           0.00000000e+00-0.00000000e+00j,\n",
       "          -0.00000000e+00-0.00000000e+00j],\n",
       "         [ 7.40766168e-08+1.57779265e-08j,\n",
       "          -7.19988691e-08+3.78724074e-08j,\n",
       "          -2.97674969e-08-5.17312460e-09j, ...,\n",
       "           2.24112480e-08+2.36790783e-08j,\n",
       "          -3.84922707e-08+3.96335018e-08j,\n",
       "          -1.79134165e-08-1.72266308e-08j],\n",
       "         ...,\n",
       "         [-6.72237235e-08-1.41361580e-08j,\n",
       "...\n",
       "          -2.82733947e-09+4.84960294e-09j],\n",
       "         ...,\n",
       "         [ 1.11994092e-09-8.98631303e-09j,\n",
       "           1.88472615e-09+7.33258076e-09j,\n",
       "           2.03198292e-10-6.35743547e-09j, ...,\n",
       "           5.49242596e-10+1.54622470e-09j,\n",
       "          -1.94652006e-09-1.89816629e-09j,\n",
       "           3.88865429e-09-1.11349457e-10j],\n",
       "         [ 2.08760720e-09-3.85409898e-10j,\n",
       "           9.64011981e-10-3.78486076e-10j,\n",
       "           1.99931988e-10-5.96537819e-10j, ...,\n",
       "          -1.68519018e-10+1.06164876e-10j,\n",
       "          -2.70438477e-10-1.06389793e-11j,\n",
       "           3.67348013e-10-6.04262265e-11j],\n",
       "         [ 0.00000000e+00+0.00000000e+00j,\n",
       "           0.00000000e+00+0.00000000e+00j,\n",
       "          -0.00000000e+00-0.00000000e+00j, ...,\n",
       "           0.00000000e+00+0.00000000e+00j,\n",
       "           0.00000000e+00-0.00000000e+00j,\n",
       "          -0.00000000e+00-0.00000000e+00j]]]], dtype=complex64)\n",
       "Coordinates:\n",
       "  * x        (x) float64 -2.913 -2.88 -2.847 -2.814 ... 2.814 2.847 2.88 2.913\n",
       "  * y        (y) float64 0.0\n",
       "  * z        (z) float64 -3.108 -3.061 -3.015 -2.968 ... 2.922 2.968 3.015 3.062\n",
       "  * f        (f) float64 1e+14 1.2e+14 1.4e+14 1.6e+14 ... 2.6e+14 2.8e+14 3e+14\n",
       "Attributes:\n",
       "    long_name:  field value"
      ]
     },
     "execution_count": 1,
     "metadata": {},
     "output_type": "execute_result"
    }
   ],
   "source": [
    "field_data.Ex\n"
   ]
  },
  {
   "cell_type": "markdown",
   "id": "51efd903",
   "metadata": {},
   "source": [
    "In this case, the dimensions of the data are the spatial locations on the yee lattice (x,y,z) and the frequency."
   ]
  },
  {
   "cell_type": "markdown",
   "id": "ebeb2dfe",
   "metadata": {
    "tags": []
   },
   "source": [
    "### Centering Field Data\n",
    "\n",
    "For many advanced plots and other manipulations, it is convenient to have the field data co-located at the same positions, since they are naturally defined on separate locations on the yee lattice.  For this, we provide an `.at_centers()` method of [SimulationData](../_autosummary/tidy3d.SimulationData.html) to return the fields co-located at the yee grid centers."
   ]
  },
  {
   "cell_type": "code",
   "execution_count": 24,
   "id": "bc53fa35",
   "metadata": {
    "execution": {
     "iopub.execute_input": "2023-05-19T21:11:12.077765Z",
     "iopub.status.busy": "2023-05-19T21:11:12.077629Z",
     "iopub.status.idle": "2023-05-19T21:11:12.208997Z",
     "shell.execute_reply": "2023-05-19T21:11:12.208399Z"
    },
    "tags": []
   },
   "outputs": [],
   "source": [
    "field0_data_centered = sim0_data.at_centers(\"field\").interp(f=200e12)\n",
    "field_data_centered = sim_data.at_centers(\"field\").interp(f=200e12)\n"
   ]
  },
  {
   "cell_type": "markdown",
   "id": "8cd0d9e9",
   "metadata": {},
   "source": [
    "The centered field data is stored as an xarray [Dataset](https://xarray.pydata.org/en/stable/generated/xarray.Dataset.html), which provies similar functionality as the [DataArray](https://xarray.pydata.org/en/stable/generated/xarray.DataArray.html) objects, but is aware of all of the field data and provides more convenience methods, as we will explore in the next section."
   ]
  },
  {
   "cell_type": "markdown",
   "id": "89af5c1f",
   "metadata": {},
   "source": [
    "### Plotting Fields\n",
    "\n",
    "#### Simple \n",
    "Plotting fields requires a little bit of manipulation to get them in the right shape, but then it is straightforward."
   ]
  },
  {
   "cell_type": "code",
   "execution_count": 25,
   "id": "98ba6150",
   "metadata": {
    "execution": {
     "iopub.execute_input": "2023-05-19T21:11:12.211266Z",
     "iopub.status.busy": "2023-05-19T21:11:12.211096Z",
     "iopub.status.idle": "2023-05-19T21:11:12.235076Z",
     "shell.execute_reply": "2023-05-19T21:11:12.234468Z"
    },
    "tags": []
   },
   "outputs": [],
   "source": [
    "# get the field data on the y=0 plane at frequency 200THz\n",
    "Ez_data = field_data.Ez.isel(y=0).interp(f=2e14)\n",
    "Ez0_data = field0_data.Ez.isel(y=0).interp(f=2e14)\n"
   ]
  },
  {
   "cell_type": "code",
   "execution_count": 26,
   "id": "4a5dc0c3",
   "metadata": {
    "execution": {
     "iopub.execute_input": "2023-05-19T21:11:12.237054Z",
     "iopub.status.busy": "2023-05-19T21:11:12.236882Z",
     "iopub.status.idle": "2023-05-19T21:11:13.030192Z",
     "shell.execute_reply": "2023-05-19T21:11:13.029655Z"
    },
    "tags": []
   },
   "outputs": [
    {
     "data": {
      "image/png": "[encoded data removed]",
      "text/plain": [
       "<Figure size 1000x600 with 8 Axes>"
      ]
     },
     "metadata": {},
     "output_type": "display_data"
    }
   ],
   "source": [
    "# amplitude plot rz Ex(x,y) field on plane\n",
    "_, ((ax1, ax2), (ax3, ax4)) = plt.subplots(2, 2, tight_layout=True, figsize=(10, 6))\n",
    "\n",
    "Ez0_data.real.plot(x=\"x\", y=\"z\", ax=ax1)\n",
    "Ez_data.real.plot(x=\"x\", y=\"z\", ax=ax2)\n",
    "\n",
    "abs(Ez0_data).plot(x=\"x\", y=\"z\", cmap=\"magma\", ax=ax3)\n",
    "abs(Ez_data).plot(x=\"x\", y=\"z\", cmap=\"magma\", ax=ax4)\n",
    "\n",
    "ax1.set_title(\"without scatterer (real Ez)\")\n",
    "ax2.set_title(\"with scatterer (real Ez)\")\n",
    "ax3.set_title(\"without scatterer (abs Ez)\")\n",
    "ax4.set_title(\"with scatterer (abs Ez)\")\n",
    "plt.show()\n"
   ]
  },
  {
   "cell_type": "markdown",
   "id": "1807646a",
   "metadata": {},
   "source": [
    "#### Advanced\n",
    "\n",
    "More advanced plotting is available and is best done with the centered field data."
   ]
  },
  {
   "cell_type": "markdown",
   "id": "516493a1",
   "metadata": {
    "tags": []
   },
   "source": [
    "##### Structure Overlay\n",
    "\n",
    "One can overlay the structure permittivity by calling `plot_fields` from the [SimulationData](../_autosummary/tidy3d.SimulationData.html) object as follows:"
   ]
  },
  {
   "cell_type": "code",
   "execution_count": 27,
   "id": "8fdf17ae",
   "metadata": {
    "execution": {
     "iopub.execute_input": "2023-05-19T21:11:13.032310Z",
     "iopub.status.busy": "2023-05-19T21:11:13.032137Z",
     "iopub.status.idle": "2023-05-19T21:11:13.664314Z",
     "shell.execute_reply": "2023-05-19T21:11:13.663668Z"
    },
    "tags": []
   },
   "outputs": [
    {
     "data": {
      "image/png": "[encoded data removed]",
      "text/plain": [
       "<Figure size 640x480 with 2 Axes>"
      ]
     },
     "metadata": {},
     "output_type": "display_data"
    }
   ],
   "source": [
    "ax = sim_data.plot_field(\"field\", \"Ex\", y=0.0, f=200e12, eps_alpha=0.2)\n"
   ]
  },
  {
   "cell_type": "markdown",
   "id": "bc2936a5",
   "metadata": {},
   "source": [
    "##### Quiver Plots\n",
    "\n",
    "Quiver plotting can be done through the centered field Dataset.\n",
    "We first should spatially downsample the data to be quivered to reduce clutter on the plot, which can be done by `.sel()` with `slice(None, None, skip)` range to select every `skip` data point along that axis."
   ]
  },
  {
   "cell_type": "code",
   "execution_count": 28,
   "id": "12b2b76d",
   "metadata": {
    "execution": {
     "iopub.execute_input": "2023-05-19T21:11:13.666532Z",
     "iopub.status.busy": "2023-05-19T21:11:13.666305Z",
     "iopub.status.idle": "2023-05-19T21:11:13.882057Z",
     "shell.execute_reply": "2023-05-19T21:11:13.881424Z"
    },
    "tags": []
   },
   "outputs": [
    {
     "data": {
      "image/png": "[encoded data removed]",
      "text/plain": [
       "<Figure size 800x500 with 2 Axes>"
      ]
     },
     "metadata": {},
     "output_type": "display_data"
    }
   ],
   "source": [
    "# downsample the field data for more clear quiver plotting\n",
    "field0_data_resampled = field0_data_centered.sel(\n",
    "    x=slice(None, None, 7), z=slice(None, None, 7)\n",
    ")\n",
    "\n",
    "# quiver plot of \\vec{E}_{x,y}(x,y) on plane with Ez(x,y) underlying.\n",
    "f, ax = plt.subplots(figsize=(8, 5))\n",
    "field0_data_centered.isel(y=0).Ez.real.plot.imshow(x=\"x\", y=\"z\", ax=ax, robust=True)\n",
    "field0_data_resampled.isel(y=0).real.plot.quiver(\"x\", \"z\", \"Ex\", \"Ez\", ax=ax)\n",
    "plt.show()\n"
   ]
  },
  {
   "cell_type": "markdown",
   "id": "27630dee",
   "metadata": {},
   "source": [
    "##### Stream Plots\n",
    "Stream plots can be another useful feature, although they do not take the amplitude into account, so use with caution."
   ]
  },
  {
   "cell_type": "markdown",
   "id": "ffde187e",
   "metadata": {},
   "source": [
    "##### Time Lapse Fields\n",
    "\n",
    "For time-domain data, it can be convenient to see the fields at various snapshots of the simulation.  For this, it is convenient to supply the `row` and `col` keyword arguments to plot, which expand all plots on a row or column."
   ]
  },
  {
   "cell_type": "code",
   "execution_count": 29,
   "id": "3b49c1f1",
   "metadata": {
    "execution": {
     "iopub.execute_input": "2023-05-19T21:11:13.886010Z",
     "iopub.status.busy": "2023-05-19T21:11:13.885812Z",
     "iopub.status.idle": "2023-05-19T21:11:14.359860Z",
     "shell.execute_reply": "2023-05-19T21:11:14.359365Z"
    },
    "tags": []
   },
   "outputs": [
    {
     "data": {
      "image/png": "[encoded data removed]",
      "text/plain": [
       "<Figure size 1300x300 with 5 Axes>"
      ]
     },
     "metadata": {},
     "output_type": "display_data"
    }
   ],
   "source": [
    "field_time_data = sim_data[\"field_time\"]\n",
    "\n",
    "# select the data and downsample and window the time coordinate to reduce number of plots.\n",
    "time_data = field_time_data.Ez.isel(y=0).sel(t=slice(1e-14, 5e-14, 1))\n",
    "\n",
    "time_data.plot(x=\"x\", y=\"z\", col=\"t\")\n",
    "plt.show()\n"
   ]
  },
  {
   "cell_type": "markdown",
   "id": "4104ee6d-8118-4498-a943-00b4c1b48d4a",
   "metadata": {},
   "source": [
    "## Export data to csv\n",
    "\n",
    "You can also export [xarray.DataArray](https://docs.xarray.dev/en/stable/generated/xarray.DataArray.html) to csv file using its [to_dataframe()](https://docs.xarray.dev/en/stable/generated/xarray.DataArray.to_dataframe.html) method."
   ]
  },
  {
   "cell_type": "code",
   "execution_count": 30,
   "id": "6c4e1eab-9ff3-47bd-bd45-b66e428d238a",
   "metadata": {
    "execution": {
     "iopub.execute_input": "2023-05-19T21:11:14.362013Z",
     "iopub.status.busy": "2023-05-19T21:11:14.361872Z",
     "iopub.status.idle": "2023-05-19T21:11:14.775146Z",
     "shell.execute_reply": "2023-05-19T21:11:14.774592Z"
    }
   },
   "outputs": [],
   "source": [
    "df = time_data.to_dataframe(\"value\")\n",
    "df.to_csv(\"./data/time_data.csv\")\n"
   ]
  },
  {
   "cell_type": "markdown",
   "id": "ff38ffe5-b6d1-4de2-a626-0a7aaebfa3dd",
   "metadata": {},
   "source": [
    "It will stack the array coordinates to generate a 2D table. Import the csv file to check the content:"
   ]
  },
  {
   "cell_type": "code",
   "execution_count": 31,
   "id": "329574aa-ce1b-4d09-9a21-556bd7c795ea",
   "metadata": {
    "execution": {
     "iopub.execute_input": "2023-05-19T21:11:14.777655Z",
     "iopub.status.busy": "2023-05-19T21:11:14.777517Z",
     "iopub.status.idle": "2023-05-19T21:11:14.877677Z",
     "shell.execute_reply": "2023-05-19T21:11:14.877167Z"
    }
   },
   "outputs": [
    {
     "data": {
      "text/html": [
       "<div>\n",
       "<style scoped>\n",
       "    .dataframe tbody tr th:only-of-type {\n",
       "        vertical-align: middle;\n",
       "    }\n",
       "\n",
       "    .dataframe tbody tr th {\n",
       "        vertical-align: top;\n",
       "    }\n",
       "\n",
       "    .dataframe thead th {\n",
       "        text-align: right;\n",
       "    }\n",
       "</style>\n",
       "<table border=\"1\" class=\"dataframe\">\n",
       "  <thead>\n",
       "    <tr style=\"text-align: right;\">\n",
       "      <th></th>\n",
       "      <th>x</th>\n",
       "      <th>z</th>\n",
       "      <th>t</th>\n",
       "      <th>y</th>\n",
       "      <th>value</th>\n",
       "    </tr>\n",
       "  </thead>\n",
       "  <tbody>\n",
       "    <tr>\n",
       "      <th>0</th>\n",
       "      <td>-2.929245</td>\n",
       "      <td>-3.084828</td>\n",
       "      <td>1.208153e-14</td>\n",
       "      <td>0.0</td>\n",
       "      <td>0.0</td>\n",
       "    </tr>\n",
       "    <tr>\n",
       "      <th>1</th>\n",
       "      <td>-2.929245</td>\n",
       "      <td>-3.084828</td>\n",
       "      <td>2.416306e-14</td>\n",
       "      <td>0.0</td>\n",
       "      <td>0.0</td>\n",
       "    </tr>\n",
       "    <tr>\n",
       "      <th>2</th>\n",
       "      <td>-2.929245</td>\n",
       "      <td>-3.084828</td>\n",
       "      <td>3.624459e-14</td>\n",
       "      <td>0.0</td>\n",
       "      <td>0.0</td>\n",
       "    </tr>\n",
       "    <tr>\n",
       "      <th>3</th>\n",
       "      <td>-2.929245</td>\n",
       "      <td>-3.084828</td>\n",
       "      <td>4.832612e-14</td>\n",
       "      <td>0.0</td>\n",
       "      <td>0.0</td>\n",
       "    </tr>\n",
       "    <tr>\n",
       "      <th>4</th>\n",
       "      <td>-2.929245</td>\n",
       "      <td>-3.038042</td>\n",
       "      <td>1.208153e-14</td>\n",
       "      <td>0.0</td>\n",
       "      <td>0.0</td>\n",
       "    </tr>\n",
       "    <tr>\n",
       "      <th>...</th>\n",
       "      <td>...</td>\n",
       "      <td>...</td>\n",
       "      <td>...</td>\n",
       "      <td>...</td>\n",
       "      <td>...</td>\n",
       "    </tr>\n",
       "    <tr>\n",
       "      <th>109643</th>\n",
       "      <td>2.896226</td>\n",
       "      <td>3.038690</td>\n",
       "      <td>4.832612e-14</td>\n",
       "      <td>0.0</td>\n",
       "      <td>0.0</td>\n",
       "    </tr>\n",
       "    <tr>\n",
       "      <th>109644</th>\n",
       "      <td>2.896226</td>\n",
       "      <td>3.085532</td>\n",
       "      <td>1.208153e-14</td>\n",
       "      <td>0.0</td>\n",
       "      <td>0.0</td>\n",
       "    </tr>\n",
       "    <tr>\n",
       "      <th>109645</th>\n",
       "      <td>2.896226</td>\n",
       "      <td>3.085532</td>\n",
       "      <td>2.416306e-14</td>\n",
       "      <td>0.0</td>\n",
       "      <td>0.0</td>\n",
       "    </tr>\n",
       "    <tr>\n",
       "      <th>109646</th>\n",
       "      <td>2.896226</td>\n",
       "      <td>3.085532</td>\n",
       "      <td>3.624459e-14</td>\n",
       "      <td>0.0</td>\n",
       "      <td>0.0</td>\n",
       "    </tr>\n",
       "    <tr>\n",
       "      <th>109647</th>\n",
       "      <td>2.896226</td>\n",
       "      <td>3.085532</td>\n",
       "      <td>4.832612e-14</td>\n",
       "      <td>0.0</td>\n",
       "      <td>0.0</td>\n",
       "    </tr>\n",
       "  </tbody>\n",
       "</table>\n",
       "<p>109648 rows × 5 columns</p>\n",
       "</div>"
      ],
      "text/plain": [
       "               x         z             t    y  value\n",
       "0      -2.929245 -3.084828  1.208153e-14  0.0    0.0\n",
       "1      -2.929245 -3.084828  2.416306e-14  0.0    0.0\n",
       "2      -2.929245 -3.084828  3.624459e-14  0.0    0.0\n",
       "3      -2.929245 -3.084828  4.832612e-14  0.0    0.0\n",
       "4      -2.929245 -3.038042  1.208153e-14  0.0    0.0\n",
       "...          ...       ...           ...  ...    ...\n",
       "109643  2.896226  3.038690  4.832612e-14  0.0    0.0\n",
       "109644  2.896226  3.085532  1.208153e-14  0.0    0.0\n",
       "109645  2.896226  3.085532  2.416306e-14  0.0    0.0\n",
       "109646  2.896226  3.085532  3.624459e-14  0.0    0.0\n",
       "109647  2.896226  3.085532  4.832612e-14  0.0    0.0\n",
       "\n",
       "[109648 rows x 5 columns]"
      ]
     },
     "metadata": {},
     "output_type": "display_data"
    }
   ],
   "source": [
    "import pandas as pd\n",
    "\n",
    "df = pd.read_csv(\"./data/time_data.csv\")\n",
    "display(df)\n"
   ]
  },
  {
   "cell_type": "markdown",
   "id": "f52001cc",
   "metadata": {
    "tags": []
   },
   "source": [
    "## Conclusion\n",
    "\n",
    "This hopefully gives some sense of what kind of data post processing and visualization can be done in Tidy3D.\n",
    "\n",
    "For more detailed information and reference, the best places to check out are\n",
    "\n",
    "* API reference for [SimulationData](_autosummary/tidy3d.SimulationData.html).\n",
    "\n",
    "* [Xarray documentation](http://xarray.pydata.org)."
   ]
  }
 ],
 "metadata": {
  "kernelspec": {
   "display_name": "Python 3 (ipykernel)",
   "language": "python",
   "name": "python3"
  },
  "language_info": {
   "codemirror_mode": {
    "name": "ipython",
    "version": 3
   },
   "file_extension": ".py",
   "mimetype": "text/x-python",
   "name": "python",
   "nbconvert_exporter": "python",
   "pygments_lexer": "ipython3",
   "version": "3.9.16"
  },
  "widgets": {
   "application/vnd.jupyter.widget-state+json": {
    "state": {
     "20aafb570e9940348455e81e1590e45c": {
      "model_module": "@jupyter-widgets/output",
      "model_module_version": "1.0.0",
      "model_name": "OutputModel",
      "state": {
       "_dom_classes": [],
       "_model_module": "@jupyter-widgets/output",
       "_model_module_version": "1.0.0",
       "_model_name": "OutputModel",
       "_view_count": null,
       "_view_module": "@jupyter-widgets/output",
       "_view_module_version": "1.0.0",
       "_view_name": "OutputView",
       "layout": "IPY_MODEL_846d4fb99594407bbffccfa7e4069efd",
       "msg_id": "",
       "outputs": [
        {
         "data": {
          "text/html": "<pre style=\"white-space:pre;overflow-x:auto;line-height:normal;font-family:Menlo,'DejaVu Sans Mono',consolas,'Courier New',monospace\"><span style=\"color: #008000; text-decoration-color: #008000\">🚶 </span> <span style=\"color: #008000; text-decoration-color: #008000; font-weight: bold\">Starting 'scattered waveguide'...</span>\n</pre>\n",
          "text/plain": "\u001b[32m🚶 \u001b[0m \u001b[1;32mStarting 'scattered waveguide'...\u001b[0m\n"
         },
         "metadata": {},
         "output_type": "display_data"
        }
       ],
       "tabbable": null,
       "tooltip": null
      }
     },
     "2b84dbb6aa64414c8cde75c3d02caa5d": {
      "model_module": "@jupyter-widgets/output",
      "model_module_version": "1.0.0",
      "model_name": "OutputModel",
      "state": {
       "_dom_classes": [],
       "_model_module": "@jupyter-widgets/output",
       "_model_module_version": "1.0.0",
       "_model_name": "OutputModel",
       "_view_count": null,
       "_view_module": "@jupyter-widgets/output",
       "_view_module_version": "1.0.0",
       "_view_name": "OutputView",
       "layout": "IPY_MODEL_c16d4c1cdd214380b4d12af23811c552",
       "msg_id": "",
       "outputs": [
        {
         "data": {
          "text/html": "<pre style=\"white-space:pre;overflow-x:auto;line-height:normal;font-family:Menlo,'DejaVu Sans Mono',consolas,'Courier New',monospace\"><span style=\"color: #008000; text-decoration-color: #008000\">🏃 </span> <span style=\"color: #008000; text-decoration-color: #008000; font-weight: bold\">Finishing 'straight waveguide'...</span>\n</pre>\n",
          "text/plain": "\u001b[32m🏃 \u001b[0m \u001b[1;32mFinishing 'straight waveguide'...\u001b[0m\n"
         },
         "metadata": {},
         "output_type": "display_data"
        }
       ],
       "tabbable": null,
       "tooltip": null
      }
     },
     "2f5b1f98649b4e3b84dcb7e6392eb349": {
      "model_module": "@jupyter-widgets/output",
      "model_module_version": "1.0.0",
      "model_name": "OutputModel",
      "state": {
       "_dom_classes": [],
       "_model_module": "@jupyter-widgets/output",
       "_model_module_version": "1.0.0",
       "_model_name": "OutputModel",
       "_view_count": null,
       "_view_module": "@jupyter-widgets/output",
       "_view_module_version": "1.0.0",
       "_view_name": "OutputView",
       "layout": "IPY_MODEL_9d07bf39e0f34bfd89c5987773ab0f45",
       "msg_id": "",
       "outputs": [
        {
         "data": {
          "text/html": "<pre style=\"white-space:pre;overflow-x:auto;line-height:normal;font-family:Menlo,'DejaVu Sans Mono',consolas,'Courier New',monospace\">solver progress (field decay = 0.00e+00) <span style=\"color: #729c1f; text-decoration-color: #729c1f\">━━━━━━━━━━━━━━━━━━━━━━━━━━━━━━━━━━━━━━━━</span> <span style=\"color: #800080; text-decoration-color: #800080\">100%</span> <span style=\"color: #008080; text-decoration-color: #008080\">0:00:00</span>\n</pre>\n",
          "text/plain": "solver progress (field decay = 0.00e+00) \u001b[38;2;114;156;31m━━━━━━━━━━━━━━━━━━━━━━━━━━━━━━━━━━━━━━━━\u001b[0m \u001b[35m100%\u001b[0m \u001b[36m0:00:00\u001b[0m\n"
         },
         "metadata": {},
         "output_type": "display_data"
        }
       ],
       "tabbable": null,
       "tooltip": null
      }
     },
     "3b9fe98929bb4d09bfb886bb8e753dcf": {
      "model_module": "@jupyter-widgets/base",
      "model_module_version": "2.0.0",
      "model_name": "LayoutModel",
      "state": {
       "_model_module": "@jupyter-widgets/base",
       "_model_module_version": "2.0.0",
       "_model_name": "LayoutModel",
       "_view_count": null,
       "_view_module": "@jupyter-widgets/base",
       "_view_module_version": "2.0.0",
       "_view_name": "LayoutView",
       "align_content": null,
       "align_items": null,
       "align_self": null,
       "border_bottom": null,
       "border_left": null,
       "border_right": null,
       "border_top": null,
       "bottom": null,
       "display": null,
       "flex": null,
       "flex_flow": null,
       "grid_area": null,
       "grid_auto_columns": null,
       "grid_auto_flow": null,
       "grid_auto_rows": null,
       "grid_column": null,
       "grid_gap": null,
       "grid_row": null,
       "grid_template_areas": null,
       "grid_template_columns": null,
       "grid_template_rows": null,
       "height": null,
       "justify_content": null,
       "justify_items": null,
       "left": null,
       "margin": null,
       "max_height": null,
       "max_width": null,
       "min_height": null,
       "min_width": null,
       "object_fit": null,
       "object_position": null,
       "order": null,
       "overflow": null,
       "padding": null,
       "right": null,
       "top": null,
       "visibility": null,
       "width": null
      }
     },
     "3e0beceb22244312921e25757f0961d8": {
      "model_module": "@jupyter-widgets/output",
      "model_module_version": "1.0.0",
      "model_name": "OutputModel",
      "state": {
       "_dom_classes": [],
       "_model_module": "@jupyter-widgets/output",
       "_model_module_version": "1.0.0",
       "_model_name": "OutputModel",
       "_view_count": null,
       "_view_module": "@jupyter-widgets/output",
       "_view_module_version": "1.0.0",
       "_view_name": "OutputView",
       "layout": "IPY_MODEL_f501d07a0d9744b3b5fb7b8788d77dfd",
       "msg_id": "",
       "outputs": [
        {
         "data": {
          "text/html": "<pre style=\"white-space:pre;overflow-x:auto;line-height:normal;font-family:Menlo,'DejaVu Sans Mono',consolas,'Courier New',monospace\"><span style=\"color: #800000; text-decoration-color: #800000; font-weight: bold\">↑</span> <span style=\"color: #000080; text-decoration-color: #000080; font-weight: bold\">simulation.json</span> <span style=\"color: #729c1f; text-decoration-color: #729c1f\">━━━━━━━━━━━━━━━━━━━━━━━━━━━━━━━━━━━━━━━━</span> <span style=\"color: #800080; text-decoration-color: #800080\">100.0%</span> • <span style=\"color: #008000; text-decoration-color: #008000\">12.0/12.0 kB</span> • <span style=\"color: #800000; text-decoration-color: #800000\">?</span> • <span style=\"color: #008080; text-decoration-color: #008080\">0:00:00</span>\n</pre>\n",
          "text/plain": "\u001b[1;31m↑\u001b[0m \u001b[1;34msimulation.json\u001b[0m \u001b[38;2;114;156;31m━━━━━━━━━━━━━━━━━━━━━━━━━━━━━━━━━━━━━━━━\u001b[0m \u001b[35m100.0%\u001b[0m • \u001b[32m12.0/12.0 kB\u001b[0m • \u001b[31m?\u001b[0m • \u001b[36m0:00:00\u001b[0m\n"
         },
         "metadata": {},
         "output_type": "display_data"
        }
       ],
       "tabbable": null,
       "tooltip": null
      }
     },
     "4c81a75f1e1f4487afcab6ef38aa63e1": {
      "model_module": "@jupyter-widgets/output",
      "model_module_version": "1.0.0",
      "model_name": "OutputModel",
      "state": {
       "_dom_classes": [],
       "_model_module": "@jupyter-widgets/output",
       "_model_module_version": "1.0.0",
       "_model_name": "OutputModel",
       "_view_count": null,
       "_view_module": "@jupyter-widgets/output",
       "_view_module_version": "1.0.0",
       "_view_name": "OutputView",
       "layout": "IPY_MODEL_d6e53c3b73ed40a6868218a717e78843",
       "msg_id": "",
       "outputs": [
        {
         "data": {
          "text/html": "<pre style=\"white-space:pre;overflow-x:auto;line-height:normal;font-family:Menlo,'DejaVu Sans Mono',consolas,'Courier New',monospace\"><span style=\"color: #800000; text-decoration-color: #800000; font-weight: bold\">↑</span> <span style=\"color: #000080; text-decoration-color: #000080; font-weight: bold\">simulation.json</span> <span style=\"color: #729c1f; text-decoration-color: #729c1f\">━━━━━━━━━━━━━━━━━━━━━━━━━━━━━━━━━━━━━━━━</span> <span style=\"color: #800080; text-decoration-color: #800080\">100.0%</span> • <span style=\"color: #008000; text-decoration-color: #008000\">11.4/11.4 kB</span> • <span style=\"color: #800000; text-decoration-color: #800000\">?</span> • <span style=\"color: #008080; text-decoration-color: #008080\">0:00:00</span>\n</pre>\n",
          "text/plain": "\u001b[1;31m↑\u001b[0m \u001b[1;34msimulation.json\u001b[0m \u001b[38;2;114;156;31m━━━━━━━━━━━━━━━━━━━━━━━━━━━━━━━━━━━━━━━━\u001b[0m \u001b[35m100.0%\u001b[0m • \u001b[32m11.4/11.4 kB\u001b[0m • \u001b[31m?\u001b[0m • \u001b[36m0:00:00\u001b[0m\n"
         },
         "metadata": {},
         "output_type": "display_data"
        }
       ],
       "tabbable": null,
       "tooltip": null
      }
     },
     "6c3c122f1cef41b08d48200b19e597c7": {
      "model_module": "@jupyter-widgets/output",
      "model_module_version": "1.0.0",
      "model_name": "OutputModel",
      "state": {
       "_dom_classes": [],
       "_model_module": "@jupyter-widgets/output",
       "_model_module_version": "1.0.0",
       "_model_name": "OutputModel",
       "_view_count": null,
       "_view_module": "@jupyter-widgets/output",
       "_view_module_version": "1.0.0",
       "_view_name": "OutputView",
       "layout": "IPY_MODEL_3b9fe98929bb4d09bfb886bb8e753dcf",
       "msg_id": "",
       "outputs": [
        {
         "data": {
          "text/html": "<pre style=\"white-space:pre;overflow-x:auto;line-height:normal;font-family:Menlo,'DejaVu Sans Mono',consolas,'Courier New',monospace\"><span style=\"color: #008000; text-decoration-color: #008000\">🚶 </span> <span style=\"color: #008000; text-decoration-color: #008000; font-weight: bold\">Finishing 'scattered waveguide'...</span>\n</pre>\n",
          "text/plain": "\u001b[32m🚶 \u001b[0m \u001b[1;32mFinishing 'scattered waveguide'...\u001b[0m\n"
         },
         "metadata": {},
         "output_type": "display_data"
        }
       ],
       "tabbable": null,
       "tooltip": null
      }
     },
     "846d4fb99594407bbffccfa7e4069efd": {
      "model_module": "@jupyter-widgets/base",
      "model_module_version": "2.0.0",
      "model_name": "LayoutModel",
      "state": {
       "_model_module": "@jupyter-widgets/base",
       "_model_module_version": "2.0.0",
       "_model_name": "LayoutModel",
       "_view_count": null,
       "_view_module": "@jupyter-widgets/base",
       "_view_module_version": "2.0.0",
       "_view_name": "LayoutView",
       "align_content": null,
       "align_items": null,
       "align_self": null,
       "border_bottom": null,
       "border_left": null,
       "border_right": null,
       "border_top": null,
       "bottom": null,
       "display": null,
       "flex": null,
       "flex_flow": null,
       "grid_area": null,
       "grid_auto_columns": null,
       "grid_auto_flow": null,
       "grid_auto_rows": null,
       "grid_column": null,
       "grid_gap": null,
       "grid_row": null,
       "grid_template_areas": null,
       "grid_template_columns": null,
       "grid_template_rows": null,
       "height": null,
       "justify_content": null,
       "justify_items": null,
       "left": null,
       "margin": null,
       "max_height": null,
       "max_width": null,
       "min_height": null,
       "min_width": null,
       "object_fit": null,
       "object_position": null,
       "order": null,
       "overflow": null,
       "padding": null,
       "right": null,
       "top": null,
       "visibility": null,
       "width": null
      }
     },
     "9091ece98911443382de91d15c0d6d81": {
      "model_module": "@jupyter-widgets/base",
      "model_module_version": "2.0.0",
      "model_name": "LayoutModel",
      "state": {
       "_model_module": "@jupyter-widgets/base",
       "_model_module_version": "2.0.0",
       "_model_name": "LayoutModel",
       "_view_count": null,
       "_view_module": "@jupyter-widgets/base",
       "_view_module_version": "2.0.0",
       "_view_name": "LayoutView",
       "align_content": null,
       "align_items": null,
       "align_self": null,
       "border_bottom": null,
       "border_left": null,
       "border_right": null,
       "border_top": null,
       "bottom": null,
       "display": null,
       "flex": null,
       "flex_flow": null,
       "grid_area": null,
       "grid_auto_columns": null,
       "grid_auto_flow": null,
       "grid_auto_rows": null,
       "grid_column": null,
       "grid_gap": null,
       "grid_row": null,
       "grid_template_areas": null,
       "grid_template_columns": null,
       "grid_template_rows": null,
       "height": null,
       "justify_content": null,
       "justify_items": null,
       "left": null,
       "margin": null,
       "max_height": null,
       "max_width": null,
       "min_height": null,
       "min_width": null,
       "object_fit": null,
       "object_position": null,
       "order": null,
       "overflow": null,
       "padding": null,
       "right": null,
       "top": null,
       "visibility": null,
       "width": null
      }
     },
     "9365842ec3cc49ac971c73987dc1da4b": {
      "model_module": "@jupyter-widgets/base",
      "model_module_version": "2.0.0",
      "model_name": "LayoutModel",
      "state": {
       "_model_module": "@jupyter-widgets/base",
       "_model_module_version": "2.0.0",
       "_model_name": "LayoutModel",
       "_view_count": null,
       "_view_module": "@jupyter-widgets/base",
       "_view_module_version": "2.0.0",
       "_view_name": "LayoutView",
       "align_content": null,
       "align_items": null,
       "align_self": null,
       "border_bottom": null,
       "border_left": null,
       "border_right": null,
       "border_top": null,
       "bottom": null,
       "display": null,
       "flex": null,
       "flex_flow": null,
       "grid_area": null,
       "grid_auto_columns": null,
       "grid_auto_flow": null,
       "grid_auto_rows": null,
       "grid_column": null,
       "grid_gap": null,
       "grid_row": null,
       "grid_template_areas": null,
       "grid_template_columns": null,
       "grid_template_rows": null,
       "height": null,
       "justify_content": null,
       "justify_items": null,
       "left": null,
       "margin": null,
       "max_height": null,
       "max_width": null,
       "min_height": null,
       "min_width": null,
       "object_fit": null,
       "object_position": null,
       "order": null,
       "overflow": null,
       "padding": null,
       "right": null,
       "top": null,
       "visibility": null,
       "width": null
      }
     },
     "98a2a6813ff84b9d9cb890a9c948d9c4": {
      "model_module": "@jupyter-widgets/output",
      "model_module_version": "1.0.0",
      "model_name": "OutputModel",
      "state": {
       "_dom_classes": [],
       "_model_module": "@jupyter-widgets/output",
       "_model_module_version": "1.0.0",
       "_model_name": "OutputModel",
       "_view_count": null,
       "_view_module": "@jupyter-widgets/output",
       "_view_module_version": "1.0.0",
       "_view_name": "OutputView",
       "layout": "IPY_MODEL_ff060c2a3f0c474db1eafd0c44b3e121",
       "msg_id": "",
       "outputs": [
        {
         "data": {
          "text/html": "<pre style=\"white-space:pre;overflow-x:auto;line-height:normal;font-family:Menlo,'DejaVu Sans Mono',consolas,'Courier New',monospace\"><span style=\"color: #008000; text-decoration-color: #008000\">🏃 </span> <span style=\"color: #008000; text-decoration-color: #008000; font-weight: bold\">Starting 'straight waveguide'...</span>\n</pre>\n",
          "text/plain": "\u001b[32m🏃 \u001b[0m \u001b[1;32mStarting 'straight waveguide'...\u001b[0m\n"
         },
         "metadata": {},
         "output_type": "display_data"
        }
       ],
       "tabbable": null,
       "tooltip": null
      }
     },
     "9d07bf39e0f34bfd89c5987773ab0f45": {
      "model_module": "@jupyter-widgets/base",
      "model_module_version": "2.0.0",
      "model_name": "LayoutModel",
      "state": {
       "_model_module": "@jupyter-widgets/base",
       "_model_module_version": "2.0.0",
       "_model_name": "LayoutModel",
       "_view_count": null,
       "_view_module": "@jupyter-widgets/base",
       "_view_module_version": "2.0.0",
       "_view_name": "LayoutView",
       "align_content": null,
       "align_items": null,
       "align_self": null,
       "border_bottom": null,
       "border_left": null,
       "border_right": null,
       "border_top": null,
       "bottom": null,
       "display": null,
       "flex": null,
       "flex_flow": null,
       "grid_area": null,
       "grid_auto_columns": null,
       "grid_auto_flow": null,
       "grid_auto_rows": null,
       "grid_column": null,
       "grid_gap": null,
       "grid_row": null,
       "grid_template_areas": null,
       "grid_template_columns": null,
       "grid_template_rows": null,
       "height": null,
       "justify_content": null,
       "justify_items": null,
       "left": null,
       "margin": null,
       "max_height": null,
       "max_width": null,
       "min_height": null,
       "min_width": null,
       "object_fit": null,
       "object_position": null,
       "order": null,
       "overflow": null,
       "padding": null,
       "right": null,
       "top": null,
       "visibility": null,
       "width": null
      }
     },
     "a9687d363ae44db19ec14f9d74a0172e": {
      "model_module": "@jupyter-widgets/base",
      "model_module_version": "2.0.0",
      "model_name": "LayoutModel",
      "state": {
       "_model_module": "@jupyter-widgets/base",
       "_model_module_version": "2.0.0",
       "_model_name": "LayoutModel",
       "_view_count": null,
       "_view_module": "@jupyter-widgets/base",
       "_view_module_version": "2.0.0",
       "_view_name": "LayoutView",
       "align_content": null,
       "align_items": null,
       "align_self": null,
       "border_bottom": null,
       "border_left": null,
       "border_right": null,
       "border_top": null,
       "bottom": null,
       "display": null,
       "flex": null,
       "flex_flow": null,
       "grid_area": null,
       "grid_auto_columns": null,
       "grid_auto_flow": null,
       "grid_auto_rows": null,
       "grid_column": null,
       "grid_gap": null,
       "grid_row": null,
       "grid_template_areas": null,
       "grid_template_columns": null,
       "grid_template_rows": null,
       "height": null,
       "justify_content": null,
       "justify_items": null,
       "left": null,
       "margin": null,
       "max_height": null,
       "max_width": null,
       "min_height": null,
       "min_width": null,
       "object_fit": null,
       "object_position": null,
       "order": null,
       "overflow": null,
       "padding": null,
       "right": null,
       "top": null,
       "visibility": null,
       "width": null
      }
     },
     "aa602db6429a445a9bc11356357f62b2": {
      "model_module": "@jupyter-widgets/output",
      "model_module_version": "1.0.0",
      "model_name": "OutputModel",
      "state": {
       "_dom_classes": [],
       "_model_module": "@jupyter-widgets/output",
       "_model_module_version": "1.0.0",
       "_model_name": "OutputModel",
       "_view_count": null,
       "_view_module": "@jupyter-widgets/output",
       "_view_module_version": "1.0.0",
       "_view_name": "OutputView",
       "layout": "IPY_MODEL_9365842ec3cc49ac971c73987dc1da4b",
       "msg_id": "",
       "outputs": [
        {
         "data": {
          "text/html": "<pre style=\"white-space:pre;overflow-x:auto;line-height:normal;font-family:Menlo,'DejaVu Sans Mono',consolas,'Courier New',monospace\">solver progress (field decay = 0.00e+00) <span style=\"color: #729c1f; text-decoration-color: #729c1f\">━━━━━━━━━━━━━━━━━━━━━━━━━━━━━━━━━━━━━━━━</span> <span style=\"color: #800080; text-decoration-color: #800080\">100%</span> <span style=\"color: #008080; text-decoration-color: #008080\">0:00:00</span>\n</pre>\n",
          "text/plain": "solver progress (field decay = 0.00e+00) \u001b[38;2;114;156;31m━━━━━━━━━━━━━━━━━━━━━━━━━━━━━━━━━━━━━━━━\u001b[0m \u001b[35m100%\u001b[0m \u001b[36m0:00:00\u001b[0m\n"
         },
         "metadata": {},
         "output_type": "display_data"
        }
       ],
       "tabbable": null,
       "tooltip": null
      }
     },
     "b46ab37462954099825ec4e63bbf4174": {
      "model_module": "@jupyter-widgets/output",
      "model_module_version": "1.0.0",
      "model_name": "OutputModel",
      "state": {
       "_dom_classes": [],
       "_model_module": "@jupyter-widgets/output",
       "_model_module_version": "1.0.0",
       "_model_name": "OutputModel",
       "_view_count": null,
       "_view_module": "@jupyter-widgets/output",
       "_view_module_version": "1.0.0",
       "_view_name": "OutputView",
       "layout": "IPY_MODEL_9091ece98911443382de91d15c0d6d81",
       "msg_id": "",
       "outputs": [
        {
         "data": {
          "text/html": "<pre style=\"white-space:pre;overflow-x:auto;line-height:normal;font-family:Menlo,'DejaVu Sans Mono',consolas,'Courier New',monospace\"><span style=\"color: #008000; text-decoration-color: #008000; font-weight: bold\">↓</span> <span style=\"color: #000080; text-decoration-color: #000080; font-weight: bold\">monitor_data.hdf5</span> <span style=\"color: #729c1f; text-decoration-color: #729c1f\">━━━━━━━━━━━━━━━━━━━━━━━━━━━━━━━━━━━━━━━━</span> <span style=\"color: #800080; text-decoration-color: #800080\">100.0%</span> • <span style=\"color: #008000; text-decoration-color: #008000\">9.3/9.3 MB</span> • <span style=\"color: #800000; text-decoration-color: #800000\">39.8 MB/s</span> • <span style=\"color: #008080; text-decoration-color: #008080\">0:00:00</span>\n</pre>\n",
          "text/plain": "\u001b[1;32m↓\u001b[0m \u001b[1;34mmonitor_data.hdf5\u001b[0m \u001b[38;2;114;156;31m━━━━━━━━━━━━━━━━━━━━━━━━━━━━━━━━━━━━━━━━\u001b[0m \u001b[35m100.0%\u001b[0m • \u001b[32m9.3/9.3 MB\u001b[0m • \u001b[31m39.8 MB/s\u001b[0m • \u001b[36m0:00:00\u001b[0m\n"
         },
         "metadata": {},
         "output_type": "display_data"
        }
       ],
       "tabbable": null,
       "tooltip": null
      }
     },
     "c16d4c1cdd214380b4d12af23811c552": {
      "model_module": "@jupyter-widgets/base",
      "model_module_version": "2.0.0",
      "model_name": "LayoutModel",
      "state": {
       "_model_module": "@jupyter-widgets/base",
       "_model_module_version": "2.0.0",
       "_model_name": "LayoutModel",
       "_view_count": null,
       "_view_module": "@jupyter-widgets/base",
       "_view_module_version": "2.0.0",
       "_view_name": "LayoutView",
       "align_content": null,
       "align_items": null,
       "align_self": null,
       "border_bottom": null,
       "border_left": null,
       "border_right": null,
       "border_top": null,
       "bottom": null,
       "display": null,
       "flex": null,
       "flex_flow": null,
       "grid_area": null,
       "grid_auto_columns": null,
       "grid_auto_flow": null,
       "grid_auto_rows": null,
       "grid_column": null,
       "grid_gap": null,
       "grid_row": null,
       "grid_template_areas": null,
       "grid_template_columns": null,
       "grid_template_rows": null,
       "height": null,
       "justify_content": null,
       "justify_items": null,
       "left": null,
       "margin": null,
       "max_height": null,
       "max_width": null,
       "min_height": null,
       "min_width": null,
       "object_fit": null,
       "object_position": null,
       "order": null,
       "overflow": null,
       "padding": null,
       "right": null,
       "top": null,
       "visibility": null,
       "width": null
      }
     },
     "d6e53c3b73ed40a6868218a717e78843": {
      "model_module": "@jupyter-widgets/base",
      "model_module_version": "2.0.0",
      "model_name": "LayoutModel",
      "state": {
       "_model_module": "@jupyter-widgets/base",
       "_model_module_version": "2.0.0",
       "_model_name": "LayoutModel",
       "_view_count": null,
       "_view_module": "@jupyter-widgets/base",
       "_view_module_version": "2.0.0",
       "_view_name": "LayoutView",
       "align_content": null,
       "align_items": null,
       "align_self": null,
       "border_bottom": null,
       "border_left": null,
       "border_right": null,
       "border_top": null,
       "bottom": null,
       "display": null,
       "flex": null,
       "flex_flow": null,
       "grid_area": null,
       "grid_auto_columns": null,
       "grid_auto_flow": null,
       "grid_auto_rows": null,
       "grid_column": null,
       "grid_gap": null,
       "grid_row": null,
       "grid_template_areas": null,
       "grid_template_columns": null,
       "grid_template_rows": null,
       "height": null,
       "justify_content": null,
       "justify_items": null,
       "left": null,
       "margin": null,
       "max_height": null,
       "max_width": null,
       "min_height": null,
       "min_width": null,
       "object_fit": null,
       "object_position": null,
       "order": null,
       "overflow": null,
       "padding": null,
       "right": null,
       "top": null,
       "visibility": null,
       "width": null
      }
     },
     "f12321a293d44436997378299fe720be": {
      "model_module": "@jupyter-widgets/output",
      "model_module_version": "1.0.0",
      "model_name": "OutputModel",
      "state": {
       "_dom_classes": [],
       "_model_module": "@jupyter-widgets/output",
       "_model_module_version": "1.0.0",
       "_model_name": "OutputModel",
       "_view_count": null,
       "_view_module": "@jupyter-widgets/output",
       "_view_module_version": "1.0.0",
       "_view_name": "OutputView",
       "layout": "IPY_MODEL_a9687d363ae44db19ec14f9d74a0172e",
       "msg_id": "",
       "outputs": [
        {
         "data": {
          "text/html": "<pre style=\"white-space:pre;overflow-x:auto;line-height:normal;font-family:Menlo,'DejaVu Sans Mono',consolas,'Courier New',monospace\"><span style=\"color: #008000; text-decoration-color: #008000; font-weight: bold\">↓</span> <span style=\"color: #000080; text-decoration-color: #000080; font-weight: bold\">monitor_data.hdf5</span> <span style=\"color: #729c1f; text-decoration-color: #729c1f\">━━━━━━━━━━━━━━━━━━━━━━━━━━━━━━━━━━━━━━━━</span> <span style=\"color: #800080; text-decoration-color: #800080\">100.0%</span> • <span style=\"color: #008000; text-decoration-color: #008000\">8.3/8.3 MB</span> • <span style=\"color: #800000; text-decoration-color: #800000\">32.7 MB/s</span> • <span style=\"color: #008080; text-decoration-color: #008080\">0:00:00</span>\n</pre>\n",
          "text/plain": "\u001b[1;32m↓\u001b[0m \u001b[1;34mmonitor_data.hdf5\u001b[0m \u001b[38;2;114;156;31m━━━━━━━━━━━━━━━━━━━━━━━━━━━━━━━━━━━━━━━━\u001b[0m \u001b[35m100.0%\u001b[0m • \u001b[32m8.3/8.3 MB\u001b[0m • \u001b[31m32.7 MB/s\u001b[0m • \u001b[36m0:00:00\u001b[0m\n"
         },
         "metadata": {},
         "output_type": "display_data"
        }
       ],
       "tabbable": null,
       "tooltip": null
      }
     },
     "f501d07a0d9744b3b5fb7b8788d77dfd": {
      "model_module": "@jupyter-widgets/base",
      "model_module_version": "2.0.0",
      "model_name": "LayoutModel",
      "state": {
       "_model_module": "@jupyter-widgets/base",
       "_model_module_version": "2.0.0",
       "_model_name": "LayoutModel",
       "_view_count": null,
       "_view_module": "@jupyter-widgets/base",
       "_view_module_version": "2.0.0",
       "_view_name": "LayoutView",
       "align_content": null,
       "align_items": null,
       "align_self": null,
       "border_bottom": null,
       "border_left": null,
       "border_right": null,
       "border_top": null,
       "bottom": null,
       "display": null,
       "flex": null,
       "flex_flow": null,
       "grid_area": null,
       "grid_auto_columns": null,
       "grid_auto_flow": null,
       "grid_auto_rows": null,
       "grid_column": null,
       "grid_gap": null,
       "grid_row": null,
       "grid_template_areas": null,
       "grid_template_columns": null,
       "grid_template_rows": null,
       "height": null,
       "justify_content": null,
       "justify_items": null,
       "left": null,
       "margin": null,
       "max_height": null,
       "max_width": null,
       "min_height": null,
       "min_width": null,
       "object_fit": null,
       "object_position": null,
       "order": null,
       "overflow": null,
       "padding": null,
       "right": null,
       "top": null,
       "visibility": null,
       "width": null
      }
     },
     "ff060c2a3f0c474db1eafd0c44b3e121": {
      "model_module": "@jupyter-widgets/base",
      "model_module_version": "2.0.0",
      "model_name": "LayoutModel",
      "state": {
       "_model_module": "@jupyter-widgets/base",
       "_model_module_version": "2.0.0",
       "_model_name": "LayoutModel",
       "_view_count": null,
       "_view_module": "@jupyter-widgets/base",
       "_view_module_version": "2.0.0",
       "_view_name": "LayoutView",
       "align_content": null,
       "align_items": null,
       "align_self": null,
       "border_bottom": null,
       "border_left": null,
       "border_right": null,
       "border_top": null,
       "bottom": null,
       "display": null,
       "flex": null,
       "flex_flow": null,
       "grid_area": null,
       "grid_auto_columns": null,
       "grid_auto_flow": null,
       "grid_auto_rows": null,
       "grid_column": null,
       "grid_gap": null,
       "grid_row": null,
       "grid_template_areas": null,
       "grid_template_columns": null,
       "grid_template_rows": null,
       "height": null,
       "justify_content": null,
       "justify_items": null,
       "left": null,
       "margin": null,
       "max_height": null,
       "max_width": null,
       "min_height": null,
       "min_width": null,
       "object_fit": null,
       "object_position": null,
       "order": null,
       "overflow": null,
       "padding": null,
       "right": null,
       "top": null,
       "visibility": null,
       "width": null
      }
     }
    },
    "version_major": 2,
    "version_minor": 0
   }
  }
 },
 "nbformat": 4,
 "nbformat_minor": 5
}
