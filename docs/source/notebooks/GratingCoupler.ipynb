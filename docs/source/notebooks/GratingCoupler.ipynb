{
 "cells": [
  {
   "cell_type": "markdown",
   "metadata": {},
   "source": [
    "# Grating coupler\n",
    "\n",
    "Run this notebook in your browser using [Binder](https://mybinder.org/v2/gh/flexcompute-readthedocs/tidy3d-docs/readthedocs?labpath=docs%2Fsource%2Fnotebooks%2FGratingCoupler.ipynb)."
   ]
  },
  {
   "cell_type": "code",
   "execution_count": null,
   "metadata": {
    "tags": []
   },
   "outputs": [],
   "source": [
    "# basic imports\n",
    "import numpy as np\n",
    "import matplotlib.pylab as plt\n",
    "\n",
    "# tidy3d imports\n",
    "import tidy3d as td\n",
    "import tidy3d.web as web"
   ]
  },
  {
   "cell_type": "markdown",
   "metadata": {},
   "source": [
    "## Problem Setup\n",
    "\n",
    "In this example, we model a 3D grating coupler in a Silicon on Insulator (SOI) platform.\n",
    "\n",
    "A basic schematic of the design is shown below.  The simulation is about 19um x 4um x 5um with a wavelength of 1.55um and takes about 1 minute to simulate 10,000 time steps.\n",
    "\n",
    "In the simulation, we inject a modal source into the waveguide and propagate it towards the grating structure.  The radiation from the grating coupler is then measured with a near field monitor and we use a far field projection to inspect the angular dependence of the radiation.\n",
    "\n",
    "<img src=\"img/grating_coupler.png\" width=600>"
   ]
  },
  {
   "cell_type": "code",
   "execution_count": null,
   "metadata": {
    "tags": []
   },
   "outputs": [],
   "source": [
    "# basic parameters (note, all length units are microns)\n",
    "nm = 1e-3\n",
    "wavelength = 1550 * nm\n",
    "\n",
    "# resolution\n",
    "grids_per_wavelength = 50.0\n",
    "dl = wavelength / grids_per_wavelength\n",
    "\n",
    "# waveguide\n",
    "wg_width = 400 * nm\n",
    "wg_height = 220 * nm\n",
    "wg_length = 2 * wavelength\n",
    "\n",
    "# surrounding\n",
    "sub_height = 2.0\n",
    "air_height = 2.0\n",
    "buffer = 0.5 * wavelength\n",
    "\n",
    "# coupler\n",
    "cp_width = 4 * wavelength\n",
    "cp_length = 8 * wavelength\n",
    "taper_length = 6 * wavelength"
   ]
  },
  {
   "cell_type": "code",
   "execution_count": null,
   "metadata": {
    "tags": []
   },
   "outputs": [],
   "source": [
    "# sizes\n",
    "Lx = buffer + wg_length + taper_length + cp_length\n",
    "Ly = buffer + cp_width + buffer\n",
    "Lz = sub_height + wg_height + air_height\n",
    "sim_size = [Lx, Ly, Lz]\n",
    "\n",
    "# convenience variables to store center of coupler and waveguide\n",
    "wg_center_x = +Lx/2 - buffer - (wg_length + taper_length)/2\n",
    "cp_center_x = -Lx/2 + buffer + cp_length/2\n",
    "wg_center_z = -Lz/2 + sub_height + wg_height/2\n",
    "cp_center_z = -Lz/2 + sub_height + wg_height/2\n",
    "\n",
    "# materials\n",
    "Air = td.Medium(permittivity=1.0)\n",
    "Si = td.Medium(permittivity=3.47**2)\n",
    "SiO2 = td.Medium(permittivity=1.44**2)\n",
    "\n",
    "# source parameters\n",
    "freq0 = td.C_0 / wavelength\n",
    "fwidth = freq0 / 10\n",
    "run_time = 100 / fwidth"
   ]
  },
  {
   "cell_type": "markdown",
   "metadata": {},
   "source": [
    "## Mode Solve\n",
    "To determine the pitch of the waveguide for a given design angle, we need to compute the effective index of the waveguide mode being coupled into.  For this, we set up a simple simulation of the coupler region and use the mode solver to get the effective index. We will not run this simulation, we just add a ``ModeMonitor`` object in order to call the mode solver, ``sim.compute_modes()`` below, and get the effective index of the wide-waveguide region."
   ]
  },
  {
   "cell_type": "code",
   "execution_count": null,
   "metadata": {
    "tags": []
   },
   "outputs": [],
   "source": [
    "# grating parameters\n",
    "design_theta_deg = -30\n",
    "design_theta_rad = np.pi * design_theta_deg / 180\n",
    "grating_height = 70 * nm\n",
    "\n",
    "# do a mode solve to get neff of the coupler\n",
    "\n",
    "sub = td.Structure(\n",
    "    geometry=td.Box(\n",
    "        center=[0, 0, -Lz/2],\n",
    "        size=[td.inf, td.inf, 2 * sub_height]\n",
    "    ),\n",
    "    medium=SiO2,\n",
    "    name='substrate')\n",
    "\n",
    "cp = td.Structure(\n",
    "    geometry=td.Box(\n",
    "        center=[0, 0, cp_center_z-grating_height/4],\n",
    "        size=[td.inf, cp_width, wg_height-grating_height/2]\n",
    "    ),\n",
    "    medium=Si,\n",
    "    name='coupler')\n",
    "\n",
    "mode_plane = td.Box(\n",
    "    center=(0,0,0),\n",
    "    size=(0, 8*cp_width, 8*wg_height)\n",
    ")\n",
    "\n",
    "\n",
    "sim = td.Simulation(\n",
    "    size=sim_size,\n",
    "    grid_size=[dl, dl, dl],\n",
    "    structures=[sub, cp],\n",
    "    sources=[],\n",
    "    monitors=[],\n",
    "    pml_layers=3*[td.PML()])\n",
    "\n",
    "f, (ax1, ax2, ax3) = plt.subplots(1, 3, tight_layout=True, figsize=(15, 3))\n",
    "sim.plot(x=0, ax=ax1)\n",
    "sim.plot(y=0, ax=ax2)\n",
    "sim.plot(z=0, ax=ax3)"
   ]
  },
  {
   "cell_type": "markdown",
   "metadata": {},
   "source": [
    "## Compute Effective index for Grating Pitch Design"
   ]
  },
  {
   "cell_type": "code",
   "execution_count": null,
   "metadata": {},
   "outputs": [],
   "source": [
    "from tidy3d.plugins import ModeSolver\n",
    "ms = ModeSolver(simulation=sim, plane=mode_plane, freq=freq0)\n",
    "mode_output = ms.solve(td.ModeSpec())[0]"
   ]
  },
  {
   "cell_type": "code",
   "execution_count": null,
   "metadata": {},
   "outputs": [],
   "source": [
    "f, (ax1, ax2, ax3) = plt.subplots(1, 3, tight_layout=True, figsize=(15, 3))\n",
    "mode_output.field_data.Ex.real.plot(x='y', y='z', ax=ax1)\n",
    "mode_output.field_data.Ey.real.plot(x='y', y='z', ax=ax2)\n",
    "mode_output.field_data.Ez.real.plot(x='y', y='z', ax=ax3)\n",
    "ax1.set_title('Ex')\n",
    "ax2.set_title('Ey')\n",
    "ax3.set_title('Ez')\n",
    "plt.show()"
   ]
  },
  {
   "cell_type": "code",
   "execution_count": null,
   "metadata": {},
   "outputs": [],
   "source": [
    "neff = mode_output.n_eff\n",
    "print(f'effective index = {neff:.4f}')"
   ]
  },
  {
   "cell_type": "markdown",
   "metadata": {},
   "source": [
    "## Create Simulation\n",
    "Now we set up the grating coupler to simulate in Tidy3D."
   ]
  },
  {
   "cell_type": "code",
   "execution_count": null,
   "metadata": {
    "tags": []
   },
   "outputs": [],
   "source": [
    "# gratings\n",
    "pitch = wavelength / (neff - np.sin(abs(design_theta_rad)))\n",
    "grating_length = pitch / 2.0\n",
    "num_gratings = int(cp_length / pitch)\n",
    "\n",
    "sub = td.Structure(\n",
    "    geometry=td.Box(\n",
    "        center=[0, 0, -Lz/2],\n",
    "        size=[td.inf, td.inf, 2 * sub_height],\n",
    "    ),\n",
    "    medium=SiO2,\n",
    "    name='substrate')\n",
    "\n",
    "wg = td.Structure(\n",
    "    geometry=td.Box(\n",
    "        center=[wg_center_x, 0, wg_center_z],\n",
    "        size=[buffer + wg_length + taper_length + cp_length/2, wg_width, wg_height],\n",
    "    ),\n",
    "    medium=Si,\n",
    "    name='waveguide')\n",
    "\n",
    "cp = td.Structure(\n",
    "    geometry=td.Box(\n",
    "        center=[cp_center_x, 0, cp_center_z],\n",
    "        size=[cp_length, cp_width, wg_height],\n",
    "    ),\n",
    "    medium=Si,\n",
    "    name='coupler')\n",
    "\n",
    "tp = td.Structure(\n",
    "    geometry=td.PolySlab(\n",
    "    vertices=[\n",
    "        [cp_center_x + cp_length/2 + taper_length, + wg_width/2],\n",
    "        [cp_center_x + cp_length/2 + taper_length, - wg_width/2],\n",
    "        [cp_center_x + cp_length/2, - cp_width/2],\n",
    "        [cp_center_x + cp_length/2, + cp_width/2]],\n",
    "        slab_bounds=(wg_center_z-wg_height/2, wg_center_z+wg_height/2),\n",
    "        axis=2,\n",
    "    ),\n",
    "    medium=Si,\n",
    "    name='taper')\n",
    "\n",
    "grating_left_x = cp_center_x - cp_length/2\n",
    "gratings = [\n",
    "    td.Structure(\n",
    "        geometry=td.Box(\n",
    "            center=[grating_left_x + (i + 0.5) * pitch, 0, cp_center_z + wg_height/2 - grating_height/2],\n",
    "            size=[grating_length, cp_width, grating_height],\n",
    "        ),\n",
    "        medium=Air,\n",
    "        name=f'{i}th_grating')\n",
    "    for i in range(num_gratings)]"
   ]
  },
  {
   "cell_type": "code",
   "execution_count": null,
   "metadata": {
    "tags": []
   },
   "outputs": [],
   "source": [
    "# distance to near field monitor\n",
    "nf_offset = 50 * nm\n",
    "\n",
    "plane_monitor = td.FieldMonitor(\n",
    "    center=[0, 0, cp_center_z],\n",
    "    size=[td.inf, td.inf, 0],\n",
    "    freqs=[freq0],\n",
    "    name='full_domain_fields')\n",
    "\n",
    "rad_monitor = td.FieldMonitor(\n",
    "    center=[0, 0, 0],\n",
    "    size=[td.inf, 0, td.inf],\n",
    "    freqs=[freq0],\n",
    "    name='radiated_fields')\n",
    "\n",
    "near_field_monitor = td.FieldMonitor(\n",
    "    center=[cp_center_x, 0, cp_center_z + wg_height/2 + nf_offset],\n",
    "    size=[td.inf, td.inf, 0],\n",
    "    freqs=[freq0],\n",
    "    name='radiated_near_fields')"
   ]
  },
  {
   "cell_type": "code",
   "execution_count": null,
   "metadata": {
    "tags": []
   },
   "outputs": [],
   "source": [
    "sim = td.Simulation(\n",
    "    size=sim_size,\n",
    "    grid_size=[dl, dl, dl],\n",
    "    structures=[sub, wg, cp, tp] + gratings,\n",
    "    sources=[],\n",
    "    monitors=[plane_monitor, rad_monitor, near_field_monitor],\n",
    "    run_time=run_time,\n",
    "    pml_layers=3*[td.PML()])"
   ]
  },
  {
   "cell_type": "markdown",
   "metadata": {},
   "source": [
    "### Make Modal Source"
   ]
  },
  {
   "cell_type": "code",
   "execution_count": null,
   "metadata": {},
   "outputs": [],
   "source": [
    "source_plane = td.Box(\n",
    "    center=[Lx/2 - buffer, 0, cp_center_z],\n",
    "    size=[0, 8*wg_width, 8*wg_height],\n",
    ")\n",
    "\n",
    "ms = ModeSolver(sim, source_plane, freq0)\n",
    "mode_output = ms.solve(td.ModeSpec())[0]\n",
    "\n",
    "f, (ax1, ax2, ax3) = plt.subplots(1, 3, tight_layout=True, figsize=(15, 3))\n",
    "mode_output.field_data.Ex.real.plot(x='y', y='z', ax=ax1)\n",
    "mode_output.field_data.Ey.real.plot(x='y', y='z', ax=ax2)\n",
    "mode_output.field_data.Ez.real.plot(x='y', y='z', ax=ax3)\n",
    "ax1.set_title('Ex')\n",
    "ax2.set_title('Ey')\n",
    "ax3.set_title('Ez')\n",
    "plt.show()"
   ]
  },
  {
   "cell_type": "code",
   "execution_count": null,
   "metadata": {},
   "outputs": [],
   "source": [
    "mode_src = ms.to_source(mode_spec=td.ModeSpec(), mode_index=0, direction='-', fwidth=fwidth)\n",
    "sim.sources.append(mode_src)"
   ]
  },
  {
   "cell_type": "code",
   "execution_count": null,
   "metadata": {
    "tags": []
   },
   "outputs": [],
   "source": [
    "fig, (ax1, ax2, ax3) = plt.subplots(1, 3, tight_layout=True, figsize=(14, 3))\n",
    "sim.plot(x=0, ax=ax1)\n",
    "sim.plot(y=0.01, ax=ax2)\n",
    "sim.plot(z=0.1, ax=ax3)\n",
    "plt.show()"
   ]
  },
  {
   "cell_type": "code",
   "execution_count": null,
   "metadata": {},
   "outputs": [],
   "source": [
    "mode_src.help()"
   ]
  },
  {
   "cell_type": "markdown",
   "metadata": {},
   "source": [
    "## Run Simulation\n",
    "\n",
    "Run the simulation and plot the field patterns"
   ]
  },
  {
   "cell_type": "code",
   "execution_count": null,
   "metadata": {
    "tags": []
   },
   "outputs": [],
   "source": [
    "# create a project, upload to our server to run\n",
    "job = web.Job(simulation=sim, task_name='grating_coupler')\n",
    "sim_data = job.run(path='data/grating_coupler.hdf5')\n",
    "print(sim_data.log)"
   ]
  },
  {
   "cell_type": "code",
   "execution_count": null,
   "metadata": {
    "tags": []
   },
   "outputs": [],
   "source": [
    "fig, (ax1, ax2, ax3) = plt.subplots(3, 1, tight_layout=True, figsize=(14, 16))\n",
    "sim_data.plot_field('full_domain_fields', 'Ey', freq=freq0, z=0, ax=ax1)\n",
    "sim_data.plot_field('radiated_near_fields', 'Ey', freq=freq0, z=0, ax=ax2)\n",
    "sim_data.plot_field('radiated_fields', 'Ey', freq=freq0, y=0, ax=ax3)"
   ]
  },
  {
   "cell_type": "markdown",
   "metadata": {},
   "source": [
    "## Far Field Projection\n",
    "Now we use the Near2Far feature of Tidy3D to compute the anglular dependence of the far field scattering based on the near field monitor."
   ]
  },
  {
   "cell_type": "code",
   "execution_count": null,
   "metadata": {
    "tags": []
   },
   "outputs": [],
   "source": [
    "from tidy3d.plugins import Near2Far, Near2FarSurface"
   ]
  },
  {
   "cell_type": "code",
   "execution_count": null,
   "metadata": {},
   "outputs": [],
   "source": [
    "# create range of angles to probe (note: polar coordinates, theta = 0 corresponds to vertical (z axis))\n",
    "num_angles = 1101\n",
    "thetas = np.linspace(-np.pi/2, np.pi/2, num_angles)\n",
    "\n",
    "# make a near field to far field projector with the near field monitor data\n",
    "\n",
    "near_field_surface = Near2FarSurface(monitor=near_field_monitor, normal_dir=\"+\")\n",
    "n2f = Near2Far(sim_data=sim_data, surfaces=[near_field_surface], frequency=freq0)\n",
    "\n",
    "# Compute the scattered cross section\n",
    "Ps = n2f.radar_cross_section(thetas, 0.0).values"
   ]
  },
  {
   "cell_type": "code",
   "execution_count": null,
   "metadata": {},
   "outputs": [],
   "source": [
    "# plot the angle dependence\n",
    "fig, ax = plt.subplots(subplot_kw={'projection': 'polar'}, figsize=(5,5))\n",
    "ax.plot(thetas, Ps, label='measured')\n",
    "ax.plot([design_theta_rad, design_theta_rad], [0, np.max(Ps)*0.7], 'r--', alpha=0.8, label='design angle')\n",
    "ax.set_theta_zero_location(\"N\")\n",
    "ax.set_theta_direction(-1)\n",
    "ax.set_yticklabels([])\n",
    "ax.set_title(\"Scattered Cross-section (arb. units)\", va='bottom')\n",
    "plt.legend()\n",
    "plt.show()"
   ]
  },
  {
   "cell_type": "code",
   "execution_count": null,
   "metadata": {},
   "outputs": [],
   "source": [
    "print(f'expect angle of {(design_theta_rad * 180 / np.pi):.2f} degrees')\n",
    "i_max = np.argmax(Ps)\n",
    "print(f'got maximum angle of {(thetas[i_max] * 180 / np.pi):.2f} degrees')"
   ]
  },
  {
   "cell_type": "markdown",
   "metadata": {},
   "source": [
    "The agreement between the target angle and the actual emission angle of the coupler is very good. The small difference comes from the fact that the design is very sensitive to the value of the effective index that we use in the coupler region, and that value depends on which waveguide height we pick in that region: the one with the grating comb, or without. In our setup, we used a thickness that is at the mid-point, but this is a heuristic choice which results in the small final mismatch in angles observed here."
   ]
  },
  {
   "cell_type": "markdown",
   "metadata": {},
   "source": [
    "## Gaussian beam into the coupler\n",
    "\n",
    "We can also run the coupler in the opposite way, injecting a Gaussian beam from above and monitoring the transmission into the waveguide."
   ]
  },
  {
   "cell_type": "code",
   "execution_count": null,
   "metadata": {},
   "outputs": [],
   "source": [
    "gaussian_beam = td.GaussianBeam(\n",
    "    size=(td.inf, td.inf, 0),\n",
    "    center=[-8, 0, 2],\n",
    "    source_time=td.GaussianPulse(freq0=freq0, fwidth=fwidth),\n",
    "    angle_theta=np.pi/6,\n",
    "    angle_phi=np.pi,\n",
    "    direction='-',\n",
    "    waist_radius=2,\n",
    "    pol_angle=np.pi/2)\n",
    "\n",
    "mode_mon = ms.to_monitor(freqs=[freq0], mode_spec=td.ModeSpec(), name='coupled')\n",
    "\n",
    "flux_mon = td.FluxMonitor(\n",
    "    size=mode_mon.size,\n",
    "    center=mode_mon.center,\n",
    "    freqs=[freq0],\n",
    "    name='flux',\n",
    ")\n",
    "\n",
    "\n",
    "sim2 = td.Simulation(\n",
    "    size=sim_size,\n",
    "    grid_size=[dl, dl, dl],\n",
    "    structures=[sub, wg, cp, tp] + gratings,\n",
    "    sources=[gaussian_beam],\n",
    "    monitors=[plane_monitor, rad_monitor, mode_mon, flux_mon],\n",
    "    run_time=run_time,\n",
    "    pml_layers=3*[td.PML()])"
   ]
  },
  {
   "cell_type": "code",
   "execution_count": null,
   "metadata": {},
   "outputs": [],
   "source": [
    "fig, (ax1, ax2, ax3) = plt.subplots(1, 3, tight_layout=True, figsize=(14, 3))\n",
    "sim2.plot(x=0, ax=ax1)\n",
    "sim2.plot(y=0.01, ax=ax2)\n",
    "sim2.plot(z=0.1, ax=ax3)\n",
    "plt.show()"
   ]
  },
  {
   "cell_type": "code",
   "execution_count": null,
   "metadata": {},
   "outputs": [],
   "source": [
    "job2 = web.Job(simulation=sim2, task_name='grating_coupler_beam')\n",
    "sim_data2 = job2.run(path='data/grating_coupler.hdf5')\n",
    "print(sim_data2.log)"
   ]
  },
  {
   "cell_type": "code",
   "execution_count": null,
   "metadata": {},
   "outputs": [],
   "source": [
    "fig, (ax1, ax2) = plt.subplots(2, 1, tight_layout=True, figsize=(14, 16))\n",
    "sim_data2.plot_field('full_domain_fields', 'Ey', freq=freq0, z=0, ax=ax1)\n",
    "sim_data2.plot_field('radiated_fields', 'Ey', freq=freq0, y=0, ax=ax2)\n",
    "plt.show()"
   ]
  },
  {
   "cell_type": "code",
   "execution_count": null,
   "metadata": {},
   "outputs": [],
   "source": [
    "flux = sim_data2['flux']\n",
    "print(f'flux in waveguide / flux in = {float(flux.values):.2f} ')"
   ]
  },
  {
   "cell_type": "markdown",
   "metadata": {},
   "source": [
    "The coupler has 5% in-coupling efficiency, and we did not put any effort into optimizing it beyond just defining the grating pitch to target the correct angle!"
   ]
  }
 ],
 "metadata": {
  "kernelspec": {
   "display_name": "tidy3d",
   "language": "python",
   "name": "tidy3d"
  },
  "language_info": {
   "codemirror_mode": {
    "name": "ipython",
    "version": 3
   },
   "file_extension": ".py",
   "mimetype": "text/x-python",
   "name": "python",
   "nbconvert_exporter": "python",
   "pygments_lexer": "ipython3",
   "version": "3.8.10"
  },
  "widgets": {
   "application/vnd.jupyter.widget-state+json": {
    "state": {
     "0c35925bc8644710b94d1f81a5040bf6": {
      "model_module": "@jupyter-widgets/output",
      "model_module_version": "1.0.0",
      "model_name": "OutputModel",
      "state": {
       "_dom_classes": [],
       "_model_module": "@jupyter-widgets/output",
       "_model_module_version": "1.0.0",
       "_model_name": "OutputModel",
       "_view_count": null,
       "_view_module": "@jupyter-widgets/output",
       "_view_module_version": "1.0.0",
       "_view_name": "OutputView",
       "layout": "IPY_MODEL_6015a8a7133e48d9be1084b6a522e9f3",
       "msg_id": "",
       "outputs": []
      }
     },
     "2455d3ff632d4c19b8dfbae630ac97e4": {
      "model_module": "@jupyter-widgets/output",
      "model_module_version": "1.0.0",
      "model_name": "OutputModel",
      "state": {
       "_dom_classes": [],
       "_model_module": "@jupyter-widgets/output",
       "_model_module_version": "1.0.0",
       "_model_name": "OutputModel",
       "_view_count": null,
       "_view_module": "@jupyter-widgets/output",
       "_view_module_version": "1.0.0",
       "_view_name": "OutputView",
       "layout": "IPY_MODEL_867fdee1936e4723b6243e4fad342057",
       "msg_id": "",
       "outputs": []
      }
     },
     "4194e5137c524de883be799f7243a8cb": {
      "model_module": "@jupyter-widgets/base",
      "model_module_version": "1.2.0",
      "model_name": "LayoutModel",
      "state": {
       "_model_module": "@jupyter-widgets/base",
       "_model_module_version": "1.2.0",
       "_model_name": "LayoutModel",
       "_view_count": null,
       "_view_module": "@jupyter-widgets/base",
       "_view_module_version": "1.2.0",
       "_view_name": "LayoutView",
       "align_content": null,
       "align_items": null,
       "align_self": null,
       "border": null,
       "bottom": null,
       "display": null,
       "flex": null,
       "flex_flow": null,
       "grid_area": null,
       "grid_auto_columns": null,
       "grid_auto_flow": null,
       "grid_auto_rows": null,
       "grid_column": null,
       "grid_gap": null,
       "grid_row": null,
       "grid_template_areas": null,
       "grid_template_columns": null,
       "grid_template_rows": null,
       "height": null,
       "justify_content": null,
       "justify_items": null,
       "left": null,
       "margin": null,
       "max_height": null,
       "max_width": null,
       "min_height": null,
       "min_width": null,
       "object_fit": null,
       "object_position": null,
       "order": null,
       "overflow": null,
       "overflow_x": null,
       "overflow_y": null,
       "padding": null,
       "right": null,
       "top": null,
       "visibility": null,
       "width": null
      }
     },
     "4b2a4c881bb8448ea220ad97f3df8fbf": {
      "model_module": "@jupyter-widgets/output",
      "model_module_version": "1.0.0",
      "model_name": "OutputModel",
      "state": {
       "_dom_classes": [],
       "_model_module": "@jupyter-widgets/output",
       "_model_module_version": "1.0.0",
       "_model_name": "OutputModel",
       "_view_count": null,
       "_view_module": "@jupyter-widgets/output",
       "_view_module_version": "1.0.0",
       "_view_name": "OutputView",
       "layout": "IPY_MODEL_e3a79022f30a45459ef351a503db6613",
       "msg_id": "",
       "outputs": []
      }
     },
     "4e97681341b543eaab58a30b5d9a50e8": {
      "model_module": "@jupyter-widgets/output",
      "model_module_version": "1.0.0",
      "model_name": "OutputModel",
      "state": {
       "_dom_classes": [],
       "_model_module": "@jupyter-widgets/output",
       "_model_module_version": "1.0.0",
       "_model_name": "OutputModel",
       "_view_count": null,
       "_view_module": "@jupyter-widgets/output",
       "_view_module_version": "1.0.0",
       "_view_name": "OutputView",
       "layout": "IPY_MODEL_62aee86f41544dbf86dc3ca04a3b537c",
       "msg_id": "",
       "outputs": []
      }
     },
     "6015a8a7133e48d9be1084b6a522e9f3": {
      "model_module": "@jupyter-widgets/base",
      "model_module_version": "1.2.0",
      "model_name": "LayoutModel",
      "state": {
       "_model_module": "@jupyter-widgets/base",
       "_model_module_version": "1.2.0",
       "_model_name": "LayoutModel",
       "_view_count": null,
       "_view_module": "@jupyter-widgets/base",
       "_view_module_version": "1.2.0",
       "_view_name": "LayoutView",
       "align_content": null,
       "align_items": null,
       "align_self": null,
       "border": null,
       "bottom": null,
       "display": null,
       "flex": null,
       "flex_flow": null,
       "grid_area": null,
       "grid_auto_columns": null,
       "grid_auto_flow": null,
       "grid_auto_rows": null,
       "grid_column": null,
       "grid_gap": null,
       "grid_row": null,
       "grid_template_areas": null,
       "grid_template_columns": null,
       "grid_template_rows": null,
       "height": null,
       "justify_content": null,
       "justify_items": null,
       "left": null,
       "margin": null,
       "max_height": null,
       "max_width": null,
       "min_height": null,
       "min_width": null,
       "object_fit": null,
       "object_position": null,
       "order": null,
       "overflow": null,
       "overflow_x": null,
       "overflow_y": null,
       "padding": null,
       "right": null,
       "top": null,
       "visibility": null,
       "width": null
      }
     },
     "62aee86f41544dbf86dc3ca04a3b537c": {
      "model_module": "@jupyter-widgets/base",
      "model_module_version": "1.2.0",
      "model_name": "LayoutModel",
      "state": {
       "_model_module": "@jupyter-widgets/base",
       "_model_module_version": "1.2.0",
       "_model_name": "LayoutModel",
       "_view_count": null,
       "_view_module": "@jupyter-widgets/base",
       "_view_module_version": "1.2.0",
       "_view_name": "LayoutView",
       "align_content": null,
       "align_items": null,
       "align_self": null,
       "border": null,
       "bottom": null,
       "display": null,
       "flex": null,
       "flex_flow": null,
       "grid_area": null,
       "grid_auto_columns": null,
       "grid_auto_flow": null,
       "grid_auto_rows": null,
       "grid_column": null,
       "grid_gap": null,
       "grid_row": null,
       "grid_template_areas": null,
       "grid_template_columns": null,
       "grid_template_rows": null,
       "height": null,
       "justify_content": null,
       "justify_items": null,
       "left": null,
       "margin": null,
       "max_height": null,
       "max_width": null,
       "min_height": null,
       "min_width": null,
       "object_fit": null,
       "object_position": null,
       "order": null,
       "overflow": null,
       "overflow_x": null,
       "overflow_y": null,
       "padding": null,
       "right": null,
       "top": null,
       "visibility": null,
       "width": null
      }
     },
     "867fdee1936e4723b6243e4fad342057": {
      "model_module": "@jupyter-widgets/base",
      "model_module_version": "1.2.0",
      "model_name": "LayoutModel",
      "state": {
       "_model_module": "@jupyter-widgets/base",
       "_model_module_version": "1.2.0",
       "_model_name": "LayoutModel",
       "_view_count": null,
       "_view_module": "@jupyter-widgets/base",
       "_view_module_version": "1.2.0",
       "_view_name": "LayoutView",
       "align_content": null,
       "align_items": null,
       "align_self": null,
       "border": null,
       "bottom": null,
       "display": null,
       "flex": null,
       "flex_flow": null,
       "grid_area": null,
       "grid_auto_columns": null,
       "grid_auto_flow": null,
       "grid_auto_rows": null,
       "grid_column": null,
       "grid_gap": null,
       "grid_row": null,
       "grid_template_areas": null,
       "grid_template_columns": null,
       "grid_template_rows": null,
       "height": null,
       "justify_content": null,
       "justify_items": null,
       "left": null,
       "margin": null,
       "max_height": null,
       "max_width": null,
       "min_height": null,
       "min_width": null,
       "object_fit": null,
       "object_position": null,
       "order": null,
       "overflow": null,
       "overflow_x": null,
       "overflow_y": null,
       "padding": null,
       "right": null,
       "top": null,
       "visibility": null,
       "width": null
      }
     },
     "d12de00824cc48d59ba6cb704e9d570e": {
      "model_module": "@jupyter-widgets/output",
      "model_module_version": "1.0.0",
      "model_name": "OutputModel",
      "state": {
       "_dom_classes": [],
       "_model_module": "@jupyter-widgets/output",
       "_model_module_version": "1.0.0",
       "_model_name": "OutputModel",
       "_view_count": null,
       "_view_module": "@jupyter-widgets/output",
       "_view_module_version": "1.0.0",
       "_view_name": "OutputView",
       "layout": "IPY_MODEL_4194e5137c524de883be799f7243a8cb",
       "msg_id": "",
       "outputs": []
      }
     },
     "e3a79022f30a45459ef351a503db6613": {
      "model_module": "@jupyter-widgets/base",
      "model_module_version": "1.2.0",
      "model_name": "LayoutModel",
      "state": {
       "_model_module": "@jupyter-widgets/base",
       "_model_module_version": "1.2.0",
       "_model_name": "LayoutModel",
       "_view_count": null,
       "_view_module": "@jupyter-widgets/base",
       "_view_module_version": "1.2.0",
       "_view_name": "LayoutView",
       "align_content": null,
       "align_items": null,
       "align_self": null,
       "border": null,
       "bottom": null,
       "display": null,
       "flex": null,
       "flex_flow": null,
       "grid_area": null,
       "grid_auto_columns": null,
       "grid_auto_flow": null,
       "grid_auto_rows": null,
       "grid_column": null,
       "grid_gap": null,
       "grid_row": null,
       "grid_template_areas": null,
       "grid_template_columns": null,
       "grid_template_rows": null,
       "height": null,
       "justify_content": null,
       "justify_items": null,
       "left": null,
       "margin": null,
       "max_height": null,
       "max_width": null,
       "min_height": null,
       "min_width": null,
       "object_fit": null,
       "object_position": null,
       "order": null,
       "overflow": null,
       "overflow_x": null,
       "overflow_y": null,
       "padding": null,
       "right": null,
       "top": null,
       "visibility": null,
       "width": null
      }
     }
    },
    "version_major": 2,
    "version_minor": 0
   }
  }
 },
 "nbformat": 4,
 "nbformat_minor": 4
}
