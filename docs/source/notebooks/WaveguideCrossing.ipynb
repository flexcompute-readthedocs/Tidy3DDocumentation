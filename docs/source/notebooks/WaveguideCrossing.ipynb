{
 "cells": [
  {
   "cell_type": "markdown",
   "id": "d4962fd2",
   "metadata": {},
   "source": [
    "# Waveguide crossing based on cosine tapers"
   ]
  },
  {
   "cell_type": "markdown",
   "id": "5e5b9158",
   "metadata": {},
   "source": [
    "To achieve a high integration density on a photonic chip, efficient routing of light with low loss using compact junctions is necessary. Therefore, waveguide crossings are crucial building blocks in high performance integrated circuits. \n",
    "\n",
    "This example model demonstrates the simulation of a waveguide crossing based on cosine tapers. The convex cosine taper focuses the guided mode at the center of the crossing junction. This ensures the light is efficiently transmitted into the through port instead of scattered into the cross ports. The device achieves an insertion loss of ~0.2 dB and crosstalk ~-30 dB in the O-band (1260 nm -1360 nm). The design is adapted from [Sujith Chandran, et al. \"Beam shaping for ultra-compact waveguide crossings on monolithic silicon photonics platform,\" Opt. Lett. 45, 6230-6233 (2020)](https://opg.optica.org/ol/abstract.cfm?uri=ol-45-22-6230).\n",
    "\n",
    "<img src=\"img/waveguide_crossing.png\" width=600 alt=\"Schematic of the waveguide crossing\">\n",
    "\n",
    "If you are new to the finite-difference time-domain (FDTD) method, we highly recommend going through our [FDTD101](https://www.flexcompute.com/fdtd101/) tutorials. "
   ]
  },
  {
   "cell_type": "code",
   "execution_count": 1,
   "id": "2eaed87d",
   "metadata": {
    "execution": {
     "iopub.execute_input": "2023-03-28T01:32:53.848848Z",
     "iopub.status.busy": "2023-03-28T01:32:53.848581Z",
     "iopub.status.idle": "2023-03-28T01:32:55.051605Z",
     "shell.execute_reply": "2023-03-28T01:32:55.050997Z"
    }
   },
   "outputs": [],
   "source": [
    "import numpy as np\n",
    "import matplotlib.pyplot as plt\n",
    "\n",
    "import tidy3d as td\n",
    "import tidy3d.web as web\n",
    "from scipy.optimize import fsolve\n"
   ]
  },
  {
   "cell_type": "markdown",
   "id": "290a838f",
   "metadata": {},
   "source": [
    "## Simulation Setup"
   ]
  },
  {
   "cell_type": "markdown",
   "id": "85200028",
   "metadata": {},
   "source": [
    "Define geometric parameters and materials. In this device, the Si waveguide has a thickness of 161 nm and a width of 350 nm. "
   ]
  },
  {
   "cell_type": "code",
   "execution_count": 2,
   "id": "2f5c50ea",
   "metadata": {
    "execution": {
     "iopub.execute_input": "2023-03-28T01:32:55.054178Z",
     "iopub.status.busy": "2023-03-28T01:32:55.053896Z",
     "iopub.status.idle": "2023-03-28T01:32:55.071995Z",
     "shell.execute_reply": "2023-03-28T01:32:55.071524Z"
    }
   },
   "outputs": [],
   "source": [
    "h = 0.161  # waveguide thickness\n",
    "w_in = 0.35  # input taper width\n",
    "w_out = 1.1  # output taper width\n",
    "w_m = 0.75  # amplitude of the cos function\n",
    "l_t = 5.3  # taper length\n",
    "inf_eff = (\n",
    "    1000  # effective infinity used to make sure the waveguides extend into the pml\n",
    ")\n"
   ]
  },
  {
   "cell_type": "code",
   "execution_count": 3,
   "id": "4b92b8e9",
   "metadata": {
    "execution": {
     "iopub.execute_input": "2023-03-28T01:32:55.074009Z",
     "iopub.status.busy": "2023-03-28T01:32:55.073842Z",
     "iopub.status.idle": "2023-03-28T01:32:55.091203Z",
     "shell.execute_reply": "2023-03-28T01:32:55.090747Z"
    }
   },
   "outputs": [],
   "source": [
    "si = td.Medium(permittivity=3.67**2)\n",
    "sio2 = td.Medium(permittivity=1.45**2)\n"
   ]
  },
  {
   "cell_type": "markdown",
   "id": "718becc3",
   "metadata": {},
   "source": [
    "The taper width is described by a cosine function $w(x)=w_m cos(ax+b)$. To determine the parameters $a$ and $b$, we solve a system of equations to ensure $w(x)=w_{in}/2$ at the beginning of the taper and $w(x)=w_{out}/2$ at the end of the taper. This can be easily done using fsolve from Scipy.\n",
    "\n",
    "After we obtain $w(x)$, vertices can be generated and the taper can be made using PolySlab. Once the first taper is made, the rest three tapers can be made by manipulating the vertices with the symmetry relation."
   ]
  },
  {
   "cell_type": "code",
   "execution_count": 4,
   "id": "0e2ef818",
   "metadata": {
    "execution": {
     "iopub.execute_input": "2023-03-28T01:32:55.093256Z",
     "iopub.status.busy": "2023-03-28T01:32:55.093090Z",
     "iopub.status.idle": "2023-03-28T01:32:55.117139Z",
     "shell.execute_reply": "2023-03-28T01:32:55.116585Z"
    }
   },
   "outputs": [],
   "source": [
    "# numerically solve for the cos function that describes the taper shape\n",
    "def equations(x0):\n",
    "    a, b = x0\n",
    "    return (\n",
    "        w_m * np.cos(a * (-w_out / 2) + b) - w_out / 2,\n",
    "        w_m * np.cos(a * (-w_out / 2 - l_t) + b) - w_in / 2,\n",
    "    )\n",
    "\n",
    "\n",
    "a, b = fsolve(equations, (0.5, 2))\n",
    "\n",
    "x = np.linspace(-w_out / 2 - l_t, -w_out / 2, 30)\n",
    "w = w_m * np.cos(a * x + b)\n",
    "\n",
    "# using the calculated taper shape to construct the taper as a PolySlab\n",
    "vertices = np.zeros((2 * len(x), 2))\n",
    "vertices[:, 0] = np.concatenate((x, np.flipud(x)))\n",
    "vertices[:, 1] = np.concatenate((w, -np.flipud(w)))\n",
    "taper_1 = td.Structure(\n",
    "    geometry=td.PolySlab(vertices=vertices, axis=2, slab_bounds=(-h / 2, h / 2)),\n",
    "    medium=si,\n",
    ")\n",
    "\n",
    "# creating the other four tapers by manipulating the vertices of the first taper\n",
    "vertices[:, 0] = -vertices[:, 0]\n",
    "taper_2 = td.Structure(\n",
    "    geometry=td.PolySlab(vertices=vertices, axis=2, slab_bounds=(-h / 2, h / 2)),\n",
    "    medium=si,\n",
    ")\n",
    "\n",
    "vertices[:, [1, 0]] = vertices[:, [0, 1]]\n",
    "taper_3 = td.Structure(\n",
    "    geometry=td.PolySlab(vertices=vertices, axis=2, slab_bounds=(-h / 2, h / 2)),\n",
    "    medium=si,\n",
    ")\n",
    "\n",
    "vertices[:, 1] = -vertices[:, 1]\n",
    "taper_4 = td.Structure(\n",
    "    geometry=td.PolySlab(vertices=vertices, axis=2, slab_bounds=(-h / 2, h / 2)),\n",
    "    medium=si,\n",
    ")\n",
    "\n",
    "# creating the center crossing junction using a Box\n",
    "corner = 0\n",
    "center = td.Structure(\n",
    "    geometry=td.Box.from_bounds(\n",
    "        rmin=(-w_out / 2 - corner, -w_out / 2 - corner, -h / 2),\n",
    "        rmax=(w_out / 2 + corner, w_out / 2 + corner, h / 2),\n",
    "    ),\n",
    "    medium=si,\n",
    ")\n",
    "\n",
    "# creating the input port and through port\n",
    "horizontal_wg = td.Structure(\n",
    "    geometry=td.Box.from_bounds(\n",
    "        rmin=(-inf_eff, -w_in / 2, -h / 2), rmax=(inf_eff, w_in / 2, h / 2)\n",
    "    ),\n",
    "    medium=si,\n",
    ")\n",
    "\n",
    "# creating the cross ports\n",
    "vertical_wg = td.Structure(\n",
    "    geometry=td.Box.from_bounds(\n",
    "        rmin=(-w_in / 2, -inf_eff, -h / 2), rmax=(w_in / 2, inf_eff, h / 2)\n",
    "    ),\n",
    "    medium=si,\n",
    ")\n"
   ]
  },
  {
   "cell_type": "markdown",
   "id": "074d7cde",
   "metadata": {},
   "source": [
    "Set up simulation domain, source, and monitors. A mode source is used to excite the input waveguide. A field monitor at $z=0$ plane is added to monitor the field propagation. Two flux monitors are added at the through port and cross port to monitor the transmission and crosstalk levels.\n",
    "\n",
    "Before running the simulation, we can use the plot method to ensure the geometry, source, and monitors are set up correctly."
   ]
  },
  {
   "cell_type": "code",
   "execution_count": 5,
   "id": "54a54758",
   "metadata": {
    "execution": {
     "iopub.execute_input": "2023-03-28T01:32:55.119164Z",
     "iopub.status.busy": "2023-03-28T01:32:55.118996Z",
     "iopub.status.idle": "2023-03-28T01:32:55.443420Z",
     "shell.execute_reply": "2023-03-28T01:32:55.442908Z"
    }
   },
   "outputs": [
    {
     "data": {
      "image/png": "[encoded data removed]",
      "text/plain": [
       "<Figure size 640x480 with 1 Axes>"
      ]
     },
     "metadata": {},
     "output_type": "display_data"
    }
   ],
   "source": [
    "lda0 = 1.31  # central wavelength\n",
    "freq0 = td.C_0 / lda0  # operation frequency\n",
    "ldas = np.linspace(1.26, 1.36, 101)  # wavelength range of interest\n",
    "freqs = td.C_0 / ldas  # frequency range of interest\n",
    "\n",
    "l_wg = 1  # input/output waveguide length\n",
    "Lx = 2 * l_t + w_out + 2 * l_wg\n",
    "Ly = 2 * l_t + w_out + 2 * l_wg\n",
    "Lz = 1.5 * lda0\n",
    "sim_size = (Lx, Ly, Lz)\n",
    "\n",
    "# define a mode source for excitation using the lowest order mode\n",
    "mode_source = td.ModeSource(\n",
    "    center=(-Lx / 2 + l_wg / 2, 0, 0),\n",
    "    size=(0, 4 * w_in, 4 * h),\n",
    "    source_time=td.GaussianPulse(freq0=freq0, fwidth=freq0 / 10),\n",
    "    direction=\"+\",\n",
    "    mode_spec=td.ModeSpec(num_modes=1, target_neff=3.455, filter_pol=\"te\"),\n",
    "    mode_index=0,\n",
    ")\n",
    "\n",
    "# add a field monitor at z=0 for field visualization\n",
    "field_monitor = td.FieldMonitor(\n",
    "    center=(0, 0, 0), size=(td.inf, td.inf, 0), freqs=[freq0], name=\"field\"\n",
    ")\n",
    "\n",
    "# define a flux monitor to detect transmission to the through port\n",
    "flux_monitor_through = td.FluxMonitor(\n",
    "    center=(Lx / 2 - l_wg / 2, 0, 0),\n",
    "    size=(0, 4 * w_in, 4 * h),\n",
    "    freqs=freqs,\n",
    "    name=\"flux_through\",\n",
    ")\n",
    "\n",
    "# define a flux monitor to detect transmission to the cross port\n",
    "flux_monitor_cross = td.FluxMonitor(\n",
    "    center=(0, Ly / 2 - l_wg / 2, 0),\n",
    "    size=(4 * w_in, 0, 4 * h),\n",
    "    freqs=freqs,\n",
    "    name=\"flux_cross\",\n",
    ")\n",
    "\n",
    "sim = td.Simulation(\n",
    "    center=(0, 0, 0),\n",
    "    size=sim_size,\n",
    "    grid_spec=td.GridSpec.auto(min_steps_per_wvl=20, wavelength=lda0),\n",
    "    structures=[taper_1, taper_2, taper_3, taper_4, center, horizontal_wg, vertical_wg],\n",
    "    sources=[mode_source],\n",
    "    monitors=[field_monitor, flux_monitor_through, flux_monitor_cross],\n",
    "    run_time=1e-12,\n",
    "    boundary_spec=td.BoundarySpec.all_sides(boundary=td.PML()),\n",
    "    medium=sio2,\n",
    ")\n",
    "\n",
    "sim.plot(z=0)\n",
    "plt.show()\n"
   ]
  },
  {
   "cell_type": "markdown",
   "id": "13e0cca4",
   "metadata": {},
   "source": [
    "Once the simulation set up is verified, submit job to the server. Before running the simulation, we can get a cost estimation using `estimate_cost`. This prevents us from accidentally running large jobs that we set up by mistake. The estimated cost is the maximum cost corresponding to running all the time steps."
   ]
  },
  {
   "cell_type": "code",
   "execution_count": 6,
   "id": "d0d7dff4",
   "metadata": {
    "execution": {
     "iopub.execute_input": "2023-03-28T01:32:55.445455Z",
     "iopub.status.busy": "2023-03-28T01:32:55.445308Z",
     "iopub.status.idle": "2023-03-28T01:36:38.753504Z",
     "shell.execute_reply": "2023-03-28T01:36:38.752937Z"
    }
   },
   "outputs": [
    {
     "data": {
      "text/html": [
       "<pre style=\"white-space:pre;overflow-x:auto;line-height:normal;font-family:Menlo,'DejaVu Sans Mono',consolas,'Courier New',monospace\"><span style=\"color: #7fbfbf; text-decoration-color: #7fbfbf\">[16:49:30] </span>Created task <span style=\"color: #008000; text-decoration-color: #008000\">'waveguide_crossing'</span> with task_id                                             <a href=\"file://C:\\Users\\xinzhong\\anaconda3\\envs\\tidy3d_env\\lib\\site-packages\\tidy3d\\web\\webapi.py\" target=\"_blank\"><span style=\"color: #7f7f7f; text-decoration-color: #7f7f7f\">webapi.py</span></a><span style=\"color: #7f7f7f; text-decoration-color: #7f7f7f\">:</span><a href=\"file://C:\\Users\\xinzhong\\anaconda3\\envs\\tidy3d_env\\lib\\site-packages\\tidy3d\\web\\webapi.py#186\" target=\"_blank\"><span style=\"color: #7f7f7f; text-decoration-color: #7f7f7f\">186</span></a>\n",
       "<span style=\"color: #7fbfbf; text-decoration-color: #7fbfbf\">           </span><span style=\"color: #008000; text-decoration-color: #008000\">'fdve-a9407f72-34d7-4021-a923-da6ef202e0c4v1'</span>.                                             <span style=\"color: #7f7f7f; text-decoration-color: #7f7f7f\">             </span>\n",
       "</pre>\n"
      ],
      "text/plain": [
       "\u001b[2;36m[16:49:30]\u001b[0m\u001b[2;36m \u001b[0mCreated task \u001b[32m'waveguide_crossing'\u001b[0m with task_id                                             \u001b]8;id=879019;file://C:\\Users\\xinzhong\\anaconda3\\envs\\tidy3d_env\\lib\\site-packages\\tidy3d\\web\\webapi.py\u001b\\\u001b[2mwebapi.py\u001b[0m\u001b]8;;\u001b\\\u001b[2m:\u001b[0m\u001b]8;id=512586;file://C:\\Users\\xinzhong\\anaconda3\\envs\\tidy3d_env\\lib\\site-packages\\tidy3d\\web\\webapi.py#186\u001b\\\u001b[2m186\u001b[0m\u001b]8;;\u001b\\\n",
       "\u001b[2;36m           \u001b[0m\u001b[32m'fdve-a9407f72-34d7-4021-a923-da6ef202e0c4v1'\u001b[0m.                                             \u001b[2m             \u001b[0m\n"
      ]
     },
     "metadata": {},
     "output_type": "display_data"
    },
    {
     "data": {
      "text/html": [
       "<pre style=\"white-space:pre;overflow-x:auto;line-height:normal;font-family:Menlo,'DejaVu Sans Mono',consolas,'Courier New',monospace\"><span style=\"color: #7fbfbf; text-decoration-color: #7fbfbf\">           </span>View task using web UI at                                                                  <a href=\"file://C:\\Users\\xinzhong\\anaconda3\\envs\\tidy3d_env\\lib\\site-packages\\tidy3d\\web\\webapi.py\" target=\"_blank\"><span style=\"color: #7f7f7f; text-decoration-color: #7f7f7f\">webapi.py</span></a><span style=\"color: #7f7f7f; text-decoration-color: #7f7f7f\">:</span><a href=\"file://C:\\Users\\xinzhong\\anaconda3\\envs\\tidy3d_env\\lib\\site-packages\\tidy3d\\web\\webapi.py#188\" target=\"_blank\"><span style=\"color: #7f7f7f; text-decoration-color: #7f7f7f\">188</span></a>\n",
       "<span style=\"color: #7fbfbf; text-decoration-color: #7fbfbf\">           </span><a href=\"https://tidy3d.simulation.cloud/workbench?taskId=fdve-a9407f72-34d7-4021-a923-da6ef202e0c4v1\" target=\"_blank\"><span style=\"color: #008000; text-decoration-color: #008000\">'https://tidy3d.simulation.cloud/workbench?taskId=fdve-a9407f72-34d7-4021-a923-da6ef202e0c</span></a> <span style=\"color: #7f7f7f; text-decoration-color: #7f7f7f\">             </span>\n",
       "<span style=\"color: #7fbfbf; text-decoration-color: #7fbfbf\">           </span><a href=\"https://tidy3d.simulation.cloud/workbench?taskId=fdve-a9407f72-34d7-4021-a923-da6ef202e0c4v1\" target=\"_blank\"><span style=\"color: #008000; text-decoration-color: #008000\">4v1'</span></a>.                                                                                      <span style=\"color: #7f7f7f; text-decoration-color: #7f7f7f\">             </span>\n",
       "</pre>\n"
      ],
      "text/plain": [
       "\u001b[2;36m          \u001b[0m\u001b[2;36m \u001b[0mView task using web UI at                                                                  \u001b]8;id=325200;file://C:\\Users\\xinzhong\\anaconda3\\envs\\tidy3d_env\\lib\\site-packages\\tidy3d\\web\\webapi.py\u001b\\\u001b[2mwebapi.py\u001b[0m\u001b]8;;\u001b\\\u001b[2m:\u001b[0m\u001b]8;id=508947;file://C:\\Users\\xinzhong\\anaconda3\\envs\\tidy3d_env\\lib\\site-packages\\tidy3d\\web\\webapi.py#188\u001b\\\u001b[2m188\u001b[0m\u001b]8;;\u001b\\\n",
       "\u001b[2;36m           \u001b[0m\u001b]8;id=571912;https://tidy3d.simulation.cloud/workbench?taskId=fdve-a9407f72-34d7-4021-a923-da6ef202e0c4v1\u001b\\\u001b[32m'https://tidy3d.simulation.cloud/workbench?\u001b[0m\u001b]8;;\u001b\\\u001b]8;id=17457;https://tidy3d.simulation.cloud/workbench?taskId=fdve-a9407f72-34d7-4021-a923-da6ef202e0c4v1\u001b\\\u001b[32mtaskId\u001b[0m\u001b]8;;\u001b\\\u001b]8;id=571912;https://tidy3d.simulation.cloud/workbench?taskId=fdve-a9407f72-34d7-4021-a923-da6ef202e0c4v1\u001b\\\u001b[32m=\u001b[0m\u001b]8;;\u001b\\\u001b]8;id=763878;https://tidy3d.simulation.cloud/workbench?taskId=fdve-a9407f72-34d7-4021-a923-da6ef202e0c4v1\u001b\\\u001b[32mfdve\u001b[0m\u001b]8;;\u001b\\\u001b]8;id=571912;https://tidy3d.simulation.cloud/workbench?taskId=fdve-a9407f72-34d7-4021-a923-da6ef202e0c4v1\u001b\\\u001b[32m-a9407f72-34d7-4021-a923-da6ef202e0c\u001b[0m\u001b]8;;\u001b\\ \u001b[2m             \u001b[0m\n",
       "\u001b[2;36m           \u001b[0m\u001b]8;id=571912;https://tidy3d.simulation.cloud/workbench?taskId=fdve-a9407f72-34d7-4021-a923-da6ef202e0c4v1\u001b\\\u001b[32m4v1'\u001b[0m\u001b]8;;\u001b\\.                                                                                      \u001b[2m             \u001b[0m\n"
      ]
     },
     "metadata": {},
     "output_type": "display_data"
    },
    {
     "data": {
      "application/vnd.jupyter.widget-view+json": {
       "model_id": "c2c5baf306f146128fc867c7a8ca1f5b",
       "version_major": 2,
       "version_minor": 0
      },
      "text/plain": [
       "Output()"
      ]
     },
     "metadata": {},
     "output_type": "display_data"
    },
    {
     "data": {
      "text/html": [
       "<pre style=\"white-space:pre;overflow-x:auto;line-height:normal;font-family:Menlo,'DejaVu Sans Mono',consolas,'Courier New',monospace\"></pre>\n"
      ],
      "text/plain": []
     },
     "metadata": {},
     "output_type": "display_data"
    },
    {
     "data": {
      "text/html": [
       "<pre style=\"white-space:pre;overflow-x:auto;line-height:normal;font-family:Menlo,'DejaVu Sans Mono',consolas,'Courier New',monospace\">\n",
       "</pre>\n"
      ],
      "text/plain": [
       "\n"
      ]
     },
     "metadata": {},
     "output_type": "display_data"
    },
    {
     "name": "stdout",
     "output_type": "stream",
     "text": [
      "The estimated maximum cost is 0.488 Flex Credits.\n"
     ]
    }
   ],
   "source": [
    "job = web.Job(simulation=sim, task_name=\"waveguide_crossing\", verbose=True)\n",
    "estimated_cost = web.estimate_cost(job.task_id)\n",
    "\n",
    "print(f'The estimated maximum cost is {estimated_cost:.3f} Flex Credits.')"
   ]
  },
  {
   "cell_type": "markdown",
   "id": "efab5310",
   "metadata": {},
   "source": [
    "The cost is reasonaly so we can run the simulation."
   ]
  },
  {
   "cell_type": "code",
   "execution_count": 7,
   "id": "58f705d4",
   "metadata": {},
   "outputs": [
    {
     "data": {
      "text/html": [
       "<pre style=\"white-space:pre;overflow-x:auto;line-height:normal;font-family:Menlo,'DejaVu Sans Mono',consolas,'Courier New',monospace\"><span style=\"color: #7fbfbf; text-decoration-color: #7fbfbf\">[16:49:33] </span>status = queued                                                                            <a href=\"file://C:\\Users\\xinzhong\\anaconda3\\envs\\tidy3d_env\\lib\\site-packages\\tidy3d\\web\\webapi.py\" target=\"_blank\"><span style=\"color: #7f7f7f; text-decoration-color: #7f7f7f\">webapi.py</span></a><span style=\"color: #7f7f7f; text-decoration-color: #7f7f7f\">:</span><a href=\"file://C:\\Users\\xinzhong\\anaconda3\\envs\\tidy3d_env\\lib\\site-packages\\tidy3d\\web\\webapi.py#321\" target=\"_blank\"><span style=\"color: #7f7f7f; text-decoration-color: #7f7f7f\">321</span></a>\n",
       "</pre>\n"
      ],
      "text/plain": [
       "\u001b[2;36m[16:49:33]\u001b[0m\u001b[2;36m \u001b[0mstatus = queued                                                                            \u001b]8;id=300492;file://C:\\Users\\xinzhong\\anaconda3\\envs\\tidy3d_env\\lib\\site-packages\\tidy3d\\web\\webapi.py\u001b\\\u001b[2mwebapi.py\u001b[0m\u001b]8;;\u001b\\\u001b[2m:\u001b[0m\u001b]8;id=917672;file://C:\\Users\\xinzhong\\anaconda3\\envs\\tidy3d_env\\lib\\site-packages\\tidy3d\\web\\webapi.py#321\u001b\\\u001b[2m321\u001b[0m\u001b]8;;\u001b\\\n"
      ]
     },
     "metadata": {},
     "output_type": "display_data"
    },
    {
     "data": {
      "application/vnd.jupyter.widget-view+json": {
       "model_id": "",
       "version_major": 2,
       "version_minor": 0
      },
      "text/plain": [
       "Output()"
      ]
     },
     "metadata": {},
     "output_type": "display_data"
    },
    {
     "data": {
      "text/html": [
       "<pre style=\"white-space:pre;overflow-x:auto;line-height:normal;font-family:Menlo,'DejaVu Sans Mono',consolas,'Courier New',monospace\"><span style=\"color: #7fbfbf; text-decoration-color: #7fbfbf\">[16:49:35] </span>status = preprocess                                                                        <a href=\"file://C:\\Users\\xinzhong\\anaconda3\\envs\\tidy3d_env\\lib\\site-packages\\tidy3d\\web\\webapi.py\" target=\"_blank\"><span style=\"color: #7f7f7f; text-decoration-color: #7f7f7f\">webapi.py</span></a><span style=\"color: #7f7f7f; text-decoration-color: #7f7f7f\">:</span><a href=\"file://C:\\Users\\xinzhong\\anaconda3\\envs\\tidy3d_env\\lib\\site-packages\\tidy3d\\web\\webapi.py#315\" target=\"_blank\"><span style=\"color: #7f7f7f; text-decoration-color: #7f7f7f\">315</span></a>\n",
       "</pre>\n"
      ],
      "text/plain": [
       "\u001b[2;36m[16:49:35]\u001b[0m\u001b[2;36m \u001b[0mstatus = preprocess                                                                        \u001b]8;id=640892;file://C:\\Users\\xinzhong\\anaconda3\\envs\\tidy3d_env\\lib\\site-packages\\tidy3d\\web\\webapi.py\u001b\\\u001b[2mwebapi.py\u001b[0m\u001b]8;;\u001b\\\u001b[2m:\u001b[0m\u001b]8;id=504387;file://C:\\Users\\xinzhong\\anaconda3\\envs\\tidy3d_env\\lib\\site-packages\\tidy3d\\web\\webapi.py#315\u001b\\\u001b[2m315\u001b[0m\u001b]8;;\u001b\\\n"
      ]
     },
     "metadata": {},
     "output_type": "display_data"
    },
    {
     "data": {
      "text/html": [
       "<pre style=\"white-space:pre;overflow-x:auto;line-height:normal;font-family:Menlo,'DejaVu Sans Mono',consolas,'Courier New',monospace\"></pre>\n"
      ],
      "text/plain": []
     },
     "metadata": {},
     "output_type": "display_data"
    },
    {
     "data": {
      "text/html": [
       "<pre style=\"white-space:pre;overflow-x:auto;line-height:normal;font-family:Menlo,'DejaVu Sans Mono',consolas,'Courier New',monospace\"><span style=\"color: #7fbfbf; text-decoration-color: #7fbfbf\">[16:49:40] </span>Maximum FlexCredit cost: <span style=\"color: #008080; text-decoration-color: #008080; font-weight: bold\">0.488</span>. Use <span style=\"color: #008000; text-decoration-color: #008000\">'web.real_cost(task_id)'</span> to get the billed FlexCredit  <a href=\"file://C:\\Users\\xinzhong\\anaconda3\\envs\\tidy3d_env\\lib\\site-packages\\tidy3d\\web\\webapi.py\" target=\"_blank\"><span style=\"color: #7f7f7f; text-decoration-color: #7f7f7f\">webapi.py</span></a><span style=\"color: #7f7f7f; text-decoration-color: #7f7f7f\">:</span><a href=\"file://C:\\Users\\xinzhong\\anaconda3\\envs\\tidy3d_env\\lib\\site-packages\\tidy3d\\web\\webapi.py#338\" target=\"_blank\"><span style=\"color: #7f7f7f; text-decoration-color: #7f7f7f\">338</span></a>\n",
       "<span style=\"color: #7fbfbf; text-decoration-color: #7fbfbf\">           </span>cost after a simulation run.                                                               <span style=\"color: #7f7f7f; text-decoration-color: #7f7f7f\">             </span>\n",
       "</pre>\n"
      ],
      "text/plain": [
       "\u001b[2;36m[16:49:40]\u001b[0m\u001b[2;36m \u001b[0mMaximum FlexCredit cost: \u001b[1;36m0.488\u001b[0m. Use \u001b[32m'web.real_cost\u001b[0m\u001b[32m(\u001b[0m\u001b[32mtask_id\u001b[0m\u001b[32m)\u001b[0m\u001b[32m'\u001b[0m to get the billed FlexCredit  \u001b]8;id=945458;file://C:\\Users\\xinzhong\\anaconda3\\envs\\tidy3d_env\\lib\\site-packages\\tidy3d\\web\\webapi.py\u001b\\\u001b[2mwebapi.py\u001b[0m\u001b]8;;\u001b\\\u001b[2m:\u001b[0m\u001b]8;id=177064;file://C:\\Users\\xinzhong\\anaconda3\\envs\\tidy3d_env\\lib\\site-packages\\tidy3d\\web\\webapi.py#338\u001b\\\u001b[2m338\u001b[0m\u001b]8;;\u001b\\\n",
       "\u001b[2;36m           \u001b[0mcost after a simulation run.                                                               \u001b[2m             \u001b[0m\n"
      ]
     },
     "metadata": {},
     "output_type": "display_data"
    },
    {
     "data": {
      "text/html": [
       "<pre style=\"white-space:pre;overflow-x:auto;line-height:normal;font-family:Menlo,'DejaVu Sans Mono',consolas,'Courier New',monospace\"><span style=\"color: #7fbfbf; text-decoration-color: #7fbfbf\">           </span>starting up solver                                                                         <a href=\"file://C:\\Users\\xinzhong\\anaconda3\\envs\\tidy3d_env\\lib\\site-packages\\tidy3d\\web\\webapi.py\" target=\"_blank\"><span style=\"color: #7f7f7f; text-decoration-color: #7f7f7f\">webapi.py</span></a><span style=\"color: #7f7f7f; text-decoration-color: #7f7f7f\">:</span><a href=\"file://C:\\Users\\xinzhong\\anaconda3\\envs\\tidy3d_env\\lib\\site-packages\\tidy3d\\web\\webapi.py#342\" target=\"_blank\"><span style=\"color: #7f7f7f; text-decoration-color: #7f7f7f\">342</span></a>\n",
       "</pre>\n"
      ],
      "text/plain": [
       "\u001b[2;36m          \u001b[0m\u001b[2;36m \u001b[0mstarting up solver                                                                         \u001b]8;id=820571;file://C:\\Users\\xinzhong\\anaconda3\\envs\\tidy3d_env\\lib\\site-packages\\tidy3d\\web\\webapi.py\u001b\\\u001b[2mwebapi.py\u001b[0m\u001b]8;;\u001b\\\u001b[2m:\u001b[0m\u001b]8;id=407802;file://C:\\Users\\xinzhong\\anaconda3\\envs\\tidy3d_env\\lib\\site-packages\\tidy3d\\web\\webapi.py#342\u001b\\\u001b[2m342\u001b[0m\u001b]8;;\u001b\\\n"
      ]
     },
     "metadata": {},
     "output_type": "display_data"
    },
    {
     "data": {
      "text/html": [
       "<pre style=\"white-space:pre;overflow-x:auto;line-height:normal;font-family:Menlo,'DejaVu Sans Mono',consolas,'Courier New',monospace\"><span style=\"color: #7fbfbf; text-decoration-color: #7fbfbf\">           </span>running solver                                                                             <a href=\"file://C:\\Users\\xinzhong\\anaconda3\\envs\\tidy3d_env\\lib\\site-packages\\tidy3d\\web\\webapi.py\" target=\"_blank\"><span style=\"color: #7f7f7f; text-decoration-color: #7f7f7f\">webapi.py</span></a><span style=\"color: #7f7f7f; text-decoration-color: #7f7f7f\">:</span><a href=\"file://C:\\Users\\xinzhong\\anaconda3\\envs\\tidy3d_env\\lib\\site-packages\\tidy3d\\web\\webapi.py#352\" target=\"_blank\"><span style=\"color: #7f7f7f; text-decoration-color: #7f7f7f\">352</span></a>\n",
       "</pre>\n"
      ],
      "text/plain": [
       "\u001b[2;36m          \u001b[0m\u001b[2;36m \u001b[0mrunning solver                                                                             \u001b]8;id=168115;file://C:\\Users\\xinzhong\\anaconda3\\envs\\tidy3d_env\\lib\\site-packages\\tidy3d\\web\\webapi.py\u001b\\\u001b[2mwebapi.py\u001b[0m\u001b]8;;\u001b\\\u001b[2m:\u001b[0m\u001b]8;id=58065;file://C:\\Users\\xinzhong\\anaconda3\\envs\\tidy3d_env\\lib\\site-packages\\tidy3d\\web\\webapi.py#352\u001b\\\u001b[2m352\u001b[0m\u001b]8;;\u001b\\\n"
      ]
     },
     "metadata": {},
     "output_type": "display_data"
    },
    {
     "data": {
      "application/vnd.jupyter.widget-view+json": {
       "model_id": "b2e0f25e43d946d29bc6335eac674477",
       "version_major": 2,
       "version_minor": 0
      },
      "text/plain": [
       "Output()"
      ]
     },
     "metadata": {},
     "output_type": "display_data"
    },
    {
     "data": {
      "text/html": [
       "<pre style=\"white-space:pre;overflow-x:auto;line-height:normal;font-family:Menlo,'DejaVu Sans Mono',consolas,'Courier New',monospace\"><span style=\"color: #7fbfbf; text-decoration-color: #7fbfbf\">[16:50:12] </span>early shutoff detected, exiting.                                                           <a href=\"file://C:\\Users\\xinzhong\\anaconda3\\envs\\tidy3d_env\\lib\\site-packages\\tidy3d\\web\\webapi.py\" target=\"_blank\"><span style=\"color: #7f7f7f; text-decoration-color: #7f7f7f\">webapi.py</span></a><span style=\"color: #7f7f7f; text-decoration-color: #7f7f7f\">:</span><a href=\"file://C:\\Users\\xinzhong\\anaconda3\\envs\\tidy3d_env\\lib\\site-packages\\tidy3d\\web\\webapi.py#366\" target=\"_blank\"><span style=\"color: #7f7f7f; text-decoration-color: #7f7f7f\">366</span></a>\n",
       "</pre>\n"
      ],
      "text/plain": [
       "\u001b[2;36m[16:50:12]\u001b[0m\u001b[2;36m \u001b[0mearly shutoff detected, exiting.                                                           \u001b]8;id=999810;file://C:\\Users\\xinzhong\\anaconda3\\envs\\tidy3d_env\\lib\\site-packages\\tidy3d\\web\\webapi.py\u001b\\\u001b[2mwebapi.py\u001b[0m\u001b]8;;\u001b\\\u001b[2m:\u001b[0m\u001b]8;id=146507;file://C:\\Users\\xinzhong\\anaconda3\\envs\\tidy3d_env\\lib\\site-packages\\tidy3d\\web\\webapi.py#366\u001b\\\u001b[2m366\u001b[0m\u001b]8;;\u001b\\\n"
      ]
     },
     "metadata": {},
     "output_type": "display_data"
    },
    {
     "data": {
      "text/html": [
       "<pre style=\"white-space:pre;overflow-x:auto;line-height:normal;font-family:Menlo,'DejaVu Sans Mono',consolas,'Courier New',monospace\"></pre>\n"
      ],
      "text/plain": []
     },
     "metadata": {},
     "output_type": "display_data"
    },
    {
     "data": {
      "text/html": [
       "<pre style=\"white-space:pre;overflow-x:auto;line-height:normal;font-family:Menlo,'DejaVu Sans Mono',consolas,'Courier New',monospace\">\n",
       "</pre>\n"
      ],
      "text/plain": [
       "\n"
      ]
     },
     "metadata": {},
     "output_type": "display_data"
    },
    {
     "data": {
      "text/html": [
       "<pre style=\"white-space:pre;overflow-x:auto;line-height:normal;font-family:Menlo,'DejaVu Sans Mono',consolas,'Courier New',monospace\"><span style=\"color: #7fbfbf; text-decoration-color: #7fbfbf\">[16:50:13] </span>status = postprocess                                                                       <a href=\"file://C:\\Users\\xinzhong\\anaconda3\\envs\\tidy3d_env\\lib\\site-packages\\tidy3d\\web\\webapi.py\" target=\"_blank\"><span style=\"color: #7f7f7f; text-decoration-color: #7f7f7f\">webapi.py</span></a><span style=\"color: #7f7f7f; text-decoration-color: #7f7f7f\">:</span><a href=\"file://C:\\Users\\xinzhong\\anaconda3\\envs\\tidy3d_env\\lib\\site-packages\\tidy3d\\web\\webapi.py#383\" target=\"_blank\"><span style=\"color: #7f7f7f; text-decoration-color: #7f7f7f\">383</span></a>\n",
       "</pre>\n"
      ],
      "text/plain": [
       "\u001b[2;36m[16:50:13]\u001b[0m\u001b[2;36m \u001b[0mstatus = postprocess                                                                       \u001b]8;id=654545;file://C:\\Users\\xinzhong\\anaconda3\\envs\\tidy3d_env\\lib\\site-packages\\tidy3d\\web\\webapi.py\u001b\\\u001b[2mwebapi.py\u001b[0m\u001b]8;;\u001b\\\u001b[2m:\u001b[0m\u001b]8;id=968604;file://C:\\Users\\xinzhong\\anaconda3\\envs\\tidy3d_env\\lib\\site-packages\\tidy3d\\web\\webapi.py#383\u001b\\\u001b[2m383\u001b[0m\u001b]8;;\u001b\\\n"
      ]
     },
     "metadata": {},
     "output_type": "display_data"
    },
    {
     "data": {
      "application/vnd.jupyter.widget-view+json": {
       "model_id": "",
       "version_major": 2,
       "version_minor": 0
      },
      "text/plain": [
       "Output()"
      ]
     },
     "metadata": {},
     "output_type": "display_data"
    },
    {
     "data": {
      "text/html": [
       "<pre style=\"white-space:pre;overflow-x:auto;line-height:normal;font-family:Menlo,'DejaVu Sans Mono',consolas,'Courier New',monospace\"><span style=\"color: #7fbfbf; text-decoration-color: #7fbfbf\">[16:50:18] </span>status = success                                                                           <a href=\"file://C:\\Users\\xinzhong\\anaconda3\\envs\\tidy3d_env\\lib\\site-packages\\tidy3d\\web\\webapi.py\" target=\"_blank\"><span style=\"color: #7f7f7f; text-decoration-color: #7f7f7f\">webapi.py</span></a><span style=\"color: #7f7f7f; text-decoration-color: #7f7f7f\">:</span><a href=\"file://C:\\Users\\xinzhong\\anaconda3\\envs\\tidy3d_env\\lib\\site-packages\\tidy3d\\web\\webapi.py#390\" target=\"_blank\"><span style=\"color: #7f7f7f; text-decoration-color: #7f7f7f\">390</span></a>\n",
       "</pre>\n"
      ],
      "text/plain": [
       "\u001b[2;36m[16:50:18]\u001b[0m\u001b[2;36m \u001b[0mstatus = success                                                                           \u001b]8;id=361179;file://C:\\Users\\xinzhong\\anaconda3\\envs\\tidy3d_env\\lib\\site-packages\\tidy3d\\web\\webapi.py\u001b\\\u001b[2mwebapi.py\u001b[0m\u001b]8;;\u001b\\\u001b[2m:\u001b[0m\u001b]8;id=272105;file://C:\\Users\\xinzhong\\anaconda3\\envs\\tidy3d_env\\lib\\site-packages\\tidy3d\\web\\webapi.py#390\u001b\\\u001b[2m390\u001b[0m\u001b]8;;\u001b\\\n"
      ]
     },
     "metadata": {},
     "output_type": "display_data"
    },
    {
     "data": {
      "text/html": [
       "<pre style=\"white-space:pre;overflow-x:auto;line-height:normal;font-family:Menlo,'DejaVu Sans Mono',consolas,'Courier New',monospace\"></pre>\n"
      ],
      "text/plain": []
     },
     "metadata": {},
     "output_type": "display_data"
    },
    {
     "data": {
      "application/vnd.jupyter.widget-view+json": {
       "model_id": "3b86dc85dfbf419785abc52254de0dd3",
       "version_major": 2,
       "version_minor": 0
      },
      "text/plain": [
       "Output()"
      ]
     },
     "metadata": {},
     "output_type": "display_data"
    },
    {
     "data": {
      "text/html": [
       "<pre style=\"white-space:pre;overflow-x:auto;line-height:normal;font-family:Menlo,'DejaVu Sans Mono',consolas,'Courier New',monospace\"></pre>\n"
      ],
      "text/plain": []
     },
     "metadata": {},
     "output_type": "display_data"
    },
    {
     "data": {
      "text/html": [
       "<pre style=\"white-space:pre;overflow-x:auto;line-height:normal;font-family:Menlo,'DejaVu Sans Mono',consolas,'Courier New',monospace\">\n",
       "</pre>\n"
      ],
      "text/plain": [
       "\n"
      ]
     },
     "metadata": {},
     "output_type": "display_data"
    },
    {
     "data": {
      "text/html": [
       "<pre style=\"white-space:pre;overflow-x:auto;line-height:normal;font-family:Menlo,'DejaVu Sans Mono',consolas,'Courier New',monospace\"><span style=\"color: #7fbfbf; text-decoration-color: #7fbfbf\">[16:50:21] </span>loading SimulationData from data/simulation_data.hdf5                                      <a href=\"file://C:\\Users\\xinzhong\\anaconda3\\envs\\tidy3d_env\\lib\\site-packages\\tidy3d\\web\\webapi.py\" target=\"_blank\"><span style=\"color: #7f7f7f; text-decoration-color: #7f7f7f\">webapi.py</span></a><span style=\"color: #7f7f7f; text-decoration-color: #7f7f7f\">:</span><a href=\"file://C:\\Users\\xinzhong\\anaconda3\\envs\\tidy3d_env\\lib\\site-packages\\tidy3d\\web\\webapi.py#568\" target=\"_blank\"><span style=\"color: #7f7f7f; text-decoration-color: #7f7f7f\">568</span></a>\n",
       "</pre>\n"
      ],
      "text/plain": [
       "\u001b[2;36m[16:50:21]\u001b[0m\u001b[2;36m \u001b[0mloading SimulationData from data/simulation_data.hdf5                                      \u001b]8;id=15308;file://C:\\Users\\xinzhong\\anaconda3\\envs\\tidy3d_env\\lib\\site-packages\\tidy3d\\web\\webapi.py\u001b\\\u001b[2mwebapi.py\u001b[0m\u001b]8;;\u001b\\\u001b[2m:\u001b[0m\u001b]8;id=707004;file://C:\\Users\\xinzhong\\anaconda3\\envs\\tidy3d_env\\lib\\site-packages\\tidy3d\\web\\webapi.py#568\u001b\\\u001b[2m568\u001b[0m\u001b]8;;\u001b\\\n"
      ]
     },
     "metadata": {},
     "output_type": "display_data"
    }
   ],
   "source": [
    "sim_data = job.run(path=\"data/simulation_data.hdf5\")\n"
   ]
  },
  {
   "cell_type": "markdown",
   "id": "998f20e2",
   "metadata": {},
   "source": [
    "## Result Visualization "
   ]
  },
  {
   "cell_type": "markdown",
   "id": "2772b63f",
   "metadata": {},
   "source": [
    "After the simulation is complete, first plot the field intensity distribution. \n",
    "\n",
    "From the figure below, a good transmission to the through port is observed. In the crossing junction, a strong field focus is formed due to the focusing property of the cosine taper. "
   ]
  },
  {
   "cell_type": "code",
   "execution_count": 8,
   "id": "2514be3b",
   "metadata": {
    "execution": {
     "iopub.execute_input": "2023-03-28T01:36:42.341611Z",
     "iopub.status.busy": "2023-03-28T01:36:42.341210Z",
     "iopub.status.idle": "2023-03-28T01:36:44.249898Z",
     "shell.execute_reply": "2023-03-28T01:36:44.249293Z"
    }
   },
   "outputs": [
    {
     "data": {
      "image/png": "[encoded data removed]",
      "text/plain": [
       "<Figure size 640x480 with 2 Axes>"
      ]
     },
     "metadata": {},
     "output_type": "display_data"
    }
   ],
   "source": [
    "sim_data.plot_field(\n",
    "    field_monitor_name=\"field\", field_name=\"E\", val=\"abs^2\", f=freq0, vmin=0, vmax=3000\n",
    ")\n",
    "plt.show()\n"
   ]
  },
  {
   "cell_type": "markdown",
   "id": "1b0ec431",
   "metadata": {},
   "source": [
    "Finally, to quantify the designed waveguide crossing's performance, plot insertion loss and crosstalk level."
   ]
  },
  {
   "cell_type": "code",
   "execution_count": 9,
   "id": "6959a333",
   "metadata": {
    "execution": {
     "iopub.execute_input": "2023-03-28T01:36:44.252298Z",
     "iopub.status.busy": "2023-03-28T01:36:44.251980Z",
     "iopub.status.idle": "2023-03-28T01:36:44.704824Z",
     "shell.execute_reply": "2023-03-28T01:36:44.704310Z"
    }
   },
   "outputs": [
    {
     "data": {
      "image/png": "[encoded data removed]",
      "text/plain": [
       "<Figure size 1000x500 with 2 Axes>"
      ]
     },
     "metadata": {},
     "output_type": "display_data"
    }
   ],
   "source": [
    "f, (ax1, ax2) = plt.subplots(1, 2, tight_layout=True, figsize=(10, 5))\n",
    "\n",
    "T_through = sim_data[\"flux_through\"].flux\n",
    "T_cross = sim_data[\"flux_cross\"].flux\n",
    "\n",
    "ax1.plot(ldas, 10 * np.log10(T_through))\n",
    "ax1.set_xlabel(\"Wavelength ($\\mu m$)\")\n",
    "ax1.set_ylabel(\"Insertion loss (dB)\")\n",
    "ax1.set_ylim((-0.3, 0))\n",
    "\n",
    "ax2.plot(ldas, 10 * np.log10(T_cross/T_through))\n",
    "ax2.set_xlabel(\"Wavelength ($\\mu m$)\")\n",
    "ax2.set_ylabel(\"Crosstalk (dB)\")\n",
    "ax2.set_ylim((-30, -25))\n",
    "plt.show()\n"
   ]
  },
  {
   "cell_type": "code",
   "execution_count": null,
   "id": "d60f5fdb",
   "metadata": {},
   "outputs": [],
   "source": []
  }
 ],
 "metadata": {
  "description": "This notebook demonstrates how to model a waveguide crossing in Tidy3D FDTD.",
  "feature_image": "./img/waveguide_crossing.png",
  "kernelspec": {
   "display_name": "Python 3 (ipykernel)",
   "language": "python",
   "name": "python3"
  },
  "keywords": "waveguide crossing, Tidy3D, FDTD",
  "language_info": {
   "codemirror_mode": {
    "name": "ipython",
    "version": 3
   },
   "file_extension": ".py",
   "mimetype": "text/x-python",
   "name": "python",
   "nbconvert_exporter": "python",
   "pygments_lexer": "ipython3",
   "version": "3.10.0"
  },
  "title": "How to model a waveguide crossing in Tidy3D FDTD",
  "widgets": {
   "application/vnd.jupyter.widget-state+json": {
    "state": {
     "3339335b895e4daca6b38366c87baa57": {
      "model_module": "@jupyter-widgets/base",
      "model_module_version": "1.2.0",
      "model_name": "LayoutModel",
      "state": {
       "_model_module": "@jupyter-widgets/base",
       "_model_module_version": "1.2.0",
       "_model_name": "LayoutModel",
       "_view_count": null,
       "_view_module": "@jupyter-widgets/base",
       "_view_module_version": "1.2.0",
       "_view_name": "LayoutView",
       "align_content": null,
       "align_items": null,
       "align_self": null,
       "border": null,
       "bottom": null,
       "display": null,
       "flex": null,
       "flex_flow": null,
       "grid_area": null,
       "grid_auto_columns": null,
       "grid_auto_flow": null,
       "grid_auto_rows": null,
       "grid_column": null,
       "grid_gap": null,
       "grid_row": null,
       "grid_template_areas": null,
       "grid_template_columns": null,
       "grid_template_rows": null,
       "height": null,
       "justify_content": null,
       "justify_items": null,
       "left": null,
       "margin": null,
       "max_height": null,
       "max_width": null,
       "min_height": null,
       "min_width": null,
       "object_fit": null,
       "object_position": null,
       "order": null,
       "overflow": null,
       "overflow_x": null,
       "overflow_y": null,
       "padding": null,
       "right": null,
       "top": null,
       "visibility": null,
       "width": null
      }
     },
     "5685332c7be649d79f3b8a7b28f63b7f": {
      "model_module": "@jupyter-widgets/output",
      "model_module_version": "1.0.0",
      "model_name": "OutputModel",
      "state": {
       "_dom_classes": [],
       "_model_module": "@jupyter-widgets/output",
       "_model_module_version": "1.0.0",
       "_model_name": "OutputModel",
       "_view_count": null,
       "_view_module": "@jupyter-widgets/output",
       "_view_module_version": "1.0.0",
       "_view_name": "OutputView",
       "layout": "IPY_MODEL_3339335b895e4daca6b38366c87baa57",
       "msg_id": "",
       "outputs": [
        {
         "data": {
          "text/html": "<pre style=\"white-space:pre;overflow-x:auto;line-height:normal;font-family:Menlo,'DejaVu Sans Mono',consolas,'Courier New',monospace\"><span style=\"color: #008000; text-decoration-color: #008000\">🏃 </span> <span style=\"color: #008000; text-decoration-color: #008000; font-weight: bold\">Starting 'waveguide_crossing'...</span>\n</pre>\n",
          "text/plain": "\u001b[32m🏃 \u001b[0m \u001b[1;32mStarting 'waveguide_crossing'...\u001b[0m\n"
         },
         "metadata": {},
         "output_type": "display_data"
        }
       ]
      }
     },
     "876d8821bb7045bfb21323b43b89c82c": {
      "model_module": "@jupyter-widgets/output",
      "model_module_version": "1.0.0",
      "model_name": "OutputModel",
      "state": {
       "_dom_classes": [],
       "_model_module": "@jupyter-widgets/output",
       "_model_module_version": "1.0.0",
       "_model_name": "OutputModel",
       "_view_count": null,
       "_view_module": "@jupyter-widgets/output",
       "_view_module_version": "1.0.0",
       "_view_name": "OutputView",
       "layout": "IPY_MODEL_c937a8bb2ed646c39c6e4e765006fec4",
       "msg_id": "",
       "outputs": [
        {
         "data": {
          "text/html": "<pre style=\"white-space:pre;overflow-x:auto;line-height:normal;font-family:Menlo,'DejaVu Sans Mono',consolas,'Courier New',monospace\">% done (field decay = 2.06e-06) <span style=\"color: #729c1f; text-decoration-color: #729c1f\">━━━━━━━━━━━━━━━━━━━━━━━━━━━━━━━━━━━━━━━━</span> <span style=\"color: #800080; text-decoration-color: #800080\">100%</span> <span style=\"color: #008080; text-decoration-color: #008080\">0:00:00</span>\n</pre>\n",
          "text/plain": "% done (field decay = 2.06e-06) \u001b[38;2;114;156;31m━━━━━━━━━━━━━━━━━━━━━━━━━━━━━━━━━━━━━━━━\u001b[0m \u001b[35m100%\u001b[0m \u001b[36m0:00:00\u001b[0m\n"
         },
         "metadata": {},
         "output_type": "display_data"
        }
       ]
      }
     },
     "a345f750e7fd422b9ffe29e4b2f03123": {
      "model_module": "@jupyter-widgets/base",
      "model_module_version": "1.2.0",
      "model_name": "LayoutModel",
      "state": {
       "_model_module": "@jupyter-widgets/base",
       "_model_module_version": "1.2.0",
       "_model_name": "LayoutModel",
       "_view_count": null,
       "_view_module": "@jupyter-widgets/base",
       "_view_module_version": "1.2.0",
       "_view_name": "LayoutView",
       "align_content": null,
       "align_items": null,
       "align_self": null,
       "border": null,
       "bottom": null,
       "display": null,
       "flex": null,
       "flex_flow": null,
       "grid_area": null,
       "grid_auto_columns": null,
       "grid_auto_flow": null,
       "grid_auto_rows": null,
       "grid_column": null,
       "grid_gap": null,
       "grid_row": null,
       "grid_template_areas": null,
       "grid_template_columns": null,
       "grid_template_rows": null,
       "height": null,
       "justify_content": null,
       "justify_items": null,
       "left": null,
       "margin": null,
       "max_height": null,
       "max_width": null,
       "min_height": null,
       "min_width": null,
       "object_fit": null,
       "object_position": null,
       "order": null,
       "overflow": null,
       "overflow_x": null,
       "overflow_y": null,
       "padding": null,
       "right": null,
       "top": null,
       "visibility": null,
       "width": null
      }
     },
     "ace44d62607c4360aca0f3c468e006b7": {
      "model_module": "@jupyter-widgets/output",
      "model_module_version": "1.0.0",
      "model_name": "OutputModel",
      "state": {
       "_dom_classes": [],
       "_model_module": "@jupyter-widgets/output",
       "_model_module_version": "1.0.0",
       "_model_name": "OutputModel",
       "_view_count": null,
       "_view_module": "@jupyter-widgets/output",
       "_view_module_version": "1.0.0",
       "_view_name": "OutputView",
       "layout": "IPY_MODEL_b1b843b8f25944e293b40248e148709e",
       "msg_id": "",
       "outputs": [
        {
         "data": {
          "text/html": "<pre style=\"white-space:pre;overflow-x:auto;line-height:normal;font-family:Menlo,'DejaVu Sans Mono',consolas,'Courier New',monospace\"><span style=\"color: #008000; text-decoration-color: #008000\">🚶 </span> <span style=\"color: #008000; text-decoration-color: #008000; font-weight: bold\">Finishing 'waveguide_crossing'...</span>\n</pre>\n",
          "text/plain": "\u001b[32m🚶 \u001b[0m \u001b[1;32mFinishing 'waveguide_crossing'...\u001b[0m\n"
         },
         "metadata": {},
         "output_type": "display_data"
        }
       ]
      }
     },
     "b1b843b8f25944e293b40248e148709e": {
      "model_module": "@jupyter-widgets/base",
      "model_module_version": "1.2.0",
      "model_name": "LayoutModel",
      "state": {
       "_model_module": "@jupyter-widgets/base",
       "_model_module_version": "1.2.0",
       "_model_name": "LayoutModel",
       "_view_count": null,
       "_view_module": "@jupyter-widgets/base",
       "_view_module_version": "1.2.0",
       "_view_name": "LayoutView",
       "align_content": null,
       "align_items": null,
       "align_self": null,
       "border": null,
       "bottom": null,
       "display": null,
       "flex": null,
       "flex_flow": null,
       "grid_area": null,
       "grid_auto_columns": null,
       "grid_auto_flow": null,
       "grid_auto_rows": null,
       "grid_column": null,
       "grid_gap": null,
       "grid_row": null,
       "grid_template_areas": null,
       "grid_template_columns": null,
       "grid_template_rows": null,
       "height": null,
       "justify_content": null,
       "justify_items": null,
       "left": null,
       "margin": null,
       "max_height": null,
       "max_width": null,
       "min_height": null,
       "min_width": null,
       "object_fit": null,
       "object_position": null,
       "order": null,
       "overflow": null,
       "overflow_x": null,
       "overflow_y": null,
       "padding": null,
       "right": null,
       "top": null,
       "visibility": null,
       "width": null
      }
     },
     "c937a8bb2ed646c39c6e4e765006fec4": {
      "model_module": "@jupyter-widgets/base",
      "model_module_version": "1.2.0",
      "model_name": "LayoutModel",
      "state": {
       "_model_module": "@jupyter-widgets/base",
       "_model_module_version": "1.2.0",
       "_model_name": "LayoutModel",
       "_view_count": null,
       "_view_module": "@jupyter-widgets/base",
       "_view_module_version": "1.2.0",
       "_view_name": "LayoutView",
       "align_content": null,
       "align_items": null,
       "align_self": null,
       "border": null,
       "bottom": null,
       "display": null,
       "flex": null,
       "flex_flow": null,
       "grid_area": null,
       "grid_auto_columns": null,
       "grid_auto_flow": null,
       "grid_auto_rows": null,
       "grid_column": null,
       "grid_gap": null,
       "grid_row": null,
       "grid_template_areas": null,
       "grid_template_columns": null,
       "grid_template_rows": null,
       "height": null,
       "justify_content": null,
       "justify_items": null,
       "left": null,
       "margin": null,
       "max_height": null,
       "max_width": null,
       "min_height": null,
       "min_width": null,
       "object_fit": null,
       "object_position": null,
       "order": null,
       "overflow": null,
       "overflow_x": null,
       "overflow_y": null,
       "padding": null,
       "right": null,
       "top": null,
       "visibility": null,
       "width": null
      }
     },
     "d1804110a3e5485a9315a05d3bb2cd23": {
      "model_module": "@jupyter-widgets/output",
      "model_module_version": "1.0.0",
      "model_name": "OutputModel",
      "state": {
       "_dom_classes": [],
       "_model_module": "@jupyter-widgets/output",
       "_model_module_version": "1.0.0",
       "_model_name": "OutputModel",
       "_view_count": null,
       "_view_module": "@jupyter-widgets/output",
       "_view_module_version": "1.0.0",
       "_view_name": "OutputView",
       "layout": "IPY_MODEL_a345f750e7fd422b9ffe29e4b2f03123",
       "msg_id": "",
       "outputs": [
        {
         "data": {
          "text/html": "<pre style=\"white-space:pre;overflow-x:auto;line-height:normal;font-family:Menlo,'DejaVu Sans Mono',consolas,'Courier New',monospace\"><span style=\"color: #800000; text-decoration-color: #800000; font-weight: bold\">↑</span> <span style=\"color: #000080; text-decoration-color: #000080; font-weight: bold\">simulation.json</span> <span style=\"color: #729c1f; text-decoration-color: #729c1f\">━━━━━━━━━━━━━━━━━━━━━━━━━━━━━━━━━━━━━━━</span> <span style=\"color: #800080; text-decoration-color: #800080\">100.0%</span> • <span style=\"color: #008000; text-decoration-color: #008000\">19.7/19.7 kB</span> • <span style=\"color: #800000; text-decoration-color: #800000\">?</span> • <span style=\"color: #008080; text-decoration-color: #008080\">0:00:00</span>\n</pre>\n",
          "text/plain": "\u001b[1;31m↑\u001b[0m \u001b[1;34msimulation.json\u001b[0m \u001b[38;2;114;156;31m━━━━━━━━━━━━━━━━━━━━━━━━━━━━━━━━━━━━━━━\u001b[0m \u001b[35m100.0%\u001b[0m • \u001b[32m19.7/19.7 kB\u001b[0m • \u001b[31m?\u001b[0m • \u001b[36m0:00:00\u001b[0m\n"
         },
         "metadata": {},
         "output_type": "display_data"
        }
       ]
      }
     },
     "df1fbdd3952d4575ae0f3b230d4fb2e8": {
      "model_module": "@jupyter-widgets/base",
      "model_module_version": "1.2.0",
      "model_name": "LayoutModel",
      "state": {
       "_model_module": "@jupyter-widgets/base",
       "_model_module_version": "1.2.0",
       "_model_name": "LayoutModel",
       "_view_count": null,
       "_view_module": "@jupyter-widgets/base",
       "_view_module_version": "1.2.0",
       "_view_name": "LayoutView",
       "align_content": null,
       "align_items": null,
       "align_self": null,
       "border": null,
       "bottom": null,
       "display": null,
       "flex": null,
       "flex_flow": null,
       "grid_area": null,
       "grid_auto_columns": null,
       "grid_auto_flow": null,
       "grid_auto_rows": null,
       "grid_column": null,
       "grid_gap": null,
       "grid_row": null,
       "grid_template_areas": null,
       "grid_template_columns": null,
       "grid_template_rows": null,
       "height": null,
       "justify_content": null,
       "justify_items": null,
       "left": null,
       "margin": null,
       "max_height": null,
       "max_width": null,
       "min_height": null,
       "min_width": null,
       "object_fit": null,
       "object_position": null,
       "order": null,
       "overflow": null,
       "overflow_x": null,
       "overflow_y": null,
       "padding": null,
       "right": null,
       "top": null,
       "visibility": null,
       "width": null
      }
     },
     "f39b9d043ec746f5bfda4577f4ba4dc5": {
      "model_module": "@jupyter-widgets/output",
      "model_module_version": "1.0.0",
      "model_name": "OutputModel",
      "state": {
       "_dom_classes": [],
       "_model_module": "@jupyter-widgets/output",
       "_model_module_version": "1.0.0",
       "_model_name": "OutputModel",
       "_view_count": null,
       "_view_module": "@jupyter-widgets/output",
       "_view_module_version": "1.0.0",
       "_view_name": "OutputView",
       "layout": "IPY_MODEL_df1fbdd3952d4575ae0f3b230d4fb2e8",
       "msg_id": "",
       "outputs": [
        {
         "data": {
          "text/html": "<pre style=\"white-space:pre;overflow-x:auto;line-height:normal;font-family:Menlo,'DejaVu Sans Mono',consolas,'Courier New',monospace\"><span style=\"color: #008000; text-decoration-color: #008000; font-weight: bold\">↓</span> <span style=\"color: #000080; text-decoration-color: #000080; font-weight: bold\">monitor_data.hdf5</span> <span style=\"color: #729c1f; text-decoration-color: #729c1f\">━━━━━━━━━━━━━━━━━━━━━━━━━━━━━</span> <span style=\"color: #800080; text-decoration-color: #800080\">100.0%</span> • <span style=\"color: #008000; text-decoration-color: #008000\">31.0/31.0 MB</span> • <span style=\"color: #800000; text-decoration-color: #800000\">28.4 MB/s</span> • <span style=\"color: #008080; text-decoration-color: #008080\">0:00:00</span>\n</pre>\n",
          "text/plain": "\u001b[1;32m↓\u001b[0m \u001b[1;34mmonitor_data.hdf5\u001b[0m \u001b[38;2;114;156;31m━━━━━━━━━━━━━━━━━━━━━━━━━━━━━\u001b[0m \u001b[35m100.0%\u001b[0m • \u001b[32m31.0/31.0 MB\u001b[0m • \u001b[31m28.4 MB/s\u001b[0m • \u001b[36m0:00:00\u001b[0m\n"
         },
         "metadata": {},
         "output_type": "display_data"
        }
       ]
      }
     }
    },
    "version_major": 2,
    "version_minor": 0
   }
  }
 },
 "nbformat": 4,
 "nbformat_minor": 5
}
