{
 "cells": [
  {
   "cell_type": "markdown",
   "id": "fed083e4-9be1-480c-82e9-4bfd7dbccf1f",
   "metadata": {},
   "source": [
    "# Adjoint Plugin: 2 Checking Gradients\n",
    "\n",
    "Run this notebook in your browser using [Binder](https://mybinder.org/v2/gh/flexcompute-readthedocs/tidy3d-docs/readthedocs?labpath=docs%2Fsource%2Fnotebooks%2FAdjointPlugin_2_GradientChecking.ipynb).\n",
    "\n",
    "In this notebook, we will show how to use the adjoint plugin for [DiffractionMonitor](https://docs.flexcompute.com/projects/tidy3d/en/latest/_autosummary/tidy3d.DiffractionMonitor.html?highlight=DiffractionMonitor#tidy3d.DiffractionMonitor) outputs and also check the gradient values against gradients obtained using transfer matrix method (TMM) to validate their accuracy for a multilayer slab problem."
   ]
  },
  {
   "cell_type": "code",
   "execution_count": 1,
   "id": "51963da1",
   "metadata": {
    "tags": []
   },
   "outputs": [
    {
     "name": "stderr",
     "output_type": "stream",
     "text": [
      "INFO:rich:Using client version: 1.8.0\n"
     ]
    }
   ],
   "source": [
    "import numpy as np\n",
    "import jax.numpy as jnp\n",
    "import jax\n",
    "import tmm\n",
    "import matplotlib.pyplot as plt\n",
    "from typing import Tuple, List\n",
    "\n",
    "import tidy3d as td\n",
    "from tidy3d.web import run as run_sim\n",
    "from tidy3d.plugins.adjoint import JaxSimulation, JaxBox, JaxAnisotropicMedium, JaxMedium, JaxStructure, JaxSimulationData\n",
    "from tidy3d.plugins.adjoint.web import run as run_adjoint"
   ]
  },
  {
   "cell_type": "markdown",
   "id": "b33d0892-62d3-4329-810f-f29ce10056b4",
   "metadata": {},
   "source": [
    "First, we define some global paramaters describing the transmission through a multilayer slab with some spacing between each slab.\n",
    "\n",
    "The layout is diagrammed below.\n",
    "\n",
    "<!-- <img src=\"img/AdjointMultilayer.png\" width=800> -->\n"
   ]
  },
  {
   "cell_type": "code",
   "execution_count": 2,
   "id": "ccbd2c6a-419d-4570-8f91-f57ad5bad813",
   "metadata": {
    "tags": []
   },
   "outputs": [],
   "source": [
    "# frequency we want to simulate at\n",
    "freq0 = 2.0e14\n",
    "k0 = 2 * np.pi * freq0 / td.C_0\n",
    "freqs = [freq0]\n",
    "wavelength = td.C_0 / freq0\n",
    "\n",
    "# background permittivity\n",
    "bck_eps = 1.0**2\n",
    "\n",
    "# space between each slab\n",
    "spc = 0.0\n",
    "\n",
    "# slab permittivitties and thicknesses\n",
    "slab_eps0 = [2.**2, 1.8**2, 1.5**2, 1.9**2]\n",
    "slab_ds0 = [0.5, 0.25, 0.5, 0.5]\n",
    "\n",
    "# incidence angle\n",
    "theta = np.pi/8\n",
    "\n",
    "# resolution\n",
    "dl = 0.01"
   ]
  },
  {
   "cell_type": "markdown",
   "id": "48dd37b0-ba97-45cd-a861-53ea6ae3fa74",
   "metadata": {},
   "source": [
    "## Transfer Matrix Method (Ground Truth)\n",
    "\n",
    "Next we use the `tmm` package to write a function to return the transmission `T` of `p` polarized light given a set of slab permittivities and thicknesses. We'll also write a function to compute the numerical gradient using TMM and will take these to be our \"ground truths\" when evaluating the accuracy of our values obtained through FDTD and the adjoint plugin.\n",
    "\n",
    "### Transmission Calculation with TMM\n",
    "\n",
    "First, we write a function to compute transmission."
   ]
  },
  {
   "cell_type": "code",
   "execution_count": 3,
   "id": "cc4f6e91-6a53-476e-b4c6-e76e50246426",
   "metadata": {
    "tags": []
   },
   "outputs": [],
   "source": [
    "def compute_T_tmm(slab_eps=slab_eps0) -> float:\n",
    "    \"\"\"Get transmission as a function of slab permittivities and thicknesses.\"\"\"\n",
    "\n",
    "    # construct lists of permittivities and thicknesses including spaces between\n",
    "    new_slab_eps = []\n",
    "    new_slab_ds = []\n",
    "    for eps, d in zip(slab_eps, slab_ds0):\n",
    "        new_slab_eps.append(eps)\n",
    "        new_slab_eps.append(bck_eps)\n",
    "        new_slab_ds.append(d)\n",
    "        new_slab_ds.append(spc)\n",
    "    slab_eps = new_slab_eps[:-1]\n",
    "    slab_ds = new_slab_ds[:-1]\n",
    "\n",
    "    # add the input and output spaces to the lists\n",
    "    eps_list = [bck_eps] + slab_eps + [bck_eps]\n",
    "    n_list = np.sqrt(eps_list)    \n",
    "    d_list = [np.inf] + slab_ds + [np.inf]\n",
    "    \n",
    "    # compute transmission with TMM\n",
    "    return tmm.coh_tmm(\"p\", n_list, d_list, theta, wavelength)[\"T\"]"
   ]
  },
  {
   "cell_type": "markdown",
   "id": "c6c0da6b-2d2f-4be5-80e6-c84afd8d1a23",
   "metadata": {},
   "source": [
    "We run this function with our starting parameters and see that we get a transmission of about 98% for the set of input parameters."
   ]
  },
  {
   "cell_type": "code",
   "execution_count": 4,
   "id": "c1743e54-d7f3-468a-8ac4-d42d4c2bc8dc",
   "metadata": {
    "tags": []
   },
   "outputs": [
    {
     "name": "stdout",
     "output_type": "stream",
     "text": [
      "T (tmm) = 0.913\n"
     ]
    }
   ],
   "source": [
    "T_tmm = compute_T_tmm(slab_eps=slab_eps0)\n",
    "print(f\"T (tmm) = {T_tmm:.3f}\")"
   ]
  },
  {
   "cell_type": "markdown",
   "id": "452db467-f486-468d-8ec9-b9e669755c92",
   "metadata": {},
   "source": [
    "### Numerical Gradient with TMM\n",
    "\n",
    "Next, we will use our `compute_T_tmm()` function to compute the \"numerical\" gradient to use as comparison against our adjoint results with FDTD.\n",
    "\n",
    "The derivative of a function $f(x)$ w.r.t. $x$ can be approximated using finite differences as\n",
    "\n",
    "$$ \\frac{df}{dx}(x) \\approx \\frac{f(x+\\Delta) - f(x-\\Delta)}{2\\Delta}$$\n",
    "\n",
    "with a small step $\\Delta$.\n",
    "\n",
    "To compute the gradient of our tramsmission with respect to each of the slab thicknesses and permittivities, we need to repeat this step for each of the values. Luckily, since TMM is very fast, we can compute these quantities quite quickly compared to if we were using FDTD.\n",
    "\n",
    "Here we write a function to return this gradient."
   ]
  },
  {
   "cell_type": "code",
   "execution_count": 5,
   "id": "15d5bae1-6fc7-41c8-8772-2e80505be17d",
   "metadata": {
    "tags": []
   },
   "outputs": [],
   "source": [
    "def compute_grad_tmm(slab_eps=slab_eps0) -> Tuple[List[float], List[float]]:\n",
    "    \"\"\"Compute numerical graident of transmission w.r.t. each of the slab permittivities and thicknesses using TMM.\"\"\"\n",
    "\n",
    "    delta = 1e-4\n",
    "\n",
    "    # set up containers to store gradient and perturbed arguments\n",
    "    num_slabs = len(slab_eps)\n",
    "    grad_eps = np.zeros(num_slabs, dtype=float)\n",
    "    args = np.array(slab_eps)\n",
    "\n",
    "    # loop through slab index and argument index (eps, d)\n",
    "    for slab_index in range(num_slabs):\n",
    "        grad = 0.0\n",
    "\n",
    "        # perturb the argument by delta in each + and - direction\n",
    "        for pm in (-1, +1):\n",
    "            args_num = args.copy()\n",
    "            args_num[slab_index] += delta * pm\n",
    "\n",
    "            # compute argument perturbed T and add to finite difference gradient contribution\n",
    "            T_tmm = compute_T_tmm(slab_eps=args_num)\n",
    "            grad += pm * T_tmm / 2 / delta        \n",
    "\n",
    "        grad_eps[slab_index] = grad\n",
    "    return grad_eps"
   ]
  },
  {
   "cell_type": "markdown",
   "id": "d3c362ca-fb31-4ead-8e7c-fcc24d0faecc",
   "metadata": {},
   "source": [
    "Let's run this function and observe the gradients. These will be saved later to compare against our adjoint plugin results."
   ]
  },
  {
   "cell_type": "code",
   "execution_count": 6,
   "id": "b5d1cc93-6d6e-43a7-8e5f-f1829770f3d5",
   "metadata": {
    "tags": []
   },
   "outputs": [
    {
     "name": "stdout",
     "output_type": "stream",
     "text": [
      "gradient w.r.t. eps (tmm)  = [-0.22387174 -0.00955211 -0.18822265 -0.2259062 ]\n"
     ]
    }
   ],
   "source": [
    "grad_eps_tmm = compute_grad_tmm()\n",
    "print(f\"gradient w.r.t. eps (tmm)  = {grad_eps_tmm}\")"
   ]
  },
  {
   "cell_type": "markdown",
   "id": "50ca68ae-ca5a-49aa-9969-ac6d43324ea9",
   "metadata": {},
   "source": [
    "## FDTD (Using adjoint plugin)\n",
    "\n",
    "Next, we will implement the same two functions using Tidy3D's adjoint plugin.\n",
    "\n",
    "### Transmission Calculation with FDTD\n",
    "\n",
    "We first write a function to compute the transmission of a multilayer slab using Tidy3D.\n",
    "\n",
    "As discussed in the previous adjoint tutorial notebook, we need to use `jax`-compatible components from the tidy3d subclass for any structures that may depend on the parameters. In this case, this means that the slabs must be `JaxStructures` containing `JaxBox` and `JaxMedium` and must be added to `JaxSimulation.input_structures`.\n",
    "\n",
    "We use a [DiffractionMonitor](https://docs.flexcompute.com/projects/tidy3d/en/latest/_autosummary/tidy3d.DiffractionMonitor.html?highlight=DiffractionMonitor#tidy3d.DiffractionMonitor) to measure our transmission amplitudes. As the data corresponding to this monitor will be used in the differentiable function return value, we must add it to `JaxSimulation.output_monitors`.\n",
    "\n",
    "Below, we break up the transmission calculation into a few functions to make it easier to read and re-use later."
   ]
  },
  {
   "cell_type": "code",
   "execution_count": 7,
   "id": "4d12f133-a8d8-4e59-938f-fca4d2e2fa0b",
   "metadata": {
    "tags": []
   },
   "outputs": [],
   "source": [
    "def make_sim(slab_eps_xx=slab_eps0, slab_eps_yy=slab_eps0, slab_eps_zz=slab_eps0) -> JaxSimulation:\n",
    "    \"\"\"Create a JaxSimulation given the slab permittivties and thicknesses.\"\"\"\n",
    "\n",
    "    # frequency setup\n",
    "    wavelength = td.C_0 / freq0\n",
    "    fwidth = freq0 / 10.0\n",
    "    freqs = [freq0]\n",
    "\n",
    "    # geometry setup\n",
    "    bck_medium = td.Medium(permittivity=bck_eps)\n",
    "\n",
    "    space_above = 2\n",
    "    space_below = 2\n",
    "\n",
    "    length_x = 0.1\n",
    "    length_y = 0.1\n",
    "    length_z = space_below + sum(slab_ds0) + space_above + (len(slab_ds0) - 1) * spc\n",
    "    sim_size = (length_x, length_y, length_z)\n",
    "\n",
    "    # make structures\n",
    "    slabs = []\n",
    "    z_start = -length_z/2 + space_below\n",
    "    for d, eps_xx, eps_yy, eps_zz in zip(slab_ds0, slab_eps_xx, slab_eps_yy, slab_eps_zz):\n",
    "        slab = JaxStructure(\n",
    "            geometry=JaxBox(center=[0, 0, z_start + d / 2], size=[td.inf, td.inf, d]),\n",
    "            medium=JaxAnisotropicMedium(\n",
    "                xx=JaxMedium(permittivity=eps_xx),\n",
    "                yy=JaxMedium(permittivity=eps_yy),\n",
    "                zz=JaxMedium(permittivity=eps_zz),\n",
    "            ),\n",
    "        )\n",
    "        slabs.append(slab)\n",
    "        z_start += d + spc\n",
    "\n",
    "    # source setup\n",
    "    gaussian = td.GaussianPulse(freq0=freq0, fwidth=fwidth)\n",
    "    src_z = -length_z/2 + space_below/2.0\n",
    "\n",
    "    source = td.PlaneWave(\n",
    "        center=(0, 0, src_z),\n",
    "        size=(td.inf, td.inf, 0),\n",
    "        source_time=gaussian,\n",
    "        direction=\"+\",\n",
    "        angle_theta=theta,\n",
    "        angle_phi=0,\n",
    "        pol_angle=0,\n",
    "    )\n",
    "\n",
    "    # boundaries\n",
    "    boundary_x = td.Boundary.bloch_from_source(\n",
    "        source=source, domain_size=sim_size[0], axis=0, medium=bck_medium\n",
    "    )\n",
    "    boundary_y = td.Boundary.bloch_from_source(\n",
    "        source=source, domain_size=sim_size[1], axis=1, medium=bck_medium\n",
    "    )    \n",
    "    boundary_spec = td.BoundarySpec(x=boundary_x, y=boundary_y, z=td.Boundary.pml(num_layers=40))\n",
    "\n",
    "    # monitors\n",
    "    mnt_z = length_z/2 - space_above/2.0\n",
    "    monitor_1 = td.DiffractionMonitor(\n",
    "        center=[0.0, 0.0, mnt_z],\n",
    "        size=[td.inf, td.inf, 0],\n",
    "        freqs=freqs,\n",
    "        name=\"diffraction\",\n",
    "        normal_dir=\"+\",\n",
    "    )\n",
    "\n",
    "    # make simulation\n",
    "    return JaxSimulation(\n",
    "        size=sim_size,\n",
    "        grid_spec=td.GridSpec.auto(min_steps_per_wvl=100),\n",
    "        input_structures=slabs,\n",
    "        sources=[source],\n",
    "        output_monitors=[monitor_1],\n",
    "        run_time= 10 / fwidth,\n",
    "        boundary_spec=boundary_spec,\n",
    "        medium=bck_medium,\n",
    "        subpixel=True,\n",
    "        shutoff=1e-8,\n",
    "    )"
   ]
  },
  {
   "cell_type": "markdown",
   "id": "9addea1f-4dd8-4e5e-a058-b94638fb2d70",
   "metadata": {},
   "source": [
    "Let's generate a simulation and plot it to make sure it looks reasonable."
   ]
  },
  {
   "cell_type": "code",
   "execution_count": 8,
   "id": "bc0dc456-e742-4299-ae5e-22daa49e3997",
   "metadata": {
    "tags": []
   },
   "outputs": [
    {
     "name": "stderr",
     "output_type": "stream",
     "text": [
      "WARNING:rich:It appears that elements 0 and 1 of 'JaxSimulation.input_structures' are touching but not overlapping. Note: the accuracy of the geometric gradients (eg. size, center) may suffer in this scenario as any dilation or translation of 'input_structures[1]' may inpinge on the domain of 'input_structures[0]'.\n",
      "INFO:rich:Auto meshing using wavelength 1.4990 defined from sources.\n"
     ]
    },
    {
     "data": {
      "image/png": "[encoded data removed]"
     },
     "metadata": {
      "needs_background": "light"
     },
     "output_type": "display_data"
    }
   ],
   "source": [
    "sim = make_sim()\n",
    "f, ax = plt.subplots(1, 1, figsize=(10, 10))\n",
    "sim.plot(y=0, ax=ax)\n",
    "plt.show()"
   ]
  },
  {
   "cell_type": "markdown",
   "id": "e4c9a742-5988-444d-9ac4-34b612d42289",
   "metadata": {},
   "source": [
    "Now we write a function to post process some run results to get the transmission we are after."
   ]
  },
  {
   "cell_type": "code",
   "execution_count": 9,
   "id": "1917a8b6-8ba9-4767-90ca-06cd6daadcd3",
   "metadata": {},
   "outputs": [],
   "source": [
    "def post_process_T(sim_data: JaxSimulationData) -> float:\n",
    "    \"\"\"Given some JaxSimulationData from the run, return the transmission of \"p\" polarized light.\"\"\"\n",
    "    amps = sim_data.output_monitor_data[\"diffraction\"].amps.sel(polarization=\"p\")\n",
    "    return jnp.sum(abs(amps.values)**2)"
   ]
  },
  {
   "cell_type": "markdown",
   "id": "b65e4d49-e8b1-4e05-9fce-57bd63b3f2cf",
   "metadata": {},
   "source": [
    "And finally, put everything together in a single function that relates the permittivities and thicknesses of each slab to the transmission, through a `JaxSimulation` run using the adjoint plugin."
   ]
  },
  {
   "cell_type": "code",
   "execution_count": 10,
   "id": "f64ac290-b67d-4a9a-88e8-504de931fef8",
   "metadata": {},
   "outputs": [],
   "source": [
    "def compute_T_fdtd(slab_eps_xx=slab_eps0, slab_eps_yy=slab_eps0, slab_eps_zz=slab_eps0) -> float:\n",
    "    \"\"\"Given the slab permittivities and thicknesses, compute T, making sure to use `tidy3d.plugins.adjoint.web.run_adjoint`.\"\"\"\n",
    "    sim = make_sim(slab_eps_xx=slab_eps_xx, slab_eps_yy=slab_eps_yy, slab_eps_zz=slab_eps_zz)\n",
    "    sim_data = run_adjoint(sim, task_name='slab')\n",
    "    return post_process_T(sim_data)"
   ]
  },
  {
   "cell_type": "markdown",
   "id": "c4c19d59-d9a3-4935-b785-5fb6b3b3a819",
   "metadata": {},
   "source": [
    "### Computing T and Gradient with FDTD\n",
    "\n",
    "Now that we have this function defined, we are ready to compute our transmission and gradients using Tidy3d.\n",
    "\n",
    "We first call `jax.value_and_grad()` on our transmission calculation function, which returns a function that will give us both `T` and the gradient of `T` with respect to the input parameters in one shot. For more details, see the previous tutorial."
   ]
  },
  {
   "cell_type": "code",
   "execution_count": 11,
   "id": "59647cdf-8c2a-40d6-bbc9-b7537616938a",
   "metadata": {},
   "outputs": [],
   "source": [
    "compute_T_and_grad_fdtd = jax.value_and_grad(compute_T_fdtd, argnums=(0,1,2))"
   ]
  },
  {
   "cell_type": "markdown",
   "id": "81caed90-8554-441b-8948-b240e181e98c",
   "metadata": {},
   "source": [
    "Next, we call this function on our starting parameters, which will kick off the original (`fwd`) T transmission simulation and then the reverse (`adj`) simulation, which is used in combination with `fwd` for the gradient calculation."
   ]
  },
  {
   "cell_type": "code",
   "execution_count": 12,
   "id": "ef6716b3-79a3-40cc-ac2a-5056b5ed2ae9",
   "metadata": {},
   "outputs": [
    {
     "data": {
      "text/html": [
       "<pre style=\"white-space:pre;overflow-x:auto;line-height:normal;font-family:Menlo,'DejaVu Sans Mono',consolas,'Courier New',monospace\"><span style=\"color: #008000; text-decoration-color: #008000; font-weight: bold\">↓</span> <span style=\"color: #000080; text-decoration-color: #000080; font-weight: bold\">monitor_data.hdf5</span> <span style=\"color: #f92672; text-decoration-color: #f92672\">━━━━━━━━━━━━━━━━━━━━━━━━━━━━━━━━━━━━━╸</span><span style=\"color: #3a3a3a; text-decoration-color: #3a3a3a\">━━</span> <span style=\"color: #800080; text-decoration-color: #800080\">94.3%</span> • <span style=\"color: #008000; text-decoration-color: #008000\">3.7/3.9 MB</span> • <span style=\"color: #800000; text-decoration-color: #800000\">1.7 MB/s</span> • <span style=\"color: #008080; text-decoration-color: #008080\">0:00:01</span>\n",
       "<span style=\"color: #008000; text-decoration-color: #008000; font-weight: bold\">↓</span> <span style=\"color: #000080; text-decoration-color: #000080; font-weight: bold\">monitor_data.hdf5</span> <span style=\"color: #f92672; text-decoration-color: #f92672\">━━━━━━━━━━━━━━━━━━━━━━━━━━━━━━━━━━━━━╸</span><span style=\"color: #3a3a3a; text-decoration-color: #3a3a3a\">━━</span> <span style=\"color: #800080; text-decoration-color: #800080\">94.3%</span> • <span style=\"color: #008000; text-decoration-color: #008000\">3.7/3.9 MB</span> • <span style=\"color: #800000; text-decoration-color: #800000\">1.7 MB/s</span> • <span style=\"color: #008080; text-decoration-color: #008080\">0:00:01</span></pre>\n"
      ],
      "text/plain": [
       "\r",
       "\u001b[2K\u001b[1;32m↓\u001b[0m \u001b[1;34mmonitor_data.hdf5\u001b[0m \u001b[38;2;249;38;114m━━━━━━━━━━━━━━━━━━━━━━━━━━━━━━━━━━━━━\u001b[0m\u001b[38;2;249;38;114m╸\u001b[0m\u001b[38;5;237m━━\u001b[0m \u001b[35m94.3%\u001b[0m • \u001b[32m3.7/3.9 MB\u001b[0m • \u001b[31m1.7 MB/s\u001b[0m • \u001b[36m0:00:01\u001b[0m\n",
       "\u001b[1;32m↓\u001b[0m \u001b[1;34mmonitor_data.hdf5\u001b[0m \u001b[38;2;249;38;114m━━━━━━━━━━━━━━━━━━━━━━━━━━━━━━━━━━━━━\u001b[0m\u001b[38;2;249;38;114m╸\u001b[0m\u001b[38;5;237m━━\u001b[0m \u001b[35m94.3%\u001b[0m • \u001b[32m3.7/3.9 MB\u001b[0m • \u001b[31m1.7 MB/s\u001b[0m • \u001b[36m0:00:01\u001b[0m"
      ]
     },
     "metadata": {},
     "output_type": "display_data"
    },
    {
     "data": {
      "text/html": [
       "<pre style=\"white-space:pre;overflow-x:auto;line-height:normal;font-family:Menlo,'DejaVu Sans Mono',consolas,'Courier New',monospace\">\n",
       "</pre>\n"
      ],
      "text/plain": [
       "\n",
       "\u001b[?25h"
      ]
     },
     "metadata": {},
     "output_type": "display_data"
    },
    {
     "name": "stderr",
     "output_type": "stream",
     "text": [
      "INFO:rich:loading SimulationData from simulation_data.hdf5\n",
      "WARNING:rich:It appears that elements 0 and 1 of 'JaxSimulation.input_structures' are touching but not overlapping. Note: the accuracy of the geometric gradients (eg. size, center) may suffer in this scenario as any dilation or translation of 'input_structures[1]' may inpinge on the domain of 'input_structures[0]'.\n",
      "WARNING:rich:It appears that elements 0 and 1 of 'JaxSimulation.input_structures' are touching but not overlapping. Note: the accuracy of the geometric gradients (eg. size, center) may suffer in this scenario as any dilation or translation of 'input_structures[1]' may inpinge on the domain of 'input_structures[0]'.\n",
      "WARNING:rich:It appears that elements 0 and 1 of 'JaxSimulation.input_structures' are touching but not overlapping. Note: the accuracy of the geometric gradients (eg. size, center) may suffer in this scenario as any dilation or translation of 'input_structures[1]' may inpinge on the domain of 'input_structures[0]'.\n"
     ]
    }
   ],
   "source": [
    "T_fdtd, (grad_eps_xx, grad_eps_yy, grad_eps_zz) = compute_T_and_grad_fdtd(slab_eps0, slab_eps0, slab_eps0)"
   ]
  },
  {
   "cell_type": "markdown",
   "id": "cbd02aa9-41f9-4e28-802d-f9a46b7f6263",
   "metadata": {},
   "source": [
    "### Checking Accuracy of TMM (Numerical) vs FDTD (Adjoint)\n",
    "\n",
    "Let's convert these from jax types to numpy arrays to work with them easier, and then display the results compared to TMM."
   ]
  },
  {
   "cell_type": "code",
   "execution_count": 13,
   "id": "41e66722-bb8c-41d9-a0a7-85009ff46df3",
   "metadata": {},
   "outputs": [],
   "source": [
    "grad_eps_xx = np.array(grad_eps_xx)\n",
    "grad_eps_yy = np.array(grad_eps_yy)\n",
    "grad_eps_zz = np.array(grad_eps_zz)\n",
    "grad_eps_fdtd =  grad_eps_xx + grad_eps_yy + grad_eps_zz"
   ]
  },
  {
   "cell_type": "code",
   "execution_count": 14,
   "id": "953d2497-240a-4295-9fcd-5342942983d0",
   "metadata": {},
   "outputs": [
    {
     "name": "stdout",
     "output_type": "stream",
     "text": [
      "T (tmm)  = 0.91288\n",
      "T (FDTD) = 0.91221\n"
     ]
    }
   ],
   "source": [
    "print(f\"T (tmm)  = {T_tmm:.5f}\")\n",
    "print(f\"T (FDTD) = {T_fdtd:.5f}\")"
   ]
  },
  {
   "cell_type": "markdown",
   "id": "809d274a-9bb4-4f24-a7c2-962fc36f0b74",
   "metadata": {},
   "source": [
    "We see that the transmission results match very well with TMM, giving us a lot of confidence that our set up is correct.\n",
    "\n",
    "Let's look at the gradients now."
   ]
  },
  {
   "cell_type": "code",
   "execution_count": 15,
   "id": "d0e496be-a967-427d-9ed6-8eea5a96fd70",
   "metadata": {},
   "outputs": [
    {
     "name": "stdout",
     "output_type": "stream",
     "text": [
      "un-normalized:\n",
      "\tgrad_eps (tmm)  = [-0.22387174 -0.00955211 -0.18822265 -0.2259062 ]\n",
      "\tgrad_eps (xx)  = [-0.22013935 -0.00106626 -0.17561033 -0.22156227]\n",
      "\tgrad_eps (yy)  = [0. 0. 0. 0.]\n",
      "\tgrad_eps (zz)  = [-0.00404419 -0.00853292 -0.01291033 -0.00469189]\n",
      "\tgrad_eps (bulk)  = [-0.22418354 -0.00959918 -0.18852066 -0.22625415]\n",
      "RMS error = 0.1504379197497055 %\n"
     ]
    }
   ],
   "source": [
    "print(\"un-normalized:\")\n",
    "print(f\"\\tgrad_eps (tmm)  = {grad_eps_tmm}\")\n",
    "\n",
    "print(f\"\\tgrad_eps (xx)  = {grad_eps_xx}\")\n",
    "print(f\"\\tgrad_eps (yy)  = {grad_eps_yy}\")\n",
    "print(f\"\\tgrad_eps (zz)  = {grad_eps_zz}\")\n",
    "print(f\"\\tgrad_eps (bulk)  = {grad_eps_fdtd}\")\n",
    "\n",
    "rms_eps = np.linalg.norm(grad_eps_tmm - grad_eps_fdtd) / np.linalg.norm(grad_eps_tmm)\n",
    "\n",
    "print(f\"RMS error = {rms_eps * 100} %\")\n"
   ]
  },
  {
   "cell_type": "markdown",
   "id": "111ef29c-a78f-468a-b2a7-afa3785ab5aa",
   "metadata": {},
   "source": [
    "The gradients match to < 1% of their respective norms, which is very good agreement.\n",
    "\n",
    "If we only care about the error in the \"directions\" of the gradients, we can compare their normalized versions to each other."
   ]
  },
  {
   "cell_type": "code",
   "execution_count": 16,
   "id": "2993410c-0c1d-412e-9c2c-1c43664ae20c",
   "metadata": {},
   "outputs": [],
   "source": [
    "def normalize(arr):\n",
    "    return arr / np.linalg.norm(arr)\n",
    "\n",
    "grad_eps_tmm_norm = normalize(grad_eps_tmm)\n",
    "grad_eps_fdtd_norm = normalize(grad_eps_fdtd)\n",
    "\n",
    "rms_eps = np.linalg.norm(grad_eps_tmm_norm - grad_eps_fdtd_norm) / np.linalg.norm(grad_eps_tmm_norm)"
   ]
  },
  {
   "cell_type": "code",
   "execution_count": 17,
   "id": "8a375cb8-79ae-4b57-86bd-26af66bba8b4",
   "metadata": {},
   "outputs": [
    {
     "name": "stdout",
     "output_type": "stream",
     "text": [
      "normalized:\n",
      "\tgrad_eps (tmm)  = [-0.60556506 -0.02583811 -0.50913554 -0.6110682 ]\n",
      "\tgrad_eps (FDTD)  = [-0.60550046 -0.02592655 -0.50917804 -0.611093  ]\n",
      "\tRMS error = 0.012006513219903401 %\n"
     ]
    }
   ],
   "source": [
    "print(\"normalized:\")\n",
    "print(f\"\\tgrad_eps (tmm)  = {grad_eps_tmm_norm}\")\n",
    "print(f\"\\tgrad_eps (FDTD)  = {grad_eps_fdtd_norm}\")\n",
    "print(f\"\\tRMS error = {rms_eps * 100} %\")"
   ]
  },
  {
   "cell_type": "markdown",
   "id": "a66dbc89-3804-4576-bf08-31421fcb2476",
   "metadata": {},
   "source": [
    "In which case we see slight improvement, but the unnormalized gradients already match quite well before this."
   ]
  }
 ],
 "metadata": {
  "kernelspec": {
   "display_name": "Python 3 (ipykernel)",
   "language": "python",
   "name": "python3"
  },
  "language_info": {
   "codemirror_mode": {
    "name": "ipython",
    "version": 3
   },
   "file_extension": ".py",
   "mimetype": "text/x-python",
   "name": "python",
   "nbconvert_exporter": "python",
   "pygments_lexer": "ipython3",
   "version": "3.9.9"
  },
  "widgets": {
   "application/vnd.jupyter.widget-state+json": {
    "state": {
     "08031849a8eb409c888764a2b049014f": {
      "model_module": "@jupyter-widgets/base",
      "model_module_version": "2.0.0",
      "model_name": "LayoutModel",
      "state": {
       "_model_module": "@jupyter-widgets/base",
       "_model_module_version": "2.0.0",
       "_model_name": "LayoutModel",
       "_view_count": null,
       "_view_module": "@jupyter-widgets/base",
       "_view_module_version": "2.0.0",
       "_view_name": "LayoutView",
       "align_content": null,
       "align_items": null,
       "align_self": null,
       "border_bottom": null,
       "border_left": null,
       "border_right": null,
       "border_top": null,
       "bottom": null,
       "display": null,
       "flex": null,
       "flex_flow": null,
       "grid_area": null,
       "grid_auto_columns": null,
       "grid_auto_flow": null,
       "grid_auto_rows": null,
       "grid_column": null,
       "grid_gap": null,
       "grid_row": null,
       "grid_template_areas": null,
       "grid_template_columns": null,
       "grid_template_rows": null,
       "height": null,
       "justify_content": null,
       "justify_items": null,
       "left": null,
       "margin": null,
       "max_height": null,
       "max_width": null,
       "min_height": null,
       "min_width": null,
       "object_fit": null,
       "object_position": null,
       "order": null,
       "overflow": null,
       "padding": null,
       "right": null,
       "top": null,
       "visibility": null,
       "width": null
      }
     },
     "0d3c254857d245bdae701d609623d616": {
      "model_module": "@jupyter-widgets/output",
      "model_module_version": "1.0.0",
      "model_name": "OutputModel",
      "state": {
       "_dom_classes": [],
       "_model_module": "@jupyter-widgets/output",
       "_model_module_version": "1.0.0",
       "_model_name": "OutputModel",
       "_view_count": null,
       "_view_module": "@jupyter-widgets/output",
       "_view_module_version": "1.0.0",
       "_view_name": "OutputView",
       "layout": "IPY_MODEL_c99772de5f924ea1a4539ad3892bcb8e",
       "msg_id": "",
       "outputs": [
        {
         "data": {
          "text/html": "<pre style=\"white-space:pre;overflow-x:auto;line-height:normal;font-family:Menlo,'DejaVu Sans Mono',consolas,'Courier New',monospace\">% done <span style=\"color: #3a3a3a; text-decoration-color: #3a3a3a\">━━━━━━━━━━━━━━━━━━━━━━━━━━━━━━━━━━━━━━━━</span> <span style=\"color: #800080; text-decoration-color: #800080\">  0%</span> <span style=\"color: #008080; text-decoration-color: #008080\">-:--:--</span>\n% done <span style=\"color: #3a3a3a; text-decoration-color: #3a3a3a\">━━━━━━━━━━━━━━━━━━━━━━━━━━━━━━━━━━━━━━━━</span> <span style=\"color: #800080; text-decoration-color: #800080\">  0%</span> <span style=\"color: #008080; text-decoration-color: #008080\">-:--:--</span></pre>\n",
          "text/plain": "\r\u001b[2K% done \u001b[38;5;237m━━━━━━━━━━━━━━━━━━━━━━━━━━━━━━━━━━━━━━━━\u001b[0m \u001b[35m  0%\u001b[0m \u001b[36m-:--:--\u001b[0m\n% done \u001b[38;5;237m━━━━━━━━━━━━━━━━━━━━━━━━━━━━━━━━━━━━━━━━\u001b[0m \u001b[35m  0%\u001b[0m \u001b[36m-:--:--\u001b[0m"
         },
         "metadata": {},
         "output_type": "display_data"
        }
       ],
       "tabbable": null,
       "tooltip": null
      }
     },
     "202bf224464e4c01b6cecb80e337b469": {
      "model_module": "@jupyter-widgets/output",
      "model_module_version": "1.0.0",
      "model_name": "OutputModel",
      "state": {
       "_dom_classes": [],
       "_model_module": "@jupyter-widgets/output",
       "_model_module_version": "1.0.0",
       "_model_name": "OutputModel",
       "_view_count": null,
       "_view_module": "@jupyter-widgets/output",
       "_view_module_version": "1.0.0",
       "_view_name": "OutputView",
       "layout": "IPY_MODEL_08031849a8eb409c888764a2b049014f",
       "msg_id": "",
       "outputs": [
        {
         "data": {
          "text/html": "<pre style=\"white-space:pre;overflow-x:auto;line-height:normal;font-family:Menlo,'DejaVu Sans Mono',consolas,'Courier New',monospace\"><span style=\"color: #800000; text-decoration-color: #800000; font-weight: bold\">↑</span> <span style=\"color: #000080; text-decoration-color: #000080; font-weight: bold\">simulation.json</span> <span style=\"color: #3a3a3a; text-decoration-color: #3a3a3a\">━━━━━━━━━━━━━━━━━━━━━━━━━━━━━━━━━━━━━━━━</span> <span style=\"color: #800080; text-decoration-color: #800080\">0.0%</span> • <span style=\"color: #008000; text-decoration-color: #008000\">0.0/5.9 kB</span> • <span style=\"color: #800000; text-decoration-color: #800000\">?</span> • <span style=\"color: #008080; text-decoration-color: #008080\">-:--:--</span>\n<span style=\"color: #800000; text-decoration-color: #800000; font-weight: bold\">↑</span> <span style=\"color: #000080; text-decoration-color: #000080; font-weight: bold\">simulation.json</span> <span style=\"color: #3a3a3a; text-decoration-color: #3a3a3a\">━━━━━━━━━━━━━━━━━━━━━━━━━━━━━━━━━━━━━━━━</span> <span style=\"color: #800080; text-decoration-color: #800080\">0.0%</span> • <span style=\"color: #008000; text-decoration-color: #008000\">0.0/5.9 kB</span> • <span style=\"color: #800000; text-decoration-color: #800000\">?</span> • <span style=\"color: #008080; text-decoration-color: #008080\">-:--:--</span></pre>\n",
          "text/plain": "\r\u001b[2K\u001b[1;31m↑\u001b[0m \u001b[1;34msimulation.json\u001b[0m \u001b[38;5;237m━━━━━━━━━━━━━━━━━━━━━━━━━━━━━━━━━━━━━━━━\u001b[0m \u001b[35m0.0%\u001b[0m • \u001b[32m0.0/5.9 kB\u001b[0m • \u001b[31m?\u001b[0m • \u001b[36m-:--:--\u001b[0m\n\u001b[1;31m↑\u001b[0m \u001b[1;34msimulation.json\u001b[0m \u001b[38;5;237m━━━━━━━━━━━━━━━━━━━━━━━━━━━━━━━━━━━━━━━━\u001b[0m \u001b[35m0.0%\u001b[0m • \u001b[32m0.0/5.9 kB\u001b[0m • \u001b[31m?\u001b[0m • \u001b[36m-:--:--\u001b[0m"
         },
         "metadata": {},
         "output_type": "display_data"
        }
       ],
       "tabbable": null,
       "tooltip": null
      }
     },
     "2fdd08cc8d5b44679ef00d757f663653": {
      "model_module": "@jupyter-widgets/base",
      "model_module_version": "2.0.0",
      "model_name": "LayoutModel",
      "state": {
       "_model_module": "@jupyter-widgets/base",
       "_model_module_version": "2.0.0",
       "_model_name": "LayoutModel",
       "_view_count": null,
       "_view_module": "@jupyter-widgets/base",
       "_view_module_version": "2.0.0",
       "_view_name": "LayoutView",
       "align_content": null,
       "align_items": null,
       "align_self": null,
       "border_bottom": null,
       "border_left": null,
       "border_right": null,
       "border_top": null,
       "bottom": null,
       "display": null,
       "flex": null,
       "flex_flow": null,
       "grid_area": null,
       "grid_auto_columns": null,
       "grid_auto_flow": null,
       "grid_auto_rows": null,
       "grid_column": null,
       "grid_gap": null,
       "grid_row": null,
       "grid_template_areas": null,
       "grid_template_columns": null,
       "grid_template_rows": null,
       "height": null,
       "justify_content": null,
       "justify_items": null,
       "left": null,
       "margin": null,
       "max_height": null,
       "max_width": null,
       "min_height": null,
       "min_width": null,
       "object_fit": null,
       "object_position": null,
       "order": null,
       "overflow": null,
       "padding": null,
       "right": null,
       "top": null,
       "visibility": null,
       "width": null
      }
     },
     "3e128de60fdb41eab323c84e8f8d78a6": {
      "model_module": "@jupyter-widgets/base",
      "model_module_version": "2.0.0",
      "model_name": "LayoutModel",
      "state": {
       "_model_module": "@jupyter-widgets/base",
       "_model_module_version": "2.0.0",
       "_model_name": "LayoutModel",
       "_view_count": null,
       "_view_module": "@jupyter-widgets/base",
       "_view_module_version": "2.0.0",
       "_view_name": "LayoutView",
       "align_content": null,
       "align_items": null,
       "align_self": null,
       "border_bottom": null,
       "border_left": null,
       "border_right": null,
       "border_top": null,
       "bottom": null,
       "display": null,
       "flex": null,
       "flex_flow": null,
       "grid_area": null,
       "grid_auto_columns": null,
       "grid_auto_flow": null,
       "grid_auto_rows": null,
       "grid_column": null,
       "grid_gap": null,
       "grid_row": null,
       "grid_template_areas": null,
       "grid_template_columns": null,
       "grid_template_rows": null,
       "height": null,
       "justify_content": null,
       "justify_items": null,
       "left": null,
       "margin": null,
       "max_height": null,
       "max_width": null,
       "min_height": null,
       "min_width": null,
       "object_fit": null,
       "object_position": null,
       "order": null,
       "overflow": null,
       "padding": null,
       "right": null,
       "top": null,
       "visibility": null,
       "width": null
      }
     },
     "4b9fed3beeb84c648d504b5c63699b8a": {
      "model_module": "@jupyter-widgets/base",
      "model_module_version": "2.0.0",
      "model_name": "LayoutModel",
      "state": {
       "_model_module": "@jupyter-widgets/base",
       "_model_module_version": "2.0.0",
       "_model_name": "LayoutModel",
       "_view_count": null,
       "_view_module": "@jupyter-widgets/base",
       "_view_module_version": "2.0.0",
       "_view_name": "LayoutView",
       "align_content": null,
       "align_items": null,
       "align_self": null,
       "border_bottom": null,
       "border_left": null,
       "border_right": null,
       "border_top": null,
       "bottom": null,
       "display": null,
       "flex": null,
       "flex_flow": null,
       "grid_area": null,
       "grid_auto_columns": null,
       "grid_auto_flow": null,
       "grid_auto_rows": null,
       "grid_column": null,
       "grid_gap": null,
       "grid_row": null,
       "grid_template_areas": null,
       "grid_template_columns": null,
       "grid_template_rows": null,
       "height": null,
       "justify_content": null,
       "justify_items": null,
       "left": null,
       "margin": null,
       "max_height": null,
       "max_width": null,
       "min_height": null,
       "min_width": null,
       "object_fit": null,
       "object_position": null,
       "order": null,
       "overflow": null,
       "padding": null,
       "right": null,
       "top": null,
       "visibility": null,
       "width": null
      }
     },
     "72df87baac2049fc8766636c43f3225c": {
      "model_module": "@jupyter-widgets/base",
      "model_module_version": "2.0.0",
      "model_name": "LayoutModel",
      "state": {
       "_model_module": "@jupyter-widgets/base",
       "_model_module_version": "2.0.0",
       "_model_name": "LayoutModel",
       "_view_count": null,
       "_view_module": "@jupyter-widgets/base",
       "_view_module_version": "2.0.0",
       "_view_name": "LayoutView",
       "align_content": null,
       "align_items": null,
       "align_self": null,
       "border_bottom": null,
       "border_left": null,
       "border_right": null,
       "border_top": null,
       "bottom": null,
       "display": null,
       "flex": null,
       "flex_flow": null,
       "grid_area": null,
       "grid_auto_columns": null,
       "grid_auto_flow": null,
       "grid_auto_rows": null,
       "grid_column": null,
       "grid_gap": null,
       "grid_row": null,
       "grid_template_areas": null,
       "grid_template_columns": null,
       "grid_template_rows": null,
       "height": null,
       "justify_content": null,
       "justify_items": null,
       "left": null,
       "margin": null,
       "max_height": null,
       "max_width": null,
       "min_height": null,
       "min_width": null,
       "object_fit": null,
       "object_position": null,
       "order": null,
       "overflow": null,
       "padding": null,
       "right": null,
       "top": null,
       "visibility": null,
       "width": null
      }
     },
     "8081502ef82e403589a0cf48213f7fb5": {
      "model_module": "@jupyter-widgets/base",
      "model_module_version": "2.0.0",
      "model_name": "LayoutModel",
      "state": {
       "_model_module": "@jupyter-widgets/base",
       "_model_module_version": "2.0.0",
       "_model_name": "LayoutModel",
       "_view_count": null,
       "_view_module": "@jupyter-widgets/base",
       "_view_module_version": "2.0.0",
       "_view_name": "LayoutView",
       "align_content": null,
       "align_items": null,
       "align_self": null,
       "border_bottom": null,
       "border_left": null,
       "border_right": null,
       "border_top": null,
       "bottom": null,
       "display": null,
       "flex": null,
       "flex_flow": null,
       "grid_area": null,
       "grid_auto_columns": null,
       "grid_auto_flow": null,
       "grid_auto_rows": null,
       "grid_column": null,
       "grid_gap": null,
       "grid_row": null,
       "grid_template_areas": null,
       "grid_template_columns": null,
       "grid_template_rows": null,
       "height": null,
       "justify_content": null,
       "justify_items": null,
       "left": null,
       "margin": null,
       "max_height": null,
       "max_width": null,
       "min_height": null,
       "min_width": null,
       "object_fit": null,
       "object_position": null,
       "order": null,
       "overflow": null,
       "padding": null,
       "right": null,
       "top": null,
       "visibility": null,
       "width": null
      }
     },
     "89938c7b82f34c449f3534c0b440d57e": {
      "model_module": "@jupyter-widgets/output",
      "model_module_version": "1.0.0",
      "model_name": "OutputModel",
      "state": {
       "_dom_classes": [],
       "_model_module": "@jupyter-widgets/output",
       "_model_module_version": "1.0.0",
       "_model_name": "OutputModel",
       "_view_count": null,
       "_view_module": "@jupyter-widgets/output",
       "_view_module_version": "1.0.0",
       "_view_name": "OutputView",
       "layout": "IPY_MODEL_9b0801dea568499a9c08855d6d0dadc0",
       "msg_id": "",
       "outputs": [
        {
         "data": {
          "text/html": "<pre style=\"white-space:pre;overflow-x:auto;line-height:normal;font-family:Menlo,'DejaVu Sans Mono',consolas,'Courier New',monospace\"><span style=\"color: #008000; text-decoration-color: #008000; font-weight: bold\">↓</span> <span style=\"color: #000080; text-decoration-color: #000080; font-weight: bold\">monitor_data.hdf5</span> <span style=\"color: #f92672; text-decoration-color: #f92672\">━━━━━━━━━━━━━━━━━━━━━━━━━━━━━━━━━━━━━</span><span style=\"color: #3a3a3a; text-decoration-color: #3a3a3a\">╺━━</span> <span style=\"color: #800080; text-decoration-color: #800080\">92.9%</span> • <span style=\"color: #008000; text-decoration-color: #008000\">3.7/4.0 MB</span> • <span style=\"color: #800000; text-decoration-color: #800000\">433.9 kB/s</span> • <span style=\"color: #008080; text-decoration-color: #008080\">0:00:01</span>\n<span style=\"color: #008000; text-decoration-color: #008000; font-weight: bold\">↓</span> <span style=\"color: #000080; text-decoration-color: #000080; font-weight: bold\">monitor_data.hdf5</span> <span style=\"color: #f92672; text-decoration-color: #f92672\">━━━━━━━━━━━━━━━━━━━━━━━━━━━━━━━━━━━━━</span><span style=\"color: #3a3a3a; text-decoration-color: #3a3a3a\">╺━━</span> <span style=\"color: #800080; text-decoration-color: #800080\">92.9%</span> • <span style=\"color: #008000; text-decoration-color: #008000\">3.7/4.0 MB</span> • <span style=\"color: #800000; text-decoration-color: #800000\">433.9 kB/s</span> • <span style=\"color: #008080; text-decoration-color: #008080\">0:00:01</span></pre>\n",
          "text/plain": "\r\u001b[2K\u001b[1;32m↓\u001b[0m \u001b[1;34mmonitor_data.hdf5\u001b[0m \u001b[38;2;249;38;114m━━━━━━━━━━━━━━━━━━━━━━━━━━━━━━━━━━━━━\u001b[0m\u001b[38;5;237m╺\u001b[0m\u001b[38;5;237m━━\u001b[0m \u001b[35m92.9%\u001b[0m • \u001b[32m3.7/4.0 MB\u001b[0m • \u001b[31m433.9 kB/s\u001b[0m • \u001b[36m0:00:01\u001b[0m\n\u001b[1;32m↓\u001b[0m \u001b[1;34mmonitor_data.hdf5\u001b[0m \u001b[38;2;249;38;114m━━━━━━━━━━━━━━━━━━━━━━━━━━━━━━━━━━━━━\u001b[0m\u001b[38;5;237m╺\u001b[0m\u001b[38;5;237m━━\u001b[0m \u001b[35m92.9%\u001b[0m • \u001b[32m3.7/4.0 MB\u001b[0m • \u001b[31m433.9 kB/s\u001b[0m • \u001b[36m0:00:01\u001b[0m"
         },
         "metadata": {},
         "output_type": "display_data"
        }
       ],
       "tabbable": null,
       "tooltip": null
      }
     },
     "9b0801dea568499a9c08855d6d0dadc0": {
      "model_module": "@jupyter-widgets/base",
      "model_module_version": "2.0.0",
      "model_name": "LayoutModel",
      "state": {
       "_model_module": "@jupyter-widgets/base",
       "_model_module_version": "2.0.0",
       "_model_name": "LayoutModel",
       "_view_count": null,
       "_view_module": "@jupyter-widgets/base",
       "_view_module_version": "2.0.0",
       "_view_name": "LayoutView",
       "align_content": null,
       "align_items": null,
       "align_self": null,
       "border_bottom": null,
       "border_left": null,
       "border_right": null,
       "border_top": null,
       "bottom": null,
       "display": null,
       "flex": null,
       "flex_flow": null,
       "grid_area": null,
       "grid_auto_columns": null,
       "grid_auto_flow": null,
       "grid_auto_rows": null,
       "grid_column": null,
       "grid_gap": null,
       "grid_row": null,
       "grid_template_areas": null,
       "grid_template_columns": null,
       "grid_template_rows": null,
       "height": null,
       "justify_content": null,
       "justify_items": null,
       "left": null,
       "margin": null,
       "max_height": null,
       "max_width": null,
       "min_height": null,
       "min_width": null,
       "object_fit": null,
       "object_position": null,
       "order": null,
       "overflow": null,
       "padding": null,
       "right": null,
       "top": null,
       "visibility": null,
       "width": null
      }
     },
     "afc6e5a132914decb34f98e2da247efb": {
      "model_module": "@jupyter-widgets/base",
      "model_module_version": "2.0.0",
      "model_name": "LayoutModel",
      "state": {
       "_model_module": "@jupyter-widgets/base",
       "_model_module_version": "2.0.0",
       "_model_name": "LayoutModel",
       "_view_count": null,
       "_view_module": "@jupyter-widgets/base",
       "_view_module_version": "2.0.0",
       "_view_name": "LayoutView",
       "align_content": null,
       "align_items": null,
       "align_self": null,
       "border_bottom": null,
       "border_left": null,
       "border_right": null,
       "border_top": null,
       "bottom": null,
       "display": null,
       "flex": null,
       "flex_flow": null,
       "grid_area": null,
       "grid_auto_columns": null,
       "grid_auto_flow": null,
       "grid_auto_rows": null,
       "grid_column": null,
       "grid_gap": null,
       "grid_row": null,
       "grid_template_areas": null,
       "grid_template_columns": null,
       "grid_template_rows": null,
       "height": null,
       "justify_content": null,
       "justify_items": null,
       "left": null,
       "margin": null,
       "max_height": null,
       "max_width": null,
       "min_height": null,
       "min_width": null,
       "object_fit": null,
       "object_position": null,
       "order": null,
       "overflow": null,
       "padding": null,
       "right": null,
       "top": null,
       "visibility": null,
       "width": null
      }
     },
     "b6a65e3e3adc40da860dc48cfa360f4d": {
      "model_module": "@jupyter-widgets/output",
      "model_module_version": "1.0.0",
      "model_name": "OutputModel",
      "state": {
       "_dom_classes": [],
       "_model_module": "@jupyter-widgets/output",
       "_model_module_version": "1.0.0",
       "_model_name": "OutputModel",
       "_view_count": null,
       "_view_module": "@jupyter-widgets/output",
       "_view_module_version": "1.0.0",
       "_view_name": "OutputView",
       "layout": "IPY_MODEL_2fdd08cc8d5b44679ef00d757f663653",
       "msg_id": "",
       "outputs": [
        {
         "data": {
          "text/html": "<pre style=\"white-space:pre;overflow-x:auto;line-height:normal;font-family:Menlo,'DejaVu Sans Mono',consolas,'Courier New',monospace\"><span style=\"color: #008000; text-decoration-color: #008000\">🏃 </span> <span style=\"color: #008000; text-decoration-color: #008000; font-weight: bold\">Starting 'slab_adj'...</span>\n<span style=\"color: #008000; text-decoration-color: #008000\">🏃 </span> <span style=\"color: #008000; text-decoration-color: #008000; font-weight: bold\">Starting 'slab_adj'...</span></pre>\n",
          "text/plain": "\r\u001b[2K\u001b[32m🏃 \u001b[0m \u001b[1;32mStarting 'slab_adj'...\u001b[0m\n\u001b[32m🏃 \u001b[0m \u001b[1;32mStarting 'slab_adj'...\u001b[0m"
         },
         "metadata": {},
         "output_type": "display_data"
        }
       ],
       "tabbable": null,
       "tooltip": null
      }
     },
     "c068edcf36bc4f29ae4b7faf21c593be": {
      "model_module": "@jupyter-widgets/output",
      "model_module_version": "1.0.0",
      "model_name": "OutputModel",
      "state": {
       "_dom_classes": [],
       "_model_module": "@jupyter-widgets/output",
       "_model_module_version": "1.0.0",
       "_model_name": "OutputModel",
       "_view_count": null,
       "_view_module": "@jupyter-widgets/output",
       "_view_module_version": "1.0.0",
       "_view_name": "OutputView",
       "layout": "IPY_MODEL_72df87baac2049fc8766636c43f3225c",
       "msg_id": "",
       "outputs": [
        {
         "data": {
          "text/html": "<pre style=\"white-space:pre;overflow-x:auto;line-height:normal;font-family:Menlo,'DejaVu Sans Mono',consolas,'Courier New',monospace\"><span style=\"color: #008000; text-decoration-color: #008000; font-weight: bold\">↓</span> <span style=\"color: #000080; text-decoration-color: #000080; font-weight: bold\">monitor_data.hdf5</span> <span style=\"color: #f92672; text-decoration-color: #f92672\">━━━━━━━━━━━━━━━━━━━━━━━━━━━━━━━━━━━━━╸</span><span style=\"color: #3a3a3a; text-decoration-color: #3a3a3a\">━━</span> <span style=\"color: #800080; text-decoration-color: #800080\">94.4%</span> • <span style=\"color: #008000; text-decoration-color: #008000\">3.7/3.9 MB</span> • <span style=\"color: #800000; text-decoration-color: #800000\">865.7 kB/s</span> • <span style=\"color: #008080; text-decoration-color: #008080\">0:00:01</span>\n<span style=\"color: #008000; text-decoration-color: #008000; font-weight: bold\">↓</span> <span style=\"color: #000080; text-decoration-color: #000080; font-weight: bold\">monitor_data.hdf5</span> <span style=\"color: #f92672; text-decoration-color: #f92672\">━━━━━━━━━━━━━━━━━━━━━━━━━━━━━━━━━━━━━╸</span><span style=\"color: #3a3a3a; text-decoration-color: #3a3a3a\">━━</span> <span style=\"color: #800080; text-decoration-color: #800080\">94.4%</span> • <span style=\"color: #008000; text-decoration-color: #008000\">3.7/3.9 MB</span> • <span style=\"color: #800000; text-decoration-color: #800000\">865.7 kB/s</span> • <span style=\"color: #008080; text-decoration-color: #008080\">0:00:01</span></pre>\n",
          "text/plain": "\r\u001b[2K\u001b[1;32m↓\u001b[0m \u001b[1;34mmonitor_data.hdf5\u001b[0m \u001b[38;2;249;38;114m━━━━━━━━━━━━━━━━━━━━━━━━━━━━━━━━━━━━━\u001b[0m\u001b[38;2;249;38;114m╸\u001b[0m\u001b[38;5;237m━━\u001b[0m \u001b[35m94.4%\u001b[0m • \u001b[32m3.7/3.9 MB\u001b[0m • \u001b[31m865.7 kB/s\u001b[0m • \u001b[36m0:00:01\u001b[0m\n\u001b[1;32m↓\u001b[0m \u001b[1;34mmonitor_data.hdf5\u001b[0m \u001b[38;2;249;38;114m━━━━━━━━━━━━━━━━━━━━━━━━━━━━━━━━━━━━━\u001b[0m\u001b[38;2;249;38;114m╸\u001b[0m\u001b[38;5;237m━━\u001b[0m \u001b[35m94.4%\u001b[0m • \u001b[32m3.7/3.9 MB\u001b[0m • \u001b[31m865.7 kB/s\u001b[0m • \u001b[36m0:00:01\u001b[0m"
         },
         "metadata": {},
         "output_type": "display_data"
        }
       ],
       "tabbable": null,
       "tooltip": null
      }
     },
     "c8ad5843a8f14647a0c22003479ff330": {
      "model_module": "@jupyter-widgets/output",
      "model_module_version": "1.0.0",
      "model_name": "OutputModel",
      "state": {
       "_dom_classes": [],
       "_model_module": "@jupyter-widgets/output",
       "_model_module_version": "1.0.0",
       "_model_name": "OutputModel",
       "_view_count": null,
       "_view_module": "@jupyter-widgets/output",
       "_view_module_version": "1.0.0",
       "_view_name": "OutputView",
       "layout": "IPY_MODEL_3e128de60fdb41eab323c84e8f8d78a6",
       "msg_id": "",
       "outputs": [
        {
         "data": {
          "text/html": "<pre style=\"white-space:pre;overflow-x:auto;line-height:normal;font-family:Menlo,'DejaVu Sans Mono',consolas,'Courier New',monospace\"><span style=\"color: #008000; text-decoration-color: #008000\">🏃 </span> <span style=\"color: #008000; text-decoration-color: #008000; font-weight: bold\">Starting 'slab_fwd'...</span>\n<span style=\"color: #008000; text-decoration-color: #008000\">🏃 </span> <span style=\"color: #008000; text-decoration-color: #008000; font-weight: bold\">Starting 'slab_fwd'...</span></pre>\n",
          "text/plain": "\r\u001b[2K\u001b[32m🏃 \u001b[0m \u001b[1;32mStarting 'slab_fwd'...\u001b[0m\n\u001b[32m🏃 \u001b[0m \u001b[1;32mStarting 'slab_fwd'...\u001b[0m"
         },
         "metadata": {},
         "output_type": "display_data"
        }
       ],
       "tabbable": null,
       "tooltip": null
      }
     },
     "c8c9b64a3fee443b9adffda94a393152": {
      "model_module": "@jupyter-widgets/output",
      "model_module_version": "1.0.0",
      "model_name": "OutputModel",
      "state": {
       "_dom_classes": [],
       "_model_module": "@jupyter-widgets/output",
       "_model_module_version": "1.0.0",
       "_model_name": "OutputModel",
       "_view_count": null,
       "_view_module": "@jupyter-widgets/output",
       "_view_module_version": "1.0.0",
       "_view_name": "OutputView",
       "layout": "IPY_MODEL_4b9fed3beeb84c648d504b5c63699b8a",
       "msg_id": "",
       "outputs": [
        {
         "data": {
          "text/html": "<pre style=\"white-space:pre;overflow-x:auto;line-height:normal;font-family:Menlo,'DejaVu Sans Mono',consolas,'Courier New',monospace\"><span style=\"color: #008000; text-decoration-color: #008000\">🏃 </span> <span style=\"color: #008000; text-decoration-color: #008000; font-weight: bold\">Finishing 'slab_fwd'...</span>\n<span style=\"color: #008000; text-decoration-color: #008000\">🏃 </span> <span style=\"color: #008000; text-decoration-color: #008000; font-weight: bold\">Finishing 'slab_fwd'...</span></pre>\n",
          "text/plain": "\r\u001b[2K\u001b[32m🏃 \u001b[0m \u001b[1;32mFinishing 'slab_fwd'...\u001b[0m\n\u001b[32m🏃 \u001b[0m \u001b[1;32mFinishing 'slab_fwd'...\u001b[0m"
         },
         "metadata": {},
         "output_type": "display_data"
        }
       ],
       "tabbable": null,
       "tooltip": null
      }
     },
     "c99772de5f924ea1a4539ad3892bcb8e": {
      "model_module": "@jupyter-widgets/base",
      "model_module_version": "2.0.0",
      "model_name": "LayoutModel",
      "state": {
       "_model_module": "@jupyter-widgets/base",
       "_model_module_version": "2.0.0",
       "_model_name": "LayoutModel",
       "_view_count": null,
       "_view_module": "@jupyter-widgets/base",
       "_view_module_version": "2.0.0",
       "_view_name": "LayoutView",
       "align_content": null,
       "align_items": null,
       "align_self": null,
       "border_bottom": null,
       "border_left": null,
       "border_right": null,
       "border_top": null,
       "bottom": null,
       "display": null,
       "flex": null,
       "flex_flow": null,
       "grid_area": null,
       "grid_auto_columns": null,
       "grid_auto_flow": null,
       "grid_auto_rows": null,
       "grid_column": null,
       "grid_gap": null,
       "grid_row": null,
       "grid_template_areas": null,
       "grid_template_columns": null,
       "grid_template_rows": null,
       "height": null,
       "justify_content": null,
       "justify_items": null,
       "left": null,
       "margin": null,
       "max_height": null,
       "max_width": null,
       "min_height": null,
       "min_width": null,
       "object_fit": null,
       "object_position": null,
       "order": null,
       "overflow": null,
       "padding": null,
       "right": null,
       "top": null,
       "visibility": null,
       "width": null
      }
     },
     "ef34c886913a4607be64034b80dce921": {
      "model_module": "@jupyter-widgets/output",
      "model_module_version": "1.0.0",
      "model_name": "OutputModel",
      "state": {
       "_dom_classes": [],
       "_model_module": "@jupyter-widgets/output",
       "_model_module_version": "1.0.0",
       "_model_name": "OutputModel",
       "_view_count": null,
       "_view_module": "@jupyter-widgets/output",
       "_view_module_version": "1.0.0",
       "_view_name": "OutputView",
       "layout": "IPY_MODEL_8081502ef82e403589a0cf48213f7fb5",
       "msg_id": "",
       "outputs": [
        {
         "data": {
          "text/html": "<pre style=\"white-space:pre;overflow-x:auto;line-height:normal;font-family:Menlo,'DejaVu Sans Mono',consolas,'Courier New',monospace\">% done (field decay = 2.47e-09) <span style=\"color: #f92672; text-decoration-color: #f92672\">━━━━━━━━━━━━━━</span><span style=\"color: #3a3a3a; text-decoration-color: #3a3a3a\">╺━━━━━━━━━━━━━━━━━━━━━━━━━</span> <span style=\"color: #800080; text-decoration-color: #800080\"> 36%</span> <span style=\"color: #008080; text-decoration-color: #008080\">-:--:--</span>\n% done (field decay = 2.47e-09) <span style=\"color: #f92672; text-decoration-color: #f92672\">━━━━━━━━━━━━━━</span><span style=\"color: #3a3a3a; text-decoration-color: #3a3a3a\">╺━━━━━━━━━━━━━━━━━━━━━━━━━</span> <span style=\"color: #800080; text-decoration-color: #800080\"> 36%</span> <span style=\"color: #008080; text-decoration-color: #008080\">-:--:--</span></pre>\n",
          "text/plain": "\r\u001b[2K% done (field decay = 2.47e-09) \u001b[38;2;249;38;114m━━━━━━━━━━━━━━\u001b[0m\u001b[38;5;237m╺\u001b[0m\u001b[38;5;237m━━━━━━━━━━━━━━━━━━━━━━━━━\u001b[0m \u001b[35m 36%\u001b[0m \u001b[36m-:--:--\u001b[0m\n% done (field decay = 2.47e-09) \u001b[38;2;249;38;114m━━━━━━━━━━━━━━\u001b[0m\u001b[38;5;237m╺\u001b[0m\u001b[38;5;237m━━━━━━━━━━━━━━━━━━━━━━━━━\u001b[0m \u001b[35m 36%\u001b[0m \u001b[36m-:--:--\u001b[0m"
         },
         "metadata": {},
         "output_type": "display_data"
        }
       ],
       "tabbable": null,
       "tooltip": null
      }
     },
     "f2bc5aa2f3a34096a540056943782b92": {
      "model_module": "@jupyter-widgets/output",
      "model_module_version": "1.0.0",
      "model_name": "OutputModel",
      "state": {
       "_dom_classes": [],
       "_model_module": "@jupyter-widgets/output",
       "_model_module_version": "1.0.0",
       "_model_name": "OutputModel",
       "_view_count": null,
       "_view_module": "@jupyter-widgets/output",
       "_view_module_version": "1.0.0",
       "_view_name": "OutputView",
       "layout": "IPY_MODEL_afc6e5a132914decb34f98e2da247efb",
       "msg_id": "",
       "outputs": [
        {
         "data": {
          "text/html": "<pre style=\"white-space:pre;overflow-x:auto;line-height:normal;font-family:Menlo,'DejaVu Sans Mono',consolas,'Courier New',monospace\"><span style=\"color: #800000; text-decoration-color: #800000; font-weight: bold\">↑</span> <span style=\"color: #000080; text-decoration-color: #000080; font-weight: bold\">simulation.json</span> <span style=\"color: #3a3a3a; text-decoration-color: #3a3a3a\">━━━━━━━━━━━━━━━━━━━━━━━━━━━━━━━━━━━━━━━━</span> <span style=\"color: #800080; text-decoration-color: #800080\">0.0%</span> • <span style=\"color: #008000; text-decoration-color: #008000\">0.0/5.7 kB</span> • <span style=\"color: #800000; text-decoration-color: #800000\">?</span> • <span style=\"color: #008080; text-decoration-color: #008080\">-:--:--</span>\n<span style=\"color: #800000; text-decoration-color: #800000; font-weight: bold\">↑</span> <span style=\"color: #000080; text-decoration-color: #000080; font-weight: bold\">simulation.json</span> <span style=\"color: #3a3a3a; text-decoration-color: #3a3a3a\">━━━━━━━━━━━━━━━━━━━━━━━━━━━━━━━━━━━━━━━━</span> <span style=\"color: #800080; text-decoration-color: #800080\">0.0%</span> • <span style=\"color: #008000; text-decoration-color: #008000\">0.0/5.7 kB</span> • <span style=\"color: #800000; text-decoration-color: #800000\">?</span> • <span style=\"color: #008080; text-decoration-color: #008080\">-:--:--</span></pre>\n",
          "text/plain": "\r\u001b[2K\u001b[1;31m↑\u001b[0m \u001b[1;34msimulation.json\u001b[0m \u001b[38;5;237m━━━━━━━━━━━━━━━━━━━━━━━━━━━━━━━━━━━━━━━━\u001b[0m \u001b[35m0.0%\u001b[0m • \u001b[32m0.0/5.7 kB\u001b[0m • \u001b[31m?\u001b[0m • \u001b[36m-:--:--\u001b[0m\n\u001b[1;31m↑\u001b[0m \u001b[1;34msimulation.json\u001b[0m \u001b[38;5;237m━━━━━━━━━━━━━━━━━━━━━━━━━━━━━━━━━━━━━━━━\u001b[0m \u001b[35m0.0%\u001b[0m • \u001b[32m0.0/5.7 kB\u001b[0m • \u001b[31m?\u001b[0m • \u001b[36m-:--:--\u001b[0m"
         },
         "metadata": {},
         "output_type": "display_data"
        }
       ],
       "tabbable": null,
       "tooltip": null
      }
     }
    },
    "version_major": 2,
    "version_minor": 0
   }
  }
 },
 "nbformat": 4,
 "nbformat_minor": 5
}
