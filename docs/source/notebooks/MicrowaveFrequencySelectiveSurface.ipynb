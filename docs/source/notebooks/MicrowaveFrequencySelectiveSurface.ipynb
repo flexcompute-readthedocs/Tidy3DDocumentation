{
 "cells": [
  {
   "cell_type": "markdown",
   "id": "f524391f",
   "metadata": {},
   "source": [
    "# Microwave frequency selective surface"
   ]
  },
  {
   "cell_type": "markdown",
   "id": "73a4ff08",
   "metadata": {},
   "source": [
    "A Frequency Selective Surface (FSS) is a type of electromagnetic structure that allows certain frequencies to pass through while reflecting or blocking other frequencies. It is composed of a periodic array of conductive or dielectric elements that are spaced apart at a distance that is much smaller than the wavelength of the electromagnetic radiation. The FSS can be designed to selectively filter and manipulate the electromagnetic waves that pass through it based on the geometry, spacing, and material properties of its constituent elements. It is often used as a passive component in microwave and millimeter-wave devices, such as antennas, radars, filters, and absorbers.\n",
    "\n",
    "This notebook provides a demonstration of a microwave FSS composed of copper cross structures. Due to its very thin copper layer (0.1 mm) compared to the wavelength (~2.5 cm), we model the copper layer as a 2D surface conductivity to ensure computational efficiency. The FSS has been designed to exhibit a stop band at 12 GHz, where the transmission (S21) reaches as low as -50 dB. By visualizing the field distribution at the resonant frequency, we can observe the dipolar resonance feature of the copper structure. This simulation showcases the effectiveness of FSSs as passive components in microwave devices, and their ability to manipulate electromagnetic waves with high precision.\n",
    "\n",
    "<img src=\"img/frequency_selective_surface.png\" width=\"500\">"
   ]
  },
  {
   "cell_type": "code",
   "execution_count": 1,
   "id": "5cb1ff77",
   "metadata": {
    "execution": {
     "iopub.execute_input": "2023-03-28T01:00:31.077388Z",
     "iopub.status.busy": "2023-03-28T01:00:31.076753Z",
     "iopub.status.idle": "2023-03-28T01:00:32.348158Z",
     "shell.execute_reply": "2023-03-28T01:00:32.347508Z"
    }
   },
   "outputs": [],
   "source": [
    "import numpy as np\n",
    "import matplotlib.pyplot as plt\n",
    "\n",
    "import tidy3d as td\n",
    "import tidy3d.web as web\n"
   ]
  },
  {
   "cell_type": "markdown",
   "id": "3f913f7e",
   "metadata": {},
   "source": [
    "## Simulation Setup"
   ]
  },
  {
   "cell_type": "markdown",
   "id": "4911bc70",
   "metadata": {},
   "source": [
    "The default frequency unit in `Tidy3D` is Hz. For convenience, we prefer to work with GHz in this example. A frequency range from 10 GHz to 14 GHz is studied while the FSS is designed to resonate at 12 GHz."
   ]
  },
  {
   "cell_type": "code",
   "execution_count": 2,
   "id": "7cdf5e48",
   "metadata": {
    "execution": {
     "iopub.execute_input": "2023-03-28T01:00:32.351051Z",
     "iopub.status.busy": "2023-03-28T01:00:32.350738Z",
     "iopub.status.idle": "2023-03-28T01:00:32.369990Z",
     "shell.execute_reply": "2023-03-28T01:00:32.368526Z"
    }
   },
   "outputs": [],
   "source": [
    "GHz = 1e9  # 1 GHz = 1e9 Hz\n",
    "\n",
    "freq0 = 12 * GHz  # central frequency\n",
    "freqs = np.linspace(10, 14, 500) * GHz  # frequency range of interest\n",
    "\n",
    "fwidth = 0.5 * (np.max(freqs) - np.min(freqs))  # width of the source spectrum\n",
    "\n",
    "lda0 = td.C_0 / freq0  # central wavelength\n"
   ]
  },
  {
   "cell_type": "markdown",
   "id": "a4eebf85",
   "metadata": {},
   "source": [
    "The default length unit in Tidy3D is $\\mu m$. For convenience, we prefer to work with mm in this example. Here we define the geometric parameters such as the length and width of the cross structure."
   ]
  },
  {
   "cell_type": "code",
   "execution_count": 3,
   "id": "17b42904",
   "metadata": {
    "execution": {
     "iopub.execute_input": "2023-03-28T01:00:32.375569Z",
     "iopub.status.busy": "2023-03-28T01:00:32.375219Z",
     "iopub.status.idle": "2023-03-28T01:00:32.401550Z",
     "shell.execute_reply": "2023-03-28T01:00:32.400960Z"
    }
   },
   "outputs": [],
   "source": [
    "mm = 1e3  # 1 mm = 1e3 um\n",
    "P = 15 * mm  # periodicity of the unit cell\n",
    "L = 9.4 * mm  # length of the cross\n",
    "W = 2 * mm  # width of the cross\n",
    "t_sub = 2.2 * mm  # thickness of the substrate\n",
    "t_copper = 0.1 * mm  # thickness of the copper layer\n"
   ]
  },
  {
   "cell_type": "markdown",
   "id": "2eb43d28",
   "metadata": {},
   "source": [
    "Since the copper layer is very thin, we model it as a [Medium2D](../_autosummary/tidy3d.Medium2D.html) instead of a regular [Medium](../_autosummary/tidy3d.Medium.html). This way, we do not need to use a very fine grid to resolve the actual thickness of the copper layer. The conductivity of copper is about $5\\times 10^7$ S/m, which is 50 S/$\\mu m$. We use the `from_medium` method to construct a [Medium2D](../_autosummary/tidy3d.Medium2D.html) from a regular [Medium](../_autosummary/tidy3d.Medium.html)."
   ]
  },
  {
   "cell_type": "code",
   "execution_count": 4,
   "id": "fbce46a3",
   "metadata": {
    "execution": {
     "iopub.execute_input": "2023-03-28T01:00:32.404097Z",
     "iopub.status.busy": "2023-03-28T01:00:32.403953Z",
     "iopub.status.idle": "2023-03-28T01:00:32.421598Z",
     "shell.execute_reply": "2023-03-28T01:00:32.421041Z"
    }
   },
   "outputs": [],
   "source": [
    "sigma_copper = 50  # copper conductivity in S/um\n",
    "copper = td.Medium2D.from_medium(\n",
    "    td.Medium(conductivity=sigma_copper), thickness=t_copper\n",
    ")  # define copper as a Medium2D\n",
    "\n",
    "eps_sub = 2.5  # permittivity of the substrate\n",
    "sub_medium = td.Medium(permittivity=eps_sub)  # define substrate medium\n"
   ]
  },
  {
   "cell_type": "markdown",
   "id": "7f28b280",
   "metadata": {},
   "source": [
    "Next, we define the [Structures](../_autosummary/tidy3d.Structure.html). [Medium2D](../_autosummary/tidy3d.Medium2D.html) can only be applied to geometry with zero thickness in one of the dimensions."
   ]
  },
  {
   "cell_type": "code",
   "execution_count": 5,
   "id": "c49e7a95",
   "metadata": {
    "execution": {
     "iopub.execute_input": "2023-03-28T01:00:32.423985Z",
     "iopub.status.busy": "2023-03-28T01:00:32.423849Z",
     "iopub.status.idle": "2023-03-28T01:00:32.442326Z",
     "shell.execute_reply": "2023-03-28T01:00:32.441782Z"
    }
   },
   "outputs": [],
   "source": [
    "cross = []\n",
    "cross.append(\n",
    "    td.Structure(\n",
    "        geometry=td.Box.from_bounds(\n",
    "            rmin=(-L / 2, -W / 2, t_sub), rmax=(L / 2, W / 2, t_sub)\n",
    "        ),\n",
    "        medium=copper,\n",
    "    )\n",
    ")\n",
    "cross.append(\n",
    "    td.Structure(\n",
    "        geometry=td.Box.from_bounds(\n",
    "            rmin=(-W / 2, -L / 2, t_sub), rmax=(W / 2, L / 2, t_sub)\n",
    "        ),\n",
    "        medium=copper,\n",
    "    )\n",
    ")\n",
    "\n",
    "substrate = td.Structure(\n",
    "    geometry=td.Box(center=(0, 0, t_sub / 2), size=(td.inf, td.inf, t_sub)),\n",
    "    medium=sub_medium,\n",
    ")\n"
   ]
  },
  {
   "cell_type": "markdown",
   "id": "acf9173e",
   "metadata": {},
   "source": [
    "A [PlaneWave](../_autosummary/tidy3d.PlaneWave.html) source polarized in the x direction is added as the incident wave from the top of the FSS. To measure reflection (S11) and transmission (S21), two [FluxMonitors](../_autosummary/tidy3d.FluxMonitor.html) are added on the top and bottom of the simulation domain. Lastly, to visualize the resonant mode field, a [FieldMonitor](../_autosummary/tidy3d.FieldMonitor.html) is added to the copper layer plane."
   ]
  },
  {
   "cell_type": "code",
   "execution_count": 6,
   "id": "d0fb135b",
   "metadata": {
    "execution": {
     "iopub.execute_input": "2023-03-28T01:00:32.444643Z",
     "iopub.status.busy": "2023-03-28T01:00:32.444507Z",
     "iopub.status.idle": "2023-03-28T01:00:32.465022Z",
     "shell.execute_reply": "2023-03-28T01:00:32.463557Z"
    }
   },
   "outputs": [],
   "source": [
    "offset = lda0 / 2  # extra spacing added in the positive and negative z directions\n",
    "\n",
    "# define a plane wave source\n",
    "plane_wave = td.PlaneWave(\n",
    "    center=(0, 0, t_sub + 0.1 * offset),\n",
    "    size=(td.inf, td.inf, 0),\n",
    "    source_time=td.GaussianPulse(freq0=freq0, fwidth=fwidth),\n",
    "    direction=\"-\",\n",
    ")\n",
    "\n",
    "# define a flux monitor to measure reflection\n",
    "S11_monitor = td.FluxMonitor(\n",
    "    center=(0, 0, t_sub + offset),\n",
    "    size=(td.inf, td.inf, 0),\n",
    "    freqs=freqs,\n",
    "    name=\"S11\",\n",
    ")\n",
    "\n",
    "# define a flux monitor to measure reflection\n",
    "S21_monitor = td.FluxMonitor(\n",
    "    center=(0, 0, -t_sub - offset),\n",
    "    size=(td.inf, td.inf, 0),\n",
    "    freqs=freqs,\n",
    "    name=\"S21\",\n",
    "    normal_dir=\"-\",\n",
    ")\n",
    "\n",
    "# define a field monitor to visualize field distribution\n",
    "field_monitor = td.FieldMonitor(\n",
    "    center=(0, 0, t_sub), size=(td.inf, td.inf, 0), freqs=[freq0], name=\"field\"\n",
    ")\n"
   ]
  },
  {
   "cell_type": "markdown",
   "id": "c69509c7",
   "metadata": {},
   "source": [
    "With the previously defined structures, source, and monitors, we are ready to define a `Tidy3D` [Simulation](../_autosummary/tidy3d.Simulation.html). Periodic boundary condition is applied in the $x$ and $y$ directions while [PML](../_autosummary/tidy3d.PML.html) is applied in the $z$ direction. \n",
    "\n",
    "We also set up automatic nonuniform grids. In addition, we use a mesh override structure around the FFS unit cell to further refine the grids."
   ]
  },
  {
   "cell_type": "code",
   "execution_count": 7,
   "id": "1a42e3b2",
   "metadata": {
    "execution": {
     "iopub.execute_input": "2023-03-28T01:00:32.470524Z",
     "iopub.status.busy": "2023-03-28T01:00:32.470174Z",
     "iopub.status.idle": "2023-03-28T01:00:32.503002Z",
     "shell.execute_reply": "2023-03-28T01:00:32.502431Z"
    }
   },
   "outputs": [],
   "source": [
    "# simulation domain size in z\n",
    "Lz = t_sub + 2.2 * offset\n",
    "\n",
    "# define a BoundarySpec\n",
    "boundary_spec = td.BoundarySpec(\n",
    "    x=td.Boundary.periodic(),\n",
    "    y=td.Boundary.periodic(),\n",
    "    z=td.Boundary(minus=td.PML(), plus=td.PML()),\n",
    ")\n",
    "\n",
    "# define a mesh override structure\n",
    "refine_box = td.Structure(\n",
    "    geometry=td.Box(center=(0, 0, t_sub / 2), size=(td.inf, td.inf, 2 * t_sub)),\n",
    "    medium=td.Medium(permittivity=5**2),\n",
    ")\n",
    "\n",
    "# define a GridSpec\n",
    "grid_spec = td.GridSpec.auto(\n",
    "    min_steps_per_wvl=100, wavelength=lda0, override_structures=[refine_box]\n",
    ")\n",
    "\n",
    "run_time = 1e-8  # simulation run time\n",
    "\n",
    "# define simulation\n",
    "sim = td.Simulation(\n",
    "    size=(P, P, Lz),\n",
    "    grid_spec=grid_spec,\n",
    "    structures=[substrate] + cross,\n",
    "    sources=[plane_wave],\n",
    "    monitors=[S11_monitor, S21_monitor, field_monitor],\n",
    "    run_time=run_time,\n",
    "    boundary_spec=boundary_spec,\n",
    "    symmetry=(-1, 1, 0),  # symmetry is used to reduce the computational load\n",
    ")\n"
   ]
  },
  {
   "cell_type": "markdown",
   "id": "93cc2c38",
   "metadata": {},
   "source": [
    "Before submitting the simulation job to the server, we can validate the simulation setup by plotting it. Here we overlay the grids on top to make sure the grid is sufficiently fine compared to the structure sizes."
   ]
  },
  {
   "cell_type": "code",
   "execution_count": 8,
   "id": "21d5ee79",
   "metadata": {
    "execution": {
     "iopub.execute_input": "2023-03-28T01:00:32.505317Z",
     "iopub.status.busy": "2023-03-28T01:00:32.505179Z",
     "iopub.status.idle": "2023-03-28T01:00:32.999576Z",
     "shell.execute_reply": "2023-03-28T01:00:32.999079Z"
    }
   },
   "outputs": [
    {
     "data": {
      "image/png": "[encoded data removed]",
      "text/plain": [
       "<Figure size 1000x500 with 2 Axes>"
      ]
     },
     "metadata": {},
     "output_type": "display_data"
    }
   ],
   "source": [
    "f, ax = plt.subplots(1, 2, tight_layout=True, figsize=(10, 5))\n",
    "sim.plot(z=t_sub, ax=ax[0])\n",
    "sim.plot_grid(z=0, ax=ax[0])\n",
    "ax[0].set_xlim(0, 5000)\n",
    "ax[0].set_ylim(0, 5000)\n",
    "\n",
    "sim.plot(x=0, ax=ax[1])\n",
    "sim.plot_grid(x=0, ax=ax[1])\n",
    "ax[1].set_xlim(0, 5000)\n",
    "ax[1].set_ylim(-2000, 5000)\n",
    "plt.show()\n"
   ]
  },
  {
   "cell_type": "markdown",
   "id": "d7acb394",
   "metadata": {},
   "source": [
    "Submit the simulation job to the server."
   ]
  },
  {
   "cell_type": "code",
   "execution_count": 9,
   "id": "ced2b1d8",
   "metadata": {
    "execution": {
     "iopub.execute_input": "2023-03-28T01:00:33.001561Z",
     "iopub.status.busy": "2023-03-28T01:00:33.001392Z",
     "iopub.status.idle": "2023-03-28T01:01:17.518786Z",
     "shell.execute_reply": "2023-03-28T01:01:17.518239Z"
    }
   },
   "outputs": [],
   "source": [
    "job = web.Job(simulation=sim, task_name=\"frequency_selective_surface\")\n",
    "sim_data = job.run(path=\"data/simulation_data.hdf5\")\n"
   ]
  },
  {
   "cell_type": "markdown",
   "id": "398bb3f5",
   "metadata": {},
   "source": [
    "## Result Visualization "
   ]
  },
  {
   "cell_type": "markdown",
   "id": "9c77716d",
   "metadata": {},
   "source": [
    "After the simulation is complete, we first visualize the S-parameters. A prominent resonance feature is observed at 12 GHz where S21 reaches -50 dB. "
   ]
  },
  {
   "cell_type": "code",
   "execution_count": 10,
   "id": "765dc01b",
   "metadata": {
    "execution": {
     "iopub.execute_input": "2023-03-28T01:01:18.221038Z",
     "iopub.status.busy": "2023-03-28T01:01:18.220855Z",
     "iopub.status.idle": "2023-03-28T01:01:18.388905Z",
     "shell.execute_reply": "2023-03-28T01:01:18.388398Z"
    }
   },
   "outputs": [
    {
     "data": {
      "image/png": "[encoded data removed]",
      "text/plain": [
       "<Figure size 640x480 with 1 Axes>"
      ]
     },
     "metadata": {},
     "output_type": "display_data"
    }
   ],
   "source": [
    "S11 = sim_data[\"S11\"].flux\n",
    "S21 = sim_data[\"S21\"].flux\n",
    "\n",
    "plt.plot(freqs / GHz, 10 * np.log10(S11), label=\"S11\")\n",
    "plt.plot(freqs / GHz, 10 * np.log10(S21), label=\"S21\")\n",
    "plt.xlim(10, 14)\n",
    "plt.ylim(-60, 0)\n",
    "plt.xlabel(\"Frequency (GHz)\")\n",
    "plt.ylabel(\"S-parameters (dB)\")\n",
    "plt.legend()\n",
    "plt.show()\n"
   ]
  },
  {
   "cell_type": "markdown",
   "id": "75414fcf",
   "metadata": {},
   "source": [
    "Lastly, we plot the field intensity distribution at the resonant frequency. A strong dipolar field pattern is observed in the horizontal copper pattern. This dipolar resonance is responsible for the total reflection of the electromagnetic wave at this frequency."
   ]
  },
  {
   "cell_type": "code",
   "execution_count": 11,
   "id": "9c9bb0ad",
   "metadata": {
    "execution": {
     "iopub.execute_input": "2023-03-28T01:01:18.390913Z",
     "iopub.status.busy": "2023-03-28T01:01:18.390763Z",
     "iopub.status.idle": "2023-03-28T01:01:19.289839Z",
     "shell.execute_reply": "2023-03-28T01:01:19.289310Z"
    }
   },
   "outputs": [
    {
     "data": {
      "text/html": [
       "<pre style=\"white-space:pre;overflow-x:auto;line-height:normal;font-family:Menlo,'DejaVu Sans Mono',consolas,'Courier New',monospace\"><span style=\"color: #7fbfbf; text-decoration-color: #7fbfbf\">[11:54:32] </span>WARNING: Evaluating permittivity of a <span style=\"color: #008000; text-decoration-color: #008000\">'Medium2D'</span> is unphysical.                                <a href=\"file://C:\\Users\\xinzhong\\Desktop\\tidy3d\\tidy3d\\log.py\" target=\"_blank\"><span style=\"color: #7f7f7f; text-decoration-color: #7f7f7f\">log.py</span></a><span style=\"color: #7f7f7f; text-decoration-color: #7f7f7f\">:</span><a href=\"file://C:\\Users\\xinzhong\\Desktop\\tidy3d\\tidy3d\\log.py#50\" target=\"_blank\"><span style=\"color: #7f7f7f; text-decoration-color: #7f7f7f\">50</span></a>\n",
       "</pre>\n"
      ],
      "text/plain": [
       "\u001b[2;36m[11:54:32]\u001b[0m\u001b[2;36m \u001b[0mWARNING: Evaluating permittivity of a \u001b[32m'Medium2D'\u001b[0m is unphysical.                                \u001b]8;id=303589;file://C:\\Users\\xinzhong\\Desktop\\tidy3d\\tidy3d\\log.py\u001b\\\u001b[2mlog.py\u001b[0m\u001b]8;;\u001b\\\u001b[2m:\u001b[0m\u001b]8;id=47986;file://C:\\Users\\xinzhong\\Desktop\\tidy3d\\tidy3d\\log.py#50\u001b\\\u001b[2m50\u001b[0m\u001b]8;;\u001b\\\n"
      ]
     },
     "metadata": {},
     "output_type": "display_data"
    },
    {
     "data": {
      "image/png": "[encoded data removed]",
      "text/plain": [
       "<Figure size 640x480 with 2 Axes>"
      ]
     },
     "metadata": {},
     "output_type": "display_data"
    }
   ],
   "source": [
    "sim_data.plot_field(field_monitor_name=\"field\", field_name=\"E\", val=\"abs^2\")\n",
    "plt.show()\n"
   ]
  },
  {
   "cell_type": "code",
   "execution_count": null,
   "id": "2d88f2e7",
   "metadata": {},
   "outputs": [],
   "source": []
  }
 ],
 "metadata": {
  "description": "This notebook demonstrates how to model a microwave frequency selective surface in Tidy3D FDTD.",
  "feature_image": "./img/frequency_selective_surface.png",
  "kernelspec": {
   "display_name": "Python 3 (ipykernel)",
   "language": "python",
   "name": "python3"
  },
  "keywords": "frequency selective surface, FSS, microwave, Tidy3D, FDTD",
  "language_info": {
   "codemirror_mode": {
    "name": "ipython",
    "version": 3
   },
   "file_extension": ".py",
   "mimetype": "text/x-python",
   "name": "python",
   "nbconvert_exporter": "python",
   "pygments_lexer": "ipython3",
   "version": "3.10.0"
  },
  "title": "How to model a microwave frequency selective surface in Tidy3D FDTD",
  "widgets": {
   "application/vnd.jupyter.widget-state+json": {
    "state": {
     "10242ad5d31949088150f06ebed14327": {
      "model_module": "@jupyter-widgets/output",
      "model_module_version": "1.0.0",
      "model_name": "OutputModel",
      "state": {
       "_dom_classes": [],
       "_model_module": "@jupyter-widgets/output",
       "_model_module_version": "1.0.0",
       "_model_name": "OutputModel",
       "_view_count": null,
       "_view_module": "@jupyter-widgets/output",
       "_view_module_version": "1.0.0",
       "_view_name": "OutputView",
       "layout": "IPY_MODEL_7d884028502a418b904ca654fdbb9b0a",
       "msg_id": "",
       "outputs": [
        {
         "data": {
          "text/html": "<pre style=\"white-space:pre;overflow-x:auto;line-height:normal;font-family:Menlo,'DejaVu Sans Mono',consolas,'Courier New',monospace\"><span style=\"color: #008000; text-decoration-color: #008000\">🚶 </span> <span style=\"color: #008000; text-decoration-color: #008000; font-weight: bold\">Finishing 'frequency_selective_surface'...</span>\n</pre>\n",
          "text/plain": "\u001b[32m🚶 \u001b[0m \u001b[1;32mFinishing 'frequency_selective_surface'...\u001b[0m\n"
         },
         "metadata": {},
         "output_type": "display_data"
        }
       ]
      }
     },
     "2b3674348ab842a585e43228919a83ad": {
      "model_module": "@jupyter-widgets/output",
      "model_module_version": "1.0.0",
      "model_name": "OutputModel",
      "state": {
       "_dom_classes": [],
       "_model_module": "@jupyter-widgets/output",
       "_model_module_version": "1.0.0",
       "_model_name": "OutputModel",
       "_view_count": null,
       "_view_module": "@jupyter-widgets/output",
       "_view_module_version": "1.0.0",
       "_view_name": "OutputView",
       "layout": "IPY_MODEL_fc1ed8f2fbbf4bdcb7afd15e9d720a06",
       "msg_id": "",
       "outputs": [
        {
         "data": {
          "text/html": "<pre style=\"white-space:pre;overflow-x:auto;line-height:normal;font-family:Menlo,'DejaVu Sans Mono',consolas,'Courier New',monospace\"><span style=\"color: #800000; text-decoration-color: #800000; font-weight: bold\">↑</span> <span style=\"color: #000080; text-decoration-color: #000080; font-weight: bold\">simulation.json</span> <span style=\"color: #729c1f; text-decoration-color: #729c1f\">━━━━━━━━━━━━━━━━━━━━━━━━━━━━━━━━━━━━━━━</span> <span style=\"color: #800080; text-decoration-color: #800080\">100.0%</span> • <span style=\"color: #008000; text-decoration-color: #008000\">24.2/24.2 kB</span> • <span style=\"color: #800000; text-decoration-color: #800000\">?</span> • <span style=\"color: #008080; text-decoration-color: #008080\">0:00:00</span>\n</pre>\n",
          "text/plain": "\u001b[1;31m↑\u001b[0m \u001b[1;34msimulation.json\u001b[0m \u001b[38;2;114;156;31m━━━━━━━━━━━━━━━━━━━━━━━━━━━━━━━━━━━━━━━\u001b[0m \u001b[35m100.0%\u001b[0m • \u001b[32m24.2/24.2 kB\u001b[0m • \u001b[31m?\u001b[0m • \u001b[36m0:00:00\u001b[0m\n"
         },
         "metadata": {},
         "output_type": "display_data"
        }
       ]
      }
     },
     "62ea7de0212f450c8d5be2c94df91bd4": {
      "model_module": "@jupyter-widgets/output",
      "model_module_version": "1.0.0",
      "model_name": "OutputModel",
      "state": {
       "_dom_classes": [],
       "_model_module": "@jupyter-widgets/output",
       "_model_module_version": "1.0.0",
       "_model_name": "OutputModel",
       "_view_count": null,
       "_view_module": "@jupyter-widgets/output",
       "_view_module_version": "1.0.0",
       "_view_name": "OutputView",
       "layout": "IPY_MODEL_6b0389bfb9814a73ae2e978901701b43",
       "msg_id": "",
       "outputs": [
        {
         "data": {
          "text/html": "<pre style=\"white-space:pre;overflow-x:auto;line-height:normal;font-family:Menlo,'DejaVu Sans Mono',consolas,'Courier New',monospace\"><span style=\"color: #008000; text-decoration-color: #008000\">🏃 </span> <span style=\"color: #008000; text-decoration-color: #008000; font-weight: bold\">Starting 'frequency_selective_surface'...</span>\n</pre>\n",
          "text/plain": "\u001b[32m🏃 \u001b[0m \u001b[1;32mStarting 'frequency_selective_surface'...\u001b[0m\n"
         },
         "metadata": {},
         "output_type": "display_data"
        }
       ]
      }
     },
     "6b0389bfb9814a73ae2e978901701b43": {
      "model_module": "@jupyter-widgets/base",
      "model_module_version": "1.2.0",
      "model_name": "LayoutModel",
      "state": {
       "_model_module": "@jupyter-widgets/base",
       "_model_module_version": "1.2.0",
       "_model_name": "LayoutModel",
       "_view_count": null,
       "_view_module": "@jupyter-widgets/base",
       "_view_module_version": "1.2.0",
       "_view_name": "LayoutView",
       "align_content": null,
       "align_items": null,
       "align_self": null,
       "border": null,
       "bottom": null,
       "display": null,
       "flex": null,
       "flex_flow": null,
       "grid_area": null,
       "grid_auto_columns": null,
       "grid_auto_flow": null,
       "grid_auto_rows": null,
       "grid_column": null,
       "grid_gap": null,
       "grid_row": null,
       "grid_template_areas": null,
       "grid_template_columns": null,
       "grid_template_rows": null,
       "height": null,
       "justify_content": null,
       "justify_items": null,
       "left": null,
       "margin": null,
       "max_height": null,
       "max_width": null,
       "min_height": null,
       "min_width": null,
       "object_fit": null,
       "object_position": null,
       "order": null,
       "overflow": null,
       "overflow_x": null,
       "overflow_y": null,
       "padding": null,
       "right": null,
       "top": null,
       "visibility": null,
       "width": null
      }
     },
     "758737d1fa4140cbab5e5d86e0401177": {
      "model_module": "@jupyter-widgets/base",
      "model_module_version": "1.2.0",
      "model_name": "LayoutModel",
      "state": {
       "_model_module": "@jupyter-widgets/base",
       "_model_module_version": "1.2.0",
       "_model_name": "LayoutModel",
       "_view_count": null,
       "_view_module": "@jupyter-widgets/base",
       "_view_module_version": "1.2.0",
       "_view_name": "LayoutView",
       "align_content": null,
       "align_items": null,
       "align_self": null,
       "border": null,
       "bottom": null,
       "display": null,
       "flex": null,
       "flex_flow": null,
       "grid_area": null,
       "grid_auto_columns": null,
       "grid_auto_flow": null,
       "grid_auto_rows": null,
       "grid_column": null,
       "grid_gap": null,
       "grid_row": null,
       "grid_template_areas": null,
       "grid_template_columns": null,
       "grid_template_rows": null,
       "height": null,
       "justify_content": null,
       "justify_items": null,
       "left": null,
       "margin": null,
       "max_height": null,
       "max_width": null,
       "min_height": null,
       "min_width": null,
       "object_fit": null,
       "object_position": null,
       "order": null,
       "overflow": null,
       "overflow_x": null,
       "overflow_y": null,
       "padding": null,
       "right": null,
       "top": null,
       "visibility": null,
       "width": null
      }
     },
     "7d884028502a418b904ca654fdbb9b0a": {
      "model_module": "@jupyter-widgets/base",
      "model_module_version": "1.2.0",
      "model_name": "LayoutModel",
      "state": {
       "_model_module": "@jupyter-widgets/base",
       "_model_module_version": "1.2.0",
       "_model_name": "LayoutModel",
       "_view_count": null,
       "_view_module": "@jupyter-widgets/base",
       "_view_module_version": "1.2.0",
       "_view_name": "LayoutView",
       "align_content": null,
       "align_items": null,
       "align_self": null,
       "border": null,
       "bottom": null,
       "display": null,
       "flex": null,
       "flex_flow": null,
       "grid_area": null,
       "grid_auto_columns": null,
       "grid_auto_flow": null,
       "grid_auto_rows": null,
       "grid_column": null,
       "grid_gap": null,
       "grid_row": null,
       "grid_template_areas": null,
       "grid_template_columns": null,
       "grid_template_rows": null,
       "height": null,
       "justify_content": null,
       "justify_items": null,
       "left": null,
       "margin": null,
       "max_height": null,
       "max_width": null,
       "min_height": null,
       "min_width": null,
       "object_fit": null,
       "object_position": null,
       "order": null,
       "overflow": null,
       "overflow_x": null,
       "overflow_y": null,
       "padding": null,
       "right": null,
       "top": null,
       "visibility": null,
       "width": null
      }
     },
     "91813261669d4ef692de248f44fb5fc8": {
      "model_module": "@jupyter-widgets/output",
      "model_module_version": "1.0.0",
      "model_name": "OutputModel",
      "state": {
       "_dom_classes": [],
       "_model_module": "@jupyter-widgets/output",
       "_model_module_version": "1.0.0",
       "_model_name": "OutputModel",
       "_view_count": null,
       "_view_module": "@jupyter-widgets/output",
       "_view_module_version": "1.0.0",
       "_view_name": "OutputView",
       "layout": "IPY_MODEL_d7989ebe29b9415b901ff4b8f138af6a",
       "msg_id": "",
       "outputs": [
        {
         "data": {
          "text/html": "<pre style=\"white-space:pre;overflow-x:auto;line-height:normal;font-family:Menlo,'DejaVu Sans Mono',consolas,'Courier New',monospace\">% done (field decay = 9.67e-01) <span style=\"color: #729c1f; text-decoration-color: #729c1f\">━━━━━━━━━━━━━━━━━━━━━━━━━━━━━━━━━━━━━━━━</span> <span style=\"color: #800080; text-decoration-color: #800080\">100%</span> <span style=\"color: #008080; text-decoration-color: #008080\">0:00:00</span>\n</pre>\n",
          "text/plain": "% done (field decay = 9.67e-01) \u001b[38;2;114;156;31m━━━━━━━━━━━━━━━━━━━━━━━━━━━━━━━━━━━━━━━━\u001b[0m \u001b[35m100%\u001b[0m \u001b[36m0:00:00\u001b[0m\n"
         },
         "metadata": {},
         "output_type": "display_data"
        }
       ]
      }
     },
     "a1e501f733ad4e35b0b5c56f7fd2122e": {
      "model_module": "@jupyter-widgets/output",
      "model_module_version": "1.0.0",
      "model_name": "OutputModel",
      "state": {
       "_dom_classes": [],
       "_model_module": "@jupyter-widgets/output",
       "_model_module_version": "1.0.0",
       "_model_name": "OutputModel",
       "_view_count": null,
       "_view_module": "@jupyter-widgets/output",
       "_view_module_version": "1.0.0",
       "_view_name": "OutputView",
       "layout": "IPY_MODEL_758737d1fa4140cbab5e5d86e0401177",
       "msg_id": "",
       "outputs": [
        {
         "data": {
          "text/html": "<pre style=\"white-space:pre;overflow-x:auto;line-height:normal;font-family:Menlo,'DejaVu Sans Mono',consolas,'Courier New',monospace\"><span style=\"color: #008000; text-decoration-color: #008000; font-weight: bold\">↓</span> <span style=\"color: #000080; text-decoration-color: #000080; font-weight: bold\">monitor_data.hdf5</span> <span style=\"color: #729c1f; text-decoration-color: #729c1f\">━━━━━━━━━━━━━━━━━━━━━━━━━━━━━━━</span> <span style=\"color: #800080; text-decoration-color: #800080\">100.0%</span> • <span style=\"color: #008000; text-decoration-color: #008000\">1.3/1.3 MB</span> • <span style=\"color: #800000; text-decoration-color: #800000\">17.8 MB/s</span> • <span style=\"color: #008080; text-decoration-color: #008080\">0:00:00</span>\n</pre>\n",
          "text/plain": "\u001b[1;32m↓\u001b[0m \u001b[1;34mmonitor_data.hdf5\u001b[0m \u001b[38;2;114;156;31m━━━━━━━━━━━━━━━━━━━━━━━━━━━━━━━\u001b[0m \u001b[35m100.0%\u001b[0m • \u001b[32m1.3/1.3 MB\u001b[0m • \u001b[31m17.8 MB/s\u001b[0m • \u001b[36m0:00:00\u001b[0m\n"
         },
         "metadata": {},
         "output_type": "display_data"
        }
       ]
      }
     },
     "d7989ebe29b9415b901ff4b8f138af6a": {
      "model_module": "@jupyter-widgets/base",
      "model_module_version": "1.2.0",
      "model_name": "LayoutModel",
      "state": {
       "_model_module": "@jupyter-widgets/base",
       "_model_module_version": "1.2.0",
       "_model_name": "LayoutModel",
       "_view_count": null,
       "_view_module": "@jupyter-widgets/base",
       "_view_module_version": "1.2.0",
       "_view_name": "LayoutView",
       "align_content": null,
       "align_items": null,
       "align_self": null,
       "border": null,
       "bottom": null,
       "display": null,
       "flex": null,
       "flex_flow": null,
       "grid_area": null,
       "grid_auto_columns": null,
       "grid_auto_flow": null,
       "grid_auto_rows": null,
       "grid_column": null,
       "grid_gap": null,
       "grid_row": null,
       "grid_template_areas": null,
       "grid_template_columns": null,
       "grid_template_rows": null,
       "height": null,
       "justify_content": null,
       "justify_items": null,
       "left": null,
       "margin": null,
       "max_height": null,
       "max_width": null,
       "min_height": null,
       "min_width": null,
       "object_fit": null,
       "object_position": null,
       "order": null,
       "overflow": null,
       "overflow_x": null,
       "overflow_y": null,
       "padding": null,
       "right": null,
       "top": null,
       "visibility": null,
       "width": null
      }
     },
     "fc1ed8f2fbbf4bdcb7afd15e9d720a06": {
      "model_module": "@jupyter-widgets/base",
      "model_module_version": "1.2.0",
      "model_name": "LayoutModel",
      "state": {
       "_model_module": "@jupyter-widgets/base",
       "_model_module_version": "1.2.0",
       "_model_name": "LayoutModel",
       "_view_count": null,
       "_view_module": "@jupyter-widgets/base",
       "_view_module_version": "1.2.0",
       "_view_name": "LayoutView",
       "align_content": null,
       "align_items": null,
       "align_self": null,
       "border": null,
       "bottom": null,
       "display": null,
       "flex": null,
       "flex_flow": null,
       "grid_area": null,
       "grid_auto_columns": null,
       "grid_auto_flow": null,
       "grid_auto_rows": null,
       "grid_column": null,
       "grid_gap": null,
       "grid_row": null,
       "grid_template_areas": null,
       "grid_template_columns": null,
       "grid_template_rows": null,
       "height": null,
       "justify_content": null,
       "justify_items": null,
       "left": null,
       "margin": null,
       "max_height": null,
       "max_width": null,
       "min_height": null,
       "min_width": null,
       "object_fit": null,
       "object_position": null,
       "order": null,
       "overflow": null,
       "overflow_x": null,
       "overflow_y": null,
       "padding": null,
       "right": null,
       "top": null,
       "visibility": null,
       "width": null
      }
     }
    },
    "version_major": 2,
    "version_minor": 0
   }
  }
 },
 "nbformat": 4,
 "nbformat_minor": 5
}
